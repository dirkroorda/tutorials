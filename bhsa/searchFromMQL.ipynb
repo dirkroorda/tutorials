{
 "cells": [
  {
   "cell_type": "markdown",
   "metadata": {},
   "source": [
    "<img align=\"right\" src=\"images/tf-small.png\" width=\"128\"/>\n",
    "<img align=\"right\" src=\"images/etcbc.png\"/>\n",
    "<img align=\"right\" src=\"images/dans-small.png\"/>\n",
    "\n",
    "You might want to consider the [start](search.ipynb) of this tutorial.\n",
    "\n",
    "Short introductions to other TF datasets:\n",
    "\n",
    "* [Dead Sea Scrolls](https://nbviewer.jupyter.org/github/annotation/tutorials/blob/master/lorentz2020/dss.ipynb),\n",
    "* [Old Babylonian Letters](https://nbviewer.jupyter.org/github/annotation/tutorials/blob/master/lorentz2020/oldbabylonian.ipynb),\n",
    "or the\n",
    "* [Q'uran](https://nbviewer.jupyter.org/github/annotation/tutorials/blob/master/lorentz2020/quran.ipynb)\n"
   ]
  },
  {
   "cell_type": "markdown",
   "metadata": {},
   "source": [
    "# Search from MQL\n",
    "\n",
    "Maybe you know MQL.\n",
    "It is the search template language implemented by Ulrik Sandborg-Petersen in Emdros, and used\n",
    "by [SHEBANQ](https://shebanq.ancient-data.org).\n",
    "\n",
    "TF search templates have been inspired by MQL, but they are different.\n",
    "\n",
    "This notebook shows examples of real-life\n",
    "[MQL](https://github.com/ETCBC/shebanq/wiki/Documents/MQL-Query-Guide.pdf)\n",
    "queries on\n",
    "[SHEBANQ](https://shebanq.ancient-data.org/hebrew/queries).\n",
    "and\n",
    "expresses them\n",
    "as Text-Fabric [search templates](https://annotation.github.io/text-fabric/about/searchusage.html).\n",
    "\n",
    "See also the\n",
    "[SHEBANQ tutorial by Bas Meeuse translated to TF](https://nbviewer.jupyter.org/github/ETCBC/bhsa/blob/master/primer/tfVersusMql.ipynb)."
   ]
  },
  {
   "cell_type": "code",
   "execution_count": 1,
   "metadata": {},
   "outputs": [],
   "source": [
    "%load_ext autoreload\n",
    "%autoreload 2"
   ]
  },
  {
   "cell_type": "code",
   "execution_count": 2,
   "metadata": {
    "ExecuteTime": {
     "end_time": "2018-05-11T10:04:07.889266Z",
     "start_time": "2018-05-11T10:04:07.826697Z"
    }
   },
   "outputs": [],
   "source": [
    "from tf.app import use\n",
    "from tf.core.helpers import project"
   ]
  },
  {
   "cell_type": "markdown",
   "metadata": {},
   "source": [
    "We want to use a fixed data version, not a changing one, for the purposes of this notebook."
   ]
  },
  {
   "cell_type": "code",
   "execution_count": 3,
   "metadata": {
    "ExecuteTime": {
     "end_time": "2018-05-11T10:04:21.570164Z",
     "start_time": "2018-05-11T10:04:20.016691Z"
    }
   },
   "outputs": [
    {
     "data": {
      "text/html": [
       "<b title=\"local github\">TF-app:</b> <span title=\"repo clone offline under ~/github\">~/github/annotation/app-bhsa/code</span>"
      ],
      "text/plain": [
       "<IPython.core.display.HTML object>"
      ]
     },
     "metadata": {},
     "output_type": "display_data"
    },
    {
     "data": {
      "text/html": [
       "<b title=\"local github\">data:</b> <span title=\"repo clone offline under ~/github\">~/github/etcbc/bhsa/tf/2017</span>"
      ],
      "text/plain": [
       "<IPython.core.display.HTML object>"
      ]
     },
     "metadata": {},
     "output_type": "display_data"
    },
    {
     "data": {
      "text/html": [
       "<b title=\"local github\">data:</b> <span title=\"repo clone offline under ~/github\">~/github/etcbc/phono/tf/2017</span>"
      ],
      "text/plain": [
       "<IPython.core.display.HTML object>"
      ]
     },
     "metadata": {},
     "output_type": "display_data"
    },
    {
     "data": {
      "text/html": [
       "<b title=\"local github\">data:</b> <span title=\"repo clone offline under ~/github\">~/github/etcbc/parallels/tf/2017</span>"
      ],
      "text/plain": [
       "<IPython.core.display.HTML object>"
      ]
     },
     "metadata": {},
     "output_type": "display_data"
    },
    {
     "data": {
      "text/html": [
       "<b>Text-Fabric:</b> <a target=\"_blank\" href=\"https://annotation.github.io/text-fabric/cheatsheet.html\" title=\"text-fabric-api\">Text-Fabric API 8.4.2</a>, <a target=\"_blank\" href=\"https://github.com/annotation/app-bhsa\" title=\"bhsa TF-app\">app-bhsa</a>, <a target=\"_blank\" href=\"https://annotation.github.io/text-fabric/about/searchusage.html\" title=\"Search Templates Introduction and Reference\">Search Reference</a><br><b>Data:</b> <a target=\"_blank\" href=\"https://etcbc.github.io/bhsa/0_home\" title=\"provenance of BHSA = Biblia Hebraica Stuttgartensia Amstelodamensis\">BHSA</a>, <a target=\"_blank\" href=\"https://annotation.github.io/text-fabric/writing/hebrew.html\" title=\"How TF features represent text\">Character table</a>, <a target=\"_blank\" href=\"https://etcbc.github.io/bhsa/features/0_home\" title=\"BHSA feature documentation\">Feature docs</a><br><b>Features:</b><br><details><summary><b>Parallel Passages</b></summary><b><i><a target=\"_blank\" href=\"https://nbviewer.jupyter.org/github/etcbc/parallels/blob/master/programs/parallels.ipynb\" title=\"~/github/etcbc/parallels/tf/2017/crossref.tf\">crossref</a></i></b><br></details><details><summary><b>BHSA = Biblia Hebraica Stuttgartensia Amstelodamensis</b></summary><a target=\"_blank\" href=\"https://etcbc.github.io/bhsa/features/book\" title=\"~/github/etcbc/bhsa/tf/2017/book.tf\">book</a><br><a target=\"_blank\" href=\"https://etcbc.github.io/bhsa/features/book@ll\" title=\"~/github/etcbc/bhsa/tf/2017/book@am.tf\">book@ll</a><br><a target=\"_blank\" href=\"https://etcbc.github.io/bhsa/features/chapter\" title=\"~/github/etcbc/bhsa/tf/2017/chapter.tf\">chapter</a><br><a target=\"_blank\" href=\"https://etcbc.github.io/bhsa/features/code\" title=\"~/github/etcbc/bhsa/tf/2017/code.tf\">code</a><br><a target=\"_blank\" href=\"https://etcbc.github.io/bhsa/features/det\" title=\"~/github/etcbc/bhsa/tf/2017/det.tf\">det</a><br><a target=\"_blank\" href=\"https://etcbc.github.io/bhsa/features/domain\" title=\"~/github/etcbc/bhsa/tf/2017/domain.tf\">domain</a><br><a target=\"_blank\" href=\"https://etcbc.github.io/bhsa/features/freq_lex\" title=\"~/github/etcbc/bhsa/tf/2017/freq_lex.tf\">freq_lex</a><br><a target=\"_blank\" href=\"https://etcbc.github.io/bhsa/features/function\" title=\"~/github/etcbc/bhsa/tf/2017/function.tf\">function</a><br><a target=\"_blank\" href=\"https://etcbc.github.io/bhsa/features/g_cons\" title=\"~/github/etcbc/bhsa/tf/2017/g_cons.tf\">g_cons</a><br><a target=\"_blank\" href=\"https://etcbc.github.io/bhsa/features/g_cons_utf8\" title=\"~/github/etcbc/bhsa/tf/2017/g_cons_utf8.tf\">g_cons_utf8</a><br><a target=\"_blank\" href=\"https://etcbc.github.io/bhsa/features/g_lex\" title=\"~/github/etcbc/bhsa/tf/2017/g_lex.tf\">g_lex</a><br><a target=\"_blank\" href=\"https://etcbc.github.io/bhsa/features/g_lex_utf8\" title=\"~/github/etcbc/bhsa/tf/2017/g_lex_utf8.tf\">g_lex_utf8</a><br><a target=\"_blank\" href=\"https://etcbc.github.io/bhsa/features/g_word\" title=\"~/github/etcbc/bhsa/tf/2017/g_word.tf\">g_word</a><br><a target=\"_blank\" href=\"https://etcbc.github.io/bhsa/features/g_word_utf8\" title=\"~/github/etcbc/bhsa/tf/2017/g_word_utf8.tf\">g_word_utf8</a><br><a target=\"_blank\" href=\"https://etcbc.github.io/bhsa/features/gloss\" title=\"~/github/etcbc/bhsa/tf/2017/gloss.tf\">gloss</a><br><a target=\"_blank\" href=\"https://etcbc.github.io/bhsa/features/gn\" title=\"~/github/etcbc/bhsa/tf/2017/gn.tf\">gn</a><br><a target=\"_blank\" href=\"https://etcbc.github.io/bhsa/features/label\" title=\"~/github/etcbc/bhsa/tf/2017/label.tf\">label</a><br><a target=\"_blank\" href=\"https://etcbc.github.io/bhsa/features/language\" title=\"~/github/etcbc/bhsa/tf/2017/language.tf\">language</a><br><a target=\"_blank\" href=\"https://etcbc.github.io/bhsa/features/lex\" title=\"~/github/etcbc/bhsa/tf/2017/lex.tf\">lex</a><br><a target=\"_blank\" href=\"https://etcbc.github.io/bhsa/features/lex_utf8\" title=\"~/github/etcbc/bhsa/tf/2017/lex_utf8.tf\">lex_utf8</a><br><a target=\"_blank\" href=\"https://etcbc.github.io/bhsa/features/ls\" title=\"~/github/etcbc/bhsa/tf/2017/ls.tf\">ls</a><br><a target=\"_blank\" href=\"https://etcbc.github.io/bhsa/features/nametype\" title=\"~/github/etcbc/bhsa/tf/2017/nametype.tf\">nametype</a><br><a target=\"_blank\" href=\"https://etcbc.github.io/bhsa/features/nme\" title=\"~/github/etcbc/bhsa/tf/2017/nme.tf\">nme</a><br><a target=\"_blank\" href=\"https://etcbc.github.io/bhsa/features/nu\" title=\"~/github/etcbc/bhsa/tf/2017/nu.tf\">nu</a><br><a target=\"_blank\" href=\"https://etcbc.github.io/bhsa/features/number\" title=\"~/github/etcbc/bhsa/tf/2017/number.tf\">number</a><br><a target=\"_blank\" href=\"https://etcbc.github.io/bhsa/features/otype\" title=\"~/github/etcbc/bhsa/tf/2017/otype.tf\">otype</a><br><a target=\"_blank\" href=\"https://etcbc.github.io/bhsa/features/pargr\" title=\"~/github/etcbc/bhsa/tf/2017/pargr.tf\">pargr</a><br><a target=\"_blank\" href=\"https://etcbc.github.io/bhsa/features/pdp\" title=\"~/github/etcbc/bhsa/tf/2017/pdp.tf\">pdp</a><br><a target=\"_blank\" href=\"https://etcbc.github.io/bhsa/features/pfm\" title=\"~/github/etcbc/bhsa/tf/2017/pfm.tf\">pfm</a><br><a target=\"_blank\" href=\"https://etcbc.github.io/bhsa/features/prs\" title=\"~/github/etcbc/bhsa/tf/2017/prs.tf\">prs</a><br><a target=\"_blank\" href=\"https://etcbc.github.io/bhsa/features/prs_gn\" title=\"~/github/etcbc/bhsa/tf/2017/prs_gn.tf\">prs_gn</a><br><a target=\"_blank\" href=\"https://etcbc.github.io/bhsa/features/prs_nu\" title=\"~/github/etcbc/bhsa/tf/2017/prs_nu.tf\">prs_nu</a><br><a target=\"_blank\" href=\"https://etcbc.github.io/bhsa/features/prs_ps\" title=\"~/github/etcbc/bhsa/tf/2017/prs_ps.tf\">prs_ps</a><br><a target=\"_blank\" href=\"https://etcbc.github.io/bhsa/features/ps\" title=\"~/github/etcbc/bhsa/tf/2017/ps.tf\">ps</a><br><a target=\"_blank\" href=\"https://etcbc.github.io/bhsa/features/qere\" title=\"~/github/etcbc/bhsa/tf/2017/qere.tf\">qere</a><br><a target=\"_blank\" href=\"https://etcbc.github.io/bhsa/features/qere_trailer\" title=\"~/github/etcbc/bhsa/tf/2017/qere_trailer.tf\">qere_trailer</a><br><a target=\"_blank\" href=\"https://etcbc.github.io/bhsa/features/qere_trailer_utf8\" title=\"~/github/etcbc/bhsa/tf/2017/qere_trailer_utf8.tf\">qere_trailer_utf8</a><br><a target=\"_blank\" href=\"https://etcbc.github.io/bhsa/features/qere_utf8\" title=\"~/github/etcbc/bhsa/tf/2017/qere_utf8.tf\">qere_utf8</a><br><a target=\"_blank\" href=\"https://etcbc.github.io/bhsa/features/rank_lex\" title=\"~/github/etcbc/bhsa/tf/2017/rank_lex.tf\">rank_lex</a><br><a target=\"_blank\" href=\"https://etcbc.github.io/bhsa/features/rela\" title=\"~/github/etcbc/bhsa/tf/2017/rela.tf\">rela</a><br><a target=\"_blank\" href=\"https://etcbc.github.io/bhsa/features/sp\" title=\"~/github/etcbc/bhsa/tf/2017/sp.tf\">sp</a><br><a target=\"_blank\" href=\"https://etcbc.github.io/bhsa/features/st\" title=\"~/github/etcbc/bhsa/tf/2017/st.tf\">st</a><br><a target=\"_blank\" href=\"https://etcbc.github.io/bhsa/features/tab\" title=\"~/github/etcbc/bhsa/tf/2017/tab.tf\">tab</a><br><a target=\"_blank\" href=\"https://etcbc.github.io/bhsa/features/trailer\" title=\"~/github/etcbc/bhsa/tf/2017/trailer.tf\">trailer</a><br><a target=\"_blank\" href=\"https://etcbc.github.io/bhsa/features/trailer_utf8\" title=\"~/github/etcbc/bhsa/tf/2017/trailer_utf8.tf\">trailer_utf8</a><br><a target=\"_blank\" href=\"https://etcbc.github.io/bhsa/features/txt\" title=\"~/github/etcbc/bhsa/tf/2017/txt.tf\">txt</a><br><a target=\"_blank\" href=\"https://etcbc.github.io/bhsa/features/typ\" title=\"~/github/etcbc/bhsa/tf/2017/typ.tf\">typ</a><br><a target=\"_blank\" href=\"https://etcbc.github.io/bhsa/features/uvf\" title=\"~/github/etcbc/bhsa/tf/2017/uvf.tf\">uvf</a><br><a target=\"_blank\" href=\"https://etcbc.github.io/bhsa/features/vbe\" title=\"~/github/etcbc/bhsa/tf/2017/vbe.tf\">vbe</a><br><a target=\"_blank\" href=\"https://etcbc.github.io/bhsa/features/vbs\" title=\"~/github/etcbc/bhsa/tf/2017/vbs.tf\">vbs</a><br><a target=\"_blank\" href=\"https://etcbc.github.io/bhsa/features/verse\" title=\"~/github/etcbc/bhsa/tf/2017/verse.tf\">verse</a><br><a target=\"_blank\" href=\"https://etcbc.github.io/bhsa/features/voc_lex\" title=\"~/github/etcbc/bhsa/tf/2017/voc_lex.tf\">voc_lex</a><br><a target=\"_blank\" href=\"https://etcbc.github.io/bhsa/features/voc_lex_utf8\" title=\"~/github/etcbc/bhsa/tf/2017/voc_lex_utf8.tf\">voc_lex_utf8</a><br><a target=\"_blank\" href=\"https://etcbc.github.io/bhsa/features/vs\" title=\"~/github/etcbc/bhsa/tf/2017/vs.tf\">vs</a><br><a target=\"_blank\" href=\"https://etcbc.github.io/bhsa/features/vt\" title=\"~/github/etcbc/bhsa/tf/2017/vt.tf\">vt</a><br><b><i><a target=\"_blank\" href=\"https://etcbc.github.io/bhsa/features/mother\" title=\"~/github/etcbc/bhsa/tf/2017/mother.tf\">mother</a></i></b><br><b><i><a target=\"_blank\" href=\"https://etcbc.github.io/bhsa/features/omap@ll\" title=\"~/github/etcbc/bhsa/tf/2017/omap@2016-2017.tf\">omap@ll</a></i></b><br><b><i><a target=\"_blank\" href=\"https://etcbc.github.io/bhsa/features/oslots\" title=\"~/github/etcbc/bhsa/tf/2017/oslots.tf\">oslots</a></i></b><br></details><details><summary><b>Phonetic Transcriptions</b></summary><a target=\"_blank\" href=\"https://nbviewer.jupyter.org/github/etcbc/phono/blob/master/programs/phono.ipynb\" title=\"~/github/etcbc/phono/tf/2017/phono.tf\">phono</a><br><a target=\"_blank\" href=\"https://nbviewer.jupyter.org/github/etcbc/phono/blob/master/programs/phono.ipynb\" title=\"~/github/etcbc/phono/tf/2017/phono_trailer.tf\">phono_trailer</a><br></details>"
      ],
      "text/plain": [
       "<IPython.core.display.HTML object>"
      ]
     },
     "metadata": {},
     "output_type": "display_data"
    },
    {
     "data": {
      "text/html": [
       "<style>tr.tf.ltr, td.tf.ltr, th.tf.ltr { text-align: left ! important;}\n",
       "tr.tf.rtl, td.tf.rtl, th.tf.rtl { text-align: right ! important;}\n",
       "@font-face {\n",
       "  font-family: \"Gentium Plus\";\n",
       "  src: local('Gentium Plus'), local('GentiumPlus'),\n",
       "    url('/server/static/fonts/GentiumPlus-R.woff') format('woff'),\n",
       "    url('https://github.com/annotation/text-fabric/blob/master/tf/server/static/fonts/GentiumPlus-R.woff?raw=true') format('woff');\n",
       "}\n",
       "\n",
       "@font-face {\n",
       "  font-family: \"Ezra SIL\";\n",
       "  src: local('Ezra SIL'), local('EzraSIL'),\n",
       "    url('/server/static/fonts/SILEOT.woff') format('woff'),\n",
       "    url('https://github.com/annotation/text-fabric/blob/master/tf/server/static/fonts/SILEOT.woff?raw=true') format('woff');\n",
       "}\n",
       "\n",
       "@font-face {\n",
       "  font-family: \"SBL Hebrew\";\n",
       "  src: local('SBL Hebrew'), local('SBLHebrew'),\n",
       "    url('/server/static/fonts/SBL_Hbrw.woff') format('woff'),\n",
       "    url('https://github.com/annotation/text-fabric/blob/master/tf/server/static/fonts/SBL_Hbrw.woff?raw=true') format('woff');\n",
       "}\n",
       "\n",
       "@font-face {\n",
       "  font-family: \"Estrangelo Edessa\";\n",
       "  src: local('Estrangelo Edessa'), local('EstrangeloEdessa');\n",
       "    url('/server/static/fonts/SyrCOMEdessa.woff') format('woff'),\n",
       "    url('https://github.com/annotation/text-fabric/blob/master/tf/server/static/fonts/SyrCOMEdessa.woff?raw=true') format('woff');\n",
       "}\n",
       "\n",
       "@font-face {\n",
       "  font-family: AmiriQuran;\n",
       "  font-style: normal;\n",
       "  font-weight: 400;\n",
       "  src: local('Amiri Quran'), local('AmiriQuran'),\n",
       "    url('/server/static/fonts/AmiriQuran.woff') format('woff'),\n",
       "    url('https://github.com/annotation/text-fabric/blob/master/tf/server/static/fonts/AmiriQuran.woff?raw=true') format('woff');\n",
       "}\n",
       "\n",
       "@font-face {\n",
       "  font-family: AmiriQuranColored;\n",
       "  font-style: normal;\n",
       "  font-weight: 400;\n",
       "  src: local('Amiri Quran Colored'), local('AmiriQuranColored'),\n",
       "    url('/server/static/fonts/AmiriQuranColored.woff') format('woff'),\n",
       "    url('https://github.com/annotation/text-fabric/blob/master/tf/server/static/fonts/AmiriQuranColored.woff?raw=true') format('woff');\n",
       "}\n",
       "\n",
       "@font-face {\n",
       "  font-family: \"Santakku\";\n",
       "  src: local('Santakku'),\n",
       "    url('/server/static/fonts/Santakku.woff') format('woff'),\n",
       "    url('https://github.com/annotation/text-fabric/blob/master/tf/server/static/fonts/Santakku.woff?raw=true') format('woff');\n",
       "}\n",
       "\n",
       "@font-face {\n",
       "  font-family: \"SantakkuM\";\n",
       "  src: local('SantakkuM'),\n",
       "    url('/server/static/fonts/SantakkuM.woff') format('woff'),\n",
       "    url('https://github.com/annotation/text-fabric/blob/master/tf/server/static/fonts/SantakkuM.woff?raw=true') format('woff');\n",
       "}\n",
       "/* bypassing some classical notebook settings */\n",
       "div#notebook {\n",
       "  line-height: unset;\n",
       "}\n",
       "/* neutral text */\n",
       ".txtn,.txtn a:visited,.txtn a:link {\n",
       "    font-family: sans-serif;\n",
       "    font-size: medium;\n",
       "    direction: ltr;\n",
       "    text-decoration: none;\n",
       "    color: var(--text-color);\n",
       "}\n",
       "/* transcription text */\n",
       ".txtt,.txtt a:visited,.txtt a:link {\n",
       "    font-family: monospace;\n",
       "    font-size: medium;\n",
       "    direction: ltr;\n",
       "    text-decoration: none;\n",
       "    color: var(--text-color);\n",
       "}\n",
       "/* source text */\n",
       ".txto,.txto a:visited,.txto a:link {\n",
       "    font-family: serif;\n",
       "    font-size: medium;\n",
       "    direction: ltr;\n",
       "    text-decoration: none;\n",
       "    color: var(--text-color);\n",
       "}\n",
       "/* phonetic text */\n",
       ".txtp,.txtp a:visited,.txtp a:link {\n",
       "    font-family: Gentium, sans-serif;\n",
       "    font-size: medium;\n",
       "    direction: ltr;\n",
       "    text-decoration: none;\n",
       "    color: var(--text-color);\n",
       "}\n",
       "/* original script text */\n",
       ".txtu,.txtu a:visited,.txtu a:link {\n",
       "    font-family: Gentium, sans-serif;\n",
       "    font-size: medium;\n",
       "    text-decoration: none;\n",
       "    color: var(--text-color);\n",
       "}\n",
       "/* hebrew */\n",
       ".txtu.hbo,.lex.hbo {\n",
       "    font-family: \"Ezra SIL\", \"SBL Hebrew\", sans-serif;\n",
       "    font-size: large;\n",
       "    direction: rtl ! important;\n",
       "    unicode-bidi: embed;\n",
       "}\n",
       "/* syriac */\n",
       ".txtu.syc,.lex.syc {\n",
       "    font-family: \"Estrangelo Edessa\", sans-serif;\n",
       "    font-size: medium;\n",
       "    direction: rtl ! important;\n",
       "    unicode-bidi: embed;\n",
       "}\n",
       "/* neo aramaic */\n",
       ".txtu.cld,.lex.cld {\n",
       "    font-family: \"CharisSIL-R\", sans-serif;\n",
       "    font-size: medium;\n",
       "    direction: ltr ! important;\n",
       "    unicode-bidi: embed;\n",
       "}\n",
       "/* standard arabic */\n",
       ".txtu.ara,.lex.ara {\n",
       "    font-family: \"AmiriQuran\", sans-serif;\n",
       "    font-size: large;\n",
       "    direction: rtl ! important;\n",
       "    unicode-bidi: embed;\n",
       "}\n",
       "/* cuneiform */\n",
       ".txtu.akk,.lex.akk {\n",
       "    font-family: Santakku, sans-serif;\n",
       "    font-size: large;\n",
       "    direction: ltr ! important;\n",
       "    unicode-bidi: embed;\n",
       "}\n",
       "/* greek */\n",
       ".txtu.grc,.lex.grc a:link {\n",
       "    font-family: Gentium, sans-serif;\n",
       "    font-size: medium;\n",
       "    direction: ltr ! important;\n",
       "    unicode-bidi: embed;\n",
       "}\n",
       "a:hover {\n",
       "    text-decoration: underline | important;\n",
       "    color: #0000ff | important;\n",
       "}\n",
       ".ltr {\n",
       "    direction: ltr ! important;\n",
       "}\n",
       ".rtl {\n",
       "    direction: rtl ! important;\n",
       "}\n",
       ".ubd {\n",
       "    unicode-bidi: embed;\n",
       "}\n",
       ".col {\n",
       "   display: inline-block;\n",
       "}\n",
       ".features {\n",
       "    font-family: monospace;\n",
       "    font-size: medium;\n",
       "    font-weight: bold;\n",
       "    color: var(--features);\n",
       "    display: flex;\n",
       "    flex-flow: column nowrap;\n",
       "    justify-content: flex-start;\n",
       "    align-items: flex-start;\n",
       "    align-content: flex-start;\n",
       "    padding: 2px;\n",
       "    margin: 2px;\n",
       "    direction: ltr;\n",
       "    border: var(--meta-width) solid var(--meta-color);\n",
       "    border-radius: var(--meta-width);\n",
       "}\n",
       ".features div,.features span {\n",
       "    padding: 0;\n",
       "    margin: -2px 0;\n",
       "}\n",
       ".features .f {\n",
       "    font-family: sans-serif;\n",
       "    font-size: small;\n",
       "    font-weight: normal;\n",
       "    color: #5555bb;\n",
       "}\n",
       ".features .xft {\n",
       "  color: #000000;\n",
       "  background-color: #eeeeee;\n",
       "  font-size: medium;\n",
       "  margin: 2px 0px;\n",
       "}\n",
       ".features .xft .f {\n",
       "  color: #000000;\n",
       "  background-color: #eeeeee;\n",
       "  font-size: small;\n",
       "  font-weight: normal;\n",
       "}\n",
       ".section {\n",
       "    font-family: sans-serif;\n",
       "    font-size: small;\n",
       "    font-weight: bold;\n",
       "    color: var(--section);\n",
       "    unicode-bidi: embed;\n",
       "    text-align: start;\n",
       "}\n",
       ".structure {\n",
       "    font-family: sans-serif;\n",
       "    font-size: small;\n",
       "    font-weight: bold;\n",
       "    color: var(--structure);\n",
       "    unicode-bidi: embed;\n",
       "    text-align: start;\n",
       "}\n",
       ".comments {\n",
       "    display: flex;\n",
       "    justify-content: flex-start;\n",
       "    align-items: flex-start;\n",
       "    align-content: flex-start;\n",
       "    flex-flow: column nowrap;\n",
       "}\n",
       ".nd, a:link.nd {\n",
       "    font-family: sans-serif;\n",
       "    font-size: small;\n",
       "    color: var(--node);\n",
       "    vertical-align: super;\n",
       "    direction: ltr ! important;\n",
       "    unicode-bidi: embed;\n",
       "}\n",
       ".lex {\n",
       "  color: var(--lex-color);;\n",
       "}\n",
       ".children,.children.ltr {\n",
       "    display: flex;\n",
       "    border: 0;\n",
       "    background-color: #ffffff;\n",
       "    justify-content: flex-start;\n",
       "    align-items: flex-start;\n",
       "    align-content: flex-start;\n",
       "}\n",
       ".children.stretch {\n",
       "    align-items: stretch;\n",
       "}\n",
       ".children.hor {\n",
       "    flex-flow: row nowrap;\n",
       "}\n",
       ".children.hor.wrap {\n",
       "    flex-flow: row wrap;\n",
       "}\n",
       ".children.ver {\n",
       "    flex-flow: column nowrap;\n",
       "}\n",
       ".children.ver.wrap {\n",
       "    flex-flow: column wrap;\n",
       "}\n",
       ".contnr {\n",
       "    width: fit-content;\n",
       "    display: flex;\n",
       "    justify-content: flex-start;\n",
       "    align-items: flex-start;\n",
       "    align-content: flex-start;\n",
       "    flex-flow: column nowrap;\n",
       "    background: #ffffff none repeat scroll 0 0;\n",
       "    padding:  10px 2px 2px 2px;\n",
       "    margin: 16px 2px 2px 2px;\n",
       "    border-style: solid;\n",
       "    font-size: small;\n",
       "}\n",
       ".contnr.trm {\n",
       "    background-attachment: local;\n",
       "}\n",
       ".contnr.cnul {\n",
       "    padding:  0;\n",
       "    margin: 0;\n",
       "    border-style: solid;\n",
       "    font-size: xx-small;\n",
       "}\n",
       ".contnr.cnul,.lbl.cnul {\n",
       "    border-color: var(--border-color-nul);\n",
       "    border-width: var(--border-width-nul);\n",
       "    border-radius: var(--border-width-nul);\n",
       "}\n",
       ".contnr.c0,.lbl.c0 {\n",
       "    border-color: var(--border-color0);\n",
       "    border-width: var(--border-width0);\n",
       "    border-radius: var(--border-width0);\n",
       "}\n",
       ".contnr.c1,.lbl.c1 {\n",
       "    border-color: var(--border-color1);\n",
       "    border-width: var(--border-width1);\n",
       "    border-radius: var(--border-width1);\n",
       "}\n",
       ".contnr.c2,.lbl.c2 {\n",
       "    border-color: var(--border-color2);\n",
       "    border-width: var(--border-width2);\n",
       "    border-radius: var(--border-width2);\n",
       "}\n",
       ".contnr.c3,.lbl.c3 {\n",
       "    border-color: var(--border-color3);\n",
       "    border-width: var(--border-width3);\n",
       "    border-radius: var(--border-width3);\n",
       "}\n",
       ".contnr.c4,.lbl.c4 {\n",
       "    border-color: var(--border-color4);\n",
       "    border-width: var(--border-width4);\n",
       "    border-radius: var(--border-width4);\n",
       "}\n",
       "span.plain {\n",
       "    display: inline-block;\n",
       "    white-space: pre-wrap;\n",
       "}\n",
       ".plain {\n",
       "    background-color: #ffffff;\n",
       "}\n",
       ".plain.l,.contnr.l,.contnr.l>.lbl {\n",
       "    border-left-style: dotted\n",
       "}\n",
       ".plain.r,.contnr.r,.contnr.r>.lbl {\n",
       "    border-right-style: dotted\n",
       "}\n",
       ".plain.lno,.contnr.lno,.contnr.lno>.lbl {\n",
       "    border-left-style: none\n",
       "}\n",
       ".plain.rno,.contnr.rno,.contnr.rno>.lbl {\n",
       "    border-right-style: none\n",
       "}\n",
       ".plain.l {\n",
       "    padding-left: 4px;\n",
       "    margin-left: 2px;\n",
       "    border-width: var(--border-width-plain);\n",
       "}\n",
       ".plain.r {\n",
       "    padding-right: 4px;\n",
       "    margin-right: 2px;\n",
       "    border-width: var(--border-width-plain);\n",
       "}\n",
       ".lbl {\n",
       "    font-family: monospace;\n",
       "    margin-top: -24px;\n",
       "    margin-left: 20px;\n",
       "    background: #ffffff none repeat scroll 0 0;\n",
       "    padding: 0 6px;\n",
       "    border-style: solid;\n",
       "    display: block;\n",
       "    color: var(--label)\n",
       "}\n",
       ".lbl.trm {\n",
       "    background-attachment: local;\n",
       "    margin-top: 2px;\n",
       "    margin-left: 2px;\n",
       "    padding: 2px 2px;\n",
       "    border-style: none;\n",
       "}\n",
       ".lbl.cnul {\n",
       "    font-size: xx-small;\n",
       "}\n",
       ".lbl.c0 {\n",
       "    font-size: small;\n",
       "}\n",
       ".lbl.c1 {\n",
       "    font-size: small;\n",
       "}\n",
       ".lbl.c2 {\n",
       "    font-size: medium;\n",
       "}\n",
       ".lbl.c3 {\n",
       "    font-size: medium;\n",
       "}\n",
       ".lbl.c4 {\n",
       "    font-size: large;\n",
       "}\n",
       ".occs, a:link.occs {\n",
       "    font-size: small;\n",
       "}\n",
       "\n",
       "/* PROVENANCE */\n",
       "\n",
       "div.prov {\n",
       "\tmargin: 40px;\n",
       "\tpadding: 20px;\n",
       "\tborder: 2px solid var(--fog-rim);\n",
       "}\n",
       "div.pline {\n",
       "\tdisplay: flex;\n",
       "\tflex-flow: row nowrap;\n",
       "\tjustify-content: stretch;\n",
       "\talign-items: baseline;\n",
       "}\n",
       "div.p2line {\n",
       "\tmargin-left: 2em;\n",
       "\tdisplay: flex;\n",
       "\tflex-flow: row nowrap;\n",
       "\tjustify-content: stretch;\n",
       "\talign-items: baseline;\n",
       "}\n",
       "div.psline {\n",
       "\tdisplay: flex;\n",
       "\tflex-flow: row nowrap;\n",
       "\tjustify-content: stretch;\n",
       "\talign-items: baseline;\n",
       "\tbackground-color: var(--gold-mist-back);\n",
       "}\n",
       "div.pname {\n",
       "\tflex: 0 0 5rem;\n",
       "\tfont-weight: bold;\n",
       "}\n",
       "div.pval {\n",
       "    flex: 1 1 auto;\n",
       "}\n",
       "\n",
       ":root {\n",
       "\t--node:               hsla(120, 100%,  20%, 1.0  );\n",
       "\t--label:              hsla(  0, 100%,  20%, 1.0  );\n",
       "\t--section:            hsla(  0, 100%,  25%, 1.0  );\n",
       "\t--structure:          hsla(120, 100%,  25%, 1.0  );\n",
       "\t--features:           hsla(  0,   0%,  30%, 1.0  );\n",
       "  --text-color:         hsla( 60,  80%,  10%, 1.0  );\n",
       "  --lex-color:          hsla(220,  90%,  60%, 1.0  );\n",
       "  --meta-color:         hsla(  0,   0%,  90%, 0.7  );\n",
       "  --meta-width:         3px;\n",
       "  --border-color-nul:   hsla(  0,   0%,  90%, 0.5  );\n",
       "  --border-color0:      hsla(  0,   0%,  90%, 0.9  );\n",
       "  --border-color1:      hsla(  0,   0%,  80%, 0.9  );\n",
       "  --border-color2:      hsla(  0,   0%,  70%, 0.9  );\n",
       "  --border-color3:      hsla(  0,   0%,  80%, 0.8  );\n",
       "  --border-color4:      hsla(  0,   0%,  60%, 0.9  );\n",
       "  --border-width-nul:   2px;\n",
       "  --border-width0:      2px;\n",
       "  --border-width1:      3px;\n",
       "  --border-width2:      4px;\n",
       "  --border-width3:      6px;\n",
       "  --border-width4:      5px;\n",
       "  --border-width-plain: 2px;\n",
       "}\n",
       ".hl {\n",
       "  background-color: var(--hl-strong);\n",
       "}\n",
       "span.hl {\n",
       "\tbackground-color: var(--hl-strong);\n",
       "\tborder-width: 0;\n",
       "\tborder-radius: 2px;\n",
       "\tborder-style: solid;\n",
       "}\n",
       "div.contnr.hl,div.lbl.hl {\n",
       "  background-color: var(--hl-strong);\n",
       "}\n",
       "div.contnr.hl {\n",
       "  border-color: var(--hl-rim) ! important;\n",
       "\tborder-width: 4px ! important;\n",
       "}\n",
       "\n",
       "span.hlbx {\n",
       "\tborder-color: var(--hl-rim);\n",
       "\tborder-width: 4px ! important;\n",
       "\tborder-style: solid;\n",
       "\tborder-radius: 6px;\n",
       "  padding: 4px;\n",
       "  margin: 4px;\n",
       "}\n",
       "\n",
       "span.plain {\n",
       "  display: inline-block;\n",
       "  white-space: pre-wrap;\n",
       "}\n",
       "\n",
       ":root {\n",
       "\t--hl-strong:        hsla( 60, 100%,  70%, 0.9  );\n",
       "\t--hl-rim:           hsla( 55,  80%,  50%, 1.0  );\n",
       "}\n",
       "</style>"
      ],
      "text/plain": [
       "<IPython.core.display.HTML object>"
      ]
     },
     "metadata": {},
     "output_type": "display_data"
    },
    {
     "data": {
      "text/html": [
       "<div><b>Text-Fabric API:</b> names <a target=\"_blank\" href=\"https://annotation.github.io/text-fabric/cheatsheet.html\" title=\"doc\">N F E L T S C TF</a> directly usable</div><hr>"
      ],
      "text/plain": [
       "<IPython.core.display.HTML object>"
      ]
     },
     "metadata": {},
     "output_type": "display_data"
    }
   ],
   "source": [
    "VERSION = \"2017\"\n",
    "# A = use('bhsa', hoist=globals(), version=VERSION)\n",
    "A = use(\"bhsa:clone\", checkout=\"clone\", hoist=globals(), version=VERSION)"
   ]
  },
  {
   "cell_type": "markdown",
   "metadata": {},
   "source": [
    "# By Oliver Glanz\n",
    "\n",
    "## MQL\n",
    "\n",
    "[Oliver Glanz: PP with adjective followed by noun](https://shebanq.ancient-data.org/hebrew/query?version=4b&id=547)\n",
    "```\n",
    "select all objects where\n",
    "[phrase FOCUS typ = PP\n",
    "  [word sp= prep]\n",
    "  [word sp=adjv]\n",
    "  [word sp=subs]\n",
    "]\n",
    "```\n",
    "64 results having 251 words."
   ]
  },
  {
   "cell_type": "markdown",
   "metadata": {},
   "source": [
    "## TF"
   ]
  },
  {
   "cell_type": "code",
   "execution_count": 4,
   "metadata": {
    "ExecuteTime": {
     "end_time": "2018-05-07T08:04:18.767013Z",
     "start_time": "2018-05-07T08:04:15.856216Z"
    }
   },
   "outputs": [
    {
     "name": "stdout",
     "output_type": "stream",
     "text": [
      "  1.77s 64 results\n"
     ]
    }
   ],
   "source": [
    "query = \"\"\"\n",
    "phrase typ=PP\n",
    "  word sp=prep\n",
    "  <: word sp=adjv\n",
    "  <: word sp=subs\n",
    "\"\"\"\n",
    "results = A.search(query)"
   ]
  },
  {
   "cell_type": "markdown",
   "metadata": {},
   "source": [
    "## Comparison\n",
    "\n",
    "The number of results is right. The number of words that SHEBANQ reports\n",
    "is the number of words in the phrases of the result. Let us count them:"
   ]
  },
  {
   "cell_type": "code",
   "execution_count": 5,
   "metadata": {
    "ExecuteTime": {
     "end_time": "2018-05-07T08:04:18.777085Z",
     "start_time": "2018-05-07T08:04:18.770729Z"
    }
   },
   "outputs": [
    {
     "name": "stdout",
     "output_type": "stream",
     "text": [
      "251\n"
     ]
    }
   ],
   "source": [
    "print(sum([len(L.d(r[0], otype=\"word\")) for r in results]))"
   ]
  },
  {
   "cell_type": "markdown",
   "metadata": {},
   "source": [
    "# Inspired by Oliver Glanz\n",
    "\n",
    "## MQL\n",
    "\n",
    "[Dirk Roorda: Anapher](https://shebanq.ancient-data.org/hebrew/query?version=2017&id=3455)\n",
    "\n",
    "```\n",
    "select all objects where\n",
    "[phrase\n",
    "  [word AS samelex FOCUS FIRST]\n",
    "  [word FOCUS lex = samelex.lex]\n",
    "]\n",
    "```\n",
    "220 results having 458 words."
   ]
  },
  {
   "cell_type": "markdown",
   "metadata": {},
   "source": [
    "This means: 220 verses, with 458 result words, and since there are exactly 2 words in each result, we expect 229 results.\n",
    "\n",
    "## TF"
   ]
  },
  {
   "cell_type": "code",
   "execution_count": 6,
   "metadata": {
    "ExecuteTime": {
     "end_time": "2018-05-07T08:04:18.767013Z",
     "start_time": "2018-05-07T08:04:15.856216Z"
    }
   },
   "outputs": [],
   "source": [
    "queryTight = \"\"\"\n",
    "phrase\n",
    "  =: w1:word\n",
    "  <: w2:word\n",
    "\n",
    "w1 .lex. w2\n",
    "\"\"\""
   ]
  },
  {
   "cell_type": "code",
   "execution_count": 7,
   "metadata": {
    "ExecuteTime": {
     "end_time": "2018-05-07T08:04:18.767013Z",
     "start_time": "2018-05-07T08:04:15.856216Z"
    }
   },
   "outputs": [
    {
     "name": "stdout",
     "output_type": "stream",
     "text": [
      "  2.37s 206 results\n"
     ]
    }
   ],
   "source": [
    "resultsTight = A.search(queryTight)"
   ]
  },
  {
   "cell_type": "markdown",
   "metadata": {},
   "source": [
    "We miss 23 results. How can that be?\n",
    "\n",
    "Well, in MQL\n",
    "\n",
    "```\n",
    "[phrase]\n",
    "  [word]\n",
    "  [word]\n",
    "```\n",
    "\n",
    "means that the two words are adjacent in the phrase.\n",
    "If the phrase has gaps, words around a gap are still adjacent.\n",
    "\n",
    "In TF it is different, there such words are not adjacent.\n",
    "\n",
    "Let's lift the requirement of adjacency from the TF query:"
   ]
  },
  {
   "cell_type": "code",
   "execution_count": 8,
   "metadata": {
    "ExecuteTime": {
     "end_time": "2018-05-07T08:04:18.767013Z",
     "start_time": "2018-05-07T08:04:15.856216Z"
    }
   },
   "outputs": [],
   "source": [
    "queryLoose = \"\"\"\n",
    "phrase\n",
    "  =: w1:word\n",
    "  < w2:word\n",
    "\n",
    "w1 .lex. w2\n",
    "\"\"\""
   ]
  },
  {
   "cell_type": "code",
   "execution_count": 9,
   "metadata": {
    "ExecuteTime": {
     "end_time": "2018-05-07T08:04:18.767013Z",
     "start_time": "2018-05-07T08:04:15.856216Z"
    },
    "lines_to_next_cell": 2
   },
   "outputs": [
    {
     "name": "stdout",
     "output_type": "stream",
     "text": [
      "  2.41s 6735 results\n"
     ]
    }
   ],
   "source": [
    "resultsLoose = A.search(queryLoose)"
   ]
  },
  {
   "cell_type": "markdown",
   "metadata": {
    "lines_to_next_cell": 2
   },
   "source": [
    "Way to many results.\n",
    "\n",
    "Let's filter these results and only retain those where `w1` and `w2` are adjacent in the MQL sense."
   ]
  },
  {
   "cell_type": "code",
   "execution_count": 10,
   "metadata": {},
   "outputs": [],
   "source": [
    "def filterTight(results):\n",
    "    good = []\n",
    "    for (p, w1, w2) in results:\n",
    "        phraseWords = set(L.d(p, otype=\"word\"))\n",
    "        if all(w not in phraseWords for w in range(w1 + 1, w2)):\n",
    "            good.append((p, w1, w2))\n",
    "    return good"
   ]
  },
  {
   "cell_type": "code",
   "execution_count": 11,
   "metadata": {},
   "outputs": [
    {
     "data": {
      "text/plain": [
       "229"
      ]
     },
     "execution_count": 11,
     "metadata": {},
     "output_type": "execute_result"
    }
   ],
   "source": [
    "len(filterTight(resultsLoose))"
   ]
  },
  {
   "cell_type": "markdown",
   "metadata": {},
   "source": [
    "So it looks like we have the same set in our hands.\n",
    "\n",
    "There must be 23 cases of phrases with an intervening phrase after the first word,\n",
    "after which the phrase resumes with a word\n",
    "of the same lexeme. Let's identify those.\n",
    "\n",
    "From [searchGaps](searchGaps.ipynb) we pick the query that finds all gapped phrases, and we store it in a set."
   ]
  },
  {
   "cell_type": "code",
   "execution_count": 12,
   "metadata": {
    "ExecuteTime": {
     "end_time": "2018-05-24T10:09:32.685437Z",
     "start_time": "2018-05-24T10:09:32.680670Z"
    }
   },
   "outputs": [],
   "source": [
    "queryGap = \"\"\"\n",
    "p:phrase\n",
    "  wPreGap:word\n",
    "  wLast:word\n",
    "  :=\n",
    "\n",
    "wGap:word\n",
    "wPreGap <: wGap\n",
    "wGap < wLast\n",
    "\n",
    "p || wGap\n",
    "\"\"\""
   ]
  },
  {
   "cell_type": "code",
   "execution_count": 13,
   "metadata": {},
   "outputs": [
    {
     "name": "stdout",
     "output_type": "stream",
     "text": [
      "  2.59s 671 results\n"
     ]
    }
   ],
   "source": [
    "gaps = A.search(queryGap, shallow=True)"
   ]
  },
  {
   "cell_type": "markdown",
   "metadata": {},
   "source": [
    "Now we modify our loose query to run over gapped phrases only:"
   ]
  },
  {
   "cell_type": "code",
   "execution_count": 14,
   "metadata": {
    "ExecuteTime": {
     "end_time": "2018-05-07T08:04:18.767013Z",
     "start_time": "2018-05-07T08:04:15.856216Z"
    }
   },
   "outputs": [],
   "source": [
    "queryLooseGap = \"\"\"\n",
    "phrasegap\n",
    "  =: w1:word\n",
    "  < w2:word\n",
    "\n",
    "w1 .lex. w2\n",
    "\"\"\""
   ]
  },
  {
   "cell_type": "code",
   "execution_count": 15,
   "metadata": {
    "ExecuteTime": {
     "end_time": "2018-05-07T08:04:18.767013Z",
     "start_time": "2018-05-07T08:04:15.856216Z"
    }
   },
   "outputs": [
    {
     "name": "stdout",
     "output_type": "stream",
     "text": [
      "  0.20s 492 results\n"
     ]
    }
   ],
   "source": [
    "resultsLooseGap = A.search(queryLooseGap, sets=dict(phrasegap=gaps))"
   ]
  },
  {
   "cell_type": "markdown",
   "metadata": {},
   "source": [
    "And apply the filter again:"
   ]
  },
  {
   "cell_type": "code",
   "execution_count": 16,
   "metadata": {},
   "outputs": [
    {
     "data": {
      "text/plain": [
       "24"
      ]
     },
     "execution_count": 16,
     "metadata": {},
     "output_type": "execute_result"
    }
   ],
   "source": [
    "resultsGap = filterTight(resultsLooseGap)\n",
    "len(resultsGap)"
   ]
  },
  {
   "cell_type": "markdown",
   "metadata": {},
   "source": [
    "Now we have one more than expected. It could be that one of the gapped phrases has an adjacent pair that\n",
    "does not lie around a gap.\n",
    "\n",
    "Indeed, result 9 is such a case."
   ]
  },
  {
   "cell_type": "code",
   "execution_count": 17,
   "metadata": {},
   "outputs": [
    {
     "data": {
      "text/html": [
       "<p><b>result</b> <i>8</i></p>"
      ],
      "text/plain": [
       "<IPython.core.display.HTML object>"
      ]
     },
     "metadata": {},
     "output_type": "display_data"
    },
    {
     "data": {
      "text/html": [
       "<div class=\"section rtl\"><a target=\"_blank\" href=\"https://shebanq.ancient-data.org/hebrew/text?book=Leviticus&amp;chapter=25&amp;verse=6&amp;version=2017&amp;mr=m&amp;qw=q&amp;tp=txt_p&amp;tr=hb&amp;wget=v&amp;qget=v&amp;nget=vt\" title=\"Show this on SHEBANQ\" sec=\"Leviticus 25:6\">Leviticus 25:6</a></div><div class=\"rtl children\"><div class=\"contnr c2  rtl  \" ><div class=\"lbl c2  \" ><span class=\"nd\">clause</span></div><div class=\"children hor wrap rtl\"><div class=\"contnr c1  rtl  \" ><div class=\"lbl c1  \" ><span class=\"nd\">phrase</span></div><div class=\"children hor wrap rtl\"><div class=\"contnr c0 trm rtl  \" ><div class=\"lbl c0 trm \" ><a class=\" txtu hbo\" target=\"_blank\" href=\"https://shebanq.ancient-data.org/hebrew/word?version=2017&amp;id=1W\" title=\"Show this on SHEBANQ\"><span class=\"txtu hbo\">וְ֠</span></a></div><div class='features'><span class=\"lex xft\" ><span class=\"f\">lex=</span>W</span></div></div></div></div><div class=\"contnr c1  rtl  \" ><div class=\"lbl c1  \" ><span class=\"nd\">phrase</span></div><div class=\"children hor wrap rtl\"><div class=\"contnr c0 trm rtl  \" ><div class=\"lbl c0 trm \" ><a class=\" txtu hbo\" target=\"_blank\" href=\"https://shebanq.ancient-data.org/hebrew/word?version=2017&amp;id=1HJHv\" title=\"Show this on SHEBANQ\"><span class=\"txtu hbo\">הָיְתָה </span></a></div><div class='features'><span class=\"lex xft\" ><span class=\"f\">lex=</span>HJH[</span></div></div></div></div><div class=\"contnr c1  rtl  \" ><div class=\"lbl c1  \" ><span class=\"nd\">phrase</span></div><div class=\"children hor wrap rtl\"><div class=\"contnr c0 trm rtl  \" ><div class=\"lbl c0 trm \" ><a class=\" txtu hbo\" target=\"_blank\" href=\"https://shebanq.ancient-data.org/hebrew/word?version=2017&amp;id=1CBTn\" title=\"Show this on SHEBANQ\"><span class=\"txtu hbo\">שַׁבַּ֨ת </span></a></div><div class='features'><span class=\"lex xft\" ><span class=\"f\">lex=</span>CBT/</span></div></div><div class=\"contnr c0 trm rtl  \" ><div class=\"lbl c0 trm \" ><a class=\" txtu hbo\" target=\"_blank\" href=\"https://shebanq.ancient-data.org/hebrew/word?version=2017&amp;id=1H\" title=\"Show this on SHEBANQ\"><span class=\"txtu hbo\">הָ</span></a></div><div class='features'><span class=\"lex xft\" ><span class=\"f\">lex=</span>H</span></div></div><div class=\"contnr c0 trm rtl  \" ><div class=\"lbl c0 trm \" ><a class=\" txtu hbo\" target=\"_blank\" href=\"https://shebanq.ancient-data.org/hebrew/word?version=2017&amp;id=1ARYn\" title=\"Show this on SHEBANQ\"><span class=\"txtu hbo\">אָ֤רֶץ </span></a></div><div class='features'><span class=\"lex xft\" ><span class=\"f\">lex=</span>>RY/</span></div></div></div></div><div class=\"contnr c1  rtl l hl\" ><div class=\"lbl c1  hl\" ><span class=\"nd\">phrase</span></div><div class=\"children hor wrap rtl\"><div class=\"contnr c0 trm rtl  hl\" ><div class=\"lbl c0 trm hl\" ><a class=\" txtu hbo\" target=\"_blank\" href=\"https://shebanq.ancient-data.org/hebrew/word?version=2017&amp;id=1L\" title=\"Show this on SHEBANQ\"><span class=\"txtu hbo\">לָכֶם֙ </span></a></div><div class='features'><span class=\"lex xft\" ><span class=\"f\">lex=</span>L</span></div></div></div></div><div class=\"contnr c1  rtl  \" ><div class=\"lbl c1  \" ><span class=\"nd\">phrase</span></div><div class=\"children hor wrap rtl\"><div class=\"contnr c0 trm rtl  \" ><div class=\"lbl c0 trm \" ><a class=\" txtu hbo\" target=\"_blank\" href=\"https://shebanq.ancient-data.org/hebrew/word?version=2017&amp;id=1L\" title=\"Show this on SHEBANQ\"><span class=\"txtu hbo\">לְ</span></a></div><div class='features'><span class=\"lex xft\" ><span class=\"f\">lex=</span>L</span></div></div><div class=\"contnr c0 trm rtl  \" ><div class=\"lbl c0 trm \" ><a class=\" txtu hbo\" target=\"_blank\" href=\"https://shebanq.ancient-data.org/hebrew/word?version=2017&amp;id=1AKLHn\" title=\"Show this on SHEBANQ\"><span class=\"txtu hbo\">אָכְלָ֔ה </span></a></div><div class='features'><span class=\"lex xft\" ><span class=\"f\">lex=</span>>KLH/</span></div></div></div></div><div class=\"contnr c1  rtl r hl\" ><div class=\"lbl c1  hl\" ><span class=\"nd\">phrase</span></div><div class=\"children hor wrap rtl\"><div class=\"contnr c0 trm rtl  hl\" ><div class=\"lbl c0 trm hl\" ><a class=\" txtu hbo\" target=\"_blank\" href=\"https://shebanq.ancient-data.org/hebrew/word?version=2017&amp;id=1L\" title=\"Show this on SHEBANQ\"><span class=\"txtu hbo\">לְךָ֖ </span></a></div><div class='features'><span class=\"lex xft\" ><span class=\"f\">lex=</span>L</span></div></div><div class=\"contnr c0 trm rtl  \" ><div class=\"lbl c0 trm \" ><a class=\" txtu hbo\" target=\"_blank\" href=\"https://shebanq.ancient-data.org/hebrew/word?version=2017&amp;id=1W\" title=\"Show this on SHEBANQ\"><span class=\"txtu hbo\">וּ</span></a></div><div class='features'><span class=\"lex xft\" ><span class=\"f\">lex=</span>W</span></div></div><div class=\"contnr c0 trm rtl  \" ><div class=\"lbl c0 trm \" ><a class=\" txtu hbo\" target=\"_blank\" href=\"https://shebanq.ancient-data.org/hebrew/word?version=2017&amp;id=1L\" title=\"Show this on SHEBANQ\"><span class=\"txtu hbo\">לְ</span></a></div><div class='features'><span class=\"lex xft\" ><span class=\"f\">lex=</span>L</span></div></div><div class=\"contnr c0 trm rtl  \" ><div class=\"lbl c0 trm \" ><a class=\" txtu hbo\" target=\"_blank\" href=\"https://shebanq.ancient-data.org/hebrew/word?version=2017&amp;id=1OBDn\" title=\"Show this on SHEBANQ\"><span class=\"txtu hbo\">עַבְדְּךָ֣ </span></a></div><div class='features'><span class=\"lex xft\" ><span class=\"f\">lex=</span>&lt;BD/</span></div></div><div class=\"contnr c0 trm rtl  \" ><div class=\"lbl c0 trm \" ><a class=\" txtu hbo\" target=\"_blank\" href=\"https://shebanq.ancient-data.org/hebrew/word?version=2017&amp;id=1W\" title=\"Show this on SHEBANQ\"><span class=\"txtu hbo\">וְ</span></a></div><div class='features'><span class=\"lex xft\" ><span class=\"f\">lex=</span>W</span></div></div><div class=\"contnr c0 trm rtl  \" ><div class=\"lbl c0 trm \" ><a class=\" txtu hbo\" target=\"_blank\" href=\"https://shebanq.ancient-data.org/hebrew/word?version=2017&amp;id=1L\" title=\"Show this on SHEBANQ\"><span class=\"txtu hbo\">לַ</span></a></div><div class='features'><span class=\"lex xft\" ><span class=\"f\">lex=</span>L</span></div></div><div class=\"contnr c0 trm rtl  \" ><div class=\"lbl c0 trm \" ><a class=\" txtu hbo\" target=\"_blank\" href=\"https://shebanq.ancient-data.org/hebrew/word?version=2017&amp;id=1AMHn\" title=\"Show this on SHEBANQ\"><span class=\"txtu hbo\">אֲמָתֶ֑ךָ </span></a></div><div class='features'><span class=\"lex xft\" ><span class=\"f\">lex=</span>>MH/</span></div></div><div class=\"contnr c0 trm rtl  \" ><div class=\"lbl c0 trm \" ><a class=\" txtu hbo\" target=\"_blank\" href=\"https://shebanq.ancient-data.org/hebrew/word?version=2017&amp;id=1W\" title=\"Show this on SHEBANQ\"><span class=\"txtu hbo\">וְ</span></a></div><div class='features'><span class=\"lex xft\" ><span class=\"f\">lex=</span>W</span></div></div><div class=\"contnr c0 trm rtl  \" ><div class=\"lbl c0 trm \" ><a class=\" txtu hbo\" target=\"_blank\" href=\"https://shebanq.ancient-data.org/hebrew/word?version=2017&amp;id=1L\" title=\"Show this on SHEBANQ\"><span class=\"txtu hbo\">לִ</span></a></div><div class='features'><span class=\"lex xft\" ><span class=\"f\">lex=</span>L</span></div></div><div class=\"contnr c0 trm rtl  \" ><div class=\"lbl c0 trm \" ><a class=\" txtu hbo\" target=\"_blank\" href=\"https://shebanq.ancient-data.org/hebrew/word?version=2017&amp;id=1FKJRn\" title=\"Show this on SHEBANQ\"><span class=\"txtu hbo\">שְׂכִֽירְךָ֙ </span></a></div><div class='features'><span class=\"lex xft\" ><span class=\"f\">lex=</span>FKJR/</span></div></div><div class=\"contnr c0 trm rtl  \" ><div class=\"lbl c0 trm \" ><a class=\" txtu hbo\" target=\"_blank\" href=\"https://shebanq.ancient-data.org/hebrew/word?version=2017&amp;id=1W\" title=\"Show this on SHEBANQ\"><span class=\"txtu hbo\">וּ</span></a></div><div class='features'><span class=\"lex xft\" ><span class=\"f\">lex=</span>W</span></div></div><div class=\"contnr c0 trm rtl  \" ><div class=\"lbl c0 trm \" ><a class=\" txtu hbo\" target=\"_blank\" href=\"https://shebanq.ancient-data.org/hebrew/word?version=2017&amp;id=1L\" title=\"Show this on SHEBANQ\"><span class=\"txtu hbo\">לְ</span></a></div><div class='features'><span class=\"lex xft\" ><span class=\"f\">lex=</span>L</span></div></div><div class=\"contnr c0 trm rtl  \" ><div class=\"lbl c0 trm \" ><a class=\" txtu hbo\" target=\"_blank\" href=\"https://shebanq.ancient-data.org/hebrew/word?version=2017&amp;id=1TWCBn\" title=\"Show this on SHEBANQ\"><span class=\"txtu hbo\">תֹושָׁ֣בְךָ֔ </span></a></div><div class='features'><span class=\"lex xft\" ><span class=\"f\">lex=</span>TWCB/</span></div></div></div></div></div></div></div>"
      ],
      "text/plain": [
       "<IPython.core.display.HTML object>"
      ]
     },
     "metadata": {},
     "output_type": "display_data"
    },
    {
     "data": {
      "text/html": [
       "<p><b>result</b> <i>9</i></p>"
      ],
      "text/plain": [
       "<IPython.core.display.HTML object>"
      ]
     },
     "metadata": {},
     "output_type": "display_data"
    },
    {
     "data": {
      "text/html": [
       "<div class=\"section rtl\"><a target=\"_blank\" href=\"https://shebanq.ancient-data.org/hebrew/text?book=Numeri&amp;chapter=9&amp;verse=10&amp;version=2017&amp;mr=m&amp;qw=q&amp;tp=txt_p&amp;tr=hb&amp;wget=v&amp;qget=v&amp;nget=vt\" title=\"Show this on SHEBANQ\" sec=\"Numbers 9:10\">Numbers 9:10</a></div><div class=\"rtl children\"><div class=\"contnr c2  rtl l \" ><div class=\"lbl c2  \" ><span class=\"nd\">clause</span></div><div class=\"children hor wrap rtl\"><div class=\"contnr c1  rtl l hl\" ><div class=\"lbl c1  hl\" ><span class=\"nd\">phrase</span></div><div class=\"children hor wrap rtl\"><div class=\"contnr c0 trm rtl  hl\" ><div class=\"lbl c0 trm hl\" ><a class=\" txtu hbo\" target=\"_blank\" href=\"https://shebanq.ancient-data.org/hebrew/word?version=2017&amp;id=1AJCn\" title=\"Show this on SHEBANQ\"><span class=\"txtu hbo\">אִ֣ישׁ </span></a></div><div class='features'><span class=\"lex xft\" ><span class=\"f\">lex=</span>>JC/</span></div></div><div class=\"contnr c0 trm rtl  hl\" ><div class=\"lbl c0 trm hl\" ><a class=\" txtu hbo\" target=\"_blank\" href=\"https://shebanq.ancient-data.org/hebrew/word?version=2017&amp;id=1AJCn\" title=\"Show this on SHEBANQ\"><span class=\"txtu hbo\">אִ֣ישׁ </span></a></div><div class='features'><span class=\"lex xft\" ><span class=\"f\">lex=</span>>JC/</span></div></div></div></div></div></div><div class=\"contnr c2  rtl r \" ><div class=\"lbl c2  \" ><span class=\"nd\">clause</span></div><div class=\"children hor wrap rtl\"><div class=\"contnr c1  rtl r hl\" ><div class=\"lbl c1  hl\" ><span class=\"nd\">phrase</span></div><div class=\"children hor wrap rtl\"><div class=\"contnr c0 trm rtl  \" ><div class=\"lbl c0 trm \" ><a class=\" txtu hbo\" target=\"_blank\" href=\"https://shebanq.ancient-data.org/hebrew/word?version=2017&amp;id=1L\" title=\"Show this on SHEBANQ\"><span class=\"txtu hbo\">לָכֶ֗ם </span></a></div><div class='features'><span class=\"lex xft\" ><span class=\"f\">lex=</span>L</span></div></div><div class=\"contnr c0 trm rtl  \" ><div class=\"lbl c0 trm \" ><a class=\" txtu hbo\" target=\"_blank\" href=\"https://shebanq.ancient-data.org/hebrew/word?version=2017&amp;id=1AW\" title=\"Show this on SHEBANQ\"><span class=\"txtu hbo\">אֹ֚ו </span></a></div><div class='features'><span class=\"lex xft\" ><span class=\"f\">lex=</span>>W</span></div></div><div class=\"contnr c0 trm rtl  \" ><div class=\"lbl c0 trm \" ><a class=\" txtu hbo\" target=\"_blank\" href=\"https://shebanq.ancient-data.org/hebrew/word?version=2017&amp;id=1L\" title=\"Show this on SHEBANQ\"><span class=\"txtu hbo\">לְ</span></a></div><div class='features'><span class=\"lex xft\" ><span class=\"f\">lex=</span>L</span></div></div><div class=\"contnr c0 trm rtl  \" ><div class=\"lbl c0 trm \" ><a class=\" txtu hbo\" target=\"_blank\" href=\"https://shebanq.ancient-data.org/hebrew/word?version=2017&amp;id=1DWRn\" title=\"Show this on SHEBANQ\"><span class=\"txtu hbo\">דֹרֹ֣תֵיכֶ֔ם </span></a></div><div class='features'><span class=\"lex xft\" ><span class=\"f\">lex=</span>DWR/</span></div></div></div></div></div></div></div>"
      ],
      "text/plain": [
       "<IPython.core.display.HTML object>"
      ]
     },
     "metadata": {},
     "output_type": "display_data"
    },
    {
     "data": {
      "text/html": [
       "<p><b>result</b> <i>10</i></p>"
      ],
      "text/plain": [
       "<IPython.core.display.HTML object>"
      ]
     },
     "metadata": {},
     "output_type": "display_data"
    },
    {
     "data": {
      "text/html": [
       "<div class=\"section rtl\"><a target=\"_blank\" href=\"https://shebanq.ancient-data.org/hebrew/text?book=Numeri&amp;chapter=32&amp;verse=33&amp;version=2017&amp;mr=m&amp;qw=q&amp;tp=txt_p&amp;tr=hb&amp;wget=v&amp;qget=v&amp;nget=vt\" title=\"Show this on SHEBANQ\" sec=\"Numbers 32:33\">Numbers 32:33</a></div><div class=\"rtl children\"><div class=\"contnr c2  rtl  \" ><div class=\"lbl c2  \" ><span class=\"nd\">clause</span></div><div class=\"children hor wrap rtl\"><div class=\"contnr c1  rtl  \" ><div class=\"lbl c1  \" ><span class=\"nd\">phrase</span></div><div class=\"children hor wrap rtl\"><div class=\"contnr c0 trm rtl  \" ><div class=\"lbl c0 trm \" ><a class=\" txtu hbo\" target=\"_blank\" href=\"https://shebanq.ancient-data.org/hebrew/word?version=2017&amp;id=1W\" title=\"Show this on SHEBANQ\"><span class=\"txtu hbo\">וַ</span></a></div><div class='features'><span class=\"lex xft\" ><span class=\"f\">lex=</span>W</span></div></div></div></div><div class=\"contnr c1  rtl  \" ><div class=\"lbl c1  \" ><span class=\"nd\">phrase</span></div><div class=\"children hor wrap rtl\"><div class=\"contnr c0 trm rtl  \" ><div class=\"lbl c0 trm \" ><a class=\" txtu hbo\" target=\"_blank\" href=\"https://shebanq.ancient-data.org/hebrew/word?version=2017&amp;id=1NTNv\" title=\"Show this on SHEBANQ\"><span class=\"txtu hbo\">יִּתֵּ֣ן </span></a></div><div class='features'><span class=\"lex xft\" ><span class=\"f\">lex=</span>NTN[</span></div></div></div></div><div class=\"contnr c1  rtl l hl\" ><div class=\"lbl c1  hl\" ><span class=\"nd\">phrase</span></div><div class=\"children hor wrap rtl\"><div class=\"contnr c0 trm rtl  hl\" ><div class=\"lbl c0 trm hl\" ><a class=\" txtu hbo\" target=\"_blank\" href=\"https://shebanq.ancient-data.org/hebrew/word?version=2017&amp;id=1L\" title=\"Show this on SHEBANQ\"><span class=\"txtu hbo\">לָהֶ֣ם׀ </span></a></div><div class='features'><span class=\"lex xft\" ><span class=\"f\">lex=</span>L</span></div></div></div></div><div class=\"contnr c1  rtl  \" ><div class=\"lbl c1  \" ><span class=\"nd\">phrase</span></div><div class=\"children hor wrap rtl\"><div class=\"contnr c0 trm rtl  \" ><div class=\"lbl c0 trm \" ><a class=\" txtu hbo\" target=\"_blank\" href=\"https://shebanq.ancient-data.org/hebrew/word?version=2017&amp;id=1MCHin\" title=\"Show this on SHEBANQ\"><span class=\"txtu hbo\">מֹשֶׁ֡ה </span></a></div><div class='features'><span class=\"lex xft\" ><span class=\"f\">lex=</span>MCH=/</span></div></div></div></div><div class=\"contnr c1  rtl r hl\" ><div class=\"lbl c1  hl\" ><span class=\"nd\">phrase</span></div><div class=\"children hor wrap rtl\"><div class=\"contnr c0 trm rtl  hl\" ><div class=\"lbl c0 trm hl\" ><a class=\" txtu hbo\" target=\"_blank\" href=\"https://shebanq.ancient-data.org/hebrew/word?version=2017&amp;id=1L\" title=\"Show this on SHEBANQ\"><span class=\"txtu hbo\">לִ</span></a></div><div class='features'><span class=\"lex xft\" ><span class=\"f\">lex=</span>L</span></div></div><div class=\"contnr c0 trm rtl  \" ><div class=\"lbl c0 trm \" ><a class=\" txtu hbo\" target=\"_blank\" href=\"https://shebanq.ancient-data.org/hebrew/word?version=2017&amp;id=1BNn\" title=\"Show this on SHEBANQ\"><span class=\"txtu hbo\">בְנֵי־</span></a></div><div class='features'><span class=\"lex xft\" ><span class=\"f\">lex=</span>BN/</span></div></div><div class=\"contnr c0 trm rtl  \" ><div class=\"lbl c0 trm \" ><a class=\" txtu hbo\" target=\"_blank\" href=\"https://shebanq.ancient-data.org/hebrew/word?version=2017&amp;id=1GDiin\" title=\"Show this on SHEBANQ\"><span class=\"txtu hbo\">גָד֩ </span></a></div><div class='features'><span class=\"lex xft\" ><span class=\"f\">lex=</span>GD==/</span></div></div><div class=\"contnr c0 trm rtl  \" ><div class=\"lbl c0 trm \" ><a class=\" txtu hbo\" target=\"_blank\" href=\"https://shebanq.ancient-data.org/hebrew/word?version=2017&amp;id=1W\" title=\"Show this on SHEBANQ\"><span class=\"txtu hbo\">וְ</span></a></div><div class='features'><span class=\"lex xft\" ><span class=\"f\">lex=</span>W</span></div></div><div class=\"contnr c0 trm rtl  \" ><div class=\"lbl c0 trm \" ><a class=\" txtu hbo\" target=\"_blank\" href=\"https://shebanq.ancient-data.org/hebrew/word?version=2017&amp;id=1L\" title=\"Show this on SHEBANQ\"><span class=\"txtu hbo\">לִ</span></a></div><div class='features'><span class=\"lex xft\" ><span class=\"f\">lex=</span>L</span></div></div><div class=\"contnr c0 trm rtl  \" ><div class=\"lbl c0 trm \" ><a class=\" txtu hbo\" target=\"_blank\" href=\"https://shebanq.ancient-data.org/hebrew/word?version=2017&amp;id=1BNn\" title=\"Show this on SHEBANQ\"><span class=\"txtu hbo\">בְנֵ֨י </span></a></div><div class='features'><span class=\"lex xft\" ><span class=\"f\">lex=</span>BN/</span></div></div><div class=\"contnr c0 trm rtl  \" ><div class=\"lbl c0 trm \" ><a class=\" txtu hbo\" target=\"_blank\" href=\"https://shebanq.ancient-data.org/hebrew/word?version=2017&amp;id=1RAWBNn\" title=\"Show this on SHEBANQ\"><span class=\"txtu hbo\">רְאוּבֵ֜ן </span></a></div><div class='features'><span class=\"lex xft\" ><span class=\"f\">lex=</span>R>WBN/</span></div></div><div class=\"contnr c0 trm rtl  \" ><div class=\"lbl c0 trm \" ><a class=\" txtu hbo\" target=\"_blank\" href=\"https://shebanq.ancient-data.org/hebrew/word?version=2017&amp;id=1W\" title=\"Show this on SHEBANQ\"><span class=\"txtu hbo\">וְ</span></a></div><div class='features'><span class=\"lex xft\" ><span class=\"f\">lex=</span>W</span></div></div><div class=\"contnr c0 trm rtl  \" ><div class=\"lbl c0 trm \" ><a class=\" txtu hbo\" target=\"_blank\" href=\"https://shebanq.ancient-data.org/hebrew/word?version=2017&amp;id=1L\" title=\"Show this on SHEBANQ\"><span class=\"txtu hbo\">לַ</span></a></div><div class='features'><span class=\"lex xft\" ><span class=\"f\">lex=</span>L</span></div></div><div class=\"contnr c0 trm rtl  \" ><div class=\"lbl c0 trm \" ><a class=\" txtu hbo\" target=\"_blank\" href=\"https://shebanq.ancient-data.org/hebrew/word?version=2017&amp;id=1XYJn\" title=\"Show this on SHEBANQ\"><span class=\"txtu hbo\">חֲצִ֣י׀ </span></a></div><div class='features'><span class=\"lex xft\" ><span class=\"f\">lex=</span>XYJ/</span></div></div><div class=\"contnr c0 trm rtl  \" ><div class=\"lbl c0 trm \" ><a class=\" txtu hbo\" target=\"_blank\" href=\"https://shebanq.ancient-data.org/hebrew/word?version=2017&amp;id=1CBVn\" title=\"Show this on SHEBANQ\"><span class=\"txtu hbo\">שֵׁ֣בֶט׀ </span></a></div><div class='features'><span class=\"lex xft\" ><span class=\"f\">lex=</span>CBV/</span></div></div><div class=\"contnr c0 trm rtl  \" ><div class=\"lbl c0 trm \" ><a class=\" txtu hbo\" target=\"_blank\" href=\"https://shebanq.ancient-data.org/hebrew/word?version=2017&amp;id=1MNCHn\" title=\"Show this on SHEBANQ\"><span class=\"txtu hbo\">מְנַשֶּׁ֣ה </span></a></div><div class='features'><span class=\"lex xft\" ><span class=\"f\">lex=</span>MNCH/</span></div></div><div class=\"contnr c0 trm rtl  \" ><div class=\"lbl c0 trm \" ><a class=\" txtu hbo\" target=\"_blank\" href=\"https://shebanq.ancient-data.org/hebrew/word?version=2017&amp;id=1BNn\" title=\"Show this on SHEBANQ\"><span class=\"txtu hbo\">בֶן־</span></a></div><div class='features'><span class=\"lex xft\" ><span class=\"f\">lex=</span>BN/</span></div></div><div class=\"contnr c0 trm rtl  \" ><div class=\"lbl c0 trm \" ><a class=\" txtu hbo\" target=\"_blank\" href=\"https://shebanq.ancient-data.org/hebrew/word?version=2017&amp;id=1JWSPn\" title=\"Show this on SHEBANQ\"><span class=\"txtu hbo\">יֹוסֵ֗ף </span></a></div><div class='features'><span class=\"lex xft\" ><span class=\"f\">lex=</span>JWSP/</span></div></div></div></div><div class=\"contnr c1  rtl  \" ><div class=\"lbl c1  \" ><span class=\"nd\">phrase</span></div><div class=\"children hor wrap rtl\"><div class=\"contnr c0 trm rtl  \" ><div class=\"lbl c0 trm \" ><a class=\" txtu hbo\" target=\"_blank\" href=\"https://shebanq.ancient-data.org/hebrew/word?version=2017&amp;id=1AT\" title=\"Show this on SHEBANQ\"><span class=\"txtu hbo\">אֶת־</span></a></div><div class='features'><span class=\"lex xft\" ><span class=\"f\">lex=</span>>T</span></div></div><div class=\"contnr c0 trm rtl  \" ><div class=\"lbl c0 trm \" ><a class=\" txtu hbo\" target=\"_blank\" href=\"https://shebanq.ancient-data.org/hebrew/word?version=2017&amp;id=1MMLKTn\" title=\"Show this on SHEBANQ\"><span class=\"txtu hbo\">מַמְלֶ֨כֶת֙ </span></a></div><div class='features'><span class=\"lex xft\" ><span class=\"f\">lex=</span>MMLKT/</span></div></div><div class=\"contnr c0 trm rtl  \" ><div class=\"lbl c0 trm \" ><a class=\" txtu hbo\" target=\"_blank\" href=\"https://shebanq.ancient-data.org/hebrew/word?version=2017&amp;id=1SJXWNn\" title=\"Show this on SHEBANQ\"><span class=\"txtu hbo\">סִיחֹן֙ </span></a></div><div class='features'><span class=\"lex xft\" ><span class=\"f\">lex=</span>SJXWN/</span></div></div><div class=\"contnr c0 trm rtl  \" ><div class=\"lbl c0 trm \" ><a class=\" txtu hbo\" target=\"_blank\" href=\"https://shebanq.ancient-data.org/hebrew/word?version=2017&amp;id=1MLKn\" title=\"Show this on SHEBANQ\"><span class=\"txtu hbo\">מֶ֣לֶךְ </span></a></div><div class='features'><span class=\"lex xft\" ><span class=\"f\">lex=</span>MLK/</span></div></div><div class=\"contnr c0 trm rtl  \" ><div class=\"lbl c0 trm \" ><a class=\" txtu hbo\" target=\"_blank\" href=\"https://shebanq.ancient-data.org/hebrew/word?version=2017&amp;id=1H\" title=\"Show this on SHEBANQ\"><span class=\"txtu hbo\">הָֽ</span></a></div><div class='features'><span class=\"lex xft\" ><span class=\"f\">lex=</span>H</span></div></div><div class=\"contnr c0 trm rtl  \" ><div class=\"lbl c0 trm \" ><a class=\" txtu hbo\" target=\"_blank\" href=\"https://shebanq.ancient-data.org/hebrew/word?version=2017&amp;id=1AMRJn\" title=\"Show this on SHEBANQ\"><span class=\"txtu hbo\">אֱמֹרִ֔י </span></a></div><div class='features'><span class=\"lex xft\" ><span class=\"f\">lex=</span>>MRJ/</span></div></div><div class=\"contnr c0 trm rtl  \" ><div class=\"lbl c0 trm \" ><a class=\" txtu hbo\" target=\"_blank\" href=\"https://shebanq.ancient-data.org/hebrew/word?version=2017&amp;id=1W\" title=\"Show this on SHEBANQ\"><span class=\"txtu hbo\">וְ</span></a></div><div class='features'><span class=\"lex xft\" ><span class=\"f\">lex=</span>W</span></div></div><div class=\"contnr c0 trm rtl  \" ><div class=\"lbl c0 trm \" ><a class=\" txtu hbo\" target=\"_blank\" href=\"https://shebanq.ancient-data.org/hebrew/word?version=2017&amp;id=1AT\" title=\"Show this on SHEBANQ\"><span class=\"txtu hbo\">אֶת־</span></a></div><div class='features'><span class=\"lex xft\" ><span class=\"f\">lex=</span>>T</span></div></div><div class=\"contnr c0 trm rtl  \" ><div class=\"lbl c0 trm \" ><a class=\" txtu hbo\" target=\"_blank\" href=\"https://shebanq.ancient-data.org/hebrew/word?version=2017&amp;id=1MMLKTn\" title=\"Show this on SHEBANQ\"><span class=\"txtu hbo\">מַמְלֶ֔כֶת </span></a></div><div class='features'><span class=\"lex xft\" ><span class=\"f\">lex=</span>MMLKT/</span></div></div><div class=\"contnr c0 trm rtl  \" ><div class=\"lbl c0 trm \" ><a class=\" txtu hbo\" target=\"_blank\" href=\"https://shebanq.ancient-data.org/hebrew/word?version=2017&amp;id=1OWGn\" title=\"Show this on SHEBANQ\"><span class=\"txtu hbo\">עֹ֖וג </span></a></div><div class='features'><span class=\"lex xft\" ><span class=\"f\">lex=</span>&lt;WG/</span></div></div><div class=\"contnr c0 trm rtl  \" ><div class=\"lbl c0 trm \" ><a class=\" txtu hbo\" target=\"_blank\" href=\"https://shebanq.ancient-data.org/hebrew/word?version=2017&amp;id=1MLKn\" title=\"Show this on SHEBANQ\"><span class=\"txtu hbo\">מֶ֣לֶךְ </span></a></div><div class='features'><span class=\"lex xft\" ><span class=\"f\">lex=</span>MLK/</span></div></div><div class=\"contnr c0 trm rtl  \" ><div class=\"lbl c0 trm \" ><a class=\" txtu hbo\" target=\"_blank\" href=\"https://shebanq.ancient-data.org/hebrew/word?version=2017&amp;id=1H\" title=\"Show this on SHEBANQ\"><span class=\"txtu hbo\">הַ</span></a></div><div class='features'><span class=\"lex xft\" ><span class=\"f\">lex=</span>H</span></div></div><div class=\"contnr c0 trm rtl  \" ><div class=\"lbl c0 trm \" ><a class=\" txtu hbo\" target=\"_blank\" href=\"https://shebanq.ancient-data.org/hebrew/word?version=2017&amp;id=1BCNn\" title=\"Show this on SHEBANQ\"><span class=\"txtu hbo\">בָּשָׁ֑ן </span></a></div><div class='features'><span class=\"lex xft\" ><span class=\"f\">lex=</span>BCN/</span></div></div><div class=\"contnr c0 trm rtl  \" ><div class=\"lbl c0 trm \" ><a class=\" txtu hbo\" target=\"_blank\" href=\"https://shebanq.ancient-data.org/hebrew/word?version=2017&amp;id=1H\" title=\"Show this on SHEBANQ\"><span class=\"txtu hbo\">הָ</span></a></div><div class='features'><span class=\"lex xft\" ><span class=\"f\">lex=</span>H</span></div></div><div class=\"contnr c0 trm rtl  \" ><div class=\"lbl c0 trm \" ><a class=\" txtu hbo\" target=\"_blank\" href=\"https://shebanq.ancient-data.org/hebrew/word?version=2017&amp;id=1ARYn\" title=\"Show this on SHEBANQ\"><span class=\"txtu hbo\">אָ֗רֶץ </span></a></div><div class='features'><span class=\"lex xft\" ><span class=\"f\">lex=</span>>RY/</span></div></div><div class=\"contnr c0 trm rtl  \" ><div class=\"lbl c0 trm \" ><a class=\" txtu hbo\" target=\"_blank\" href=\"https://shebanq.ancient-data.org/hebrew/word?version=2017&amp;id=1L\" title=\"Show this on SHEBANQ\"><span class=\"txtu hbo\">לְ</span></a></div><div class='features'><span class=\"lex xft\" ><span class=\"f\">lex=</span>L</span></div></div><div class=\"contnr c0 trm rtl  \" ><div class=\"lbl c0 trm \" ><a class=\" txtu hbo\" target=\"_blank\" href=\"https://shebanq.ancient-data.org/hebrew/word?version=2017&amp;id=1OJRn\" title=\"Show this on SHEBANQ\"><span class=\"txtu hbo\">עָרֶ֨יהָ֙ </span></a></div><div class='features'><span class=\"lex xft\" ><span class=\"f\">lex=</span>&lt;JR/</span></div></div><div class=\"contnr c0 trm rtl  \" ><div class=\"lbl c0 trm \" ><a class=\" txtu hbo\" target=\"_blank\" href=\"https://shebanq.ancient-data.org/hebrew/word?version=2017&amp;id=1B\" title=\"Show this on SHEBANQ\"><span class=\"txtu hbo\">בִּ</span></a></div><div class='features'><span class=\"lex xft\" ><span class=\"f\">lex=</span>B</span></div></div><div class=\"contnr c0 trm rtl  \" ><div class=\"lbl c0 trm \" ><a class=\" txtu hbo\" target=\"_blank\" href=\"https://shebanq.ancient-data.org/hebrew/word?version=2017&amp;id=1GBWLHn\" title=\"Show this on SHEBANQ\"><span class=\"txtu hbo\">גְבֻלֹ֔ת </span></a></div><div class='features'><span class=\"lex xft\" ><span class=\"f\">lex=</span>GBWLH/</span></div></div><div class=\"contnr c0 trm rtl  \" ><div class=\"lbl c0 trm \" ><a class=\" txtu hbo\" target=\"_blank\" href=\"https://shebanq.ancient-data.org/hebrew/word?version=2017&amp;id=1OJRn\" title=\"Show this on SHEBANQ\"><span class=\"txtu hbo\">עָרֵ֥י </span></a></div><div class='features'><span class=\"lex xft\" ><span class=\"f\">lex=</span>&lt;JR/</span></div></div><div class=\"contnr c0 trm rtl  \" ><div class=\"lbl c0 trm \" ><a class=\" txtu hbo\" target=\"_blank\" href=\"https://shebanq.ancient-data.org/hebrew/word?version=2017&amp;id=1H\" title=\"Show this on SHEBANQ\"><span class=\"txtu hbo\">הָ</span></a></div><div class='features'><span class=\"lex xft\" ><span class=\"f\">lex=</span>H</span></div></div><div class=\"contnr c0 trm rtl  \" ><div class=\"lbl c0 trm \" ><a class=\" txtu hbo\" target=\"_blank\" href=\"https://shebanq.ancient-data.org/hebrew/word?version=2017&amp;id=1ARYn\" title=\"Show this on SHEBANQ\"><span class=\"txtu hbo\">אָ֖רֶץ </span></a></div><div class='features'><span class=\"lex xft\" ><span class=\"f\">lex=</span>>RY/</span></div></div><div class=\"contnr c0 trm rtl  \" ><div class=\"lbl c0 trm \" ><a class=\" txtu hbo\" target=\"_blank\" href=\"https://shebanq.ancient-data.org/hebrew/word?version=2017&amp;id=1SBJBn\" title=\"Show this on SHEBANQ\"><span class=\"txtu hbo\">סָבִֽיב׃ </span></a></div><div class='features'><span class=\"lex xft\" ><span class=\"f\">lex=</span>SBJB/</span></div></div></div></div></div></div></div>"
      ],
      "text/plain": [
       "<IPython.core.display.HTML object>"
      ]
     },
     "metadata": {},
     "output_type": "display_data"
    }
   ],
   "source": [
    "A.show(resultsGap, start=8, end=10, condenseType=\"clause\")"
   ]
  },
  {
   "cell_type": "markdown",
   "metadata": {},
   "source": [
    "## An other example by Oliver Glanz\n",
    "\n",
    "We look for words with the same value for the `g_cons` feature but with a different `lex` feature.\n",
    "There is a word pair in Jeremiah 1:11-12 that has this.\n",
    "\n",
    "An obvious query to try is the following:"
   ]
  },
  {
   "cell_type": "code",
   "execution_count": 18,
   "metadata": {},
   "outputs": [],
   "source": [
    "query = \"\"\"\n",
    "verse book=Jeremia chapter=1 verse=11|12\n",
    "    w1:word lex*\n",
    "    < w2:word\n",
    "w1 .g_cons=g_cons. w2\n",
    "w1 .lex#lex. w2\n",
    "\"\"\""
   ]
  },
  {
   "cell_type": "code",
   "execution_count": 19,
   "metadata": {},
   "outputs": [
    {
     "name": "stdout",
     "output_type": "stream",
     "text": [
      "  0.62s 0 results\n"
     ]
    }
   ],
   "source": [
    "results = A.search(query)"
   ]
  },
  {
   "cell_type": "markdown",
   "metadata": {},
   "source": [
    "But the thing is, one of those words is in verse 11, and the other in verse 12. The query as it stands, requires both\n",
    "words to be in the same verse.\n",
    "\n",
    "We could write a bit more intricate query, that requires the word pair between the last word of verse 10 and the first one of\n",
    "verse 13, but this query turns out to be inefficient. It finds a result in a few seconds (that is already way to slow) and then it spends\n",
    "ages to search a vast space where no results are to be found."
   ]
  },
  {
   "cell_type": "code",
   "execution_count": 20,
   "metadata": {},
   "outputs": [],
   "source": [
    "query = \"\"\"\n",
    "verse book=Jeremia chapter=1 verse=10\n",
    "  start:word\n",
    "  :=\n",
    "verse book=Jeremia chapter=1 verse=13\n",
    "  =: end:word\n",
    "\n",
    "start\n",
    "< w1:word\n",
    "< w2:word\n",
    "< end\n",
    "\n",
    "w1 .g_cons=g_cons. w2\n",
    "w1 .lex#lex. w2\n",
    "\"\"\""
   ]
  },
  {
   "cell_type": "code",
   "execution_count": 21,
   "metadata": {},
   "outputs": [
    {
     "name": "stdout",
     "output_type": "stream",
     "text": [
      "  0.00s Checking search template ...\n",
      "  0.00s Setting up search space for 8 objects ...\n",
      "  0.43s Constraining search space with 11 relations ...\n",
      "  0.51s \t2 edges thinned\n",
      "  0.51s Setting up retrieval plan with strategy small_choice_multi ...\n",
      "  0.60s Ready to deliver results from 1706340 nodes\n",
      "Iterate over S.fetch() to get the results\n",
      "See S.showPlan() to interpret the results\n"
     ]
    }
   ],
   "source": [
    "S.study(query)"
   ]
  },
  {
   "cell_type": "code",
   "execution_count": 22,
   "metadata": {},
   "outputs": [],
   "source": [
    "firstResult = next(S.fetch())"
   ]
  },
  {
   "cell_type": "code",
   "execution_count": 23,
   "metadata": {},
   "outputs": [
    {
     "data": {
      "text/html": [
       "<p><b>result</b> <i>1</i></p>"
      ],
      "text/plain": [
       "<IPython.core.display.HTML object>"
      ]
     },
     "metadata": {},
     "output_type": "display_data"
    },
    {
     "data": {
      "text/html": [
       "<div class=\"section rtl\"><a target=\"_blank\" href=\"https://shebanq.ancient-data.org/hebrew/text?book=Jeremia&amp;chapter=1&amp;verse=10&amp;version=2017&amp;mr=m&amp;qw=q&amp;tp=txt_p&amp;tr=hb&amp;wget=v&amp;qget=v&amp;nget=vt\" title=\"Show this on SHEBANQ\" sec=\"Jeremiah 1:10\">Jeremiah 1:10</a></div><div class=\"rtl children\"><div class=\"contnr c2  rtl  \" ><div class=\"lbl c2  \" ><span class=\"nd\">clause</span></div><div class=\"children hor wrap rtl\"><div class=\"contnr c1  rtl  \" ><div class=\"lbl c1  \" ><span class=\"nd\">phrase</span></div><div class=\"children hor wrap rtl\"><div class=\"contnr c0 trm rtl  \" ><div class=\"lbl c0 trm \" ><a class=\" txtu hbo\" target=\"_blank\" href=\"https://shebanq.ancient-data.org/hebrew/word?version=2017&amp;id=1W\" title=\"Show this on SHEBANQ\"><span class=\"txtu hbo\">וְ</span></a></div><div class='features'><span class=\"g_cons xft\" ><span class=\"f\">g_cons=</span>W</span><span class=\"lex xft\" ><span class=\"f\">lex=</span>W</span></div></div></div></div><div class=\"contnr c1  rtl  \" ><div class=\"lbl c1  \" ><span class=\"nd\">phrase</span></div><div class=\"children hor wrap rtl\"><div class=\"contnr c0 trm rtl  \" ><div class=\"lbl c0 trm \" ><a class=\" txtu hbo\" target=\"_blank\" href=\"https://shebanq.ancient-data.org/hebrew/word?version=2017&amp;id=1L\" title=\"Show this on SHEBANQ\"><span class=\"txtu hbo\">לִ</span></a></div><div class='features'><span class=\"g_cons xft\" ><span class=\"f\">g_cons=</span>L</span><span class=\"lex xft\" ><span class=\"f\">lex=</span>L</span></div></div><div class=\"contnr c0 trm rtl  hl\" ><div class=\"lbl c0 trm hl\" ><a class=\" txtu hbo\" target=\"_blank\" href=\"https://shebanq.ancient-data.org/hebrew/word?version=2017&amp;id=1NVOv\" title=\"Show this on SHEBANQ\"><span class=\"txtu hbo\">נְטֹֽועַ׃ פ </span></a></div><div class='features'><span class=\"g_cons xft\" ><span class=\"f\">g_cons=</span>NVW&lt;</span><span class=\"lex xft\" ><span class=\"f\">lex=</span>NV&lt;[</span></div></div></div></div></div></div></div>"
      ],
      "text/plain": [
       "<IPython.core.display.HTML object>"
      ]
     },
     "metadata": {},
     "output_type": "display_data"
    },
    {
     "data": {
      "text/html": [
       "<div class=\"section rtl\"><a target=\"_blank\" href=\"https://shebanq.ancient-data.org/hebrew/text?book=Jeremia&amp;chapter=1&amp;verse=11&amp;version=2017&amp;mr=m&amp;qw=q&amp;tp=txt_p&amp;tr=hb&amp;wget=v&amp;qget=v&amp;nget=vt\" title=\"Show this on SHEBANQ\" sec=\"Jeremiah 1:11\">Jeremiah 1:11</a></div><div class=\"rtl children\"><div class=\"contnr c2  rtl  \" ><div class=\"lbl c2  \" ><span class=\"nd\">clause</span></div><div class=\"children hor wrap rtl\"><div class=\"contnr c1  rtl  \" ><div class=\"lbl c1  \" ><span class=\"nd\">phrase</span></div><div class=\"children hor wrap rtl\"><div class=\"contnr c0 trm rtl  \" ><div class=\"lbl c0 trm \" ><a class=\" txtu hbo\" target=\"_blank\" href=\"https://shebanq.ancient-data.org/hebrew/word?version=2017&amp;id=1MQLn\" title=\"Show this on SHEBANQ\"><span class=\"txtu hbo\">מַקֵּ֥ל </span></a></div><div class='features'><span class=\"g_cons xft\" ><span class=\"f\">g_cons=</span>MQL</span><span class=\"lex xft\" ><span class=\"f\">lex=</span>MQL/</span></div></div><div class=\"contnr c0 trm rtl  hl\" ><div class=\"lbl c0 trm hl\" ><a class=\" txtu hbo\" target=\"_blank\" href=\"https://shebanq.ancient-data.org/hebrew/word?version=2017&amp;id=1CQDn\" title=\"Show this on SHEBANQ\"><span class=\"txtu hbo\">שָׁקֵ֖ד </span></a></div><div class='features'><span class=\"g_cons xft\" ><span class=\"f\">g_cons=</span>CQD</span><span class=\"lex xft\" ><span class=\"f\">lex=</span>CQD/</span></div></div></div></div><div class=\"contnr c1  rtl  \" ><div class=\"lbl c1  \" ><span class=\"nd\">phrase</span></div><div class=\"children hor wrap rtl\"><div class=\"contnr c0 trm rtl  \" ><div class=\"lbl c0 trm \" ><a class=\" txtu hbo\" target=\"_blank\" href=\"https://shebanq.ancient-data.org/hebrew/word?version=2017&amp;id=1ANJ\" title=\"Show this on SHEBANQ\"><span class=\"txtu hbo\">אֲנִ֥י </span></a></div><div class='features'><span class=\"g_cons xft\" ><span class=\"f\">g_cons=</span>>NJ</span><span class=\"lex xft\" ><span class=\"f\">lex=</span>>NJ</span></div></div></div></div><div class=\"contnr c1  rtl  \" ><div class=\"lbl c1  \" ><span class=\"nd\">phrase</span></div><div class=\"children hor wrap rtl\"><div class=\"contnr c0 trm rtl  \" ><div class=\"lbl c0 trm \" ><a class=\" txtu hbo\" target=\"_blank\" href=\"https://shebanq.ancient-data.org/hebrew/word?version=2017&amp;id=1RAHv\" title=\"Show this on SHEBANQ\"><span class=\"txtu hbo\">רֹאֶֽה׃ </span></a></div><div class='features'><span class=\"g_cons xft\" ><span class=\"f\">g_cons=</span>R>H</span><span class=\"lex xft\" ><span class=\"f\">lex=</span>R>H[</span></div></div></div></div></div></div></div>"
      ],
      "text/plain": [
       "<IPython.core.display.HTML object>"
      ]
     },
     "metadata": {},
     "output_type": "display_data"
    },
    {
     "data": {
      "text/html": [
       "<div class=\"section rtl\"><a target=\"_blank\" href=\"https://shebanq.ancient-data.org/hebrew/text?book=Jeremia&amp;chapter=1&amp;verse=12&amp;version=2017&amp;mr=m&amp;qw=q&amp;tp=txt_p&amp;tr=hb&amp;wget=v&amp;qget=v&amp;nget=vt\" title=\"Show this on SHEBANQ\" sec=\"Jeremiah 1:12\">Jeremiah 1:12</a></div><div class=\"rtl children\"><div class=\"contnr c2  rtl  \" ><div class=\"lbl c2  \" ><span class=\"nd\">clause</span></div><div class=\"children hor wrap rtl\"><div class=\"contnr c1  rtl  \" ><div class=\"lbl c1  \" ><span class=\"nd\">phrase</span></div><div class=\"children hor wrap rtl\"><div class=\"contnr c0 trm rtl  \" ><div class=\"lbl c0 trm \" ><a class=\" txtu hbo\" target=\"_blank\" href=\"https://shebanq.ancient-data.org/hebrew/word?version=2017&amp;id=1KJ\" title=\"Show this on SHEBANQ\"><span class=\"txtu hbo\">כִּֽי־</span></a></div><div class='features'><span class=\"g_cons xft\" ><span class=\"f\">g_cons=</span>KJ</span><span class=\"lex xft\" ><span class=\"f\">lex=</span>KJ</span></div></div></div></div><div class=\"contnr c1  rtl  \" ><div class=\"lbl c1  \" ><span class=\"nd\">phrase</span></div><div class=\"children hor wrap rtl\"><div class=\"contnr c0 trm rtl  hl\" ><div class=\"lbl c0 trm hl\" ><a class=\" txtu hbo\" target=\"_blank\" href=\"https://shebanq.ancient-data.org/hebrew/word?version=2017&amp;id=1CQDv\" title=\"Show this on SHEBANQ\"><span class=\"txtu hbo\">שֹׁקֵ֥ד </span></a></div><div class='features'><span class=\"g_cons xft\" ><span class=\"f\">g_cons=</span>CQD</span><span class=\"lex xft\" ><span class=\"f\">lex=</span>CQD[</span></div></div></div></div><div class=\"contnr c1  rtl  \" ><div class=\"lbl c1  \" ><span class=\"nd\">phrase</span></div><div class=\"children hor wrap rtl\"><div class=\"contnr c0 trm rtl  \" ><div class=\"lbl c0 trm \" ><a class=\" txtu hbo\" target=\"_blank\" href=\"https://shebanq.ancient-data.org/hebrew/word?version=2017&amp;id=1ANJ\" title=\"Show this on SHEBANQ\"><span class=\"txtu hbo\">אֲנִ֛י </span></a></div><div class='features'><span class=\"g_cons xft\" ><span class=\"f\">g_cons=</span>>NJ</span><span class=\"lex xft\" ><span class=\"f\">lex=</span>>NJ</span></div></div></div></div><div class=\"contnr c1  rtl  \" ><div class=\"lbl c1  \" ><span class=\"nd\">phrase</span></div><div class=\"children hor wrap rtl\"><div class=\"contnr c0 trm rtl  \" ><div class=\"lbl c0 trm \" ><a class=\" txtu hbo\" target=\"_blank\" href=\"https://shebanq.ancient-data.org/hebrew/word?version=2017&amp;id=1OL\" title=\"Show this on SHEBANQ\"><span class=\"txtu hbo\">עַל־</span></a></div><div class='features'><span class=\"g_cons xft\" ><span class=\"f\">g_cons=</span>&lt;L</span><span class=\"lex xft\" ><span class=\"f\">lex=</span>&lt;L</span></div></div><div class=\"contnr c0 trm rtl  \" ><div class=\"lbl c0 trm \" ><a class=\" txtu hbo\" target=\"_blank\" href=\"https://shebanq.ancient-data.org/hebrew/word?version=2017&amp;id=1DBRn\" title=\"Show this on SHEBANQ\"><span class=\"txtu hbo\">דְּבָרִ֖י </span></a></div><div class='features'><span class=\"g_cons xft\" ><span class=\"f\">g_cons=</span>DBRJ</span><span class=\"lex xft\" ><span class=\"f\">lex=</span>DBR/</span></div></div></div></div></div></div></div>"
      ],
      "text/plain": [
       "<IPython.core.display.HTML object>"
      ]
     },
     "metadata": {},
     "output_type": "display_data"
    },
    {
     "data": {
      "text/html": [
       "<div class=\"section rtl\"><a target=\"_blank\" href=\"https://shebanq.ancient-data.org/hebrew/text?book=Jeremia&amp;chapter=1&amp;verse=13&amp;version=2017&amp;mr=m&amp;qw=q&amp;tp=txt_p&amp;tr=hb&amp;wget=v&amp;qget=v&amp;nget=vt\" title=\"Show this on SHEBANQ\" sec=\"Jeremiah 1:13\">Jeremiah 1:13</a></div><div class=\"rtl children\"><div class=\"contnr c2  rtl  \" ><div class=\"lbl c2  \" ><span class=\"nd\">clause</span></div><div class=\"children hor wrap rtl\"><div class=\"contnr c1  rtl  \" ><div class=\"lbl c1  \" ><span class=\"nd\">phrase</span></div><div class=\"children hor wrap rtl\"><div class=\"contnr c0 trm rtl  hl\" ><div class=\"lbl c0 trm hl\" ><a class=\" txtu hbo\" target=\"_blank\" href=\"https://shebanq.ancient-data.org/hebrew/word?version=2017&amp;id=1W\" title=\"Show this on SHEBANQ\"><span class=\"txtu hbo\">וַ</span></a></div><div class='features'><span class=\"g_cons xft\" ><span class=\"f\">g_cons=</span>W</span><span class=\"lex xft\" ><span class=\"f\">lex=</span>W</span></div></div></div></div><div class=\"contnr c1  rtl  \" ><div class=\"lbl c1  \" ><span class=\"nd\">phrase</span></div><div class=\"children hor wrap rtl\"><div class=\"contnr c0 trm rtl  \" ><div class=\"lbl c0 trm \" ><a class=\" txtu hbo\" target=\"_blank\" href=\"https://shebanq.ancient-data.org/hebrew/word?version=2017&amp;id=1HJHv\" title=\"Show this on SHEBANQ\"><span class=\"txtu hbo\">יְהִ֨י </span></a></div><div class='features'><span class=\"g_cons xft\" ><span class=\"f\">g_cons=</span>JHJ</span><span class=\"lex xft\" ><span class=\"f\">lex=</span>HJH[</span></div></div></div></div><div class=\"contnr c1  rtl  \" ><div class=\"lbl c1  \" ><span class=\"nd\">phrase</span></div><div class=\"children hor wrap rtl\"><div class=\"contnr c0 trm rtl  \" ><div class=\"lbl c0 trm \" ><a class=\" txtu hbo\" target=\"_blank\" href=\"https://shebanq.ancient-data.org/hebrew/word?version=2017&amp;id=1DBRn\" title=\"Show this on SHEBANQ\"><span class=\"txtu hbo\">דְבַר־</span></a></div><div class='features'><span class=\"g_cons xft\" ><span class=\"f\">g_cons=</span>DBR</span><span class=\"lex xft\" ><span class=\"f\">lex=</span>DBR/</span></div></div><div class=\"contnr c0 trm rtl  \" ><div class=\"lbl c0 trm \" ><a class=\" txtu hbo\" target=\"_blank\" href=\"https://shebanq.ancient-data.org/hebrew/word?version=2017&amp;id=1JHWHn\" title=\"Show this on SHEBANQ\"><span class=\"txtu hbo\">יְהוָ֤ה׀ </span></a></div><div class='features'><span class=\"g_cons xft\" ><span class=\"f\">g_cons=</span>JHWH</span><span class=\"lex xft\" ><span class=\"f\">lex=</span>JHWH/</span></div></div></div></div><div class=\"contnr c1  rtl  \" ><div class=\"lbl c1  \" ><span class=\"nd\">phrase</span></div><div class=\"children hor wrap rtl\"><div class=\"contnr c0 trm rtl  \" ><div class=\"lbl c0 trm \" ><a class=\" txtu hbo\" target=\"_blank\" href=\"https://shebanq.ancient-data.org/hebrew/word?version=2017&amp;id=1AL\" title=\"Show this on SHEBANQ\"><span class=\"txtu hbo\">אֵלַי֙ </span></a></div><div class='features'><span class=\"g_cons xft\" ><span class=\"f\">g_cons=</span>>LJ</span><span class=\"lex xft\" ><span class=\"f\">lex=</span>>L</span></div></div></div></div><div class=\"contnr c1  rtl  \" ><div class=\"lbl c1  \" ><span class=\"nd\">phrase</span></div><div class=\"children hor wrap rtl\"><div class=\"contnr c0 trm rtl  \" ><div class=\"lbl c0 trm \" ><a class=\" txtu hbo\" target=\"_blank\" href=\"https://shebanq.ancient-data.org/hebrew/word?version=2017&amp;id=1CNJn\" title=\"Show this on SHEBANQ\"><span class=\"txtu hbo\">שֵׁנִ֣ית </span></a></div><div class='features'><span class=\"g_cons xft\" ><span class=\"f\">g_cons=</span>CNJT</span><span class=\"lex xft\" ><span class=\"f\">lex=</span>CNJ/</span></div></div></div></div></div></div></div>"
      ],
      "text/plain": [
       "<IPython.core.display.HTML object>"
      ]
     },
     "metadata": {},
     "output_type": "display_data"
    }
   ],
   "source": [
    "A.prettyTuple(firstResult, 1, condenseType=\"clause\", skipCols=\"1 3\")"
   ]
  },
  {
   "cell_type": "markdown",
   "metadata": {},
   "source": [
    "An alternative is to look in a whole chapter, and to require the words not to be too far apart, e.g. at most 20."
   ]
  },
  {
   "cell_type": "code",
   "execution_count": 24,
   "metadata": {},
   "outputs": [],
   "source": [
    "query = \"\"\"\n",
    "chapter book=Jeremia chapter=1\n",
    "  w1:word\n",
    "  <20: w2:word\n",
    "\n",
    "w1 < w2\n",
    "w1 .g_cons=g_cons. w2\n",
    "w1 .lex#lex. w2\n",
    "\"\"\""
   ]
  },
  {
   "cell_type": "markdown",
   "metadata": {},
   "source": [
    "Note that `<20:` relaxes to adjacency condition `<:` with 20 slots in both directions.\n",
    "If there is a pair of words within a slot distance of 20, then the reversed pair also satisfies that condition.\n",
    "\n",
    "Hence we put in an extra `w1 < w2`, so that every pair occurs only once."
   ]
  },
  {
   "cell_type": "code",
   "execution_count": 25,
   "metadata": {},
   "outputs": [
    {
     "name": "stdout",
     "output_type": "stream",
     "text": [
      "  0.23s 1 result\n"
     ]
    }
   ],
   "source": [
    "results = A.search(query)"
   ]
  },
  {
   "cell_type": "code",
   "execution_count": 26,
   "metadata": {},
   "outputs": [
    {
     "data": {
      "text/html": [
       "<p><b>result</b> <i>1</i></p>"
      ],
      "text/plain": [
       "<IPython.core.display.HTML object>"
      ]
     },
     "metadata": {},
     "output_type": "display_data"
    },
    {
     "data": {
      "text/html": [
       "<div class=\"section rtl\"><a target=\"_blank\" href=\"https://shebanq.ancient-data.org/hebrew/text?book=Jeremia&amp;chapter=1&amp;verse=11&amp;version=2017&amp;mr=m&amp;qw=q&amp;tp=txt_p&amp;tr=hb&amp;wget=v&amp;qget=v&amp;nget=vt\" title=\"Show this on SHEBANQ\" sec=\"Jeremiah 1:11\">Jeremiah 1:11</a></div><div class=\"rtl children\"><div class=\"contnr c2  rtl  \" ><div class=\"lbl c2  \" ><span class=\"nd\">clause</span></div><div class=\"children hor wrap rtl\"><div class=\"contnr c1  rtl  \" ><div class=\"lbl c1  \" ><span class=\"nd\">phrase</span></div><div class=\"children hor wrap rtl\"><div class=\"contnr c0 trm rtl  \" ><div class=\"lbl c0 trm \" ><a class=\" txtu hbo\" target=\"_blank\" href=\"https://shebanq.ancient-data.org/hebrew/word?version=2017&amp;id=1MQLn\" title=\"Show this on SHEBANQ\"><span class=\"txtu hbo\">מַקֵּ֥ל </span></a></div><div class='features'><span class=\"g_cons xft\" ><span class=\"f\">g_cons=</span>MQL</span><span class=\"lex xft\" ><span class=\"f\">lex=</span>MQL/</span></div></div><div class=\"contnr c0 trm rtl  hl\" ><div class=\"lbl c0 trm hl\" ><a class=\" txtu hbo\" target=\"_blank\" href=\"https://shebanq.ancient-data.org/hebrew/word?version=2017&amp;id=1CQDn\" title=\"Show this on SHEBANQ\"><span class=\"txtu hbo\">שָׁקֵ֖ד </span></a></div><div class='features'><span class=\"g_cons xft\" ><span class=\"f\">g_cons=</span>CQD</span><span class=\"lex xft\" ><span class=\"f\">lex=</span>CQD/</span></div></div></div></div><div class=\"contnr c1  rtl  \" ><div class=\"lbl c1  \" ><span class=\"nd\">phrase</span></div><div class=\"children hor wrap rtl\"><div class=\"contnr c0 trm rtl  \" ><div class=\"lbl c0 trm \" ><a class=\" txtu hbo\" target=\"_blank\" href=\"https://shebanq.ancient-data.org/hebrew/word?version=2017&amp;id=1ANJ\" title=\"Show this on SHEBANQ\"><span class=\"txtu hbo\">אֲנִ֥י </span></a></div><div class='features'><span class=\"g_cons xft\" ><span class=\"f\">g_cons=</span>>NJ</span><span class=\"lex xft\" ><span class=\"f\">lex=</span>>NJ</span></div></div></div></div><div class=\"contnr c1  rtl  \" ><div class=\"lbl c1  \" ><span class=\"nd\">phrase</span></div><div class=\"children hor wrap rtl\"><div class=\"contnr c0 trm rtl  \" ><div class=\"lbl c0 trm \" ><a class=\" txtu hbo\" target=\"_blank\" href=\"https://shebanq.ancient-data.org/hebrew/word?version=2017&amp;id=1RAHv\" title=\"Show this on SHEBANQ\"><span class=\"txtu hbo\">רֹאֶֽה׃ </span></a></div><div class='features'><span class=\"g_cons xft\" ><span class=\"f\">g_cons=</span>R>H</span><span class=\"lex xft\" ><span class=\"f\">lex=</span>R>H[</span></div></div></div></div></div></div></div>"
      ],
      "text/plain": [
       "<IPython.core.display.HTML object>"
      ]
     },
     "metadata": {},
     "output_type": "display_data"
    },
    {
     "data": {
      "text/html": [
       "<div class=\"section rtl\"><a target=\"_blank\" href=\"https://shebanq.ancient-data.org/hebrew/text?book=Jeremia&amp;chapter=1&amp;verse=12&amp;version=2017&amp;mr=m&amp;qw=q&amp;tp=txt_p&amp;tr=hb&amp;wget=v&amp;qget=v&amp;nget=vt\" title=\"Show this on SHEBANQ\" sec=\"Jeremiah 1:12\">Jeremiah 1:12</a></div><div class=\"rtl children\"><div class=\"contnr c2  rtl  \" ><div class=\"lbl c2  \" ><span class=\"nd\">clause</span></div><div class=\"children hor wrap rtl\"><div class=\"contnr c1  rtl  \" ><div class=\"lbl c1  \" ><span class=\"nd\">phrase</span></div><div class=\"children hor wrap rtl\"><div class=\"contnr c0 trm rtl  \" ><div class=\"lbl c0 trm \" ><a class=\" txtu hbo\" target=\"_blank\" href=\"https://shebanq.ancient-data.org/hebrew/word?version=2017&amp;id=1KJ\" title=\"Show this on SHEBANQ\"><span class=\"txtu hbo\">כִּֽי־</span></a></div><div class='features'><span class=\"g_cons xft\" ><span class=\"f\">g_cons=</span>KJ</span><span class=\"lex xft\" ><span class=\"f\">lex=</span>KJ</span></div></div></div></div><div class=\"contnr c1  rtl  \" ><div class=\"lbl c1  \" ><span class=\"nd\">phrase</span></div><div class=\"children hor wrap rtl\"><div class=\"contnr c0 trm rtl  hl\" ><div class=\"lbl c0 trm hl\" ><a class=\" txtu hbo\" target=\"_blank\" href=\"https://shebanq.ancient-data.org/hebrew/word?version=2017&amp;id=1CQDv\" title=\"Show this on SHEBANQ\"><span class=\"txtu hbo\">שֹׁקֵ֥ד </span></a></div><div class='features'><span class=\"g_cons xft\" ><span class=\"f\">g_cons=</span>CQD</span><span class=\"lex xft\" ><span class=\"f\">lex=</span>CQD[</span></div></div></div></div><div class=\"contnr c1  rtl  \" ><div class=\"lbl c1  \" ><span class=\"nd\">phrase</span></div><div class=\"children hor wrap rtl\"><div class=\"contnr c0 trm rtl  \" ><div class=\"lbl c0 trm \" ><a class=\" txtu hbo\" target=\"_blank\" href=\"https://shebanq.ancient-data.org/hebrew/word?version=2017&amp;id=1ANJ\" title=\"Show this on SHEBANQ\"><span class=\"txtu hbo\">אֲנִ֛י </span></a></div><div class='features'><span class=\"g_cons xft\" ><span class=\"f\">g_cons=</span>>NJ</span><span class=\"lex xft\" ><span class=\"f\">lex=</span>>NJ</span></div></div></div></div><div class=\"contnr c1  rtl  \" ><div class=\"lbl c1  \" ><span class=\"nd\">phrase</span></div><div class=\"children hor wrap rtl\"><div class=\"contnr c0 trm rtl  \" ><div class=\"lbl c0 trm \" ><a class=\" txtu hbo\" target=\"_blank\" href=\"https://shebanq.ancient-data.org/hebrew/word?version=2017&amp;id=1OL\" title=\"Show this on SHEBANQ\"><span class=\"txtu hbo\">עַל־</span></a></div><div class='features'><span class=\"g_cons xft\" ><span class=\"f\">g_cons=</span>&lt;L</span><span class=\"lex xft\" ><span class=\"f\">lex=</span>&lt;L</span></div></div><div class=\"contnr c0 trm rtl  \" ><div class=\"lbl c0 trm \" ><a class=\" txtu hbo\" target=\"_blank\" href=\"https://shebanq.ancient-data.org/hebrew/word?version=2017&amp;id=1DBRn\" title=\"Show this on SHEBANQ\"><span class=\"txtu hbo\">דְּבָרִ֖י </span></a></div><div class='features'><span class=\"g_cons xft\" ><span class=\"f\">g_cons=</span>DBRJ</span><span class=\"lex xft\" ><span class=\"f\">lex=</span>DBR/</span></div></div></div></div></div></div></div>"
      ],
      "text/plain": [
       "<IPython.core.display.HTML object>"
      ]
     },
     "metadata": {},
     "output_type": "display_data"
    }
   ],
   "source": [
    "A.show(results, condenseType=\"clause\", skipCols=\"1\")"
   ]
  },
  {
   "cell_type": "markdown",
   "metadata": {},
   "source": [
    "We can do so for the whole book of Jeremiah."
   ]
  },
  {
   "cell_type": "code",
   "execution_count": 27,
   "metadata": {},
   "outputs": [],
   "source": [
    "query = \"\"\"\n",
    "book book=Jeremia\n",
    "  w1:word\n",
    "  <20: w2:word\n",
    "\n",
    "w1 < w2\n",
    "w1 .g_cons=g_cons. w2\n",
    "w1 .lex#lex. w2\n",
    "\"\"\""
   ]
  },
  {
   "cell_type": "code",
   "execution_count": 28,
   "metadata": {},
   "outputs": [
    {
     "name": "stdout",
     "output_type": "stream",
     "text": [
      "  2.95s 277 results\n"
     ]
    }
   ],
   "source": [
    "results = A.search(query)"
   ]
  },
  {
   "cell_type": "code",
   "execution_count": 29,
   "metadata": {},
   "outputs": [
    {
     "data": {
      "text/html": [
       "<p><b>result</b> <i>1</i></p>"
      ],
      "text/plain": [
       "<IPython.core.display.HTML object>"
      ]
     },
     "metadata": {},
     "output_type": "display_data"
    },
    {
     "data": {
      "text/html": [
       "<div class=\"section rtl\"><a target=\"_blank\" href=\"https://shebanq.ancient-data.org/hebrew/text?book=Jeremia&amp;chapter=1&amp;verse=11&amp;version=2017&amp;mr=m&amp;qw=q&amp;tp=txt_p&amp;tr=hb&amp;wget=v&amp;qget=v&amp;nget=vt\" title=\"Show this on SHEBANQ\" sec=\"Jeremiah 1:11\">Jeremiah 1:11</a></div><div class=\"rtl children\"><div class=\"contnr c2  rtl  \" ><div class=\"lbl c2  \" ><span class=\"nd\">clause</span></div><div class=\"children hor wrap rtl\"><div class=\"contnr c1  rtl  \" ><div class=\"lbl c1  \" ><span class=\"nd\">phrase</span></div><div class=\"children hor wrap rtl\"><div class=\"contnr c0 trm rtl  \" ><div class=\"lbl c0 trm \" ><a class=\" txtu hbo\" target=\"_blank\" href=\"https://shebanq.ancient-data.org/hebrew/word?version=2017&amp;id=1MQLn\" title=\"Show this on SHEBANQ\"><span class=\"txtu hbo\">מַקֵּ֥ל </span></a></div><div class='features'><span class=\"g_cons xft\" ><span class=\"f\">g_cons=</span>MQL</span><span class=\"lex xft\" ><span class=\"f\">lex=</span>MQL/</span></div></div><div class=\"contnr c0 trm rtl  hl\" ><div class=\"lbl c0 trm hl\" ><a class=\" txtu hbo\" target=\"_blank\" href=\"https://shebanq.ancient-data.org/hebrew/word?version=2017&amp;id=1CQDn\" title=\"Show this on SHEBANQ\"><span class=\"txtu hbo\">שָׁקֵ֖ד </span></a></div><div class='features'><span class=\"g_cons xft\" ><span class=\"f\">g_cons=</span>CQD</span><span class=\"lex xft\" ><span class=\"f\">lex=</span>CQD/</span></div></div></div></div><div class=\"contnr c1  rtl  \" ><div class=\"lbl c1  \" ><span class=\"nd\">phrase</span></div><div class=\"children hor wrap rtl\"><div class=\"contnr c0 trm rtl  \" ><div class=\"lbl c0 trm \" ><a class=\" txtu hbo\" target=\"_blank\" href=\"https://shebanq.ancient-data.org/hebrew/word?version=2017&amp;id=1ANJ\" title=\"Show this on SHEBANQ\"><span class=\"txtu hbo\">אֲנִ֥י </span></a></div><div class='features'><span class=\"g_cons xft\" ><span class=\"f\">g_cons=</span>>NJ</span><span class=\"lex xft\" ><span class=\"f\">lex=</span>>NJ</span></div></div></div></div><div class=\"contnr c1  rtl  \" ><div class=\"lbl c1  \" ><span class=\"nd\">phrase</span></div><div class=\"children hor wrap rtl\"><div class=\"contnr c0 trm rtl  \" ><div class=\"lbl c0 trm \" ><a class=\" txtu hbo\" target=\"_blank\" href=\"https://shebanq.ancient-data.org/hebrew/word?version=2017&amp;id=1RAHv\" title=\"Show this on SHEBANQ\"><span class=\"txtu hbo\">רֹאֶֽה׃ </span></a></div><div class='features'><span class=\"g_cons xft\" ><span class=\"f\">g_cons=</span>R>H</span><span class=\"lex xft\" ><span class=\"f\">lex=</span>R>H[</span></div></div></div></div></div></div></div>"
      ],
      "text/plain": [
       "<IPython.core.display.HTML object>"
      ]
     },
     "metadata": {},
     "output_type": "display_data"
    },
    {
     "data": {
      "text/html": [
       "<div class=\"section rtl\"><a target=\"_blank\" href=\"https://shebanq.ancient-data.org/hebrew/text?book=Jeremia&amp;chapter=1&amp;verse=12&amp;version=2017&amp;mr=m&amp;qw=q&amp;tp=txt_p&amp;tr=hb&amp;wget=v&amp;qget=v&amp;nget=vt\" title=\"Show this on SHEBANQ\" sec=\"Jeremiah 1:12\">Jeremiah 1:12</a></div><div class=\"rtl children\"><div class=\"contnr c2  rtl  \" ><div class=\"lbl c2  \" ><span class=\"nd\">clause</span></div><div class=\"children hor wrap rtl\"><div class=\"contnr c1  rtl  \" ><div class=\"lbl c1  \" ><span class=\"nd\">phrase</span></div><div class=\"children hor wrap rtl\"><div class=\"contnr c0 trm rtl  \" ><div class=\"lbl c0 trm \" ><a class=\" txtu hbo\" target=\"_blank\" href=\"https://shebanq.ancient-data.org/hebrew/word?version=2017&amp;id=1KJ\" title=\"Show this on SHEBANQ\"><span class=\"txtu hbo\">כִּֽי־</span></a></div><div class='features'><span class=\"g_cons xft\" ><span class=\"f\">g_cons=</span>KJ</span><span class=\"lex xft\" ><span class=\"f\">lex=</span>KJ</span></div></div></div></div><div class=\"contnr c1  rtl  \" ><div class=\"lbl c1  \" ><span class=\"nd\">phrase</span></div><div class=\"children hor wrap rtl\"><div class=\"contnr c0 trm rtl  hl\" ><div class=\"lbl c0 trm hl\" ><a class=\" txtu hbo\" target=\"_blank\" href=\"https://shebanq.ancient-data.org/hebrew/word?version=2017&amp;id=1CQDv\" title=\"Show this on SHEBANQ\"><span class=\"txtu hbo\">שֹׁקֵ֥ד </span></a></div><div class='features'><span class=\"g_cons xft\" ><span class=\"f\">g_cons=</span>CQD</span><span class=\"lex xft\" ><span class=\"f\">lex=</span>CQD[</span></div></div></div></div><div class=\"contnr c1  rtl  \" ><div class=\"lbl c1  \" ><span class=\"nd\">phrase</span></div><div class=\"children hor wrap rtl\"><div class=\"contnr c0 trm rtl  \" ><div class=\"lbl c0 trm \" ><a class=\" txtu hbo\" target=\"_blank\" href=\"https://shebanq.ancient-data.org/hebrew/word?version=2017&amp;id=1ANJ\" title=\"Show this on SHEBANQ\"><span class=\"txtu hbo\">אֲנִ֛י </span></a></div><div class='features'><span class=\"g_cons xft\" ><span class=\"f\">g_cons=</span>>NJ</span><span class=\"lex xft\" ><span class=\"f\">lex=</span>>NJ</span></div></div></div></div><div class=\"contnr c1  rtl  \" ><div class=\"lbl c1  \" ><span class=\"nd\">phrase</span></div><div class=\"children hor wrap rtl\"><div class=\"contnr c0 trm rtl  \" ><div class=\"lbl c0 trm \" ><a class=\" txtu hbo\" target=\"_blank\" href=\"https://shebanq.ancient-data.org/hebrew/word?version=2017&amp;id=1OL\" title=\"Show this on SHEBANQ\"><span class=\"txtu hbo\">עַל־</span></a></div><div class='features'><span class=\"g_cons xft\" ><span class=\"f\">g_cons=</span>&lt;L</span><span class=\"lex xft\" ><span class=\"f\">lex=</span>&lt;L</span></div></div><div class=\"contnr c0 trm rtl  \" ><div class=\"lbl c0 trm \" ><a class=\" txtu hbo\" target=\"_blank\" href=\"https://shebanq.ancient-data.org/hebrew/word?version=2017&amp;id=1DBRn\" title=\"Show this on SHEBANQ\"><span class=\"txtu hbo\">דְּבָרִ֖י </span></a></div><div class='features'><span class=\"g_cons xft\" ><span class=\"f\">g_cons=</span>DBRJ</span><span class=\"lex xft\" ><span class=\"f\">lex=</span>DBR/</span></div></div></div></div></div></div></div>"
      ],
      "text/plain": [
       "<IPython.core.display.HTML object>"
      ]
     },
     "metadata": {},
     "output_type": "display_data"
    },
    {
     "data": {
      "text/html": [
       "<p><b>result</b> <i>2</i></p>"
      ],
      "text/plain": [
       "<IPython.core.display.HTML object>"
      ]
     },
     "metadata": {},
     "output_type": "display_data"
    },
    {
     "data": {
      "text/html": [
       "<div class=\"section rtl\"><a target=\"_blank\" href=\"https://shebanq.ancient-data.org/hebrew/text?book=Jeremia&amp;chapter=2&amp;verse=13&amp;version=2017&amp;mr=m&amp;qw=q&amp;tp=txt_p&amp;tr=hb&amp;wget=v&amp;qget=v&amp;nget=vt\" title=\"Show this on SHEBANQ\" sec=\"Jeremiah 2:13\">Jeremiah 2:13</a></div><div class=\"rtl children\"><div class=\"contnr c2  rtl  \" ><div class=\"lbl c2  \" ><span class=\"nd\">clause</span></div><div class=\"children hor wrap rtl\"><div class=\"contnr c1  rtl  \" ><div class=\"lbl c1  \" ><span class=\"nd\">phrase</span></div><div class=\"children hor wrap rtl\"><div class=\"contnr c0 trm rtl  \" ><div class=\"lbl c0 trm \" ><a class=\" txtu hbo\" target=\"_blank\" href=\"https://shebanq.ancient-data.org/hebrew/word?version=2017&amp;id=1ACR\" title=\"Show this on SHEBANQ\"><span class=\"txtu hbo\">אֲשֶׁ֥ר </span></a></div><div class='features'><span class=\"g_cons xft\" ><span class=\"f\">g_cons=</span>>CR</span><span class=\"lex xft\" ><span class=\"f\">lex=</span>>CR</span></div></div></div></div><div class=\"contnr c1  rtl  \" ><div class=\"lbl c1  \" ><span class=\"nd\">phrase</span></div><div class=\"children hor wrap rtl\"><div class=\"contnr c0 trm rtl  \" ><div class=\"lbl c0 trm \" ><a class=\" txtu hbo\" target=\"_blank\" href=\"https://shebanq.ancient-data.org/hebrew/word?version=2017&amp;id=1LA\" title=\"Show this on SHEBANQ\"><span class=\"txtu hbo\">לֹא־</span></a></div><div class='features'><span class=\"g_cons xft\" ><span class=\"f\">g_cons=</span>L></span><span class=\"lex xft\" ><span class=\"f\">lex=</span>L></span></div></div></div></div><div class=\"contnr c1  rtl  \" ><div class=\"lbl c1  \" ><span class=\"nd\">phrase</span></div><div class=\"children hor wrap rtl\"><div class=\"contnr c0 trm rtl  \" ><div class=\"lbl c0 trm \" ><a class=\" txtu hbo\" target=\"_blank\" href=\"https://shebanq.ancient-data.org/hebrew/word?version=2017&amp;id=1KWLv\" title=\"Show this on SHEBANQ\"><span class=\"txtu hbo\">יָכִ֖לוּ </span></a></div><div class='features'><span class=\"g_cons xft\" ><span class=\"f\">g_cons=</span>JKLW</span><span class=\"lex xft\" ><span class=\"f\">lex=</span>KWL[</span></div></div></div></div><div class=\"contnr c1  rtl  \" ><div class=\"lbl c1  \" ><span class=\"nd\">phrase</span></div><div class=\"children hor wrap rtl\"><div class=\"contnr c0 trm rtl  hl\" ><div class=\"lbl c0 trm hl\" ><a class=\" txtu hbo\" target=\"_blank\" href=\"https://shebanq.ancient-data.org/hebrew/word?version=2017&amp;id=1H\" title=\"Show this on SHEBANQ\"><span class=\"txtu hbo\">הַ</span></a></div><div class='features'><span class=\"g_cons xft\" ><span class=\"f\">g_cons=</span>H</span><span class=\"lex xft\" ><span class=\"f\">lex=</span>H</span></div></div><div class=\"contnr c0 trm rtl  \" ><div class=\"lbl c0 trm \" ><a class=\" txtu hbo\" target=\"_blank\" href=\"https://shebanq.ancient-data.org/hebrew/word?version=2017&amp;id=1MJMn\" title=\"Show this on SHEBANQ\"><span class=\"txtu hbo\">מָּֽיִם׃ </span></a></div><div class='features'><span class=\"g_cons xft\" ><span class=\"f\">g_cons=</span>MJM</span><span class=\"lex xft\" ><span class=\"f\">lex=</span>MJM/</span></div></div></div></div></div></div></div>"
      ],
      "text/plain": [
       "<IPython.core.display.HTML object>"
      ]
     },
     "metadata": {},
     "output_type": "display_data"
    },
    {
     "data": {
      "text/html": [
       "<div class=\"section rtl\"><a target=\"_blank\" href=\"https://shebanq.ancient-data.org/hebrew/text?book=Jeremia&amp;chapter=2&amp;verse=14&amp;version=2017&amp;mr=m&amp;qw=q&amp;tp=txt_p&amp;tr=hb&amp;wget=v&amp;qget=v&amp;nget=vt\" title=\"Show this on SHEBANQ\" sec=\"Jeremiah 2:14\">Jeremiah 2:14</a></div><div class=\"rtl children\"><div class=\"contnr c2  rtl  \" ><div class=\"lbl c2  \" ><span class=\"nd\">clause</span></div><div class=\"children hor wrap rtl\"><div class=\"contnr c1  rtl  \" ><div class=\"lbl c1  \" ><span class=\"nd\">phrase</span></div><div class=\"children hor wrap rtl\"><div class=\"contnr c0 trm rtl  hl\" ><div class=\"lbl c0 trm hl\" ><a class=\" txtu hbo\" target=\"_blank\" href=\"https://shebanq.ancient-data.org/hebrew/word?version=2017&amp;id=1Hi\" title=\"Show this on SHEBANQ\"><span class=\"txtu hbo\">הַ</span></a></div><div class='features'><span class=\"g_cons xft\" ><span class=\"f\">g_cons=</span>H</span><span class=\"lex xft\" ><span class=\"f\">lex=</span>H=</span></div></div></div></div><div class=\"contnr c1  rtl  \" ><div class=\"lbl c1  \" ><span class=\"nd\">phrase</span></div><div class=\"children hor wrap rtl\"><div class=\"contnr c0 trm rtl  \" ><div class=\"lbl c0 trm \" ><a class=\" txtu hbo\" target=\"_blank\" href=\"https://shebanq.ancient-data.org/hebrew/word?version=2017&amp;id=1OBDn\" title=\"Show this on SHEBANQ\"><span class=\"txtu hbo\">עֶ֨בֶד֙ </span></a></div><div class='features'><span class=\"g_cons xft\" ><span class=\"f\">g_cons=</span>&lt;BD</span><span class=\"lex xft\" ><span class=\"f\">lex=</span>&lt;BD/</span></div></div></div></div><div class=\"contnr c1  rtl  \" ><div class=\"lbl c1  \" ><span class=\"nd\">phrase</span></div><div class=\"children hor wrap rtl\"><div class=\"contnr c0 trm rtl  \" ><div class=\"lbl c0 trm \" ><a class=\" txtu hbo\" target=\"_blank\" href=\"https://shebanq.ancient-data.org/hebrew/word?version=2017&amp;id=1JFRALn\" title=\"Show this on SHEBANQ\"><span class=\"txtu hbo\">יִשְׂרָאֵ֔ל </span></a></div><div class='features'><span class=\"g_cons xft\" ><span class=\"f\">g_cons=</span>JFR>L</span><span class=\"lex xft\" ><span class=\"f\">lex=</span>JFR>L/</span></div></div></div></div></div></div></div>"
      ],
      "text/plain": [
       "<IPython.core.display.HTML object>"
      ]
     },
     "metadata": {},
     "output_type": "display_data"
    },
    {
     "data": {
      "text/html": [
       "<p><b>result</b> <i>3</i></p>"
      ],
      "text/plain": [
       "<IPython.core.display.HTML object>"
      ]
     },
     "metadata": {},
     "output_type": "display_data"
    },
    {
     "data": {
      "text/html": [
       "<div class=\"section rtl\"><a target=\"_blank\" href=\"https://shebanq.ancient-data.org/hebrew/text?book=Jeremia&amp;chapter=2&amp;verse=31&amp;version=2017&amp;mr=m&amp;qw=q&amp;tp=txt_p&amp;tr=hb&amp;wget=v&amp;qget=v&amp;nget=vt\" title=\"Show this on SHEBANQ\" sec=\"Jeremiah 2:31\">Jeremiah 2:31</a></div><div class=\"rtl children\"><div class=\"contnr c2  rtl  \" ><div class=\"lbl c2  \" ><span class=\"nd\">clause</span></div><div class=\"children hor wrap rtl\"><div class=\"contnr c1  rtl  \" ><div class=\"lbl c1  \" ><span class=\"nd\">phrase</span></div><div class=\"children hor wrap rtl\"><div class=\"contnr c0 trm rtl  hl\" ><div class=\"lbl c0 trm hl\" ><a class=\" txtu hbo\" target=\"_blank\" href=\"https://shebanq.ancient-data.org/hebrew/word?version=2017&amp;id=1H\" title=\"Show this on SHEBANQ\"><span class=\"txtu hbo\">הַ</span></a></div><div class='features'><span class=\"g_cons xft\" ><span class=\"f\">g_cons=</span>H</span><span class=\"lex xft\" ><span class=\"f\">lex=</span>H</span></div></div><div class=\"contnr c0 trm rtl  \" ><div class=\"lbl c0 trm \" ><a class=\" txtu hbo\" target=\"_blank\" href=\"https://shebanq.ancient-data.org/hebrew/word?version=2017&amp;id=1DWRn\" title=\"Show this on SHEBANQ\"><span class=\"txtu hbo\">דֹּ֗ור </span></a></div><div class='features'><span class=\"g_cons xft\" ><span class=\"f\">g_cons=</span>DWR</span><span class=\"lex xft\" ><span class=\"f\">lex=</span>DWR/</span></div></div></div></div></div></div></div>"
      ],
      "text/plain": [
       "<IPython.core.display.HTML object>"
      ]
     },
     "metadata": {},
     "output_type": "display_data"
    },
    {
     "data": {
      "text/html": [
       "<div class=\"section rtl\"><a target=\"_blank\" href=\"https://shebanq.ancient-data.org/hebrew/text?book=Jeremia&amp;chapter=2&amp;verse=31&amp;version=2017&amp;mr=m&amp;qw=q&amp;tp=txt_p&amp;tr=hb&amp;wget=v&amp;qget=v&amp;nget=vt\" title=\"Show this on SHEBANQ\" sec=\"Jeremiah 2:31\">Jeremiah 2:31</a></div><div class=\"rtl children\"><div class=\"contnr c2  rtl  \" ><div class=\"lbl c2  \" ><span class=\"nd\">clause</span></div><div class=\"children hor wrap rtl\"><div class=\"contnr c1  rtl  \" ><div class=\"lbl c1  \" ><span class=\"nd\">phrase</span></div><div class=\"children hor wrap rtl\"><div class=\"contnr c0 trm rtl  hl\" ><div class=\"lbl c0 trm hl\" ><a class=\" txtu hbo\" target=\"_blank\" href=\"https://shebanq.ancient-data.org/hebrew/word?version=2017&amp;id=1Hi\" title=\"Show this on SHEBANQ\"><span class=\"txtu hbo\">הֲ</span></a></div><div class='features'><span class=\"g_cons xft\" ><span class=\"f\">g_cons=</span>H</span><span class=\"lex xft\" ><span class=\"f\">lex=</span>H=</span></div></div></div></div><div class=\"contnr c1  rtl  \" ><div class=\"lbl c1  \" ><span class=\"nd\">phrase</span></div><div class=\"children hor wrap rtl\"><div class=\"contnr c0 trm rtl  \" ><div class=\"lbl c0 trm \" ><a class=\" txtu hbo\" target=\"_blank\" href=\"https://shebanq.ancient-data.org/hebrew/word?version=2017&amp;id=1MDBRn\" title=\"Show this on SHEBANQ\"><span class=\"txtu hbo\">מִדְבָּ֤ר </span></a></div><div class='features'><span class=\"g_cons xft\" ><span class=\"f\">g_cons=</span>MDBR</span><span class=\"lex xft\" ><span class=\"f\">lex=</span>MDBR/</span></div></div></div></div><div class=\"contnr c1  rtl  \" ><div class=\"lbl c1  \" ><span class=\"nd\">phrase</span></div><div class=\"children hor wrap rtl\"><div class=\"contnr c0 trm rtl  \" ><div class=\"lbl c0 trm \" ><a class=\" txtu hbo\" target=\"_blank\" href=\"https://shebanq.ancient-data.org/hebrew/word?version=2017&amp;id=1HJHv\" title=\"Show this on SHEBANQ\"><span class=\"txtu hbo\">הָיִ֨יתִי֙ </span></a></div><div class='features'><span class=\"g_cons xft\" ><span class=\"f\">g_cons=</span>HJJTJ</span><span class=\"lex xft\" ><span class=\"f\">lex=</span>HJH[</span></div></div></div></div><div class=\"contnr c1  rtl  \" ><div class=\"lbl c1  \" ><span class=\"nd\">phrase</span></div><div class=\"children hor wrap rtl\"><div class=\"contnr c0 trm rtl  \" ><div class=\"lbl c0 trm \" ><a class=\" txtu hbo\" target=\"_blank\" href=\"https://shebanq.ancient-data.org/hebrew/word?version=2017&amp;id=1L\" title=\"Show this on SHEBANQ\"><span class=\"txtu hbo\">לְ</span></a></div><div class='features'><span class=\"g_cons xft\" ><span class=\"f\">g_cons=</span>L</span><span class=\"lex xft\" ><span class=\"f\">lex=</span>L</span></div></div><div class=\"contnr c0 trm rtl  \" ><div class=\"lbl c0 trm \" ><a class=\" txtu hbo\" target=\"_blank\" href=\"https://shebanq.ancient-data.org/hebrew/word?version=2017&amp;id=1JFRALn\" title=\"Show this on SHEBANQ\"><span class=\"txtu hbo\">יִשְׂרָאֵ֔ל </span></a></div><div class='features'><span class=\"g_cons xft\" ><span class=\"f\">g_cons=</span>JFR>L</span><span class=\"lex xft\" ><span class=\"f\">lex=</span>JFR>L/</span></div></div></div></div></div></div></div>"
      ],
      "text/plain": [
       "<IPython.core.display.HTML object>"
      ]
     },
     "metadata": {},
     "output_type": "display_data"
    }
   ],
   "source": [
    "A.show(results, condenseType=\"clause\", end=3, skipCols=\"1\")"
   ]
  },
  {
   "cell_type": "markdown",
   "metadata": {},
   "source": [
    "Let's try the whole Bible in this way:"
   ]
  },
  {
   "cell_type": "code",
   "execution_count": 30,
   "metadata": {},
   "outputs": [],
   "source": [
    "query = \"\"\"\n",
    "w1:word\n",
    "<20: w2:word\n",
    "\n",
    "w1 < w2\n",
    "w1 .g_cons=g_cons. w2\n",
    "w1 .lex#lex. w2\n",
    "\"\"\""
   ]
  },
  {
   "cell_type": "code",
   "execution_count": 31,
   "metadata": {},
   "outputs": [
    {
     "name": "stdout",
     "output_type": "stream",
     "text": [
      "    15s 3423 results\n"
     ]
    }
   ],
   "source": [
    "results = A.search(query)"
   ]
  },
  {
   "cell_type": "markdown",
   "metadata": {},
   "source": [
    "TF is struggling with it, but it delivers!"
   ]
  },
  {
   "cell_type": "code",
   "execution_count": 32,
   "metadata": {},
   "outputs": [
    {
     "data": {
      "text/html": [
       "<p><b>result</b> <i>1</i></p>"
      ],
      "text/plain": [
       "<IPython.core.display.HTML object>"
      ]
     },
     "metadata": {},
     "output_type": "display_data"
    },
    {
     "data": {
      "text/html": [
       "<div class=\"section rtl\"><a target=\"_blank\" href=\"https://shebanq.ancient-data.org/hebrew/text?book=Genesis&amp;chapter=1&amp;verse=26&amp;version=2017&amp;mr=m&amp;qw=q&amp;tp=txt_p&amp;tr=hb&amp;wget=v&amp;qget=v&amp;nget=vt\" title=\"Show this on SHEBANQ\" sec=\"Genesis 1:26\">Genesis 1:26</a></div><div class=\"rtl children\"><div class=\"contnr c2  rtl  \" ><div class=\"lbl c2  \" ><span class=\"nd\">clause</span></div><div class=\"children hor wrap rtl\"><div class=\"contnr c1  rtl  \" ><div class=\"lbl c1  \" ><span class=\"nd\">phrase</span></div><div class=\"children hor wrap rtl\"><div class=\"contnr c0 trm rtl  \" ><div class=\"lbl c0 trm \" ><a class=\" txtu hbo\" target=\"_blank\" href=\"https://shebanq.ancient-data.org/hebrew/word?version=2017&amp;id=1W\" title=\"Show this on SHEBANQ\"><span class=\"txtu hbo\">וְ</span></a></div><div class='features'><span class=\"g_cons xft\" ><span class=\"f\">g_cons=</span>W</span><span class=\"lex xft\" ><span class=\"f\">lex=</span>W</span></div></div></div></div><div class=\"contnr c1  rtl  \" ><div class=\"lbl c1  \" ><span class=\"nd\">phrase</span></div><div class=\"children hor wrap rtl\"><div class=\"contnr c0 trm rtl  \" ><div class=\"lbl c0 trm \" ><a class=\" txtu hbo\" target=\"_blank\" href=\"https://shebanq.ancient-data.org/hebrew/word?version=2017&amp;id=1RDHv\" title=\"Show this on SHEBANQ\"><span class=\"txtu hbo\">יִרְדּוּ֩ </span></a></div><div class='features'><span class=\"g_cons xft\" ><span class=\"f\">g_cons=</span>JRDW</span><span class=\"lex xft\" ><span class=\"f\">lex=</span>RDH[</span></div></div></div></div><div class=\"contnr c1  rtl  \" ><div class=\"lbl c1  \" ><span class=\"nd\">phrase</span></div><div class=\"children hor wrap rtl\"><div class=\"contnr c0 trm rtl  \" ><div class=\"lbl c0 trm \" ><a class=\" txtu hbo\" target=\"_blank\" href=\"https://shebanq.ancient-data.org/hebrew/word?version=2017&amp;id=1B\" title=\"Show this on SHEBANQ\"><span class=\"txtu hbo\">בִ</span></a></div><div class='features'><span class=\"g_cons xft\" ><span class=\"f\">g_cons=</span>B</span><span class=\"lex xft\" ><span class=\"f\">lex=</span>B</span></div></div><div class=\"contnr c0 trm rtl  \" ><div class=\"lbl c0 trm \" ><a class=\" txtu hbo\" target=\"_blank\" href=\"https://shebanq.ancient-data.org/hebrew/word?version=2017&amp;id=1DGHn\" title=\"Show this on SHEBANQ\"><span class=\"txtu hbo\">דְגַ֨ת </span></a></div><div class='features'><span class=\"g_cons xft\" ><span class=\"f\">g_cons=</span>DGT</span><span class=\"lex xft\" ><span class=\"f\">lex=</span>DGH/</span></div></div><div class=\"contnr c0 trm rtl  \" ><div class=\"lbl c0 trm \" ><a class=\" txtu hbo\" target=\"_blank\" href=\"https://shebanq.ancient-data.org/hebrew/word?version=2017&amp;id=1H\" title=\"Show this on SHEBANQ\"><span class=\"txtu hbo\">הַ</span></a></div><div class='features'><span class=\"g_cons xft\" ><span class=\"f\">g_cons=</span>H</span><span class=\"lex xft\" ><span class=\"f\">lex=</span>H</span></div></div><div class=\"contnr c0 trm rtl  \" ><div class=\"lbl c0 trm \" ><a class=\" txtu hbo\" target=\"_blank\" href=\"https://shebanq.ancient-data.org/hebrew/word?version=2017&amp;id=1JMn\" title=\"Show this on SHEBANQ\"><span class=\"txtu hbo\">יָּ֜ם </span></a></div><div class='features'><span class=\"g_cons xft\" ><span class=\"f\">g_cons=</span>JM</span><span class=\"lex xft\" ><span class=\"f\">lex=</span>JM/</span></div></div><div class=\"contnr c0 trm rtl  \" ><div class=\"lbl c0 trm \" ><a class=\" txtu hbo\" target=\"_blank\" href=\"https://shebanq.ancient-data.org/hebrew/word?version=2017&amp;id=1W\" title=\"Show this on SHEBANQ\"><span class=\"txtu hbo\">וּ</span></a></div><div class='features'><span class=\"g_cons xft\" ><span class=\"f\">g_cons=</span>W</span><span class=\"lex xft\" ><span class=\"f\">lex=</span>W</span></div></div><div class=\"contnr c0 trm rtl  \" ><div class=\"lbl c0 trm \" ><a class=\" txtu hbo\" target=\"_blank\" href=\"https://shebanq.ancient-data.org/hebrew/word?version=2017&amp;id=1B\" title=\"Show this on SHEBANQ\"><span class=\"txtu hbo\">בְ</span></a></div><div class='features'><span class=\"g_cons xft\" ><span class=\"f\">g_cons=</span>B</span><span class=\"lex xft\" ><span class=\"f\">lex=</span>B</span></div></div><div class=\"contnr c0 trm rtl  \" ><div class=\"lbl c0 trm \" ><a class=\" txtu hbo\" target=\"_blank\" href=\"https://shebanq.ancient-data.org/hebrew/word?version=2017&amp;id=1OWPn\" title=\"Show this on SHEBANQ\"><span class=\"txtu hbo\">עֹ֣וף </span></a></div><div class='features'><span class=\"g_cons xft\" ><span class=\"f\">g_cons=</span>&lt;WP</span><span class=\"lex xft\" ><span class=\"f\">lex=</span>&lt;WP/</span></div></div><div class=\"contnr c0 trm rtl  \" ><div class=\"lbl c0 trm \" ><a class=\" txtu hbo\" target=\"_blank\" href=\"https://shebanq.ancient-data.org/hebrew/word?version=2017&amp;id=1H\" title=\"Show this on SHEBANQ\"><span class=\"txtu hbo\">הַ</span></a></div><div class='features'><span class=\"g_cons xft\" ><span class=\"f\">g_cons=</span>H</span><span class=\"lex xft\" ><span class=\"f\">lex=</span>H</span></div></div><div class=\"contnr c0 trm rtl  \" ><div class=\"lbl c0 trm \" ><a class=\" txtu hbo\" target=\"_blank\" href=\"https://shebanq.ancient-data.org/hebrew/word?version=2017&amp;id=1CMJMn\" title=\"Show this on SHEBANQ\"><span class=\"txtu hbo\">שָּׁמַ֗יִם </span></a></div><div class='features'><span class=\"g_cons xft\" ><span class=\"f\">g_cons=</span>CMJM</span><span class=\"lex xft\" ><span class=\"f\">lex=</span>CMJM/</span></div></div><div class=\"contnr c0 trm rtl  \" ><div class=\"lbl c0 trm \" ><a class=\" txtu hbo\" target=\"_blank\" href=\"https://shebanq.ancient-data.org/hebrew/word?version=2017&amp;id=1W\" title=\"Show this on SHEBANQ\"><span class=\"txtu hbo\">וּ</span></a></div><div class='features'><span class=\"g_cons xft\" ><span class=\"f\">g_cons=</span>W</span><span class=\"lex xft\" ><span class=\"f\">lex=</span>W</span></div></div><div class=\"contnr c0 trm rtl  \" ><div class=\"lbl c0 trm \" ><a class=\" txtu hbo\" target=\"_blank\" href=\"https://shebanq.ancient-data.org/hebrew/word?version=2017&amp;id=1B\" title=\"Show this on SHEBANQ\"><span class=\"txtu hbo\">בַ</span></a></div><div class='features'><span class=\"g_cons xft\" ><span class=\"f\">g_cons=</span>B</span><span class=\"lex xft\" ><span class=\"f\">lex=</span>B</span></div></div><div class=\"contnr c0 trm rtl  \" ><div class=\"lbl c0 trm \" ><a class=\" txtu hbo\" target=\"_blank\" href=\"https://shebanq.ancient-data.org/hebrew/word?version=2017&amp;id=1H\" title=\"Show this on SHEBANQ\"></a></div><div class='features'><span class=\"g_cons xft\" ><span class=\"f\">g_cons=</span></span><span class=\"lex xft\" ><span class=\"f\">lex=</span>H</span></div></div><div class=\"contnr c0 trm rtl  \" ><div class=\"lbl c0 trm \" ><a class=\" txtu hbo\" target=\"_blank\" href=\"https://shebanq.ancient-data.org/hebrew/word?version=2017&amp;id=1BHMHn\" title=\"Show this on SHEBANQ\"><span class=\"txtu hbo\">בְּהֵמָה֙ </span></a></div><div class='features'><span class=\"g_cons xft\" ><span class=\"f\">g_cons=</span>BHMH</span><span class=\"lex xft\" ><span class=\"f\">lex=</span>BHMH/</span></div></div><div class=\"contnr c0 trm rtl  \" ><div class=\"lbl c0 trm \" ><a class=\" txtu hbo\" target=\"_blank\" href=\"https://shebanq.ancient-data.org/hebrew/word?version=2017&amp;id=1W\" title=\"Show this on SHEBANQ\"><span class=\"txtu hbo\">וּ</span></a></div><div class='features'><span class=\"g_cons xft\" ><span class=\"f\">g_cons=</span>W</span><span class=\"lex xft\" ><span class=\"f\">lex=</span>W</span></div></div><div class=\"contnr c0 trm rtl  \" ><div class=\"lbl c0 trm \" ><a class=\" txtu hbo\" target=\"_blank\" href=\"https://shebanq.ancient-data.org/hebrew/word?version=2017&amp;id=1B\" title=\"Show this on SHEBANQ\"><span class=\"txtu hbo\">בְ</span></a></div><div class='features'><span class=\"g_cons xft\" ><span class=\"f\">g_cons=</span>B</span><span class=\"lex xft\" ><span class=\"f\">lex=</span>B</span></div></div><div class=\"contnr c0 trm rtl  \" ><div class=\"lbl c0 trm \" ><a class=\" txtu hbo\" target=\"_blank\" href=\"https://shebanq.ancient-data.org/hebrew/word?version=2017&amp;id=1KLn\" title=\"Show this on SHEBANQ\"><span class=\"txtu hbo\">כָל־</span></a></div><div class='features'><span class=\"g_cons xft\" ><span class=\"f\">g_cons=</span>KL</span><span class=\"lex xft\" ><span class=\"f\">lex=</span>KL/</span></div></div><div class=\"contnr c0 trm rtl  \" ><div class=\"lbl c0 trm \" ><a class=\" txtu hbo\" target=\"_blank\" href=\"https://shebanq.ancient-data.org/hebrew/word?version=2017&amp;id=1H\" title=\"Show this on SHEBANQ\"><span class=\"txtu hbo\">הָ</span></a></div><div class='features'><span class=\"g_cons xft\" ><span class=\"f\">g_cons=</span>H</span><span class=\"lex xft\" ><span class=\"f\">lex=</span>H</span></div></div><div class=\"contnr c0 trm rtl  \" ><div class=\"lbl c0 trm \" ><a class=\" txtu hbo\" target=\"_blank\" href=\"https://shebanq.ancient-data.org/hebrew/word?version=2017&amp;id=1ARYn\" title=\"Show this on SHEBANQ\"><span class=\"txtu hbo\">אָ֔רֶץ </span></a></div><div class='features'><span class=\"g_cons xft\" ><span class=\"f\">g_cons=</span>>RY</span><span class=\"lex xft\" ><span class=\"f\">lex=</span>>RY/</span></div></div><div class=\"contnr c0 trm rtl  \" ><div class=\"lbl c0 trm \" ><a class=\" txtu hbo\" target=\"_blank\" href=\"https://shebanq.ancient-data.org/hebrew/word?version=2017&amp;id=1W\" title=\"Show this on SHEBANQ\"><span class=\"txtu hbo\">וּ</span></a></div><div class='features'><span class=\"g_cons xft\" ><span class=\"f\">g_cons=</span>W</span><span class=\"lex xft\" ><span class=\"f\">lex=</span>W</span></div></div><div class=\"contnr c0 trm rtl  \" ><div class=\"lbl c0 trm \" ><a class=\" txtu hbo\" target=\"_blank\" href=\"https://shebanq.ancient-data.org/hebrew/word?version=2017&amp;id=1B\" title=\"Show this on SHEBANQ\"><span class=\"txtu hbo\">בְ</span></a></div><div class='features'><span class=\"g_cons xft\" ><span class=\"f\">g_cons=</span>B</span><span class=\"lex xft\" ><span class=\"f\">lex=</span>B</span></div></div><div class=\"contnr c0 trm rtl  \" ><div class=\"lbl c0 trm \" ><a class=\" txtu hbo\" target=\"_blank\" href=\"https://shebanq.ancient-data.org/hebrew/word?version=2017&amp;id=1KLn\" title=\"Show this on SHEBANQ\"><span class=\"txtu hbo\">כָל־</span></a></div><div class='features'><span class=\"g_cons xft\" ><span class=\"f\">g_cons=</span>KL</span><span class=\"lex xft\" ><span class=\"f\">lex=</span>KL/</span></div></div><div class=\"contnr c0 trm rtl  \" ><div class=\"lbl c0 trm \" ><a class=\" txtu hbo\" target=\"_blank\" href=\"https://shebanq.ancient-data.org/hebrew/word?version=2017&amp;id=1H\" title=\"Show this on SHEBANQ\"><span class=\"txtu hbo\">הָ</span></a></div><div class='features'><span class=\"g_cons xft\" ><span class=\"f\">g_cons=</span>H</span><span class=\"lex xft\" ><span class=\"f\">lex=</span>H</span></div></div><div class=\"contnr c0 trm rtl  hl\" ><div class=\"lbl c0 trm hl\" ><a class=\" txtu hbo\" target=\"_blank\" href=\"https://shebanq.ancient-data.org/hebrew/word?version=2017&amp;id=1RMFn\" title=\"Show this on SHEBANQ\"><span class=\"txtu hbo\">רֶ֖מֶשׂ </span></a></div><div class='features'><span class=\"g_cons xft\" ><span class=\"f\">g_cons=</span>RMF</span><span class=\"lex xft\" ><span class=\"f\">lex=</span>RMF/</span></div></div></div></div></div></div></div>"
      ],
      "text/plain": [
       "<IPython.core.display.HTML object>"
      ]
     },
     "metadata": {},
     "output_type": "display_data"
    },
    {
     "data": {
      "text/html": [
       "<div class=\"section rtl\"><a target=\"_blank\" href=\"https://shebanq.ancient-data.org/hebrew/text?book=Genesis&amp;chapter=1&amp;verse=26&amp;version=2017&amp;mr=m&amp;qw=q&amp;tp=txt_p&amp;tr=hb&amp;wget=v&amp;qget=v&amp;nget=vt\" title=\"Show this on SHEBANQ\" sec=\"Genesis 1:26\">Genesis 1:26</a></div><div class=\"rtl children\"><div class=\"contnr c2  rtl  \" ><div class=\"lbl c2  \" ><span class=\"nd\">clause</span></div><div class=\"children hor wrap rtl\"><div class=\"contnr c1  rtl  \" ><div class=\"lbl c1  \" ><span class=\"nd\">phrase</span></div><div class=\"children hor wrap rtl\"><div class=\"contnr c0 trm rtl  \" ><div class=\"lbl c0 trm \" ><a class=\" txtu hbo\" target=\"_blank\" href=\"https://shebanq.ancient-data.org/hebrew/word?version=2017&amp;id=1H\" title=\"Show this on SHEBANQ\"><span class=\"txtu hbo\">הָֽ</span></a></div><div class='features'><span class=\"g_cons xft\" ><span class=\"f\">g_cons=</span>H</span><span class=\"lex xft\" ><span class=\"f\">lex=</span>H</span></div></div></div></div><div class=\"contnr c1  rtl  \" ><div class=\"lbl c1  \" ><span class=\"nd\">phrase</span></div><div class=\"children hor wrap rtl\"><div class=\"contnr c0 trm rtl  hl\" ><div class=\"lbl c0 trm hl\" ><a class=\" txtu hbo\" target=\"_blank\" href=\"https://shebanq.ancient-data.org/hebrew/word?version=2017&amp;id=1RMFv\" title=\"Show this on SHEBANQ\"><span class=\"txtu hbo\">רֹמֵ֥שׂ </span></a></div><div class='features'><span class=\"g_cons xft\" ><span class=\"f\">g_cons=</span>RMF</span><span class=\"lex xft\" ><span class=\"f\">lex=</span>RMF[</span></div></div></div></div><div class=\"contnr c1  rtl  \" ><div class=\"lbl c1  \" ><span class=\"nd\">phrase</span></div><div class=\"children hor wrap rtl\"><div class=\"contnr c0 trm rtl  \" ><div class=\"lbl c0 trm \" ><a class=\" txtu hbo\" target=\"_blank\" href=\"https://shebanq.ancient-data.org/hebrew/word?version=2017&amp;id=1OL\" title=\"Show this on SHEBANQ\"><span class=\"txtu hbo\">עַל־</span></a></div><div class='features'><span class=\"g_cons xft\" ><span class=\"f\">g_cons=</span>&lt;L</span><span class=\"lex xft\" ><span class=\"f\">lex=</span>&lt;L</span></div></div><div class=\"contnr c0 trm rtl  \" ><div class=\"lbl c0 trm \" ><a class=\" txtu hbo\" target=\"_blank\" href=\"https://shebanq.ancient-data.org/hebrew/word?version=2017&amp;id=1H\" title=\"Show this on SHEBANQ\"><span class=\"txtu hbo\">הָ</span></a></div><div class='features'><span class=\"g_cons xft\" ><span class=\"f\">g_cons=</span>H</span><span class=\"lex xft\" ><span class=\"f\">lex=</span>H</span></div></div><div class=\"contnr c0 trm rtl  \" ><div class=\"lbl c0 trm \" ><a class=\" txtu hbo\" target=\"_blank\" href=\"https://shebanq.ancient-data.org/hebrew/word?version=2017&amp;id=1ARYn\" title=\"Show this on SHEBANQ\"><span class=\"txtu hbo\">אָֽרֶץ׃ </span></a></div><div class='features'><span class=\"g_cons xft\" ><span class=\"f\">g_cons=</span>>RY</span><span class=\"lex xft\" ><span class=\"f\">lex=</span>>RY/</span></div></div></div></div></div></div></div>"
      ],
      "text/plain": [
       "<IPython.core.display.HTML object>"
      ]
     },
     "metadata": {},
     "output_type": "display_data"
    },
    {
     "data": {
      "text/html": [
       "<p><b>result</b> <i>2</i></p>"
      ],
      "text/plain": [
       "<IPython.core.display.HTML object>"
      ]
     },
     "metadata": {},
     "output_type": "display_data"
    },
    {
     "data": {
      "text/html": [
       "<div class=\"section rtl\"><a target=\"_blank\" href=\"https://shebanq.ancient-data.org/hebrew/text?book=Genesis&amp;chapter=1&amp;verse=29&amp;version=2017&amp;mr=m&amp;qw=q&amp;tp=txt_p&amp;tr=hb&amp;wget=v&amp;qget=v&amp;nget=vt\" title=\"Show this on SHEBANQ\" sec=\"Genesis 1:29\">Genesis 1:29</a></div><div class=\"rtl children\"><div class=\"contnr c2  rtl  \" ><div class=\"lbl c2  \" ><span class=\"nd\">clause</span></div><div class=\"children hor wrap rtl\"><div class=\"contnr c1  rtl  \" ><div class=\"lbl c1  \" ><span class=\"nd\">phrase</span></div><div class=\"children hor wrap rtl\"><div class=\"contnr c0 trm rtl  hl\" ><div class=\"lbl c0 trm hl\" ><a class=\" txtu hbo\" target=\"_blank\" href=\"https://shebanq.ancient-data.org/hebrew/word?version=2017&amp;id=1ZROv\" title=\"Show this on SHEBANQ\"><span class=\"txtu hbo\">זֹרֵ֣עַ </span></a></div><div class='features'><span class=\"g_cons xft\" ><span class=\"f\">g_cons=</span>ZR&lt;</span><span class=\"lex xft\" ><span class=\"f\">lex=</span>ZR&lt;[</span></div></div></div></div><div class=\"contnr c1  rtl  \" ><div class=\"lbl c1  \" ><span class=\"nd\">phrase</span></div><div class=\"children hor wrap rtl\"><div class=\"contnr c0 trm rtl  hl\" ><div class=\"lbl c0 trm hl\" ><a class=\" txtu hbo\" target=\"_blank\" href=\"https://shebanq.ancient-data.org/hebrew/word?version=2017&amp;id=1ZROn\" title=\"Show this on SHEBANQ\"><span class=\"txtu hbo\">זֶ֗רַע </span></a></div><div class='features'><span class=\"g_cons xft\" ><span class=\"f\">g_cons=</span>ZR&lt;</span><span class=\"lex xft\" ><span class=\"f\">lex=</span>ZR&lt;/</span></div></div></div></div></div></div></div>"
      ],
      "text/plain": [
       "<IPython.core.display.HTML object>"
      ]
     },
     "metadata": {},
     "output_type": "display_data"
    },
    {
     "data": {
      "text/html": [
       "<p><b>result</b> <i>3</i></p>"
      ],
      "text/plain": [
       "<IPython.core.display.HTML object>"
      ]
     },
     "metadata": {},
     "output_type": "display_data"
    },
    {
     "data": {
      "text/html": [
       "<div class=\"section rtl\"><a target=\"_blank\" href=\"https://shebanq.ancient-data.org/hebrew/text?book=Genesis&amp;chapter=1&amp;verse=29&amp;version=2017&amp;mr=m&amp;qw=q&amp;tp=txt_p&amp;tr=hb&amp;wget=v&amp;qget=v&amp;nget=vt\" title=\"Show this on SHEBANQ\" sec=\"Genesis 1:29\">Genesis 1:29</a></div><div class=\"rtl children\"><div class=\"contnr c2  rtl  \" ><div class=\"lbl c2  \" ><span class=\"nd\">clause</span></div><div class=\"children hor wrap rtl\"><div class=\"contnr c1  rtl  \" ><div class=\"lbl c1  \" ><span class=\"nd\">phrase</span></div><div class=\"children hor wrap rtl\"><div class=\"contnr c0 trm rtl  hl\" ><div class=\"lbl c0 trm hl\" ><a class=\" txtu hbo\" target=\"_blank\" href=\"https://shebanq.ancient-data.org/hebrew/word?version=2017&amp;id=1ZROv\" title=\"Show this on SHEBANQ\"><span class=\"txtu hbo\">זֹרֵ֣עַ </span></a></div><div class='features'><span class=\"g_cons xft\" ><span class=\"f\">g_cons=</span>ZR&lt;</span><span class=\"lex xft\" ><span class=\"f\">lex=</span>ZR&lt;[</span></div></div></div></div><div class=\"contnr c1  rtl  \" ><div class=\"lbl c1  \" ><span class=\"nd\">phrase</span></div><div class=\"children hor wrap rtl\"><div class=\"contnr c0 trm rtl  \" ><div class=\"lbl c0 trm \" ><a class=\" txtu hbo\" target=\"_blank\" href=\"https://shebanq.ancient-data.org/hebrew/word?version=2017&amp;id=1ZROn\" title=\"Show this on SHEBANQ\"><span class=\"txtu hbo\">זֶ֗רַע </span></a></div><div class='features'><span class=\"g_cons xft\" ><span class=\"f\">g_cons=</span>ZR&lt;</span><span class=\"lex xft\" ><span class=\"f\">lex=</span>ZR&lt;/</span></div></div></div></div></div></div></div>"
      ],
      "text/plain": [
       "<IPython.core.display.HTML object>"
      ]
     },
     "metadata": {},
     "output_type": "display_data"
    },
    {
     "data": {
      "text/html": [
       "<div class=\"section rtl\"><a target=\"_blank\" href=\"https://shebanq.ancient-data.org/hebrew/text?book=Genesis&amp;chapter=1&amp;verse=29&amp;version=2017&amp;mr=m&amp;qw=q&amp;tp=txt_p&amp;tr=hb&amp;wget=v&amp;qget=v&amp;nget=vt\" title=\"Show this on SHEBANQ\" sec=\"Genesis 1:29\">Genesis 1:29</a></div><div class=\"rtl children\"><div class=\"contnr c2  rtl  \" ><div class=\"lbl c2  \" ><span class=\"nd\">clause</span></div><div class=\"children hor wrap rtl\"><div class=\"contnr c1  rtl  \" ><div class=\"lbl c1  \" ><span class=\"nd\">phrase</span></div><div class=\"children hor wrap rtl\"><div class=\"contnr c0 trm rtl  \" ><div class=\"lbl c0 trm \" ><a class=\" txtu hbo\" target=\"_blank\" href=\"https://shebanq.ancient-data.org/hebrew/word?version=2017&amp;id=1ZROv\" title=\"Show this on SHEBANQ\"><span class=\"txtu hbo\">זֹרֵ֣עַ </span></a></div><div class='features'><span class=\"g_cons xft\" ><span class=\"f\">g_cons=</span>ZR&lt;</span><span class=\"lex xft\" ><span class=\"f\">lex=</span>ZR&lt;[</span></div></div></div></div><div class=\"contnr c1  rtl  \" ><div class=\"lbl c1  \" ><span class=\"nd\">phrase</span></div><div class=\"children hor wrap rtl\"><div class=\"contnr c0 trm rtl  hl\" ><div class=\"lbl c0 trm hl\" ><a class=\" txtu hbo\" target=\"_blank\" href=\"https://shebanq.ancient-data.org/hebrew/word?version=2017&amp;id=1ZROn\" title=\"Show this on SHEBANQ\"><span class=\"txtu hbo\">זָ֑רַע </span></a></div><div class='features'><span class=\"g_cons xft\" ><span class=\"f\">g_cons=</span>ZR&lt;</span><span class=\"lex xft\" ><span class=\"f\">lex=</span>ZR&lt;/</span></div></div></div></div></div></div></div>"
      ],
      "text/plain": [
       "<IPython.core.display.HTML object>"
      ]
     },
     "metadata": {},
     "output_type": "display_data"
    }
   ],
   "source": [
    "A.show(results, condenseType=\"clause\", end=3)"
   ]
  },
  {
   "cell_type": "markdown",
   "metadata": {},
   "source": [
    "# By Martijn Naaijer\n",
    "## MQL\n",
    "\n",
    "[Martijn Naaijer: Object clauses with >CR](https://shebanq.ancient-data.org/hebrew/query?version=4b&id=997)\n",
    "\n",
    "```\n",
    "Select all objects where\n",
    "\n",
    "[clause rela = Objc\n",
    "   [word focus first lex = '>CR']\n",
    "]\n",
    "```\n",
    "\n",
    "157 results"
   ]
  },
  {
   "cell_type": "markdown",
   "metadata": {},
   "source": [
    "## TF"
   ]
  },
  {
   "cell_type": "code",
   "execution_count": 33,
   "metadata": {
    "ExecuteTime": {
     "end_time": "2018-05-07T08:04:19.788071Z",
     "start_time": "2018-05-07T08:04:18.781205Z"
    }
   },
   "outputs": [
    {
     "name": "stdout",
     "output_type": "stream",
     "text": [
      "  0.52s 96 results\n"
     ]
    },
    {
     "data": {
      "text/html": [
       "<table><tr class=\"tf rtl\"><th class=\"tf rtl\">n</th><th class=\"tf rtl\">p</th><th class=\"tf rtl\">verse</th><th class=\"tf\">clause</th><th class=\"tf\">word</th></tr>\n",
       "<tr class=\"tf rtl\"><td class=\"tf rtl\">1</td><td class=\"tf rtl\"><span class=\"section ltr\"><a target=\"_blank\" href=\"https://shebanq.ancient-data.org/hebrew/text?book=Genesis&amp;chapter=14&amp;verse=24&amp;version=2017&amp;mr=m&amp;qw=q&amp;tp=txt_p&amp;tr=hb&amp;wget=v&amp;qget=v&amp;nget=vt\" title=\"Show this on SHEBANQ\" sec=\"Genesis 14:24\">Genesis 14:24</a></span></td><td class=\"tf rtl\"><div class=\"rtl\"></div></td><td class=\"tf rtl\"><div class=\"rtl\"><span class=\"plain rtl  hlbx\" ><span class=\"plain rtl  hl\" ><span class=\"txtu hbo\">אֲשֶׁ֣ר </span></span><span class=\"txtu hbo\">אָֽכְל֣וּ </span><span class=\"txtu hbo\">הַ</span><span class=\"txtu hbo\">נְּעָרִ֔ים </span></span></div></td><td class=\"tf rtl\"><div class=\"rtl\"><span class=\"plain rtl  hl\" ><span class=\"txtu hbo\">אֲשֶׁ֣ר </span></span></div></td></tr>\n",
       "<tr class=\"tf rtl\"><td class=\"tf rtl\">2</td><td class=\"tf rtl\"><span class=\"section ltr\"><a target=\"_blank\" href=\"https://shebanq.ancient-data.org/hebrew/text?book=Genesis&amp;chapter=18&amp;verse=17&amp;version=2017&amp;mr=m&amp;qw=q&amp;tp=txt_p&amp;tr=hb&amp;wget=v&amp;qget=v&amp;nget=vt\" title=\"Show this on SHEBANQ\" sec=\"Genesis 18:17\">Genesis 18:17</a></span></td><td class=\"tf rtl\"><div class=\"rtl\"></div></td><td class=\"tf rtl\"><div class=\"rtl\"><span class=\"plain rtl  hlbx\" ><span class=\"plain rtl  hl\" ><span class=\"txtu hbo\">אֲשֶׁ֖ר </span></span><span class=\"txtu hbo\">אֲנִ֥י </span><span class=\"txtu hbo\">עֹשֶֽׂה׃ </span></span></div></td><td class=\"tf rtl\"><div class=\"rtl\"><span class=\"plain rtl  hl\" ><span class=\"txtu hbo\">אֲשֶׁ֖ר </span></span></div></td></tr>\n",
       "<tr class=\"tf rtl\"><td class=\"tf rtl\">3</td><td class=\"tf rtl\"><span class=\"section ltr\"><a target=\"_blank\" href=\"https://shebanq.ancient-data.org/hebrew/text?book=Genesis&amp;chapter=24&amp;verse=3&amp;version=2017&amp;mr=m&amp;qw=q&amp;tp=txt_p&amp;tr=hb&amp;wget=v&amp;qget=v&amp;nget=vt\" title=\"Show this on SHEBANQ\" sec=\"Genesis 24:3\">Genesis 24:3</a></span></td><td class=\"tf rtl\"><div class=\"rtl\"></div></td><td class=\"tf rtl\"><div class=\"rtl\"><span class=\"plain rtl  hlbx\" ><span class=\"plain rtl  hl\" ><span class=\"txtu hbo\">אֲשֶׁ֨ר </span></span><span class=\"txtu hbo\">לֹֽא־</span><span class=\"txtu hbo\">תִקַּ֤ח </span><span class=\"txtu hbo\">אִשָּׁה֙ </span><span class=\"txtu hbo\">לִ</span><span class=\"txtu hbo\">בְנִ֔י </span><span class=\"txtu hbo\">מִ</span><span class=\"txtu hbo\">בְּנֹות֙ </span><span class=\"txtu hbo\">הַֽ</span><span class=\"txtu hbo\">כְּנַעֲנִ֔י </span></span></div></td><td class=\"tf rtl\"><div class=\"rtl\"><span class=\"plain rtl  hl\" ><span class=\"txtu hbo\">אֲשֶׁ֨ר </span></span></div></td></tr>\n",
       "<tr class=\"tf rtl\"><td class=\"tf rtl\">4</td><td class=\"tf rtl\"><span class=\"section ltr\"><a target=\"_blank\" href=\"https://shebanq.ancient-data.org/hebrew/text?book=Genesis&amp;chapter=34&amp;verse=11&amp;version=2017&amp;mr=m&amp;qw=q&amp;tp=txt_p&amp;tr=hb&amp;wget=v&amp;qget=v&amp;nget=vt\" title=\"Show this on SHEBANQ\" sec=\"Genesis 34:11\">Genesis 34:11</a></span></td><td class=\"tf rtl\"><div class=\"rtl\"></div></td><td class=\"tf rtl\"><div class=\"rtl\"><span class=\"plain rtl  hlbx\" ><span class=\"plain rtl  hl\" ><span class=\"txtu hbo\">אֲשֶׁ֥ר </span></span><span class=\"txtu hbo\">תֹּאמְר֛וּ </span><span class=\"txtu hbo\">אֵלַ֖י </span></span></div></td><td class=\"tf rtl\"><div class=\"rtl\"><span class=\"plain rtl  hl\" ><span class=\"txtu hbo\">אֲשֶׁ֥ר </span></span></div></td></tr>\n",
       "<tr class=\"tf rtl\"><td class=\"tf rtl\">5</td><td class=\"tf rtl\"><span class=\"section ltr\"><a target=\"_blank\" href=\"https://shebanq.ancient-data.org/hebrew/text?book=Genesis&amp;chapter=39&amp;verse=23&amp;version=2017&amp;mr=m&amp;qw=q&amp;tp=txt_p&amp;tr=hb&amp;wget=v&amp;qget=v&amp;nget=vt\" title=\"Show this on SHEBANQ\" sec=\"Genesis 39:23\">Genesis 39:23</a></span></td><td class=\"tf rtl\"><div class=\"rtl\"></div></td><td class=\"tf rtl\"><div class=\"rtl\"><span class=\"plain rtl  hlbx\" ><span class=\"plain rtl  hl\" ><span class=\"txtu hbo\">אֲשֶׁר־</span></span><span class=\"txtu hbo\">ה֥וּא </span><span class=\"txtu hbo\">עֹשֶׂ֖ה </span></span></div></td><td class=\"tf rtl\"><div class=\"rtl\"><span class=\"plain rtl  hl\" ><span class=\"txtu hbo\">אֲשֶׁר־</span></span></div></td></tr>\n",
       "<tr class=\"tf rtl\"><td class=\"tf rtl\">6</td><td class=\"tf rtl\"><span class=\"section ltr\"><a target=\"_blank\" href=\"https://shebanq.ancient-data.org/hebrew/text?book=Genesis&amp;chapter=41&amp;verse=28&amp;version=2017&amp;mr=m&amp;qw=q&amp;tp=txt_p&amp;tr=hb&amp;wget=v&amp;qget=v&amp;nget=vt\" title=\"Show this on SHEBANQ\" sec=\"Genesis 41:28\">Genesis 41:28</a></span></td><td class=\"tf rtl\"><div class=\"rtl\"></div></td><td class=\"tf rtl\"><div class=\"rtl\"><span class=\"plain rtl  hlbx\" ><span class=\"plain rtl  hl\" ><span class=\"txtu hbo\">אֲשֶׁ֧ר </span></span><span class=\"txtu hbo\">הָ</span><span class=\"txtu hbo\">אֱלֹהִ֛ים </span><span class=\"txtu hbo\">עֹשֶׂ֖ה </span></span></div></td><td class=\"tf rtl\"><div class=\"rtl\"><span class=\"plain rtl  hl\" ><span class=\"txtu hbo\">אֲשֶׁ֧ר </span></span></div></td></tr>\n",
       "<tr class=\"tf rtl\"><td class=\"tf rtl\">7</td><td class=\"tf rtl\"><span class=\"section ltr\"><a target=\"_blank\" href=\"https://shebanq.ancient-data.org/hebrew/text?book=Genesis&amp;chapter=41&amp;verse=55&amp;version=2017&amp;mr=m&amp;qw=q&amp;tp=txt_p&amp;tr=hb&amp;wget=v&amp;qget=v&amp;nget=vt\" title=\"Show this on SHEBANQ\" sec=\"Genesis 41:55\">Genesis 41:55</a></span></td><td class=\"tf rtl\"><div class=\"rtl\"></div></td><td class=\"tf rtl\"><div class=\"rtl\"><span class=\"plain rtl  hlbx\" ><span class=\"plain rtl  hl\" ><span class=\"txtu hbo\">אֲשֶׁר־</span></span><span class=\"txtu hbo\">יֹאמַ֥ר </span><span class=\"txtu hbo\">לָכֶ֖ם </span></span></div></td><td class=\"tf rtl\"><div class=\"rtl\"><span class=\"plain rtl  hl\" ><span class=\"txtu hbo\">אֲשֶׁר־</span></span></div></td></tr>\n",
       "<tr class=\"tf rtl\"><td class=\"tf rtl\">8</td><td class=\"tf rtl\"><span class=\"section ltr\"><a target=\"_blank\" href=\"https://shebanq.ancient-data.org/hebrew/text?book=Genesis&amp;chapter=44&amp;verse=5&amp;version=2017&amp;mr=m&amp;qw=q&amp;tp=txt_p&amp;tr=hb&amp;wget=v&amp;qget=v&amp;nget=vt\" title=\"Show this on SHEBANQ\" sec=\"Genesis 44:5\">Genesis 44:5</a></span></td><td class=\"tf rtl\"><div class=\"rtl\"></div></td><td class=\"tf rtl\"><div class=\"rtl\"><span class=\"plain rtl  hlbx\" ><span class=\"plain rtl  hl\" ><span class=\"txtu hbo\">אֲשֶׁ֥ר </span></span><span class=\"txtu hbo\">עֲשִׂיתֶֽם׃ </span></span></div></td><td class=\"tf rtl\"><div class=\"rtl\"><span class=\"plain rtl  hl\" ><span class=\"txtu hbo\">אֲשֶׁ֥ר </span></span></div></td></tr>\n",
       "<tr class=\"tf rtl\"><td class=\"tf rtl\">9</td><td class=\"tf rtl\"><span class=\"section ltr\"><a target=\"_blank\" href=\"https://shebanq.ancient-data.org/hebrew/text?book=Exodus&amp;chapter=4&amp;verse=12&amp;version=2017&amp;mr=m&amp;qw=q&amp;tp=txt_p&amp;tr=hb&amp;wget=v&amp;qget=v&amp;nget=vt\" title=\"Show this on SHEBANQ\" sec=\"Exodus 4:12\">Exodus 4:12</a></span></td><td class=\"tf rtl\"><div class=\"rtl\"></div></td><td class=\"tf rtl\"><div class=\"rtl\"><span class=\"plain rtl  hlbx\" ><span class=\"plain rtl  hl\" ><span class=\"txtu hbo\">אֲשֶׁ֥ר </span></span><span class=\"txtu hbo\">תְּדַבֵּֽר׃ </span></span></div></td><td class=\"tf rtl\"><div class=\"rtl\"><span class=\"plain rtl  hl\" ><span class=\"txtu hbo\">אֲשֶׁ֥ר </span></span></div></td></tr>\n",
       "<tr class=\"tf rtl\"><td class=\"tf rtl\">10</td><td class=\"tf rtl\"><span class=\"section ltr\"><a target=\"_blank\" href=\"https://shebanq.ancient-data.org/hebrew/text?book=Exodus&amp;chapter=5&amp;verse=21&amp;version=2017&amp;mr=m&amp;qw=q&amp;tp=txt_p&amp;tr=hb&amp;wget=v&amp;qget=v&amp;nget=vt\" title=\"Show this on SHEBANQ\" sec=\"Exodus 5:21\">Exodus 5:21</a></span></td><td class=\"tf rtl\"><div class=\"rtl\"></div></td><td class=\"tf rtl\"><div class=\"rtl\"><span class=\"plain rtl  hlbx\" ><span class=\"plain rtl  hl\" ><span class=\"txtu hbo\">אֲשֶׁ֧ר </span></span><span class=\"txtu hbo\">הִבְאַשְׁתֶּ֣ם </span><span class=\"txtu hbo\">אֶת־</span><span class=\"txtu hbo\">רֵיחֵ֗נוּ </span><span class=\"txtu hbo\">בְּ</span><span class=\"txtu hbo\">עֵינֵ֤י </span><span class=\"txtu hbo\">פַרְעֹה֙ </span><span class=\"txtu hbo\">וּ</span><span class=\"txtu hbo\">בְ</span><span class=\"txtu hbo\">עֵינֵ֣י </span><span class=\"txtu hbo\">עֲבָדָ֔יו </span></span></div></td><td class=\"tf rtl\"><div class=\"rtl\"><span class=\"plain rtl  hl\" ><span class=\"txtu hbo\">אֲשֶׁ֧ר </span></span></div></td></tr></table>"
      ],
      "text/plain": [
       "<IPython.core.display.HTML object>"
      ]
     },
     "metadata": {},
     "output_type": "display_data"
    }
   ],
   "source": [
    "query = \"\"\"\n",
    "verse\n",
    "    clause rela=Objc\n",
    "        =: word lex=>CR\n",
    "\"\"\"\n",
    "results = A.search(query)\n",
    "A.table(results, end=10)"
   ]
  },
  {
   "cell_type": "markdown",
   "metadata": {},
   "source": [
    "## Comparison\n",
    "\n",
    "We have fewer cases: 96 instead of 157.\n",
    "We are working on the ETCBC version 2017, and the query has been executed against 4b.\n",
    "There have been coding updates that are relevant to this query, e.g. in Genesis 43:27, which is in the results\n",
    "on SHEBANQ, but not here. In 2017 the `rela` is `Attr`, and not `Objc`:"
   ]
  },
  {
   "cell_type": "code",
   "execution_count": 34,
   "metadata": {
    "ExecuteTime": {
     "end_time": "2018-05-07T08:04:20.869670Z",
     "start_time": "2018-05-07T08:04:19.831834Z"
    }
   },
   "outputs": [
    {
     "name": "stdout",
     "output_type": "stream",
     "text": [
      "  0.50s 1 result\n"
     ]
    },
    {
     "data": {
      "text/html": [
       "<p><b>result</b> <i>1</i></p>"
      ],
      "text/plain": [
       "<IPython.core.display.HTML object>"
      ]
     },
     "metadata": {},
     "output_type": "display_data"
    },
    {
     "data": {
      "text/html": [
       "<div class=\"section rtl\"><a target=\"_blank\" href=\"https://shebanq.ancient-data.org/hebrew/text?book=Genesis&amp;chapter=43&amp;verse=27&amp;version=2017&amp;mr=m&amp;qw=q&amp;tp=txt_p&amp;tr=hb&amp;wget=v&amp;qget=v&amp;nget=vt\" title=\"Show this on SHEBANQ\" sec=\"Genesis 43:27\">Genesis 43:27</a></div><div class=\"rtl children\"><div class=\"contnr c3  rtl  \" ><div class=\"lbl c3  \" ><span class=\"nd\">verse</span></div><div class='features'><span class=\"book xft\" ><span class=\"f\">book=</span>Genesis</span><span class=\"chapter xft\" ><span class=\"f\">chapter=</span>43</span><span class=\"verse xft\" ><span class=\"f\">verse=</span>27</span></div><div class=\"children hor wrap rtl\"><div class=\"contnr c2  rtl  \" ><div class=\"lbl c2  \" ><span class=\"nd\">sentence</span></div><div class=\"children hor wrap rtl\"><div class=\"contnr c2  rtl  \" ><div class=\"lbl c2  \" ><span class=\"nd\">clause</span></div><div class=\"children hor wrap rtl\"><div class=\"contnr c1  rtl  \" ><div class=\"lbl c1  \" ><span class=\"nd\">phrase</span></div><div class=\"children hor wrap rtl\"><div class=\"contnr c0 trm rtl  \" ><div class=\"lbl c0 trm \" ><a class=\" txtu hbo\" target=\"_blank\" href=\"https://shebanq.ancient-data.org/hebrew/word?version=2017&amp;id=1W\" title=\"Show this on SHEBANQ\"><span class=\"txtu hbo\">וַ</span></a></div><div class='features'><span class=\"lex xft\" ><span class=\"f\">lex=</span>W</span></div></div></div></div><div class=\"contnr c1  rtl  \" ><div class=\"lbl c1  \" ><span class=\"nd\">phrase</span></div><div class=\"children hor wrap rtl\"><div class=\"contnr c0 trm rtl  \" ><div class=\"lbl c0 trm \" ><a class=\" txtu hbo\" target=\"_blank\" href=\"https://shebanq.ancient-data.org/hebrew/word?version=2017&amp;id=1CALv\" title=\"Show this on SHEBANQ\"><span class=\"txtu hbo\">יִּשְׁאַ֤ל </span></a></div><div class='features'><span class=\"lex xft\" ><span class=\"f\">lex=</span>C>L[</span></div></div></div></div><div class=\"contnr c1  rtl  \" ><div class=\"lbl c1  \" ><span class=\"nd\">phrase</span></div><div class=\"children hor wrap rtl\"><div class=\"contnr c0 trm rtl  \" ><div class=\"lbl c0 trm \" ><a class=\" txtu hbo\" target=\"_blank\" href=\"https://shebanq.ancient-data.org/hebrew/word?version=2017&amp;id=1L\" title=\"Show this on SHEBANQ\"><span class=\"txtu hbo\">לָהֶם֙ </span></a></div><div class='features'><span class=\"lex xft\" ><span class=\"f\">lex=</span>L</span></div></div></div></div><div class=\"contnr c1  rtl  \" ><div class=\"lbl c1  \" ><span class=\"nd\">phrase</span></div><div class=\"children hor wrap rtl\"><div class=\"contnr c0 trm rtl  \" ><div class=\"lbl c0 trm \" ><a class=\" txtu hbo\" target=\"_blank\" href=\"https://shebanq.ancient-data.org/hebrew/word?version=2017&amp;id=1L\" title=\"Show this on SHEBANQ\"><span class=\"txtu hbo\">לְ</span></a></div><div class='features'><span class=\"lex xft\" ><span class=\"f\">lex=</span>L</span></div></div><div class=\"contnr c0 trm rtl  \" ><div class=\"lbl c0 trm \" ><a class=\" txtu hbo\" target=\"_blank\" href=\"https://shebanq.ancient-data.org/hebrew/word?version=2017&amp;id=1CLWMn\" title=\"Show this on SHEBANQ\"><span class=\"txtu hbo\">שָׁלֹ֔ום </span></a></div><div class='features'><span class=\"lex xft\" ><span class=\"f\">lex=</span>CLWM/</span></div></div></div></div></div></div></div></div><div class=\"contnr c2  rtl  \" ><div class=\"lbl c2  \" ><span class=\"nd\">sentence</span></div><div class=\"children hor wrap rtl\"><div class=\"contnr c2  rtl  \" ><div class=\"lbl c2  \" ><span class=\"nd\">clause</span></div><div class=\"children hor wrap rtl\"><div class=\"contnr c1  rtl  \" ><div class=\"lbl c1  \" ><span class=\"nd\">phrase</span></div><div class=\"children hor wrap rtl\"><div class=\"contnr c0 trm rtl  \" ><div class=\"lbl c0 trm \" ><a class=\" txtu hbo\" target=\"_blank\" href=\"https://shebanq.ancient-data.org/hebrew/word?version=2017&amp;id=1W\" title=\"Show this on SHEBANQ\"><span class=\"txtu hbo\">וַ</span></a></div><div class='features'><span class=\"lex xft\" ><span class=\"f\">lex=</span>W</span></div></div></div></div><div class=\"contnr c1  rtl  \" ><div class=\"lbl c1  \" ><span class=\"nd\">phrase</span></div><div class=\"children hor wrap rtl\"><div class=\"contnr c0 trm rtl  \" ><div class=\"lbl c0 trm \" ><a class=\" txtu hbo\" target=\"_blank\" href=\"https://shebanq.ancient-data.org/hebrew/word?version=2017&amp;id=1AMRv\" title=\"Show this on SHEBANQ\"><span class=\"txtu hbo\">יֹּ֗אמֶר </span></a></div><div class='features'><span class=\"lex xft\" ><span class=\"f\">lex=</span>>MR[</span></div></div></div></div></div></div></div></div><div class=\"contnr c2  rtl  \" ><div class=\"lbl c2  \" ><span class=\"nd\">sentence</span></div><div class=\"children hor wrap rtl\"><div class=\"contnr c2  rtl  \" ><div class=\"lbl c2  \" ><span class=\"nd\">clause</span></div><div class=\"children hor wrap rtl\"><div class=\"contnr c1  rtl  \" ><div class=\"lbl c1  \" ><span class=\"nd\">phrase</span></div><div class=\"children hor wrap rtl\"><div class=\"contnr c0 trm rtl  \" ><div class=\"lbl c0 trm \" ><a class=\" txtu hbo\" target=\"_blank\" href=\"https://shebanq.ancient-data.org/hebrew/word?version=2017&amp;id=1Hi\" title=\"Show this on SHEBANQ\"><span class=\"txtu hbo\">הֲ</span></a></div><div class='features'><span class=\"lex xft\" ><span class=\"f\">lex=</span>H=</span></div></div></div></div><div class=\"contnr c1  rtl  \" ><div class=\"lbl c1  \" ><span class=\"nd\">phrase</span></div><div class=\"children hor wrap rtl\"><div class=\"contnr c0 trm rtl  \" ><div class=\"lbl c0 trm \" ><a class=\" txtu hbo\" target=\"_blank\" href=\"https://shebanq.ancient-data.org/hebrew/word?version=2017&amp;id=1CLWMn\" title=\"Show this on SHEBANQ\"><span class=\"txtu hbo\">שָׁלֹ֛ום </span></a></div><div class='features'><span class=\"lex xft\" ><span class=\"f\">lex=</span>CLWM/</span></div></div></div></div><div class=\"contnr c1  rtl  \" ><div class=\"lbl c1  \" ><span class=\"nd\">phrase</span></div><div class=\"children hor wrap rtl\"><div class=\"contnr c0 trm rtl  \" ><div class=\"lbl c0 trm \" ><a class=\" txtu hbo\" target=\"_blank\" href=\"https://shebanq.ancient-data.org/hebrew/word?version=2017&amp;id=1ABn\" title=\"Show this on SHEBANQ\"><span class=\"txtu hbo\">אֲבִיכֶ֥ם </span></a></div><div class='features'><span class=\"lex xft\" ><span class=\"f\">lex=</span>>B/</span></div></div><div class=\"contnr c0 trm rtl  \" ><div class=\"lbl c0 trm \" ><a class=\" txtu hbo\" target=\"_blank\" href=\"https://shebanq.ancient-data.org/hebrew/word?version=2017&amp;id=1H\" title=\"Show this on SHEBANQ\"><span class=\"txtu hbo\">הַ</span></a></div><div class='features'><span class=\"lex xft\" ><span class=\"f\">lex=</span>H</span></div></div><div class=\"contnr c0 trm rtl  \" ><div class=\"lbl c0 trm \" ><a class=\" txtu hbo\" target=\"_blank\" href=\"https://shebanq.ancient-data.org/hebrew/word?version=2017&amp;id=1ZQNn\" title=\"Show this on SHEBANQ\"><span class=\"txtu hbo\">זָּקֵ֖ן </span></a></div><div class='features'><span class=\"lex xft\" ><span class=\"f\">lex=</span>ZQN/</span></div></div></div></div></div></div><div class=\"contnr c2  rtl  hl\" ><div class=\"lbl c2  hl\" ><span class=\"nd\">clause</span></div><div class=\"children hor wrap rtl\"><div class=\"contnr c1  rtl  \" ><div class=\"lbl c1  \" ><span class=\"nd\">phrase</span></div><div class=\"children hor wrap rtl\"><div class=\"contnr c0 trm rtl  hl\" ><div class=\"lbl c0 trm hl\" ><a class=\" txtu hbo\" target=\"_blank\" href=\"https://shebanq.ancient-data.org/hebrew/word?version=2017&amp;id=1ACR\" title=\"Show this on SHEBANQ\"><span class=\"txtu hbo\">אֲשֶׁ֣ר </span></a></div><div class='features'><span class=\"lex xft\" ><span class=\"f\">lex=</span>>CR</span></div></div></div></div><div class=\"contnr c1  rtl  \" ><div class=\"lbl c1  \" ><span class=\"nd\">phrase</span></div><div class=\"children hor wrap rtl\"><div class=\"contnr c0 trm rtl  \" ><div class=\"lbl c0 trm \" ><a class=\" txtu hbo\" target=\"_blank\" href=\"https://shebanq.ancient-data.org/hebrew/word?version=2017&amp;id=1AMRv\" title=\"Show this on SHEBANQ\"><span class=\"txtu hbo\">אֲמַרְתֶּ֑ם </span></a></div><div class='features'><span class=\"lex xft\" ><span class=\"f\">lex=</span>>MR[</span></div></div></div></div></div></div></div></div><div class=\"contnr c2  rtl  \" ><div class=\"lbl c2  \" ><span class=\"nd\">sentence</span></div><div class=\"children hor wrap rtl\"><div class=\"contnr c2  rtl  \" ><div class=\"lbl c2  \" ><span class=\"nd\">clause</span></div><div class=\"children hor wrap rtl\"><div class=\"contnr c1  rtl  \" ><div class=\"lbl c1  \" ><span class=\"nd\">phrase</span></div><div class=\"children hor wrap rtl\"><div class=\"contnr c0 trm rtl  \" ><div class=\"lbl c0 trm \" ><a class=\" txtu hbo\" target=\"_blank\" href=\"https://shebanq.ancient-data.org/hebrew/word?version=2017&amp;id=1Hi\" title=\"Show this on SHEBANQ\"><span class=\"txtu hbo\">הַ</span></a></div><div class='features'><span class=\"lex xft\" ><span class=\"f\">lex=</span>H=</span></div></div></div></div><div class=\"contnr c1  rtl  \" ><div class=\"lbl c1  \" ><span class=\"nd\">phrase</span></div><div class=\"children hor wrap rtl\"><div class=\"contnr c0 trm rtl  \" ><div class=\"lbl c0 trm \" ><a class=\" txtu hbo\" target=\"_blank\" href=\"https://shebanq.ancient-data.org/hebrew/word?version=2017&amp;id=1OWDn\" title=\"Show this on SHEBANQ\"><span class=\"txtu hbo\">עֹודֶ֖נּוּ </span></a></div><div class='features'><span class=\"lex xft\" ><span class=\"f\">lex=</span>&lt;WD/</span></div></div></div></div><div class=\"contnr c1  rtl  \" ><div class=\"lbl c1  \" ><span class=\"nd\">phrase</span></div><div class=\"children hor wrap rtl\"><div class=\"contnr c0 trm rtl  \" ><div class=\"lbl c0 trm \" ><a class=\" txtu hbo\" target=\"_blank\" href=\"https://shebanq.ancient-data.org/hebrew/word?version=2017&amp;id=1XJn\" title=\"Show this on SHEBANQ\"><span class=\"txtu hbo\">חָֽי׃ </span></a></div><div class='features'><span class=\"lex xft\" ><span class=\"f\">lex=</span>XJ/</span></div></div></div></div></div></div></div></div></div></div></div>"
      ],
      "text/plain": [
       "<IPython.core.display.HTML object>"
      ]
     },
     "metadata": {},
     "output_type": "display_data"
    }
   ],
   "source": [
    "query = \"\"\"\n",
    "verse book=Genesis chapter=43 verse=27\n",
    "    clause\n",
    "        =: word lex=>CR\n",
    "\"\"\"\n",
    "results = A.search(query)\n",
    "A.show(results)"
   ]
  },
  {
   "cell_type": "markdown",
   "metadata": {},
   "source": [
    "# By Cody Kingham\n",
    "## MQL\n",
    "\n",
    "[Cody Kingham: MI Hierarchies. p.18n49. First Person Verbs in Narrative](https://shebanq.ancient-data.org/hebrew/query?version=4b&id=1050)\n",
    "\n",
    "```\n",
    "SELECT ALL OBJECTS WHERE\n",
    "\n",
    "[book\n",
    "   [clause txt = 'N'\n",
    "      [word FOCUS sp = verb\n",
    "        [word ps = p1\n",
    "         ]\n",
    "      ]\n",
    "   ]\n",
    "]\n",
    "OR\n",
    "[book\n",
    "   [clause txt = '?N'\n",
    "      [word FOCUS sp = verb\n",
    "        [word ps = p1\n",
    "         ]\n",
    "      ]\n",
    "   ]\n",
    "]\n",
    "```\n",
    "\n",
    "273 results."
   ]
  },
  {
   "cell_type": "markdown",
   "metadata": {},
   "source": [
    "## TF"
   ]
  },
  {
   "cell_type": "code",
   "execution_count": 35,
   "metadata": {
    "ExecuteTime": {
     "end_time": "2018-05-07T08:04:24.489808Z",
     "start_time": "2018-05-07T08:04:20.875215Z"
    }
   },
   "outputs": [
    {
     "name": "stdout",
     "output_type": "stream",
     "text": [
      "  0.64s 272 results\n"
     ]
    },
    {
     "data": {
      "text/html": [
       "<table><tr class=\"tf rtl\"><th class=\"tf rtl\">n</th><th class=\"tf rtl\">p</th><th class=\"tf rtl\">book</th><th class=\"tf\">clause</th><th class=\"tf\">word</th></tr>\n",
       "<tr class=\"tf rtl\"><td class=\"tf rtl\">1</td><td class=\"tf rtl\"><span class=\"section ltr\"><a target=\"_blank\" href=\"https://shebanq.ancient-data.org/hebrew/text?book=Deuteronomium&amp;chapter=2&amp;verse=1&amp;version=2017&amp;mr=m&amp;qw=q&amp;tp=txt_p&amp;tr=hb&amp;wget=v&amp;qget=v&amp;nget=vt\" title=\"Show this on SHEBANQ\" sec=\"Deuteronomy 2:1\">Deuteronomy 2:1</a></span></td><td class=\"tf rtl\"><div class=\"rtl\"><span class=\"txtu hbo rtl\"><span class=\"section\">Deuteronomy</span></span></div></td><td class=\"tf rtl\"><div class=\"rtl\"><span class=\"plain rtl  hlbx\" ><span class=\"txtu hbo\">וַ</span><span class=\"plain rtl  hl\" ><span class=\"txtu hbo\">נֵּ֜פֶן </span></span></span></div></td><td class=\"tf rtl\"><div class=\"rtl\"><span class=\"plain rtl  hl\" ><span class=\"txtu hbo\">נֵּ֜פֶן </span></span></div></td></tr>\n",
       "<tr class=\"tf rtl\"><td class=\"tf rtl\">2</td><td class=\"tf rtl\"><span class=\"section ltr\"><a target=\"_blank\" href=\"https://shebanq.ancient-data.org/hebrew/text?book=Deuteronomium&amp;chapter=2&amp;verse=1&amp;version=2017&amp;mr=m&amp;qw=q&amp;tp=txt_p&amp;tr=hb&amp;wget=v&amp;qget=v&amp;nget=vt\" title=\"Show this on SHEBANQ\" sec=\"Deuteronomy 2:1\">Deuteronomy 2:1</a></span></td><td class=\"tf rtl\"><div class=\"rtl\"><span class=\"txtu hbo rtl\"><span class=\"section\">Deuteronomy</span></span></div></td><td class=\"tf rtl\"><div class=\"rtl\"><span class=\"plain rtl  hlbx\" ><span class=\"txtu hbo\">וַ</span><span class=\"plain rtl  hl\" ><span class=\"txtu hbo\">נִּסַּ֤ע </span></span><span class=\"txtu hbo\">הַ</span><span class=\"txtu hbo\">מִּדְבָּ֨רָה֙ </span><span class=\"txtu hbo\">דֶּ֣רֶךְ </span><span class=\"txtu hbo\">יַם־</span><span class=\"txtu hbo\">ס֔וּף </span></span></div></td><td class=\"tf rtl\"><div class=\"rtl\"><span class=\"plain rtl  hl\" ><span class=\"txtu hbo\">נִּסַּ֤ע </span></span></div></td></tr>\n",
       "<tr class=\"tf rtl\"><td class=\"tf rtl\">3</td><td class=\"tf rtl\"><span class=\"section ltr\"><a target=\"_blank\" href=\"https://shebanq.ancient-data.org/hebrew/text?book=Deuteronomium&amp;chapter=2&amp;verse=1&amp;version=2017&amp;mr=m&amp;qw=q&amp;tp=txt_p&amp;tr=hb&amp;wget=v&amp;qget=v&amp;nget=vt\" title=\"Show this on SHEBANQ\" sec=\"Deuteronomy 2:1\">Deuteronomy 2:1</a></span></td><td class=\"tf rtl\"><div class=\"rtl\"><span class=\"txtu hbo rtl\"><span class=\"section\">Deuteronomy</span></span></div></td><td class=\"tf rtl\"><div class=\"rtl\"><span class=\"plain rtl  hlbx\" ><span class=\"txtu hbo\">וַ</span><span class=\"plain rtl  hl\" ><span class=\"txtu hbo\">נָּ֥סָב </span></span><span class=\"txtu hbo\">אֶת־</span><span class=\"txtu hbo\">הַר־</span><span class=\"txtu hbo\">שֵׂעִ֖יר </span><span class=\"txtu hbo\">יָמִ֥ים </span><span class=\"txtu hbo\">רַבִּֽים׃ ס </span></span></div></td><td class=\"tf rtl\"><div class=\"rtl\"><span class=\"plain rtl  hl\" ><span class=\"txtu hbo\">נָּ֥סָב </span></span></div></td></tr>\n",
       "<tr class=\"tf rtl\"><td class=\"tf rtl\">4</td><td class=\"tf rtl\"><span class=\"section ltr\"><a target=\"_blank\" href=\"https://shebanq.ancient-data.org/hebrew/text?book=Deuteronomium&amp;chapter=2&amp;verse=8&amp;version=2017&amp;mr=m&amp;qw=q&amp;tp=txt_p&amp;tr=hb&amp;wget=v&amp;qget=v&amp;nget=vt\" title=\"Show this on SHEBANQ\" sec=\"Deuteronomy 2:8\">Deuteronomy 2:8</a></span></td><td class=\"tf rtl\"><div class=\"rtl\"><span class=\"txtu hbo rtl\"><span class=\"section\">Deuteronomy</span></span></div></td><td class=\"tf rtl\"><div class=\"rtl\"><span class=\"plain rtl l hlbx\" ><span class=\"txtu hbo\">וַֽ</span><span class=\"plain rtl  hl\" ><span class=\"txtu hbo\">נַּעֲבֹ֞ר </span></span><span class=\"txtu hbo\">מֵ</span><span class=\"txtu hbo\">אֵ֧ת </span><span class=\"txtu hbo\">אַחֵ֣ינוּ </span><span class=\"txtu hbo\">בְנֵי־</span><span class=\"txtu hbo\">עֵשָׂ֗ו </span></span><span class=\"plain rtl r hlbx\" ><span class=\"txtu hbo\">מִ</span><span class=\"txtu hbo\">דֶּ֨רֶךְ֙ </span><span class=\"txtu hbo\">הָֽ</span><span class=\"txtu hbo\">עֲרָבָ֔ה </span><span class=\"txtu hbo\">מֵ</span><span class=\"txtu hbo\">אֵילַ֖ת </span><span class=\"txtu hbo\">וּ</span><span class=\"txtu hbo\">מֵ</span><span class=\"txtu hbo\">עֶצְיֹ֣ן גָּ֑בֶר ס </span></span></div></td><td class=\"tf rtl\"><div class=\"rtl\"><span class=\"plain rtl  hl\" ><span class=\"txtu hbo\">נַּעֲבֹ֞ר </span></span></div></td></tr>\n",
       "<tr class=\"tf rtl\"><td class=\"tf rtl\">5</td><td class=\"tf rtl\"><span class=\"section ltr\"><a target=\"_blank\" href=\"https://shebanq.ancient-data.org/hebrew/text?book=Deuteronomium&amp;chapter=2&amp;verse=8&amp;version=2017&amp;mr=m&amp;qw=q&amp;tp=txt_p&amp;tr=hb&amp;wget=v&amp;qget=v&amp;nget=vt\" title=\"Show this on SHEBANQ\" sec=\"Deuteronomy 2:8\">Deuteronomy 2:8</a></span></td><td class=\"tf rtl\"><div class=\"rtl\"><span class=\"txtu hbo rtl\"><span class=\"section\">Deuteronomy</span></span></div></td><td class=\"tf rtl\"><div class=\"rtl\"><span class=\"plain rtl  hlbx\" ><span class=\"txtu hbo\">וַ</span><span class=\"plain rtl  hl\" ><span class=\"txtu hbo\">נֵּ֨פֶן֙ </span></span></span></div></td><td class=\"tf rtl\"><div class=\"rtl\"><span class=\"plain rtl  hl\" ><span class=\"txtu hbo\">נֵּ֨פֶן֙ </span></span></div></td></tr></table>"
      ],
      "text/plain": [
       "<IPython.core.display.HTML object>"
      ]
     },
     "metadata": {},
     "output_type": "display_data"
    }
   ],
   "source": [
    "query = \"\"\"\n",
    "book\n",
    "    clause txt=N|?N\n",
    "        word sp=verb ps=p1\n",
    "\"\"\"\n",
    "results = A.search(query)\n",
    "A.table(results, end=5)"
   ]
  },
  {
   "cell_type": "markdown",
   "metadata": {},
   "source": [
    "## Comparison\n",
    "\n",
    "One result less. Again, a coding difference between versions.\n",
    "Exercise: find out where that happened."
   ]
  },
  {
   "cell_type": "markdown",
   "metadata": {},
   "source": [
    "# By Reinoud Oosting\n",
    "## MQL\n",
    "\n",
    "[Reinoud Oosting: to go + object marker](https://shebanq.ancient-data.org/hebrew/query?version=4b&id=755)\n",
    "\n",
    "```\n",
    "Select all objects\n",
    "where\n",
    " [clause\n",
    "   [phrase function = Pred OR function = PreC\n",
    "     [word FOCUS sp = verb AND vs = qal AND lex = \"HLK[\" ]\n",
    "         ]\n",
    "    ..\n",
    "    [phrase FOCUS\n",
    "    [word First lex = \">T\"]\n",
    "   ]\n",
    " ]\n",
    "OR\n",
    " [clause\n",
    "    [phrase FOCUS\n",
    "      [word First lex = \">T\" ]\n",
    "    ]\n",
    "..\n",
    "   [phrase function = Pred OR function = PreC\n",
    "     [word FOCUS sp = verb AND vs = qal AND lex = \"HLK[\"]\n",
    "   ]\n",
    " ]\n",
    " ```\n",
    "\n",
    " 4 results.\n"
   ]
  },
  {
   "cell_type": "markdown",
   "metadata": {},
   "source": [
    "## TF\n",
    "\n",
    "This is a case where we can simplify greatly because we are not hampered\n",
    "by automatic constraints on the order of the phrases."
   ]
  },
  {
   "cell_type": "code",
   "execution_count": 36,
   "metadata": {
    "ExecuteTime": {
     "end_time": "2018-05-07T08:04:26.904505Z",
     "start_time": "2018-05-07T08:04:24.496574Z"
    }
   },
   "outputs": [
    {
     "name": "stdout",
     "output_type": "stream",
     "text": [
      "  1.25s 4 results\n"
     ]
    },
    {
     "data": {
      "text/html": [
       "<p><b>result</b> <i>1</i></p>"
      ],
      "text/plain": [
       "<IPython.core.display.HTML object>"
      ]
     },
     "metadata": {},
     "output_type": "display_data"
    },
    {
     "data": {
      "text/html": [
       "<div class=\"section rtl\"><a target=\"_blank\" href=\"https://shebanq.ancient-data.org/hebrew/text?book=Deuteronomium&amp;chapter=1&amp;verse=19&amp;version=2017&amp;mr=m&amp;qw=q&amp;tp=txt_p&amp;tr=hb&amp;wget=v&amp;qget=v&amp;nget=vt\" title=\"Show this on SHEBANQ\" sec=\"Deuteronomy 1:19\">Deuteronomy 1:19</a></div><div class=\"rtl children\"><div class=\"contnr c2  rtl l \" ><div class=\"lbl c2  \" ><span class=\"nd\">clause</span></div><div class=\"children hor wrap rtl\"><div class=\"contnr c1  rtl  \" ><div class=\"lbl c1  \" ><span class=\"nd\">phrase</span></div><div class='features'><span class=\"function xft\" ><span class=\"f\">function=</span>Conj</span></div><div class=\"children hor wrap rtl\"><div class=\"contnr c0 trm rtl  \" ><div class=\"lbl c0 trm \" ><a class=\" txtu hbo\" target=\"_blank\" href=\"https://shebanq.ancient-data.org/hebrew/word?version=2017&amp;id=1W\" title=\"Show this on SHEBANQ\"><span class=\"txtu hbo\">וַ</span></a></div><div class='features'><span class=\"lex xft\" ><span class=\"f\">lex=</span>W</span><span class=\"sp xft\" ><span class=\"f\">sp=</span>conj</span></div></div></div></div><div class=\"contnr c1  rtl  hl\" ><div class=\"lbl c1  hl\" ><span class=\"nd\">phrase</span></div><div class='features'><span class=\"function xft\" ><span class=\"f\">function=</span>Pred</span></div><div class=\"children hor wrap rtl\"><div class=\"contnr c0 trm rtl  hl\" ><div class=\"lbl c0 trm hl\" ><a class=\" txtu hbo\" target=\"_blank\" href=\"https://shebanq.ancient-data.org/hebrew/word?version=2017&amp;id=1HLKv\" title=\"Show this on SHEBANQ\"><span class=\"txtu hbo\">נֵּ֡לֶךְ </span></a></div><div class='features'><span class=\"lex xft\" ><span class=\"f\">lex=</span>HLK[</span><span class=\"sp xft\" ><span class=\"f\">sp=</span>verb</span><span class=\"vs xft\" ><span class=\"f\">vs=</span>qal</span></div></div></div></div><div class=\"contnr c1  rtl  hl\" ><div class=\"lbl c1  hl\" ><span class=\"nd\">phrase</span></div><div class='features'><span class=\"function xft\" ><span class=\"f\">function=</span>Objc</span></div><div class=\"children hor wrap rtl\"><div class=\"contnr c0 trm rtl  hl\" ><div class=\"lbl c0 trm hl\" ><a class=\" txtu hbo\" target=\"_blank\" href=\"https://shebanq.ancient-data.org/hebrew/word?version=2017&amp;id=1AT\" title=\"Show this on SHEBANQ\"><span class=\"txtu hbo\">אֵ֣ת </span></a></div><div class='features'><span class=\"lex xft\" ><span class=\"f\">lex=</span>>T</span><span class=\"sp xft\" ><span class=\"f\">sp=</span>prep</span></div></div><div class=\"contnr c0 trm rtl  \" ><div class=\"lbl c0 trm \" ><a class=\" txtu hbo\" target=\"_blank\" href=\"https://shebanq.ancient-data.org/hebrew/word?version=2017&amp;id=1KLn\" title=\"Show this on SHEBANQ\"><span class=\"txtu hbo\">כָּל־</span></a></div><div class='features'><span class=\"lex xft\" ><span class=\"f\">lex=</span>KL/</span><span class=\"sp xft\" ><span class=\"f\">sp=</span>subs</span></div></div><div class=\"contnr c0 trm rtl  \" ><div class=\"lbl c0 trm \" ><a class=\" txtu hbo\" target=\"_blank\" href=\"https://shebanq.ancient-data.org/hebrew/word?version=2017&amp;id=1H\" title=\"Show this on SHEBANQ\"><span class=\"txtu hbo\">הַ</span></a></div><div class='features'><span class=\"lex xft\" ><span class=\"f\">lex=</span>H</span><span class=\"sp xft\" ><span class=\"f\">sp=</span>art</span></div></div><div class=\"contnr c0 trm rtl  \" ><div class=\"lbl c0 trm \" ><a class=\" txtu hbo\" target=\"_blank\" href=\"https://shebanq.ancient-data.org/hebrew/word?version=2017&amp;id=1MDBRn\" title=\"Show this on SHEBANQ\"><span class=\"txtu hbo\">מִּדְבָּ֣ר </span></a></div><div class='features'><span class=\"lex xft\" ><span class=\"f\">lex=</span>MDBR/</span><span class=\"sp xft\" ><span class=\"f\">sp=</span>subs</span></div></div><div class=\"contnr c0 trm rtl  \" ><div class=\"lbl c0 trm \" ><a class=\" txtu hbo\" target=\"_blank\" href=\"https://shebanq.ancient-data.org/hebrew/word?version=2017&amp;id=1H\" title=\"Show this on SHEBANQ\"><span class=\"txtu hbo\">הַ</span></a></div><div class='features'><span class=\"lex xft\" ><span class=\"f\">lex=</span>H</span><span class=\"sp xft\" ><span class=\"f\">sp=</span>art</span></div></div><div class=\"contnr c0 trm rtl  \" ><div class=\"lbl c0 trm \" ><a class=\" txtu hbo\" target=\"_blank\" href=\"https://shebanq.ancient-data.org/hebrew/word?version=2017&amp;id=1GDWLn\" title=\"Show this on SHEBANQ\"><span class=\"txtu hbo\">גָּדֹול֩ </span></a></div><div class='features'><span class=\"lex xft\" ><span class=\"f\">lex=</span>GDWL/</span><span class=\"sp xft\" ><span class=\"f\">sp=</span>adjv</span></div></div><div class=\"contnr c0 trm rtl  \" ><div class=\"lbl c0 trm \" ><a class=\" txtu hbo\" target=\"_blank\" href=\"https://shebanq.ancient-data.org/hebrew/word?version=2017&amp;id=1W\" title=\"Show this on SHEBANQ\"><span class=\"txtu hbo\">וְ</span></a></div><div class='features'><span class=\"lex xft\" ><span class=\"f\">lex=</span>W</span><span class=\"sp xft\" ><span class=\"f\">sp=</span>conj</span></div></div><div class=\"contnr c0 trm rtl  \" ><div class=\"lbl c0 trm \" ><a class=\" txtu hbo\" target=\"_blank\" href=\"https://shebanq.ancient-data.org/hebrew/word?version=2017&amp;id=1H\" title=\"Show this on SHEBANQ\"><span class=\"txtu hbo\">הַ</span></a></div><div class='features'><span class=\"lex xft\" ><span class=\"f\">lex=</span>H</span><span class=\"sp xft\" ><span class=\"f\">sp=</span>art</span></div></div><div class=\"contnr c0 trm rtl  \" ><div class=\"lbl c0 trm \" ><a class=\" txtu hbo\" target=\"_blank\" href=\"https://shebanq.ancient-data.org/hebrew/word?version=2017&amp;id=1JRAv\" title=\"Show this on SHEBANQ\"><span class=\"txtu hbo\">נֹּורָ֨א </span></a></div><div class='features'><span class=\"lex xft\" ><span class=\"f\">lex=</span>JR>[</span><span class=\"sp xft\" ><span class=\"f\">sp=</span>verb</span><span class=\"vs xft\" ><span class=\"f\">vs=</span>nif</span></div></div><div class=\"contnr c0 trm rtl  \" ><div class=\"lbl c0 trm \" ><a class=\" txtu hbo\" target=\"_blank\" href=\"https://shebanq.ancient-data.org/hebrew/word?version=2017&amp;id=1H\" title=\"Show this on SHEBANQ\"><span class=\"txtu hbo\">הַ</span></a></div><div class='features'><span class=\"lex xft\" ><span class=\"f\">lex=</span>H</span><span class=\"sp xft\" ><span class=\"f\">sp=</span>art</span></div></div><div class=\"contnr c0 trm rtl  \" ><div class=\"lbl c0 trm \" ><a class=\" txtu hbo\" target=\"_blank\" href=\"https://shebanq.ancient-data.org/hebrew/word?version=2017&amp;id=1HWA\" title=\"Show this on SHEBANQ\"><span class=\"txtu hbo\">ה֜וּא </span></a></div><div class='features'><span class=\"lex xft\" ><span class=\"f\">lex=</span>HW></span><span class=\"sp xft\" ><span class=\"f\">sp=</span>prps</span></div></div></div></div></div></div><div class=\"contnr c2  rtl r \" ><div class=\"lbl c2  \" ><span class=\"nd\">clause</span></div><div class=\"children hor wrap rtl\"><div class=\"contnr c1  rtl  \" ><div class=\"lbl c1  \" ><span class=\"nd\">phrase</span></div><div class='features'><span class=\"function xft\" ><span class=\"f\">function=</span>Objc</span></div><div class=\"children hor wrap rtl\"><div class=\"contnr c0 trm rtl  \" ><div class=\"lbl c0 trm \" ><a class=\" txtu hbo\" target=\"_blank\" href=\"https://shebanq.ancient-data.org/hebrew/word?version=2017&amp;id=1DRKn\" title=\"Show this on SHEBANQ\"><span class=\"txtu hbo\">דֶּ֚רֶךְ </span></a></div><div class='features'><span class=\"lex xft\" ><span class=\"f\">lex=</span>DRK/</span><span class=\"sp xft\" ><span class=\"f\">sp=</span>subs</span></div></div><div class=\"contnr c0 trm rtl  \" ><div class=\"lbl c0 trm \" ><a class=\" txtu hbo\" target=\"_blank\" href=\"https://shebanq.ancient-data.org/hebrew/word?version=2017&amp;id=1HRn\" title=\"Show this on SHEBANQ\"><span class=\"txtu hbo\">הַ֣ר </span></a></div><div class='features'><span class=\"lex xft\" ><span class=\"f\">lex=</span>HR/</span><span class=\"sp xft\" ><span class=\"f\">sp=</span>subs</span></div></div><div class=\"contnr c0 trm rtl  \" ><div class=\"lbl c0 trm \" ><a class=\" txtu hbo\" target=\"_blank\" href=\"https://shebanq.ancient-data.org/hebrew/word?version=2017&amp;id=1H\" title=\"Show this on SHEBANQ\"><span class=\"txtu hbo\">הָֽ</span></a></div><div class='features'><span class=\"lex xft\" ><span class=\"f\">lex=</span>H</span><span class=\"sp xft\" ><span class=\"f\">sp=</span>art</span></div></div><div class=\"contnr c0 trm rtl  \" ><div class=\"lbl c0 trm \" ><a class=\" txtu hbo\" target=\"_blank\" href=\"https://shebanq.ancient-data.org/hebrew/word?version=2017&amp;id=1AMRJn\" title=\"Show this on SHEBANQ\"><span class=\"txtu hbo\">אֱמֹרִ֔י </span></a></div><div class='features'><span class=\"lex xft\" ><span class=\"f\">lex=</span>>MRJ/</span><span class=\"sp xft\" ><span class=\"f\">sp=</span>adjv</span></div></div></div></div></div></div></div>"
      ],
      "text/plain": [
       "<IPython.core.display.HTML object>"
      ]
     },
     "metadata": {},
     "output_type": "display_data"
    },
    {
     "data": {
      "text/html": [
       "<p><b>result</b> <i>2</i></p>"
      ],
      "text/plain": [
       "<IPython.core.display.HTML object>"
      ]
     },
     "metadata": {},
     "output_type": "display_data"
    },
    {
     "data": {
      "text/html": [
       "<div class=\"section rtl\"><a target=\"_blank\" href=\"https://shebanq.ancient-data.org/hebrew/text?book=Judices&amp;chapter=19&amp;verse=18&amp;version=2017&amp;mr=m&amp;qw=q&amp;tp=txt_p&amp;tr=hb&amp;wget=v&amp;qget=v&amp;nget=vt\" title=\"Show this on SHEBANQ\" sec=\"Judges 19:18\">Judges 19:18</a></div><div class=\"rtl children\"><div class=\"contnr c2  rtl  \" ><div class=\"lbl c2  \" ><span class=\"nd\">clause</span></div><div class=\"children hor wrap rtl\"><div class=\"contnr c1  rtl  \" ><div class=\"lbl c1  \" ><span class=\"nd\">phrase</span></div><div class='features'><span class=\"function xft\" ><span class=\"f\">function=</span>Conj</span></div><div class=\"children hor wrap rtl\"><div class=\"contnr c0 trm rtl  \" ><div class=\"lbl c0 trm \" ><a class=\" txtu hbo\" target=\"_blank\" href=\"https://shebanq.ancient-data.org/hebrew/word?version=2017&amp;id=1W\" title=\"Show this on SHEBANQ\"><span class=\"txtu hbo\">וְ</span></a></div><div class='features'><span class=\"lex xft\" ><span class=\"f\">lex=</span>W</span><span class=\"sp xft\" ><span class=\"f\">sp=</span>conj</span></div></div></div></div><div class=\"contnr c1  rtl  hl\" ><div class=\"lbl c1  hl\" ><span class=\"nd\">phrase</span></div><div class='features'><span class=\"function xft\" ><span class=\"f\">function=</span>Objc</span></div><div class=\"children hor wrap rtl\"><div class=\"contnr c0 trm rtl  hl\" ><div class=\"lbl c0 trm hl\" ><a class=\" txtu hbo\" target=\"_blank\" href=\"https://shebanq.ancient-data.org/hebrew/word?version=2017&amp;id=1AT\" title=\"Show this on SHEBANQ\"><span class=\"txtu hbo\">אֶת־</span></a></div><div class='features'><span class=\"lex xft\" ><span class=\"f\">lex=</span>>T</span><span class=\"sp xft\" ><span class=\"f\">sp=</span>prep</span></div></div><div class=\"contnr c0 trm rtl  \" ><div class=\"lbl c0 trm \" ><a class=\" txtu hbo\" target=\"_blank\" href=\"https://shebanq.ancient-data.org/hebrew/word?version=2017&amp;id=1BJTn\" title=\"Show this on SHEBANQ\"><span class=\"txtu hbo\">בֵּ֤ית </span></a></div><div class='features'><span class=\"lex xft\" ><span class=\"f\">lex=</span>BJT/</span><span class=\"sp xft\" ><span class=\"f\">sp=</span>subs</span></div></div><div class=\"contnr c0 trm rtl  \" ><div class=\"lbl c0 trm \" ><a class=\" txtu hbo\" target=\"_blank\" href=\"https://shebanq.ancient-data.org/hebrew/word?version=2017&amp;id=1JHWHn\" title=\"Show this on SHEBANQ\"><span class=\"txtu hbo\">יְהוָה֙ </span></a></div><div class='features'><span class=\"lex xft\" ><span class=\"f\">lex=</span>JHWH/</span><span class=\"sp xft\" ><span class=\"f\">sp=</span>nmpr</span></div></div></div></div><div class=\"contnr c1  rtl  \" ><div class=\"lbl c1  \" ><span class=\"nd\">phrase</span></div><div class='features'><span class=\"function xft\" ><span class=\"f\">function=</span>Subj</span></div><div class=\"children hor wrap rtl\"><div class=\"contnr c0 trm rtl  \" ><div class=\"lbl c0 trm \" ><a class=\" txtu hbo\" target=\"_blank\" href=\"https://shebanq.ancient-data.org/hebrew/word?version=2017&amp;id=1ANJ\" title=\"Show this on SHEBANQ\"><span class=\"txtu hbo\">אֲנִ֣י </span></a></div><div class='features'><span class=\"lex xft\" ><span class=\"f\">lex=</span>>NJ</span><span class=\"sp xft\" ><span class=\"f\">sp=</span>prps</span></div></div></div></div><div class=\"contnr c1  rtl  hl\" ><div class=\"lbl c1  hl\" ><span class=\"nd\">phrase</span></div><div class='features'><span class=\"function xft\" ><span class=\"f\">function=</span>PreC</span></div><div class=\"children hor wrap rtl\"><div class=\"contnr c0 trm rtl  hl\" ><div class=\"lbl c0 trm hl\" ><a class=\" txtu hbo\" target=\"_blank\" href=\"https://shebanq.ancient-data.org/hebrew/word?version=2017&amp;id=1HLKv\" title=\"Show this on SHEBANQ\"><span class=\"txtu hbo\">הֹלֵ֔ךְ </span></a></div><div class='features'><span class=\"lex xft\" ><span class=\"f\">lex=</span>HLK[</span><span class=\"sp xft\" ><span class=\"f\">sp=</span>verb</span><span class=\"vs xft\" ><span class=\"f\">vs=</span>qal</span></div></div></div></div></div></div></div>"
      ],
      "text/plain": [
       "<IPython.core.display.HTML object>"
      ]
     },
     "metadata": {},
     "output_type": "display_data"
    },
    {
     "data": {
      "text/html": [
       "<p><b>result</b> <i>3</i></p>"
      ],
      "text/plain": [
       "<IPython.core.display.HTML object>"
      ]
     },
     "metadata": {},
     "output_type": "display_data"
    },
    {
     "data": {
      "text/html": [
       "<div class=\"section rtl\"><a target=\"_blank\" href=\"https://shebanq.ancient-data.org/hebrew/text?book=Jeremia&amp;chapter=19&amp;verse=10&amp;version=2017&amp;mr=m&amp;qw=q&amp;tp=txt_p&amp;tr=hb&amp;wget=v&amp;qget=v&amp;nget=vt\" title=\"Show this on SHEBANQ\" sec=\"Jeremiah 19:10\">Jeremiah 19:10</a></div><div class=\"rtl children\"><div class=\"contnr c2  rtl  \" ><div class=\"lbl c2  \" ><span class=\"nd\">clause</span></div><div class=\"children hor wrap rtl\"><div class=\"contnr c1  rtl  \" ><div class=\"lbl c1  \" ><span class=\"nd\">phrase</span></div><div class='features'><span class=\"function xft\" ><span class=\"f\">function=</span>Rela</span></div><div class=\"children hor wrap rtl\"><div class=\"contnr c0 trm rtl  \" ><div class=\"lbl c0 trm \" ><a class=\" txtu hbo\" target=\"_blank\" href=\"https://shebanq.ancient-data.org/hebrew/word?version=2017&amp;id=1H\" title=\"Show this on SHEBANQ\"><span class=\"txtu hbo\">הַ</span></a></div><div class='features'><span class=\"lex xft\" ><span class=\"f\">lex=</span>H</span><span class=\"sp xft\" ><span class=\"f\">sp=</span>art</span></div></div></div></div><div class=\"contnr c1  rtl  hl\" ><div class=\"lbl c1  hl\" ><span class=\"nd\">phrase</span></div><div class='features'><span class=\"function xft\" ><span class=\"f\">function=</span>PreC</span></div><div class=\"children hor wrap rtl\"><div class=\"contnr c0 trm rtl  hl\" ><div class=\"lbl c0 trm hl\" ><a class=\" txtu hbo\" target=\"_blank\" href=\"https://shebanq.ancient-data.org/hebrew/word?version=2017&amp;id=1HLKv\" title=\"Show this on SHEBANQ\"><span class=\"txtu hbo\">הֹלְכִ֖ים </span></a></div><div class='features'><span class=\"lex xft\" ><span class=\"f\">lex=</span>HLK[</span><span class=\"sp xft\" ><span class=\"f\">sp=</span>verb</span><span class=\"vs xft\" ><span class=\"f\">vs=</span>qal</span></div></div></div></div><div class=\"contnr c1  rtl  hl\" ><div class=\"lbl c1  hl\" ><span class=\"nd\">phrase</span></div><div class='features'><span class=\"function xft\" ><span class=\"f\">function=</span>Objc</span></div><div class=\"children hor wrap rtl\"><div class=\"contnr c0 trm rtl  hl\" ><div class=\"lbl c0 trm hl\" ><a class=\" txtu hbo\" target=\"_blank\" href=\"https://shebanq.ancient-data.org/hebrew/word?version=2017&amp;id=1AT\" title=\"Show this on SHEBANQ\"><span class=\"txtu hbo\">אֹותָֽךְ׃ </span></a></div><div class='features'><span class=\"lex xft\" ><span class=\"f\">lex=</span>>T</span><span class=\"sp xft\" ><span class=\"f\">sp=</span>prep</span></div></div></div></div></div></div></div>"
      ],
      "text/plain": [
       "<IPython.core.display.HTML object>"
      ]
     },
     "metadata": {},
     "output_type": "display_data"
    },
    {
     "data": {
      "text/html": [
       "<p><b>result</b> <i>4</i></p>"
      ],
      "text/plain": [
       "<IPython.core.display.HTML object>"
      ]
     },
     "metadata": {},
     "output_type": "display_data"
    },
    {
     "data": {
      "text/html": [
       "<div class=\"section rtl\"><a target=\"_blank\" href=\"https://shebanq.ancient-data.org/hebrew/text?book=Ezechiel&amp;chapter=36&amp;verse=27&amp;version=2017&amp;mr=m&amp;qw=q&amp;tp=txt_p&amp;tr=hb&amp;wget=v&amp;qget=v&amp;nget=vt\" title=\"Show this on SHEBANQ\" sec=\"Ezekiel 36:27\">Ezekiel 36:27</a></div><div class=\"rtl children\"><div class=\"contnr c2  rtl  \" ><div class=\"lbl c2  \" ><span class=\"nd\">clause</span></div><div class=\"children hor wrap rtl\"><div class=\"contnr c1  rtl  hl\" ><div class=\"lbl c1  hl\" ><span class=\"nd\">phrase</span></div><div class='features'><span class=\"function xft\" ><span class=\"f\">function=</span>Rela</span></div><div class=\"children hor wrap rtl\"><div class=\"contnr c0 trm rtl  hl\" ><div class=\"lbl c0 trm hl\" ><a class=\" txtu hbo\" target=\"_blank\" href=\"https://shebanq.ancient-data.org/hebrew/word?version=2017&amp;id=1AT\" title=\"Show this on SHEBANQ\"><span class=\"txtu hbo\">אֵ֤ת </span></a></div><div class='features'><span class=\"lex xft\" ><span class=\"f\">lex=</span>>T</span><span class=\"sp xft\" ><span class=\"f\">sp=</span>prep</span></div></div><div class=\"contnr c0 trm rtl  \" ><div class=\"lbl c0 trm \" ><a class=\" txtu hbo\" target=\"_blank\" href=\"https://shebanq.ancient-data.org/hebrew/word?version=2017&amp;id=1ACR\" title=\"Show this on SHEBANQ\"><span class=\"txtu hbo\">אֲשֶׁר־</span></a></div><div class='features'><span class=\"lex xft\" ><span class=\"f\">lex=</span>>CR</span><span class=\"sp xft\" ><span class=\"f\">sp=</span>conj</span></div></div></div></div><div class=\"contnr c1  rtl  \" ><div class=\"lbl c1  \" ><span class=\"nd\">phrase</span></div><div class='features'><span class=\"function xft\" ><span class=\"f\">function=</span>Cmpl</span></div><div class=\"children hor wrap rtl\"><div class=\"contnr c0 trm rtl  \" ><div class=\"lbl c0 trm \" ><a class=\" txtu hbo\" target=\"_blank\" href=\"https://shebanq.ancient-data.org/hebrew/word?version=2017&amp;id=1B\" title=\"Show this on SHEBANQ\"><span class=\"txtu hbo\">בְּ</span></a></div><div class='features'><span class=\"lex xft\" ><span class=\"f\">lex=</span>B</span><span class=\"sp xft\" ><span class=\"f\">sp=</span>prep</span></div></div><div class=\"contnr c0 trm rtl  \" ><div class=\"lbl c0 trm \" ><a class=\" txtu hbo\" target=\"_blank\" href=\"https://shebanq.ancient-data.org/hebrew/word?version=2017&amp;id=1XQn\" title=\"Show this on SHEBANQ\"><span class=\"txtu hbo\">חֻקַּי֙ </span></a></div><div class='features'><span class=\"lex xft\" ><span class=\"f\">lex=</span>XQ/</span><span class=\"sp xft\" ><span class=\"f\">sp=</span>subs</span></div></div></div></div><div class=\"contnr c1  rtl  hl\" ><div class=\"lbl c1  hl\" ><span class=\"nd\">phrase</span></div><div class='features'><span class=\"function xft\" ><span class=\"f\">function=</span>Pred</span></div><div class=\"children hor wrap rtl\"><div class=\"contnr c0 trm rtl  hl\" ><div class=\"lbl c0 trm hl\" ><a class=\" txtu hbo\" target=\"_blank\" href=\"https://shebanq.ancient-data.org/hebrew/word?version=2017&amp;id=1HLKv\" title=\"Show this on SHEBANQ\"><span class=\"txtu hbo\">תֵּלֵ֔כוּ </span></a></div><div class='features'><span class=\"lex xft\" ><span class=\"f\">lex=</span>HLK[</span><span class=\"sp xft\" ><span class=\"f\">sp=</span>verb</span><span class=\"vs xft\" ><span class=\"f\">vs=</span>qal</span></div></div></div></div></div></div></div>"
      ],
      "text/plain": [
       "<IPython.core.display.HTML object>"
      ]
     },
     "metadata": {},
     "output_type": "display_data"
    }
   ],
   "source": [
    "query = \"\"\"\n",
    "clause\n",
    "  p1:phrase function=Pred|PreC\n",
    "    word sp=verb vs=qal lex=HLK[\n",
    "  p2:phrase\n",
    "    =: word lex=>T\n",
    "  p1 # p2\n",
    "\"\"\"\n",
    "\n",
    "results = A.search(query)\n",
    "A.show(sorted(results), condensed=False, condenseType=\"clause\")"
   ]
  },
  {
   "cell_type": "markdown",
   "metadata": {},
   "source": [
    "# By Reinoud Oosting (ii)\n",
    "## MQL\n",
    "\n",
    "[Reinoud Oosting: To establish covenant](https://shebanq.ancient-data.org/hebrew/query?version=4b&id=1485)\n",
    "\n",
    "```\n",
    "select all objects\n",
    "where\n",
    "\n",
    " [clause\n",
    "   [phrase function = Pred OR function = PreC\n",
    "     [word FOCUS sp = verb AND vs = hif AND lex = \"QWM[\" ]\n",
    "         ]\n",
    "    ..\n",
    "    [phrase function = Objc\n",
    "    [word FOCUS lex = \"BRJT/\" ]\n",
    "   ]\n",
    " ]\n",
    "OR\n",
    " [clause\n",
    "    [phrase function = Objc\n",
    "      [word FOCUS lex = \"BRJT/\" ]\n",
    "    ]\n",
    "..\n",
    "   [phrase function = Pred OR function = PreC\n",
    "     [word FOCUS sp = verb AND vs = hif AND lex = \"QWM[\"]\n",
    "   ]\n",
    "\n",
    "]\n",
    "```\n",
    "\n",
    "13 results"
   ]
  },
  {
   "cell_type": "markdown",
   "metadata": {},
   "source": [
    "## TF"
   ]
  },
  {
   "cell_type": "code",
   "execution_count": 37,
   "metadata": {
    "ExecuteTime": {
     "end_time": "2018-05-07T08:04:29.571751Z",
     "start_time": "2018-05-07T08:04:26.909700Z"
    }
   },
   "outputs": [
    {
     "name": "stdout",
     "output_type": "stream",
     "text": [
      "  1.34s 13 results\n"
     ]
    },
    {
     "data": {
      "text/html": [
       "<table><tr class=\"tf rtl\"><th class=\"tf rtl\">n</th><th class=\"tf rtl\">p</th><th class=\"tf rtl\">verse</th><th class=\"tf\">clause</th><th class=\"tf\">phrase</th><th class=\"tf\">word</th><th class=\"tf\">phrase</th><th class=\"tf\">word</th></tr>\n",
       "<tr class=\"tf rtl\"><td class=\"tf rtl\">1</td><td class=\"tf rtl\"><span class=\"section ltr\"><a target=\"_blank\" href=\"https://shebanq.ancient-data.org/hebrew/text?book=Genesis&amp;chapter=6&amp;verse=18&amp;version=2017&amp;mr=m&amp;qw=q&amp;tp=txt_p&amp;tr=hb&amp;wget=v&amp;qget=v&amp;nget=vt\" title=\"Show this on SHEBANQ\" sec=\"Genesis 6:18\">Genesis 6:18</a></span></td><td class=\"tf rtl\"><div class=\"rtl\"></div></td><td class=\"tf rtl\"><div class=\"rtl\"><span class=\"plain rtl  hlbx\" ><span class=\"txtu hbo\">וַ</span><span class=\"plain rtl  hlbx\" ><span class=\"plain rtl  hl\" ><span class=\"txtu hbo\">הֲקִמֹתִ֥י </span></span></span><span class=\"plain rtl  hlbx\" ><span class=\"txtu hbo\">אֶת־</span><span class=\"plain rtl  hl\" ><span class=\"txtu hbo\">בְּרִיתִ֖י </span></span></span><span class=\"txtu hbo\">אִתָּ֑ךְ </span></span></div></td><td class=\"tf rtl\"><div class=\"rtl\"><span class=\"plain rtl  hlbx\" ><span class=\"plain rtl  hl\" ><span class=\"txtu hbo\">הֲקִמֹתִ֥י </span></span></span></div></td><td class=\"tf rtl\"><div class=\"rtl\"><span class=\"plain rtl  hl\" ><span class=\"txtu hbo\">הֲקִמֹתִ֥י </span></span></div></td><td class=\"tf rtl\"><div class=\"rtl\"><span class=\"plain rtl  hlbx\" ><span class=\"txtu hbo\">אֶת־</span><span class=\"plain rtl  hl\" ><span class=\"txtu hbo\">בְּרִיתִ֖י </span></span></span></div></td><td class=\"tf rtl\"><div class=\"rtl\"><span class=\"plain rtl  hl\" ><span class=\"txtu hbo\">בְּרִיתִ֖י </span></span></div></td></tr>\n",
       "<tr class=\"tf rtl\"><td class=\"tf rtl\">2</td><td class=\"tf rtl\"><span class=\"section ltr\"><a target=\"_blank\" href=\"https://shebanq.ancient-data.org/hebrew/text?book=Genesis&amp;chapter=9&amp;verse=9&amp;version=2017&amp;mr=m&amp;qw=q&amp;tp=txt_p&amp;tr=hb&amp;wget=v&amp;qget=v&amp;nget=vt\" title=\"Show this on SHEBANQ\" sec=\"Genesis 9:9\">Genesis 9:9</a></span></td><td class=\"tf rtl\"><div class=\"rtl\"></div></td><td class=\"tf rtl\"><div class=\"rtl\"><span class=\"plain rtl  hlbx\" ><span class=\"txtu hbo\">הִנְנִ֥י </span><span class=\"plain rtl  hlbx\" ><span class=\"plain rtl  hl\" ><span class=\"txtu hbo\">מֵקִ֛ים </span></span></span><span class=\"plain rtl  hlbx\" ><span class=\"txtu hbo\">אֶת־</span><span class=\"plain rtl  hl\" ><span class=\"txtu hbo\">בְּרִיתִ֖י </span></span></span><span class=\"txtu hbo\">אִתְּכֶ֑ם </span><span class=\"txtu hbo\">וְ</span><span class=\"txtu hbo\">אֶֽת־</span><span class=\"txtu hbo\">זַרְעֲכֶ֖ם </span><span class=\"txtu hbo\">אַֽחֲרֵיכֶֽם׃ </span></span></div></td><td class=\"tf rtl\"><div class=\"rtl\"><span class=\"plain rtl  hlbx\" ><span class=\"plain rtl  hl\" ><span class=\"txtu hbo\">מֵקִ֛ים </span></span></span></div></td><td class=\"tf rtl\"><div class=\"rtl\"><span class=\"plain rtl  hl\" ><span class=\"txtu hbo\">מֵקִ֛ים </span></span></div></td><td class=\"tf rtl\"><div class=\"rtl\"><span class=\"plain rtl  hlbx\" ><span class=\"txtu hbo\">אֶת־</span><span class=\"plain rtl  hl\" ><span class=\"txtu hbo\">בְּרִיתִ֖י </span></span></span></div></td><td class=\"tf rtl\"><div class=\"rtl\"><span class=\"plain rtl  hl\" ><span class=\"txtu hbo\">בְּרִיתִ֖י </span></span></div></td></tr>\n",
       "<tr class=\"tf rtl\"><td class=\"tf rtl\">3</td><td class=\"tf rtl\"><span class=\"section ltr\"><a target=\"_blank\" href=\"https://shebanq.ancient-data.org/hebrew/text?book=Genesis&amp;chapter=9&amp;verse=11&amp;version=2017&amp;mr=m&amp;qw=q&amp;tp=txt_p&amp;tr=hb&amp;wget=v&amp;qget=v&amp;nget=vt\" title=\"Show this on SHEBANQ\" sec=\"Genesis 9:11\">Genesis 9:11</a></span></td><td class=\"tf rtl\"><div class=\"rtl\"></div></td><td class=\"tf rtl\"><div class=\"rtl\"><span class=\"plain rtl  hlbx\" ><span class=\"txtu hbo\">וַ</span><span class=\"plain rtl  hlbx\" ><span class=\"plain rtl  hl\" ><span class=\"txtu hbo\">הֲקִמֹתִ֤י </span></span></span><span class=\"plain rtl  hlbx\" ><span class=\"txtu hbo\">אֶת־</span><span class=\"plain rtl  hl\" ><span class=\"txtu hbo\">בְּרִיתִי֙ </span></span></span><span class=\"txtu hbo\">אִתְּכֶ֔ם </span></span></div></td><td class=\"tf rtl\"><div class=\"rtl\"><span class=\"plain rtl  hlbx\" ><span class=\"plain rtl  hl\" ><span class=\"txtu hbo\">הֲקִמֹתִ֤י </span></span></span></div></td><td class=\"tf rtl\"><div class=\"rtl\"><span class=\"plain rtl  hl\" ><span class=\"txtu hbo\">הֲקִמֹתִ֤י </span></span></div></td><td class=\"tf rtl\"><div class=\"rtl\"><span class=\"plain rtl  hlbx\" ><span class=\"txtu hbo\">אֶת־</span><span class=\"plain rtl  hl\" ><span class=\"txtu hbo\">בְּרִיתִי֙ </span></span></span></div></td><td class=\"tf rtl\"><div class=\"rtl\"><span class=\"plain rtl  hl\" ><span class=\"txtu hbo\">בְּרִיתִי֙ </span></span></div></td></tr>\n",
       "<tr class=\"tf rtl\"><td class=\"tf rtl\">4</td><td class=\"tf rtl\"><span class=\"section ltr\"><a target=\"_blank\" href=\"https://shebanq.ancient-data.org/hebrew/text?book=Genesis&amp;chapter=17&amp;verse=7&amp;version=2017&amp;mr=m&amp;qw=q&amp;tp=txt_p&amp;tr=hb&amp;wget=v&amp;qget=v&amp;nget=vt\" title=\"Show this on SHEBANQ\" sec=\"Genesis 17:7\">Genesis 17:7</a></span></td><td class=\"tf rtl\"><div class=\"rtl\"></div></td><td class=\"tf rtl\"><div class=\"rtl\"><span class=\"plain rtl  hlbx\" ><span class=\"txtu hbo\">וַ</span><span class=\"plain rtl  hlbx\" ><span class=\"plain rtl  hl\" ><span class=\"txtu hbo\">הֲקִמֹתִ֨י </span></span></span><span class=\"plain rtl  hlbx\" ><span class=\"txtu hbo\">אֶת־</span><span class=\"plain rtl  hl\" ><span class=\"txtu hbo\">בְּרִיתִ֜י </span></span></span><span class=\"txtu hbo\">בֵּינִ֣י </span><span class=\"txtu hbo\">וּ</span><span class=\"txtu hbo\">בֵינֶ֗ךָ </span><span class=\"txtu hbo\">וּ</span><span class=\"txtu hbo\">בֵ֨ין </span><span class=\"txtu hbo\">זַרְעֲךָ֧ </span><span class=\"txtu hbo\">אַחֲרֶ֛יךָ </span><span class=\"txtu hbo\">לְ</span><span class=\"txtu hbo\">דֹרֹתָ֖ם </span><span class=\"txtu hbo\">לִ</span><span class=\"txtu hbo\">בְרִ֣ית </span><span class=\"txtu hbo\">עֹולָ֑ם </span></span></div></td><td class=\"tf rtl\"><div class=\"rtl\"><span class=\"plain rtl  hlbx\" ><span class=\"plain rtl  hl\" ><span class=\"txtu hbo\">הֲקִמֹתִ֨י </span></span></span></div></td><td class=\"tf rtl\"><div class=\"rtl\"><span class=\"plain rtl  hl\" ><span class=\"txtu hbo\">הֲקִמֹתִ֨י </span></span></div></td><td class=\"tf rtl\"><div class=\"rtl\"><span class=\"plain rtl  hlbx\" ><span class=\"txtu hbo\">אֶת־</span><span class=\"plain rtl  hl\" ><span class=\"txtu hbo\">בְּרִיתִ֜י </span></span></span></div></td><td class=\"tf rtl\"><div class=\"rtl\"><span class=\"plain rtl  hl\" ><span class=\"txtu hbo\">בְּרִיתִ֜י </span></span></div></td></tr>\n",
       "<tr class=\"tf rtl\"><td class=\"tf rtl\">5</td><td class=\"tf rtl\"><span class=\"section ltr\"><a target=\"_blank\" href=\"https://shebanq.ancient-data.org/hebrew/text?book=Genesis&amp;chapter=17&amp;verse=19&amp;version=2017&amp;mr=m&amp;qw=q&amp;tp=txt_p&amp;tr=hb&amp;wget=v&amp;qget=v&amp;nget=vt\" title=\"Show this on SHEBANQ\" sec=\"Genesis 17:19\">Genesis 17:19</a></span></td><td class=\"tf rtl\"><div class=\"rtl\"></div></td><td class=\"tf rtl\"><div class=\"rtl\"><span class=\"plain rtl  hlbx\" ><span class=\"txtu hbo\">וַ</span><span class=\"plain rtl  hlbx\" ><span class=\"plain rtl  hl\" ><span class=\"txtu hbo\">הֲקִמֹתִ֨י </span></span></span><span class=\"plain rtl  hlbx\" ><span class=\"txtu hbo\">אֶת־</span><span class=\"plain rtl  hl\" ><span class=\"txtu hbo\">בְּרִיתִ֥י </span></span></span><span class=\"txtu hbo\">אִתֹּ֛ו </span><span class=\"txtu hbo\">לִ</span><span class=\"txtu hbo\">בְרִ֥ית </span><span class=\"txtu hbo\">עֹולָ֖ם </span><span class=\"txtu hbo\">לְ</span><span class=\"txtu hbo\">זַרְעֹ֥ו </span><span class=\"txtu hbo\">אַחֲרָֽיו׃ </span></span></div></td><td class=\"tf rtl\"><div class=\"rtl\"><span class=\"plain rtl  hlbx\" ><span class=\"plain rtl  hl\" ><span class=\"txtu hbo\">הֲקִמֹתִ֨י </span></span></span></div></td><td class=\"tf rtl\"><div class=\"rtl\"><span class=\"plain rtl  hl\" ><span class=\"txtu hbo\">הֲקִמֹתִ֨י </span></span></div></td><td class=\"tf rtl\"><div class=\"rtl\"><span class=\"plain rtl  hlbx\" ><span class=\"txtu hbo\">אֶת־</span><span class=\"plain rtl  hl\" ><span class=\"txtu hbo\">בְּרִיתִ֥י </span></span></span></div></td><td class=\"tf rtl\"><div class=\"rtl\"><span class=\"plain rtl  hl\" ><span class=\"txtu hbo\">בְּרִיתִ֥י </span></span></div></td></tr>\n",
       "<tr class=\"tf rtl\"><td class=\"tf rtl\">6</td><td class=\"tf rtl\"><span class=\"section ltr\"><a target=\"_blank\" href=\"https://shebanq.ancient-data.org/hebrew/text?book=Genesis&amp;chapter=17&amp;verse=21&amp;version=2017&amp;mr=m&amp;qw=q&amp;tp=txt_p&amp;tr=hb&amp;wget=v&amp;qget=v&amp;nget=vt\" title=\"Show this on SHEBANQ\" sec=\"Genesis 17:21\">Genesis 17:21</a></span></td><td class=\"tf rtl\"><div class=\"rtl\"></div></td><td class=\"tf rtl\"><div class=\"rtl\"><span class=\"plain rtl  hlbx\" ><span class=\"txtu hbo\">וְ</span><span class=\"plain rtl  hlbx\" ><span class=\"txtu hbo\">אֶת־</span><span class=\"plain rtl  hl\" ><span class=\"txtu hbo\">בְּרִיתִ֖י </span></span></span><span class=\"plain rtl  hlbx\" ><span class=\"plain rtl  hl\" ><span class=\"txtu hbo\">אָקִ֣ים </span></span></span><span class=\"txtu hbo\">אֶת־</span><span class=\"txtu hbo\">יִצְחָ֑ק </span></span></div></td><td class=\"tf rtl\"><div class=\"rtl\"><span class=\"plain rtl  hlbx\" ><span class=\"plain rtl  hl\" ><span class=\"txtu hbo\">אָקִ֣ים </span></span></span></div></td><td class=\"tf rtl\"><div class=\"rtl\"><span class=\"plain rtl  hl\" ><span class=\"txtu hbo\">אָקִ֣ים </span></span></div></td><td class=\"tf rtl\"><div class=\"rtl\"><span class=\"plain rtl  hlbx\" ><span class=\"txtu hbo\">אֶת־</span><span class=\"plain rtl  hl\" ><span class=\"txtu hbo\">בְּרִיתִ֖י </span></span></span></div></td><td class=\"tf rtl\"><div class=\"rtl\"><span class=\"plain rtl  hl\" ><span class=\"txtu hbo\">בְּרִיתִ֖י </span></span></div></td></tr>\n",
       "<tr class=\"tf rtl\"><td class=\"tf rtl\">7</td><td class=\"tf rtl\"><span class=\"section ltr\"><a target=\"_blank\" href=\"https://shebanq.ancient-data.org/hebrew/text?book=Exodus&amp;chapter=6&amp;verse=4&amp;version=2017&amp;mr=m&amp;qw=q&amp;tp=txt_p&amp;tr=hb&amp;wget=v&amp;qget=v&amp;nget=vt\" title=\"Show this on SHEBANQ\" sec=\"Exodus 6:4\">Exodus 6:4</a></span></td><td class=\"tf rtl\"><div class=\"rtl\"></div></td><td class=\"tf rtl\"><div class=\"rtl\"><span class=\"plain rtl  hlbx\" ><span class=\"txtu hbo\">וְ</span><span class=\"txtu hbo\">גַ֨ם </span><span class=\"plain rtl  hlbx\" ><span class=\"plain rtl  hl\" ><span class=\"txtu hbo\">הֲקִמֹ֤תִי </span></span></span><span class=\"plain rtl  hlbx\" ><span class=\"txtu hbo\">אֶת־</span><span class=\"plain rtl  hl\" ><span class=\"txtu hbo\">בְּרִיתִי֙ </span></span></span><span class=\"txtu hbo\">אִתָּ֔ם </span></span></div></td><td class=\"tf rtl\"><div class=\"rtl\"><span class=\"plain rtl  hlbx\" ><span class=\"plain rtl  hl\" ><span class=\"txtu hbo\">הֲקִמֹ֤תִי </span></span></span></div></td><td class=\"tf rtl\"><div class=\"rtl\"><span class=\"plain rtl  hl\" ><span class=\"txtu hbo\">הֲקִמֹ֤תִי </span></span></div></td><td class=\"tf rtl\"><div class=\"rtl\"><span class=\"plain rtl  hlbx\" ><span class=\"txtu hbo\">אֶת־</span><span class=\"plain rtl  hl\" ><span class=\"txtu hbo\">בְּרִיתִי֙ </span></span></span></div></td><td class=\"tf rtl\"><div class=\"rtl\"><span class=\"plain rtl  hl\" ><span class=\"txtu hbo\">בְּרִיתִי֙ </span></span></div></td></tr>\n",
       "<tr class=\"tf rtl\"><td class=\"tf rtl\">8</td><td class=\"tf rtl\"><span class=\"section ltr\"><a target=\"_blank\" href=\"https://shebanq.ancient-data.org/hebrew/text?book=Leviticus&amp;chapter=26&amp;verse=9&amp;version=2017&amp;mr=m&amp;qw=q&amp;tp=txt_p&amp;tr=hb&amp;wget=v&amp;qget=v&amp;nget=vt\" title=\"Show this on SHEBANQ\" sec=\"Leviticus 26:9\">Leviticus 26:9</a></span></td><td class=\"tf rtl\"><div class=\"rtl\"></div></td><td class=\"tf rtl\"><div class=\"rtl\"><span class=\"plain rtl  hlbx\" ><span class=\"txtu hbo\">וַ</span><span class=\"plain rtl  hlbx\" ><span class=\"plain rtl  hl\" ><span class=\"txtu hbo\">הֲקִימֹתִ֥י </span></span></span><span class=\"plain rtl  hlbx\" ><span class=\"txtu hbo\">אֶת־</span><span class=\"plain rtl  hl\" ><span class=\"txtu hbo\">בְּרִיתִ֖י </span></span></span><span class=\"txtu hbo\">אִתְּכֶֽם׃ </span></span></div></td><td class=\"tf rtl\"><div class=\"rtl\"><span class=\"plain rtl  hlbx\" ><span class=\"plain rtl  hl\" ><span class=\"txtu hbo\">הֲקִימֹתִ֥י </span></span></span></div></td><td class=\"tf rtl\"><div class=\"rtl\"><span class=\"plain rtl  hl\" ><span class=\"txtu hbo\">הֲקִימֹתִ֥י </span></span></div></td><td class=\"tf rtl\"><div class=\"rtl\"><span class=\"plain rtl  hlbx\" ><span class=\"txtu hbo\">אֶת־</span><span class=\"plain rtl  hl\" ><span class=\"txtu hbo\">בְּרִיתִ֖י </span></span></span></div></td><td class=\"tf rtl\"><div class=\"rtl\"><span class=\"plain rtl  hl\" ><span class=\"txtu hbo\">בְּרִיתִ֖י </span></span></div></td></tr>\n",
       "<tr class=\"tf rtl\"><td class=\"tf rtl\">9</td><td class=\"tf rtl\"><span class=\"section ltr\"><a target=\"_blank\" href=\"https://shebanq.ancient-data.org/hebrew/text?book=Deuteronomium&amp;chapter=8&amp;verse=18&amp;version=2017&amp;mr=m&amp;qw=q&amp;tp=txt_p&amp;tr=hb&amp;wget=v&amp;qget=v&amp;nget=vt\" title=\"Show this on SHEBANQ\" sec=\"Deuteronomy 8:18\">Deuteronomy 8:18</a></span></td><td class=\"tf rtl\"><div class=\"rtl\"></div></td><td class=\"tf rtl\"><div class=\"rtl\"><span class=\"plain rtl  hlbx\" ><span class=\"plain rtl  hlbx\" ><span class=\"txtu hbo\">לְמַ֨עַן </span><span class=\"plain rtl  hl\" ><span class=\"txtu hbo\">הָקִ֧ים </span></span></span><span class=\"plain rtl  hlbx\" ><span class=\"txtu hbo\">אֶת־</span><span class=\"plain rtl  hl\" ><span class=\"txtu hbo\">בְּרִיתֹ֛ו </span></span></span></span></div></td><td class=\"tf rtl\"><div class=\"rtl\"><span class=\"plain rtl  hlbx\" ><span class=\"txtu hbo\">לְמַ֨עַן </span><span class=\"plain rtl  hl\" ><span class=\"txtu hbo\">הָקִ֧ים </span></span></span></div></td><td class=\"tf rtl\"><div class=\"rtl\"><span class=\"plain rtl  hl\" ><span class=\"txtu hbo\">הָקִ֧ים </span></span></div></td><td class=\"tf rtl\"><div class=\"rtl\"><span class=\"plain rtl  hlbx\" ><span class=\"txtu hbo\">אֶת־</span><span class=\"plain rtl  hl\" ><span class=\"txtu hbo\">בְּרִיתֹ֛ו </span></span></span></div></td><td class=\"tf rtl\"><div class=\"rtl\"><span class=\"plain rtl  hl\" ><span class=\"txtu hbo\">בְּרִיתֹ֛ו </span></span></div></td></tr>\n",
       "<tr class=\"tf rtl\"><td class=\"tf rtl\">10</td><td class=\"tf rtl\"><span class=\"section ltr\"><a target=\"_blank\" href=\"https://shebanq.ancient-data.org/hebrew/text?book=Reges_II&amp;chapter=23&amp;verse=3&amp;version=2017&amp;mr=m&amp;qw=q&amp;tp=txt_p&amp;tr=hb&amp;wget=v&amp;qget=v&amp;nget=vt\" title=\"Show this on SHEBANQ\" sec=\"2_Kings 23:3\">2_Kings 23:3</a></span></td><td class=\"tf rtl\"><div class=\"rtl\"></div></td><td class=\"tf rtl\"><div class=\"rtl\"><span class=\"plain rtl  hlbx\" ><span class=\"plain rtl  hlbx\" ><span class=\"txtu hbo\">לְ</span><span class=\"plain rtl  hl\" ><span class=\"txtu hbo\">הָקִ֗ים </span></span></span><span class=\"plain rtl  hlbx\" ><span class=\"txtu hbo\">אֶת־</span><span class=\"txtu hbo\">דִּבְרֵי֙ </span><span class=\"txtu hbo\">הַ</span><span class=\"plain rtl  hl\" ><span class=\"txtu hbo\">בְּרִ֣ית </span></span><span class=\"txtu hbo\">הַ</span><span class=\"txtu hbo\">זֹּ֔את </span></span></span></div></td><td class=\"tf rtl\"><div class=\"rtl\"><span class=\"plain rtl  hlbx\" ><span class=\"txtu hbo\">לְ</span><span class=\"plain rtl  hl\" ><span class=\"txtu hbo\">הָקִ֗ים </span></span></span></div></td><td class=\"tf rtl\"><div class=\"rtl\"><span class=\"plain rtl  hl\" ><span class=\"txtu hbo\">הָקִ֗ים </span></span></div></td><td class=\"tf rtl\"><div class=\"rtl\"><span class=\"plain rtl  hlbx\" ><span class=\"txtu hbo\">אֶת־</span><span class=\"txtu hbo\">דִּבְרֵי֙ </span><span class=\"txtu hbo\">הַ</span><span class=\"plain rtl  hl\" ><span class=\"txtu hbo\">בְּרִ֣ית </span></span><span class=\"txtu hbo\">הַ</span><span class=\"txtu hbo\">זֹּ֔את </span></span></div></td><td class=\"tf rtl\"><div class=\"rtl\"><span class=\"plain rtl  hl\" ><span class=\"txtu hbo\">בְּרִ֣ית </span></span></div></td></tr>\n",
       "<tr class=\"tf rtl\"><td class=\"tf rtl\">11</td><td class=\"tf rtl\"><span class=\"section ltr\"><a target=\"_blank\" href=\"https://shebanq.ancient-data.org/hebrew/text?book=Jeremia&amp;chapter=34&amp;verse=18&amp;version=2017&amp;mr=m&amp;qw=q&amp;tp=txt_p&amp;tr=hb&amp;wget=v&amp;qget=v&amp;nget=vt\" title=\"Show this on SHEBANQ\" sec=\"Jeremiah 34:18\">Jeremiah 34:18</a></span></td><td class=\"tf rtl\"><div class=\"rtl\"></div></td><td class=\"tf rtl\"><div class=\"rtl\"><span class=\"plain rtl  hlbx\" ><span class=\"txtu hbo\">אֲשֶׁ֤ר </span><span class=\"txtu hbo\">לֹֽא־</span><span class=\"plain rtl  hlbx\" ><span class=\"plain rtl  hl\" ><span class=\"txtu hbo\">הֵקִ֨ימוּ֙ </span></span></span><span class=\"plain rtl  hlbx\" ><span class=\"txtu hbo\">אֶת־</span><span class=\"txtu hbo\">דִּבְרֵ֣י </span><span class=\"txtu hbo\">הַ</span><span class=\"plain rtl  hl\" ><span class=\"txtu hbo\">בְּרִ֔ית </span></span></span></span></div></td><td class=\"tf rtl\"><div class=\"rtl\"><span class=\"plain rtl  hlbx\" ><span class=\"plain rtl  hl\" ><span class=\"txtu hbo\">הֵקִ֨ימוּ֙ </span></span></span></div></td><td class=\"tf rtl\"><div class=\"rtl\"><span class=\"plain rtl  hl\" ><span class=\"txtu hbo\">הֵקִ֨ימוּ֙ </span></span></div></td><td class=\"tf rtl\"><div class=\"rtl\"><span class=\"plain rtl  hlbx\" ><span class=\"txtu hbo\">אֶת־</span><span class=\"txtu hbo\">דִּבְרֵ֣י </span><span class=\"txtu hbo\">הַ</span><span class=\"plain rtl  hl\" ><span class=\"txtu hbo\">בְּרִ֔ית </span></span></span></div></td><td class=\"tf rtl\"><div class=\"rtl\"><span class=\"plain rtl  hl\" ><span class=\"txtu hbo\">בְּרִ֔ית </span></span></div></td></tr>\n",
       "<tr class=\"tf rtl\"><td class=\"tf rtl\">12</td><td class=\"tf rtl\"><span class=\"section ltr\"><a target=\"_blank\" href=\"https://shebanq.ancient-data.org/hebrew/text?book=Ezechiel&amp;chapter=16&amp;verse=60&amp;version=2017&amp;mr=m&amp;qw=q&amp;tp=txt_p&amp;tr=hb&amp;wget=v&amp;qget=v&amp;nget=vt\" title=\"Show this on SHEBANQ\" sec=\"Ezekiel 16:60\">Ezekiel 16:60</a></span></td><td class=\"tf rtl\"><div class=\"rtl\"></div></td><td class=\"tf rtl\"><div class=\"rtl\"><span class=\"plain rtl  hlbx\" ><span class=\"txtu hbo\">וַ</span><span class=\"plain rtl  hlbx\" ><span class=\"plain rtl  hl\" ><span class=\"txtu hbo\">הֲקִמֹותִ֥י </span></span></span><span class=\"txtu hbo\">לָ֖ךְ </span><span class=\"plain rtl  hlbx\" ><span class=\"plain rtl  hl\" ><span class=\"txtu hbo\">בְּרִ֥ית </span></span><span class=\"txtu hbo\">עֹולָֽם׃ </span></span></span></div></td><td class=\"tf rtl\"><div class=\"rtl\"><span class=\"plain rtl  hlbx\" ><span class=\"plain rtl  hl\" ><span class=\"txtu hbo\">הֲקִמֹותִ֥י </span></span></span></div></td><td class=\"tf rtl\"><div class=\"rtl\"><span class=\"plain rtl  hl\" ><span class=\"txtu hbo\">הֲקִמֹותִ֥י </span></span></div></td><td class=\"tf rtl\"><div class=\"rtl\"><span class=\"plain rtl  hlbx\" ><span class=\"plain rtl  hl\" ><span class=\"txtu hbo\">בְּרִ֥ית </span></span><span class=\"txtu hbo\">עֹולָֽם׃ </span></span></div></td><td class=\"tf rtl\"><div class=\"rtl\"><span class=\"plain rtl  hl\" ><span class=\"txtu hbo\">בְּרִ֥ית </span></span></div></td></tr>\n",
       "<tr class=\"tf rtl\"><td class=\"tf rtl\">13</td><td class=\"tf rtl\"><span class=\"section ltr\"><a target=\"_blank\" href=\"https://shebanq.ancient-data.org/hebrew/text?book=Ezechiel&amp;chapter=16&amp;verse=62&amp;version=2017&amp;mr=m&amp;qw=q&amp;tp=txt_p&amp;tr=hb&amp;wget=v&amp;qget=v&amp;nget=vt\" title=\"Show this on SHEBANQ\" sec=\"Ezekiel 16:62\">Ezekiel 16:62</a></span></td><td class=\"tf rtl\"><div class=\"rtl\"></div></td><td class=\"tf rtl\"><div class=\"rtl\"><span class=\"plain rtl  hlbx\" ><span class=\"txtu hbo\">וַ</span><span class=\"plain rtl  hlbx\" ><span class=\"plain rtl  hl\" ><span class=\"txtu hbo\">הֲקִימֹותִ֥י </span></span></span><span class=\"txtu hbo\">אֲנִ֛י </span><span class=\"plain rtl  hlbx\" ><span class=\"txtu hbo\">אֶת־</span><span class=\"plain rtl  hl\" ><span class=\"txtu hbo\">בְּרִיתִ֖י </span></span></span><span class=\"txtu hbo\">אִתָּ֑ךְ </span></span></div></td><td class=\"tf rtl\"><div class=\"rtl\"><span class=\"plain rtl  hlbx\" ><span class=\"plain rtl  hl\" ><span class=\"txtu hbo\">הֲקִימֹותִ֥י </span></span></span></div></td><td class=\"tf rtl\"><div class=\"rtl\"><span class=\"plain rtl  hl\" ><span class=\"txtu hbo\">הֲקִימֹותִ֥י </span></span></div></td><td class=\"tf rtl\"><div class=\"rtl\"><span class=\"plain rtl  hlbx\" ><span class=\"txtu hbo\">אֶת־</span><span class=\"plain rtl  hl\" ><span class=\"txtu hbo\">בְּרִיתִ֖י </span></span></span></div></td><td class=\"tf rtl\"><div class=\"rtl\"><span class=\"plain rtl  hl\" ><span class=\"txtu hbo\">בְּרִיתִ֖י </span></span></div></td></tr></table>"
      ],
      "text/plain": [
       "<IPython.core.display.HTML object>"
      ]
     },
     "metadata": {},
     "output_type": "display_data"
    },
    {
     "data": {
      "text/html": [
       "<p><b>result</b> <i>4</i></p>"
      ],
      "text/plain": [
       "<IPython.core.display.HTML object>"
      ]
     },
     "metadata": {},
     "output_type": "display_data"
    },
    {
     "data": {
      "text/html": [
       "<div class=\"section rtl\"><a target=\"_blank\" href=\"https://shebanq.ancient-data.org/hebrew/text?book=Genesis&amp;chapter=17&amp;verse=7&amp;version=2017&amp;mr=m&amp;qw=q&amp;tp=txt_p&amp;tr=hb&amp;wget=v&amp;qget=v&amp;nget=vt\" title=\"Show this on SHEBANQ\" sec=\"Genesis 17:7\">Genesis 17:7</a></div><div class=\"rtl children\"><div class=\"contnr c3  rtl  \" ><div class=\"lbl c3  \" ><span class=\"nd\">verse</span></div><div class=\"children hor wrap rtl\"><div class=\"contnr c2  rtl  \" ><div class=\"lbl c2  \" ><span class=\"nd\">sentence</span></div><div class=\"children hor wrap rtl\"><div class=\"contnr c2  rtl  hl\" ><div class=\"lbl c2  hl\" ><span class=\"nd\">clause</span></div><div class=\"children hor wrap rtl\"><div class=\"contnr c1  rtl  \" ><div class=\"lbl c1  \" ><span class=\"nd\">phrase</span></div><div class='features'><span class=\"function xft\" ><span class=\"f\">function=</span>Conj</span></div><div class=\"children hor wrap rtl\"><div class=\"contnr c0 trm rtl  \" ><div class=\"lbl c0 trm \" ><a class=\" txtu hbo\" target=\"_blank\" href=\"https://shebanq.ancient-data.org/hebrew/word?version=2017&amp;id=1W\" title=\"Show this on SHEBANQ\"><span class=\"txtu hbo\">וַ</span></a></div><div class='features'><span class=\"lex xft\" ><span class=\"f\">lex=</span>W</span><span class=\"sp xft\" ><span class=\"f\">sp=</span>conj</span></div></div></div></div><div class=\"contnr c1  rtl  hl\" ><div class=\"lbl c1  hl\" ><span class=\"nd\">phrase</span></div><div class='features'><span class=\"function xft\" ><span class=\"f\">function=</span>Pred</span></div><div class=\"children hor wrap rtl\"><div class=\"contnr c0 trm rtl  hl\" ><div class=\"lbl c0 trm hl\" ><a class=\" txtu hbo\" target=\"_blank\" href=\"https://shebanq.ancient-data.org/hebrew/word?version=2017&amp;id=1QWMv\" title=\"Show this on SHEBANQ\"><span class=\"txtu hbo\">הֲקִמֹתִ֨י </span></a></div><div class='features'><span class=\"lex xft\" ><span class=\"f\">lex=</span>QWM[</span><span class=\"sp xft\" ><span class=\"f\">sp=</span>verb</span><span class=\"vs xft\" ><span class=\"f\">vs=</span>hif</span></div></div></div></div><div class=\"contnr c1  rtl  hl\" ><div class=\"lbl c1  hl\" ><span class=\"nd\">phrase</span></div><div class='features'><span class=\"function xft\" ><span class=\"f\">function=</span>Objc</span></div><div class=\"children hor wrap rtl\"><div class=\"contnr c0 trm rtl  \" ><div class=\"lbl c0 trm \" ><a class=\" txtu hbo\" target=\"_blank\" href=\"https://shebanq.ancient-data.org/hebrew/word?version=2017&amp;id=1AT\" title=\"Show this on SHEBANQ\"><span class=\"txtu hbo\">אֶת־</span></a></div><div class='features'><span class=\"lex xft\" ><span class=\"f\">lex=</span>>T</span><span class=\"sp xft\" ><span class=\"f\">sp=</span>prep</span></div></div><div class=\"contnr c0 trm rtl  hl\" ><div class=\"lbl c0 trm hl\" ><a class=\" txtu hbo\" target=\"_blank\" href=\"https://shebanq.ancient-data.org/hebrew/word?version=2017&amp;id=1BRJTn\" title=\"Show this on SHEBANQ\"><span class=\"txtu hbo\">בְּרִיתִ֜י </span></a></div><div class='features'><span class=\"lex xft\" ><span class=\"f\">lex=</span>BRJT/</span><span class=\"sp xft\" ><span class=\"f\">sp=</span>subs</span></div></div></div></div><div class=\"contnr c1  rtl  \" ><div class=\"lbl c1  \" ><span class=\"nd\">phrase</span></div><div class='features'><span class=\"function xft\" ><span class=\"f\">function=</span>Cmpl</span></div><div class=\"children hor wrap rtl\"><div class=\"contnr c0 trm rtl  \" ><div class=\"lbl c0 trm \" ><a class=\" txtu hbo\" target=\"_blank\" href=\"https://shebanq.ancient-data.org/hebrew/word?version=2017&amp;id=1BJNn\" title=\"Show this on SHEBANQ\"><span class=\"txtu hbo\">בֵּינִ֣י </span></a></div><div class='features'><span class=\"lex xft\" ><span class=\"f\">lex=</span>BJN/</span><span class=\"sp xft\" ><span class=\"f\">sp=</span>subs</span></div></div><div class=\"contnr c0 trm rtl  \" ><div class=\"lbl c0 trm \" ><a class=\" txtu hbo\" target=\"_blank\" href=\"https://shebanq.ancient-data.org/hebrew/word?version=2017&amp;id=1W\" title=\"Show this on SHEBANQ\"><span class=\"txtu hbo\">וּ</span></a></div><div class='features'><span class=\"lex xft\" ><span class=\"f\">lex=</span>W</span><span class=\"sp xft\" ><span class=\"f\">sp=</span>conj</span></div></div><div class=\"contnr c0 trm rtl  \" ><div class=\"lbl c0 trm \" ><a class=\" txtu hbo\" target=\"_blank\" href=\"https://shebanq.ancient-data.org/hebrew/word?version=2017&amp;id=1BJNn\" title=\"Show this on SHEBANQ\"><span class=\"txtu hbo\">בֵינֶ֗ךָ </span></a></div><div class='features'><span class=\"lex xft\" ><span class=\"f\">lex=</span>BJN/</span><span class=\"sp xft\" ><span class=\"f\">sp=</span>subs</span></div></div><div class=\"contnr c0 trm rtl  \" ><div class=\"lbl c0 trm \" ><a class=\" txtu hbo\" target=\"_blank\" href=\"https://shebanq.ancient-data.org/hebrew/word?version=2017&amp;id=1W\" title=\"Show this on SHEBANQ\"><span class=\"txtu hbo\">וּ</span></a></div><div class='features'><span class=\"lex xft\" ><span class=\"f\">lex=</span>W</span><span class=\"sp xft\" ><span class=\"f\">sp=</span>conj</span></div></div><div class=\"contnr c0 trm rtl  \" ><div class=\"lbl c0 trm \" ><a class=\" txtu hbo\" target=\"_blank\" href=\"https://shebanq.ancient-data.org/hebrew/word?version=2017&amp;id=1BJNn\" title=\"Show this on SHEBANQ\"><span class=\"txtu hbo\">בֵ֨ין </span></a></div><div class='features'><span class=\"lex xft\" ><span class=\"f\">lex=</span>BJN/</span><span class=\"sp xft\" ><span class=\"f\">sp=</span>subs</span></div></div><div class=\"contnr c0 trm rtl  \" ><div class=\"lbl c0 trm \" ><a class=\" txtu hbo\" target=\"_blank\" href=\"https://shebanq.ancient-data.org/hebrew/word?version=2017&amp;id=1ZROn\" title=\"Show this on SHEBANQ\"><span class=\"txtu hbo\">זַרְעֲךָ֧ </span></a></div><div class='features'><span class=\"lex xft\" ><span class=\"f\">lex=</span>ZR&lt;/</span><span class=\"sp xft\" ><span class=\"f\">sp=</span>subs</span></div></div><div class=\"contnr c0 trm rtl  \" ><div class=\"lbl c0 trm \" ><a class=\" txtu hbo\" target=\"_blank\" href=\"https://shebanq.ancient-data.org/hebrew/word?version=2017&amp;id=1AXRn\" title=\"Show this on SHEBANQ\"><span class=\"txtu hbo\">אַחֲרֶ֛יךָ </span></a></div><div class='features'><span class=\"lex xft\" ><span class=\"f\">lex=</span>>XR/</span><span class=\"sp xft\" ><span class=\"f\">sp=</span>subs</span></div></div><div class=\"contnr c0 trm rtl  \" ><div class=\"lbl c0 trm \" ><a class=\" txtu hbo\" target=\"_blank\" href=\"https://shebanq.ancient-data.org/hebrew/word?version=2017&amp;id=1L\" title=\"Show this on SHEBANQ\"><span class=\"txtu hbo\">לְ</span></a></div><div class='features'><span class=\"lex xft\" ><span class=\"f\">lex=</span>L</span><span class=\"sp xft\" ><span class=\"f\">sp=</span>prep</span></div></div><div class=\"contnr c0 trm rtl  \" ><div class=\"lbl c0 trm \" ><a class=\" txtu hbo\" target=\"_blank\" href=\"https://shebanq.ancient-data.org/hebrew/word?version=2017&amp;id=1DWRn\" title=\"Show this on SHEBANQ\"><span class=\"txtu hbo\">דֹרֹתָ֖ם </span></a></div><div class='features'><span class=\"lex xft\" ><span class=\"f\">lex=</span>DWR/</span><span class=\"sp xft\" ><span class=\"f\">sp=</span>subs</span></div></div></div></div><div class=\"contnr c1  rtl  \" ><div class=\"lbl c1  \" ><span class=\"nd\">phrase</span></div><div class='features'><span class=\"function xft\" ><span class=\"f\">function=</span>Cmpl</span></div><div class=\"children hor wrap rtl\"><div class=\"contnr c0 trm rtl  \" ><div class=\"lbl c0 trm \" ><a class=\" txtu hbo\" target=\"_blank\" href=\"https://shebanq.ancient-data.org/hebrew/word?version=2017&amp;id=1L\" title=\"Show this on SHEBANQ\"><span class=\"txtu hbo\">לִ</span></a></div><div class='features'><span class=\"lex xft\" ><span class=\"f\">lex=</span>L</span><span class=\"sp xft\" ><span class=\"f\">sp=</span>prep</span></div></div><div class=\"contnr c0 trm rtl  \" ><div class=\"lbl c0 trm \" ><a class=\" txtu hbo\" target=\"_blank\" href=\"https://shebanq.ancient-data.org/hebrew/word?version=2017&amp;id=1BRJTn\" title=\"Show this on SHEBANQ\"><span class=\"txtu hbo\">בְרִ֣ית </span></a></div><div class='features'><span class=\"lex xft\" ><span class=\"f\">lex=</span>BRJT/</span><span class=\"sp xft\" ><span class=\"f\">sp=</span>subs</span></div></div><div class=\"contnr c0 trm rtl  \" ><div class=\"lbl c0 trm \" ><a class=\" txtu hbo\" target=\"_blank\" href=\"https://shebanq.ancient-data.org/hebrew/word?version=2017&amp;id=1OWLMn\" title=\"Show this on SHEBANQ\"><span class=\"txtu hbo\">עֹולָ֑ם </span></a></div><div class='features'><span class=\"lex xft\" ><span class=\"f\">lex=</span>&lt;WLM/</span><span class=\"sp xft\" ><span class=\"f\">sp=</span>subs</span></div></div></div></div></div></div><div class=\"contnr c2  rtl  \" ><div class=\"lbl c2  \" ><span class=\"nd\">clause</span></div><div class=\"children hor wrap rtl\"><div class=\"contnr c1  rtl  \" ><div class=\"lbl c1  \" ><span class=\"nd\">phrase</span></div><div class='features'><span class=\"function xft\" ><span class=\"f\">function=</span>Pred</span></div><div class=\"children hor wrap rtl\"><div class=\"contnr c0 trm rtl  \" ><div class=\"lbl c0 trm \" ><a class=\" txtu hbo\" target=\"_blank\" href=\"https://shebanq.ancient-data.org/hebrew/word?version=2017&amp;id=1L\" title=\"Show this on SHEBANQ\"><span class=\"txtu hbo\">לִ</span></a></div><div class='features'><span class=\"lex xft\" ><span class=\"f\">lex=</span>L</span><span class=\"sp xft\" ><span class=\"f\">sp=</span>prep</span></div></div><div class=\"contnr c0 trm rtl  \" ><div class=\"lbl c0 trm \" ><a class=\" txtu hbo\" target=\"_blank\" href=\"https://shebanq.ancient-data.org/hebrew/word?version=2017&amp;id=1HJHv\" title=\"Show this on SHEBANQ\"><span class=\"txtu hbo\">הְיֹ֤ות </span></a></div><div class='features'><span class=\"lex xft\" ><span class=\"f\">lex=</span>HJH[</span><span class=\"sp xft\" ><span class=\"f\">sp=</span>verb</span><span class=\"vs xft\" ><span class=\"f\">vs=</span>qal</span></div></div></div></div><div class=\"contnr c1  rtl l \" ><div class=\"lbl c1  \" ><span class=\"nd\">phrase</span></div><div class='features'><span class=\"function xft\" ><span class=\"f\">function=</span>Cmpl</span></div><div class=\"children hor wrap rtl\"><div class=\"contnr c0 trm rtl  \" ><div class=\"lbl c0 trm \" ><a class=\" txtu hbo\" target=\"_blank\" href=\"https://shebanq.ancient-data.org/hebrew/word?version=2017&amp;id=1L\" title=\"Show this on SHEBANQ\"><span class=\"txtu hbo\">לְךָ֙ </span></a></div><div class='features'><span class=\"lex xft\" ><span class=\"f\">lex=</span>L</span><span class=\"sp xft\" ><span class=\"f\">sp=</span>prep</span></div></div></div></div><div class=\"contnr c1  rtl  \" ><div class=\"lbl c1  \" ><span class=\"nd\">phrase</span></div><div class='features'><span class=\"function xft\" ><span class=\"f\">function=</span>PreC</span></div><div class=\"children hor wrap rtl\"><div class=\"contnr c0 trm rtl  \" ><div class=\"lbl c0 trm \" ><a class=\" txtu hbo\" target=\"_blank\" href=\"https://shebanq.ancient-data.org/hebrew/word?version=2017&amp;id=1L\" title=\"Show this on SHEBANQ\"><span class=\"txtu hbo\">לֵֽ</span></a></div><div class='features'><span class=\"lex xft\" ><span class=\"f\">lex=</span>L</span><span class=\"sp xft\" ><span class=\"f\">sp=</span>prep</span></div></div><div class=\"contnr c0 trm rtl  \" ><div class=\"lbl c0 trm \" ><a class=\" txtu hbo\" target=\"_blank\" href=\"https://shebanq.ancient-data.org/hebrew/word?version=2017&amp;id=1ALHJMn\" title=\"Show this on SHEBANQ\"><span class=\"txtu hbo\">אלֹהִ֔ים </span></a></div><div class='features'><span class=\"lex xft\" ><span class=\"f\">lex=</span>>LHJM/</span><span class=\"sp xft\" ><span class=\"f\">sp=</span>subs</span></div></div></div></div><div class=\"contnr c1  rtl r \" ><div class=\"lbl c1  \" ><span class=\"nd\">phrase</span></div><div class='features'><span class=\"function xft\" ><span class=\"f\">function=</span>Cmpl</span></div><div class=\"children hor wrap rtl\"><div class=\"contnr c0 trm rtl  \" ><div class=\"lbl c0 trm \" ><a class=\" txtu hbo\" target=\"_blank\" href=\"https://shebanq.ancient-data.org/hebrew/word?version=2017&amp;id=1W\" title=\"Show this on SHEBANQ\"><span class=\"txtu hbo\">וּֽ</span></a></div><div class='features'><span class=\"lex xft\" ><span class=\"f\">lex=</span>W</span><span class=\"sp xft\" ><span class=\"f\">sp=</span>conj</span></div></div><div class=\"contnr c0 trm rtl  \" ><div class=\"lbl c0 trm \" ><a class=\" txtu hbo\" target=\"_blank\" href=\"https://shebanq.ancient-data.org/hebrew/word?version=2017&amp;id=1L\" title=\"Show this on SHEBANQ\"><span class=\"txtu hbo\">לְ</span></a></div><div class='features'><span class=\"lex xft\" ><span class=\"f\">lex=</span>L</span><span class=\"sp xft\" ><span class=\"f\">sp=</span>prep</span></div></div><div class=\"contnr c0 trm rtl  \" ><div class=\"lbl c0 trm \" ><a class=\" txtu hbo\" target=\"_blank\" href=\"https://shebanq.ancient-data.org/hebrew/word?version=2017&amp;id=1ZROn\" title=\"Show this on SHEBANQ\"><span class=\"txtu hbo\">זַרְעֲךָ֖ </span></a></div><div class='features'><span class=\"lex xft\" ><span class=\"f\">lex=</span>ZR&lt;/</span><span class=\"sp xft\" ><span class=\"f\">sp=</span>subs</span></div></div><div class=\"contnr c0 trm rtl  \" ><div class=\"lbl c0 trm \" ><a class=\" txtu hbo\" target=\"_blank\" href=\"https://shebanq.ancient-data.org/hebrew/word?version=2017&amp;id=1AXRn\" title=\"Show this on SHEBANQ\"><span class=\"txtu hbo\">אַחֲרֶֽיךָ׃ </span></a></div><div class='features'><span class=\"lex xft\" ><span class=\"f\">lex=</span>>XR/</span><span class=\"sp xft\" ><span class=\"f\">sp=</span>subs</span></div></div></div></div></div></div></div></div></div></div></div>"
      ],
      "text/plain": [
       "<IPython.core.display.HTML object>"
      ]
     },
     "metadata": {},
     "output_type": "display_data"
    }
   ],
   "source": [
    "query = \"\"\"\n",
    "clause\n",
    "  phrase function=Pred|PreC\n",
    "    word sp=verb vs=hif lex=QWM[\n",
    "  phrase function=Objc\n",
    "    word lex=BRJT/\n",
    "\"\"\"\n",
    "\n",
    "results = A.search(query)\n",
    "resultsx = sorted(\n",
    "    (L.u(r[0], otype=\"verse\") + r for r in results), key=lambda r: N.sortKey(r[0])\n",
    ")\n",
    "A.table(sorted(resultsx))\n",
    "A.show(resultsx, start=4, end=4)"
   ]
  },
  {
   "cell_type": "markdown",
   "metadata": {},
   "source": [
    "# By Reinoud Oosting (iii)\n",
    "## MQL\n",
    "\n",
    "[Reinoud Oosting: To find grace in sight of](https://shebanq.ancient-data.org/hebrew/query?version=4b&id=1484)\n",
    "\n",
    "```\n",
    "select all objects\n",
    "where\n",
    "\n",
    " [clause\n",
    "   [phrase FOCUS function = Pred OR function = PreC\n",
    "     [word sp = verb AND vs = qal AND lex = \"MY>[\" ]\n",
    "         ]\n",
    "    ..\n",
    "    [phrase function = Objc\n",
    "    [word FOCUS lex = \"XN/\" ]\n",
    "   ]\n",
    "[phrase function = Cmpl\n",
    "[word FOCUS lex = \"B\"]\n",
    "[word FOCUS lex = \"<JN/\"]\n",
    "]\n",
    " ]\n",
    "OR\n",
    " [clause\n",
    "    [phrase function = Objc\n",
    "      [word FOCUS lex = \"XN/\" ]\n",
    "    ]\n",
    "[phrase function = Cmpl\n",
    "[word FOCUS lex = \"B\"]\n",
    "[word FOCUS lex = \"<JN/\"]\n",
    "..\n",
    "   [phrase function = Pred OR function = PreC\n",
    "     [word FOCUS sp = verb AND vs = qal AND lex = \"MY>[\"]\n",
    "   ]\n",
    " ]\n",
    "]\n",
    "\n",
    "```\n",
    "\n",
    "38 results"
   ]
  },
  {
   "cell_type": "markdown",
   "metadata": {},
   "source": [
    "## TF"
   ]
  },
  {
   "cell_type": "code",
   "execution_count": 38,
   "metadata": {
    "ExecuteTime": {
     "end_time": "2018-05-07T08:04:34.090453Z",
     "start_time": "2018-05-07T08:04:29.577360Z"
    }
   },
   "outputs": [
    {
     "name": "stdout",
     "output_type": "stream",
     "text": [
      "  2.60s 40 results\n"
     ]
    },
    {
     "data": {
      "text/html": [
       "<table><tr class=\"tf rtl\"><th class=\"tf rtl\">n</th><th class=\"tf rtl\">p</th><th class=\"tf rtl\">verse</th><th class=\"tf\">clause</th><th class=\"tf\">phrase</th><th class=\"tf\">word</th><th class=\"tf\">phrase</th><th class=\"tf\">word</th><th class=\"tf\">phrase</th><th class=\"tf\">word</th><th class=\"tf\">word</th></tr>\n",
       "<tr class=\"tf rtl\"><td class=\"tf rtl\">1</td><td class=\"tf rtl\"><span class=\"section ltr\"><a target=\"_blank\" href=\"https://shebanq.ancient-data.org/hebrew/text?book=Genesis&amp;chapter=6&amp;verse=8&amp;version=2017&amp;mr=m&amp;qw=q&amp;tp=txt_p&amp;tr=hb&amp;wget=v&amp;qget=v&amp;nget=vt\" title=\"Show this on SHEBANQ\" sec=\"Genesis 6:8\">Genesis 6:8</a></span></td><td class=\"tf rtl\"><div class=\"rtl\"></div></td><td class=\"tf rtl\"><div class=\"rtl\"><span class=\"plain rtl  hlbx\" ><span class=\"txtu hbo\">וְ</span><span class=\"txtu hbo\">נֹ֕חַ </span><span class=\"plain rtl  hlbx\" ><span class=\"plain rtl  hl\" ><span class=\"txtu hbo\">מָ֥צָא </span></span></span><span class=\"plain rtl  hlbx\" ><span class=\"plain rtl  hl\" ><span class=\"txtu hbo\">חֵ֖ן </span></span></span><span class=\"plain rtl  hlbx\" ><span class=\"plain rtl  hl\" ><span class=\"txtu hbo\">בְּ</span></span><span class=\"plain rtl  hl\" ><span class=\"txtu hbo\">עֵינֵ֥י </span></span><span class=\"txtu hbo\">יְהוָֽה׃ פ </span></span></span></div></td><td class=\"tf rtl\"><div class=\"rtl\"><span class=\"plain rtl  hlbx\" ><span class=\"plain rtl  hl\" ><span class=\"txtu hbo\">מָ֥צָא </span></span></span></div></td><td class=\"tf rtl\"><div class=\"rtl\"><span class=\"plain rtl  hl\" ><span class=\"txtu hbo\">מָ֥צָא </span></span></div></td><td class=\"tf rtl\"><div class=\"rtl\"><span class=\"plain rtl  hlbx\" ><span class=\"plain rtl  hl\" ><span class=\"txtu hbo\">חֵ֖ן </span></span></span></div></td><td class=\"tf rtl\"><div class=\"rtl\"><span class=\"plain rtl  hl\" ><span class=\"txtu hbo\">חֵ֖ן </span></span></div></td><td class=\"tf rtl\"><div class=\"rtl\"><span class=\"plain rtl  hlbx\" ><span class=\"plain rtl  hl\" ><span class=\"txtu hbo\">בְּ</span></span><span class=\"plain rtl  hl\" ><span class=\"txtu hbo\">עֵינֵ֥י </span></span><span class=\"txtu hbo\">יְהוָֽה׃ פ </span></span></div></td><td class=\"tf rtl\"><div class=\"rtl\"><span class=\"plain rtl  hl\" ><span class=\"txtu hbo\">בְּ</span></span></div></td><td class=\"tf rtl\"><div class=\"rtl\"><span class=\"plain rtl  hl\" ><span class=\"txtu hbo\">עֵינֵ֥י </span></span></div></td></tr>\n",
       "<tr class=\"tf rtl\"><td class=\"tf rtl\">2</td><td class=\"tf rtl\"><span class=\"section ltr\"><a target=\"_blank\" href=\"https://shebanq.ancient-data.org/hebrew/text?book=Genesis&amp;chapter=18&amp;verse=3&amp;version=2017&amp;mr=m&amp;qw=q&amp;tp=txt_p&amp;tr=hb&amp;wget=v&amp;qget=v&amp;nget=vt\" title=\"Show this on SHEBANQ\" sec=\"Genesis 18:3\">Genesis 18:3</a></span></td><td class=\"tf rtl\"><div class=\"rtl\"></div></td><td class=\"tf rtl\"><div class=\"rtl\"><span class=\"plain rtl  hlbx\" ><span class=\"txtu hbo\">אִם־</span><span class=\"txtu hbo\">נָ֨א </span><span class=\"plain rtl  hlbx\" ><span class=\"plain rtl  hl\" ><span class=\"txtu hbo\">מָצָ֤אתִי </span></span></span><span class=\"plain rtl  hlbx\" ><span class=\"plain rtl  hl\" ><span class=\"txtu hbo\">חֵן֙ </span></span></span><span class=\"plain rtl  hlbx\" ><span class=\"plain rtl  hl\" ><span class=\"txtu hbo\">בְּ</span></span><span class=\"plain rtl  hl\" ><span class=\"txtu hbo\">עֵינֶ֔יךָ </span></span></span></span></div></td><td class=\"tf rtl\"><div class=\"rtl\"><span class=\"plain rtl  hlbx\" ><span class=\"plain rtl  hl\" ><span class=\"txtu hbo\">מָצָ֤אתִי </span></span></span></div></td><td class=\"tf rtl\"><div class=\"rtl\"><span class=\"plain rtl  hl\" ><span class=\"txtu hbo\">מָצָ֤אתִי </span></span></div></td><td class=\"tf rtl\"><div class=\"rtl\"><span class=\"plain rtl  hlbx\" ><span class=\"plain rtl  hl\" ><span class=\"txtu hbo\">חֵן֙ </span></span></span></div></td><td class=\"tf rtl\"><div class=\"rtl\"><span class=\"plain rtl  hl\" ><span class=\"txtu hbo\">חֵן֙ </span></span></div></td><td class=\"tf rtl\"><div class=\"rtl\"><span class=\"plain rtl  hlbx\" ><span class=\"plain rtl  hl\" ><span class=\"txtu hbo\">בְּ</span></span><span class=\"plain rtl  hl\" ><span class=\"txtu hbo\">עֵינֶ֔יךָ </span></span></span></div></td><td class=\"tf rtl\"><div class=\"rtl\"><span class=\"plain rtl  hl\" ><span class=\"txtu hbo\">בְּ</span></span></div></td><td class=\"tf rtl\"><div class=\"rtl\"><span class=\"plain rtl  hl\" ><span class=\"txtu hbo\">עֵינֶ֔יךָ </span></span></div></td></tr>\n",
       "<tr class=\"tf rtl\"><td class=\"tf rtl\">3</td><td class=\"tf rtl\"><span class=\"section ltr\"><a target=\"_blank\" href=\"https://shebanq.ancient-data.org/hebrew/text?book=Genesis&amp;chapter=19&amp;verse=19&amp;version=2017&amp;mr=m&amp;qw=q&amp;tp=txt_p&amp;tr=hb&amp;wget=v&amp;qget=v&amp;nget=vt\" title=\"Show this on SHEBANQ\" sec=\"Genesis 19:19\">Genesis 19:19</a></span></td><td class=\"tf rtl\"><div class=\"rtl\"></div></td><td class=\"tf rtl\"><div class=\"rtl\"><span class=\"plain rtl  hlbx\" ><span class=\"txtu hbo\">הִנֵּה־</span><span class=\"txtu hbo\">נָ֠א </span><span class=\"plain rtl  hlbx\" ><span class=\"plain rtl  hl\" ><span class=\"txtu hbo\">מָצָ֨א </span></span></span><span class=\"txtu hbo\">עַבְדְּךָ֣ </span><span class=\"plain rtl  hlbx\" ><span class=\"plain rtl  hl\" ><span class=\"txtu hbo\">חֵן֮ </span></span></span><span class=\"plain rtl  hlbx\" ><span class=\"plain rtl  hl\" ><span class=\"txtu hbo\">בְּ</span></span><span class=\"plain rtl  hl\" ><span class=\"txtu hbo\">עֵינֶיךָ֒ </span></span></span></span></div></td><td class=\"tf rtl\"><div class=\"rtl\"><span class=\"plain rtl  hlbx\" ><span class=\"plain rtl  hl\" ><span class=\"txtu hbo\">מָצָ֨א </span></span></span></div></td><td class=\"tf rtl\"><div class=\"rtl\"><span class=\"plain rtl  hl\" ><span class=\"txtu hbo\">מָצָ֨א </span></span></div></td><td class=\"tf rtl\"><div class=\"rtl\"><span class=\"plain rtl  hlbx\" ><span class=\"plain rtl  hl\" ><span class=\"txtu hbo\">חֵן֮ </span></span></span></div></td><td class=\"tf rtl\"><div class=\"rtl\"><span class=\"plain rtl  hl\" ><span class=\"txtu hbo\">חֵן֮ </span></span></div></td><td class=\"tf rtl\"><div class=\"rtl\"><span class=\"plain rtl  hlbx\" ><span class=\"plain rtl  hl\" ><span class=\"txtu hbo\">בְּ</span></span><span class=\"plain rtl  hl\" ><span class=\"txtu hbo\">עֵינֶיךָ֒ </span></span></span></div></td><td class=\"tf rtl\"><div class=\"rtl\"><span class=\"plain rtl  hl\" ><span class=\"txtu hbo\">בְּ</span></span></div></td><td class=\"tf rtl\"><div class=\"rtl\"><span class=\"plain rtl  hl\" ><span class=\"txtu hbo\">עֵינֶיךָ֒ </span></span></div></td></tr>\n",
       "<tr class=\"tf rtl\"><td class=\"tf rtl\">4</td><td class=\"tf rtl\"><span class=\"section ltr\"><a target=\"_blank\" href=\"https://shebanq.ancient-data.org/hebrew/text?book=Genesis&amp;chapter=30&amp;verse=27&amp;version=2017&amp;mr=m&amp;qw=q&amp;tp=txt_p&amp;tr=hb&amp;wget=v&amp;qget=v&amp;nget=vt\" title=\"Show this on SHEBANQ\" sec=\"Genesis 30:27\">Genesis 30:27</a></span></td><td class=\"tf rtl\"><div class=\"rtl\"></div></td><td class=\"tf rtl\"><div class=\"rtl\"><span class=\"plain rtl  hlbx\" ><span class=\"txtu hbo\">אִם־</span><span class=\"txtu hbo\">נָ֛א </span><span class=\"plain rtl  hlbx\" ><span class=\"plain rtl  hl\" ><span class=\"txtu hbo\">מָצָ֥אתִי </span></span></span><span class=\"plain rtl  hlbx\" ><span class=\"plain rtl  hl\" ><span class=\"txtu hbo\">חֵ֖ן </span></span></span><span class=\"plain rtl  hlbx\" ><span class=\"plain rtl  hl\" ><span class=\"txtu hbo\">בְּ</span></span><span class=\"plain rtl  hl\" ><span class=\"txtu hbo\">עֵינֶ֑יךָ </span></span></span></span></div></td><td class=\"tf rtl\"><div class=\"rtl\"><span class=\"plain rtl  hlbx\" ><span class=\"plain rtl  hl\" ><span class=\"txtu hbo\">מָצָ֥אתִי </span></span></span></div></td><td class=\"tf rtl\"><div class=\"rtl\"><span class=\"plain rtl  hl\" ><span class=\"txtu hbo\">מָצָ֥אתִי </span></span></div></td><td class=\"tf rtl\"><div class=\"rtl\"><span class=\"plain rtl  hlbx\" ><span class=\"plain rtl  hl\" ><span class=\"txtu hbo\">חֵ֖ן </span></span></span></div></td><td class=\"tf rtl\"><div class=\"rtl\"><span class=\"plain rtl  hl\" ><span class=\"txtu hbo\">חֵ֖ן </span></span></div></td><td class=\"tf rtl\"><div class=\"rtl\"><span class=\"plain rtl  hlbx\" ><span class=\"plain rtl  hl\" ><span class=\"txtu hbo\">בְּ</span></span><span class=\"plain rtl  hl\" ><span class=\"txtu hbo\">עֵינֶ֑יךָ </span></span></span></div></td><td class=\"tf rtl\"><div class=\"rtl\"><span class=\"plain rtl  hl\" ><span class=\"txtu hbo\">בְּ</span></span></div></td><td class=\"tf rtl\"><div class=\"rtl\"><span class=\"plain rtl  hl\" ><span class=\"txtu hbo\">עֵינֶ֑יךָ </span></span></div></td></tr>\n",
       "<tr class=\"tf rtl\"><td class=\"tf rtl\">5</td><td class=\"tf rtl\"><span class=\"section ltr\"><a target=\"_blank\" href=\"https://shebanq.ancient-data.org/hebrew/text?book=Genesis&amp;chapter=32&amp;verse=6&amp;version=2017&amp;mr=m&amp;qw=q&amp;tp=txt_p&amp;tr=hb&amp;wget=v&amp;qget=v&amp;nget=vt\" title=\"Show this on SHEBANQ\" sec=\"Genesis 32:6\">Genesis 32:6</a></span></td><td class=\"tf rtl\"><div class=\"rtl\"></div></td><td class=\"tf rtl\"><div class=\"rtl\"><span class=\"plain rtl  hlbx\" ><span class=\"plain rtl  hlbx\" ><span class=\"txtu hbo\">לִ</span><span class=\"plain rtl  hl\" ><span class=\"txtu hbo\">מְצֹא־</span></span></span><span class=\"plain rtl  hlbx\" ><span class=\"plain rtl  hl\" ><span class=\"txtu hbo\">חֵ֖ן </span></span></span><span class=\"plain rtl  hlbx\" ><span class=\"plain rtl  hl\" ><span class=\"txtu hbo\">בְּ</span></span><span class=\"plain rtl  hl\" ><span class=\"txtu hbo\">עֵינֶֽיךָ׃ </span></span></span></span></div></td><td class=\"tf rtl\"><div class=\"rtl\"><span class=\"plain rtl  hlbx\" ><span class=\"txtu hbo\">לִ</span><span class=\"plain rtl  hl\" ><span class=\"txtu hbo\">מְצֹא־</span></span></span></div></td><td class=\"tf rtl\"><div class=\"rtl\"><span class=\"plain rtl  hl\" ><span class=\"txtu hbo\">מְצֹא־</span></span></div></td><td class=\"tf rtl\"><div class=\"rtl\"><span class=\"plain rtl  hlbx\" ><span class=\"plain rtl  hl\" ><span class=\"txtu hbo\">חֵ֖ן </span></span></span></div></td><td class=\"tf rtl\"><div class=\"rtl\"><span class=\"plain rtl  hl\" ><span class=\"txtu hbo\">חֵ֖ן </span></span></div></td><td class=\"tf rtl\"><div class=\"rtl\"><span class=\"plain rtl  hlbx\" ><span class=\"plain rtl  hl\" ><span class=\"txtu hbo\">בְּ</span></span><span class=\"plain rtl  hl\" ><span class=\"txtu hbo\">עֵינֶֽיךָ׃ </span></span></span></div></td><td class=\"tf rtl\"><div class=\"rtl\"><span class=\"plain rtl  hl\" ><span class=\"txtu hbo\">בְּ</span></span></div></td><td class=\"tf rtl\"><div class=\"rtl\"><span class=\"plain rtl  hl\" ><span class=\"txtu hbo\">עֵינֶֽיךָ׃ </span></span></div></td></tr>\n",
       "<tr class=\"tf rtl\"><td class=\"tf rtl\">6</td><td class=\"tf rtl\"><span class=\"section ltr\"><a target=\"_blank\" href=\"https://shebanq.ancient-data.org/hebrew/text?book=Genesis&amp;chapter=33&amp;verse=8&amp;version=2017&amp;mr=m&amp;qw=q&amp;tp=txt_p&amp;tr=hb&amp;wget=v&amp;qget=v&amp;nget=vt\" title=\"Show this on SHEBANQ\" sec=\"Genesis 33:8\">Genesis 33:8</a></span></td><td class=\"tf rtl\"><div class=\"rtl\"></div></td><td class=\"tf rtl\"><div class=\"rtl\"><span class=\"plain rtl  hlbx\" ><span class=\"plain rtl  hlbx\" ><span class=\"txtu hbo\">לִ</span><span class=\"plain rtl  hl\" ><span class=\"txtu hbo\">מְצֹא־</span></span></span><span class=\"plain rtl  hlbx\" ><span class=\"plain rtl  hl\" ><span class=\"txtu hbo\">חֵ֖ן </span></span></span><span class=\"plain rtl  hlbx\" ><span class=\"plain rtl  hl\" ><span class=\"txtu hbo\">בְּ</span></span><span class=\"plain rtl  hl\" ><span class=\"txtu hbo\">עֵינֵ֥י </span></span><span class=\"txtu hbo\">אֲדֹנִֽי׃ </span></span></span></div></td><td class=\"tf rtl\"><div class=\"rtl\"><span class=\"plain rtl  hlbx\" ><span class=\"txtu hbo\">לִ</span><span class=\"plain rtl  hl\" ><span class=\"txtu hbo\">מְצֹא־</span></span></span></div></td><td class=\"tf rtl\"><div class=\"rtl\"><span class=\"plain rtl  hl\" ><span class=\"txtu hbo\">מְצֹא־</span></span></div></td><td class=\"tf rtl\"><div class=\"rtl\"><span class=\"plain rtl  hlbx\" ><span class=\"plain rtl  hl\" ><span class=\"txtu hbo\">חֵ֖ן </span></span></span></div></td><td class=\"tf rtl\"><div class=\"rtl\"><span class=\"plain rtl  hl\" ><span class=\"txtu hbo\">חֵ֖ן </span></span></div></td><td class=\"tf rtl\"><div class=\"rtl\"><span class=\"plain rtl  hlbx\" ><span class=\"plain rtl  hl\" ><span class=\"txtu hbo\">בְּ</span></span><span class=\"plain rtl  hl\" ><span class=\"txtu hbo\">עֵינֵ֥י </span></span><span class=\"txtu hbo\">אֲדֹנִֽי׃ </span></span></div></td><td class=\"tf rtl\"><div class=\"rtl\"><span class=\"plain rtl  hl\" ><span class=\"txtu hbo\">בְּ</span></span></div></td><td class=\"tf rtl\"><div class=\"rtl\"><span class=\"plain rtl  hl\" ><span class=\"txtu hbo\">עֵינֵ֥י </span></span></div></td></tr>\n",
       "<tr class=\"tf rtl\"><td class=\"tf rtl\">7</td><td class=\"tf rtl\"><span class=\"section ltr\"><a target=\"_blank\" href=\"https://shebanq.ancient-data.org/hebrew/text?book=Genesis&amp;chapter=33&amp;verse=10&amp;version=2017&amp;mr=m&amp;qw=q&amp;tp=txt_p&amp;tr=hb&amp;wget=v&amp;qget=v&amp;nget=vt\" title=\"Show this on SHEBANQ\" sec=\"Genesis 33:10\">Genesis 33:10</a></span></td><td class=\"tf rtl\"><div class=\"rtl\"></div></td><td class=\"tf rtl\"><div class=\"rtl\"><span class=\"plain rtl  hlbx\" ><span class=\"txtu hbo\">אִם־</span><span class=\"txtu hbo\">נָ֨א </span><span class=\"plain rtl  hlbx\" ><span class=\"plain rtl  hl\" ><span class=\"txtu hbo\">מָצָ֤אתִי </span></span></span><span class=\"plain rtl  hlbx\" ><span class=\"plain rtl  hl\" ><span class=\"txtu hbo\">חֵן֙ </span></span></span><span class=\"plain rtl  hlbx\" ><span class=\"plain rtl  hl\" ><span class=\"txtu hbo\">בְּ</span></span><span class=\"plain rtl  hl\" ><span class=\"txtu hbo\">עֵינֶ֔יךָ </span></span></span></span></div></td><td class=\"tf rtl\"><div class=\"rtl\"><span class=\"plain rtl  hlbx\" ><span class=\"plain rtl  hl\" ><span class=\"txtu hbo\">מָצָ֤אתִי </span></span></span></div></td><td class=\"tf rtl\"><div class=\"rtl\"><span class=\"plain rtl  hl\" ><span class=\"txtu hbo\">מָצָ֤אתִי </span></span></div></td><td class=\"tf rtl\"><div class=\"rtl\"><span class=\"plain rtl  hlbx\" ><span class=\"plain rtl  hl\" ><span class=\"txtu hbo\">חֵן֙ </span></span></span></div></td><td class=\"tf rtl\"><div class=\"rtl\"><span class=\"plain rtl  hl\" ><span class=\"txtu hbo\">חֵן֙ </span></span></div></td><td class=\"tf rtl\"><div class=\"rtl\"><span class=\"plain rtl  hlbx\" ><span class=\"plain rtl  hl\" ><span class=\"txtu hbo\">בְּ</span></span><span class=\"plain rtl  hl\" ><span class=\"txtu hbo\">עֵינֶ֔יךָ </span></span></span></div></td><td class=\"tf rtl\"><div class=\"rtl\"><span class=\"plain rtl  hl\" ><span class=\"txtu hbo\">בְּ</span></span></div></td><td class=\"tf rtl\"><div class=\"rtl\"><span class=\"plain rtl  hl\" ><span class=\"txtu hbo\">עֵינֶ֔יךָ </span></span></div></td></tr>\n",
       "<tr class=\"tf rtl\"><td class=\"tf rtl\">8</td><td class=\"tf rtl\"><span class=\"section ltr\"><a target=\"_blank\" href=\"https://shebanq.ancient-data.org/hebrew/text?book=Genesis&amp;chapter=33&amp;verse=15&amp;version=2017&amp;mr=m&amp;qw=q&amp;tp=txt_p&amp;tr=hb&amp;wget=v&amp;qget=v&amp;nget=vt\" title=\"Show this on SHEBANQ\" sec=\"Genesis 33:15\">Genesis 33:15</a></span></td><td class=\"tf rtl\"><div class=\"rtl\"></div></td><td class=\"tf rtl\"><div class=\"rtl\"><span class=\"plain rtl  hlbx\" ><span class=\"txtu hbo\">לָ֣מָּה </span><span class=\"txtu hbo\">זֶּ֔ה </span><span class=\"plain rtl  hlbx\" ><span class=\"plain rtl  hl\" ><span class=\"txtu hbo\">אֶמְצָא־</span></span></span><span class=\"plain rtl  hlbx\" ><span class=\"plain rtl  hl\" ><span class=\"txtu hbo\">חֵ֖ן </span></span></span><span class=\"plain rtl  hlbx\" ><span class=\"plain rtl  hl\" ><span class=\"txtu hbo\">בְּ</span></span><span class=\"plain rtl  hl\" ><span class=\"txtu hbo\">עֵינֵ֥י </span></span><span class=\"txtu hbo\">אֲדֹנִֽי׃ </span></span></span></div></td><td class=\"tf rtl\"><div class=\"rtl\"><span class=\"plain rtl  hlbx\" ><span class=\"plain rtl  hl\" ><span class=\"txtu hbo\">אֶמְצָא־</span></span></span></div></td><td class=\"tf rtl\"><div class=\"rtl\"><span class=\"plain rtl  hl\" ><span class=\"txtu hbo\">אֶמְצָא־</span></span></div></td><td class=\"tf rtl\"><div class=\"rtl\"><span class=\"plain rtl  hlbx\" ><span class=\"plain rtl  hl\" ><span class=\"txtu hbo\">חֵ֖ן </span></span></span></div></td><td class=\"tf rtl\"><div class=\"rtl\"><span class=\"plain rtl  hl\" ><span class=\"txtu hbo\">חֵ֖ן </span></span></div></td><td class=\"tf rtl\"><div class=\"rtl\"><span class=\"plain rtl  hlbx\" ><span class=\"plain rtl  hl\" ><span class=\"txtu hbo\">בְּ</span></span><span class=\"plain rtl  hl\" ><span class=\"txtu hbo\">עֵינֵ֥י </span></span><span class=\"txtu hbo\">אֲדֹנִֽי׃ </span></span></div></td><td class=\"tf rtl\"><div class=\"rtl\"><span class=\"plain rtl  hl\" ><span class=\"txtu hbo\">בְּ</span></span></div></td><td class=\"tf rtl\"><div class=\"rtl\"><span class=\"plain rtl  hl\" ><span class=\"txtu hbo\">עֵינֵ֥י </span></span></div></td></tr>\n",
       "<tr class=\"tf rtl\"><td class=\"tf rtl\">9</td><td class=\"tf rtl\"><span class=\"section ltr\"><a target=\"_blank\" href=\"https://shebanq.ancient-data.org/hebrew/text?book=Genesis&amp;chapter=34&amp;verse=11&amp;version=2017&amp;mr=m&amp;qw=q&amp;tp=txt_p&amp;tr=hb&amp;wget=v&amp;qget=v&amp;nget=vt\" title=\"Show this on SHEBANQ\" sec=\"Genesis 34:11\">Genesis 34:11</a></span></td><td class=\"tf rtl\"><div class=\"rtl\"></div></td><td class=\"tf rtl\"><div class=\"rtl\"><span class=\"plain rtl  hlbx\" ><span class=\"plain rtl  hlbx\" ><span class=\"plain rtl  hl\" ><span class=\"txtu hbo\">אֶמְצָא־</span></span></span><span class=\"plain rtl  hlbx\" ><span class=\"plain rtl  hl\" ><span class=\"txtu hbo\">חֵ֖ן </span></span></span><span class=\"plain rtl  hlbx\" ><span class=\"plain rtl  hl\" ><span class=\"txtu hbo\">בְּ</span></span><span class=\"plain rtl  hl\" ><span class=\"txtu hbo\">עֵינֵיכֶ֑ם </span></span></span></span></div></td><td class=\"tf rtl\"><div class=\"rtl\"><span class=\"plain rtl  hlbx\" ><span class=\"plain rtl  hl\" ><span class=\"txtu hbo\">אֶמְצָא־</span></span></span></div></td><td class=\"tf rtl\"><div class=\"rtl\"><span class=\"plain rtl  hl\" ><span class=\"txtu hbo\">אֶמְצָא־</span></span></div></td><td class=\"tf rtl\"><div class=\"rtl\"><span class=\"plain rtl  hlbx\" ><span class=\"plain rtl  hl\" ><span class=\"txtu hbo\">חֵ֖ן </span></span></span></div></td><td class=\"tf rtl\"><div class=\"rtl\"><span class=\"plain rtl  hl\" ><span class=\"txtu hbo\">חֵ֖ן </span></span></div></td><td class=\"tf rtl\"><div class=\"rtl\"><span class=\"plain rtl  hlbx\" ><span class=\"plain rtl  hl\" ><span class=\"txtu hbo\">בְּ</span></span><span class=\"plain rtl  hl\" ><span class=\"txtu hbo\">עֵינֵיכֶ֑ם </span></span></span></div></td><td class=\"tf rtl\"><div class=\"rtl\"><span class=\"plain rtl  hl\" ><span class=\"txtu hbo\">בְּ</span></span></div></td><td class=\"tf rtl\"><div class=\"rtl\"><span class=\"plain rtl  hl\" ><span class=\"txtu hbo\">עֵינֵיכֶ֑ם </span></span></div></td></tr>\n",
       "<tr class=\"tf rtl\"><td class=\"tf rtl\">10</td><td class=\"tf rtl\"><span class=\"section ltr\"><a target=\"_blank\" href=\"https://shebanq.ancient-data.org/hebrew/text?book=Genesis&amp;chapter=39&amp;verse=4&amp;version=2017&amp;mr=m&amp;qw=q&amp;tp=txt_p&amp;tr=hb&amp;wget=v&amp;qget=v&amp;nget=vt\" title=\"Show this on SHEBANQ\" sec=\"Genesis 39:4\">Genesis 39:4</a></span></td><td class=\"tf rtl\"><div class=\"rtl\"></div></td><td class=\"tf rtl\"><div class=\"rtl\"><span class=\"plain rtl  hlbx\" ><span class=\"txtu hbo\">וַ</span><span class=\"plain rtl  hlbx\" ><span class=\"plain rtl  hl\" ><span class=\"txtu hbo\">יִּמְצָ֨א </span></span></span><span class=\"txtu hbo\">יֹוסֵ֥ף </span><span class=\"plain rtl  hlbx\" ><span class=\"plain rtl  hl\" ><span class=\"txtu hbo\">חֵ֛ן </span></span></span><span class=\"plain rtl  hlbx\" ><span class=\"plain rtl  hl\" ><span class=\"txtu hbo\">בְּ</span></span><span class=\"plain rtl  hl\" ><span class=\"txtu hbo\">עֵינָ֖יו </span></span></span></span></div></td><td class=\"tf rtl\"><div class=\"rtl\"><span class=\"plain rtl  hlbx\" ><span class=\"plain rtl  hl\" ><span class=\"txtu hbo\">יִּמְצָ֨א </span></span></span></div></td><td class=\"tf rtl\"><div class=\"rtl\"><span class=\"plain rtl  hl\" ><span class=\"txtu hbo\">יִּמְצָ֨א </span></span></div></td><td class=\"tf rtl\"><div class=\"rtl\"><span class=\"plain rtl  hlbx\" ><span class=\"plain rtl  hl\" ><span class=\"txtu hbo\">חֵ֛ן </span></span></span></div></td><td class=\"tf rtl\"><div class=\"rtl\"><span class=\"plain rtl  hl\" ><span class=\"txtu hbo\">חֵ֛ן </span></span></div></td><td class=\"tf rtl\"><div class=\"rtl\"><span class=\"plain rtl  hlbx\" ><span class=\"plain rtl  hl\" ><span class=\"txtu hbo\">בְּ</span></span><span class=\"plain rtl  hl\" ><span class=\"txtu hbo\">עֵינָ֖יו </span></span></span></div></td><td class=\"tf rtl\"><div class=\"rtl\"><span class=\"plain rtl  hl\" ><span class=\"txtu hbo\">בְּ</span></span></div></td><td class=\"tf rtl\"><div class=\"rtl\"><span class=\"plain rtl  hl\" ><span class=\"txtu hbo\">עֵינָ֖יו </span></span></div></td></tr>\n",
       "<tr class=\"tf rtl\"><td class=\"tf rtl\">11</td><td class=\"tf rtl\"><span class=\"section ltr\"><a target=\"_blank\" href=\"https://shebanq.ancient-data.org/hebrew/text?book=Genesis&amp;chapter=47&amp;verse=25&amp;version=2017&amp;mr=m&amp;qw=q&amp;tp=txt_p&amp;tr=hb&amp;wget=v&amp;qget=v&amp;nget=vt\" title=\"Show this on SHEBANQ\" sec=\"Genesis 47:25\">Genesis 47:25</a></span></td><td class=\"tf rtl\"><div class=\"rtl\"></div></td><td class=\"tf rtl\"><div class=\"rtl\"><span class=\"plain rtl  hlbx\" ><span class=\"plain rtl  hlbx\" ><span class=\"plain rtl  hl\" ><span class=\"txtu hbo\">נִמְצָא־</span></span></span><span class=\"plain rtl  hlbx\" ><span class=\"plain rtl  hl\" ><span class=\"txtu hbo\">חֵן֙ </span></span></span><span class=\"plain rtl  hlbx\" ><span class=\"plain rtl  hl\" ><span class=\"txtu hbo\">בְּ</span></span><span class=\"plain rtl  hl\" ><span class=\"txtu hbo\">עֵינֵ֣י </span></span><span class=\"txtu hbo\">אֲדֹנִ֔י </span></span></span></div></td><td class=\"tf rtl\"><div class=\"rtl\"><span class=\"plain rtl  hlbx\" ><span class=\"plain rtl  hl\" ><span class=\"txtu hbo\">נִמְצָא־</span></span></span></div></td><td class=\"tf rtl\"><div class=\"rtl\"><span class=\"plain rtl  hl\" ><span class=\"txtu hbo\">נִמְצָא־</span></span></div></td><td class=\"tf rtl\"><div class=\"rtl\"><span class=\"plain rtl  hlbx\" ><span class=\"plain rtl  hl\" ><span class=\"txtu hbo\">חֵן֙ </span></span></span></div></td><td class=\"tf rtl\"><div class=\"rtl\"><span class=\"plain rtl  hl\" ><span class=\"txtu hbo\">חֵן֙ </span></span></div></td><td class=\"tf rtl\"><div class=\"rtl\"><span class=\"plain rtl  hlbx\" ><span class=\"plain rtl  hl\" ><span class=\"txtu hbo\">בְּ</span></span><span class=\"plain rtl  hl\" ><span class=\"txtu hbo\">עֵינֵ֣י </span></span><span class=\"txtu hbo\">אֲדֹנִ֔י </span></span></div></td><td class=\"tf rtl\"><div class=\"rtl\"><span class=\"plain rtl  hl\" ><span class=\"txtu hbo\">בְּ</span></span></div></td><td class=\"tf rtl\"><div class=\"rtl\"><span class=\"plain rtl  hl\" ><span class=\"txtu hbo\">עֵינֵ֣י </span></span></div></td></tr>\n",
       "<tr class=\"tf rtl\"><td class=\"tf rtl\">12</td><td class=\"tf rtl\"><span class=\"section ltr\"><a target=\"_blank\" href=\"https://shebanq.ancient-data.org/hebrew/text?book=Genesis&amp;chapter=47&amp;verse=29&amp;version=2017&amp;mr=m&amp;qw=q&amp;tp=txt_p&amp;tr=hb&amp;wget=v&amp;qget=v&amp;nget=vt\" title=\"Show this on SHEBANQ\" sec=\"Genesis 47:29\">Genesis 47:29</a></span></td><td class=\"tf rtl\"><div class=\"rtl\"></div></td><td class=\"tf rtl\"><div class=\"rtl\"><span class=\"plain rtl  hlbx\" ><span class=\"txtu hbo\">אִם־</span><span class=\"txtu hbo\">נָ֨א </span><span class=\"plain rtl  hlbx\" ><span class=\"plain rtl  hl\" ><span class=\"txtu hbo\">מָצָ֤אתִי </span></span></span><span class=\"plain rtl  hlbx\" ><span class=\"plain rtl  hl\" ><span class=\"txtu hbo\">חֵן֙ </span></span></span><span class=\"plain rtl  hlbx\" ><span class=\"plain rtl  hl\" ><span class=\"txtu hbo\">בְּ</span></span><span class=\"plain rtl  hl\" ><span class=\"txtu hbo\">עֵינֶ֔יךָ </span></span></span></span></div></td><td class=\"tf rtl\"><div class=\"rtl\"><span class=\"plain rtl  hlbx\" ><span class=\"plain rtl  hl\" ><span class=\"txtu hbo\">מָצָ֤אתִי </span></span></span></div></td><td class=\"tf rtl\"><div class=\"rtl\"><span class=\"plain rtl  hl\" ><span class=\"txtu hbo\">מָצָ֤אתִי </span></span></div></td><td class=\"tf rtl\"><div class=\"rtl\"><span class=\"plain rtl  hlbx\" ><span class=\"plain rtl  hl\" ><span class=\"txtu hbo\">חֵן֙ </span></span></span></div></td><td class=\"tf rtl\"><div class=\"rtl\"><span class=\"plain rtl  hl\" ><span class=\"txtu hbo\">חֵן֙ </span></span></div></td><td class=\"tf rtl\"><div class=\"rtl\"><span class=\"plain rtl  hlbx\" ><span class=\"plain rtl  hl\" ><span class=\"txtu hbo\">בְּ</span></span><span class=\"plain rtl  hl\" ><span class=\"txtu hbo\">עֵינֶ֔יךָ </span></span></span></div></td><td class=\"tf rtl\"><div class=\"rtl\"><span class=\"plain rtl  hl\" ><span class=\"txtu hbo\">בְּ</span></span></div></td><td class=\"tf rtl\"><div class=\"rtl\"><span class=\"plain rtl  hl\" ><span class=\"txtu hbo\">עֵינֶ֔יךָ </span></span></div></td></tr>\n",
       "<tr class=\"tf rtl\"><td class=\"tf rtl\">13</td><td class=\"tf rtl\"><span class=\"section ltr\"><a target=\"_blank\" href=\"https://shebanq.ancient-data.org/hebrew/text?book=Genesis&amp;chapter=50&amp;verse=4&amp;version=2017&amp;mr=m&amp;qw=q&amp;tp=txt_p&amp;tr=hb&amp;wget=v&amp;qget=v&amp;nget=vt\" title=\"Show this on SHEBANQ\" sec=\"Genesis 50:4\">Genesis 50:4</a></span></td><td class=\"tf rtl\"><div class=\"rtl\"></div></td><td class=\"tf rtl\"><div class=\"rtl\"><span class=\"plain rtl  hlbx\" ><span class=\"txtu hbo\">אִם־</span><span class=\"txtu hbo\">נָ֨א </span><span class=\"plain rtl  hlbx\" ><span class=\"plain rtl  hl\" ><span class=\"txtu hbo\">מָצָ֤אתִי </span></span></span><span class=\"plain rtl  hlbx\" ><span class=\"plain rtl  hl\" ><span class=\"txtu hbo\">חֵן֙ </span></span></span><span class=\"plain rtl  hlbx\" ><span class=\"plain rtl  hl\" ><span class=\"txtu hbo\">בְּ</span></span><span class=\"plain rtl  hl\" ><span class=\"txtu hbo\">עֵ֣ינֵיכֶ֔ם </span></span></span></span></div></td><td class=\"tf rtl\"><div class=\"rtl\"><span class=\"plain rtl  hlbx\" ><span class=\"plain rtl  hl\" ><span class=\"txtu hbo\">מָצָ֤אתִי </span></span></span></div></td><td class=\"tf rtl\"><div class=\"rtl\"><span class=\"plain rtl  hl\" ><span class=\"txtu hbo\">מָצָ֤אתִי </span></span></div></td><td class=\"tf rtl\"><div class=\"rtl\"><span class=\"plain rtl  hlbx\" ><span class=\"plain rtl  hl\" ><span class=\"txtu hbo\">חֵן֙ </span></span></span></div></td><td class=\"tf rtl\"><div class=\"rtl\"><span class=\"plain rtl  hl\" ><span class=\"txtu hbo\">חֵן֙ </span></span></div></td><td class=\"tf rtl\"><div class=\"rtl\"><span class=\"plain rtl  hlbx\" ><span class=\"plain rtl  hl\" ><span class=\"txtu hbo\">בְּ</span></span><span class=\"plain rtl  hl\" ><span class=\"txtu hbo\">עֵ֣ינֵיכֶ֔ם </span></span></span></div></td><td class=\"tf rtl\"><div class=\"rtl\"><span class=\"plain rtl  hl\" ><span class=\"txtu hbo\">בְּ</span></span></div></td><td class=\"tf rtl\"><div class=\"rtl\"><span class=\"plain rtl  hl\" ><span class=\"txtu hbo\">עֵ֣ינֵיכֶ֔ם </span></span></div></td></tr>\n",
       "<tr class=\"tf rtl\"><td class=\"tf rtl\">14</td><td class=\"tf rtl\"><span class=\"section ltr\"><a target=\"_blank\" href=\"https://shebanq.ancient-data.org/hebrew/text?book=Exodus&amp;chapter=33&amp;verse=12&amp;version=2017&amp;mr=m&amp;qw=q&amp;tp=txt_p&amp;tr=hb&amp;wget=v&amp;qget=v&amp;nget=vt\" title=\"Show this on SHEBANQ\" sec=\"Exodus 33:12\">Exodus 33:12</a></span></td><td class=\"tf rtl\"><div class=\"rtl\"></div></td><td class=\"tf rtl\"><div class=\"rtl\"><span class=\"plain rtl  hlbx\" ><span class=\"txtu hbo\">וְ</span><span class=\"txtu hbo\">גַם־</span><span class=\"plain rtl  hlbx\" ><span class=\"plain rtl  hl\" ><span class=\"txtu hbo\">מָצָ֥אתָ </span></span></span><span class=\"plain rtl  hlbx\" ><span class=\"plain rtl  hl\" ><span class=\"txtu hbo\">חֵ֖ן </span></span></span><span class=\"plain rtl  hlbx\" ><span class=\"plain rtl  hl\" ><span class=\"txtu hbo\">בְּ</span></span><span class=\"plain rtl  hl\" ><span class=\"txtu hbo\">עֵינָֽי׃ </span></span></span></span></div></td><td class=\"tf rtl\"><div class=\"rtl\"><span class=\"plain rtl  hlbx\" ><span class=\"plain rtl  hl\" ><span class=\"txtu hbo\">מָצָ֥אתָ </span></span></span></div></td><td class=\"tf rtl\"><div class=\"rtl\"><span class=\"plain rtl  hl\" ><span class=\"txtu hbo\">מָצָ֥אתָ </span></span></div></td><td class=\"tf rtl\"><div class=\"rtl\"><span class=\"plain rtl  hlbx\" ><span class=\"plain rtl  hl\" ><span class=\"txtu hbo\">חֵ֖ן </span></span></span></div></td><td class=\"tf rtl\"><div class=\"rtl\"><span class=\"plain rtl  hl\" ><span class=\"txtu hbo\">חֵ֖ן </span></span></div></td><td class=\"tf rtl\"><div class=\"rtl\"><span class=\"plain rtl  hlbx\" ><span class=\"plain rtl  hl\" ><span class=\"txtu hbo\">בְּ</span></span><span class=\"plain rtl  hl\" ><span class=\"txtu hbo\">עֵינָֽי׃ </span></span></span></div></td><td class=\"tf rtl\"><div class=\"rtl\"><span class=\"plain rtl  hl\" ><span class=\"txtu hbo\">בְּ</span></span></div></td><td class=\"tf rtl\"><div class=\"rtl\"><span class=\"plain rtl  hl\" ><span class=\"txtu hbo\">עֵינָֽי׃ </span></span></div></td></tr>\n",
       "<tr class=\"tf rtl\"><td class=\"tf rtl\">15</td><td class=\"tf rtl\"><span class=\"section ltr\"><a target=\"_blank\" href=\"https://shebanq.ancient-data.org/hebrew/text?book=Exodus&amp;chapter=33&amp;verse=13&amp;version=2017&amp;mr=m&amp;qw=q&amp;tp=txt_p&amp;tr=hb&amp;wget=v&amp;qget=v&amp;nget=vt\" title=\"Show this on SHEBANQ\" sec=\"Exodus 33:13\">Exodus 33:13</a></span></td><td class=\"tf rtl\"><div class=\"rtl\"></div></td><td class=\"tf rtl\"><div class=\"rtl\"><span class=\"plain rtl  hlbx\" ><span class=\"txtu hbo\">אִם־</span><span class=\"txtu hbo\">נָא֩ </span><span class=\"plain rtl  hlbx\" ><span class=\"plain rtl  hl\" ><span class=\"txtu hbo\">מָצָ֨אתִי </span></span></span><span class=\"plain rtl  hlbx\" ><span class=\"plain rtl  hl\" ><span class=\"txtu hbo\">חֵ֜ן </span></span></span><span class=\"plain rtl  hlbx\" ><span class=\"plain rtl  hl\" ><span class=\"txtu hbo\">בְּ</span></span><span class=\"plain rtl  hl\" ><span class=\"txtu hbo\">עֵינֶ֗יךָ </span></span></span></span></div></td><td class=\"tf rtl\"><div class=\"rtl\"><span class=\"plain rtl  hlbx\" ><span class=\"plain rtl  hl\" ><span class=\"txtu hbo\">מָצָ֨אתִי </span></span></span></div></td><td class=\"tf rtl\"><div class=\"rtl\"><span class=\"plain rtl  hl\" ><span class=\"txtu hbo\">מָצָ֨אתִי </span></span></div></td><td class=\"tf rtl\"><div class=\"rtl\"><span class=\"plain rtl  hlbx\" ><span class=\"plain rtl  hl\" ><span class=\"txtu hbo\">חֵ֜ן </span></span></span></div></td><td class=\"tf rtl\"><div class=\"rtl\"><span class=\"plain rtl  hl\" ><span class=\"txtu hbo\">חֵ֜ן </span></span></div></td><td class=\"tf rtl\"><div class=\"rtl\"><span class=\"plain rtl  hlbx\" ><span class=\"plain rtl  hl\" ><span class=\"txtu hbo\">בְּ</span></span><span class=\"plain rtl  hl\" ><span class=\"txtu hbo\">עֵינֶ֗יךָ </span></span></span></div></td><td class=\"tf rtl\"><div class=\"rtl\"><span class=\"plain rtl  hl\" ><span class=\"txtu hbo\">בְּ</span></span></div></td><td class=\"tf rtl\"><div class=\"rtl\"><span class=\"plain rtl  hl\" ><span class=\"txtu hbo\">עֵינֶ֗יךָ </span></span></div></td></tr>\n",
       "<tr class=\"tf rtl\"><td class=\"tf rtl\">16</td><td class=\"tf rtl\"><span class=\"section ltr\"><a target=\"_blank\" href=\"https://shebanq.ancient-data.org/hebrew/text?book=Exodus&amp;chapter=33&amp;verse=13&amp;version=2017&amp;mr=m&amp;qw=q&amp;tp=txt_p&amp;tr=hb&amp;wget=v&amp;qget=v&amp;nget=vt\" title=\"Show this on SHEBANQ\" sec=\"Exodus 33:13\">Exodus 33:13</a></span></td><td class=\"tf rtl\"><div class=\"rtl\"></div></td><td class=\"tf rtl\"><div class=\"rtl\"><span class=\"plain rtl  hlbx\" ><span class=\"txtu hbo\">לְמַ֥עַן </span><span class=\"plain rtl  hlbx\" ><span class=\"plain rtl  hl\" ><span class=\"txtu hbo\">אֶמְצָא־</span></span></span><span class=\"plain rtl  hlbx\" ><span class=\"plain rtl  hl\" ><span class=\"txtu hbo\">חֵ֖ן </span></span></span><span class=\"plain rtl  hlbx\" ><span class=\"plain rtl  hl\" ><span class=\"txtu hbo\">בְּ</span></span><span class=\"plain rtl  hl\" ><span class=\"txtu hbo\">עֵינֶ֑יךָ </span></span></span></span></div></td><td class=\"tf rtl\"><div class=\"rtl\"><span class=\"plain rtl  hlbx\" ><span class=\"plain rtl  hl\" ><span class=\"txtu hbo\">אֶמְצָא־</span></span></span></div></td><td class=\"tf rtl\"><div class=\"rtl\"><span class=\"plain rtl  hl\" ><span class=\"txtu hbo\">אֶמְצָא־</span></span></div></td><td class=\"tf rtl\"><div class=\"rtl\"><span class=\"plain rtl  hlbx\" ><span class=\"plain rtl  hl\" ><span class=\"txtu hbo\">חֵ֖ן </span></span></span></div></td><td class=\"tf rtl\"><div class=\"rtl\"><span class=\"plain rtl  hl\" ><span class=\"txtu hbo\">חֵ֖ן </span></span></div></td><td class=\"tf rtl\"><div class=\"rtl\"><span class=\"plain rtl  hlbx\" ><span class=\"plain rtl  hl\" ><span class=\"txtu hbo\">בְּ</span></span><span class=\"plain rtl  hl\" ><span class=\"txtu hbo\">עֵינֶ֑יךָ </span></span></span></div></td><td class=\"tf rtl\"><div class=\"rtl\"><span class=\"plain rtl  hl\" ><span class=\"txtu hbo\">בְּ</span></span></div></td><td class=\"tf rtl\"><div class=\"rtl\"><span class=\"plain rtl  hl\" ><span class=\"txtu hbo\">עֵינֶ֑יךָ </span></span></div></td></tr>\n",
       "<tr class=\"tf rtl\"><td class=\"tf rtl\">17</td><td class=\"tf rtl\"><span class=\"section ltr\"><a target=\"_blank\" href=\"https://shebanq.ancient-data.org/hebrew/text?book=Exodus&amp;chapter=33&amp;verse=16&amp;version=2017&amp;mr=m&amp;qw=q&amp;tp=txt_p&amp;tr=hb&amp;wget=v&amp;qget=v&amp;nget=vt\" title=\"Show this on SHEBANQ\" sec=\"Exodus 33:16\">Exodus 33:16</a></span></td><td class=\"tf rtl\"><div class=\"rtl\"></div></td><td class=\"tf rtl\"><div class=\"rtl\"><span class=\"plain rtl  hlbx\" ><span class=\"txtu hbo\">כִּֽי־</span><span class=\"plain rtl  hlbx\" ><span class=\"plain rtl  hl\" ><span class=\"txtu hbo\">מָצָ֨אתִי </span></span></span><span class=\"plain rtl  hlbx\" ><span class=\"plain rtl  hl\" ><span class=\"txtu hbo\">חֵ֤ן </span></span></span><span class=\"plain rtl  hlbx\" ><span class=\"plain rtl  hl\" ><span class=\"txtu hbo\">בְּ</span></span><span class=\"plain rtl  hl\" ><span class=\"txtu hbo\">עֵינֶ֨יךָ֙ </span></span></span><span class=\"txtu hbo\">אֲנִ֣י </span><span class=\"txtu hbo\">וְ</span><span class=\"txtu hbo\">עַמֶּ֔ךָ </span></span></div></td><td class=\"tf rtl\"><div class=\"rtl\"><span class=\"plain rtl  hlbx\" ><span class=\"plain rtl  hl\" ><span class=\"txtu hbo\">מָצָ֨אתִי </span></span></span></div></td><td class=\"tf rtl\"><div class=\"rtl\"><span class=\"plain rtl  hl\" ><span class=\"txtu hbo\">מָצָ֨אתִי </span></span></div></td><td class=\"tf rtl\"><div class=\"rtl\"><span class=\"plain rtl  hlbx\" ><span class=\"plain rtl  hl\" ><span class=\"txtu hbo\">חֵ֤ן </span></span></span></div></td><td class=\"tf rtl\"><div class=\"rtl\"><span class=\"plain rtl  hl\" ><span class=\"txtu hbo\">חֵ֤ן </span></span></div></td><td class=\"tf rtl\"><div class=\"rtl\"><span class=\"plain rtl  hlbx\" ><span class=\"plain rtl  hl\" ><span class=\"txtu hbo\">בְּ</span></span><span class=\"plain rtl  hl\" ><span class=\"txtu hbo\">עֵינֶ֨יךָ֙ </span></span></span></div></td><td class=\"tf rtl\"><div class=\"rtl\"><span class=\"plain rtl  hl\" ><span class=\"txtu hbo\">בְּ</span></span></div></td><td class=\"tf rtl\"><div class=\"rtl\"><span class=\"plain rtl  hl\" ><span class=\"txtu hbo\">עֵינֶ֨יךָ֙ </span></span></div></td></tr>\n",
       "<tr class=\"tf rtl\"><td class=\"tf rtl\">18</td><td class=\"tf rtl\"><span class=\"section ltr\"><a target=\"_blank\" href=\"https://shebanq.ancient-data.org/hebrew/text?book=Exodus&amp;chapter=33&amp;verse=17&amp;version=2017&amp;mr=m&amp;qw=q&amp;tp=txt_p&amp;tr=hb&amp;wget=v&amp;qget=v&amp;nget=vt\" title=\"Show this on SHEBANQ\" sec=\"Exodus 33:17\">Exodus 33:17</a></span></td><td class=\"tf rtl\"><div class=\"rtl\"></div></td><td class=\"tf rtl\"><div class=\"rtl\"><span class=\"plain rtl  hlbx\" ><span class=\"txtu hbo\">כִּֽי־</span><span class=\"plain rtl  hlbx\" ><span class=\"plain rtl  hl\" ><span class=\"txtu hbo\">מָצָ֤אתָ </span></span></span><span class=\"plain rtl  hlbx\" ><span class=\"plain rtl  hl\" ><span class=\"txtu hbo\">חֵן֙ </span></span></span><span class=\"plain rtl  hlbx\" ><span class=\"plain rtl  hl\" ><span class=\"txtu hbo\">בְּ</span></span><span class=\"plain rtl  hl\" ><span class=\"txtu hbo\">עֵינַ֔י </span></span></span></span></div></td><td class=\"tf rtl\"><div class=\"rtl\"><span class=\"plain rtl  hlbx\" ><span class=\"plain rtl  hl\" ><span class=\"txtu hbo\">מָצָ֤אתָ </span></span></span></div></td><td class=\"tf rtl\"><div class=\"rtl\"><span class=\"plain rtl  hl\" ><span class=\"txtu hbo\">מָצָ֤אתָ </span></span></div></td><td class=\"tf rtl\"><div class=\"rtl\"><span class=\"plain rtl  hlbx\" ><span class=\"plain rtl  hl\" ><span class=\"txtu hbo\">חֵן֙ </span></span></span></div></td><td class=\"tf rtl\"><div class=\"rtl\"><span class=\"plain rtl  hl\" ><span class=\"txtu hbo\">חֵן֙ </span></span></div></td><td class=\"tf rtl\"><div class=\"rtl\"><span class=\"plain rtl  hlbx\" ><span class=\"plain rtl  hl\" ><span class=\"txtu hbo\">בְּ</span></span><span class=\"plain rtl  hl\" ><span class=\"txtu hbo\">עֵינַ֔י </span></span></span></div></td><td class=\"tf rtl\"><div class=\"rtl\"><span class=\"plain rtl  hl\" ><span class=\"txtu hbo\">בְּ</span></span></div></td><td class=\"tf rtl\"><div class=\"rtl\"><span class=\"plain rtl  hl\" ><span class=\"txtu hbo\">עֵינַ֔י </span></span></div></td></tr>\n",
       "<tr class=\"tf rtl\"><td class=\"tf rtl\">19</td><td class=\"tf rtl\"><span class=\"section ltr\"><a target=\"_blank\" href=\"https://shebanq.ancient-data.org/hebrew/text?book=Exodus&amp;chapter=34&amp;verse=9&amp;version=2017&amp;mr=m&amp;qw=q&amp;tp=txt_p&amp;tr=hb&amp;wget=v&amp;qget=v&amp;nget=vt\" title=\"Show this on SHEBANQ\" sec=\"Exodus 34:9\">Exodus 34:9</a></span></td><td class=\"tf rtl\"><div class=\"rtl\"></div></td><td class=\"tf rtl\"><div class=\"rtl\"><span class=\"plain rtl  hlbx\" ><span class=\"txtu hbo\">אִם־</span><span class=\"txtu hbo\">נָא֩ </span><span class=\"plain rtl  hlbx\" ><span class=\"plain rtl  hl\" ><span class=\"txtu hbo\">מָצָ֨אתִי </span></span></span><span class=\"plain rtl  hlbx\" ><span class=\"plain rtl  hl\" ><span class=\"txtu hbo\">חֵ֤ן </span></span></span><span class=\"plain rtl  hlbx\" ><span class=\"plain rtl  hl\" ><span class=\"txtu hbo\">בְּ</span></span><span class=\"plain rtl  hl\" ><span class=\"txtu hbo\">עֵינֶ֨יךָ֙ </span></span></span></span></div></td><td class=\"tf rtl\"><div class=\"rtl\"><span class=\"plain rtl  hlbx\" ><span class=\"plain rtl  hl\" ><span class=\"txtu hbo\">מָצָ֨אתִי </span></span></span></div></td><td class=\"tf rtl\"><div class=\"rtl\"><span class=\"plain rtl  hl\" ><span class=\"txtu hbo\">מָצָ֨אתִי </span></span></div></td><td class=\"tf rtl\"><div class=\"rtl\"><span class=\"plain rtl  hlbx\" ><span class=\"plain rtl  hl\" ><span class=\"txtu hbo\">חֵ֤ן </span></span></span></div></td><td class=\"tf rtl\"><div class=\"rtl\"><span class=\"plain rtl  hl\" ><span class=\"txtu hbo\">חֵ֤ן </span></span></div></td><td class=\"tf rtl\"><div class=\"rtl\"><span class=\"plain rtl  hlbx\" ><span class=\"plain rtl  hl\" ><span class=\"txtu hbo\">בְּ</span></span><span class=\"plain rtl  hl\" ><span class=\"txtu hbo\">עֵינֶ֨יךָ֙ </span></span></span></div></td><td class=\"tf rtl\"><div class=\"rtl\"><span class=\"plain rtl  hl\" ><span class=\"txtu hbo\">בְּ</span></span></div></td><td class=\"tf rtl\"><div class=\"rtl\"><span class=\"plain rtl  hl\" ><span class=\"txtu hbo\">עֵינֶ֨יךָ֙ </span></span></div></td></tr>\n",
       "<tr class=\"tf rtl\"><td class=\"tf rtl\">20</td><td class=\"tf rtl\"><span class=\"section ltr\"><a target=\"_blank\" href=\"https://shebanq.ancient-data.org/hebrew/text?book=Numeri&amp;chapter=11&amp;verse=11&amp;version=2017&amp;mr=m&amp;qw=q&amp;tp=txt_p&amp;tr=hb&amp;wget=v&amp;qget=v&amp;nget=vt\" title=\"Show this on SHEBANQ\" sec=\"Numbers 11:11\">Numbers 11:11</a></span></td><td class=\"tf rtl\"><div class=\"rtl\"></div></td><td class=\"tf rtl\"><div class=\"rtl\"><span class=\"plain rtl  hlbx\" ><span class=\"txtu hbo\">וְ</span><span class=\"txtu hbo\">לָ֛מָּה </span><span class=\"txtu hbo\">לֹא־</span><span class=\"plain rtl  hlbx\" ><span class=\"plain rtl  hl\" ><span class=\"txtu hbo\">מָצָ֥תִי </span></span></span><span class=\"plain rtl  hlbx\" ><span class=\"plain rtl  hl\" ><span class=\"txtu hbo\">חֵ֖ן </span></span></span><span class=\"plain rtl  hlbx\" ><span class=\"plain rtl  hl\" ><span class=\"txtu hbo\">בְּ</span></span><span class=\"plain rtl  hl\" ><span class=\"txtu hbo\">עֵינֶ֑יךָ </span></span></span></span></div></td><td class=\"tf rtl\"><div class=\"rtl\"><span class=\"plain rtl  hlbx\" ><span class=\"plain rtl  hl\" ><span class=\"txtu hbo\">מָצָ֥תִי </span></span></span></div></td><td class=\"tf rtl\"><div class=\"rtl\"><span class=\"plain rtl  hl\" ><span class=\"txtu hbo\">מָצָ֥תִי </span></span></div></td><td class=\"tf rtl\"><div class=\"rtl\"><span class=\"plain rtl  hlbx\" ><span class=\"plain rtl  hl\" ><span class=\"txtu hbo\">חֵ֖ן </span></span></span></div></td><td class=\"tf rtl\"><div class=\"rtl\"><span class=\"plain rtl  hl\" ><span class=\"txtu hbo\">חֵ֖ן </span></span></div></td><td class=\"tf rtl\"><div class=\"rtl\"><span class=\"plain rtl  hlbx\" ><span class=\"plain rtl  hl\" ><span class=\"txtu hbo\">בְּ</span></span><span class=\"plain rtl  hl\" ><span class=\"txtu hbo\">עֵינֶ֑יךָ </span></span></span></div></td><td class=\"tf rtl\"><div class=\"rtl\"><span class=\"plain rtl  hl\" ><span class=\"txtu hbo\">בְּ</span></span></div></td><td class=\"tf rtl\"><div class=\"rtl\"><span class=\"plain rtl  hl\" ><span class=\"txtu hbo\">עֵינֶ֑יךָ </span></span></div></td></tr>\n",
       "<tr class=\"tf rtl\"><td class=\"tf rtl\">21</td><td class=\"tf rtl\"><span class=\"section ltr\"><a target=\"_blank\" href=\"https://shebanq.ancient-data.org/hebrew/text?book=Numeri&amp;chapter=11&amp;verse=15&amp;version=2017&amp;mr=m&amp;qw=q&amp;tp=txt_p&amp;tr=hb&amp;wget=v&amp;qget=v&amp;nget=vt\" title=\"Show this on SHEBANQ\" sec=\"Numbers 11:15\">Numbers 11:15</a></span></td><td class=\"tf rtl\"><div class=\"rtl\"></div></td><td class=\"tf rtl\"><div class=\"rtl\"><span class=\"plain rtl  hlbx\" ><span class=\"txtu hbo\">אִם־</span><span class=\"plain rtl  hlbx\" ><span class=\"plain rtl  hl\" ><span class=\"txtu hbo\">מָצָ֥אתִי </span></span></span><span class=\"plain rtl  hlbx\" ><span class=\"plain rtl  hl\" ><span class=\"txtu hbo\">חֵ֖ן </span></span></span><span class=\"plain rtl  hlbx\" ><span class=\"plain rtl  hl\" ><span class=\"txtu hbo\">בְּ</span></span><span class=\"plain rtl  hl\" ><span class=\"txtu hbo\">עֵינֶ֑יךָ </span></span></span></span></div></td><td class=\"tf rtl\"><div class=\"rtl\"><span class=\"plain rtl  hlbx\" ><span class=\"plain rtl  hl\" ><span class=\"txtu hbo\">מָצָ֥אתִי </span></span></span></div></td><td class=\"tf rtl\"><div class=\"rtl\"><span class=\"plain rtl  hl\" ><span class=\"txtu hbo\">מָצָ֥אתִי </span></span></div></td><td class=\"tf rtl\"><div class=\"rtl\"><span class=\"plain rtl  hlbx\" ><span class=\"plain rtl  hl\" ><span class=\"txtu hbo\">חֵ֖ן </span></span></span></div></td><td class=\"tf rtl\"><div class=\"rtl\"><span class=\"plain rtl  hl\" ><span class=\"txtu hbo\">חֵ֖ן </span></span></div></td><td class=\"tf rtl\"><div class=\"rtl\"><span class=\"plain rtl  hlbx\" ><span class=\"plain rtl  hl\" ><span class=\"txtu hbo\">בְּ</span></span><span class=\"plain rtl  hl\" ><span class=\"txtu hbo\">עֵינֶ֑יךָ </span></span></span></div></td><td class=\"tf rtl\"><div class=\"rtl\"><span class=\"plain rtl  hl\" ><span class=\"txtu hbo\">בְּ</span></span></div></td><td class=\"tf rtl\"><div class=\"rtl\"><span class=\"plain rtl  hl\" ><span class=\"txtu hbo\">עֵינֶ֑יךָ </span></span></div></td></tr>\n",
       "<tr class=\"tf rtl\"><td class=\"tf rtl\">22</td><td class=\"tf rtl\"><span class=\"section ltr\"><a target=\"_blank\" href=\"https://shebanq.ancient-data.org/hebrew/text?book=Numeri&amp;chapter=32&amp;verse=5&amp;version=2017&amp;mr=m&amp;qw=q&amp;tp=txt_p&amp;tr=hb&amp;wget=v&amp;qget=v&amp;nget=vt\" title=\"Show this on SHEBANQ\" sec=\"Numbers 32:5\">Numbers 32:5</a></span></td><td class=\"tf rtl\"><div class=\"rtl\"></div></td><td class=\"tf rtl\"><div class=\"rtl\"><span class=\"plain rtl  hlbx\" ><span class=\"txtu hbo\">אִם־</span><span class=\"plain rtl  hlbx\" ><span class=\"plain rtl  hl\" ><span class=\"txtu hbo\">מָצָ֤אנוּ </span></span></span><span class=\"plain rtl  hlbx\" ><span class=\"plain rtl  hl\" ><span class=\"txtu hbo\">חֵן֙ </span></span></span><span class=\"plain rtl  hlbx\" ><span class=\"plain rtl  hl\" ><span class=\"txtu hbo\">בְּ</span></span><span class=\"plain rtl  hl\" ><span class=\"txtu hbo\">עֵינֶ֔יךָ </span></span></span></span></div></td><td class=\"tf rtl\"><div class=\"rtl\"><span class=\"plain rtl  hlbx\" ><span class=\"plain rtl  hl\" ><span class=\"txtu hbo\">מָצָ֤אנוּ </span></span></span></div></td><td class=\"tf rtl\"><div class=\"rtl\"><span class=\"plain rtl  hl\" ><span class=\"txtu hbo\">מָצָ֤אנוּ </span></span></div></td><td class=\"tf rtl\"><div class=\"rtl\"><span class=\"plain rtl  hlbx\" ><span class=\"plain rtl  hl\" ><span class=\"txtu hbo\">חֵן֙ </span></span></span></div></td><td class=\"tf rtl\"><div class=\"rtl\"><span class=\"plain rtl  hl\" ><span class=\"txtu hbo\">חֵן֙ </span></span></div></td><td class=\"tf rtl\"><div class=\"rtl\"><span class=\"plain rtl  hlbx\" ><span class=\"plain rtl  hl\" ><span class=\"txtu hbo\">בְּ</span></span><span class=\"plain rtl  hl\" ><span class=\"txtu hbo\">עֵינֶ֔יךָ </span></span></span></div></td><td class=\"tf rtl\"><div class=\"rtl\"><span class=\"plain rtl  hl\" ><span class=\"txtu hbo\">בְּ</span></span></div></td><td class=\"tf rtl\"><div class=\"rtl\"><span class=\"plain rtl  hl\" ><span class=\"txtu hbo\">עֵינֶ֔יךָ </span></span></div></td></tr>\n",
       "<tr class=\"tf rtl\"><td class=\"tf rtl\">23</td><td class=\"tf rtl\"><span class=\"section ltr\"><a target=\"_blank\" href=\"https://shebanq.ancient-data.org/hebrew/text?book=Deuteronomium&amp;chapter=24&amp;verse=1&amp;version=2017&amp;mr=m&amp;qw=q&amp;tp=txt_p&amp;tr=hb&amp;wget=v&amp;qget=v&amp;nget=vt\" title=\"Show this on SHEBANQ\" sec=\"Deuteronomy 24:1\">Deuteronomy 24:1</a></span></td><td class=\"tf rtl\"><div class=\"rtl\"></div></td><td class=\"tf rtl\"><div class=\"rtl\"><span class=\"plain rtl  hlbx\" ><span class=\"txtu hbo\">אִם־</span><span class=\"txtu hbo\">לֹ֧א </span><span class=\"plain rtl  hlbx\" ><span class=\"plain rtl  hl\" ><span class=\"txtu hbo\">תִמְצָא־</span></span></span><span class=\"plain rtl  hlbx\" ><span class=\"plain rtl  hl\" ><span class=\"txtu hbo\">חֵ֣ן </span></span></span><span class=\"plain rtl  hlbx\" ><span class=\"plain rtl  hl\" ><span class=\"txtu hbo\">בְּ</span></span><span class=\"plain rtl  hl\" ><span class=\"txtu hbo\">עֵינָ֗יו </span></span></span></span></div></td><td class=\"tf rtl\"><div class=\"rtl\"><span class=\"plain rtl  hlbx\" ><span class=\"plain rtl  hl\" ><span class=\"txtu hbo\">תִמְצָא־</span></span></span></div></td><td class=\"tf rtl\"><div class=\"rtl\"><span class=\"plain rtl  hl\" ><span class=\"txtu hbo\">תִמְצָא־</span></span></div></td><td class=\"tf rtl\"><div class=\"rtl\"><span class=\"plain rtl  hlbx\" ><span class=\"plain rtl  hl\" ><span class=\"txtu hbo\">חֵ֣ן </span></span></span></div></td><td class=\"tf rtl\"><div class=\"rtl\"><span class=\"plain rtl  hl\" ><span class=\"txtu hbo\">חֵ֣ן </span></span></div></td><td class=\"tf rtl\"><div class=\"rtl\"><span class=\"plain rtl  hlbx\" ><span class=\"plain rtl  hl\" ><span class=\"txtu hbo\">בְּ</span></span><span class=\"plain rtl  hl\" ><span class=\"txtu hbo\">עֵינָ֗יו </span></span></span></div></td><td class=\"tf rtl\"><div class=\"rtl\"><span class=\"plain rtl  hl\" ><span class=\"txtu hbo\">בְּ</span></span></div></td><td class=\"tf rtl\"><div class=\"rtl\"><span class=\"plain rtl  hl\" ><span class=\"txtu hbo\">עֵינָ֗יו </span></span></div></td></tr>\n",
       "<tr class=\"tf rtl\"><td class=\"tf rtl\">24</td><td class=\"tf rtl\"><span class=\"section ltr\"><a target=\"_blank\" href=\"https://shebanq.ancient-data.org/hebrew/text?book=Judices&amp;chapter=6&amp;verse=17&amp;version=2017&amp;mr=m&amp;qw=q&amp;tp=txt_p&amp;tr=hb&amp;wget=v&amp;qget=v&amp;nget=vt\" title=\"Show this on SHEBANQ\" sec=\"Judges 6:17\">Judges 6:17</a></span></td><td class=\"tf rtl\"><div class=\"rtl\"></div></td><td class=\"tf rtl\"><div class=\"rtl\"><span class=\"plain rtl  hlbx\" ><span class=\"txtu hbo\">אִם־</span><span class=\"txtu hbo\">נָ֛א </span><span class=\"plain rtl  hlbx\" ><span class=\"plain rtl  hl\" ><span class=\"txtu hbo\">מָצָ֥אתִי </span></span></span><span class=\"plain rtl  hlbx\" ><span class=\"plain rtl  hl\" ><span class=\"txtu hbo\">חֵ֖ן </span></span></span><span class=\"plain rtl  hlbx\" ><span class=\"plain rtl  hl\" ><span class=\"txtu hbo\">בְּ</span></span><span class=\"plain rtl  hl\" ><span class=\"txtu hbo\">עֵינֶ֑יךָ </span></span></span></span></div></td><td class=\"tf rtl\"><div class=\"rtl\"><span class=\"plain rtl  hlbx\" ><span class=\"plain rtl  hl\" ><span class=\"txtu hbo\">מָצָ֥אתִי </span></span></span></div></td><td class=\"tf rtl\"><div class=\"rtl\"><span class=\"plain rtl  hl\" ><span class=\"txtu hbo\">מָצָ֥אתִי </span></span></div></td><td class=\"tf rtl\"><div class=\"rtl\"><span class=\"plain rtl  hlbx\" ><span class=\"plain rtl  hl\" ><span class=\"txtu hbo\">חֵ֖ן </span></span></span></div></td><td class=\"tf rtl\"><div class=\"rtl\"><span class=\"plain rtl  hl\" ><span class=\"txtu hbo\">חֵ֖ן </span></span></div></td><td class=\"tf rtl\"><div class=\"rtl\"><span class=\"plain rtl  hlbx\" ><span class=\"plain rtl  hl\" ><span class=\"txtu hbo\">בְּ</span></span><span class=\"plain rtl  hl\" ><span class=\"txtu hbo\">עֵינֶ֑יךָ </span></span></span></div></td><td class=\"tf rtl\"><div class=\"rtl\"><span class=\"plain rtl  hl\" ><span class=\"txtu hbo\">בְּ</span></span></div></td><td class=\"tf rtl\"><div class=\"rtl\"><span class=\"plain rtl  hl\" ><span class=\"txtu hbo\">עֵינֶ֑יךָ </span></span></div></td></tr>\n",
       "<tr class=\"tf rtl\"><td class=\"tf rtl\">25</td><td class=\"tf rtl\"><span class=\"section ltr\"><a target=\"_blank\" href=\"https://shebanq.ancient-data.org/hebrew/text?book=Samuel_I&amp;chapter=1&amp;verse=18&amp;version=2017&amp;mr=m&amp;qw=q&amp;tp=txt_p&amp;tr=hb&amp;wget=v&amp;qget=v&amp;nget=vt\" title=\"Show this on SHEBANQ\" sec=\"1_Samuel 1:18\">1_Samuel 1:18</a></span></td><td class=\"tf rtl\"><div class=\"rtl\"></div></td><td class=\"tf rtl\"><div class=\"rtl\"><span class=\"plain rtl  hlbx\" ><span class=\"plain rtl  hlbx\" ><span class=\"plain rtl  hl\" ><span class=\"txtu hbo\">תִּמְצָ֧א </span></span></span><span class=\"txtu hbo\">שִׁפְחָתְךָ֛ </span><span class=\"plain rtl  hlbx\" ><span class=\"plain rtl  hl\" ><span class=\"txtu hbo\">חֵ֖ן </span></span></span><span class=\"plain rtl  hlbx\" ><span class=\"plain rtl  hl\" ><span class=\"txtu hbo\">בְּ</span></span><span class=\"plain rtl  hl\" ><span class=\"txtu hbo\">עֵינֶ֑יךָ </span></span></span></span></div></td><td class=\"tf rtl\"><div class=\"rtl\"><span class=\"plain rtl  hlbx\" ><span class=\"plain rtl  hl\" ><span class=\"txtu hbo\">תִּמְצָ֧א </span></span></span></div></td><td class=\"tf rtl\"><div class=\"rtl\"><span class=\"plain rtl  hl\" ><span class=\"txtu hbo\">תִּמְצָ֧א </span></span></div></td><td class=\"tf rtl\"><div class=\"rtl\"><span class=\"plain rtl  hlbx\" ><span class=\"plain rtl  hl\" ><span class=\"txtu hbo\">חֵ֖ן </span></span></span></div></td><td class=\"tf rtl\"><div class=\"rtl\"><span class=\"plain rtl  hl\" ><span class=\"txtu hbo\">חֵ֖ן </span></span></div></td><td class=\"tf rtl\"><div class=\"rtl\"><span class=\"plain rtl  hlbx\" ><span class=\"plain rtl  hl\" ><span class=\"txtu hbo\">בְּ</span></span><span class=\"plain rtl  hl\" ><span class=\"txtu hbo\">עֵינֶ֑יךָ </span></span></span></div></td><td class=\"tf rtl\"><div class=\"rtl\"><span class=\"plain rtl  hl\" ><span class=\"txtu hbo\">בְּ</span></span></div></td><td class=\"tf rtl\"><div class=\"rtl\"><span class=\"plain rtl  hl\" ><span class=\"txtu hbo\">עֵינֶ֑יךָ </span></span></div></td></tr>\n",
       "<tr class=\"tf rtl\"><td class=\"tf rtl\">26</td><td class=\"tf rtl\"><span class=\"section ltr\"><a target=\"_blank\" href=\"https://shebanq.ancient-data.org/hebrew/text?book=Samuel_I&amp;chapter=16&amp;verse=22&amp;version=2017&amp;mr=m&amp;qw=q&amp;tp=txt_p&amp;tr=hb&amp;wget=v&amp;qget=v&amp;nget=vt\" title=\"Show this on SHEBANQ\" sec=\"1_Samuel 16:22\">1_Samuel 16:22</a></span></td><td class=\"tf rtl\"><div class=\"rtl\"></div></td><td class=\"tf rtl\"><div class=\"rtl\"><span class=\"plain rtl  hlbx\" ><span class=\"txtu hbo\">כִּֽי־</span><span class=\"plain rtl  hlbx\" ><span class=\"plain rtl  hl\" ><span class=\"txtu hbo\">מָ֥צָא </span></span></span><span class=\"plain rtl  hlbx\" ><span class=\"plain rtl  hl\" ><span class=\"txtu hbo\">חֵ֖ן </span></span></span><span class=\"plain rtl  hlbx\" ><span class=\"plain rtl  hl\" ><span class=\"txtu hbo\">בְּ</span></span><span class=\"plain rtl  hl\" ><span class=\"txtu hbo\">עֵינָֽי׃ </span></span></span></span></div></td><td class=\"tf rtl\"><div class=\"rtl\"><span class=\"plain rtl  hlbx\" ><span class=\"plain rtl  hl\" ><span class=\"txtu hbo\">מָ֥צָא </span></span></span></div></td><td class=\"tf rtl\"><div class=\"rtl\"><span class=\"plain rtl  hl\" ><span class=\"txtu hbo\">מָ֥צָא </span></span></div></td><td class=\"tf rtl\"><div class=\"rtl\"><span class=\"plain rtl  hlbx\" ><span class=\"plain rtl  hl\" ><span class=\"txtu hbo\">חֵ֖ן </span></span></span></div></td><td class=\"tf rtl\"><div class=\"rtl\"><span class=\"plain rtl  hl\" ><span class=\"txtu hbo\">חֵ֖ן </span></span></div></td><td class=\"tf rtl\"><div class=\"rtl\"><span class=\"plain rtl  hlbx\" ><span class=\"plain rtl  hl\" ><span class=\"txtu hbo\">בְּ</span></span><span class=\"plain rtl  hl\" ><span class=\"txtu hbo\">עֵינָֽי׃ </span></span></span></div></td><td class=\"tf rtl\"><div class=\"rtl\"><span class=\"plain rtl  hl\" ><span class=\"txtu hbo\">בְּ</span></span></div></td><td class=\"tf rtl\"><div class=\"rtl\"><span class=\"plain rtl  hl\" ><span class=\"txtu hbo\">עֵינָֽי׃ </span></span></div></td></tr>\n",
       "<tr class=\"tf rtl\"><td class=\"tf rtl\">27</td><td class=\"tf rtl\"><span class=\"section ltr\"><a target=\"_blank\" href=\"https://shebanq.ancient-data.org/hebrew/text?book=Samuel_I&amp;chapter=20&amp;verse=3&amp;version=2017&amp;mr=m&amp;qw=q&amp;tp=txt_p&amp;tr=hb&amp;wget=v&amp;qget=v&amp;nget=vt\" title=\"Show this on SHEBANQ\" sec=\"1_Samuel 20:3\">1_Samuel 20:3</a></span></td><td class=\"tf rtl\"><div class=\"rtl\"></div></td><td class=\"tf rtl\"><div class=\"rtl\"><span class=\"plain rtl  hlbx\" ><span class=\"txtu hbo\">כִּֽי־</span><span class=\"plain rtl  hlbx\" ><span class=\"plain rtl  hl\" ><span class=\"txtu hbo\">מָצָ֤אתִי </span></span></span><span class=\"plain rtl  hlbx\" ><span class=\"plain rtl  hl\" ><span class=\"txtu hbo\">חֵן֙ </span></span></span><span class=\"plain rtl  hlbx\" ><span class=\"plain rtl  hl\" ><span class=\"txtu hbo\">בְּ</span></span><span class=\"plain rtl  hl\" ><span class=\"txtu hbo\">עֵינֶ֔יךָ </span></span></span></span></div></td><td class=\"tf rtl\"><div class=\"rtl\"><span class=\"plain rtl  hlbx\" ><span class=\"plain rtl  hl\" ><span class=\"txtu hbo\">מָצָ֤אתִי </span></span></span></div></td><td class=\"tf rtl\"><div class=\"rtl\"><span class=\"plain rtl  hl\" ><span class=\"txtu hbo\">מָצָ֤אתִי </span></span></div></td><td class=\"tf rtl\"><div class=\"rtl\"><span class=\"plain rtl  hlbx\" ><span class=\"plain rtl  hl\" ><span class=\"txtu hbo\">חֵן֙ </span></span></span></div></td><td class=\"tf rtl\"><div class=\"rtl\"><span class=\"plain rtl  hl\" ><span class=\"txtu hbo\">חֵן֙ </span></span></div></td><td class=\"tf rtl\"><div class=\"rtl\"><span class=\"plain rtl  hlbx\" ><span class=\"plain rtl  hl\" ><span class=\"txtu hbo\">בְּ</span></span><span class=\"plain rtl  hl\" ><span class=\"txtu hbo\">עֵינֶ֔יךָ </span></span></span></div></td><td class=\"tf rtl\"><div class=\"rtl\"><span class=\"plain rtl  hl\" ><span class=\"txtu hbo\">בְּ</span></span></div></td><td class=\"tf rtl\"><div class=\"rtl\"><span class=\"plain rtl  hl\" ><span class=\"txtu hbo\">עֵינֶ֔יךָ </span></span></div></td></tr>\n",
       "<tr class=\"tf rtl\"><td class=\"tf rtl\">28</td><td class=\"tf rtl\"><span class=\"section ltr\"><a target=\"_blank\" href=\"https://shebanq.ancient-data.org/hebrew/text?book=Samuel_I&amp;chapter=20&amp;verse=29&amp;version=2017&amp;mr=m&amp;qw=q&amp;tp=txt_p&amp;tr=hb&amp;wget=v&amp;qget=v&amp;nget=vt\" title=\"Show this on SHEBANQ\" sec=\"1_Samuel 20:29\">1_Samuel 20:29</a></span></td><td class=\"tf rtl\"><div class=\"rtl\"></div></td><td class=\"tf rtl\"><div class=\"rtl\"><span class=\"plain rtl  hlbx\" ><span class=\"txtu hbo\">אִם־</span><span class=\"plain rtl  hlbx\" ><span class=\"plain rtl  hl\" ><span class=\"txtu hbo\">מָצָ֤אתִי </span></span></span><span class=\"plain rtl  hlbx\" ><span class=\"plain rtl  hl\" ><span class=\"txtu hbo\">חֵן֙ </span></span></span><span class=\"plain rtl  hlbx\" ><span class=\"plain rtl  hl\" ><span class=\"txtu hbo\">בְּ</span></span><span class=\"plain rtl  hl\" ><span class=\"txtu hbo\">עֵינֶ֔יךָ </span></span></span></span></div></td><td class=\"tf rtl\"><div class=\"rtl\"><span class=\"plain rtl  hlbx\" ><span class=\"plain rtl  hl\" ><span class=\"txtu hbo\">מָצָ֤אתִי </span></span></span></div></td><td class=\"tf rtl\"><div class=\"rtl\"><span class=\"plain rtl  hl\" ><span class=\"txtu hbo\">מָצָ֤אתִי </span></span></div></td><td class=\"tf rtl\"><div class=\"rtl\"><span class=\"plain rtl  hlbx\" ><span class=\"plain rtl  hl\" ><span class=\"txtu hbo\">חֵן֙ </span></span></span></div></td><td class=\"tf rtl\"><div class=\"rtl\"><span class=\"plain rtl  hl\" ><span class=\"txtu hbo\">חֵן֙ </span></span></div></td><td class=\"tf rtl\"><div class=\"rtl\"><span class=\"plain rtl  hlbx\" ><span class=\"plain rtl  hl\" ><span class=\"txtu hbo\">בְּ</span></span><span class=\"plain rtl  hl\" ><span class=\"txtu hbo\">עֵינֶ֔יךָ </span></span></span></div></td><td class=\"tf rtl\"><div class=\"rtl\"><span class=\"plain rtl  hl\" ><span class=\"txtu hbo\">בְּ</span></span></div></td><td class=\"tf rtl\"><div class=\"rtl\"><span class=\"plain rtl  hl\" ><span class=\"txtu hbo\">עֵינֶ֔יךָ </span></span></div></td></tr>\n",
       "<tr class=\"tf rtl\"><td class=\"tf rtl\">29</td><td class=\"tf rtl\"><span class=\"section ltr\"><a target=\"_blank\" href=\"https://shebanq.ancient-data.org/hebrew/text?book=Samuel_I&amp;chapter=25&amp;verse=8&amp;version=2017&amp;mr=m&amp;qw=q&amp;tp=txt_p&amp;tr=hb&amp;wget=v&amp;qget=v&amp;nget=vt\" title=\"Show this on SHEBANQ\" sec=\"1_Samuel 25:8\">1_Samuel 25:8</a></span></td><td class=\"tf rtl\"><div class=\"rtl\"></div></td><td class=\"tf rtl\"><div class=\"rtl\"><span class=\"plain rtl  hlbx\" ><span class=\"txtu hbo\">וְ</span><span class=\"plain rtl  hlbx\" ><span class=\"plain rtl  hl\" ><span class=\"txtu hbo\">יִמְצְא֨וּ </span></span></span><span class=\"txtu hbo\">הַ</span><span class=\"txtu hbo\">נְּעָרִ֥ים </span><span class=\"plain rtl  hlbx\" ><span class=\"plain rtl  hl\" ><span class=\"txtu hbo\">חֵן֙ </span></span></span><span class=\"plain rtl  hlbx\" ><span class=\"plain rtl  hl\" ><span class=\"txtu hbo\">בְּ</span></span><span class=\"plain rtl  hl\" ><span class=\"txtu hbo\">עֵינֶ֔יךָ </span></span></span></span></div></td><td class=\"tf rtl\"><div class=\"rtl\"><span class=\"plain rtl  hlbx\" ><span class=\"plain rtl  hl\" ><span class=\"txtu hbo\">יִמְצְא֨וּ </span></span></span></div></td><td class=\"tf rtl\"><div class=\"rtl\"><span class=\"plain rtl  hl\" ><span class=\"txtu hbo\">יִמְצְא֨וּ </span></span></div></td><td class=\"tf rtl\"><div class=\"rtl\"><span class=\"plain rtl  hlbx\" ><span class=\"plain rtl  hl\" ><span class=\"txtu hbo\">חֵן֙ </span></span></span></div></td><td class=\"tf rtl\"><div class=\"rtl\"><span class=\"plain rtl  hl\" ><span class=\"txtu hbo\">חֵן֙ </span></span></div></td><td class=\"tf rtl\"><div class=\"rtl\"><span class=\"plain rtl  hlbx\" ><span class=\"plain rtl  hl\" ><span class=\"txtu hbo\">בְּ</span></span><span class=\"plain rtl  hl\" ><span class=\"txtu hbo\">עֵינֶ֔יךָ </span></span></span></div></td><td class=\"tf rtl\"><div class=\"rtl\"><span class=\"plain rtl  hl\" ><span class=\"txtu hbo\">בְּ</span></span></div></td><td class=\"tf rtl\"><div class=\"rtl\"><span class=\"plain rtl  hl\" ><span class=\"txtu hbo\">עֵינֶ֔יךָ </span></span></div></td></tr>\n",
       "<tr class=\"tf rtl\"><td class=\"tf rtl\">30</td><td class=\"tf rtl\"><span class=\"section ltr\"><a target=\"_blank\" href=\"https://shebanq.ancient-data.org/hebrew/text?book=Samuel_I&amp;chapter=27&amp;verse=5&amp;version=2017&amp;mr=m&amp;qw=q&amp;tp=txt_p&amp;tr=hb&amp;wget=v&amp;qget=v&amp;nget=vt\" title=\"Show this on SHEBANQ\" sec=\"1_Samuel 27:5\">1_Samuel 27:5</a></span></td><td class=\"tf rtl\"><div class=\"rtl\"></div></td><td class=\"tf rtl\"><div class=\"rtl\"><span class=\"plain rtl  hlbx\" ><span class=\"txtu hbo\">אִם־</span><span class=\"txtu hbo\">נָא֩ </span><span class=\"plain rtl  hlbx\" ><span class=\"plain rtl  hl\" ><span class=\"txtu hbo\">מָצָ֨אתִי </span></span></span><span class=\"plain rtl  hlbx\" ><span class=\"plain rtl  hl\" ><span class=\"txtu hbo\">חֵ֤ן </span></span></span><span class=\"plain rtl  hlbx\" ><span class=\"plain rtl  hl\" ><span class=\"txtu hbo\">בְּ</span></span><span class=\"plain rtl  hl\" ><span class=\"txtu hbo\">עֵינֶ֨יךָ֙ </span></span></span></span></div></td><td class=\"tf rtl\"><div class=\"rtl\"><span class=\"plain rtl  hlbx\" ><span class=\"plain rtl  hl\" ><span class=\"txtu hbo\">מָצָ֨אתִי </span></span></span></div></td><td class=\"tf rtl\"><div class=\"rtl\"><span class=\"plain rtl  hl\" ><span class=\"txtu hbo\">מָצָ֨אתִי </span></span></div></td><td class=\"tf rtl\"><div class=\"rtl\"><span class=\"plain rtl  hlbx\" ><span class=\"plain rtl  hl\" ><span class=\"txtu hbo\">חֵ֤ן </span></span></span></div></td><td class=\"tf rtl\"><div class=\"rtl\"><span class=\"plain rtl  hl\" ><span class=\"txtu hbo\">חֵ֤ן </span></span></div></td><td class=\"tf rtl\"><div class=\"rtl\"><span class=\"plain rtl  hlbx\" ><span class=\"plain rtl  hl\" ><span class=\"txtu hbo\">בְּ</span></span><span class=\"plain rtl  hl\" ><span class=\"txtu hbo\">עֵינֶ֨יךָ֙ </span></span></span></div></td><td class=\"tf rtl\"><div class=\"rtl\"><span class=\"plain rtl  hl\" ><span class=\"txtu hbo\">בְּ</span></span></div></td><td class=\"tf rtl\"><div class=\"rtl\"><span class=\"plain rtl  hl\" ><span class=\"txtu hbo\">עֵינֶ֨יךָ֙ </span></span></div></td></tr>\n",
       "<tr class=\"tf rtl\"><td class=\"tf rtl\">31</td><td class=\"tf rtl\"><span class=\"section ltr\"><a target=\"_blank\" href=\"https://shebanq.ancient-data.org/hebrew/text?book=Samuel_II&amp;chapter=14&amp;verse=22&amp;version=2017&amp;mr=m&amp;qw=q&amp;tp=txt_p&amp;tr=hb&amp;wget=v&amp;qget=v&amp;nget=vt\" title=\"Show this on SHEBANQ\" sec=\"2_Samuel 14:22\">2_Samuel 14:22</a></span></td><td class=\"tf rtl\"><div class=\"rtl\"></div></td><td class=\"tf rtl\"><div class=\"rtl\"><span class=\"plain rtl  hlbx\" ><span class=\"txtu hbo\">כִּי־</span><span class=\"plain rtl  hlbx\" ><span class=\"plain rtl  hl\" ><span class=\"txtu hbo\">מָצָ֨אתִי </span></span></span><span class=\"plain rtl  hlbx\" ><span class=\"plain rtl  hl\" ><span class=\"txtu hbo\">חֵ֤ן </span></span></span><span class=\"plain rtl  hlbx\" ><span class=\"plain rtl  hl\" ><span class=\"txtu hbo\">בְּ</span></span><span class=\"plain rtl  hl\" ><span class=\"txtu hbo\">עֵינֶ֨יךָ֙ </span></span></span></span></div></td><td class=\"tf rtl\"><div class=\"rtl\"><span class=\"plain rtl  hlbx\" ><span class=\"plain rtl  hl\" ><span class=\"txtu hbo\">מָצָ֨אתִי </span></span></span></div></td><td class=\"tf rtl\"><div class=\"rtl\"><span class=\"plain rtl  hl\" ><span class=\"txtu hbo\">מָצָ֨אתִי </span></span></div></td><td class=\"tf rtl\"><div class=\"rtl\"><span class=\"plain rtl  hlbx\" ><span class=\"plain rtl  hl\" ><span class=\"txtu hbo\">חֵ֤ן </span></span></span></div></td><td class=\"tf rtl\"><div class=\"rtl\"><span class=\"plain rtl  hl\" ><span class=\"txtu hbo\">חֵ֤ן </span></span></div></td><td class=\"tf rtl\"><div class=\"rtl\"><span class=\"plain rtl  hlbx\" ><span class=\"plain rtl  hl\" ><span class=\"txtu hbo\">בְּ</span></span><span class=\"plain rtl  hl\" ><span class=\"txtu hbo\">עֵינֶ֨יךָ֙ </span></span></span></div></td><td class=\"tf rtl\"><div class=\"rtl\"><span class=\"plain rtl  hl\" ><span class=\"txtu hbo\">בְּ</span></span></div></td><td class=\"tf rtl\"><div class=\"rtl\"><span class=\"plain rtl  hl\" ><span class=\"txtu hbo\">עֵינֶ֨יךָ֙ </span></span></div></td></tr>\n",
       "<tr class=\"tf rtl\"><td class=\"tf rtl\">32</td><td class=\"tf rtl\"><span class=\"section ltr\"><a target=\"_blank\" href=\"https://shebanq.ancient-data.org/hebrew/text?book=Samuel_II&amp;chapter=15&amp;verse=25&amp;version=2017&amp;mr=m&amp;qw=q&amp;tp=txt_p&amp;tr=hb&amp;wget=v&amp;qget=v&amp;nget=vt\" title=\"Show this on SHEBANQ\" sec=\"2_Samuel 15:25\">2_Samuel 15:25</a></span></td><td class=\"tf rtl\"><div class=\"rtl\"></div></td><td class=\"tf rtl\"><div class=\"rtl\"><span class=\"plain rtl  hlbx\" ><span class=\"txtu hbo\">אִם־</span><span class=\"plain rtl  hlbx\" ><span class=\"plain rtl  hl\" ><span class=\"txtu hbo\">אֶמְצָ֥א </span></span></span><span class=\"plain rtl  hlbx\" ><span class=\"plain rtl  hl\" ><span class=\"txtu hbo\">חֵן֙ </span></span></span><span class=\"plain rtl  hlbx\" ><span class=\"plain rtl  hl\" ><span class=\"txtu hbo\">בְּ</span></span><span class=\"plain rtl  hl\" ><span class=\"txtu hbo\">עֵינֵ֣י </span></span><span class=\"txtu hbo\">יְהוָ֔ה </span></span></span></div></td><td class=\"tf rtl\"><div class=\"rtl\"><span class=\"plain rtl  hlbx\" ><span class=\"plain rtl  hl\" ><span class=\"txtu hbo\">אֶמְצָ֥א </span></span></span></div></td><td class=\"tf rtl\"><div class=\"rtl\"><span class=\"plain rtl  hl\" ><span class=\"txtu hbo\">אֶמְצָ֥א </span></span></div></td><td class=\"tf rtl\"><div class=\"rtl\"><span class=\"plain rtl  hlbx\" ><span class=\"plain rtl  hl\" ><span class=\"txtu hbo\">חֵן֙ </span></span></span></div></td><td class=\"tf rtl\"><div class=\"rtl\"><span class=\"plain rtl  hl\" ><span class=\"txtu hbo\">חֵן֙ </span></span></div></td><td class=\"tf rtl\"><div class=\"rtl\"><span class=\"plain rtl  hlbx\" ><span class=\"plain rtl  hl\" ><span class=\"txtu hbo\">בְּ</span></span><span class=\"plain rtl  hl\" ><span class=\"txtu hbo\">עֵינֵ֣י </span></span><span class=\"txtu hbo\">יְהוָ֔ה </span></span></div></td><td class=\"tf rtl\"><div class=\"rtl\"><span class=\"plain rtl  hl\" ><span class=\"txtu hbo\">בְּ</span></span></div></td><td class=\"tf rtl\"><div class=\"rtl\"><span class=\"plain rtl  hl\" ><span class=\"txtu hbo\">עֵינֵ֣י </span></span></div></td></tr>\n",
       "<tr class=\"tf rtl\"><td class=\"tf rtl\">33</td><td class=\"tf rtl\"><span class=\"section ltr\"><a target=\"_blank\" href=\"https://shebanq.ancient-data.org/hebrew/text?book=Samuel_II&amp;chapter=16&amp;verse=4&amp;version=2017&amp;mr=m&amp;qw=q&amp;tp=txt_p&amp;tr=hb&amp;wget=v&amp;qget=v&amp;nget=vt\" title=\"Show this on SHEBANQ\" sec=\"2_Samuel 16:4\">2_Samuel 16:4</a></span></td><td class=\"tf rtl\"><div class=\"rtl\"></div></td><td class=\"tf rtl\"><div class=\"rtl\"><span class=\"plain rtl  hlbx\" ><span class=\"plain rtl  hlbx\" ><span class=\"plain rtl  hl\" ><span class=\"txtu hbo\">אֶמְצָא־</span></span></span><span class=\"plain rtl  hlbx\" ><span class=\"plain rtl  hl\" ><span class=\"txtu hbo\">חֵ֥ן </span></span></span><span class=\"plain rtl  hlbx\" ><span class=\"plain rtl  hl\" ><span class=\"txtu hbo\">בְּ</span></span><span class=\"plain rtl  hl\" ><span class=\"txtu hbo\">עֵינֶ֖יךָ </span></span></span></span></div></td><td class=\"tf rtl\"><div class=\"rtl\"><span class=\"plain rtl  hlbx\" ><span class=\"plain rtl  hl\" ><span class=\"txtu hbo\">אֶמְצָא־</span></span></span></div></td><td class=\"tf rtl\"><div class=\"rtl\"><span class=\"plain rtl  hl\" ><span class=\"txtu hbo\">אֶמְצָא־</span></span></div></td><td class=\"tf rtl\"><div class=\"rtl\"><span class=\"plain rtl  hlbx\" ><span class=\"plain rtl  hl\" ><span class=\"txtu hbo\">חֵ֥ן </span></span></span></div></td><td class=\"tf rtl\"><div class=\"rtl\"><span class=\"plain rtl  hl\" ><span class=\"txtu hbo\">חֵ֥ן </span></span></div></td><td class=\"tf rtl\"><div class=\"rtl\"><span class=\"plain rtl  hlbx\" ><span class=\"plain rtl  hl\" ><span class=\"txtu hbo\">בְּ</span></span><span class=\"plain rtl  hl\" ><span class=\"txtu hbo\">עֵינֶ֖יךָ </span></span></span></div></td><td class=\"tf rtl\"><div class=\"rtl\"><span class=\"plain rtl  hl\" ><span class=\"txtu hbo\">בְּ</span></span></div></td><td class=\"tf rtl\"><div class=\"rtl\"><span class=\"plain rtl  hl\" ><span class=\"txtu hbo\">עֵינֶ֖יךָ </span></span></div></td></tr>\n",
       "<tr class=\"tf rtl\"><td class=\"tf rtl\">34</td><td class=\"tf rtl\"><span class=\"section ltr\"><a target=\"_blank\" href=\"https://shebanq.ancient-data.org/hebrew/text?book=Reges_I&amp;chapter=11&amp;verse=19&amp;version=2017&amp;mr=m&amp;qw=q&amp;tp=txt_p&amp;tr=hb&amp;wget=v&amp;qget=v&amp;nget=vt\" title=\"Show this on SHEBANQ\" sec=\"1_Kings 11:19\">1_Kings 11:19</a></span></td><td class=\"tf rtl\"><div class=\"rtl\"></div></td><td class=\"tf rtl\"><div class=\"rtl\"><span class=\"plain rtl  hlbx\" ><span class=\"txtu hbo\">וַ</span><span class=\"plain rtl  hlbx\" ><span class=\"plain rtl  hl\" ><span class=\"txtu hbo\">יִּמְצָא֙ </span></span></span><span class=\"txtu hbo\">הֲדַ֥ד </span><span class=\"plain rtl  hlbx\" ><span class=\"plain rtl  hl\" ><span class=\"txtu hbo\">חֵ֛ן </span></span></span><span class=\"plain rtl  hlbx\" ><span class=\"plain rtl  hl\" ><span class=\"txtu hbo\">בְּ</span></span><span class=\"plain rtl  hl\" ><span class=\"txtu hbo\">עֵינֵ֥י </span></span><span class=\"txtu hbo\">פַרְעֹ֖ה </span></span><span class=\"txtu hbo\">מְאֹ֑ד </span></span></div></td><td class=\"tf rtl\"><div class=\"rtl\"><span class=\"plain rtl  hlbx\" ><span class=\"plain rtl  hl\" ><span class=\"txtu hbo\">יִּמְצָא֙ </span></span></span></div></td><td class=\"tf rtl\"><div class=\"rtl\"><span class=\"plain rtl  hl\" ><span class=\"txtu hbo\">יִּמְצָא֙ </span></span></div></td><td class=\"tf rtl\"><div class=\"rtl\"><span class=\"plain rtl  hlbx\" ><span class=\"plain rtl  hl\" ><span class=\"txtu hbo\">חֵ֛ן </span></span></span></div></td><td class=\"tf rtl\"><div class=\"rtl\"><span class=\"plain rtl  hl\" ><span class=\"txtu hbo\">חֵ֛ן </span></span></div></td><td class=\"tf rtl\"><div class=\"rtl\"><span class=\"plain rtl  hlbx\" ><span class=\"plain rtl  hl\" ><span class=\"txtu hbo\">בְּ</span></span><span class=\"plain rtl  hl\" ><span class=\"txtu hbo\">עֵינֵ֥י </span></span><span class=\"txtu hbo\">פַרְעֹ֖ה </span></span></div></td><td class=\"tf rtl\"><div class=\"rtl\"><span class=\"plain rtl  hl\" ><span class=\"txtu hbo\">בְּ</span></span></div></td><td class=\"tf rtl\"><div class=\"rtl\"><span class=\"plain rtl  hl\" ><span class=\"txtu hbo\">עֵינֵ֥י </span></span></div></td></tr>\n",
       "<tr class=\"tf rtl\"><td class=\"tf rtl\">35</td><td class=\"tf rtl\"><span class=\"section ltr\"><a target=\"_blank\" href=\"https://shebanq.ancient-data.org/hebrew/text?book=Proverbia&amp;chapter=3&amp;verse=4&amp;version=2017&amp;mr=m&amp;qw=q&amp;tp=txt_p&amp;tr=hb&amp;wget=v&amp;qget=v&amp;nget=vt\" title=\"Show this on SHEBANQ\" sec=\"Proverbs 3:4\">Proverbs 3:4</a></span></td><td class=\"tf rtl\"><div class=\"rtl\"></div></td><td class=\"tf rtl\"><div class=\"rtl\"><span class=\"plain rtl  hlbx\" ><span class=\"txtu hbo\">וּ</span><span class=\"plain rtl  hlbx\" ><span class=\"plain rtl  hl\" ><span class=\"txtu hbo\">מְצָא־</span></span></span><span class=\"plain rtl  hlbx\" ><span class=\"plain rtl  hl\" ><span class=\"txtu hbo\">חֵ֖ן </span></span><span class=\"txtu hbo\">וְ</span><span class=\"txtu hbo\">שֵֽׂכֶל־</span><span class=\"txtu hbo\">טֹ֑וב </span></span><span class=\"plain rtl  hlbx\" ><span class=\"plain rtl  hl\" ><span class=\"txtu hbo\">בְּ</span></span><span class=\"plain rtl  hl\" ><span class=\"txtu hbo\">עֵינֵ֖י </span></span><span class=\"txtu hbo\">אֱלֹהִ֣ים </span><span class=\"txtu hbo\">וְ</span><span class=\"txtu hbo\">אָדָֽם׃ פ </span></span></span></div></td><td class=\"tf rtl\"><div class=\"rtl\"><span class=\"plain rtl  hlbx\" ><span class=\"plain rtl  hl\" ><span class=\"txtu hbo\">מְצָא־</span></span></span></div></td><td class=\"tf rtl\"><div class=\"rtl\"><span class=\"plain rtl  hl\" ><span class=\"txtu hbo\">מְצָא־</span></span></div></td><td class=\"tf rtl\"><div class=\"rtl\"><span class=\"plain rtl  hlbx\" ><span class=\"plain rtl  hl\" ><span class=\"txtu hbo\">חֵ֖ן </span></span><span class=\"txtu hbo\">וְ</span><span class=\"txtu hbo\">שֵֽׂכֶל־</span><span class=\"txtu hbo\">טֹ֑וב </span></span></div></td><td class=\"tf rtl\"><div class=\"rtl\"><span class=\"plain rtl  hl\" ><span class=\"txtu hbo\">חֵ֖ן </span></span></div></td><td class=\"tf rtl\"><div class=\"rtl\"><span class=\"plain rtl  hlbx\" ><span class=\"plain rtl  hl\" ><span class=\"txtu hbo\">בְּ</span></span><span class=\"plain rtl  hl\" ><span class=\"txtu hbo\">עֵינֵ֖י </span></span><span class=\"txtu hbo\">אֱלֹהִ֣ים </span><span class=\"txtu hbo\">וְ</span><span class=\"txtu hbo\">אָדָֽם׃ פ </span></span></div></td><td class=\"tf rtl\"><div class=\"rtl\"><span class=\"plain rtl  hl\" ><span class=\"txtu hbo\">בְּ</span></span></div></td><td class=\"tf rtl\"><div class=\"rtl\"><span class=\"plain rtl  hl\" ><span class=\"txtu hbo\">עֵינֵ֖י </span></span></div></td></tr>\n",
       "<tr class=\"tf rtl\"><td class=\"tf rtl\">36</td><td class=\"tf rtl\"><span class=\"section ltr\"><a target=\"_blank\" href=\"https://shebanq.ancient-data.org/hebrew/text?book=Ruth&amp;chapter=2&amp;verse=2&amp;version=2017&amp;mr=m&amp;qw=q&amp;tp=txt_p&amp;tr=hb&amp;wget=v&amp;qget=v&amp;nget=vt\" title=\"Show this on SHEBANQ\" sec=\"Ruth 2:2\">Ruth 2:2</a></span></td><td class=\"tf rtl\"><div class=\"rtl\"></div></td><td class=\"tf rtl\"><div class=\"rtl\"><span class=\"plain rtl  hlbx\" ><span class=\"txtu hbo\">אַחַ֕ר </span><span class=\"txtu hbo\">אֲשֶׁ֥ר </span><span class=\"plain rtl  hlbx\" ><span class=\"plain rtl  hl\" ><span class=\"txtu hbo\">אֶמְצָא־</span></span></span><span class=\"plain rtl  hlbx\" ><span class=\"plain rtl  hl\" ><span class=\"txtu hbo\">חֵ֖ן </span></span></span><span class=\"plain rtl  hlbx\" ><span class=\"plain rtl  hl\" ><span class=\"txtu hbo\">בְּ</span></span><span class=\"plain rtl  hl\" ><span class=\"txtu hbo\">עֵינָ֑יו </span></span></span></span></div></td><td class=\"tf rtl\"><div class=\"rtl\"><span class=\"plain rtl  hlbx\" ><span class=\"plain rtl  hl\" ><span class=\"txtu hbo\">אֶמְצָא־</span></span></span></div></td><td class=\"tf rtl\"><div class=\"rtl\"><span class=\"plain rtl  hl\" ><span class=\"txtu hbo\">אֶמְצָא־</span></span></div></td><td class=\"tf rtl\"><div class=\"rtl\"><span class=\"plain rtl  hlbx\" ><span class=\"plain rtl  hl\" ><span class=\"txtu hbo\">חֵ֖ן </span></span></span></div></td><td class=\"tf rtl\"><div class=\"rtl\"><span class=\"plain rtl  hl\" ><span class=\"txtu hbo\">חֵ֖ן </span></span></div></td><td class=\"tf rtl\"><div class=\"rtl\"><span class=\"plain rtl  hlbx\" ><span class=\"plain rtl  hl\" ><span class=\"txtu hbo\">בְּ</span></span><span class=\"plain rtl  hl\" ><span class=\"txtu hbo\">עֵינָ֑יו </span></span></span></div></td><td class=\"tf rtl\"><div class=\"rtl\"><span class=\"plain rtl  hl\" ><span class=\"txtu hbo\">בְּ</span></span></div></td><td class=\"tf rtl\"><div class=\"rtl\"><span class=\"plain rtl  hl\" ><span class=\"txtu hbo\">עֵינָ֑יו </span></span></div></td></tr>\n",
       "<tr class=\"tf rtl\"><td class=\"tf rtl\">37</td><td class=\"tf rtl\"><span class=\"section ltr\"><a target=\"_blank\" href=\"https://shebanq.ancient-data.org/hebrew/text?book=Ruth&amp;chapter=2&amp;verse=10&amp;version=2017&amp;mr=m&amp;qw=q&amp;tp=txt_p&amp;tr=hb&amp;wget=v&amp;qget=v&amp;nget=vt\" title=\"Show this on SHEBANQ\" sec=\"Ruth 2:10\">Ruth 2:10</a></span></td><td class=\"tf rtl\"><div class=\"rtl\"></div></td><td class=\"tf rtl\"><div class=\"rtl\"><span class=\"plain rtl  hlbx\" ><span class=\"txtu hbo\">מַדּוּעַ֩ </span><span class=\"plain rtl  hlbx\" ><span class=\"plain rtl  hl\" ><span class=\"txtu hbo\">מָצָ֨אתִי </span></span></span><span class=\"plain rtl  hlbx\" ><span class=\"plain rtl  hl\" ><span class=\"txtu hbo\">חֵ֤ן </span></span></span><span class=\"plain rtl  hlbx\" ><span class=\"plain rtl  hl\" ><span class=\"txtu hbo\">בְּ</span></span><span class=\"plain rtl  hl\" ><span class=\"txtu hbo\">עֵינֶ֨יךָ֙ </span></span></span></span></div></td><td class=\"tf rtl\"><div class=\"rtl\"><span class=\"plain rtl  hlbx\" ><span class=\"plain rtl  hl\" ><span class=\"txtu hbo\">מָצָ֨אתִי </span></span></span></div></td><td class=\"tf rtl\"><div class=\"rtl\"><span class=\"plain rtl  hl\" ><span class=\"txtu hbo\">מָצָ֨אתִי </span></span></div></td><td class=\"tf rtl\"><div class=\"rtl\"><span class=\"plain rtl  hlbx\" ><span class=\"plain rtl  hl\" ><span class=\"txtu hbo\">חֵ֤ן </span></span></span></div></td><td class=\"tf rtl\"><div class=\"rtl\"><span class=\"plain rtl  hl\" ><span class=\"txtu hbo\">חֵ֤ן </span></span></div></td><td class=\"tf rtl\"><div class=\"rtl\"><span class=\"plain rtl  hlbx\" ><span class=\"plain rtl  hl\" ><span class=\"txtu hbo\">בְּ</span></span><span class=\"plain rtl  hl\" ><span class=\"txtu hbo\">עֵינֶ֨יךָ֙ </span></span></span></div></td><td class=\"tf rtl\"><div class=\"rtl\"><span class=\"plain rtl  hl\" ><span class=\"txtu hbo\">בְּ</span></span></div></td><td class=\"tf rtl\"><div class=\"rtl\"><span class=\"plain rtl  hl\" ><span class=\"txtu hbo\">עֵינֶ֨יךָ֙ </span></span></div></td></tr>\n",
       "<tr class=\"tf rtl\"><td class=\"tf rtl\">38</td><td class=\"tf rtl\"><span class=\"section ltr\"><a target=\"_blank\" href=\"https://shebanq.ancient-data.org/hebrew/text?book=Ruth&amp;chapter=2&amp;verse=13&amp;version=2017&amp;mr=m&amp;qw=q&amp;tp=txt_p&amp;tr=hb&amp;wget=v&amp;qget=v&amp;nget=vt\" title=\"Show this on SHEBANQ\" sec=\"Ruth 2:13\">Ruth 2:13</a></span></td><td class=\"tf rtl\"><div class=\"rtl\"></div></td><td class=\"tf rtl\"><div class=\"rtl\"><span class=\"plain rtl  hlbx\" ><span class=\"plain rtl  hlbx\" ><span class=\"plain rtl  hl\" ><span class=\"txtu hbo\">אֶמְצָא־</span></span></span><span class=\"plain rtl  hlbx\" ><span class=\"plain rtl  hl\" ><span class=\"txtu hbo\">חֵ֨ן </span></span></span><span class=\"plain rtl  hlbx\" ><span class=\"plain rtl  hl\" ><span class=\"txtu hbo\">בְּ</span></span><span class=\"plain rtl  hl\" ><span class=\"txtu hbo\">עֵינֶ֤יךָ </span></span></span></span></div></td><td class=\"tf rtl\"><div class=\"rtl\"><span class=\"plain rtl  hlbx\" ><span class=\"plain rtl  hl\" ><span class=\"txtu hbo\">אֶמְצָא־</span></span></span></div></td><td class=\"tf rtl\"><div class=\"rtl\"><span class=\"plain rtl  hl\" ><span class=\"txtu hbo\">אֶמְצָא־</span></span></div></td><td class=\"tf rtl\"><div class=\"rtl\"><span class=\"plain rtl  hlbx\" ><span class=\"plain rtl  hl\" ><span class=\"txtu hbo\">חֵ֨ן </span></span></span></div></td><td class=\"tf rtl\"><div class=\"rtl\"><span class=\"plain rtl  hl\" ><span class=\"txtu hbo\">חֵ֨ן </span></span></div></td><td class=\"tf rtl\"><div class=\"rtl\"><span class=\"plain rtl  hlbx\" ><span class=\"plain rtl  hl\" ><span class=\"txtu hbo\">בְּ</span></span><span class=\"plain rtl  hl\" ><span class=\"txtu hbo\">עֵינֶ֤יךָ </span></span></span></div></td><td class=\"tf rtl\"><div class=\"rtl\"><span class=\"plain rtl  hl\" ><span class=\"txtu hbo\">בְּ</span></span></div></td><td class=\"tf rtl\"><div class=\"rtl\"><span class=\"plain rtl  hl\" ><span class=\"txtu hbo\">עֵינֶ֤יךָ </span></span></div></td></tr>\n",
       "<tr class=\"tf rtl\"><td class=\"tf rtl\">39</td><td class=\"tf rtl\"><span class=\"section ltr\"><a target=\"_blank\" href=\"https://shebanq.ancient-data.org/hebrew/text?book=Esther&amp;chapter=5&amp;verse=8&amp;version=2017&amp;mr=m&amp;qw=q&amp;tp=txt_p&amp;tr=hb&amp;wget=v&amp;qget=v&amp;nget=vt\" title=\"Show this on SHEBANQ\" sec=\"Esther 5:8\">Esther 5:8</a></span></td><td class=\"tf rtl\"><div class=\"rtl\"></div></td><td class=\"tf rtl\"><div class=\"rtl\"><span class=\"plain rtl  hlbx\" ><span class=\"txtu hbo\">אִם־</span><span class=\"plain rtl  hlbx\" ><span class=\"plain rtl  hl\" ><span class=\"txtu hbo\">מָצָ֨אתִי </span></span></span><span class=\"plain rtl  hlbx\" ><span class=\"plain rtl  hl\" ><span class=\"txtu hbo\">חֵ֜ן </span></span></span><span class=\"plain rtl  hlbx\" ><span class=\"plain rtl  hl\" ><span class=\"txtu hbo\">בְּ</span></span><span class=\"plain rtl  hl\" ><span class=\"txtu hbo\">עֵינֵ֣י </span></span><span class=\"txtu hbo\">הַ</span><span class=\"txtu hbo\">מֶּ֗לֶךְ </span></span></span></div></td><td class=\"tf rtl\"><div class=\"rtl\"><span class=\"plain rtl  hlbx\" ><span class=\"plain rtl  hl\" ><span class=\"txtu hbo\">מָצָ֨אתִי </span></span></span></div></td><td class=\"tf rtl\"><div class=\"rtl\"><span class=\"plain rtl  hl\" ><span class=\"txtu hbo\">מָצָ֨אתִי </span></span></div></td><td class=\"tf rtl\"><div class=\"rtl\"><span class=\"plain rtl  hlbx\" ><span class=\"plain rtl  hl\" ><span class=\"txtu hbo\">חֵ֜ן </span></span></span></div></td><td class=\"tf rtl\"><div class=\"rtl\"><span class=\"plain rtl  hl\" ><span class=\"txtu hbo\">חֵ֜ן </span></span></div></td><td class=\"tf rtl\"><div class=\"rtl\"><span class=\"plain rtl  hlbx\" ><span class=\"plain rtl  hl\" ><span class=\"txtu hbo\">בְּ</span></span><span class=\"plain rtl  hl\" ><span class=\"txtu hbo\">עֵינֵ֣י </span></span><span class=\"txtu hbo\">הַ</span><span class=\"txtu hbo\">מֶּ֗לֶךְ </span></span></div></td><td class=\"tf rtl\"><div class=\"rtl\"><span class=\"plain rtl  hl\" ><span class=\"txtu hbo\">בְּ</span></span></div></td><td class=\"tf rtl\"><div class=\"rtl\"><span class=\"plain rtl  hl\" ><span class=\"txtu hbo\">עֵינֵ֣י </span></span></div></td></tr>\n",
       "<tr class=\"tf rtl\"><td class=\"tf rtl\">40</td><td class=\"tf rtl\"><span class=\"section ltr\"><a target=\"_blank\" href=\"https://shebanq.ancient-data.org/hebrew/text?book=Esther&amp;chapter=7&amp;verse=3&amp;version=2017&amp;mr=m&amp;qw=q&amp;tp=txt_p&amp;tr=hb&amp;wget=v&amp;qget=v&amp;nget=vt\" title=\"Show this on SHEBANQ\" sec=\"Esther 7:3\">Esther 7:3</a></span></td><td class=\"tf rtl\"><div class=\"rtl\"></div></td><td class=\"tf rtl\"><div class=\"rtl\"><span class=\"plain rtl  hlbx\" ><span class=\"txtu hbo\">אִם־</span><span class=\"plain rtl  hlbx\" ><span class=\"plain rtl  hl\" ><span class=\"txtu hbo\">מָצָ֨אתִי </span></span></span><span class=\"plain rtl  hlbx\" ><span class=\"plain rtl  hl\" ><span class=\"txtu hbo\">חֵ֤ן </span></span></span><span class=\"plain rtl  hlbx\" ><span class=\"plain rtl  hl\" ><span class=\"txtu hbo\">בְּ</span></span><span class=\"plain rtl  hl\" ><span class=\"txtu hbo\">עֵינֶ֨יךָ֙ </span></span></span></span></div></td><td class=\"tf rtl\"><div class=\"rtl\"><span class=\"plain rtl  hlbx\" ><span class=\"plain rtl  hl\" ><span class=\"txtu hbo\">מָצָ֨אתִי </span></span></span></div></td><td class=\"tf rtl\"><div class=\"rtl\"><span class=\"plain rtl  hl\" ><span class=\"txtu hbo\">מָצָ֨אתִי </span></span></div></td><td class=\"tf rtl\"><div class=\"rtl\"><span class=\"plain rtl  hlbx\" ><span class=\"plain rtl  hl\" ><span class=\"txtu hbo\">חֵ֤ן </span></span></span></div></td><td class=\"tf rtl\"><div class=\"rtl\"><span class=\"plain rtl  hl\" ><span class=\"txtu hbo\">חֵ֤ן </span></span></div></td><td class=\"tf rtl\"><div class=\"rtl\"><span class=\"plain rtl  hlbx\" ><span class=\"plain rtl  hl\" ><span class=\"txtu hbo\">בְּ</span></span><span class=\"plain rtl  hl\" ><span class=\"txtu hbo\">עֵינֶ֨יךָ֙ </span></span></span></div></td><td class=\"tf rtl\"><div class=\"rtl\"><span class=\"plain rtl  hl\" ><span class=\"txtu hbo\">בְּ</span></span></div></td><td class=\"tf rtl\"><div class=\"rtl\"><span class=\"plain rtl  hl\" ><span class=\"txtu hbo\">עֵינֶ֨יךָ֙ </span></span></div></td></tr></table>"
      ],
      "text/plain": [
       "<IPython.core.display.HTML object>"
      ]
     },
     "metadata": {},
     "output_type": "display_data"
    }
   ],
   "source": [
    "query = \"\"\"\n",
    "clause\n",
    "  p1:phrase function=Pred|PreC\n",
    "    word sp=verb vs=qal lex=MY>[\n",
    "  p2:phrase function=Objc\n",
    "    word lex=XN/\n",
    "  p3:phrase function=Cmpl\n",
    "    word lex=B\n",
    "    <: word lex=<JN/\n",
    "  p2 << p3\n",
    "\"\"\"\n",
    "\n",
    "results = A.search(query)\n",
    "resultsx = sorted(\n",
    "    (L.u(r[0], otype=\"verse\") + r for r in results), key=lambda r: N.sortKey(r[0])\n",
    ")\n",
    "A.table(resultsx)"
   ]
  },
  {
   "cell_type": "markdown",
   "metadata": {},
   "source": [
    "## Comparison\n",
    "\n",
    "Two results more. Spot the differences."
   ]
  },
  {
   "cell_type": "markdown",
   "metadata": {},
   "source": [
    "# By Stephen Ku\n",
    "## MQL\n",
    "\n",
    "[Stephen Ku: Verbless Clauses](https://shebanq.ancient-data.org/hebrew/query?version=4&id=1314)\n",
    "\n",
    "```\n",
    "SELECT ALL OBJECTS WHERE\n",
    "\n",
    "[clause\n",
    " [phrase function IN (Subj)\n",
    "    [phrase_atom NOT rela IN (Appo,Para,Spec)\n",
    "      [word FOCUS pdp IN (subs,nmpr,prps,prde,prin,adjv)\n",
    "      ]\n",
    "    ]\n",
    "  ]\n",
    " NOTEXIST [phrase function IN (Pred)]\n",
    " ..\n",
    " NOTEXIST [phrase function IN (Pred)]\n",
    " [phrase function IN (PreC)\n",
    "     NOTEXIST [word pdp IN (prep)]\n",
    "     [word FOCUS pdp IN (subs,nmpr,prin,adjv) AND ls IN (card,ordn)]\n",
    " ]\n",
    "]\n",
    "```\n",
    "\n",
    "2303 results with 2129 words in those results."
   ]
  },
  {
   "cell_type": "markdown",
   "metadata": {},
   "source": [
    "## TF\n",
    "\n",
    "We can deal with `NOTEXIST` by means of the quantifier `/without/`.\n",
    "We can also state that features do *not* have certain values.\n",
    "And we play with the spatial relations."
   ]
  },
  {
   "cell_type": "code",
   "execution_count": 4,
   "metadata": {
    "ExecuteTime": {
     "end_time": "2018-05-07T08:04:37.996573Z",
     "start_time": "2018-05-07T08:04:34.541956Z"
    }
   },
   "outputs": [],
   "source": [
    "query = \"\"\"\n",
    "clause\n",
    "  phrase function=Subj\n",
    "  /without/\n",
    "  <: phrase function=Pred\n",
    "  /-/\n",
    "    phrase_atom rela#Appo|Para|Spec\n",
    "      word pdp=subs|nmpr|prps|prde|prin|adjv\n",
    "  << phrase function=PreC\n",
    "  /without/\n",
    "  :> phrase function=Pred\n",
    "  /-/\n",
    "  /without/\n",
    "    word pdp=prep\n",
    "  /-/\n",
    "    word pdp=subs|nmpr|prin|adjv ls=card|ordn\n",
    "\"\"\""
   ]
  },
  {
   "cell_type": "code",
   "execution_count": 5,
   "metadata": {
    "ExecuteTime": {
     "end_time": "2018-05-07T08:04:37.996573Z",
     "start_time": "2018-05-07T08:04:34.541956Z"
    }
   },
   "outputs": [
    {
     "name": "stdout",
     "output_type": "stream",
     "text": [
      "  1.43s 2288 results\n",
      "519 clauses in results\n"
     ]
    }
   ],
   "source": [
    "results = A.search(query)\n",
    "clauses = project(results, 1)\n",
    "print(f\"{len(clauses)} clauses in results\")"
   ]
  },
  {
   "cell_type": "markdown",
   "metadata": {},
   "source": [
    "## Comparison\n",
    "\n",
    "We have 15 results less than the MQL query on SHEBANQ.\n",
    "\n",
    "Let us have a look at some results words and compare them with the result words on SHEBANQ.\n",
    "It is handy to fetch from SHEBANQ the CSV file with query results.\n",
    "\n",
    "We have fetched them and stored them in `fromShebanq.csv` in the same directory.\n",
    "It is a list of words occurring in results, so let's see which clauses are in the SHEBANQ results."
   ]
  },
  {
   "cell_type": "markdown",
   "metadata": {},
   "source": [
    "```\n",
    "book,chapter,verse,monad,text,ktv,phtext,phsep\n",
    "Genesis,5,4,2169,יְמֵי־,,yᵊmê-,\n",
    "Genesis,5,4,2170,אָדָ֗ם ,,ʔāḏˈām,\n",
    "Genesis,5,4,2175,שְׁמֹנֶ֥ה ,,šᵊmōnˌeh,\n",
    "Genesis,5,4,2176,מֵאֹ֖ת ,,mēʔˌōṯ,\n",
    "Genesis,5,5,2185,כָּל־,,kol-,\n",
    "Genesis,5,5,2186,יְמֵ֤י ,,yᵊmˈê,\n",
    "Genesis,5,5,2187,אָדָם֙ ,,ʔāḏˌām,\n",
    "Genesis,5,5,2190,תְּשַׁ֤ע ,,tᵊšˈaʕ,\n",
    "Genesis,5,5,2191,מֵאֹות֙ ,,mēʔôṯ,\n",
    "Genesis,5,5,2194,שְׁלֹשִׁ֖ים ,,šᵊlōšˌîm,\n",
    "```"
   ]
  },
  {
   "cell_type": "code",
   "execution_count": 6,
   "metadata": {},
   "outputs": [
    {
     "data": {
      "text/plain": [
       "519"
      ]
     },
     "execution_count": 6,
     "metadata": {},
     "output_type": "execute_result"
    }
   ],
   "source": [
    "shebanqClauses = set()\n",
    "with open(\"fromShebanq.csv\") as fh:\n",
    "    for (i, line) in enumerate(fh):\n",
    "        if i == 0:\n",
    "            continue\n",
    "        fields = line.split(\",\")\n",
    "        word = int(fields[3])\n",
    "        clause = L.u(word, otype=\"clause\")[0]\n",
    "        shebanqClauses.add(clause)\n",
    "len(shebanqClauses)"
   ]
  },
  {
   "cell_type": "markdown",
   "metadata": {},
   "source": [
    "That looks good: both methods yield the same amount of clauses.\n",
    "\n",
    "But we need to be thorough."
   ]
  },
  {
   "cell_type": "code",
   "execution_count": 7,
   "metadata": {},
   "outputs": [
    {
     "data": {
      "text/plain": [
       "False"
      ]
     },
     "execution_count": 7,
     "metadata": {},
     "output_type": "execute_result"
    }
   ],
   "source": [
    "clauses == shebanqClauses"
   ]
  },
  {
   "cell_type": "markdown",
   "metadata": {},
   "source": [
    "See? They are not the same clauses.\n",
    "\n",
    "Let's spot the differences."
   ]
  },
  {
   "cell_type": "code",
   "execution_count": 8,
   "metadata": {},
   "outputs": [
    {
     "name": "stdout",
     "output_type": "stream",
     "text": [
      "Results of TF  but not MQL: [482510, 485154, 507046]\n",
      "Results of MQL but not TF : [427990, 452091, 511757]\n"
     ]
    }
   ],
   "source": [
    "tfNotMql = clauses - shebanqClauses\n",
    "mqlNotTf = shebanqClauses - clauses\n",
    "print(f\"Results of TF  but not MQL: {sorted(tfNotMql)}\")\n",
    "print(f\"Results of MQL but not TF : {sorted(mqlNotTf)}\")"
   ]
  },
  {
   "cell_type": "markdown",
   "metadata": {},
   "source": [
    "## TF yes - MQL no\n",
    "\n",
    "First we do the results that TF provides, but not MQL."
   ]
  },
  {
   "cell_type": "code",
   "execution_count": 9,
   "metadata": {},
   "outputs": [],
   "source": [
    "A.displaySetup(extraFeatures=\"ls\")"
   ]
  },
  {
   "cell_type": "code",
   "execution_count": 10,
   "metadata": {},
   "outputs": [
    {
     "data": {
      "text/plain": [
       "[(482510, 813849, 1076419, 275732, 813850, 275736),\n",
       " (482510, 813849, 1076419, 275733, 813850, 275736),\n",
       " (485154, 821404, 1084317, 288698, 821405, 288703),\n",
       " (485154, 821404, 1084317, 288701, 821405, 288703),\n",
       " (507046, 879338, 1143889, 375038, 879339, 375041),\n",
       " (507046, 879338, 1143889, 375039, 879339, 375041)]"
      ]
     },
     "execution_count": 10,
     "metadata": {},
     "output_type": "execute_result"
    }
   ],
   "source": [
    "newResults = [r for r in results if r[0] in tfNotMql]\n",
    "newResults"
   ]
  },
  {
   "cell_type": "markdown",
   "metadata": {},
   "source": [
    "We are going to inspect them clause by clause.\n",
    "Note that we have two results per clause, the only difference between the two results is\n",
    "in column 4, which corresponds to the word in the Subj phrase."
   ]
  },
  {
   "cell_type": "code",
   "execution_count": 11,
   "metadata": {
    "lines_to_next_cell": 2
   },
   "outputs": [
    {
     "data": {
      "text/html": [
       "<p><b>clause</b> <i>1</i></p>"
      ],
      "text/plain": [
       "<IPython.core.display.HTML object>"
      ]
     },
     "metadata": {},
     "output_type": "display_data"
    },
    {
     "data": {
      "text/html": [
       "<div class=\"section rtl\"><a target=\"_blank\" href=\"https://shebanq.ancient-data.org/hebrew/text?book=Ezechiel&amp;chapter=23&amp;verse=2&amp;version=2017&amp;mr=m&amp;qw=q&amp;tp=txt_p&amp;tr=hb&amp;wget=v&amp;qget=v&amp;nget=vt\" title=\"Show this on SHEBANQ\" sec=\"Ezekiel 23:2\">Ezekiel 23:2</a></div><div class=\"rtl children\"><div class=\"contnr c2  rtl  \" ><div class=\"lbl c2  \" ><span class=\"nd\">clause:482510</span></div><div class=\"children hor wrap rtl\"><div class=\"contnr c1  rtl  hl\" ><div class=\"lbl c1  hl\" ><span class=\"nd\">phrase:813849</span></div><div class='features'><span class=\"function xft\" ><span class=\"f\">function=</span>Subj</span></div><div class=\"children hor wrap rtl\"><div class=\"contnr c0 trm rtl  hl\" ><div class=\"lbl c0 trm hl\" ><span class=\"nd\">275732</span> <a class=\" txtu hbo\" target=\"_blank\" href=\"https://shebanq.ancient-data.org/hebrew/word?version=2017&amp;id=1CNJMn\" title=\"Show this on SHEBANQ\"><span class=\"txtu hbo\">שְׁתַּ֣יִם </span></a></div><div class='features'><span class=\"ls xft\" ><span class=\"f\">ls=</span>card</span><span class=\"pdp xft\" ><span class=\"f\">pdp=</span>subs</span></div></div><div class=\"contnr c0 trm rtl  hl\" ><div class=\"lbl c0 trm hl\" ><span class=\"nd\">275733</span> <a class=\" txtu hbo\" target=\"_blank\" href=\"https://shebanq.ancient-data.org/hebrew/word?version=2017&amp;id=1ACHn\" title=\"Show this on SHEBANQ\"><span class=\"txtu hbo\">נָשִׁ֔ים </span></a></div><div class='features'><span class=\"ls xft\" ><span class=\"f\">ls=</span>nmdi</span><span class=\"pdp xft\" ><span class=\"f\">pdp=</span>subs</span></div></div></div></div><div class=\"contnr c1  rtl  hl\" ><div class=\"lbl c1  hl\" ><span class=\"nd\">phrase:813850</span></div><div class='features'><span class=\"function xft\" ><span class=\"f\">function=</span>PreC</span></div><div class=\"children hor wrap rtl\"><div class=\"contnr c0 trm rtl  \" ><div class=\"lbl c0 trm \" ><span class=\"nd\">275734</span> <a class=\" txtu hbo\" target=\"_blank\" href=\"https://shebanq.ancient-data.org/hebrew/word?version=2017&amp;id=1BTn\" title=\"Show this on SHEBANQ\"><span class=\"txtu hbo\">בְּנֹ֥ות </span></a></div><div class='features'><span class=\"pdp xft\" ><span class=\"f\">pdp=</span>subs</span></div></div><div class=\"contnr c0 trm rtl  \" ><div class=\"lbl c0 trm \" ><span class=\"nd\">275735</span> <a class=\" txtu hbo\" target=\"_blank\" href=\"https://shebanq.ancient-data.org/hebrew/word?version=2017&amp;id=1AMn\" title=\"Show this on SHEBANQ\"><span class=\"txtu hbo\">אֵם־</span></a></div><div class='features'><span class=\"pdp xft\" ><span class=\"f\">pdp=</span>subs</span></div></div><div class=\"contnr c0 trm rtl  hl\" ><div class=\"lbl c0 trm hl\" ><span class=\"nd\">275736</span> <a class=\" txtu hbo\" target=\"_blank\" href=\"https://shebanq.ancient-data.org/hebrew/word?version=2017&amp;id=1AXDn\" title=\"Show this on SHEBANQ\"><span class=\"txtu hbo\">אַחַ֖ת </span></a></div><div class='features'><span class=\"ls xft\" ><span class=\"f\">ls=</span>card</span><span class=\"pdp xft\" ><span class=\"f\">pdp=</span>subs</span></div></div></div></div><div class=\"contnr c1  rtl  \" ><div class=\"lbl c1  \" ><span class=\"nd\">phrase:813851</span></div><div class='features'><span class=\"function xft\" ><span class=\"f\">function=</span>Pred</span></div><div class=\"children hor wrap rtl\"><div class=\"contnr c0 trm rtl  \" ><div class=\"lbl c0 trm \" ><span class=\"nd\">275737</span> <a class=\" txtu hbo\" target=\"_blank\" href=\"https://shebanq.ancient-data.org/hebrew/word?version=2017&amp;id=1HJHv\" title=\"Show this on SHEBANQ\"><span class=\"txtu hbo\">הָיֽוּ׃ </span></a></div><div class='features'><span class=\"ls xft\" ><span class=\"f\">ls=</span>vbcp</span><span class=\"pdp xft\" ><span class=\"f\">pdp=</span>verb</span></div></div></div></div></div></div></div>"
      ],
      "text/plain": [
       "<IPython.core.display.HTML object>"
      ]
     },
     "metadata": {},
     "output_type": "display_data"
    },
    {
     "data": {
      "text/html": [
       "<p><b>clause</b> <i>2</i></p>"
      ],
      "text/plain": [
       "<IPython.core.display.HTML object>"
      ]
     },
     "metadata": {},
     "output_type": "display_data"
    },
    {
     "data": {
      "text/html": [
       "<div class=\"section rtl\"><a target=\"_blank\" href=\"https://shebanq.ancient-data.org/hebrew/text?book=Ezechiel&amp;chapter=45&amp;verse=11&amp;version=2017&amp;mr=m&amp;qw=q&amp;tp=txt_p&amp;tr=hb&amp;wget=v&amp;qget=v&amp;nget=vt\" title=\"Show this on SHEBANQ\" sec=\"Ezekiel 45:11\">Ezekiel 45:11</a></div><div class=\"rtl children\"><div class=\"contnr c2  rtl  \" ><div class=\"lbl c2  \" ><span class=\"nd\">clause:485154</span></div><div class=\"children hor wrap rtl\"><div class=\"contnr c1  rtl  hl\" ><div class=\"lbl c1  hl\" ><span class=\"nd\">phrase:821404</span></div><div class='features'><span class=\"function xft\" ><span class=\"f\">function=</span>Subj</span></div><div class=\"children hor wrap rtl\"><div class=\"contnr c0 trm rtl  \" ><div class=\"lbl c0 trm \" ><span class=\"nd\">288697</span> <a class=\" txtu hbo\" target=\"_blank\" href=\"https://shebanq.ancient-data.org/hebrew/word?version=2017&amp;id=1H\" title=\"Show this on SHEBANQ\"><span class=\"txtu hbo\">הָ</span></a></div><div class='features'><span class=\"pdp xft\" ><span class=\"f\">pdp=</span>art</span></div></div><div class=\"contnr c0 trm rtl  hl\" ><div class=\"lbl c0 trm hl\" ><span class=\"nd\">288698</span> <a class=\" txtu hbo\" target=\"_blank\" href=\"https://shebanq.ancient-data.org/hebrew/word?version=2017&amp;id=1AJPHn\" title=\"Show this on SHEBANQ\"><span class=\"txtu hbo\">אֵיפָ֣ה </span></a></div><div class='features'><span class=\"pdp xft\" ><span class=\"f\">pdp=</span>subs</span></div></div><div class=\"contnr c0 trm rtl  \" ><div class=\"lbl c0 trm \" ><span class=\"nd\">288699</span> <a class=\" txtu hbo\" target=\"_blank\" href=\"https://shebanq.ancient-data.org/hebrew/word?version=2017&amp;id=1W\" title=\"Show this on SHEBANQ\"><span class=\"txtu hbo\">וְ</span></a></div><div class='features'><span class=\"pdp xft\" ><span class=\"f\">pdp=</span>conj</span></div></div><div class=\"contnr c0 trm rtl  \" ><div class=\"lbl c0 trm \" ><span class=\"nd\">288700</span> <a class=\" txtu hbo\" target=\"_blank\" href=\"https://shebanq.ancient-data.org/hebrew/word?version=2017&amp;id=1H\" title=\"Show this on SHEBANQ\"><span class=\"txtu hbo\">הַ</span></a></div><div class='features'><span class=\"pdp xft\" ><span class=\"f\">pdp=</span>art</span></div></div><div class=\"contnr c0 trm rtl  hl\" ><div class=\"lbl c0 trm hl\" ><span class=\"nd\">288701</span> <a class=\" txtu hbo\" target=\"_blank\" href=\"https://shebanq.ancient-data.org/hebrew/word?version=2017&amp;id=1BTin\" title=\"Show this on SHEBANQ\"><span class=\"txtu hbo\">בַּ֗ת </span></a></div><div class='features'><span class=\"pdp xft\" ><span class=\"f\">pdp=</span>subs</span></div></div></div></div><div class=\"contnr c1  rtl  hl\" ><div class=\"lbl c1  hl\" ><span class=\"nd\">phrase:821405</span></div><div class='features'><span class=\"function xft\" ><span class=\"f\">function=</span>PreC</span></div><div class=\"children hor wrap rtl\"><div class=\"contnr c0 trm rtl  \" ><div class=\"lbl c0 trm \" ><span class=\"nd\">288702</span> <a class=\" txtu hbo\" target=\"_blank\" href=\"https://shebanq.ancient-data.org/hebrew/word?version=2017&amp;id=1TKNn\" title=\"Show this on SHEBANQ\"><span class=\"txtu hbo\">תֹּ֤כֶן </span></a></div><div class='features'><span class=\"pdp xft\" ><span class=\"f\">pdp=</span>subs</span></div></div><div class=\"contnr c0 trm rtl  hl\" ><div class=\"lbl c0 trm hl\" ><span class=\"nd\">288703</span> <a class=\" txtu hbo\" target=\"_blank\" href=\"https://shebanq.ancient-data.org/hebrew/word?version=2017&amp;id=1AXDn\" title=\"Show this on SHEBANQ\"><span class=\"txtu hbo\">אֶחָד֙ </span></a></div><div class='features'><span class=\"ls xft\" ><span class=\"f\">ls=</span>card</span><span class=\"pdp xft\" ><span class=\"f\">pdp=</span>subs</span></div></div></div></div><div class=\"contnr c1  rtl  \" ><div class=\"lbl c1  \" ><span class=\"nd\">phrase:821406</span></div><div class='features'><span class=\"function xft\" ><span class=\"f\">function=</span>Pred</span></div><div class=\"children hor wrap rtl\"><div class=\"contnr c0 trm rtl  \" ><div class=\"lbl c0 trm \" ><span class=\"nd\">288704</span> <a class=\" txtu hbo\" target=\"_blank\" href=\"https://shebanq.ancient-data.org/hebrew/word?version=2017&amp;id=1HJHv\" title=\"Show this on SHEBANQ\"><span class=\"txtu hbo\">יִֽהְיֶ֔ה </span></a></div><div class='features'><span class=\"ls xft\" ><span class=\"f\">ls=</span>vbcp</span><span class=\"pdp xft\" ><span class=\"f\">pdp=</span>verb</span></div></div></div></div></div></div></div>"
      ],
      "text/plain": [
       "<IPython.core.display.HTML object>"
      ]
     },
     "metadata": {},
     "output_type": "display_data"
    },
    {
     "data": {
      "text/html": [
       "<p><b>clause</b> <i>3</i></p>"
      ],
      "text/plain": [
       "<IPython.core.display.HTML object>"
      ]
     },
     "metadata": {},
     "output_type": "display_data"
    },
    {
     "data": {
      "text/html": [
       "<div class=\"section rtl\"><a target=\"_blank\" href=\"https://shebanq.ancient-data.org/hebrew/text?book=Daniel&amp;chapter=7&amp;verse=23&amp;version=2017&amp;mr=m&amp;qw=q&amp;tp=txt_p&amp;tr=hb&amp;wget=v&amp;qget=v&amp;nget=vt\" title=\"Show this on SHEBANQ\" sec=\"Daniel 7:23\">Daniel 7:23</a></div><div class=\"rtl children\"><div class=\"contnr c2  rtl  \" ><div class=\"lbl c2  \" ><span class=\"nd\">clause:507046</span></div><div class=\"children hor wrap rtl\"><div class=\"contnr c1  rtl  hl\" ><div class=\"lbl c1  hl\" ><span class=\"nd\">phrase:879338</span></div><div class='features'><span class=\"function xft\" ><span class=\"f\">function=</span>Subj</span></div><div class=\"children hor wrap rtl\"><div class=\"contnr c0 trm rtl  hl\" ><div class=\"lbl c0 trm hl\" ><span class=\"nd\">375038</span> <a class=\" txtu hbo\" target=\"_blank\" href=\"https://shebanq.ancient-data.org/hebrew/word?version=2017&amp;id=2XJWHn\" title=\"Show this on SHEBANQ\"><span class=\"txtu hbo\">חֵֽיוְתָא֙ </span></a></div><div class='features'><span class=\"pdp xft\" ><span class=\"f\">pdp=</span>subs</span></div></div><div class=\"contnr c0 trm rtl  hl\" ><div class=\"lbl c0 trm hl\" ><span class=\"nd\">375039</span> <a class=\" txtu hbo\" target=\"_blank\" href=\"https://shebanq.ancient-data.org/hebrew/word?version=2017&amp;id=2RBJOJn\" title=\"Show this on SHEBANQ\"><span class=\"txtu hbo\">רְבִיעָ֣יְתָ֔א </span></a></div><div class='features'><span class=\"ls xft\" ><span class=\"f\">ls=</span>ordn</span><span class=\"pdp xft\" ><span class=\"f\">pdp=</span>adjv</span></div></div></div></div><div class=\"contnr c1  rtl  hl\" ><div class=\"lbl c1  hl\" ><span class=\"nd\">phrase:879339</span></div><div class='features'><span class=\"function xft\" ><span class=\"f\">function=</span>PreC</span></div><div class=\"children hor wrap rtl\"><div class=\"contnr c0 trm rtl  \" ><div class=\"lbl c0 trm \" ><span class=\"nd\">375040</span> <a class=\" txtu hbo\" target=\"_blank\" href=\"https://shebanq.ancient-data.org/hebrew/word?version=2017&amp;id=2MLKWn\" title=\"Show this on SHEBANQ\"><span class=\"txtu hbo\">מַלְכ֤וּ </span></a></div><div class='features'><span class=\"pdp xft\" ><span class=\"f\">pdp=</span>subs</span></div></div><div class=\"contnr c0 trm rtl  hl\" ><div class=\"lbl c0 trm hl\" ><span class=\"nd\">375041</span> <a class=\" txtu hbo\" target=\"_blank\" href=\"https://shebanq.ancient-data.org/hebrew/word?version=2017&amp;id=2RBJOJn\" title=\"Show this on SHEBANQ\"><span class=\"txtu hbo\">רְבִיעָאָה֙ </span></a></div><div class='features'><span class=\"ls xft\" ><span class=\"f\">ls=</span>ordn</span><span class=\"pdp xft\" ><span class=\"f\">pdp=</span>adjv</span></div></div></div></div><div class=\"contnr c1  rtl  \" ><div class=\"lbl c1  \" ><span class=\"nd\">phrase:879340</span></div><div class='features'><span class=\"function xft\" ><span class=\"f\">function=</span>Pred</span></div><div class=\"children hor wrap rtl\"><div class=\"contnr c0 trm rtl  \" ><div class=\"lbl c0 trm \" ><span class=\"nd\">375042</span> <a class=\" txtu hbo\" target=\"_blank\" href=\"https://shebanq.ancient-data.org/hebrew/word?version=2017&amp;id=2HWHv\" title=\"Show this on SHEBANQ\"><span class=\"txtu hbo\">תֶּהֱוֵ֣א </span></a></div><div class='features'><span class=\"ls xft\" ><span class=\"f\">ls=</span>vbcp</span><span class=\"pdp xft\" ><span class=\"f\">pdp=</span>verb</span></div></div></div></div><div class=\"contnr c1  rtl  \" ><div class=\"lbl c1  \" ><span class=\"nd\">phrase:879341</span></div><div class='features'><span class=\"function xft\" ><span class=\"f\">function=</span>Loca</span></div><div class=\"children hor wrap rtl\"><div class=\"contnr c0 trm rtl  \" ><div class=\"lbl c0 trm \" ><span class=\"nd\">375043</span> <a class=\" txtu hbo\" target=\"_blank\" href=\"https://shebanq.ancient-data.org/hebrew/word?version=2017&amp;id=2B\" title=\"Show this on SHEBANQ\"><span class=\"txtu hbo\">בְ</span></a></div><div class='features'><span class=\"pdp xft\" ><span class=\"f\">pdp=</span>prep</span></div></div><div class=\"contnr c0 trm rtl  \" ><div class=\"lbl c0 trm \" ><span class=\"nd\">375044</span> <a class=\" txtu hbo\" target=\"_blank\" href=\"https://shebanq.ancient-data.org/hebrew/word?version=2017&amp;id=2AROn\" title=\"Show this on SHEBANQ\"><span class=\"txtu hbo\">אַרְעָ֔א </span></a></div><div class='features'><span class=\"pdp xft\" ><span class=\"f\">pdp=</span>subs</span></div></div></div></div></div></div></div>"
      ],
      "text/plain": [
       "<IPython.core.display.HTML object>"
      ]
     },
     "metadata": {},
     "output_type": "display_data"
    }
   ],
   "source": [
    "A.show(newResults, condensed=True, withNodes=True, condenseType=\"clause\")"
   ]
  },
  {
   "cell_type": "markdown",
   "metadata": {},
   "source": [
    "In all three cases we see a Pred phrase somewhere after the PreC phrase.\n",
    "\n",
    "The `NOTEXIST` of MQL works a bit subtle: the not-exists claim holds from the place where it appears till the end\n",
    "of the surrounding context.\n",
    "\n",
    "So, in fact, the second `NOTEXIST` is redundant. Following the MQL query, the clause cannot have a Pred phrase beyond\n",
    "the Subj phrase."
   ]
  },
  {
   "cell_type": "markdown",
   "metadata": {
    "lines_to_next_cell": 2
   },
   "source": [
    "## TF no - MQL yes\n",
    "\n",
    "Before we remedy our TF query to match this effect, let us inspect the clauses delivered by MQL, but not by TF.\n",
    "\n",
    "Most of the effort in the code below is to furnish appropriate highlighting."
   ]
  },
  {
   "cell_type": "code",
   "execution_count": 12,
   "metadata": {},
   "outputs": [],
   "source": [
    "def showClause(clause):\n",
    "    highlights = {}\n",
    "    for phrase in L.d(clause, otype=\"phrase\"):\n",
    "        pf = F.function.v(phrase)\n",
    "        if pf == \"Subj\":\n",
    "            highlights[phrase] = \"cyan\"\n",
    "            for phraseAtom in L.d(phrase, otype=\"phrase_atom\"):\n",
    "                rela = F.rela.v(phraseAtom)\n",
    "                if rela in {\"Appo\", \"Para\", \"Spec\"}:\n",
    "                    continue\n",
    "                words = L.d(phraseAtom, otype=\"word\")\n",
    "                for word in words:\n",
    "                    pdp = F.pdp.v(word)\n",
    "                    if pdp in {\"subs\", \"nmpr\", \"prps\", \"prde\", \"prin\", \"adjv\"}:\n",
    "                        highlights[word] = \"yellow\"\n",
    "        elif pf == \"PreC\":\n",
    "            highlights[phrase] = \"lightskyblue\"\n",
    "            words = L.d(phrase, otype=\"word\")\n",
    "            if any(F.pdp.v(word) == \"prep\" for word in words):\n",
    "                continue\n",
    "            for word in words:\n",
    "                pdp = F.pdp.v(word)\n",
    "                ls = F.ls.v(word)\n",
    "\n",
    "                if ls in {\"card\", \"ord\"} and pdp in {\"subs\", \"nmpr\", \"prin\", \"adjv\"}:\n",
    "                    highlights[word] = \"yellow\"\n",
    "        elif pf == \"Pred\":\n",
    "            highlights[phrase] = \"coral\"\n",
    "    A.pretty(clause, withNodes=True, highlights=highlights)"
   ]
  },
  {
   "cell_type": "code",
   "execution_count": 13,
   "metadata": {},
   "outputs": [],
   "source": [
    "mqlClauses = sorted(mqlNotTf)"
   ]
  },
  {
   "cell_type": "markdown",
   "metadata": {},
   "source": [
    "We inspect the cases one by one:"
   ]
  },
  {
   "cell_type": "code",
   "execution_count": 14,
   "metadata": {},
   "outputs": [
    {
     "data": {
      "text/html": [
       "<div class=\"section rtl\"><a target=\"_blank\" href=\"https://shebanq.ancient-data.org/hebrew/text?book=Genesis&amp;chapter=5&amp;verse=5&amp;version=2017&amp;mr=m&amp;qw=q&amp;tp=txt_p&amp;tr=hb&amp;wget=v&amp;qget=v&amp;nget=vt\" title=\"Show this on SHEBANQ\" sec=\"Genesis 5:5\">Genesis 5:5</a></div><div class=\"rtl children\"><div class=\"contnr c2  rtl l \" ><div class=\"lbl c2  \" ><span class=\"nd\">clause:427990</span></div><div class=\"children hor wrap rtl\"><div class=\"contnr c1  rtl  \" ><div class=\"lbl c1  \" ><span class=\"nd\">phrase:652820</span></div><div class='features'><span class=\"function xft\" ><span class=\"f\">function=</span>Conj</span></div><div class=\"children hor wrap rtl\"><div class=\"contnr c0 trm rtl  \" ><div class=\"lbl c0 trm \" ><span class=\"nd\">2183</span> <a class=\" txtu hbo\" target=\"_blank\" href=\"https://shebanq.ancient-data.org/hebrew/word?version=2017&amp;id=1W\" title=\"Show this on SHEBANQ\"><span class=\"txtu hbo\">וַ</span></a></div><div class='features'><span class=\"pdp xft\" ><span class=\"f\">pdp=</span>conj</span></div></div></div></div><div class=\"contnr c1  rtl  hl\"  style=\"background-color: coral;\" ><div class=\"lbl c1  hl\"  style=\"background-color: coral;\" ><span class=\"nd\">phrase:652821</span></div><div class='features'><span class=\"function xft\" ><span class=\"f\">function=</span>Pred</span></div><div class=\"children hor wrap rtl\"><div class=\"contnr c0 trm rtl  \" ><div class=\"lbl c0 trm \" ><span class=\"nd\">2184</span> <a class=\" txtu hbo\" target=\"_blank\" href=\"https://shebanq.ancient-data.org/hebrew/word?version=2017&amp;id=1HJHv\" title=\"Show this on SHEBANQ\"><span class=\"txtu hbo\">יִּֽהְי֞וּ </span></a></div><div class='features'><span class=\"ls xft\" ><span class=\"f\">ls=</span>vbcp</span><span class=\"pdp xft\" ><span class=\"f\">pdp=</span>verb</span></div></div></div></div><div class=\"contnr c1  rtl  hl\"  style=\"background-color: cyan;\" ><div class=\"lbl c1  hl\"  style=\"background-color: cyan;\" ><span class=\"nd\">phrase:652822</span></div><div class='features'><span class=\"function xft\" ><span class=\"f\">function=</span>Subj</span></div><div class=\"children hor wrap rtl\"><div class=\"contnr c0 trm rtl  hl\"  style=\"background-color: yellow;\" ><div class=\"lbl c0 trm hl\"  style=\"background-color: yellow;\" ><span class=\"nd\">2185</span> <a class=\" txtu hbo\" target=\"_blank\" href=\"https://shebanq.ancient-data.org/hebrew/word?version=2017&amp;id=1KLn\" title=\"Show this on SHEBANQ\"><span class=\"txtu hbo\">כָּל־</span></a></div><div class='features'><span class=\"ls xft\" ><span class=\"f\">ls=</span>nmdi</span><span class=\"pdp xft\" ><span class=\"f\">pdp=</span>subs</span></div></div><div class=\"contnr c0 trm rtl  hl\"  style=\"background-color: yellow;\" ><div class=\"lbl c0 trm hl\"  style=\"background-color: yellow;\" ><span class=\"nd\">2186</span> <a class=\" txtu hbo\" target=\"_blank\" href=\"https://shebanq.ancient-data.org/hebrew/word?version=2017&amp;id=1JWMn\" title=\"Show this on SHEBANQ\"><span class=\"txtu hbo\">יְמֵ֤י </span></a></div><div class='features'><span class=\"ls xft\" ><span class=\"f\">ls=</span>padv</span><span class=\"pdp xft\" ><span class=\"f\">pdp=</span>subs</span></div></div><div class=\"contnr c0 trm rtl  hl\"  style=\"background-color: yellow;\" ><div class=\"lbl c0 trm hl\"  style=\"background-color: yellow;\" ><span class=\"nd\">2187</span> <a class=\" txtu hbo\" target=\"_blank\" href=\"https://shebanq.ancient-data.org/hebrew/word?version=2017&amp;id=1ADMiiin\" title=\"Show this on SHEBANQ\"><span class=\"txtu hbo\">אָדָם֙ </span></a></div><div class='features'><span class=\"pdp xft\" ><span class=\"f\">pdp=</span>nmpr</span></div></div></div></div></div></div><div class=\"contnr c2  rtl r \" ><div class=\"lbl c2  \" ><span class=\"nd\">clause:427990</span></div><div class=\"children hor wrap rtl\"><div class=\"contnr c1  rtl  hl\"  style=\"background-color: lightskyblue;\" ><div class=\"lbl c1  hl\"  style=\"background-color: lightskyblue;\" ><span class=\"nd\">phrase:652825</span></div><div class='features'><span class=\"function xft\" ><span class=\"f\">function=</span>PreC</span></div><div class=\"children hor wrap rtl\"><div class=\"contnr c0 trm rtl  hl\"  style=\"background-color: yellow;\" ><div class=\"lbl c0 trm hl\"  style=\"background-color: yellow;\" ><span class=\"nd\">2190</span> <a class=\" txtu hbo\" target=\"_blank\" href=\"https://shebanq.ancient-data.org/hebrew/word?version=2017&amp;id=1TCOn\" title=\"Show this on SHEBANQ\"><span class=\"txtu hbo\">תְּשַׁ֤ע </span></a></div><div class='features'><span class=\"ls xft\" ><span class=\"f\">ls=</span>card</span><span class=\"pdp xft\" ><span class=\"f\">pdp=</span>subs</span></div></div><div class=\"contnr c0 trm rtl  hl\"  style=\"background-color: yellow;\" ><div class=\"lbl c0 trm hl\"  style=\"background-color: yellow;\" ><span class=\"nd\">2191</span> <a class=\" txtu hbo\" target=\"_blank\" href=\"https://shebanq.ancient-data.org/hebrew/word?version=2017&amp;id=1MAHn\" title=\"Show this on SHEBANQ\"><span class=\"txtu hbo\">מֵאֹות֙ </span></a></div><div class='features'><span class=\"ls xft\" ><span class=\"f\">ls=</span>card</span><span class=\"pdp xft\" ><span class=\"f\">pdp=</span>subs</span></div></div><div class=\"contnr c0 trm rtl  \" ><div class=\"lbl c0 trm \" ><span class=\"nd\">2192</span> <a class=\" txtu hbo\" target=\"_blank\" href=\"https://shebanq.ancient-data.org/hebrew/word?version=2017&amp;id=1CNHn\" title=\"Show this on SHEBANQ\"><span class=\"txtu hbo\">שָׁנָ֔ה </span></a></div><div class='features'><span class=\"pdp xft\" ><span class=\"f\">pdp=</span>subs</span></div></div><div class=\"contnr c0 trm rtl  \" ><div class=\"lbl c0 trm \" ><span class=\"nd\">2193</span> <a class=\" txtu hbo\" target=\"_blank\" href=\"https://shebanq.ancient-data.org/hebrew/word?version=2017&amp;id=1W\" title=\"Show this on SHEBANQ\"><span class=\"txtu hbo\">וּ</span></a></div><div class='features'><span class=\"pdp xft\" ><span class=\"f\">pdp=</span>conj</span></div></div><div class=\"contnr c0 trm rtl  hl\"  style=\"background-color: yellow;\" ><div class=\"lbl c0 trm hl\"  style=\"background-color: yellow;\" ><span class=\"nd\">2194</span> <a class=\" txtu hbo\" target=\"_blank\" href=\"https://shebanq.ancient-data.org/hebrew/word?version=2017&amp;id=1CLCn\" title=\"Show this on SHEBANQ\"><span class=\"txtu hbo\">שְׁלֹשִׁ֖ים </span></a></div><div class='features'><span class=\"ls xft\" ><span class=\"f\">ls=</span>card</span><span class=\"pdp xft\" ><span class=\"f\">pdp=</span>subs</span></div></div><div class=\"contnr c0 trm rtl  \" ><div class=\"lbl c0 trm \" ><span class=\"nd\">2195</span> <a class=\" txtu hbo\" target=\"_blank\" href=\"https://shebanq.ancient-data.org/hebrew/word?version=2017&amp;id=1CNHn\" title=\"Show this on SHEBANQ\"><span class=\"txtu hbo\">שָׁנָ֑ה </span></a></div><div class='features'><span class=\"pdp xft\" ><span class=\"f\">pdp=</span>subs</span></div></div></div></div></div></div></div>"
      ],
      "text/plain": [
       "<IPython.core.display.HTML object>"
      ]
     },
     "metadata": {},
     "output_type": "display_data"
    }
   ],
   "source": [
    "showClause(mqlClauses[0])"
   ]
  },
  {
   "cell_type": "markdown",
   "metadata": {},
   "source": [
    "What could be wrong here? The only violation could be in the *gap*. What happens before the PreC phrase?\n",
    "If there is an adjacent Pred phrase, it explains why this does not show up in the TF query results.\n",
    "Let's find out."
   ]
  },
  {
   "cell_type": "code",
   "execution_count": 15,
   "metadata": {},
   "outputs": [
    {
     "data": {
      "text/html": [
       "<div class=\"section rtl\"><a target=\"_blank\" href=\"https://shebanq.ancient-data.org/hebrew/text?book=Genesis&amp;chapter=5&amp;verse=5&amp;version=2017&amp;mr=m&amp;qw=q&amp;tp=txt_p&amp;tr=hb&amp;wget=v&amp;qget=v&amp;nget=vt\" title=\"Show this on SHEBANQ\" sec=\"Genesis 5:5\">Genesis 5:5</a></div><div class=\"rtl children\"><div class=\"contnr c1  rtl  hl\"  style=\"background-color: coral;\" ><div class=\"lbl c1  hl\"  style=\"background-color: coral;\" ><span class=\"nd\">phrase:652824</span></div><div class='features'><span class=\"function xft\" ><span class=\"f\">function=</span>Pred</span></div><div class=\"children hor wrap rtl\"><div class=\"contnr c0 trm rtl  \" ><div class=\"lbl c0 trm \" ><span class=\"nd\">2189</span> <a class=\" txtu hbo\" target=\"_blank\" href=\"https://shebanq.ancient-data.org/hebrew/word?version=2017&amp;id=1XJHv\" title=\"Show this on SHEBANQ\"><span class=\"txtu hbo\">חַ֔י </span></a></div><div class='features'><span class=\"pdp xft\" ><span class=\"f\">pdp=</span>verb</span></div></div></div></div></div>"
      ],
      "text/plain": [
       "<IPython.core.display.HTML object>"
      ]
     },
     "metadata": {},
     "output_type": "display_data"
    }
   ],
   "source": [
    "xPhrase = L.u(2189, otype=\"phrase\")[0]\n",
    "A.pretty(\n",
    "    xPhrase,\n",
    "    withNodes=True,\n",
    "    highlights={xPhrase: \"coral\" if F.function.v(xPhrase) == \"Pred\" else \"lightyellow\"},\n",
    ")"
   ]
  },
  {
   "cell_type": "markdown",
   "metadata": {},
   "source": [
    "Clearly, this is the culprit.\n",
    "it is in the same clause."
   ]
  },
  {
   "cell_type": "code",
   "execution_count": 16,
   "metadata": {},
   "outputs": [
    {
     "data": {
      "text/html": [
       "<div class=\"section rtl\"><a target=\"_blank\" href=\"https://shebanq.ancient-data.org/hebrew/text?book=Judices&amp;chapter=8&amp;verse=26&amp;version=2017&amp;mr=m&amp;qw=q&amp;tp=txt_p&amp;tr=hb&amp;wget=v&amp;qget=v&amp;nget=vt\" title=\"Show this on SHEBANQ\" sec=\"Judges 8:26\">Judges 8:26</a></div><div class=\"rtl children\"><div class=\"contnr c2  rtl l \" ><div class=\"lbl c2  \" ><span class=\"nd\">clause:452091</span></div><div class=\"children hor wrap rtl\"><div class=\"contnr c1  rtl  \" ><div class=\"lbl c1  \" ><span class=\"nd\">phrase:725977</span></div><div class='features'><span class=\"function xft\" ><span class=\"f\">function=</span>Conj</span></div><div class=\"children hor wrap rtl\"><div class=\"contnr c0 trm rtl  \" ><div class=\"lbl c0 trm \" ><span class=\"nd\">132671</span> <a class=\" txtu hbo\" target=\"_blank\" href=\"https://shebanq.ancient-data.org/hebrew/word?version=2017&amp;id=1W\" title=\"Show this on SHEBANQ\"><span class=\"txtu hbo\">וַ</span></a></div><div class='features'><span class=\"pdp xft\" ><span class=\"f\">pdp=</span>conj</span></div></div></div></div><div class=\"contnr c1  rtl  hl\"  style=\"background-color: coral;\" ><div class=\"lbl c1  hl\"  style=\"background-color: coral;\" ><span class=\"nd\">phrase:725978</span></div><div class='features'><span class=\"function xft\" ><span class=\"f\">function=</span>Pred</span></div><div class=\"children hor wrap rtl\"><div class=\"contnr c0 trm rtl  \" ><div class=\"lbl c0 trm \" ><span class=\"nd\">132672</span> <a class=\" txtu hbo\" target=\"_blank\" href=\"https://shebanq.ancient-data.org/hebrew/word?version=2017&amp;id=1HJHv\" title=\"Show this on SHEBANQ\"><span class=\"txtu hbo\">יְהִ֗י </span></a></div><div class='features'><span class=\"ls xft\" ><span class=\"f\">ls=</span>vbcp</span><span class=\"pdp xft\" ><span class=\"f\">pdp=</span>verb</span></div></div></div></div><div class=\"contnr c1  rtl  hl\"  style=\"background-color: cyan;\" ><div class=\"lbl c1  hl\"  style=\"background-color: cyan;\" ><span class=\"nd\">phrase:725979</span></div><div class='features'><span class=\"function xft\" ><span class=\"f\">function=</span>Subj</span></div><div class=\"children hor wrap rtl\"><div class=\"contnr c0 trm rtl  hl\"  style=\"background-color: yellow;\" ><div class=\"lbl c0 trm hl\"  style=\"background-color: yellow;\" ><span class=\"nd\">132673</span> <a class=\" txtu hbo\" target=\"_blank\" href=\"https://shebanq.ancient-data.org/hebrew/word?version=2017&amp;id=1MCQLn\" title=\"Show this on SHEBANQ\"><span class=\"txtu hbo\">מִשְׁקַ֞ל </span></a></div><div class='features'><span class=\"pdp xft\" ><span class=\"f\">pdp=</span>subs</span></div></div><div class=\"contnr c0 trm rtl  hl\"  style=\"background-color: yellow;\" ><div class=\"lbl c0 trm hl\"  style=\"background-color: yellow;\" ><span class=\"nd\">132674</span> <a class=\" txtu hbo\" target=\"_blank\" href=\"https://shebanq.ancient-data.org/hebrew/word?version=2017&amp;id=1NZMn\" title=\"Show this on SHEBANQ\"><span class=\"txtu hbo\">נִזְמֵ֤י </span></a></div><div class='features'><span class=\"pdp xft\" ><span class=\"f\">pdp=</span>subs</span></div></div><div class=\"contnr c0 trm rtl  \" ><div class=\"lbl c0 trm \" ><span class=\"nd\">132675</span> <a class=\" txtu hbo\" target=\"_blank\" href=\"https://shebanq.ancient-data.org/hebrew/word?version=2017&amp;id=1H\" title=\"Show this on SHEBANQ\"><span class=\"txtu hbo\">הַ</span></a></div><div class='features'><span class=\"pdp xft\" ><span class=\"f\">pdp=</span>art</span></div></div><div class=\"contnr c0 trm rtl  hl\"  style=\"background-color: yellow;\" ><div class=\"lbl c0 trm hl\"  style=\"background-color: yellow;\" ><span class=\"nd\">132676</span> <a class=\" txtu hbo\" target=\"_blank\" href=\"https://shebanq.ancient-data.org/hebrew/word?version=2017&amp;id=1ZHBn\" title=\"Show this on SHEBANQ\"><span class=\"txtu hbo\">זָּהָב֙ </span></a></div><div class='features'><span class=\"pdp xft\" ><span class=\"f\">pdp=</span>subs</span></div></div></div></div></div></div><div class=\"contnr c2  rtl r l \" ><div class=\"lbl c2  \" ><span class=\"nd\">clause:452091</span></div><div class=\"children hor wrap rtl\"><div class=\"contnr c1  rtl  hl\"  style=\"background-color: lightskyblue;\" ><div class=\"lbl c1  hl\"  style=\"background-color: lightskyblue;\" ><span class=\"nd\">phrase:725982</span></div><div class='features'><span class=\"function xft\" ><span class=\"f\">function=</span>PreC</span></div><div class=\"children hor wrap rtl\"><div class=\"contnr c0 trm rtl  hl\"  style=\"background-color: yellow;\" ><div class=\"lbl c0 trm hl\"  style=\"background-color: yellow;\" ><span class=\"nd\">132679</span> <a class=\" txtu hbo\" target=\"_blank\" href=\"https://shebanq.ancient-data.org/hebrew/word?version=2017&amp;id=1ALPin\" title=\"Show this on SHEBANQ\"><span class=\"txtu hbo\">אֶ֥לֶף </span></a></div><div class='features'><span class=\"ls xft\" ><span class=\"f\">ls=</span>card</span><span class=\"pdp xft\" ><span class=\"f\">pdp=</span>subs</span></div></div><div class=\"contnr c0 trm rtl  \" ><div class=\"lbl c0 trm \" ><span class=\"nd\">132680</span> <a class=\" txtu hbo\" target=\"_blank\" href=\"https://shebanq.ancient-data.org/hebrew/word?version=2017&amp;id=1W\" title=\"Show this on SHEBANQ\"><span class=\"txtu hbo\">וּ</span></a></div><div class='features'><span class=\"pdp xft\" ><span class=\"f\">pdp=</span>conj</span></div></div><div class=\"contnr c0 trm rtl  hl\"  style=\"background-color: yellow;\" ><div class=\"lbl c0 trm hl\"  style=\"background-color: yellow;\" ><span class=\"nd\">132681</span> <a class=\" txtu hbo\" target=\"_blank\" href=\"https://shebanq.ancient-data.org/hebrew/word?version=2017&amp;id=1CBOn\" title=\"Show this on SHEBANQ\"><span class=\"txtu hbo\">שְׁבַע־</span></a></div><div class='features'><span class=\"ls xft\" ><span class=\"f\">ls=</span>card</span><span class=\"pdp xft\" ><span class=\"f\">pdp=</span>subs</span></div></div><div class=\"contnr c0 trm rtl  hl\"  style=\"background-color: yellow;\" ><div class=\"lbl c0 trm hl\"  style=\"background-color: yellow;\" ><span class=\"nd\">132682</span> <a class=\" txtu hbo\" target=\"_blank\" href=\"https://shebanq.ancient-data.org/hebrew/word?version=2017&amp;id=1MAHn\" title=\"Show this on SHEBANQ\"><span class=\"txtu hbo\">מֵאֹ֖ות </span></a></div><div class='features'><span class=\"ls xft\" ><span class=\"f\">ls=</span>card</span><span class=\"pdp xft\" ><span class=\"f\">pdp=</span>subs</span></div></div><div class=\"contnr c0 trm rtl  \" ><div class=\"lbl c0 trm \" ><span class=\"nd\">132683</span> <a class=\" txtu hbo\" target=\"_blank\" href=\"https://shebanq.ancient-data.org/hebrew/word?version=2017&amp;id=1ZHBn\" title=\"Show this on SHEBANQ\"><span class=\"txtu hbo\">זָהָ֑ב </span></a></div><div class='features'><span class=\"pdp xft\" ><span class=\"f\">pdp=</span>subs</span></div></div></div></div><div class=\"contnr c1  rtl l \" ><div class=\"lbl c1  \" ><span class=\"nd\">phrase:725983</span></div><div class='features'><span class=\"function xft\" ><span class=\"f\">function=</span>Adju</span></div><div class=\"children hor wrap rtl\"><div class=\"contnr c0 trm rtl  \" ><div class=\"lbl c0 trm \" ><span class=\"nd\">132684</span> <a class=\" txtu hbo\" target=\"_blank\" href=\"https://shebanq.ancient-data.org/hebrew/word?version=2017&amp;id=1L\" title=\"Show this on SHEBANQ\"><span class=\"txtu hbo\">לְ֠</span></a></div><div class='features'><span class=\"pdp xft\" ><span class=\"f\">pdp=</span>prep</span></div></div><div class=\"contnr c0 trm rtl  \" ><div class=\"lbl c0 trm \" ><span class=\"nd\">132685</span> <a class=\" txtu hbo\" target=\"_blank\" href=\"https://shebanq.ancient-data.org/hebrew/word?version=2017&amp;id=1BDn\" title=\"Show this on SHEBANQ\"><span class=\"txtu hbo\">בַד </span></a></div><div class='features'><span class=\"pdp xft\" ><span class=\"f\">pdp=</span>subs</span></div></div><div class=\"contnr c0 trm rtl  \" ><div class=\"lbl c0 trm \" ><span class=\"nd\">132686</span> <a class=\" txtu hbo\" target=\"_blank\" href=\"https://shebanq.ancient-data.org/hebrew/word?version=2017&amp;id=1MN\" title=\"Show this on SHEBANQ\"><span class=\"txtu hbo\">מִן־</span></a></div><div class='features'><span class=\"pdp xft\" ><span class=\"f\">pdp=</span>prep</span></div></div><div class=\"contnr c0 trm rtl  \" ><div class=\"lbl c0 trm \" ><span class=\"nd\">132687</span> <a class=\" txtu hbo\" target=\"_blank\" href=\"https://shebanq.ancient-data.org/hebrew/word?version=2017&amp;id=1H\" title=\"Show this on SHEBANQ\"><span class=\"txtu hbo\">הַ</span></a></div><div class='features'><span class=\"pdp xft\" ><span class=\"f\">pdp=</span>art</span></div></div><div class=\"contnr c0 trm rtl  \" ><div class=\"lbl c0 trm \" ><span class=\"nd\">132688</span> <a class=\" txtu hbo\" target=\"_blank\" href=\"https://shebanq.ancient-data.org/hebrew/word?version=2017&amp;id=1FHRNJMn\" title=\"Show this on SHEBANQ\"><span class=\"txtu hbo\">שַּׂהֲרֹנִ֨ים </span></a></div><div class='features'><span class=\"pdp xft\" ><span class=\"f\">pdp=</span>subs</span></div></div><div class=\"contnr c0 trm rtl  \" ><div class=\"lbl c0 trm \" ><span class=\"nd\">132689</span> <a class=\" txtu hbo\" target=\"_blank\" href=\"https://shebanq.ancient-data.org/hebrew/word?version=2017&amp;id=1W\" title=\"Show this on SHEBANQ\"><span class=\"txtu hbo\">וְ</span></a></div><div class='features'><span class=\"pdp xft\" ><span class=\"f\">pdp=</span>conj</span></div></div><div class=\"contnr c0 trm rtl  \" ><div class=\"lbl c0 trm \" ><span class=\"nd\">132690</span> <a class=\" txtu hbo\" target=\"_blank\" href=\"https://shebanq.ancient-data.org/hebrew/word?version=2017&amp;id=1H\" title=\"Show this on SHEBANQ\"><span class=\"txtu hbo\">הַ</span></a></div><div class='features'><span class=\"pdp xft\" ><span class=\"f\">pdp=</span>art</span></div></div><div class=\"contnr c0 trm rtl  \" ><div class=\"lbl c0 trm \" ><span class=\"nd\">132691</span> <a class=\" txtu hbo\" target=\"_blank\" href=\"https://shebanq.ancient-data.org/hebrew/word?version=2017&amp;id=1NVPHn\" title=\"Show this on SHEBANQ\"><span class=\"txtu hbo\">נְּטִפֹ֜ות </span></a></div><div class='features'><span class=\"pdp xft\" ><span class=\"f\">pdp=</span>subs</span></div></div><div class=\"contnr c0 trm rtl  \" ><div class=\"lbl c0 trm \" ><span class=\"nd\">132692</span> <a class=\" txtu hbo\" target=\"_blank\" href=\"https://shebanq.ancient-data.org/hebrew/word?version=2017&amp;id=1W\" title=\"Show this on SHEBANQ\"><span class=\"txtu hbo\">וּ</span></a></div><div class='features'><span class=\"pdp xft\" ><span class=\"f\">pdp=</span>conj</span></div></div><div class=\"contnr c0 trm rtl  \" ><div class=\"lbl c0 trm \" ><span class=\"nd\">132693</span> <a class=\" txtu hbo\" target=\"_blank\" href=\"https://shebanq.ancient-data.org/hebrew/word?version=2017&amp;id=1BGDn\" title=\"Show this on SHEBANQ\"><span class=\"txtu hbo\">בִגְדֵ֣י </span></a></div><div class='features'><span class=\"pdp xft\" ><span class=\"f\">pdp=</span>subs</span></div></div><div class=\"contnr c0 trm rtl  \" ><div class=\"lbl c0 trm \" ><span class=\"nd\">132694</span> <a class=\" txtu hbo\" target=\"_blank\" href=\"https://shebanq.ancient-data.org/hebrew/word?version=2017&amp;id=1H\" title=\"Show this on SHEBANQ\"><span class=\"txtu hbo\">הָ</span></a></div><div class='features'><span class=\"pdp xft\" ><span class=\"f\">pdp=</span>art</span></div></div><div class=\"contnr c0 trm rtl  \" ><div class=\"lbl c0 trm \" ><span class=\"nd\">132695</span> <a class=\" txtu hbo\" target=\"_blank\" href=\"https://shebanq.ancient-data.org/hebrew/word?version=2017&amp;id=1ARGMNn\" title=\"Show this on SHEBANQ\"><span class=\"txtu hbo\">אַרְגָּמָ֗ן </span></a></div><div class='features'><span class=\"pdp xft\" ><span class=\"f\">pdp=</span>subs</span></div></div></div></div></div></div><div class=\"contnr c2  rtl r \" ><div class=\"lbl c2  \" ><span class=\"nd\">clause:452091</span></div><div class=\"children hor wrap rtl\"><div class=\"contnr c1  rtl r \" ><div class=\"lbl c1  \" ><span class=\"nd\">phrase:725983</span></div><div class='features'><span class=\"function xft\" ><span class=\"f\">function=</span>Adju</span></div><div class=\"children hor wrap rtl\"><div class=\"contnr c0 trm rtl  \" ><div class=\"lbl c0 trm \" ><span class=\"nd\">132700</span> <a class=\" txtu hbo\" target=\"_blank\" href=\"https://shebanq.ancient-data.org/hebrew/word?version=2017&amp;id=1W\" title=\"Show this on SHEBANQ\"><span class=\"txtu hbo\">וּ</span></a></div><div class='features'><span class=\"pdp xft\" ><span class=\"f\">pdp=</span>conj</span></div></div><div class=\"contnr c0 trm rtl  \" ><div class=\"lbl c0 trm \" ><span class=\"nd\">132701</span> <a class=\" txtu hbo\" target=\"_blank\" href=\"https://shebanq.ancient-data.org/hebrew/word?version=2017&amp;id=1L\" title=\"Show this on SHEBANQ\"><span class=\"txtu hbo\">לְ</span></a></div><div class='features'><span class=\"pdp xft\" ><span class=\"f\">pdp=</span>prep</span></div></div><div class=\"contnr c0 trm rtl  \" ><div class=\"lbl c0 trm \" ><span class=\"nd\">132702</span> <a class=\" txtu hbo\" target=\"_blank\" href=\"https://shebanq.ancient-data.org/hebrew/word?version=2017&amp;id=1BDn\" title=\"Show this on SHEBANQ\"><span class=\"txtu hbo\">בַד֙ </span></a></div><div class='features'><span class=\"pdp xft\" ><span class=\"f\">pdp=</span>subs</span></div></div><div class=\"contnr c0 trm rtl  \" ><div class=\"lbl c0 trm \" ><span class=\"nd\">132703</span> <a class=\" txtu hbo\" target=\"_blank\" href=\"https://shebanq.ancient-data.org/hebrew/word?version=2017&amp;id=1MN\" title=\"Show this on SHEBANQ\"><span class=\"txtu hbo\">מִן־</span></a></div><div class='features'><span class=\"pdp xft\" ><span class=\"f\">pdp=</span>prep</span></div></div><div class=\"contnr c0 trm rtl  \" ><div class=\"lbl c0 trm \" ><span class=\"nd\">132704</span> <a class=\" txtu hbo\" target=\"_blank\" href=\"https://shebanq.ancient-data.org/hebrew/word?version=2017&amp;id=1H\" title=\"Show this on SHEBANQ\"><span class=\"txtu hbo\">הָ֣</span></a></div><div class='features'><span class=\"pdp xft\" ><span class=\"f\">pdp=</span>art</span></div></div><div class=\"contnr c0 trm rtl  \" ><div class=\"lbl c0 trm \" ><span class=\"nd\">132705</span> <a class=\" txtu hbo\" target=\"_blank\" href=\"https://shebanq.ancient-data.org/hebrew/word?version=2017&amp;id=1ONQin\" title=\"Show this on SHEBANQ\"><span class=\"txtu hbo\">עֲנָקֹ֔ות </span></a></div><div class='features'><span class=\"pdp xft\" ><span class=\"f\">pdp=</span>subs</span></div></div></div></div></div></div></div>"
      ],
      "text/plain": [
       "<IPython.core.display.HTML object>"
      ]
     },
     "metadata": {},
     "output_type": "display_data"
    }
   ],
   "source": [
    "showClause(mqlClauses[1])"
   ]
  },
  {
   "cell_type": "markdown",
   "metadata": {},
   "source": [
    "Again, a gap just before the Prec phrase. Indeed:"
   ]
  },
  {
   "cell_type": "code",
   "execution_count": 17,
   "metadata": {},
   "outputs": [
    {
     "data": {
      "text/html": [
       "<div class=\"section rtl\"><a target=\"_blank\" href=\"https://shebanq.ancient-data.org/hebrew/text?book=Judices&amp;chapter=8&amp;verse=26&amp;version=2017&amp;mr=m&amp;qw=q&amp;tp=txt_p&amp;tr=hb&amp;wget=v&amp;qget=v&amp;nget=vt\" title=\"Show this on SHEBANQ\" sec=\"Judges 8:26\">Judges 8:26</a></div><div class=\"rtl children\"><div class=\"contnr c1  rtl  hl\"  style=\"background-color: coral;\" ><div class=\"lbl c1  hl\"  style=\"background-color: coral;\" ><span class=\"nd\">phrase:725981</span></div><div class='features'><span class=\"function xft\" ><span class=\"f\">function=</span>Pred</span></div><div class=\"children hor wrap rtl\"><div class=\"contnr c0 trm rtl  \" ><div class=\"lbl c0 trm \" ><span class=\"nd\">132678</span> <a class=\" txtu hbo\" target=\"_blank\" href=\"https://shebanq.ancient-data.org/hebrew/word?version=2017&amp;id=1CALv\" title=\"Show this on SHEBANQ\"><span class=\"txtu hbo\">שָׁאָ֔ל </span></a></div><div class='features'><span class=\"pdp xft\" ><span class=\"f\">pdp=</span>verb</span></div></div></div></div></div>"
      ],
      "text/plain": [
       "<IPython.core.display.HTML object>"
      ]
     },
     "metadata": {},
     "output_type": "display_data"
    }
   ],
   "source": [
    "xPhrase = L.u(132678, otype=\"phrase\")[0]\n",
    "A.pretty(\n",
    "    xPhrase,\n",
    "    withNodes=True,\n",
    "    highlights={xPhrase: \"coral\" if F.function.v(xPhrase) == \"Pred\" else \"lightyellow\"},\n",
    ")"
   ]
  },
  {
   "cell_type": "code",
   "execution_count": 18,
   "metadata": {},
   "outputs": [
    {
     "data": {
      "text/html": [
       "<div class=\"section rtl\"><a target=\"_blank\" href=\"https://shebanq.ancient-data.org/hebrew/text?book=Chronica_I&amp;chapter=23&amp;verse=4&amp;version=2017&amp;mr=m&amp;qw=q&amp;tp=txt_p&amp;tr=hb&amp;wget=v&amp;qget=v&amp;nget=vt\" title=\"Show this on SHEBANQ\" sec=\"1_Chronicles 23:4\">1_Chronicles 23:4</a></div><div class=\"rtl children\"><div class=\"contnr c2  rtl l \" ><div class=\"lbl c2  \" ><span class=\"nd\">clause:511757</span></div><div class=\"children hor wrap rtl\"><div class=\"contnr c1  rtl  hl\"  style=\"background-color: cyan;\" ><div class=\"lbl c1  hl\"  style=\"background-color: cyan;\" ><span class=\"nd\">phrase:892996</span></div><div class='features'><span class=\"function xft\" ><span class=\"f\">function=</span>Subj</span></div><div class=\"children hor wrap rtl\"><div class=\"contnr c0 trm rtl  \" ><div class=\"lbl c0 trm \" ><span class=\"nd\">402997</span> <a class=\" txtu hbo\" target=\"_blank\" href=\"https://shebanq.ancient-data.org/hebrew/word?version=2017&amp;id=1MN\" title=\"Show this on SHEBANQ\"><span class=\"txtu hbo\">מֵ</span></a></div><div class='features'><span class=\"pdp xft\" ><span class=\"f\">pdp=</span>prep</span></div></div><div class=\"contnr c0 trm rtl  hl\"  style=\"background-color: yellow;\" ><div class=\"lbl c0 trm hl\"  style=\"background-color: yellow;\" ><span class=\"nd\">402998</span> <a class=\" txtu hbo\" target=\"_blank\" href=\"https://shebanq.ancient-data.org/hebrew/word?version=2017&amp;id=1ALH\" title=\"Show this on SHEBANQ\"><span class=\"txtu hbo\">אֵ֗לֶּה </span></a></div><div class='features'><span class=\"pdp xft\" ><span class=\"f\">pdp=</span>prde</span></div></div></div></div></div></div><div class=\"contnr c2  rtl r \" ><div class=\"lbl c2  \" ><span class=\"nd\">clause:511757</span></div><div class=\"children hor wrap rtl\"><div class=\"contnr c1  rtl  hl\"  style=\"background-color: lightskyblue;\" ><div class=\"lbl c1  hl\"  style=\"background-color: lightskyblue;\" ><span class=\"nd\">phrase:892999</span></div><div class='features'><span class=\"function xft\" ><span class=\"f\">function=</span>PreC</span></div><div class=\"children hor wrap rtl\"><div class=\"contnr c0 trm rtl  hl\"  style=\"background-color: yellow;\" ><div class=\"lbl c0 trm hl\"  style=\"background-color: yellow;\" ><span class=\"nd\">403005</span> <a class=\" txtu hbo\" target=\"_blank\" href=\"https://shebanq.ancient-data.org/hebrew/word?version=2017&amp;id=1OFRJMn\" title=\"Show this on SHEBANQ\"><span class=\"txtu hbo\">עֶשְׂרִ֥ים </span></a></div><div class='features'><span class=\"ls xft\" ><span class=\"f\">ls=</span>card</span><span class=\"pdp xft\" ><span class=\"f\">pdp=</span>subs</span></div></div><div class=\"contnr c0 trm rtl  \" ><div class=\"lbl c0 trm \" ><span class=\"nd\">403006</span> <a class=\" txtu hbo\" target=\"_blank\" href=\"https://shebanq.ancient-data.org/hebrew/word?version=2017&amp;id=1W\" title=\"Show this on SHEBANQ\"><span class=\"txtu hbo\">וְ</span></a></div><div class='features'><span class=\"pdp xft\" ><span class=\"f\">pdp=</span>conj</span></div></div><div class=\"contnr c0 trm rtl  hl\"  style=\"background-color: yellow;\" ><div class=\"lbl c0 trm hl\"  style=\"background-color: yellow;\" ><span class=\"nd\">403007</span> <a class=\" txtu hbo\" target=\"_blank\" href=\"https://shebanq.ancient-data.org/hebrew/word?version=2017&amp;id=1ARBOn\" title=\"Show this on SHEBANQ\"><span class=\"txtu hbo\">אַרְבָּעָ֖ה </span></a></div><div class='features'><span class=\"ls xft\" ><span class=\"f\">ls=</span>card</span><span class=\"pdp xft\" ><span class=\"f\">pdp=</span>subs</span></div></div><div class=\"contnr c0 trm rtl  hl\"  style=\"background-color: yellow;\" ><div class=\"lbl c0 trm hl\"  style=\"background-color: yellow;\" ><span class=\"nd\">403008</span> <a class=\" txtu hbo\" target=\"_blank\" href=\"https://shebanq.ancient-data.org/hebrew/word?version=2017&amp;id=1ALPin\" title=\"Show this on SHEBANQ\"><span class=\"txtu hbo\">אָ֑לֶף </span></a></div><div class='features'><span class=\"ls xft\" ><span class=\"f\">ls=</span>card</span><span class=\"pdp xft\" ><span class=\"f\">pdp=</span>subs</span></div></div></div></div></div></div></div>"
      ],
      "text/plain": [
       "<IPython.core.display.HTML object>"
      ]
     },
     "metadata": {},
     "output_type": "display_data"
    }
   ],
   "source": [
    "showClause(mqlClauses[2])"
   ]
  },
  {
   "cell_type": "markdown",
   "metadata": {},
   "source": [
    "We are getting used to it!"
   ]
  },
  {
   "cell_type": "code",
   "execution_count": 19,
   "metadata": {},
   "outputs": [
    {
     "data": {
      "text/html": [
       "<div class=\"section rtl\"><a target=\"_blank\" href=\"https://shebanq.ancient-data.org/hebrew/text?book=Chronica_I&amp;chapter=23&amp;verse=4&amp;version=2017&amp;mr=m&amp;qw=q&amp;tp=txt_p&amp;tr=hb&amp;wget=v&amp;qget=v&amp;nget=vt\" title=\"Show this on SHEBANQ\" sec=\"1_Chronicles 23:4\">1_Chronicles 23:4</a></div><div class=\"rtl children\"><div class=\"contnr c1  rtl  hl\"  style=\"background-color: lightyellow;\" ><div class=\"lbl c1  hl\"  style=\"background-color: lightyellow;\" ><span class=\"nd\">phrase:892998</span></div><div class='features'><span class=\"function xft\" ><span class=\"f\">function=</span>Cmpl</span></div><div class=\"children hor wrap rtl\"><div class=\"contnr c0 trm rtl  \" ><div class=\"lbl c0 trm \" ><span class=\"nd\">403001</span> <a class=\" txtu hbo\" target=\"_blank\" href=\"https://shebanq.ancient-data.org/hebrew/word?version=2017&amp;id=1OL\" title=\"Show this on SHEBANQ\"><span class=\"txtu hbo\">עַל־</span></a></div><div class='features'><span class=\"pdp xft\" ><span class=\"f\">pdp=</span>prep</span></div></div><div class=\"contnr c0 trm rtl  \" ><div class=\"lbl c0 trm \" ><span class=\"nd\">403002</span> <a class=\" txtu hbo\" target=\"_blank\" href=\"https://shebanq.ancient-data.org/hebrew/word?version=2017&amp;id=1MLAKTn\" title=\"Show this on SHEBANQ\"><span class=\"txtu hbo\">מְלֶ֣אכֶת </span></a></div><div class='features'><span class=\"pdp xft\" ><span class=\"f\">pdp=</span>subs</span></div></div><div class=\"contnr c0 trm rtl  \" ><div class=\"lbl c0 trm \" ><span class=\"nd\">403003</span> <a class=\" txtu hbo\" target=\"_blank\" href=\"https://shebanq.ancient-data.org/hebrew/word?version=2017&amp;id=1BJTn\" title=\"Show this on SHEBANQ\"><span class=\"txtu hbo\">בֵּית־</span></a></div><div class='features'><span class=\"pdp xft\" ><span class=\"f\">pdp=</span>subs</span></div></div><div class=\"contnr c0 trm rtl  \" ><div class=\"lbl c0 trm \" ><span class=\"nd\">403004</span> <a class=\" txtu hbo\" target=\"_blank\" href=\"https://shebanq.ancient-data.org/hebrew/word?version=2017&amp;id=1JHWHn\" title=\"Show this on SHEBANQ\"><span class=\"txtu hbo\">יְהוָ֔ה </span></a></div><div class='features'><span class=\"pdp xft\" ><span class=\"f\">pdp=</span>nmpr</span></div></div></div></div></div>"
      ],
      "text/plain": [
       "<IPython.core.display.HTML object>"
      ]
     },
     "metadata": {},
     "output_type": "display_data"
    }
   ],
   "source": [
    "xPhrase = L.u(403004, otype=\"phrase\")[0]\n",
    "A.pretty(\n",
    "    xPhrase,\n",
    "    withNodes=True,\n",
    "    highlights={xPhrase: \"coral\" if F.function.v(xPhrase) == \"Pred\" else \"lightyellow\"},\n",
    ")"
   ]
  },
  {
   "cell_type": "markdown",
   "metadata": {},
   "source": [
    "But no, here we have a different cause. Probably a Pred phrase right after the Subj phrase."
   ]
  },
  {
   "cell_type": "code",
   "execution_count": 20,
   "metadata": {},
   "outputs": [
    {
     "data": {
      "text/html": [
       "<div class=\"section rtl\"><a target=\"_blank\" href=\"https://shebanq.ancient-data.org/hebrew/text?book=Chronica_I&amp;chapter=23&amp;verse=4&amp;version=2017&amp;mr=m&amp;qw=q&amp;tp=txt_p&amp;tr=hb&amp;wget=v&amp;qget=v&amp;nget=vt\" title=\"Show this on SHEBANQ\" sec=\"1_Chronicles 23:4\">1_Chronicles 23:4</a></div><div class=\"rtl children\"><div class=\"contnr c1  rtl  hl\"  style=\"background-color: coral;\" ><div class=\"lbl c1  hl\"  style=\"background-color: coral;\" ><span class=\"nd\">phrase:892997</span></div><div class='features'><span class=\"function xft\" ><span class=\"f\">function=</span>Pred</span></div><div class=\"children hor wrap rtl\"><div class=\"contnr c0 trm rtl  \" ><div class=\"lbl c0 trm \" ><span class=\"nd\">402999</span> <a class=\" txtu hbo\" target=\"_blank\" href=\"https://shebanq.ancient-data.org/hebrew/word?version=2017&amp;id=1L\" title=\"Show this on SHEBANQ\"><span class=\"txtu hbo\">לְ</span></a></div><div class='features'><span class=\"pdp xft\" ><span class=\"f\">pdp=</span>prep</span></div></div><div class=\"contnr c0 trm rtl  \" ><div class=\"lbl c0 trm \" ><span class=\"nd\">403000</span> <a class=\" txtu hbo\" target=\"_blank\" href=\"https://shebanq.ancient-data.org/hebrew/word?version=2017&amp;id=1NYXv\" title=\"Show this on SHEBANQ\"><span class=\"txtu hbo\">נַצֵּ֨חַ֙ </span></a></div><div class='features'><span class=\"pdp xft\" ><span class=\"f\">pdp=</span>verb</span></div></div></div></div></div>"
      ],
      "text/plain": [
       "<IPython.core.display.HTML object>"
      ]
     },
     "metadata": {},
     "output_type": "display_data"
    }
   ],
   "source": [
    "xPhrase = L.u(402999, otype=\"phrase\")[0]\n",
    "A.pretty(\n",
    "    xPhrase,\n",
    "    withNodes=True,\n",
    "    highlights={xPhrase: \"coral\" if F.function.v(xPhrase) == \"Pred\" else \"lightyellow\"},\n",
    ")"
   ]
  },
  {
   "cell_type": "markdown",
   "metadata": {},
   "source": [
    "## Remedy\n",
    "\n",
    "We have seen all the causes why the TF search and the MQL query produced different results.\n",
    "\n",
    "Now we are going to remedy the TF query, such that it produces the same results as the MQL.\n",
    "\n",
    "Let us start with what we just saw: when we stipulate the non-existence of a Pred phrase, we only claim that such\n",
    "a phrase does not occur in the same clause.\n",
    "\n",
    "Then we remove the second non-existence claim of a Pred phrase, since the MQL query just stipulates that there is\n",
    "no Pred phrase after the Subj phrase.\n",
    "\n",
    "But then we can make the quantifier much simpler. Instead of applying it to the Subj phrase,\n",
    "we apply it to the enclosing clause. That will solve the problem of phrases outside the clause in one go!"
   ]
  },
  {
   "cell_type": "code",
   "execution_count": 56,
   "metadata": {
    "ExecuteTime": {
     "end_time": "2018-05-07T08:04:37.996573Z",
     "start_time": "2018-05-07T08:04:34.541956Z"
    }
   },
   "outputs": [],
   "source": [
    "query = \"\"\"\n",
    "c:clause\n",
    "/without/\n",
    "  phrase function=Subj\n",
    "  << phrase function=Pred\n",
    "/-/\n",
    "  p:phrase function=Subj\n",
    "    phrase_atom rela#Appo|Para|Spec\n",
    "      word pdp=subs|nmpr|prps|prde|prin|adjv\n",
    "  << phrase function=PreC\n",
    "  /without/\n",
    "    word pdp=prep\n",
    "  /-/\n",
    "    word pdp=subs|nmpr|prin|adjv ls=card|ordn\n",
    "\"\"\""
   ]
  },
  {
   "cell_type": "code",
   "execution_count": 57,
   "metadata": {
    "ExecuteTime": {
     "end_time": "2018-05-07T08:04:37.996573Z",
     "start_time": "2018-05-07T08:04:34.541956Z"
    }
   },
   "outputs": [
    {
     "name": "stdout",
     "output_type": "stream",
     "text": [
      "  1.52s 2303 results\n",
      "519 clauses in results\n"
     ]
    },
    {
     "data": {
      "text/plain": [
       "True"
      ]
     },
     "execution_count": 57,
     "metadata": {},
     "output_type": "execute_result"
    }
   ],
   "source": [
    "results = A.search(query)\n",
    "clauses = project(results, 1)\n",
    "print(f\"{len(clauses)} clauses in results\")\n",
    "\n",
    "clauses == shebanqClauses"
   ]
  },
  {
   "cell_type": "markdown",
   "metadata": {},
   "source": [
    "And this is in exact agreement with the MQL query."
   ]
  },
  {
   "cell_type": "markdown",
   "metadata": {},
   "source": [
    "As a bonus, let's study this query in order to see what the quantifiers are doing."
   ]
  },
  {
   "cell_type": "code",
   "execution_count": 58,
   "metadata": {},
   "outputs": [
    {
     "name": "stdout",
     "output_type": "stream",
     "text": [
      "  0.00s Checking search template ...\n",
      "  0.00s Setting up search space for 6 objects ...\n",
      "   |     0.00s \"Quantifier on \"c:clause\"\n",
      "   |      |   /without/\n",
      "   |      |   c:clause\n",
      "   |      |     phrase function=Subj\n",
      "   |      |     << phrase function=Pred\n",
      "   |      |   /-/\n",
      "   |      |     0.75s 4985 nodes to exclude\n",
      "   |     0.75s reduction from 88101 to 83116 nodes\n",
      "   |     0.00s \"Quantifier on \"parent:phrase function=PreC\"\n",
      "   |      |   /without/\n",
      "   |      |   parent:phrase function=PreC\n",
      "   |      |     word pdp=prep\n",
      "   |      |   /-/\n",
      "   |      |     0.76s 6370 nodes to exclude\n",
      "   |     0.76s reduction from 19383 to 13013 nodes\n",
      "  1.15s Constraining search space with 6 relations ...\n",
      "  1.52s \t5 edges thinned\n",
      "  1.52s Setting up retrieval plan with strategy small_choice_multi ...\n",
      "  1.53s Ready to deliver results from 5321 nodes\n",
      "Iterate over S.fetch() to get the results\n",
      "See S.showPlan() to interpret the results\n"
     ]
    }
   ],
   "source": [
    "S.study(query)"
   ]
  },
  {
   "cell_type": "markdown",
   "metadata": {},
   "source": [
    "# By Dirk Roorda\n",
    "## MQL\n",
    "\n",
    "[Dirk Roorda: Yesh](https://shebanq.ancient-data.org/hebrew/query?version=4b&id=556)\n",
    "\n",
    "```\n",
    "select all objects where\n",
    "[book [chapter [verse\n",
    "[clause\n",
    "    [clause_atom\n",
    "        [phrase\n",
    "            [phrase_atom\n",
    "                [word focus lex=\"JC/\" OR lex=\">JN/\"]\n",
    "            ]\n",
    "        ]\n",
    "    ]\n",
    "]\n",
    "]]]\n",
    "```\n",
    "\n",
    "926 results"
   ]
  },
  {
   "cell_type": "markdown",
   "metadata": {},
   "source": [
    "## TF"
   ]
  },
  {
   "cell_type": "code",
   "execution_count": 59,
   "metadata": {
    "ExecuteTime": {
     "end_time": "2018-05-07T08:04:40.156335Z",
     "start_time": "2018-05-07T08:04:39.036021Z"
    }
   },
   "outputs": [
    {
     "name": "stdout",
     "output_type": "stream",
     "text": [
      "  0.57s 926 results\n"
     ]
    },
    {
     "data": {
      "text/html": [
       "<table><tr class=\"tf rtl\"><th class=\"tf rtl\">n</th><th class=\"tf rtl\">p</th><th class=\"tf rtl\">verse</th><th class=\"tf\">clause</th><th class=\"tf\">clause_atom</th><th class=\"tf\">phrase</th><th class=\"tf\">phrase_atom</th><th class=\"tf\">word</th></tr>\n",
       "<tr class=\"tf rtl\"><td class=\"tf rtl\">1</td><td class=\"tf rtl\"><span class=\"section ltr\"><a target=\"_blank\" href=\"https://shebanq.ancient-data.org/hebrew/text?book=Genesis&amp;chapter=2&amp;verse=5&amp;version=2017&amp;mr=m&amp;qw=q&amp;tp=txt_p&amp;tr=hb&amp;wget=v&amp;qget=v&amp;nget=vt\" title=\"Show this on SHEBANQ\" sec=\"Genesis 2:5\">Genesis 2:5</a></span></td><td class=\"tf rtl\"><div class=\"rtl\"></div></td><td class=\"tf rtl\"><div class=\"rtl\"><span class=\"plain rtl  hlbx\" ><span class=\"txtu hbo\">וְ</span><span class=\"txtu hbo\">אָדָ֣ם </span><span class=\"plain rtl  hlbx\" ><span class=\"plain rtl  hl\" ><span class=\"txtu hbo\">אַ֔יִן </span></span></span></span></div></td><td class=\"tf rtl\"><div class=\"rtl\"><span class=\"plain rtl  hlbx\" ><span class=\"txtu hbo\">וְ</span><span class=\"txtu hbo\">אָדָ֣ם </span><span class=\"plain rtl  hlbx\" ><span class=\"plain rtl  hl\" ><span class=\"txtu hbo\">אַ֔יִן </span></span></span></span></div></td><td class=\"tf rtl\"><div class=\"rtl\"><span class=\"plain rtl  hlbx\" ><span class=\"plain rtl  hl\" ><span class=\"txtu hbo\">אַ֔יִן </span></span></span></div></td><td class=\"tf rtl\"><div class=\"rtl\"><span class=\"plain rtl  hlbx\" ><span class=\"plain rtl  hl\" ><span class=\"txtu hbo\">אַ֔יִן </span></span></span></div></td><td class=\"tf rtl\"><div class=\"rtl\"><span class=\"plain rtl  hl\" ><span class=\"txtu hbo\">אַ֔יִן </span></span></div></td></tr>\n",
       "<tr class=\"tf rtl\"><td class=\"tf rtl\">2</td><td class=\"tf rtl\"><span class=\"section ltr\"><a target=\"_blank\" href=\"https://shebanq.ancient-data.org/hebrew/text?book=Genesis&amp;chapter=5&amp;verse=24&amp;version=2017&amp;mr=m&amp;qw=q&amp;tp=txt_p&amp;tr=hb&amp;wget=v&amp;qget=v&amp;nget=vt\" title=\"Show this on SHEBANQ\" sec=\"Genesis 5:24\">Genesis 5:24</a></span></td><td class=\"tf rtl\"><div class=\"rtl\"></div></td><td class=\"tf rtl\"><div class=\"rtl\"><span class=\"plain rtl  hlbx\" ><span class=\"txtu hbo\">וְ</span><span class=\"plain rtl  hlbx\" ><span class=\"plain rtl  hl\" ><span class=\"txtu hbo\">אֵינֶ֕נּוּ </span></span></span></span></div></td><td class=\"tf rtl\"><div class=\"rtl\"><span class=\"plain rtl  hlbx\" ><span class=\"txtu hbo\">וְ</span><span class=\"plain rtl  hlbx\" ><span class=\"plain rtl  hl\" ><span class=\"txtu hbo\">אֵינֶ֕נּוּ </span></span></span></span></div></td><td class=\"tf rtl\"><div class=\"rtl\"><span class=\"plain rtl  hlbx\" ><span class=\"plain rtl  hl\" ><span class=\"txtu hbo\">אֵינֶ֕נּוּ </span></span></span></div></td><td class=\"tf rtl\"><div class=\"rtl\"><span class=\"plain rtl  hlbx\" ><span class=\"plain rtl  hl\" ><span class=\"txtu hbo\">אֵינֶ֕נּוּ </span></span></span></div></td><td class=\"tf rtl\"><div class=\"rtl\"><span class=\"plain rtl  hl\" ><span class=\"txtu hbo\">אֵינֶ֕נּוּ </span></span></div></td></tr>\n",
       "<tr class=\"tf rtl\"><td class=\"tf rtl\">3</td><td class=\"tf rtl\"><span class=\"section ltr\"><a target=\"_blank\" href=\"https://shebanq.ancient-data.org/hebrew/text?book=Genesis&amp;chapter=7&amp;verse=8&amp;version=2017&amp;mr=m&amp;qw=q&amp;tp=txt_p&amp;tr=hb&amp;wget=v&amp;qget=v&amp;nget=vt\" title=\"Show this on SHEBANQ\" sec=\"Genesis 7:8\">Genesis 7:8</a></span></td><td class=\"tf rtl\"><div class=\"rtl\"></div></td><td class=\"tf rtl\"><div class=\"rtl\"><span class=\"plain rtl  hlbx\" ><span class=\"txtu hbo\">אֲשֶׁ֥ר </span><span class=\"plain rtl  hlbx\" ><span class=\"plain rtl  hl\" ><span class=\"txtu hbo\">אֵינֶ֖נָּה </span></span></span><span class=\"txtu hbo\">טְהֹרָ֑ה </span></span></div></td><td class=\"tf rtl\"><div class=\"rtl\"><span class=\"plain rtl  hlbx\" ><span class=\"txtu hbo\">אֲשֶׁ֥ר </span><span class=\"plain rtl  hlbx\" ><span class=\"plain rtl  hl\" ><span class=\"txtu hbo\">אֵינֶ֖נָּה </span></span></span><span class=\"txtu hbo\">טְהֹרָ֑ה </span></span></div></td><td class=\"tf rtl\"><div class=\"rtl\"><span class=\"plain rtl  hlbx\" ><span class=\"plain rtl  hl\" ><span class=\"txtu hbo\">אֵינֶ֖נָּה </span></span></span></div></td><td class=\"tf rtl\"><div class=\"rtl\"><span class=\"plain rtl  hlbx\" ><span class=\"plain rtl  hl\" ><span class=\"txtu hbo\">אֵינֶ֖נָּה </span></span></span></div></td><td class=\"tf rtl\"><div class=\"rtl\"><span class=\"plain rtl  hl\" ><span class=\"txtu hbo\">אֵינֶ֖נָּה </span></span></div></td></tr>\n",
       "<tr class=\"tf rtl\"><td class=\"tf rtl\">4</td><td class=\"tf rtl\"><span class=\"section ltr\"><a target=\"_blank\" href=\"https://shebanq.ancient-data.org/hebrew/text?book=Genesis&amp;chapter=11&amp;verse=30&amp;version=2017&amp;mr=m&amp;qw=q&amp;tp=txt_p&amp;tr=hb&amp;wget=v&amp;qget=v&amp;nget=vt\" title=\"Show this on SHEBANQ\" sec=\"Genesis 11:30\">Genesis 11:30</a></span></td><td class=\"tf rtl\"><div class=\"rtl\"></div></td><td class=\"tf rtl\"><div class=\"rtl\"><span class=\"plain rtl  hlbx\" ><span class=\"plain rtl  hlbx\" ><span class=\"plain rtl  hl\" ><span class=\"txtu hbo\">אֵ֥ין </span></span></span><span class=\"txtu hbo\">לָ֖הּ </span><span class=\"txtu hbo\">וָלָֽד׃ </span></span></div></td><td class=\"tf rtl\"><div class=\"rtl\"><span class=\"plain rtl  hlbx\" ><span class=\"plain rtl  hlbx\" ><span class=\"plain rtl  hl\" ><span class=\"txtu hbo\">אֵ֥ין </span></span></span><span class=\"txtu hbo\">לָ֖הּ </span><span class=\"txtu hbo\">וָלָֽד׃ </span></span></div></td><td class=\"tf rtl\"><div class=\"rtl\"><span class=\"plain rtl  hlbx\" ><span class=\"plain rtl  hl\" ><span class=\"txtu hbo\">אֵ֥ין </span></span></span></div></td><td class=\"tf rtl\"><div class=\"rtl\"><span class=\"plain rtl  hlbx\" ><span class=\"plain rtl  hl\" ><span class=\"txtu hbo\">אֵ֥ין </span></span></span></div></td><td class=\"tf rtl\"><div class=\"rtl\"><span class=\"plain rtl  hl\" ><span class=\"txtu hbo\">אֵ֥ין </span></span></div></td></tr>\n",
       "<tr class=\"tf rtl\"><td class=\"tf rtl\">5</td><td class=\"tf rtl\"><span class=\"section ltr\"><a target=\"_blank\" href=\"https://shebanq.ancient-data.org/hebrew/text?book=Genesis&amp;chapter=18&amp;verse=24&amp;version=2017&amp;mr=m&amp;qw=q&amp;tp=txt_p&amp;tr=hb&amp;wget=v&amp;qget=v&amp;nget=vt\" title=\"Show this on SHEBANQ\" sec=\"Genesis 18:24\">Genesis 18:24</a></span></td><td class=\"tf rtl\"><div class=\"rtl\"></div></td><td class=\"tf rtl\"><div class=\"rtl\"><span class=\"plain rtl  hlbx\" ><span class=\"txtu hbo\">אוּלַ֥י </span><span class=\"plain rtl  hlbx\" ><span class=\"plain rtl  hl\" ><span class=\"txtu hbo\">יֵ֛שׁ </span></span></span><span class=\"txtu hbo\">חֲמִשִּׁ֥ים </span><span class=\"txtu hbo\">צַדִּיקִ֖ם </span><span class=\"txtu hbo\">בְּ</span><span class=\"txtu hbo\">תֹ֣וךְ </span><span class=\"txtu hbo\">הָ</span><span class=\"txtu hbo\">עִ֑יר </span></span></div></td><td class=\"tf rtl\"><div class=\"rtl\"><span class=\"plain rtl  hlbx\" ><span class=\"txtu hbo\">אוּלַ֥י </span><span class=\"plain rtl  hlbx\" ><span class=\"plain rtl  hl\" ><span class=\"txtu hbo\">יֵ֛שׁ </span></span></span><span class=\"txtu hbo\">חֲמִשִּׁ֥ים </span><span class=\"txtu hbo\">צַדִּיקִ֖ם </span><span class=\"txtu hbo\">בְּ</span><span class=\"txtu hbo\">תֹ֣וךְ </span><span class=\"txtu hbo\">הָ</span><span class=\"txtu hbo\">עִ֑יר </span></span></div></td><td class=\"tf rtl\"><div class=\"rtl\"><span class=\"plain rtl  hlbx\" ><span class=\"plain rtl  hl\" ><span class=\"txtu hbo\">יֵ֛שׁ </span></span></span></div></td><td class=\"tf rtl\"><div class=\"rtl\"><span class=\"plain rtl  hlbx\" ><span class=\"plain rtl  hl\" ><span class=\"txtu hbo\">יֵ֛שׁ </span></span></span></div></td><td class=\"tf rtl\"><div class=\"rtl\"><span class=\"plain rtl  hl\" ><span class=\"txtu hbo\">יֵ֛שׁ </span></span></div></td></tr>\n",
       "<tr class=\"tf rtl\"><td class=\"tf rtl\">6</td><td class=\"tf rtl\"><span class=\"section ltr\"><a target=\"_blank\" href=\"https://shebanq.ancient-data.org/hebrew/text?book=Genesis&amp;chapter=19&amp;verse=31&amp;version=2017&amp;mr=m&amp;qw=q&amp;tp=txt_p&amp;tr=hb&amp;wget=v&amp;qget=v&amp;nget=vt\" title=\"Show this on SHEBANQ\" sec=\"Genesis 19:31\">Genesis 19:31</a></span></td><td class=\"tf rtl\"><div class=\"rtl\"></div></td><td class=\"tf rtl\"><div class=\"rtl\"><span class=\"plain rtl  hlbx\" ><span class=\"txtu hbo\">וְ</span><span class=\"txtu hbo\">אִ֨ישׁ </span><span class=\"plain rtl  hlbx\" ><span class=\"plain rtl  hl\" ><span class=\"txtu hbo\">אֵ֤ין </span></span></span><span class=\"txtu hbo\">בָּ</span><span class=\"txtu hbo\">אָ֨רֶץ֙ </span></span></div></td><td class=\"tf rtl\"><div class=\"rtl\"><span class=\"plain rtl  hlbx\" ><span class=\"txtu hbo\">וְ</span><span class=\"txtu hbo\">אִ֨ישׁ </span><span class=\"plain rtl  hlbx\" ><span class=\"plain rtl  hl\" ><span class=\"txtu hbo\">אֵ֤ין </span></span></span><span class=\"txtu hbo\">בָּ</span><span class=\"txtu hbo\">אָ֨רֶץ֙ </span></span></div></td><td class=\"tf rtl\"><div class=\"rtl\"><span class=\"plain rtl  hlbx\" ><span class=\"plain rtl  hl\" ><span class=\"txtu hbo\">אֵ֤ין </span></span></span></div></td><td class=\"tf rtl\"><div class=\"rtl\"><span class=\"plain rtl  hlbx\" ><span class=\"plain rtl  hl\" ><span class=\"txtu hbo\">אֵ֤ין </span></span></span></div></td><td class=\"tf rtl\"><div class=\"rtl\"><span class=\"plain rtl  hl\" ><span class=\"txtu hbo\">אֵ֤ין </span></span></div></td></tr>\n",
       "<tr class=\"tf rtl\"><td class=\"tf rtl\">7</td><td class=\"tf rtl\"><span class=\"section ltr\"><a target=\"_blank\" href=\"https://shebanq.ancient-data.org/hebrew/text?book=Genesis&amp;chapter=20&amp;verse=7&amp;version=2017&amp;mr=m&amp;qw=q&amp;tp=txt_p&amp;tr=hb&amp;wget=v&amp;qget=v&amp;nget=vt\" title=\"Show this on SHEBANQ\" sec=\"Genesis 20:7\">Genesis 20:7</a></span></td><td class=\"tf rtl\"><div class=\"rtl\"></div></td><td class=\"tf rtl\"><div class=\"rtl\"><span class=\"plain rtl  hlbx\" ><span class=\"txtu hbo\">וְ</span><span class=\"txtu hbo\">אִם־</span><span class=\"plain rtl  hlbx\" ><span class=\"plain rtl  hl\" ><span class=\"txtu hbo\">אֵֽינְךָ֣ </span></span></span><span class=\"txtu hbo\">מֵשִׁ֗יב </span></span></div></td><td class=\"tf rtl\"><div class=\"rtl\"><span class=\"plain rtl  hlbx\" ><span class=\"txtu hbo\">וְ</span><span class=\"txtu hbo\">אִם־</span><span class=\"plain rtl  hlbx\" ><span class=\"plain rtl  hl\" ><span class=\"txtu hbo\">אֵֽינְךָ֣ </span></span></span><span class=\"txtu hbo\">מֵשִׁ֗יב </span></span></div></td><td class=\"tf rtl\"><div class=\"rtl\"><span class=\"plain rtl  hlbx\" ><span class=\"plain rtl  hl\" ><span class=\"txtu hbo\">אֵֽינְךָ֣ </span></span></span></div></td><td class=\"tf rtl\"><div class=\"rtl\"><span class=\"plain rtl  hlbx\" ><span class=\"plain rtl  hl\" ><span class=\"txtu hbo\">אֵֽינְךָ֣ </span></span></span></div></td><td class=\"tf rtl\"><div class=\"rtl\"><span class=\"plain rtl  hl\" ><span class=\"txtu hbo\">אֵֽינְךָ֣ </span></span></div></td></tr></table>"
      ],
      "text/plain": [
       "<IPython.core.display.HTML object>"
      ]
     },
     "metadata": {},
     "output_type": "display_data"
    }
   ],
   "source": [
    "query = \"\"\"\n",
    "verse\n",
    "  clause\n",
    "    clause_atom\n",
    "      phrase\n",
    "        phrase_atom\n",
    "          word lex=JC/|>JN/\n",
    "\"\"\"\n",
    "\n",
    "results = A.search(query)\n",
    "A.table(sorted(results), end=7)"
   ]
  },
  {
   "cell_type": "markdown",
   "metadata": {},
   "source": [
    "# All steps\n",
    "\n",
    "* **[start](start.ipynb)** your first step in mastering the bible computationally\n",
    "* **[display](display.ipynb)** become an expert in creating pretty displays of your text structures\n",
    "* **[search](search.ipynb)** turbo charge your hand-coding with search templates\n",
    "\n",
    "---\n",
    "\n",
    "[advanced](searchAdvanced.ipynb)\n",
    "[sets](searchSets.ipynb)\n",
    "[relations](searchRelations.ipynb)\n",
    "[quantifiers](searchQuantifiers.ipynb)\n",
    "fromMQL\n",
    "\n",
    "You master the theory.\n",
    "\n",
    "In practice, there are pitfalls:\n",
    "\n",
    "[rough](searchRough.ipynb)\n",
    "[gaps](searchGaps.ipynb)\n",
    "\n",
    "---\n",
    "\n",
    "* **[exportExcel](exportExcel.ipynb)** make tailor-made spreadsheets out of your results\n",
    "* **[share](share.ipynb)** draw in other people's data and let them use yours\n",
    "* **[export](export.ipynb)** export your dataset as an Emdros database\n",
    "* **[annotate](annotate.ipynb)** annotate plain text by means of other tools and import the annotations as TF features\n",
    "* **[volumes](volumes.ipynb)** work with selected books only\n",
    "* **[trees](trees.ipynb)** work with the BHSA data as syntax trees\n",
    "\n",
    "CC-BY Dirk Roorda"
   ]
  }
 ],
 "metadata": {
  "jupytext": {
   "encoding": "# -*- coding: utf-8 -*-"
  },
  "kernelspec": {
   "display_name": "Python 3",
   "language": "python",
   "name": "python3"
  },
  "language_info": {
   "codemirror_mode": {
    "name": "ipython",
    "version": 3
   },
   "file_extension": ".py",
   "mimetype": "text/x-python",
   "name": "python",
   "nbconvert_exporter": "python",
   "pygments_lexer": "ipython3",
   "version": "3.9.2"
  },
  "toc": {
   "base_numbering": 1,
   "nav_menu": {},
   "number_sections": true,
   "sideBar": true,
   "skip_h1_title": true,
   "title_cell": "Table of Contents",
   "title_sidebar": "Contents",
   "toc_cell": true,
   "toc_position": {},
   "toc_section_display": "block",
   "toc_window_display": false
  },
  "widgets": {
   "application/vnd.jupyter.widget-state+json": {
    "state": {},
    "version_major": 2,
    "version_minor": 0
   }
  }
 },
 "nbformat": 4,
 "nbformat_minor": 4
}
