{
 "cells": [
  {
   "cell_type": "markdown",
   "metadata": {},
   "source": [
    "<img align=\"right\" src=\"images/tf-small.png\" width=\"128\"/>\n",
    "<img align=\"right\" src=\"images/etcbc.png\"/>\n",
    "<img align=\"right\" src=\"images/dans-small.png\"/>\n",
    "\n",
    "You might want to consider the [start](search.ipynb) of this tutorial.\n",
    "\n",
    "Short introductions to other TF datasets:\n",
    "\n",
    "* [Dead Sea Scrolls](https://nbviewer.jupyter.org/github/annotation/tutorials/blob/master/lorentz2020/dss.ipynb),\n",
    "* [Old Babylonian Letters](https://nbviewer.jupyter.org/github/annotation/tutorials/blob/master/lorentz2020/oldbabylonian.ipynb),\n",
    "or the\n",
    "* [Q'uran](https://nbviewer.jupyter.org/github/annotation/tutorials/blob/master/lorentz2020/quran.ipynb)\n"
   ]
  },
  {
   "cell_type": "code",
   "execution_count": 1,
   "metadata": {},
   "outputs": [],
   "source": [
    "%load_ext autoreload\n",
    "%autoreload 2"
   ]
  },
  {
   "cell_type": "code",
   "execution_count": 2,
   "metadata": {
    "ExecuteTime": {
     "end_time": "2018-05-24T10:06:39.818664Z",
     "start_time": "2018-05-24T10:06:39.796588Z"
    }
   },
   "outputs": [],
   "source": [
    "from tf.app import use"
   ]
  },
  {
   "cell_type": "code",
   "execution_count": 3,
   "metadata": {
    "ExecuteTime": {
     "end_time": "2018-05-24T10:06:48.865143Z",
     "start_time": "2018-05-24T10:06:44.712958Z"
    }
   },
   "outputs": [
    {
     "data": {
      "text/html": [
       "<b title=\"local release\">TF-app:</b> <span title=\"rv2.4.0=#571428c995d309c43ff592f885a5ebb42a87be6f offline under ~/text-fabric-data\">~/text-fabric-data/annotation/app-bhsa/code</span>"
      ],
      "text/plain": [
       "<IPython.core.display.HTML object>"
      ]
     },
     "metadata": {},
     "output_type": "display_data"
    },
    {
     "data": {
      "text/html": [
       "<b title=\"local release\">data:</b> <span title=\"rv1.7=#69f339de4eb38151e01ab56bc8cd85eca0bf78ba offline under ~/text-fabric-data\">~/text-fabric-data/etcbc/bhsa/tf/2021</span>"
      ],
      "text/plain": [
       "<IPython.core.display.HTML object>"
      ]
     },
     "metadata": {},
     "output_type": "display_data"
    },
    {
     "data": {
      "text/html": [
       "<b title=\"local release\">data:</b> <span title=\"rv2.0=#d74f7b52866927c316dfcaa2ac89eb51ea59c5dc offline under ~/text-fabric-data\">~/text-fabric-data/etcbc/phono/tf/2021</span>"
      ],
      "text/plain": [
       "<IPython.core.display.HTML object>"
      ]
     },
     "metadata": {},
     "output_type": "display_data"
    },
    {
     "data": {
      "text/html": [
       "<b title=\"local release\">data:</b> <span title=\"rv2.0=#2fb9e94de8ffc07e9e515e3efa36e502f95bdcea offline under ~/text-fabric-data\">~/text-fabric-data/etcbc/parallels/tf/2021</span>"
      ],
      "text/plain": [
       "<IPython.core.display.HTML object>"
      ]
     },
     "metadata": {},
     "output_type": "display_data"
    },
    {
     "name": "stdout",
     "output_type": "stream",
     "text": [
      "This is Text-Fabric 9.0.3\n",
      "Api reference : https://annotation.github.io/text-fabric/tf/cheatsheet.html\n",
      "\n",
      "121 features found and 0 ignored\n"
     ]
    },
    {
     "data": {
      "text/html": [
       "<b>Text-Fabric:</b> <a target=\"_blank\" href=\"https://annotation.github.io/text-fabric/tf/cheatsheet.html\" title=\"text-fabric-api\">Text-Fabric API 9.0.3</a>, <a target=\"_blank\" href=\"https://github.com/annotation/app-bhsa\" title=\"bhsa TF-app\">app-bhsa v3</a>, <a target=\"_blank\" href=\"https://annotation.github.io/text-fabric/tf/about/searchusage.html\" title=\"Search Templates Introduction and Reference\">Search Reference</a><br><b>Data:</b> <a target=\"_blank\" href=\"https://etcbc.github.io/bhsa/0_home\" title=\"provenance of BHSA = Biblia Hebraica Stuttgartensia Amstelodamensis\">BHSA</a>, <a target=\"_blank\" href=\"https://annotation.github.io/text-fabric/tf/writing/hebrew.html\" title=\"How TF features represent text\">Character table</a>, <a target=\"_blank\" href=\"https://etcbc.github.io/bhsa/features/0_home\" title=\"BHSA feature documentation\">Feature docs</a><br><b>Features:</b><br><details><summary><b>Parallel Passages</b></summary><b><i><a target=\"_blank\" href=\"https://nbviewer.jupyter.org/github/etcbc/parallels/blob/master/programs/parallels.ipynb\" title=\"~/text-fabric-data/etcbc/parallels/tf/2021/crossref.tf\">crossref</a></i></b><br></details><details><summary><b>BHSA = Biblia Hebraica Stuttgartensia Amstelodamensis</b></summary><a target=\"_blank\" href=\"https://etcbc.github.io/bhsa/features/book\" title=\"~/text-fabric-data/etcbc/bhsa/tf/2021/book.tf\">book</a><br><a target=\"_blank\" href=\"https://etcbc.github.io/bhsa/features/book@ll\" title=\"~/text-fabric-data/etcbc/bhsa/tf/2021/book@am.tf\">book@ll</a><br><a target=\"_blank\" href=\"https://etcbc.github.io/bhsa/features/chapter\" title=\"~/text-fabric-data/etcbc/bhsa/tf/2021/chapter.tf\">chapter</a><br><a target=\"_blank\" href=\"https://etcbc.github.io/bhsa/features/code\" title=\"~/text-fabric-data/etcbc/bhsa/tf/2021/code.tf\">code</a><br><a target=\"_blank\" href=\"https://etcbc.github.io/bhsa/features/det\" title=\"~/text-fabric-data/etcbc/bhsa/tf/2021/det.tf\">det</a><br><a target=\"_blank\" href=\"https://etcbc.github.io/bhsa/features/domain\" title=\"~/text-fabric-data/etcbc/bhsa/tf/2021/domain.tf\">domain</a><br><a target=\"_blank\" href=\"https://etcbc.github.io/bhsa/features/freq_lex\" title=\"~/text-fabric-data/etcbc/bhsa/tf/2021/freq_lex.tf\">freq_lex</a><br><a target=\"_blank\" href=\"https://etcbc.github.io/bhsa/features/function\" title=\"~/text-fabric-data/etcbc/bhsa/tf/2021/function.tf\">function</a><br><a target=\"_blank\" href=\"https://etcbc.github.io/bhsa/features/g_cons\" title=\"~/text-fabric-data/etcbc/bhsa/tf/2021/g_cons.tf\">g_cons</a><br><a target=\"_blank\" href=\"https://etcbc.github.io/bhsa/features/g_cons_utf8\" title=\"~/text-fabric-data/etcbc/bhsa/tf/2021/g_cons_utf8.tf\">g_cons_utf8</a><br><a target=\"_blank\" href=\"https://etcbc.github.io/bhsa/features/g_lex\" title=\"~/text-fabric-data/etcbc/bhsa/tf/2021/g_lex.tf\">g_lex</a><br><a target=\"_blank\" href=\"https://etcbc.github.io/bhsa/features/g_lex_utf8\" title=\"~/text-fabric-data/etcbc/bhsa/tf/2021/g_lex_utf8.tf\">g_lex_utf8</a><br><a target=\"_blank\" href=\"https://etcbc.github.io/bhsa/features/g_word\" title=\"~/text-fabric-data/etcbc/bhsa/tf/2021/g_word.tf\">g_word</a><br><a target=\"_blank\" href=\"https://etcbc.github.io/bhsa/features/g_word_utf8\" title=\"~/text-fabric-data/etcbc/bhsa/tf/2021/g_word_utf8.tf\">g_word_utf8</a><br><a target=\"_blank\" href=\"https://etcbc.github.io/bhsa/features/gloss\" title=\"~/text-fabric-data/etcbc/bhsa/tf/2021/gloss.tf\">gloss</a><br><a target=\"_blank\" href=\"https://etcbc.github.io/bhsa/features/gn\" title=\"~/text-fabric-data/etcbc/bhsa/tf/2021/gn.tf\">gn</a><br><a target=\"_blank\" href=\"https://etcbc.github.io/bhsa/features/label\" title=\"~/text-fabric-data/etcbc/bhsa/tf/2021/label.tf\">label</a><br><a target=\"_blank\" href=\"https://etcbc.github.io/bhsa/features/language\" title=\"~/text-fabric-data/etcbc/bhsa/tf/2021/language.tf\">language</a><br><a target=\"_blank\" href=\"https://etcbc.github.io/bhsa/features/lex\" title=\"~/text-fabric-data/etcbc/bhsa/tf/2021/lex.tf\">lex</a><br><a target=\"_blank\" href=\"https://etcbc.github.io/bhsa/features/lex_utf8\" title=\"~/text-fabric-data/etcbc/bhsa/tf/2021/lex_utf8.tf\">lex_utf8</a><br><a target=\"_blank\" href=\"https://etcbc.github.io/bhsa/features/ls\" title=\"~/text-fabric-data/etcbc/bhsa/tf/2021/ls.tf\">ls</a><br><a target=\"_blank\" href=\"https://etcbc.github.io/bhsa/features/nametype\" title=\"~/text-fabric-data/etcbc/bhsa/tf/2021/nametype.tf\">nametype</a><br><a target=\"_blank\" href=\"https://etcbc.github.io/bhsa/features/nme\" title=\"~/text-fabric-data/etcbc/bhsa/tf/2021/nme.tf\">nme</a><br><a target=\"_blank\" href=\"https://etcbc.github.io/bhsa/features/nu\" title=\"~/text-fabric-data/etcbc/bhsa/tf/2021/nu.tf\">nu</a><br><a target=\"_blank\" href=\"https://etcbc.github.io/bhsa/features/number\" title=\"~/text-fabric-data/etcbc/bhsa/tf/2021/number.tf\">number</a><br><a target=\"_blank\" href=\"https://etcbc.github.io/bhsa/features/otype\" title=\"~/text-fabric-data/etcbc/bhsa/tf/2021/otype.tf\">otype</a><br><a target=\"_blank\" href=\"https://etcbc.github.io/bhsa/features/pargr\" title=\"~/text-fabric-data/etcbc/bhsa/tf/2021/pargr.tf\">pargr</a><br><a target=\"_blank\" href=\"https://etcbc.github.io/bhsa/features/pdp\" title=\"~/text-fabric-data/etcbc/bhsa/tf/2021/pdp.tf\">pdp</a><br><a target=\"_blank\" href=\"https://etcbc.github.io/bhsa/features/pfm\" title=\"~/text-fabric-data/etcbc/bhsa/tf/2021/pfm.tf\">pfm</a><br><a target=\"_blank\" href=\"https://etcbc.github.io/bhsa/features/prs\" title=\"~/text-fabric-data/etcbc/bhsa/tf/2021/prs.tf\">prs</a><br><a target=\"_blank\" href=\"https://etcbc.github.io/bhsa/features/prs_gn\" title=\"~/text-fabric-data/etcbc/bhsa/tf/2021/prs_gn.tf\">prs_gn</a><br><a target=\"_blank\" href=\"https://etcbc.github.io/bhsa/features/prs_nu\" title=\"~/text-fabric-data/etcbc/bhsa/tf/2021/prs_nu.tf\">prs_nu</a><br><a target=\"_blank\" href=\"https://etcbc.github.io/bhsa/features/prs_ps\" title=\"~/text-fabric-data/etcbc/bhsa/tf/2021/prs_ps.tf\">prs_ps</a><br><a target=\"_blank\" href=\"https://etcbc.github.io/bhsa/features/ps\" title=\"~/text-fabric-data/etcbc/bhsa/tf/2021/ps.tf\">ps</a><br><a target=\"_blank\" href=\"https://etcbc.github.io/bhsa/features/qere\" title=\"~/text-fabric-data/etcbc/bhsa/tf/2021/qere.tf\">qere</a><br><a target=\"_blank\" href=\"https://etcbc.github.io/bhsa/features/qere_trailer\" title=\"~/text-fabric-data/etcbc/bhsa/tf/2021/qere_trailer.tf\">qere_trailer</a><br><a target=\"_blank\" href=\"https://etcbc.github.io/bhsa/features/qere_trailer_utf8\" title=\"~/text-fabric-data/etcbc/bhsa/tf/2021/qere_trailer_utf8.tf\">qere_trailer_utf8</a><br><a target=\"_blank\" href=\"https://etcbc.github.io/bhsa/features/qere_utf8\" title=\"~/text-fabric-data/etcbc/bhsa/tf/2021/qere_utf8.tf\">qere_utf8</a><br><a target=\"_blank\" href=\"https://etcbc.github.io/bhsa/features/rank_lex\" title=\"~/text-fabric-data/etcbc/bhsa/tf/2021/rank_lex.tf\">rank_lex</a><br><a target=\"_blank\" href=\"https://etcbc.github.io/bhsa/features/rela\" title=\"~/text-fabric-data/etcbc/bhsa/tf/2021/rela.tf\">rela</a><br><a target=\"_blank\" href=\"https://etcbc.github.io/bhsa/features/sp\" title=\"~/text-fabric-data/etcbc/bhsa/tf/2021/sp.tf\">sp</a><br><a target=\"_blank\" href=\"https://etcbc.github.io/bhsa/features/st\" title=\"~/text-fabric-data/etcbc/bhsa/tf/2021/st.tf\">st</a><br><a target=\"_blank\" href=\"https://etcbc.github.io/bhsa/features/tab\" title=\"~/text-fabric-data/etcbc/bhsa/tf/2021/tab.tf\">tab</a><br><a target=\"_blank\" href=\"https://etcbc.github.io/bhsa/features/trailer\" title=\"~/text-fabric-data/etcbc/bhsa/tf/2021/trailer.tf\">trailer</a><br><a target=\"_blank\" href=\"https://etcbc.github.io/bhsa/features/trailer_utf8\" title=\"~/text-fabric-data/etcbc/bhsa/tf/2021/trailer_utf8.tf\">trailer_utf8</a><br><a target=\"_blank\" href=\"https://etcbc.github.io/bhsa/features/txt\" title=\"~/text-fabric-data/etcbc/bhsa/tf/2021/txt.tf\">txt</a><br><a target=\"_blank\" href=\"https://etcbc.github.io/bhsa/features/typ\" title=\"~/text-fabric-data/etcbc/bhsa/tf/2021/typ.tf\">typ</a><br><a target=\"_blank\" href=\"https://etcbc.github.io/bhsa/features/uvf\" title=\"~/text-fabric-data/etcbc/bhsa/tf/2021/uvf.tf\">uvf</a><br><a target=\"_blank\" href=\"https://etcbc.github.io/bhsa/features/vbe\" title=\"~/text-fabric-data/etcbc/bhsa/tf/2021/vbe.tf\">vbe</a><br><a target=\"_blank\" href=\"https://etcbc.github.io/bhsa/features/vbs\" title=\"~/text-fabric-data/etcbc/bhsa/tf/2021/vbs.tf\">vbs</a><br><a target=\"_blank\" href=\"https://etcbc.github.io/bhsa/features/verse\" title=\"~/text-fabric-data/etcbc/bhsa/tf/2021/verse.tf\">verse</a><br><a target=\"_blank\" href=\"https://etcbc.github.io/bhsa/features/voc_lex\" title=\"~/text-fabric-data/etcbc/bhsa/tf/2021/voc_lex.tf\">voc_lex</a><br><a target=\"_blank\" href=\"https://etcbc.github.io/bhsa/features/voc_lex_utf8\" title=\"~/text-fabric-data/etcbc/bhsa/tf/2021/voc_lex_utf8.tf\">voc_lex_utf8</a><br><a target=\"_blank\" href=\"https://etcbc.github.io/bhsa/features/vs\" title=\"~/text-fabric-data/etcbc/bhsa/tf/2021/vs.tf\">vs</a><br><a target=\"_blank\" href=\"https://etcbc.github.io/bhsa/features/vt\" title=\"~/text-fabric-data/etcbc/bhsa/tf/2021/vt.tf\">vt</a><br><b><i><a target=\"_blank\" href=\"https://etcbc.github.io/bhsa/features/mother\" title=\"~/text-fabric-data/etcbc/bhsa/tf/2021/mother.tf\">mother</a></i></b><br><b><i><a target=\"_blank\" href=\"https://etcbc.github.io/bhsa/features/omap@ll\" title=\"~/text-fabric-data/etcbc/bhsa/tf/2021/omap@2017-2021.tf\">omap@ll</a></i></b><br><b><i><a target=\"_blank\" href=\"https://etcbc.github.io/bhsa/features/oslots\" title=\"~/text-fabric-data/etcbc/bhsa/tf/2021/oslots.tf\">oslots</a></i></b><br></details><details><summary><b>Phonetic Transcriptions</b></summary><a target=\"_blank\" href=\"https://nbviewer.jupyter.org/github/etcbc/phono/blob/master/programs/phono.ipynb\" title=\"~/text-fabric-data/etcbc/phono/tf/2021/phono.tf\">phono</a><br><a target=\"_blank\" href=\"https://nbviewer.jupyter.org/github/etcbc/phono/blob/master/programs/phono.ipynb\" title=\"~/text-fabric-data/etcbc/phono/tf/2021/phono_trailer.tf\">phono_trailer</a><br></details>"
      ],
      "text/plain": [
       "<IPython.core.display.HTML object>"
      ]
     },
     "metadata": {},
     "output_type": "display_data"
    },
    {
     "data": {
      "text/html": [
       "<style>tr.tf.ltr, td.tf.ltr, th.tf.ltr { text-align: left ! important;}\n",
       "tr.tf.rtl, td.tf.rtl, th.tf.rtl { text-align: right ! important;}\n",
       "@font-face {\n",
       "  font-family: \"Gentium Plus\";\n",
       "  src: local('Gentium Plus'), local('GentiumPlus'),\n",
       "    url('/server/static/fonts/GentiumPlus-R.woff') format('woff'),\n",
       "    url('https://github.com/annotation/text-fabric/blob/master/tf/server/static/fonts/GentiumPlus-R.woff?raw=true') format('woff');\n",
       "}\n",
       "\n",
       "@font-face {\n",
       "  font-family: \"Ezra SIL\";\n",
       "  src: local('Ezra SIL'), local('EzraSIL'),\n",
       "    url('/server/static/fonts/SILEOT.woff') format('woff'),\n",
       "    url('https://github.com/annotation/text-fabric/blob/master/tf/server/static/fonts/SILEOT.woff?raw=true') format('woff');\n",
       "}\n",
       "\n",
       "@font-face {\n",
       "  font-family: \"SBL Hebrew\";\n",
       "  src: local('SBL Hebrew'), local('SBLHebrew'),\n",
       "    url('/server/static/fonts/SBL_Hbrw.woff') format('woff'),\n",
       "    url('https://github.com/annotation/text-fabric/blob/master/tf/server/static/fonts/SBL_Hbrw.woff?raw=true') format('woff');\n",
       "}\n",
       "\n",
       "@font-face {\n",
       "  font-family: \"Estrangelo Edessa\";\n",
       "  src: local('Estrangelo Edessa'), local('EstrangeloEdessa');\n",
       "    url('/server/static/fonts/SyrCOMEdessa.woff') format('woff'),\n",
       "    url('https://github.com/annotation/text-fabric/blob/master/tf/server/static/fonts/SyrCOMEdessa.woff?raw=true') format('woff');\n",
       "}\n",
       "\n",
       "@font-face {\n",
       "  font-family: AmiriQuran;\n",
       "  font-style: normal;\n",
       "  font-weight: 400;\n",
       "  src: local('Amiri Quran'), local('AmiriQuran'),\n",
       "    url('/server/static/fonts/AmiriQuran.woff') format('woff'),\n",
       "    url('https://github.com/annotation/text-fabric/blob/master/tf/server/static/fonts/AmiriQuran.woff?raw=true') format('woff');\n",
       "}\n",
       "\n",
       "@font-face {\n",
       "  font-family: AmiriQuranColored;\n",
       "  font-style: normal;\n",
       "  font-weight: 400;\n",
       "  src: local('Amiri Quran Colored'), local('AmiriQuranColored'),\n",
       "    url('/server/static/fonts/AmiriQuranColored.woff') format('woff'),\n",
       "    url('https://github.com/annotation/text-fabric/blob/master/tf/server/static/fonts/AmiriQuranColored.woff?raw=true') format('woff');\n",
       "}\n",
       "\n",
       "@font-face {\n",
       "  font-family: \"Santakku\";\n",
       "  src: local('Santakku'),\n",
       "    url('/server/static/fonts/Santakku.woff') format('woff'),\n",
       "    url('https://github.com/annotation/text-fabric/blob/master/tf/server/static/fonts/Santakku.woff?raw=true') format('woff');\n",
       "}\n",
       "\n",
       "@font-face {\n",
       "  font-family: \"SantakkuM\";\n",
       "  src: local('SantakkuM'),\n",
       "    url('/server/static/fonts/SantakkuM.woff') format('woff'),\n",
       "    url('https://github.com/annotation/text-fabric/blob/master/tf/server/static/fonts/SantakkuM.woff?raw=true') format('woff');\n",
       "}\n",
       "/* bypassing some classical notebook settings */\n",
       "div#notebook {\n",
       "  line-height: unset;\n",
       "}\n",
       "/* neutral text */\n",
       ".txtn,.txtn a:visited,.txtn a:link {\n",
       "    font-family: sans-serif;\n",
       "    font-size: medium;\n",
       "    direction: ltr;\n",
       "    unicode-bidi: embed;\n",
       "    text-decoration: none;\n",
       "    color: var(--text-color);\n",
       "}\n",
       "/* transcription text */\n",
       ".txtt,.txtt a:visited,.txtt a:link {\n",
       "    font-family: monospace;\n",
       "    font-size: medium;\n",
       "    direction: ltr;\n",
       "    unicode-bidi: embed;\n",
       "    text-decoration: none;\n",
       "    color: var(--text-color);\n",
       "}\n",
       "/* source text */\n",
       ".txto,.txto a:visited,.txto a:link {\n",
       "    font-family: serif;\n",
       "    font-size: medium;\n",
       "    direction: ltr;\n",
       "    unicode-bidi: embed;\n",
       "    text-decoration: none;\n",
       "    color: var(--text-color);\n",
       "}\n",
       "/* phonetic text */\n",
       ".txtp,.txtp a:visited,.txtp a:link {\n",
       "    font-family: Gentium, sans-serif;\n",
       "    font-size: medium;\n",
       "    direction: ltr;\n",
       "    unicode-bidi: embed;\n",
       "    text-decoration: none;\n",
       "    color: var(--text-color);\n",
       "}\n",
       "/* original script text */\n",
       ".txtu,.txtu a:visited,.txtu a:link {\n",
       "    font-family: Gentium, sans-serif;\n",
       "    font-size: medium;\n",
       "    text-decoration: none;\n",
       "    color: var(--text-color);\n",
       "}\n",
       "/* hebrew */\n",
       ".txtu.hbo,.lex.hbo {\n",
       "    font-family: \"Ezra SIL\", \"SBL Hebrew\", sans-serif;\n",
       "    font-size: large;\n",
       "    direction: rtl ! important;\n",
       "    unicode-bidi: embed;\n",
       "}\n",
       "/* syriac */\n",
       ".txtu.syc,.lex.syc {\n",
       "    font-family: \"Estrangelo Edessa\", sans-serif;\n",
       "    font-size: medium;\n",
       "    direction: rtl ! important;\n",
       "    unicode-bidi: embed;\n",
       "}\n",
       "/* neo aramaic */\n",
       ".txtu.cld,.lex.cld {\n",
       "    font-family: \"CharisSIL-R\", sans-serif;\n",
       "    font-size: medium;\n",
       "    direction: ltr ! important;\n",
       "    unicode-bidi: embed;\n",
       "}\n",
       "/* standard arabic */\n",
       ".txtu.ara,.lex.ara {\n",
       "    font-family: \"AmiriQuran\", sans-serif;\n",
       "    font-size: large;\n",
       "    direction: rtl ! important;\n",
       "    unicode-bidi: embed;\n",
       "}\n",
       "/* cuneiform */\n",
       ".txtu.akk,.lex.akk {\n",
       "    font-family: Santakku, sans-serif;\n",
       "    font-size: large;\n",
       "    direction: ltr ! important;\n",
       "    unicode-bidi: embed;\n",
       "}\n",
       "/* greek */\n",
       ".txtu.grc,.lex.grc a:link {\n",
       "    font-family: Gentium, sans-serif;\n",
       "    font-size: medium;\n",
       "    direction: ltr ! important;\n",
       "    unicode-bidi: embed;\n",
       "}\n",
       "a:hover {\n",
       "    text-decoration: underline | important;\n",
       "    color: #0000ff | important;\n",
       "}\n",
       ".ltr {\n",
       "    direction: ltr ! important;\n",
       "    unicode-bidi: embed;\n",
       "}\n",
       ".rtl {\n",
       "    direction: rtl ! important;\n",
       "    unicode-bidi: embed;\n",
       "}\n",
       ".ubd {\n",
       "    unicode-bidi: embed;\n",
       "}\n",
       ".col {\n",
       "   display: inline-block;\n",
       "}\n",
       ".features {\n",
       "    font-family: monospace;\n",
       "    font-size: medium;\n",
       "    font-weight: bold;\n",
       "    color: var(--features);\n",
       "    display: flex;\n",
       "    flex-flow: column nowrap;\n",
       "    justify-content: flex-start;\n",
       "    align-items: flex-start;\n",
       "    align-content: flex-start;\n",
       "    padding: 2px;\n",
       "    margin: 2px;\n",
       "    direction: ltr;\n",
       "    unicode-bidi: embed;\n",
       "    border: var(--meta-width) solid var(--meta-color);\n",
       "    border-radius: var(--meta-width);\n",
       "}\n",
       ".features div,.features span {\n",
       "    padding: 0;\n",
       "    margin: -2px 0;\n",
       "}\n",
       ".features .f {\n",
       "    font-family: sans-serif;\n",
       "    font-size: small;\n",
       "    font-weight: normal;\n",
       "    color: #5555bb;\n",
       "}\n",
       ".features .xft {\n",
       "  color: #000000;\n",
       "  background-color: #eeeeee;\n",
       "  font-size: medium;\n",
       "  margin: 2px 0px;\n",
       "}\n",
       ".features .xft .f {\n",
       "  color: #000000;\n",
       "  background-color: #eeeeee;\n",
       "  font-size: small;\n",
       "  font-weight: normal;\n",
       "}\n",
       ".tfsechead {\n",
       "    font-family: sans-serif;\n",
       "    font-size: small;\n",
       "    font-weight: bold;\n",
       "    color: var(--tfsechead);\n",
       "    unicode-bidi: embed;\n",
       "    text-align: start;\n",
       "}\n",
       ".structure {\n",
       "    font-family: sans-serif;\n",
       "    font-size: small;\n",
       "    font-weight: bold;\n",
       "    color: var(--structure);\n",
       "    unicode-bidi: embed;\n",
       "    text-align: start;\n",
       "}\n",
       ".comments {\n",
       "    display: flex;\n",
       "    justify-content: flex-start;\n",
       "    align-items: flex-start;\n",
       "    align-content: flex-start;\n",
       "    flex-flow: column nowrap;\n",
       "}\n",
       ".nd, a:link.nd {\n",
       "    font-family: sans-serif;\n",
       "    font-size: small;\n",
       "    color: var(--node);\n",
       "    vertical-align: super;\n",
       "    direction: ltr ! important;\n",
       "    unicode-bidi: embed;\n",
       "}\n",
       ".lex {\n",
       "  color: var(--lex-color);;\n",
       "}\n",
       ".children,.children.ltr {\n",
       "    display: flex;\n",
       "    border: 0;\n",
       "    background-color: #ffffff;\n",
       "    justify-content: flex-start;\n",
       "    align-items: flex-start;\n",
       "    align-content: flex-start;\n",
       "}\n",
       ".children.stretch {\n",
       "    align-items: stretch;\n",
       "}\n",
       ".children.hor {\n",
       "    flex-flow: row nowrap;\n",
       "}\n",
       ".children.hor.wrap {\n",
       "    flex-flow: row wrap;\n",
       "}\n",
       ".children.ver {\n",
       "    flex-flow: column nowrap;\n",
       "}\n",
       ".children.ver.wrap {\n",
       "    flex-flow: column wrap;\n",
       "}\n",
       ".contnr {\n",
       "    width: fit-content;\n",
       "    display: flex;\n",
       "    justify-content: flex-start;\n",
       "    align-items: flex-start;\n",
       "    align-content: flex-start;\n",
       "    flex-flow: column nowrap;\n",
       "    background: #ffffff none repeat scroll 0 0;\n",
       "    padding:  10px 2px 2px 2px;\n",
       "    margin: 16px 2px 2px 2px;\n",
       "    border-style: solid;\n",
       "    font-size: small;\n",
       "}\n",
       ".contnr.trm {\n",
       "    background-attachment: local;\n",
       "}\n",
       ".contnr.cnul {\n",
       "    padding:  0;\n",
       "    margin: 0;\n",
       "    border-style: solid;\n",
       "    font-size: xx-small;\n",
       "}\n",
       ".contnr.cnul,.lbl.cnul {\n",
       "    border-color: var(--border-color-nul);\n",
       "    border-width: var(--border-width-nul);\n",
       "    border-radius: var(--border-width-nul);\n",
       "}\n",
       ".contnr.c0,.lbl.c0 {\n",
       "    border-color: var(--border-color0);\n",
       "    border-width: var(--border-width0);\n",
       "    border-radius: var(--border-width0);\n",
       "}\n",
       ".contnr.c1,.lbl.c1 {\n",
       "    border-color: var(--border-color1);\n",
       "    border-width: var(--border-width1);\n",
       "    border-radius: var(--border-width1);\n",
       "}\n",
       ".contnr.c2,.lbl.c2 {\n",
       "    border-color: var(--border-color2);\n",
       "    border-width: var(--border-width2);\n",
       "    border-radius: var(--border-width2);\n",
       "}\n",
       ".contnr.c3,.lbl.c3 {\n",
       "    border-color: var(--border-color3);\n",
       "    border-width: var(--border-width3);\n",
       "    border-radius: var(--border-width3);\n",
       "}\n",
       ".contnr.c4,.lbl.c4 {\n",
       "    border-color: var(--border-color4);\n",
       "    border-width: var(--border-width4);\n",
       "    border-radius: var(--border-width4);\n",
       "}\n",
       "span.plain {\n",
       "    display: inline-block;\n",
       "    white-space: pre-wrap;\n",
       "}\n",
       ".plain {\n",
       "    background-color: #ffffff;\n",
       "}\n",
       ".plain.l,.contnr.l,.contnr.l>.lbl {\n",
       "    border-left-style: dotted\n",
       "}\n",
       ".plain.r,.contnr.r,.contnr.r>.lbl {\n",
       "    border-right-style: dotted\n",
       "}\n",
       ".plain.lno,.contnr.lno,.contnr.lno>.lbl {\n",
       "    border-left-style: none\n",
       "}\n",
       ".plain.rno,.contnr.rno,.contnr.rno>.lbl {\n",
       "    border-right-style: none\n",
       "}\n",
       ".plain.l {\n",
       "    padding-left: 4px;\n",
       "    margin-left: 2px;\n",
       "    border-width: var(--border-width-plain);\n",
       "}\n",
       ".plain.r {\n",
       "    padding-right: 4px;\n",
       "    margin-right: 2px;\n",
       "    border-width: var(--border-width-plain);\n",
       "}\n",
       ".lbl {\n",
       "    font-family: monospace;\n",
       "    margin-top: -24px;\n",
       "    margin-left: 20px;\n",
       "    background: #ffffff none repeat scroll 0 0;\n",
       "    padding: 0 6px;\n",
       "    border-style: solid;\n",
       "    display: block;\n",
       "    color: var(--label)\n",
       "}\n",
       ".lbl.trm {\n",
       "    background-attachment: local;\n",
       "    margin-top: 2px;\n",
       "    margin-left: 2px;\n",
       "    padding: 2px 2px;\n",
       "    border-style: none;\n",
       "}\n",
       ".lbl.cnul {\n",
       "    font-size: xx-small;\n",
       "}\n",
       ".lbl.c0 {\n",
       "    font-size: small;\n",
       "}\n",
       ".lbl.c1 {\n",
       "    font-size: small;\n",
       "}\n",
       ".lbl.c2 {\n",
       "    font-size: medium;\n",
       "}\n",
       ".lbl.c3 {\n",
       "    font-size: medium;\n",
       "}\n",
       ".lbl.c4 {\n",
       "    font-size: large;\n",
       "}\n",
       ".occs, a:link.occs {\n",
       "    font-size: small;\n",
       "}\n",
       "\n",
       "/* PROVENANCE */\n",
       "\n",
       "div.prov {\n",
       "\tmargin: 40px;\n",
       "\tpadding: 20px;\n",
       "\tborder: 2px solid var(--fog-rim);\n",
       "}\n",
       "div.pline {\n",
       "\tdisplay: flex;\n",
       "\tflex-flow: row nowrap;\n",
       "\tjustify-content: stretch;\n",
       "\talign-items: baseline;\n",
       "}\n",
       "div.p2line {\n",
       "\tmargin-left: 2em;\n",
       "\tdisplay: flex;\n",
       "\tflex-flow: row nowrap;\n",
       "\tjustify-content: stretch;\n",
       "\talign-items: baseline;\n",
       "}\n",
       "div.psline {\n",
       "\tdisplay: flex;\n",
       "\tflex-flow: row nowrap;\n",
       "\tjustify-content: stretch;\n",
       "\talign-items: baseline;\n",
       "\tbackground-color: var(--gold-mist-back);\n",
       "}\n",
       "div.pname {\n",
       "\tflex: 0 0 5rem;\n",
       "\tfont-weight: bold;\n",
       "}\n",
       "div.pval {\n",
       "    flex: 1 1 auto;\n",
       "}\n",
       "\n",
       ":root {\n",
       "\t--node:               hsla(120, 100%,  20%, 1.0  );\n",
       "\t--label:              hsla(  0, 100%,  20%, 1.0  );\n",
       "\t--tfsechead:          hsla(  0, 100%,  25%, 1.0  );\n",
       "\t--structure:          hsla(120, 100%,  25%, 1.0  );\n",
       "\t--features:           hsla(  0,   0%,  30%, 1.0  );\n",
       "  --text-color:         hsla( 60,  80%,  10%, 1.0  );\n",
       "  --lex-color:          hsla(220,  90%,  60%, 1.0  );\n",
       "  --meta-color:         hsla(  0,   0%,  90%, 0.7  );\n",
       "  --meta-width:         3px;\n",
       "  --border-color-nul:   hsla(  0,   0%,  90%, 0.5  );\n",
       "  --border-color0:      hsla(  0,   0%,  90%, 0.9  );\n",
       "  --border-color1:      hsla(  0,   0%,  80%, 0.9  );\n",
       "  --border-color2:      hsla(  0,   0%,  70%, 0.9  );\n",
       "  --border-color3:      hsla(  0,   0%,  80%, 0.8  );\n",
       "  --border-color4:      hsla(  0,   0%,  60%, 0.9  );\n",
       "  --border-width-nul:   2px;\n",
       "  --border-width0:      2px;\n",
       "  --border-width1:      3px;\n",
       "  --border-width2:      4px;\n",
       "  --border-width3:      6px;\n",
       "  --border-width4:      5px;\n",
       "  --border-width-plain: 2px;\n",
       "}\n",
       ".hl {\n",
       "  background-color: var(--hl-strong);\n",
       "}\n",
       "span.hl {\n",
       "\tbackground-color: var(--hl-strong);\n",
       "\tborder-width: 0;\n",
       "\tborder-radius: 2px;\n",
       "\tborder-style: solid;\n",
       "}\n",
       "div.contnr.hl,div.lbl.hl {\n",
       "  background-color: var(--hl-strong);\n",
       "}\n",
       "div.contnr.hl {\n",
       "  border-color: var(--hl-rim) ! important;\n",
       "\tborder-width: 4px ! important;\n",
       "}\n",
       "\n",
       "span.hlbx {\n",
       "\tborder-color: var(--hl-rim);\n",
       "\tborder-width: 4px ! important;\n",
       "\tborder-style: solid;\n",
       "\tborder-radius: 6px;\n",
       "  padding: 4px;\n",
       "  margin: 4px;\n",
       "}\n",
       "\n",
       "span.plain {\n",
       "  display: inline-block;\n",
       "  white-space: pre-wrap;\n",
       "}\n",
       "\n",
       ":root {\n",
       "\t--hl-strong:        hsla( 60, 100%,  70%, 0.9  );\n",
       "\t--hl-rim:           hsla( 55,  80%,  50%, 1.0  );\n",
       "}\n",
       "</style>"
      ],
      "text/plain": [
       "<IPython.core.display.HTML object>"
      ]
     },
     "metadata": {},
     "output_type": "display_data"
    },
    {
     "data": {
      "text/html": [
       "<div><b>Text-Fabric API:</b> names <a target=\"_blank\" href=\"https://annotation.github.io/text-fabric/tf/cheatsheet.html\" title=\"doc\">N F E L T S C TF</a> directly usable</div><hr>"
      ],
      "text/plain": [
       "<IPython.core.display.HTML object>"
      ]
     },
     "metadata": {},
     "output_type": "display_data"
    }
   ],
   "source": [
    "A = use('bhsa', hoist=globals())\n",
    "# A = use(\"bhsa:clone\", checkout=\"clone\", hoist=globals())"
   ]
  },
  {
   "cell_type": "markdown",
   "metadata": {},
   "source": [
    "# Gaps and spans\n",
    "\n",
    "Searches often do not deliver the results you expect.\n",
    "Besides typos, lack of familiarity with the template formalism and bugs in the system, there is\n",
    "another cause: **difficult semantics of the data**.\n",
    "\n",
    "Most users reason about phrases, clauses and sentences as if they are consecutive blocks of words.\n",
    "But in the BHSA this is not the case: each of these objects may have **gaps**.\n",
    "\n",
    "Most of the time, verse boundaries coincide with the boundaries of sentences, clauses, and phrases.\n",
    "But not always, there are verse **spanning** sentences.\n",
    "\n",
    "> **Note**\n",
    "These phenomena may wreak havoc with your intuitive reasoning about what search templates should deliver.\n",
    "Query templates do not require the objects to be consecutive and\n",
    "still they make sense. But that might not be your sense, unless you **Mind the gap!**\n",
    "\n",
    "We are going to show these issues in depth."
   ]
  },
  {
   "cell_type": "markdown",
   "metadata": {},
   "source": [
    "# Gaps\n",
    "\n",
    "TF-search has no primitives to deal with gaps directly.\n",
    "Nodes correspond to textual objects such as words, phrases, clauses, verses, books.\n",
    "Usually these are consecutive sequences of one or more words,\n",
    "but in theory they can be arbitrary sets of slots.\n",
    "\n",
    "And, as far as the BHSA corpus is concerned, in practice too.\n",
    "If we look at phrases, then the overwhelming majority is consecutive, without gaps,\n",
    "But there is also a substantial amount of phrases with gaps.\n",
    "\n",
    "People that are familiar with MQL (see [fromMQL](searchFromMQL.ipynb))\n",
    "may remember that in MQL you can search for a gap.\n",
    "The MQL query\n",
    "\n",
    "```\n",
    "SELECT ALL OBJECTS WHERE\n",
    "\n",
    "[phrase FOCUS\n",
    "    [word lex='L']\n",
    "    [gap]\n",
    "]\n",
    "```\n",
    "\n",
    "looks for a phrase with a gap in it\n",
    "(i.e. one or more consecutive words between the start and the end of the phrase\n",
    "that do not belong to the phrase).\n",
    "The query then asks additionally for those gap-containing phrases that have a certain word in front of the gap.\n",
    "\n",
    "**We want this too!**"
   ]
  },
  {
   "cell_type": "markdown",
   "metadata": {},
   "source": [
    "## Find the gap\n",
    "\n",
    "We start with a query that aims to get the same results as the MQL query above.\n",
    "\n",
    "In our template, we require that there is a word `wPreGap` in the phrase that is just before the gap,\n",
    "a word `wGap` that comes right after, so it is in the gap, and hence does not belong to the phrase.\n",
    "But this all must happen before the last word `wLast` of the phrase."
   ]
  },
  {
   "cell_type": "code",
   "execution_count": 4,
   "metadata": {
    "ExecuteTime": {
     "end_time": "2018-05-24T10:09:32.685437Z",
     "start_time": "2018-05-24T10:09:32.680670Z"
    }
   },
   "outputs": [],
   "source": [
    "query = \"\"\"\n",
    "verse\n",
    "    p:phrase\n",
    "      wPreGap:word lex=L\n",
    "      wLast:word\n",
    "      :=\n",
    "\n",
    "wGap:word\n",
    "wPreGap <: wGap\n",
    "wGap < wLast\n",
    "p || wGap\n",
    "\"\"\""
   ]
  },
  {
   "cell_type": "code",
   "execution_count": 5,
   "metadata": {},
   "outputs": [
    {
     "name": "stdout",
     "output_type": "stream",
     "text": [
      "  0.90s 12 results\n"
     ]
    }
   ],
   "source": [
    "results = A.search(query)"
   ]
  },
  {
   "cell_type": "markdown",
   "metadata": {},
   "source": [
    "Nice and quick.\n",
    "Let's see the results."
   ]
  },
  {
   "cell_type": "code",
   "execution_count": 6,
   "metadata": {
    "ExecuteTime": {
     "end_time": "2018-05-24T10:09:43.410941Z",
     "start_time": "2018-05-24T10:09:43.194596Z"
    }
   },
   "outputs": [
    {
     "data": {
      "text/html": [
       "<table><tr class=\"tf rtl\"><th class=\"tf rtl\">n</th><th class=\"tf rtl\">p</th><th class=\"tf rtl\">phrase</th><th class=\"tf\">word</th><th class=\"tf\">word</th><th class=\"tf\">word</th></tr>\n",
       "<tr class=\"tf rtl\"><td class=\"tf rtl\">1</td><td class=\"tf rtl\"><span class=\"tfsechead rtl\"><span class=\"ltr\"><a target=\"_blank\" href=\"https://shebanq.ancient-data.org/hebrew/text?book=Genesis&amp;chapter=17&amp;verse=7&amp;version=2021&amp;mr=m&amp;qw=q&amp;tp=txt_p&amp;tr=hb&amp;wget=v&amp;qget=v&amp;nget=vt\" title=\"Show this on SHEBANQ\" sec=\"Genesis 17:7\">Genesis 17:7</a></span></span></td><td class=\"tf rtl\"><span class=\"rtl ubd\"><span class=\"plain rtl l hlbx\" ><span class=\"plain rtl  hl\" ><span class=\"txtu hbo\">לְךָ֙ </span></span></span><span class=\"plain rtl r hlbx\" ><span class=\"txtu hbo\">וּֽ</span><span class=\"txtu hbo\">לְ</span><span class=\"txtu hbo\">זַרְעֲךָ֖ </span><span class=\"plain rtl  hl\" ><span class=\"txtu hbo\">אַחֲרֶֽיךָ׃ </span></span></span></span></td><td class=\"tf rtl\"><span class=\"rtl ubd\"><span class=\"plain rtl  hl\" ><span class=\"txtu hbo\">לְךָ֙ </span></span></span></td><td class=\"tf rtl\"><span class=\"rtl ubd\"><span class=\"plain rtl  hl\" ><span class=\"txtu hbo\">אַחֲרֶֽיךָ׃ </span></span></span></td><td class=\"tf rtl\"><span class=\"rtl ubd\"><span class=\"plain rtl  hl\" ><span class=\"txtu hbo\">לֵֽ</span></span></span></td></tr>\n",
       "<tr class=\"tf rtl\"><td class=\"tf rtl\">2</td><td class=\"tf rtl\"><span class=\"tfsechead rtl\"><span class=\"ltr\"><a target=\"_blank\" href=\"https://shebanq.ancient-data.org/hebrew/text?book=Genesis&amp;chapter=28&amp;verse=4&amp;version=2021&amp;mr=m&amp;qw=q&amp;tp=txt_p&amp;tr=hb&amp;wget=v&amp;qget=v&amp;nget=vt\" title=\"Show this on SHEBANQ\" sec=\"Genesis 28:4\">Genesis 28:4</a></span></span></td><td class=\"tf rtl\"><span class=\"rtl ubd\"><span class=\"plain rtl l hlbx\" ><span class=\"plain rtl  hl\" ><span class=\"txtu hbo\">לְךָ֙ </span></span></span><span class=\"plain rtl r hlbx\" ><span class=\"txtu hbo\">לְךָ֖ </span><span class=\"txtu hbo\">וּ</span><span class=\"txtu hbo\">לְ</span><span class=\"txtu hbo\">זַרְעֲךָ֣ </span><span class=\"plain rtl  hl\" ><span class=\"txtu hbo\">אִתָּ֑ךְ </span></span></span></span></td><td class=\"tf rtl\"><span class=\"rtl ubd\"><span class=\"plain rtl  hl\" ><span class=\"txtu hbo\">לְךָ֙ </span></span></span></td><td class=\"tf rtl\"><span class=\"rtl ubd\"><span class=\"plain rtl  hl\" ><span class=\"txtu hbo\">אִתָּ֑ךְ </span></span></span></td><td class=\"tf rtl\"><span class=\"rtl ubd\"><span class=\"plain rtl  hl\" ><span class=\"txtu hbo\">אֶת־</span></span></span></td></tr>\n",
       "<tr class=\"tf rtl\"><td class=\"tf rtl\">3</td><td class=\"tf rtl\"><span class=\"tfsechead rtl\"><span class=\"ltr\"><a target=\"_blank\" href=\"https://shebanq.ancient-data.org/hebrew/text?book=Exodus&amp;chapter=30&amp;verse=21&amp;version=2021&amp;mr=m&amp;qw=q&amp;tp=txt_p&amp;tr=hb&amp;wget=v&amp;qget=v&amp;nget=vt\" title=\"Show this on SHEBANQ\" sec=\"Exodus 30:21\">Exodus 30:21</a></span></span></td><td class=\"tf rtl\"><span class=\"rtl ubd\"><span class=\"plain rtl l hlbx\" ><span class=\"plain rtl  hl\" ><span class=\"txtu hbo\">לָהֶ֧ם </span></span></span><span class=\"plain rtl r hlbx\" ><span class=\"txtu hbo\">לֹ֥ו </span><span class=\"txtu hbo\">וּ</span><span class=\"txtu hbo\">לְ</span><span class=\"plain rtl  hl\" ><span class=\"txtu hbo\">זַרְעֹ֖ו </span></span></span></span></td><td class=\"tf rtl\"><span class=\"rtl ubd\"><span class=\"plain rtl  hl\" ><span class=\"txtu hbo\">לָהֶ֧ם </span></span></span></td><td class=\"tf rtl\"><span class=\"rtl ubd\"><span class=\"plain rtl  hl\" ><span class=\"txtu hbo\">זַרְעֹ֖ו </span></span></span></td><td class=\"tf rtl\"><span class=\"rtl ubd\"><span class=\"plain rtl  hl\" ><span class=\"txtu hbo\">חָק־</span></span></span></td></tr>\n",
       "<tr class=\"tf rtl\"><td class=\"tf rtl\">4</td><td class=\"tf rtl\"><span class=\"tfsechead rtl\"><span class=\"ltr\"><a target=\"_blank\" href=\"https://shebanq.ancient-data.org/hebrew/text?book=Leviticus&amp;chapter=25&amp;verse=6&amp;version=2021&amp;mr=m&amp;qw=q&amp;tp=txt_p&amp;tr=hb&amp;wget=v&amp;qget=v&amp;nget=vt\" title=\"Show this on SHEBANQ\" sec=\"Leviticus 25:6\">Leviticus 25:6</a></span></span></td><td class=\"tf rtl\"><span class=\"rtl ubd\"><span class=\"plain rtl l hlbx\" ><span class=\"plain rtl  hl\" ><span class=\"txtu hbo\">לָכֶם֙ </span></span></span><span class=\"plain rtl r hlbx\" ><span class=\"txtu hbo\">לְךָ֖ </span><span class=\"txtu hbo\">וּ</span><span class=\"txtu hbo\">לְ</span><span class=\"txtu hbo\">עַבְדְּךָ֣ </span><span class=\"txtu hbo\">וְ</span><span class=\"txtu hbo\">לַ</span><span class=\"txtu hbo\">אֲמָתֶ֑ךָ </span><span class=\"txtu hbo\">וְ</span><span class=\"txtu hbo\">לִ</span><span class=\"txtu hbo\">שְׂכִֽירְךָ֙ </span><span class=\"txtu hbo\">וּ</span><span class=\"txtu hbo\">לְ</span><span class=\"plain rtl  hl\" ><span class=\"txtu hbo\">תֹושָׁ֣בְךָ֔ </span></span></span></span></td><td class=\"tf rtl\"><span class=\"rtl ubd\"><span class=\"plain rtl  hl\" ><span class=\"txtu hbo\">לָכֶם֙ </span></span></span></td><td class=\"tf rtl\"><span class=\"rtl ubd\"><span class=\"plain rtl  hl\" ><span class=\"txtu hbo\">תֹושָׁ֣בְךָ֔ </span></span></span></td><td class=\"tf rtl\"><span class=\"rtl ubd\"><span class=\"plain rtl  hl\" ><span class=\"txtu hbo\">לְ</span></span></span></td></tr>\n",
       "<tr class=\"tf rtl\"><td class=\"tf rtl\">5</td><td class=\"tf rtl\"><span class=\"tfsechead rtl\"><span class=\"ltr\"><a target=\"_blank\" href=\"https://shebanq.ancient-data.org/hebrew/text?book=Numeri&amp;chapter=20&amp;verse=15&amp;version=2021&amp;mr=m&amp;qw=q&amp;tp=txt_p&amp;tr=hb&amp;wget=v&amp;qget=v&amp;nget=vt\" title=\"Show this on SHEBANQ\" sec=\"Numbers 20:15\">Numbers 20:15</a></span></span></td><td class=\"tf rtl\"><span class=\"rtl ubd\"><span class=\"plain rtl l hlbx\" ><span class=\"plain rtl  hl\" ><span class=\"txtu hbo\">לָ֛נוּ </span></span></span><span class=\"plain rtl r hlbx\" ><span class=\"txtu hbo\">וְ</span><span class=\"txtu hbo\">לַ</span><span class=\"plain rtl  hl\" ><span class=\"txtu hbo\">אֲבֹתֵֽינוּ׃ </span></span></span></span></td><td class=\"tf rtl\"><span class=\"rtl ubd\"><span class=\"plain rtl  hl\" ><span class=\"txtu hbo\">לָ֛נוּ </span></span></span></td><td class=\"tf rtl\"><span class=\"rtl ubd\"><span class=\"plain rtl  hl\" ><span class=\"txtu hbo\">אֲבֹתֵֽינוּ׃ </span></span></span></td><td class=\"tf rtl\"><span class=\"rtl ubd\"><span class=\"plain rtl  hl\" ><span class=\"txtu hbo\">מִצְרַ֖יִם </span></span></span></td></tr>\n",
       "<tr class=\"tf rtl\"><td class=\"tf rtl\">6</td><td class=\"tf rtl\"><span class=\"tfsechead rtl\"><span class=\"ltr\"><a target=\"_blank\" href=\"https://shebanq.ancient-data.org/hebrew/text?book=Numeri&amp;chapter=32&amp;verse=33&amp;version=2021&amp;mr=m&amp;qw=q&amp;tp=txt_p&amp;tr=hb&amp;wget=v&amp;qget=v&amp;nget=vt\" title=\"Show this on SHEBANQ\" sec=\"Numbers 32:33\">Numbers 32:33</a></span></span></td><td class=\"tf rtl\"><span class=\"rtl ubd\"><span class=\"plain rtl l hlbx\" ><span class=\"plain rtl  hl\" ><span class=\"txtu hbo\">לָהֶ֣ם׀ </span></span></span><span class=\"plain rtl r hlbx\" ><span class=\"txtu hbo\">לִ</span><span class=\"txtu hbo\">בְנֵי־</span><span class=\"txtu hbo\">גָד֩ </span><span class=\"txtu hbo\">וְ</span><span class=\"txtu hbo\">לִ</span><span class=\"txtu hbo\">בְנֵ֨י </span><span class=\"txtu hbo\">רְאוּבֵ֜ן </span><span class=\"txtu hbo\">וְ</span><span class=\"txtu hbo\">לַ</span><span class=\"txtu hbo\">חֲצִ֣י׀ </span><span class=\"txtu hbo\">שֵׁ֣בֶט׀ </span><span class=\"txtu hbo\">מְנַשֶּׁ֣ה </span><span class=\"txtu hbo\">בֶן־</span><span class=\"plain rtl  hl\" ><span class=\"txtu hbo\">יֹוסֵ֗ף </span></span></span></span></td><td class=\"tf rtl\"><span class=\"rtl ubd\"><span class=\"plain rtl  hl\" ><span class=\"txtu hbo\">לָהֶ֣ם׀ </span></span></span></td><td class=\"tf rtl\"><span class=\"rtl ubd\"><span class=\"plain rtl  hl\" ><span class=\"txtu hbo\">יֹוסֵ֗ף </span></span></span></td><td class=\"tf rtl\"><span class=\"rtl ubd\"><span class=\"plain rtl  hl\" ><span class=\"txtu hbo\">מֹשֶׁ֡ה </span></span></span></td></tr>\n",
       "<tr class=\"tf rtl\"><td class=\"tf rtl\">7</td><td class=\"tf rtl\"><span class=\"tfsechead rtl\"><span class=\"ltr\"><a target=\"_blank\" href=\"https://shebanq.ancient-data.org/hebrew/text?book=Deuteronomium&amp;chapter=1&amp;verse=36&amp;version=2021&amp;mr=m&amp;qw=q&amp;tp=txt_p&amp;tr=hb&amp;wget=v&amp;qget=v&amp;nget=vt\" title=\"Show this on SHEBANQ\" sec=\"Deuteronomy 1:36\">Deuteronomy 1:36</a></span></span></td><td class=\"tf rtl\"><span class=\"rtl ubd\"><span class=\"plain rtl l hlbx\" ><span class=\"plain rtl  hl\" ><span class=\"txtu hbo\">לֹֽו־</span></span></span><span class=\"plain rtl r hlbx\" ><span class=\"txtu hbo\">וּ</span><span class=\"txtu hbo\">לְ</span><span class=\"plain rtl  hl\" ><span class=\"txtu hbo\">בָנָ֑יו </span></span></span></span></td><td class=\"tf rtl\"><span class=\"rtl ubd\"><span class=\"plain rtl  hl\" ><span class=\"txtu hbo\">לֹֽו־</span></span></span></td><td class=\"tf rtl\"><span class=\"rtl ubd\"><span class=\"plain rtl  hl\" ><span class=\"txtu hbo\">בָנָ֑יו </span></span></span></td><td class=\"tf rtl\"><span class=\"rtl ubd\"><span class=\"plain rtl  hl\" ><span class=\"txtu hbo\">אֶתֵּ֧ן </span></span></span></td></tr>\n",
       "<tr class=\"tf rtl\"><td class=\"tf rtl\">8</td><td class=\"tf rtl\"><span class=\"tfsechead rtl\"><span class=\"ltr\"><a target=\"_blank\" href=\"https://shebanq.ancient-data.org/hebrew/text?book=Deuteronomium&amp;chapter=26&amp;verse=11&amp;version=2021&amp;mr=m&amp;qw=q&amp;tp=txt_p&amp;tr=hb&amp;wget=v&amp;qget=v&amp;nget=vt\" title=\"Show this on SHEBANQ\" sec=\"Deuteronomy 26:11\">Deuteronomy 26:11</a></span></span></td><td class=\"tf rtl\"><span class=\"rtl ubd\"><span class=\"plain rtl l hlbx\" ><span class=\"plain rtl  hl\" ><span class=\"txtu hbo\">לְךָ֛ </span></span></span><span class=\"plain rtl r hlbx\" ><span class=\"txtu hbo\">וּ</span><span class=\"txtu hbo\">לְ</span><span class=\"plain rtl  hl\" ><span class=\"txtu hbo\">בֵיתֶ֑ךָ </span></span></span></span></td><td class=\"tf rtl\"><span class=\"rtl ubd\"><span class=\"plain rtl  hl\" ><span class=\"txtu hbo\">לְךָ֛ </span></span></span></td><td class=\"tf rtl\"><span class=\"rtl ubd\"><span class=\"plain rtl  hl\" ><span class=\"txtu hbo\">בֵיתֶ֑ךָ </span></span></span></td><td class=\"tf rtl\"><span class=\"rtl ubd\"><span class=\"plain rtl  hl\" ><span class=\"txtu hbo\">יְהוָ֥ה </span></span></span></td></tr>\n",
       "<tr class=\"tf rtl\"><td class=\"tf rtl\">9</td><td class=\"tf rtl\"><span class=\"tfsechead rtl\"><span class=\"ltr\"><a target=\"_blank\" href=\"https://shebanq.ancient-data.org/hebrew/text?book=Samuel_I&amp;chapter=25&amp;verse=31&amp;version=2021&amp;mr=m&amp;qw=q&amp;tp=txt_p&amp;tr=hb&amp;wget=v&amp;qget=v&amp;nget=vt\" title=\"Show this on SHEBANQ\" sec=\"1_Samuel 25:31\">1_Samuel 25:31</a></span></span></td><td class=\"tf rtl\"><span class=\"rtl ubd\"><span class=\"plain rtl l hlbx\" ><span class=\"plain rtl  hl\" ><span class=\"txtu hbo\">לְךָ֡ </span></span></span><span class=\"plain rtl r hlbx\" ><span class=\"txtu hbo\">לַ</span><span class=\"plain rtl  hl\" ><span class=\"txtu hbo\">אדֹנִ֗י </span></span></span></span></td><td class=\"tf rtl\"><span class=\"rtl ubd\"><span class=\"plain rtl  hl\" ><span class=\"txtu hbo\">לְךָ֡ </span></span></span></td><td class=\"tf rtl\"><span class=\"rtl ubd\"><span class=\"plain rtl  hl\" ><span class=\"txtu hbo\">אדֹנִ֗י </span></span></span></td><td class=\"tf rtl\"><span class=\"rtl ubd\"><span class=\"plain rtl  hl\" ><span class=\"txtu hbo\">לְ</span></span></span></td></tr>\n",
       "<tr class=\"tf rtl\"><td class=\"tf rtl\">10</td><td class=\"tf rtl\"><span class=\"tfsechead rtl\"><span class=\"ltr\"><a target=\"_blank\" href=\"https://shebanq.ancient-data.org/hebrew/text?book=Reges_II&amp;chapter=25&amp;verse=24&amp;version=2021&amp;mr=m&amp;qw=q&amp;tp=txt_p&amp;tr=hb&amp;wget=v&amp;qget=v&amp;nget=vt\" title=\"Show this on SHEBANQ\" sec=\"2_Kings 25:24\">2_Kings 25:24</a></span></span></td><td class=\"tf rtl\"><span class=\"rtl ubd\"><span class=\"plain rtl l hlbx\" ><span class=\"plain rtl  hl\" ><span class=\"txtu hbo\">לָהֶ֤ם </span></span></span><span class=\"plain rtl r hlbx\" ><span class=\"txtu hbo\">וּ</span><span class=\"txtu hbo\">לְ</span><span class=\"plain rtl  hl\" ><span class=\"txtu hbo\">אַנְשֵׁיהֶ֔ם </span></span></span></span></td><td class=\"tf rtl\"><span class=\"rtl ubd\"><span class=\"plain rtl  hl\" ><span class=\"txtu hbo\">לָהֶ֤ם </span></span></span></td><td class=\"tf rtl\"><span class=\"rtl ubd\"><span class=\"plain rtl  hl\" ><span class=\"txtu hbo\">אַנְשֵׁיהֶ֔ם </span></span></span></td><td class=\"tf rtl\"><span class=\"rtl ubd\"><span class=\"plain rtl  hl\" ><span class=\"txtu hbo\">גְּדַלְיָ֨הוּ֙ </span></span></span></td></tr>\n",
       "<tr class=\"tf rtl\"><td class=\"tf rtl\">11</td><td class=\"tf rtl\"><span class=\"tfsechead rtl\"><span class=\"ltr\"><a target=\"_blank\" href=\"https://shebanq.ancient-data.org/hebrew/text?book=Jeremia&amp;chapter=40&amp;verse=9&amp;version=2021&amp;mr=m&amp;qw=q&amp;tp=txt_p&amp;tr=hb&amp;wget=v&amp;qget=v&amp;nget=vt\" title=\"Show this on SHEBANQ\" sec=\"Jeremiah 40:9\">Jeremiah 40:9</a></span></span></td><td class=\"tf rtl\"><span class=\"rtl ubd\"><span class=\"plain rtl l hlbx\" ><span class=\"plain rtl  hl\" ><span class=\"txtu hbo\">לָהֶ֜ם </span></span></span><span class=\"plain rtl r hlbx\" ><span class=\"txtu hbo\">וּ</span><span class=\"txtu hbo\">לְ</span><span class=\"plain rtl  hl\" ><span class=\"txtu hbo\">אַנְשֵׁיהֶ֣ם </span></span></span></span></td><td class=\"tf rtl\"><span class=\"rtl ubd\"><span class=\"plain rtl  hl\" ><span class=\"txtu hbo\">לָהֶ֜ם </span></span></span></td><td class=\"tf rtl\"><span class=\"rtl ubd\"><span class=\"plain rtl  hl\" ><span class=\"txtu hbo\">אַנְשֵׁיהֶ֣ם </span></span></span></td><td class=\"tf rtl\"><span class=\"rtl ubd\"><span class=\"plain rtl  hl\" ><span class=\"txtu hbo\">גְּדַלְיָ֨הוּ </span></span></span></td></tr>\n",
       "<tr class=\"tf rtl\"><td class=\"tf rtl\">12</td><td class=\"tf rtl\"><span class=\"tfsechead rtl\"><span class=\"ltr\"><a target=\"_blank\" href=\"https://shebanq.ancient-data.org/hebrew/text?book=Daniel&amp;chapter=9&amp;verse=8&amp;version=2021&amp;mr=m&amp;qw=q&amp;tp=txt_p&amp;tr=hb&amp;wget=v&amp;qget=v&amp;nget=vt\" title=\"Show this on SHEBANQ\" sec=\"Daniel 9:8\">Daniel 9:8</a></span></span></td><td class=\"tf rtl\"><span class=\"rtl ubd\"><span class=\"plain rtl l hlbx\" ><span class=\"plain rtl  hl\" ><span class=\"txtu hbo\">לָ֚נוּ </span></span></span><span class=\"plain rtl r hlbx\" ><span class=\"txtu hbo\">לִ</span><span class=\"txtu hbo\">מְלָכֵ֥ינוּ </span><span class=\"txtu hbo\">לְ</span><span class=\"txtu hbo\">שָׂרֵ֖ינוּ </span><span class=\"txtu hbo\">וְ</span><span class=\"txtu hbo\">לַ</span><span class=\"plain rtl  hl\" ><span class=\"txtu hbo\">אֲבֹתֵ֑ינוּ </span></span></span></span></td><td class=\"tf rtl\"><span class=\"rtl ubd\"><span class=\"plain rtl  hl\" ><span class=\"txtu hbo\">לָ֚נוּ </span></span></span></td><td class=\"tf rtl\"><span class=\"rtl ubd\"><span class=\"plain rtl  hl\" ><span class=\"txtu hbo\">אֲבֹתֵ֑ינוּ </span></span></span></td><td class=\"tf rtl\"><span class=\"rtl ubd\"><span class=\"plain rtl  hl\" ><span class=\"txtu hbo\">בֹּ֣שֶׁת </span></span></span></td></tr></table>"
      ],
      "text/plain": [
       "<IPython.core.display.HTML object>"
      ]
     },
     "metadata": {},
     "output_type": "display_data"
    }
   ],
   "source": [
    "A.table(results, skipCols=\"1\")"
   ]
  },
  {
   "cell_type": "markdown",
   "metadata": {},
   "source": [
    "Let's color the word in the gap differently."
   ]
  },
  {
   "cell_type": "code",
   "execution_count": 7,
   "metadata": {},
   "outputs": [],
   "source": [
    "A.displaySetup(\n",
    "    skipCols=\"1\", colorMap={1: \"aqua\", 2: \"yellow\", 4: \"magenta\"}, condenseType=\"clause\"\n",
    ")"
   ]
  },
  {
   "cell_type": "code",
   "execution_count": 8,
   "metadata": {
    "ExecuteTime": {
     "end_time": "2018-05-18T09:16:40.841646Z",
     "start_time": "2018-05-18T09:16:40.654538Z"
    }
   },
   "outputs": [
    {
     "data": {
      "text/html": [
       "<table><tr class=\"tf rtl\"><th class=\"tf rtl\">n</th><th class=\"tf rtl\">p</th><th class=\"tf rtl\">phrase</th><th class=\"tf\">word</th><th class=\"tf\">word</th><th class=\"tf\">word</th></tr>\n",
       "<tr class=\"tf rtl\"><td class=\"tf rtl\">1</td><td class=\"tf rtl\"><span class=\"tfsechead rtl\"><span class=\"ltr\"><a target=\"_blank\" href=\"https://shebanq.ancient-data.org/hebrew/text?book=Genesis&amp;chapter=17&amp;verse=7&amp;version=2021&amp;mr=m&amp;qw=q&amp;tp=txt_p&amp;tr=hb&amp;wget=v&amp;qget=v&amp;nget=vt\" title=\"Show this on SHEBANQ\" sec=\"Genesis 17:7\">Genesis 17:7</a></span></span></td><td class=\"tf rtl\"><span class=\"rtl ubd\"><span class=\"plain rtl l hlbx\"  style=\"border-color: aqua;\" ><span class=\"plain rtl  hl\"  style=\"background-color: yellow;\" ><span class=\"txtu hbo\">לְךָ֙ </span></span></span><span class=\"plain rtl r hlbx\"  style=\"border-color: aqua;\" ><span class=\"txtu hbo\">וּֽ</span><span class=\"txtu hbo\">לְ</span><span class=\"txtu hbo\">זַרְעֲךָ֖ </span><span class=\"plain rtl  hl\" ><span class=\"txtu hbo\">אַחֲרֶֽיךָ׃ </span></span></span></span></td><td class=\"tf rtl\"><span class=\"rtl ubd\"><span class=\"plain rtl  hl\"  style=\"background-color: yellow;\" ><span class=\"txtu hbo\">לְךָ֙ </span></span></span></td><td class=\"tf rtl\"><span class=\"rtl ubd\"><span class=\"plain rtl  hl\" ><span class=\"txtu hbo\">אַחֲרֶֽיךָ׃ </span></span></span></td><td class=\"tf rtl\"><span class=\"rtl ubd\"><span class=\"plain rtl  hl\"  style=\"background-color: magenta;\" ><span class=\"txtu hbo\">לֵֽ</span></span></span></td></tr>\n",
       "<tr class=\"tf rtl\"><td class=\"tf rtl\">2</td><td class=\"tf rtl\"><span class=\"tfsechead rtl\"><span class=\"ltr\"><a target=\"_blank\" href=\"https://shebanq.ancient-data.org/hebrew/text?book=Genesis&amp;chapter=28&amp;verse=4&amp;version=2021&amp;mr=m&amp;qw=q&amp;tp=txt_p&amp;tr=hb&amp;wget=v&amp;qget=v&amp;nget=vt\" title=\"Show this on SHEBANQ\" sec=\"Genesis 28:4\">Genesis 28:4</a></span></span></td><td class=\"tf rtl\"><span class=\"rtl ubd\"><span class=\"plain rtl l hlbx\"  style=\"border-color: aqua;\" ><span class=\"plain rtl  hl\"  style=\"background-color: yellow;\" ><span class=\"txtu hbo\">לְךָ֙ </span></span></span><span class=\"plain rtl r hlbx\"  style=\"border-color: aqua;\" ><span class=\"txtu hbo\">לְךָ֖ </span><span class=\"txtu hbo\">וּ</span><span class=\"txtu hbo\">לְ</span><span class=\"txtu hbo\">זַרְעֲךָ֣ </span><span class=\"plain rtl  hl\" ><span class=\"txtu hbo\">אִתָּ֑ךְ </span></span></span></span></td><td class=\"tf rtl\"><span class=\"rtl ubd\"><span class=\"plain rtl  hl\"  style=\"background-color: yellow;\" ><span class=\"txtu hbo\">לְךָ֙ </span></span></span></td><td class=\"tf rtl\"><span class=\"rtl ubd\"><span class=\"plain rtl  hl\" ><span class=\"txtu hbo\">אִתָּ֑ךְ </span></span></span></td><td class=\"tf rtl\"><span class=\"rtl ubd\"><span class=\"plain rtl  hl\"  style=\"background-color: magenta;\" ><span class=\"txtu hbo\">אֶת־</span></span></span></td></tr>\n",
       "<tr class=\"tf rtl\"><td class=\"tf rtl\">3</td><td class=\"tf rtl\"><span class=\"tfsechead rtl\"><span class=\"ltr\"><a target=\"_blank\" href=\"https://shebanq.ancient-data.org/hebrew/text?book=Exodus&amp;chapter=30&amp;verse=21&amp;version=2021&amp;mr=m&amp;qw=q&amp;tp=txt_p&amp;tr=hb&amp;wget=v&amp;qget=v&amp;nget=vt\" title=\"Show this on SHEBANQ\" sec=\"Exodus 30:21\">Exodus 30:21</a></span></span></td><td class=\"tf rtl\"><span class=\"rtl ubd\"><span class=\"plain rtl l hlbx\"  style=\"border-color: aqua;\" ><span class=\"plain rtl  hl\"  style=\"background-color: yellow;\" ><span class=\"txtu hbo\">לָהֶ֧ם </span></span></span><span class=\"plain rtl r hlbx\"  style=\"border-color: aqua;\" ><span class=\"txtu hbo\">לֹ֥ו </span><span class=\"txtu hbo\">וּ</span><span class=\"txtu hbo\">לְ</span><span class=\"plain rtl  hl\" ><span class=\"txtu hbo\">זַרְעֹ֖ו </span></span></span></span></td><td class=\"tf rtl\"><span class=\"rtl ubd\"><span class=\"plain rtl  hl\"  style=\"background-color: yellow;\" ><span class=\"txtu hbo\">לָהֶ֧ם </span></span></span></td><td class=\"tf rtl\"><span class=\"rtl ubd\"><span class=\"plain rtl  hl\" ><span class=\"txtu hbo\">זַרְעֹ֖ו </span></span></span></td><td class=\"tf rtl\"><span class=\"rtl ubd\"><span class=\"plain rtl  hl\"  style=\"background-color: magenta;\" ><span class=\"txtu hbo\">חָק־</span></span></span></td></tr>\n",
       "<tr class=\"tf rtl\"><td class=\"tf rtl\">4</td><td class=\"tf rtl\"><span class=\"tfsechead rtl\"><span class=\"ltr\"><a target=\"_blank\" href=\"https://shebanq.ancient-data.org/hebrew/text?book=Leviticus&amp;chapter=25&amp;verse=6&amp;version=2021&amp;mr=m&amp;qw=q&amp;tp=txt_p&amp;tr=hb&amp;wget=v&amp;qget=v&amp;nget=vt\" title=\"Show this on SHEBANQ\" sec=\"Leviticus 25:6\">Leviticus 25:6</a></span></span></td><td class=\"tf rtl\"><span class=\"rtl ubd\"><span class=\"plain rtl l hlbx\"  style=\"border-color: aqua;\" ><span class=\"plain rtl  hl\"  style=\"background-color: yellow;\" ><span class=\"txtu hbo\">לָכֶם֙ </span></span></span><span class=\"plain rtl r hlbx\"  style=\"border-color: aqua;\" ><span class=\"txtu hbo\">לְךָ֖ </span><span class=\"txtu hbo\">וּ</span><span class=\"txtu hbo\">לְ</span><span class=\"txtu hbo\">עַבְדְּךָ֣ </span><span class=\"txtu hbo\">וְ</span><span class=\"txtu hbo\">לַ</span><span class=\"txtu hbo\">אֲמָתֶ֑ךָ </span><span class=\"txtu hbo\">וְ</span><span class=\"txtu hbo\">לִ</span><span class=\"txtu hbo\">שְׂכִֽירְךָ֙ </span><span class=\"txtu hbo\">וּ</span><span class=\"txtu hbo\">לְ</span><span class=\"plain rtl  hl\" ><span class=\"txtu hbo\">תֹושָׁ֣בְךָ֔ </span></span></span></span></td><td class=\"tf rtl\"><span class=\"rtl ubd\"><span class=\"plain rtl  hl\"  style=\"background-color: yellow;\" ><span class=\"txtu hbo\">לָכֶם֙ </span></span></span></td><td class=\"tf rtl\"><span class=\"rtl ubd\"><span class=\"plain rtl  hl\" ><span class=\"txtu hbo\">תֹושָׁ֣בְךָ֔ </span></span></span></td><td class=\"tf rtl\"><span class=\"rtl ubd\"><span class=\"plain rtl  hl\"  style=\"background-color: magenta;\" ><span class=\"txtu hbo\">לְ</span></span></span></td></tr>\n",
       "<tr class=\"tf rtl\"><td class=\"tf rtl\">5</td><td class=\"tf rtl\"><span class=\"tfsechead rtl\"><span class=\"ltr\"><a target=\"_blank\" href=\"https://shebanq.ancient-data.org/hebrew/text?book=Numeri&amp;chapter=20&amp;verse=15&amp;version=2021&amp;mr=m&amp;qw=q&amp;tp=txt_p&amp;tr=hb&amp;wget=v&amp;qget=v&amp;nget=vt\" title=\"Show this on SHEBANQ\" sec=\"Numbers 20:15\">Numbers 20:15</a></span></span></td><td class=\"tf rtl\"><span class=\"rtl ubd\"><span class=\"plain rtl l hlbx\"  style=\"border-color: aqua;\" ><span class=\"plain rtl  hl\"  style=\"background-color: yellow;\" ><span class=\"txtu hbo\">לָ֛נוּ </span></span></span><span class=\"plain rtl r hlbx\"  style=\"border-color: aqua;\" ><span class=\"txtu hbo\">וְ</span><span class=\"txtu hbo\">לַ</span><span class=\"plain rtl  hl\" ><span class=\"txtu hbo\">אֲבֹתֵֽינוּ׃ </span></span></span></span></td><td class=\"tf rtl\"><span class=\"rtl ubd\"><span class=\"plain rtl  hl\"  style=\"background-color: yellow;\" ><span class=\"txtu hbo\">לָ֛נוּ </span></span></span></td><td class=\"tf rtl\"><span class=\"rtl ubd\"><span class=\"plain rtl  hl\" ><span class=\"txtu hbo\">אֲבֹתֵֽינוּ׃ </span></span></span></td><td class=\"tf rtl\"><span class=\"rtl ubd\"><span class=\"plain rtl  hl\"  style=\"background-color: magenta;\" ><span class=\"txtu hbo\">מִצְרַ֖יִם </span></span></span></td></tr>\n",
       "<tr class=\"tf rtl\"><td class=\"tf rtl\">6</td><td class=\"tf rtl\"><span class=\"tfsechead rtl\"><span class=\"ltr\"><a target=\"_blank\" href=\"https://shebanq.ancient-data.org/hebrew/text?book=Numeri&amp;chapter=32&amp;verse=33&amp;version=2021&amp;mr=m&amp;qw=q&amp;tp=txt_p&amp;tr=hb&amp;wget=v&amp;qget=v&amp;nget=vt\" title=\"Show this on SHEBANQ\" sec=\"Numbers 32:33\">Numbers 32:33</a></span></span></td><td class=\"tf rtl\"><span class=\"rtl ubd\"><span class=\"plain rtl l hlbx\"  style=\"border-color: aqua;\" ><span class=\"plain rtl  hl\"  style=\"background-color: yellow;\" ><span class=\"txtu hbo\">לָהֶ֣ם׀ </span></span></span><span class=\"plain rtl r hlbx\"  style=\"border-color: aqua;\" ><span class=\"txtu hbo\">לִ</span><span class=\"txtu hbo\">בְנֵי־</span><span class=\"txtu hbo\">גָד֩ </span><span class=\"txtu hbo\">וְ</span><span class=\"txtu hbo\">לִ</span><span class=\"txtu hbo\">בְנֵ֨י </span><span class=\"txtu hbo\">רְאוּבֵ֜ן </span><span class=\"txtu hbo\">וְ</span><span class=\"txtu hbo\">לַ</span><span class=\"txtu hbo\">חֲצִ֣י׀ </span><span class=\"txtu hbo\">שֵׁ֣בֶט׀ </span><span class=\"txtu hbo\">מְנַשֶּׁ֣ה </span><span class=\"txtu hbo\">בֶן־</span><span class=\"plain rtl  hl\" ><span class=\"txtu hbo\">יֹוסֵ֗ף </span></span></span></span></td><td class=\"tf rtl\"><span class=\"rtl ubd\"><span class=\"plain rtl  hl\"  style=\"background-color: yellow;\" ><span class=\"txtu hbo\">לָהֶ֣ם׀ </span></span></span></td><td class=\"tf rtl\"><span class=\"rtl ubd\"><span class=\"plain rtl  hl\" ><span class=\"txtu hbo\">יֹוסֵ֗ף </span></span></span></td><td class=\"tf rtl\"><span class=\"rtl ubd\"><span class=\"plain rtl  hl\"  style=\"background-color: magenta;\" ><span class=\"txtu hbo\">מֹשֶׁ֡ה </span></span></span></td></tr>\n",
       "<tr class=\"tf rtl\"><td class=\"tf rtl\">7</td><td class=\"tf rtl\"><span class=\"tfsechead rtl\"><span class=\"ltr\"><a target=\"_blank\" href=\"https://shebanq.ancient-data.org/hebrew/text?book=Deuteronomium&amp;chapter=1&amp;verse=36&amp;version=2021&amp;mr=m&amp;qw=q&amp;tp=txt_p&amp;tr=hb&amp;wget=v&amp;qget=v&amp;nget=vt\" title=\"Show this on SHEBANQ\" sec=\"Deuteronomy 1:36\">Deuteronomy 1:36</a></span></span></td><td class=\"tf rtl\"><span class=\"rtl ubd\"><span class=\"plain rtl l hlbx\"  style=\"border-color: aqua;\" ><span class=\"plain rtl  hl\"  style=\"background-color: yellow;\" ><span class=\"txtu hbo\">לֹֽו־</span></span></span><span class=\"plain rtl r hlbx\"  style=\"border-color: aqua;\" ><span class=\"txtu hbo\">וּ</span><span class=\"txtu hbo\">לְ</span><span class=\"plain rtl  hl\" ><span class=\"txtu hbo\">בָנָ֑יו </span></span></span></span></td><td class=\"tf rtl\"><span class=\"rtl ubd\"><span class=\"plain rtl  hl\"  style=\"background-color: yellow;\" ><span class=\"txtu hbo\">לֹֽו־</span></span></span></td><td class=\"tf rtl\"><span class=\"rtl ubd\"><span class=\"plain rtl  hl\" ><span class=\"txtu hbo\">בָנָ֑יו </span></span></span></td><td class=\"tf rtl\"><span class=\"rtl ubd\"><span class=\"plain rtl  hl\"  style=\"background-color: magenta;\" ><span class=\"txtu hbo\">אֶתֵּ֧ן </span></span></span></td></tr>\n",
       "<tr class=\"tf rtl\"><td class=\"tf rtl\">8</td><td class=\"tf rtl\"><span class=\"tfsechead rtl\"><span class=\"ltr\"><a target=\"_blank\" href=\"https://shebanq.ancient-data.org/hebrew/text?book=Deuteronomium&amp;chapter=26&amp;verse=11&amp;version=2021&amp;mr=m&amp;qw=q&amp;tp=txt_p&amp;tr=hb&amp;wget=v&amp;qget=v&amp;nget=vt\" title=\"Show this on SHEBANQ\" sec=\"Deuteronomy 26:11\">Deuteronomy 26:11</a></span></span></td><td class=\"tf rtl\"><span class=\"rtl ubd\"><span class=\"plain rtl l hlbx\"  style=\"border-color: aqua;\" ><span class=\"plain rtl  hl\"  style=\"background-color: yellow;\" ><span class=\"txtu hbo\">לְךָ֛ </span></span></span><span class=\"plain rtl r hlbx\"  style=\"border-color: aqua;\" ><span class=\"txtu hbo\">וּ</span><span class=\"txtu hbo\">לְ</span><span class=\"plain rtl  hl\" ><span class=\"txtu hbo\">בֵיתֶ֑ךָ </span></span></span></span></td><td class=\"tf rtl\"><span class=\"rtl ubd\"><span class=\"plain rtl  hl\"  style=\"background-color: yellow;\" ><span class=\"txtu hbo\">לְךָ֛ </span></span></span></td><td class=\"tf rtl\"><span class=\"rtl ubd\"><span class=\"plain rtl  hl\" ><span class=\"txtu hbo\">בֵיתֶ֑ךָ </span></span></span></td><td class=\"tf rtl\"><span class=\"rtl ubd\"><span class=\"plain rtl  hl\"  style=\"background-color: magenta;\" ><span class=\"txtu hbo\">יְהוָ֥ה </span></span></span></td></tr>\n",
       "<tr class=\"tf rtl\"><td class=\"tf rtl\">9</td><td class=\"tf rtl\"><span class=\"tfsechead rtl\"><span class=\"ltr\"><a target=\"_blank\" href=\"https://shebanq.ancient-data.org/hebrew/text?book=Samuel_I&amp;chapter=25&amp;verse=31&amp;version=2021&amp;mr=m&amp;qw=q&amp;tp=txt_p&amp;tr=hb&amp;wget=v&amp;qget=v&amp;nget=vt\" title=\"Show this on SHEBANQ\" sec=\"1_Samuel 25:31\">1_Samuel 25:31</a></span></span></td><td class=\"tf rtl\"><span class=\"rtl ubd\"><span class=\"plain rtl l hlbx\"  style=\"border-color: aqua;\" ><span class=\"plain rtl  hl\"  style=\"background-color: yellow;\" ><span class=\"txtu hbo\">לְךָ֡ </span></span></span><span class=\"plain rtl r hlbx\"  style=\"border-color: aqua;\" ><span class=\"txtu hbo\">לַ</span><span class=\"plain rtl  hl\" ><span class=\"txtu hbo\">אדֹנִ֗י </span></span></span></span></td><td class=\"tf rtl\"><span class=\"rtl ubd\"><span class=\"plain rtl  hl\"  style=\"background-color: yellow;\" ><span class=\"txtu hbo\">לְךָ֡ </span></span></span></td><td class=\"tf rtl\"><span class=\"rtl ubd\"><span class=\"plain rtl  hl\" ><span class=\"txtu hbo\">אדֹנִ֗י </span></span></span></td><td class=\"tf rtl\"><span class=\"rtl ubd\"><span class=\"plain rtl  hl\"  style=\"background-color: magenta;\" ><span class=\"txtu hbo\">לְ</span></span></span></td></tr>\n",
       "<tr class=\"tf rtl\"><td class=\"tf rtl\">10</td><td class=\"tf rtl\"><span class=\"tfsechead rtl\"><span class=\"ltr\"><a target=\"_blank\" href=\"https://shebanq.ancient-data.org/hebrew/text?book=Reges_II&amp;chapter=25&amp;verse=24&amp;version=2021&amp;mr=m&amp;qw=q&amp;tp=txt_p&amp;tr=hb&amp;wget=v&amp;qget=v&amp;nget=vt\" title=\"Show this on SHEBANQ\" sec=\"2_Kings 25:24\">2_Kings 25:24</a></span></span></td><td class=\"tf rtl\"><span class=\"rtl ubd\"><span class=\"plain rtl l hlbx\"  style=\"border-color: aqua;\" ><span class=\"plain rtl  hl\"  style=\"background-color: yellow;\" ><span class=\"txtu hbo\">לָהֶ֤ם </span></span></span><span class=\"plain rtl r hlbx\"  style=\"border-color: aqua;\" ><span class=\"txtu hbo\">וּ</span><span class=\"txtu hbo\">לְ</span><span class=\"plain rtl  hl\" ><span class=\"txtu hbo\">אַנְשֵׁיהֶ֔ם </span></span></span></span></td><td class=\"tf rtl\"><span class=\"rtl ubd\"><span class=\"plain rtl  hl\"  style=\"background-color: yellow;\" ><span class=\"txtu hbo\">לָהֶ֤ם </span></span></span></td><td class=\"tf rtl\"><span class=\"rtl ubd\"><span class=\"plain rtl  hl\" ><span class=\"txtu hbo\">אַנְשֵׁיהֶ֔ם </span></span></span></td><td class=\"tf rtl\"><span class=\"rtl ubd\"><span class=\"plain rtl  hl\"  style=\"background-color: magenta;\" ><span class=\"txtu hbo\">גְּדַלְיָ֨הוּ֙ </span></span></span></td></tr>\n",
       "<tr class=\"tf rtl\"><td class=\"tf rtl\">11</td><td class=\"tf rtl\"><span class=\"tfsechead rtl\"><span class=\"ltr\"><a target=\"_blank\" href=\"https://shebanq.ancient-data.org/hebrew/text?book=Jeremia&amp;chapter=40&amp;verse=9&amp;version=2021&amp;mr=m&amp;qw=q&amp;tp=txt_p&amp;tr=hb&amp;wget=v&amp;qget=v&amp;nget=vt\" title=\"Show this on SHEBANQ\" sec=\"Jeremiah 40:9\">Jeremiah 40:9</a></span></span></td><td class=\"tf rtl\"><span class=\"rtl ubd\"><span class=\"plain rtl l hlbx\"  style=\"border-color: aqua;\" ><span class=\"plain rtl  hl\"  style=\"background-color: yellow;\" ><span class=\"txtu hbo\">לָהֶ֜ם </span></span></span><span class=\"plain rtl r hlbx\"  style=\"border-color: aqua;\" ><span class=\"txtu hbo\">וּ</span><span class=\"txtu hbo\">לְ</span><span class=\"plain rtl  hl\" ><span class=\"txtu hbo\">אַנְשֵׁיהֶ֣ם </span></span></span></span></td><td class=\"tf rtl\"><span class=\"rtl ubd\"><span class=\"plain rtl  hl\"  style=\"background-color: yellow;\" ><span class=\"txtu hbo\">לָהֶ֜ם </span></span></span></td><td class=\"tf rtl\"><span class=\"rtl ubd\"><span class=\"plain rtl  hl\" ><span class=\"txtu hbo\">אַנְשֵׁיהֶ֣ם </span></span></span></td><td class=\"tf rtl\"><span class=\"rtl ubd\"><span class=\"plain rtl  hl\"  style=\"background-color: magenta;\" ><span class=\"txtu hbo\">גְּדַלְיָ֨הוּ </span></span></span></td></tr>\n",
       "<tr class=\"tf rtl\"><td class=\"tf rtl\">12</td><td class=\"tf rtl\"><span class=\"tfsechead rtl\"><span class=\"ltr\"><a target=\"_blank\" href=\"https://shebanq.ancient-data.org/hebrew/text?book=Daniel&amp;chapter=9&amp;verse=8&amp;version=2021&amp;mr=m&amp;qw=q&amp;tp=txt_p&amp;tr=hb&amp;wget=v&amp;qget=v&amp;nget=vt\" title=\"Show this on SHEBANQ\" sec=\"Daniel 9:8\">Daniel 9:8</a></span></span></td><td class=\"tf rtl\"><span class=\"rtl ubd\"><span class=\"plain rtl l hlbx\"  style=\"border-color: aqua;\" ><span class=\"plain rtl  hl\"  style=\"background-color: yellow;\" ><span class=\"txtu hbo\">לָ֚נוּ </span></span></span><span class=\"plain rtl r hlbx\"  style=\"border-color: aqua;\" ><span class=\"txtu hbo\">לִ</span><span class=\"txtu hbo\">מְלָכֵ֥ינוּ </span><span class=\"txtu hbo\">לְ</span><span class=\"txtu hbo\">שָׂרֵ֖ינוּ </span><span class=\"txtu hbo\">וְ</span><span class=\"txtu hbo\">לַ</span><span class=\"plain rtl  hl\" ><span class=\"txtu hbo\">אֲבֹתֵ֑ינוּ </span></span></span></span></td><td class=\"tf rtl\"><span class=\"rtl ubd\"><span class=\"plain rtl  hl\"  style=\"background-color: yellow;\" ><span class=\"txtu hbo\">לָ֚נוּ </span></span></span></td><td class=\"tf rtl\"><span class=\"rtl ubd\"><span class=\"plain rtl  hl\" ><span class=\"txtu hbo\">אֲבֹתֵ֑ינוּ </span></span></span></td><td class=\"tf rtl\"><span class=\"rtl ubd\"><span class=\"plain rtl  hl\"  style=\"background-color: magenta;\" ><span class=\"txtu hbo\">בֹּ֣שֶׁת </span></span></span></td></tr></table>"
      ],
      "text/plain": [
       "<IPython.core.display.HTML object>"
      ]
     },
     "metadata": {},
     "output_type": "display_data"
    }
   ],
   "source": [
    "A.table(results, condensed=False)"
   ]
  },
  {
   "cell_type": "code",
   "execution_count": 9,
   "metadata": {
    "ExecuteTime": {
     "end_time": "2018-05-18T09:16:40.841646Z",
     "start_time": "2018-05-18T09:16:40.654538Z"
    }
   },
   "outputs": [
    {
     "data": {
      "text/html": [
       "<p><b>result</b> <i>1</i></p>"
      ],
      "text/plain": [
       "<IPython.core.display.HTML object>"
      ]
     },
     "metadata": {},
     "output_type": "display_data"
    },
    {
     "data": {
      "text/html": [
       "<div class=\"tfsechead rtl\"><span class=\"ltr\"><a target=\"_blank\" href=\"https://shebanq.ancient-data.org/hebrew/text?book=Genesis&amp;chapter=17&amp;verse=7&amp;version=2021&amp;mr=m&amp;qw=q&amp;tp=txt_p&amp;tr=hb&amp;wget=v&amp;qget=v&amp;nget=vt\" title=\"Show this on SHEBANQ\" sec=\"Genesis 17:7\">Genesis 17:7</a></span></div><div class=\"rtl children\"><div class=\"contnr c2  rtl  \" ><div class=\"lbl c2  \" ><span class=\"nd\">clause</span></div><div class=\"children hor wrap rtl\"><div class=\"contnr c1  rtl  \" ><div class=\"lbl c1  \" ><span class=\"nd\">phrase</span></div><div class=\"children hor wrap rtl\"><div class=\"contnr c0 trm rtl  \" ><div class=\"lbl c0 trm \" ><a class=\" txtu hbo\" target=\"_blank\" href=\"https://shebanq.ancient-data.org/hebrew/word?version=2021&amp;id=1L\" title=\"Show this on SHEBANQ\"><span class=\"txtu hbo\">לִ</span></a></div><div class='features'><span class=\"lex xft\" ><span class=\"f\">lex=</span>L</span></div></div><div class=\"contnr c0 trm rtl  \" ><div class=\"lbl c0 trm \" ><a class=\" txtu hbo\" target=\"_blank\" href=\"https://shebanq.ancient-data.org/hebrew/word?version=2021&amp;id=1HJHv\" title=\"Show this on SHEBANQ\"><span class=\"txtu hbo\">הְיֹ֤ות </span></a></div><div class='features'><span class=\"lex xft\" ><span class=\"f\">lex=</span>HJH[</span></div></div></div></div><div class=\"contnr c1  rtl l hl\"  style=\"background-color: aqua;\" ><div class=\"lbl c1  hl\"  style=\"background-color: aqua;\" ><span class=\"nd\">phrase</span></div><div class=\"children hor wrap rtl\"><div class=\"contnr c0 trm rtl  hl\"  style=\"background-color: yellow;\" ><div class=\"lbl c0 trm hl\"  style=\"background-color: yellow;\" ><a class=\" txtu hbo\" target=\"_blank\" href=\"https://shebanq.ancient-data.org/hebrew/word?version=2021&amp;id=1L\" title=\"Show this on SHEBANQ\"><span class=\"txtu hbo\">לְךָ֙ </span></a></div><div class='features'><span class=\"lex xft\" ><span class=\"f\">lex=</span>L</span></div></div></div></div><div class=\"contnr c1  rtl  \" ><div class=\"lbl c1  \" ><span class=\"nd\">phrase</span></div><div class=\"children hor wrap rtl\"><div class=\"contnr c0 trm rtl  hl\"  style=\"background-color: magenta;\" ><div class=\"lbl c0 trm hl\"  style=\"background-color: magenta;\" ><a class=\" txtu hbo\" target=\"_blank\" href=\"https://shebanq.ancient-data.org/hebrew/word?version=2021&amp;id=1L\" title=\"Show this on SHEBANQ\"><span class=\"txtu hbo\">לֵֽ</span></a></div><div class='features'><span class=\"lex xft\" ><span class=\"f\">lex=</span>L</span></div></div><div class=\"contnr c0 trm rtl  \" ><div class=\"lbl c0 trm \" ><a class=\" txtu hbo\" target=\"_blank\" href=\"https://shebanq.ancient-data.org/hebrew/word?version=2021&amp;id=1ALHJMn\" title=\"Show this on SHEBANQ\"><span class=\"txtu hbo\">אלֹהִ֔ים </span></a></div><div class='features'><span class=\"lex xft\" ><span class=\"f\">lex=</span>>LHJM/</span></div></div></div></div><div class=\"contnr c1  rtl r hl\"  style=\"background-color: aqua;\" ><div class=\"lbl c1  hl\"  style=\"background-color: aqua;\" ><span class=\"nd\">phrase</span></div><div class=\"children hor wrap rtl\"><div class=\"contnr c0 trm rtl  \" ><div class=\"lbl c0 trm \" ><a class=\" txtu hbo\" target=\"_blank\" href=\"https://shebanq.ancient-data.org/hebrew/word?version=2021&amp;id=1W\" title=\"Show this on SHEBANQ\"><span class=\"txtu hbo\">וּֽ</span></a></div><div class='features'><span class=\"lex xft\" ><span class=\"f\">lex=</span>W</span></div></div><div class=\"contnr c0 trm rtl  \" ><div class=\"lbl c0 trm \" ><a class=\" txtu hbo\" target=\"_blank\" href=\"https://shebanq.ancient-data.org/hebrew/word?version=2021&amp;id=1L\" title=\"Show this on SHEBANQ\"><span class=\"txtu hbo\">לְ</span></a></div><div class='features'><span class=\"lex xft\" ><span class=\"f\">lex=</span>L</span></div></div><div class=\"contnr c0 trm rtl  \" ><div class=\"lbl c0 trm \" ><a class=\" txtu hbo\" target=\"_blank\" href=\"https://shebanq.ancient-data.org/hebrew/word?version=2021&amp;id=1ZROn\" title=\"Show this on SHEBANQ\"><span class=\"txtu hbo\">זַרְעֲךָ֖ </span></a></div><div class='features'><span class=\"lex xft\" ><span class=\"f\">lex=</span>ZR&lt;/</span></div></div><div class=\"contnr c0 trm rtl  hl\" ><div class=\"lbl c0 trm hl\" ><a class=\" txtu hbo\" target=\"_blank\" href=\"https://shebanq.ancient-data.org/hebrew/word?version=2021&amp;id=1AXRn\" title=\"Show this on SHEBANQ\"><span class=\"txtu hbo\">אַחֲרֶֽיךָ׃ </span></a></div><div class='features'><span class=\"lex xft\" ><span class=\"f\">lex=</span>>XR/</span></div></div></div></div></div></div></div>"
      ],
      "text/plain": [
       "<IPython.core.display.HTML object>"
      ]
     },
     "metadata": {},
     "output_type": "display_data"
    },
    {
     "data": {
      "text/html": [
       "<p><b>result</b> <i>2</i></p>"
      ],
      "text/plain": [
       "<IPython.core.display.HTML object>"
      ]
     },
     "metadata": {},
     "output_type": "display_data"
    },
    {
     "data": {
      "text/html": [
       "<div class=\"tfsechead rtl\"><span class=\"ltr\"><a target=\"_blank\" href=\"https://shebanq.ancient-data.org/hebrew/text?book=Genesis&amp;chapter=28&amp;verse=4&amp;version=2021&amp;mr=m&amp;qw=q&amp;tp=txt_p&amp;tr=hb&amp;wget=v&amp;qget=v&amp;nget=vt\" title=\"Show this on SHEBANQ\" sec=\"Genesis 28:4\">Genesis 28:4</a></span></div><div class=\"rtl children\"><div class=\"contnr c2  rtl  \" ><div class=\"lbl c2  \" ><span class=\"nd\">clause</span></div><div class=\"children hor wrap rtl\"><div class=\"contnr c1  rtl  \" ><div class=\"lbl c1  \" ><span class=\"nd\">phrase</span></div><div class=\"children hor wrap rtl\"><div class=\"contnr c0 trm rtl  \" ><div class=\"lbl c0 trm \" ><a class=\" txtu hbo\" target=\"_blank\" href=\"https://shebanq.ancient-data.org/hebrew/word?version=2021&amp;id=1W\" title=\"Show this on SHEBANQ\"><span class=\"txtu hbo\">וְ</span></a></div><div class='features'><span class=\"lex xft\" ><span class=\"f\">lex=</span>W</span></div></div></div></div><div class=\"contnr c1  rtl  \" ><div class=\"lbl c1  \" ><span class=\"nd\">phrase</span></div><div class=\"children hor wrap rtl\"><div class=\"contnr c0 trm rtl  \" ><div class=\"lbl c0 trm \" ><a class=\" txtu hbo\" target=\"_blank\" href=\"https://shebanq.ancient-data.org/hebrew/word?version=2021&amp;id=1NTNv\" title=\"Show this on SHEBANQ\"><span class=\"txtu hbo\">יִֽתֶּן־</span></a></div><div class='features'><span class=\"lex xft\" ><span class=\"f\">lex=</span>NTN[</span></div></div></div></div><div class=\"contnr c1  rtl l hl\"  style=\"background-color: aqua;\" ><div class=\"lbl c1  hl\"  style=\"background-color: aqua;\" ><span class=\"nd\">phrase</span></div><div class=\"children hor wrap rtl\"><div class=\"contnr c0 trm rtl  hl\"  style=\"background-color: yellow;\" ><div class=\"lbl c0 trm hl\"  style=\"background-color: yellow;\" ><a class=\" txtu hbo\" target=\"_blank\" href=\"https://shebanq.ancient-data.org/hebrew/word?version=2021&amp;id=1L\" title=\"Show this on SHEBANQ\"><span class=\"txtu hbo\">לְךָ֙ </span></a></div><div class='features'><span class=\"lex xft\" ><span class=\"f\">lex=</span>L</span></div></div></div></div><div class=\"contnr c1  rtl  \" ><div class=\"lbl c1  \" ><span class=\"nd\">phrase</span></div><div class=\"children hor wrap rtl\"><div class=\"contnr c0 trm rtl  hl\"  style=\"background-color: magenta;\" ><div class=\"lbl c0 trm hl\"  style=\"background-color: magenta;\" ><a class=\" txtu hbo\" target=\"_blank\" href=\"https://shebanq.ancient-data.org/hebrew/word?version=2021&amp;id=1AT\" title=\"Show this on SHEBANQ\"><span class=\"txtu hbo\">אֶת־</span></a></div><div class='features'><span class=\"lex xft\" ><span class=\"f\">lex=</span>>T</span></div></div><div class=\"contnr c0 trm rtl  \" ><div class=\"lbl c0 trm \" ><a class=\" txtu hbo\" target=\"_blank\" href=\"https://shebanq.ancient-data.org/hebrew/word?version=2021&amp;id=1BRKHn\" title=\"Show this on SHEBANQ\"><span class=\"txtu hbo\">בִּרְכַּ֣ת </span></a></div><div class='features'><span class=\"lex xft\" ><span class=\"f\">lex=</span>BRKH/</span></div></div><div class=\"contnr c0 trm rtl  \" ><div class=\"lbl c0 trm \" ><a class=\" txtu hbo\" target=\"_blank\" href=\"https://shebanq.ancient-data.org/hebrew/word?version=2021&amp;id=1ABRHMn\" title=\"Show this on SHEBANQ\"><span class=\"txtu hbo\">אַבְרָהָ֔ם </span></a></div><div class='features'><span class=\"lex xft\" ><span class=\"f\">lex=</span>>BRHM/</span></div></div></div></div><div class=\"contnr c1  rtl r hl\"  style=\"background-color: aqua;\" ><div class=\"lbl c1  hl\"  style=\"background-color: aqua;\" ><span class=\"nd\">phrase</span></div><div class=\"children hor wrap rtl\"><div class=\"contnr c0 trm rtl  \" ><div class=\"lbl c0 trm \" ><a class=\" txtu hbo\" target=\"_blank\" href=\"https://shebanq.ancient-data.org/hebrew/word?version=2021&amp;id=1L\" title=\"Show this on SHEBANQ\"><span class=\"txtu hbo\">לְךָ֖ </span></a></div><div class='features'><span class=\"lex xft\" ><span class=\"f\">lex=</span>L</span></div></div><div class=\"contnr c0 trm rtl  \" ><div class=\"lbl c0 trm \" ><a class=\" txtu hbo\" target=\"_blank\" href=\"https://shebanq.ancient-data.org/hebrew/word?version=2021&amp;id=1W\" title=\"Show this on SHEBANQ\"><span class=\"txtu hbo\">וּ</span></a></div><div class='features'><span class=\"lex xft\" ><span class=\"f\">lex=</span>W</span></div></div><div class=\"contnr c0 trm rtl  \" ><div class=\"lbl c0 trm \" ><a class=\" txtu hbo\" target=\"_blank\" href=\"https://shebanq.ancient-data.org/hebrew/word?version=2021&amp;id=1L\" title=\"Show this on SHEBANQ\"><span class=\"txtu hbo\">לְ</span></a></div><div class='features'><span class=\"lex xft\" ><span class=\"f\">lex=</span>L</span></div></div><div class=\"contnr c0 trm rtl  \" ><div class=\"lbl c0 trm \" ><a class=\" txtu hbo\" target=\"_blank\" href=\"https://shebanq.ancient-data.org/hebrew/word?version=2021&amp;id=1ZROn\" title=\"Show this on SHEBANQ\"><span class=\"txtu hbo\">זַרְעֲךָ֣ </span></a></div><div class='features'><span class=\"lex xft\" ><span class=\"f\">lex=</span>ZR&lt;/</span></div></div><div class=\"contnr c0 trm rtl  hl\" ><div class=\"lbl c0 trm hl\" ><a class=\" txtu hbo\" target=\"_blank\" href=\"https://shebanq.ancient-data.org/hebrew/word?version=2021&amp;id=1ATii\" title=\"Show this on SHEBANQ\"><span class=\"txtu hbo\">אִתָּ֑ךְ </span></a></div><div class='features'><span class=\"lex xft\" ><span class=\"f\">lex=</span>>T==</span></div></div></div></div></div></div></div>"
      ],
      "text/plain": [
       "<IPython.core.display.HTML object>"
      ]
     },
     "metadata": {},
     "output_type": "display_data"
    },
    {
     "data": {
      "text/html": [
       "<p><b>result</b> <i>3</i></p>"
      ],
      "text/plain": [
       "<IPython.core.display.HTML object>"
      ]
     },
     "metadata": {},
     "output_type": "display_data"
    },
    {
     "data": {
      "text/html": [
       "<div class=\"tfsechead rtl\"><span class=\"ltr\"><a target=\"_blank\" href=\"https://shebanq.ancient-data.org/hebrew/text?book=Exodus&amp;chapter=30&amp;verse=21&amp;version=2021&amp;mr=m&amp;qw=q&amp;tp=txt_p&amp;tr=hb&amp;wget=v&amp;qget=v&amp;nget=vt\" title=\"Show this on SHEBANQ\" sec=\"Exodus 30:21\">Exodus 30:21</a></span></div><div class=\"rtl children\"><div class=\"contnr c2  rtl  \" ><div class=\"lbl c2  \" ><span class=\"nd\">clause</span></div><div class=\"children hor wrap rtl\"><div class=\"contnr c1  rtl  \" ><div class=\"lbl c1  \" ><span class=\"nd\">phrase</span></div><div class=\"children hor wrap rtl\"><div class=\"contnr c0 trm rtl  \" ><div class=\"lbl c0 trm \" ><a class=\" txtu hbo\" target=\"_blank\" href=\"https://shebanq.ancient-data.org/hebrew/word?version=2021&amp;id=1W\" title=\"Show this on SHEBANQ\"><span class=\"txtu hbo\">וְ</span></a></div><div class='features'><span class=\"lex xft\" ><span class=\"f\">lex=</span>W</span></div></div></div></div><div class=\"contnr c1  rtl  \" ><div class=\"lbl c1  \" ><span class=\"nd\">phrase</span></div><div class=\"children hor wrap rtl\"><div class=\"contnr c0 trm rtl  \" ><div class=\"lbl c0 trm \" ><a class=\" txtu hbo\" target=\"_blank\" href=\"https://shebanq.ancient-data.org/hebrew/word?version=2021&amp;id=1HJHv\" title=\"Show this on SHEBANQ\"><span class=\"txtu hbo\">הָיְתָ֨ה </span></a></div><div class='features'><span class=\"lex xft\" ><span class=\"f\">lex=</span>HJH[</span></div></div></div></div><div class=\"contnr c1  rtl l hl\"  style=\"background-color: aqua;\" ><div class=\"lbl c1  hl\"  style=\"background-color: aqua;\" ><span class=\"nd\">phrase</span></div><div class=\"children hor wrap rtl\"><div class=\"contnr c0 trm rtl  hl\"  style=\"background-color: yellow;\" ><div class=\"lbl c0 trm hl\"  style=\"background-color: yellow;\" ><a class=\" txtu hbo\" target=\"_blank\" href=\"https://shebanq.ancient-data.org/hebrew/word?version=2021&amp;id=1L\" title=\"Show this on SHEBANQ\"><span class=\"txtu hbo\">לָהֶ֧ם </span></a></div><div class='features'><span class=\"lex xft\" ><span class=\"f\">lex=</span>L</span></div></div></div></div><div class=\"contnr c1  rtl  \" ><div class=\"lbl c1  \" ><span class=\"nd\">phrase</span></div><div class=\"children hor wrap rtl\"><div class=\"contnr c0 trm rtl  hl\"  style=\"background-color: magenta;\" ><div class=\"lbl c0 trm hl\"  style=\"background-color: magenta;\" ><a class=\" txtu hbo\" target=\"_blank\" href=\"https://shebanq.ancient-data.org/hebrew/word?version=2021&amp;id=1XQn\" title=\"Show this on SHEBANQ\"><span class=\"txtu hbo\">חָק־</span></a></div><div class='features'><span class=\"lex xft\" ><span class=\"f\">lex=</span>XQ/</span></div></div><div class=\"contnr c0 trm rtl  \" ><div class=\"lbl c0 trm \" ><a class=\" txtu hbo\" target=\"_blank\" href=\"https://shebanq.ancient-data.org/hebrew/word?version=2021&amp;id=1OWLMn\" title=\"Show this on SHEBANQ\"><span class=\"txtu hbo\">עֹולָ֛ם </span></a></div><div class='features'><span class=\"lex xft\" ><span class=\"f\">lex=</span>&lt;WLM/</span></div></div></div></div><div class=\"contnr c1  rtl r hl\"  style=\"background-color: aqua;\" ><div class=\"lbl c1  hl\"  style=\"background-color: aqua;\" ><span class=\"nd\">phrase</span></div><div class=\"children hor wrap rtl\"><div class=\"contnr c0 trm rtl  \" ><div class=\"lbl c0 trm \" ><a class=\" txtu hbo\" target=\"_blank\" href=\"https://shebanq.ancient-data.org/hebrew/word?version=2021&amp;id=1L\" title=\"Show this on SHEBANQ\"><span class=\"txtu hbo\">לֹ֥ו </span></a></div><div class='features'><span class=\"lex xft\" ><span class=\"f\">lex=</span>L</span></div></div><div class=\"contnr c0 trm rtl  \" ><div class=\"lbl c0 trm \" ><a class=\" txtu hbo\" target=\"_blank\" href=\"https://shebanq.ancient-data.org/hebrew/word?version=2021&amp;id=1W\" title=\"Show this on SHEBANQ\"><span class=\"txtu hbo\">וּ</span></a></div><div class='features'><span class=\"lex xft\" ><span class=\"f\">lex=</span>W</span></div></div><div class=\"contnr c0 trm rtl  \" ><div class=\"lbl c0 trm \" ><a class=\" txtu hbo\" target=\"_blank\" href=\"https://shebanq.ancient-data.org/hebrew/word?version=2021&amp;id=1L\" title=\"Show this on SHEBANQ\"><span class=\"txtu hbo\">לְ</span></a></div><div class='features'><span class=\"lex xft\" ><span class=\"f\">lex=</span>L</span></div></div><div class=\"contnr c0 trm rtl  hl\" ><div class=\"lbl c0 trm hl\" ><a class=\" txtu hbo\" target=\"_blank\" href=\"https://shebanq.ancient-data.org/hebrew/word?version=2021&amp;id=1ZROn\" title=\"Show this on SHEBANQ\"><span class=\"txtu hbo\">זַרְעֹ֖ו </span></a></div><div class='features'><span class=\"lex xft\" ><span class=\"f\">lex=</span>ZR&lt;/</span></div></div></div></div><div class=\"contnr c1  rtl  \" ><div class=\"lbl c1  \" ><span class=\"nd\">phrase</span></div><div class=\"children hor wrap rtl\"><div class=\"contnr c0 trm rtl  \" ><div class=\"lbl c0 trm \" ><a class=\" txtu hbo\" target=\"_blank\" href=\"https://shebanq.ancient-data.org/hebrew/word?version=2021&amp;id=1L\" title=\"Show this on SHEBANQ\"><span class=\"txtu hbo\">לְ</span></a></div><div class='features'><span class=\"lex xft\" ><span class=\"f\">lex=</span>L</span></div></div><div class=\"contnr c0 trm rtl  \" ><div class=\"lbl c0 trm \" ><a class=\" txtu hbo\" target=\"_blank\" href=\"https://shebanq.ancient-data.org/hebrew/word?version=2021&amp;id=1DWRn\" title=\"Show this on SHEBANQ\"><span class=\"txtu hbo\">דֹרֹתָֽם׃ פ </span></a></div><div class='features'><span class=\"lex xft\" ><span class=\"f\">lex=</span>DWR/</span></div></div></div></div></div></div></div>"
      ],
      "text/plain": [
       "<IPython.core.display.HTML object>"
      ]
     },
     "metadata": {},
     "output_type": "display_data"
    }
   ],
   "source": [
    "A.show(results, end=3, condensed=False)"
   ]
  },
  {
   "cell_type": "code",
   "execution_count": 10,
   "metadata": {},
   "outputs": [],
   "source": [
    "A.displayReset()"
   ]
  },
  {
   "cell_type": "markdown",
   "metadata": {},
   "source": [
    "## All gapped phrases\n",
    "\n",
    "These were particular gaps.\n",
    "Now we want to get *all* gapped phrases.\n",
    "\n",
    "We can just lift the special requirement that\n",
    "the `preGapWord` has to satisfy a special lexical condition."
   ]
  },
  {
   "cell_type": "code",
   "execution_count": 11,
   "metadata": {
    "ExecuteTime": {
     "end_time": "2018-05-24T10:09:32.685437Z",
     "start_time": "2018-05-24T10:09:32.680670Z"
    }
   },
   "outputs": [],
   "source": [
    "query = \"\"\"\n",
    "p:phrase\n",
    "  wPreGap:word\n",
    "  wLast:word\n",
    "  :=\n",
    "\n",
    "wGap:word\n",
    "wPreGap <: wGap\n",
    "wGap < wLast\n",
    "\n",
    "p || wGap\n",
    "\"\"\""
   ]
  },
  {
   "cell_type": "code",
   "execution_count": 12,
   "metadata": {},
   "outputs": [
    {
     "name": "stdout",
     "output_type": "stream",
     "text": [
      "  2.17s 716 results\n"
     ]
    }
   ],
   "source": [
    "results = A.search(query)"
   ]
  },
  {
   "cell_type": "markdown",
   "metadata": {},
   "source": [
    "Not too bad! We could wait for it. Here are some results."
   ]
  },
  {
   "cell_type": "code",
   "execution_count": 13,
   "metadata": {},
   "outputs": [
    {
     "data": {
      "text/html": [
       "<table><tr class=\"tf rtl\"><th class=\"tf rtl\">n</th><th class=\"tf rtl\">p</th><th class=\"tf rtl\">phrase</th><th class=\"tf\">word</th><th class=\"tf\">word</th><th class=\"tf\">word</th></tr>\n",
       "<tr class=\"tf rtl\"><td class=\"tf rtl\">5</td><td class=\"tf rtl\"><span class=\"tfsechead rtl\"><span class=\"ltr\"><a target=\"_blank\" href=\"https://shebanq.ancient-data.org/hebrew/text?book=Genesis&amp;chapter=2&amp;verse=25&amp;version=2021&amp;mr=m&amp;qw=q&amp;tp=txt_p&amp;tr=hb&amp;wget=v&amp;qget=v&amp;nget=vt\" title=\"Show this on SHEBANQ\" sec=\"Genesis 2:25\">Genesis 2:25</a></span></span></td><td class=\"tf rtl\"><span class=\"rtl ubd\"><span class=\"plain rtl l hlbx\" ><span class=\"plain rtl  hl\" ><span class=\"txtu hbo\">שְׁנֵיהֶם֙ </span></span></span><span class=\"plain rtl r hlbx\" ><span class=\"txtu hbo\">הָֽ</span><span class=\"txtu hbo\">אָדָ֖ם </span><span class=\"txtu hbo\">וְ</span><span class=\"plain rtl  hl\" ><span class=\"txtu hbo\">אִשְׁתֹּ֑ו </span></span></span></span></td><td class=\"tf rtl\"><span class=\"rtl ubd\"><span class=\"plain rtl  hl\" ><span class=\"txtu hbo\">שְׁנֵיהֶם֙ </span></span></span></td><td class=\"tf rtl\"><span class=\"rtl ubd\"><span class=\"plain rtl  hl\" ><span class=\"txtu hbo\">אִשְׁתֹּ֑ו </span></span></span></td><td class=\"tf rtl\"><span class=\"rtl ubd\"><span class=\"plain rtl  hl\" ><span class=\"txtu hbo\">עֲרוּמִּ֔ים </span></span></span></td></tr>\n",
       "<tr class=\"tf rtl\"><td class=\"tf rtl\">6</td><td class=\"tf rtl\"><span class=\"tfsechead rtl\"><span class=\"ltr\"><a target=\"_blank\" href=\"https://shebanq.ancient-data.org/hebrew/text?book=Genesis&amp;chapter=4&amp;verse=4&amp;version=2021&amp;mr=m&amp;qw=q&amp;tp=txt_p&amp;tr=hb&amp;wget=v&amp;qget=v&amp;nget=vt\" title=\"Show this on SHEBANQ\" sec=\"Genesis 4:4\">Genesis 4:4</a></span></span></td><td class=\"tf rtl\"><span class=\"rtl ubd\"><span class=\"plain rtl l hlbx\" ><span class=\"plain rtl  hl\" ><span class=\"txtu hbo\">הֶ֨בֶל </span></span></span><span class=\"plain rtl r hlbx\" ><span class=\"txtu hbo\">גַם־</span><span class=\"plain rtl  hl\" ><span class=\"txtu hbo\">ה֛וּא </span></span></span></span></td><td class=\"tf rtl\"><span class=\"rtl ubd\"><span class=\"plain rtl  hl\" ><span class=\"txtu hbo\">הֶ֨בֶל </span></span></span></td><td class=\"tf rtl\"><span class=\"rtl ubd\"><span class=\"plain rtl  hl\" ><span class=\"txtu hbo\">ה֛וּא </span></span></span></td><td class=\"tf rtl\"><span class=\"rtl ubd\"><span class=\"plain rtl  hl\" ><span class=\"txtu hbo\">הֵבִ֥יא </span></span></span></td></tr>\n",
       "<tr class=\"tf rtl\"><td class=\"tf rtl\">7</td><td class=\"tf rtl\"><span class=\"tfsechead rtl\"><span class=\"ltr\"><a target=\"_blank\" href=\"https://shebanq.ancient-data.org/hebrew/text?book=Genesis&amp;chapter=7&amp;verse=8&amp;version=2021&amp;mr=m&amp;qw=q&amp;tp=txt_p&amp;tr=hb&amp;wget=v&amp;qget=v&amp;nget=vt\" title=\"Show this on SHEBANQ\" sec=\"Genesis 7:8\">Genesis 7:8</a></span></span></td><td class=\"tf rtl\"><span class=\"rtl ubd\"><span class=\"plain rtl l hlbx\" ><span class=\"txtu hbo\">מִן־</span><span class=\"txtu hbo\">הַ</span><span class=\"txtu hbo\">בְּהֵמָה֙ </span><span class=\"txtu hbo\">הַ</span><span class=\"txtu hbo\">טְּהֹורָ֔ה </span><span class=\"txtu hbo\">וּ</span><span class=\"txtu hbo\">מִן־</span><span class=\"txtu hbo\">הַ֨</span><span class=\"plain rtl  hl\" ><span class=\"txtu hbo\">בְּהֵמָ֔ה </span></span></span><span class=\"plain rtl r hlbx\" ><span class=\"txtu hbo\">וּ</span><span class=\"txtu hbo\">מִ֨ן־</span><span class=\"txtu hbo\">הָ</span><span class=\"txtu hbo\">עֹ֔וף </span><span class=\"txtu hbo\">וְ</span><span class=\"plain rtl  hl\" ><span class=\"txtu hbo\">כֹ֥ל </span></span></span></span></td><td class=\"tf rtl\"><span class=\"rtl ubd\"><span class=\"plain rtl  hl\" ><span class=\"txtu hbo\">בְּהֵמָ֔ה </span></span></span></td><td class=\"tf rtl\"><span class=\"rtl ubd\"><span class=\"plain rtl  hl\" ><span class=\"txtu hbo\">כֹ֥ל </span></span></span></td><td class=\"tf rtl\"><span class=\"rtl ubd\"><span class=\"plain rtl  hl\" ><span class=\"txtu hbo\">אֲשֶׁ֥ר </span></span></span></td></tr>\n",
       "<tr class=\"tf rtl\"><td class=\"tf rtl\">8</td><td class=\"tf rtl\"><span class=\"tfsechead rtl\"><span class=\"ltr\"><a target=\"_blank\" href=\"https://shebanq.ancient-data.org/hebrew/text?book=Genesis&amp;chapter=7&amp;verse=14&amp;version=2021&amp;mr=m&amp;qw=q&amp;tp=txt_p&amp;tr=hb&amp;wget=v&amp;qget=v&amp;nget=vt\" title=\"Show this on SHEBANQ\" sec=\"Genesis 7:14\">Genesis 7:14</a></span></span></td><td class=\"tf rtl\"><span class=\"rtl ubd\"><span class=\"plain rtl l hlbx\" ><span class=\"txtu hbo\">הֵ֜מָּה </span><span class=\"txtu hbo\">וְ</span><span class=\"txtu hbo\">כָל־</span><span class=\"txtu hbo\">הַֽ</span><span class=\"txtu hbo\">חַיָּ֣ה </span><span class=\"txtu hbo\">לְ</span><span class=\"txtu hbo\">מִינָ֗הּ </span><span class=\"txtu hbo\">וְ</span><span class=\"txtu hbo\">כָל־</span><span class=\"txtu hbo\">הַ</span><span class=\"txtu hbo\">בְּהֵמָה֙ </span><span class=\"txtu hbo\">לְ</span><span class=\"txtu hbo\">מִינָ֔הּ </span><span class=\"txtu hbo\">וְ</span><span class=\"txtu hbo\">כָל־</span><span class=\"txtu hbo\">הָ</span><span class=\"plain rtl  hl\" ><span class=\"txtu hbo\">רֶ֛מֶשׂ </span></span></span><span class=\"plain rtl r hlbx\" ><span class=\"txtu hbo\">לְ</span><span class=\"txtu hbo\">מִינֵ֑הוּ </span><span class=\"txtu hbo\">וְ</span><span class=\"txtu hbo\">כָל־</span><span class=\"txtu hbo\">הָ</span><span class=\"txtu hbo\">עֹ֣וף </span><span class=\"txtu hbo\">לְ</span><span class=\"txtu hbo\">מִינֵ֔הוּ </span><span class=\"txtu hbo\">כֹּ֖ל </span><span class=\"txtu hbo\">צִפֹּ֥ור </span><span class=\"txtu hbo\">כָּל־</span><span class=\"plain rtl  hl\" ><span class=\"txtu hbo\">כָּנָֽף׃ </span></span></span></span></td><td class=\"tf rtl\"><span class=\"rtl ubd\"><span class=\"plain rtl  hl\" ><span class=\"txtu hbo\">רֶ֛מֶשׂ </span></span></span></td><td class=\"tf rtl\"><span class=\"rtl ubd\"><span class=\"plain rtl  hl\" ><span class=\"txtu hbo\">כָּנָֽף׃ </span></span></span></td><td class=\"tf rtl\"><span class=\"rtl ubd\"><span class=\"plain rtl  hl\" ><span class=\"txtu hbo\">הָ</span></span></span></td></tr>\n",
       "<tr class=\"tf rtl\"><td class=\"tf rtl\">9</td><td class=\"tf rtl\"><span class=\"tfsechead rtl\"><span class=\"ltr\"><a target=\"_blank\" href=\"https://shebanq.ancient-data.org/hebrew/text?book=Genesis&amp;chapter=7&amp;verse=21&amp;version=2021&amp;mr=m&amp;qw=q&amp;tp=txt_p&amp;tr=hb&amp;wget=v&amp;qget=v&amp;nget=vt\" title=\"Show this on SHEBANQ\" sec=\"Genesis 7:21\">Genesis 7:21</a></span></span></td><td class=\"tf rtl\"><span class=\"rtl ubd\"><span class=\"plain rtl l hlbx\" ><span class=\"txtu hbo\">כָּל־</span><span class=\"plain rtl  hl\" ><span class=\"txtu hbo\">בָּשָׂ֣ר׀ </span></span></span><span class=\"plain rtl r l hlbx\" ><span class=\"txtu hbo\">בָּ</span><span class=\"txtu hbo\">עֹ֤וף </span><span class=\"txtu hbo\">וּ</span><span class=\"txtu hbo\">בַ</span><span class=\"txtu hbo\">בְּהֵמָה֙ </span><span class=\"txtu hbo\">וּ</span><span class=\"txtu hbo\">בַ֣</span><span class=\"txtu hbo\">חַיָּ֔ה </span><span class=\"txtu hbo\">וּ</span><span class=\"txtu hbo\">בְ</span><span class=\"txtu hbo\">כָל־</span><span class=\"txtu hbo\">הַ</span><span class=\"txtu hbo\">שֶּׁ֖רֶץ </span></span><span class=\"plain rtl r hlbx\" ><span class=\"txtu hbo\">וְ</span><span class=\"txtu hbo\">כֹ֖ל </span><span class=\"txtu hbo\">הָ</span><span class=\"plain rtl  hl\" ><span class=\"txtu hbo\">אָדָֽם׃ </span></span></span></span></td><td class=\"tf rtl\"><span class=\"rtl ubd\"><span class=\"plain rtl  hl\" ><span class=\"txtu hbo\">בָּשָׂ֣ר׀ </span></span></span></td><td class=\"tf rtl\"><span class=\"rtl ubd\"><span class=\"plain rtl  hl\" ><span class=\"txtu hbo\">אָדָֽם׃ </span></span></span></td><td class=\"tf rtl\"><span class=\"rtl ubd\"><span class=\"plain rtl  hl\" ><span class=\"txtu hbo\">הָ</span></span></span></td></tr>\n",
       "<tr class=\"tf rtl\"><td class=\"tf rtl\">10</td><td class=\"tf rtl\"><span class=\"tfsechead rtl\"><span class=\"ltr\"><a target=\"_blank\" href=\"https://shebanq.ancient-data.org/hebrew/text?book=Genesis&amp;chapter=7&amp;verse=21&amp;version=2021&amp;mr=m&amp;qw=q&amp;tp=txt_p&amp;tr=hb&amp;wget=v&amp;qget=v&amp;nget=vt\" title=\"Show this on SHEBANQ\" sec=\"Genesis 7:21\">Genesis 7:21</a></span></span></td><td class=\"tf rtl\"><span class=\"rtl ubd\"><span class=\"plain rtl l hlbx\" ><span class=\"txtu hbo\">כָּל־</span><span class=\"txtu hbo\">בָּשָׂ֣ר׀ </span></span><span class=\"plain rtl r l hlbx\" ><span class=\"txtu hbo\">בָּ</span><span class=\"txtu hbo\">עֹ֤וף </span><span class=\"txtu hbo\">וּ</span><span class=\"txtu hbo\">בַ</span><span class=\"txtu hbo\">בְּהֵמָה֙ </span><span class=\"txtu hbo\">וּ</span><span class=\"txtu hbo\">בַ֣</span><span class=\"txtu hbo\">חַיָּ֔ה </span><span class=\"txtu hbo\">וּ</span><span class=\"txtu hbo\">בְ</span><span class=\"txtu hbo\">כָל־</span><span class=\"txtu hbo\">הַ</span><span class=\"plain rtl  hl\" ><span class=\"txtu hbo\">שֶּׁ֖רֶץ </span></span></span><span class=\"plain rtl r hlbx\" ><span class=\"txtu hbo\">וְ</span><span class=\"txtu hbo\">כֹ֖ל </span><span class=\"txtu hbo\">הָ</span><span class=\"plain rtl  hl\" ><span class=\"txtu hbo\">אָדָֽם׃ </span></span></span></span></td><td class=\"tf rtl\"><span class=\"rtl ubd\"><span class=\"plain rtl  hl\" ><span class=\"txtu hbo\">שֶּׁ֖רֶץ </span></span></span></td><td class=\"tf rtl\"><span class=\"rtl ubd\"><span class=\"plain rtl  hl\" ><span class=\"txtu hbo\">אָדָֽם׃ </span></span></span></td><td class=\"tf rtl\"><span class=\"rtl ubd\"><span class=\"plain rtl  hl\" ><span class=\"txtu hbo\">הַ</span></span></span></td></tr></table>"
      ],
      "text/plain": [
       "<IPython.core.display.HTML object>"
      ]
     },
     "metadata": {},
     "output_type": "display_data"
    }
   ],
   "source": [
    "A.table(results, start=5, end=10)"
   ]
  },
  {
   "cell_type": "markdown",
   "metadata": {},
   "source": [
    "If a phrase has multiple gaps, we encounter it multiple times in our results.\n",
    "\n",
    "We show the two results in Genesis 7:21."
   ]
  },
  {
   "cell_type": "code",
   "execution_count": 14,
   "metadata": {},
   "outputs": [
    {
     "data": {
      "text/html": [
       "<p><b>result</b> <i>9</i></p>"
      ],
      "text/plain": [
       "<IPython.core.display.HTML object>"
      ]
     },
     "metadata": {},
     "output_type": "display_data"
    },
    {
     "data": {
      "text/html": [
       "<div class=\"tfsechead rtl\"><span class=\"ltr\"><a target=\"_blank\" href=\"https://shebanq.ancient-data.org/hebrew/text?book=Genesis&amp;chapter=7&amp;verse=21&amp;version=2021&amp;mr=m&amp;qw=q&amp;tp=txt_p&amp;tr=hb&amp;wget=v&amp;qget=v&amp;nget=vt\" title=\"Show this on SHEBANQ\" sec=\"Genesis 7:21\">Genesis 7:21</a></span></div><div class=\"rtl children\"><div class=\"contnr c2  rtl l \" ><div class=\"lbl c2  \" ><span class=\"nd\">clause</span></div><div class=\"children hor wrap rtl\"><div class=\"contnr c1  rtl  \" ><div class=\"lbl c1  \" ><span class=\"nd\">phrase</span></div><div class=\"children hor wrap rtl\"><div class=\"contnr c0 trm rtl  \" ><div class=\"lbl c0 trm \" ><a class=\" txtu hbo\" target=\"_blank\" href=\"https://shebanq.ancient-data.org/hebrew/word?version=2021&amp;id=1W\" title=\"Show this on SHEBANQ\"><span class=\"txtu hbo\">וַ</span></a></div></div></div></div><div class=\"contnr c1  rtl  \" ><div class=\"lbl c1  \" ><span class=\"nd\">phrase</span></div><div class=\"children hor wrap rtl\"><div class=\"contnr c0 trm rtl  \" ><div class=\"lbl c0 trm \" ><a class=\" txtu hbo\" target=\"_blank\" href=\"https://shebanq.ancient-data.org/hebrew/word?version=2021&amp;id=1GWOv\" title=\"Show this on SHEBANQ\"><span class=\"txtu hbo\">יִּגְוַ֞ע </span></a></div></div></div></div><div class=\"contnr c1  rtl l hl\"  style=\"background-color: lightgreen;\" ><div class=\"lbl c1  hl\"  style=\"background-color: lightgreen;\" ><span class=\"nd\">phrase</span></div><div class=\"children hor wrap rtl\"><div class=\"contnr c0 trm rtl  \" ><div class=\"lbl c0 trm \" ><a class=\" txtu hbo\" target=\"_blank\" href=\"https://shebanq.ancient-data.org/hebrew/word?version=2021&amp;id=1KLn\" title=\"Show this on SHEBANQ\"><span class=\"txtu hbo\">כָּל־</span></a></div></div><div class=\"contnr c0 trm rtl  hl\"  style=\"background-color: orange;\" ><div class=\"lbl c0 trm hl\"  style=\"background-color: orange;\" ><a class=\" txtu hbo\" target=\"_blank\" href=\"https://shebanq.ancient-data.org/hebrew/word?version=2021&amp;id=1BFRn\" title=\"Show this on SHEBANQ\"><span class=\"txtu hbo\">בָּשָׂ֣ר׀ </span></a></div></div></div></div></div></div><div class=\"contnr c2  rtl r l \" ><div class=\"lbl c2  \" ><span class=\"nd\">clause</span></div><div class=\"children hor wrap rtl\"><div class=\"contnr c1  rtl r l hl\"  style=\"background-color: lightgreen;\" ><div class=\"lbl c1  hl\"  style=\"background-color: lightgreen;\" ><span class=\"nd\">phrase</span></div><div class=\"children hor wrap rtl\"><div class=\"contnr c0 trm rtl  \" ><div class=\"lbl c0 trm \" ><a class=\" txtu hbo\" target=\"_blank\" href=\"https://shebanq.ancient-data.org/hebrew/word?version=2021&amp;id=1B\" title=\"Show this on SHEBANQ\"><span class=\"txtu hbo\">בָּ</span></a></div></div><div class=\"contnr c0 trm rtl  \" ><div class=\"lbl c0 trm \" ><a class=\" txtu hbo\" target=\"_blank\" href=\"https://shebanq.ancient-data.org/hebrew/word?version=2021&amp;id=1H\" title=\"Show this on SHEBANQ\"></a></div></div><div class=\"contnr c0 trm rtl  \" ><div class=\"lbl c0 trm \" ><a class=\" txtu hbo\" target=\"_blank\" href=\"https://shebanq.ancient-data.org/hebrew/word?version=2021&amp;id=1OWPn\" title=\"Show this on SHEBANQ\"><span class=\"txtu hbo\">עֹ֤וף </span></a></div></div><div class=\"contnr c0 trm rtl  \" ><div class=\"lbl c0 trm \" ><a class=\" txtu hbo\" target=\"_blank\" href=\"https://shebanq.ancient-data.org/hebrew/word?version=2021&amp;id=1W\" title=\"Show this on SHEBANQ\"><span class=\"txtu hbo\">וּ</span></a></div></div><div class=\"contnr c0 trm rtl  \" ><div class=\"lbl c0 trm \" ><a class=\" txtu hbo\" target=\"_blank\" href=\"https://shebanq.ancient-data.org/hebrew/word?version=2021&amp;id=1B\" title=\"Show this on SHEBANQ\"><span class=\"txtu hbo\">בַ</span></a></div></div><div class=\"contnr c0 trm rtl  \" ><div class=\"lbl c0 trm \" ><a class=\" txtu hbo\" target=\"_blank\" href=\"https://shebanq.ancient-data.org/hebrew/word?version=2021&amp;id=1H\" title=\"Show this on SHEBANQ\"></a></div></div><div class=\"contnr c0 trm rtl  \" ><div class=\"lbl c0 trm \" ><a class=\" txtu hbo\" target=\"_blank\" href=\"https://shebanq.ancient-data.org/hebrew/word?version=2021&amp;id=1BHMHn\" title=\"Show this on SHEBANQ\"><span class=\"txtu hbo\">בְּהֵמָה֙ </span></a></div></div><div class=\"contnr c0 trm rtl  \" ><div class=\"lbl c0 trm \" ><a class=\" txtu hbo\" target=\"_blank\" href=\"https://shebanq.ancient-data.org/hebrew/word?version=2021&amp;id=1W\" title=\"Show this on SHEBANQ\"><span class=\"txtu hbo\">וּ</span></a></div></div><div class=\"contnr c0 trm rtl  \" ><div class=\"lbl c0 trm \" ><a class=\" txtu hbo\" target=\"_blank\" href=\"https://shebanq.ancient-data.org/hebrew/word?version=2021&amp;id=1B\" title=\"Show this on SHEBANQ\"><span class=\"txtu hbo\">בַ֣</span></a></div></div><div class=\"contnr c0 trm rtl  \" ><div class=\"lbl c0 trm \" ><a class=\" txtu hbo\" target=\"_blank\" href=\"https://shebanq.ancient-data.org/hebrew/word?version=2021&amp;id=1H\" title=\"Show this on SHEBANQ\"></a></div></div><div class=\"contnr c0 trm rtl  \" ><div class=\"lbl c0 trm \" ><a class=\" txtu hbo\" target=\"_blank\" href=\"https://shebanq.ancient-data.org/hebrew/word?version=2021&amp;id=1XJHn\" title=\"Show this on SHEBANQ\"><span class=\"txtu hbo\">חַיָּ֔ה </span></a></div></div><div class=\"contnr c0 trm rtl  \" ><div class=\"lbl c0 trm \" ><a class=\" txtu hbo\" target=\"_blank\" href=\"https://shebanq.ancient-data.org/hebrew/word?version=2021&amp;id=1W\" title=\"Show this on SHEBANQ\"><span class=\"txtu hbo\">וּ</span></a></div></div><div class=\"contnr c0 trm rtl  \" ><div class=\"lbl c0 trm \" ><a class=\" txtu hbo\" target=\"_blank\" href=\"https://shebanq.ancient-data.org/hebrew/word?version=2021&amp;id=1B\" title=\"Show this on SHEBANQ\"><span class=\"txtu hbo\">בְ</span></a></div></div><div class=\"contnr c0 trm rtl  \" ><div class=\"lbl c0 trm \" ><a class=\" txtu hbo\" target=\"_blank\" href=\"https://shebanq.ancient-data.org/hebrew/word?version=2021&amp;id=1KLn\" title=\"Show this on SHEBANQ\"><span class=\"txtu hbo\">כָל־</span></a></div></div><div class=\"contnr c0 trm rtl  \" ><div class=\"lbl c0 trm \" ><a class=\" txtu hbo\" target=\"_blank\" href=\"https://shebanq.ancient-data.org/hebrew/word?version=2021&amp;id=1H\" title=\"Show this on SHEBANQ\"><span class=\"txtu hbo\">הַ</span></a></div></div><div class=\"contnr c0 trm rtl  \" ><div class=\"lbl c0 trm \" ><a class=\" txtu hbo\" target=\"_blank\" href=\"https://shebanq.ancient-data.org/hebrew/word?version=2021&amp;id=1CRYn\" title=\"Show this on SHEBANQ\"><span class=\"txtu hbo\">שֶּׁ֖רֶץ </span></a></div></div></div></div></div></div><div class=\"contnr c2  rtl r \" ><div class=\"lbl c2  \" ><span class=\"nd\">clause</span></div><div class=\"children hor wrap rtl\"><div class=\"contnr c1  rtl r hl\"  style=\"background-color: lightgreen;\" ><div class=\"lbl c1  hl\"  style=\"background-color: lightgreen;\" ><span class=\"nd\">phrase</span></div><div class=\"children hor wrap rtl\"><div class=\"contnr c0 trm rtl  \" ><div class=\"lbl c0 trm \" ><a class=\" txtu hbo\" target=\"_blank\" href=\"https://shebanq.ancient-data.org/hebrew/word?version=2021&amp;id=1W\" title=\"Show this on SHEBANQ\"><span class=\"txtu hbo\">וְ</span></a></div></div><div class=\"contnr c0 trm rtl  \" ><div class=\"lbl c0 trm \" ><a class=\" txtu hbo\" target=\"_blank\" href=\"https://shebanq.ancient-data.org/hebrew/word?version=2021&amp;id=1KLn\" title=\"Show this on SHEBANQ\"><span class=\"txtu hbo\">כֹ֖ל </span></a></div></div><div class=\"contnr c0 trm rtl  \" ><div class=\"lbl c0 trm \" ><a class=\" txtu hbo\" target=\"_blank\" href=\"https://shebanq.ancient-data.org/hebrew/word?version=2021&amp;id=1H\" title=\"Show this on SHEBANQ\"><span class=\"txtu hbo\">הָ</span></a></div></div><div class=\"contnr c0 trm rtl  hl\" ><div class=\"lbl c0 trm hl\" ><a class=\" txtu hbo\" target=\"_blank\" href=\"https://shebanq.ancient-data.org/hebrew/word?version=2021&amp;id=1ADMn\" title=\"Show this on SHEBANQ\"><span class=\"txtu hbo\">אָדָֽם׃ </span></a></div></div></div></div></div></div></div>"
      ],
      "text/plain": [
       "<IPython.core.display.HTML object>"
      ]
     },
     "metadata": {},
     "output_type": "display_data"
    },
    {
     "data": {
      "text/html": [
       "<div class=\"tfsechead rtl\"><span class=\"ltr\"><a target=\"_blank\" href=\"https://shebanq.ancient-data.org/hebrew/text?book=Genesis&amp;chapter=7&amp;verse=21&amp;version=2021&amp;mr=m&amp;qw=q&amp;tp=txt_p&amp;tr=hb&amp;wget=v&amp;qget=v&amp;nget=vt\" title=\"Show this on SHEBANQ\" sec=\"Genesis 7:21\">Genesis 7:21</a></span></div><div class=\"rtl children\"><div class=\"contnr c2  rtl  \" ><div class=\"lbl c2  \" ><span class=\"nd\">clause</span></div><div class=\"children hor wrap rtl\"><div class=\"contnr c1  rtl  \" ><div class=\"lbl c1  \" ><span class=\"nd\">phrase</span></div><div class=\"children hor wrap rtl\"><div class=\"contnr c0 trm rtl  hl\"  style=\"background-color: magenta;\" ><div class=\"lbl c0 trm hl\"  style=\"background-color: magenta;\" ><a class=\" txtu hbo\" target=\"_blank\" href=\"https://shebanq.ancient-data.org/hebrew/word?version=2021&amp;id=1H\" title=\"Show this on SHEBANQ\"><span class=\"txtu hbo\">הָ</span></a></div></div></div></div><div class=\"contnr c1  rtl  \" ><div class=\"lbl c1  \" ><span class=\"nd\">phrase</span></div><div class=\"children hor wrap rtl\"><div class=\"contnr c0 trm rtl  \" ><div class=\"lbl c0 trm \" ><a class=\" txtu hbo\" target=\"_blank\" href=\"https://shebanq.ancient-data.org/hebrew/word?version=2021&amp;id=1RMFv\" title=\"Show this on SHEBANQ\"><span class=\"txtu hbo\">רֹמֵ֣שׂ </span></a></div></div></div></div><div class=\"contnr c1  rtl  \" ><div class=\"lbl c1  \" ><span class=\"nd\">phrase</span></div><div class=\"children hor wrap rtl\"><div class=\"contnr c0 trm rtl  \" ><div class=\"lbl c0 trm \" ><a class=\" txtu hbo\" target=\"_blank\" href=\"https://shebanq.ancient-data.org/hebrew/word?version=2021&amp;id=1OL\" title=\"Show this on SHEBANQ\"><span class=\"txtu hbo\">עַל־</span></a></div></div><div class=\"contnr c0 trm rtl  \" ><div class=\"lbl c0 trm \" ><a class=\" txtu hbo\" target=\"_blank\" href=\"https://shebanq.ancient-data.org/hebrew/word?version=2021&amp;id=1H\" title=\"Show this on SHEBANQ\"><span class=\"txtu hbo\">הָ</span></a></div></div><div class=\"contnr c0 trm rtl  \" ><div class=\"lbl c0 trm \" ><a class=\" txtu hbo\" target=\"_blank\" href=\"https://shebanq.ancient-data.org/hebrew/word?version=2021&amp;id=1ARYn\" title=\"Show this on SHEBANQ\"><span class=\"txtu hbo\">אָ֗רֶץ </span></a></div></div></div></div></div></div></div>"
      ],
      "text/plain": [
       "<IPython.core.display.HTML object>"
      ]
     },
     "metadata": {},
     "output_type": "display_data"
    },
    {
     "data": {
      "text/html": [
       "<p><b>result</b> <i>10</i></p>"
      ],
      "text/plain": [
       "<IPython.core.display.HTML object>"
      ]
     },
     "metadata": {},
     "output_type": "display_data"
    },
    {
     "data": {
      "text/html": [
       "<div class=\"tfsechead rtl\"><span class=\"ltr\"><a target=\"_blank\" href=\"https://shebanq.ancient-data.org/hebrew/text?book=Genesis&amp;chapter=7&amp;verse=21&amp;version=2021&amp;mr=m&amp;qw=q&amp;tp=txt_p&amp;tr=hb&amp;wget=v&amp;qget=v&amp;nget=vt\" title=\"Show this on SHEBANQ\" sec=\"Genesis 7:21\">Genesis 7:21</a></span></div><div class=\"rtl children\"><div class=\"contnr c2  rtl l \" ><div class=\"lbl c2  \" ><span class=\"nd\">clause</span></div><div class=\"children hor wrap rtl\"><div class=\"contnr c1  rtl  \" ><div class=\"lbl c1  \" ><span class=\"nd\">phrase</span></div><div class=\"children hor wrap rtl\"><div class=\"contnr c0 trm rtl  \" ><div class=\"lbl c0 trm \" ><a class=\" txtu hbo\" target=\"_blank\" href=\"https://shebanq.ancient-data.org/hebrew/word?version=2021&amp;id=1W\" title=\"Show this on SHEBANQ\"><span class=\"txtu hbo\">וַ</span></a></div></div></div></div><div class=\"contnr c1  rtl  \" ><div class=\"lbl c1  \" ><span class=\"nd\">phrase</span></div><div class=\"children hor wrap rtl\"><div class=\"contnr c0 trm rtl  \" ><div class=\"lbl c0 trm \" ><a class=\" txtu hbo\" target=\"_blank\" href=\"https://shebanq.ancient-data.org/hebrew/word?version=2021&amp;id=1GWOv\" title=\"Show this on SHEBANQ\"><span class=\"txtu hbo\">יִּגְוַ֞ע </span></a></div></div></div></div><div class=\"contnr c1  rtl l hl\"  style=\"background-color: lightgreen;\" ><div class=\"lbl c1  hl\"  style=\"background-color: lightgreen;\" ><span class=\"nd\">phrase</span></div><div class=\"children hor wrap rtl\"><div class=\"contnr c0 trm rtl  \" ><div class=\"lbl c0 trm \" ><a class=\" txtu hbo\" target=\"_blank\" href=\"https://shebanq.ancient-data.org/hebrew/word?version=2021&amp;id=1KLn\" title=\"Show this on SHEBANQ\"><span class=\"txtu hbo\">כָּל־</span></a></div></div><div class=\"contnr c0 trm rtl  \" ><div class=\"lbl c0 trm \" ><a class=\" txtu hbo\" target=\"_blank\" href=\"https://shebanq.ancient-data.org/hebrew/word?version=2021&amp;id=1BFRn\" title=\"Show this on SHEBANQ\"><span class=\"txtu hbo\">בָּשָׂ֣ר׀ </span></a></div></div></div></div></div></div><div class=\"contnr c2  rtl r l \" ><div class=\"lbl c2  \" ><span class=\"nd\">clause</span></div><div class=\"children hor wrap rtl\"><div class=\"contnr c1  rtl r l hl\"  style=\"background-color: lightgreen;\" ><div class=\"lbl c1  hl\"  style=\"background-color: lightgreen;\" ><span class=\"nd\">phrase</span></div><div class=\"children hor wrap rtl\"><div class=\"contnr c0 trm rtl  \" ><div class=\"lbl c0 trm \" ><a class=\" txtu hbo\" target=\"_blank\" href=\"https://shebanq.ancient-data.org/hebrew/word?version=2021&amp;id=1B\" title=\"Show this on SHEBANQ\"><span class=\"txtu hbo\">בָּ</span></a></div></div><div class=\"contnr c0 trm rtl  \" ><div class=\"lbl c0 trm \" ><a class=\" txtu hbo\" target=\"_blank\" href=\"https://shebanq.ancient-data.org/hebrew/word?version=2021&amp;id=1H\" title=\"Show this on SHEBANQ\"></a></div></div><div class=\"contnr c0 trm rtl  \" ><div class=\"lbl c0 trm \" ><a class=\" txtu hbo\" target=\"_blank\" href=\"https://shebanq.ancient-data.org/hebrew/word?version=2021&amp;id=1OWPn\" title=\"Show this on SHEBANQ\"><span class=\"txtu hbo\">עֹ֤וף </span></a></div></div><div class=\"contnr c0 trm rtl  \" ><div class=\"lbl c0 trm \" ><a class=\" txtu hbo\" target=\"_blank\" href=\"https://shebanq.ancient-data.org/hebrew/word?version=2021&amp;id=1W\" title=\"Show this on SHEBANQ\"><span class=\"txtu hbo\">וּ</span></a></div></div><div class=\"contnr c0 trm rtl  \" ><div class=\"lbl c0 trm \" ><a class=\" txtu hbo\" target=\"_blank\" href=\"https://shebanq.ancient-data.org/hebrew/word?version=2021&amp;id=1B\" title=\"Show this on SHEBANQ\"><span class=\"txtu hbo\">בַ</span></a></div></div><div class=\"contnr c0 trm rtl  \" ><div class=\"lbl c0 trm \" ><a class=\" txtu hbo\" target=\"_blank\" href=\"https://shebanq.ancient-data.org/hebrew/word?version=2021&amp;id=1H\" title=\"Show this on SHEBANQ\"></a></div></div><div class=\"contnr c0 trm rtl  \" ><div class=\"lbl c0 trm \" ><a class=\" txtu hbo\" target=\"_blank\" href=\"https://shebanq.ancient-data.org/hebrew/word?version=2021&amp;id=1BHMHn\" title=\"Show this on SHEBANQ\"><span class=\"txtu hbo\">בְּהֵמָה֙ </span></a></div></div><div class=\"contnr c0 trm rtl  \" ><div class=\"lbl c0 trm \" ><a class=\" txtu hbo\" target=\"_blank\" href=\"https://shebanq.ancient-data.org/hebrew/word?version=2021&amp;id=1W\" title=\"Show this on SHEBANQ\"><span class=\"txtu hbo\">וּ</span></a></div></div><div class=\"contnr c0 trm rtl  \" ><div class=\"lbl c0 trm \" ><a class=\" txtu hbo\" target=\"_blank\" href=\"https://shebanq.ancient-data.org/hebrew/word?version=2021&amp;id=1B\" title=\"Show this on SHEBANQ\"><span class=\"txtu hbo\">בַ֣</span></a></div></div><div class=\"contnr c0 trm rtl  \" ><div class=\"lbl c0 trm \" ><a class=\" txtu hbo\" target=\"_blank\" href=\"https://shebanq.ancient-data.org/hebrew/word?version=2021&amp;id=1H\" title=\"Show this on SHEBANQ\"></a></div></div><div class=\"contnr c0 trm rtl  \" ><div class=\"lbl c0 trm \" ><a class=\" txtu hbo\" target=\"_blank\" href=\"https://shebanq.ancient-data.org/hebrew/word?version=2021&amp;id=1XJHn\" title=\"Show this on SHEBANQ\"><span class=\"txtu hbo\">חַיָּ֔ה </span></a></div></div><div class=\"contnr c0 trm rtl  \" ><div class=\"lbl c0 trm \" ><a class=\" txtu hbo\" target=\"_blank\" href=\"https://shebanq.ancient-data.org/hebrew/word?version=2021&amp;id=1W\" title=\"Show this on SHEBANQ\"><span class=\"txtu hbo\">וּ</span></a></div></div><div class=\"contnr c0 trm rtl  \" ><div class=\"lbl c0 trm \" ><a class=\" txtu hbo\" target=\"_blank\" href=\"https://shebanq.ancient-data.org/hebrew/word?version=2021&amp;id=1B\" title=\"Show this on SHEBANQ\"><span class=\"txtu hbo\">בְ</span></a></div></div><div class=\"contnr c0 trm rtl  \" ><div class=\"lbl c0 trm \" ><a class=\" txtu hbo\" target=\"_blank\" href=\"https://shebanq.ancient-data.org/hebrew/word?version=2021&amp;id=1KLn\" title=\"Show this on SHEBANQ\"><span class=\"txtu hbo\">כָל־</span></a></div></div><div class=\"contnr c0 trm rtl  \" ><div class=\"lbl c0 trm \" ><a class=\" txtu hbo\" target=\"_blank\" href=\"https://shebanq.ancient-data.org/hebrew/word?version=2021&amp;id=1H\" title=\"Show this on SHEBANQ\"><span class=\"txtu hbo\">הַ</span></a></div></div><div class=\"contnr c0 trm rtl  hl\"  style=\"background-color: orange;\" ><div class=\"lbl c0 trm hl\"  style=\"background-color: orange;\" ><a class=\" txtu hbo\" target=\"_blank\" href=\"https://shebanq.ancient-data.org/hebrew/word?version=2021&amp;id=1CRYn\" title=\"Show this on SHEBANQ\"><span class=\"txtu hbo\">שֶּׁ֖רֶץ </span></a></div></div></div></div></div></div><div class=\"contnr c2  rtl r \" ><div class=\"lbl c2  \" ><span class=\"nd\">clause</span></div><div class=\"children hor wrap rtl\"><div class=\"contnr c1  rtl r hl\"  style=\"background-color: lightgreen;\" ><div class=\"lbl c1  hl\"  style=\"background-color: lightgreen;\" ><span class=\"nd\">phrase</span></div><div class=\"children hor wrap rtl\"><div class=\"contnr c0 trm rtl  \" ><div class=\"lbl c0 trm \" ><a class=\" txtu hbo\" target=\"_blank\" href=\"https://shebanq.ancient-data.org/hebrew/word?version=2021&amp;id=1W\" title=\"Show this on SHEBANQ\"><span class=\"txtu hbo\">וְ</span></a></div></div><div class=\"contnr c0 trm rtl  \" ><div class=\"lbl c0 trm \" ><a class=\" txtu hbo\" target=\"_blank\" href=\"https://shebanq.ancient-data.org/hebrew/word?version=2021&amp;id=1KLn\" title=\"Show this on SHEBANQ\"><span class=\"txtu hbo\">כֹ֖ל </span></a></div></div><div class=\"contnr c0 trm rtl  \" ><div class=\"lbl c0 trm \" ><a class=\" txtu hbo\" target=\"_blank\" href=\"https://shebanq.ancient-data.org/hebrew/word?version=2021&amp;id=1H\" title=\"Show this on SHEBANQ\"><span class=\"txtu hbo\">הָ</span></a></div></div><div class=\"contnr c0 trm rtl  hl\" ><div class=\"lbl c0 trm hl\" ><a class=\" txtu hbo\" target=\"_blank\" href=\"https://shebanq.ancient-data.org/hebrew/word?version=2021&amp;id=1ADMn\" title=\"Show this on SHEBANQ\"><span class=\"txtu hbo\">אָדָֽם׃ </span></a></div></div></div></div></div></div></div>"
      ],
      "text/plain": [
       "<IPython.core.display.HTML object>"
      ]
     },
     "metadata": {},
     "output_type": "display_data"
    },
    {
     "data": {
      "text/html": [
       "<div class=\"tfsechead rtl\"><span class=\"ltr\"><a target=\"_blank\" href=\"https://shebanq.ancient-data.org/hebrew/text?book=Genesis&amp;chapter=7&amp;verse=21&amp;version=2021&amp;mr=m&amp;qw=q&amp;tp=txt_p&amp;tr=hb&amp;wget=v&amp;qget=v&amp;nget=vt\" title=\"Show this on SHEBANQ\" sec=\"Genesis 7:21\">Genesis 7:21</a></span></div><div class=\"rtl children\"><div class=\"contnr c2  rtl  \" ><div class=\"lbl c2  \" ><span class=\"nd\">clause</span></div><div class=\"children hor wrap rtl\"><div class=\"contnr c1  rtl  \" ><div class=\"lbl c1  \" ><span class=\"nd\">phrase</span></div><div class=\"children hor wrap rtl\"><div class=\"contnr c0 trm rtl  hl\"  style=\"background-color: magenta;\" ><div class=\"lbl c0 trm hl\"  style=\"background-color: magenta;\" ><a class=\" txtu hbo\" target=\"_blank\" href=\"https://shebanq.ancient-data.org/hebrew/word?version=2021&amp;id=1H\" title=\"Show this on SHEBANQ\"><span class=\"txtu hbo\">הַ</span></a></div></div></div></div><div class=\"contnr c1  rtl  \" ><div class=\"lbl c1  \" ><span class=\"nd\">phrase</span></div><div class=\"children hor wrap rtl\"><div class=\"contnr c0 trm rtl  \" ><div class=\"lbl c0 trm \" ><a class=\" txtu hbo\" target=\"_blank\" href=\"https://shebanq.ancient-data.org/hebrew/word?version=2021&amp;id=1CRYv\" title=\"Show this on SHEBANQ\"><span class=\"txtu hbo\">שֹּׁרֵ֣ץ </span></a></div></div></div></div><div class=\"contnr c1  rtl  \" ><div class=\"lbl c1  \" ><span class=\"nd\">phrase</span></div><div class=\"children hor wrap rtl\"><div class=\"contnr c0 trm rtl  \" ><div class=\"lbl c0 trm \" ><a class=\" txtu hbo\" target=\"_blank\" href=\"https://shebanq.ancient-data.org/hebrew/word?version=2021&amp;id=1OL\" title=\"Show this on SHEBANQ\"><span class=\"txtu hbo\">עַל־</span></a></div></div><div class=\"contnr c0 trm rtl  \" ><div class=\"lbl c0 trm \" ><a class=\" txtu hbo\" target=\"_blank\" href=\"https://shebanq.ancient-data.org/hebrew/word?version=2021&amp;id=1H\" title=\"Show this on SHEBANQ\"><span class=\"txtu hbo\">הָ</span></a></div></div><div class=\"contnr c0 trm rtl  \" ><div class=\"lbl c0 trm \" ><a class=\" txtu hbo\" target=\"_blank\" href=\"https://shebanq.ancient-data.org/hebrew/word?version=2021&amp;id=1ARYn\" title=\"Show this on SHEBANQ\"><span class=\"txtu hbo\">אָ֑רֶץ </span></a></div></div></div></div></div></div></div>"
      ],
      "text/plain": [
       "<IPython.core.display.HTML object>"
      ]
     },
     "metadata": {},
     "output_type": "display_data"
    }
   ],
   "source": [
    "A.show(\n",
    "    results,\n",
    "    condensed=False,\n",
    "    condenseType=\"clause\",\n",
    "    start=9,\n",
    "    end=10,\n",
    "    colorMap={1: \"lightgreen\", 2: \"orange\", 4: \"magenta\"},\n",
    ")"
   ]
  },
  {
   "cell_type": "markdown",
   "metadata": {},
   "source": [
    "### Excursion\n",
    "\n",
    "Sometimes there are two subphrases with exactly the same words in it. They only differ in their\n",
    "values for the feature rela. Here we have such a case.\n",
    "\n",
    "We do have to show the subphrases, though.\n",
    "\n",
    "Some types are hidden, let's find out which ones:"
   ]
  },
  {
   "cell_type": "code",
   "execution_count": 15,
   "metadata": {},
   "outputs": [
    {
     "data": {
      "text/markdown": [
       "<details ><summary><b>current display options</b></summary>\n",
       "\n",
       "<details ><summary>1. baseTypes</summary>\n",
       "\n",
       "\n",
       "1.  `word`\n",
       "\n",
       "</details>\n",
       "<details ><summary>2. colorMap</summary>\n",
       "\n",
       "None\n",
       "\n",
       "</details>\n",
       "<details ><summary>3. condenseType</summary>\n",
       "\n",
       "`verse`\n",
       "\n",
       "</details>\n",
       "<details ><summary>4. condensed</summary>\n",
       "\n",
       "False\n",
       "\n",
       "</details>\n",
       "<details ><summary>5. end</summary>\n",
       "\n",
       "None\n",
       "\n",
       "</details>\n",
       "<details ><summary>6. extraFeatures</summary>\n",
       "\n",
       "\n",
       "1.  ()\n",
       "2.  {}\n",
       "\n",
       "</details>\n",
       "<details ><summary>7. fmt</summary>\n",
       "\n",
       "None\n",
       "\n",
       "</details>\n",
       "<details ><summary>8. full</summary>\n",
       "\n",
       "False\n",
       "\n",
       "</details>\n",
       "<details ><summary>9. hiddenTypes</summary>\n",
       "\n",
       "\n",
       "1.  `clause_atom`\n",
       "2.  `half_verse`\n",
       "3.  `phrase_atom`\n",
       "4.  `sentence_atom`\n",
       "5.  `subphrase`\n",
       "\n",
       "</details>\n",
       "<details ><summary>10. hideTypes</summary>\n",
       "\n",
       "`True`\n",
       "\n",
       "</details>\n",
       "<details ><summary>11. highlights</summary>\n",
       "\n",
       "{}\n",
       "\n",
       "</details>\n",
       "<details ><summary>12. lineNumbers</summary>\n",
       "\n",
       "None\n",
       "\n",
       "</details>\n",
       "<details ><summary>13. noneValues</summary>\n",
       "\n",
       "\n",
       "1.  `none`\n",
       "2.  `unknown`\n",
       "3.  None\n",
       "4.  `NA`\n",
       "\n",
       "</details>\n",
       "<details ><summary>14. plainGaps</summary>\n",
       "\n",
       "`True`\n",
       "\n",
       "</details>\n",
       "<details ><summary>15. prettyTypes</summary>\n",
       "\n",
       "`True`\n",
       "\n",
       "</details>\n",
       "<details ><summary>16. queryFeatures</summary>\n",
       "\n",
       "`True`\n",
       "\n",
       "</details>\n",
       "<details ><summary>17. showGraphics</summary>\n",
       "\n",
       "None\n",
       "\n",
       "</details>\n",
       "<details ><summary>18. skipCols</summary>\n",
       "\n",
       "set()\n",
       "\n",
       "</details>\n",
       "<details ><summary>19. standardFeatures</summary>\n",
       "\n",
       "False\n",
       "\n",
       "</details>\n",
       "<details ><summary>20. start</summary>\n",
       "\n",
       "None\n",
       "\n",
       "</details>\n",
       "<details ><summary>21. suppress</summary>\n",
       "\n",
       "set()\n",
       "\n",
       "</details>\n",
       "<details ><summary>22. tupleFeatures</summary>\n",
       "\n",
       "\n",
       "1.  \n",
       "  *   0\n",
       "  *   ()\n",
       "2.  \n",
       "  *   `1`\n",
       "  *   ()\n",
       "3.  \n",
       "  *   `2`\n",
       "  *   ()\n",
       "4.  \n",
       "  *   `3`\n",
       "  *   ()\n",
       "\n",
       "</details>\n",
       "<details ><summary>23. withNodes</summary>\n",
       "\n",
       "False\n",
       "\n",
       "</details>\n",
       "<details ><summary>24. withPassage</summary>\n",
       "\n",
       "`True`\n",
       "\n",
       "</details>\n",
       "<details ><summary>25. withTypes</summary>\n",
       "\n",
       "False\n",
       "\n",
       "</details>\n",
       "</details>\n"
      ],
      "text/plain": [
       "<IPython.core.display.Markdown object>"
      ]
     },
     "metadata": {},
     "output_type": "display_data"
    }
   ],
   "source": [
    "A.displayShow()"
   ]
  },
  {
   "cell_type": "markdown",
   "metadata": {},
   "source": [
    "Let's pass a different set of hidden types:"
   ]
  },
  {
   "cell_type": "code",
   "execution_count": 16,
   "metadata": {},
   "outputs": [
    {
     "data": {
      "text/html": [
       "<div class=\"tfsechead rtl\"><span class=\"ltr\"><a target=\"_blank\" href=\"https://shebanq.ancient-data.org/hebrew/text?book=Genesis&amp;chapter=7&amp;verse=4&amp;version=2021&amp;mr=m&amp;qw=q&amp;tp=txt_p&amp;tr=hb&amp;wget=v&amp;qget=v&amp;nget=vt\" title=\"Show this on SHEBANQ\" sec=\"Genesis 7:4\">Genesis 7:4</a></span></div><div class=\"rtl children\"><div class=\"contnr c1  rtl  \" ><div class=\"lbl c1  \" ><span class=\"nd\">subphrase:1301452</span></div><div class=\"children hor wrap rtl\"><div class=\"contnr c0 trm rtl  \" ><div class=\"lbl c0 trm \" ><span class=\"nd\">3118</span> <a class=\" txtu hbo\" target=\"_blank\" href=\"https://shebanq.ancient-data.org/hebrew/word?version=2021&amp;id=1ARBOn\" title=\"Show this on SHEBANQ\"><span class=\"txtu hbo\">אַרְבָּעִ֖ים </span></a></div></div></div></div></div>"
      ],
      "text/plain": [
       "<IPython.core.display.HTML object>"
      ]
     },
     "metadata": {},
     "output_type": "display_data"
    }
   ],
   "source": [
    "highlights = {1301449: \"lightsalmon\", 1301450: \"lightblue\"}\n",
    "A.pretty(\n",
    "    1301452,\n",
    "    withNodes=True,\n",
    "    extraFeatures=\"rela\",\n",
    "    highlights=highlights,\n",
    "    hiddenTypes=\"clause_atom half_verse phrase_atom\",\n",
    ")"
   ]
  },
  {
   "cell_type": "markdown",
   "metadata": {},
   "source": [
    "The red on has a feature `rela='par'`, the blue one not.\n",
    "\n",
    "**Two nodes with the same node type and the same slots. Yet: different nodes, different feature annotations.**\n",
    "\n",
    "At the moment I do not know why the encoders of the BHSA have chosen to do this."
   ]
  },
  {
   "cell_type": "markdown",
   "metadata": {},
   "source": [
    "If we want just the phrases, and only once, we can run the query in shallow mode, see [advanced](searchAdvanced.ipynb):"
   ]
  },
  {
   "cell_type": "code",
   "execution_count": 17,
   "metadata": {},
   "outputs": [
    {
     "name": "stdout",
     "output_type": "stream",
     "text": [
      "  2.51s 672 results\n"
     ]
    }
   ],
   "source": [
    "gapQueryResults = A.search(query, shallow=True)"
   ]
  },
  {
   "cell_type": "markdown",
   "metadata": {},
   "source": [
    "### A different query\n",
    "\n",
    "We can make an equivalent query to get the gaps."
   ]
  },
  {
   "cell_type": "code",
   "execution_count": 18,
   "metadata": {
    "ExecuteTime": {
     "end_time": "2018-05-24T08:41:30.980164Z",
     "start_time": "2018-05-24T08:41:30.974422Z"
    }
   },
   "outputs": [],
   "source": [
    "query = \"\"\"\n",
    "p:phrase\n",
    "    =: wFirst:word\n",
    "    wLast:word\n",
    "    :=\n",
    "\n",
    "wGap:word\n",
    "wFirst < wGap\n",
    "wLast > wGap\n",
    "\n",
    "p || wGap\n",
    "\"\"\""
   ]
  },
  {
   "cell_type": "markdown",
   "metadata": {},
   "source": [
    "Experience has shown that this is a slow query, so we handle it with care."
   ]
  },
  {
   "cell_type": "code",
   "execution_count": 19,
   "metadata": {},
   "outputs": [
    {
     "name": "stdout",
     "output_type": "stream",
     "text": [
      "  0.00s Checking search template ...\n",
      "  0.00s Setting up search space for 4 objects ...\n",
      "  0.22s Constraining search space with 7 relations ...\n",
      "  1.02s \t2 edges thinned\n",
      "  1.02s Setting up retrieval plan with strategy small_choice_multi ...\n",
      "  1.05s Ready to deliver results from 1186199 nodes\n",
      "Iterate over S.fetch() to get the results\n",
      "See S.showPlan() to interpret the results\n",
      "Search with 4 objects and 6 relations\n",
      "Results are instantiations of the following objects:\n",
      "node  0-phrase                                        253203   choices\n",
      "node  1-word                                          253203   choices\n",
      "node  2-word                                          253203   choices\n",
      "node  3-word                                          426590   choices\n",
      "Performance parameters:\n",
      "\tyarnRatio            =    1.25\n",
      "\ttryLimitFrom         =      40\n",
      "\ttryLimitTo           =      40\n",
      "Instantiations are computed along the following relations:\n",
      "node                                  0-phrase        253203   choices\n",
      "edge        0-phrase           [[     2-word               1.0 choices\n",
      "edge        0-phrase           :=     2-word               0   choices\n",
      "edge        0-phrase           =:     1-word               1.0 choices (thinned)\n",
      "edge        1-word             ]]     0-phrase             0   choices\n",
      "edge      1,2-word            <,>     3-word           21329.5 choices\n",
      "edge        3-word             ||     0-phrase             0   choices\n",
      "  1.06s The results are connected to the original search template as follows:\n",
      " 0     \n",
      " 1 R0  p:phrase\n",
      " 2 R1      =: wFirst:word\n",
      " 3 R2      wLast:word\n",
      " 4         :=\n",
      " 5     \n",
      " 6 R3  wGap:word\n",
      " 7     wFirst < wGap\n",
      " 8     wLast > wGap\n",
      " 9     \n",
      "10     p || wGap\n",
      "11     \n"
     ]
    }
   ],
   "source": [
    "S.study(query)\n",
    "S.showPlan(details=True)"
   ]
  },
  {
   "cell_type": "code",
   "execution_count": 20,
   "metadata": {},
   "outputs": [
    {
     "name": "stdout",
     "output_type": "stream",
     "text": [
      "  0.00s Counting results per 1 up to 4 ...\n",
      "   |       13s 1\n",
      "   |       13s 2\n",
      "   |       13s 3\n",
      "   |       13s 4\n",
      "    13s Done: 4 results\n"
     ]
    }
   ],
   "source": [
    "S.count(progress=1, limit=4)"
   ]
  },
  {
   "cell_type": "markdown",
   "metadata": {},
   "source": [
    "This is a good example of a query that is slow to deliver even its first result.\n",
    "And that is bad, because it is such a straightforward query.\n",
    "\n",
    "Why is this one so slow, while the previous one went so smoothly?\n",
    "\n",
    "The crucial thing is the `wGap` word. In the latter template, `wGap` is not embedded in anything.\n",
    "It is constrained by `wFirst < wGap` and `wGap < wLast`.\n",
    "However, the way the search strategy works is by examining all possibilities for `wFirst < wGap`\n",
    "and only then checking whether `wGap < wLast`.\n",
    "The algorithm cannot check both conditions at the same time.\n",
    "\n",
    "With embedding relations, things are better. Text-Fabric is heavily optimized to deal with embedding\n",
    "relationships.\n",
    "\n",
    "In the former template, we see that the `wGap` is required to be `adjacent` to `wPreGap`, and this one\n",
    "is embedded in the phrase. Hence there are few cases to consider for `wPreGap`, and per instance\n",
    "there is only one `wGap`.\n",
    "\n",
    "> **Lesson**\n",
    "Try to prevent the use of *free floating* nodes in your template that become constrained\n",
    "by other spatial relationships than embedding."
   ]
  },
  {
   "cell_type": "markdown",
   "metadata": {},
   "source": [
    "### To the rescue\n",
    "The former template had it right.\n",
    "Can we rescue the latter template?\n",
    "\n",
    "We can assume that the phrase and the gap each contain a word in one and the same verse.\n",
    "Note that phrase and gap may belong to different clauses and sentences.\n",
    "We assume that a phrase cannot belong to more than two verses, so either the first or the last word\n",
    "of the phrase is in the same verse as a word in the gap."
   ]
  },
  {
   "cell_type": "code",
   "execution_count": 21,
   "metadata": {
    "ExecuteTime": {
     "end_time": "2018-05-24T08:41:30.980164Z",
     "start_time": "2018-05-24T08:41:30.974422Z"
    }
   },
   "outputs": [],
   "source": [
    "query = \"\"\"\n",
    "p:phrase\n",
    "    =: wFirst:word\n",
    "    wLast:word\n",
    "    :=\n",
    "\n",
    "wGap:word\n",
    "wFirst < wGap\n",
    "wLast > wGap\n",
    "\n",
    "p || wGap\n",
    "\n",
    "v:verse\n",
    "\n",
    "v [[ wFirst\n",
    "v [[ wGap\n",
    "\"\"\""
   ]
  },
  {
   "cell_type": "code",
   "execution_count": 22,
   "metadata": {},
   "outputs": [
    {
     "name": "stdout",
     "output_type": "stream",
     "text": [
      "  0.00s Checking search template ...\n",
      "  0.04s Setting up search space for 5 objects ...\n",
      "  0.22s Constraining search space with 9 relations ...\n",
      "  1.15s \t2 edges thinned\n",
      "  1.15s Setting up retrieval plan with strategy small_choice_multi ...\n",
      "  1.19s Ready to deliver results from 1209412 nodes\n",
      "Iterate over S.fetch() to get the results\n",
      "See S.showPlan() to interpret the results\n",
      "Search with 5 objects and 8 relations\n",
      "Results are instantiations of the following objects:\n",
      "node  0-phrase                                        253203   choices\n",
      "node  1-word                                          253203   choices\n",
      "node  2-word                                          253203   choices\n",
      "node  3-word                                          426590   choices\n",
      "node  4-verse                                          23213   choices\n",
      "Performance parameters:\n",
      "\tyarnRatio            =    1.25\n",
      "\ttryLimitFrom         =      40\n",
      "\ttryLimitTo           =      40\n",
      "Instantiations are computed along the following relations:\n",
      "node                                  4-verse          23213   choices\n",
      "edge        4-verse            [[     1-word              11.0 choices\n",
      "edge        1-word             ]]     0-phrase             1.0 choices\n",
      "edge        0-phrase           =:     1-word               0   choices\n",
      "edge        0-phrase           :=     2-word               1.0 choices (thinned)\n",
      "edge        0-phrase           [[     2-word               0   choices\n",
      "edge        4-verse            [[     3-word              21.5 choices\n",
      "edge      1,2-word            <,>     3-word               0   choices\n",
      "edge        3-word             ||     0-phrase             0   choices\n",
      "  1.20s The results are connected to the original search template as follows:\n",
      " 0     \n",
      " 1 R0  p:phrase\n",
      " 2 R1      =: wFirst:word\n",
      " 3 R2      wLast:word\n",
      " 4         :=\n",
      " 5     \n",
      " 6 R3  wGap:word\n",
      " 7     wFirst < wGap\n",
      " 8     wLast > wGap\n",
      " 9     \n",
      "10     p || wGap\n",
      "11     \n",
      "12 R4  v:verse\n",
      "13     \n",
      "14     v [[ wFirst\n",
      "15     v [[ wGap\n",
      "16     \n",
      "  0.00s Counting results per 100 up to 3000 ...\n",
      "   |     0.26s 100\n",
      "   |     0.54s 200\n",
      "   |     0.73s 300\n",
      "   |     0.82s 400\n",
      "   |     0.90s 500\n",
      "   |     1.09s 600\n",
      "   |     1.14s 700\n",
      "   |     1.38s 800\n",
      "   |     1.46s 900\n",
      "   |     1.58s 1000\n",
      "   |     1.69s 1100\n",
      "   |     1.79s 1200\n",
      "   |     1.90s 1300\n",
      "   |     2.18s 1400\n",
      "   |     2.73s 1500\n",
      "   |     2.89s 1600\n",
      "   |     3.25s 1700\n",
      "   |     3.40s 1800\n",
      "   |     3.59s 1900\n",
      "   |     3.89s 2000\n",
      "   |     4.07s 2100\n",
      "   |     4.21s 2200\n",
      "   |     4.55s 2300\n",
      "   |     5.60s 2400\n",
      "   |     5.85s 2500\n",
      "   |     6.12s 2600\n",
      "   |     6.46s 2700\n",
      "  6.64s Done: 2739 results\n"
     ]
    }
   ],
   "source": [
    "S.study(query)\n",
    "S.showPlan(details=True)\n",
    "S.count(progress=100, limit=3000)"
   ]
  },
  {
   "cell_type": "code",
   "execution_count": 23,
   "metadata": {},
   "outputs": [],
   "source": [
    "# ignore this\n",
    "# S.tweakPerformance(yarnRatio=1)"
   ]
  },
  {
   "cell_type": "markdown",
   "metadata": {},
   "source": [
    "We are going to run this query in `shallow` mode."
   ]
  },
  {
   "cell_type": "code",
   "execution_count": 24,
   "metadata": {},
   "outputs": [
    {
     "name": "stdout",
     "output_type": "stream",
     "text": [
      "    11s 672 results\n"
     ]
    }
   ],
   "source": [
    "results = A.search(query, shallow=True)"
   ]
  },
  {
   "cell_type": "markdown",
   "metadata": {},
   "source": [
    "Shallow mode tends to be quicker, but that does not always materialize.\n",
    "The number of results agrees with the first query.\n",
    "Yet we have been lucky, because we required the word in the gap to be in the same verse as the first word in the phrase.\n",
    "What if we require if it is the last word in the phrase?"
   ]
  },
  {
   "cell_type": "code",
   "execution_count": 25,
   "metadata": {
    "ExecuteTime": {
     "end_time": "2018-05-24T08:41:30.980164Z",
     "start_time": "2018-05-24T08:41:30.974422Z"
    }
   },
   "outputs": [],
   "source": [
    "query = \"\"\"\n",
    "p:phrase\n",
    "    =: wFirst:word\n",
    "    wLast:word\n",
    "    :=\n",
    "\n",
    "wGap:word\n",
    "wFirst < wGap\n",
    "wLast > wGap\n",
    "\n",
    "p || wGap\n",
    "\n",
    "v:verse\n",
    "\n",
    "v [[ wLast\n",
    "v [[ wGap\n",
    "\"\"\""
   ]
  },
  {
   "cell_type": "code",
   "execution_count": 26,
   "metadata": {
    "lines_to_next_cell": 2
   },
   "outputs": [
    {
     "name": "stdout",
     "output_type": "stream",
     "text": [
      "    10s 661 results\n"
     ]
    }
   ],
   "source": [
    "results = A.search(query, shallow=True)"
   ]
  },
  {
   "cell_type": "markdown",
   "metadata": {},
   "source": [
    "Then we would not have found all results.\n",
    "\n",
    "So, this road, although doable, is much less comfortable, performance-wise and logic-wise."
   ]
  },
  {
   "cell_type": "markdown",
   "metadata": {
    "ExecuteTime": {
     "end_time": "2018-05-23T08:31:45.680786Z",
     "start_time": "2018-05-23T08:31:45.673210Z"
    },
    "lines_to_next_cell": 2
   },
   "source": [
    "## Check the gaps\n",
    "\n",
    "In this misty landscape of gaps we need some corroboration that we found the right results.\n",
    "\n",
    "1. is every node in `gapQueryResults` a phrase?\n",
    "1. does every phrase in the `gapQueryResults` have a gap?\n",
    "1. is every gapped phrase contained in `gapQueryResults`?\n",
    "\n",
    "We check all this by hand coding.\n",
    "\n",
    "Here is a function that checks whether a phrase has a gap.\n",
    "If the distance between its end points is greater than the number of words it contains,\n",
    "it must have a gap."
   ]
  },
  {
   "cell_type": "code",
   "execution_count": 27,
   "metadata": {
    "ExecuteTime": {
     "end_time": "2018-05-24T08:41:51.194078Z",
     "start_time": "2018-05-24T08:41:50.211615Z"
    }
   },
   "outputs": [],
   "source": [
    "def hasGap(p):\n",
    "    words = L.d(p, otype=\"word\")\n",
    "    return words[-1] - words[0] + 1 > len(words)"
   ]
  },
  {
   "cell_type": "markdown",
   "metadata": {},
   "source": [
    "Now we can perform the checks."
   ]
  },
  {
   "cell_type": "code",
   "execution_count": 28,
   "metadata": {
    "ExecuteTime": {
     "end_time": "2018-05-24T08:41:51.194078Z",
     "start_time": "2018-05-24T08:41:50.211615Z"
    }
   },
   "outputs": [
    {
     "name": "stdout",
     "output_type": "stream",
     "text": [
      "672 nodes in query result\n",
      "1. all nodes are phrases\n",
      "2. all nodes have gaps\n",
      "3. all gapped phrases are contained in the results\n"
     ]
    }
   ],
   "source": [
    "otypesGood = True\n",
    "haveGaps = True\n",
    "\n",
    "for p in gapQueryResults:\n",
    "    otype = F.otype.v(p)\n",
    "    if otype != \"phrase\":\n",
    "        print(f\"Non phrase detected: {p}) is a {otype}\")\n",
    "        otypesGood = False\n",
    "        break\n",
    "\n",
    "    if not hasGap(p):\n",
    "        print(f\"Phrase without a gap: {p}\")\n",
    "        A.pretty(p)\n",
    "        haveGaps = False\n",
    "        break\n",
    "\n",
    "print(f\"{len(gapQueryResults)} nodes in query result\")\n",
    "if otypesGood:\n",
    "    print(\"1. all nodes are phrases\")\n",
    "if haveGaps:\n",
    "    print(\"2. all nodes have gaps\")\n",
    "\n",
    "inResults = True\n",
    "for p in F.otype.s(\"phrase\"):\n",
    "    if hasGap(p):\n",
    "        if p not in gapQueryResults:\n",
    "            print(f\"Gapped phrase outside query results: {p}\")\n",
    "            A.pretty(p)\n",
    "            inResults = False\n",
    "            break\n",
    "\n",
    "if inResults:\n",
    "    print(\"3. all gapped phrases are contained in the results\")"
   ]
  },
  {
   "cell_type": "markdown",
   "metadata": {},
   "source": [
    "Note that by hand coding we can get the gapped phrases much more quickly and securely!"
   ]
  },
  {
   "cell_type": "markdown",
   "metadata": {},
   "source": [
    "## Custom sets for (non-)gapped phrases\n",
    "\n",
    "We have obtained a set with all gapped phrases,\n",
    "and we have paid a price:\n",
    "\n",
    "* either an expensive query,\n",
    "* or an inconvenient bit of hand coding.\n",
    "\n",
    "It would be nice if we could kick-start our queries using this set as a given.\n",
    "And that is exactly what we are going to do now.\n",
    "\n",
    "We make two custom sets and give them a name, `gapphrase` for gapped phrases and `conphrase` for non-gapped phrases (consecutive phrases)."
   ]
  },
  {
   "cell_type": "code",
   "execution_count": 29,
   "metadata": {},
   "outputs": [],
   "source": [
    "customSets = dict(\n",
    "    gapphrase=gapQueryResults,\n",
    "    conphrase=set(F.otype.s(\"phrase\")) - gapQueryResults,\n",
    ")"
   ]
  },
  {
   "cell_type": "markdown",
   "metadata": {},
   "source": [
    "Suppose we want all verbs that occur in a gapped phrase."
   ]
  },
  {
   "cell_type": "code",
   "execution_count": 30,
   "metadata": {
    "ExecuteTime": {
     "end_time": "2018-05-24T08:41:53.694434Z",
     "start_time": "2018-05-24T08:41:53.689921Z"
    }
   },
   "outputs": [],
   "source": [
    "query = \"\"\"\n",
    "gapphrase\n",
    "  word sp=verb\n",
    "\"\"\""
   ]
  },
  {
   "cell_type": "markdown",
   "metadata": {},
   "source": [
    "Note that we have used the foreign name `gapphrase` in our search template, instead of `phrase`.\n",
    "\n",
    "But we can still run `search()`, provided we tell it what we mean by `gapphrase`.\n",
    "We do that by passing the `sets` parameter to `search()`, which should be a dictionary of sets.\n",
    "Search will look up `gapphrase` in this dictionary, and will use its value, which should be a node set.\n",
    "That way, it understands that the expression `gapphrase` stands for the nodes in the given node set.\n",
    "\n",
    "Here we go:"
   ]
  },
  {
   "cell_type": "code",
   "execution_count": 31,
   "metadata": {
    "ExecuteTime": {
     "end_time": "2018-05-24T08:41:57.840028Z",
     "start_time": "2018-05-24T08:41:57.047787Z"
    }
   },
   "outputs": [
    {
     "name": "stdout",
     "output_type": "stream",
     "text": [
      "  0.41s 94 results\n"
     ]
    }
   ],
   "source": [
    "results = A.search(query, sets=customSets)"
   ]
  },
  {
   "cell_type": "code",
   "execution_count": 32,
   "metadata": {
    "ExecuteTime": {
     "end_time": "2018-05-24T08:05:09.044933Z",
     "start_time": "2018-05-24T08:05:09.005186Z"
    }
   },
   "outputs": [
    {
     "data": {
      "text/html": [
       "<p><b>result</b> <i>1</i></p>"
      ],
      "text/plain": [
       "<IPython.core.display.HTML object>"
      ]
     },
     "metadata": {},
     "output_type": "display_data"
    },
    {
     "data": {
      "text/html": [
       "<div class=\"tfsechead rtl\"><span class=\"ltr\"><a target=\"_blank\" href=\"https://shebanq.ancient-data.org/hebrew/text?book=Genesis&amp;chapter=30&amp;verse=20&amp;version=2021&amp;mr=m&amp;qw=q&amp;tp=txt_p&amp;tr=hb&amp;wget=v&amp;qget=v&amp;nget=vt\" title=\"Show this on SHEBANQ\" sec=\"Genesis 30:20\">Genesis 30:20</a></span></div><div class=\"rtl children\"><div class=\"contnr c2  rtl  \" ><div class=\"lbl c2  \" ><span class=\"nd\">clause</span></div><div class=\"children hor wrap rtl\"><div class=\"contnr c1  rtl l hl\" ><div class=\"lbl c1  hl\" ><span class=\"nd\">phrase</span></div><div class=\"children hor wrap rtl\"><div class=\"contnr c0 trm rtl  hl\" ><div class=\"lbl c0 trm hl\" ><a class=\" txtu hbo\" target=\"_blank\" href=\"https://shebanq.ancient-data.org/hebrew/word?version=2021&amp;id=1ZBDv\" title=\"Show this on SHEBANQ\"><span class=\"txtu hbo\">זְבָדַ֨נִי </span></a></div><div class='features'><span class=\"sp xft\" ><span class=\"f\">sp=</span>verb</span></div></div></div></div><div class=\"contnr c1  rtl  \" ><div class=\"lbl c1  \" ><span class=\"nd\">phrase</span></div><div class=\"children hor wrap rtl\"><div class=\"contnr c0 trm rtl  \" ><div class=\"lbl c0 trm \" ><a class=\" txtu hbo\" target=\"_blank\" href=\"https://shebanq.ancient-data.org/hebrew/word?version=2021&amp;id=1ALHJMn\" title=\"Show this on SHEBANQ\"><span class=\"txtu hbo\">אֱלֹהִ֥ים׀ </span></a></div><div class='features'><span class=\"sp xft\" ><span class=\"f\">sp=</span>subs</span></div></div></div></div><div class=\"contnr c1  rtl r hl\" ><div class=\"lbl c1  hl\" ><span class=\"nd\">phrase</span></div><div class=\"children hor wrap rtl\"><div class=\"contnr c0 trm rtl  \" ><div class=\"lbl c0 trm \" ><a class=\" txtu hbo\" target=\"_blank\" href=\"https://shebanq.ancient-data.org/hebrew/word?version=2021&amp;id=1AT\" title=\"Show this on SHEBANQ\"><span class=\"txtu hbo\">אֹתִי֮ </span></a></div><div class='features'><span class=\"sp xft\" ><span class=\"f\">sp=</span>prep</span></div></div></div></div><div class=\"contnr c1  rtl  \" ><div class=\"lbl c1  \" ><span class=\"nd\">phrase</span></div><div class=\"children hor wrap rtl\"><div class=\"contnr c0 trm rtl  \" ><div class=\"lbl c0 trm \" ><a class=\" txtu hbo\" target=\"_blank\" href=\"https://shebanq.ancient-data.org/hebrew/word?version=2021&amp;id=1ZBDn\" title=\"Show this on SHEBANQ\"><span class=\"txtu hbo\">זֵ֣בֶד </span></a></div><div class='features'><span class=\"sp xft\" ><span class=\"f\">sp=</span>subs</span></div></div><div class=\"contnr c0 trm rtl  \" ><div class=\"lbl c0 trm \" ><a class=\" txtu hbo\" target=\"_blank\" href=\"https://shebanq.ancient-data.org/hebrew/word?version=2021&amp;id=1VWBn\" title=\"Show this on SHEBANQ\"><span class=\"txtu hbo\">טֹוב֒ </span></a></div><div class='features'><span class=\"sp xft\" ><span class=\"f\">sp=</span>adjv</span></div></div></div></div></div></div></div>"
      ],
      "text/plain": [
       "<IPython.core.display.HTML object>"
      ]
     },
     "metadata": {},
     "output_type": "display_data"
    },
    {
     "data": {
      "text/html": [
       "<p><b>result</b> <i>2</i></p>"
      ],
      "text/plain": [
       "<IPython.core.display.HTML object>"
      ]
     },
     "metadata": {},
     "output_type": "display_data"
    },
    {
     "data": {
      "text/html": [
       "<div class=\"tfsechead rtl\"><span class=\"ltr\"><a target=\"_blank\" href=\"https://shebanq.ancient-data.org/hebrew/text?book=Genesis&amp;chapter=30&amp;verse=35&amp;version=2021&amp;mr=m&amp;qw=q&amp;tp=txt_p&amp;tr=hb&amp;wget=v&amp;qget=v&amp;nget=vt\" title=\"Show this on SHEBANQ\" sec=\"Genesis 30:35\">Genesis 30:35</a></span></div><div class=\"rtl children\"><div class=\"contnr c2  rtl l \" ><div class=\"lbl c2  \" ><span class=\"nd\">clause</span></div><div class=\"children hor wrap rtl\"><div class=\"contnr c1  rtl  \" ><div class=\"lbl c1  \" ><span class=\"nd\">phrase</span></div><div class=\"children hor wrap rtl\"><div class=\"contnr c0 trm rtl  \" ><div class=\"lbl c0 trm \" ><a class=\" txtu hbo\" target=\"_blank\" href=\"https://shebanq.ancient-data.org/hebrew/word?version=2021&amp;id=1W\" title=\"Show this on SHEBANQ\"><span class=\"txtu hbo\">וַ</span></a></div><div class='features'><span class=\"sp xft\" ><span class=\"f\">sp=</span>conj</span></div></div></div></div><div class=\"contnr c1  rtl  \" ><div class=\"lbl c1  \" ><span class=\"nd\">phrase</span></div><div class=\"children hor wrap rtl\"><div class=\"contnr c0 trm rtl  \" ><div class=\"lbl c0 trm \" ><a class=\" txtu hbo\" target=\"_blank\" href=\"https://shebanq.ancient-data.org/hebrew/word?version=2021&amp;id=1SWRv\" title=\"Show this on SHEBANQ\"><span class=\"txtu hbo\">יָּ֣סַר </span></a></div><div class='features'><span class=\"sp xft\" ><span class=\"f\">sp=</span>verb</span></div></div></div></div><div class=\"contnr c1  rtl  \" ><div class=\"lbl c1  \" ><span class=\"nd\">phrase</span></div><div class=\"children hor wrap rtl\"><div class=\"contnr c0 trm rtl  \" ><div class=\"lbl c0 trm \" ><a class=\" txtu hbo\" target=\"_blank\" href=\"https://shebanq.ancient-data.org/hebrew/word?version=2021&amp;id=1B\" title=\"Show this on SHEBANQ\"><span class=\"txtu hbo\">בַּ</span></a></div><div class='features'><span class=\"sp xft\" ><span class=\"f\">sp=</span>prep</span></div></div><div class=\"contnr c0 trm rtl  \" ><div class=\"lbl c0 trm \" ><a class=\" txtu hbo\" target=\"_blank\" href=\"https://shebanq.ancient-data.org/hebrew/word?version=2021&amp;id=1H\" title=\"Show this on SHEBANQ\"></a></div><div class='features'><span class=\"sp xft\" ><span class=\"f\">sp=</span>art</span></div></div><div class=\"contnr c0 trm rtl  \" ><div class=\"lbl c0 trm \" ><a class=\" txtu hbo\" target=\"_blank\" href=\"https://shebanq.ancient-data.org/hebrew/word?version=2021&amp;id=1JWMn\" title=\"Show this on SHEBANQ\"><span class=\"txtu hbo\">יֹּום֩ </span></a></div><div class='features'><span class=\"sp xft\" ><span class=\"f\">sp=</span>subs</span></div></div><div class=\"contnr c0 trm rtl  \" ><div class=\"lbl c0 trm \" ><a class=\" txtu hbo\" target=\"_blank\" href=\"https://shebanq.ancient-data.org/hebrew/word?version=2021&amp;id=1H\" title=\"Show this on SHEBANQ\"><span class=\"txtu hbo\">הַ</span></a></div><div class='features'><span class=\"sp xft\" ><span class=\"f\">sp=</span>art</span></div></div><div class=\"contnr c0 trm rtl  \" ><div class=\"lbl c0 trm \" ><a class=\" txtu hbo\" target=\"_blank\" href=\"https://shebanq.ancient-data.org/hebrew/word?version=2021&amp;id=1HWA\" title=\"Show this on SHEBANQ\"><span class=\"txtu hbo\">ה֨וּא </span></a></div><div class='features'><span class=\"sp xft\" ><span class=\"f\">sp=</span>prps</span></div></div></div></div><div class=\"contnr c1  rtl l hl\" ><div class=\"lbl c1  hl\" ><span class=\"nd\">phrase</span></div><div class=\"children hor wrap rtl\"><div class=\"contnr c0 trm rtl  \" ><div class=\"lbl c0 trm \" ><a class=\" txtu hbo\" target=\"_blank\" href=\"https://shebanq.ancient-data.org/hebrew/word?version=2021&amp;id=1AT\" title=\"Show this on SHEBANQ\"><span class=\"txtu hbo\">אֶת־</span></a></div><div class='features'><span class=\"sp xft\" ><span class=\"f\">sp=</span>prep</span></div></div><div class=\"contnr c0 trm rtl  \" ><div class=\"lbl c0 trm \" ><a class=\" txtu hbo\" target=\"_blank\" href=\"https://shebanq.ancient-data.org/hebrew/word?version=2021&amp;id=1H\" title=\"Show this on SHEBANQ\"><span class=\"txtu hbo\">הַ</span></a></div><div class='features'><span class=\"sp xft\" ><span class=\"f\">sp=</span>art</span></div></div><div class=\"contnr c0 trm rtl  \" ><div class=\"lbl c0 trm \" ><a class=\" txtu hbo\" target=\"_blank\" href=\"https://shebanq.ancient-data.org/hebrew/word?version=2021&amp;id=1TJCn\" title=\"Show this on SHEBANQ\"><span class=\"txtu hbo\">תְּיָשִׁ֜ים </span></a></div><div class='features'><span class=\"sp xft\" ><span class=\"f\">sp=</span>subs</span></div></div><div class=\"contnr c0 trm rtl  \" ><div class=\"lbl c0 trm \" ><a class=\" txtu hbo\" target=\"_blank\" href=\"https://shebanq.ancient-data.org/hebrew/word?version=2021&amp;id=1H\" title=\"Show this on SHEBANQ\"><span class=\"txtu hbo\">הָֽ</span></a></div><div class='features'><span class=\"sp xft\" ><span class=\"f\">sp=</span>art</span></div></div><div class=\"contnr c0 trm rtl  \" ><div class=\"lbl c0 trm \" ><a class=\" txtu hbo\" target=\"_blank\" href=\"https://shebanq.ancient-data.org/hebrew/word?version=2021&amp;id=1OQDn\" title=\"Show this on SHEBANQ\"><span class=\"txtu hbo\">עֲקֻדִּ֣ים </span></a></div><div class='features'><span class=\"sp xft\" ><span class=\"f\">sp=</span>adjv</span></div></div><div class=\"contnr c0 trm rtl  \" ><div class=\"lbl c0 trm \" ><a class=\" txtu hbo\" target=\"_blank\" href=\"https://shebanq.ancient-data.org/hebrew/word?version=2021&amp;id=1W\" title=\"Show this on SHEBANQ\"><span class=\"txtu hbo\">וְ</span></a></div><div class='features'><span class=\"sp xft\" ><span class=\"f\">sp=</span>conj</span></div></div><div class=\"contnr c0 trm rtl  \" ><div class=\"lbl c0 trm \" ><a class=\" txtu hbo\" target=\"_blank\" href=\"https://shebanq.ancient-data.org/hebrew/word?version=2021&amp;id=1H\" title=\"Show this on SHEBANQ\"><span class=\"txtu hbo\">הַ</span></a></div><div class='features'><span class=\"sp xft\" ><span class=\"f\">sp=</span>art</span></div></div><div class=\"contnr c0 trm rtl  hl\" ><div class=\"lbl c0 trm hl\" ><a class=\" txtu hbo\" target=\"_blank\" href=\"https://shebanq.ancient-data.org/hebrew/word?version=2021&amp;id=1VLAv\" title=\"Show this on SHEBANQ\"><span class=\"txtu hbo\">טְּלֻאִ֗ים </span></a></div><div class='features'><span class=\"sp xft\" ><span class=\"f\">sp=</span>verb</span></div></div><div class=\"contnr c0 trm rtl  \" ><div class=\"lbl c0 trm \" ><a class=\" txtu hbo\" target=\"_blank\" href=\"https://shebanq.ancient-data.org/hebrew/word?version=2021&amp;id=1W\" title=\"Show this on SHEBANQ\"><span class=\"txtu hbo\">וְ</span></a></div><div class='features'><span class=\"sp xft\" ><span class=\"f\">sp=</span>conj</span></div></div><div class=\"contnr c0 trm rtl  \" ><div class=\"lbl c0 trm \" ><a class=\" txtu hbo\" target=\"_blank\" href=\"https://shebanq.ancient-data.org/hebrew/word?version=2021&amp;id=1AT\" title=\"Show this on SHEBANQ\"><span class=\"txtu hbo\">אֵ֤ת </span></a></div><div class='features'><span class=\"sp xft\" ><span class=\"f\">sp=</span>prep</span></div></div><div class=\"contnr c0 trm rtl  \" ><div class=\"lbl c0 trm \" ><a class=\" txtu hbo\" target=\"_blank\" href=\"https://shebanq.ancient-data.org/hebrew/word?version=2021&amp;id=1KLn\" title=\"Show this on SHEBANQ\"><span class=\"txtu hbo\">כָּל־</span></a></div><div class='features'><span class=\"sp xft\" ><span class=\"f\">sp=</span>subs</span></div></div><div class=\"contnr c0 trm rtl  \" ><div class=\"lbl c0 trm \" ><a class=\" txtu hbo\" target=\"_blank\" href=\"https://shebanq.ancient-data.org/hebrew/word?version=2021&amp;id=1H\" title=\"Show this on SHEBANQ\"><span class=\"txtu hbo\">הָֽ</span></a></div><div class='features'><span class=\"sp xft\" ><span class=\"f\">sp=</span>art</span></div></div><div class=\"contnr c0 trm rtl  \" ><div class=\"lbl c0 trm \" ><a class=\" txtu hbo\" target=\"_blank\" href=\"https://shebanq.ancient-data.org/hebrew/word?version=2021&amp;id=1OZiin\" title=\"Show this on SHEBANQ\"><span class=\"txtu hbo\">עִזִּים֙ </span></a></div><div class='features'><span class=\"sp xft\" ><span class=\"f\">sp=</span>subs</span></div></div><div class=\"contnr c0 trm rtl  \" ><div class=\"lbl c0 trm \" ><a class=\" txtu hbo\" target=\"_blank\" href=\"https://shebanq.ancient-data.org/hebrew/word?version=2021&amp;id=1H\" title=\"Show this on SHEBANQ\"><span class=\"txtu hbo\">הַ</span></a></div><div class='features'><span class=\"sp xft\" ><span class=\"f\">sp=</span>art</span></div></div><div class=\"contnr c0 trm rtl  \" ><div class=\"lbl c0 trm \" ><a class=\" txtu hbo\" target=\"_blank\" href=\"https://shebanq.ancient-data.org/hebrew/word?version=2021&amp;id=1NQDin\" title=\"Show this on SHEBANQ\"><span class=\"txtu hbo\">נְּקֻדֹּ֣ות </span></a></div><div class='features'><span class=\"sp xft\" ><span class=\"f\">sp=</span>adjv</span></div></div><div class=\"contnr c0 trm rtl  \" ><div class=\"lbl c0 trm \" ><a class=\" txtu hbo\" target=\"_blank\" href=\"https://shebanq.ancient-data.org/hebrew/word?version=2021&amp;id=1W\" title=\"Show this on SHEBANQ\"><span class=\"txtu hbo\">וְ</span></a></div><div class='features'><span class=\"sp xft\" ><span class=\"f\">sp=</span>conj</span></div></div><div class=\"contnr c0 trm rtl  \" ><div class=\"lbl c0 trm \" ><a class=\" txtu hbo\" target=\"_blank\" href=\"https://shebanq.ancient-data.org/hebrew/word?version=2021&amp;id=1H\" title=\"Show this on SHEBANQ\"><span class=\"txtu hbo\">הַ</span></a></div><div class='features'><span class=\"sp xft\" ><span class=\"f\">sp=</span>art</span></div></div><div class=\"contnr c0 trm rtl  \" ><div class=\"lbl c0 trm \" ><a class=\" txtu hbo\" target=\"_blank\" href=\"https://shebanq.ancient-data.org/hebrew/word?version=2021&amp;id=1VLAv\" title=\"Show this on SHEBANQ\"><span class=\"txtu hbo\">טְּלֻאֹ֔ת </span></a></div><div class='features'><span class=\"sp xft\" ><span class=\"f\">sp=</span>verb</span></div></div><div class=\"contnr c0 trm rtl  \" ><div class=\"lbl c0 trm \" ><a class=\" txtu hbo\" target=\"_blank\" href=\"https://shebanq.ancient-data.org/hebrew/word?version=2021&amp;id=1KLn\" title=\"Show this on SHEBANQ\"><span class=\"txtu hbo\">כֹּ֤ל </span></a></div><div class='features'><span class=\"sp xft\" ><span class=\"f\">sp=</span>subs</span></div></div></div></div></div></div><div class=\"contnr c2  rtl r \" ><div class=\"lbl c2  \" ><span class=\"nd\">clause</span></div><div class=\"children hor wrap rtl\"><div class=\"contnr c1  rtl r hl\" ><div class=\"lbl c1  hl\" ><span class=\"nd\">phrase</span></div><div class=\"children hor wrap rtl\"><div class=\"contnr c0 trm rtl  \" ><div class=\"lbl c0 trm \" ><a class=\" txtu hbo\" target=\"_blank\" href=\"https://shebanq.ancient-data.org/hebrew/word?version=2021&amp;id=1W\" title=\"Show this on SHEBANQ\"><span class=\"txtu hbo\">וְ</span></a></div><div class='features'><span class=\"sp xft\" ><span class=\"f\">sp=</span>conj</span></div></div><div class=\"contnr c0 trm rtl  \" ><div class=\"lbl c0 trm \" ><a class=\" txtu hbo\" target=\"_blank\" href=\"https://shebanq.ancient-data.org/hebrew/word?version=2021&amp;id=1KLn\" title=\"Show this on SHEBANQ\"><span class=\"txtu hbo\">כָל־</span></a></div><div class='features'><span class=\"sp xft\" ><span class=\"f\">sp=</span>subs</span></div></div><div class=\"contnr c0 trm rtl  \" ><div class=\"lbl c0 trm \" ><a class=\" txtu hbo\" target=\"_blank\" href=\"https://shebanq.ancient-data.org/hebrew/word?version=2021&amp;id=1XWMn\" title=\"Show this on SHEBANQ\"><span class=\"txtu hbo\">ח֖וּם </span></a></div><div class='features'><span class=\"sp xft\" ><span class=\"f\">sp=</span>adjv</span></div></div><div class=\"contnr c0 trm rtl  \" ><div class=\"lbl c0 trm \" ><a class=\" txtu hbo\" target=\"_blank\" href=\"https://shebanq.ancient-data.org/hebrew/word?version=2021&amp;id=1B\" title=\"Show this on SHEBANQ\"><span class=\"txtu hbo\">בַּ</span></a></div><div class='features'><span class=\"sp xft\" ><span class=\"f\">sp=</span>prep</span></div></div><div class=\"contnr c0 trm rtl  \" ><div class=\"lbl c0 trm \" ><a class=\" txtu hbo\" target=\"_blank\" href=\"https://shebanq.ancient-data.org/hebrew/word?version=2021&amp;id=1H\" title=\"Show this on SHEBANQ\"></a></div><div class='features'><span class=\"sp xft\" ><span class=\"f\">sp=</span>art</span></div></div><div class=\"contnr c0 trm rtl  \" ><div class=\"lbl c0 trm \" ><a class=\" txtu hbo\" target=\"_blank\" href=\"https://shebanq.ancient-data.org/hebrew/word?version=2021&amp;id=1KFBn\" title=\"Show this on SHEBANQ\"><span class=\"txtu hbo\">כְּשָׂבִ֑ים </span></a></div><div class='features'><span class=\"sp xft\" ><span class=\"f\">sp=</span>subs</span></div></div></div></div></div></div></div>"
      ],
      "text/plain": [
       "<IPython.core.display.HTML object>"
      ]
     },
     "metadata": {},
     "output_type": "display_data"
    },
    {
     "data": {
      "text/html": [
       "<p><b>result</b> <i>3</i></p>"
      ],
      "text/plain": [
       "<IPython.core.display.HTML object>"
      ]
     },
     "metadata": {},
     "output_type": "display_data"
    },
    {
     "data": {
      "text/html": [
       "<div class=\"tfsechead rtl\"><span class=\"ltr\"><a target=\"_blank\" href=\"https://shebanq.ancient-data.org/hebrew/text?book=Genesis&amp;chapter=30&amp;verse=35&amp;version=2021&amp;mr=m&amp;qw=q&amp;tp=txt_p&amp;tr=hb&amp;wget=v&amp;qget=v&amp;nget=vt\" title=\"Show this on SHEBANQ\" sec=\"Genesis 30:35\">Genesis 30:35</a></span></div><div class=\"rtl children\"><div class=\"contnr c2  rtl l \" ><div class=\"lbl c2  \" ><span class=\"nd\">clause</span></div><div class=\"children hor wrap rtl\"><div class=\"contnr c1  rtl  \" ><div class=\"lbl c1  \" ><span class=\"nd\">phrase</span></div><div class=\"children hor wrap rtl\"><div class=\"contnr c0 trm rtl  \" ><div class=\"lbl c0 trm \" ><a class=\" txtu hbo\" target=\"_blank\" href=\"https://shebanq.ancient-data.org/hebrew/word?version=2021&amp;id=1W\" title=\"Show this on SHEBANQ\"><span class=\"txtu hbo\">וַ</span></a></div><div class='features'><span class=\"sp xft\" ><span class=\"f\">sp=</span>conj</span></div></div></div></div><div class=\"contnr c1  rtl  \" ><div class=\"lbl c1  \" ><span class=\"nd\">phrase</span></div><div class=\"children hor wrap rtl\"><div class=\"contnr c0 trm rtl  \" ><div class=\"lbl c0 trm \" ><a class=\" txtu hbo\" target=\"_blank\" href=\"https://shebanq.ancient-data.org/hebrew/word?version=2021&amp;id=1SWRv\" title=\"Show this on SHEBANQ\"><span class=\"txtu hbo\">יָּ֣סַר </span></a></div><div class='features'><span class=\"sp xft\" ><span class=\"f\">sp=</span>verb</span></div></div></div></div><div class=\"contnr c1  rtl  \" ><div class=\"lbl c1  \" ><span class=\"nd\">phrase</span></div><div class=\"children hor wrap rtl\"><div class=\"contnr c0 trm rtl  \" ><div class=\"lbl c0 trm \" ><a class=\" txtu hbo\" target=\"_blank\" href=\"https://shebanq.ancient-data.org/hebrew/word?version=2021&amp;id=1B\" title=\"Show this on SHEBANQ\"><span class=\"txtu hbo\">בַּ</span></a></div><div class='features'><span class=\"sp xft\" ><span class=\"f\">sp=</span>prep</span></div></div><div class=\"contnr c0 trm rtl  \" ><div class=\"lbl c0 trm \" ><a class=\" txtu hbo\" target=\"_blank\" href=\"https://shebanq.ancient-data.org/hebrew/word?version=2021&amp;id=1H\" title=\"Show this on SHEBANQ\"></a></div><div class='features'><span class=\"sp xft\" ><span class=\"f\">sp=</span>art</span></div></div><div class=\"contnr c0 trm rtl  \" ><div class=\"lbl c0 trm \" ><a class=\" txtu hbo\" target=\"_blank\" href=\"https://shebanq.ancient-data.org/hebrew/word?version=2021&amp;id=1JWMn\" title=\"Show this on SHEBANQ\"><span class=\"txtu hbo\">יֹּום֩ </span></a></div><div class='features'><span class=\"sp xft\" ><span class=\"f\">sp=</span>subs</span></div></div><div class=\"contnr c0 trm rtl  \" ><div class=\"lbl c0 trm \" ><a class=\" txtu hbo\" target=\"_blank\" href=\"https://shebanq.ancient-data.org/hebrew/word?version=2021&amp;id=1H\" title=\"Show this on SHEBANQ\"><span class=\"txtu hbo\">הַ</span></a></div><div class='features'><span class=\"sp xft\" ><span class=\"f\">sp=</span>art</span></div></div><div class=\"contnr c0 trm rtl  \" ><div class=\"lbl c0 trm \" ><a class=\" txtu hbo\" target=\"_blank\" href=\"https://shebanq.ancient-data.org/hebrew/word?version=2021&amp;id=1HWA\" title=\"Show this on SHEBANQ\"><span class=\"txtu hbo\">ה֨וּא </span></a></div><div class='features'><span class=\"sp xft\" ><span class=\"f\">sp=</span>prps</span></div></div></div></div><div class=\"contnr c1  rtl l hl\" ><div class=\"lbl c1  hl\" ><span class=\"nd\">phrase</span></div><div class=\"children hor wrap rtl\"><div class=\"contnr c0 trm rtl  \" ><div class=\"lbl c0 trm \" ><a class=\" txtu hbo\" target=\"_blank\" href=\"https://shebanq.ancient-data.org/hebrew/word?version=2021&amp;id=1AT\" title=\"Show this on SHEBANQ\"><span class=\"txtu hbo\">אֶת־</span></a></div><div class='features'><span class=\"sp xft\" ><span class=\"f\">sp=</span>prep</span></div></div><div class=\"contnr c0 trm rtl  \" ><div class=\"lbl c0 trm \" ><a class=\" txtu hbo\" target=\"_blank\" href=\"https://shebanq.ancient-data.org/hebrew/word?version=2021&amp;id=1H\" title=\"Show this on SHEBANQ\"><span class=\"txtu hbo\">הַ</span></a></div><div class='features'><span class=\"sp xft\" ><span class=\"f\">sp=</span>art</span></div></div><div class=\"contnr c0 trm rtl  \" ><div class=\"lbl c0 trm \" ><a class=\" txtu hbo\" target=\"_blank\" href=\"https://shebanq.ancient-data.org/hebrew/word?version=2021&amp;id=1TJCn\" title=\"Show this on SHEBANQ\"><span class=\"txtu hbo\">תְּיָשִׁ֜ים </span></a></div><div class='features'><span class=\"sp xft\" ><span class=\"f\">sp=</span>subs</span></div></div><div class=\"contnr c0 trm rtl  \" ><div class=\"lbl c0 trm \" ><a class=\" txtu hbo\" target=\"_blank\" href=\"https://shebanq.ancient-data.org/hebrew/word?version=2021&amp;id=1H\" title=\"Show this on SHEBANQ\"><span class=\"txtu hbo\">הָֽ</span></a></div><div class='features'><span class=\"sp xft\" ><span class=\"f\">sp=</span>art</span></div></div><div class=\"contnr c0 trm rtl  \" ><div class=\"lbl c0 trm \" ><a class=\" txtu hbo\" target=\"_blank\" href=\"https://shebanq.ancient-data.org/hebrew/word?version=2021&amp;id=1OQDn\" title=\"Show this on SHEBANQ\"><span class=\"txtu hbo\">עֲקֻדִּ֣ים </span></a></div><div class='features'><span class=\"sp xft\" ><span class=\"f\">sp=</span>adjv</span></div></div><div class=\"contnr c0 trm rtl  \" ><div class=\"lbl c0 trm \" ><a class=\" txtu hbo\" target=\"_blank\" href=\"https://shebanq.ancient-data.org/hebrew/word?version=2021&amp;id=1W\" title=\"Show this on SHEBANQ\"><span class=\"txtu hbo\">וְ</span></a></div><div class='features'><span class=\"sp xft\" ><span class=\"f\">sp=</span>conj</span></div></div><div class=\"contnr c0 trm rtl  \" ><div class=\"lbl c0 trm \" ><a class=\" txtu hbo\" target=\"_blank\" href=\"https://shebanq.ancient-data.org/hebrew/word?version=2021&amp;id=1H\" title=\"Show this on SHEBANQ\"><span class=\"txtu hbo\">הַ</span></a></div><div class='features'><span class=\"sp xft\" ><span class=\"f\">sp=</span>art</span></div></div><div class=\"contnr c0 trm rtl  \" ><div class=\"lbl c0 trm \" ><a class=\" txtu hbo\" target=\"_blank\" href=\"https://shebanq.ancient-data.org/hebrew/word?version=2021&amp;id=1VLAv\" title=\"Show this on SHEBANQ\"><span class=\"txtu hbo\">טְּלֻאִ֗ים </span></a></div><div class='features'><span class=\"sp xft\" ><span class=\"f\">sp=</span>verb</span></div></div><div class=\"contnr c0 trm rtl  \" ><div class=\"lbl c0 trm \" ><a class=\" txtu hbo\" target=\"_blank\" href=\"https://shebanq.ancient-data.org/hebrew/word?version=2021&amp;id=1W\" title=\"Show this on SHEBANQ\"><span class=\"txtu hbo\">וְ</span></a></div><div class='features'><span class=\"sp xft\" ><span class=\"f\">sp=</span>conj</span></div></div><div class=\"contnr c0 trm rtl  \" ><div class=\"lbl c0 trm \" ><a class=\" txtu hbo\" target=\"_blank\" href=\"https://shebanq.ancient-data.org/hebrew/word?version=2021&amp;id=1AT\" title=\"Show this on SHEBANQ\"><span class=\"txtu hbo\">אֵ֤ת </span></a></div><div class='features'><span class=\"sp xft\" ><span class=\"f\">sp=</span>prep</span></div></div><div class=\"contnr c0 trm rtl  \" ><div class=\"lbl c0 trm \" ><a class=\" txtu hbo\" target=\"_blank\" href=\"https://shebanq.ancient-data.org/hebrew/word?version=2021&amp;id=1KLn\" title=\"Show this on SHEBANQ\"><span class=\"txtu hbo\">כָּל־</span></a></div><div class='features'><span class=\"sp xft\" ><span class=\"f\">sp=</span>subs</span></div></div><div class=\"contnr c0 trm rtl  \" ><div class=\"lbl c0 trm \" ><a class=\" txtu hbo\" target=\"_blank\" href=\"https://shebanq.ancient-data.org/hebrew/word?version=2021&amp;id=1H\" title=\"Show this on SHEBANQ\"><span class=\"txtu hbo\">הָֽ</span></a></div><div class='features'><span class=\"sp xft\" ><span class=\"f\">sp=</span>art</span></div></div><div class=\"contnr c0 trm rtl  \" ><div class=\"lbl c0 trm \" ><a class=\" txtu hbo\" target=\"_blank\" href=\"https://shebanq.ancient-data.org/hebrew/word?version=2021&amp;id=1OZiin\" title=\"Show this on SHEBANQ\"><span class=\"txtu hbo\">עִזִּים֙ </span></a></div><div class='features'><span class=\"sp xft\" ><span class=\"f\">sp=</span>subs</span></div></div><div class=\"contnr c0 trm rtl  \" ><div class=\"lbl c0 trm \" ><a class=\" txtu hbo\" target=\"_blank\" href=\"https://shebanq.ancient-data.org/hebrew/word?version=2021&amp;id=1H\" title=\"Show this on SHEBANQ\"><span class=\"txtu hbo\">הַ</span></a></div><div class='features'><span class=\"sp xft\" ><span class=\"f\">sp=</span>art</span></div></div><div class=\"contnr c0 trm rtl  \" ><div class=\"lbl c0 trm \" ><a class=\" txtu hbo\" target=\"_blank\" href=\"https://shebanq.ancient-data.org/hebrew/word?version=2021&amp;id=1NQDin\" title=\"Show this on SHEBANQ\"><span class=\"txtu hbo\">נְּקֻדֹּ֣ות </span></a></div><div class='features'><span class=\"sp xft\" ><span class=\"f\">sp=</span>adjv</span></div></div><div class=\"contnr c0 trm rtl  \" ><div class=\"lbl c0 trm \" ><a class=\" txtu hbo\" target=\"_blank\" href=\"https://shebanq.ancient-data.org/hebrew/word?version=2021&amp;id=1W\" title=\"Show this on SHEBANQ\"><span class=\"txtu hbo\">וְ</span></a></div><div class='features'><span class=\"sp xft\" ><span class=\"f\">sp=</span>conj</span></div></div><div class=\"contnr c0 trm rtl  \" ><div class=\"lbl c0 trm \" ><a class=\" txtu hbo\" target=\"_blank\" href=\"https://shebanq.ancient-data.org/hebrew/word?version=2021&amp;id=1H\" title=\"Show this on SHEBANQ\"><span class=\"txtu hbo\">הַ</span></a></div><div class='features'><span class=\"sp xft\" ><span class=\"f\">sp=</span>art</span></div></div><div class=\"contnr c0 trm rtl  hl\" ><div class=\"lbl c0 trm hl\" ><a class=\" txtu hbo\" target=\"_blank\" href=\"https://shebanq.ancient-data.org/hebrew/word?version=2021&amp;id=1VLAv\" title=\"Show this on SHEBANQ\"><span class=\"txtu hbo\">טְּלֻאֹ֔ת </span></a></div><div class='features'><span class=\"sp xft\" ><span class=\"f\">sp=</span>verb</span></div></div><div class=\"contnr c0 trm rtl  \" ><div class=\"lbl c0 trm \" ><a class=\" txtu hbo\" target=\"_blank\" href=\"https://shebanq.ancient-data.org/hebrew/word?version=2021&amp;id=1KLn\" title=\"Show this on SHEBANQ\"><span class=\"txtu hbo\">כֹּ֤ל </span></a></div><div class='features'><span class=\"sp xft\" ><span class=\"f\">sp=</span>subs</span></div></div></div></div></div></div><div class=\"contnr c2  rtl r \" ><div class=\"lbl c2  \" ><span class=\"nd\">clause</span></div><div class=\"children hor wrap rtl\"><div class=\"contnr c1  rtl r hl\" ><div class=\"lbl c1  hl\" ><span class=\"nd\">phrase</span></div><div class=\"children hor wrap rtl\"><div class=\"contnr c0 trm rtl  \" ><div class=\"lbl c0 trm \" ><a class=\" txtu hbo\" target=\"_blank\" href=\"https://shebanq.ancient-data.org/hebrew/word?version=2021&amp;id=1W\" title=\"Show this on SHEBANQ\"><span class=\"txtu hbo\">וְ</span></a></div><div class='features'><span class=\"sp xft\" ><span class=\"f\">sp=</span>conj</span></div></div><div class=\"contnr c0 trm rtl  \" ><div class=\"lbl c0 trm \" ><a class=\" txtu hbo\" target=\"_blank\" href=\"https://shebanq.ancient-data.org/hebrew/word?version=2021&amp;id=1KLn\" title=\"Show this on SHEBANQ\"><span class=\"txtu hbo\">כָל־</span></a></div><div class='features'><span class=\"sp xft\" ><span class=\"f\">sp=</span>subs</span></div></div><div class=\"contnr c0 trm rtl  \" ><div class=\"lbl c0 trm \" ><a class=\" txtu hbo\" target=\"_blank\" href=\"https://shebanq.ancient-data.org/hebrew/word?version=2021&amp;id=1XWMn\" title=\"Show this on SHEBANQ\"><span class=\"txtu hbo\">ח֖וּם </span></a></div><div class='features'><span class=\"sp xft\" ><span class=\"f\">sp=</span>adjv</span></div></div><div class=\"contnr c0 trm rtl  \" ><div class=\"lbl c0 trm \" ><a class=\" txtu hbo\" target=\"_blank\" href=\"https://shebanq.ancient-data.org/hebrew/word?version=2021&amp;id=1B\" title=\"Show this on SHEBANQ\"><span class=\"txtu hbo\">בַּ</span></a></div><div class='features'><span class=\"sp xft\" ><span class=\"f\">sp=</span>prep</span></div></div><div class=\"contnr c0 trm rtl  \" ><div class=\"lbl c0 trm \" ><a class=\" txtu hbo\" target=\"_blank\" href=\"https://shebanq.ancient-data.org/hebrew/word?version=2021&amp;id=1H\" title=\"Show this on SHEBANQ\"></a></div><div class='features'><span class=\"sp xft\" ><span class=\"f\">sp=</span>art</span></div></div><div class=\"contnr c0 trm rtl  \" ><div class=\"lbl c0 trm \" ><a class=\" txtu hbo\" target=\"_blank\" href=\"https://shebanq.ancient-data.org/hebrew/word?version=2021&amp;id=1KFBn\" title=\"Show this on SHEBANQ\"><span class=\"txtu hbo\">כְּשָׂבִ֑ים </span></a></div><div class='features'><span class=\"sp xft\" ><span class=\"f\">sp=</span>subs</span></div></div></div></div></div></div></div>"
      ],
      "text/plain": [
       "<IPython.core.display.HTML object>"
      ]
     },
     "metadata": {},
     "output_type": "display_data"
    }
   ],
   "source": [
    "A.show(results, start=1, end=3, condenseType=\"clause\")"
   ]
  },
  {
   "cell_type": "markdown",
   "metadata": {},
   "source": [
    "That looks good.\n",
    "\n",
    "We can also apply feature conditions to `gapphrase`:"
   ]
  },
  {
   "cell_type": "code",
   "execution_count": 33,
   "metadata": {
    "ExecuteTime": {
     "end_time": "2018-05-24T08:05:41.293060Z",
     "start_time": "2018-05-24T08:05:41.237943Z"
    }
   },
   "outputs": [
    {
     "name": "stdout",
     "output_type": "stream",
     "text": [
      "  0.00s 177 results\n"
     ]
    },
    {
     "data": {
      "text/html": [
       "<table><tr class=\"tf rtl\"><th class=\"tf rtl\">n</th><th class=\"tf rtl\">p</th><th class=\"tf rtl\">phrase</th></tr>\n",
       "<tr class=\"tf rtl\"><td class=\"tf rtl\">1</td><td class=\"tf rtl\"><span class=\"tfsechead rtl\"><span class=\"ltr\"><a target=\"_blank\" href=\"https://shebanq.ancient-data.org/hebrew/text?book=Genesis&amp;chapter=2&amp;verse=25&amp;version=2021&amp;mr=m&amp;qw=q&amp;tp=txt_p&amp;tr=hb&amp;wget=v&amp;qget=v&amp;nget=vt\" title=\"Show this on SHEBANQ\" sec=\"Genesis 2:25\">Genesis 2:25</a></span></span></td><td class=\"tf rtl\"><span class=\"rtl ubd\"><span class=\"plain rtl l hlbx\" ><span class=\"txtu hbo\">שְׁנֵיהֶם֙ </span></span><span class=\"plain rtl r hlbx\" ><span class=\"txtu hbo\">הָֽ</span><span class=\"txtu hbo\">אָדָ֖ם </span><span class=\"txtu hbo\">וְ</span><span class=\"txtu hbo\">אִשְׁתֹּ֑ו </span></span></span></td></tr>\n",
       "<tr class=\"tf rtl\"><td class=\"tf rtl\">2</td><td class=\"tf rtl\"><span class=\"tfsechead rtl\"><span class=\"ltr\"><a target=\"_blank\" href=\"https://shebanq.ancient-data.org/hebrew/text?book=Genesis&amp;chapter=4&amp;verse=4&amp;version=2021&amp;mr=m&amp;qw=q&amp;tp=txt_p&amp;tr=hb&amp;wget=v&amp;qget=v&amp;nget=vt\" title=\"Show this on SHEBANQ\" sec=\"Genesis 4:4\">Genesis 4:4</a></span></span></td><td class=\"tf rtl\"><span class=\"rtl ubd\"><span class=\"plain rtl l hlbx\" ><span class=\"txtu hbo\">הֶ֨בֶל </span></span><span class=\"plain rtl r hlbx\" ><span class=\"txtu hbo\">גַם־</span><span class=\"txtu hbo\">ה֛וּא </span></span></span></td></tr>\n",
       "<tr class=\"tf rtl\"><td class=\"tf rtl\">3</td><td class=\"tf rtl\"><span class=\"tfsechead rtl\"><span class=\"ltr\"><a target=\"_blank\" href=\"https://shebanq.ancient-data.org/hebrew/text?book=Genesis&amp;chapter=7&amp;verse=14&amp;version=2021&amp;mr=m&amp;qw=q&amp;tp=txt_p&amp;tr=hb&amp;wget=v&amp;qget=v&amp;nget=vt\" title=\"Show this on SHEBANQ\" sec=\"Genesis 7:14\">Genesis 7:14</a></span></span></td><td class=\"tf rtl\"><span class=\"rtl ubd\"><span class=\"plain rtl l hlbx\" ><span class=\"txtu hbo\">הֵ֜מָּה </span><span class=\"txtu hbo\">וְ</span><span class=\"txtu hbo\">כָל־</span><span class=\"txtu hbo\">הַֽ</span><span class=\"txtu hbo\">חַיָּ֣ה </span><span class=\"txtu hbo\">לְ</span><span class=\"txtu hbo\">מִינָ֗הּ </span><span class=\"txtu hbo\">וְ</span><span class=\"txtu hbo\">כָל־</span><span class=\"txtu hbo\">הַ</span><span class=\"txtu hbo\">בְּהֵמָה֙ </span><span class=\"txtu hbo\">לְ</span><span class=\"txtu hbo\">מִינָ֔הּ </span><span class=\"txtu hbo\">וְ</span><span class=\"txtu hbo\">כָל־</span><span class=\"txtu hbo\">הָ</span><span class=\"txtu hbo\">רֶ֛מֶשׂ </span></span><span class=\"plain rtl r hlbx\" ><span class=\"txtu hbo\">לְ</span><span class=\"txtu hbo\">מִינֵ֑הוּ </span><span class=\"txtu hbo\">וְ</span><span class=\"txtu hbo\">כָל־</span><span class=\"txtu hbo\">הָ</span><span class=\"txtu hbo\">עֹ֣וף </span><span class=\"txtu hbo\">לְ</span><span class=\"txtu hbo\">מִינֵ֔הוּ </span><span class=\"txtu hbo\">כֹּ֖ל </span><span class=\"txtu hbo\">צִפֹּ֥ור </span><span class=\"txtu hbo\">כָּל־</span><span class=\"txtu hbo\">כָּנָֽף׃ </span></span></span></td></tr></table>"
      ],
      "text/plain": [
       "<IPython.core.display.HTML object>"
      ]
     },
     "metadata": {},
     "output_type": "display_data"
    }
   ],
   "source": [
    "query = \"\"\"\n",
    "gapphrase function=Subj\n",
    "\"\"\"\n",
    "results = A.search(query, sets=customSets)\n",
    "A.table(results, start=1, end=3)"
   ]
  },
  {
   "cell_type": "code",
   "execution_count": 34,
   "metadata": {
    "ExecuteTime": {
     "end_time": "2018-05-24T08:05:41.293060Z",
     "start_time": "2018-05-24T08:05:41.237943Z"
    }
   },
   "outputs": [
    {
     "data": {
      "text/html": [
       "<p><b>result</b> <i>1</i></p>"
      ],
      "text/plain": [
       "<IPython.core.display.HTML object>"
      ]
     },
     "metadata": {},
     "output_type": "display_data"
    },
    {
     "data": {
      "text/html": [
       "<div class=\"tfsechead rtl\"><span class=\"ltr\"><a target=\"_blank\" href=\"https://shebanq.ancient-data.org/hebrew/text?book=Genesis&amp;chapter=2&amp;verse=25&amp;version=2021&amp;mr=m&amp;qw=q&amp;tp=txt_p&amp;tr=hb&amp;wget=v&amp;qget=v&amp;nget=vt\" title=\"Show this on SHEBANQ\" sec=\"Genesis 2:25\">Genesis 2:25</a></span></div><div class=\"rtl children\"><div class=\"contnr c2  rtl  \" ><div class=\"lbl c2  \" ><span class=\"nd\">clause</span></div><div class=\"children hor wrap rtl\"><div class=\"contnr c1  rtl  \" ><div class=\"lbl c1  \" ><span class=\"nd\">phrase</span></div><div class='features'><span class=\"function xft\" ><span class=\"f\">function=</span>Conj</span></div><div class=\"children hor wrap rtl\"><div class=\"contnr c0 trm rtl  \" ><div class=\"lbl c0 trm \" ><a class=\" txtu hbo\" target=\"_blank\" href=\"https://shebanq.ancient-data.org/hebrew/word?version=2021&amp;id=1W\" title=\"Show this on SHEBANQ\"><span class=\"txtu hbo\">וַ</span></a></div></div></div></div><div class=\"contnr c1  rtl  \" ><div class=\"lbl c1  \" ><span class=\"nd\">phrase</span></div><div class='features'><span class=\"function xft\" ><span class=\"f\">function=</span>Pred</span></div><div class=\"children hor wrap rtl\"><div class=\"contnr c0 trm rtl  \" ><div class=\"lbl c0 trm \" ><a class=\" txtu hbo\" target=\"_blank\" href=\"https://shebanq.ancient-data.org/hebrew/word?version=2021&amp;id=1HJHv\" title=\"Show this on SHEBANQ\"><span class=\"txtu hbo\">יִּֽהְי֤וּ </span></a></div></div></div></div><div class=\"contnr c1  rtl l hl\" ><div class=\"lbl c1  hl\" ><span class=\"nd\">phrase</span></div><div class='features'><span class=\"function xft\" ><span class=\"f\">function=</span>Subj</span></div><div class=\"children hor wrap rtl\"><div class=\"contnr c0 trm rtl  \" ><div class=\"lbl c0 trm \" ><a class=\" txtu hbo\" target=\"_blank\" href=\"https://shebanq.ancient-data.org/hebrew/word?version=2021&amp;id=1CNJMn\" title=\"Show this on SHEBANQ\"><span class=\"txtu hbo\">שְׁנֵיהֶם֙ </span></a></div></div></div></div><div class=\"contnr c1  rtl  \" ><div class=\"lbl c1  \" ><span class=\"nd\">phrase</span></div><div class='features'><span class=\"function xft\" ><span class=\"f\">function=</span>PreC</span></div><div class=\"children hor wrap rtl\"><div class=\"contnr c0 trm rtl  \" ><div class=\"lbl c0 trm \" ><a class=\" txtu hbo\" target=\"_blank\" href=\"https://shebanq.ancient-data.org/hebrew/word?version=2021&amp;id=1ORWMn\" title=\"Show this on SHEBANQ\"><span class=\"txtu hbo\">עֲרוּמִּ֔ים </span></a></div></div></div></div><div class=\"contnr c1  rtl r hl\" ><div class=\"lbl c1  hl\" ><span class=\"nd\">phrase</span></div><div class='features'><span class=\"function xft\" ><span class=\"f\">function=</span>Subj</span></div><div class=\"children hor wrap rtl\"><div class=\"contnr c0 trm rtl  \" ><div class=\"lbl c0 trm \" ><a class=\" txtu hbo\" target=\"_blank\" href=\"https://shebanq.ancient-data.org/hebrew/word?version=2021&amp;id=1H\" title=\"Show this on SHEBANQ\"><span class=\"txtu hbo\">הָֽ</span></a></div></div><div class=\"contnr c0 trm rtl  \" ><div class=\"lbl c0 trm \" ><a class=\" txtu hbo\" target=\"_blank\" href=\"https://shebanq.ancient-data.org/hebrew/word?version=2021&amp;id=1ADMn\" title=\"Show this on SHEBANQ\"><span class=\"txtu hbo\">אָדָ֖ם </span></a></div></div><div class=\"contnr c0 trm rtl  \" ><div class=\"lbl c0 trm \" ><a class=\" txtu hbo\" target=\"_blank\" href=\"https://shebanq.ancient-data.org/hebrew/word?version=2021&amp;id=1W\" title=\"Show this on SHEBANQ\"><span class=\"txtu hbo\">וְ</span></a></div></div><div class=\"contnr c0 trm rtl  \" ><div class=\"lbl c0 trm \" ><a class=\" txtu hbo\" target=\"_blank\" href=\"https://shebanq.ancient-data.org/hebrew/word?version=2021&amp;id=1ACHn\" title=\"Show this on SHEBANQ\"><span class=\"txtu hbo\">אִשְׁתֹּ֑ו </span></a></div></div></div></div></div></div></div>"
      ],
      "text/plain": [
       "<IPython.core.display.HTML object>"
      ]
     },
     "metadata": {},
     "output_type": "display_data"
    },
    {
     "data": {
      "text/html": [
       "<p><b>result</b> <i>2</i></p>"
      ],
      "text/plain": [
       "<IPython.core.display.HTML object>"
      ]
     },
     "metadata": {},
     "output_type": "display_data"
    },
    {
     "data": {
      "text/html": [
       "<div class=\"tfsechead rtl\"><span class=\"ltr\"><a target=\"_blank\" href=\"https://shebanq.ancient-data.org/hebrew/text?book=Genesis&amp;chapter=4&amp;verse=4&amp;version=2021&amp;mr=m&amp;qw=q&amp;tp=txt_p&amp;tr=hb&amp;wget=v&amp;qget=v&amp;nget=vt\" title=\"Show this on SHEBANQ\" sec=\"Genesis 4:4\">Genesis 4:4</a></span></div><div class=\"rtl children\"><div class=\"contnr c2  rtl  \" ><div class=\"lbl c2  \" ><span class=\"nd\">clause</span></div><div class=\"children hor wrap rtl\"><div class=\"contnr c1  rtl  \" ><div class=\"lbl c1  \" ><span class=\"nd\">phrase</span></div><div class='features'><span class=\"function xft\" ><span class=\"f\">function=</span>Conj</span></div><div class=\"children hor wrap rtl\"><div class=\"contnr c0 trm rtl  \" ><div class=\"lbl c0 trm \" ><a class=\" txtu hbo\" target=\"_blank\" href=\"https://shebanq.ancient-data.org/hebrew/word?version=2021&amp;id=1W\" title=\"Show this on SHEBANQ\"><span class=\"txtu hbo\">וְ</span></a></div></div></div></div><div class=\"contnr c1  rtl l hl\" ><div class=\"lbl c1  hl\" ><span class=\"nd\">phrase</span></div><div class='features'><span class=\"function xft\" ><span class=\"f\">function=</span>Subj</span></div><div class=\"children hor wrap rtl\"><div class=\"contnr c0 trm rtl  \" ><div class=\"lbl c0 trm \" ><a class=\" txtu hbo\" target=\"_blank\" href=\"https://shebanq.ancient-data.org/hebrew/word?version=2021&amp;id=1HBLin\" title=\"Show this on SHEBANQ\"><span class=\"txtu hbo\">הֶ֨בֶל </span></a></div></div></div></div><div class=\"contnr c1  rtl  \" ><div class=\"lbl c1  \" ><span class=\"nd\">phrase</span></div><div class='features'><span class=\"function xft\" ><span class=\"f\">function=</span>Pred</span></div><div class=\"children hor wrap rtl\"><div class=\"contnr c0 trm rtl  \" ><div class=\"lbl c0 trm \" ><a class=\" txtu hbo\" target=\"_blank\" href=\"https://shebanq.ancient-data.org/hebrew/word?version=2021&amp;id=1BWAv\" title=\"Show this on SHEBANQ\"><span class=\"txtu hbo\">הֵבִ֥יא </span></a></div></div></div></div><div class=\"contnr c1  rtl r hl\" ><div class=\"lbl c1  hl\" ><span class=\"nd\">phrase</span></div><div class='features'><span class=\"function xft\" ><span class=\"f\">function=</span>Subj</span></div><div class=\"children hor wrap rtl\"><div class=\"contnr c0 trm rtl  \" ><div class=\"lbl c0 trm \" ><a class=\" txtu hbo\" target=\"_blank\" href=\"https://shebanq.ancient-data.org/hebrew/word?version=2021&amp;id=1GM\" title=\"Show this on SHEBANQ\"><span class=\"txtu hbo\">גַם־</span></a></div></div><div class=\"contnr c0 trm rtl  \" ><div class=\"lbl c0 trm \" ><a class=\" txtu hbo\" target=\"_blank\" href=\"https://shebanq.ancient-data.org/hebrew/word?version=2021&amp;id=1HWA\" title=\"Show this on SHEBANQ\"><span class=\"txtu hbo\">ה֛וּא </span></a></div></div></div></div><div class=\"contnr c1  rtl  \" ><div class=\"lbl c1  \" ><span class=\"nd\">phrase</span></div><div class='features'><span class=\"function xft\" ><span class=\"f\">function=</span>Cmpl</span></div><div class=\"children hor wrap rtl\"><div class=\"contnr c0 trm rtl  \" ><div class=\"lbl c0 trm \" ><a class=\" txtu hbo\" target=\"_blank\" href=\"https://shebanq.ancient-data.org/hebrew/word?version=2021&amp;id=1MN\" title=\"Show this on SHEBANQ\"><span class=\"txtu hbo\">מִ</span></a></div></div><div class=\"contnr c0 trm rtl  \" ><div class=\"lbl c0 trm \" ><a class=\" txtu hbo\" target=\"_blank\" href=\"https://shebanq.ancient-data.org/hebrew/word?version=2021&amp;id=1BKRn\" title=\"Show this on SHEBANQ\"><span class=\"txtu hbo\">בְּכֹרֹ֥ות </span></a></div></div><div class=\"contnr c0 trm rtl  \" ><div class=\"lbl c0 trm \" ><a class=\" txtu hbo\" target=\"_blank\" href=\"https://shebanq.ancient-data.org/hebrew/word?version=2021&amp;id=1YANn\" title=\"Show this on SHEBANQ\"><span class=\"txtu hbo\">צֹאנֹ֖ו </span></a></div></div><div class=\"contnr c0 trm rtl  \" ><div class=\"lbl c0 trm \" ><a class=\" txtu hbo\" target=\"_blank\" href=\"https://shebanq.ancient-data.org/hebrew/word?version=2021&amp;id=1W\" title=\"Show this on SHEBANQ\"><span class=\"txtu hbo\">וּ</span></a></div></div><div class=\"contnr c0 trm rtl  \" ><div class=\"lbl c0 trm \" ><a class=\" txtu hbo\" target=\"_blank\" href=\"https://shebanq.ancient-data.org/hebrew/word?version=2021&amp;id=1MN\" title=\"Show this on SHEBANQ\"><span class=\"txtu hbo\">מֵֽ</span></a></div></div><div class=\"contnr c0 trm rtl  \" ><div class=\"lbl c0 trm \" ><a class=\" txtu hbo\" target=\"_blank\" href=\"https://shebanq.ancient-data.org/hebrew/word?version=2021&amp;id=1XLBin\" title=\"Show this on SHEBANQ\"><span class=\"txtu hbo\">חֶלְבֵהֶ֑ן </span></a></div></div></div></div></div></div></div>"
      ],
      "text/plain": [
       "<IPython.core.display.HTML object>"
      ]
     },
     "metadata": {},
     "output_type": "display_data"
    },
    {
     "data": {
      "text/html": [
       "<p><b>result</b> <i>3</i></p>"
      ],
      "text/plain": [
       "<IPython.core.display.HTML object>"
      ]
     },
     "metadata": {},
     "output_type": "display_data"
    },
    {
     "data": {
      "text/html": [
       "<div class=\"tfsechead rtl\"><span class=\"ltr\"><a target=\"_blank\" href=\"https://shebanq.ancient-data.org/hebrew/text?book=Genesis&amp;chapter=7&amp;verse=14&amp;version=2021&amp;mr=m&amp;qw=q&amp;tp=txt_p&amp;tr=hb&amp;wget=v&amp;qget=v&amp;nget=vt\" title=\"Show this on SHEBANQ\" sec=\"Genesis 7:14\">Genesis 7:14</a></span></div><div class=\"rtl children\"><div class=\"contnr c2  rtl l \" ><div class=\"lbl c2  \" ><span class=\"nd\">clause</span></div><div class=\"children hor wrap rtl\"><div class=\"contnr c1  rtl l hl\" ><div class=\"lbl c1  hl\" ><span class=\"nd\">phrase</span></div><div class='features'><span class=\"function xft\" ><span class=\"f\">function=</span>Subj</span></div><div class=\"children hor wrap rtl\"><div class=\"contnr c0 trm rtl  \" ><div class=\"lbl c0 trm \" ><a class=\" txtu hbo\" target=\"_blank\" href=\"https://shebanq.ancient-data.org/hebrew/word?version=2021&amp;id=1HMH\" title=\"Show this on SHEBANQ\"><span class=\"txtu hbo\">הֵ֜מָּה </span></a></div></div><div class=\"contnr c0 trm rtl  \" ><div class=\"lbl c0 trm \" ><a class=\" txtu hbo\" target=\"_blank\" href=\"https://shebanq.ancient-data.org/hebrew/word?version=2021&amp;id=1W\" title=\"Show this on SHEBANQ\"><span class=\"txtu hbo\">וְ</span></a></div></div><div class=\"contnr c0 trm rtl  \" ><div class=\"lbl c0 trm \" ><a class=\" txtu hbo\" target=\"_blank\" href=\"https://shebanq.ancient-data.org/hebrew/word?version=2021&amp;id=1KLn\" title=\"Show this on SHEBANQ\"><span class=\"txtu hbo\">כָל־</span></a></div></div><div class=\"contnr c0 trm rtl  \" ><div class=\"lbl c0 trm \" ><a class=\" txtu hbo\" target=\"_blank\" href=\"https://shebanq.ancient-data.org/hebrew/word?version=2021&amp;id=1H\" title=\"Show this on SHEBANQ\"><span class=\"txtu hbo\">הַֽ</span></a></div></div><div class=\"contnr c0 trm rtl  \" ><div class=\"lbl c0 trm \" ><a class=\" txtu hbo\" target=\"_blank\" href=\"https://shebanq.ancient-data.org/hebrew/word?version=2021&amp;id=1XJHn\" title=\"Show this on SHEBANQ\"><span class=\"txtu hbo\">חַיָּ֣ה </span></a></div></div><div class=\"contnr c0 trm rtl  \" ><div class=\"lbl c0 trm \" ><a class=\" txtu hbo\" target=\"_blank\" href=\"https://shebanq.ancient-data.org/hebrew/word?version=2021&amp;id=1L\" title=\"Show this on SHEBANQ\"><span class=\"txtu hbo\">לְ</span></a></div></div><div class=\"contnr c0 trm rtl  \" ><div class=\"lbl c0 trm \" ><a class=\" txtu hbo\" target=\"_blank\" href=\"https://shebanq.ancient-data.org/hebrew/word?version=2021&amp;id=1MJNn\" title=\"Show this on SHEBANQ\"><span class=\"txtu hbo\">מִינָ֗הּ </span></a></div></div><div class=\"contnr c0 trm rtl  \" ><div class=\"lbl c0 trm \" ><a class=\" txtu hbo\" target=\"_blank\" href=\"https://shebanq.ancient-data.org/hebrew/word?version=2021&amp;id=1W\" title=\"Show this on SHEBANQ\"><span class=\"txtu hbo\">וְ</span></a></div></div><div class=\"contnr c0 trm rtl  \" ><div class=\"lbl c0 trm \" ><a class=\" txtu hbo\" target=\"_blank\" href=\"https://shebanq.ancient-data.org/hebrew/word?version=2021&amp;id=1KLn\" title=\"Show this on SHEBANQ\"><span class=\"txtu hbo\">כָל־</span></a></div></div><div class=\"contnr c0 trm rtl  \" ><div class=\"lbl c0 trm \" ><a class=\" txtu hbo\" target=\"_blank\" href=\"https://shebanq.ancient-data.org/hebrew/word?version=2021&amp;id=1H\" title=\"Show this on SHEBANQ\"><span class=\"txtu hbo\">הַ</span></a></div></div><div class=\"contnr c0 trm rtl  \" ><div class=\"lbl c0 trm \" ><a class=\" txtu hbo\" target=\"_blank\" href=\"https://shebanq.ancient-data.org/hebrew/word?version=2021&amp;id=1BHMHn\" title=\"Show this on SHEBANQ\"><span class=\"txtu hbo\">בְּהֵמָה֙ </span></a></div></div><div class=\"contnr c0 trm rtl  \" ><div class=\"lbl c0 trm \" ><a class=\" txtu hbo\" target=\"_blank\" href=\"https://shebanq.ancient-data.org/hebrew/word?version=2021&amp;id=1L\" title=\"Show this on SHEBANQ\"><span class=\"txtu hbo\">לְ</span></a></div></div><div class=\"contnr c0 trm rtl  \" ><div class=\"lbl c0 trm \" ><a class=\" txtu hbo\" target=\"_blank\" href=\"https://shebanq.ancient-data.org/hebrew/word?version=2021&amp;id=1MJNn\" title=\"Show this on SHEBANQ\"><span class=\"txtu hbo\">מִינָ֔הּ </span></a></div></div><div class=\"contnr c0 trm rtl  \" ><div class=\"lbl c0 trm \" ><a class=\" txtu hbo\" target=\"_blank\" href=\"https://shebanq.ancient-data.org/hebrew/word?version=2021&amp;id=1W\" title=\"Show this on SHEBANQ\"><span class=\"txtu hbo\">וְ</span></a></div></div><div class=\"contnr c0 trm rtl  \" ><div class=\"lbl c0 trm \" ><a class=\" txtu hbo\" target=\"_blank\" href=\"https://shebanq.ancient-data.org/hebrew/word?version=2021&amp;id=1KLn\" title=\"Show this on SHEBANQ\"><span class=\"txtu hbo\">כָל־</span></a></div></div><div class=\"contnr c0 trm rtl  \" ><div class=\"lbl c0 trm \" ><a class=\" txtu hbo\" target=\"_blank\" href=\"https://shebanq.ancient-data.org/hebrew/word?version=2021&amp;id=1H\" title=\"Show this on SHEBANQ\"><span class=\"txtu hbo\">הָ</span></a></div></div><div class=\"contnr c0 trm rtl  \" ><div class=\"lbl c0 trm \" ><a class=\" txtu hbo\" target=\"_blank\" href=\"https://shebanq.ancient-data.org/hebrew/word?version=2021&amp;id=1RMFn\" title=\"Show this on SHEBANQ\"><span class=\"txtu hbo\">רֶ֛מֶשׂ </span></a></div></div></div></div></div></div><div class=\"contnr c2  rtl r \" ><div class=\"lbl c2  \" ><span class=\"nd\">clause</span></div><div class=\"children hor wrap rtl\"><div class=\"contnr c1  rtl r hl\" ><div class=\"lbl c1  hl\" ><span class=\"nd\">phrase</span></div><div class='features'><span class=\"function xft\" ><span class=\"f\">function=</span>Subj</span></div><div class=\"children hor wrap rtl\"><div class=\"contnr c0 trm rtl  \" ><div class=\"lbl c0 trm \" ><a class=\" txtu hbo\" target=\"_blank\" href=\"https://shebanq.ancient-data.org/hebrew/word?version=2021&amp;id=1L\" title=\"Show this on SHEBANQ\"><span class=\"txtu hbo\">לְ</span></a></div></div><div class=\"contnr c0 trm rtl  \" ><div class=\"lbl c0 trm \" ><a class=\" txtu hbo\" target=\"_blank\" href=\"https://shebanq.ancient-data.org/hebrew/word?version=2021&amp;id=1MJNn\" title=\"Show this on SHEBANQ\"><span class=\"txtu hbo\">מִינֵ֑הוּ </span></a></div></div><div class=\"contnr c0 trm rtl  \" ><div class=\"lbl c0 trm \" ><a class=\" txtu hbo\" target=\"_blank\" href=\"https://shebanq.ancient-data.org/hebrew/word?version=2021&amp;id=1W\" title=\"Show this on SHEBANQ\"><span class=\"txtu hbo\">וְ</span></a></div></div><div class=\"contnr c0 trm rtl  \" ><div class=\"lbl c0 trm \" ><a class=\" txtu hbo\" target=\"_blank\" href=\"https://shebanq.ancient-data.org/hebrew/word?version=2021&amp;id=1KLn\" title=\"Show this on SHEBANQ\"><span class=\"txtu hbo\">כָל־</span></a></div></div><div class=\"contnr c0 trm rtl  \" ><div class=\"lbl c0 trm \" ><a class=\" txtu hbo\" target=\"_blank\" href=\"https://shebanq.ancient-data.org/hebrew/word?version=2021&amp;id=1H\" title=\"Show this on SHEBANQ\"><span class=\"txtu hbo\">הָ</span></a></div></div><div class=\"contnr c0 trm rtl  \" ><div class=\"lbl c0 trm \" ><a class=\" txtu hbo\" target=\"_blank\" href=\"https://shebanq.ancient-data.org/hebrew/word?version=2021&amp;id=1OWPn\" title=\"Show this on SHEBANQ\"><span class=\"txtu hbo\">עֹ֣וף </span></a></div></div><div class=\"contnr c0 trm rtl  \" ><div class=\"lbl c0 trm \" ><a class=\" txtu hbo\" target=\"_blank\" href=\"https://shebanq.ancient-data.org/hebrew/word?version=2021&amp;id=1L\" title=\"Show this on SHEBANQ\"><span class=\"txtu hbo\">לְ</span></a></div></div><div class=\"contnr c0 trm rtl  \" ><div class=\"lbl c0 trm \" ><a class=\" txtu hbo\" target=\"_blank\" href=\"https://shebanq.ancient-data.org/hebrew/word?version=2021&amp;id=1MJNn\" title=\"Show this on SHEBANQ\"><span class=\"txtu hbo\">מִינֵ֔הוּ </span></a></div></div><div class=\"contnr c0 trm rtl  \" ><div class=\"lbl c0 trm \" ><a class=\" txtu hbo\" target=\"_blank\" href=\"https://shebanq.ancient-data.org/hebrew/word?version=2021&amp;id=1KLn\" title=\"Show this on SHEBANQ\"><span class=\"txtu hbo\">כֹּ֖ל </span></a></div></div><div class=\"contnr c0 trm rtl  \" ><div class=\"lbl c0 trm \" ><a class=\" txtu hbo\" target=\"_blank\" href=\"https://shebanq.ancient-data.org/hebrew/word?version=2021&amp;id=1YPWRn\" title=\"Show this on SHEBANQ\"><span class=\"txtu hbo\">צִפֹּ֥ור </span></a></div></div><div class=\"contnr c0 trm rtl  \" ><div class=\"lbl c0 trm \" ><a class=\" txtu hbo\" target=\"_blank\" href=\"https://shebanq.ancient-data.org/hebrew/word?version=2021&amp;id=1KLn\" title=\"Show this on SHEBANQ\"><span class=\"txtu hbo\">כָּל־</span></a></div></div><div class=\"contnr c0 trm rtl  \" ><div class=\"lbl c0 trm \" ><a class=\" txtu hbo\" target=\"_blank\" href=\"https://shebanq.ancient-data.org/hebrew/word?version=2021&amp;id=1KNPn\" title=\"Show this on SHEBANQ\"><span class=\"txtu hbo\">כָּנָֽף׃ </span></a></div></div></div></div></div></div></div>"
      ],
      "text/plain": [
       "<IPython.core.display.HTML object>"
      ]
     },
     "metadata": {},
     "output_type": "display_data"
    }
   ],
   "source": [
    "A.show(results, start=1, end=3, condenseType=\"clause\")"
   ]
  },
  {
   "cell_type": "markdown",
   "metadata": {},
   "source": [
    "We reduce the details by setting the baseType to `phrase`.\n",
    "The highlighted phrases will now get a yellow background."
   ]
  },
  {
   "cell_type": "code",
   "execution_count": 35,
   "metadata": {
    "ExecuteTime": {
     "end_time": "2018-05-24T08:05:41.293060Z",
     "start_time": "2018-05-24T08:05:41.237943Z"
    }
   },
   "outputs": [
    {
     "data": {
      "text/html": [
       "<p><b>result</b> <i>3</i></p>"
      ],
      "text/plain": [
       "<IPython.core.display.HTML object>"
      ]
     },
     "metadata": {},
     "output_type": "display_data"
    },
    {
     "data": {
      "text/html": [
       "<div class=\"tfsechead rtl\"><span class=\"ltr\"><a target=\"_blank\" href=\"https://shebanq.ancient-data.org/hebrew/text?book=Genesis&amp;chapter=7&amp;verse=14&amp;version=2021&amp;mr=m&amp;qw=q&amp;tp=txt_p&amp;tr=hb&amp;wget=v&amp;qget=v&amp;nget=vt\" title=\"Show this on SHEBANQ\" sec=\"Genesis 7:14\">Genesis 7:14</a></span></div><div class=\"rtl children\"><div class=\"contnr c3  rtl  \" ><div class=\"lbl c3  \" ><span class=\"nd\">verse</span></div><div class=\"children hor wrap rtl\"><div class=\"contnr c2  rtl rno \" ><div class=\"lbl c2  \" ><span class=\"nd\">sentence</span></div><div class=\"children hor wrap rtl\"><div class=\"contnr c2  rtl l \" ><div class=\"lbl c2  \" ><span class=\"nd\">clause</span></div><div class=\"children hor wrap rtl\"><div class=\"contnr c1 trm rtl l hl\" ><div class=\"lbl c1 trm hl\" ><span class=\"nd\">phrase</span> <span class=\"\"><span class=\"plain rtl l \" ><span class=\"txtu hbo\">הֵ֜מָּה </span><span class=\"txtu hbo\">וְ</span><span class=\"txtu hbo\">כָל־</span><span class=\"txtu hbo\">הַֽ</span><span class=\"txtu hbo\">חַיָּ֣ה </span><span class=\"txtu hbo\">לְ</span><span class=\"txtu hbo\">מִינָ֗הּ </span><span class=\"txtu hbo\">וְ</span><span class=\"txtu hbo\">כָל־</span><span class=\"txtu hbo\">הַ</span><span class=\"txtu hbo\">בְּהֵמָה֙ </span><span class=\"txtu hbo\">לְ</span><span class=\"txtu hbo\">מִינָ֔הּ </span><span class=\"txtu hbo\">וְ</span><span class=\"txtu hbo\">כָל־</span><span class=\"txtu hbo\">הָ</span><span class=\"txtu hbo\">רֶ֛מֶשׂ </span></span></span></div><div class='features'><span class=\"function xft\" ><span class=\"f\">function=</span>Subj</span></div></div></div></div><div class=\"contnr c2  rtl  \" ><div class=\"lbl c2  \" ><span class=\"nd\">clause</span></div><div class=\"children hor wrap rtl\"><div class=\"contnr c1 trm rtl  \" ><div class=\"lbl c1 trm \" ><span class=\"nd\">phrase</span> <span class=\"\"><span class=\"plain rtl  \" ><span class=\"txtu hbo\">הָ</span></span></span></div><div class='features'><span class=\"function xft\" ><span class=\"f\">function=</span>Rela</span></div></div><div class=\"contnr c1 trm rtl  \" ><div class=\"lbl c1 trm \" ><span class=\"nd\">phrase</span> <span class=\"\"><span class=\"plain rtl  \" ><span class=\"txtu hbo\">רֹמֵ֥שׂ </span></span></span></div><div class='features'><span class=\"function xft\" ><span class=\"f\">function=</span>PreC</span></div></div><div class=\"contnr c1 trm rtl  \" ><div class=\"lbl c1 trm \" ><span class=\"nd\">phrase</span> <span class=\"\"><span class=\"plain rtl  \" ><span class=\"txtu hbo\">עַל־</span><span class=\"txtu hbo\">הָ</span><span class=\"txtu hbo\">אָ֖רֶץ </span></span></span></div><div class='features'><span class=\"function xft\" ><span class=\"f\">function=</span>Cmpl</span></div></div></div></div><div class=\"contnr c2  rtl r \" ><div class=\"lbl c2  \" ><span class=\"nd\">clause</span></div><div class=\"children hor wrap rtl\"><div class=\"contnr c1 trm rtl r hl\" ><div class=\"lbl c1 trm hl\" ><span class=\"nd\">phrase</span> <span class=\"\"><span class=\"plain rtl r \" ><span class=\"txtu hbo\">לְ</span><span class=\"txtu hbo\">מִינֵ֑הוּ </span><span class=\"txtu hbo\">וְ</span><span class=\"txtu hbo\">כָל־</span><span class=\"txtu hbo\">הָ</span><span class=\"txtu hbo\">עֹ֣וף </span><span class=\"txtu hbo\">לְ</span><span class=\"txtu hbo\">מִינֵ֔הוּ </span><span class=\"txtu hbo\">כֹּ֖ל </span><span class=\"txtu hbo\">צִפֹּ֥ור </span><span class=\"txtu hbo\">כָּל־</span><span class=\"txtu hbo\">כָּנָֽף׃ </span></span></span></div><div class='features'><span class=\"function xft\" ><span class=\"f\">function=</span>Subj</span></div></div></div></div></div></div></div></div></div>"
      ],
      "text/plain": [
       "<IPython.core.display.HTML object>"
      ]
     },
     "metadata": {},
     "output_type": "display_data"
    }
   ],
   "source": [
    "A.show(results, start=3, end=3, baseTypes=\"phrase\")"
   ]
  },
  {
   "cell_type": "markdown",
   "metadata": {},
   "source": [
    "We reduce the details by setting the baseType to `phrase_atom`.\n",
    "The highlighted phrases will not get a yellow background now."
   ]
  },
  {
   "cell_type": "code",
   "execution_count": 36,
   "metadata": {
    "ExecuteTime": {
     "end_time": "2018-05-24T08:05:41.293060Z",
     "start_time": "2018-05-24T08:05:41.237943Z"
    }
   },
   "outputs": [
    {
     "data": {
      "text/html": [
       "<p><b>result</b> <i>3</i></p>"
      ],
      "text/plain": [
       "<IPython.core.display.HTML object>"
      ]
     },
     "metadata": {},
     "output_type": "display_data"
    },
    {
     "data": {
      "text/html": [
       "<div class=\"tfsechead rtl\"><span class=\"ltr\"><a target=\"_blank\" href=\"https://shebanq.ancient-data.org/hebrew/text?book=Genesis&amp;chapter=7&amp;verse=14&amp;version=2021&amp;mr=m&amp;qw=q&amp;tp=txt_p&amp;tr=hb&amp;wget=v&amp;qget=v&amp;nget=vt\" title=\"Show this on SHEBANQ\" sec=\"Genesis 7:14\">Genesis 7:14</a></span></div><div class=\"rtl children\"><div class=\"contnr c3  rtl  \" ><div class=\"lbl c3  \" ><span class=\"nd\">verse</span></div><div class=\"children hor wrap rtl\"><div class=\"contnr c2  rtl rno \" ><div class=\"lbl c2  \" ><span class=\"nd\">sentence</span></div><div class=\"children hor wrap rtl\"><div class=\"contnr c2  rtl l \" ><div class=\"lbl c2  \" ><span class=\"nd\">clause</span></div><div class=\"children hor wrap rtl\"><div class=\"contnr c1  rtl l hl\" ><div class=\"lbl c1  hl\" ><span class=\"nd\">phrase</span></div><div class='features'><span class=\"function xft\" ><span class=\"f\">function=</span>Subj</span></div><div class=\"children hor wrap rtl\"><div class=\"contnr c0 trm rtl  \" ><div class=\"lbl c0 trm \" ><a class=\" txtu hbo\" target=\"_blank\" href=\"https://shebanq.ancient-data.org/hebrew/word?version=2021&amp;id=1HMH\" title=\"Show this on SHEBANQ\"><span class=\"txtu hbo\">הֵ֜מָּה </span></a></div></div><div class=\"contnr c0 trm rtl  \" ><div class=\"lbl c0 trm \" ><a class=\" txtu hbo\" target=\"_blank\" href=\"https://shebanq.ancient-data.org/hebrew/word?version=2021&amp;id=1W\" title=\"Show this on SHEBANQ\"><span class=\"txtu hbo\">וְ</span></a></div></div><div class=\"contnr c0 trm rtl  \" ><div class=\"lbl c0 trm \" ><a class=\" txtu hbo\" target=\"_blank\" href=\"https://shebanq.ancient-data.org/hebrew/word?version=2021&amp;id=1KLn\" title=\"Show this on SHEBANQ\"><span class=\"txtu hbo\">כָל־</span></a></div></div><div class=\"contnr c0 trm rtl  \" ><div class=\"lbl c0 trm \" ><a class=\" txtu hbo\" target=\"_blank\" href=\"https://shebanq.ancient-data.org/hebrew/word?version=2021&amp;id=1H\" title=\"Show this on SHEBANQ\"><span class=\"txtu hbo\">הַֽ</span></a></div></div><div class=\"contnr c0 trm rtl  \" ><div class=\"lbl c0 trm \" ><a class=\" txtu hbo\" target=\"_blank\" href=\"https://shebanq.ancient-data.org/hebrew/word?version=2021&amp;id=1XJHn\" title=\"Show this on SHEBANQ\"><span class=\"txtu hbo\">חַיָּ֣ה </span></a></div></div><div class=\"contnr c0 trm rtl  \" ><div class=\"lbl c0 trm \" ><a class=\" txtu hbo\" target=\"_blank\" href=\"https://shebanq.ancient-data.org/hebrew/word?version=2021&amp;id=1L\" title=\"Show this on SHEBANQ\"><span class=\"txtu hbo\">לְ</span></a></div></div><div class=\"contnr c0 trm rtl  \" ><div class=\"lbl c0 trm \" ><a class=\" txtu hbo\" target=\"_blank\" href=\"https://shebanq.ancient-data.org/hebrew/word?version=2021&amp;id=1MJNn\" title=\"Show this on SHEBANQ\"><span class=\"txtu hbo\">מִינָ֗הּ </span></a></div></div><div class=\"contnr c0 trm rtl  \" ><div class=\"lbl c0 trm \" ><a class=\" txtu hbo\" target=\"_blank\" href=\"https://shebanq.ancient-data.org/hebrew/word?version=2021&amp;id=1W\" title=\"Show this on SHEBANQ\"><span class=\"txtu hbo\">וְ</span></a></div></div><div class=\"contnr c0 trm rtl  \" ><div class=\"lbl c0 trm \" ><a class=\" txtu hbo\" target=\"_blank\" href=\"https://shebanq.ancient-data.org/hebrew/word?version=2021&amp;id=1KLn\" title=\"Show this on SHEBANQ\"><span class=\"txtu hbo\">כָל־</span></a></div></div><div class=\"contnr c0 trm rtl  \" ><div class=\"lbl c0 trm \" ><a class=\" txtu hbo\" target=\"_blank\" href=\"https://shebanq.ancient-data.org/hebrew/word?version=2021&amp;id=1H\" title=\"Show this on SHEBANQ\"><span class=\"txtu hbo\">הַ</span></a></div></div><div class=\"contnr c0 trm rtl  \" ><div class=\"lbl c0 trm \" ><a class=\" txtu hbo\" target=\"_blank\" href=\"https://shebanq.ancient-data.org/hebrew/word?version=2021&amp;id=1BHMHn\" title=\"Show this on SHEBANQ\"><span class=\"txtu hbo\">בְּהֵמָה֙ </span></a></div></div><div class=\"contnr c0 trm rtl  \" ><div class=\"lbl c0 trm \" ><a class=\" txtu hbo\" target=\"_blank\" href=\"https://shebanq.ancient-data.org/hebrew/word?version=2021&amp;id=1L\" title=\"Show this on SHEBANQ\"><span class=\"txtu hbo\">לְ</span></a></div></div><div class=\"contnr c0 trm rtl  \" ><div class=\"lbl c0 trm \" ><a class=\" txtu hbo\" target=\"_blank\" href=\"https://shebanq.ancient-data.org/hebrew/word?version=2021&amp;id=1MJNn\" title=\"Show this on SHEBANQ\"><span class=\"txtu hbo\">מִינָ֔הּ </span></a></div></div><div class=\"contnr c0 trm rtl  \" ><div class=\"lbl c0 trm \" ><a class=\" txtu hbo\" target=\"_blank\" href=\"https://shebanq.ancient-data.org/hebrew/word?version=2021&amp;id=1W\" title=\"Show this on SHEBANQ\"><span class=\"txtu hbo\">וְ</span></a></div></div><div class=\"contnr c0 trm rtl  \" ><div class=\"lbl c0 trm \" ><a class=\" txtu hbo\" target=\"_blank\" href=\"https://shebanq.ancient-data.org/hebrew/word?version=2021&amp;id=1KLn\" title=\"Show this on SHEBANQ\"><span class=\"txtu hbo\">כָל־</span></a></div></div><div class=\"contnr c0 trm rtl  \" ><div class=\"lbl c0 trm \" ><a class=\" txtu hbo\" target=\"_blank\" href=\"https://shebanq.ancient-data.org/hebrew/word?version=2021&amp;id=1H\" title=\"Show this on SHEBANQ\"><span class=\"txtu hbo\">הָ</span></a></div></div><div class=\"contnr c0 trm rtl  \" ><div class=\"lbl c0 trm \" ><a class=\" txtu hbo\" target=\"_blank\" href=\"https://shebanq.ancient-data.org/hebrew/word?version=2021&amp;id=1RMFn\" title=\"Show this on SHEBANQ\"><span class=\"txtu hbo\">רֶ֛מֶשׂ </span></a></div></div></div></div></div></div><div class=\"contnr c2  rtl  \" ><div class=\"lbl c2  \" ><span class=\"nd\">clause</span></div><div class=\"children hor wrap rtl\"><div class=\"contnr c1  rtl  \" ><div class=\"lbl c1  \" ><span class=\"nd\">phrase</span></div><div class='features'><span class=\"function xft\" ><span class=\"f\">function=</span>Rela</span></div><div class=\"children hor wrap rtl\"><div class=\"contnr c0 trm rtl  \" ><div class=\"lbl c0 trm \" ><a class=\" txtu hbo\" target=\"_blank\" href=\"https://shebanq.ancient-data.org/hebrew/word?version=2021&amp;id=1H\" title=\"Show this on SHEBANQ\"><span class=\"txtu hbo\">הָ</span></a></div></div></div></div><div class=\"contnr c1  rtl  \" ><div class=\"lbl c1  \" ><span class=\"nd\">phrase</span></div><div class='features'><span class=\"function xft\" ><span class=\"f\">function=</span>PreC</span></div><div class=\"children hor wrap rtl\"><div class=\"contnr c0 trm rtl  \" ><div class=\"lbl c0 trm \" ><a class=\" txtu hbo\" target=\"_blank\" href=\"https://shebanq.ancient-data.org/hebrew/word?version=2021&amp;id=1RMFv\" title=\"Show this on SHEBANQ\"><span class=\"txtu hbo\">רֹמֵ֥שׂ </span></a></div></div></div></div><div class=\"contnr c1  rtl  \" ><div class=\"lbl c1  \" ><span class=\"nd\">phrase</span></div><div class='features'><span class=\"function xft\" ><span class=\"f\">function=</span>Cmpl</span></div><div class=\"children hor wrap rtl\"><div class=\"contnr c0 trm rtl  \" ><div class=\"lbl c0 trm \" ><a class=\" txtu hbo\" target=\"_blank\" href=\"https://shebanq.ancient-data.org/hebrew/word?version=2021&amp;id=1OL\" title=\"Show this on SHEBANQ\"><span class=\"txtu hbo\">עַל־</span></a></div></div><div class=\"contnr c0 trm rtl  \" ><div class=\"lbl c0 trm \" ><a class=\" txtu hbo\" target=\"_blank\" href=\"https://shebanq.ancient-data.org/hebrew/word?version=2021&amp;id=1H\" title=\"Show this on SHEBANQ\"><span class=\"txtu hbo\">הָ</span></a></div></div><div class=\"contnr c0 trm rtl  \" ><div class=\"lbl c0 trm \" ><a class=\" txtu hbo\" target=\"_blank\" href=\"https://shebanq.ancient-data.org/hebrew/word?version=2021&amp;id=1ARYn\" title=\"Show this on SHEBANQ\"><span class=\"txtu hbo\">אָ֖רֶץ </span></a></div></div></div></div></div></div><div class=\"contnr c2  rtl r \" ><div class=\"lbl c2  \" ><span class=\"nd\">clause</span></div><div class=\"children hor wrap rtl\"><div class=\"contnr c1  rtl r hl\" ><div class=\"lbl c1  hl\" ><span class=\"nd\">phrase</span></div><div class='features'><span class=\"function xft\" ><span class=\"f\">function=</span>Subj</span></div><div class=\"children hor wrap rtl\"><div class=\"contnr c0 trm rtl  \" ><div class=\"lbl c0 trm \" ><a class=\" txtu hbo\" target=\"_blank\" href=\"https://shebanq.ancient-data.org/hebrew/word?version=2021&amp;id=1L\" title=\"Show this on SHEBANQ\"><span class=\"txtu hbo\">לְ</span></a></div></div><div class=\"contnr c0 trm rtl  \" ><div class=\"lbl c0 trm \" ><a class=\" txtu hbo\" target=\"_blank\" href=\"https://shebanq.ancient-data.org/hebrew/word?version=2021&amp;id=1MJNn\" title=\"Show this on SHEBANQ\"><span class=\"txtu hbo\">מִינֵ֑הוּ </span></a></div></div><div class=\"contnr c0 trm rtl  \" ><div class=\"lbl c0 trm \" ><a class=\" txtu hbo\" target=\"_blank\" href=\"https://shebanq.ancient-data.org/hebrew/word?version=2021&amp;id=1W\" title=\"Show this on SHEBANQ\"><span class=\"txtu hbo\">וְ</span></a></div></div><div class=\"contnr c0 trm rtl  \" ><div class=\"lbl c0 trm \" ><a class=\" txtu hbo\" target=\"_blank\" href=\"https://shebanq.ancient-data.org/hebrew/word?version=2021&amp;id=1KLn\" title=\"Show this on SHEBANQ\"><span class=\"txtu hbo\">כָל־</span></a></div></div><div class=\"contnr c0 trm rtl  \" ><div class=\"lbl c0 trm \" ><a class=\" txtu hbo\" target=\"_blank\" href=\"https://shebanq.ancient-data.org/hebrew/word?version=2021&amp;id=1H\" title=\"Show this on SHEBANQ\"><span class=\"txtu hbo\">הָ</span></a></div></div><div class=\"contnr c0 trm rtl  \" ><div class=\"lbl c0 trm \" ><a class=\" txtu hbo\" target=\"_blank\" href=\"https://shebanq.ancient-data.org/hebrew/word?version=2021&amp;id=1OWPn\" title=\"Show this on SHEBANQ\"><span class=\"txtu hbo\">עֹ֣וף </span></a></div></div><div class=\"contnr c0 trm rtl  \" ><div class=\"lbl c0 trm \" ><a class=\" txtu hbo\" target=\"_blank\" href=\"https://shebanq.ancient-data.org/hebrew/word?version=2021&amp;id=1L\" title=\"Show this on SHEBANQ\"><span class=\"txtu hbo\">לְ</span></a></div></div><div class=\"contnr c0 trm rtl  \" ><div class=\"lbl c0 trm \" ><a class=\" txtu hbo\" target=\"_blank\" href=\"https://shebanq.ancient-data.org/hebrew/word?version=2021&amp;id=1MJNn\" title=\"Show this on SHEBANQ\"><span class=\"txtu hbo\">מִינֵ֔הוּ </span></a></div></div><div class=\"contnr c0 trm rtl  \" ><div class=\"lbl c0 trm \" ><a class=\" txtu hbo\" target=\"_blank\" href=\"https://shebanq.ancient-data.org/hebrew/word?version=2021&amp;id=1KLn\" title=\"Show this on SHEBANQ\"><span class=\"txtu hbo\">כֹּ֖ל </span></a></div></div><div class=\"contnr c0 trm rtl  \" ><div class=\"lbl c0 trm \" ><a class=\" txtu hbo\" target=\"_blank\" href=\"https://shebanq.ancient-data.org/hebrew/word?version=2021&amp;id=1YPWRn\" title=\"Show this on SHEBANQ\"><span class=\"txtu hbo\">צִפֹּ֥ור </span></a></div></div><div class=\"contnr c0 trm rtl  \" ><div class=\"lbl c0 trm \" ><a class=\" txtu hbo\" target=\"_blank\" href=\"https://shebanq.ancient-data.org/hebrew/word?version=2021&amp;id=1KLn\" title=\"Show this on SHEBANQ\"><span class=\"txtu hbo\">כָּל־</span></a></div></div><div class=\"contnr c0 trm rtl  \" ><div class=\"lbl c0 trm \" ><a class=\" txtu hbo\" target=\"_blank\" href=\"https://shebanq.ancient-data.org/hebrew/word?version=2021&amp;id=1KNPn\" title=\"Show this on SHEBANQ\"><span class=\"txtu hbo\">כָּנָֽף׃ </span></a></div></div></div></div></div></div></div></div></div></div></div>"
      ],
      "text/plain": [
       "<IPython.core.display.HTML object>"
      ]
     },
     "metadata": {},
     "output_type": "display_data"
    }
   ],
   "source": [
    "A.show(results, start=3, end=3, baseTypes={\"phrase_atom\"})"
   ]
  },
  {
   "cell_type": "markdown",
   "metadata": {},
   "source": [
    "## Two-phrase clauses\n",
    "\n",
    "We can find the gaps, but do our minds always reckon with gaps?\n",
    "Gaps cause unexpected semantics.\n",
    "Here is a little puzzle.\n",
    "\n",
    "Suppose we want to count the clauses consisting of exactly two phrases.\n",
    "\n",
    "Here follows a little journey.\n",
    "We use a query to find the clauses, check the result with hand-coding, scratch our heads,\n",
    "refine the query, the hand-coding and our question until we are satisfied.\n",
    "\n",
    "### Attempt 1\n",
    "\n",
    "#### By query\n",
    "\n",
    "The following template should do it:\n",
    "a clause, starting with a phrase, followed by an adjacent phrase,\n",
    "which terminates the clause."
   ]
  },
  {
   "cell_type": "code",
   "execution_count": 37,
   "metadata": {
    "ExecuteTime": {
     "end_time": "2018-05-24T08:56:03.852429Z",
     "start_time": "2018-05-24T08:56:03.849179Z"
    }
   },
   "outputs": [],
   "source": [
    "query = \"\"\"\n",
    "clause\n",
    "    =: phrase\n",
    "    <: phrase\n",
    "    :=\n",
    "\"\"\""
   ]
  },
  {
   "cell_type": "code",
   "execution_count": 38,
   "metadata": {},
   "outputs": [],
   "source": [
    "# ignore this\n",
    "# S.tweakPerformance(yarnRatio=1.2)"
   ]
  },
  {
   "cell_type": "code",
   "execution_count": 39,
   "metadata": {},
   "outputs": [
    {
     "name": "stdout",
     "output_type": "stream",
     "text": [
      "  0.00s Checking search template ...\n",
      "  0.00s Setting up search space for 3 objects ...\n",
      "  0.08s Constraining search space with 5 relations ...\n",
      "  0.61s \t2 edges thinned\n",
      "  0.61s Setting up retrieval plan with strategy small_choice_multi ...\n",
      "  0.62s Ready to deliver results from 264393 nodes\n",
      "Iterate over S.fetch() to get the results\n",
      "See S.showPlan() to interpret the results\n"
     ]
    }
   ],
   "source": [
    "S.study(query)"
   ]
  },
  {
   "cell_type": "code",
   "execution_count": 40,
   "metadata": {},
   "outputs": [
    {
     "name": "stdout",
     "output_type": "stream",
     "text": [
      "Search with 3 objects and 5 relations\n",
      "Results are instantiations of the following objects:\n",
      "node  0-clause                                         88131   choices\n",
      "node  1-phrase                                         88131   choices\n",
      "node  2-phrase                                         88131   choices\n",
      "Performance parameters:\n",
      "\tyarnRatio            =    1.25\n",
      "\ttryLimitFrom         =      40\n",
      "\ttryLimitTo           =      40\n",
      "Instantiations are computed along the following relations:\n",
      "node                                  0-clause         88131   choices\n",
      "edge        0-clause           [[     2-phrase             1.0 choices\n",
      "edge        2-phrase           :=     0-clause             0   choices\n",
      "edge        2-phrase           :>     1-phrase             0.4 choices\n",
      "edge        1-phrase           ]]     0-clause             0   choices\n",
      "edge        0-clause           =:     1-phrase             0   choices\n",
      "  3.37s The results are connected to the original search template as follows:\n",
      " 0     \n",
      " 1 R0  clause\n",
      " 2 R1      =: phrase\n",
      " 3 R2      <: phrase\n",
      " 4         :=\n",
      " 5     \n"
     ]
    }
   ],
   "source": [
    "S.showPlan(details=True)"
   ]
  },
  {
   "cell_type": "code",
   "execution_count": 41,
   "metadata": {
    "ExecuteTime": {
     "end_time": "2018-05-24T08:56:06.276198Z",
     "start_time": "2018-05-24T08:56:05.153080Z"
    }
   },
   "outputs": [
    {
     "name": "stdout",
     "output_type": "stream",
     "text": [
      "  1.01s 23486 results\n"
     ]
    },
    {
     "data": {
      "text/html": [
       "<table><tr class=\"tf rtl\"><th class=\"tf rtl\">n</th><th class=\"tf rtl\">p</th><th class=\"tf rtl\">clause</th><th class=\"tf\">phrase</th><th class=\"tf\">phrase</th></tr>\n",
       "<tr class=\"tf rtl\"><td class=\"tf rtl\">1</td><td class=\"tf rtl\"><span class=\"tfsechead rtl\"><span class=\"ltr\"><a target=\"_blank\" href=\"https://shebanq.ancient-data.org/hebrew/text?book=Genesis&amp;chapter=1&amp;verse=3&amp;version=2021&amp;mr=m&amp;qw=q&amp;tp=txt_p&amp;tr=hb&amp;wget=v&amp;qget=v&amp;nget=vt\" title=\"Show this on SHEBANQ\" sec=\"Genesis 1:3\">Genesis 1:3</a></span></span></td><td class=\"tf rtl\"><span class=\"rtl ubd\"><span class=\"plain rtl  hlbx\" ><span class=\"plain rtl  hlbx\" ><span class=\"txtu hbo\">יְהִ֣י </span></span><span class=\"plain rtl  hlbx\" ><span class=\"txtu hbo\">אֹ֑ור </span></span></span></span></td><td class=\"tf rtl\"><span class=\"rtl ubd\"><span class=\"plain rtl  hlbx\" ><span class=\"txtu hbo\">יְהִ֣י </span></span></span></td><td class=\"tf rtl\"><span class=\"rtl ubd\"><span class=\"plain rtl  hlbx\" ><span class=\"txtu hbo\">אֹ֑ור </span></span></span></td></tr>\n",
       "<tr class=\"tf rtl\"><td class=\"tf rtl\">2</td><td class=\"tf rtl\"><span class=\"tfsechead rtl\"><span class=\"ltr\"><a target=\"_blank\" href=\"https://shebanq.ancient-data.org/hebrew/text?book=Genesis&amp;chapter=1&amp;verse=4&amp;version=2021&amp;mr=m&amp;qw=q&amp;tp=txt_p&amp;tr=hb&amp;wget=v&amp;qget=v&amp;nget=vt\" title=\"Show this on SHEBANQ\" sec=\"Genesis 1:4\">Genesis 1:4</a></span></span></td><td class=\"tf rtl\"><span class=\"rtl ubd\"><span class=\"plain rtl  hlbx\" ><span class=\"plain rtl  hlbx\" ><span class=\"txtu hbo\">כִּי־</span></span><span class=\"plain rtl  hlbx\" ><span class=\"txtu hbo\">טֹ֑וב </span></span></span></span></td><td class=\"tf rtl\"><span class=\"rtl ubd\"><span class=\"plain rtl  hlbx\" ><span class=\"txtu hbo\">כִּי־</span></span></span></td><td class=\"tf rtl\"><span class=\"rtl ubd\"><span class=\"plain rtl  hlbx\" ><span class=\"txtu hbo\">טֹ֑וב </span></span></span></td></tr>\n",
       "<tr class=\"tf rtl\"><td class=\"tf rtl\">3</td><td class=\"tf rtl\"><span class=\"tfsechead rtl\"><span class=\"ltr\"><a target=\"_blank\" href=\"https://shebanq.ancient-data.org/hebrew/text?book=Genesis&amp;chapter=1&amp;verse=7&amp;version=2021&amp;mr=m&amp;qw=q&amp;tp=txt_p&amp;tr=hb&amp;wget=v&amp;qget=v&amp;nget=vt\" title=\"Show this on SHEBANQ\" sec=\"Genesis 1:7\">Genesis 1:7</a></span></span></td><td class=\"tf rtl\"><span class=\"rtl ubd\"><span class=\"plain rtl  hlbx\" ><span class=\"plain rtl  hlbx\" ><span class=\"txtu hbo\">אֲשֶׁר֙ </span></span><span class=\"plain rtl  hlbx\" ><span class=\"txtu hbo\">מִ</span><span class=\"txtu hbo\">תַּ֣חַת </span><span class=\"txtu hbo\">לָ</span><span class=\"txtu hbo\">רָקִ֔יעַ </span></span></span></span></td><td class=\"tf rtl\"><span class=\"rtl ubd\"><span class=\"plain rtl  hlbx\" ><span class=\"txtu hbo\">אֲשֶׁר֙ </span></span></span></td><td class=\"tf rtl\"><span class=\"rtl ubd\"><span class=\"plain rtl  hlbx\" ><span class=\"txtu hbo\">מִ</span><span class=\"txtu hbo\">תַּ֣חַת </span><span class=\"txtu hbo\">לָ</span><span class=\"txtu hbo\">רָקִ֔יעַ </span></span></span></td></tr>\n",
       "<tr class=\"tf rtl\"><td class=\"tf rtl\">4</td><td class=\"tf rtl\"><span class=\"tfsechead rtl\"><span class=\"ltr\"><a target=\"_blank\" href=\"https://shebanq.ancient-data.org/hebrew/text?book=Genesis&amp;chapter=1&amp;verse=7&amp;version=2021&amp;mr=m&amp;qw=q&amp;tp=txt_p&amp;tr=hb&amp;wget=v&amp;qget=v&amp;nget=vt\" title=\"Show this on SHEBANQ\" sec=\"Genesis 1:7\">Genesis 1:7</a></span></span></td><td class=\"tf rtl\"><span class=\"rtl ubd\"><span class=\"plain rtl  hlbx\" ><span class=\"plain rtl  hlbx\" ><span class=\"txtu hbo\">אֲשֶׁ֖ר </span></span><span class=\"plain rtl  hlbx\" ><span class=\"txtu hbo\">מֵ</span><span class=\"txtu hbo\">עַ֣ל </span><span class=\"txtu hbo\">לָ</span><span class=\"txtu hbo\">רָקִ֑יעַ </span></span></span></span></td><td class=\"tf rtl\"><span class=\"rtl ubd\"><span class=\"plain rtl  hlbx\" ><span class=\"txtu hbo\">אֲשֶׁ֖ר </span></span></span></td><td class=\"tf rtl\"><span class=\"rtl ubd\"><span class=\"plain rtl  hlbx\" ><span class=\"txtu hbo\">מֵ</span><span class=\"txtu hbo\">עַ֣ל </span><span class=\"txtu hbo\">לָ</span><span class=\"txtu hbo\">רָקִ֑יעַ </span></span></span></td></tr>\n",
       "<tr class=\"tf rtl\"><td class=\"tf rtl\">5</td><td class=\"tf rtl\"><span class=\"tfsechead rtl\"><span class=\"ltr\"><a target=\"_blank\" href=\"https://shebanq.ancient-data.org/hebrew/text?book=Genesis&amp;chapter=1&amp;verse=10&amp;version=2021&amp;mr=m&amp;qw=q&amp;tp=txt_p&amp;tr=hb&amp;wget=v&amp;qget=v&amp;nget=vt\" title=\"Show this on SHEBANQ\" sec=\"Genesis 1:10\">Genesis 1:10</a></span></span></td><td class=\"tf rtl\"><span class=\"rtl ubd\"><span class=\"plain rtl  hlbx\" ><span class=\"plain rtl  hlbx\" ><span class=\"txtu hbo\">כִּי־</span></span><span class=\"plain rtl  hlbx\" ><span class=\"txtu hbo\">טֹֽוב׃ </span></span></span></span></td><td class=\"tf rtl\"><span class=\"rtl ubd\"><span class=\"plain rtl  hlbx\" ><span class=\"txtu hbo\">כִּי־</span></span></span></td><td class=\"tf rtl\"><span class=\"rtl ubd\"><span class=\"plain rtl  hlbx\" ><span class=\"txtu hbo\">טֹֽוב׃ </span></span></span></td></tr>\n",
       "<tr class=\"tf rtl\"><td class=\"tf rtl\">6</td><td class=\"tf rtl\"><span class=\"tfsechead rtl\"><span class=\"ltr\"><a target=\"_blank\" href=\"https://shebanq.ancient-data.org/hebrew/text?book=Genesis&amp;chapter=1&amp;verse=11&amp;version=2021&amp;mr=m&amp;qw=q&amp;tp=txt_p&amp;tr=hb&amp;wget=v&amp;qget=v&amp;nget=vt\" title=\"Show this on SHEBANQ\" sec=\"Genesis 1:11\">Genesis 1:11</a></span></span></td><td class=\"tf rtl\"><span class=\"rtl ubd\"><span class=\"plain rtl  hlbx\" ><span class=\"plain rtl  hlbx\" ><span class=\"txtu hbo\">מַזְרִ֣יעַ </span></span><span class=\"plain rtl  hlbx\" ><span class=\"txtu hbo\">זֶ֔רַע </span></span></span></span></td><td class=\"tf rtl\"><span class=\"rtl ubd\"><span class=\"plain rtl  hlbx\" ><span class=\"txtu hbo\">מַזְרִ֣יעַ </span></span></span></td><td class=\"tf rtl\"><span class=\"rtl ubd\"><span class=\"plain rtl  hlbx\" ><span class=\"txtu hbo\">זֶ֔רַע </span></span></span></td></tr>\n",
       "<tr class=\"tf rtl\"><td class=\"tf rtl\">7</td><td class=\"tf rtl\"><span class=\"tfsechead rtl\"><span class=\"ltr\"><a target=\"_blank\" href=\"https://shebanq.ancient-data.org/hebrew/text?book=Genesis&amp;chapter=1&amp;verse=12&amp;version=2021&amp;mr=m&amp;qw=q&amp;tp=txt_p&amp;tr=hb&amp;wget=v&amp;qget=v&amp;nget=vt\" title=\"Show this on SHEBANQ\" sec=\"Genesis 1:12\">Genesis 1:12</a></span></span></td><td class=\"tf rtl\"><span class=\"rtl ubd\"><span class=\"plain rtl  hlbx\" ><span class=\"plain rtl  hlbx\" ><span class=\"txtu hbo\">כִּי־</span></span><span class=\"plain rtl  hlbx\" ><span class=\"txtu hbo\">טֹֽוב׃ </span></span></span></span></td><td class=\"tf rtl\"><span class=\"rtl ubd\"><span class=\"plain rtl  hlbx\" ><span class=\"txtu hbo\">כִּי־</span></span></span></td><td class=\"tf rtl\"><span class=\"rtl ubd\"><span class=\"plain rtl  hlbx\" ><span class=\"txtu hbo\">טֹֽוב׃ </span></span></span></td></tr></table>"
      ],
      "text/plain": [
       "<IPython.core.display.HTML object>"
      ]
     },
     "metadata": {},
     "output_type": "display_data"
    }
   ],
   "source": [
    "results = A.search(query)\n",
    "A.table(results, end=7)"
   ]
  },
  {
   "cell_type": "markdown",
   "metadata": {},
   "source": [
    "If we want to have the clauses only, we run it in shallow mode:"
   ]
  },
  {
   "cell_type": "code",
   "execution_count": 42,
   "metadata": {},
   "outputs": [
    {
     "name": "stdout",
     "output_type": "stream",
     "text": [
      "  1.01s 23486 results\n"
     ]
    }
   ],
   "source": [
    "clausesByQuery = sorted(A.search(query, shallow=True))"
   ]
  },
  {
   "cell_type": "markdown",
   "metadata": {},
   "source": [
    "Note result 3 above: it seems we have 3 phrases. Yet there are only 2. We take a closer look:"
   ]
  },
  {
   "cell_type": "code",
   "execution_count": 43,
   "metadata": {},
   "outputs": [
    {
     "data": {
      "text/html": [
       "<div class=\"tfsechead rtl\"><span class=\"ltr\"><a target=\"_blank\" href=\"https://shebanq.ancient-data.org/hebrew/text?book=Genesis&amp;chapter=1&amp;verse=7&amp;version=2021&amp;mr=m&amp;qw=q&amp;tp=txt_p&amp;tr=hb&amp;wget=v&amp;qget=v&amp;nget=vt\" title=\"Show this on SHEBANQ\" sec=\"Genesis 1:7\">Genesis 1:7</a></span></div><div class=\"rtl children\"><div class=\"contnr c2  rtl  \" ><div class=\"lbl c2  \" ><span class=\"nd\">clause</span></div><div class=\"children hor wrap rtl\"><div class=\"contnr c1  rtl  \" ><div class=\"lbl c1  \" ><span class=\"nd\">phrase</span></div><div class=\"children hor wrap rtl\"><div class=\"contnr c0 trm rtl  \" ><div class=\"lbl c0 trm \" ><a class=\" txtu hbo\" target=\"_blank\" href=\"https://shebanq.ancient-data.org/hebrew/word?version=2021&amp;id=1ACR\" title=\"Show this on SHEBANQ\"><span class=\"txtu hbo\">אֲשֶׁר֙ </span></a></div></div></div></div><div class=\"contnr c1  rtl  \" ><div class=\"lbl c1  \" ><span class=\"nd\">phrase</span></div><div class=\"children hor wrap rtl\"><div class=\"contnr c0 trm rtl  \" ><div class=\"lbl c0 trm \" ><a class=\" txtu hbo\" target=\"_blank\" href=\"https://shebanq.ancient-data.org/hebrew/word?version=2021&amp;id=1MN\" title=\"Show this on SHEBANQ\"><span class=\"txtu hbo\">מִ</span></a></div></div><div class=\"contnr c0 trm rtl  \" ><div class=\"lbl c0 trm \" ><a class=\" txtu hbo\" target=\"_blank\" href=\"https://shebanq.ancient-data.org/hebrew/word?version=2021&amp;id=1TXTn\" title=\"Show this on SHEBANQ\"><span class=\"txtu hbo\">תַּ֣חַת </span></a></div></div><div class=\"contnr c0 trm rtl  \" ><div class=\"lbl c0 trm \" ><a class=\" txtu hbo\" target=\"_blank\" href=\"https://shebanq.ancient-data.org/hebrew/word?version=2021&amp;id=1L\" title=\"Show this on SHEBANQ\"><span class=\"txtu hbo\">לָ</span></a></div></div><div class=\"contnr c0 trm rtl  \" ><div class=\"lbl c0 trm \" ><a class=\" txtu hbo\" target=\"_blank\" href=\"https://shebanq.ancient-data.org/hebrew/word?version=2021&amp;id=1H\" title=\"Show this on SHEBANQ\"></a></div></div><div class=\"contnr c0 trm rtl  \" ><div class=\"lbl c0 trm \" ><a class=\" txtu hbo\" target=\"_blank\" href=\"https://shebanq.ancient-data.org/hebrew/word?version=2021&amp;id=1RQJOn\" title=\"Show this on SHEBANQ\"><span class=\"txtu hbo\">רָקִ֔יעַ </span></a></div></div></div></div></div></div></div>"
      ],
      "text/plain": [
       "<IPython.core.display.HTML object>"
      ]
     },
     "metadata": {},
     "output_type": "display_data"
    }
   ],
   "source": [
    "focus = results[2][0]\n",
    "A.pretty(focus)"
   ]
  },
  {
   "cell_type": "markdown",
   "metadata": {},
   "source": [
    "One phrase is chunked into two *phrase atoms*, which are hidden by default. Let's make that more clear:"
   ]
  },
  {
   "cell_type": "code",
   "execution_count": 44,
   "metadata": {},
   "outputs": [
    {
     "data": {
      "text/html": [
       "<div class=\"tfsechead rtl\"><span class=\"ltr\"><a target=\"_blank\" href=\"https://shebanq.ancient-data.org/hebrew/text?book=Genesis&amp;chapter=1&amp;verse=7&amp;version=2021&amp;mr=m&amp;qw=q&amp;tp=txt_p&amp;tr=hb&amp;wget=v&amp;qget=v&amp;nget=vt\" title=\"Show this on SHEBANQ\" sec=\"Genesis 1:7\">Genesis 1:7</a></span></div><div class=\"rtl children\"><div class=\"contnr c2  rtl  \" ><div class=\"lbl c2  \" ><span class=\"nd\">clause</span></div><div class=\"children hor wrap rtl\"><div class=\"contnr c1  rtl  \" ><div class=\"lbl c1  \" ><span class=\"nd\">clause_atom</span></div><div class=\"children hor wrap rtl\"><div class=\"contnr c1  rtl  \" ><div class=\"lbl c1  \" ><span class=\"nd\">phrase</span></div><div class=\"children hor wrap rtl\"><div class=\"contnr c1  rtl  \" ><div class=\"lbl c1  \" ><span class=\"nd\">phrase_atom</span></div><div class=\"children hor wrap rtl\"><div class=\"contnr c0 trm rtl  \" ><div class=\"lbl c0 trm \" ><a class=\" txtu hbo\" target=\"_blank\" href=\"https://shebanq.ancient-data.org/hebrew/word?version=2021&amp;id=1ACR\" title=\"Show this on SHEBANQ\"><span class=\"txtu hbo\">אֲשֶׁר֙ </span></a></div></div></div></div></div></div><div class=\"contnr c1  rtl  \" ><div class=\"lbl c1  \" ><span class=\"nd\">phrase</span></div><div class=\"children hor wrap rtl\"><div class=\"contnr c1  rtl  \" ><div class=\"lbl c1  \" ><span class=\"nd\">phrase_atom</span></div><div class=\"children hor wrap rtl\"><div class=\"contnr c0 trm rtl  \" ><div class=\"lbl c0 trm \" ><a class=\" txtu hbo\" target=\"_blank\" href=\"https://shebanq.ancient-data.org/hebrew/word?version=2021&amp;id=1MN\" title=\"Show this on SHEBANQ\"><span class=\"txtu hbo\">מִ</span></a></div></div><div class=\"contnr c0 trm rtl  \" ><div class=\"lbl c0 trm \" ><a class=\" txtu hbo\" target=\"_blank\" href=\"https://shebanq.ancient-data.org/hebrew/word?version=2021&amp;id=1TXTn\" title=\"Show this on SHEBANQ\"><span class=\"txtu hbo\">תַּ֣חַת </span></a></div></div></div></div><div class=\"contnr c1  rtl  \" ><div class=\"lbl c1  \" ><span class=\"nd\">phrase_atom</span></div><div class=\"children hor wrap rtl\"><div class=\"contnr c0 trm rtl  \" ><div class=\"lbl c0 trm \" ><a class=\" txtu hbo\" target=\"_blank\" href=\"https://shebanq.ancient-data.org/hebrew/word?version=2021&amp;id=1L\" title=\"Show this on SHEBANQ\"><span class=\"txtu hbo\">לָ</span></a></div></div><div class=\"contnr c0 trm rtl  \" ><div class=\"lbl c0 trm \" ><a class=\" txtu hbo\" target=\"_blank\" href=\"https://shebanq.ancient-data.org/hebrew/word?version=2021&amp;id=1H\" title=\"Show this on SHEBANQ\"></a></div></div><div class=\"contnr c0 trm rtl  \" ><div class=\"lbl c0 trm \" ><a class=\" txtu hbo\" target=\"_blank\" href=\"https://shebanq.ancient-data.org/hebrew/word?version=2021&amp;id=1RQJOn\" title=\"Show this on SHEBANQ\"><span class=\"txtu hbo\">רָקִ֔יעַ </span></a></div></div></div></div></div></div></div></div></div></div></div>"
      ],
      "text/plain": [
       "<IPython.core.display.HTML object>"
      ]
     },
     "metadata": {},
     "output_type": "display_data"
    }
   ],
   "source": [
    "A.pretty(focus, hideTypes=False)"
   ]
  },
  {
   "cell_type": "markdown",
   "metadata": {},
   "source": [
    "#### By hand\n",
    "\n",
    "Let us check this with a piece of hand-written code.\n",
    "We want clauses that consist of exactly two phrases."
   ]
  },
  {
   "cell_type": "code",
   "execution_count": 45,
   "metadata": {
    "ExecuteTime": {
     "end_time": "2018-05-24T08:56:12.592108Z",
     "start_time": "2018-05-24T08:56:11.096022Z"
    }
   },
   "outputs": [
    {
     "name": "stdout",
     "output_type": "stream",
     "text": [
      "  0.00s counting ...\n",
      "  0.61s Done: found 23864\n"
     ]
    }
   ],
   "source": [
    "A.indent(reset=True)\n",
    "A.info(\"counting ...\")\n",
    "\n",
    "clausesByHand = []\n",
    "for clause in F.otype.s(\"clause\"):\n",
    "    phrases = L.d(clause, otype=\"phrase\")\n",
    "    if len(phrases) == 2:\n",
    "        clausesByHand.append(clause)\n",
    "clausesByHand = sorted(clausesByHand)\n",
    "A.info(f\"Done: found {len(clausesByHand)}\")"
   ]
  },
  {
   "cell_type": "markdown",
   "metadata": {},
   "source": [
    "#### The difference"
   ]
  },
  {
   "cell_type": "markdown",
   "metadata": {
    "lines_to_next_cell": 2
   },
   "source": [
    "Strange, we end up with more cases. What is happening? Let us compare the results.\n",
    "We look at the first result where both methods diverge.\n",
    "\n",
    "We put the difference finding in a little function."
   ]
  },
  {
   "cell_type": "code",
   "execution_count": 46,
   "metadata": {
    "ExecuteTime": {
     "end_time": "2018-05-24T08:56:16.255454Z",
     "start_time": "2018-05-24T08:56:16.244135Z"
    }
   },
   "outputs": [],
   "source": [
    "def showDiff(queryResults, handResults):\n",
    "    diff = [x for x in zip(queryResults, handResults) if x[0] != x[1]]\n",
    "    if not diff:\n",
    "        print(\n",
    "            f\"\"\"\n",
    "{len(queryResults):>6} queryResults\n",
    "         are identical with\n",
    "{len(handResults):>6} handResults\n",
    "\"\"\"\n",
    "        )\n",
    "        return\n",
    "    (rQuery, rHand) = diff[0]\n",
    "    if rQuery < rHand:\n",
    "        print(f\"clause {rQuery} is a query result but not found by hand\")\n",
    "        toShow = rQuery\n",
    "    else:\n",
    "        print(f\"clause {rHand} is not a query result but has been found by hand\")\n",
    "        toShow = rHand\n",
    "    colors = [\"aqua\", \"aquamarine\", \"khaki\", \"lavender\", \"yellow\"]\n",
    "    highlights = {}\n",
    "    for (i, phrase) in enumerate(L.d(toShow, otype=\"phrase\")):\n",
    "        highlights[phrase] = colors[i % len(colors)]\n",
    "        for atom in L.d(phrase, otype=\"phrase_atom\"):\n",
    "            highlights[atom] = colors[i % len(colors)]\n",
    "    A.pretty(\n",
    "        toShow,\n",
    "        hideTypes=False,\n",
    "        withNodes=True,\n",
    "        suppress={\"lex\", \"sp\", \"vt\", \"vs\"},\n",
    "        highlights=highlights,\n",
    "        baseTypes=\"phrase_atom\",\n",
    "    )"
   ]
  },
  {
   "cell_type": "code",
   "execution_count": 47,
   "metadata": {
    "ExecuteTime": {
     "end_time": "2018-05-24T08:56:16.255454Z",
     "start_time": "2018-05-24T08:56:16.244135Z"
    }
   },
   "outputs": [
    {
     "name": "stdout",
     "output_type": "stream",
     "text": [
      "clause 427937 is not a query result but has been found by hand\n"
     ]
    },
    {
     "data": {
      "text/html": [
       "<div class=\"tfsechead rtl\"><span class=\"ltr\"><a target=\"_blank\" href=\"https://shebanq.ancient-data.org/hebrew/text?book=Genesis&amp;chapter=4&amp;verse=14&amp;version=2021&amp;mr=m&amp;qw=q&amp;tp=txt_p&amp;tr=hb&amp;wget=v&amp;qget=v&amp;nget=vt\" title=\"Show this on SHEBANQ\" sec=\"Genesis 4:14\">Genesis 4:14</a></span></div><div class=\"rtl children\"><div class=\"contnr c2  rtl l \" ><div class=\"lbl c2  \" ><span class=\"nd\">clause:427937</span></div><div class=\"children hor wrap rtl\"><div class=\"contnr c1  rtl  \" ><div class=\"lbl c1  \" ><span class=\"nd\">clause_atom:516080</span></div><div class=\"children hor wrap rtl\"><div class=\"contnr c1  rtl  hl\"  style=\"background-color: aqua;\" ><div class=\"lbl c1  hl\"  style=\"background-color: aqua;\" ><span class=\"nd\">phrase:652701</span></div><div class=\"children hor wrap rtl\"><div class=\"contnr c1 trm rtl  hl\"  style=\"background-color: aqua;\" ><div class=\"lbl c1 trm hl\"  style=\"background-color: aqua;\" ><span class=\"nd\">phrase_atom:905945</span> <span class=\"\"><span class=\"plain rtl  \" ><span class=\"txtu hbo\">כָל־</span></span></span></div></div></div></div></div></div></div></div><div class=\"contnr c2  rtl r \" ><div class=\"lbl c2  \" ><span class=\"nd\">clause:427937</span></div><div class=\"children hor wrap rtl\"><div class=\"contnr c1  rtl  \" ><div class=\"lbl c1  \" ><span class=\"nd\">clause_atom:516082</span></div><div class=\"children hor wrap rtl\"><div class=\"contnr c1  rtl  hl\"  style=\"background-color: aquamarine;\" ><div class=\"lbl c1  hl\"  style=\"background-color: aquamarine;\" ><span class=\"nd\">phrase:652703</span></div><div class=\"children hor wrap rtl\"><div class=\"contnr c1 trm rtl  hl\"  style=\"background-color: aquamarine;\" ><div class=\"lbl c1 trm hl\"  style=\"background-color: aquamarine;\" ><span class=\"nd\">phrase_atom:905947</span> <span class=\"\"><span class=\"plain rtl  \" ><span class=\"txtu hbo\">יַֽהַרְגֵֽנִי׃ </span></span></span></div></div></div></div></div></div></div></div></div>"
      ],
      "text/plain": [
       "<IPython.core.display.HTML object>"
      ]
     },
     "metadata": {},
     "output_type": "display_data"
    }
   ],
   "source": [
    "showDiff(clausesByQuery, clausesByHand)"
   ]
  },
  {
   "cell_type": "markdown",
   "metadata": {},
   "source": [
    "Lo and behold:\n",
    "\n",
    "* the hand-written code is right in a sense: this is a clause that consists exactly of two phrases.\n",
    "* the query is also right in a sense: the two phrases are not adjacent: there is a gap in the clause between them!"
   ]
  },
  {
   "cell_type": "markdown",
   "metadata": {},
   "source": [
    "### Attempt 2\n",
    "\n",
    "#### By hand\n",
    "\n",
    "We modify the hand-written code such that only clauses qualify if the two phrases are adjacent."
   ]
  },
  {
   "cell_type": "code",
   "execution_count": 48,
   "metadata": {
    "ExecuteTime": {
     "end_time": "2018-05-24T08:56:12.592108Z",
     "start_time": "2018-05-24T08:56:11.096022Z"
    }
   },
   "outputs": [
    {
     "name": "stdout",
     "output_type": "stream",
     "text": [
      "  0.00s counting ...\n",
      "  0.71s Done: found 23403\n"
     ]
    }
   ],
   "source": [
    "A.indent(reset=True)\n",
    "A.info(\"counting ...\")\n",
    "\n",
    "clausesByHand2 = []\n",
    "for clause in F.otype.s(\"clause\"):\n",
    "    phrases = L.d(clause, otype=\"phrase\")\n",
    "    if len(phrases) == 2:\n",
    "        if L.d(phrases[0], otype=\"word\")[-1] + 1 == L.d(phrases[1], otype=\"word\")[0]:\n",
    "            clausesByHand2.append(clause)\n",
    "clausesByHand2 = sorted(clausesByHand2)\n",
    "A.info(f\"Done: found {len(clausesByHand2)}\")"
   ]
  },
  {
   "cell_type": "markdown",
   "metadata": {},
   "source": [
    "#### The difference\n",
    "\n",
    "Now we have less cases. What is going on?"
   ]
  },
  {
   "cell_type": "code",
   "execution_count": 49,
   "metadata": {
    "ExecuteTime": {
     "end_time": "2018-05-24T08:56:16.255454Z",
     "start_time": "2018-05-24T08:56:16.244135Z"
    }
   },
   "outputs": [
    {
     "name": "stdout",
     "output_type": "stream",
     "text": [
      "clause 428698 is a query result but not found by hand\n"
     ]
    },
    {
     "data": {
      "text/html": [
       "<div class=\"tfsechead rtl\"><span class=\"ltr\"><a target=\"_blank\" href=\"https://shebanq.ancient-data.org/hebrew/text?book=Genesis&amp;chapter=14&amp;verse=16&amp;version=2021&amp;mr=m&amp;qw=q&amp;tp=txt_p&amp;tr=hb&amp;wget=v&amp;qget=v&amp;nget=vt\" title=\"Show this on SHEBANQ\" sec=\"Genesis 14:16\">Genesis 14:16</a></span></div><div class=\"rtl children\"><div class=\"contnr c2  rtl  \" ><div class=\"lbl c2  \" ><span class=\"nd\">clause:428698</span></div><div class=\"children hor wrap rtl\"><div class=\"contnr c1  rtl  \" ><div class=\"lbl c1  \" ><span class=\"nd\">clause_atom:516896</span></div><div class=\"children hor wrap rtl\"><div class=\"contnr c1  rtl  hl\"  style=\"background-color: aqua;\" ><div class=\"lbl c1  hl\"  style=\"background-color: aqua;\" ><span class=\"nd\">phrase:655130</span></div><div class=\"children hor wrap rtl\"><div class=\"contnr c1 trm rtl  hl\"  style=\"background-color: aqua;\" ><div class=\"lbl c1 trm hl\"  style=\"background-color: aqua;\" ><span class=\"nd\">phrase_atom:908523</span> <span class=\"\"><span class=\"plain rtl  \" ><span class=\"txtu hbo\">וְ</span></span></span></div></div></div></div><div class=\"contnr c1  rtl l hl\"  style=\"background-color: aquamarine;\" ><div class=\"lbl c1  hl\"  style=\"background-color: aquamarine;\" ><span class=\"nd\">phrase:655131</span></div><div class=\"children hor wrap rtl\"><div class=\"contnr c1 trm rtl  hl\"  style=\"background-color: aquamarine;\" ><div class=\"lbl c1 trm hl\"  style=\"background-color: aquamarine;\" ><span class=\"nd\">phrase_atom:908524</span> <span class=\"\"><span class=\"plain rtl  \" ><span class=\"txtu hbo\">גַם֩ </span><span class=\"txtu hbo\">אֶת־</span><span class=\"txtu hbo\">לֹ֨וט </span></span></span></div></div><div class=\"contnr c1 trm rtl  hl\"  style=\"background-color: aquamarine;\" ><div class=\"lbl c1 trm hl\"  style=\"background-color: aquamarine;\" ><span class=\"nd\">phrase_atom:908525</span> <span class=\"\"><span class=\"plain rtl  \" ><span class=\"txtu hbo\">אָחִ֤יו </span></span></span></div></div><div class=\"contnr c1 trm rtl  hl\"  style=\"background-color: aquamarine;\" ><div class=\"lbl c1 trm hl\"  style=\"background-color: aquamarine;\" ><span class=\"nd\">phrase_atom:908526</span> <span class=\"\"><span class=\"plain rtl  \" ><span class=\"txtu hbo\">וּ</span></span></span></div></div><div class=\"contnr c1 trm rtl  hl\"  style=\"background-color: aquamarine;\" ><div class=\"lbl c1 trm hl\"  style=\"background-color: aquamarine;\" ><span class=\"nd\">phrase_atom:908527</span> <span class=\"\"><span class=\"plain rtl  \" ><span class=\"txtu hbo\">רְכֻשֹׁו֙ </span></span></span></div></div></div></div><div class=\"contnr c1  rtl  hl\"  style=\"background-color: khaki;\" ><div class=\"lbl c1  hl\"  style=\"background-color: khaki;\" ><span class=\"nd\">phrase:655132</span></div><div class=\"children hor wrap rtl\"><div class=\"contnr c1 trm rtl  hl\"  style=\"background-color: khaki;\" ><div class=\"lbl c1 trm hl\"  style=\"background-color: khaki;\" ><span class=\"nd\">phrase_atom:908528</span> <span class=\"\"><span class=\"plain rtl  \" ><span class=\"txtu hbo\">הֵשִׁ֔יב </span></span></span></div></div></div></div><div class=\"contnr c1  rtl r hl\"  style=\"background-color: aquamarine;\" ><div class=\"lbl c1  hl\"  style=\"background-color: aquamarine;\" ><span class=\"nd\">phrase:655131</span></div><div class=\"children hor wrap rtl\"><div class=\"contnr c1 trm rtl  hl\"  style=\"background-color: aquamarine;\" ><div class=\"lbl c1 trm hl\"  style=\"background-color: aquamarine;\" ><span class=\"nd\">phrase_atom:908529</span> <span class=\"\"><span class=\"plain rtl  \" ><span class=\"txtu hbo\">וְ</span></span></span></div></div><div class=\"contnr c1 trm rtl  hl\"  style=\"background-color: aquamarine;\" ><div class=\"lbl c1 trm hl\"  style=\"background-color: aquamarine;\" ><span class=\"nd\">phrase_atom:908530</span> <span class=\"\"><span class=\"plain rtl  \" ><span class=\"txtu hbo\">גַ֥ם </span><span class=\"txtu hbo\">אֶת־</span><span class=\"txtu hbo\">הַ</span><span class=\"txtu hbo\">נָּשִׁ֖ים </span><span class=\"txtu hbo\">וְ</span><span class=\"txtu hbo\">אֶת־</span><span class=\"txtu hbo\">הָ</span><span class=\"txtu hbo\">עָֽם׃ </span></span></span></div></div></div></div></div></div></div></div></div>"
      ],
      "text/plain": [
       "<IPython.core.display.HTML object>"
      ]
     },
     "metadata": {},
     "output_type": "display_data"
    }
   ],
   "source": [
    "showDiff(clausesByQuery, clausesByHand2)"
   ]
  },
  {
   "cell_type": "markdown",
   "metadata": {},
   "source": [
    "Observe:\n",
    "\n",
    "This clause has three phrases, but the third one lies inside the second one.\n",
    "\n",
    "* the hand-written code is right in a sense: this clause has three phrases.\n",
    "* the query is right in a sense: it contains two adjacent phrases that together span the whole clause."
   ]
  },
  {
   "cell_type": "markdown",
   "metadata": {},
   "source": [
    "### Attempt 3\n",
    "\n",
    "#### By query\n",
    "\n",
    "Can we adjust the pattern to exclude cases like this?\n",
    "Yes, with custom sets, see [advanced](searchAdvanced.ipynb).\n",
    "\n",
    "Instead of looking through all phrases, we can just consider non gapped phrases only.\n",
    "\n",
    "Earlier in this notebook we have constructed the set of non-gapped phrases\n",
    "and put it under the name `conphrase` in the custom sets."
   ]
  },
  {
   "cell_type": "code",
   "execution_count": 50,
   "metadata": {},
   "outputs": [
    {
     "name": "stdout",
     "output_type": "stream",
     "text": [
      "  0.84s 23330 results\n"
     ]
    }
   ],
   "source": [
    "query = \"\"\"\n",
    "clause\n",
    "    =: conphrase\n",
    "    <: conphrase\n",
    "    :=\n",
    "\"\"\"\n",
    "\n",
    "clausesByQuery2 = sorted(A.search(query, sets=customSets, shallow=True))"
   ]
  },
  {
   "cell_type": "markdown",
   "metadata": {},
   "source": [
    "#### The difference\n",
    "\n",
    "There is still a difference."
   ]
  },
  {
   "cell_type": "code",
   "execution_count": 51,
   "metadata": {
    "ExecuteTime": {
     "end_time": "2018-05-24T08:56:16.255454Z",
     "start_time": "2018-05-24T08:56:16.244135Z"
    }
   },
   "outputs": [
    {
     "name": "stdout",
     "output_type": "stream",
     "text": [
      "clause 428380 is not a query result but has been found by hand\n"
     ]
    },
    {
     "data": {
      "text/html": [
       "<div class=\"tfsechead rtl\"><span class=\"ltr\"><a target=\"_blank\" href=\"https://shebanq.ancient-data.org/hebrew/text?book=Genesis&amp;chapter=10&amp;verse=14&amp;version=2021&amp;mr=m&amp;qw=q&amp;tp=txt_p&amp;tr=hb&amp;wget=v&amp;qget=v&amp;nget=vt\" title=\"Show this on SHEBANQ\" sec=\"Genesis 10:14\">Genesis 10:14</a></span></div><div class=\"rtl children\"><div class=\"contnr c2  rtl l \" ><div class=\"lbl c2  \" ><span class=\"nd\">clause:428380</span></div><div class=\"children hor wrap rtl\"><div class=\"contnr c1  rtl  \" ><div class=\"lbl c1  \" ><span class=\"nd\">clause_atom:516560</span></div><div class=\"children hor wrap rtl\"><div class=\"contnr c1  rtl  hl\"  style=\"background-color: aqua;\" ><div class=\"lbl c1  hl\"  style=\"background-color: aqua;\" ><span class=\"nd\">phrase:654133</span></div><div class=\"children hor wrap rtl\"><div class=\"contnr c1 trm rtl  hl\"  style=\"background-color: aqua;\" ><div class=\"lbl c1 trm hl\"  style=\"background-color: aqua;\" ><span class=\"nd\">phrase_atom:907448</span> <span class=\"\"><span class=\"plain rtl  \" ><span class=\"txtu hbo\">וְֽ</span></span></span></div></div></div></div><div class=\"contnr c1  rtl l hl\"  style=\"background-color: aquamarine;\" ><div class=\"lbl c1  hl\"  style=\"background-color: aquamarine;\" ><span class=\"nd\">phrase:654134</span></div><div class=\"children hor wrap rtl\"><div class=\"contnr c1 trm rtl  hl\"  style=\"background-color: aquamarine;\" ><div class=\"lbl c1 trm hl\"  style=\"background-color: aquamarine;\" ><span class=\"nd\">phrase_atom:907449</span> <span class=\"\"><span class=\"plain rtl  \" ><span class=\"txtu hbo\">אֶת־</span><span class=\"txtu hbo\">פַּתְרֻסִ֞ים </span><span class=\"txtu hbo\">וְ</span><span class=\"txtu hbo\">אֶת־</span><span class=\"txtu hbo\">כַּסְלֻחִ֗ים </span></span></span></div></div></div></div></div></div></div></div><div class=\"contnr c2  rtl r \" ><div class=\"lbl c2  \" ><span class=\"nd\">clause:428380</span></div><div class=\"children hor wrap rtl\"><div class=\"contnr c1  rtl  \" ><div class=\"lbl c1  \" ><span class=\"nd\">clause_atom:516562</span></div><div class=\"children hor wrap rtl\"><div class=\"contnr c1  rtl r hl\"  style=\"background-color: aquamarine;\" ><div class=\"lbl c1  hl\"  style=\"background-color: aquamarine;\" ><span class=\"nd\">phrase:654134</span></div><div class=\"children hor wrap rtl\"><div class=\"contnr c1 trm rtl  hl\"  style=\"background-color: aquamarine;\" ><div class=\"lbl c1 trm hl\"  style=\"background-color: aquamarine;\" ><span class=\"nd\">phrase_atom:907454</span> <span class=\"\"><span class=\"plain rtl  \" ><span class=\"txtu hbo\">וְ</span></span></span></div></div><div class=\"contnr c1 trm rtl  hl\"  style=\"background-color: aquamarine;\" ><div class=\"lbl c1 trm hl\"  style=\"background-color: aquamarine;\" ><span class=\"nd\">phrase_atom:907455</span> <span class=\"\"><span class=\"plain rtl  \" ><span class=\"txtu hbo\">אֶת־</span><span class=\"txtu hbo\">כַּפְתֹּרִֽים׃ ס </span></span></span></div></div></div></div></div></div></div></div></div>"
      ],
      "text/plain": [
       "<IPython.core.display.HTML object>"
      ]
     },
     "metadata": {},
     "output_type": "display_data"
    }
   ],
   "source": [
    "showDiff(clausesByQuery2, clausesByHand2)"
   ]
  },
  {
   "cell_type": "markdown",
   "metadata": {},
   "source": [
    "Observe:\n",
    "\n",
    "This clause has two phrases, the second one has a gap, which coincides with a gap in the clause.\n",
    "\n",
    "* the hand-written code is right in a sense: this clause has two phrases, adjacent, and they span the whole clause, nothing left out.\n",
    "* the query is right in a sense: the second phrase is not consecutive."
   ]
  },
  {
   "cell_type": "markdown",
   "metadata": {},
   "source": [
    "### Attempt 4\n",
    "\n",
    "#### By hand\n",
    "\n",
    "We modify the hand-written code, so that only consecutive clauses qualify."
   ]
  },
  {
   "cell_type": "code",
   "execution_count": 52,
   "metadata": {
    "ExecuteTime": {
     "end_time": "2018-05-24T08:56:12.592108Z",
     "start_time": "2018-05-24T08:56:11.096022Z"
    }
   },
   "outputs": [
    {
     "name": "stdout",
     "output_type": "stream",
     "text": [
      "  0.00s counting ...\n",
      "  0.96s Done: found 23330\n"
     ]
    }
   ],
   "source": [
    "A.indent(reset=True)\n",
    "A.info(\"counting ...\")\n",
    "\n",
    "clausesByHand3 = []\n",
    "for clause in F.otype.s(\"clause\"):\n",
    "    if hasGap(clause):\n",
    "        continue\n",
    "    phrases = L.d(clause, otype=\"phrase\")\n",
    "    if len(phrases) == 2:\n",
    "        if L.d(phrases[0], otype=\"word\")[-1] + 1 == L.d(phrases[1], otype=\"word\")[0]:\n",
    "            clausesByHand3.append(clause)\n",
    "clausesByHand3 = sorted(clausesByHand3)\n",
    "A.info(f\"Done: found {len(clausesByHand3)}\")"
   ]
  },
  {
   "cell_type": "markdown",
   "metadata": {},
   "source": [
    "#### The difference\n",
    "\n",
    "Now the number of results agree. But are they really the same?"
   ]
  },
  {
   "cell_type": "code",
   "execution_count": 53,
   "metadata": {
    "ExecuteTime": {
     "end_time": "2018-05-24T08:56:16.255454Z",
     "start_time": "2018-05-24T08:56:16.244135Z"
    }
   },
   "outputs": [
    {
     "name": "stdout",
     "output_type": "stream",
     "text": [
      "\n",
      " 23330 queryResults\n",
      "         are identical with\n",
      " 23330 handResults\n",
      "\n"
     ]
    }
   ],
   "source": [
    "showDiff(clausesByQuery2, clausesByHand3)"
   ]
  },
  {
   "cell_type": "markdown",
   "metadata": {},
   "source": [
    "### Conclusion\n",
    "\n",
    "It took four attempts to arrive at the final concept of things that we were looking for.\n",
    "\n",
    "Sometimes the search template had to be modified, sometimes the hand-written code.\n",
    "\n",
    "The interplay and systematic comparison between the attempts helped to spot all relevant\n",
    "configurations of phrases within clauses."
   ]
  },
  {
   "cell_type": "markdown",
   "metadata": {},
   "source": [
    "# Spans\n",
    "\n",
    "Here is another cause of wrong query results: there are sentences that span multiple verses.\n",
    "Such sentences are not contained in any verse.\n",
    "That makes that they are easily missed out in queries.\n",
    "\n",
    "We describe a scenario where that happens.\n",
    "\n",
    "## Mother clauses\n",
    "\n",
    "A clause and its mother do not have to be in the same verse.\n",
    "We are going to fetch are the cases where they are in different verses.\n",
    "\n",
    "### All mother clauses\n",
    "\n",
    "But first we fetch all pairs of clauses connected by a mother edge."
   ]
  },
  {
   "cell_type": "code",
   "execution_count": 54,
   "metadata": {
    "ExecuteTime": {
     "end_time": "2018-05-24T08:00:06.688698Z",
     "start_time": "2018-05-24T08:00:05.864656Z"
    }
   },
   "outputs": [
    {
     "name": "stdout",
     "output_type": "stream",
     "text": [
      "  0.15s 13917 results\n"
     ]
    },
    {
     "data": {
      "text/html": [
       "<table><tr class=\"tf rtl\"><th class=\"tf rtl\">n</th><th class=\"tf rtl\">p</th><th class=\"tf rtl\">clause</th><th class=\"tf\">phrase</th><th class=\"tf\">phrase</th></tr>\n",
       "<tr class=\"tf rtl\"><td class=\"tf rtl\">1</td><td class=\"tf rtl\"><span class=\"tfsechead rtl\"><span class=\"ltr\"><a target=\"_blank\" href=\"https://shebanq.ancient-data.org/hebrew/text?book=Genesis&amp;chapter=1&amp;verse=3&amp;version=2021&amp;mr=m&amp;qw=q&amp;tp=txt_p&amp;tr=hb&amp;wget=v&amp;qget=v&amp;nget=vt\" title=\"Show this on SHEBANQ\" sec=\"Genesis 1:3\">Genesis 1:3</a></span></span></td><td class=\"tf rtl\"><span class=\"rtl ubd\"><span class=\"plain rtl  hlbx\" ><span class=\"plain rtl  hlbx\" ><span class=\"txtu hbo\">יְהִ֣י </span></span><span class=\"plain rtl  hlbx\" ><span class=\"txtu hbo\">אֹ֑ור </span></span></span></span></td><td class=\"tf rtl\"><span class=\"rtl ubd\"><span class=\"plain rtl  hlbx\" ><span class=\"txtu hbo\">יְהִ֣י </span></span></span></td><td class=\"tf rtl\"><span class=\"rtl ubd\"><span class=\"plain rtl  hlbx\" ><span class=\"txtu hbo\">אֹ֑ור </span></span></span></td></tr>\n",
       "<tr class=\"tf rtl\"><td class=\"tf rtl\">2</td><td class=\"tf rtl\"><span class=\"tfsechead rtl\"><span class=\"ltr\"><a target=\"_blank\" href=\"https://shebanq.ancient-data.org/hebrew/text?book=Genesis&amp;chapter=1&amp;verse=4&amp;version=2021&amp;mr=m&amp;qw=q&amp;tp=txt_p&amp;tr=hb&amp;wget=v&amp;qget=v&amp;nget=vt\" title=\"Show this on SHEBANQ\" sec=\"Genesis 1:4\">Genesis 1:4</a></span></span></td><td class=\"tf rtl\"><span class=\"rtl ubd\"><span class=\"plain rtl  hlbx\" ><span class=\"plain rtl  hlbx\" ><span class=\"txtu hbo\">כִּי־</span></span><span class=\"plain rtl  hlbx\" ><span class=\"txtu hbo\">טֹ֑וב </span></span></span></span></td><td class=\"tf rtl\"><span class=\"rtl ubd\"><span class=\"plain rtl  hlbx\" ><span class=\"txtu hbo\">כִּי־</span></span></span></td><td class=\"tf rtl\"><span class=\"rtl ubd\"><span class=\"plain rtl  hlbx\" ><span class=\"txtu hbo\">טֹ֑וב </span></span></span></td></tr>\n",
       "<tr class=\"tf rtl\"><td class=\"tf rtl\">3</td><td class=\"tf rtl\"><span class=\"tfsechead rtl\"><span class=\"ltr\"><a target=\"_blank\" href=\"https://shebanq.ancient-data.org/hebrew/text?book=Genesis&amp;chapter=1&amp;verse=7&amp;version=2021&amp;mr=m&amp;qw=q&amp;tp=txt_p&amp;tr=hb&amp;wget=v&amp;qget=v&amp;nget=vt\" title=\"Show this on SHEBANQ\" sec=\"Genesis 1:7\">Genesis 1:7</a></span></span></td><td class=\"tf rtl\"><span class=\"rtl ubd\"><span class=\"plain rtl  hlbx\" ><span class=\"plain rtl  hlbx\" ><span class=\"txtu hbo\">אֲשֶׁר֙ </span></span><span class=\"plain rtl  hlbx\" ><span class=\"txtu hbo\">מִ</span><span class=\"txtu hbo\">תַּ֣חַת </span><span class=\"txtu hbo\">לָ</span><span class=\"txtu hbo\">רָקִ֔יעַ </span></span></span></span></td><td class=\"tf rtl\"><span class=\"rtl ubd\"><span class=\"plain rtl  hlbx\" ><span class=\"txtu hbo\">אֲשֶׁר֙ </span></span></span></td><td class=\"tf rtl\"><span class=\"rtl ubd\"><span class=\"plain rtl  hlbx\" ><span class=\"txtu hbo\">מִ</span><span class=\"txtu hbo\">תַּ֣חַת </span><span class=\"txtu hbo\">לָ</span><span class=\"txtu hbo\">רָקִ֔יעַ </span></span></span></td></tr>\n",
       "<tr class=\"tf rtl\"><td class=\"tf rtl\">4</td><td class=\"tf rtl\"><span class=\"tfsechead rtl\"><span class=\"ltr\"><a target=\"_blank\" href=\"https://shebanq.ancient-data.org/hebrew/text?book=Genesis&amp;chapter=1&amp;verse=7&amp;version=2021&amp;mr=m&amp;qw=q&amp;tp=txt_p&amp;tr=hb&amp;wget=v&amp;qget=v&amp;nget=vt\" title=\"Show this on SHEBANQ\" sec=\"Genesis 1:7\">Genesis 1:7</a></span></span></td><td class=\"tf rtl\"><span class=\"rtl ubd\"><span class=\"plain rtl  hlbx\" ><span class=\"plain rtl  hlbx\" ><span class=\"txtu hbo\">אֲשֶׁ֖ר </span></span><span class=\"plain rtl  hlbx\" ><span class=\"txtu hbo\">מֵ</span><span class=\"txtu hbo\">עַ֣ל </span><span class=\"txtu hbo\">לָ</span><span class=\"txtu hbo\">רָקִ֑יעַ </span></span></span></span></td><td class=\"tf rtl\"><span class=\"rtl ubd\"><span class=\"plain rtl  hlbx\" ><span class=\"txtu hbo\">אֲשֶׁ֖ר </span></span></span></td><td class=\"tf rtl\"><span class=\"rtl ubd\"><span class=\"plain rtl  hlbx\" ><span class=\"txtu hbo\">מֵ</span><span class=\"txtu hbo\">עַ֣ל </span><span class=\"txtu hbo\">לָ</span><span class=\"txtu hbo\">רָקִ֑יעַ </span></span></span></td></tr>\n",
       "<tr class=\"tf rtl\"><td class=\"tf rtl\">5</td><td class=\"tf rtl\"><span class=\"tfsechead rtl\"><span class=\"ltr\"><a target=\"_blank\" href=\"https://shebanq.ancient-data.org/hebrew/text?book=Genesis&amp;chapter=1&amp;verse=10&amp;version=2021&amp;mr=m&amp;qw=q&amp;tp=txt_p&amp;tr=hb&amp;wget=v&amp;qget=v&amp;nget=vt\" title=\"Show this on SHEBANQ\" sec=\"Genesis 1:10\">Genesis 1:10</a></span></span></td><td class=\"tf rtl\"><span class=\"rtl ubd\"><span class=\"plain rtl  hlbx\" ><span class=\"plain rtl  hlbx\" ><span class=\"txtu hbo\">כִּי־</span></span><span class=\"plain rtl  hlbx\" ><span class=\"txtu hbo\">טֹֽוב׃ </span></span></span></span></td><td class=\"tf rtl\"><span class=\"rtl ubd\"><span class=\"plain rtl  hlbx\" ><span class=\"txtu hbo\">כִּי־</span></span></span></td><td class=\"tf rtl\"><span class=\"rtl ubd\"><span class=\"plain rtl  hlbx\" ><span class=\"txtu hbo\">טֹֽוב׃ </span></span></span></td></tr>\n",
       "<tr class=\"tf rtl\"><td class=\"tf rtl\">6</td><td class=\"tf rtl\"><span class=\"tfsechead rtl\"><span class=\"ltr\"><a target=\"_blank\" href=\"https://shebanq.ancient-data.org/hebrew/text?book=Genesis&amp;chapter=1&amp;verse=11&amp;version=2021&amp;mr=m&amp;qw=q&amp;tp=txt_p&amp;tr=hb&amp;wget=v&amp;qget=v&amp;nget=vt\" title=\"Show this on SHEBANQ\" sec=\"Genesis 1:11\">Genesis 1:11</a></span></span></td><td class=\"tf rtl\"><span class=\"rtl ubd\"><span class=\"plain rtl  hlbx\" ><span class=\"plain rtl  hlbx\" ><span class=\"txtu hbo\">מַזְרִ֣יעַ </span></span><span class=\"plain rtl  hlbx\" ><span class=\"txtu hbo\">זֶ֔רַע </span></span></span></span></td><td class=\"tf rtl\"><span class=\"rtl ubd\"><span class=\"plain rtl  hlbx\" ><span class=\"txtu hbo\">מַזְרִ֣יעַ </span></span></span></td><td class=\"tf rtl\"><span class=\"rtl ubd\"><span class=\"plain rtl  hlbx\" ><span class=\"txtu hbo\">זֶ֔רַע </span></span></span></td></tr>\n",
       "<tr class=\"tf rtl\"><td class=\"tf rtl\">7</td><td class=\"tf rtl\"><span class=\"tfsechead rtl\"><span class=\"ltr\"><a target=\"_blank\" href=\"https://shebanq.ancient-data.org/hebrew/text?book=Genesis&amp;chapter=1&amp;verse=12&amp;version=2021&amp;mr=m&amp;qw=q&amp;tp=txt_p&amp;tr=hb&amp;wget=v&amp;qget=v&amp;nget=vt\" title=\"Show this on SHEBANQ\" sec=\"Genesis 1:12\">Genesis 1:12</a></span></span></td><td class=\"tf rtl\"><span class=\"rtl ubd\"><span class=\"plain rtl  hlbx\" ><span class=\"plain rtl  hlbx\" ><span class=\"txtu hbo\">כִּי־</span></span><span class=\"plain rtl  hlbx\" ><span class=\"txtu hbo\">טֹֽוב׃ </span></span></span></span></td><td class=\"tf rtl\"><span class=\"rtl ubd\"><span class=\"plain rtl  hlbx\" ><span class=\"txtu hbo\">כִּי־</span></span></span></td><td class=\"tf rtl\"><span class=\"rtl ubd\"><span class=\"plain rtl  hlbx\" ><span class=\"txtu hbo\">טֹֽוב׃ </span></span></span></td></tr></table>"
      ],
      "text/plain": [
       "<IPython.core.display.HTML object>"
      ]
     },
     "metadata": {},
     "output_type": "display_data"
    }
   ],
   "source": [
    "query = \"\"\"\n",
    "clause\n",
    "-mother> clause\n",
    "\"\"\"\n",
    "allMotherPairs = A.search(query)\n",
    "A.table(results, end=7)"
   ]
  },
  {
   "cell_type": "markdown",
   "metadata": {},
   "source": [
    "### Mother in another verse\n",
    "\n",
    "Now we modify the query to the effect that mother and daughter must sit in distinct verses."
   ]
  },
  {
   "cell_type": "code",
   "execution_count": 55,
   "metadata": {
    "ExecuteTime": {
     "end_time": "2018-05-24T08:00:11.096751Z",
     "start_time": "2018-05-24T08:00:10.585477Z"
    }
   },
   "outputs": [
    {
     "name": "stdout",
     "output_type": "stream",
     "text": [
      "  0.28s 710 results\n"
     ]
    },
    {
     "data": {
      "text/html": [
       "<table><tr class=\"tf rtl\"><th class=\"tf rtl\">n</th><th class=\"tf rtl\">clause</th><th class=\"tf\">clause</th></tr>\n",
       "<tr class=\"tf rtl\"><td class=\"tf rtl\">1</td><td class=\"tf rtl\"><span class=\"rtl ubd\"><span class=\"tfsechead rtl\"><span class=\"ltr\"><a target=\"_blank\" href=\"https://shebanq.ancient-data.org/hebrew/text?book=Genesis&amp;chapter=1&amp;verse=18&amp;version=2021&amp;mr=m&amp;qw=q&amp;tp=txt_p&amp;tr=hb&amp;wget=v&amp;qget=v&amp;nget=vt\" title=\"Show this on SHEBANQ\" sec=\"Genesis 1:18\">Genesis 1:18</a></span></span>  <span class=\"plain rtl  hlbx\" ><span class=\"txtu hbo\">וְ</span><span class=\"txtu hbo\">לִ</span><span class=\"txtu hbo\">מְשֹׁל֙ </span><span class=\"txtu hbo\">בַּ</span><span class=\"txtu hbo\">יֹּ֣ום </span><span class=\"txtu hbo\">וּ</span><span class=\"txtu hbo\">בַ</span><span class=\"txtu hbo\">לַּ֔יְלָה </span></span></span></td><td class=\"tf rtl\"><span class=\"rtl ubd\"><span class=\"tfsechead rtl\"><span class=\"ltr\"><a target=\"_blank\" href=\"https://shebanq.ancient-data.org/hebrew/text?book=Genesis&amp;chapter=1&amp;verse=17&amp;version=2021&amp;mr=m&amp;qw=q&amp;tp=txt_p&amp;tr=hb&amp;wget=v&amp;qget=v&amp;nget=vt\" title=\"Show this on SHEBANQ\" sec=\"Genesis 1:17\">Genesis 1:17</a></span></span>  <span class=\"plain rtl  hlbx\" ><span class=\"txtu hbo\">לְ</span><span class=\"txtu hbo\">הָאִ֖יר </span><span class=\"txtu hbo\">עַל־</span><span class=\"txtu hbo\">הָ</span><span class=\"txtu hbo\">אָֽרֶץ׃ </span></span></span></td></tr>\n",
       "<tr class=\"tf rtl\"><td class=\"tf rtl\">2</td><td class=\"tf rtl\"><span class=\"rtl ubd\"><span class=\"tfsechead rtl\"><span class=\"ltr\"><a target=\"_blank\" href=\"https://shebanq.ancient-data.org/hebrew/text?book=Genesis&amp;chapter=2&amp;verse=7&amp;version=2021&amp;mr=m&amp;qw=q&amp;tp=txt_p&amp;tr=hb&amp;wget=v&amp;qget=v&amp;nget=vt\" title=\"Show this on SHEBANQ\" sec=\"Genesis 2:7\">Genesis 2:7</a></span></span>  <span class=\"plain rtl  hlbx\" ><span class=\"txtu hbo\">וַ</span><span class=\"txtu hbo\">יִּיצֶר֩ </span><span class=\"txtu hbo\">יְהוָ֨ה </span><span class=\"txtu hbo\">אֱלֹהִ֜ים </span><span class=\"txtu hbo\">אֶת־</span><span class=\"txtu hbo\">הָֽ</span><span class=\"txtu hbo\">אָדָ֗ם </span><span class=\"txtu hbo\">עָפָר֙ </span><span class=\"txtu hbo\">מִן־</span><span class=\"txtu hbo\">הָ֣</span><span class=\"txtu hbo\">אֲדָמָ֔ה </span></span></span></td><td class=\"tf rtl\"><span class=\"rtl ubd\"><span class=\"tfsechead rtl\"><span class=\"ltr\"><a target=\"_blank\" href=\"https://shebanq.ancient-data.org/hebrew/text?book=Genesis&amp;chapter=2&amp;verse=4&amp;version=2021&amp;mr=m&amp;qw=q&amp;tp=txt_p&amp;tr=hb&amp;wget=v&amp;qget=v&amp;nget=vt\" title=\"Show this on SHEBANQ\" sec=\"Genesis 2:4\">Genesis 2:4</a></span></span>  <span class=\"plain rtl  hlbx\" ><span class=\"txtu hbo\">בְּ</span><span class=\"txtu hbo\">יֹ֗ום </span></span></span></td></tr>\n",
       "<tr class=\"tf rtl\"><td class=\"tf rtl\">3</td><td class=\"tf rtl\"><span class=\"rtl ubd\"><span class=\"tfsechead rtl\"><span class=\"ltr\"><a target=\"_blank\" href=\"https://shebanq.ancient-data.org/hebrew/text?book=Genesis&amp;chapter=7&amp;verse=3&amp;version=2021&amp;mr=m&amp;qw=q&amp;tp=txt_p&amp;tr=hb&amp;wget=v&amp;qget=v&amp;nget=vt\" title=\"Show this on SHEBANQ\" sec=\"Genesis 7:3\">Genesis 7:3</a></span></span>  <span class=\"plain rtl  hlbx\" ><span class=\"txtu hbo\">לְ</span><span class=\"txtu hbo\">חַיֹּ֥ות </span><span class=\"txtu hbo\">זֶ֖רַע </span><span class=\"txtu hbo\">עַל־</span><span class=\"txtu hbo\">פְּנֵ֥י </span><span class=\"txtu hbo\">כָל־</span><span class=\"txtu hbo\">הָ</span><span class=\"txtu hbo\">אָֽרֶץ׃ </span></span></span></td><td class=\"tf rtl\"><span class=\"rtl ubd\"><span class=\"tfsechead rtl\"><span class=\"ltr\"><a target=\"_blank\" href=\"https://shebanq.ancient-data.org/hebrew/text?book=Genesis&amp;chapter=7&amp;verse=2&amp;version=2021&amp;mr=m&amp;qw=q&amp;tp=txt_p&amp;tr=hb&amp;wget=v&amp;qget=v&amp;nget=vt\" title=\"Show this on SHEBANQ\" sec=\"Genesis 7:2\">Genesis 7:2</a></span></span>  <span class=\"plain rtl  hlbx\" ><span class=\"txtu hbo\">מִ</span><span class=\"txtu hbo\">כֹּ֣ל׀ </span><span class=\"txtu hbo\">הַ</span><span class=\"txtu hbo\">בְּהֵמָ֣ה </span><span class=\"txtu hbo\">הַ</span><span class=\"txtu hbo\">טְּהֹורָ֗ה </span><span class=\"txtu hbo\">תִּֽקַּח־</span><span class=\"txtu hbo\">לְךָ֛ </span><span class=\"txtu hbo\">שִׁבְעָ֥ה </span><span class=\"txtu hbo\">שִׁבְעָ֖ה </span><span class=\"txtu hbo\">אִ֣ישׁ </span><span class=\"txtu hbo\">וְ</span><span class=\"txtu hbo\">אִשְׁתֹּ֑ו </span></span></span></td></tr>\n",
       "<tr class=\"tf rtl\"><td class=\"tf rtl\">4</td><td class=\"tf rtl\"><span class=\"rtl ubd\"><span class=\"tfsechead rtl\"><span class=\"ltr\"><a target=\"_blank\" href=\"https://shebanq.ancient-data.org/hebrew/text?book=Genesis&amp;chapter=22&amp;verse=17&amp;version=2021&amp;mr=m&amp;qw=q&amp;tp=txt_p&amp;tr=hb&amp;wget=v&amp;qget=v&amp;nget=vt\" title=\"Show this on SHEBANQ\" sec=\"Genesis 22:17\">Genesis 22:17</a></span></span>  <span class=\"plain rtl  hlbx\" ><span class=\"txtu hbo\">כִּֽי־</span><span class=\"txtu hbo\">בָרֵ֣ךְ </span><span class=\"txtu hbo\">אֲבָרֶכְךָ֗ </span></span></span></td><td class=\"tf rtl\"><span class=\"rtl ubd\"><span class=\"tfsechead rtl\"><span class=\"ltr\"><a target=\"_blank\" href=\"https://shebanq.ancient-data.org/hebrew/text?book=Genesis&amp;chapter=22&amp;verse=16&amp;version=2021&amp;mr=m&amp;qw=q&amp;tp=txt_p&amp;tr=hb&amp;wget=v&amp;qget=v&amp;nget=vt\" title=\"Show this on SHEBANQ\" sec=\"Genesis 22:16\">Genesis 22:16</a></span></span>  <span class=\"plain rtl  hlbx\" ><span class=\"txtu hbo\">כִּ֗י </span></span></span></td></tr>\n",
       "<tr class=\"tf rtl\"><td class=\"tf rtl\">5</td><td class=\"tf rtl\"><span class=\"rtl ubd\"><span class=\"tfsechead rtl\"><span class=\"ltr\"><a target=\"_blank\" href=\"https://shebanq.ancient-data.org/hebrew/text?book=Genesis&amp;chapter=24&amp;verse=44&amp;version=2021&amp;mr=m&amp;qw=q&amp;tp=txt_p&amp;tr=hb&amp;wget=v&amp;qget=v&amp;nget=vt\" title=\"Show this on SHEBANQ\" sec=\"Genesis 24:44\">Genesis 24:44</a></span></span>  <span class=\"plain rtl  hlbx\" ><span class=\"txtu hbo\">הִ֣וא </span><span class=\"txtu hbo\">הָֽ</span><span class=\"txtu hbo\">אִשָּׁ֔ה </span></span></span></td><td class=\"tf rtl\"><span class=\"rtl ubd\"><span class=\"tfsechead rtl\"><span class=\"ltr\"><a target=\"_blank\" href=\"https://shebanq.ancient-data.org/hebrew/text?book=Genesis&amp;chapter=24&amp;verse=43&amp;version=2021&amp;mr=m&amp;qw=q&amp;tp=txt_p&amp;tr=hb&amp;wget=v&amp;qget=v&amp;nget=vt\" title=\"Show this on SHEBANQ\" sec=\"Genesis 24:43\">Genesis 24:43</a></span></span>  <span class=\"plain rtl  hlbx\" ><span class=\"txtu hbo\">הָֽ</span><span class=\"txtu hbo\">עַלְמָה֙ </span></span></span></td></tr>\n",
       "<tr class=\"tf rtl\"><td class=\"tf rtl\">6</td><td class=\"tf rtl\"><span class=\"rtl ubd\"><span class=\"tfsechead rtl\"><span class=\"ltr\"><a target=\"_blank\" href=\"https://shebanq.ancient-data.org/hebrew/text?book=Genesis&amp;chapter=27&amp;verse=45&amp;version=2021&amp;mr=m&amp;qw=q&amp;tp=txt_p&amp;tr=hb&amp;wget=v&amp;qget=v&amp;nget=vt\" title=\"Show this on SHEBANQ\" sec=\"Genesis 27:45\">Genesis 27:45</a></span></span>  <span class=\"plain rtl  hlbx\" ><span class=\"txtu hbo\">עַד־</span><span class=\"txtu hbo\">שׁ֨וּב </span><span class=\"txtu hbo\">אַף־</span><span class=\"txtu hbo\">אָחִ֜יךָ </span><span class=\"txtu hbo\">מִמְּךָ֗ </span></span></span></td><td class=\"tf rtl\"><span class=\"rtl ubd\"><span class=\"tfsechead rtl\"><span class=\"ltr\"><a target=\"_blank\" href=\"https://shebanq.ancient-data.org/hebrew/text?book=Genesis&amp;chapter=27&amp;verse=44&amp;version=2021&amp;mr=m&amp;qw=q&amp;tp=txt_p&amp;tr=hb&amp;wget=v&amp;qget=v&amp;nget=vt\" title=\"Show this on SHEBANQ\" sec=\"Genesis 27:44\">Genesis 27:44</a></span></span>  <span class=\"plain rtl  hlbx\" ><span class=\"txtu hbo\">עַ֥ד </span><span class=\"txtu hbo\">אֲשֶׁר־</span><span class=\"txtu hbo\">תָּשׁ֖וּב </span><span class=\"txtu hbo\">חֲמַ֥ת </span><span class=\"txtu hbo\">אָחִֽיךָ׃ </span></span></span></td></tr>\n",
       "<tr class=\"tf rtl\"><td class=\"tf rtl\">7</td><td class=\"tf rtl\"><span class=\"rtl ubd\"><span class=\"tfsechead rtl\"><span class=\"ltr\"><a target=\"_blank\" href=\"https://shebanq.ancient-data.org/hebrew/text?book=Genesis&amp;chapter=36&amp;verse=16&amp;version=2021&amp;mr=m&amp;qw=q&amp;tp=txt_p&amp;tr=hb&amp;wget=v&amp;qget=v&amp;nget=vt\" title=\"Show this on SHEBANQ\" sec=\"Genesis 36:16\">Genesis 36:16</a></span></span>  <span class=\"plain rtl  hlbx\" ><span class=\"txtu hbo\">אַלּֽוּף־</span><span class=\"txtu hbo\">קֹ֛רַח </span><span class=\"txtu hbo\">אַלּ֥וּף </span><span class=\"txtu hbo\">גַּעְתָּ֖ם </span><span class=\"txtu hbo\">אַלּ֣וּף </span><span class=\"txtu hbo\">עֲמָלֵ֑ק </span></span></span></td><td class=\"tf rtl\"><span class=\"rtl ubd\"><span class=\"tfsechead rtl\"><span class=\"ltr\"><a target=\"_blank\" href=\"https://shebanq.ancient-data.org/hebrew/text?book=Genesis&amp;chapter=36&amp;verse=15&amp;version=2021&amp;mr=m&amp;qw=q&amp;tp=txt_p&amp;tr=hb&amp;wget=v&amp;qget=v&amp;nget=vt\" title=\"Show this on SHEBANQ\" sec=\"Genesis 36:15\">Genesis 36:15</a></span></span>  <span class=\"plain rtl  hlbx\" ><span class=\"txtu hbo\">בְּנֵ֤י </span><span class=\"txtu hbo\">אֱלִיפַז֙ </span><span class=\"txtu hbo\">בְּכֹ֣ור </span><span class=\"txtu hbo\">עֵשָׂ֔ו </span><span class=\"txtu hbo\">אַלּ֤וּף </span><span class=\"txtu hbo\">תֵּימָן֙ </span><span class=\"txtu hbo\">אַלּ֣וּף </span><span class=\"txtu hbo\">אֹומָ֔ר </span><span class=\"txtu hbo\">אַלּ֥וּף </span><span class=\"txtu hbo\">צְפֹ֖ו </span><span class=\"txtu hbo\">אַלּ֥וּף </span><span class=\"txtu hbo\">קְנַֽז׃ </span></span></span></td></tr></table>"
      ],
      "text/plain": [
       "<IPython.core.display.HTML object>"
      ]
     },
     "metadata": {},
     "output_type": "display_data"
    }
   ],
   "source": [
    "query = \"\"\"\n",
    "cm:clause\n",
    "-mother> cd:clause\n",
    "\n",
    "v1:verse\n",
    "v2:verse\n",
    "v1 # v2\n",
    "\n",
    "cm ]] v1\n",
    "cd ]] v2\n",
    "\"\"\"\n",
    "diffMotherPairs = A.search(query)\n",
    "A.table(diffMotherPairs, end=7, skipCols=\"3 4\", withPassage=\"1 2\")"
   ]
  },
  {
   "cell_type": "markdown",
   "metadata": {},
   "source": [
    "### Mother in same verse\n",
    "\n",
    "As a check,\n",
    "we modify the latter query and require `v1` and `v2` to be the same verse, to get the\n",
    "mother pairs of which both members are in the same verse."
   ]
  },
  {
   "cell_type": "code",
   "execution_count": 56,
   "metadata": {
    "ExecuteTime": {
     "end_time": "2018-05-24T08:00:11.096751Z",
     "start_time": "2018-05-24T08:00:10.585477Z"
    }
   },
   "outputs": [
    {
     "name": "stdout",
     "output_type": "stream",
     "text": [
      "  0.30s 13181 results\n"
     ]
    },
    {
     "data": {
      "text/html": [
       "<table><tr class=\"tf rtl\"><th class=\"tf rtl\">n</th><th class=\"tf rtl\">clause</th><th class=\"tf\">clause</th></tr>\n",
       "<tr class=\"tf rtl\"><td class=\"tf rtl\">1</td><td class=\"tf rtl\"><span class=\"rtl ubd\"><span class=\"tfsechead rtl\"><span class=\"ltr\"><a target=\"_blank\" href=\"https://shebanq.ancient-data.org/hebrew/text?book=Genesis&amp;chapter=1&amp;verse=4&amp;version=2021&amp;mr=m&amp;qw=q&amp;tp=txt_p&amp;tr=hb&amp;wget=v&amp;qget=v&amp;nget=vt\" title=\"Show this on SHEBANQ\" sec=\"Genesis 1:4\">Genesis 1:4</a></span></span>  <span class=\"plain rtl  hlbx\" ><span class=\"txtu hbo\">כִּי־</span><span class=\"txtu hbo\">טֹ֑וב </span></span></span></td><td class=\"tf rtl\"><span class=\"rtl ubd\"><span class=\"tfsechead rtl\"><span class=\"ltr\"><a target=\"_blank\" href=\"https://shebanq.ancient-data.org/hebrew/text?book=Genesis&amp;chapter=1&amp;verse=4&amp;version=2021&amp;mr=m&amp;qw=q&amp;tp=txt_p&amp;tr=hb&amp;wget=v&amp;qget=v&amp;nget=vt\" title=\"Show this on SHEBANQ\" sec=\"Genesis 1:4\">Genesis 1:4</a></span></span>  <span class=\"plain rtl  hlbx\" ><span class=\"txtu hbo\">וַ</span><span class=\"txtu hbo\">יַּ֧רְא </span><span class=\"txtu hbo\">אֱלֹהִ֛ים </span><span class=\"txtu hbo\">אֶת־</span><span class=\"txtu hbo\">הָ</span><span class=\"txtu hbo\">אֹ֖ור </span></span></span></td></tr>\n",
       "<tr class=\"tf rtl\"><td class=\"tf rtl\">2</td><td class=\"tf rtl\"><span class=\"rtl ubd\"><span class=\"tfsechead rtl\"><span class=\"ltr\"><a target=\"_blank\" href=\"https://shebanq.ancient-data.org/hebrew/text?book=Genesis&amp;chapter=1&amp;verse=10&amp;version=2021&amp;mr=m&amp;qw=q&amp;tp=txt_p&amp;tr=hb&amp;wget=v&amp;qget=v&amp;nget=vt\" title=\"Show this on SHEBANQ\" sec=\"Genesis 1:10\">Genesis 1:10</a></span></span>  <span class=\"plain rtl  hlbx\" ><span class=\"txtu hbo\">כִּי־</span><span class=\"txtu hbo\">טֹֽוב׃ </span></span></span></td><td class=\"tf rtl\"><span class=\"rtl ubd\"><span class=\"tfsechead rtl\"><span class=\"ltr\"><a target=\"_blank\" href=\"https://shebanq.ancient-data.org/hebrew/text?book=Genesis&amp;chapter=1&amp;verse=10&amp;version=2021&amp;mr=m&amp;qw=q&amp;tp=txt_p&amp;tr=hb&amp;wget=v&amp;qget=v&amp;nget=vt\" title=\"Show this on SHEBANQ\" sec=\"Genesis 1:10\">Genesis 1:10</a></span></span>  <span class=\"plain rtl  hlbx\" ><span class=\"txtu hbo\">וַ</span><span class=\"txtu hbo\">יַּ֥רְא </span><span class=\"txtu hbo\">אֱלֹהִ֖ים </span></span></span></td></tr>\n",
       "<tr class=\"tf rtl\"><td class=\"tf rtl\">3</td><td class=\"tf rtl\"><span class=\"rtl ubd\"><span class=\"tfsechead rtl\"><span class=\"ltr\"><a target=\"_blank\" href=\"https://shebanq.ancient-data.org/hebrew/text?book=Genesis&amp;chapter=1&amp;verse=12&amp;version=2021&amp;mr=m&amp;qw=q&amp;tp=txt_p&amp;tr=hb&amp;wget=v&amp;qget=v&amp;nget=vt\" title=\"Show this on SHEBANQ\" sec=\"Genesis 1:12\">Genesis 1:12</a></span></span>  <span class=\"plain rtl  hlbx\" ><span class=\"txtu hbo\">כִּי־</span><span class=\"txtu hbo\">טֹֽוב׃ </span></span></span></td><td class=\"tf rtl\"><span class=\"rtl ubd\"><span class=\"tfsechead rtl\"><span class=\"ltr\"><a target=\"_blank\" href=\"https://shebanq.ancient-data.org/hebrew/text?book=Genesis&amp;chapter=1&amp;verse=12&amp;version=2021&amp;mr=m&amp;qw=q&amp;tp=txt_p&amp;tr=hb&amp;wget=v&amp;qget=v&amp;nget=vt\" title=\"Show this on SHEBANQ\" sec=\"Genesis 1:12\">Genesis 1:12</a></span></span>  <span class=\"plain rtl  hlbx\" ><span class=\"txtu hbo\">וַ</span><span class=\"txtu hbo\">יַּ֥רְא </span><span class=\"txtu hbo\">אֱלֹהִ֖ים </span></span></span></td></tr>\n",
       "<tr class=\"tf rtl\"><td class=\"tf rtl\">4</td><td class=\"tf rtl\"><span class=\"rtl ubd\"><span class=\"tfsechead rtl\"><span class=\"ltr\"><a target=\"_blank\" href=\"https://shebanq.ancient-data.org/hebrew/text?book=Genesis&amp;chapter=1&amp;verse=14&amp;version=2021&amp;mr=m&amp;qw=q&amp;tp=txt_p&amp;tr=hb&amp;wget=v&amp;qget=v&amp;nget=vt\" title=\"Show this on SHEBANQ\" sec=\"Genesis 1:14\">Genesis 1:14</a></span></span>  <span class=\"plain rtl  hlbx\" ><span class=\"txtu hbo\">לְ</span><span class=\"txtu hbo\">הַבְדִּ֕יל </span><span class=\"txtu hbo\">בֵּ֥ין </span><span class=\"txtu hbo\">הַ</span><span class=\"txtu hbo\">יֹּ֖ום </span><span class=\"txtu hbo\">וּ</span><span class=\"txtu hbo\">בֵ֣ין </span><span class=\"txtu hbo\">הַ</span><span class=\"txtu hbo\">לָּ֑יְלָה </span></span></span></td><td class=\"tf rtl\"><span class=\"rtl ubd\"><span class=\"tfsechead rtl\"><span class=\"ltr\"><a target=\"_blank\" href=\"https://shebanq.ancient-data.org/hebrew/text?book=Genesis&amp;chapter=1&amp;verse=14&amp;version=2021&amp;mr=m&amp;qw=q&amp;tp=txt_p&amp;tr=hb&amp;wget=v&amp;qget=v&amp;nget=vt\" title=\"Show this on SHEBANQ\" sec=\"Genesis 1:14\">Genesis 1:14</a></span></span>  <span class=\"plain rtl  hlbx\" ><span class=\"txtu hbo\">יְהִ֤י </span><span class=\"txtu hbo\">מְאֹרֹת֙ </span><span class=\"txtu hbo\">בִּ</span><span class=\"txtu hbo\">רְקִ֣יעַ </span><span class=\"txtu hbo\">הַ</span><span class=\"txtu hbo\">שָּׁמַ֔יִם </span></span></span></td></tr>\n",
       "<tr class=\"tf rtl\"><td class=\"tf rtl\">5</td><td class=\"tf rtl\"><span class=\"rtl ubd\"><span class=\"tfsechead rtl\"><span class=\"ltr\"><a target=\"_blank\" href=\"https://shebanq.ancient-data.org/hebrew/text?book=Genesis&amp;chapter=1&amp;verse=15&amp;version=2021&amp;mr=m&amp;qw=q&amp;tp=txt_p&amp;tr=hb&amp;wget=v&amp;qget=v&amp;nget=vt\" title=\"Show this on SHEBANQ\" sec=\"Genesis 1:15\">Genesis 1:15</a></span></span>  <span class=\"plain rtl  hlbx\" ><span class=\"txtu hbo\">לְ</span><span class=\"txtu hbo\">הָאִ֖יר </span><span class=\"txtu hbo\">עַל־</span><span class=\"txtu hbo\">הָ</span><span class=\"txtu hbo\">אָ֑רֶץ </span></span></span></td><td class=\"tf rtl\"><span class=\"rtl ubd\"><span class=\"tfsechead rtl\"><span class=\"ltr\"><a target=\"_blank\" href=\"https://shebanq.ancient-data.org/hebrew/text?book=Genesis&amp;chapter=1&amp;verse=15&amp;version=2021&amp;mr=m&amp;qw=q&amp;tp=txt_p&amp;tr=hb&amp;wget=v&amp;qget=v&amp;nget=vt\" title=\"Show this on SHEBANQ\" sec=\"Genesis 1:15\">Genesis 1:15</a></span></span>  <span class=\"plain rtl  hlbx\" ><span class=\"txtu hbo\">וְ</span><span class=\"txtu hbo\">הָי֤וּ </span><span class=\"txtu hbo\">לִ</span><span class=\"txtu hbo\">מְאֹורֹת֙ </span><span class=\"txtu hbo\">בִּ</span><span class=\"txtu hbo\">רְקִ֣יעַ </span><span class=\"txtu hbo\">הַ</span><span class=\"txtu hbo\">שָּׁמַ֔יִם </span></span></span></td></tr>\n",
       "<tr class=\"tf rtl\"><td class=\"tf rtl\">6</td><td class=\"tf rtl\"><span class=\"rtl ubd\"><span class=\"tfsechead rtl\"><span class=\"ltr\"><a target=\"_blank\" href=\"https://shebanq.ancient-data.org/hebrew/text?book=Genesis&amp;chapter=1&amp;verse=17&amp;version=2021&amp;mr=m&amp;qw=q&amp;tp=txt_p&amp;tr=hb&amp;wget=v&amp;qget=v&amp;nget=vt\" title=\"Show this on SHEBANQ\" sec=\"Genesis 1:17\">Genesis 1:17</a></span></span>  <span class=\"plain rtl  hlbx\" ><span class=\"txtu hbo\">לְ</span><span class=\"txtu hbo\">הָאִ֖יר </span><span class=\"txtu hbo\">עַל־</span><span class=\"txtu hbo\">הָ</span><span class=\"txtu hbo\">אָֽרֶץ׃ </span></span></span></td><td class=\"tf rtl\"><span class=\"rtl ubd\"><span class=\"tfsechead rtl\"><span class=\"ltr\"><a target=\"_blank\" href=\"https://shebanq.ancient-data.org/hebrew/text?book=Genesis&amp;chapter=1&amp;verse=17&amp;version=2021&amp;mr=m&amp;qw=q&amp;tp=txt_p&amp;tr=hb&amp;wget=v&amp;qget=v&amp;nget=vt\" title=\"Show this on SHEBANQ\" sec=\"Genesis 1:17\">Genesis 1:17</a></span></span>  <span class=\"plain rtl  hlbx\" ><span class=\"txtu hbo\">וַ</span><span class=\"txtu hbo\">יִּתֵּ֥ן </span><span class=\"txtu hbo\">אֹתָ֛ם </span><span class=\"txtu hbo\">אֱלֹהִ֖ים </span><span class=\"txtu hbo\">בִּ</span><span class=\"txtu hbo\">רְקִ֣יעַ </span><span class=\"txtu hbo\">הַ</span><span class=\"txtu hbo\">שָּׁמָ֑יִם </span></span></span></td></tr>\n",
       "<tr class=\"tf rtl\"><td class=\"tf rtl\">7</td><td class=\"tf rtl\"><span class=\"rtl ubd\"><span class=\"tfsechead rtl\"><span class=\"ltr\"><a target=\"_blank\" href=\"https://shebanq.ancient-data.org/hebrew/text?book=Genesis&amp;chapter=1&amp;verse=18&amp;version=2021&amp;mr=m&amp;qw=q&amp;tp=txt_p&amp;tr=hb&amp;wget=v&amp;qget=v&amp;nget=vt\" title=\"Show this on SHEBANQ\" sec=\"Genesis 1:18\">Genesis 1:18</a></span></span>  <span class=\"plain rtl  hlbx\" ><span class=\"txtu hbo\">וּֽ</span><span class=\"txtu hbo\">לֲ</span><span class=\"txtu hbo\">הַבְדִּ֔יל </span><span class=\"txtu hbo\">בֵּ֥ין </span><span class=\"txtu hbo\">הָ</span><span class=\"txtu hbo\">אֹ֖ור </span><span class=\"txtu hbo\">וּ</span><span class=\"txtu hbo\">בֵ֣ין </span><span class=\"txtu hbo\">הַ</span><span class=\"txtu hbo\">חֹ֑שֶׁךְ </span></span></span></td><td class=\"tf rtl\"><span class=\"rtl ubd\"><span class=\"tfsechead rtl\"><span class=\"ltr\"><a target=\"_blank\" href=\"https://shebanq.ancient-data.org/hebrew/text?book=Genesis&amp;chapter=1&amp;verse=18&amp;version=2021&amp;mr=m&amp;qw=q&amp;tp=txt_p&amp;tr=hb&amp;wget=v&amp;qget=v&amp;nget=vt\" title=\"Show this on SHEBANQ\" sec=\"Genesis 1:18\">Genesis 1:18</a></span></span>  <span class=\"plain rtl  hlbx\" ><span class=\"txtu hbo\">וְ</span><span class=\"txtu hbo\">לִ</span><span class=\"txtu hbo\">מְשֹׁל֙ </span><span class=\"txtu hbo\">בַּ</span><span class=\"txtu hbo\">יֹּ֣ום </span><span class=\"txtu hbo\">וּ</span><span class=\"txtu hbo\">בַ</span><span class=\"txtu hbo\">לַּ֔יְלָה </span></span></span></td></tr></table>"
      ],
      "text/plain": [
       "<IPython.core.display.HTML object>"
      ]
     },
     "metadata": {},
     "output_type": "display_data"
    }
   ],
   "source": [
    "query = \"\"\"\n",
    "cm:clause\n",
    "-mother> cd:clause\n",
    "\n",
    "v1:verse\n",
    "v2:verse\n",
    "v1 = v2\n",
    "\n",
    "cm ]] v1\n",
    "cd ]] v2\n",
    "\"\"\"\n",
    "sameMotherPairs = A.search(query)\n",
    "A.table(sameMotherPairs, end=7, skipCols=\"3 4\", withPassage=\"1 2\")"
   ]
  },
  {
   "cell_type": "markdown",
   "metadata": {},
   "source": [
    "### The difference\n",
    "\n",
    "Let's check if the numbers add up:\n",
    "\n",
    "* the first query asked for all pairs\n",
    "* the second query asked for pairs with members in different verses\n",
    "* the third query asked for pairs with members in the same verse\n",
    "\n",
    "Then the results of the second and third query combined should\n",
    "equal the results of the first query.\n",
    "\n",
    "That makes sense.\n",
    "\n",
    "Still, let's check:"
   ]
  },
  {
   "cell_type": "code",
   "execution_count": 57,
   "metadata": {
    "ExecuteTime": {
     "end_time": "2018-05-24T08:00:16.632029Z",
     "start_time": "2018-05-24T08:00:16.627787Z"
    }
   },
   "outputs": [
    {
     "name": "stdout",
     "output_type": "stream",
     "text": [
      "26\n"
     ]
    }
   ],
   "source": [
    "discrepancy = len(allMotherPairs) - len(diffMotherPairs) - len(sameMotherPairs)\n",
    "print(discrepancy)"
   ]
  },
  {
   "cell_type": "markdown",
   "metadata": {},
   "source": [
    "The numbers do not add up. We are missing cases. Why?\n",
    "\n",
    "Clauses may cross verse boundaries. In that case they are not part of a verse, and hence our latter two queries\n",
    "do not detect them. Let's count how many verse boundary crossing clauses there are."
   ]
  },
  {
   "cell_type": "code",
   "execution_count": 58,
   "metadata": {},
   "outputs": [
    {
     "name": "stdout",
     "output_type": "stream",
     "text": [
      "  1.30s 50 results\n"
     ]
    }
   ],
   "source": [
    "query = \"\"\"\n",
    "clause\n",
    "/with/\n",
    "v1:verse\n",
    "&& ..\n",
    "v2:verse\n",
    "&& ..\n",
    "v1 < v2\n",
    "/-/\n",
    "\"\"\"\n",
    "results = A.search(query)"
   ]
  },
  {
   "cell_type": "markdown",
   "metadata": {},
   "source": [
    "You might think we can speed up the query by requiring `v1 <: v2` (both verses are adjacent).\n",
    "There are less possibilities to consider, to maybe we gain something."
   ]
  },
  {
   "cell_type": "code",
   "execution_count": 59,
   "metadata": {},
   "outputs": [
    {
     "name": "stdout",
     "output_type": "stream",
     "text": [
      "  1.23s 49 results\n"
     ]
    }
   ],
   "source": [
    "query = \"\"\"\n",
    "clause\n",
    "/with/\n",
    "v1:verse\n",
    "&& ..\n",
    "v2:verse\n",
    "&& ..\n",
    "v1 <: v2\n",
    "/-/\n",
    "\"\"\"\n",
    "results = A.search(query)"
   ]
  },
  {
   "cell_type": "markdown",
   "metadata": {},
   "source": [
    "Indeed, slightly faster, but one result less! How can that be?\n",
    "\n",
    "There must be a clause that spans at least two verses and in doing so, skips at least one verse.\n",
    "\n",
    "Let's find that one:"
   ]
  },
  {
   "cell_type": "code",
   "execution_count": 60,
   "metadata": {},
   "outputs": [
    {
     "name": "stdout",
     "output_type": "stream",
     "text": [
      "  2.19s 1 result\n"
     ]
    }
   ],
   "source": [
    "query = \"\"\"\n",
    "clause\n",
    "/with/\n",
    "v1:verse\n",
    "&& ..\n",
    "v2:verse\n",
    "|| ..\n",
    "v3:verse\n",
    "&& ..\n",
    "v1 < v2\n",
    "v2 < v3\n",
    "v1 < v3\n",
    "/-/\n",
    "\"\"\"\n",
    "resultsX = A.search(query)"
   ]
  },
  {
   "cell_type": "code",
   "execution_count": 61,
   "metadata": {},
   "outputs": [
    {
     "data": {
      "text/html": [
       "<table><tr class=\"tf rtl\"><th class=\"tf rtl\">n</th><th class=\"tf rtl\">p</th><th class=\"tf rtl\">clause</th></tr>\n",
       "<tr class=\"tf rtl\"><td class=\"tf rtl\">1</td><td class=\"tf rtl\"><span class=\"tfsechead rtl\"><span class=\"ltr\"><a target=\"_blank\" href=\"https://shebanq.ancient-data.org/hebrew/text?book=Reges_I&amp;chapter=8&amp;verse=41&amp;version=2021&amp;mr=m&amp;qw=q&amp;tp=txt_p&amp;tr=hb&amp;wget=v&amp;qget=v&amp;nget=vt\" title=\"Show this on SHEBANQ\" sec=\"1_Kings 8:41\">1_Kings 8:41</a></span></span></td><td class=\"tf rtl\"><span class=\"rtl ubd\"><span class=\"plain rtl l hlbx\" ><span class=\"txtu hbo\">וְ</span><span class=\"txtu hbo\">גַם֙ </span><span class=\"txtu hbo\">אֶל־</span><span class=\"txtu hbo\">הַ</span><span class=\"txtu hbo\">נָּכְרִ֔י </span></span><span class=\"plain rtl r hlbx\" ><span class=\"txtu hbo\">אַתָּ֞ה </span><span class=\"txtu hbo\">תִּשְׁמַ֤ע </span><span class=\"txtu hbo\">הַ</span><span class=\"txtu hbo\">שָּׁמַ֨יִם֙ </span><span class=\"txtu hbo\">מְכֹ֣ון </span><span class=\"txtu hbo\">שִׁבְתֶּ֔ךָ </span></span></span></td></tr></table>"
      ],
      "text/plain": [
       "<IPython.core.display.HTML object>"
      ]
     },
     "metadata": {},
     "output_type": "display_data"
    },
    {
     "data": {
      "text/html": [
       "<p><b>result</b> <i>1</i></p>"
      ],
      "text/plain": [
       "<IPython.core.display.HTML object>"
      ]
     },
     "metadata": {},
     "output_type": "display_data"
    },
    {
     "data": {
      "text/html": [
       "<div class=\"tfsechead rtl\"><span class=\"ltr\"><a target=\"_blank\" href=\"https://shebanq.ancient-data.org/hebrew/text?book=Reges_I&amp;chapter=8&amp;verse=41&amp;version=2021&amp;mr=m&amp;qw=q&amp;tp=txt_p&amp;tr=hb&amp;wget=v&amp;qget=v&amp;nget=vt\" title=\"Show this on SHEBANQ\" sec=\"1_Kings 8:41\">1_Kings 8:41</a></span></div><div class=\"rtl children\"><div class=\"contnr c3  rtl  \" ><div class=\"lbl c3  \" ><span class=\"nd\">verse</span></div><div class=\"children hor wrap rtl\"><div class=\"contnr c2  rtl l \" ><div class=\"lbl c2  \" ><span class=\"nd\">sentence</span></div><div class=\"children hor wrap rtl\"><div class=\"contnr c2  rtl l hl\" ><div class=\"lbl c2  hl\" ><span class=\"nd\">clause</span></div><div class=\"children hor wrap rtl\"><div class=\"contnr c1 trm rtl  \" ><div class=\"lbl c1 trm \" ><span class=\"nd\">phrase</span> <span class=\"\"><span class=\"plain rtl  \" ><span class=\"txtu hbo\">וְ</span></span></span></div></div><div class=\"contnr c1 trm rtl  \" ><div class=\"lbl c1 trm \" ><span class=\"nd\">phrase</span> <span class=\"\"><span class=\"plain rtl  \" ><span class=\"txtu hbo\">גַם֙ </span><span class=\"txtu hbo\">אֶל־</span><span class=\"txtu hbo\">הַ</span><span class=\"txtu hbo\">נָּכְרִ֔י </span></span></span></div></div></div></div><div class=\"contnr c2  rtl  \" ><div class=\"lbl c2  \" ><span class=\"nd\">clause</span></div><div class=\"children hor wrap rtl\"><div class=\"contnr c1 trm rtl  \" ><div class=\"lbl c1 trm \" ><span class=\"nd\">phrase</span> <span class=\"\"><span class=\"plain rtl  \" ><span class=\"txtu hbo\">אֲשֶׁ֛ר </span></span></span></div></div><div class=\"contnr c1 trm rtl  \" ><div class=\"lbl c1 trm \" ><span class=\"nd\">phrase</span> <span class=\"\"><span class=\"plain rtl  \" ><span class=\"txtu hbo\">לֹא־</span></span></span></div></div><div class=\"contnr c1 trm rtl  \" ><div class=\"lbl c1 trm \" ><span class=\"nd\">phrase</span> <span class=\"\"><span class=\"plain rtl  \" ><span class=\"txtu hbo\">מֵ</span><span class=\"txtu hbo\">עַמְּךָ֥ </span><span class=\"txtu hbo\">יִשְׂרָאֵ֖ל </span></span></span></div></div><div class=\"contnr c1 trm rtl  \" ><div class=\"lbl c1 trm \" ><span class=\"nd\">phrase</span> <span class=\"\"><span class=\"plain rtl  \" ><span class=\"txtu hbo\">ה֑וּא </span></span></span></div></div></div></div><div class=\"contnr c2  rtl  \" ><div class=\"lbl c2  \" ><span class=\"nd\">clause</span></div><div class=\"children hor wrap rtl\"><div class=\"contnr c1 trm rtl  \" ><div class=\"lbl c1 trm \" ><span class=\"nd\">phrase</span> <span class=\"\"><span class=\"plain rtl  \" ><span class=\"txtu hbo\">וּ</span></span></span></div></div><div class=\"contnr c1 trm rtl  \" ><div class=\"lbl c1 trm \" ><span class=\"nd\">phrase</span> <span class=\"\"><span class=\"plain rtl  \" ><span class=\"txtu hbo\">בָ֛א </span></span></span></div></div><div class=\"contnr c1 trm rtl  \" ><div class=\"lbl c1 trm \" ><span class=\"nd\">phrase</span> <span class=\"\"><span class=\"plain rtl  \" ><span class=\"txtu hbo\">מֵ</span><span class=\"txtu hbo\">אֶ֥רֶץ </span><span class=\"txtu hbo\">רְחֹוקָ֖ה </span></span></span></div></div><div class=\"contnr c1 trm rtl  \" ><div class=\"lbl c1 trm \" ><span class=\"nd\">phrase</span> <span class=\"\"><span class=\"plain rtl  \" ><span class=\"txtu hbo\">לְמַ֥עַן </span><span class=\"txtu hbo\">שְׁמֶֽךָ׃ </span></span></span></div></div></div></div></div></div></div></div></div>"
      ],
      "text/plain": [
       "<IPython.core.display.HTML object>"
      ]
     },
     "metadata": {},
     "output_type": "display_data"
    },
    {
     "data": {
      "text/html": [
       "<div class=\"tfsechead rtl\"><span class=\"ltr\"><a target=\"_blank\" href=\"https://shebanq.ancient-data.org/hebrew/text?book=Reges_I&amp;chapter=8&amp;verse=43&amp;version=2021&amp;mr=m&amp;qw=q&amp;tp=txt_p&amp;tr=hb&amp;wget=v&amp;qget=v&amp;nget=vt\" title=\"Show this on SHEBANQ\" sec=\"1_Kings 8:43\">1_Kings 8:43</a></span></div><div class=\"rtl children\"><div class=\"contnr c3  rtl  \" ><div class=\"lbl c3  \" ><span class=\"nd\">verse</span></div><div class=\"children hor wrap rtl\"><div class=\"contnr c2  rtl rno \" ><div class=\"lbl c2  \" ><span class=\"nd\">sentence</span></div><div class=\"children hor wrap rtl\"><div class=\"contnr c2  rtl r hl\" ><div class=\"lbl c2  hl\" ><span class=\"nd\">clause</span></div><div class=\"children hor wrap rtl\"><div class=\"contnr c1 trm rtl  \" ><div class=\"lbl c1 trm \" ><span class=\"nd\">phrase</span> <span class=\"\"><span class=\"plain rtl  \" ><span class=\"txtu hbo\">אַתָּ֞ה </span></span></span></div></div><div class=\"contnr c1 trm rtl  \" ><div class=\"lbl c1 trm \" ><span class=\"nd\">phrase</span> <span class=\"\"><span class=\"plain rtl  \" ><span class=\"txtu hbo\">תִּשְׁמַ֤ע </span></span></span></div></div><div class=\"contnr c1 trm rtl  \" ><div class=\"lbl c1 trm \" ><span class=\"nd\">phrase</span> <span class=\"\"><span class=\"plain rtl  \" ><span class=\"txtu hbo\">הַ</span><span class=\"txtu hbo\">שָּׁמַ֨יִם֙ </span><span class=\"txtu hbo\">מְכֹ֣ון </span><span class=\"txtu hbo\">שִׁבְתֶּ֔ךָ </span></span></span></div></div></div></div></div></div><div class=\"contnr c2  rtl  \" ><div class=\"lbl c2  \" ><span class=\"nd\">sentence</span></div><div class=\"children hor wrap rtl\"><div class=\"contnr c2  rtl  \" ><div class=\"lbl c2  \" ><span class=\"nd\">clause</span></div><div class=\"children hor wrap rtl\"><div class=\"contnr c1 trm rtl  \" ><div class=\"lbl c1 trm \" ><span class=\"nd\">phrase</span> <span class=\"\"><span class=\"plain rtl  \" ><span class=\"txtu hbo\">וְ</span></span></span></div></div><div class=\"contnr c1 trm rtl  \" ><div class=\"lbl c1 trm \" ><span class=\"nd\">phrase</span> <span class=\"\"><span class=\"plain rtl  \" ><span class=\"txtu hbo\">עָשִׂ֕יתָ </span></span></span></div></div><div class=\"contnr c1 trm rtl  \" ><div class=\"lbl c1 trm \" ><span class=\"nd\">phrase</span> <span class=\"\"><span class=\"plain rtl  \" ><span class=\"txtu hbo\">כְּ</span><span class=\"txtu hbo\">כֹ֛ל </span></span></span></div></div></div></div><div class=\"contnr c2  rtl  \" ><div class=\"lbl c2  \" ><span class=\"nd\">clause</span></div><div class=\"children hor wrap rtl\"><div class=\"contnr c1 trm rtl  \" ><div class=\"lbl c1 trm \" ><span class=\"nd\">phrase</span> <span class=\"\"><span class=\"plain rtl  \" ><span class=\"txtu hbo\">אֲשֶׁר־</span></span></span></div></div><div class=\"contnr c1 trm rtl  \" ><div class=\"lbl c1 trm \" ><span class=\"nd\">phrase</span> <span class=\"\"><span class=\"plain rtl  \" ><span class=\"txtu hbo\">יִקְרָ֥א </span></span></span></div></div><div class=\"contnr c1 trm rtl  \" ><div class=\"lbl c1 trm \" ><span class=\"nd\">phrase</span> <span class=\"\"><span class=\"plain rtl  \" ><span class=\"txtu hbo\">אֵלֶ֖יךָ </span></span></span></div></div><div class=\"contnr c1 trm rtl  \" ><div class=\"lbl c1 trm \" ><span class=\"nd\">phrase</span> <span class=\"\"><span class=\"plain rtl  \" ><span class=\"txtu hbo\">הַ</span><span class=\"txtu hbo\">נָּכְרִ֑י </span></span></span></div></div></div></div></div></div><div class=\"contnr c2  rtl  \" ><div class=\"lbl c2  \" ><span class=\"nd\">sentence</span></div><div class=\"children hor wrap rtl\"><div class=\"contnr c2  rtl  \" ><div class=\"lbl c2  \" ><span class=\"nd\">clause</span></div><div class=\"children hor wrap rtl\"><div class=\"contnr c1 trm rtl  \" ><div class=\"lbl c1 trm \" ><span class=\"nd\">phrase</span> <span class=\"\"><span class=\"plain rtl  \" ><span class=\"txtu hbo\">לְמַ֣עַן </span></span></span></div></div><div class=\"contnr c1 trm rtl  \" ><div class=\"lbl c1 trm \" ><span class=\"nd\">phrase</span> <span class=\"\"><span class=\"plain rtl  \" ><span class=\"txtu hbo\">יֵדְעוּן֩ </span></span></span></div></div><div class=\"contnr c1 trm rtl  \" ><div class=\"lbl c1 trm \" ><span class=\"nd\">phrase</span> <span class=\"\"><span class=\"plain rtl  \" ><span class=\"txtu hbo\">כָּל־</span><span class=\"txtu hbo\">עַמֵּ֨י </span><span class=\"txtu hbo\">הָ</span><span class=\"txtu hbo\">אָ֜רֶץ </span></span></span></div></div><div class=\"contnr c1 trm rtl  \" ><div class=\"lbl c1 trm \" ><span class=\"nd\">phrase</span> <span class=\"\"><span class=\"plain rtl  \" ><span class=\"txtu hbo\">אֶת־</span><span class=\"txtu hbo\">שְׁמֶ֗ךָ </span></span></span></div></div></div></div><div class=\"contnr c2  rtl  \" ><div class=\"lbl c2  \" ><span class=\"nd\">clause</span></div><div class=\"children hor wrap rtl\"><div class=\"contnr c1 trm rtl  \" ><div class=\"lbl c1 trm \" ><span class=\"nd\">phrase</span> <span class=\"\"><span class=\"plain rtl  \" ><span class=\"txtu hbo\">לְ</span><span class=\"txtu hbo\">יִרְאָ֤ה </span></span></span></div></div><div class=\"contnr c1 trm rtl  \" ><div class=\"lbl c1 trm \" ><span class=\"nd\">phrase</span> <span class=\"\"><span class=\"plain rtl  \" ><span class=\"txtu hbo\">אֹֽתְךָ֙ </span></span></span></div></div><div class=\"contnr c1 trm rtl  \" ><div class=\"lbl c1 trm \" ><span class=\"nd\">phrase</span> <span class=\"\"><span class=\"plain rtl  \" ><span class=\"txtu hbo\">כְּ</span><span class=\"txtu hbo\">עַמְּךָ֣ </span><span class=\"txtu hbo\">יִשְׂרָאֵ֔ל </span></span></span></div></div></div></div><div class=\"contnr c2  rtl  \" ><div class=\"lbl c2  \" ><span class=\"nd\">clause</span></div><div class=\"children hor wrap rtl\"><div class=\"contnr c1 trm rtl  \" ><div class=\"lbl c1 trm \" ><span class=\"nd\">phrase</span> <span class=\"\"><span class=\"plain rtl  \" ><span class=\"txtu hbo\">וְ</span></span></span></div></div><div class=\"contnr c1 trm rtl  \" ><div class=\"lbl c1 trm \" ><span class=\"nd\">phrase</span> <span class=\"\"><span class=\"plain rtl  \" ><span class=\"txtu hbo\">לָ</span><span class=\"txtu hbo\">דַ֕עַת </span></span></span></div></div></div></div><div class=\"contnr c2  rtl  \" ><div class=\"lbl c2  \" ><span class=\"nd\">clause</span></div><div class=\"children hor wrap rtl\"><div class=\"contnr c1 trm rtl  \" ><div class=\"lbl c1 trm \" ><span class=\"nd\">phrase</span> <span class=\"\"><span class=\"plain rtl  \" ><span class=\"txtu hbo\">כִּי־</span></span></span></div></div><div class=\"contnr c1 trm rtl  \" ><div class=\"lbl c1 trm \" ><span class=\"nd\">phrase</span> <span class=\"\"><span class=\"plain rtl  \" ><span class=\"txtu hbo\">שִׁמְךָ֣ </span></span></span></div></div><div class=\"contnr c1 trm rtl  \" ><div class=\"lbl c1 trm \" ><span class=\"nd\">phrase</span> <span class=\"\"><span class=\"plain rtl  \" ><span class=\"txtu hbo\">נִקְרָ֔א </span></span></span></div></div><div class=\"contnr c1 trm rtl  \" ><div class=\"lbl c1 trm \" ><span class=\"nd\">phrase</span> <span class=\"\"><span class=\"plain rtl  \" ><span class=\"txtu hbo\">עַל־</span><span class=\"txtu hbo\">הַ</span><span class=\"txtu hbo\">בַּ֥יִת </span><span class=\"txtu hbo\">הַ</span><span class=\"txtu hbo\">זֶּ֖ה </span></span></span></div></div></div></div><div class=\"contnr c2  rtl  \" ><div class=\"lbl c2  \" ><span class=\"nd\">clause</span></div><div class=\"children hor wrap rtl\"><div class=\"contnr c1 trm rtl  \" ><div class=\"lbl c1 trm \" ><span class=\"nd\">phrase</span> <span class=\"\"><span class=\"plain rtl  \" ><span class=\"txtu hbo\">אֲשֶׁ֥ר </span></span></span></div></div><div class=\"contnr c1 trm rtl  \" ><div class=\"lbl c1 trm \" ><span class=\"nd\">phrase</span> <span class=\"\"><span class=\"plain rtl  \" ><span class=\"txtu hbo\">בָּנִֽיתִי׃ </span></span></span></div></div></div></div></div></div></div></div></div>"
      ],
      "text/plain": [
       "<IPython.core.display.HTML object>"
      ]
     },
     "metadata": {},
     "output_type": "display_data"
    }
   ],
   "source": [
    "A.table(resultsX)\n",
    "A.show(resultsX, baseTypes=\"clause_atom\")"
   ]
  },
  {
   "cell_type": "markdown",
   "metadata": {},
   "source": [
    "A more roundabout way to find the same clauses:"
   ]
  },
  {
   "cell_type": "code",
   "execution_count": 62,
   "metadata": {
    "ExecuteTime": {
     "end_time": "2018-05-24T08:00:20.987274Z",
     "start_time": "2018-05-24T08:00:17.973289Z"
    }
   },
   "outputs": [
    {
     "name": "stdout",
     "output_type": "stream",
     "text": [
      "  2.49s 50 results\n"
     ]
    }
   ],
   "source": [
    "query = \"\"\"\n",
    "clause\n",
    "    =: first:word\n",
    "    last:word\n",
    "    :=\n",
    "v1:verse\n",
    "    w1:word\n",
    "v2:verse\n",
    "    w2:word\n",
    "\n",
    "first = w1\n",
    "last = w2\n",
    "v1 # v2\n",
    "\"\"\"\n",
    "results = A.search(query)"
   ]
  },
  {
   "cell_type": "markdown",
   "metadata": {},
   "source": [
    "Some of these verse spanning clauses do not have mothers or are not mothers. Let's count the cases where two clauses\n",
    "are in a mother relation and at least one of them spans a verse.\n",
    "\n",
    "We need two queries for that. These queries are almost similar. One retrieves the clause pairs where the mother\n",
    "crosses verse boundaries, and the other where the daughter does so.\n",
    "\n",
    "But we are programmers. We do not have to repeat ourselves:"
   ]
  },
  {
   "cell_type": "code",
   "execution_count": 63,
   "metadata": {},
   "outputs": [
    {
     "name": "stdout",
     "output_type": "stream",
     "text": [
      " 26 spanners are missing\n",
      " 26 missing cases were detected before\n",
      "  0 is the resulting disagreement\n"
     ]
    }
   ],
   "source": [
    "queryCommon = \"\"\"\n",
    "c1:clause\n",
    "-mother> c2:clause\n",
    "\n",
    "c3:clause\n",
    "/with/\n",
    "v1:verse\n",
    "&& ..\n",
    "v2:verse\n",
    "&& ..\n",
    "v1 < v2\n",
    "/-/\n",
    "\"\"\"\n",
    "\n",
    "query1 = f\"\"\"\n",
    "{queryCommon}\n",
    "c1 = c3\n",
    "\"\"\"\n",
    "query2 = f\"\"\"\n",
    "{queryCommon}\n",
    "c2 = c3\n",
    "\"\"\"\n",
    "\n",
    "results1 = A.search(query1, silent=True)\n",
    "results2 = A.search(query2, silent=True)\n",
    "spannersByQuery = {(r[0], r[1]) for r in results1 + results2}\n",
    "print(f\"{len(spannersByQuery):>3} spanners are missing\")\n",
    "print(f\"{discrepancy:>3} missing cases were detected before\")\n",
    "print(f\"{discrepancy - len(spannersByQuery):>3} is the resulting disagreement\")"
   ]
  },
  {
   "cell_type": "markdown",
   "metadata": {},
   "source": [
    "We may find the mother clause pairs in which it least one member is verse spanning by hand-coding in an easier way:\n",
    "\n",
    "Starting with the set of all mother pairs, we filter out any pair that has a verse spanner."
   ]
  },
  {
   "cell_type": "code",
   "execution_count": 64,
   "metadata": {},
   "outputs": [
    {
     "data": {
      "text/plain": [
       "26"
      ]
     },
     "execution_count": 64,
     "metadata": {},
     "output_type": "execute_result"
    }
   ],
   "source": [
    "spannersByHand = set()\n",
    "\n",
    "for (c1, c2) in allMotherPairs:\n",
    "    if not (L.u(c1, otype=\"verse\") and L.u(c2, otype=\"verse\")):\n",
    "        spannersByHand.add((c1, c2))\n",
    "\n",
    "len(spannersByHand)"
   ]
  },
  {
   "cell_type": "markdown",
   "metadata": {},
   "source": [
    "And, to be completely sure:"
   ]
  },
  {
   "cell_type": "code",
   "execution_count": 65,
   "metadata": {},
   "outputs": [
    {
     "data": {
      "text/plain": [
       "True"
      ]
     },
     "execution_count": 65,
     "metadata": {},
     "output_type": "execute_result"
    }
   ],
   "source": [
    "spannersByHand == spannersByQuery"
   ]
  },
  {
   "cell_type": "markdown",
   "metadata": {},
   "source": [
    "### By custom sets\n",
    "\n",
    "If we are content with the clauses that do not span verses,\n",
    "we can put them in a set, and modify the queries by replacing `clause` by `conclause`\n",
    "and bind the right set to it.\n",
    "\n",
    "Here we go. In one cell we run the queries to get all pairs, the mother-daughter-in-separate-verses pairs,\n",
    "and the mother-daughter-in-same-verses pair and we do the math of checking."
   ]
  },
  {
   "cell_type": "code",
   "execution_count": 66,
   "metadata": {},
   "outputs": [
    {
     "name": "stdout",
     "output_type": "stream",
     "text": [
      "All pairs\n",
      "  0.14s 13891 results\n",
      "Different verse pairs\n",
      "  0.23s 710 results\n",
      "Same verse pairs\n",
      "  0.28s 13181 results\n",
      "Intersection same-verse/different-verse pairs: set()\n",
      "All pairs is union of same-verse/different-verse pairs: True\n"
     ]
    }
   ],
   "source": [
    "conClauses = {c for c in F.otype.s(\"clause\") if L.u(c, otype=\"verse\")}\n",
    "customSets = dict(conclause=conClauses)\n",
    "\n",
    "print(\"All pairs\")\n",
    "allPairs = A.search(\n",
    "    \"\"\"\n",
    "conclause\n",
    "-mother> conclause\n",
    "\"\"\",\n",
    "    sets=customSets,\n",
    ")\n",
    "\n",
    "print(\"Different verse pairs\")\n",
    "diffPairs = A.search(\n",
    "    \"\"\"\n",
    "cm:conclause\n",
    "-mother> cd:conclause\n",
    "\n",
    "v1:verse\n",
    "v2:verse\n",
    "v1 # v2\n",
    "\n",
    "cm ]] v1\n",
    "cd ]] v2\n",
    "\"\"\",\n",
    "    sets=customSets,\n",
    ")\n",
    "\n",
    "print(\"Same verse pairs\")\n",
    "samePairs = A.search(\n",
    "    \"\"\"\n",
    "cm:conclause\n",
    "-mother> cd:conclause\n",
    "\n",
    "v1:verse\n",
    "v2:verse\n",
    "v1 = v2\n",
    "\n",
    "cm ]] v1\n",
    "cd ]] v2\n",
    "\"\"\",\n",
    "    sets=customSets,\n",
    ")\n",
    "\n",
    "allPairSet = set(allPairs)\n",
    "diffPairSet = {(r[0], r[1]) for r in diffPairs}\n",
    "samePairSet = {(r[0], r[1]) for r in samePairs}\n",
    "\n",
    "print(f\"Intersection same-verse/different-verse pairs: {samePairSet & diffPairSet}\")\n",
    "print(\n",
    "    f\"All pairs is union of same-verse/different-verse pairs: {allPairSet == (samePairSet | diffPairSet)}\"\n",
    ")"
   ]
  },
  {
   "cell_type": "markdown",
   "metadata": {},
   "source": [
    "## Lessons\n",
    "\n",
    "* mix programming with composing queries;\n",
    "* a good way to do so is custom sets;\n",
    "* use programming for processing results;\n",
    "* find the balance between queries and hand-coding."
   ]
  },
  {
   "cell_type": "markdown",
   "metadata": {},
   "source": [
    "# All steps\n",
    "\n",
    "* **[start](start.ipynb)** your first step in mastering the bible computationally\n",
    "* **[display](display.ipynb)** become an expert in creating pretty displays of your text structures\n",
    "* **[search](search.ipynb)** turbo charge your hand-coding with search templates\n",
    "\n",
    "---\n",
    "\n",
    "[advanced](searchAdvanced.ipynb)\n",
    "[sets](searchSets.ipynb)\n",
    "[relations](searchRelations.ipynb)\n",
    "[quantifiers](searchQuantifiers.ipynb)\n",
    "[fromMQL](searchFromMQL.ipynb)\n",
    "[rough](searchRough.ipynb)\n",
    "gaps\n",
    "\n",
    "You have now finished the search tutorial.\n",
    "\n",
    "Share the work!\n",
    "\n",
    "---\n",
    "\n",
    "* **[exportExcel](exportExcel.ipynb)** make tailor-made spreadsheets out of your results\n",
    "* **[share](share.ipynb)** draw in other people's data and let them use yours\n",
    "* **[export](export.ipynb)** export your dataset as an Emdros database\n",
    "* **[annotate](annotate.ipynb)** annotate plain text by means of other tools and import the annotations as TF features\n",
    "* **[map](map.ipynb)** map somebody else's annotations to a new version of the corpus\n",
    "* **[volumes](volumes.ipynb)** work with selected books only\n",
    "* **[trees](trees.ipynb)** work with the BHSA data as syntax trees\n",
    "\n",
    "CC-BY Dirk Roorda"
   ]
  }
 ],
 "metadata": {
  "kernelspec": {
   "display_name": "Python 3 (ipykernel)",
   "language": "python",
   "name": "python3"
  },
  "language_info": {
   "codemirror_mode": {
    "name": "ipython",
    "version": 3
   },
   "file_extension": ".py",
   "mimetype": "text/x-python",
   "name": "python",
   "nbconvert_exporter": "python",
   "pygments_lexer": "ipython3",
   "version": "3.9.5"
  },
  "widgets": {
   "application/vnd.jupyter.widget-state+json": {
    "state": {},
    "version_major": 2,
    "version_minor": 0
   }
  }
 },
 "nbformat": 4,
 "nbformat_minor": 4
}
