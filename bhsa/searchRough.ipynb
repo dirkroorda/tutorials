{
 "cells": [
  {
   "cell_type": "markdown",
   "metadata": {},
   "source": [
    "<img align=\"right\" src=\"images/tf-small.png\" width=\"128\"/>\n",
    "<img align=\"right\" src=\"images/etcbc.png\"/>\n",
    "<img align=\"right\" src=\"images/dans-small.png\"/>\n",
    "\n",
    "You might want to consider the [start](search.ipynb) of this tutorial.\n",
    "\n",
    "Short introductions to other TF datasets:\n",
    "\n",
    "* [Dead Sea Scrolls](https://nbviewer.jupyter.org/github/annotation/tutorials/blob/master/lorentz2020/dss.ipynb),\n",
    "* [Old Babylonian Letters](https://nbviewer.jupyter.org/github/annotation/tutorials/blob/master/lorentz2020/oldbabylonian.ipynb),\n",
    "or the\n",
    "* [Q'uran](https://nbviewer.jupyter.org/github/annotation/tutorials/blob/master/lorentz2020/quran.ipynb)\n"
   ]
  },
  {
   "cell_type": "code",
   "execution_count": 1,
   "metadata": {},
   "outputs": [],
   "source": [
    "%load_ext autoreload\n",
    "%autoreload 2"
   ]
  },
  {
   "cell_type": "code",
   "execution_count": 2,
   "metadata": {
    "ExecuteTime": {
     "end_time": "2018-05-24T10:06:39.818664Z",
     "start_time": "2018-05-24T10:06:39.796588Z"
    }
   },
   "outputs": [],
   "source": [
    "from tf.app import use"
   ]
  },
  {
   "cell_type": "code",
   "execution_count": 3,
   "metadata": {
    "ExecuteTime": {
     "end_time": "2018-05-24T10:06:41.254515Z",
     "start_time": "2018-05-24T10:06:41.238046Z"
    }
   },
   "outputs": [],
   "source": [
    "VERSION = \"2017\""
   ]
  },
  {
   "cell_type": "code",
   "execution_count": 4,
   "metadata": {
    "ExecuteTime": {
     "end_time": "2018-05-24T10:06:48.865143Z",
     "start_time": "2018-05-24T10:06:44.712958Z"
    }
   },
   "outputs": [
    {
     "data": {
      "text/html": [
       "<b title=\"local github\">TF-app:</b> <span title=\"repo clone offline under ~/github\">~/github/annotation/app-bhsa/code</span>"
      ],
      "text/plain": [
       "<IPython.core.display.HTML object>"
      ]
     },
     "metadata": {},
     "output_type": "display_data"
    },
    {
     "data": {
      "text/html": [
       "<b title=\"local github\">data:</b> <span title=\"repo clone offline under ~/github\">~/github/etcbc/bhsa/tf/2017</span>"
      ],
      "text/plain": [
       "<IPython.core.display.HTML object>"
      ]
     },
     "metadata": {},
     "output_type": "display_data"
    },
    {
     "data": {
      "text/html": [
       "<b title=\"local github\">data:</b> <span title=\"repo clone offline under ~/github\">~/github/etcbc/phono/tf/2017</span>"
      ],
      "text/plain": [
       "<IPython.core.display.HTML object>"
      ]
     },
     "metadata": {},
     "output_type": "display_data"
    },
    {
     "data": {
      "text/html": [
       "<b title=\"local github\">data:</b> <span title=\"repo clone offline under ~/github\">~/github/etcbc/parallels/tf/2017</span>"
      ],
      "text/plain": [
       "<IPython.core.display.HTML object>"
      ]
     },
     "metadata": {},
     "output_type": "display_data"
    },
    {
     "data": {
      "text/html": [
       "<b>Text-Fabric:</b> <a target=\"_blank\" href=\"https://annotation.github.io/text-fabric/cheatsheet.html\" title=\"text-fabric-api\">Text-Fabric API 8.3.0</a>, <a target=\"_blank\" href=\"https://github.com/annotation/app-bhsa\" title=\"bhsa TF-app\">app-bhsa</a>, <a target=\"_blank\" href=\"https://annotation.github.io/text-fabric/about/searchusage.html\" title=\"Search Templates Introduction and Reference\">Search Reference</a><br><b>Data:</b> <a target=\"_blank\" href=\"https://etcbc.github.io/bhsa/0_home\" title=\"provenance of BHSA = Biblia Hebraica Stuttgartensia Amstelodamensis\">BHSA</a>, <a target=\"_blank\" href=\"https://annotation.github.io/text-fabric/writing/hebrew.html\" title=\"How TF features represent text\">Character table</a>, <a target=\"_blank\" href=\"https://etcbc.github.io/bhsa/features/0_home\" title=\"BHSA feature documentation\">Feature docs</a><br><b>Features:</b><br><details><summary><b>Parallel Passages</b></summary><b><i><a target=\"_blank\" href=\"https://nbviewer.jupyter.org/github/etcbc/parallels/blob/master/programs/parallels.ipynb\" title=\"~/github/etcbc/parallels/tf/2017/crossref.tf\">crossref</a></i></b><br></details><details><summary><b>BHSA = Biblia Hebraica Stuttgartensia Amstelodamensis</b></summary><a target=\"_blank\" href=\"https://etcbc.github.io/bhsa/features/book\" title=\"~/github/etcbc/bhsa/tf/2017/book.tf\">book</a><br><a target=\"_blank\" href=\"https://etcbc.github.io/bhsa/features/book@ll\" title=\"~/github/etcbc/bhsa/tf/2017/book@am.tf\">book@ll</a><br><a target=\"_blank\" href=\"https://etcbc.github.io/bhsa/features/chapter\" title=\"~/github/etcbc/bhsa/tf/2017/chapter.tf\">chapter</a><br><a target=\"_blank\" href=\"https://etcbc.github.io/bhsa/features/code\" title=\"~/github/etcbc/bhsa/tf/2017/code.tf\">code</a><br><a target=\"_blank\" href=\"https://etcbc.github.io/bhsa/features/det\" title=\"~/github/etcbc/bhsa/tf/2017/det.tf\">det</a><br><a target=\"_blank\" href=\"https://etcbc.github.io/bhsa/features/domain\" title=\"~/github/etcbc/bhsa/tf/2017/domain.tf\">domain</a><br><a target=\"_blank\" href=\"https://etcbc.github.io/bhsa/features/freq_lex\" title=\"~/github/etcbc/bhsa/tf/2017/freq_lex.tf\">freq_lex</a><br><a target=\"_blank\" href=\"https://etcbc.github.io/bhsa/features/function\" title=\"~/github/etcbc/bhsa/tf/2017/function.tf\">function</a><br><a target=\"_blank\" href=\"https://etcbc.github.io/bhsa/features/g_cons\" title=\"~/github/etcbc/bhsa/tf/2017/g_cons.tf\">g_cons</a><br><a target=\"_blank\" href=\"https://etcbc.github.io/bhsa/features/g_cons_utf8\" title=\"~/github/etcbc/bhsa/tf/2017/g_cons_utf8.tf\">g_cons_utf8</a><br><a target=\"_blank\" href=\"https://etcbc.github.io/bhsa/features/g_lex\" title=\"~/github/etcbc/bhsa/tf/2017/g_lex.tf\">g_lex</a><br><a target=\"_blank\" href=\"https://etcbc.github.io/bhsa/features/g_lex_utf8\" title=\"~/github/etcbc/bhsa/tf/2017/g_lex_utf8.tf\">g_lex_utf8</a><br><a target=\"_blank\" href=\"https://etcbc.github.io/bhsa/features/g_word\" title=\"~/github/etcbc/bhsa/tf/2017/g_word.tf\">g_word</a><br><a target=\"_blank\" href=\"https://etcbc.github.io/bhsa/features/g_word_utf8\" title=\"~/github/etcbc/bhsa/tf/2017/g_word_utf8.tf\">g_word_utf8</a><br><a target=\"_blank\" href=\"https://etcbc.github.io/bhsa/features/gloss\" title=\"~/github/etcbc/bhsa/tf/2017/gloss.tf\">gloss</a><br><a target=\"_blank\" href=\"https://etcbc.github.io/bhsa/features/gn\" title=\"~/github/etcbc/bhsa/tf/2017/gn.tf\">gn</a><br><a target=\"_blank\" href=\"https://etcbc.github.io/bhsa/features/label\" title=\"~/github/etcbc/bhsa/tf/2017/label.tf\">label</a><br><a target=\"_blank\" href=\"https://etcbc.github.io/bhsa/features/language\" title=\"~/github/etcbc/bhsa/tf/2017/language.tf\">language</a><br><a target=\"_blank\" href=\"https://etcbc.github.io/bhsa/features/lex\" title=\"~/github/etcbc/bhsa/tf/2017/lex.tf\">lex</a><br><a target=\"_blank\" href=\"https://etcbc.github.io/bhsa/features/lex_utf8\" title=\"~/github/etcbc/bhsa/tf/2017/lex_utf8.tf\">lex_utf8</a><br><a target=\"_blank\" href=\"https://etcbc.github.io/bhsa/features/ls\" title=\"~/github/etcbc/bhsa/tf/2017/ls.tf\">ls</a><br><a target=\"_blank\" href=\"https://etcbc.github.io/bhsa/features/nametype\" title=\"~/github/etcbc/bhsa/tf/2017/nametype.tf\">nametype</a><br><a target=\"_blank\" href=\"https://etcbc.github.io/bhsa/features/nme\" title=\"~/github/etcbc/bhsa/tf/2017/nme.tf\">nme</a><br><a target=\"_blank\" href=\"https://etcbc.github.io/bhsa/features/nu\" title=\"~/github/etcbc/bhsa/tf/2017/nu.tf\">nu</a><br><a target=\"_blank\" href=\"https://etcbc.github.io/bhsa/features/number\" title=\"~/github/etcbc/bhsa/tf/2017/number.tf\">number</a><br><a target=\"_blank\" href=\"https://etcbc.github.io/bhsa/features/otype\" title=\"~/github/etcbc/bhsa/tf/2017/otype.tf\">otype</a><br><a target=\"_blank\" href=\"https://etcbc.github.io/bhsa/features/pargr\" title=\"~/github/etcbc/bhsa/tf/2017/pargr.tf\">pargr</a><br><a target=\"_blank\" href=\"https://etcbc.github.io/bhsa/features/pdp\" title=\"~/github/etcbc/bhsa/tf/2017/pdp.tf\">pdp</a><br><a target=\"_blank\" href=\"https://etcbc.github.io/bhsa/features/pfm\" title=\"~/github/etcbc/bhsa/tf/2017/pfm.tf\">pfm</a><br><a target=\"_blank\" href=\"https://etcbc.github.io/bhsa/features/prs\" title=\"~/github/etcbc/bhsa/tf/2017/prs.tf\">prs</a><br><a target=\"_blank\" href=\"https://etcbc.github.io/bhsa/features/prs_gn\" title=\"~/github/etcbc/bhsa/tf/2017/prs_gn.tf\">prs_gn</a><br><a target=\"_blank\" href=\"https://etcbc.github.io/bhsa/features/prs_nu\" title=\"~/github/etcbc/bhsa/tf/2017/prs_nu.tf\">prs_nu</a><br><a target=\"_blank\" href=\"https://etcbc.github.io/bhsa/features/prs_ps\" title=\"~/github/etcbc/bhsa/tf/2017/prs_ps.tf\">prs_ps</a><br><a target=\"_blank\" href=\"https://etcbc.github.io/bhsa/features/ps\" title=\"~/github/etcbc/bhsa/tf/2017/ps.tf\">ps</a><br><a target=\"_blank\" href=\"https://etcbc.github.io/bhsa/features/qere\" title=\"~/github/etcbc/bhsa/tf/2017/qere.tf\">qere</a><br><a target=\"_blank\" href=\"https://etcbc.github.io/bhsa/features/qere_trailer\" title=\"~/github/etcbc/bhsa/tf/2017/qere_trailer.tf\">qere_trailer</a><br><a target=\"_blank\" href=\"https://etcbc.github.io/bhsa/features/qere_trailer_utf8\" title=\"~/github/etcbc/bhsa/tf/2017/qere_trailer_utf8.tf\">qere_trailer_utf8</a><br><a target=\"_blank\" href=\"https://etcbc.github.io/bhsa/features/qere_utf8\" title=\"~/github/etcbc/bhsa/tf/2017/qere_utf8.tf\">qere_utf8</a><br><a target=\"_blank\" href=\"https://etcbc.github.io/bhsa/features/rank_lex\" title=\"~/github/etcbc/bhsa/tf/2017/rank_lex.tf\">rank_lex</a><br><a target=\"_blank\" href=\"https://etcbc.github.io/bhsa/features/rela\" title=\"~/github/etcbc/bhsa/tf/2017/rela.tf\">rela</a><br><a target=\"_blank\" href=\"https://etcbc.github.io/bhsa/features/sp\" title=\"~/github/etcbc/bhsa/tf/2017/sp.tf\">sp</a><br><a target=\"_blank\" href=\"https://etcbc.github.io/bhsa/features/st\" title=\"~/github/etcbc/bhsa/tf/2017/st.tf\">st</a><br><a target=\"_blank\" href=\"https://etcbc.github.io/bhsa/features/tab\" title=\"~/github/etcbc/bhsa/tf/2017/tab.tf\">tab</a><br><a target=\"_blank\" href=\"https://etcbc.github.io/bhsa/features/trailer\" title=\"~/github/etcbc/bhsa/tf/2017/trailer.tf\">trailer</a><br><a target=\"_blank\" href=\"https://etcbc.github.io/bhsa/features/trailer_utf8\" title=\"~/github/etcbc/bhsa/tf/2017/trailer_utf8.tf\">trailer_utf8</a><br><a target=\"_blank\" href=\"https://etcbc.github.io/bhsa/features/txt\" title=\"~/github/etcbc/bhsa/tf/2017/txt.tf\">txt</a><br><a target=\"_blank\" href=\"https://etcbc.github.io/bhsa/features/typ\" title=\"~/github/etcbc/bhsa/tf/2017/typ.tf\">typ</a><br><a target=\"_blank\" href=\"https://etcbc.github.io/bhsa/features/uvf\" title=\"~/github/etcbc/bhsa/tf/2017/uvf.tf\">uvf</a><br><a target=\"_blank\" href=\"https://etcbc.github.io/bhsa/features/vbe\" title=\"~/github/etcbc/bhsa/tf/2017/vbe.tf\">vbe</a><br><a target=\"_blank\" href=\"https://etcbc.github.io/bhsa/features/vbs\" title=\"~/github/etcbc/bhsa/tf/2017/vbs.tf\">vbs</a><br><a target=\"_blank\" href=\"https://etcbc.github.io/bhsa/features/verse\" title=\"~/github/etcbc/bhsa/tf/2017/verse.tf\">verse</a><br><a target=\"_blank\" href=\"https://etcbc.github.io/bhsa/features/voc_lex\" title=\"~/github/etcbc/bhsa/tf/2017/voc_lex.tf\">voc_lex</a><br><a target=\"_blank\" href=\"https://etcbc.github.io/bhsa/features/voc_lex_utf8\" title=\"~/github/etcbc/bhsa/tf/2017/voc_lex_utf8.tf\">voc_lex_utf8</a><br><a target=\"_blank\" href=\"https://etcbc.github.io/bhsa/features/vs\" title=\"~/github/etcbc/bhsa/tf/2017/vs.tf\">vs</a><br><a target=\"_blank\" href=\"https://etcbc.github.io/bhsa/features/vt\" title=\"~/github/etcbc/bhsa/tf/2017/vt.tf\">vt</a><br><b><i><a target=\"_blank\" href=\"https://etcbc.github.io/bhsa/features/mother\" title=\"~/github/etcbc/bhsa/tf/2017/mother.tf\">mother</a></i></b><br><b><i><a target=\"_blank\" href=\"https://etcbc.github.io/bhsa/features/omap@ll\" title=\"~/github/etcbc/bhsa/tf/2017/omap@2016-2017.tf\">omap@ll</a></i></b><br><b><i><a target=\"_blank\" href=\"https://etcbc.github.io/bhsa/features/oslots\" title=\"~/github/etcbc/bhsa/tf/2017/oslots.tf\">oslots</a></i></b><br></details><details><summary><b>Phonetic Transcriptions</b></summary><a target=\"_blank\" href=\"https://nbviewer.jupyter.org/github/etcbc/phono/blob/master/programs/phono.ipynb\" title=\"~/github/etcbc/phono/tf/2017/phono.tf\">phono</a><br><a target=\"_blank\" href=\"https://nbviewer.jupyter.org/github/etcbc/phono/blob/master/programs/phono.ipynb\" title=\"~/github/etcbc/phono/tf/2017/phono_trailer.tf\">phono_trailer</a><br></details>"
      ],
      "text/plain": [
       "<IPython.core.display.HTML object>"
      ]
     },
     "metadata": {},
     "output_type": "display_data"
    },
    {
     "data": {
      "text/html": [
       "<style>tr.tf.ltr, td.tf.ltr, th.tf.ltr { text-align: left ! important;}\n",
       "tr.tf.rtl, td.tf.rtl, th.tf.rtl { text-align: right ! important;}\n",
       "@font-face {\n",
       "  font-family: \"Ezra SIL\";\n",
       "  src: local('Ezra SIL'), local('EzraSIL'),\n",
       "    url('/server/static/fonts/SILEOT.woff') format('woff'),\n",
       "    url('https://github.com/annotation/text-fabric/blob/master/tf/server/static/fonts/SILEOT.woff?raw=true') format('woff');\n",
       "}\n",
       "\n",
       "@font-face {\n",
       "  font-family: \"SBL Hebrew\";\n",
       "  src: local('SBL Hebrew'), local('SBLHebrew'),\n",
       "    url('/server/static/fonts/SBL_Hbrw.woff') format('woff'),\n",
       "    url('https://github.com/annotation/text-fabric/blob/master/tf/server/static/fonts/SBL_Hbrw.woff?raw=true') format('woff');\n",
       "}\n",
       "\n",
       "@font-face {\n",
       "  font-family: \"Estrangelo Edessa\";\n",
       "  src: local('Estrangelo Edessa'), local('EstrangeloEdessa');\n",
       "    url('/server/static/fonts/SyrCOMEdessa.woff') format('woff'),\n",
       "    url('https://github.com/annotation/text-fabric/blob/master/tf/server/static/fonts/SyrCOMEdessa.woff?raw=true') format('woff');\n",
       "}\n",
       "\n",
       "@font-face {\n",
       "  font-family: AmiriQuran;\n",
       "  font-style: normal;\n",
       "  font-weight: 400;\n",
       "  src: local('Amiri Quran'), local('AmiriQuran'),\n",
       "    url('/server/static/fonts/AmiriQuran.woff') format('woff'),\n",
       "    url('https://github.com/annotation/text-fabric/blob/master/tf/server/static/fonts/AmiriQuran.woff?raw=true') format('woff');\n",
       "}\n",
       "\n",
       "@font-face {\n",
       "  font-family: AmiriQuranColored;\n",
       "  font-style: normal;\n",
       "  font-weight: 400;\n",
       "  src: local('Amiri Quran Colored'), local('AmiriQuranColored'),\n",
       "    url('/server/static/fonts/AmiriQuranColored.woff') format('woff'),\n",
       "    url('https://github.com/annotation/text-fabric/blob/master/tf/server/static/fonts/AmiriQuranColored.woff?raw=true') format('woff');\n",
       "}\n",
       "\n",
       "@font-face {\n",
       "  font-family: \"Santakku\";\n",
       "  src: local('Santakku'),\n",
       "    url('/server/static/fonts/Santakku.woff') format('woff'),\n",
       "    url('https://github.com/annotation/text-fabric/blob/master/tf/server/static/fonts/Santakku.woff?raw=true') format('woff');\n",
       "}\n",
       "\n",
       "@font-face {\n",
       "  font-family: \"SantakkuM\";\n",
       "  src: local('SantakkuM'),\n",
       "    url('/server/static/fonts/SantakkuM.woff') format('woff'),\n",
       "    url('https://github.com/annotation/text-fabric/blob/master/tf/server/static/fonts/SantakkuM.woff?raw=true') format('woff');\n",
       "}\n",
       "/* bypassing some classical notebook settings */\n",
       "div#notebook {\n",
       "  line-height: unset;\n",
       "}\n",
       "/* neutral text */\n",
       ".txtn,.txtn a:visited,.txtn a:link {\n",
       "    font-family: sans-serif;\n",
       "    font-size: medium;\n",
       "    direction: ltr;\n",
       "    text-decoration: none;\n",
       "    color: var(--text-color);\n",
       "}\n",
       "/* transcription text */\n",
       ".txtt,.txtt a:visited,.txtt a:link {\n",
       "    font-family: monospace;\n",
       "    font-size: medium;\n",
       "    direction: ltr;\n",
       "    text-decoration: none;\n",
       "    color: var(--text-color);\n",
       "}\n",
       "/* source text */\n",
       ".txto,.txto a:visited,.txto a:link {\n",
       "    font-family: serif;\n",
       "    font-size: medium;\n",
       "    direction: ltr;\n",
       "    text-decoration: none;\n",
       "    color: var(--text-color);\n",
       "}\n",
       "/* phonetic text */\n",
       ".txtp,.txtp a:visited,.txtp a:link {\n",
       "    font-family: Gentium, sans-serif;\n",
       "    font-size: medium;\n",
       "    direction: ltr;\n",
       "    text-decoration: none;\n",
       "    color: var(--text-color);\n",
       "}\n",
       "/* original script text */\n",
       ".txtu,.txtu a:visited,.txtu a:link {\n",
       "    font-family: Gentium, sans-serif;\n",
       "    font-size: medium;\n",
       "    text-decoration: none;\n",
       "    color: var(--text-color);\n",
       "}\n",
       "/* hebrew */\n",
       ".txtu.hbo,.lex.hbo {\n",
       "    font-family: \"Ezra SIL\", \"SBL Hebrew\", sans-serif;\n",
       "    font-size: large;\n",
       "    direction: rtl ! important;\n",
       "    unicode-bidi: embed;\n",
       "}\n",
       "/* syriac */\n",
       ".txtu.syc,.lex.syc {\n",
       "    font-family: \"Estrangelo Edessa\", sans-serif;\n",
       "    font-size: medium;\n",
       "    direction: rtl ! important;\n",
       "    unicode-bidi: embed;\n",
       "}\n",
       "/* neo aramaic */\n",
       ".txtu.cld,.lex.cld {\n",
       "    font-family: \"CharisSIL-R\", sans-serif;\n",
       "    font-size: medium;\n",
       "    direction: ltr ! important;\n",
       "    unicode-bidi: embed;\n",
       "}\n",
       "/* standard arabic */\n",
       ".txtu.ara,.lex.ara {\n",
       "    font-family: \"AmiriQuran\", sans-serif;\n",
       "    font-size: large;\n",
       "    direction: rtl ! important;\n",
       "    unicode-bidi: embed;\n",
       "}\n",
       "/* cuneiform */\n",
       ".txtu.akk,.lex.akk {\n",
       "    font-family: Santakku, sans-serif;\n",
       "    font-size: large;\n",
       "    direction: ltr ! important;\n",
       "    unicode-bidi: embed;\n",
       "}\n",
       "/* greek */\n",
       ".txtu.grc,.lex.grc a:link {\n",
       "    font-family: Gentium, sans-serif;\n",
       "    font-size: medium;\n",
       "    direction: ltr ! important;\n",
       "    unicode-bidi: embed;\n",
       "}\n",
       "a:hover {\n",
       "    text-decoration: underline | important;\n",
       "    color: #0000ff | important;\n",
       "}\n",
       ".ltr {\n",
       "    direction: ltr ! important;\n",
       "}\n",
       ".rtl {\n",
       "    direction: rtl ! important;\n",
       "}\n",
       ".features {\n",
       "    font-family: monospace;\n",
       "    font-size: medium;\n",
       "    font-weight: bold;\n",
       "    color: var(--features);\n",
       "    display: flex;\n",
       "    flex-flow: column nowrap;\n",
       "    justify-content: flex-start;\n",
       "    align-items: flex-start;\n",
       "    align-content: flex-start;\n",
       "    padding: 0.1rem;\n",
       "    margin: 0.1rem;\n",
       "    direction: ltr;\n",
       "    border: var(--meta-width) solid var(--meta-color);\n",
       "    border-radius: var(--meta-width);\n",
       "}\n",
       ".features div,.features span {\n",
       "    padding: 0;\n",
       "    margin: -0.1rem 0;\n",
       "}\n",
       ".features .f {\n",
       "    font-family: sans-serif;\n",
       "    font-size: small;\n",
       "    font-weight: normal;\n",
       "    color: #5555bb;\n",
       "}\n",
       ".features .xft {\n",
       "  color: #000000;\n",
       "  background-color: #eeeeee;\n",
       "  font-size: medium;\n",
       "  margin: 0.1rem 0rem;\n",
       "}\n",
       ".features .xft .f {\n",
       "  color: #000000;\n",
       "  background-color: #eeeeee;\n",
       "  font-size: small;\n",
       "  font-weight: normal;\n",
       "}\n",
       ".section {\n",
       "    font-family: sans-serif;\n",
       "    font-size: small;\n",
       "    font-weight: bold;\n",
       "    color: var(--section);\n",
       "    unicode-bidi: embed;\n",
       "    text-align: start;\n",
       "}\n",
       ".structure {\n",
       "    font-family: sans-serif;\n",
       "    font-size: small;\n",
       "    font-weight: bold;\n",
       "    color: var(--structure);\n",
       "    unicode-bidi: embed;\n",
       "    text-align: start;\n",
       "}\n",
       ".comments {\n",
       "    display: flex;\n",
       "    justify-content: flex-start;\n",
       "    align-items: flex-start;\n",
       "    align-content: flex-start;\n",
       "    flex-flow: column nowrap;\n",
       "}\n",
       ".nd, a:link.nd {\n",
       "    font-family: sans-serif;\n",
       "    font-size: small;\n",
       "    color: var(--node);\n",
       "    vertical-align: super;\n",
       "    direction: ltr ! important;\n",
       "    unicode-bidi: embed;\n",
       "}\n",
       ".lex {\n",
       "  color: var(--lex-color);;\n",
       "}\n",
       ".children,.children.ltr {\n",
       "    display: flex;\n",
       "    border: 0;\n",
       "    background-color: #ffffff;\n",
       "    justify-content: flex-start;\n",
       "    align-items: flex-start;\n",
       "    align-content: flex-start;\n",
       "}\n",
       ".children.stretch {\n",
       "    align-items: stretch;\n",
       "}\n",
       ".children.hor {\n",
       "    flex-flow: row nowrap;\n",
       "}\n",
       ".children.hor.wrap {\n",
       "    flex-flow: row wrap;\n",
       "}\n",
       ".children.ver {\n",
       "    flex-flow: column nowrap;\n",
       "}\n",
       ".children.ver.wrap {\n",
       "    flex-flow: column wrap;\n",
       "}\n",
       ".contnr {\n",
       "    width: fit-content;\n",
       "    display: flex;\n",
       "    justify-content: flex-start;\n",
       "    align-items: flex-start;\n",
       "    align-content: flex-start;\n",
       "    flex-flow: column nowrap;\n",
       "    background: #ffffff none repeat scroll 0 0;\n",
       "    padding:  0.5rem 0.1rem 0.1rem 0.1rem;\n",
       "    margin: 0.8rem 0.1rem 0.1rem 0.1rem;\n",
       "    border-style: solid;\n",
       "    font-size: small;\n",
       "}\n",
       ".contnr.trm {\n",
       "    background-attachment: local;\n",
       "}\n",
       ".contnr.cnul {\n",
       "    padding:  0;\n",
       "    margin: 0;\n",
       "    border-style: solid;\n",
       "    font-size: xx-small;\n",
       "}\n",
       ".contnr.cnul,.lbl.cnul {\n",
       "    border-color: var(--border-color-nul);\n",
       "    border-width: var(--border-width-nul);\n",
       "    border-radius: var(--border-width-nul);\n",
       "}\n",
       ".contnr.c0,.lbl.c0 {\n",
       "    border-color: var(--border-color0);\n",
       "    border-width: var(--border-width0);\n",
       "    border-radius: var(--border-width0);\n",
       "}\n",
       ".contnr.c1,.lbl.c1 {\n",
       "    border-color: var(--border-color1);\n",
       "    border-width: var(--border-width1);\n",
       "    border-radius: var(--border-width1);\n",
       "}\n",
       ".contnr.c2,.lbl.c2 {\n",
       "    border-color: var(--border-color2);\n",
       "    border-width: var(--border-width2);\n",
       "    border-radius: var(--border-width2);\n",
       "}\n",
       ".contnr.c3,.lbl.c3 {\n",
       "    border-color: var(--border-color3);\n",
       "    border-width: var(--border-width3);\n",
       "    border-radius: var(--border-width3);\n",
       "}\n",
       ".contnr.c4,.lbl.c4 {\n",
       "    border-color: var(--border-color4);\n",
       "    border-width: var(--border-width4);\n",
       "    border-radius: var(--border-width4);\n",
       "}\n",
       "span.plain {\n",
       "    display: inline-block;\n",
       "    white-space: pre-wrap;\n",
       "}\n",
       ".plain {\n",
       "    background-color: #ffffff;\n",
       "}\n",
       ".plain.l,.contnr.l,.contnr.l>.lbl {\n",
       "    border-left-style: dotted\n",
       "}\n",
       ".plain.r,.contnr.r,.contnr.r>.lbl {\n",
       "    border-right-style: dotted\n",
       "}\n",
       ".plain.lno,.contnr.lno,.contnr.lno>.lbl {\n",
       "    border-left-style: none\n",
       "}\n",
       ".plain.rno,.contnr.rno,.contnr.rno>.lbl {\n",
       "    border-right-style: none\n",
       "}\n",
       ".plain.l {\n",
       "    padding-left: 0.2rem;\n",
       "    margin-left: 0.1rem;\n",
       "    border-width: var(--border-width-plain);\n",
       "}\n",
       ".plain.r {\n",
       "    padding-right: 0.2rem;\n",
       "    margin-right: 0.1rem;\n",
       "    border-width: var(--border-width-plain);\n",
       "}\n",
       ".lbl {\n",
       "    font-family: monospace;\n",
       "    margin-top: -1.2rem;\n",
       "    margin-left: 1rem;\n",
       "    background: #ffffff none repeat scroll 0 0;\n",
       "    padding: 0 0.3rem;\n",
       "    border-style: solid;\n",
       "    display: block;\n",
       "    color: var(--label)\n",
       "}\n",
       ".lbl.trm {\n",
       "    background-attachment: local;\n",
       "    margin-top: 0.1rem;\n",
       "    margin-left: 0.1rem;\n",
       "    padding: 0.1rem 0.1rem;\n",
       "    border-style: none;\n",
       "}\n",
       ".lbl.cnul {\n",
       "    font-size: xx-small;\n",
       "}\n",
       ".lbl.c0 {\n",
       "    font-size: small;\n",
       "}\n",
       ".lbl.c1 {\n",
       "    font-size: small;\n",
       "}\n",
       ".lbl.c2 {\n",
       "    font-size: medium;\n",
       "}\n",
       ".lbl.c3 {\n",
       "    font-size: medium;\n",
       "}\n",
       ".lbl.c4 {\n",
       "    font-size: large;\n",
       "}\n",
       ".occs, a:link.occs {\n",
       "    font-size: small;\n",
       "}\n",
       "\n",
       "/* PROVENANCE */\n",
       "\n",
       "div.prov {\n",
       "\tmargin: 2rem;\n",
       "\tpadding: 1rem;\n",
       "\tborder: 0.1rem solid var(--fog-rim);\n",
       "}\n",
       "div.pline {\n",
       "\tdisplay: flex;\n",
       "\tflex-flow: row nowrap;\n",
       "\tjustify-content: stretch;\n",
       "\talign-items: baseline;\n",
       "}\n",
       "div.p2line {\n",
       "\tmargin-left: 2em;\n",
       "\tdisplay: flex;\n",
       "\tflex-flow: row nowrap;\n",
       "\tjustify-content: stretch;\n",
       "\talign-items: baseline;\n",
       "}\n",
       "div.psline {\n",
       "\tdisplay: flex;\n",
       "\tflex-flow: row nowrap;\n",
       "\tjustify-content: stretch;\n",
       "\talign-items: baseline;\n",
       "\tbackground-color: var(--gold-mist-back);\n",
       "}\n",
       "div.pname {\n",
       "\tflex: 0 0 5rem;\n",
       "\tfont-weight: bold;\n",
       "}\n",
       "div.pval {\n",
       "    flex: 1 1 auto;\n",
       "}\n",
       "\n",
       ":root {\n",
       "\t--node:               hsla(120, 100%,  20%, 1.0  );\n",
       "\t--label:              hsla(  0, 100%,  20%, 1.0  );\n",
       "\t--section:            hsla(  0, 100%,  25%, 1.0  );\n",
       "\t--structure:          hsla(120, 100%,  25%, 1.0  );\n",
       "\t--features:           hsla(  0,   0%,  30%, 1.0  );\n",
       "  --text-color:         hsla( 60,  80%,  10%, 1.0  );\n",
       "  --lex-color:          hsla(220,  90%,  60%, 1.0  );\n",
       "  --meta-color:         hsla(  0,   0%,  90%, 0.7  );\n",
       "  --meta-width:         0.15rem;\n",
       "  --border-color-nul:   hsla(  0,   0%,  90%, 0.5  );\n",
       "  --border-color0:      hsla(  0,   0%,  90%, 0.9  );\n",
       "  --border-color1:      hsla(  0,   0%,  80%, 0.9  );\n",
       "  --border-color2:      hsla(  0,   0%,  70%, 0.9  );\n",
       "  --border-color3:      hsla(  0,   0%,  80%, 0.8  );\n",
       "  --border-color4:      hsla(  0,   0%,  60%, 0.9  );\n",
       "  --border-width-nul:   0.1rem;\n",
       "  --border-width0:      0.1rem;\n",
       "  --border-width1:      0.15rem;\n",
       "  --border-width2:      0.2rem;\n",
       "  --border-width3:      0.3rem;\n",
       "  --border-width4:      0.25rem;\n",
       "  --border-width-plain: 0.1rem;\n",
       "}\n",
       ".hl {\n",
       "  background-color: var(--hl-strong);\n",
       "}\n",
       "span.hl {\n",
       "\tbackground-color: var(--hl-strong);\n",
       "\tborder-width: 0;\n",
       "\tborder-radius: 0.1rem;\n",
       "\tborder-style: solid;\n",
       "}\n",
       "div.contnr.hl,div.lbl.hl {\n",
       "  background-color: var(--hl-strong);\n",
       "}\n",
       "div.contnr.hl {\n",
       "  border-color: var(--hl-rim) ! important;\n",
       "\tborder-width: 0.2rem ! important;\n",
       "}\n",
       "\n",
       "span.hlbx {\n",
       "\tborder-color: var(--hl-rim);\n",
       "\tborder-width: 0.2rem ! important;\n",
       "\tborder-style: solid;\n",
       "\tborder-radius: 0.3rem;\n",
       "  padding: 0.2rem;\n",
       "  margin: 0.2rem;\n",
       "}\n",
       "\n",
       "span.plain {\n",
       "  display: inline-block;\n",
       "  white-space: pre-wrap;\n",
       "}\n",
       "\n",
       ":root {\n",
       "\t--hl-strong:        hsla( 60, 100%,  70%, 0.9  );\n",
       "\t--hl-rim:           hsla( 55,  80%,  50%, 1.0  );\n",
       "}\n",
       "</style>"
      ],
      "text/plain": [
       "<IPython.core.display.HTML object>"
      ]
     },
     "metadata": {},
     "output_type": "display_data"
    },
    {
     "data": {
      "text/html": [
       "<div><b>Text-Fabric API:</b> names <a target=\"_blank\" href=\"https://annotation.github.io/text-fabric/cheatsheet.html\" title=\"doc\">N F E L T S C TF</a> directly usable</div><hr>"
      ],
      "text/plain": [
       "<IPython.core.display.HTML object>"
      ]
     },
     "metadata": {},
     "output_type": "display_data"
    }
   ],
   "source": [
    "# A = use('bhsa', hoist=globals(), version=VERSION)\n",
    "A = use(\"bhsa:clone\", checkout=\"clone\", hoist=globals(), version=VERSION)"
   ]
  },
  {
   "cell_type": "markdown",
   "metadata": {},
   "source": [
    "## Rough edges\n",
    "\n",
    "It might be helpful to peek under the hood, especially when exploring searches that go slow.\n",
    "\n",
    "If you went through the previous parts of the tutorial you have encountered cases where things come\n",
    "to a grinding halt.\n",
    "\n",
    "Yet we can get a hunch of what is going on, even in those cases.\n",
    "For that, we use the lower-level search api `S` of Text-Fabric, and not the\n",
    "wrappers that the high level `A` api provides.\n",
    "\n",
    "The main difference is, that `S.search()` returns a *generator* of the results,\n",
    "whereas `A.search()` returns a list of the results.\n",
    "In fact, `A.search()` calls the generator function delivered by `S.search()` as often as needed.\n",
    "\n",
    "For some queries, the fetching of results is quite costly, so costly that we do not want to fetch\n",
    "all results up-front. Rather we want to fetch a few, to see how it goes.\n",
    "In these cases, directly using `S.search()` is preferred over `A.search()`."
   ]
  },
  {
   "cell_type": "code",
   "execution_count": 5,
   "metadata": {
    "ExecuteTime": {
     "end_time": "2018-05-24T08:49:43.870215Z",
     "start_time": "2018-05-24T08:49:43.866722Z"
    }
   },
   "outputs": [],
   "source": [
    "query = \"\"\"\n",
    "book\n",
    "  chapter\n",
    "    verse\n",
    "      phrase det=und\n",
    "        word lex=>LHJM/\n",
    "\"\"\""
   ]
  },
  {
   "cell_type": "markdown",
   "metadata": {},
   "source": [
    "### Study\n",
    "\n",
    "First we call `S.study(query)`.\n",
    "\n",
    "The syntax will be checked, features loaded, the search space will be set up, narrowed down,\n",
    "and the fetching of results will be prepared, but not yet executed.\n",
    "\n",
    "In order to make the query a bit more interesting, we lift the constraint that the results must be in Genesis 1-2."
   ]
  },
  {
   "cell_type": "code",
   "execution_count": 6,
   "metadata": {
    "ExecuteTime": {
     "end_time": "2018-05-24T08:49:46.451394Z",
     "start_time": "2018-05-24T08:49:45.192096Z"
    }
   },
   "outputs": [
    {
     "name": "stdout",
     "output_type": "stream",
     "text": [
      "  0.00s Checking search template ...\n",
      "  0.00s Setting up search space for 5 objects ...\n",
      "  0.69s Constraining search space with 4 relations ...\n",
      "  0.75s \t2 edges thinned\n",
      "  0.75s Setting up retrieval plan with strategy small_choice_multi ...\n",
      "  0.82s Ready to deliver results from 3345 nodes\n",
      "Iterate over S.fetch() to get the results\n",
      "See S.showPlan() to interpret the results\n"
     ]
    }
   ],
   "source": [
    "S.study(query)"
   ]
  },
  {
   "cell_type": "markdown",
   "metadata": {},
   "source": [
    "Before we rush to the results, lets have a look at the *plan*."
   ]
  },
  {
   "cell_type": "code",
   "execution_count": 7,
   "metadata": {
    "ExecuteTime": {
     "end_time": "2018-05-24T08:49:49.104091Z",
     "start_time": "2018-05-24T08:49:49.088781Z"
    }
   },
   "outputs": [
    {
     "name": "stdout",
     "output_type": "stream",
     "text": [
      "  1.68s The results are connected to the original search template as follows:\n",
      " 0     \n",
      " 1 R0  book\n",
      " 2 R1    chapter\n",
      " 3 R2      verse\n",
      " 4 R3        phrase det=und\n",
      " 5 R4          word lex=>LHJM/\n",
      " 6     \n"
     ]
    }
   ],
   "source": [
    "S.showPlan()"
   ]
  },
  {
   "cell_type": "markdown",
   "metadata": {},
   "source": [
    "Here you see already what your results will look like.\n",
    "Each result `r` is a *tuple* of nodes:\n",
    "```\n",
    "(R0, R1, R2, R3, R4)\n",
    "```\n",
    "that instantiate the objects in your template.\n",
    "\n",
    "In case you are curious, you can get details about the search space as well:"
   ]
  },
  {
   "cell_type": "code",
   "execution_count": 8,
   "metadata": {
    "ExecuteTime": {
     "end_time": "2018-05-24T08:50:03.622134Z",
     "start_time": "2018-05-24T08:50:03.589828Z"
    }
   },
   "outputs": [
    {
     "name": "stdout",
     "output_type": "stream",
     "text": [
      "Search with 5 objects and 4 relations\n",
      "Results are instantiations of the following objects:\n",
      "node  0-book                                              39   choices\n",
      "node  1-chapter                                          929   choices\n",
      "node  2-verse                                            754   choices\n",
      "node  3-phrase                                           805   choices\n",
      "node  4-word                                             818   choices\n",
      "Performance parameters:\n",
      "\tyarnRatio            =    1.25\n",
      "\ttryLimitFrom         =      40\n",
      "\ttryLimitTo           =      40\n",
      "Instantiations are computed along the following relations:\n",
      "node                                  0-book              39   choices\n",
      "edge        0-book             [[     1-chapter           23.8 choices\n",
      "edge        1-chapter          [[     2-verse              1.0 choices\n",
      "edge        2-verse            [[     3-phrase             1.1 choices (thinned)\n",
      "edge        3-phrase           [[     4-word               1.0 choices (thinned)\n",
      "  3.64s The results are connected to the original search template as follows:\n",
      " 0     \n",
      " 1 R0  book\n",
      " 2 R1    chapter\n",
      " 3 R2      verse\n",
      " 4 R3        phrase det=und\n",
      " 5 R4          word lex=>LHJM/\n",
      " 6     \n"
     ]
    }
   ],
   "source": [
    "S.showPlan(details=True)"
   ]
  },
  {
   "cell_type": "markdown",
   "metadata": {},
   "source": [
    "The part about the *nodes* shows you how many possible instantiations for each object in your template\n",
    "has been found.\n",
    "These are not results yet, because only combinations of instantiations\n",
    "that satisfy all constraints are results.\n",
    "\n",
    "The constraints come from the relations between the objects that you specified.\n",
    "In this case, there is only an implicit relation: embedding `[[`.\n",
    "Later on we'll examine all\n",
    "[spatial relations](https://annotation.github.io/text-fabric/Use/Search/#relational-operators).\n",
    "\n",
    "The part about the *edges* shows you the constraints,\n",
    "and in what order they will be computed when stitching results together.\n",
    "In this case the order is exactly the order by which the relations appear in the template,\n",
    "but that will not always be the case.\n",
    "Text-Fabric spends some time and ingenuity to find out an optimal *stitch plan*.\n",
    "Fetching results is like selecting a node, stitching it to another node with an edge,\n",
    "and so on, until a full stitch of nodes intersects with all the node sets from which they\n",
    "must be chosen (the yarns).\n",
    "\n",
    "Fetching results may take time.\n",
    "\n",
    "For some queries, it can take a large amount of time to walk through all results.\n",
    "Even worse, it may happen that it takes a large amount of time before getting the *first* result.\n",
    "During stitching, many stitchings will be tried and fail before they can be completed.\n",
    "\n",
    "This has to do with search strategies on the one hand,\n",
    "and the very likely possibility to encounter *pathological* search patterns,\n",
    "which have billions of results, mostly unintended.\n",
    "For example, a simple query that asks for 5 words in the Hebrew Bible without further constraints,\n",
    "will have 425,000 to the power of 5 results.\n",
    "That is 10-e28 (a one with 28 zeros),\n",
    "roughly the number of molecules in a few hundred liters of air.\n",
    "That may not sound much, but it is 10,000 times the amount of bytes\n",
    "that can be currently stored on the whole Internet.\n",
    "\n",
    "Text-Fabric search is not yet done with finding optimal search strategies,\n",
    "and I hope to refine its arsenal of methods in the future, depending on what you report."
   ]
  },
  {
   "cell_type": "markdown",
   "metadata": {},
   "source": [
    "### Counting results\n",
    "It is always a good idea to get a feel for the amount of results, before you dive into them head-on."
   ]
  },
  {
   "cell_type": "code",
   "execution_count": 9,
   "metadata": {
    "ExecuteTime": {
     "end_time": "2018-05-24T08:50:45.871673Z",
     "start_time": "2018-05-24T08:50:45.847217Z"
    }
   },
   "outputs": [
    {
     "name": "stdout",
     "output_type": "stream",
     "text": [
      "  0.00s Counting results per 1 up to 5 ...\n",
      "   |     0.00s 1\n",
      "   |     0.00s 2\n",
      "   |     0.00s 3\n",
      "   |     0.00s 4\n",
      "   |     0.00s 5\n",
      "  0.00s Done: 5 results\n"
     ]
    }
   ],
   "source": [
    "S.count(progress=1, limit=5)"
   ]
  },
  {
   "cell_type": "markdown",
   "metadata": {},
   "source": [
    "We asked for 5 results in total, with a progress message for every one.\n",
    "That was a bit conservative."
   ]
  },
  {
   "cell_type": "code",
   "execution_count": 10,
   "metadata": {
    "ExecuteTime": {
     "end_time": "2018-05-24T08:50:48.710519Z",
     "start_time": "2018-05-24T08:50:48.598126Z"
    }
   },
   "outputs": [
    {
     "name": "stdout",
     "output_type": "stream",
     "text": [
      "  0.00s Counting results per 100 up to 500 ...\n",
      "   |     0.01s 100\n",
      "   |     0.03s 200\n",
      "   |     0.05s 300\n",
      "   |     0.08s 400\n",
      "   |     0.11s 500\n",
      "  0.11s Done: 500 results\n"
     ]
    }
   ],
   "source": [
    "S.count(progress=100, limit=500)"
   ]
  },
  {
   "cell_type": "markdown",
   "metadata": {},
   "source": [
    "Still pretty quick, now we want to count all results."
   ]
  },
  {
   "cell_type": "code",
   "execution_count": 11,
   "metadata": {
    "ExecuteTime": {
     "end_time": "2018-05-24T08:50:50.003468Z",
     "start_time": "2018-05-24T08:50:49.859589Z"
    }
   },
   "outputs": [
    {
     "name": "stdout",
     "output_type": "stream",
     "text": [
      "  0.00s Counting results per 200 up to  the end of the results ...\n",
      "   |     0.03s 200\n",
      "   |     0.07s 400\n",
      "   |     0.10s 600\n",
      "   |     0.13s 800\n",
      "  0.14s Done: 818 results\n"
     ]
    }
   ],
   "source": [
    "S.count(progress=200, limit=-1)"
   ]
  },
  {
   "cell_type": "markdown",
   "metadata": {},
   "source": [
    "### Fetching results\n",
    "\n",
    "It is time to see something of those results."
   ]
  },
  {
   "cell_type": "code",
   "execution_count": 12,
   "metadata": {
    "ExecuteTime": {
     "end_time": "2018-05-24T08:51:06.009618Z",
     "start_time": "2018-05-24T08:51:05.993571Z"
    }
   },
   "outputs": [
    {
     "data": {
      "text/plain": [
       "((426585, 426624, 1414190, 651505, 4),\n",
       " (426585, 426624, 1414191, 651515, 26),\n",
       " (426585, 426624, 1414192, 651520, 34),\n",
       " (426585, 426624, 1414193, 651528, 42),\n",
       " (426585, 426624, 1414193, 651534, 50),\n",
       " (426585, 426624, 1414194, 651538, 60),\n",
       " (426585, 426624, 1414195, 651554, 81),\n",
       " (426585, 426624, 1414196, 651564, 97),\n",
       " (426585, 426624, 1414197, 651578, 127),\n",
       " (426585, 426624, 1414198, 651590, 142))"
      ]
     },
     "execution_count": 12,
     "metadata": {},
     "output_type": "execute_result"
    }
   ],
   "source": [
    "S.fetch(limit=10)"
   ]
  },
  {
   "cell_type": "markdown",
   "metadata": {},
   "source": [
    "Not very informative.\n",
    "Just a quick observation: look at the last column.\n",
    "These are the result nodes for the `word` part in the query, indicated as `R7` by `showPlan()` before.\n",
    "And indeed, they are all below 425,000, the number of words in the Hebrew Bible.\n",
    "\n",
    "Nevertheless, we want to glean a bit more information off them."
   ]
  },
  {
   "cell_type": "code",
   "execution_count": 13,
   "metadata": {
    "ExecuteTime": {
     "end_time": "2018-05-24T08:51:14.214022Z",
     "start_time": "2018-05-24T08:51:14.118975Z"
    }
   },
   "outputs": [
    {
     "name": "stdout",
     "output_type": "stream",
     "text": [
      "  Genesis 1:1 phrase[אֱלֹהִ֑ים ] אֱלֹהִ֑ים \n",
      "  Genesis 1:2 phrase[ר֣וּחַ אֱלֹהִ֔ים ] אֱלֹהִ֔ים \n",
      "  Genesis 1:3 phrase[אֱלֹהִ֖ים ] אֱלֹהִ֖ים \n",
      "  Genesis 1:4 phrase[אֱלֹהִ֛ים ] אֱלֹהִ֛ים \n",
      "  Genesis 1:4 phrase[אֱלֹהִ֔ים ] אֱלֹהִ֔ים \n",
      "  Genesis 1:5 phrase[אֱלֹהִ֤ים׀ ] אֱלֹהִ֤ים׀ \n",
      "  Genesis 1:6 phrase[אֱלֹהִ֔ים ] אֱלֹהִ֔ים \n",
      "  Genesis 1:7 phrase[אֱלֹהִים֮ ] אֱלֹהִים֮ \n",
      "  Genesis 1:8 phrase[אֱלֹהִ֛ים ] אֱלֹהִ֛ים \n",
      "  Genesis 1:9 phrase[אֱלֹהִ֗ים ] אֱלֹהִ֗ים \n"
     ]
    }
   ],
   "source": [
    "for r in S.fetch(limit=10):\n",
    "    print(S.glean(r))"
   ]
  },
  {
   "cell_type": "markdown",
   "metadata": {},
   "source": [
    "##### Caution\n",
    "> It is not possible to do `len(S.fetch())`.\n",
    "Because `fetch()` is a *generator*, not a list.\n",
    "It will deliver a result every time it is being asked and for as long as there are results,\n",
    "but it does not know in advance how many there will be.\n",
    "\n",
    ">Fetching a result can be costly, because due to the constraints, a lot of possibilities\n",
    "may have to be tried and rejected before a the next result is found.\n",
    "\n",
    "> That is why you often see results coming in at varying speeds when counting them."
   ]
  },
  {
   "cell_type": "markdown",
   "metadata": {},
   "source": [
    "We can also use `A.table()` to make a list of results.\n",
    "This function is part of the `Bhsa` API, not of the generic Text-Fabric machinery, as opposed to `S.glean()`.\n",
    "\n",
    "So, you can use `S.glean()` for every Text-Fabric corpus, but the output is still not very nice.\n",
    "`A.table()` gives much nicer output."
   ]
  },
  {
   "cell_type": "code",
   "execution_count": 14,
   "metadata": {
    "ExecuteTime": {
     "end_time": "2018-05-24T08:51:19.071119Z",
     "start_time": "2018-05-24T08:51:18.970211Z"
    }
   },
   "outputs": [
    {
     "data": {
      "text/html": [
       "<table><tr class=\"tf rtl\"><th class=\"tf rtl\">n</th><th class=\"tf rtl\">p</th><th class=\"tf rtl\">book</th><th class=\"tf\">chapter</th><th class=\"tf\">verse</th><th class=\"tf\">phrase</th><th class=\"tf\">word</th></tr>\n",
       "<tr class=\"tf rtl\"><td class=\"tf rtl\">1</td><td class=\"tf rtl\"><span class=\"section ltr\"><a target=\"_blank\" href=\"https://shebanq.ancient-data.org/hebrew/text?book=Genesis&amp;chapter=1&amp;verse=1&amp;version=2017&amp;mr=m&amp;qw=q&amp;tp=txt_p&amp;tr=hb&amp;wget=v&amp;qget=v&amp;nget=vt\" title=\"Show this on SHEBANQ\" sec=\"Genesis 1:1\">Genesis 1:1</a></span></td><td class=\"tf rtl\"><div class=\"rtl\"><span class=\"txtu hbo rtl\"><span class=\"section\">Genesis</span></span></div></td><td class=\"tf rtl\"><div class=\"rtl\"><span class=\"txtu hbo rtl\"><span class=\"section\">Genesis 1</span></span></div></td><td class=\"tf rtl\"><div class=\"rtl\"></div></td><td class=\"tf rtl\"><div class=\"rtl\"><span class=\"plain rtl  hlbx\" ><span class=\"plain rtl  hl\" ><span class=\"txtu hbo\">אֱלֹהִ֑ים </span></span></span></div></td><td class=\"tf rtl\"><div class=\"rtl\"><span class=\"plain rtl  hl\" ><span class=\"txtu hbo\">אֱלֹהִ֑ים </span></span></div></td></tr>\n",
       "<tr class=\"tf rtl\"><td class=\"tf rtl\">2</td><td class=\"tf rtl\"><span class=\"section ltr\"><a target=\"_blank\" href=\"https://shebanq.ancient-data.org/hebrew/text?book=Genesis&amp;chapter=1&amp;verse=2&amp;version=2017&amp;mr=m&amp;qw=q&amp;tp=txt_p&amp;tr=hb&amp;wget=v&amp;qget=v&amp;nget=vt\" title=\"Show this on SHEBANQ\" sec=\"Genesis 1:2\">Genesis 1:2</a></span></td><td class=\"tf rtl\"><div class=\"rtl\"><span class=\"txtu hbo rtl\"><span class=\"section\">Genesis</span></span></div></td><td class=\"tf rtl\"><div class=\"rtl\"><span class=\"txtu hbo rtl\"><span class=\"section\">Genesis 1</span></span></div></td><td class=\"tf rtl\"><div class=\"rtl\"></div></td><td class=\"tf rtl\"><div class=\"rtl\"><span class=\"plain rtl  hlbx\" ><span class=\"txtu hbo\">ר֣וּחַ </span><span class=\"plain rtl  hl\" ><span class=\"txtu hbo\">אֱלֹהִ֔ים </span></span></span></div></td><td class=\"tf rtl\"><div class=\"rtl\"><span class=\"plain rtl  hl\" ><span class=\"txtu hbo\">אֱלֹהִ֔ים </span></span></div></td></tr>\n",
       "<tr class=\"tf rtl\"><td class=\"tf rtl\">3</td><td class=\"tf rtl\"><span class=\"section ltr\"><a target=\"_blank\" href=\"https://shebanq.ancient-data.org/hebrew/text?book=Genesis&amp;chapter=1&amp;verse=3&amp;version=2017&amp;mr=m&amp;qw=q&amp;tp=txt_p&amp;tr=hb&amp;wget=v&amp;qget=v&amp;nget=vt\" title=\"Show this on SHEBANQ\" sec=\"Genesis 1:3\">Genesis 1:3</a></span></td><td class=\"tf rtl\"><div class=\"rtl\"><span class=\"txtu hbo rtl\"><span class=\"section\">Genesis</span></span></div></td><td class=\"tf rtl\"><div class=\"rtl\"><span class=\"txtu hbo rtl\"><span class=\"section\">Genesis 1</span></span></div></td><td class=\"tf rtl\"><div class=\"rtl\"></div></td><td class=\"tf rtl\"><div class=\"rtl\"><span class=\"plain rtl  hlbx\" ><span class=\"plain rtl  hl\" ><span class=\"txtu hbo\">אֱלֹהִ֖ים </span></span></span></div></td><td class=\"tf rtl\"><div class=\"rtl\"><span class=\"plain rtl  hl\" ><span class=\"txtu hbo\">אֱלֹהִ֖ים </span></span></div></td></tr>\n",
       "<tr class=\"tf rtl\"><td class=\"tf rtl\">4</td><td class=\"tf rtl\"><span class=\"section ltr\"><a target=\"_blank\" href=\"https://shebanq.ancient-data.org/hebrew/text?book=Genesis&amp;chapter=1&amp;verse=4&amp;version=2017&amp;mr=m&amp;qw=q&amp;tp=txt_p&amp;tr=hb&amp;wget=v&amp;qget=v&amp;nget=vt\" title=\"Show this on SHEBANQ\" sec=\"Genesis 1:4\">Genesis 1:4</a></span></td><td class=\"tf rtl\"><div class=\"rtl\"><span class=\"txtu hbo rtl\"><span class=\"section\">Genesis</span></span></div></td><td class=\"tf rtl\"><div class=\"rtl\"><span class=\"txtu hbo rtl\"><span class=\"section\">Genesis 1</span></span></div></td><td class=\"tf rtl\"><div class=\"rtl\"></div></td><td class=\"tf rtl\"><div class=\"rtl\"><span class=\"plain rtl  hlbx\" ><span class=\"plain rtl  hl\" ><span class=\"txtu hbo\">אֱלֹהִ֛ים </span></span></span></div></td><td class=\"tf rtl\"><div class=\"rtl\"><span class=\"plain rtl  hl\" ><span class=\"txtu hbo\">אֱלֹהִ֛ים </span></span></div></td></tr>\n",
       "<tr class=\"tf rtl\"><td class=\"tf rtl\">5</td><td class=\"tf rtl\"><span class=\"section ltr\"><a target=\"_blank\" href=\"https://shebanq.ancient-data.org/hebrew/text?book=Genesis&amp;chapter=1&amp;verse=4&amp;version=2017&amp;mr=m&amp;qw=q&amp;tp=txt_p&amp;tr=hb&amp;wget=v&amp;qget=v&amp;nget=vt\" title=\"Show this on SHEBANQ\" sec=\"Genesis 1:4\">Genesis 1:4</a></span></td><td class=\"tf rtl\"><div class=\"rtl\"><span class=\"txtu hbo rtl\"><span class=\"section\">Genesis</span></span></div></td><td class=\"tf rtl\"><div class=\"rtl\"><span class=\"txtu hbo rtl\"><span class=\"section\">Genesis 1</span></span></div></td><td class=\"tf rtl\"><div class=\"rtl\"></div></td><td class=\"tf rtl\"><div class=\"rtl\"><span class=\"plain rtl  hlbx\" ><span class=\"plain rtl  hl\" ><span class=\"txtu hbo\">אֱלֹהִ֔ים </span></span></span></div></td><td class=\"tf rtl\"><div class=\"rtl\"><span class=\"plain rtl  hl\" ><span class=\"txtu hbo\">אֱלֹהִ֔ים </span></span></div></td></tr></table>"
      ],
      "text/plain": [
       "<IPython.core.display.HTML object>"
      ]
     },
     "metadata": {},
     "output_type": "display_data"
    }
   ],
   "source": [
    "A.table(S.fetch(limit=5))"
   ]
  },
  {
   "cell_type": "markdown",
   "metadata": {},
   "source": [
    "## Slow queries\n",
    "\n",
    "The search template above has some pretty tight constraints on one of its objects,\n",
    "so the amount of data to deal with is pretty limited.\n",
    "\n",
    "If the constraints are weak, search may become slow.\n",
    "\n",
    "For example, here is a query that looks for pairs of phrases in the same clause in such a way that\n",
    "one is engulfed by the other."
   ]
  },
  {
   "cell_type": "code",
   "execution_count": 15,
   "metadata": {
    "ExecuteTime": {
     "end_time": "2018-05-24T08:53:35.245388Z",
     "start_time": "2018-05-24T08:53:35.241669Z"
    }
   },
   "outputs": [],
   "source": [
    "query = \"\"\"\n",
    "% test\n",
    "% verse book=Genesis chapter=2 verse=25\n",
    "verse\n",
    "  clause\n",
    "\n",
    "    p1:phrase\n",
    "      w1:word\n",
    "      w3:word\n",
    "      w1 < w3\n",
    "\n",
    "    p2:phrase\n",
    "      w2:word\n",
    "      w1 < w2\n",
    "      w3 > w2\n",
    "\n",
    "    p1 < p2\n",
    "\"\"\""
   ]
  },
  {
   "cell_type": "markdown",
   "metadata": {},
   "source": [
    "A couple of remarks you may have encountered before.\n",
    "\n",
    "* some objects have got a name\n",
    "* there are additional relations specified between named objects\n",
    "* `<` means: *comes before*, and `>`: *comes after* in the canonical order for nodes,\n",
    "  which for words means: comes textually before/after, but for other nodes the meaning\n",
    "  is explained [here](https://annotation.github.io/text-fabric/Api/General/#navigating-nodes)\n",
    "* later on we describe those relations in more detail\n",
    "\n",
    "> **Note on order**\n",
    "Look at the words `w1` and `w3` below phrase `p1`.\n",
    "Although in the template `w1` comes before `w3`, this is not\n",
    "translated in a search constraint of the same nature.\n",
    "\n",
    "> Order between objects in a template is never significant, only embedding is.\n",
    "\n",
    "Because order is not significant, you have to specify order yourself, using relations.\n",
    "\n",
    "It turns out that this is better than the other way around.\n",
    "In MQL order *is* significant, and it is very difficult to\n",
    "search for `w1` and `w2` in any order.\n",
    "Especially if your are looking for more than 2 complex objects with lots of feature\n",
    "conditions, your search template would explode if you had to spell out all\n",
    "possible permutations. See the example of Reinoud Oosting below.\n",
    "\n",
    "> **Note on gaps**\n",
    "Look at the phrases `p1` and `p2`.\n",
    "We do not specify an order here, only that they are different.\n",
    "In order to prevent duplicated searches with `p1` and `p2` interchanged, we even\n",
    "stipulate that `p1 < p2`.\n",
    "There are many spatial relationships possible between different objects.\n",
    "In many cases, neither the one comes before the other, nor vice versa.\n",
    "They can overlap, one can occur in a gap of the other, they can be completely disjoint\n",
    "and interleaved, etc."
   ]
  },
  {
   "cell_type": "code",
   "execution_count": 16,
   "metadata": {},
   "outputs": [],
   "source": [
    "# ignore this\n",
    "# S.tweakPerformance(yarnRatio=2)"
   ]
  },
  {
   "cell_type": "code",
   "execution_count": 17,
   "metadata": {
    "ExecuteTime": {
     "end_time": "2018-05-24T08:53:38.402967Z",
     "start_time": "2018-05-24T08:53:37.837161Z"
    }
   },
   "outputs": [
    {
     "name": "stdout",
     "output_type": "stream",
     "text": [
      "  0.00s Checking search template ...\n",
      "  0.00s Setting up search space for 7 objects ...\n",
      "  0.31s Constraining search space with 10 relations ...\n",
      "  2.41s \t6 edges thinned\n",
      "  2.41s Setting up retrieval plan with strategy small_choice_multi ...\n",
      "  2.45s Ready to deliver results from 1894418 nodes\n",
      "Iterate over S.fetch() to get the results\n",
      "See S.showPlan() to interpret the results\n"
     ]
    }
   ],
   "source": [
    "S.study(query)"
   ]
  },
  {
   "cell_type": "markdown",
   "metadata": {},
   "source": [
    "Text-Fabric knows that narrowing down the search space in this case would take ages,\n",
    "without resulting in a significantly shrunken space.\n",
    "So it skips doing so for most constraints.\n",
    "\n",
    "Let us see the plan, with details."
   ]
  },
  {
   "cell_type": "code",
   "execution_count": 18,
   "metadata": {},
   "outputs": [
    {
     "name": "stdout",
     "output_type": "stream",
     "text": [
      "Search with 7 objects and 9 relations\n",
      "Results are instantiations of the following objects:\n",
      "node  0-verse                                          23207   choices\n",
      "node  1-clause                                         88051   choices\n",
      "node  2-phrase                                        252982   choices\n",
      "node  3-word                                          425732   choices\n",
      "node  4-word                                          425732   choices\n",
      "node  5-phrase                                        252982   choices\n",
      "node  6-word                                          425732   choices\n",
      "Performance parameters:\n",
      "\tyarnRatio            =    1.25\n",
      "\ttryLimitFrom         =      40\n",
      "\ttryLimitTo           =      40\n",
      "Instantiations are computed along the following relations:\n",
      "node                                  0-verse          23207   choices\n",
      "edge        0-verse            [[     1-clause             3.6 choices (thinned)\n",
      "edge        1-clause           [[     2-phrase             2.2 choices (thinned)\n",
      "edge        2-phrase           [[     3-word               1.5 choices (thinned)\n",
      "edge        2-phrase           [[     4-word               2.1 choices (thinned)\n",
      "edge        3-word             <      4-word               0   choices\n",
      "edge        1-clause           [[     5-phrase             2.7 choices (thinned)\n",
      "edge        2-phrase           <      5-phrase             0   choices\n",
      "edge        5-phrase           [[     6-word               1.7 choices (thinned)\n",
      "edge      4,3-word            >,<     6-word               0   choices\n",
      "  5.06s The results are connected to the original search template as follows:\n",
      " 0     \n",
      " 1     % test\n",
      " 2     % verse book=Genesis chapter=2 verse=25\n",
      " 3 R0  verse\n",
      " 4 R1    clause\n",
      " 5                                      \n",
      " 6 R2      p1:phrase\n",
      " 7 R3        w1:word\n",
      " 8 R4        w3:word\n",
      " 9           w1 < w3\n",
      "10     \n",
      "11 R5      p2:phrase\n",
      "12 R6        w2:word\n",
      "13           w1 < w2 \n",
      "14           w3 > w2\n",
      "15         \n",
      "16         p1 < p2   \n",
      "17     \n"
     ]
    }
   ],
   "source": [
    "S.showPlan(details=True)"
   ]
  },
  {
   "cell_type": "markdown",
   "metadata": {},
   "source": [
    "As you see, we have a hefty search space here.\n",
    "Let us play with the `count()` function."
   ]
  },
  {
   "cell_type": "code",
   "execution_count": 19,
   "metadata": {
    "ExecuteTime": {
     "end_time": "2018-05-24T08:53:43.176732Z",
     "start_time": "2018-05-24T08:53:42.972063Z"
    }
   },
   "outputs": [
    {
     "name": "stdout",
     "output_type": "stream",
     "text": [
      "  0.00s Counting results per 10 up to 100 ...\n",
      "   |     0.08s 10\n",
      "   |     0.08s 20\n",
      "   |     0.08s 30\n",
      "   |     0.10s 40\n",
      "   |     0.10s 50\n",
      "   |     0.10s 60\n",
      "   |     0.11s 70\n",
      "   |     0.11s 80\n",
      "   |     0.11s 90\n",
      "   |     0.11s 100\n",
      "  0.11s Done: 100 results\n"
     ]
    }
   ],
   "source": [
    "S.count(progress=10, limit=100)"
   ]
  },
  {
   "cell_type": "markdown",
   "metadata": {},
   "source": [
    "We can be bolder than this!"
   ]
  },
  {
   "cell_type": "code",
   "execution_count": 20,
   "metadata": {
    "ExecuteTime": {
     "end_time": "2018-05-24T08:53:45.993373Z",
     "start_time": "2018-05-24T08:53:45.182241Z"
    }
   },
   "outputs": [
    {
     "name": "stdout",
     "output_type": "stream",
     "text": [
      "  0.00s Counting results per 100 up to 1000 ...\n",
      "   |     0.11s 100\n",
      "   |     0.13s 200\n",
      "   |     0.13s 300\n",
      "   |     0.22s 400\n",
      "   |     0.25s 500\n",
      "   |     0.26s 600\n",
      "   |     0.29s 700\n",
      "   |     0.38s 800\n",
      "   |     0.39s 900\n",
      "   |     0.52s 1000\n",
      "  0.52s Done: 1000 results\n"
     ]
    }
   ],
   "source": [
    "S.count(progress=100, limit=1000)"
   ]
  },
  {
   "cell_type": "markdown",
   "metadata": {},
   "source": [
    "OK, not too bad, but note that it takes a big fraction of a second to get just 100 results.\n",
    "\n",
    "Now let us go for all of them by the thousand."
   ]
  },
  {
   "cell_type": "code",
   "execution_count": 21,
   "metadata": {
    "ExecuteTime": {
     "end_time": "2018-05-24T08:53:59.440736Z",
     "start_time": "2018-05-24T08:53:51.899813Z"
    }
   },
   "outputs": [
    {
     "name": "stdout",
     "output_type": "stream",
     "text": [
      "  0.00s Counting results per 1000 up to  the end of the results ...\n",
      "   |     0.45s 1000\n",
      "   |     0.80s 2000\n",
      "   |     1.14s 3000\n",
      "   |     1.47s 4000\n",
      "   |     1.76s 5000\n",
      "   |     2.34s 6000\n",
      "   |     3.49s 7000\n",
      "  4.31s Done: 7618 results\n"
     ]
    }
   ],
   "source": [
    "S.count(progress=1000, limit=-1)"
   ]
  },
  {
   "cell_type": "markdown",
   "metadata": {},
   "source": [
    "See? This is substantial work."
   ]
  },
  {
   "cell_type": "code",
   "execution_count": 22,
   "metadata": {
    "ExecuteTime": {
     "end_time": "2018-05-24T08:54:02.778931Z",
     "start_time": "2018-05-24T08:54:02.657595Z"
    }
   },
   "outputs": [
    {
     "data": {
      "text/html": [
       "<table><tr class=\"tf rtl\"><th class=\"tf rtl\">n</th><th class=\"tf rtl\">p</th><th class=\"tf rtl\">verse</th><th class=\"tf\">clause</th><th class=\"tf\">phrase</th><th class=\"tf\">word</th><th class=\"tf\">word</th><th class=\"tf\">phrase</th><th class=\"tf\">word</th></tr>\n",
       "<tr class=\"tf rtl\"><td class=\"tf rtl\">1</td><td class=\"tf rtl\"><span class=\"section ltr\"><a target=\"_blank\" href=\"https://shebanq.ancient-data.org/hebrew/text?book=Genesis&amp;chapter=2&amp;verse=25&amp;version=2017&amp;mr=m&amp;qw=q&amp;tp=txt_p&amp;tr=hb&amp;wget=v&amp;qget=v&amp;nget=vt\" title=\"Show this on SHEBANQ\" sec=\"Genesis 2:25\">Genesis 2:25</a></span></td><td class=\"tf rtl\"><div class=\"rtl\"></div></td><td class=\"tf rtl\"><div class=\"rtl\"><span class=\"plain rtl  hlbx\" ><span class=\"txtu hbo\">וַ</span><span class=\"txtu hbo\">יִּֽהְי֤וּ </span><span class=\"plain rtl l hlbx\" ><span class=\"plain rtl  hl\" ><span class=\"txtu hbo\">שְׁנֵיהֶם֙ </span></span></span><span class=\"plain rtl  hlbx\" ><span class=\"plain rtl  hl\" ><span class=\"txtu hbo\">עֲרוּמִּ֔ים </span></span></span><span class=\"plain rtl r hlbx\" ><span class=\"plain rtl  hl\" ><span class=\"txtu hbo\">הָֽ</span></span><span class=\"txtu hbo\">אָדָ֖ם </span><span class=\"txtu hbo\">וְ</span><span class=\"txtu hbo\">אִשְׁתֹּ֑ו </span></span></span></div></td><td class=\"tf rtl\"><div class=\"rtl\"><span class=\"plain rtl l hlbx\" ><span class=\"plain rtl  hl\" ><span class=\"txtu hbo\">שְׁנֵיהֶם֙ </span></span></span><span class=\"plain rtl r hlbx\" ><span class=\"plain rtl  hl\" ><span class=\"txtu hbo\">הָֽ</span></span><span class=\"txtu hbo\">אָדָ֖ם </span><span class=\"txtu hbo\">וְ</span><span class=\"txtu hbo\">אִשְׁתֹּ֑ו </span></span></div></td><td class=\"tf rtl\"><div class=\"rtl\"><span class=\"plain rtl  hl\" ><span class=\"txtu hbo\">שְׁנֵיהֶם֙ </span></span></div></td><td class=\"tf rtl\"><div class=\"rtl\"><span class=\"plain rtl  hl\" ><span class=\"txtu hbo\">הָֽ</span></span></div></td><td class=\"tf rtl\"><div class=\"rtl\"><span class=\"plain rtl  hlbx\" ><span class=\"plain rtl  hl\" ><span class=\"txtu hbo\">עֲרוּמִּ֔ים </span></span></span></div></td><td class=\"tf rtl\"><div class=\"rtl\"><span class=\"plain rtl  hl\" ><span class=\"txtu hbo\">עֲרוּמִּ֔ים </span></span></div></td></tr>\n",
       "<tr class=\"tf rtl\"><td class=\"tf rtl\">2</td><td class=\"tf rtl\"><span class=\"section ltr\"><a target=\"_blank\" href=\"https://shebanq.ancient-data.org/hebrew/text?book=Genesis&amp;chapter=2&amp;verse=25&amp;version=2017&amp;mr=m&amp;qw=q&amp;tp=txt_p&amp;tr=hb&amp;wget=v&amp;qget=v&amp;nget=vt\" title=\"Show this on SHEBANQ\" sec=\"Genesis 2:25\">Genesis 2:25</a></span></td><td class=\"tf rtl\"><div class=\"rtl\"></div></td><td class=\"tf rtl\"><div class=\"rtl\"><span class=\"plain rtl  hlbx\" ><span class=\"txtu hbo\">וַ</span><span class=\"txtu hbo\">יִּֽהְי֤וּ </span><span class=\"plain rtl l hlbx\" ><span class=\"plain rtl  hl\" ><span class=\"txtu hbo\">שְׁנֵיהֶם֙ </span></span></span><span class=\"plain rtl  hlbx\" ><span class=\"plain rtl  hl\" ><span class=\"txtu hbo\">עֲרוּמִּ֔ים </span></span></span><span class=\"plain rtl r hlbx\" ><span class=\"txtu hbo\">הָֽ</span><span class=\"plain rtl  hl\" ><span class=\"txtu hbo\">אָדָ֖ם </span></span><span class=\"txtu hbo\">וְ</span><span class=\"txtu hbo\">אִשְׁתֹּ֑ו </span></span></span></div></td><td class=\"tf rtl\"><div class=\"rtl\"><span class=\"plain rtl l hlbx\" ><span class=\"plain rtl  hl\" ><span class=\"txtu hbo\">שְׁנֵיהֶם֙ </span></span></span><span class=\"plain rtl r hlbx\" ><span class=\"txtu hbo\">הָֽ</span><span class=\"plain rtl  hl\" ><span class=\"txtu hbo\">אָדָ֖ם </span></span><span class=\"txtu hbo\">וְ</span><span class=\"txtu hbo\">אִשְׁתֹּ֑ו </span></span></div></td><td class=\"tf rtl\"><div class=\"rtl\"><span class=\"plain rtl  hl\" ><span class=\"txtu hbo\">שְׁנֵיהֶם֙ </span></span></div></td><td class=\"tf rtl\"><div class=\"rtl\"><span class=\"plain rtl  hl\" ><span class=\"txtu hbo\">אָדָ֖ם </span></span></div></td><td class=\"tf rtl\"><div class=\"rtl\"><span class=\"plain rtl  hlbx\" ><span class=\"plain rtl  hl\" ><span class=\"txtu hbo\">עֲרוּמִּ֔ים </span></span></span></div></td><td class=\"tf rtl\"><div class=\"rtl\"><span class=\"plain rtl  hl\" ><span class=\"txtu hbo\">עֲרוּמִּ֔ים </span></span></div></td></tr>\n",
       "<tr class=\"tf rtl\"><td class=\"tf rtl\">3</td><td class=\"tf rtl\"><span class=\"section ltr\"><a target=\"_blank\" href=\"https://shebanq.ancient-data.org/hebrew/text?book=Genesis&amp;chapter=2&amp;verse=25&amp;version=2017&amp;mr=m&amp;qw=q&amp;tp=txt_p&amp;tr=hb&amp;wget=v&amp;qget=v&amp;nget=vt\" title=\"Show this on SHEBANQ\" sec=\"Genesis 2:25\">Genesis 2:25</a></span></td><td class=\"tf rtl\"><div class=\"rtl\"></div></td><td class=\"tf rtl\"><div class=\"rtl\"><span class=\"plain rtl  hlbx\" ><span class=\"txtu hbo\">וַ</span><span class=\"txtu hbo\">יִּֽהְי֤וּ </span><span class=\"plain rtl l hlbx\" ><span class=\"plain rtl  hl\" ><span class=\"txtu hbo\">שְׁנֵיהֶם֙ </span></span></span><span class=\"plain rtl  hlbx\" ><span class=\"plain rtl  hl\" ><span class=\"txtu hbo\">עֲרוּמִּ֔ים </span></span></span><span class=\"plain rtl r hlbx\" ><span class=\"txtu hbo\">הָֽ</span><span class=\"txtu hbo\">אָדָ֖ם </span><span class=\"plain rtl  hl\" ><span class=\"txtu hbo\">וְ</span></span><span class=\"txtu hbo\">אִשְׁתֹּ֑ו </span></span></span></div></td><td class=\"tf rtl\"><div class=\"rtl\"><span class=\"plain rtl l hlbx\" ><span class=\"plain rtl  hl\" ><span class=\"txtu hbo\">שְׁנֵיהֶם֙ </span></span></span><span class=\"plain rtl r hlbx\" ><span class=\"txtu hbo\">הָֽ</span><span class=\"txtu hbo\">אָדָ֖ם </span><span class=\"plain rtl  hl\" ><span class=\"txtu hbo\">וְ</span></span><span class=\"txtu hbo\">אִשְׁתֹּ֑ו </span></span></div></td><td class=\"tf rtl\"><div class=\"rtl\"><span class=\"plain rtl  hl\" ><span class=\"txtu hbo\">שְׁנֵיהֶם֙ </span></span></div></td><td class=\"tf rtl\"><div class=\"rtl\"><span class=\"plain rtl  hl\" ><span class=\"txtu hbo\">וְ</span></span></div></td><td class=\"tf rtl\"><div class=\"rtl\"><span class=\"plain rtl  hlbx\" ><span class=\"plain rtl  hl\" ><span class=\"txtu hbo\">עֲרוּמִּ֔ים </span></span></span></div></td><td class=\"tf rtl\"><div class=\"rtl\"><span class=\"plain rtl  hl\" ><span class=\"txtu hbo\">עֲרוּמִּ֔ים </span></span></div></td></tr>\n",
       "<tr class=\"tf rtl\"><td class=\"tf rtl\">4</td><td class=\"tf rtl\"><span class=\"section ltr\"><a target=\"_blank\" href=\"https://shebanq.ancient-data.org/hebrew/text?book=Genesis&amp;chapter=2&amp;verse=25&amp;version=2017&amp;mr=m&amp;qw=q&amp;tp=txt_p&amp;tr=hb&amp;wget=v&amp;qget=v&amp;nget=vt\" title=\"Show this on SHEBANQ\" sec=\"Genesis 2:25\">Genesis 2:25</a></span></td><td class=\"tf rtl\"><div class=\"rtl\"></div></td><td class=\"tf rtl\"><div class=\"rtl\"><span class=\"plain rtl  hlbx\" ><span class=\"txtu hbo\">וַ</span><span class=\"txtu hbo\">יִּֽהְי֤וּ </span><span class=\"plain rtl l hlbx\" ><span class=\"plain rtl  hl\" ><span class=\"txtu hbo\">שְׁנֵיהֶם֙ </span></span></span><span class=\"plain rtl  hlbx\" ><span class=\"plain rtl  hl\" ><span class=\"txtu hbo\">עֲרוּמִּ֔ים </span></span></span><span class=\"plain rtl r hlbx\" ><span class=\"txtu hbo\">הָֽ</span><span class=\"txtu hbo\">אָדָ֖ם </span><span class=\"txtu hbo\">וְ</span><span class=\"plain rtl  hl\" ><span class=\"txtu hbo\">אִשְׁתֹּ֑ו </span></span></span></span></div></td><td class=\"tf rtl\"><div class=\"rtl\"><span class=\"plain rtl l hlbx\" ><span class=\"plain rtl  hl\" ><span class=\"txtu hbo\">שְׁנֵיהֶם֙ </span></span></span><span class=\"plain rtl r hlbx\" ><span class=\"txtu hbo\">הָֽ</span><span class=\"txtu hbo\">אָדָ֖ם </span><span class=\"txtu hbo\">וְ</span><span class=\"plain rtl  hl\" ><span class=\"txtu hbo\">אִשְׁתֹּ֑ו </span></span></span></div></td><td class=\"tf rtl\"><div class=\"rtl\"><span class=\"plain rtl  hl\" ><span class=\"txtu hbo\">שְׁנֵיהֶם֙ </span></span></div></td><td class=\"tf rtl\"><div class=\"rtl\"><span class=\"plain rtl  hl\" ><span class=\"txtu hbo\">אִשְׁתֹּ֑ו </span></span></div></td><td class=\"tf rtl\"><div class=\"rtl\"><span class=\"plain rtl  hlbx\" ><span class=\"plain rtl  hl\" ><span class=\"txtu hbo\">עֲרוּמִּ֔ים </span></span></span></div></td><td class=\"tf rtl\"><div class=\"rtl\"><span class=\"plain rtl  hl\" ><span class=\"txtu hbo\">עֲרוּמִּ֔ים </span></span></div></td></tr>\n",
       "<tr class=\"tf rtl\"><td class=\"tf rtl\">5</td><td class=\"tf rtl\"><span class=\"section ltr\"><a target=\"_blank\" href=\"https://shebanq.ancient-data.org/hebrew/text?book=Genesis&amp;chapter=4&amp;verse=4&amp;version=2017&amp;mr=m&amp;qw=q&amp;tp=txt_p&amp;tr=hb&amp;wget=v&amp;qget=v&amp;nget=vt\" title=\"Show this on SHEBANQ\" sec=\"Genesis 4:4\">Genesis 4:4</a></span></td><td class=\"tf rtl\"><div class=\"rtl\"></div></td><td class=\"tf rtl\"><div class=\"rtl\"><span class=\"plain rtl  hlbx\" ><span class=\"txtu hbo\">וְ</span><span class=\"plain rtl l hlbx\" ><span class=\"plain rtl  hl\" ><span class=\"txtu hbo\">הֶ֨בֶל </span></span></span><span class=\"plain rtl  hlbx\" ><span class=\"plain rtl  hl\" ><span class=\"txtu hbo\">הֵבִ֥יא </span></span></span><span class=\"plain rtl r hlbx\" ><span class=\"plain rtl  hl\" ><span class=\"txtu hbo\">גַם־</span></span><span class=\"txtu hbo\">ה֛וּא </span></span><span class=\"txtu hbo\">מִ</span><span class=\"txtu hbo\">בְּכֹרֹ֥ות </span><span class=\"txtu hbo\">צֹאנֹ֖ו </span><span class=\"txtu hbo\">וּ</span><span class=\"txtu hbo\">מֵֽ</span><span class=\"txtu hbo\">חֶלְבֵהֶ֑ן </span></span></div></td><td class=\"tf rtl\"><div class=\"rtl\"><span class=\"plain rtl l hlbx\" ><span class=\"plain rtl  hl\" ><span class=\"txtu hbo\">הֶ֨בֶל </span></span></span><span class=\"plain rtl r hlbx\" ><span class=\"plain rtl  hl\" ><span class=\"txtu hbo\">גַם־</span></span><span class=\"txtu hbo\">ה֛וּא </span></span></div></td><td class=\"tf rtl\"><div class=\"rtl\"><span class=\"plain rtl  hl\" ><span class=\"txtu hbo\">הֶ֨בֶל </span></span></div></td><td class=\"tf rtl\"><div class=\"rtl\"><span class=\"plain rtl  hl\" ><span class=\"txtu hbo\">גַם־</span></span></div></td><td class=\"tf rtl\"><div class=\"rtl\"><span class=\"plain rtl  hlbx\" ><span class=\"plain rtl  hl\" ><span class=\"txtu hbo\">הֵבִ֥יא </span></span></span></div></td><td class=\"tf rtl\"><div class=\"rtl\"><span class=\"plain rtl  hl\" ><span class=\"txtu hbo\">הֵבִ֥יא </span></span></div></td></tr></table>"
      ],
      "text/plain": [
       "<IPython.core.display.HTML object>"
      ]
     },
     "metadata": {},
     "output_type": "display_data"
    }
   ],
   "source": [
    "A.table(S.fetch(limit=5))"
   ]
  },
  {
   "cell_type": "markdown",
   "metadata": {},
   "source": [
    "## Hand-coding\n",
    "\n",
    "As a check, here is some code that looks for basically the same phenomenon:\n",
    "a phrase within the gap of another phrase.\n",
    "It does not use search, and it gets a bit more focused results, in half the time compared\n",
    "to the search with the template.\n",
    "\n",
    "> **Hint**\n",
    "If you are comfortable with programming, and what you look for is fairly generic,\n",
    "you may be better off without search, provided you can translate your insight in the\n",
    "data into an effective procedure within Text-Fabric.\n",
    "But wait till we are completely done with this example!"
   ]
  },
  {
   "cell_type": "code",
   "execution_count": 23,
   "metadata": {
    "ExecuteTime": {
     "end_time": "2018-05-24T08:54:13.108437Z",
     "start_time": "2018-05-24T08:54:10.074685Z"
    }
   },
   "outputs": [
    {
     "name": "stdout",
     "output_type": "stream",
     "text": [
      "  0.00s Getting gapped phrases\n",
      "  2.37s 368 results\n"
     ]
    }
   ],
   "source": [
    "TF.indent(reset=True)\n",
    "TF.info(\"Getting gapped phrases\")\n",
    "results = []\n",
    "for v in F.otype.s(\"verse\"):\n",
    "    for c in L.d(v, otype=\"clause\"):\n",
    "        ps = L.d(c, otype=\"phrase\")\n",
    "        first = {}\n",
    "        last = {}\n",
    "        slots = {}\n",
    "        # make index of phrase boundaries\n",
    "        for p in ps:\n",
    "            words = L.d(p, otype=\"word\")\n",
    "            first[p] = words[0]\n",
    "            last[p] = words[-1]\n",
    "            slots[p] = set(words)\n",
    "        for p1 in ps:\n",
    "            for p2 in ps:\n",
    "                if p2 < p1:\n",
    "                    continue\n",
    "                if len(slots[p1] & slots[p2]) != 0:\n",
    "                    continue\n",
    "                if first[p1] < first[p2] and last[p2] < last[p1]:\n",
    "                    results.append(\n",
    "                        (v, c, p1, p2, first[p1], first[p2], last[p2], last[p1])\n",
    "                    )\n",
    "TF.info(\"{} results\".format(len(results)))"
   ]
  },
  {
   "cell_type": "markdown",
   "metadata": {},
   "source": [
    "## Pretty printing\n",
    "\n",
    "We can use the pretty printing of `A.table()` and `A.show()` here as well, even though we have\n",
    "not used search!\n",
    "\n",
    "Not that you can show the node numbers. In this case it helps to see where the gaps are."
   ]
  },
  {
   "cell_type": "code",
   "execution_count": 24,
   "metadata": {
    "ExecuteTime": {
     "end_time": "2018-05-24T08:54:34.120441Z",
     "start_time": "2018-05-24T08:54:34.112139Z"
    }
   },
   "outputs": [
    {
     "data": {
      "text/html": [
       "<table><tr class=\"tf rtl\"><th class=\"tf rtl\">n</th><th class=\"tf rtl\">p</th><th class=\"tf rtl\">verse</th><th class=\"tf\">clause</th><th class=\"tf\">phrase</th><th class=\"tf\">phrase</th><th class=\"tf\">word</th><th class=\"tf\">word</th><th class=\"tf\">word</th><th class=\"tf\">word</th></tr>\n",
       "<tr class=\"tf rtl\"><td class=\"tf rtl\">1</td><td class=\"tf rtl\"><span class=\"section ltr\"><a target=\"_blank\" href=\"https://shebanq.ancient-data.org/hebrew/text?book=Genesis&amp;chapter=2&amp;verse=25&amp;version=2017&amp;mr=m&amp;qw=q&amp;tp=txt_p&amp;tr=hb&amp;wget=v&amp;qget=v&amp;nget=vt\" title=\"Show this on SHEBANQ\" sec=\"Genesis 2:25\">Genesis 2:25</a></span></td><td class=\"tf rtl\"><div class=\"rtl\"><span class=\"plain rtl  \" ><span class=\"nd\">1414245</span></span></div></td><td class=\"tf rtl\"><div class=\"rtl\"><span class=\"plain rtl  hlbx\" ><span class=\"nd\">427767</span><span class=\"txtu hbo\">וַ</span><span class=\"txtu hbo\">יִּֽהְי֤וּ </span><span class=\"plain rtl l hlbx\" ><span class=\"nd\">652147</span><span class=\"plain rtl  hl\" ><span class=\"nd\">1159</span><span class=\"txtu hbo\">שְׁנֵיהֶם֙ </span></span></span><span class=\"plain rtl  hlbx\" ><span class=\"nd\">652148</span><span class=\"plain rtl  hl\" ><span class=\"nd\">1160</span><span class=\"txtu hbo\">עֲרוּמִּ֔ים </span></span></span><span class=\"plain rtl r hlbx\" ><span class=\"nd\">652147</span><span class=\"txtu hbo\">הָֽ</span><span class=\"txtu hbo\">אָדָ֖ם </span><span class=\"txtu hbo\">וְ</span><span class=\"plain rtl  hl\" ><span class=\"nd\">1164</span><span class=\"txtu hbo\">אִשְׁתֹּ֑ו </span></span></span></span></div></td><td class=\"tf rtl\"><div class=\"rtl\"><span class=\"plain rtl l hlbx\" ><span class=\"nd\">652147</span><span class=\"plain rtl  hl\" ><span class=\"nd\">1159</span><span class=\"txtu hbo\">שְׁנֵיהֶם֙ </span></span></span><span class=\"plain rtl r hlbx\" ><span class=\"nd\">652147</span><span class=\"txtu hbo\">הָֽ</span><span class=\"txtu hbo\">אָדָ֖ם </span><span class=\"txtu hbo\">וְ</span><span class=\"plain rtl  hl\" ><span class=\"nd\">1164</span><span class=\"txtu hbo\">אִשְׁתֹּ֑ו </span></span></span></div></td><td class=\"tf rtl\"><div class=\"rtl\"><span class=\"plain rtl  hlbx\" ><span class=\"nd\">652148</span><span class=\"plain rtl  hl\" ><span class=\"nd\">1160</span><span class=\"txtu hbo\">עֲרוּמִּ֔ים </span></span></span></div></td><td class=\"tf rtl\"><div class=\"rtl\"><span class=\"plain rtl  hl\" ><span class=\"nd\">1159</span><span class=\"txtu hbo\">שְׁנֵיהֶם֙ </span></span></div></td><td class=\"tf rtl\"><div class=\"rtl\"><span class=\"plain rtl  hl\" ><span class=\"nd\">1160</span><span class=\"txtu hbo\">עֲרוּמִּ֔ים </span></span></div></td><td class=\"tf rtl\"><div class=\"rtl\"><span class=\"plain rtl  hl\" ><span class=\"nd\">1160</span><span class=\"txtu hbo\">עֲרוּמִּ֔ים </span></span></div></td><td class=\"tf rtl\"><div class=\"rtl\"><span class=\"plain rtl  hl\" ><span class=\"nd\">1164</span><span class=\"txtu hbo\">אִשְׁתֹּ֑ו </span></span></div></td></tr>\n",
       "<tr class=\"tf rtl\"><td class=\"tf rtl\">2</td><td class=\"tf rtl\"><span class=\"section ltr\"><a target=\"_blank\" href=\"https://shebanq.ancient-data.org/hebrew/text?book=Genesis&amp;chapter=4&amp;verse=4&amp;version=2017&amp;mr=m&amp;qw=q&amp;tp=txt_p&amp;tr=hb&amp;wget=v&amp;qget=v&amp;nget=vt\" title=\"Show this on SHEBANQ\" sec=\"Genesis 4:4\">Genesis 4:4</a></span></td><td class=\"tf rtl\"><div class=\"rtl\"><span class=\"plain rtl  \" ><span class=\"nd\">1414273</span></span></div></td><td class=\"tf rtl\"><div class=\"rtl\"><span class=\"plain rtl  hlbx\" ><span class=\"nd\">427889</span><span class=\"txtu hbo\">וְ</span><span class=\"plain rtl l hlbx\" ><span class=\"nd\">652504</span><span class=\"plain rtl  hl\" ><span class=\"nd\">1720</span><span class=\"txtu hbo\">הֶ֨בֶל </span></span></span><span class=\"plain rtl  hlbx\" ><span class=\"nd\">652505</span><span class=\"plain rtl  hl\" ><span class=\"nd\">1721</span><span class=\"txtu hbo\">הֵבִ֥יא </span></span></span><span class=\"plain rtl r hlbx\" ><span class=\"nd\">652504</span><span class=\"txtu hbo\">גַם־</span><span class=\"plain rtl  hl\" ><span class=\"nd\">1723</span><span class=\"txtu hbo\">ה֛וּא </span></span></span><span class=\"txtu hbo\">מִ</span><span class=\"txtu hbo\">בְּכֹרֹ֥ות </span><span class=\"txtu hbo\">צֹאנֹ֖ו </span><span class=\"txtu hbo\">וּ</span><span class=\"txtu hbo\">מֵֽ</span><span class=\"txtu hbo\">חֶלְבֵהֶ֑ן </span></span></div></td><td class=\"tf rtl\"><div class=\"rtl\"><span class=\"plain rtl l hlbx\" ><span class=\"nd\">652504</span><span class=\"plain rtl  hl\" ><span class=\"nd\">1720</span><span class=\"txtu hbo\">הֶ֨בֶל </span></span></span><span class=\"plain rtl r hlbx\" ><span class=\"nd\">652504</span><span class=\"txtu hbo\">גַם־</span><span class=\"plain rtl  hl\" ><span class=\"nd\">1723</span><span class=\"txtu hbo\">ה֛וּא </span></span></span></div></td><td class=\"tf rtl\"><div class=\"rtl\"><span class=\"plain rtl  hlbx\" ><span class=\"nd\">652505</span><span class=\"plain rtl  hl\" ><span class=\"nd\">1721</span><span class=\"txtu hbo\">הֵבִ֥יא </span></span></span></div></td><td class=\"tf rtl\"><div class=\"rtl\"><span class=\"plain rtl  hl\" ><span class=\"nd\">1720</span><span class=\"txtu hbo\">הֶ֨בֶל </span></span></div></td><td class=\"tf rtl\"><div class=\"rtl\"><span class=\"plain rtl  hl\" ><span class=\"nd\">1721</span><span class=\"txtu hbo\">הֵבִ֥יא </span></span></div></td><td class=\"tf rtl\"><div class=\"rtl\"><span class=\"plain rtl  hl\" ><span class=\"nd\">1721</span><span class=\"txtu hbo\">הֵבִ֥יא </span></span></div></td><td class=\"tf rtl\"><div class=\"rtl\"><span class=\"plain rtl  hl\" ><span class=\"nd\">1723</span><span class=\"txtu hbo\">ה֛וּא </span></span></div></td></tr>\n",
       "<tr class=\"tf rtl\"><td class=\"tf rtl\">3</td><td class=\"tf rtl\"><span class=\"section ltr\"><a target=\"_blank\" href=\"https://shebanq.ancient-data.org/hebrew/text?book=Genesis&amp;chapter=10&amp;verse=21&amp;version=2017&amp;mr=m&amp;qw=q&amp;tp=txt_p&amp;tr=hb&amp;wget=v&amp;qget=v&amp;nget=vt\" title=\"Show this on SHEBANQ\" sec=\"Genesis 10:21\">Genesis 10:21</a></span></td><td class=\"tf rtl\"><div class=\"rtl\"><span class=\"plain rtl  \" ><span class=\"nd\">1414445</span></span></div></td><td class=\"tf rtl\"><div class=\"rtl\"><span class=\"plain rtl  hlbx\" ><span class=\"nd\">428386</span><span class=\"plain rtl l hlbx\" ><span class=\"nd\">654102</span><span class=\"plain rtl  hl\" ><span class=\"nd\">4819</span><span class=\"txtu hbo\">גַּם־</span></span><span class=\"txtu hbo\">ה֑וּא </span></span><span class=\"plain rtl  hlbx\" ><span class=\"nd\">654103</span><span class=\"plain rtl  hl\" ><span class=\"nd\">4821</span><span class=\"txtu hbo\">אֲבִי֙ </span></span><span class=\"txtu hbo\">כָּל־</span><span class=\"txtu hbo\">בְּנֵי־</span><span class=\"plain rtl  hl\" ><span class=\"nd\">4824</span><span class=\"txtu hbo\">עֵ֔בֶר </span></span></span><span class=\"plain rtl r hlbx\" ><span class=\"nd\">654102</span><span class=\"txtu hbo\">אֲחִ֖י </span><span class=\"txtu hbo\">יֶ֥פֶת </span><span class=\"txtu hbo\">הַ</span><span class=\"plain rtl  hl\" ><span class=\"nd\">4828</span><span class=\"txtu hbo\">גָּדֹֽול׃ </span></span></span></span></div></td><td class=\"tf rtl\"><div class=\"rtl\"><span class=\"plain rtl l hlbx\" ><span class=\"nd\">654102</span><span class=\"plain rtl  hl\" ><span class=\"nd\">4819</span><span class=\"txtu hbo\">גַּם־</span></span><span class=\"txtu hbo\">ה֑וּא </span></span><span class=\"plain rtl r hlbx\" ><span class=\"nd\">654102</span><span class=\"txtu hbo\">אֲחִ֖י </span><span class=\"txtu hbo\">יֶ֥פֶת </span><span class=\"txtu hbo\">הַ</span><span class=\"plain rtl  hl\" ><span class=\"nd\">4828</span><span class=\"txtu hbo\">גָּדֹֽול׃ </span></span></span></div></td><td class=\"tf rtl\"><div class=\"rtl\"><span class=\"plain rtl  hlbx\" ><span class=\"nd\">654103</span><span class=\"plain rtl  hl\" ><span class=\"nd\">4821</span><span class=\"txtu hbo\">אֲבִי֙ </span></span><span class=\"txtu hbo\">כָּל־</span><span class=\"txtu hbo\">בְּנֵי־</span><span class=\"plain rtl  hl\" ><span class=\"nd\">4824</span><span class=\"txtu hbo\">עֵ֔בֶר </span></span></span></div></td><td class=\"tf rtl\"><div class=\"rtl\"><span class=\"plain rtl  hl\" ><span class=\"nd\">4819</span><span class=\"txtu hbo\">גַּם־</span></span></div></td><td class=\"tf rtl\"><div class=\"rtl\"><span class=\"plain rtl  hl\" ><span class=\"nd\">4821</span><span class=\"txtu hbo\">אֲבִי֙ </span></span></div></td><td class=\"tf rtl\"><div class=\"rtl\"><span class=\"plain rtl  hl\" ><span class=\"nd\">4824</span><span class=\"txtu hbo\">עֵ֔בֶר </span></span></div></td><td class=\"tf rtl\"><div class=\"rtl\"><span class=\"plain rtl  hl\" ><span class=\"nd\">4828</span><span class=\"txtu hbo\">גָּדֹֽול׃ </span></span></div></td></tr>\n",
       "<tr class=\"tf rtl\"><td class=\"tf rtl\">4</td><td class=\"tf rtl\"><span class=\"section ltr\"><a target=\"_blank\" href=\"https://shebanq.ancient-data.org/hebrew/text?book=Genesis&amp;chapter=12&amp;verse=17&amp;version=2017&amp;mr=m&amp;qw=q&amp;tp=txt_p&amp;tr=hb&amp;wget=v&amp;qget=v&amp;nget=vt\" title=\"Show this on SHEBANQ\" sec=\"Genesis 12:17\">Genesis 12:17</a></span></td><td class=\"tf rtl\"><div class=\"rtl\"><span class=\"plain rtl  \" ><span class=\"nd\">1414505</span></span></div></td><td class=\"tf rtl\"><div class=\"rtl\"><span class=\"plain rtl  hlbx\" ><span class=\"nd\">428569</span><span class=\"txtu hbo\">וַ</span><span class=\"txtu hbo\">יְנַגַּ֨ע </span><span class=\"txtu hbo\">יְהוָ֧ה׀ </span><span class=\"plain rtl l hlbx\" ><span class=\"nd\">654678</span><span class=\"plain rtl  hl\" ><span class=\"nd\">5803</span><span class=\"txtu hbo\">אֶת־</span></span><span class=\"txtu hbo\">פַּרְעֹ֛ה </span></span><span class=\"plain rtl  hlbx\" ><span class=\"nd\">654679</span><span class=\"plain rtl  hl\" ><span class=\"nd\">5805</span><span class=\"txtu hbo\">נְגָעִ֥ים </span></span><span class=\"plain rtl  hl\" ><span class=\"nd\">5806</span><span class=\"txtu hbo\">גְּדֹלִ֖ים </span></span></span><span class=\"plain rtl r hlbx\" ><span class=\"nd\">654678</span><span class=\"txtu hbo\">וְ</span><span class=\"txtu hbo\">אֶת־</span><span class=\"plain rtl  hl\" ><span class=\"nd\">5809</span><span class=\"txtu hbo\">בֵּיתֹ֑ו </span></span></span><span class=\"txtu hbo\">עַל־</span><span class=\"txtu hbo\">דְּבַ֥ר </span><span class=\"txtu hbo\">שָׂרַ֖י </span><span class=\"txtu hbo\">אֵ֥שֶׁת </span><span class=\"txtu hbo\">אַבְרָֽם׃ </span></span></div></td><td class=\"tf rtl\"><div class=\"rtl\"><span class=\"plain rtl l hlbx\" ><span class=\"nd\">654678</span><span class=\"plain rtl  hl\" ><span class=\"nd\">5803</span><span class=\"txtu hbo\">אֶת־</span></span><span class=\"txtu hbo\">פַּרְעֹ֛ה </span></span><span class=\"plain rtl r hlbx\" ><span class=\"nd\">654678</span><span class=\"txtu hbo\">וְ</span><span class=\"txtu hbo\">אֶת־</span><span class=\"plain rtl  hl\" ><span class=\"nd\">5809</span><span class=\"txtu hbo\">בֵּיתֹ֑ו </span></span></span></div></td><td class=\"tf rtl\"><div class=\"rtl\"><span class=\"plain rtl  hlbx\" ><span class=\"nd\">654679</span><span class=\"plain rtl  hl\" ><span class=\"nd\">5805</span><span class=\"txtu hbo\">נְגָעִ֥ים </span></span><span class=\"plain rtl  hl\" ><span class=\"nd\">5806</span><span class=\"txtu hbo\">גְּדֹלִ֖ים </span></span></span></div></td><td class=\"tf rtl\"><div class=\"rtl\"><span class=\"plain rtl  hl\" ><span class=\"nd\">5803</span><span class=\"txtu hbo\">אֶת־</span></span></div></td><td class=\"tf rtl\"><div class=\"rtl\"><span class=\"plain rtl  hl\" ><span class=\"nd\">5805</span><span class=\"txtu hbo\">נְגָעִ֥ים </span></span></div></td><td class=\"tf rtl\"><div class=\"rtl\"><span class=\"plain rtl  hl\" ><span class=\"nd\">5806</span><span class=\"txtu hbo\">גְּדֹלִ֖ים </span></span></div></td><td class=\"tf rtl\"><div class=\"rtl\"><span class=\"plain rtl  hl\" ><span class=\"nd\">5809</span><span class=\"txtu hbo\">בֵּיתֹ֑ו </span></span></div></td></tr>\n",
       "<tr class=\"tf rtl\"><td class=\"tf rtl\">5</td><td class=\"tf rtl\"><span class=\"section ltr\"><a target=\"_blank\" href=\"https://shebanq.ancient-data.org/hebrew/text?book=Genesis&amp;chapter=13&amp;verse=1&amp;version=2017&amp;mr=m&amp;qw=q&amp;tp=txt_p&amp;tr=hb&amp;wget=v&amp;qget=v&amp;nget=vt\" title=\"Show this on SHEBANQ\" sec=\"Genesis 13:1\">Genesis 13:1</a></span></td><td class=\"tf rtl\"><div class=\"rtl\"><span class=\"plain rtl  \" ><span class=\"nd\">1414509</span></span></div></td><td class=\"tf rtl\"><div class=\"rtl\"><span class=\"plain rtl l hlbx\" ><span class=\"nd\">428585</span><span class=\"txtu hbo\">וַ</span><span class=\"txtu hbo\">יַּעַל֩ </span><span class=\"plain rtl l hlbx\" ><span class=\"nd\">654725</span><span class=\"plain rtl  hl\" ><span class=\"nd\">5868</span><span class=\"txtu hbo\">אַבְרָ֨ם </span></span></span><span class=\"plain rtl  hlbx\" ><span class=\"nd\">654726</span><span class=\"plain rtl  hl\" ><span class=\"nd\">5869</span><span class=\"txtu hbo\">מִ</span></span><span class=\"plain rtl  hl\" ><span class=\"nd\">5870</span><span class=\"txtu hbo\">מִּצְרַ֜יִם </span></span></span><span class=\"plain rtl r hlbx\" ><span class=\"nd\">654725</span><span class=\"txtu hbo\">ה֠וּא </span><span class=\"txtu hbo\">וְ</span><span class=\"txtu hbo\">אִשְׁתֹּ֧ו </span><span class=\"txtu hbo\">וְ</span><span class=\"plain rtl  hl\" ><span class=\"nd\">5875</span><span class=\"txtu hbo\">כָל־</span></span></span></span><span class=\"plain rtl r hlbx\" ><span class=\"nd\">428585</span><span class=\"txtu hbo\">הַ</span><span class=\"txtu hbo\">נֶּֽגְבָּה׃ </span></span></div></td><td class=\"tf rtl\"><div class=\"rtl\"><span class=\"plain rtl l hlbx\" ><span class=\"nd\">654725</span><span class=\"plain rtl  hl\" ><span class=\"nd\">5868</span><span class=\"txtu hbo\">אַבְרָ֨ם </span></span></span><span class=\"plain rtl r hlbx\" ><span class=\"nd\">654725</span><span class=\"txtu hbo\">ה֠וּא </span><span class=\"txtu hbo\">וְ</span><span class=\"txtu hbo\">אִשְׁתֹּ֧ו </span><span class=\"txtu hbo\">וְ</span><span class=\"plain rtl  hl\" ><span class=\"nd\">5875</span><span class=\"txtu hbo\">כָל־</span></span></span></div></td><td class=\"tf rtl\"><div class=\"rtl\"><span class=\"plain rtl  hlbx\" ><span class=\"nd\">654726</span><span class=\"plain rtl  hl\" ><span class=\"nd\">5869</span><span class=\"txtu hbo\">מִ</span></span><span class=\"plain rtl  hl\" ><span class=\"nd\">5870</span><span class=\"txtu hbo\">מִּצְרַ֜יִם </span></span></span></div></td><td class=\"tf rtl\"><div class=\"rtl\"><span class=\"plain rtl  hl\" ><span class=\"nd\">5868</span><span class=\"txtu hbo\">אַבְרָ֨ם </span></span></div></td><td class=\"tf rtl\"><div class=\"rtl\"><span class=\"plain rtl  hl\" ><span class=\"nd\">5869</span><span class=\"txtu hbo\">מִ</span></span></div></td><td class=\"tf rtl\"><div class=\"rtl\"><span class=\"plain rtl  hl\" ><span class=\"nd\">5870</span><span class=\"txtu hbo\">מִּצְרַ֜יִם </span></span></div></td><td class=\"tf rtl\"><div class=\"rtl\"><span class=\"plain rtl  hl\" ><span class=\"nd\">5875</span><span class=\"txtu hbo\">כָל־</span></span></div></td></tr></table>"
      ],
      "text/plain": [
       "<IPython.core.display.HTML object>"
      ]
     },
     "metadata": {},
     "output_type": "display_data"
    },
    {
     "data": {
      "text/html": [
       "<p><b>result</b> <i>1</i></p>"
      ],
      "text/plain": [
       "<IPython.core.display.HTML object>"
      ]
     },
     "metadata": {},
     "output_type": "display_data"
    },
    {
     "data": {
      "text/html": [
       "<div class=\"section rtl\"><a target=\"_blank\" href=\"https://shebanq.ancient-data.org/hebrew/text?book=Genesis&amp;chapter=2&amp;verse=25&amp;version=2017&amp;mr=m&amp;qw=q&amp;tp=txt_p&amp;tr=hb&amp;wget=v&amp;qget=v&amp;nget=vt\" title=\"Show this on SHEBANQ\" sec=\"Genesis 2:25\">Genesis 2:25</a></div><div class=\"rtl children\"><div class=\"contnr c3  rtl  \" ><div class=\"lbl c3  \" ><span class=\"nd\">verse</span></div><div class=\"children hor wrap rtl\"><div class=\"contnr c2  rtl  \" ><div class=\"lbl c2  \" ><span class=\"nd\">sentence</span></div><div class=\"children hor wrap rtl\"><div class=\"contnr c2  rtl  hl\" ><div class=\"lbl c2  hl\" ><span class=\"nd\">clause</span></div><div class=\"children hor wrap rtl\"><div class=\"contnr c1  rtl  \" ><div class=\"lbl c1  \" ><span class=\"nd\">phrase</span></div><div class=\"children hor wrap rtl\"><div class=\"contnr c0 trm rtl  \" ><div class=\"lbl c0 trm \" ><a class=\" txtu hbo\" target=\"_blank\" href=\"https://shebanq.ancient-data.org/hebrew/word?version=2017&amp;id=1W\" title=\"Show this on SHEBANQ\"><span class=\"txtu hbo\">וַ</span></a></div></div></div></div><div class=\"contnr c1  rtl  \" ><div class=\"lbl c1  \" ><span class=\"nd\">phrase</span></div><div class=\"children hor wrap rtl\"><div class=\"contnr c0 trm rtl  \" ><div class=\"lbl c0 trm \" ><a class=\" txtu hbo\" target=\"_blank\" href=\"https://shebanq.ancient-data.org/hebrew/word?version=2017&amp;id=1HJHv\" title=\"Show this on SHEBANQ\"><span class=\"txtu hbo\">יִּֽהְי֤וּ </span></a></div></div></div></div><div class=\"contnr c1  rtl l hl\" ><div class=\"lbl c1  hl\" ><span class=\"nd\">phrase</span></div><div class=\"children hor wrap rtl\"><div class=\"contnr c0 trm rtl  hl\" ><div class=\"lbl c0 trm hl\" ><a class=\" txtu hbo\" target=\"_blank\" href=\"https://shebanq.ancient-data.org/hebrew/word?version=2017&amp;id=1CNJMn\" title=\"Show this on SHEBANQ\"><span class=\"txtu hbo\">שְׁנֵיהֶם֙ </span></a></div></div></div></div><div class=\"contnr c1  rtl  hl\" ><div class=\"lbl c1  hl\" ><span class=\"nd\">phrase</span></div><div class=\"children hor wrap rtl\"><div class=\"contnr c0 trm rtl  hl\" ><div class=\"lbl c0 trm hl\" ><a class=\" txtu hbo\" target=\"_blank\" href=\"https://shebanq.ancient-data.org/hebrew/word?version=2017&amp;id=1ORWMn\" title=\"Show this on SHEBANQ\"><span class=\"txtu hbo\">עֲרוּמִּ֔ים </span></a></div></div></div></div><div class=\"contnr c1  rtl r hl\" ><div class=\"lbl c1  hl\" ><span class=\"nd\">phrase</span></div><div class=\"children hor wrap rtl\"><div class=\"contnr c0 trm rtl  \" ><div class=\"lbl c0 trm \" ><a class=\" txtu hbo\" target=\"_blank\" href=\"https://shebanq.ancient-data.org/hebrew/word?version=2017&amp;id=1H\" title=\"Show this on SHEBANQ\"><span class=\"txtu hbo\">הָֽ</span></a></div></div><div class=\"contnr c0 trm rtl  \" ><div class=\"lbl c0 trm \" ><a class=\" txtu hbo\" target=\"_blank\" href=\"https://shebanq.ancient-data.org/hebrew/word?version=2017&amp;id=1ADMn\" title=\"Show this on SHEBANQ\"><span class=\"txtu hbo\">אָדָ֖ם </span></a></div></div><div class=\"contnr c0 trm rtl  \" ><div class=\"lbl c0 trm \" ><a class=\" txtu hbo\" target=\"_blank\" href=\"https://shebanq.ancient-data.org/hebrew/word?version=2017&amp;id=1W\" title=\"Show this on SHEBANQ\"><span class=\"txtu hbo\">וְ</span></a></div></div><div class=\"contnr c0 trm rtl  hl\" ><div class=\"lbl c0 trm hl\" ><a class=\" txtu hbo\" target=\"_blank\" href=\"https://shebanq.ancient-data.org/hebrew/word?version=2017&amp;id=1ACHn\" title=\"Show this on SHEBANQ\"><span class=\"txtu hbo\">אִשְׁתֹּ֑ו </span></a></div></div></div></div></div></div></div></div><div class=\"contnr c2  rtl  \" ><div class=\"lbl c2  \" ><span class=\"nd\">sentence</span></div><div class=\"children hor wrap rtl\"><div class=\"contnr c2  rtl  \" ><div class=\"lbl c2  \" ><span class=\"nd\">clause</span></div><div class=\"children hor wrap rtl\"><div class=\"contnr c1  rtl  \" ><div class=\"lbl c1  \" ><span class=\"nd\">phrase</span></div><div class=\"children hor wrap rtl\"><div class=\"contnr c0 trm rtl  \" ><div class=\"lbl c0 trm \" ><a class=\" txtu hbo\" target=\"_blank\" href=\"https://shebanq.ancient-data.org/hebrew/word?version=2017&amp;id=1W\" title=\"Show this on SHEBANQ\"><span class=\"txtu hbo\">וְ</span></a></div></div></div></div><div class=\"contnr c1  rtl  \" ><div class=\"lbl c1  \" ><span class=\"nd\">phrase</span></div><div class=\"children hor wrap rtl\"><div class=\"contnr c0 trm rtl  \" ><div class=\"lbl c0 trm \" ><a class=\" txtu hbo\" target=\"_blank\" href=\"https://shebanq.ancient-data.org/hebrew/word?version=2017&amp;id=1LA\" title=\"Show this on SHEBANQ\"><span class=\"txtu hbo\">לֹ֖א </span></a></div></div></div></div><div class=\"contnr c1  rtl  \" ><div class=\"lbl c1  \" ><span class=\"nd\">phrase</span></div><div class=\"children hor wrap rtl\"><div class=\"contnr c0 trm rtl  \" ><div class=\"lbl c0 trm \" ><a class=\" txtu hbo\" target=\"_blank\" href=\"https://shebanq.ancient-data.org/hebrew/word?version=2017&amp;id=1BWCv\" title=\"Show this on SHEBANQ\"><span class=\"txtu hbo\">יִתְבֹּשָֽׁשׁוּ׃ </span></a></div></div></div></div></div></div></div></div></div></div></div>"
      ],
      "text/plain": [
       "<IPython.core.display.HTML object>"
      ]
     },
     "metadata": {},
     "output_type": "display_data"
    }
   ],
   "source": [
    "A.table(results, withNodes=True, end=5)\n",
    "A.show(results, start=1, end=1)"
   ]
  },
  {
   "cell_type": "markdown",
   "metadata": {},
   "source": [
    "**NB**\n",
    "Gaps are a tricky phenomenon. In [gaps](searchGaps.ipynb) we will deal with them cruelly."
   ]
  },
  {
   "cell_type": "markdown",
   "metadata": {},
   "source": [
    "# Performance tuning\n",
    "\n",
    "Here is an example by Yanniek van der Schans (2018-09-21)."
   ]
  },
  {
   "cell_type": "code",
   "execution_count": 25,
   "metadata": {},
   "outputs": [],
   "source": [
    "query = \"\"\"\n",
    "c:clause\n",
    "  PreGap:phrase_atom\n",
    "  LastPhrase:phrase_atom\n",
    "  :=\n",
    "\n",
    "Gap:clause_atom\n",
    "  :: word\n",
    "\n",
    "PreGap < Gap\n",
    "Gap < LastPhrase\n",
    "c || Gap\n",
    "\"\"\""
   ]
  },
  {
   "cell_type": "markdown",
   "metadata": {},
   "source": [
    "Here are the current settings of the performance parameters:"
   ]
  },
  {
   "cell_type": "code",
   "execution_count": 26,
   "metadata": {},
   "outputs": [
    {
     "name": "stdout",
     "output_type": "stream",
     "text": [
      "Performance parameters, current values:\n",
      "\ttryLimitFrom         =      40\n",
      "\ttryLimitTo           =      40\n",
      "\tyarnRatio            =    1.25\n"
     ]
    }
   ],
   "source": [
    "S.tweakPerformance()"
   ]
  },
  {
   "cell_type": "code",
   "execution_count": 27,
   "metadata": {},
   "outputs": [
    {
     "name": "stdout",
     "output_type": "stream",
     "text": [
      "  0.00s Checking search template ...\n",
      "  0.00s Setting up search space for 5 objects ...\n",
      "  0.18s Constraining search space with 8 relations ...\n",
      "  0.67s \t2 edges thinned\n",
      "  0.67s Setting up retrieval plan with strategy small_choice_multi ...\n",
      "  0.68s Ready to deliver results from 454123 nodes\n",
      "Iterate over S.fetch() to get the results\n",
      "See S.showPlan() to interpret the results\n",
      "Search with 5 objects and 8 relations\n",
      "Results are instantiations of the following objects:\n",
      "node  0-clause                                         88101   choices\n",
      "node  1-phrase_atom                                   267519   choices\n",
      "node  2-phrase_atom                                    88101   choices\n",
      "node  3-clause_atom                                     5201   choices\n",
      "node  4-word                                            5201   choices\n",
      "Performance parameters:\n",
      "\tyarnRatio            =    1.25\n",
      "\ttryLimitFrom         =      40\n",
      "\ttryLimitTo           =      40\n",
      "Instantiations are computed along the following relations:\n",
      "node                                  3-clause_atom     5201   choices\n",
      "edge        3-clause_atom      ::     4-word               1.0 choices (thinned)\n",
      "edge        4-word             ]]     3-clause_atom        0   choices\n",
      "edge        3-clause_atom      <      2-phrase_atom    44050.5 choices\n",
      "edge        2-phrase_atom      :=     0-clause             1.0 choices (thinned)\n",
      "edge        0-clause           [[     2-phrase_atom        0   choices\n",
      "edge        0-clause           ||     3-clause_atom        0   choices\n",
      "edge        0-clause           [[     1-phrase_atom        3.1 choices\n",
      "edge        1-phrase_atom      <      3-clause_atom        0   choices\n",
      "  0.70s The results are connected to the original search template as follows:\n",
      " 0     \n",
      " 1 R0  c:clause\n",
      " 2 R1    PreGap:phrase_atom\n",
      " 3 R2    LastPhrase:phrase_atom\n",
      " 4       :=\n",
      " 5     \n",
      " 6 R3  Gap:clause_atom\n",
      " 7 R4    :: word\n",
      " 8     \n",
      " 9     PreGap < Gap\n",
      "10     Gap < LastPhrase\n",
      "11     c || Gap\n",
      "12     \n"
     ]
    }
   ],
   "source": [
    "S.study(query)\n",
    "S.showPlan(details=True)"
   ]
  },
  {
   "cell_type": "code",
   "execution_count": 28,
   "metadata": {},
   "outputs": [
    {
     "name": "stdout",
     "output_type": "stream",
     "text": [
      "  0.00s Counting results per 1 up to 2 ...\n",
      "   |     1.57s 1\n",
      "   |     7.11s 2\n",
      "  7.11s Done: 2 results\n"
     ]
    }
   ],
   "source": [
    "S.count(progress=1, limit=2)"
   ]
  },
  {
   "cell_type": "markdown",
   "metadata": {},
   "source": [
    "Can we do better?\n",
    "\n",
    "The performance parameter `yarnRatio` can be used to increase the amount of preprocessing, and we can\n",
    "increase to number of random samples that we make by `tryLimitFrom` and `tryLimitTo`.\n",
    "\n",
    "We start with increasing the amount of up-front edge-spinning."
   ]
  },
  {
   "cell_type": "code",
   "execution_count": 29,
   "metadata": {},
   "outputs": [
    {
     "name": "stdout",
     "output_type": "stream",
     "text": [
      "Performance parameters, current values:\n",
      "\ttryLimitFrom         =   10000\n",
      "\ttryLimitTo           =   10000\n",
      "\tyarnRatio            =     0.2\n"
     ]
    }
   ],
   "source": [
    "S.tweakPerformance(yarnRatio=0.2, tryLimitFrom=10000, tryLimitTo=10000)"
   ]
  },
  {
   "cell_type": "code",
   "execution_count": 30,
   "metadata": {},
   "outputs": [
    {
     "name": "stdout",
     "output_type": "stream",
     "text": [
      "  0.00s Checking search template ...\n",
      "  0.00s Setting up search space for 5 objects ...\n",
      "  0.17s Constraining search space with 8 relations ...\n",
      "  1.08s \t2 edges thinned\n",
      "  1.08s Setting up retrieval plan with strategy small_choice_multi ...\n",
      "  1.35s Ready to deliver results from 454123 nodes\n",
      "Iterate over S.fetch() to get the results\n",
      "See S.showPlan() to interpret the results\n",
      "Search with 5 objects and 8 relations\n",
      "Results are instantiations of the following objects:\n",
      "node  0-clause                                         88101   choices\n",
      "node  1-phrase_atom                                   267519   choices\n",
      "node  2-phrase_atom                                    88101   choices\n",
      "node  3-clause_atom                                     5201   choices\n",
      "node  4-word                                            5201   choices\n",
      "Performance parameters:\n",
      "\tyarnRatio            =     0.2\n",
      "\ttryLimitFrom         =   10000\n",
      "\ttryLimitTo           =   10000\n",
      "Instantiations are computed along the following relations:\n",
      "node                                  3-clause_atom     5201   choices\n",
      "edge        3-clause_atom      ::     4-word               1.0 choices (thinned)\n",
      "edge        4-word             ]]     3-clause_atom        0   choices\n",
      "edge        3-clause_atom      <      2-phrase_atom    44050.5 choices\n",
      "edge        2-phrase_atom      :=     0-clause             1.0 choices (thinned)\n",
      "edge        0-clause           [[     2-phrase_atom        0   choices\n",
      "edge        0-clause           ||     3-clause_atom        0   choices\n",
      "edge        0-clause           [[     1-phrase_atom        3.0 choices\n",
      "edge        1-phrase_atom      <      3-clause_atom        0   choices\n",
      "  1.39s The results are connected to the original search template as follows:\n",
      " 0     \n",
      " 1 R0  c:clause\n",
      " 2 R1    PreGap:phrase_atom\n",
      " 3 R2    LastPhrase:phrase_atom\n",
      " 4       :=\n",
      " 5     \n",
      " 6 R3  Gap:clause_atom\n",
      " 7 R4    :: word\n",
      " 8     \n",
      " 9     PreGap < Gap\n",
      "10     Gap < LastPhrase\n",
      "11     c || Gap\n",
      "12     \n"
     ]
    }
   ],
   "source": [
    "S.study(query)\n",
    "S.showPlan(details=True)"
   ]
  },
  {
   "cell_type": "markdown",
   "metadata": {},
   "source": [
    "It seems to be the same plan."
   ]
  },
  {
   "cell_type": "code",
   "execution_count": 31,
   "metadata": {},
   "outputs": [
    {
     "name": "stdout",
     "output_type": "stream",
     "text": [
      "  0.00s Counting results per 1 up to 2 ...\n",
      "   |     1.57s 1\n",
      "   |     7.32s 2\n",
      "  7.32s Done: 2 results\n"
     ]
    }
   ],
   "source": [
    "S.count(progress=1, limit=2)"
   ]
  },
  {
   "cell_type": "markdown",
   "metadata": {},
   "source": [
    "No improvement."
   ]
  },
  {
   "cell_type": "markdown",
   "metadata": {},
   "source": [
    "What if we decrease the amount of edge spinning?"
   ]
  },
  {
   "cell_type": "code",
   "execution_count": 32,
   "metadata": {},
   "outputs": [
    {
     "name": "stdout",
     "output_type": "stream",
     "text": [
      "Performance parameters, current values:\n",
      "\ttryLimitFrom         =   10000\n",
      "\ttryLimitTo           =   10000\n",
      "\tyarnRatio            =       5\n"
     ]
    }
   ],
   "source": [
    "S.tweakPerformance(yarnRatio=5, tryLimitFrom=10000, tryLimitTo=10000)"
   ]
  },
  {
   "cell_type": "code",
   "execution_count": 33,
   "metadata": {},
   "outputs": [
    {
     "name": "stdout",
     "output_type": "stream",
     "text": [
      "  0.00s Checking search template ...\n",
      "  0.00s Setting up search space for 5 objects ...\n",
      "  0.17s Constraining search space with 8 relations ...\n",
      "  0.74s \t2 edges thinned\n",
      "  0.74s Setting up retrieval plan with strategy small_choice_multi ...\n",
      "  0.98s Ready to deliver results from 454123 nodes\n",
      "Iterate over S.fetch() to get the results\n",
      "See S.showPlan() to interpret the results\n",
      "Search with 5 objects and 8 relations\n",
      "Results are instantiations of the following objects:\n",
      "node  0-clause                                         88101   choices\n",
      "node  1-phrase_atom                                   267519   choices\n",
      "node  2-phrase_atom                                    88101   choices\n",
      "node  3-clause_atom                                     5201   choices\n",
      "node  4-word                                            5201   choices\n",
      "Performance parameters:\n",
      "\tyarnRatio            =       5\n",
      "\ttryLimitFrom         =   10000\n",
      "\ttryLimitTo           =   10000\n",
      "Instantiations are computed along the following relations:\n",
      "node                                  3-clause_atom     5201   choices\n",
      "edge        3-clause_atom      ::     4-word               1.0 choices (thinned)\n",
      "edge        4-word             ]]     3-clause_atom        0   choices\n",
      "edge        3-clause_atom      <      2-phrase_atom    44050.5 choices\n",
      "edge        2-phrase_atom      :=     0-clause             1.0 choices (thinned)\n",
      "edge        0-clause           [[     2-phrase_atom        0   choices\n",
      "edge        0-clause           ||     3-clause_atom        0   choices\n",
      "edge        0-clause           [[     1-phrase_atom        3.0 choices\n",
      "edge        1-phrase_atom      <      3-clause_atom        0   choices\n",
      "  0.99s The results are connected to the original search template as follows:\n",
      " 0     \n",
      " 1 R0  c:clause\n",
      " 2 R1    PreGap:phrase_atom\n",
      " 3 R2    LastPhrase:phrase_atom\n",
      " 4       :=\n",
      " 5     \n",
      " 6 R3  Gap:clause_atom\n",
      " 7 R4    :: word\n",
      " 8     \n",
      " 9     PreGap < Gap\n",
      "10     Gap < LastPhrase\n",
      "11     c || Gap\n",
      "12     \n"
     ]
    }
   ],
   "source": [
    "S.study(query)\n",
    "S.showPlan(details=True)"
   ]
  },
  {
   "cell_type": "code",
   "execution_count": 34,
   "metadata": {},
   "outputs": [
    {
     "name": "stdout",
     "output_type": "stream",
     "text": [
      "  0.00s Counting results per 1 up to 2 ...\n",
      "   |     1.68s 1\n",
      "   |     7.35s 2\n",
      "  7.35s Done: 2 results\n"
     ]
    }
   ],
   "source": [
    "S.count(progress=1, limit=2)"
   ]
  },
  {
   "cell_type": "markdown",
   "metadata": {},
   "source": [
    "Again, no improvement."
   ]
  },
  {
   "cell_type": "markdown",
   "metadata": {},
   "source": [
    "We'll look for queries where the parameters matter more in the future."
   ]
  },
  {
   "cell_type": "markdown",
   "metadata": {},
   "source": [
    "Here is how to reset the performance parameters:"
   ]
  },
  {
   "cell_type": "code",
   "execution_count": 35,
   "metadata": {},
   "outputs": [
    {
     "name": "stdout",
     "output_type": "stream",
     "text": [
      "Performance parameters, current values:\n",
      "\ttryLimitFrom         =      40\n",
      "\ttryLimitTo           =      40\n",
      "\tyarnRatio            =    1.25\n"
     ]
    }
   ],
   "source": [
    "S.tweakPerformance(yarnRatio=None, tryLimitFrom=None, tryLimitTo=None)"
   ]
  },
  {
   "cell_type": "markdown",
   "metadata": {},
   "source": [
    "# Next\n",
    "\n",
    "You have seen cases where the implementation is to blame.\n",
    "\n",
    "Now I want to point to gaps in your understanding:\n",
    "[gaps](searchGaps.ipynb)\n",
    "\n",
    "---\n",
    "\n",
    "[basic](search.ipynb)\n",
    "[advanced](searchAdvanced.ipynb)\n",
    "[sets](searchSets.ipynb)\n",
    "[relations](searchRelations.ipynb)\n",
    "[quantifiers](searchQuantifiers.ipynb)\n",
    "rough\n",
    "[gaps](searchGaps.ipynb)"
   ]
  },
  {
   "cell_type": "markdown",
   "metadata": {},
   "source": [
    "# All steps\n",
    "\n",
    "* **[start](start.ipynb)** your first step in mastering the bible computationally\n",
    "* **[display](display.ipynb)** become an expert in creating pretty displays of your text structures\n",
    "* **[search](search.ipynb)** turbo charge your hand-coding with search templates\n",
    "\n",
    "---\n",
    "\n",
    "[advanced](searchAdvanced.ipynb)\n",
    "[sets](searchSets.ipynb)\n",
    "[relations](searchRelations.ipynb)\n",
    "[quantifiers](searchQuantifiers.ipynb)\n",
    "[fromMQL](searchFromMQL.ipynb)\n",
    "rough\n",
    "\n",
    "You have seen cases where the implementation is to blame.\n",
    "\n",
    "Now I want to point to gaps in your understanding:\n",
    "\n",
    "[gaps](searchGaps.ipynb)\n",
    "\n",
    "---\n",
    "\n",
    "* **[exportExcel](exportExcel.ipynb)** make tailor-made spreadsheets out of your results\n",
    "* **[share](share.ipynb)** draw in other people's data and let them use yours\n",
    "* **[export](export.ipynb)** export your dataset as an Emdros database\n",
    "* **[annotate](annotate.ipynb)** annotate plain text by means of other tools and import the annotations as TF features\n",
    "* **[volumes](volumes.ipynb)** work with selected books only\n",
    "* **[trees](trees.ipynb)** work with the BHSA data as syntax trees\n",
    "\n",
    "CC-BY Dirk Roorda"
   ]
  }
 ],
 "metadata": {
  "kernelspec": {
   "display_name": "Python 3",
   "language": "python",
   "name": "python3"
  },
  "language_info": {
   "codemirror_mode": {
    "name": "ipython",
    "version": 3
   },
   "file_extension": ".py",
   "mimetype": "text/x-python",
   "name": "python",
   "nbconvert_exporter": "python",
   "pygments_lexer": "ipython3",
   "version": "3.9.2"
  },
  "widgets": {
   "application/vnd.jupyter.widget-state+json": {
    "state": {},
    "version_major": 2,
    "version_minor": 0
   }
  }
 },
 "nbformat": 4,
 "nbformat_minor": 4
}
