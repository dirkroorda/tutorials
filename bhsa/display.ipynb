{
 "cells": [
  {
   "cell_type": "markdown",
   "metadata": {},
   "source": [
    "<img align=\"right\" src=\"images/tf-small.png\" width=\"128\"/>\n",
    "<img align=\"right\" src=\"images/etcbc.png\"/>\n",
    "<img align=\"right\" src=\"images/dans-small.png\"/>\n",
    "\n",
    "You might want to consider the [start](search.ipynb) of this tutorial.\n",
    "\n",
    "Short introductions to other TF datasets:\n",
    "\n",
    "* [Dead Sea Scrolls](https://nbviewer.jupyter.org/github/annotation/tutorials/blob/master/lorentz2020/dss.ipynb),\n",
    "* [Old Babylonian Letters](https://nbviewer.jupyter.org/github/annotation/tutorials/blob/master/lorentz2020/oldbabylonian.ipynb),\n",
    "or the\n",
    "* [Q'uran](https://nbviewer.jupyter.org/github/annotation/tutorials/blob/master/lorentz2020/quran.ipynb)\n"
   ]
  },
  {
   "cell_type": "markdown",
   "metadata": {},
   "source": [
    "# Rich display\n",
    "\n",
    "Text-Fabric offers  pretty and plain displays of textual objects.\n",
    "\n",
    "A **plain** display of an object is a simple reference to that object if it is big, or the text of that object if it is small.\n",
    "\n",
    "A **pretty** display of an object is a representation of the structure of that object. It contains text and features of sub objects.\n",
    "Provided the object is not too big."
   ]
  },
  {
   "cell_type": "code",
   "execution_count": 1,
   "metadata": {},
   "outputs": [],
   "source": [
    "%load_ext autoreload\n",
    "%autoreload 2"
   ]
  },
  {
   "cell_type": "markdown",
   "metadata": {},
   "source": [
    "# Incantation\n",
    "\n",
    "The ins and outs of installing Text-Fabric, getting the corpus, and initializing a notebook are\n",
    "explained in the [start tutorial](start.ipynb)."
   ]
  },
  {
   "cell_type": "code",
   "execution_count": 2,
   "metadata": {
    "ExecuteTime": {
     "end_time": "2018-05-24T10:06:39.818664Z",
     "start_time": "2018-05-24T10:06:39.796588Z"
    }
   },
   "outputs": [],
   "source": [
    "from tf.app import use"
   ]
  },
  {
   "cell_type": "code",
   "execution_count": 3,
   "metadata": {
    "ExecuteTime": {
     "end_time": "2018-05-24T10:06:51.615044Z",
     "start_time": "2018-05-24T10:06:50.161456Z"
    }
   },
   "outputs": [
    {
     "data": {
      "text/html": [
       "<b title=\"local github\">TF-app:</b> <span title=\"repo clone offline under ~/github\">~/github/annotation/app-bhsa/code</span>"
      ],
      "text/plain": [
       "<IPython.core.display.HTML object>"
      ]
     },
     "metadata": {},
     "output_type": "display_data"
    },
    {
     "data": {
      "text/html": [
       "<b title=\"local github\">data:</b> <span title=\"repo clone offline under ~/github\">~/github/etcbc/bhsa/tf/c</span>"
      ],
      "text/plain": [
       "<IPython.core.display.HTML object>"
      ]
     },
     "metadata": {},
     "output_type": "display_data"
    },
    {
     "data": {
      "text/html": [
       "<b title=\"local github\">data:</b> <span title=\"repo clone offline under ~/github\">~/github/etcbc/phono/tf/c</span>"
      ],
      "text/plain": [
       "<IPython.core.display.HTML object>"
      ]
     },
     "metadata": {},
     "output_type": "display_data"
    },
    {
     "data": {
      "text/html": [
       "<b title=\"local github\">data:</b> <span title=\"repo clone offline under ~/github\">~/github/etcbc/parallels/tf/c</span>"
      ],
      "text/plain": [
       "<IPython.core.display.HTML object>"
      ]
     },
     "metadata": {},
     "output_type": "display_data"
    },
    {
     "data": {
      "text/html": [
       "<b>Text-Fabric:</b> <a target=\"_blank\" href=\"https://annotation.github.io/text-fabric/tf/cheatsheet.html\" title=\"text-fabric-api\">Text-Fabric API 8.5.13</a>, <a target=\"_blank\" href=\"https://github.com/annotation/app-bhsa\" title=\"bhsa TF-app\">app-bhsa v3</a>, <a target=\"_blank\" href=\"https://annotation.github.io/text-fabric/tf/about/searchusage.html\" title=\"Search Templates Introduction and Reference\">Search Reference</a><br><b>Data:</b> <a target=\"_blank\" href=\"https://etcbc.github.io/bhsa/0_home\" title=\"provenance of BHSA = Biblia Hebraica Stuttgartensia Amstelodamensis\">BHSA</a>, <a target=\"_blank\" href=\"https://annotation.github.io/text-fabric/tf/writing/hebrew.html\" title=\"How TF features represent text\">Character table</a>, <a target=\"_blank\" href=\"https://etcbc.github.io/bhsa/features/0_home\" title=\"BHSA feature documentation\">Feature docs</a><br><b>Features:</b><br><details><summary><b>Parallel Passages</b></summary><b><i><a target=\"_blank\" href=\"https://nbviewer.jupyter.org/github/etcbc/parallels/blob/master/programs/parallels.ipynb\" title=\"~/github/etcbc/parallels/tf/c/crossref.tf\">crossref</a></i></b><br></details><details><summary><b>BHSA = Biblia Hebraica Stuttgartensia Amstelodamensis</b></summary><a target=\"_blank\" href=\"https://etcbc.github.io/bhsa/features/book\" title=\"~/github/etcbc/bhsa/tf/c/book.tf\">book</a><br><a target=\"_blank\" href=\"https://etcbc.github.io/bhsa/features/book@ll\" title=\"~/github/etcbc/bhsa/tf/c/book@am.tf\">book@ll</a><br><a target=\"_blank\" href=\"https://etcbc.github.io/bhsa/features/chapter\" title=\"~/github/etcbc/bhsa/tf/c/chapter.tf\">chapter</a><br><a target=\"_blank\" href=\"https://etcbc.github.io/bhsa/features/code\" title=\"~/github/etcbc/bhsa/tf/c/code.tf\">code</a><br><a target=\"_blank\" href=\"https://etcbc.github.io/bhsa/features/det\" title=\"~/github/etcbc/bhsa/tf/c/det.tf\">det</a><br><a target=\"_blank\" href=\"https://etcbc.github.io/bhsa/features/domain\" title=\"~/github/etcbc/bhsa/tf/c/domain.tf\">domain</a><br><a target=\"_blank\" href=\"https://etcbc.github.io/bhsa/features/freq_lex\" title=\"~/github/etcbc/bhsa/tf/c/freq_lex.tf\">freq_lex</a><br><a target=\"_blank\" href=\"https://etcbc.github.io/bhsa/features/function\" title=\"~/github/etcbc/bhsa/tf/c/function.tf\">function</a><br><a target=\"_blank\" href=\"https://etcbc.github.io/bhsa/features/g_cons\" title=\"~/github/etcbc/bhsa/tf/c/g_cons.tf\">g_cons</a><br><a target=\"_blank\" href=\"https://etcbc.github.io/bhsa/features/g_cons_utf8\" title=\"~/github/etcbc/bhsa/tf/c/g_cons_utf8.tf\">g_cons_utf8</a><br><a target=\"_blank\" href=\"https://etcbc.github.io/bhsa/features/g_lex\" title=\"~/github/etcbc/bhsa/tf/c/g_lex.tf\">g_lex</a><br><a target=\"_blank\" href=\"https://etcbc.github.io/bhsa/features/g_lex_utf8\" title=\"~/github/etcbc/bhsa/tf/c/g_lex_utf8.tf\">g_lex_utf8</a><br><a target=\"_blank\" href=\"https://etcbc.github.io/bhsa/features/g_word\" title=\"~/github/etcbc/bhsa/tf/c/g_word.tf\">g_word</a><br><a target=\"_blank\" href=\"https://etcbc.github.io/bhsa/features/g_word_utf8\" title=\"~/github/etcbc/bhsa/tf/c/g_word_utf8.tf\">g_word_utf8</a><br><a target=\"_blank\" href=\"https://etcbc.github.io/bhsa/features/gloss\" title=\"~/github/etcbc/bhsa/tf/c/gloss.tf\">gloss</a><br><a target=\"_blank\" href=\"https://etcbc.github.io/bhsa/features/gn\" title=\"~/github/etcbc/bhsa/tf/c/gn.tf\">gn</a><br><a target=\"_blank\" href=\"https://etcbc.github.io/bhsa/features/label\" title=\"~/github/etcbc/bhsa/tf/c/label.tf\">label</a><br><a target=\"_blank\" href=\"https://etcbc.github.io/bhsa/features/language\" title=\"~/github/etcbc/bhsa/tf/c/language.tf\">language</a><br><a target=\"_blank\" href=\"https://etcbc.github.io/bhsa/features/lex\" title=\"~/github/etcbc/bhsa/tf/c/lex.tf\">lex</a><br><a target=\"_blank\" href=\"https://etcbc.github.io/bhsa/features/lex_utf8\" title=\"~/github/etcbc/bhsa/tf/c/lex_utf8.tf\">lex_utf8</a><br><a target=\"_blank\" href=\"https://etcbc.github.io/bhsa/features/ls\" title=\"~/github/etcbc/bhsa/tf/c/ls.tf\">ls</a><br><a target=\"_blank\" href=\"https://etcbc.github.io/bhsa/features/nametype\" title=\"~/github/etcbc/bhsa/tf/c/nametype.tf\">nametype</a><br><a target=\"_blank\" href=\"https://etcbc.github.io/bhsa/features/nme\" title=\"~/github/etcbc/bhsa/tf/c/nme.tf\">nme</a><br><a target=\"_blank\" href=\"https://etcbc.github.io/bhsa/features/nu\" title=\"~/github/etcbc/bhsa/tf/c/nu.tf\">nu</a><br><a target=\"_blank\" href=\"https://etcbc.github.io/bhsa/features/number\" title=\"~/github/etcbc/bhsa/tf/c/number.tf\">number</a><br><a target=\"_blank\" href=\"https://etcbc.github.io/bhsa/features/otype\" title=\"~/github/etcbc/bhsa/tf/c/otype.tf\">otype</a><br><a target=\"_blank\" href=\"https://etcbc.github.io/bhsa/features/pargr\" title=\"~/github/etcbc/bhsa/tf/c/pargr.tf\">pargr</a><br><a target=\"_blank\" href=\"https://etcbc.github.io/bhsa/features/pdp\" title=\"~/github/etcbc/bhsa/tf/c/pdp.tf\">pdp</a><br><a target=\"_blank\" href=\"https://etcbc.github.io/bhsa/features/pfm\" title=\"~/github/etcbc/bhsa/tf/c/pfm.tf\">pfm</a><br><a target=\"_blank\" href=\"https://etcbc.github.io/bhsa/features/prs\" title=\"~/github/etcbc/bhsa/tf/c/prs.tf\">prs</a><br><a target=\"_blank\" href=\"https://etcbc.github.io/bhsa/features/prs_gn\" title=\"~/github/etcbc/bhsa/tf/c/prs_gn.tf\">prs_gn</a><br><a target=\"_blank\" href=\"https://etcbc.github.io/bhsa/features/prs_nu\" title=\"~/github/etcbc/bhsa/tf/c/prs_nu.tf\">prs_nu</a><br><a target=\"_blank\" href=\"https://etcbc.github.io/bhsa/features/prs_ps\" title=\"~/github/etcbc/bhsa/tf/c/prs_ps.tf\">prs_ps</a><br><a target=\"_blank\" href=\"https://etcbc.github.io/bhsa/features/ps\" title=\"~/github/etcbc/bhsa/tf/c/ps.tf\">ps</a><br><a target=\"_blank\" href=\"https://etcbc.github.io/bhsa/features/qere\" title=\"~/github/etcbc/bhsa/tf/c/qere.tf\">qere</a><br><a target=\"_blank\" href=\"https://etcbc.github.io/bhsa/features/qere_trailer\" title=\"~/github/etcbc/bhsa/tf/c/qere_trailer.tf\">qere_trailer</a><br><a target=\"_blank\" href=\"https://etcbc.github.io/bhsa/features/qere_trailer_utf8\" title=\"~/github/etcbc/bhsa/tf/c/qere_trailer_utf8.tf\">qere_trailer_utf8</a><br><a target=\"_blank\" href=\"https://etcbc.github.io/bhsa/features/qere_utf8\" title=\"~/github/etcbc/bhsa/tf/c/qere_utf8.tf\">qere_utf8</a><br><a target=\"_blank\" href=\"https://etcbc.github.io/bhsa/features/rank_lex\" title=\"~/github/etcbc/bhsa/tf/c/rank_lex.tf\">rank_lex</a><br><a target=\"_blank\" href=\"https://etcbc.github.io/bhsa/features/rela\" title=\"~/github/etcbc/bhsa/tf/c/rela.tf\">rela</a><br><a target=\"_blank\" href=\"https://etcbc.github.io/bhsa/features/sp\" title=\"~/github/etcbc/bhsa/tf/c/sp.tf\">sp</a><br><a target=\"_blank\" href=\"https://etcbc.github.io/bhsa/features/st\" title=\"~/github/etcbc/bhsa/tf/c/st.tf\">st</a><br><a target=\"_blank\" href=\"https://etcbc.github.io/bhsa/features/tab\" title=\"~/github/etcbc/bhsa/tf/c/tab.tf\">tab</a><br><a target=\"_blank\" href=\"https://etcbc.github.io/bhsa/features/trailer\" title=\"~/github/etcbc/bhsa/tf/c/trailer.tf\">trailer</a><br><a target=\"_blank\" href=\"https://etcbc.github.io/bhsa/features/trailer_utf8\" title=\"~/github/etcbc/bhsa/tf/c/trailer_utf8.tf\">trailer_utf8</a><br><a target=\"_blank\" href=\"https://etcbc.github.io/bhsa/features/txt\" title=\"~/github/etcbc/bhsa/tf/c/txt.tf\">txt</a><br><a target=\"_blank\" href=\"https://etcbc.github.io/bhsa/features/typ\" title=\"~/github/etcbc/bhsa/tf/c/typ.tf\">typ</a><br><a target=\"_blank\" href=\"https://etcbc.github.io/bhsa/features/uvf\" title=\"~/github/etcbc/bhsa/tf/c/uvf.tf\">uvf</a><br><a target=\"_blank\" href=\"https://etcbc.github.io/bhsa/features/vbe\" title=\"~/github/etcbc/bhsa/tf/c/vbe.tf\">vbe</a><br><a target=\"_blank\" href=\"https://etcbc.github.io/bhsa/features/vbs\" title=\"~/github/etcbc/bhsa/tf/c/vbs.tf\">vbs</a><br><a target=\"_blank\" href=\"https://etcbc.github.io/bhsa/features/verse\" title=\"~/github/etcbc/bhsa/tf/c/verse.tf\">verse</a><br><a target=\"_blank\" href=\"https://etcbc.github.io/bhsa/features/voc_lex\" title=\"~/github/etcbc/bhsa/tf/c/voc_lex.tf\">voc_lex</a><br><a target=\"_blank\" href=\"https://etcbc.github.io/bhsa/features/voc_lex_utf8\" title=\"~/github/etcbc/bhsa/tf/c/voc_lex_utf8.tf\">voc_lex_utf8</a><br><a target=\"_blank\" href=\"https://etcbc.github.io/bhsa/features/vs\" title=\"~/github/etcbc/bhsa/tf/c/vs.tf\">vs</a><br><a target=\"_blank\" href=\"https://etcbc.github.io/bhsa/features/vt\" title=\"~/github/etcbc/bhsa/tf/c/vt.tf\">vt</a><br><b><i><a target=\"_blank\" href=\"https://etcbc.github.io/bhsa/features/mother\" title=\"~/github/etcbc/bhsa/tf/c/mother.tf\">mother</a></i></b><br><b><i><a target=\"_blank\" href=\"https://etcbc.github.io/bhsa/features/oslots\" title=\"~/github/etcbc/bhsa/tf/c/oslots.tf\">oslots</a></i></b><br></details><details><summary><b>Phonetic Transcriptions</b></summary><a target=\"_blank\" href=\"https://nbviewer.jupyter.org/github/etcbc/phono/blob/master/programs/phono.ipynb\" title=\"~/github/etcbc/phono/tf/c/phono.tf\">phono</a><br><a target=\"_blank\" href=\"https://nbviewer.jupyter.org/github/etcbc/phono/blob/master/programs/phono.ipynb\" title=\"~/github/etcbc/phono/tf/c/phono_trailer.tf\">phono_trailer</a><br></details>"
      ],
      "text/plain": [
       "<IPython.core.display.HTML object>"
      ]
     },
     "metadata": {},
     "output_type": "display_data"
    },
    {
     "data": {
      "text/html": [
       "<style>tr.tf.ltr, td.tf.ltr, th.tf.ltr { text-align: left ! important;}\n",
       "tr.tf.rtl, td.tf.rtl, th.tf.rtl { text-align: right ! important;}\n",
       "@font-face {\n",
       "  font-family: \"Gentium Plus\";\n",
       "  src: local('Gentium Plus'), local('GentiumPlus'),\n",
       "    url('/server/static/fonts/GentiumPlus-R.woff') format('woff'),\n",
       "    url('https://github.com/annotation/text-fabric/blob/master/tf/server/static/fonts/GentiumPlus-R.woff?raw=true') format('woff');\n",
       "}\n",
       "\n",
       "@font-face {\n",
       "  font-family: \"Ezra SIL\";\n",
       "  src: local('Ezra SIL'), local('EzraSIL'),\n",
       "    url('/server/static/fonts/SILEOT.woff') format('woff'),\n",
       "    url('https://github.com/annotation/text-fabric/blob/master/tf/server/static/fonts/SILEOT.woff?raw=true') format('woff');\n",
       "}\n",
       "\n",
       "@font-face {\n",
       "  font-family: \"SBL Hebrew\";\n",
       "  src: local('SBL Hebrew'), local('SBLHebrew'),\n",
       "    url('/server/static/fonts/SBL_Hbrw.woff') format('woff'),\n",
       "    url('https://github.com/annotation/text-fabric/blob/master/tf/server/static/fonts/SBL_Hbrw.woff?raw=true') format('woff');\n",
       "}\n",
       "\n",
       "@font-face {\n",
       "  font-family: \"Estrangelo Edessa\";\n",
       "  src: local('Estrangelo Edessa'), local('EstrangeloEdessa');\n",
       "    url('/server/static/fonts/SyrCOMEdessa.woff') format('woff'),\n",
       "    url('https://github.com/annotation/text-fabric/blob/master/tf/server/static/fonts/SyrCOMEdessa.woff?raw=true') format('woff');\n",
       "}\n",
       "\n",
       "@font-face {\n",
       "  font-family: AmiriQuran;\n",
       "  font-style: normal;\n",
       "  font-weight: 400;\n",
       "  src: local('Amiri Quran'), local('AmiriQuran'),\n",
       "    url('/server/static/fonts/AmiriQuran.woff') format('woff'),\n",
       "    url('https://github.com/annotation/text-fabric/blob/master/tf/server/static/fonts/AmiriQuran.woff?raw=true') format('woff');\n",
       "}\n",
       "\n",
       "@font-face {\n",
       "  font-family: AmiriQuranColored;\n",
       "  font-style: normal;\n",
       "  font-weight: 400;\n",
       "  src: local('Amiri Quran Colored'), local('AmiriQuranColored'),\n",
       "    url('/server/static/fonts/AmiriQuranColored.woff') format('woff'),\n",
       "    url('https://github.com/annotation/text-fabric/blob/master/tf/server/static/fonts/AmiriQuranColored.woff?raw=true') format('woff');\n",
       "}\n",
       "\n",
       "@font-face {\n",
       "  font-family: \"Santakku\";\n",
       "  src: local('Santakku'),\n",
       "    url('/server/static/fonts/Santakku.woff') format('woff'),\n",
       "    url('https://github.com/annotation/text-fabric/blob/master/tf/server/static/fonts/Santakku.woff?raw=true') format('woff');\n",
       "}\n",
       "\n",
       "@font-face {\n",
       "  font-family: \"SantakkuM\";\n",
       "  src: local('SantakkuM'),\n",
       "    url('/server/static/fonts/SantakkuM.woff') format('woff'),\n",
       "    url('https://github.com/annotation/text-fabric/blob/master/tf/server/static/fonts/SantakkuM.woff?raw=true') format('woff');\n",
       "}\n",
       "/* bypassing some classical notebook settings */\n",
       "div#notebook {\n",
       "  line-height: unset;\n",
       "}\n",
       "/* neutral text */\n",
       ".txtn,.txtn a:visited,.txtn a:link {\n",
       "    font-family: sans-serif;\n",
       "    font-size: medium;\n",
       "    direction: ltr;\n",
       "    unicode-bidi: embed;\n",
       "    text-decoration: none;\n",
       "    color: var(--text-color);\n",
       "}\n",
       "/* transcription text */\n",
       ".txtt,.txtt a:visited,.txtt a:link {\n",
       "    font-family: monospace;\n",
       "    font-size: medium;\n",
       "    direction: ltr;\n",
       "    unicode-bidi: embed;\n",
       "    text-decoration: none;\n",
       "    color: var(--text-color);\n",
       "}\n",
       "/* source text */\n",
       ".txto,.txto a:visited,.txto a:link {\n",
       "    font-family: serif;\n",
       "    font-size: medium;\n",
       "    direction: ltr;\n",
       "    unicode-bidi: embed;\n",
       "    text-decoration: none;\n",
       "    color: var(--text-color);\n",
       "}\n",
       "/* phonetic text */\n",
       ".txtp,.txtp a:visited,.txtp a:link {\n",
       "    font-family: Gentium, sans-serif;\n",
       "    font-size: medium;\n",
       "    direction: ltr;\n",
       "    unicode-bidi: embed;\n",
       "    text-decoration: none;\n",
       "    color: var(--text-color);\n",
       "}\n",
       "/* original script text */\n",
       ".txtu,.txtu a:visited,.txtu a:link {\n",
       "    font-family: Gentium, sans-serif;\n",
       "    font-size: medium;\n",
       "    text-decoration: none;\n",
       "    color: var(--text-color);\n",
       "}\n",
       "/* hebrew */\n",
       ".txtu.hbo,.lex.hbo {\n",
       "    font-family: \"Ezra SIL\", \"SBL Hebrew\", sans-serif;\n",
       "    font-size: large;\n",
       "    direction: rtl ! important;\n",
       "    unicode-bidi: embed;\n",
       "}\n",
       "/* syriac */\n",
       ".txtu.syc,.lex.syc {\n",
       "    font-family: \"Estrangelo Edessa\", sans-serif;\n",
       "    font-size: medium;\n",
       "    direction: rtl ! important;\n",
       "    unicode-bidi: embed;\n",
       "}\n",
       "/* neo aramaic */\n",
       ".txtu.cld,.lex.cld {\n",
       "    font-family: \"CharisSIL-R\", sans-serif;\n",
       "    font-size: medium;\n",
       "    direction: ltr ! important;\n",
       "    unicode-bidi: embed;\n",
       "}\n",
       "/* standard arabic */\n",
       ".txtu.ara,.lex.ara {\n",
       "    font-family: \"AmiriQuran\", sans-serif;\n",
       "    font-size: large;\n",
       "    direction: rtl ! important;\n",
       "    unicode-bidi: embed;\n",
       "}\n",
       "/* cuneiform */\n",
       ".txtu.akk,.lex.akk {\n",
       "    font-family: Santakku, sans-serif;\n",
       "    font-size: large;\n",
       "    direction: ltr ! important;\n",
       "    unicode-bidi: embed;\n",
       "}\n",
       "/* greek */\n",
       ".txtu.grc,.lex.grc a:link {\n",
       "    font-family: Gentium, sans-serif;\n",
       "    font-size: medium;\n",
       "    direction: ltr ! important;\n",
       "    unicode-bidi: embed;\n",
       "}\n",
       "a:hover {\n",
       "    text-decoration: underline | important;\n",
       "    color: #0000ff | important;\n",
       "}\n",
       ".ltr {\n",
       "    direction: ltr ! important;\n",
       "    unicode-bidi: embed;\n",
       "}\n",
       ".rtl {\n",
       "    direction: rtl ! important;\n",
       "    unicode-bidi: embed;\n",
       "}\n",
       ".ubd {\n",
       "    unicode-bidi: embed;\n",
       "}\n",
       ".col {\n",
       "   display: inline-block;\n",
       "}\n",
       ".features {\n",
       "    font-family: monospace;\n",
       "    font-size: medium;\n",
       "    font-weight: bold;\n",
       "    color: var(--features);\n",
       "    display: flex;\n",
       "    flex-flow: column nowrap;\n",
       "    justify-content: flex-start;\n",
       "    align-items: flex-start;\n",
       "    align-content: flex-start;\n",
       "    padding: 2px;\n",
       "    margin: 2px;\n",
       "    direction: ltr;\n",
       "    unicode-bidi: embed;\n",
       "    border: var(--meta-width) solid var(--meta-color);\n",
       "    border-radius: var(--meta-width);\n",
       "}\n",
       ".features div,.features span {\n",
       "    padding: 0;\n",
       "    margin: -2px 0;\n",
       "}\n",
       ".features .f {\n",
       "    font-family: sans-serif;\n",
       "    font-size: small;\n",
       "    font-weight: normal;\n",
       "    color: #5555bb;\n",
       "}\n",
       ".features .xft {\n",
       "  color: #000000;\n",
       "  background-color: #eeeeee;\n",
       "  font-size: medium;\n",
       "  margin: 2px 0px;\n",
       "}\n",
       ".features .xft .f {\n",
       "  color: #000000;\n",
       "  background-color: #eeeeee;\n",
       "  font-size: small;\n",
       "  font-weight: normal;\n",
       "}\n",
       ".tfsechead {\n",
       "    font-family: sans-serif;\n",
       "    font-size: small;\n",
       "    font-weight: bold;\n",
       "    color: var(--tfsechead);\n",
       "    unicode-bidi: embed;\n",
       "    text-align: start;\n",
       "}\n",
       ".structure {\n",
       "    font-family: sans-serif;\n",
       "    font-size: small;\n",
       "    font-weight: bold;\n",
       "    color: var(--structure);\n",
       "    unicode-bidi: embed;\n",
       "    text-align: start;\n",
       "}\n",
       ".comments {\n",
       "    display: flex;\n",
       "    justify-content: flex-start;\n",
       "    align-items: flex-start;\n",
       "    align-content: flex-start;\n",
       "    flex-flow: column nowrap;\n",
       "}\n",
       ".nd, a:link.nd {\n",
       "    font-family: sans-serif;\n",
       "    font-size: small;\n",
       "    color: var(--node);\n",
       "    vertical-align: super;\n",
       "    direction: ltr ! important;\n",
       "    unicode-bidi: embed;\n",
       "}\n",
       ".lex {\n",
       "  color: var(--lex-color);;\n",
       "}\n",
       ".children,.children.ltr {\n",
       "    display: flex;\n",
       "    border: 0;\n",
       "    background-color: #ffffff;\n",
       "    justify-content: flex-start;\n",
       "    align-items: flex-start;\n",
       "    align-content: flex-start;\n",
       "}\n",
       ".children.stretch {\n",
       "    align-items: stretch;\n",
       "}\n",
       ".children.hor {\n",
       "    flex-flow: row nowrap;\n",
       "}\n",
       ".children.hor.wrap {\n",
       "    flex-flow: row wrap;\n",
       "}\n",
       ".children.ver {\n",
       "    flex-flow: column nowrap;\n",
       "}\n",
       ".children.ver.wrap {\n",
       "    flex-flow: column wrap;\n",
       "}\n",
       ".contnr {\n",
       "    width: fit-content;\n",
       "    display: flex;\n",
       "    justify-content: flex-start;\n",
       "    align-items: flex-start;\n",
       "    align-content: flex-start;\n",
       "    flex-flow: column nowrap;\n",
       "    background: #ffffff none repeat scroll 0 0;\n",
       "    padding:  10px 2px 2px 2px;\n",
       "    margin: 16px 2px 2px 2px;\n",
       "    border-style: solid;\n",
       "    font-size: small;\n",
       "}\n",
       ".contnr.trm {\n",
       "    background-attachment: local;\n",
       "}\n",
       ".contnr.cnul {\n",
       "    padding:  0;\n",
       "    margin: 0;\n",
       "    border-style: solid;\n",
       "    font-size: xx-small;\n",
       "}\n",
       ".contnr.cnul,.lbl.cnul {\n",
       "    border-color: var(--border-color-nul);\n",
       "    border-width: var(--border-width-nul);\n",
       "    border-radius: var(--border-width-nul);\n",
       "}\n",
       ".contnr.c0,.lbl.c0 {\n",
       "    border-color: var(--border-color0);\n",
       "    border-width: var(--border-width0);\n",
       "    border-radius: var(--border-width0);\n",
       "}\n",
       ".contnr.c1,.lbl.c1 {\n",
       "    border-color: var(--border-color1);\n",
       "    border-width: var(--border-width1);\n",
       "    border-radius: var(--border-width1);\n",
       "}\n",
       ".contnr.c2,.lbl.c2 {\n",
       "    border-color: var(--border-color2);\n",
       "    border-width: var(--border-width2);\n",
       "    border-radius: var(--border-width2);\n",
       "}\n",
       ".contnr.c3,.lbl.c3 {\n",
       "    border-color: var(--border-color3);\n",
       "    border-width: var(--border-width3);\n",
       "    border-radius: var(--border-width3);\n",
       "}\n",
       ".contnr.c4,.lbl.c4 {\n",
       "    border-color: var(--border-color4);\n",
       "    border-width: var(--border-width4);\n",
       "    border-radius: var(--border-width4);\n",
       "}\n",
       "span.plain {\n",
       "    display: inline-block;\n",
       "    white-space: pre-wrap;\n",
       "}\n",
       ".plain {\n",
       "    background-color: #ffffff;\n",
       "}\n",
       ".plain.l,.contnr.l,.contnr.l>.lbl {\n",
       "    border-left-style: dotted\n",
       "}\n",
       ".plain.r,.contnr.r,.contnr.r>.lbl {\n",
       "    border-right-style: dotted\n",
       "}\n",
       ".plain.lno,.contnr.lno,.contnr.lno>.lbl {\n",
       "    border-left-style: none\n",
       "}\n",
       ".plain.rno,.contnr.rno,.contnr.rno>.lbl {\n",
       "    border-right-style: none\n",
       "}\n",
       ".plain.l {\n",
       "    padding-left: 4px;\n",
       "    margin-left: 2px;\n",
       "    border-width: var(--border-width-plain);\n",
       "}\n",
       ".plain.r {\n",
       "    padding-right: 4px;\n",
       "    margin-right: 2px;\n",
       "    border-width: var(--border-width-plain);\n",
       "}\n",
       ".lbl {\n",
       "    font-family: monospace;\n",
       "    margin-top: -24px;\n",
       "    margin-left: 20px;\n",
       "    background: #ffffff none repeat scroll 0 0;\n",
       "    padding: 0 6px;\n",
       "    border-style: solid;\n",
       "    display: block;\n",
       "    color: var(--label)\n",
       "}\n",
       ".lbl.trm {\n",
       "    background-attachment: local;\n",
       "    margin-top: 2px;\n",
       "    margin-left: 2px;\n",
       "    padding: 2px 2px;\n",
       "    border-style: none;\n",
       "}\n",
       ".lbl.cnul {\n",
       "    font-size: xx-small;\n",
       "}\n",
       ".lbl.c0 {\n",
       "    font-size: small;\n",
       "}\n",
       ".lbl.c1 {\n",
       "    font-size: small;\n",
       "}\n",
       ".lbl.c2 {\n",
       "    font-size: medium;\n",
       "}\n",
       ".lbl.c3 {\n",
       "    font-size: medium;\n",
       "}\n",
       ".lbl.c4 {\n",
       "    font-size: large;\n",
       "}\n",
       ".occs, a:link.occs {\n",
       "    font-size: small;\n",
       "}\n",
       "\n",
       "/* PROVENANCE */\n",
       "\n",
       "div.prov {\n",
       "\tmargin: 40px;\n",
       "\tpadding: 20px;\n",
       "\tborder: 2px solid var(--fog-rim);\n",
       "}\n",
       "div.pline {\n",
       "\tdisplay: flex;\n",
       "\tflex-flow: row nowrap;\n",
       "\tjustify-content: stretch;\n",
       "\talign-items: baseline;\n",
       "}\n",
       "div.p2line {\n",
       "\tmargin-left: 2em;\n",
       "\tdisplay: flex;\n",
       "\tflex-flow: row nowrap;\n",
       "\tjustify-content: stretch;\n",
       "\talign-items: baseline;\n",
       "}\n",
       "div.psline {\n",
       "\tdisplay: flex;\n",
       "\tflex-flow: row nowrap;\n",
       "\tjustify-content: stretch;\n",
       "\talign-items: baseline;\n",
       "\tbackground-color: var(--gold-mist-back);\n",
       "}\n",
       "div.pname {\n",
       "\tflex: 0 0 5rem;\n",
       "\tfont-weight: bold;\n",
       "}\n",
       "div.pval {\n",
       "    flex: 1 1 auto;\n",
       "}\n",
       "\n",
       ":root {\n",
       "\t--node:               hsla(120, 100%,  20%, 1.0  );\n",
       "\t--label:              hsla(  0, 100%,  20%, 1.0  );\n",
       "\t--tfsechead:          hsla(  0, 100%,  25%, 1.0  );\n",
       "\t--structure:          hsla(120, 100%,  25%, 1.0  );\n",
       "\t--features:           hsla(  0,   0%,  30%, 1.0  );\n",
       "  --text-color:         hsla( 60,  80%,  10%, 1.0  );\n",
       "  --lex-color:          hsla(220,  90%,  60%, 1.0  );\n",
       "  --meta-color:         hsla(  0,   0%,  90%, 0.7  );\n",
       "  --meta-width:         3px;\n",
       "  --border-color-nul:   hsla(  0,   0%,  90%, 0.5  );\n",
       "  --border-color0:      hsla(  0,   0%,  90%, 0.9  );\n",
       "  --border-color1:      hsla(  0,   0%,  80%, 0.9  );\n",
       "  --border-color2:      hsla(  0,   0%,  70%, 0.9  );\n",
       "  --border-color3:      hsla(  0,   0%,  80%, 0.8  );\n",
       "  --border-color4:      hsla(  0,   0%,  60%, 0.9  );\n",
       "  --border-width-nul:   2px;\n",
       "  --border-width0:      2px;\n",
       "  --border-width1:      3px;\n",
       "  --border-width2:      4px;\n",
       "  --border-width3:      6px;\n",
       "  --border-width4:      5px;\n",
       "  --border-width-plain: 2px;\n",
       "}\n",
       ".hl {\n",
       "  background-color: var(--hl-strong);\n",
       "}\n",
       "span.hl {\n",
       "\tbackground-color: var(--hl-strong);\n",
       "\tborder-width: 0;\n",
       "\tborder-radius: 2px;\n",
       "\tborder-style: solid;\n",
       "}\n",
       "div.contnr.hl,div.lbl.hl {\n",
       "  background-color: var(--hl-strong);\n",
       "}\n",
       "div.contnr.hl {\n",
       "  border-color: var(--hl-rim) ! important;\n",
       "\tborder-width: 4px ! important;\n",
       "}\n",
       "\n",
       "span.hlbx {\n",
       "\tborder-color: var(--hl-rim);\n",
       "\tborder-width: 4px ! important;\n",
       "\tborder-style: solid;\n",
       "\tborder-radius: 6px;\n",
       "  padding: 4px;\n",
       "  margin: 4px;\n",
       "}\n",
       "\n",
       "span.plain {\n",
       "  display: inline-block;\n",
       "  white-space: pre-wrap;\n",
       "}\n",
       "\n",
       ":root {\n",
       "\t--hl-strong:        hsla( 60, 100%,  70%, 0.9  );\n",
       "\t--hl-rim:           hsla( 55,  80%,  50%, 1.0  );\n",
       "}\n",
       "</style>"
      ],
      "text/plain": [
       "<IPython.core.display.HTML object>"
      ]
     },
     "metadata": {},
     "output_type": "display_data"
    },
    {
     "data": {
      "text/html": [
       "<div><b>Text-Fabric API:</b> names <a target=\"_blank\" href=\"https://annotation.github.io/text-fabric/tf/cheatsheet.html\" title=\"doc\">N F E L T S C TF</a> directly usable</div><hr>"
      ],
      "text/plain": [
       "<IPython.core.display.HTML object>"
      ]
     },
     "metadata": {},
     "output_type": "display_data"
    }
   ],
   "source": [
    "# A = use('bhsa', hoist=globals())\n",
    "A = use(\"bhsa:clone\", checkout=\"clone\", hoist=globals())"
   ]
  },
  {
   "cell_type": "markdown",
   "metadata": {},
   "source": [
    "# Arbitrary nodes\n",
    "We pretty-print some (arbitrary) nodes.\n",
    "\n",
    "The first verse."
   ]
  },
  {
   "cell_type": "code",
   "execution_count": 4,
   "metadata": {},
   "outputs": [
    {
     "data": {
      "text/plain": [
       "1414354"
      ]
     },
     "execution_count": 4,
     "metadata": {},
     "output_type": "execute_result"
    }
   ],
   "source": [
    "v1 = A.nodeFromSectionStr(\"Genesis 1:1\")\n",
    "v1"
   ]
  },
  {
   "cell_type": "code",
   "execution_count": 5,
   "metadata": {},
   "outputs": [
    {
     "data": {
      "text/html": [
       "<div class=\"tfsechead rtl\"><a target=\"_blank\" href=\"https://shebanq.ancient-data.org/hebrew/text?book=Genesis&amp;chapter=1&amp;verse=1&amp;version=c&amp;mr=m&amp;qw=q&amp;tp=txt_p&amp;tr=hb&amp;wget=v&amp;qget=v&amp;nget=vt\" title=\"Show this on SHEBANQ\" sec=\"Genesis 1:1\">Genesis 1:1</a></div><div class=\"rtl children\"><div class=\"contnr c3  rtl  \" ><div class=\"lbl c3  \" ><span class=\"nd\">verse</span></div><div class=\"children hor wrap rtl\"><div class=\"contnr c2  rtl  \" ><div class=\"lbl c2  \" ><span class=\"nd\">sentence</span></div><div class=\"children hor wrap rtl\"><div class=\"contnr c2  rtl  \" ><div class=\"lbl c2  \" ><span class=\"nd\">clause</span></div><div class=\"children hor wrap rtl\"><div class=\"contnr c1  rtl  \" ><div class=\"lbl c1  \" ><span class=\"nd\">phrase</span></div><div class=\"children hor wrap rtl\"><div class=\"contnr c0 trm rtl  \" ><div class=\"lbl c0 trm \" ><a class=\" txtu hbo\" target=\"_blank\" href=\"https://shebanq.ancient-data.org/hebrew/word?version=c&amp;id=1B\" title=\"Show this on SHEBANQ\"><span class=\"txtu hbo\">בְּ</span></a></div></div><div class=\"contnr c0 trm rtl  \" ><div class=\"lbl c0 trm \" ><a class=\" txtu hbo\" target=\"_blank\" href=\"https://shebanq.ancient-data.org/hebrew/word?version=c&amp;id=1RACJTn\" title=\"Show this on SHEBANQ\"><span class=\"txtu hbo\">רֵאשִׁ֖ית </span></a></div></div></div></div><div class=\"contnr c1  rtl  \" ><div class=\"lbl c1  \" ><span class=\"nd\">phrase</span></div><div class=\"children hor wrap rtl\"><div class=\"contnr c0 trm rtl  \" ><div class=\"lbl c0 trm \" ><a class=\" txtu hbo\" target=\"_blank\" href=\"https://shebanq.ancient-data.org/hebrew/word?version=c&amp;id=1BRAv\" title=\"Show this on SHEBANQ\"><span class=\"txtu hbo\">בָּרָ֣א </span></a></div></div></div></div><div class=\"contnr c1  rtl  \" ><div class=\"lbl c1  \" ><span class=\"nd\">phrase</span></div><div class=\"children hor wrap rtl\"><div class=\"contnr c0 trm rtl  \" ><div class=\"lbl c0 trm \" ><a class=\" txtu hbo\" target=\"_blank\" href=\"https://shebanq.ancient-data.org/hebrew/word?version=c&amp;id=1ALHJMn\" title=\"Show this on SHEBANQ\"><span class=\"txtu hbo\">אֱלֹהִ֑ים </span></a></div></div></div></div><div class=\"contnr c1  rtl  \" ><div class=\"lbl c1  \" ><span class=\"nd\">phrase</span></div><div class=\"children hor wrap rtl\"><div class=\"contnr c0 trm rtl  \" ><div class=\"lbl c0 trm \" ><a class=\" txtu hbo\" target=\"_blank\" href=\"https://shebanq.ancient-data.org/hebrew/word?version=c&amp;id=1AT\" title=\"Show this on SHEBANQ\"><span class=\"txtu hbo\">אֵ֥ת </span></a></div></div><div class=\"contnr c0 trm rtl  \" ><div class=\"lbl c0 trm \" ><a class=\" txtu hbo\" target=\"_blank\" href=\"https://shebanq.ancient-data.org/hebrew/word?version=c&amp;id=1H\" title=\"Show this on SHEBANQ\"><span class=\"txtu hbo\">הַ</span></a></div></div><div class=\"contnr c0 trm rtl  \" ><div class=\"lbl c0 trm \" ><a class=\" txtu hbo\" target=\"_blank\" href=\"https://shebanq.ancient-data.org/hebrew/word?version=c&amp;id=1CMJMn\" title=\"Show this on SHEBANQ\"><span class=\"txtu hbo\">שָּׁמַ֖יִם </span></a></div></div><div class=\"contnr c0 trm rtl  \" ><div class=\"lbl c0 trm \" ><a class=\" txtu hbo\" target=\"_blank\" href=\"https://shebanq.ancient-data.org/hebrew/word?version=c&amp;id=1W\" title=\"Show this on SHEBANQ\"><span class=\"txtu hbo\">וְ</span></a></div></div><div class=\"contnr c0 trm rtl  \" ><div class=\"lbl c0 trm \" ><a class=\" txtu hbo\" target=\"_blank\" href=\"https://shebanq.ancient-data.org/hebrew/word?version=c&amp;id=1AT\" title=\"Show this on SHEBANQ\"><span class=\"txtu hbo\">אֵ֥ת </span></a></div></div><div class=\"contnr c0 trm rtl  \" ><div class=\"lbl c0 trm \" ><a class=\" txtu hbo\" target=\"_blank\" href=\"https://shebanq.ancient-data.org/hebrew/word?version=c&amp;id=1H\" title=\"Show this on SHEBANQ\"><span class=\"txtu hbo\">הָ</span></a></div></div><div class=\"contnr c0 trm rtl  \" ><div class=\"lbl c0 trm \" ><a class=\" txtu hbo\" target=\"_blank\" href=\"https://shebanq.ancient-data.org/hebrew/word?version=c&amp;id=1ARYn\" title=\"Show this on SHEBANQ\"><span class=\"txtu hbo\">אָֽרֶץ׃ </span></a></div></div></div></div></div></div></div></div></div></div></div>"
      ],
      "text/plain": [
       "<IPython.core.display.HTML object>"
      ]
     },
     "metadata": {},
     "output_type": "display_data"
    }
   ],
   "source": [
    "A.pretty(v1)"
   ]
  },
  {
   "cell_type": "markdown",
   "metadata": {},
   "source": [
    "With standard features displayed:"
   ]
  },
  {
   "cell_type": "code",
   "execution_count": 6,
   "metadata": {},
   "outputs": [
    {
     "data": {
      "text/html": [
       "<div class=\"tfsechead rtl\"><a target=\"_blank\" href=\"https://shebanq.ancient-data.org/hebrew/text?book=Genesis&amp;chapter=1&amp;verse=1&amp;version=c&amp;mr=m&amp;qw=q&amp;tp=txt_p&amp;tr=hb&amp;wget=v&amp;qget=v&amp;nget=vt\" title=\"Show this on SHEBANQ\" sec=\"Genesis 1:1\">Genesis 1:1</a></div><div class=\"rtl children\"><div class=\"contnr c3  rtl  \" ><div class=\"lbl c3  \" ><span class=\"nd\">verse</span></div><div class=\"children hor wrap rtl\"><div class=\"contnr c2  rtl  \" ><div class=\"lbl c2  \" ><span class=\"nd\">sentence</span> <span class=\"\"><span title=\"number\">1</span></span></div><div class=\"children hor wrap rtl\"><div class=\"contnr c2  rtl  \" ><div class=\"lbl c2  \" ><span class=\"nd\">clause</span> <span class=\"\"><span title=\"typ\">xQtX</span> <span title=\"rela\">NA</span></span></div><div class=\"children hor wrap rtl\"><div class=\"contnr c1  rtl  \" ><div class=\"lbl c1  \" ><span class=\"nd\">phrase</span> <span class=\"\"><span title=\"typ\">PP</span> <span title=\"function\">Time</span></span></div><div class=\"children hor wrap rtl\"><div class=\"contnr c0 trm rtl  \" ><div class=\"lbl c0 trm \" ><a class=\" txtu hbo\" target=\"_blank\" href=\"https://shebanq.ancient-data.org/hebrew/word?version=c&amp;id=1B\" title=\"Show this on SHEBANQ\"><span class=\"txtu hbo\">בְּ</span></a></div><div class='features'><span class=\"gloss \" title=\"gloss\">in</span><span class=\"pdp \" ><span class=\"f\">pdp=</span>prep</span></div></div><div class=\"contnr c0 trm rtl  \" ><div class=\"lbl c0 trm \" ><a class=\" txtu hbo\" target=\"_blank\" href=\"https://shebanq.ancient-data.org/hebrew/word?version=c&amp;id=1RACJTn\" title=\"Show this on SHEBANQ\"><span class=\"txtu hbo\">רֵאשִׁ֖ית </span></a></div><div class='features'><span class=\"gloss \" title=\"gloss\">beginning</span><span class=\"pdp \" ><span class=\"f\">pdp=</span>subs</span></div></div></div></div><div class=\"contnr c1  rtl  \" ><div class=\"lbl c1  \" ><span class=\"nd\">phrase</span> <span class=\"\"><span title=\"typ\">VP</span> <span title=\"function\">Pred</span></span></div><div class=\"children hor wrap rtl\"><div class=\"contnr c0 trm rtl  \" ><div class=\"lbl c0 trm \" ><a class=\" txtu hbo\" target=\"_blank\" href=\"https://shebanq.ancient-data.org/hebrew/word?version=c&amp;id=1BRAv\" title=\"Show this on SHEBANQ\"><span class=\"txtu hbo\">בָּרָ֣א </span></a></div><div class='features'><span class=\"gloss \" title=\"gloss\">create</span><span class=\"pdp \" ><span class=\"f\">pdp=</span>verb</span><span class=\"vs \" ><span class=\"f\">vs=</span>qal</span><span class=\"vt \" ><span class=\"f\">vt=</span>perf</span></div></div></div></div><div class=\"contnr c1  rtl  \" ><div class=\"lbl c1  \" ><span class=\"nd\">phrase</span> <span class=\"\"><span title=\"typ\">NP</span> <span title=\"function\">Subj</span></span></div><div class=\"children hor wrap rtl\"><div class=\"contnr c0 trm rtl  \" ><div class=\"lbl c0 trm \" ><a class=\" txtu hbo\" target=\"_blank\" href=\"https://shebanq.ancient-data.org/hebrew/word?version=c&amp;id=1ALHJMn\" title=\"Show this on SHEBANQ\"><span class=\"txtu hbo\">אֱלֹהִ֑ים </span></a></div><div class='features'><span class=\"gloss \" title=\"gloss\">god(s)</span><span class=\"pdp \" ><span class=\"f\">pdp=</span>subs</span></div></div></div></div><div class=\"contnr c1  rtl  \" ><div class=\"lbl c1  \" ><span class=\"nd\">phrase</span> <span class=\"\"><span title=\"typ\">PP</span> <span title=\"function\">Objc</span></span></div><div class=\"children hor wrap rtl\"><div class=\"contnr c0 trm rtl  \" ><div class=\"lbl c0 trm \" ><a class=\" txtu hbo\" target=\"_blank\" href=\"https://shebanq.ancient-data.org/hebrew/word?version=c&amp;id=1AT\" title=\"Show this on SHEBANQ\"><span class=\"txtu hbo\">אֵ֥ת </span></a></div><div class='features'><span class=\"gloss \" title=\"gloss\">&lt;object marker></span><span class=\"pdp \" ><span class=\"f\">pdp=</span>prep</span></div></div><div class=\"contnr c0 trm rtl  \" ><div class=\"lbl c0 trm \" ><a class=\" txtu hbo\" target=\"_blank\" href=\"https://shebanq.ancient-data.org/hebrew/word?version=c&amp;id=1H\" title=\"Show this on SHEBANQ\"><span class=\"txtu hbo\">הַ</span></a></div><div class='features'><span class=\"gloss \" title=\"gloss\">the</span><span class=\"pdp \" ><span class=\"f\">pdp=</span>art</span></div></div><div class=\"contnr c0 trm rtl  \" ><div class=\"lbl c0 trm \" ><a class=\" txtu hbo\" target=\"_blank\" href=\"https://shebanq.ancient-data.org/hebrew/word?version=c&amp;id=1CMJMn\" title=\"Show this on SHEBANQ\"><span class=\"txtu hbo\">שָּׁמַ֖יִם </span></a></div><div class='features'><span class=\"gloss \" title=\"gloss\">heavens</span><span class=\"pdp \" ><span class=\"f\">pdp=</span>subs</span></div></div><div class=\"contnr c0 trm rtl  \" ><div class=\"lbl c0 trm \" ><a class=\" txtu hbo\" target=\"_blank\" href=\"https://shebanq.ancient-data.org/hebrew/word?version=c&amp;id=1W\" title=\"Show this on SHEBANQ\"><span class=\"txtu hbo\">וְ</span></a></div><div class='features'><span class=\"gloss \" title=\"gloss\">and</span><span class=\"pdp \" ><span class=\"f\">pdp=</span>conj</span></div></div><div class=\"contnr c0 trm rtl  \" ><div class=\"lbl c0 trm \" ><a class=\" txtu hbo\" target=\"_blank\" href=\"https://shebanq.ancient-data.org/hebrew/word?version=c&amp;id=1AT\" title=\"Show this on SHEBANQ\"><span class=\"txtu hbo\">אֵ֥ת </span></a></div><div class='features'><span class=\"gloss \" title=\"gloss\">&lt;object marker></span><span class=\"pdp \" ><span class=\"f\">pdp=</span>prep</span></div></div><div class=\"contnr c0 trm rtl  \" ><div class=\"lbl c0 trm \" ><a class=\" txtu hbo\" target=\"_blank\" href=\"https://shebanq.ancient-data.org/hebrew/word?version=c&amp;id=1H\" title=\"Show this on SHEBANQ\"><span class=\"txtu hbo\">הָ</span></a></div><div class='features'><span class=\"gloss \" title=\"gloss\">the</span><span class=\"pdp \" ><span class=\"f\">pdp=</span>art</span></div></div><div class=\"contnr c0 trm rtl  \" ><div class=\"lbl c0 trm \" ><a class=\" txtu hbo\" target=\"_blank\" href=\"https://shebanq.ancient-data.org/hebrew/word?version=c&amp;id=1ARYn\" title=\"Show this on SHEBANQ\"><span class=\"txtu hbo\">אָֽרֶץ׃ </span></a></div><div class='features'><span class=\"gloss \" title=\"gloss\">earth</span><span class=\"pdp \" ><span class=\"f\">pdp=</span>subs</span></div></div></div></div></div></div></div></div></div></div></div>"
      ],
      "text/plain": [
       "<IPython.core.display.HTML object>"
      ]
     },
     "metadata": {},
     "output_type": "display_data"
    }
   ],
   "source": [
    "A.pretty(v1, standardFeatures=True)"
   ]
  },
  {
   "cell_type": "markdown",
   "metadata": {},
   "source": [
    "Now a phrase. We display it with little and with much information."
   ]
  },
  {
   "cell_type": "code",
   "execution_count": 7,
   "metadata": {
    "ExecuteTime": {
     "end_time": "2018-04-25T13:57:33.060576Z",
     "start_time": "2018-04-25T13:57:33.051457Z"
    }
   },
   "outputs": [
    {
     "data": {
      "text/html": [
       "<div class=\"tfsechead rtl\"><a target=\"_blank\" href=\"https://shebanq.ancient-data.org/hebrew/text?book=Genesis&amp;chapter=1&amp;verse=4&amp;version=c&amp;mr=m&amp;qw=q&amp;tp=txt_p&amp;tr=hb&amp;wget=v&amp;qget=v&amp;nget=vt\" title=\"Show this on SHEBANQ\" sec=\"Genesis 1:4\">Genesis 1:4</a></div><div class=\"rtl children\"><div class=\"contnr c1  rtl  \" ><div class=\"children hor wrap rtl\"><div class=\"contnr c0 trm rtl  \" ><div class=\"lbl c0 trm \" ><a class=\" txtu hbo\" target=\"_blank\" href=\"https://shebanq.ancient-data.org/hebrew/word?version=c&amp;id=1BJNn\" title=\"Show this on SHEBANQ\"><span class=\"txtu hbo\">בֵּ֥ין </span></a></div></div><div class=\"contnr c0 trm rtl  \" ><div class=\"lbl c0 trm \" ><a class=\" txtu hbo\" target=\"_blank\" href=\"https://shebanq.ancient-data.org/hebrew/word?version=c&amp;id=1H\" title=\"Show this on SHEBANQ\"><span class=\"txtu hbo\">הָ</span></a></div></div><div class=\"contnr c0 trm rtl  \" ><div class=\"lbl c0 trm \" ><a class=\" txtu hbo\" target=\"_blank\" href=\"https://shebanq.ancient-data.org/hebrew/word?version=c&amp;id=1AWRn\" title=\"Show this on SHEBANQ\"><span class=\"txtu hbo\">אֹ֖ור </span></a></div></div><div class=\"contnr c0 trm rtl  \" ><div class=\"lbl c0 trm \" ><a class=\" txtu hbo\" target=\"_blank\" href=\"https://shebanq.ancient-data.org/hebrew/word?version=c&amp;id=1W\" title=\"Show this on SHEBANQ\"><span class=\"txtu hbo\">וּ</span></a></div></div><div class=\"contnr c0 trm rtl  \" ><div class=\"lbl c0 trm \" ><a class=\" txtu hbo\" target=\"_blank\" href=\"https://shebanq.ancient-data.org/hebrew/word?version=c&amp;id=1BJNn\" title=\"Show this on SHEBANQ\"><span class=\"txtu hbo\">בֵ֥ין </span></a></div></div><div class=\"contnr c0 trm rtl  \" ><div class=\"lbl c0 trm \" ><a class=\" txtu hbo\" target=\"_blank\" href=\"https://shebanq.ancient-data.org/hebrew/word?version=c&amp;id=1H\" title=\"Show this on SHEBANQ\"><span class=\"txtu hbo\">הַ</span></a></div></div><div class=\"contnr c0 trm rtl  \" ><div class=\"lbl c0 trm \" ><a class=\" txtu hbo\" target=\"_blank\" href=\"https://shebanq.ancient-data.org/hebrew/word?version=c&amp;id=1XCKn\" title=\"Show this on SHEBANQ\"><span class=\"txtu hbo\">חֹֽשֶׁךְ׃ </span></a></div></div></div></div></div>"
      ],
      "text/plain": [
       "<IPython.core.display.HTML object>"
      ]
     },
     "metadata": {},
     "output_type": "display_data"
    },
    {
     "data": {
      "text/html": [
       "<div class=\"tfsechead rtl\"><a target=\"_blank\" href=\"https://shebanq.ancient-data.org/hebrew/text?book=Genesis&amp;chapter=1&amp;verse=4&amp;version=c&amp;mr=m&amp;qw=q&amp;tp=txt_p&amp;tr=hb&amp;wget=v&amp;qget=v&amp;nget=vt\" title=\"Show this on SHEBANQ\" sec=\"Genesis 1:4\">Genesis 1:4</a></div><div class=\"rtl children\"><div class=\"contnr c1  rtl  \" ><div class=\"lbl c1  \" ><span class=\"nd\">phrase:651574</span> <span class=\"\"><span title=\"typ\">PP</span> <span title=\"function\">Cmpl</span></span></div><div class=\"children hor wrap rtl\"><div class=\"contnr c1  rtl  \" ><div class=\"lbl c1  \" ><span class=\"nd\">phrase_atom:904781</span> <span class=\"\"><span title=\"typ\">PP</span> <span title=\"rela\">NA</span></span></div><div class=\"children hor wrap rtl\"><div class=\"contnr c1  rtl  \" ><div class=\"lbl c1  \" ><span class=\"nd\">subphrase:1300552</span> <span class=\"\"><span title=\"number\"></span></span></div><div class=\"children hor wrap rtl\"><div class=\"contnr c0 trm rtl  \" ><div class=\"lbl c0 trm \" ><span class=\"nd\">51</span> <a class=\" txtu hbo\" target=\"_blank\" href=\"https://shebanq.ancient-data.org/hebrew/word?version=c&amp;id=1BJNn\" title=\"Show this on SHEBANQ\"><span class=\"txtu hbo\">בֵּ֥ין </span></a></div><div class='features'><span class=\"gloss \" title=\"gloss\">interval</span><span class=\"pdp \" ><span class=\"f\">pdp=</span>prep</span></div></div><div class=\"contnr c0 trm rtl  \" ><div class=\"lbl c0 trm \" ><span class=\"nd\">52</span> <a class=\" txtu hbo\" target=\"_blank\" href=\"https://shebanq.ancient-data.org/hebrew/word?version=c&amp;id=1H\" title=\"Show this on SHEBANQ\"><span class=\"txtu hbo\">הָ</span></a></div><div class='features'><span class=\"gloss \" title=\"gloss\">the</span><span class=\"pdp \" ><span class=\"f\">pdp=</span>art</span></div></div><div class=\"contnr c0 trm rtl  \" ><div class=\"lbl c0 trm \" ><span class=\"nd\">53</span> <a class=\" txtu hbo\" target=\"_blank\" href=\"https://shebanq.ancient-data.org/hebrew/word?version=c&amp;id=1AWRn\" title=\"Show this on SHEBANQ\"><span class=\"txtu hbo\">אֹ֖ור </span></a></div><div class='features'><span class=\"gloss \" title=\"gloss\">light</span><span class=\"pdp \" ><span class=\"f\">pdp=</span>subs</span></div></div></div></div><div class=\"contnr c0 trm rtl  \" ><div class=\"lbl c0 trm \" ><span class=\"nd\">54</span> <a class=\" txtu hbo\" target=\"_blank\" href=\"https://shebanq.ancient-data.org/hebrew/word?version=c&amp;id=1W\" title=\"Show this on SHEBANQ\"><span class=\"txtu hbo\">וּ</span></a></div><div class='features'><span class=\"gloss \" title=\"gloss\">and</span><span class=\"pdp \" ><span class=\"f\">pdp=</span>conj</span></div></div><div class=\"contnr c1  rtl  \" ><div class=\"lbl c1  \" ><span class=\"nd\">subphrase:1300553</span> <span class=\"\"><span title=\"number\"></span></span></div><div class=\"children hor wrap rtl\"><div class=\"contnr c0 trm rtl  \" ><div class=\"lbl c0 trm \" ><span class=\"nd\">55</span> <a class=\" txtu hbo\" target=\"_blank\" href=\"https://shebanq.ancient-data.org/hebrew/word?version=c&amp;id=1BJNn\" title=\"Show this on SHEBANQ\"><span class=\"txtu hbo\">בֵ֥ין </span></a></div><div class='features'><span class=\"gloss \" title=\"gloss\">interval</span><span class=\"pdp \" ><span class=\"f\">pdp=</span>prep</span></div></div><div class=\"contnr c0 trm rtl  \" ><div class=\"lbl c0 trm \" ><span class=\"nd\">56</span> <a class=\" txtu hbo\" target=\"_blank\" href=\"https://shebanq.ancient-data.org/hebrew/word?version=c&amp;id=1H\" title=\"Show this on SHEBANQ\"><span class=\"txtu hbo\">הַ</span></a></div><div class='features'><span class=\"gloss \" title=\"gloss\">the</span><span class=\"pdp \" ><span class=\"f\">pdp=</span>art</span></div></div><div class=\"contnr c0 trm rtl  \" ><div class=\"lbl c0 trm \" ><span class=\"nd\">57</span> <a class=\" txtu hbo\" target=\"_blank\" href=\"https://shebanq.ancient-data.org/hebrew/word?version=c&amp;id=1XCKn\" title=\"Show this on SHEBANQ\"><span class=\"txtu hbo\">חֹֽשֶׁךְ׃ </span></a></div><div class='features'><span class=\"gloss \" title=\"gloss\">darkness</span><span class=\"pdp \" ><span class=\"f\">pdp=</span>subs</span></div></div></div></div></div></div></div></div></div>"
      ],
      "text/plain": [
       "<IPython.core.display.HTML object>"
      ]
     },
     "metadata": {},
     "output_type": "display_data"
    }
   ],
   "source": [
    "phrase = 651574\n",
    "A.pretty(phrase, withNodes=False, prettyTypes=False)\n",
    "A.pretty(phrase, withNodes=True, standardFeatures=True, hideTypes=False)"
   ]
  },
  {
   "cell_type": "markdown",
   "metadata": {},
   "source": [
    "If we want to see the subphrases but not the phrase atoms:"
   ]
  },
  {
   "cell_type": "code",
   "execution_count": 8,
   "metadata": {},
   "outputs": [
    {
     "data": {
      "text/html": [
       "<div class=\"tfsechead rtl\"><a target=\"_blank\" href=\"https://shebanq.ancient-data.org/hebrew/text?book=Genesis&amp;chapter=1&amp;verse=4&amp;version=c&amp;mr=m&amp;qw=q&amp;tp=txt_p&amp;tr=hb&amp;wget=v&amp;qget=v&amp;nget=vt\" title=\"Show this on SHEBANQ\" sec=\"Genesis 1:4\">Genesis 1:4</a></div><div class=\"rtl children\"><div class=\"contnr c1  rtl  \" ><div class=\"lbl c1  \" ><span class=\"nd\">phrase:651574</span> <span class=\"\"><span title=\"typ\">PP</span> <span title=\"function\">Cmpl</span></span></div><div class=\"children hor wrap rtl\"><div class=\"contnr c1  rtl  \" ><div class=\"lbl c1  \" ><span class=\"nd\">subphrase:1300552</span> <span class=\"\"><span title=\"number\"></span></span></div><div class=\"children hor wrap rtl\"><div class=\"contnr c0 trm rtl  \" ><div class=\"lbl c0 trm \" ><span class=\"nd\">51</span> <a class=\" txtu hbo\" target=\"_blank\" href=\"https://shebanq.ancient-data.org/hebrew/word?version=c&amp;id=1BJNn\" title=\"Show this on SHEBANQ\"><span class=\"txtu hbo\">בֵּ֥ין </span></a></div><div class='features'><span class=\"gloss \" title=\"gloss\">interval</span><span class=\"pdp \" ><span class=\"f\">pdp=</span>prep</span></div></div><div class=\"contnr c0 trm rtl  \" ><div class=\"lbl c0 trm \" ><span class=\"nd\">52</span> <a class=\" txtu hbo\" target=\"_blank\" href=\"https://shebanq.ancient-data.org/hebrew/word?version=c&amp;id=1H\" title=\"Show this on SHEBANQ\"><span class=\"txtu hbo\">הָ</span></a></div><div class='features'><span class=\"gloss \" title=\"gloss\">the</span><span class=\"pdp \" ><span class=\"f\">pdp=</span>art</span></div></div><div class=\"contnr c0 trm rtl  \" ><div class=\"lbl c0 trm \" ><span class=\"nd\">53</span> <a class=\" txtu hbo\" target=\"_blank\" href=\"https://shebanq.ancient-data.org/hebrew/word?version=c&amp;id=1AWRn\" title=\"Show this on SHEBANQ\"><span class=\"txtu hbo\">אֹ֖ור </span></a></div><div class='features'><span class=\"gloss \" title=\"gloss\">light</span><span class=\"pdp \" ><span class=\"f\">pdp=</span>subs</span></div></div></div></div><div class=\"contnr c0 trm rtl  \" ><div class=\"lbl c0 trm \" ><span class=\"nd\">54</span> <a class=\" txtu hbo\" target=\"_blank\" href=\"https://shebanq.ancient-data.org/hebrew/word?version=c&amp;id=1W\" title=\"Show this on SHEBANQ\"><span class=\"txtu hbo\">וּ</span></a></div><div class='features'><span class=\"gloss \" title=\"gloss\">and</span><span class=\"pdp \" ><span class=\"f\">pdp=</span>conj</span></div></div><div class=\"contnr c1  rtl  \" ><div class=\"lbl c1  \" ><span class=\"nd\">subphrase:1300553</span> <span class=\"\"><span title=\"number\"></span></span></div><div class=\"children hor wrap rtl\"><div class=\"contnr c0 trm rtl  \" ><div class=\"lbl c0 trm \" ><span class=\"nd\">55</span> <a class=\" txtu hbo\" target=\"_blank\" href=\"https://shebanq.ancient-data.org/hebrew/word?version=c&amp;id=1BJNn\" title=\"Show this on SHEBANQ\"><span class=\"txtu hbo\">בֵ֥ין </span></a></div><div class='features'><span class=\"gloss \" title=\"gloss\">interval</span><span class=\"pdp \" ><span class=\"f\">pdp=</span>prep</span></div></div><div class=\"contnr c0 trm rtl  \" ><div class=\"lbl c0 trm \" ><span class=\"nd\">56</span> <a class=\" txtu hbo\" target=\"_blank\" href=\"https://shebanq.ancient-data.org/hebrew/word?version=c&amp;id=1H\" title=\"Show this on SHEBANQ\"><span class=\"txtu hbo\">הַ</span></a></div><div class='features'><span class=\"gloss \" title=\"gloss\">the</span><span class=\"pdp \" ><span class=\"f\">pdp=</span>art</span></div></div><div class=\"contnr c0 trm rtl  \" ><div class=\"lbl c0 trm \" ><span class=\"nd\">57</span> <a class=\" txtu hbo\" target=\"_blank\" href=\"https://shebanq.ancient-data.org/hebrew/word?version=c&amp;id=1XCKn\" title=\"Show this on SHEBANQ\"><span class=\"txtu hbo\">חֹֽשֶׁךְ׃ </span></a></div><div class='features'><span class=\"gloss \" title=\"gloss\">darkness</span><span class=\"pdp \" ><span class=\"f\">pdp=</span>subs</span></div></div></div></div></div></div></div>"
      ],
      "text/plain": [
       "<IPython.core.display.HTML object>"
      ]
     },
     "metadata": {},
     "output_type": "display_data"
    }
   ],
   "source": [
    "A.pretty(phrase, withNodes=True, standardFeatures=True, hiddenTypes=\"phrase_atom\")"
   ]
  },
  {
   "cell_type": "markdown",
   "metadata": {},
   "source": [
    "Use the following to find out which display options are available and what their current values are."
   ]
  },
  {
   "cell_type": "code",
   "execution_count": 9,
   "metadata": {},
   "outputs": [
    {
     "data": {
      "text/markdown": [
       "<details ><summary><b>current display options</b></summary>\n",
       "\n",
       "<details ><summary>1. baseTypes</summary>\n",
       "\n",
       "\n",
       "1.  `word`\n",
       "\n",
       "</details>\n",
       "<details ><summary>2. colorMap</summary>\n",
       "\n",
       "None\n",
       "\n",
       "</details>\n",
       "<details ><summary>3. condenseType</summary>\n",
       "\n",
       "`verse`\n",
       "\n",
       "</details>\n",
       "<details ><summary>4. condensed</summary>\n",
       "\n",
       "False\n",
       "\n",
       "</details>\n",
       "<details ><summary>5. end</summary>\n",
       "\n",
       "None\n",
       "\n",
       "</details>\n",
       "<details ><summary>6. extraFeatures</summary>\n",
       "\n",
       "\n",
       "1.  ()\n",
       "2.  {}\n",
       "\n",
       "</details>\n",
       "<details ><summary>7. fmt</summary>\n",
       "\n",
       "None\n",
       "\n",
       "</details>\n",
       "<details ><summary>8. full</summary>\n",
       "\n",
       "False\n",
       "\n",
       "</details>\n",
       "<details ><summary>9. hiddenTypes</summary>\n",
       "\n",
       "\n",
       "1.  `clause_atom`\n",
       "2.  `half_verse`\n",
       "3.  `phrase_atom`\n",
       "4.  `sentence_atom`\n",
       "5.  `subphrase`\n",
       "\n",
       "</details>\n",
       "<details ><summary>10. hideTypes</summary>\n",
       "\n",
       "`True`\n",
       "\n",
       "</details>\n",
       "<details ><summary>11. highlights</summary>\n",
       "\n",
       "{}\n",
       "\n",
       "</details>\n",
       "<details ><summary>12. lineNumbers</summary>\n",
       "\n",
       "None\n",
       "\n",
       "</details>\n",
       "<details ><summary>13. noneValues</summary>\n",
       "\n",
       "\n",
       "1.  `none`\n",
       "2.  `unknown`\n",
       "3.  None\n",
       "4.  `NA`\n",
       "\n",
       "</details>\n",
       "<details ><summary>14. plainGaps</summary>\n",
       "\n",
       "`True`\n",
       "\n",
       "</details>\n",
       "<details ><summary>15. prettyTypes</summary>\n",
       "\n",
       "`True`\n",
       "\n",
       "</details>\n",
       "<details ><summary>16. queryFeatures</summary>\n",
       "\n",
       "`True`\n",
       "\n",
       "</details>\n",
       "<details ><summary>17. showGraphics</summary>\n",
       "\n",
       "None\n",
       "\n",
       "</details>\n",
       "<details ><summary>18. skipCols</summary>\n",
       "\n",
       "set()\n",
       "\n",
       "</details>\n",
       "<details ><summary>19. standardFeatures</summary>\n",
       "\n",
       "False\n",
       "\n",
       "</details>\n",
       "<details ><summary>20. start</summary>\n",
       "\n",
       "None\n",
       "\n",
       "</details>\n",
       "<details ><summary>21. suppress</summary>\n",
       "\n",
       "set()\n",
       "\n",
       "</details>\n",
       "<details ><summary>22. tupleFeatures</summary>\n",
       "\n",
       "()\n",
       "\n",
       "</details>\n",
       "<details ><summary>23. withNodes</summary>\n",
       "\n",
       "False\n",
       "\n",
       "</details>\n",
       "<details ><summary>24. withPassage</summary>\n",
       "\n",
       "`True`\n",
       "\n",
       "</details>\n",
       "<details ><summary>25. withTypes</summary>\n",
       "\n",
       "False\n",
       "\n",
       "</details>\n",
       "</details>\n"
      ],
      "text/plain": [
       "<IPython.core.display.Markdown object>"
      ]
     },
     "metadata": {},
     "output_type": "display_data"
    }
   ],
   "source": [
    "A.displayShow()"
   ]
  },
  {
   "cell_type": "markdown",
   "metadata": {},
   "source": [
    "Where is this phrase on SHEBANQ?\n",
    "You can click on the passage reference.\n",
    "\n",
    "You can generate a link that points to where a node is on SHEBANQ as follows:"
   ]
  },
  {
   "cell_type": "code",
   "execution_count": 10,
   "metadata": {
    "ExecuteTime": {
     "end_time": "2018-04-25T13:57:36.441490Z",
     "start_time": "2018-04-25T13:57:36.432236Z"
    }
   },
   "outputs": [
    {
     "data": {
      "text/html": [
       "<a target=\"_blank\" href=\"https://shebanq.ancient-data.org/hebrew/text?book=Genesis&amp;chapter=1&amp;verse=4&amp;version=c&amp;mr=m&amp;qw=q&amp;tp=txt_p&amp;tr=hb&amp;wget=v&amp;qget=v&amp;nget=vt\" title=\"Show this on SHEBANQ\" sec=\"Genesis 1:4\">Genesis 1:4</a>"
      ],
      "text/plain": [
       "<IPython.core.display.HTML object>"
      ]
     },
     "metadata": {},
     "output_type": "display_data"
    }
   ],
   "source": [
    "A.webLink(phrase)"
   ]
  },
  {
   "cell_type": "markdown",
   "metadata": {},
   "source": [
    "If you want just the url:"
   ]
  },
  {
   "cell_type": "code",
   "execution_count": 11,
   "metadata": {
    "ExecuteTime": {
     "end_time": "2018-04-25T13:57:36.441490Z",
     "start_time": "2018-04-25T13:57:36.432236Z"
    }
   },
   "outputs": [
    {
     "data": {
      "text/plain": [
       "'https://shebanq.ancient-data.org/hebrew/text?book=Genesis&chapter=1&verse=4&version=c&mr=m&qw=q&tp=txt_p&tr=hb&wget=v&qget=v&nget=vt'"
      ]
     },
     "execution_count": 11,
     "metadata": {},
     "output_type": "execute_result"
    }
   ],
   "source": [
    "A.webLink(phrase, urlOnly=True)"
   ]
  },
  {
   "cell_type": "markdown",
   "metadata": {},
   "source": [
    "A link to another passage:"
   ]
  },
  {
   "cell_type": "code",
   "execution_count": 12,
   "metadata": {
    "ExecuteTime": {
     "end_time": "2018-04-25T13:57:46.144712Z",
     "start_time": "2018-04-25T13:57:46.138983Z"
    }
   },
   "outputs": [],
   "source": [
    "z = A.nodeFromSectionStr(\"Ezra 3:4\")"
   ]
  },
  {
   "cell_type": "code",
   "execution_count": 13,
   "metadata": {
    "ExecuteTime": {
     "end_time": "2018-04-25T13:57:47.022343Z",
     "start_time": "2018-04-25T13:57:47.012756Z"
    }
   },
   "outputs": [
    {
     "data": {
      "text/html": [
       "<a target=\"_blank\" href=\"https://shebanq.ancient-data.org/hebrew/text?book=Esra&amp;chapter=3&amp;verse=4&amp;version=c&amp;mr=m&amp;qw=q&amp;tp=txt_p&amp;tr=hb&amp;wget=v&amp;qget=v&amp;nget=vt\" title=\"Show this on SHEBANQ\" sec=\"Ezra 3:4\">Ezra 3:4</a>"
      ],
      "text/plain": [
       "<IPython.core.display.HTML object>"
      ]
     },
     "metadata": {},
     "output_type": "display_data"
    }
   ],
   "source": [
    "A.webLink(z)"
   ]
  },
  {
   "cell_type": "markdown",
   "metadata": {},
   "source": [
    "# Plain\n",
    "\n",
    "We can represent a node in plain representation and highlight specific portions."
   ]
  },
  {
   "cell_type": "code",
   "execution_count": 14,
   "metadata": {},
   "outputs": [],
   "source": [
    "firstVerse = F.otype.s(\"verse\")[0]\n",
    "allPhrases = F.otype.s(\"phrase\")\n",
    "phrases = {allPhrases[1], allPhrases[3]}\n",
    "words = (2, 4, 6, 9)"
   ]
  },
  {
   "cell_type": "code",
   "execution_count": 15,
   "metadata": {},
   "outputs": [
    {
     "data": {
      "text/html": [
       "<div class=\"rtl\"><span class=\"section rtl\"><a target=\"_blank\" href=\"https://shebanq.ancient-data.org/hebrew/text?book=Genesis&amp;chapter=1&amp;verse=1&amp;version=c&amp;mr=m&amp;qw=q&amp;tp=txt_p&amp;tr=hb&amp;wget=v&amp;qget=v&amp;nget=vt\" title=\"Show this on SHEBANQ\" sec=\"Genesis 1:1\">Genesis 1:1</a></span>  <span class=\"txtu hbo\">בְּ</span><span class=\"txtu hbo\">רֵאשִׁ֖ית </span><span class=\"txtu hbo\">בָּרָ֣א </span><span class=\"txtu hbo\">אֱלֹהִ֑ים </span><span class=\"txtu hbo\">אֵ֥ת </span><span class=\"txtu hbo\">הַ</span><span class=\"txtu hbo\">שָּׁמַ֖יִם </span><span class=\"txtu hbo\">וְ</span><span class=\"txtu hbo\">אֵ֥ת </span><span class=\"txtu hbo\">הָ</span><span class=\"txtu hbo\">אָֽרֶץ׃ </span></div>"
      ],
      "text/plain": [
       "<IPython.core.display.HTML object>"
      ]
     },
     "metadata": {},
     "output_type": "display_data"
    }
   ],
   "source": [
    "firstSentence = F.otype.s(\"sentence\")[0]\n",
    "A.plain(firstSentence)"
   ]
  },
  {
   "cell_type": "markdown",
   "metadata": {},
   "source": [
    "First we highlight some words:"
   ]
  },
  {
   "cell_type": "code",
   "execution_count": 16,
   "metadata": {},
   "outputs": [
    {
     "data": {
      "text/html": [
       "<div class=\"rtl\"><span class=\"section rtl\"><a target=\"_blank\" href=\"https://shebanq.ancient-data.org/hebrew/text?book=Genesis&amp;chapter=1&amp;verse=1&amp;version=c&amp;mr=m&amp;qw=q&amp;tp=txt_p&amp;tr=hb&amp;wget=v&amp;qget=v&amp;nget=vt\" title=\"Show this on SHEBANQ\" sec=\"Genesis 1:1\">Genesis 1:1</a></span>  <span class=\"txtu hbo\">בְּ</span><span class=\"plain rtl  hl\" ><span class=\"txtu hbo\">רֵאשִׁ֖ית </span></span><span class=\"txtu hbo\">בָּרָ֣א </span><span class=\"plain rtl  hl\" ><span class=\"txtu hbo\">אֱלֹהִ֑ים </span></span><span class=\"txtu hbo\">אֵ֥ת </span><span class=\"plain rtl  hl\" ><span class=\"txtu hbo\">הַ</span></span><span class=\"txtu hbo\">שָּׁמַ֖יִם </span><span class=\"txtu hbo\">וְ</span><span class=\"plain rtl  hl\" ><span class=\"txtu hbo\">אֵ֥ת </span></span><span class=\"txtu hbo\">הָ</span><span class=\"txtu hbo\">אָֽרֶץ׃ </span></div>"
      ],
      "text/plain": [
       "<IPython.core.display.HTML object>"
      ]
     },
     "metadata": {},
     "output_type": "display_data"
    }
   ],
   "source": [
    "highlights = set(words)\n",
    "A.plain(firstVerse, highlights=highlights)"
   ]
  },
  {
   "cell_type": "markdown",
   "metadata": {},
   "source": [
    "Now some phrases:"
   ]
  },
  {
   "cell_type": "code",
   "execution_count": 17,
   "metadata": {},
   "outputs": [
    {
     "name": "stdout",
     "output_type": "stream",
     "text": [
      "{651545, 651543}\n"
     ]
    },
    {
     "data": {
      "text/html": [
       "<div class=\"rtl\"><span class=\"section rtl\"><a target=\"_blank\" href=\"https://shebanq.ancient-data.org/hebrew/text?book=Genesis&amp;chapter=1&amp;verse=1&amp;version=c&amp;mr=m&amp;qw=q&amp;tp=txt_p&amp;tr=hb&amp;wget=v&amp;qget=v&amp;nget=vt\" title=\"Show this on SHEBANQ\" sec=\"Genesis 1:1\">Genesis 1:1</a></span>  <span class=\"txtu hbo\">בְּ</span><span class=\"txtu hbo\">רֵאשִׁ֖ית </span><span class=\"plain rtl  hlbx\" ><span class=\"txtu hbo\">בָּרָ֣א </span></span><span class=\"txtu hbo\">אֱלֹהִ֑ים </span><span class=\"plain rtl  hlbx\" ><span class=\"txtu hbo\">אֵ֥ת </span><span class=\"txtu hbo\">הַ</span><span class=\"txtu hbo\">שָּׁמַ֖יִם </span><span class=\"txtu hbo\">וְ</span><span class=\"txtu hbo\">אֵ֥ת </span><span class=\"txtu hbo\">הָ</span><span class=\"txtu hbo\">אָֽרֶץ׃ </span></span></div>"
      ],
      "text/plain": [
       "<IPython.core.display.HTML object>"
      ]
     },
     "metadata": {},
     "output_type": "display_data"
    }
   ],
   "source": [
    "highlights = set(phrases)\n",
    "print(highlights)\n",
    "A.plain(firstVerse, highlights=highlights)"
   ]
  },
  {
   "cell_type": "markdown",
   "metadata": {},
   "source": [
    "As you see, when we highlight bigger things than words, we put a\n",
    "highlighted border around the words in those things."
   ]
  },
  {
   "cell_type": "markdown",
   "metadata": {},
   "source": [
    "We can do both:"
   ]
  },
  {
   "cell_type": "code",
   "execution_count": 18,
   "metadata": {},
   "outputs": [
    {
     "data": {
      "text/html": [
       "<div class=\"rtl\"><span class=\"section rtl\"><a target=\"_blank\" href=\"https://shebanq.ancient-data.org/hebrew/text?book=Genesis&amp;chapter=1&amp;verse=1&amp;version=c&amp;mr=m&amp;qw=q&amp;tp=txt_p&amp;tr=hb&amp;wget=v&amp;qget=v&amp;nget=vt\" title=\"Show this on SHEBANQ\" sec=\"Genesis 1:1\">Genesis 1:1</a></span>  <span class=\"txtu hbo\">בְּ</span><span class=\"plain rtl  hl\" ><span class=\"txtu hbo\">רֵאשִׁ֖ית </span></span><span class=\"plain rtl  hlbx\" ><span class=\"txtu hbo\">בָּרָ֣א </span></span><span class=\"plain rtl  hl\" ><span class=\"txtu hbo\">אֱלֹהִ֑ים </span></span><span class=\"plain rtl  hlbx\" ><span class=\"txtu hbo\">אֵ֥ת </span><span class=\"plain rtl  hl\" ><span class=\"txtu hbo\">הַ</span></span><span class=\"txtu hbo\">שָּׁמַ֖יִם </span><span class=\"txtu hbo\">וְ</span><span class=\"plain rtl  hl\" ><span class=\"txtu hbo\">אֵ֥ת </span></span><span class=\"txtu hbo\">הָ</span><span class=\"txtu hbo\">אָֽרֶץ׃ </span></span></div>"
      ],
      "text/plain": [
       "<IPython.core.display.HTML object>"
      ]
     },
     "metadata": {},
     "output_type": "display_data"
    }
   ],
   "source": [
    "highlights = set(phrases) | set(words)\n",
    "A.plain(firstVerse, highlights=highlights)"
   ]
  },
  {
   "cell_type": "markdown",
   "metadata": {},
   "source": [
    "We can also highlight the verse itself."
   ]
  },
  {
   "cell_type": "code",
   "execution_count": 19,
   "metadata": {},
   "outputs": [
    {
     "data": {
      "text/html": [
       "<div class=\"rtl\"><span class=\"section rtl\"><a target=\"_blank\" href=\"https://shebanq.ancient-data.org/hebrew/text?book=Genesis&amp;chapter=1&amp;verse=1&amp;version=c&amp;mr=m&amp;qw=q&amp;tp=txt_p&amp;tr=hb&amp;wget=v&amp;qget=v&amp;nget=vt\" title=\"Show this on SHEBANQ\" sec=\"Genesis 1:1\">Genesis 1:1</a></span>  <span class=\"plain rtl  hlbx\" ><span class=\"txtu hbo\">בְּ</span><span class=\"txtu hbo\">רֵאשִׁ֖ית </span><span class=\"txtu hbo\">בָּרָ֣א </span><span class=\"txtu hbo\">אֱלֹהִ֑ים </span><span class=\"txtu hbo\">אֵ֥ת </span><span class=\"txtu hbo\">הַ</span><span class=\"txtu hbo\">שָּׁמַ֖יִם </span><span class=\"txtu hbo\">וְ</span><span class=\"txtu hbo\">אֵ֥ת </span><span class=\"txtu hbo\">הָ</span><span class=\"txtu hbo\">אָֽרֶץ׃ </span></span></div>"
      ],
      "text/plain": [
       "<IPython.core.display.HTML object>"
      ]
     },
     "metadata": {},
     "output_type": "display_data"
    }
   ],
   "source": [
    "highlights = {firstVerse}\n",
    "A.plain(firstVerse, highlights=highlights)"
   ]
  },
  {
   "cell_type": "markdown",
   "metadata": {},
   "source": [
    "We can use different colors for highlighting:\n",
    "\n",
    "* some words are red\n",
    "* some other words are green\n",
    "* phrases are blue"
   ]
  },
  {
   "cell_type": "code",
   "execution_count": 20,
   "metadata": {},
   "outputs": [
    {
     "data": {
      "text/html": [
       "<div class=\"rtl\"><span class=\"section rtl\"><a target=\"_blank\" href=\"https://shebanq.ancient-data.org/hebrew/text?book=Genesis&amp;chapter=1&amp;verse=1&amp;version=c&amp;mr=m&amp;qw=q&amp;tp=txt_p&amp;tr=hb&amp;wget=v&amp;qget=v&amp;nget=vt\" title=\"Show this on SHEBANQ\" sec=\"Genesis 1:1\">Genesis 1:1</a></span>  <span class=\"plain rtl  hlbx\"  style=\"border-color: #eeeeee;\" ><span class=\"plain rtl  hl\"  style=\"background-color: lightsalmon;\" ><span class=\"txtu hbo\">בְּ</span></span><span class=\"txtu hbo\">רֵאשִׁ֖ית </span><span class=\"plain rtl  hlbx\"  style=\"border-color: blue;\" ><span class=\"plain rtl  hl\"  style=\"background-color: mediumaquamarine;\" ><span class=\"txtu hbo\">בָּרָ֣א </span></span></span><span class=\"txtu hbo\">אֱלֹהִ֑ים </span><span class=\"plain rtl  hlbx\"  style=\"border-color: blue;\" ><span class=\"plain rtl  hl\"  style=\"background-color: lightsalmon;\" ><span class=\"txtu hbo\">אֵ֥ת </span></span><span class=\"txtu hbo\">הַ</span><span class=\"plain rtl  hl\"  style=\"background-color: mediumaquamarine;\" ><span class=\"txtu hbo\">שָּׁמַ֖יִם </span></span><span class=\"txtu hbo\">וְ</span><span class=\"plain rtl  hl\"  style=\"background-color: lightsalmon;\" ><span class=\"txtu hbo\">אֵ֥ת </span></span><span class=\"txtu hbo\">הָ</span><span class=\"txtu hbo\">אָֽרֶץ׃ </span></span></span></div>"
      ],
      "text/plain": [
       "<IPython.core.display.HTML object>"
      ]
     },
     "metadata": {},
     "output_type": "display_data"
    }
   ],
   "source": [
    "highlights = {i: \"lightsalmon\" for i in [1, 5, 9]}\n",
    "highlights.update({i: \"mediumaquamarine\" for i in [3, 7]})\n",
    "highlights.update({i: \"blue\" for i in phrases})\n",
    "highlights.update({firstVerse: \"#eeeeee\"})\n",
    "A.plain(firstVerse, highlights=highlights)"
   ]
  },
  {
   "cell_type": "markdown",
   "metadata": {},
   "source": [
    "# Pretty\n",
    "We define two verse nodes:"
   ]
  },
  {
   "cell_type": "code",
   "execution_count": 21,
   "metadata": {
    "ExecuteTime": {
     "end_time": "2018-04-25T13:57:50.369004Z",
     "start_time": "2018-04-25T13:57:50.363695Z"
    }
   },
   "outputs": [],
   "source": [
    "verse1 = A.nodeFromSectionStr(\"Genesis 1:7\")\n",
    "verse2 = A.nodeFromSectionStr(\"Genesis 1:17\")"
   ]
  },
  {
   "cell_type": "markdown",
   "metadata": {},
   "source": [
    "and display the first one:"
   ]
  },
  {
   "cell_type": "code",
   "execution_count": 22,
   "metadata": {
    "ExecuteTime": {
     "end_time": "2018-04-25T13:57:53.124725Z",
     "start_time": "2018-04-25T13:57:53.108960Z"
    }
   },
   "outputs": [
    {
     "data": {
      "text/html": [
       "<div class=\"section rtl\"><a target=\"_blank\" href=\"https://shebanq.ancient-data.org/hebrew/text?book=Genesis&amp;chapter=1&amp;verse=7&amp;version=c&amp;mr=m&amp;qw=q&amp;tp=txt_p&amp;tr=hb&amp;wget=v&amp;qget=v&amp;nget=vt\" title=\"Show this on SHEBANQ\" sec=\"Genesis 1:7\">Genesis 1:7</a></div><div class=\"rtl children\"><div class=\"contnr c3  rtl  \" ><div class=\"lbl c3  \" ><span class=\"nd\">verse</span></div><div class=\"children hor wrap rtl\"><div class=\"contnr c2  rtl  \" ><div class=\"lbl c2  \" ><span class=\"nd\">sentence</span></div><div class=\"children hor wrap rtl\"><div class=\"contnr c2  rtl  \" ><div class=\"lbl c2  \" ><span class=\"nd\">clause</span></div><div class=\"children hor wrap rtl\"><div class=\"contnr c1  rtl  \" ><div class=\"lbl c1  \" ><span class=\"nd\">phrase</span></div><div class=\"children hor wrap rtl\"><div class=\"contnr c0 trm rtl  \" ><div class=\"lbl c0 trm \" ><a class=\" txtu hbo\" target=\"_blank\" href=\"https://shebanq.ancient-data.org/hebrew/word?version=c&amp;id=1W\" title=\"Show this on SHEBANQ\"><span class=\"txtu hbo\">וַ</span></a></div></div></div></div><div class=\"contnr c1  rtl  \" ><div class=\"lbl c1  \" ><span class=\"nd\">phrase</span></div><div class=\"children hor wrap rtl\"><div class=\"contnr c0 trm rtl  \" ><div class=\"lbl c0 trm \" ><a class=\" txtu hbo\" target=\"_blank\" href=\"https://shebanq.ancient-data.org/hebrew/word?version=c&amp;id=1OFHv\" title=\"Show this on SHEBANQ\"><span class=\"txtu hbo\">יַּ֣עַשׂ </span></a></div></div></div></div><div class=\"contnr c1  rtl  \" ><div class=\"lbl c1  \" ><span class=\"nd\">phrase</span></div><div class=\"children hor wrap rtl\"><div class=\"contnr c0 trm rtl  \" ><div class=\"lbl c0 trm \" ><a class=\" txtu hbo\" target=\"_blank\" href=\"https://shebanq.ancient-data.org/hebrew/word?version=c&amp;id=1ALHJMn\" title=\"Show this on SHEBANQ\"><span class=\"txtu hbo\">אֱלֹהִים֮ </span></a></div></div></div></div><div class=\"contnr c1  rtl  \" ><div class=\"lbl c1  \" ><span class=\"nd\">phrase</span></div><div class=\"children hor wrap rtl\"><div class=\"contnr c0 trm rtl  \" ><div class=\"lbl c0 trm \" ><a class=\" txtu hbo\" target=\"_blank\" href=\"https://shebanq.ancient-data.org/hebrew/word?version=c&amp;id=1AT\" title=\"Show this on SHEBANQ\"><span class=\"txtu hbo\">אֶת־</span></a></div></div><div class=\"contnr c0 trm rtl  \" ><div class=\"lbl c0 trm \" ><a class=\" txtu hbo\" target=\"_blank\" href=\"https://shebanq.ancient-data.org/hebrew/word?version=c&amp;id=1H\" title=\"Show this on SHEBANQ\"><span class=\"txtu hbo\">הָ</span></a></div></div><div class=\"contnr c0 trm rtl  \" ><div class=\"lbl c0 trm \" ><a class=\" txtu hbo\" target=\"_blank\" href=\"https://shebanq.ancient-data.org/hebrew/word?version=c&amp;id=1RQJOn\" title=\"Show this on SHEBANQ\"><span class=\"txtu hbo\">רָקִיעַ֒ </span></a></div></div></div></div></div></div></div></div><div class=\"contnr c2  rtl  \" ><div class=\"lbl c2  \" ><span class=\"nd\">sentence</span></div><div class=\"children hor wrap rtl\"><div class=\"contnr c2  rtl l \" ><div class=\"lbl c2  \" ><span class=\"nd\">clause</span></div><div class=\"children hor wrap rtl\"><div class=\"contnr c1  rtl  \" ><div class=\"lbl c1  \" ><span class=\"nd\">phrase</span></div><div class=\"children hor wrap rtl\"><div class=\"contnr c0 trm rtl  \" ><div class=\"lbl c0 trm \" ><a class=\" txtu hbo\" target=\"_blank\" href=\"https://shebanq.ancient-data.org/hebrew/word?version=c&amp;id=1W\" title=\"Show this on SHEBANQ\"><span class=\"txtu hbo\">וַ</span></a></div></div></div></div><div class=\"contnr c1  rtl  \" ><div class=\"lbl c1  \" ><span class=\"nd\">phrase</span></div><div class=\"children hor wrap rtl\"><div class=\"contnr c0 trm rtl  \" ><div class=\"lbl c0 trm \" ><a class=\" txtu hbo\" target=\"_blank\" href=\"https://shebanq.ancient-data.org/hebrew/word?version=c&amp;id=1BDLv\" title=\"Show this on SHEBANQ\"><span class=\"txtu hbo\">יַּבְדֵּ֗ל </span></a></div></div></div></div><div class=\"contnr c1  rtl l \" ><div class=\"lbl c1  \" ><span class=\"nd\">phrase</span></div><div class=\"children hor wrap rtl\"><div class=\"contnr c0 trm rtl  \" ><div class=\"lbl c0 trm \" ><a class=\" txtu hbo\" target=\"_blank\" href=\"https://shebanq.ancient-data.org/hebrew/word?version=c&amp;id=1BJNn\" title=\"Show this on SHEBANQ\"><span class=\"txtu hbo\">בֵּ֤ין </span></a></div></div><div class=\"contnr c0 trm rtl  \" ><div class=\"lbl c0 trm \" ><a class=\" txtu hbo\" target=\"_blank\" href=\"https://shebanq.ancient-data.org/hebrew/word?version=c&amp;id=1H\" title=\"Show this on SHEBANQ\"><span class=\"txtu hbo\">הַ</span></a></div></div><div class=\"contnr c0 trm rtl  \" ><div class=\"lbl c0 trm \" ><a class=\" txtu hbo\" target=\"_blank\" href=\"https://shebanq.ancient-data.org/hebrew/word?version=c&amp;id=1MJMn\" title=\"Show this on SHEBANQ\"><span class=\"txtu hbo\">מַּ֨יִם֙ </span></a></div></div></div></div></div></div><div class=\"contnr c2  rtl  \" ><div class=\"lbl c2  \" ><span class=\"nd\">clause</span></div><div class=\"children hor wrap rtl\"><div class=\"contnr c1  rtl  \" ><div class=\"lbl c1  \" ><span class=\"nd\">phrase</span></div><div class=\"children hor wrap rtl\"><div class=\"contnr c0 trm rtl  \" ><div class=\"lbl c0 trm \" ><a class=\" txtu hbo\" target=\"_blank\" href=\"https://shebanq.ancient-data.org/hebrew/word?version=c&amp;id=1ACR\" title=\"Show this on SHEBANQ\"><span class=\"txtu hbo\">אֲשֶׁר֙ </span></a></div></div></div></div><div class=\"contnr c1  rtl  \" ><div class=\"lbl c1  \" ><span class=\"nd\">phrase</span></div><div class=\"children hor wrap rtl\"><div class=\"contnr c0 trm rtl  \" ><div class=\"lbl c0 trm \" ><a class=\" txtu hbo\" target=\"_blank\" href=\"https://shebanq.ancient-data.org/hebrew/word?version=c&amp;id=1MN\" title=\"Show this on SHEBANQ\"><span class=\"txtu hbo\">מִ</span></a></div></div><div class=\"contnr c0 trm rtl  \" ><div class=\"lbl c0 trm \" ><a class=\" txtu hbo\" target=\"_blank\" href=\"https://shebanq.ancient-data.org/hebrew/word?version=c&amp;id=1TXTn\" title=\"Show this on SHEBANQ\"><span class=\"txtu hbo\">תַּ֣חַת </span></a></div></div><div class=\"contnr c0 trm rtl  \" ><div class=\"lbl c0 trm \" ><a class=\" txtu hbo\" target=\"_blank\" href=\"https://shebanq.ancient-data.org/hebrew/word?version=c&amp;id=1L\" title=\"Show this on SHEBANQ\"><span class=\"txtu hbo\">לָ</span></a></div></div><div class=\"contnr c0 trm rtl  \" ><div class=\"lbl c0 trm \" ><a class=\" txtu hbo\" target=\"_blank\" href=\"https://shebanq.ancient-data.org/hebrew/word?version=c&amp;id=1H\" title=\"Show this on SHEBANQ\"></a></div></div><div class=\"contnr c0 trm rtl  \" ><div class=\"lbl c0 trm \" ><a class=\" txtu hbo\" target=\"_blank\" href=\"https://shebanq.ancient-data.org/hebrew/word?version=c&amp;id=1RQJOn\" title=\"Show this on SHEBANQ\"><span class=\"txtu hbo\">רָקִ֔יעַ </span></a></div></div></div></div></div></div><div class=\"contnr c2  rtl r \" ><div class=\"lbl c2  \" ><span class=\"nd\">clause</span></div><div class=\"children hor wrap rtl\"><div class=\"contnr c1  rtl r \" ><div class=\"lbl c1  \" ><span class=\"nd\">phrase</span></div><div class=\"children hor wrap rtl\"><div class=\"contnr c0 trm rtl  \" ><div class=\"lbl c0 trm \" ><a class=\" txtu hbo\" target=\"_blank\" href=\"https://shebanq.ancient-data.org/hebrew/word?version=c&amp;id=1W\" title=\"Show this on SHEBANQ\"><span class=\"txtu hbo\">וּ</span></a></div></div><div class=\"contnr c0 trm rtl  \" ><div class=\"lbl c0 trm \" ><a class=\" txtu hbo\" target=\"_blank\" href=\"https://shebanq.ancient-data.org/hebrew/word?version=c&amp;id=1BJNn\" title=\"Show this on SHEBANQ\"><span class=\"txtu hbo\">בֵ֣ין </span></a></div></div><div class=\"contnr c0 trm rtl  \" ><div class=\"lbl c0 trm \" ><a class=\" txtu hbo\" target=\"_blank\" href=\"https://shebanq.ancient-data.org/hebrew/word?version=c&amp;id=1H\" title=\"Show this on SHEBANQ\"><span class=\"txtu hbo\">הַ</span></a></div></div><div class=\"contnr c0 trm rtl  \" ><div class=\"lbl c0 trm \" ><a class=\" txtu hbo\" target=\"_blank\" href=\"https://shebanq.ancient-data.org/hebrew/word?version=c&amp;id=1MJMn\" title=\"Show this on SHEBANQ\"><span class=\"txtu hbo\">מַּ֔יִם </span></a></div></div></div></div></div></div><div class=\"contnr c2  rtl  \" ><div class=\"lbl c2  \" ><span class=\"nd\">clause</span></div><div class=\"children hor wrap rtl\"><div class=\"contnr c1  rtl  \" ><div class=\"lbl c1  \" ><span class=\"nd\">phrase</span></div><div class=\"children hor wrap rtl\"><div class=\"contnr c0 trm rtl  \" ><div class=\"lbl c0 trm \" ><a class=\" txtu hbo\" target=\"_blank\" href=\"https://shebanq.ancient-data.org/hebrew/word?version=c&amp;id=1ACR\" title=\"Show this on SHEBANQ\"><span class=\"txtu hbo\">אֲשֶׁ֖ר </span></a></div></div></div></div><div class=\"contnr c1  rtl  \" ><div class=\"lbl c1  \" ><span class=\"nd\">phrase</span></div><div class=\"children hor wrap rtl\"><div class=\"contnr c0 trm rtl  \" ><div class=\"lbl c0 trm \" ><a class=\" txtu hbo\" target=\"_blank\" href=\"https://shebanq.ancient-data.org/hebrew/word?version=c&amp;id=1MN\" title=\"Show this on SHEBANQ\"><span class=\"txtu hbo\">מֵ</span></a></div></div><div class=\"contnr c0 trm rtl  \" ><div class=\"lbl c0 trm \" ><a class=\" txtu hbo\" target=\"_blank\" href=\"https://shebanq.ancient-data.org/hebrew/word?version=c&amp;id=1OL\" title=\"Show this on SHEBANQ\"><span class=\"txtu hbo\">עַ֣ל </span></a></div></div><div class=\"contnr c0 trm rtl  \" ><div class=\"lbl c0 trm \" ><a class=\" txtu hbo\" target=\"_blank\" href=\"https://shebanq.ancient-data.org/hebrew/word?version=c&amp;id=1L\" title=\"Show this on SHEBANQ\"><span class=\"txtu hbo\">לָ</span></a></div></div><div class=\"contnr c0 trm rtl  \" ><div class=\"lbl c0 trm \" ><a class=\" txtu hbo\" target=\"_blank\" href=\"https://shebanq.ancient-data.org/hebrew/word?version=c&amp;id=1H\" title=\"Show this on SHEBANQ\"></a></div></div><div class=\"contnr c0 trm rtl  \" ><div class=\"lbl c0 trm \" ><a class=\" txtu hbo\" target=\"_blank\" href=\"https://shebanq.ancient-data.org/hebrew/word?version=c&amp;id=1RQJOn\" title=\"Show this on SHEBANQ\"><span class=\"txtu hbo\">רָקִ֑יעַ </span></a></div></div></div></div></div></div></div></div><div class=\"contnr c2  rtl  \" ><div class=\"lbl c2  \" ><span class=\"nd\">sentence</span></div><div class=\"children hor wrap rtl\"><div class=\"contnr c2  rtl  \" ><div class=\"lbl c2  \" ><span class=\"nd\">clause</span></div><div class=\"children hor wrap rtl\"><div class=\"contnr c1  rtl  \" ><div class=\"lbl c1  \" ><span class=\"nd\">phrase</span></div><div class=\"children hor wrap rtl\"><div class=\"contnr c0 trm rtl  \" ><div class=\"lbl c0 trm \" ><a class=\" txtu hbo\" target=\"_blank\" href=\"https://shebanq.ancient-data.org/hebrew/word?version=c&amp;id=1W\" title=\"Show this on SHEBANQ\"><span class=\"txtu hbo\">וַֽ</span></a></div></div></div></div><div class=\"contnr c1  rtl  \" ><div class=\"lbl c1  \" ><span class=\"nd\">phrase</span></div><div class=\"children hor wrap rtl\"><div class=\"contnr c0 trm rtl  \" ><div class=\"lbl c0 trm \" ><a class=\" txtu hbo\" target=\"_blank\" href=\"https://shebanq.ancient-data.org/hebrew/word?version=c&amp;id=1HJHv\" title=\"Show this on SHEBANQ\"><span class=\"txtu hbo\">יְהִי־</span></a></div></div></div></div><div class=\"contnr c1  rtl  \" ><div class=\"lbl c1  \" ><span class=\"nd\">phrase</span></div><div class=\"children hor wrap rtl\"><div class=\"contnr c0 trm rtl  \" ><div class=\"lbl c0 trm \" ><a class=\" txtu hbo\" target=\"_blank\" href=\"https://shebanq.ancient-data.org/hebrew/word?version=c&amp;id=1KN\" title=\"Show this on SHEBANQ\"><span class=\"txtu hbo\">כֵֽן׃ </span></a></div></div></div></div></div></div></div></div></div></div></div>"
      ],
      "text/plain": [
       "<IPython.core.display.HTML object>"
      ]
     },
     "metadata": {},
     "output_type": "display_data"
    }
   ],
   "source": [
    "A.pretty(verse1)"
   ]
  },
  {
   "cell_type": "markdown",
   "metadata": {},
   "source": [
    "In the next verse we choose a bit more to display: we include standard features:"
   ]
  },
  {
   "cell_type": "code",
   "execution_count": 23,
   "metadata": {
    "ExecuteTime": {
     "end_time": "2018-04-25T13:58:01.798768Z",
     "start_time": "2018-04-25T13:58:01.787884Z"
    }
   },
   "outputs": [
    {
     "data": {
      "text/html": [
       "<div class=\"section rtl\"><a target=\"_blank\" href=\"https://shebanq.ancient-data.org/hebrew/text?book=Genesis&amp;chapter=1&amp;verse=17&amp;version=c&amp;mr=m&amp;qw=q&amp;tp=txt_p&amp;tr=hb&amp;wget=v&amp;qget=v&amp;nget=vt\" title=\"Show this on SHEBANQ\" sec=\"Genesis 1:17\">Genesis 1:17</a></div><div class=\"rtl children\"><div class=\"contnr c3  rtl  \" ><div class=\"lbl c3  \" ><span class=\"nd\">verse</span></div><div class=\"children hor wrap rtl\"><div class=\"contnr c2  rtl lno \" ><div class=\"lbl c2  \" ><span class=\"nd\">sentence</span> <span class=\"\"><span title=\"number\">46</span></span></div><div class=\"children hor wrap rtl\"><div class=\"contnr c2  rtl  \" ><div class=\"lbl c2  \" ><span class=\"nd\">clause</span> <span class=\"\"><span title=\"typ\">WayX</span> <span title=\"rela\">NA</span></span></div><div class=\"children hor wrap rtl\"><div class=\"contnr c1  rtl  \" ><div class=\"lbl c1  \" ><span class=\"nd\">phrase</span> <span class=\"\"><span title=\"typ\">CP</span> <span title=\"function\">Conj</span></span></div><div class=\"children hor wrap rtl\"><div class=\"contnr c0 trm rtl  \" ><div class=\"lbl c0 trm \" ><a class=\" txtu hbo\" target=\"_blank\" href=\"https://shebanq.ancient-data.org/hebrew/word?version=c&amp;id=1W\" title=\"Show this on SHEBANQ\"><span class=\"txtu hbo\">וַ</span></a></div><div class='features'><span class=\"gloss \" title=\"gloss\">and</span><span class=\"pdp \" ><span class=\"f\">pdp=</span>conj</span></div></div></div></div><div class=\"contnr c1  rtl  \" ><div class=\"lbl c1  \" ><span class=\"nd\">phrase</span> <span class=\"\"><span title=\"typ\">VP</span> <span title=\"function\">Pred</span></span></div><div class=\"children hor wrap rtl\"><div class=\"contnr c0 trm rtl  \" ><div class=\"lbl c0 trm \" ><a class=\" txtu hbo\" target=\"_blank\" href=\"https://shebanq.ancient-data.org/hebrew/word?version=c&amp;id=1NTNv\" title=\"Show this on SHEBANQ\"><span class=\"txtu hbo\">יִּתֵּ֥ן </span></a></div><div class='features'><span class=\"gloss \" title=\"gloss\">give</span><span class=\"pdp \" ><span class=\"f\">pdp=</span>verb</span><span class=\"vs \" ><span class=\"f\">vs=</span>qal</span><span class=\"vt \" ><span class=\"f\">vt=</span>wayq</span></div></div></div></div><div class=\"contnr c1  rtl  \" ><div class=\"lbl c1  \" ><span class=\"nd\">phrase</span> <span class=\"\"><span title=\"typ\">PP</span> <span title=\"function\">Objc</span></span></div><div class=\"children hor wrap rtl\"><div class=\"contnr c0 trm rtl  \" ><div class=\"lbl c0 trm \" ><a class=\" txtu hbo\" target=\"_blank\" href=\"https://shebanq.ancient-data.org/hebrew/word?version=c&amp;id=1AT\" title=\"Show this on SHEBANQ\"><span class=\"txtu hbo\">אֹתָ֛ם </span></a></div><div class='features'><span class=\"gloss \" title=\"gloss\">&lt;object marker></span><span class=\"pdp \" ><span class=\"f\">pdp=</span>prep</span></div></div></div></div><div class=\"contnr c1  rtl  \" ><div class=\"lbl c1  \" ><span class=\"nd\">phrase</span> <span class=\"\"><span title=\"typ\">NP</span> <span title=\"function\">Subj</span></span></div><div class=\"children hor wrap rtl\"><div class=\"contnr c0 trm rtl  \" ><div class=\"lbl c0 trm \" ><a class=\" txtu hbo\" target=\"_blank\" href=\"https://shebanq.ancient-data.org/hebrew/word?version=c&amp;id=1ALHJMn\" title=\"Show this on SHEBANQ\"><span class=\"txtu hbo\">אֱלֹהִ֖ים </span></a></div><div class='features'><span class=\"gloss \" title=\"gloss\">god(s)</span><span class=\"pdp \" ><span class=\"f\">pdp=</span>subs</span></div></div></div></div><div class=\"contnr c1  rtl  \" ><div class=\"lbl c1  \" ><span class=\"nd\">phrase</span> <span class=\"\"><span title=\"typ\">PP</span> <span title=\"function\">Cmpl</span></span></div><div class=\"children hor wrap rtl\"><div class=\"contnr c0 trm rtl  \" ><div class=\"lbl c0 trm \" ><a class=\" txtu hbo\" target=\"_blank\" href=\"https://shebanq.ancient-data.org/hebrew/word?version=c&amp;id=1B\" title=\"Show this on SHEBANQ\"><span class=\"txtu hbo\">בִּ</span></a></div><div class='features'><span class=\"gloss \" title=\"gloss\">in</span><span class=\"pdp \" ><span class=\"f\">pdp=</span>prep</span></div></div><div class=\"contnr c0 trm rtl  \" ><div class=\"lbl c0 trm \" ><a class=\" txtu hbo\" target=\"_blank\" href=\"https://shebanq.ancient-data.org/hebrew/word?version=c&amp;id=1RQJOn\" title=\"Show this on SHEBANQ\"><span class=\"txtu hbo\">רְקִ֣יעַ </span></a></div><div class='features'><span class=\"gloss \" title=\"gloss\">firmament</span><span class=\"pdp \" ><span class=\"f\">pdp=</span>subs</span></div></div><div class=\"contnr c0 trm rtl  \" ><div class=\"lbl c0 trm \" ><a class=\" txtu hbo\" target=\"_blank\" href=\"https://shebanq.ancient-data.org/hebrew/word?version=c&amp;id=1H\" title=\"Show this on SHEBANQ\"><span class=\"txtu hbo\">הַ</span></a></div><div class='features'><span class=\"gloss \" title=\"gloss\">the</span><span class=\"pdp \" ><span class=\"f\">pdp=</span>art</span></div></div><div class=\"contnr c0 trm rtl  \" ><div class=\"lbl c0 trm \" ><a class=\" txtu hbo\" target=\"_blank\" href=\"https://shebanq.ancient-data.org/hebrew/word?version=c&amp;id=1CMJMn\" title=\"Show this on SHEBANQ\"><span class=\"txtu hbo\">שָּׁמָ֑יִם </span></a></div><div class='features'><span class=\"gloss \" title=\"gloss\">heavens</span><span class=\"pdp \" ><span class=\"f\">pdp=</span>subs</span></div></div></div></div></div></div><div class=\"contnr c2  rtl  \" ><div class=\"lbl c2  \" ><span class=\"nd\">clause</span> <span class=\"\"><span title=\"typ\">InfC</span> <span title=\"rela\">Adju</span></span></div><div class=\"children hor wrap rtl\"><div class=\"contnr c1  rtl  \" ><div class=\"lbl c1  \" ><span class=\"nd\">phrase</span> <span class=\"\"><span title=\"typ\">VP</span> <span title=\"function\">Pred</span></span></div><div class=\"children hor wrap rtl\"><div class=\"contnr c0 trm rtl  \" ><div class=\"lbl c0 trm \" ><a class=\" txtu hbo\" target=\"_blank\" href=\"https://shebanq.ancient-data.org/hebrew/word?version=c&amp;id=1L\" title=\"Show this on SHEBANQ\"><span class=\"txtu hbo\">לְ</span></a></div><div class='features'><span class=\"gloss \" title=\"gloss\">to</span><span class=\"pdp \" ><span class=\"f\">pdp=</span>prep</span></div></div><div class=\"contnr c0 trm rtl  \" ><div class=\"lbl c0 trm \" ><a class=\" txtu hbo\" target=\"_blank\" href=\"https://shebanq.ancient-data.org/hebrew/word?version=c&amp;id=1AWRv\" title=\"Show this on SHEBANQ\"><span class=\"txtu hbo\">הָאִ֖יר </span></a></div><div class='features'><span class=\"gloss \" title=\"gloss\">be light</span><span class=\"pdp \" ><span class=\"f\">pdp=</span>verb</span><span class=\"vs \" ><span class=\"f\">vs=</span>hif</span><span class=\"vt \" ><span class=\"f\">vt=</span>infc</span></div></div></div></div><div class=\"contnr c1  rtl  \" ><div class=\"lbl c1  \" ><span class=\"nd\">phrase</span> <span class=\"\"><span title=\"typ\">PP</span> <span title=\"function\">Cmpl</span></span></div><div class=\"children hor wrap rtl\"><div class=\"contnr c0 trm rtl  \" ><div class=\"lbl c0 trm \" ><a class=\" txtu hbo\" target=\"_blank\" href=\"https://shebanq.ancient-data.org/hebrew/word?version=c&amp;id=1OL\" title=\"Show this on SHEBANQ\"><span class=\"txtu hbo\">עַל־</span></a></div><div class='features'><span class=\"gloss \" title=\"gloss\">upon</span><span class=\"pdp \" ><span class=\"f\">pdp=</span>prep</span></div></div><div class=\"contnr c0 trm rtl  \" ><div class=\"lbl c0 trm \" ><a class=\" txtu hbo\" target=\"_blank\" href=\"https://shebanq.ancient-data.org/hebrew/word?version=c&amp;id=1H\" title=\"Show this on SHEBANQ\"><span class=\"txtu hbo\">הָ</span></a></div><div class='features'><span class=\"gloss \" title=\"gloss\">the</span><span class=\"pdp \" ><span class=\"f\">pdp=</span>art</span></div></div><div class=\"contnr c0 trm rtl  \" ><div class=\"lbl c0 trm \" ><a class=\" txtu hbo\" target=\"_blank\" href=\"https://shebanq.ancient-data.org/hebrew/word?version=c&amp;id=1ARYn\" title=\"Show this on SHEBANQ\"><span class=\"txtu hbo\">אָֽרֶץ׃ </span></a></div><div class='features'><span class=\"gloss \" title=\"gloss\">earth</span><span class=\"pdp \" ><span class=\"f\">pdp=</span>subs</span></div></div></div></div></div></div></div></div></div></div></div>"
      ],
      "text/plain": [
       "<IPython.core.display.HTML object>"
      ]
     },
     "metadata": {},
     "output_type": "display_data"
    }
   ],
   "source": [
    "A.pretty(verse2, standardFeatures=True)"
   ]
  },
  {
   "cell_type": "markdown",
   "metadata": {},
   "source": [
    "The labels of the nodes come from features in the data: hover over a label to see which feature is responsible.\n",
    "The same holds for the unnamed features below the words, in particular the gloss."
   ]
  },
  {
   "cell_type": "markdown",
   "metadata": {},
   "source": [
    "Note that the sentence in this verse continues after the verse ends, that is why it has no left border.\n",
    "\n",
    "In the BHSA,entences, clauses and phrases may be discontinuous.\n",
    "The designers of the BHSA data (Eep Talstra and Constantijn Sikkel et al.) have added node types\n",
    "*sentence_atom*, *clause_atom* and *phrase_atom*.\n",
    "\n",
    "They are the continuous chunks within the objects of their corresponding non-atom types.\n",
    "The atom types form a nice nest of building blocks.\n",
    "\n",
    "Usually we hide the atom types from view.\n",
    "But we can make them visible:"
   ]
  },
  {
   "cell_type": "code",
   "execution_count": 24,
   "metadata": {
    "ExecuteTime": {
     "end_time": "2018-04-25T13:58:01.798768Z",
     "start_time": "2018-04-25T13:58:01.787884Z"
    }
   },
   "outputs": [
    {
     "data": {
      "text/html": [
       "<div class=\"section rtl\"><a target=\"_blank\" href=\"https://shebanq.ancient-data.org/hebrew/text?book=Genesis&amp;chapter=1&amp;verse=17&amp;version=c&amp;mr=m&amp;qw=q&amp;tp=txt_p&amp;tr=hb&amp;wget=v&amp;qget=v&amp;nget=vt\" title=\"Show this on SHEBANQ\" sec=\"Genesis 1:17\">Genesis 1:17</a></div><div class=\"rtl children\"><div class=\"contnr c3  rtl  \" ><div class=\"lbl c3  \" ><span class=\"nd\">verse</span></div><div class=\"children hor wrap rtl\"><div class=\"contnr c3  rtl  \" ><div class=\"lbl c3  \" ><span class=\"nd\">half_verse</span></div><div class=\"children hor wrap rtl\"><div class=\"contnr c2  rtl lno \" ><div class=\"lbl c2  \" ><span class=\"nd\">sentence</span></div><div class=\"children hor wrap rtl\"><div class=\"contnr c1  rtl lno \" ><div class=\"lbl c1  \" ><span class=\"nd\">sentence_atom</span></div><div class=\"children hor wrap rtl\"><div class=\"contnr c2  rtl  \" ><div class=\"lbl c2  \" ><span class=\"nd\">clause</span></div><div class=\"children hor wrap rtl\"><div class=\"contnr c1  rtl  \" ><div class=\"lbl c1  \" ><span class=\"nd\">clause_atom</span></div><div class=\"children hor wrap rtl\"><div class=\"contnr c1  rtl  \" ><div class=\"lbl c1  \" ><span class=\"nd\">phrase</span></div><div class=\"children hor wrap rtl\"><div class=\"contnr c1  rtl  \" ><div class=\"lbl c1  \" ><span class=\"nd\">phrase_atom</span></div><div class=\"children hor wrap rtl\"><div class=\"contnr c0 trm rtl  \" ><div class=\"lbl c0 trm \" ><a class=\" txtu hbo\" target=\"_blank\" href=\"https://shebanq.ancient-data.org/hebrew/word?version=c&amp;id=1W\" title=\"Show this on SHEBANQ\"><span class=\"txtu hbo\">וַ</span></a></div></div></div></div></div></div><div class=\"contnr c1  rtl  \" ><div class=\"lbl c1  \" ><span class=\"nd\">phrase</span></div><div class=\"children hor wrap rtl\"><div class=\"contnr c1  rtl  \" ><div class=\"lbl c1  \" ><span class=\"nd\">phrase_atom</span></div><div class=\"children hor wrap rtl\"><div class=\"contnr c0 trm rtl  \" ><div class=\"lbl c0 trm \" ><a class=\" txtu hbo\" target=\"_blank\" href=\"https://shebanq.ancient-data.org/hebrew/word?version=c&amp;id=1NTNv\" title=\"Show this on SHEBANQ\"><span class=\"txtu hbo\">יִּתֵּ֥ן </span></a></div></div></div></div></div></div><div class=\"contnr c1  rtl  \" ><div class=\"lbl c1  \" ><span class=\"nd\">phrase</span></div><div class=\"children hor wrap rtl\"><div class=\"contnr c1  rtl  \" ><div class=\"lbl c1  \" ><span class=\"nd\">phrase_atom</span></div><div class=\"children hor wrap rtl\"><div class=\"contnr c0 trm rtl  \" ><div class=\"lbl c0 trm \" ><a class=\" txtu hbo\" target=\"_blank\" href=\"https://shebanq.ancient-data.org/hebrew/word?version=c&amp;id=1AT\" title=\"Show this on SHEBANQ\"><span class=\"txtu hbo\">אֹתָ֛ם </span></a></div></div></div></div></div></div><div class=\"contnr c1  rtl  \" ><div class=\"lbl c1  \" ><span class=\"nd\">phrase</span></div><div class=\"children hor wrap rtl\"><div class=\"contnr c1  rtl  \" ><div class=\"lbl c1  \" ><span class=\"nd\">phrase_atom</span></div><div class=\"children hor wrap rtl\"><div class=\"contnr c0 trm rtl  \" ><div class=\"lbl c0 trm \" ><a class=\" txtu hbo\" target=\"_blank\" href=\"https://shebanq.ancient-data.org/hebrew/word?version=c&amp;id=1ALHJMn\" title=\"Show this on SHEBANQ\"><span class=\"txtu hbo\">אֱלֹהִ֖ים </span></a></div></div></div></div></div></div><div class=\"contnr c1  rtl  \" ><div class=\"lbl c1  \" ><span class=\"nd\">phrase</span></div><div class=\"children hor wrap rtl\"><div class=\"contnr c1  rtl  \" ><div class=\"lbl c1  \" ><span class=\"nd\">phrase_atom</span></div><div class=\"children hor wrap rtl\"><div class=\"contnr c0 trm rtl  \" ><div class=\"lbl c0 trm \" ><a class=\" txtu hbo\" target=\"_blank\" href=\"https://shebanq.ancient-data.org/hebrew/word?version=c&amp;id=1B\" title=\"Show this on SHEBANQ\"><span class=\"txtu hbo\">בִּ</span></a></div></div><div class=\"contnr c1  rtl  \" ><div class=\"lbl c1  \" ><span class=\"nd\">subphrase</span></div><div class=\"children hor wrap rtl\"><div class=\"contnr c0 trm rtl  \" ><div class=\"lbl c0 trm \" ><a class=\" txtu hbo\" target=\"_blank\" href=\"https://shebanq.ancient-data.org/hebrew/word?version=c&amp;id=1RQJOn\" title=\"Show this on SHEBANQ\"><span class=\"txtu hbo\">רְקִ֣יעַ </span></a></div></div></div></div><div class=\"contnr c1  rtl  \" ><div class=\"lbl c1  \" ><span class=\"nd\">subphrase</span></div><div class=\"children hor wrap rtl\"><div class=\"contnr c0 trm rtl  \" ><div class=\"lbl c0 trm \" ><a class=\" txtu hbo\" target=\"_blank\" href=\"https://shebanq.ancient-data.org/hebrew/word?version=c&amp;id=1H\" title=\"Show this on SHEBANQ\"><span class=\"txtu hbo\">הַ</span></a></div></div><div class=\"contnr c0 trm rtl  \" ><div class=\"lbl c0 trm \" ><a class=\" txtu hbo\" target=\"_blank\" href=\"https://shebanq.ancient-data.org/hebrew/word?version=c&amp;id=1CMJMn\" title=\"Show this on SHEBANQ\"><span class=\"txtu hbo\">שָּׁמָ֑יִם </span></a></div></div></div></div></div></div></div></div></div></div></div></div></div></div></div></div></div></div><div class=\"contnr c3  rtl  \" ><div class=\"lbl c3  \" ><span class=\"nd\">half_verse</span></div><div class=\"children hor wrap rtl\"><div class=\"contnr c2  rtl rno lno \" ><div class=\"lbl c2  \" ><span class=\"nd\">sentence</span></div><div class=\"children hor wrap rtl\"><div class=\"contnr c1  rtl rno lno \" ><div class=\"lbl c1  \" ><span class=\"nd\">sentence_atom</span></div><div class=\"children hor wrap rtl\"><div class=\"contnr c2  rtl  \" ><div class=\"lbl c2  \" ><span class=\"nd\">clause</span></div><div class=\"children hor wrap rtl\"><div class=\"contnr c1  rtl  \" ><div class=\"lbl c1  \" ><span class=\"nd\">clause_atom</span></div><div class=\"children hor wrap rtl\"><div class=\"contnr c1  rtl  \" ><div class=\"lbl c1  \" ><span class=\"nd\">phrase</span></div><div class=\"children hor wrap rtl\"><div class=\"contnr c1  rtl  \" ><div class=\"lbl c1  \" ><span class=\"nd\">phrase_atom</span></div><div class=\"children hor wrap rtl\"><div class=\"contnr c0 trm rtl  \" ><div class=\"lbl c0 trm \" ><a class=\" txtu hbo\" target=\"_blank\" href=\"https://shebanq.ancient-data.org/hebrew/word?version=c&amp;id=1L\" title=\"Show this on SHEBANQ\"><span class=\"txtu hbo\">לְ</span></a></div></div><div class=\"contnr c0 trm rtl  \" ><div class=\"lbl c0 trm \" ><a class=\" txtu hbo\" target=\"_blank\" href=\"https://shebanq.ancient-data.org/hebrew/word?version=c&amp;id=1AWRv\" title=\"Show this on SHEBANQ\"><span class=\"txtu hbo\">הָאִ֖יר </span></a></div></div></div></div></div></div><div class=\"contnr c1  rtl  \" ><div class=\"lbl c1  \" ><span class=\"nd\">phrase</span></div><div class=\"children hor wrap rtl\"><div class=\"contnr c1  rtl  \" ><div class=\"lbl c1  \" ><span class=\"nd\">phrase_atom</span></div><div class=\"children hor wrap rtl\"><div class=\"contnr c0 trm rtl  \" ><div class=\"lbl c0 trm \" ><a class=\" txtu hbo\" target=\"_blank\" href=\"https://shebanq.ancient-data.org/hebrew/word?version=c&amp;id=1OL\" title=\"Show this on SHEBANQ\"><span class=\"txtu hbo\">עַל־</span></a></div></div><div class=\"contnr c0 trm rtl  \" ><div class=\"lbl c0 trm \" ><a class=\" txtu hbo\" target=\"_blank\" href=\"https://shebanq.ancient-data.org/hebrew/word?version=c&amp;id=1H\" title=\"Show this on SHEBANQ\"><span class=\"txtu hbo\">הָ</span></a></div></div><div class=\"contnr c0 trm rtl  \" ><div class=\"lbl c0 trm \" ><a class=\" txtu hbo\" target=\"_blank\" href=\"https://shebanq.ancient-data.org/hebrew/word?version=c&amp;id=1ARYn\" title=\"Show this on SHEBANQ\"><span class=\"txtu hbo\">אָֽרֶץ׃ </span></a></div></div></div></div></div></div></div></div></div></div></div></div></div></div></div></div></div></div></div>"
      ],
      "text/plain": [
       "<IPython.core.display.HTML object>"
      ]
     },
     "metadata": {},
     "output_type": "display_data"
    }
   ],
   "source": [
    "A.pretty(verse2, hideTypes=False)"
   ]
  },
  {
   "cell_type": "markdown",
   "metadata": {},
   "source": [
    "Back to the view without the atoms.\n",
    "\n",
    "We can even leave out the node types:"
   ]
  },
  {
   "cell_type": "code",
   "execution_count": 25,
   "metadata": {
    "ExecuteTime": {
     "end_time": "2018-04-25T13:58:01.798768Z",
     "start_time": "2018-04-25T13:58:01.787884Z"
    }
   },
   "outputs": [
    {
     "data": {
      "text/html": [
       "<div class=\"section rtl\"><a target=\"_blank\" href=\"https://shebanq.ancient-data.org/hebrew/text?book=Genesis&amp;chapter=1&amp;verse=17&amp;version=c&amp;mr=m&amp;qw=q&amp;tp=txt_p&amp;tr=hb&amp;wget=v&amp;qget=v&amp;nget=vt\" title=\"Show this on SHEBANQ\" sec=\"Genesis 1:17\">Genesis 1:17</a></div><div class=\"rtl children\"><div class=\"contnr c3  rtl  \" ><div class=\"children hor wrap rtl\"><div class=\"contnr c2  rtl lno \" ><div class=\"children hor wrap rtl\"><div class=\"contnr c2  rtl  \" ><div class=\"children hor wrap rtl\"><div class=\"contnr c1  rtl  \" ><div class=\"children hor wrap rtl\"><div class=\"contnr c0 trm rtl  \" ><div class=\"lbl c0 trm \" ><a class=\" txtu hbo\" target=\"_blank\" href=\"https://shebanq.ancient-data.org/hebrew/word?version=c&amp;id=1W\" title=\"Show this on SHEBANQ\"><span class=\"txtu hbo\">וַ</span></a></div></div></div></div><div class=\"contnr c1  rtl  \" ><div class=\"children hor wrap rtl\"><div class=\"contnr c0 trm rtl  \" ><div class=\"lbl c0 trm \" ><a class=\" txtu hbo\" target=\"_blank\" href=\"https://shebanq.ancient-data.org/hebrew/word?version=c&amp;id=1NTNv\" title=\"Show this on SHEBANQ\"><span class=\"txtu hbo\">יִּתֵּ֥ן </span></a></div></div></div></div><div class=\"contnr c1  rtl  \" ><div class=\"children hor wrap rtl\"><div class=\"contnr c0 trm rtl  \" ><div class=\"lbl c0 trm \" ><a class=\" txtu hbo\" target=\"_blank\" href=\"https://shebanq.ancient-data.org/hebrew/word?version=c&amp;id=1AT\" title=\"Show this on SHEBANQ\"><span class=\"txtu hbo\">אֹתָ֛ם </span></a></div></div></div></div><div class=\"contnr c1  rtl  \" ><div class=\"children hor wrap rtl\"><div class=\"contnr c0 trm rtl  \" ><div class=\"lbl c0 trm \" ><a class=\" txtu hbo\" target=\"_blank\" href=\"https://shebanq.ancient-data.org/hebrew/word?version=c&amp;id=1ALHJMn\" title=\"Show this on SHEBANQ\"><span class=\"txtu hbo\">אֱלֹהִ֖ים </span></a></div></div></div></div><div class=\"contnr c1  rtl  \" ><div class=\"children hor wrap rtl\"><div class=\"contnr c0 trm rtl  \" ><div class=\"lbl c0 trm \" ><a class=\" txtu hbo\" target=\"_blank\" href=\"https://shebanq.ancient-data.org/hebrew/word?version=c&amp;id=1B\" title=\"Show this on SHEBANQ\"><span class=\"txtu hbo\">בִּ</span></a></div></div><div class=\"contnr c0 trm rtl  \" ><div class=\"lbl c0 trm \" ><a class=\" txtu hbo\" target=\"_blank\" href=\"https://shebanq.ancient-data.org/hebrew/word?version=c&amp;id=1RQJOn\" title=\"Show this on SHEBANQ\"><span class=\"txtu hbo\">רְקִ֣יעַ </span></a></div></div><div class=\"contnr c0 trm rtl  \" ><div class=\"lbl c0 trm \" ><a class=\" txtu hbo\" target=\"_blank\" href=\"https://shebanq.ancient-data.org/hebrew/word?version=c&amp;id=1H\" title=\"Show this on SHEBANQ\"><span class=\"txtu hbo\">הַ</span></a></div></div><div class=\"contnr c0 trm rtl  \" ><div class=\"lbl c0 trm \" ><a class=\" txtu hbo\" target=\"_blank\" href=\"https://shebanq.ancient-data.org/hebrew/word?version=c&amp;id=1CMJMn\" title=\"Show this on SHEBANQ\"><span class=\"txtu hbo\">שָּׁמָ֑יִם </span></a></div></div></div></div></div></div><div class=\"contnr c2  rtl  \" ><div class=\"children hor wrap rtl\"><div class=\"contnr c1  rtl  \" ><div class=\"children hor wrap rtl\"><div class=\"contnr c0 trm rtl  \" ><div class=\"lbl c0 trm \" ><a class=\" txtu hbo\" target=\"_blank\" href=\"https://shebanq.ancient-data.org/hebrew/word?version=c&amp;id=1L\" title=\"Show this on SHEBANQ\"><span class=\"txtu hbo\">לְ</span></a></div></div><div class=\"contnr c0 trm rtl  \" ><div class=\"lbl c0 trm \" ><a class=\" txtu hbo\" target=\"_blank\" href=\"https://shebanq.ancient-data.org/hebrew/word?version=c&amp;id=1AWRv\" title=\"Show this on SHEBANQ\"><span class=\"txtu hbo\">הָאִ֖יר </span></a></div></div></div></div><div class=\"contnr c1  rtl  \" ><div class=\"children hor wrap rtl\"><div class=\"contnr c0 trm rtl  \" ><div class=\"lbl c0 trm \" ><a class=\" txtu hbo\" target=\"_blank\" href=\"https://shebanq.ancient-data.org/hebrew/word?version=c&amp;id=1OL\" title=\"Show this on SHEBANQ\"><span class=\"txtu hbo\">עַל־</span></a></div></div><div class=\"contnr c0 trm rtl  \" ><div class=\"lbl c0 trm \" ><a class=\" txtu hbo\" target=\"_blank\" href=\"https://shebanq.ancient-data.org/hebrew/word?version=c&amp;id=1H\" title=\"Show this on SHEBANQ\"><span class=\"txtu hbo\">הָ</span></a></div></div><div class=\"contnr c0 trm rtl  \" ><div class=\"lbl c0 trm \" ><a class=\" txtu hbo\" target=\"_blank\" href=\"https://shebanq.ancient-data.org/hebrew/word?version=c&amp;id=1ARYn\" title=\"Show this on SHEBANQ\"><span class=\"txtu hbo\">אָֽרֶץ׃ </span></a></div></div></div></div></div></div></div></div></div></div></div>"
      ],
      "text/plain": [
       "<IPython.core.display.HTML object>"
      ]
     },
     "metadata": {},
     "output_type": "display_data"
    }
   ],
   "source": [
    "A.pretty(verse2, prettyTypes=False)"
   ]
  },
  {
   "cell_type": "markdown",
   "metadata": {},
   "source": [
    "We put in the features (again) and also add node numbers:"
   ]
  },
  {
   "cell_type": "code",
   "execution_count": 26,
   "metadata": {},
   "outputs": [
    {
     "data": {
      "text/html": [
       "<div class=\"section rtl\"><a target=\"_blank\" href=\"https://shebanq.ancient-data.org/hebrew/text?book=Genesis&amp;chapter=1&amp;verse=17&amp;version=c&amp;mr=m&amp;qw=q&amp;tp=txt_p&amp;tr=hb&amp;wget=v&amp;qget=v&amp;nget=vt\" title=\"Show this on SHEBANQ\" sec=\"Genesis 1:17\">Genesis 1:17</a></div><div class=\"rtl children\"><div class=\"contnr c3  rtl  \" ><div class=\"lbl c3  \" ><span class=\"nd\">verse:1414370</span></div><div class=\"children hor wrap rtl\"><div class=\"contnr c2  rtl lno \" ><div class=\"lbl c2  \" ><span class=\"nd\">sentence:1172335</span> <span class=\"\"><span title=\"number\">46</span></span></div><div class=\"children hor wrap rtl\"><div class=\"contnr c2  rtl  \" ><div class=\"lbl c2  \" ><span class=\"nd\">clause:427611</span> <span class=\"\"><span title=\"typ\">WayX</span> <span title=\"rela\">NA</span></span></div><div class=\"children hor wrap rtl\"><div class=\"contnr c1  rtl  \" ><div class=\"lbl c1  \" ><span class=\"nd\">phrase:651720</span> <span class=\"\"><span title=\"typ\">CP</span> <span title=\"function\">Conj</span></span></div><div class=\"children hor wrap rtl\"><div class=\"contnr c0 trm rtl  \" ><div class=\"lbl c0 trm \" ><span class=\"nd\">314</span> <a class=\" txtu hbo\" target=\"_blank\" href=\"https://shebanq.ancient-data.org/hebrew/word?version=c&amp;id=1W\" title=\"Show this on SHEBANQ\"><span class=\"txtu hbo\">וַ</span></a></div><div class='features'><span class=\"gloss \" title=\"gloss\">and</span><span class=\"pdp \" ><span class=\"f\">pdp=</span>conj</span></div></div></div></div><div class=\"contnr c1  rtl  \" ><div class=\"lbl c1  \" ><span class=\"nd\">phrase:651721</span> <span class=\"\"><span title=\"typ\">VP</span> <span title=\"function\">Pred</span></span></div><div class=\"children hor wrap rtl\"><div class=\"contnr c0 trm rtl  \" ><div class=\"lbl c0 trm \" ><span class=\"nd\">315</span> <a class=\" txtu hbo\" target=\"_blank\" href=\"https://shebanq.ancient-data.org/hebrew/word?version=c&amp;id=1NTNv\" title=\"Show this on SHEBANQ\"><span class=\"txtu hbo\">יִּתֵּ֥ן </span></a></div><div class='features'><span class=\"gloss \" title=\"gloss\">give</span><span class=\"pdp \" ><span class=\"f\">pdp=</span>verb</span><span class=\"vs \" ><span class=\"f\">vs=</span>qal</span><span class=\"vt \" ><span class=\"f\">vt=</span>wayq</span></div></div></div></div><div class=\"contnr c1  rtl  \" ><div class=\"lbl c1  \" ><span class=\"nd\">phrase:651722</span> <span class=\"\"><span title=\"typ\">PP</span> <span title=\"function\">Objc</span></span></div><div class=\"children hor wrap rtl\"><div class=\"contnr c0 trm rtl  \" ><div class=\"lbl c0 trm \" ><span class=\"nd\">316</span> <a class=\" txtu hbo\" target=\"_blank\" href=\"https://shebanq.ancient-data.org/hebrew/word?version=c&amp;id=1AT\" title=\"Show this on SHEBANQ\"><span class=\"txtu hbo\">אֹתָ֛ם </span></a></div><div class='features'><span class=\"gloss \" title=\"gloss\">&lt;object marker></span><span class=\"pdp \" ><span class=\"f\">pdp=</span>prep</span></div></div></div></div><div class=\"contnr c1  rtl  \" ><div class=\"lbl c1  \" ><span class=\"nd\">phrase:651723</span> <span class=\"\"><span title=\"typ\">NP</span> <span title=\"function\">Subj</span></span></div><div class=\"children hor wrap rtl\"><div class=\"contnr c0 trm rtl  \" ><div class=\"lbl c0 trm \" ><span class=\"nd\">317</span> <a class=\" txtu hbo\" target=\"_blank\" href=\"https://shebanq.ancient-data.org/hebrew/word?version=c&amp;id=1ALHJMn\" title=\"Show this on SHEBANQ\"><span class=\"txtu hbo\">אֱלֹהִ֖ים </span></a></div><div class='features'><span class=\"gloss \" title=\"gloss\">god(s)</span><span class=\"pdp \" ><span class=\"f\">pdp=</span>subs</span></div></div></div></div><div class=\"contnr c1  rtl  \" ><div class=\"lbl c1  \" ><span class=\"nd\">phrase:651724</span> <span class=\"\"><span title=\"typ\">PP</span> <span title=\"function\">Cmpl</span></span></div><div class=\"children hor wrap rtl\"><div class=\"contnr c0 trm rtl  \" ><div class=\"lbl c0 trm \" ><span class=\"nd\">318</span> <a class=\" txtu hbo\" target=\"_blank\" href=\"https://shebanq.ancient-data.org/hebrew/word?version=c&amp;id=1B\" title=\"Show this on SHEBANQ\"><span class=\"txtu hbo\">בִּ</span></a></div><div class='features'><span class=\"gloss \" title=\"gloss\">in</span><span class=\"pdp \" ><span class=\"f\">pdp=</span>prep</span></div></div><div class=\"contnr c0 trm rtl  \" ><div class=\"lbl c0 trm \" ><span class=\"nd\">319</span> <a class=\" txtu hbo\" target=\"_blank\" href=\"https://shebanq.ancient-data.org/hebrew/word?version=c&amp;id=1RQJOn\" title=\"Show this on SHEBANQ\"><span class=\"txtu hbo\">רְקִ֣יעַ </span></a></div><div class='features'><span class=\"gloss \" title=\"gloss\">firmament</span><span class=\"pdp \" ><span class=\"f\">pdp=</span>subs</span></div></div><div class=\"contnr c0 trm rtl  \" ><div class=\"lbl c0 trm \" ><span class=\"nd\">320</span> <a class=\" txtu hbo\" target=\"_blank\" href=\"https://shebanq.ancient-data.org/hebrew/word?version=c&amp;id=1H\" title=\"Show this on SHEBANQ\"><span class=\"txtu hbo\">הַ</span></a></div><div class='features'><span class=\"gloss \" title=\"gloss\">the</span><span class=\"pdp \" ><span class=\"f\">pdp=</span>art</span></div></div><div class=\"contnr c0 trm rtl  \" ><div class=\"lbl c0 trm \" ><span class=\"nd\">321</span> <a class=\" txtu hbo\" target=\"_blank\" href=\"https://shebanq.ancient-data.org/hebrew/word?version=c&amp;id=1CMJMn\" title=\"Show this on SHEBANQ\"><span class=\"txtu hbo\">שָּׁמָ֑יִם </span></a></div><div class='features'><span class=\"gloss \" title=\"gloss\">heavens</span><span class=\"pdp \" ><span class=\"f\">pdp=</span>subs</span></div></div></div></div></div></div><div class=\"contnr c2  rtl  \" ><div class=\"lbl c2  \" ><span class=\"nd\">clause:427612</span> <span class=\"\"><span title=\"typ\">InfC</span> <span title=\"rela\">Adju</span></span></div><div class=\"children hor wrap rtl\"><div class=\"contnr c1  rtl  \" ><div class=\"lbl c1  \" ><span class=\"nd\">phrase:651725</span> <span class=\"\"><span title=\"typ\">VP</span> <span title=\"function\">Pred</span></span></div><div class=\"children hor wrap rtl\"><div class=\"contnr c0 trm rtl  \" ><div class=\"lbl c0 trm \" ><span class=\"nd\">322</span> <a class=\" txtu hbo\" target=\"_blank\" href=\"https://shebanq.ancient-data.org/hebrew/word?version=c&amp;id=1L\" title=\"Show this on SHEBANQ\"><span class=\"txtu hbo\">לְ</span></a></div><div class='features'><span class=\"gloss \" title=\"gloss\">to</span><span class=\"pdp \" ><span class=\"f\">pdp=</span>prep</span></div></div><div class=\"contnr c0 trm rtl  \" ><div class=\"lbl c0 trm \" ><span class=\"nd\">323</span> <a class=\" txtu hbo\" target=\"_blank\" href=\"https://shebanq.ancient-data.org/hebrew/word?version=c&amp;id=1AWRv\" title=\"Show this on SHEBANQ\"><span class=\"txtu hbo\">הָאִ֖יר </span></a></div><div class='features'><span class=\"gloss \" title=\"gloss\">be light</span><span class=\"pdp \" ><span class=\"f\">pdp=</span>verb</span><span class=\"vs \" ><span class=\"f\">vs=</span>hif</span><span class=\"vt \" ><span class=\"f\">vt=</span>infc</span></div></div></div></div><div class=\"contnr c1  rtl  \" ><div class=\"lbl c1  \" ><span class=\"nd\">phrase:651726</span> <span class=\"\"><span title=\"typ\">PP</span> <span title=\"function\">Cmpl</span></span></div><div class=\"children hor wrap rtl\"><div class=\"contnr c0 trm rtl  \" ><div class=\"lbl c0 trm \" ><span class=\"nd\">324</span> <a class=\" txtu hbo\" target=\"_blank\" href=\"https://shebanq.ancient-data.org/hebrew/word?version=c&amp;id=1OL\" title=\"Show this on SHEBANQ\"><span class=\"txtu hbo\">עַל־</span></a></div><div class='features'><span class=\"gloss \" title=\"gloss\">upon</span><span class=\"pdp \" ><span class=\"f\">pdp=</span>prep</span></div></div><div class=\"contnr c0 trm rtl  \" ><div class=\"lbl c0 trm \" ><span class=\"nd\">325</span> <a class=\" txtu hbo\" target=\"_blank\" href=\"https://shebanq.ancient-data.org/hebrew/word?version=c&amp;id=1H\" title=\"Show this on SHEBANQ\"><span class=\"txtu hbo\">הָ</span></a></div><div class='features'><span class=\"gloss \" title=\"gloss\">the</span><span class=\"pdp \" ><span class=\"f\">pdp=</span>art</span></div></div><div class=\"contnr c0 trm rtl  \" ><div class=\"lbl c0 trm \" ><span class=\"nd\">326</span> <a class=\" txtu hbo\" target=\"_blank\" href=\"https://shebanq.ancient-data.org/hebrew/word?version=c&amp;id=1ARYn\" title=\"Show this on SHEBANQ\"><span class=\"txtu hbo\">אָֽרֶץ׃ </span></a></div><div class='features'><span class=\"gloss \" title=\"gloss\">earth</span><span class=\"pdp \" ><span class=\"f\">pdp=</span>subs</span></div></div></div></div></div></div></div></div></div></div></div>"
      ],
      "text/plain": [
       "<IPython.core.display.HTML object>"
      ]
     },
     "metadata": {},
     "output_type": "display_data"
    }
   ],
   "source": [
    "A.pretty(verse2, withNodes=True, standardFeatures=True)"
   ]
  },
  {
   "cell_type": "markdown",
   "metadata": {},
   "source": [
    "Now we selectively remove a few features from the display:"
   ]
  },
  {
   "cell_type": "code",
   "execution_count": 27,
   "metadata": {
    "ExecuteTime": {
     "end_time": "2018-04-25T13:58:07.808474Z",
     "start_time": "2018-04-25T13:58:07.784567Z"
    }
   },
   "outputs": [
    {
     "data": {
      "text/html": [
       "<div class=\"section rtl\"><a target=\"_blank\" href=\"https://shebanq.ancient-data.org/hebrew/text?book=Genesis&amp;chapter=1&amp;verse=17&amp;version=c&amp;mr=m&amp;qw=q&amp;tp=txt_p&amp;tr=hb&amp;wget=v&amp;qget=v&amp;nget=vt\" title=\"Show this on SHEBANQ\" sec=\"Genesis 1:17\">Genesis 1:17</a></div><div class=\"rtl children\"><div class=\"contnr c3  rtl  \" ><div class=\"lbl c3  \" ><span class=\"nd\">verse</span></div><div class=\"children hor wrap rtl\"><div class=\"contnr c2  rtl lno \" ><div class=\"lbl c2  \" ><span class=\"nd\">sentence</span> <span class=\"\"><span title=\"number\">46</span></span></div><div class=\"children hor wrap rtl\"><div class=\"contnr c2  rtl  \" ><div class=\"lbl c2  \" ><span class=\"nd\">clause</span> <span class=\"\"><span title=\"typ\"></span> <span title=\"rela\">NA</span></span></div><div class=\"children hor wrap rtl\"><div class=\"contnr c1  rtl  \" ><div class=\"lbl c1  \" ><span class=\"nd\">phrase</span> <span class=\"\"><span title=\"typ\"></span> <span title=\"function\">Conj</span></span></div><div class=\"children hor wrap rtl\"><div class=\"contnr c0 trm rtl  \" ><div class=\"lbl c0 trm \" ><a class=\" txtu hbo\" target=\"_blank\" href=\"https://shebanq.ancient-data.org/hebrew/word?version=c&amp;id=1W\" title=\"Show this on SHEBANQ\"><span class=\"txtu hbo\">וַ</span></a></div><div class='features'><span class=\"pdp \" ><span class=\"f\">pdp=</span>conj</span></div></div></div></div><div class=\"contnr c1  rtl  \" ><div class=\"lbl c1  \" ><span class=\"nd\">phrase</span> <span class=\"\"><span title=\"typ\"></span> <span title=\"function\">Pred</span></span></div><div class=\"children hor wrap rtl\"><div class=\"contnr c0 trm rtl  \" ><div class=\"lbl c0 trm \" ><a class=\" txtu hbo\" target=\"_blank\" href=\"https://shebanq.ancient-data.org/hebrew/word?version=c&amp;id=1NTNv\" title=\"Show this on SHEBANQ\"><span class=\"txtu hbo\">יִּתֵּ֥ן </span></a></div><div class='features'><span class=\"pdp \" ><span class=\"f\">pdp=</span>verb</span><span class=\"vs \" ><span class=\"f\">vs=</span>qal</span><span class=\"vt \" ><span class=\"f\">vt=</span>wayq</span></div></div></div></div><div class=\"contnr c1  rtl  \" ><div class=\"lbl c1  \" ><span class=\"nd\">phrase</span> <span class=\"\"><span title=\"typ\"></span> <span title=\"function\">Objc</span></span></div><div class=\"children hor wrap rtl\"><div class=\"contnr c0 trm rtl  \" ><div class=\"lbl c0 trm \" ><a class=\" txtu hbo\" target=\"_blank\" href=\"https://shebanq.ancient-data.org/hebrew/word?version=c&amp;id=1AT\" title=\"Show this on SHEBANQ\"><span class=\"txtu hbo\">אֹתָ֛ם </span></a></div><div class='features'><span class=\"pdp \" ><span class=\"f\">pdp=</span>prep</span></div></div></div></div><div class=\"contnr c1  rtl  \" ><div class=\"lbl c1  \" ><span class=\"nd\">phrase</span> <span class=\"\"><span title=\"typ\"></span> <span title=\"function\">Subj</span></span></div><div class=\"children hor wrap rtl\"><div class=\"contnr c0 trm rtl  \" ><div class=\"lbl c0 trm \" ><a class=\" txtu hbo\" target=\"_blank\" href=\"https://shebanq.ancient-data.org/hebrew/word?version=c&amp;id=1ALHJMn\" title=\"Show this on SHEBANQ\"><span class=\"txtu hbo\">אֱלֹהִ֖ים </span></a></div><div class='features'><span class=\"pdp \" ><span class=\"f\">pdp=</span>subs</span></div></div></div></div><div class=\"contnr c1  rtl  \" ><div class=\"lbl c1  \" ><span class=\"nd\">phrase</span> <span class=\"\"><span title=\"typ\"></span> <span title=\"function\">Cmpl</span></span></div><div class=\"children hor wrap rtl\"><div class=\"contnr c0 trm rtl  \" ><div class=\"lbl c0 trm \" ><a class=\" txtu hbo\" target=\"_blank\" href=\"https://shebanq.ancient-data.org/hebrew/word?version=c&amp;id=1B\" title=\"Show this on SHEBANQ\"><span class=\"txtu hbo\">בִּ</span></a></div><div class='features'><span class=\"pdp \" ><span class=\"f\">pdp=</span>prep</span></div></div><div class=\"contnr c0 trm rtl  \" ><div class=\"lbl c0 trm \" ><a class=\" txtu hbo\" target=\"_blank\" href=\"https://shebanq.ancient-data.org/hebrew/word?version=c&amp;id=1RQJOn\" title=\"Show this on SHEBANQ\"><span class=\"txtu hbo\">רְקִ֣יעַ </span></a></div><div class='features'><span class=\"pdp \" ><span class=\"f\">pdp=</span>subs</span></div></div><div class=\"contnr c0 trm rtl  \" ><div class=\"lbl c0 trm \" ><a class=\" txtu hbo\" target=\"_blank\" href=\"https://shebanq.ancient-data.org/hebrew/word?version=c&amp;id=1H\" title=\"Show this on SHEBANQ\"><span class=\"txtu hbo\">הַ</span></a></div><div class='features'><span class=\"pdp \" ><span class=\"f\">pdp=</span>art</span></div></div><div class=\"contnr c0 trm rtl  \" ><div class=\"lbl c0 trm \" ><a class=\" txtu hbo\" target=\"_blank\" href=\"https://shebanq.ancient-data.org/hebrew/word?version=c&amp;id=1CMJMn\" title=\"Show this on SHEBANQ\"><span class=\"txtu hbo\">שָּׁמָ֑יִם </span></a></div><div class='features'><span class=\"pdp \" ><span class=\"f\">pdp=</span>subs</span></div></div></div></div></div></div><div class=\"contnr c2  rtl  \" ><div class=\"lbl c2  \" ><span class=\"nd\">clause</span> <span class=\"\"><span title=\"typ\"></span> <span title=\"rela\">Adju</span></span></div><div class=\"children hor wrap rtl\"><div class=\"contnr c1  rtl  \" ><div class=\"lbl c1  \" ><span class=\"nd\">phrase</span> <span class=\"\"><span title=\"typ\"></span> <span title=\"function\">Pred</span></span></div><div class=\"children hor wrap rtl\"><div class=\"contnr c0 trm rtl  \" ><div class=\"lbl c0 trm \" ><a class=\" txtu hbo\" target=\"_blank\" href=\"https://shebanq.ancient-data.org/hebrew/word?version=c&amp;id=1L\" title=\"Show this on SHEBANQ\"><span class=\"txtu hbo\">לְ</span></a></div><div class='features'><span class=\"pdp \" ><span class=\"f\">pdp=</span>prep</span></div></div><div class=\"contnr c0 trm rtl  \" ><div class=\"lbl c0 trm \" ><a class=\" txtu hbo\" target=\"_blank\" href=\"https://shebanq.ancient-data.org/hebrew/word?version=c&amp;id=1AWRv\" title=\"Show this on SHEBANQ\"><span class=\"txtu hbo\">הָאִ֖יר </span></a></div><div class='features'><span class=\"pdp \" ><span class=\"f\">pdp=</span>verb</span><span class=\"vs \" ><span class=\"f\">vs=</span>hif</span><span class=\"vt \" ><span class=\"f\">vt=</span>infc</span></div></div></div></div><div class=\"contnr c1  rtl  \" ><div class=\"lbl c1  \" ><span class=\"nd\">phrase</span> <span class=\"\"><span title=\"typ\"></span> <span title=\"function\">Cmpl</span></span></div><div class=\"children hor wrap rtl\"><div class=\"contnr c0 trm rtl  \" ><div class=\"lbl c0 trm \" ><a class=\" txtu hbo\" target=\"_blank\" href=\"https://shebanq.ancient-data.org/hebrew/word?version=c&amp;id=1OL\" title=\"Show this on SHEBANQ\"><span class=\"txtu hbo\">עַל־</span></a></div><div class='features'><span class=\"pdp \" ><span class=\"f\">pdp=</span>prep</span></div></div><div class=\"contnr c0 trm rtl  \" ><div class=\"lbl c0 trm \" ><a class=\" txtu hbo\" target=\"_blank\" href=\"https://shebanq.ancient-data.org/hebrew/word?version=c&amp;id=1H\" title=\"Show this on SHEBANQ\"><span class=\"txtu hbo\">הָ</span></a></div><div class='features'><span class=\"pdp \" ><span class=\"f\">pdp=</span>art</span></div></div><div class=\"contnr c0 trm rtl  \" ><div class=\"lbl c0 trm \" ><a class=\" txtu hbo\" target=\"_blank\" href=\"https://shebanq.ancient-data.org/hebrew/word?version=c&amp;id=1ARYn\" title=\"Show this on SHEBANQ\"><span class=\"txtu hbo\">אָֽרֶץ׃ </span></a></div><div class='features'><span class=\"pdp \" ><span class=\"f\">pdp=</span>subs</span></div></div></div></div></div></div></div></div></div></div></div>"
      ],
      "text/plain": [
       "<IPython.core.display.HTML object>"
      ]
     },
     "metadata": {},
     "output_type": "display_data"
    }
   ],
   "source": [
    "A.pretty(verse2, standardFeatures=True, suppress={\"gloss\", \"typ\"})"
   ]
  },
  {
   "cell_type": "markdown",
   "metadata": {},
   "source": [
    "Now we add features to the display: `lex` and `g_word` :"
   ]
  },
  {
   "cell_type": "code",
   "execution_count": 28,
   "metadata": {},
   "outputs": [],
   "source": [
    "A.displaySetup(extraFeatures=[\"lex\", \"g_word\"], standardFeatures=True)"
   ]
  },
  {
   "cell_type": "markdown",
   "metadata": {},
   "source": [
    "We also made `standardFeatures=True)` the temporary default."
   ]
  },
  {
   "cell_type": "code",
   "execution_count": 29,
   "metadata": {},
   "outputs": [
    {
     "data": {
      "text/html": [
       "<div class=\"section rtl\"><a target=\"_blank\" href=\"https://shebanq.ancient-data.org/hebrew/text?book=Genesis&amp;chapter=1&amp;verse=17&amp;version=c&amp;mr=m&amp;qw=q&amp;tp=txt_p&amp;tr=hb&amp;wget=v&amp;qget=v&amp;nget=vt\" title=\"Show this on SHEBANQ\" sec=\"Genesis 1:17\">Genesis 1:17</a></div><div class=\"rtl children\"><div class=\"contnr c3  rtl  \" ><div class=\"lbl c3  \" ><span class=\"nd\">verse</span></div><div class=\"children hor wrap rtl\"><div class=\"contnr c2  rtl lno \" ><div class=\"lbl c2  \" ><span class=\"nd\">sentence</span> <span class=\"\"><span title=\"number\">46</span></span></div><div class=\"children hor wrap rtl\"><div class=\"contnr c2  rtl  \" ><div class=\"lbl c2  \" ><span class=\"nd\">clause</span> <span class=\"\"><span title=\"typ\">WayX</span> <span title=\"rela\">NA</span></span></div><div class=\"children hor wrap rtl\"><div class=\"contnr c1  rtl  \" ><div class=\"lbl c1  \" ><span class=\"nd\">phrase</span> <span class=\"\"><span title=\"typ\">CP</span> <span title=\"function\">Conj</span></span></div><div class=\"children hor wrap rtl\"><div class=\"contnr c0 trm rtl  \" ><div class=\"lbl c0 trm \" ><a class=\" txtu hbo\" target=\"_blank\" href=\"https://shebanq.ancient-data.org/hebrew/word?version=c&amp;id=1W\" title=\"Show this on SHEBANQ\"><span class=\"txtu hbo\">וַ</span></a></div><div class='features'><span class=\"gloss \" title=\"gloss\">and</span><span class=\"pdp \" ><span class=\"f\">pdp=</span>conj</span><span class=\"g_word xft\" ><span class=\"f\">g_word=</span>WA-</span><span class=\"lex xft\" ><span class=\"f\">lex=</span>W</span></div></div></div></div><div class=\"contnr c1  rtl  \" ><div class=\"lbl c1  \" ><span class=\"nd\">phrase</span> <span class=\"\"><span title=\"typ\">VP</span> <span title=\"function\">Pred</span></span></div><div class=\"children hor wrap rtl\"><div class=\"contnr c0 trm rtl  \" ><div class=\"lbl c0 trm \" ><a class=\" txtu hbo\" target=\"_blank\" href=\"https://shebanq.ancient-data.org/hebrew/word?version=c&amp;id=1NTNv\" title=\"Show this on SHEBANQ\"><span class=\"txtu hbo\">יִּתֵּ֥ן </span></a></div><div class='features'><span class=\"gloss \" title=\"gloss\">give</span><span class=\"pdp \" ><span class=\"f\">pdp=</span>verb</span><span class=\"vs \" ><span class=\"f\">vs=</span>qal</span><span class=\"vt \" ><span class=\"f\">vt=</span>wayq</span><span class=\"g_word xft\" ><span class=\"f\">g_word=</span>J.IT.;71N</span><span class=\"lex xft\" ><span class=\"f\">lex=</span>NTN[</span></div></div></div></div><div class=\"contnr c1  rtl  \" ><div class=\"lbl c1  \" ><span class=\"nd\">phrase</span> <span class=\"\"><span title=\"typ\">PP</span> <span title=\"function\">Objc</span></span></div><div class=\"children hor wrap rtl\"><div class=\"contnr c0 trm rtl  \" ><div class=\"lbl c0 trm \" ><a class=\" txtu hbo\" target=\"_blank\" href=\"https://shebanq.ancient-data.org/hebrew/word?version=c&amp;id=1AT\" title=\"Show this on SHEBANQ\"><span class=\"txtu hbo\">אֹתָ֛ם </span></a></div><div class='features'><span class=\"gloss \" title=\"gloss\">&lt;object marker></span><span class=\"pdp \" ><span class=\"f\">pdp=</span>prep</span><span class=\"g_word xft\" ><span class=\"f\">g_word=</span>>OT@91M</span><span class=\"lex xft\" ><span class=\"f\">lex=</span>>T</span></div></div></div></div><div class=\"contnr c1  rtl  \" ><div class=\"lbl c1  \" ><span class=\"nd\">phrase</span> <span class=\"\"><span title=\"typ\">NP</span> <span title=\"function\">Subj</span></span></div><div class=\"children hor wrap rtl\"><div class=\"contnr c0 trm rtl  \" ><div class=\"lbl c0 trm \" ><a class=\" txtu hbo\" target=\"_blank\" href=\"https://shebanq.ancient-data.org/hebrew/word?version=c&amp;id=1ALHJMn\" title=\"Show this on SHEBANQ\"><span class=\"txtu hbo\">אֱלֹהִ֖ים </span></a></div><div class='features'><span class=\"gloss \" title=\"gloss\">god(s)</span><span class=\"pdp \" ><span class=\"f\">pdp=</span>subs</span><span class=\"g_word xft\" ><span class=\"f\">g_word=</span>>:ELOHI73JM</span><span class=\"lex xft\" ><span class=\"f\">lex=</span>>LHJM/</span></div></div></div></div><div class=\"contnr c1  rtl  \" ><div class=\"lbl c1  \" ><span class=\"nd\">phrase</span> <span class=\"\"><span title=\"typ\">PP</span> <span title=\"function\">Cmpl</span></span></div><div class=\"children hor wrap rtl\"><div class=\"contnr c0 trm rtl  \" ><div class=\"lbl c0 trm \" ><a class=\" txtu hbo\" target=\"_blank\" href=\"https://shebanq.ancient-data.org/hebrew/word?version=c&amp;id=1B\" title=\"Show this on SHEBANQ\"><span class=\"txtu hbo\">בִּ</span></a></div><div class='features'><span class=\"gloss \" title=\"gloss\">in</span><span class=\"pdp \" ><span class=\"f\">pdp=</span>prep</span><span class=\"g_word xft\" ><span class=\"f\">g_word=</span>B.I-</span><span class=\"lex xft\" ><span class=\"f\">lex=</span>B</span></div></div><div class=\"contnr c0 trm rtl  \" ><div class=\"lbl c0 trm \" ><a class=\" txtu hbo\" target=\"_blank\" href=\"https://shebanq.ancient-data.org/hebrew/word?version=c&amp;id=1RQJOn\" title=\"Show this on SHEBANQ\"><span class=\"txtu hbo\">רְקִ֣יעַ </span></a></div><div class='features'><span class=\"gloss \" title=\"gloss\">firmament</span><span class=\"pdp \" ><span class=\"f\">pdp=</span>subs</span><span class=\"g_word xft\" ><span class=\"f\">g_word=</span>R:QI74J&lt;A</span><span class=\"lex xft\" ><span class=\"f\">lex=</span>RQJ&lt;/</span></div></div><div class=\"contnr c0 trm rtl  \" ><div class=\"lbl c0 trm \" ><a class=\" txtu hbo\" target=\"_blank\" href=\"https://shebanq.ancient-data.org/hebrew/word?version=c&amp;id=1H\" title=\"Show this on SHEBANQ\"><span class=\"txtu hbo\">הַ</span></a></div><div class='features'><span class=\"gloss \" title=\"gloss\">the</span><span class=\"pdp \" ><span class=\"f\">pdp=</span>art</span><span class=\"g_word xft\" ><span class=\"f\">g_word=</span>HA-</span><span class=\"lex xft\" ><span class=\"f\">lex=</span>H</span></div></div><div class=\"contnr c0 trm rtl  \" ><div class=\"lbl c0 trm \" ><a class=\" txtu hbo\" target=\"_blank\" href=\"https://shebanq.ancient-data.org/hebrew/word?version=c&amp;id=1CMJMn\" title=\"Show this on SHEBANQ\"><span class=\"txtu hbo\">שָּׁמָ֑יִם </span></a></div><div class='features'><span class=\"gloss \" title=\"gloss\">heavens</span><span class=\"pdp \" ><span class=\"f\">pdp=</span>subs</span><span class=\"g_word xft\" ><span class=\"f\">g_word=</span>C.@M@92JIM</span><span class=\"lex xft\" ><span class=\"f\">lex=</span>CMJM/</span></div></div></div></div></div></div><div class=\"contnr c2  rtl  \" ><div class=\"lbl c2  \" ><span class=\"nd\">clause</span> <span class=\"\"><span title=\"typ\">InfC</span> <span title=\"rela\">Adju</span></span></div><div class=\"children hor wrap rtl\"><div class=\"contnr c1  rtl  \" ><div class=\"lbl c1  \" ><span class=\"nd\">phrase</span> <span class=\"\"><span title=\"typ\">VP</span> <span title=\"function\">Pred</span></span></div><div class=\"children hor wrap rtl\"><div class=\"contnr c0 trm rtl  \" ><div class=\"lbl c0 trm \" ><a class=\" txtu hbo\" target=\"_blank\" href=\"https://shebanq.ancient-data.org/hebrew/word?version=c&amp;id=1L\" title=\"Show this on SHEBANQ\"><span class=\"txtu hbo\">לְ</span></a></div><div class='features'><span class=\"gloss \" title=\"gloss\">to</span><span class=\"pdp \" ><span class=\"f\">pdp=</span>prep</span><span class=\"g_word xft\" ><span class=\"f\">g_word=</span>L:-</span><span class=\"lex xft\" ><span class=\"f\">lex=</span>L</span></div></div><div class=\"contnr c0 trm rtl  \" ><div class=\"lbl c0 trm \" ><a class=\" txtu hbo\" target=\"_blank\" href=\"https://shebanq.ancient-data.org/hebrew/word?version=c&amp;id=1AWRv\" title=\"Show this on SHEBANQ\"><span class=\"txtu hbo\">הָאִ֖יר </span></a></div><div class='features'><span class=\"gloss \" title=\"gloss\">be light</span><span class=\"pdp \" ><span class=\"f\">pdp=</span>verb</span><span class=\"vs \" ><span class=\"f\">vs=</span>hif</span><span class=\"vt \" ><span class=\"f\">vt=</span>infc</span><span class=\"g_word xft\" ><span class=\"f\">g_word=</span>H@>I73JR</span><span class=\"lex xft\" ><span class=\"f\">lex=</span>>WR[</span></div></div></div></div><div class=\"contnr c1  rtl  \" ><div class=\"lbl c1  \" ><span class=\"nd\">phrase</span> <span class=\"\"><span title=\"typ\">PP</span> <span title=\"function\">Cmpl</span></span></div><div class=\"children hor wrap rtl\"><div class=\"contnr c0 trm rtl  \" ><div class=\"lbl c0 trm \" ><a class=\" txtu hbo\" target=\"_blank\" href=\"https://shebanq.ancient-data.org/hebrew/word?version=c&amp;id=1OL\" title=\"Show this on SHEBANQ\"><span class=\"txtu hbo\">עַל־</span></a></div><div class='features'><span class=\"gloss \" title=\"gloss\">upon</span><span class=\"pdp \" ><span class=\"f\">pdp=</span>prep</span><span class=\"g_word xft\" ><span class=\"f\">g_word=</span>&lt;AL</span><span class=\"lex xft\" ><span class=\"f\">lex=</span>&lt;L</span></div></div><div class=\"contnr c0 trm rtl  \" ><div class=\"lbl c0 trm \" ><a class=\" txtu hbo\" target=\"_blank\" href=\"https://shebanq.ancient-data.org/hebrew/word?version=c&amp;id=1H\" title=\"Show this on SHEBANQ\"><span class=\"txtu hbo\">הָ</span></a></div><div class='features'><span class=\"gloss \" title=\"gloss\">the</span><span class=\"pdp \" ><span class=\"f\">pdp=</span>art</span><span class=\"g_word xft\" ><span class=\"f\">g_word=</span>H@-</span><span class=\"lex xft\" ><span class=\"f\">lex=</span>H</span></div></div><div class=\"contnr c0 trm rtl  \" ><div class=\"lbl c0 trm \" ><a class=\" txtu hbo\" target=\"_blank\" href=\"https://shebanq.ancient-data.org/hebrew/word?version=c&amp;id=1ARYn\" title=\"Show this on SHEBANQ\"><span class=\"txtu hbo\">אָֽרֶץ׃ </span></a></div><div class='features'><span class=\"gloss \" title=\"gloss\">earth</span><span class=\"pdp \" ><span class=\"f\">pdp=</span>subs</span><span class=\"g_word xft\" ><span class=\"f\">g_word=</span>>@75REY</span><span class=\"lex xft\" ><span class=\"f\">lex=</span>>RY/</span></div></div></div></div></div></div></div></div></div></div></div>"
      ],
      "text/plain": [
       "<IPython.core.display.HTML object>"
      ]
     },
     "metadata": {},
     "output_type": "display_data"
    }
   ],
   "source": [
    "A.pretty(verse2)"
   ]
  },
  {
   "cell_type": "markdown",
   "metadata": {},
   "source": [
    "and we reset the pretty features to the default values:"
   ]
  },
  {
   "cell_type": "code",
   "execution_count": 30,
   "metadata": {},
   "outputs": [],
   "source": [
    "A.displayReset(\"extraFeatures\")"
   ]
  },
  {
   "cell_type": "code",
   "execution_count": 31,
   "metadata": {},
   "outputs": [
    {
     "data": {
      "text/html": [
       "<div class=\"section rtl\"><a target=\"_blank\" href=\"https://shebanq.ancient-data.org/hebrew/text?book=Genesis&amp;chapter=1&amp;verse=17&amp;version=c&amp;mr=m&amp;qw=q&amp;tp=txt_p&amp;tr=hb&amp;wget=v&amp;qget=v&amp;nget=vt\" title=\"Show this on SHEBANQ\" sec=\"Genesis 1:17\">Genesis 1:17</a></div><div class=\"rtl children\"><div class=\"contnr c3  rtl  \" ><div class=\"lbl c3  \" ><span class=\"nd\">verse</span></div><div class=\"children hor wrap rtl\"><div class=\"contnr c2  rtl lno \" ><div class=\"lbl c2  \" ><span class=\"nd\">sentence</span> <span class=\"\"><span title=\"number\">46</span></span></div><div class=\"children hor wrap rtl\"><div class=\"contnr c2  rtl  \" ><div class=\"lbl c2  \" ><span class=\"nd\">clause</span> <span class=\"\"><span title=\"typ\">WayX</span> <span title=\"rela\">NA</span></span></div><div class=\"children hor wrap rtl\"><div class=\"contnr c1  rtl  \" ><div class=\"lbl c1  \" ><span class=\"nd\">phrase</span> <span class=\"\"><span title=\"typ\">CP</span> <span title=\"function\">Conj</span></span></div><div class=\"children hor wrap rtl\"><div class=\"contnr c0 trm rtl  \" ><div class=\"lbl c0 trm \" ><a class=\" txtu hbo\" target=\"_blank\" href=\"https://shebanq.ancient-data.org/hebrew/word?version=c&amp;id=1W\" title=\"Show this on SHEBANQ\"><span class=\"txtu hbo\">וַ</span></a></div><div class='features'><span class=\"gloss \" title=\"gloss\">and</span><span class=\"pdp \" ><span class=\"f\">pdp=</span>conj</span></div></div></div></div><div class=\"contnr c1  rtl  \" ><div class=\"lbl c1  \" ><span class=\"nd\">phrase</span> <span class=\"\"><span title=\"typ\">VP</span> <span title=\"function\">Pred</span></span></div><div class=\"children hor wrap rtl\"><div class=\"contnr c0 trm rtl  \" ><div class=\"lbl c0 trm \" ><a class=\" txtu hbo\" target=\"_blank\" href=\"https://shebanq.ancient-data.org/hebrew/word?version=c&amp;id=1NTNv\" title=\"Show this on SHEBANQ\"><span class=\"txtu hbo\">יִּתֵּ֥ן </span></a></div><div class='features'><span class=\"gloss \" title=\"gloss\">give</span><span class=\"pdp \" ><span class=\"f\">pdp=</span>verb</span><span class=\"vs \" ><span class=\"f\">vs=</span>qal</span><span class=\"vt \" ><span class=\"f\">vt=</span>wayq</span></div></div></div></div><div class=\"contnr c1  rtl  \" ><div class=\"lbl c1  \" ><span class=\"nd\">phrase</span> <span class=\"\"><span title=\"typ\">PP</span> <span title=\"function\">Objc</span></span></div><div class=\"children hor wrap rtl\"><div class=\"contnr c0 trm rtl  \" ><div class=\"lbl c0 trm \" ><a class=\" txtu hbo\" target=\"_blank\" href=\"https://shebanq.ancient-data.org/hebrew/word?version=c&amp;id=1AT\" title=\"Show this on SHEBANQ\"><span class=\"txtu hbo\">אֹתָ֛ם </span></a></div><div class='features'><span class=\"gloss \" title=\"gloss\">&lt;object marker></span><span class=\"pdp \" ><span class=\"f\">pdp=</span>prep</span></div></div></div></div><div class=\"contnr c1  rtl  \" ><div class=\"lbl c1  \" ><span class=\"nd\">phrase</span> <span class=\"\"><span title=\"typ\">NP</span> <span title=\"function\">Subj</span></span></div><div class=\"children hor wrap rtl\"><div class=\"contnr c0 trm rtl  \" ><div class=\"lbl c0 trm \" ><a class=\" txtu hbo\" target=\"_blank\" href=\"https://shebanq.ancient-data.org/hebrew/word?version=c&amp;id=1ALHJMn\" title=\"Show this on SHEBANQ\"><span class=\"txtu hbo\">אֱלֹהִ֖ים </span></a></div><div class='features'><span class=\"gloss \" title=\"gloss\">god(s)</span><span class=\"pdp \" ><span class=\"f\">pdp=</span>subs</span></div></div></div></div><div class=\"contnr c1  rtl  \" ><div class=\"lbl c1  \" ><span class=\"nd\">phrase</span> <span class=\"\"><span title=\"typ\">PP</span> <span title=\"function\">Cmpl</span></span></div><div class=\"children hor wrap rtl\"><div class=\"contnr c0 trm rtl  \" ><div class=\"lbl c0 trm \" ><a class=\" txtu hbo\" target=\"_blank\" href=\"https://shebanq.ancient-data.org/hebrew/word?version=c&amp;id=1B\" title=\"Show this on SHEBANQ\"><span class=\"txtu hbo\">בִּ</span></a></div><div class='features'><span class=\"gloss \" title=\"gloss\">in</span><span class=\"pdp \" ><span class=\"f\">pdp=</span>prep</span></div></div><div class=\"contnr c0 trm rtl  \" ><div class=\"lbl c0 trm \" ><a class=\" txtu hbo\" target=\"_blank\" href=\"https://shebanq.ancient-data.org/hebrew/word?version=c&amp;id=1RQJOn\" title=\"Show this on SHEBANQ\"><span class=\"txtu hbo\">רְקִ֣יעַ </span></a></div><div class='features'><span class=\"gloss \" title=\"gloss\">firmament</span><span class=\"pdp \" ><span class=\"f\">pdp=</span>subs</span></div></div><div class=\"contnr c0 trm rtl  \" ><div class=\"lbl c0 trm \" ><a class=\" txtu hbo\" target=\"_blank\" href=\"https://shebanq.ancient-data.org/hebrew/word?version=c&amp;id=1H\" title=\"Show this on SHEBANQ\"><span class=\"txtu hbo\">הַ</span></a></div><div class='features'><span class=\"gloss \" title=\"gloss\">the</span><span class=\"pdp \" ><span class=\"f\">pdp=</span>art</span></div></div><div class=\"contnr c0 trm rtl  \" ><div class=\"lbl c0 trm \" ><a class=\" txtu hbo\" target=\"_blank\" href=\"https://shebanq.ancient-data.org/hebrew/word?version=c&amp;id=1CMJMn\" title=\"Show this on SHEBANQ\"><span class=\"txtu hbo\">שָּׁמָ֑יִם </span></a></div><div class='features'><span class=\"gloss \" title=\"gloss\">heavens</span><span class=\"pdp \" ><span class=\"f\">pdp=</span>subs</span></div></div></div></div></div></div><div class=\"contnr c2  rtl  \" ><div class=\"lbl c2  \" ><span class=\"nd\">clause</span> <span class=\"\"><span title=\"typ\">InfC</span> <span title=\"rela\">Adju</span></span></div><div class=\"children hor wrap rtl\"><div class=\"contnr c1  rtl  \" ><div class=\"lbl c1  \" ><span class=\"nd\">phrase</span> <span class=\"\"><span title=\"typ\">VP</span> <span title=\"function\">Pred</span></span></div><div class=\"children hor wrap rtl\"><div class=\"contnr c0 trm rtl  \" ><div class=\"lbl c0 trm \" ><a class=\" txtu hbo\" target=\"_blank\" href=\"https://shebanq.ancient-data.org/hebrew/word?version=c&amp;id=1L\" title=\"Show this on SHEBANQ\"><span class=\"txtu hbo\">לְ</span></a></div><div class='features'><span class=\"gloss \" title=\"gloss\">to</span><span class=\"pdp \" ><span class=\"f\">pdp=</span>prep</span></div></div><div class=\"contnr c0 trm rtl  \" ><div class=\"lbl c0 trm \" ><a class=\" txtu hbo\" target=\"_blank\" href=\"https://shebanq.ancient-data.org/hebrew/word?version=c&amp;id=1AWRv\" title=\"Show this on SHEBANQ\"><span class=\"txtu hbo\">הָאִ֖יר </span></a></div><div class='features'><span class=\"gloss \" title=\"gloss\">be light</span><span class=\"pdp \" ><span class=\"f\">pdp=</span>verb</span><span class=\"vs \" ><span class=\"f\">vs=</span>hif</span><span class=\"vt \" ><span class=\"f\">vt=</span>infc</span></div></div></div></div><div class=\"contnr c1  rtl  \" ><div class=\"lbl c1  \" ><span class=\"nd\">phrase</span> <span class=\"\"><span title=\"typ\">PP</span> <span title=\"function\">Cmpl</span></span></div><div class=\"children hor wrap rtl\"><div class=\"contnr c0 trm rtl  \" ><div class=\"lbl c0 trm \" ><a class=\" txtu hbo\" target=\"_blank\" href=\"https://shebanq.ancient-data.org/hebrew/word?version=c&amp;id=1OL\" title=\"Show this on SHEBANQ\"><span class=\"txtu hbo\">עַל־</span></a></div><div class='features'><span class=\"gloss \" title=\"gloss\">upon</span><span class=\"pdp \" ><span class=\"f\">pdp=</span>prep</span></div></div><div class=\"contnr c0 trm rtl  \" ><div class=\"lbl c0 trm \" ><a class=\" txtu hbo\" target=\"_blank\" href=\"https://shebanq.ancient-data.org/hebrew/word?version=c&amp;id=1H\" title=\"Show this on SHEBANQ\"><span class=\"txtu hbo\">הָ</span></a></div><div class='features'><span class=\"gloss \" title=\"gloss\">the</span><span class=\"pdp \" ><span class=\"f\">pdp=</span>art</span></div></div><div class=\"contnr c0 trm rtl  \" ><div class=\"lbl c0 trm \" ><a class=\" txtu hbo\" target=\"_blank\" href=\"https://shebanq.ancient-data.org/hebrew/word?version=c&amp;id=1ARYn\" title=\"Show this on SHEBANQ\"><span class=\"txtu hbo\">אָֽרֶץ׃ </span></a></div><div class='features'><span class=\"gloss \" title=\"gloss\">earth</span><span class=\"pdp \" ><span class=\"f\">pdp=</span>subs</span></div></div></div></div></div></div></div></div></div></div></div>"
      ],
      "text/plain": [
       "<IPython.core.display.HTML object>"
      ]
     },
     "metadata": {},
     "output_type": "display_data"
    }
   ],
   "source": [
    "A.pretty(verse2)"
   ]
  },
  {
   "cell_type": "markdown",
   "metadata": {},
   "source": [
    "We can also opt for less detail: suppose we do not want to dig deeper than the phrases:"
   ]
  },
  {
   "cell_type": "code",
   "execution_count": 32,
   "metadata": {},
   "outputs": [
    {
     "data": {
      "text/html": [
       "<div class=\"section rtl\"><a target=\"_blank\" href=\"https://shebanq.ancient-data.org/hebrew/text?book=Genesis&amp;chapter=1&amp;verse=17&amp;version=c&amp;mr=m&amp;qw=q&amp;tp=txt_p&amp;tr=hb&amp;wget=v&amp;qget=v&amp;nget=vt\" title=\"Show this on SHEBANQ\" sec=\"Genesis 1:17\">Genesis 1:17</a></div><div class=\"rtl children\"><div class=\"contnr c3  rtl  \" ><div class=\"lbl c3  \" ><span class=\"nd\">verse</span></div><div class=\"children hor wrap rtl\"><div class=\"contnr c2  rtl lno \" ><div class=\"lbl c2  \" ><span class=\"nd\">sentence</span> <span class=\"\"><span title=\"number\">46</span></span></div><div class=\"children hor wrap rtl\"><div class=\"contnr c2  rtl  \" ><div class=\"lbl c2  \" ><span class=\"nd\">clause</span> <span class=\"\"><span title=\"typ\">WayX</span> <span title=\"rela\">NA</span></span></div><div class=\"children hor wrap rtl\"><div class=\"contnr c1 trm rtl  \" ><div class=\"lbl c1 trm \" ><span class=\"nd\">phrase</span> <span class=\"\"><span class=\"plain rtl  \" ><span class=\"txtu hbo\">וַ</span></span></span></div></div><div class=\"contnr c1 trm rtl  \" ><div class=\"lbl c1 trm \" ><span class=\"nd\">phrase</span> <span class=\"\"><span class=\"plain rtl  \" ><span class=\"txtu hbo\">יִּתֵּ֥ן </span></span></span></div></div><div class=\"contnr c1 trm rtl  \" ><div class=\"lbl c1 trm \" ><span class=\"nd\">phrase</span> <span class=\"\"><span class=\"plain rtl  \" ><span class=\"txtu hbo\">אֹתָ֛ם </span></span></span></div></div><div class=\"contnr c1 trm rtl  \" ><div class=\"lbl c1 trm \" ><span class=\"nd\">phrase</span> <span class=\"\"><span class=\"plain rtl  \" ><span class=\"txtu hbo\">אֱלֹהִ֖ים </span></span></span></div></div><div class=\"contnr c1 trm rtl  \" ><div class=\"lbl c1 trm \" ><span class=\"nd\">phrase</span> <span class=\"\"><span class=\"plain rtl  \" ><span class=\"txtu hbo\">בִּ</span><span class=\"txtu hbo\">רְקִ֣יעַ </span><span class=\"txtu hbo\">הַ</span><span class=\"txtu hbo\">שָּׁמָ֑יִם </span></span></span></div></div></div></div><div class=\"contnr c2  rtl  \" ><div class=\"lbl c2  \" ><span class=\"nd\">clause</span> <span class=\"\"><span title=\"typ\">InfC</span> <span title=\"rela\">Adju</span></span></div><div class=\"children hor wrap rtl\"><div class=\"contnr c1 trm rtl  \" ><div class=\"lbl c1 trm \" ><span class=\"nd\">phrase</span> <span class=\"\"><span class=\"plain rtl  \" ><span class=\"txtu hbo\">לְ</span><span class=\"txtu hbo\">הָאִ֖יר </span></span></span></div></div><div class=\"contnr c1 trm rtl  \" ><div class=\"lbl c1 trm \" ><span class=\"nd\">phrase</span> <span class=\"\"><span class=\"plain rtl  \" ><span class=\"txtu hbo\">עַל־</span><span class=\"txtu hbo\">הָ</span><span class=\"txtu hbo\">אָֽרֶץ׃ </span></span></span></div></div></div></div></div></div></div></div></div>"
      ],
      "text/plain": [
       "<IPython.core.display.HTML object>"
      ]
     },
     "metadata": {},
     "output_type": "display_data"
    }
   ],
   "source": [
    "A.pretty(verse2, baseTypes={\"phrase\"})"
   ]
  },
  {
   "cell_type": "markdown",
   "metadata": {},
   "source": [
    "or if clauses are enough:"
   ]
  },
  {
   "cell_type": "code",
   "execution_count": 33,
   "metadata": {},
   "outputs": [
    {
     "data": {
      "text/html": [
       "<div class=\"section rtl\"><a target=\"_blank\" href=\"https://shebanq.ancient-data.org/hebrew/text?book=Genesis&amp;chapter=1&amp;verse=17&amp;version=c&amp;mr=m&amp;qw=q&amp;tp=txt_p&amp;tr=hb&amp;wget=v&amp;qget=v&amp;nget=vt\" title=\"Show this on SHEBANQ\" sec=\"Genesis 1:17\">Genesis 1:17</a></div><div class=\"rtl children\"><div class=\"contnr c3  rtl  \" ><div class=\"lbl c3  \" ><span class=\"nd\">verse</span></div><div class=\"children hor wrap rtl\"><div class=\"contnr c2  rtl lno \" ><div class=\"lbl c2  \" ><span class=\"nd\">sentence</span> <span class=\"\"><span title=\"number\">46</span></span></div><div class=\"children hor wrap rtl\"><div class=\"contnr c2 trm rtl  \" ><div class=\"lbl c2 trm \" ><span class=\"nd\">clause</span> <span class=\"\"><span class=\"plain rtl  \" ><span class=\"txtu hbo\">וַ</span><span class=\"txtu hbo\">יִּתֵּ֥ן </span><span class=\"txtu hbo\">אֹתָ֛ם </span><span class=\"txtu hbo\">אֱלֹהִ֖ים </span><span class=\"txtu hbo\">בִּ</span><span class=\"txtu hbo\">רְקִ֣יעַ </span><span class=\"txtu hbo\">הַ</span><span class=\"txtu hbo\">שָּׁמָ֑יִם </span></span></span></div></div><div class=\"contnr c2 trm rtl  \" ><div class=\"lbl c2 trm \" ><span class=\"nd\">clause</span> <span class=\"\"><span class=\"plain rtl  \" ><span class=\"txtu hbo\">לְ</span><span class=\"txtu hbo\">הָאִ֖יר </span><span class=\"txtu hbo\">עַל־</span><span class=\"txtu hbo\">הָ</span><span class=\"txtu hbo\">אָֽרֶץ׃ </span></span></span></div></div></div></div></div></div></div>"
      ],
      "text/plain": [
       "<IPython.core.display.HTML object>"
      ]
     },
     "metadata": {},
     "output_type": "display_data"
    }
   ],
   "source": [
    "A.pretty(verse2, baseTypes={\"clause\"})"
   ]
  },
  {
   "cell_type": "markdown",
   "metadata": {},
   "source": [
    "even sentences are possible:"
   ]
  },
  {
   "cell_type": "code",
   "execution_count": 34,
   "metadata": {},
   "outputs": [
    {
     "data": {
      "text/html": [
       "<div class=\"section rtl\"><a target=\"_blank\" href=\"https://shebanq.ancient-data.org/hebrew/text?book=Genesis&amp;chapter=1&amp;verse=17&amp;version=c&amp;mr=m&amp;qw=q&amp;tp=txt_p&amp;tr=hb&amp;wget=v&amp;qget=v&amp;nget=vt\" title=\"Show this on SHEBANQ\" sec=\"Genesis 1:17\">Genesis 1:17</a></div><div class=\"rtl children\"><div class=\"contnr c3  rtl  \" ><div class=\"lbl c3  \" ><span class=\"nd\">verse</span></div><div class=\"children hor wrap rtl\"><div class=\"contnr c2 trm rtl lno \" ><div class=\"lbl c2 trm \" ><span class=\"nd\">sentence</span> <span class=\"\"><span class=\"plain rtl lno \" ><span class=\"txtu hbo\">וַ</span><span class=\"txtu hbo\">יִּתֵּ֥ן </span><span class=\"txtu hbo\">אֹתָ֛ם </span><span class=\"txtu hbo\">אֱלֹהִ֖ים </span><span class=\"txtu hbo\">בִּ</span><span class=\"txtu hbo\">רְקִ֣יעַ </span><span class=\"txtu hbo\">הַ</span><span class=\"txtu hbo\">שָּׁמָ֑יִם </span><span class=\"txtu hbo\">לְ</span><span class=\"txtu hbo\">הָאִ֖יר </span><span class=\"txtu hbo\">עַל־</span><span class=\"txtu hbo\">הָ</span><span class=\"txtu hbo\">אָֽרֶץ׃ </span></span></span></div></div></div></div></div>"
      ],
      "text/plain": [
       "<IPython.core.display.HTML object>"
      ]
     },
     "metadata": {},
     "output_type": "display_data"
    }
   ],
   "source": [
    "A.pretty(verse2, baseTypes={\"sentence\"})"
   ]
  },
  {
   "cell_type": "markdown",
   "metadata": {},
   "source": [
    "Before we go on, we reset the display completely."
   ]
  },
  {
   "cell_type": "code",
   "execution_count": 35,
   "metadata": {},
   "outputs": [],
   "source": [
    "A.displayReset()"
   ]
  },
  {
   "cell_type": "markdown",
   "metadata": {},
   "source": [
    "# Query results\n",
    "We run a TF query and show some of its results with a lot of pomp and circumstance.\n",
    "The query is written by Stephen Ku, and he is the one who prompted me to write\n",
    "rich display function for query results.\n",
    "\n",
    "It asks for a sentence in which there are three clauses, each entirely before the next one.\n",
    "\n",
    "The first clause has a predicate phrase containing a verb.\n",
    "\n",
    "The second clause has a predicate phrase, a verb is not required nor forbidden.\n",
    "\n",
    "The third clause has an object phrase containing a (proper) noun or personal/demonstrative/interrogative pronoun."
   ]
  },
  {
   "cell_type": "code",
   "execution_count": 36,
   "metadata": {
    "ExecuteTime": {
     "end_time": "2018-04-25T13:58:11.225978Z",
     "start_time": "2018-04-25T13:58:11.220671Z"
    }
   },
   "outputs": [],
   "source": [
    "ellipQuery = \"\"\"\n",
    "sentence\n",
    "  c1:clause\n",
    "    phrase function=Pred\n",
    "      word pdp=verb\n",
    "  c2:clause\n",
    "    phrase function=Pred\n",
    "  c3:clause typ=Ellp\n",
    "    phrase function=Objc\n",
    "      word pdp=subs|nmpr|prps|prde|prin\n",
    "  c1 << c2\n",
    "  c2 << c3\n",
    "\"\"\""
   ]
  },
  {
   "cell_type": "markdown",
   "metadata": {},
   "source": [
    "Above is the query *template*. Now we *run* the query."
   ]
  },
  {
   "cell_type": "code",
   "execution_count": 37,
   "metadata": {
    "ExecuteTime": {
     "end_time": "2018-04-25T13:58:18.022692Z",
     "start_time": "2018-04-25T13:58:14.862389Z"
    }
   },
   "outputs": [
    {
     "name": "stdout",
     "output_type": "stream",
     "text": [
      "  2.19s 1472 results\n"
     ]
    }
   ],
   "source": [
    "results = A.search(ellipQuery)"
   ]
  },
  {
   "cell_type": "markdown",
   "metadata": {},
   "source": [
    "There are several ways to present the results.\n",
    "Here are results 10-12 in a table:"
   ]
  },
  {
   "cell_type": "code",
   "execution_count": 38,
   "metadata": {},
   "outputs": [
    {
     "data": {
      "text/html": [
       "<table><tr class=\"tf rtl\"><th class=\"tf rtl\">n</th><th class=\"tf rtl\">p</th><th class=\"tf rtl\">sentence</th><th class=\"tf\">clause</th><th class=\"tf\">phrase</th><th class=\"tf\">word</th><th class=\"tf\">clause</th><th class=\"tf\">phrase</th><th class=\"tf\">clause</th><th class=\"tf\">phrase</th><th class=\"tf\">word</th></tr>\n",
       "<tr class=\"tf rtl\"><td class=\"tf rtl\">10</td><td class=\"tf rtl\"><span class=\"section ltr\"><a target=\"_blank\" href=\"https://shebanq.ancient-data.org/hebrew/text?book=Exodus&amp;chapter=18&amp;verse=8&amp;version=c&amp;mr=m&amp;qw=q&amp;tp=txt_p&amp;tr=hb&amp;wget=v&amp;qget=v&amp;nget=vt\" title=\"Show this on SHEBANQ\" sec=\"Exodus 18:8\">Exodus 18:8</a></span></td><td class=\"tf rtl\"><div class=\"rtl\"><span class=\"plain rtl  hlbx\" ><span class=\"plain rtl  hlbx\" ><span class=\"txtu hbo\">וַ</span><span class=\"plain rtl  hlbx\" ><span class=\"plain rtl  hl\" ><span class=\"txtu hbo\">יְסַפֵּ֤ר </span></span></span><span class=\"txtu hbo\">מֹשֶׁה֙ </span><span class=\"txtu hbo\">לְ</span><span class=\"txtu hbo\">חֹ֣תְנֹ֔ו </span><span class=\"txtu hbo\">אֵת֩ </span><span class=\"txtu hbo\">כָּל־</span></span><span class=\"plain rtl  hlbx\" ><span class=\"txtu hbo\">אֲשֶׁ֨ר </span><span class=\"plain rtl  hlbx\" ><span class=\"txtu hbo\">עָשָׂ֤ה </span></span><span class=\"txtu hbo\">יְהוָה֙ </span><span class=\"txtu hbo\">לְ</span><span class=\"txtu hbo\">פַרְעֹ֣ה </span><span class=\"txtu hbo\">וּ</span><span class=\"txtu hbo\">לְ</span><span class=\"txtu hbo\">מִצְרַ֔יִם </span><span class=\"txtu hbo\">עַ֖ל </span><span class=\"txtu hbo\">אֹודֹ֣ת </span><span class=\"txtu hbo\">יִשְׂרָאֵ֑ל </span></span><span class=\"plain rtl  hlbx\" ><span class=\"plain rtl  hlbx\" ><span class=\"txtu hbo\">אֵ֤ת </span><span class=\"plain rtl  hl\" ><span class=\"txtu hbo\">כָּל־</span></span><span class=\"txtu hbo\">הַ</span><span class=\"txtu hbo\">תְּלָאָה֙ </span></span></span><span class=\"txtu hbo\">אֲשֶׁ֣ר </span><span class=\"txtu hbo\">מְצָאָ֣תַם </span><span class=\"txtu hbo\">בַּ</span><span class=\"txtu hbo\">דֶּ֔רֶךְ </span><span class=\"txtu hbo\">וַ</span><span class=\"txtu hbo\">יַּצִּלֵ֖ם </span><span class=\"txtu hbo\">יְהוָֽה׃ </span></span></div></td><td class=\"tf rtl\"><div class=\"rtl\"><span class=\"plain rtl  hlbx\" ><span class=\"txtu hbo\">וַ</span><span class=\"plain rtl  hlbx\" ><span class=\"plain rtl  hl\" ><span class=\"txtu hbo\">יְסַפֵּ֤ר </span></span></span><span class=\"txtu hbo\">מֹשֶׁה֙ </span><span class=\"txtu hbo\">לְ</span><span class=\"txtu hbo\">חֹ֣תְנֹ֔ו </span><span class=\"txtu hbo\">אֵת֩ </span><span class=\"txtu hbo\">כָּל־</span></span></div></td><td class=\"tf rtl\"><div class=\"rtl\"><span class=\"plain rtl  hlbx\" ><span class=\"plain rtl  hl\" ><span class=\"txtu hbo\">יְסַפֵּ֤ר </span></span></span></div></td><td class=\"tf rtl\"><div class=\"rtl\"><span class=\"plain rtl  hl\" ><span class=\"txtu hbo\">יְסַפֵּ֤ר </span></span></div></td><td class=\"tf rtl\"><div class=\"rtl\"><span class=\"plain rtl  hlbx\" ><span class=\"txtu hbo\">אֲשֶׁ֨ר </span><span class=\"plain rtl  hlbx\" ><span class=\"txtu hbo\">עָשָׂ֤ה </span></span><span class=\"txtu hbo\">יְהוָה֙ </span><span class=\"txtu hbo\">לְ</span><span class=\"txtu hbo\">פַרְעֹ֣ה </span><span class=\"txtu hbo\">וּ</span><span class=\"txtu hbo\">לְ</span><span class=\"txtu hbo\">מִצְרַ֔יִם </span><span class=\"txtu hbo\">עַ֖ל </span><span class=\"txtu hbo\">אֹודֹ֣ת </span><span class=\"txtu hbo\">יִשְׂרָאֵ֑ל </span></span></div></td><td class=\"tf rtl\"><div class=\"rtl\"><span class=\"plain rtl  hlbx\" ><span class=\"txtu hbo\">עָשָׂ֤ה </span></span></div></td><td class=\"tf rtl\"><div class=\"rtl\"><span class=\"plain rtl  hlbx\" ><span class=\"plain rtl  hlbx\" ><span class=\"txtu hbo\">אֵ֤ת </span><span class=\"plain rtl  hl\" ><span class=\"txtu hbo\">כָּל־</span></span><span class=\"txtu hbo\">הַ</span><span class=\"txtu hbo\">תְּלָאָה֙ </span></span></span></div></td><td class=\"tf rtl\"><div class=\"rtl\"><span class=\"plain rtl  hlbx\" ><span class=\"txtu hbo\">אֵ֤ת </span><span class=\"plain rtl  hl\" ><span class=\"txtu hbo\">כָּל־</span></span><span class=\"txtu hbo\">הַ</span><span class=\"txtu hbo\">תְּלָאָה֙ </span></span></div></td><td class=\"tf rtl\"><div class=\"rtl\"><span class=\"plain rtl  hl\" ><span class=\"txtu hbo\">כָּל־</span></span></div></td></tr>\n",
       "<tr class=\"tf rtl\"><td class=\"tf rtl\">11</td><td class=\"tf rtl\"><span class=\"section ltr\"><a target=\"_blank\" href=\"https://shebanq.ancient-data.org/hebrew/text?book=Exodus&amp;chapter=18&amp;verse=8&amp;version=c&amp;mr=m&amp;qw=q&amp;tp=txt_p&amp;tr=hb&amp;wget=v&amp;qget=v&amp;nget=vt\" title=\"Show this on SHEBANQ\" sec=\"Exodus 18:8\">Exodus 18:8</a></span></td><td class=\"tf rtl\"><div class=\"rtl\"><span class=\"plain rtl  hlbx\" ><span class=\"plain rtl  hlbx\" ><span class=\"txtu hbo\">וַ</span><span class=\"plain rtl  hlbx\" ><span class=\"plain rtl  hl\" ><span class=\"txtu hbo\">יְסַפֵּ֤ר </span></span></span><span class=\"txtu hbo\">מֹשֶׁה֙ </span><span class=\"txtu hbo\">לְ</span><span class=\"txtu hbo\">חֹ֣תְנֹ֔ו </span><span class=\"txtu hbo\">אֵת֩ </span><span class=\"txtu hbo\">כָּל־</span></span><span class=\"plain rtl  hlbx\" ><span class=\"txtu hbo\">אֲשֶׁ֨ר </span><span class=\"plain rtl  hlbx\" ><span class=\"txtu hbo\">עָשָׂ֤ה </span></span><span class=\"txtu hbo\">יְהוָה֙ </span><span class=\"txtu hbo\">לְ</span><span class=\"txtu hbo\">פַרְעֹ֣ה </span><span class=\"txtu hbo\">וּ</span><span class=\"txtu hbo\">לְ</span><span class=\"txtu hbo\">מִצְרַ֔יִם </span><span class=\"txtu hbo\">עַ֖ל </span><span class=\"txtu hbo\">אֹודֹ֣ת </span><span class=\"txtu hbo\">יִשְׂרָאֵ֑ל </span></span><span class=\"plain rtl  hlbx\" ><span class=\"plain rtl  hlbx\" ><span class=\"txtu hbo\">אֵ֤ת </span><span class=\"txtu hbo\">כָּל־</span><span class=\"txtu hbo\">הַ</span><span class=\"plain rtl  hl\" ><span class=\"txtu hbo\">תְּלָאָה֙ </span></span></span></span><span class=\"txtu hbo\">אֲשֶׁ֣ר </span><span class=\"txtu hbo\">מְצָאָ֣תַם </span><span class=\"txtu hbo\">בַּ</span><span class=\"txtu hbo\">דֶּ֔רֶךְ </span><span class=\"txtu hbo\">וַ</span><span class=\"txtu hbo\">יַּצִּלֵ֖ם </span><span class=\"txtu hbo\">יְהוָֽה׃ </span></span></div></td><td class=\"tf rtl\"><div class=\"rtl\"><span class=\"plain rtl  hlbx\" ><span class=\"txtu hbo\">וַ</span><span class=\"plain rtl  hlbx\" ><span class=\"plain rtl  hl\" ><span class=\"txtu hbo\">יְסַפֵּ֤ר </span></span></span><span class=\"txtu hbo\">מֹשֶׁה֙ </span><span class=\"txtu hbo\">לְ</span><span class=\"txtu hbo\">חֹ֣תְנֹ֔ו </span><span class=\"txtu hbo\">אֵת֩ </span><span class=\"txtu hbo\">כָּל־</span></span></div></td><td class=\"tf rtl\"><div class=\"rtl\"><span class=\"plain rtl  hlbx\" ><span class=\"plain rtl  hl\" ><span class=\"txtu hbo\">יְסַפֵּ֤ר </span></span></span></div></td><td class=\"tf rtl\"><div class=\"rtl\"><span class=\"plain rtl  hl\" ><span class=\"txtu hbo\">יְסַפֵּ֤ר </span></span></div></td><td class=\"tf rtl\"><div class=\"rtl\"><span class=\"plain rtl  hlbx\" ><span class=\"txtu hbo\">אֲשֶׁ֨ר </span><span class=\"plain rtl  hlbx\" ><span class=\"txtu hbo\">עָשָׂ֤ה </span></span><span class=\"txtu hbo\">יְהוָה֙ </span><span class=\"txtu hbo\">לְ</span><span class=\"txtu hbo\">פַרְעֹ֣ה </span><span class=\"txtu hbo\">וּ</span><span class=\"txtu hbo\">לְ</span><span class=\"txtu hbo\">מִצְרַ֔יִם </span><span class=\"txtu hbo\">עַ֖ל </span><span class=\"txtu hbo\">אֹודֹ֣ת </span><span class=\"txtu hbo\">יִשְׂרָאֵ֑ל </span></span></div></td><td class=\"tf rtl\"><div class=\"rtl\"><span class=\"plain rtl  hlbx\" ><span class=\"txtu hbo\">עָשָׂ֤ה </span></span></div></td><td class=\"tf rtl\"><div class=\"rtl\"><span class=\"plain rtl  hlbx\" ><span class=\"plain rtl  hlbx\" ><span class=\"txtu hbo\">אֵ֤ת </span><span class=\"txtu hbo\">כָּל־</span><span class=\"txtu hbo\">הַ</span><span class=\"plain rtl  hl\" ><span class=\"txtu hbo\">תְּלָאָה֙ </span></span></span></span></div></td><td class=\"tf rtl\"><div class=\"rtl\"><span class=\"plain rtl  hlbx\" ><span class=\"txtu hbo\">אֵ֤ת </span><span class=\"txtu hbo\">כָּל־</span><span class=\"txtu hbo\">הַ</span><span class=\"plain rtl  hl\" ><span class=\"txtu hbo\">תְּלָאָה֙ </span></span></span></div></td><td class=\"tf rtl\"><div class=\"rtl\"><span class=\"plain rtl  hl\" ><span class=\"txtu hbo\">תְּלָאָה֙ </span></span></div></td></tr>\n",
       "<tr class=\"tf rtl\"><td class=\"tf rtl\">12</td><td class=\"tf rtl\"><span class=\"section ltr\"><a target=\"_blank\" href=\"https://shebanq.ancient-data.org/hebrew/text?book=Exodus&amp;chapter=23&amp;verse=15&amp;version=c&amp;mr=m&amp;qw=q&amp;tp=txt_p&amp;tr=hb&amp;wget=v&amp;qget=v&amp;nget=vt\" title=\"Show this on SHEBANQ\" sec=\"Exodus 23:15\">Exodus 23:15</a></span></td><td class=\"tf rtl\"><div class=\"rtl\"><span class=\"plain rtl l hlbx\" ><span class=\"plain rtl  hlbx\" ><span class=\"txtu hbo\">אֶת־</span><span class=\"txtu hbo\">חַ֣ג </span><span class=\"txtu hbo\">הַ</span><span class=\"txtu hbo\">מַּצֹּות֮ </span><span class=\"plain rtl  hlbx\" ><span class=\"plain rtl  hl\" ><span class=\"txtu hbo\">תִּשְׁמֹר֒ </span></span></span></span></span><span class=\"plain rtl r hlbx\" ><span class=\"txtu hbo\">וְ</span><span class=\"txtu hbo\">חַ֤ג </span><span class=\"txtu hbo\">הַ</span><span class=\"txtu hbo\">קָּצִיר֙ </span><span class=\"txtu hbo\">בִּכּוּרֵ֣י </span><span class=\"txtu hbo\">מַעֲשֶׂ֔יךָ </span><span class=\"plain rtl  hlbx\" ><span class=\"txtu hbo\">אֲשֶׁ֥ר </span><span class=\"plain rtl  hlbx\" ><span class=\"txtu hbo\">תִּזְרַ֖ע </span></span><span class=\"txtu hbo\">בַּ</span><span class=\"txtu hbo\">שָּׂדֶ֑ה </span></span><span class=\"plain rtl  hlbx\" ><span class=\"txtu hbo\">וְ</span><span class=\"plain rtl  hlbx\" ><span class=\"plain rtl  hl\" ><span class=\"txtu hbo\">חַ֤ג </span></span><span class=\"txtu hbo\">הָֽ</span><span class=\"txtu hbo\">אָסִף֙ </span></span></span><span class=\"txtu hbo\">בְּ</span><span class=\"txtu hbo\">צֵ֣את </span><span class=\"txtu hbo\">הַ</span><span class=\"txtu hbo\">שָּׁנָ֔ה </span><span class=\"txtu hbo\">בְּ</span><span class=\"txtu hbo\">אָסְפְּךָ֥ </span><span class=\"txtu hbo\">אֶֽת־</span><span class=\"txtu hbo\">מַעֲשֶׂ֖יךָ </span><span class=\"txtu hbo\">מִן־</span><span class=\"txtu hbo\">הַ</span><span class=\"txtu hbo\">שָּׂדֶֽה׃ </span></span></div></td><td class=\"tf rtl\"><div class=\"rtl\"><span class=\"plain rtl  hlbx\" ><span class=\"txtu hbo\">אֶת־</span><span class=\"txtu hbo\">חַ֣ג </span><span class=\"txtu hbo\">הַ</span><span class=\"txtu hbo\">מַּצֹּות֮ </span><span class=\"plain rtl  hlbx\" ><span class=\"plain rtl  hl\" ><span class=\"txtu hbo\">תִּשְׁמֹר֒ </span></span></span></span></div></td><td class=\"tf rtl\"><div class=\"rtl\"><span class=\"plain rtl  hlbx\" ><span class=\"plain rtl  hl\" ><span class=\"txtu hbo\">תִּשְׁמֹר֒ </span></span></span></div></td><td class=\"tf rtl\"><div class=\"rtl\"><span class=\"plain rtl  hl\" ><span class=\"txtu hbo\">תִּשְׁמֹר֒ </span></span></div></td><td class=\"tf rtl\"><div class=\"rtl\"><span class=\"plain rtl  hlbx\" ><span class=\"txtu hbo\">אֲשֶׁ֥ר </span><span class=\"plain rtl  hlbx\" ><span class=\"txtu hbo\">תִּזְרַ֖ע </span></span><span class=\"txtu hbo\">בַּ</span><span class=\"txtu hbo\">שָּׂדֶ֑ה </span></span></div></td><td class=\"tf rtl\"><div class=\"rtl\"><span class=\"plain rtl  hlbx\" ><span class=\"txtu hbo\">תִּזְרַ֖ע </span></span></div></td><td class=\"tf rtl\"><div class=\"rtl\"><span class=\"plain rtl  hlbx\" ><span class=\"txtu hbo\">וְ</span><span class=\"plain rtl  hlbx\" ><span class=\"plain rtl  hl\" ><span class=\"txtu hbo\">חַ֤ג </span></span><span class=\"txtu hbo\">הָֽ</span><span class=\"txtu hbo\">אָסִף֙ </span></span></span></div></td><td class=\"tf rtl\"><div class=\"rtl\"><span class=\"plain rtl  hlbx\" ><span class=\"plain rtl  hl\" ><span class=\"txtu hbo\">חַ֤ג </span></span><span class=\"txtu hbo\">הָֽ</span><span class=\"txtu hbo\">אָסִף֙ </span></span></div></td><td class=\"tf rtl\"><div class=\"rtl\"><span class=\"plain rtl  hl\" ><span class=\"txtu hbo\">חַ֤ג </span></span></div></td></tr></table>"
      ],
      "text/plain": [
       "<IPython.core.display.HTML object>"
      ]
     },
     "metadata": {},
     "output_type": "display_data"
    }
   ],
   "source": [
    "A.table(results, start=10, end=12)"
   ]
  },
  {
   "cell_type": "markdown",
   "metadata": {},
   "source": [
    "You can also show the results in pretty displays.\n",
    "The `A.show()` function asks you for some limits (it will not show more than 100 at a time), and then it displays them.\n",
    "\n",
    "It lists the results as follows:\n",
    "\n",
    "* a heading showing which result in the sequence of all results this is\n",
    "* a display of all verses that have result material, with the places highlighted that\n",
    "  correspond to a node in the result tuple\n",
    "\n",
    "We show result 10 only."
   ]
  },
  {
   "cell_type": "code",
   "execution_count": 39,
   "metadata": {
    "ExecuteTime": {
     "end_time": "2018-04-25T13:58:23.002898Z",
     "start_time": "2018-04-25T13:58:21.622054Z"
    }
   },
   "outputs": [
    {
     "data": {
      "text/html": [
       "<p><b>result</b> <i>10</i></p>"
      ],
      "text/plain": [
       "<IPython.core.display.HTML object>"
      ]
     },
     "metadata": {},
     "output_type": "display_data"
    },
    {
     "data": {
      "text/html": [
       "<div class=\"section rtl\"><a target=\"_blank\" href=\"https://shebanq.ancient-data.org/hebrew/text?book=Exodus&amp;chapter=18&amp;verse=8&amp;version=c&amp;mr=m&amp;qw=q&amp;tp=txt_p&amp;tr=hb&amp;wget=v&amp;qget=v&amp;nget=vt\" title=\"Show this on SHEBANQ\" sec=\"Exodus 18:8\">Exodus 18:8</a></div><div class=\"rtl children\"><div class=\"contnr c3  rtl  \" ><div class=\"lbl c3  \" ><span class=\"nd\">verse:1416361</span></div><div class=\"children hor wrap rtl\"><div class=\"contnr c2  rtl  hl\" ><div class=\"lbl c2  hl\" ><span class=\"nd\">sentence:1178439</span></div><div class=\"children hor wrap rtl\"><div class=\"contnr c2  rtl  hl\" ><div class=\"lbl c2  hl\" ><span class=\"nd\">clause:435507</span></div><div class='features'><span class=\"typ xft\" ><span class=\"f\">typ=</span>WayX</span></div><div class=\"children hor wrap rtl\"><div class=\"contnr c1  rtl  \" ><div class=\"lbl c1  \" ><span class=\"nd\">phrase:675471</span></div><div class='features'><span class=\"function xft\" ><span class=\"f\">function=</span>Conj</span><span class=\"typ xft\" ><span class=\"f\">typ=</span>CP</span></div><div class=\"children hor wrap rtl\"><div class=\"contnr c0 trm rtl  \" ><div class=\"lbl c0 trm \" ><span class=\"nd\">38604</span> <a class=\" txtu hbo\" target=\"_blank\" href=\"https://shebanq.ancient-data.org/hebrew/word?version=c&amp;id=1W\" title=\"Show this on SHEBANQ\"><span class=\"txtu hbo\">וַ</span></a></div><div class='features'><span class=\"pdp xft\" ><span class=\"f\">pdp=</span>conj</span></div></div></div></div><div class=\"contnr c1  rtl  hl\" ><div class=\"lbl c1  hl\" ><span class=\"nd\">phrase:675472</span></div><div class='features'><span class=\"function xft\" ><span class=\"f\">function=</span>Pred</span><span class=\"typ xft\" ><span class=\"f\">typ=</span>VP</span></div><div class=\"children hor wrap rtl\"><div class=\"contnr c0 trm rtl  hl\" ><div class=\"lbl c0 trm hl\" ><span class=\"nd\">38605</span> <a class=\" txtu hbo\" target=\"_blank\" href=\"https://shebanq.ancient-data.org/hebrew/word?version=c&amp;id=1SPRv\" title=\"Show this on SHEBANQ\"><span class=\"txtu hbo\">יְסַפֵּ֤ר </span></a></div><div class='features'><span class=\"pdp xft\" ><span class=\"f\">pdp=</span>verb</span></div></div></div></div><div class=\"contnr c1  rtl  \" ><div class=\"lbl c1  \" ><span class=\"nd\">phrase:675473</span></div><div class='features'><span class=\"function xft\" ><span class=\"f\">function=</span>Subj</span><span class=\"typ xft\" ><span class=\"f\">typ=</span>PrNP</span></div><div class=\"children hor wrap rtl\"><div class=\"contnr c0 trm rtl  \" ><div class=\"lbl c0 trm \" ><span class=\"nd\">38606</span> <a class=\" txtu hbo\" target=\"_blank\" href=\"https://shebanq.ancient-data.org/hebrew/word?version=c&amp;id=1MCHin\" title=\"Show this on SHEBANQ\"><span class=\"txtu hbo\">מֹשֶׁה֙ </span></a></div><div class='features'><span class=\"pdp xft\" ><span class=\"f\">pdp=</span>nmpr</span></div></div></div></div><div class=\"contnr c1  rtl  \" ><div class=\"lbl c1  \" ><span class=\"nd\">phrase:675474</span></div><div class='features'><span class=\"function xft\" ><span class=\"f\">function=</span>Cmpl</span><span class=\"typ xft\" ><span class=\"f\">typ=</span>PP</span></div><div class=\"children hor wrap rtl\"><div class=\"contnr c0 trm rtl  \" ><div class=\"lbl c0 trm \" ><span class=\"nd\">38607</span> <a class=\" txtu hbo\" target=\"_blank\" href=\"https://shebanq.ancient-data.org/hebrew/word?version=c&amp;id=1L\" title=\"Show this on SHEBANQ\"><span class=\"txtu hbo\">לְ</span></a></div><div class='features'><span class=\"pdp xft\" ><span class=\"f\">pdp=</span>prep</span></div></div><div class=\"contnr c0 trm rtl  \" ><div class=\"lbl c0 trm \" ><span class=\"nd\">38608</span> <a class=\" txtu hbo\" target=\"_blank\" href=\"https://shebanq.ancient-data.org/hebrew/word?version=c&amp;id=1XTNv\" title=\"Show this on SHEBANQ\"><span class=\"txtu hbo\">חֹ֣תְנֹ֔ו </span></a></div><div class='features'><span class=\"pdp xft\" ><span class=\"f\">pdp=</span>subs</span></div></div></div></div><div class=\"contnr c1  rtl  \" ><div class=\"lbl c1  \" ><span class=\"nd\">phrase:675475</span></div><div class='features'><span class=\"function xft\" ><span class=\"f\">function=</span>Objc</span><span class=\"typ xft\" ><span class=\"f\">typ=</span>PP</span></div><div class=\"children hor wrap rtl\"><div class=\"contnr c0 trm rtl  \" ><div class=\"lbl c0 trm \" ><span class=\"nd\">38609</span> <a class=\" txtu hbo\" target=\"_blank\" href=\"https://shebanq.ancient-data.org/hebrew/word?version=c&amp;id=1AT\" title=\"Show this on SHEBANQ\"><span class=\"txtu hbo\">אֵת֩ </span></a></div><div class='features'><span class=\"pdp xft\" ><span class=\"f\">pdp=</span>prep</span></div></div><div class=\"contnr c0 trm rtl  \" ><div class=\"lbl c0 trm \" ><span class=\"nd\">38610</span> <a class=\" txtu hbo\" target=\"_blank\" href=\"https://shebanq.ancient-data.org/hebrew/word?version=c&amp;id=1KLn\" title=\"Show this on SHEBANQ\"><span class=\"txtu hbo\">כָּל־</span></a></div><div class='features'><span class=\"pdp xft\" ><span class=\"f\">pdp=</span>subs</span></div></div></div></div></div></div><div class=\"contnr c2  rtl  hl\" ><div class=\"lbl c2  hl\" ><span class=\"nd\">clause:435508</span></div><div class='features'><span class=\"typ xft\" ><span class=\"f\">typ=</span>xQtX</span></div><div class=\"children hor wrap rtl\"><div class=\"contnr c1  rtl  \" ><div class=\"lbl c1  \" ><span class=\"nd\">phrase:675476</span></div><div class='features'><span class=\"function xft\" ><span class=\"f\">function=</span>Rela</span><span class=\"typ xft\" ><span class=\"f\">typ=</span>CP</span></div><div class=\"children hor wrap rtl\"><div class=\"contnr c0 trm rtl  \" ><div class=\"lbl c0 trm \" ><span class=\"nd\">38611</span> <a class=\" txtu hbo\" target=\"_blank\" href=\"https://shebanq.ancient-data.org/hebrew/word?version=c&amp;id=1ACR\" title=\"Show this on SHEBANQ\"><span class=\"txtu hbo\">אֲשֶׁ֨ר </span></a></div><div class='features'><span class=\"pdp xft\" ><span class=\"f\">pdp=</span>conj</span></div></div></div></div><div class=\"contnr c1  rtl  hl\" ><div class=\"lbl c1  hl\" ><span class=\"nd\">phrase:675477</span></div><div class='features'><span class=\"function xft\" ><span class=\"f\">function=</span>Pred</span><span class=\"typ xft\" ><span class=\"f\">typ=</span>VP</span></div><div class=\"children hor wrap rtl\"><div class=\"contnr c0 trm rtl  \" ><div class=\"lbl c0 trm \" ><span class=\"nd\">38612</span> <a class=\" txtu hbo\" target=\"_blank\" href=\"https://shebanq.ancient-data.org/hebrew/word?version=c&amp;id=1OFHv\" title=\"Show this on SHEBANQ\"><span class=\"txtu hbo\">עָשָׂ֤ה </span></a></div><div class='features'><span class=\"pdp xft\" ><span class=\"f\">pdp=</span>verb</span></div></div></div></div><div class=\"contnr c1  rtl  \" ><div class=\"lbl c1  \" ><span class=\"nd\">phrase:675478</span></div><div class='features'><span class=\"function xft\" ><span class=\"f\">function=</span>Subj</span><span class=\"typ xft\" ><span class=\"f\">typ=</span>PrNP</span></div><div class=\"children hor wrap rtl\"><div class=\"contnr c0 trm rtl  \" ><div class=\"lbl c0 trm \" ><span class=\"nd\">38613</span> <a class=\" txtu hbo\" target=\"_blank\" href=\"https://shebanq.ancient-data.org/hebrew/word?version=c&amp;id=1JHWHn\" title=\"Show this on SHEBANQ\"><span class=\"txtu hbo\">יְהוָה֙ </span></a></div><div class='features'><span class=\"pdp xft\" ><span class=\"f\">pdp=</span>nmpr</span></div></div></div></div><div class=\"contnr c1  rtl  \" ><div class=\"lbl c1  \" ><span class=\"nd\">phrase:675479</span></div><div class='features'><span class=\"function xft\" ><span class=\"f\">function=</span>Cmpl</span><span class=\"typ xft\" ><span class=\"f\">typ=</span>PP</span></div><div class=\"children hor wrap rtl\"><div class=\"contnr c0 trm rtl  \" ><div class=\"lbl c0 trm \" ><span class=\"nd\">38614</span> <a class=\" txtu hbo\" target=\"_blank\" href=\"https://shebanq.ancient-data.org/hebrew/word?version=c&amp;id=1L\" title=\"Show this on SHEBANQ\"><span class=\"txtu hbo\">לְ</span></a></div><div class='features'><span class=\"pdp xft\" ><span class=\"f\">pdp=</span>prep</span></div></div><div class=\"contnr c0 trm rtl  \" ><div class=\"lbl c0 trm \" ><span class=\"nd\">38615</span> <a class=\" txtu hbo\" target=\"_blank\" href=\"https://shebanq.ancient-data.org/hebrew/word?version=c&amp;id=1PROHn\" title=\"Show this on SHEBANQ\"><span class=\"txtu hbo\">פַרְעֹ֣ה </span></a></div><div class='features'><span class=\"pdp xft\" ><span class=\"f\">pdp=</span>subs</span></div></div><div class=\"contnr c0 trm rtl  \" ><div class=\"lbl c0 trm \" ><span class=\"nd\">38616</span> <a class=\" txtu hbo\" target=\"_blank\" href=\"https://shebanq.ancient-data.org/hebrew/word?version=c&amp;id=1W\" title=\"Show this on SHEBANQ\"><span class=\"txtu hbo\">וּ</span></a></div><div class='features'><span class=\"pdp xft\" ><span class=\"f\">pdp=</span>conj</span></div></div><div class=\"contnr c0 trm rtl  \" ><div class=\"lbl c0 trm \" ><span class=\"nd\">38617</span> <a class=\" txtu hbo\" target=\"_blank\" href=\"https://shebanq.ancient-data.org/hebrew/word?version=c&amp;id=1L\" title=\"Show this on SHEBANQ\"><span class=\"txtu hbo\">לְ</span></a></div><div class='features'><span class=\"pdp xft\" ><span class=\"f\">pdp=</span>prep</span></div></div><div class=\"contnr c0 trm rtl  \" ><div class=\"lbl c0 trm \" ><span class=\"nd\">38618</span> <a class=\" txtu hbo\" target=\"_blank\" href=\"https://shebanq.ancient-data.org/hebrew/word?version=c&amp;id=1MYRJMn\" title=\"Show this on SHEBANQ\"><span class=\"txtu hbo\">מִצְרַ֔יִם </span></a></div><div class='features'><span class=\"pdp xft\" ><span class=\"f\">pdp=</span>nmpr</span></div></div></div></div><div class=\"contnr c1  rtl  \" ><div class=\"lbl c1  \" ><span class=\"nd\">phrase:675480</span></div><div class='features'><span class=\"function xft\" ><span class=\"f\">function=</span>Adju</span><span class=\"typ xft\" ><span class=\"f\">typ=</span>PP</span></div><div class=\"children hor wrap rtl\"><div class=\"contnr c0 trm rtl  \" ><div class=\"lbl c0 trm \" ><span class=\"nd\">38619</span> <a class=\" txtu hbo\" target=\"_blank\" href=\"https://shebanq.ancient-data.org/hebrew/word?version=c&amp;id=1OL\" title=\"Show this on SHEBANQ\"><span class=\"txtu hbo\">עַ֖ל </span></a></div><div class='features'><span class=\"pdp xft\" ><span class=\"f\">pdp=</span>prep</span></div></div><div class=\"contnr c0 trm rtl  \" ><div class=\"lbl c0 trm \" ><span class=\"nd\">38620</span> <a class=\" txtu hbo\" target=\"_blank\" href=\"https://shebanq.ancient-data.org/hebrew/word?version=c&amp;id=1AWDWTn\" title=\"Show this on SHEBANQ\"><span class=\"txtu hbo\">אֹודֹ֣ת </span></a></div><div class='features'><span class=\"pdp xft\" ><span class=\"f\">pdp=</span>subs</span></div></div><div class=\"contnr c0 trm rtl  \" ><div class=\"lbl c0 trm \" ><span class=\"nd\">38621</span> <a class=\" txtu hbo\" target=\"_blank\" href=\"https://shebanq.ancient-data.org/hebrew/word?version=c&amp;id=1JFRALn\" title=\"Show this on SHEBANQ\"><span class=\"txtu hbo\">יִשְׂרָאֵ֑ל </span></a></div><div class='features'><span class=\"pdp xft\" ><span class=\"f\">pdp=</span>nmpr</span></div></div></div></div></div></div><div class=\"contnr c2  rtl  hl\" ><div class=\"lbl c2  hl\" ><span class=\"nd\">clause:435509</span></div><div class='features'><span class=\"typ xft\" ><span class=\"f\">typ=</span>Ellp</span></div><div class=\"children hor wrap rtl\"><div class=\"contnr c1  rtl  hl\" ><div class=\"lbl c1  hl\" ><span class=\"nd\">phrase:675481</span></div><div class='features'><span class=\"function xft\" ><span class=\"f\">function=</span>Objc</span><span class=\"typ xft\" ><span class=\"f\">typ=</span>PP</span></div><div class=\"children hor wrap rtl\"><div class=\"contnr c0 trm rtl  \" ><div class=\"lbl c0 trm \" ><span class=\"nd\">38622</span> <a class=\" txtu hbo\" target=\"_blank\" href=\"https://shebanq.ancient-data.org/hebrew/word?version=c&amp;id=1AT\" title=\"Show this on SHEBANQ\"><span class=\"txtu hbo\">אֵ֤ת </span></a></div><div class='features'><span class=\"pdp xft\" ><span class=\"f\">pdp=</span>prep</span></div></div><div class=\"contnr c0 trm rtl  hl\" ><div class=\"lbl c0 trm hl\" ><span class=\"nd\">38623</span> <a class=\" txtu hbo\" target=\"_blank\" href=\"https://shebanq.ancient-data.org/hebrew/word?version=c&amp;id=1KLn\" title=\"Show this on SHEBANQ\"><span class=\"txtu hbo\">כָּל־</span></a></div><div class='features'><span class=\"pdp xft\" ><span class=\"f\">pdp=</span>subs</span></div></div><div class=\"contnr c0 trm rtl  \" ><div class=\"lbl c0 trm \" ><span class=\"nd\">38624</span> <a class=\" txtu hbo\" target=\"_blank\" href=\"https://shebanq.ancient-data.org/hebrew/word?version=c&amp;id=1H\" title=\"Show this on SHEBANQ\"><span class=\"txtu hbo\">הַ</span></a></div><div class='features'><span class=\"pdp xft\" ><span class=\"f\">pdp=</span>art</span></div></div><div class=\"contnr c0 trm rtl  \" ><div class=\"lbl c0 trm \" ><span class=\"nd\">38625</span> <a class=\" txtu hbo\" target=\"_blank\" href=\"https://shebanq.ancient-data.org/hebrew/word?version=c&amp;id=1TLAHn\" title=\"Show this on SHEBANQ\"><span class=\"txtu hbo\">תְּלָאָה֙ </span></a></div><div class='features'><span class=\"pdp xft\" ><span class=\"f\">pdp=</span>subs</span></div></div></div></div></div></div><div class=\"contnr c2  rtl  \" ><div class=\"lbl c2  \" ><span class=\"nd\">clause:435510</span></div><div class='features'><span class=\"typ xft\" ><span class=\"f\">typ=</span>xQt0</span></div><div class=\"children hor wrap rtl\"><div class=\"contnr c1  rtl  \" ><div class=\"lbl c1  \" ><span class=\"nd\">phrase:675482</span></div><div class='features'><span class=\"function xft\" ><span class=\"f\">function=</span>Rela</span><span class=\"typ xft\" ><span class=\"f\">typ=</span>CP</span></div><div class=\"children hor wrap rtl\"><div class=\"contnr c0 trm rtl  \" ><div class=\"lbl c0 trm \" ><span class=\"nd\">38626</span> <a class=\" txtu hbo\" target=\"_blank\" href=\"https://shebanq.ancient-data.org/hebrew/word?version=c&amp;id=1ACR\" title=\"Show this on SHEBANQ\"><span class=\"txtu hbo\">אֲשֶׁ֣ר </span></a></div><div class='features'><span class=\"pdp xft\" ><span class=\"f\">pdp=</span>conj</span></div></div></div></div><div class=\"contnr c1  rtl  \" ><div class=\"lbl c1  \" ><span class=\"nd\">phrase:675483</span></div><div class='features'><span class=\"function xft\" ><span class=\"f\">function=</span>PreO</span><span class=\"typ xft\" ><span class=\"f\">typ=</span>VP</span></div><div class=\"children hor wrap rtl\"><div class=\"contnr c0 trm rtl  \" ><div class=\"lbl c0 trm \" ><span class=\"nd\">38627</span> <a class=\" txtu hbo\" target=\"_blank\" href=\"https://shebanq.ancient-data.org/hebrew/word?version=c&amp;id=1MYAv\" title=\"Show this on SHEBANQ\"><span class=\"txtu hbo\">מְצָאָ֣תַם </span></a></div><div class='features'><span class=\"pdp xft\" ><span class=\"f\">pdp=</span>verb</span></div></div></div></div><div class=\"contnr c1  rtl  \" ><div class=\"lbl c1  \" ><span class=\"nd\">phrase:675484</span></div><div class='features'><span class=\"function xft\" ><span class=\"f\">function=</span>Loca</span><span class=\"typ xft\" ><span class=\"f\">typ=</span>PP</span></div><div class=\"children hor wrap rtl\"><div class=\"contnr c0 trm rtl  \" ><div class=\"lbl c0 trm \" ><span class=\"nd\">38628</span> <a class=\" txtu hbo\" target=\"_blank\" href=\"https://shebanq.ancient-data.org/hebrew/word?version=c&amp;id=1B\" title=\"Show this on SHEBANQ\"><span class=\"txtu hbo\">בַּ</span></a></div><div class='features'><span class=\"pdp xft\" ><span class=\"f\">pdp=</span>prep</span></div></div><div class=\"contnr c0 trm rtl  \" ><div class=\"lbl c0 trm \" ><span class=\"nd\">38629</span> <a class=\" txtu hbo\" target=\"_blank\" href=\"https://shebanq.ancient-data.org/hebrew/word?version=c&amp;id=1H\" title=\"Show this on SHEBANQ\"></a></div><div class='features'><span class=\"pdp xft\" ><span class=\"f\">pdp=</span>art</span></div></div><div class=\"contnr c0 trm rtl  \" ><div class=\"lbl c0 trm \" ><span class=\"nd\">38630</span> <a class=\" txtu hbo\" target=\"_blank\" href=\"https://shebanq.ancient-data.org/hebrew/word?version=c&amp;id=1DRKn\" title=\"Show this on SHEBANQ\"><span class=\"txtu hbo\">דֶּ֔רֶךְ </span></a></div><div class='features'><span class=\"pdp xft\" ><span class=\"f\">pdp=</span>subs</span></div></div></div></div></div></div><div class=\"contnr c2  rtl  \" ><div class=\"lbl c2  \" ><span class=\"nd\">clause:435511</span></div><div class='features'><span class=\"typ xft\" ><span class=\"f\">typ=</span>WayX</span></div><div class=\"children hor wrap rtl\"><div class=\"contnr c1  rtl  \" ><div class=\"lbl c1  \" ><span class=\"nd\">phrase:675485</span></div><div class='features'><span class=\"function xft\" ><span class=\"f\">function=</span>Conj</span><span class=\"typ xft\" ><span class=\"f\">typ=</span>CP</span></div><div class=\"children hor wrap rtl\"><div class=\"contnr c0 trm rtl  \" ><div class=\"lbl c0 trm \" ><span class=\"nd\">38631</span> <a class=\" txtu hbo\" target=\"_blank\" href=\"https://shebanq.ancient-data.org/hebrew/word?version=c&amp;id=1W\" title=\"Show this on SHEBANQ\"><span class=\"txtu hbo\">וַ</span></a></div><div class='features'><span class=\"pdp xft\" ><span class=\"f\">pdp=</span>conj</span></div></div></div></div><div class=\"contnr c1  rtl  \" ><div class=\"lbl c1  \" ><span class=\"nd\">phrase:675486</span></div><div class='features'><span class=\"function xft\" ><span class=\"f\">function=</span>PreO</span><span class=\"typ xft\" ><span class=\"f\">typ=</span>VP</span></div><div class=\"children hor wrap rtl\"><div class=\"contnr c0 trm rtl  \" ><div class=\"lbl c0 trm \" ><span class=\"nd\">38632</span> <a class=\" txtu hbo\" target=\"_blank\" href=\"https://shebanq.ancient-data.org/hebrew/word?version=c&amp;id=1NYLv\" title=\"Show this on SHEBANQ\"><span class=\"txtu hbo\">יַּצִּלֵ֖ם </span></a></div><div class='features'><span class=\"pdp xft\" ><span class=\"f\">pdp=</span>verb</span></div></div></div></div><div class=\"contnr c1  rtl  \" ><div class=\"lbl c1  \" ><span class=\"nd\">phrase:675487</span></div><div class='features'><span class=\"function xft\" ><span class=\"f\">function=</span>Subj</span><span class=\"typ xft\" ><span class=\"f\">typ=</span>PrNP</span></div><div class=\"children hor wrap rtl\"><div class=\"contnr c0 trm rtl  \" ><div class=\"lbl c0 trm \" ><span class=\"nd\">38633</span> <a class=\" txtu hbo\" target=\"_blank\" href=\"https://shebanq.ancient-data.org/hebrew/word?version=c&amp;id=1JHWHn\" title=\"Show this on SHEBANQ\"><span class=\"txtu hbo\">יְהוָֽה׃ </span></a></div><div class='features'><span class=\"pdp xft\" ><span class=\"f\">pdp=</span>nmpr</span></div></div></div></div></div></div></div></div></div></div></div>"
      ],
      "text/plain": [
       "<IPython.core.display.HTML object>"
      ]
     },
     "metadata": {},
     "output_type": "display_data"
    }
   ],
   "source": [
    "A.show(results, start=10, end=10, withNodes=True)"
   ]
  },
  {
   "cell_type": "markdown",
   "metadata": {},
   "source": [
    "Note that although the *standard* features are not all shown, the features mentioned in the query are shown.\n",
    "We can suppress that as well:"
   ]
  },
  {
   "cell_type": "code",
   "execution_count": 40,
   "metadata": {
    "ExecuteTime": {
     "end_time": "2018-04-25T13:58:23.002898Z",
     "start_time": "2018-04-25T13:58:21.622054Z"
    }
   },
   "outputs": [
    {
     "data": {
      "text/html": [
       "<p><b>result</b> <i>10</i></p>"
      ],
      "text/plain": [
       "<IPython.core.display.HTML object>"
      ]
     },
     "metadata": {},
     "output_type": "display_data"
    },
    {
     "data": {
      "text/html": [
       "<div class=\"section rtl\"><a target=\"_blank\" href=\"https://shebanq.ancient-data.org/hebrew/text?book=Exodus&amp;chapter=18&amp;verse=8&amp;version=c&amp;mr=m&amp;qw=q&amp;tp=txt_p&amp;tr=hb&amp;wget=v&amp;qget=v&amp;nget=vt\" title=\"Show this on SHEBANQ\" sec=\"Exodus 18:8\">Exodus 18:8</a></div><div class=\"rtl children\"><div class=\"contnr c3  rtl  \" ><div class=\"lbl c3  \" ><span class=\"nd\">verse:1416361</span></div><div class=\"children hor wrap rtl\"><div class=\"contnr c2  rtl  hl\" ><div class=\"lbl c2  hl\" ><span class=\"nd\">sentence:1178439</span></div><div class=\"children hor wrap rtl\"><div class=\"contnr c2  rtl  hl\" ><div class=\"lbl c2  hl\" ><span class=\"nd\">clause:435507</span></div><div class=\"children hor wrap rtl\"><div class=\"contnr c1  rtl  \" ><div class=\"lbl c1  \" ><span class=\"nd\">phrase:675471</span></div><div class=\"children hor wrap rtl\"><div class=\"contnr c0 trm rtl  \" ><div class=\"lbl c0 trm \" ><span class=\"nd\">38604</span> <a class=\" txtu hbo\" target=\"_blank\" href=\"https://shebanq.ancient-data.org/hebrew/word?version=c&amp;id=1W\" title=\"Show this on SHEBANQ\"><span class=\"txtu hbo\">וַ</span></a></div></div></div></div><div class=\"contnr c1  rtl  hl\" ><div class=\"lbl c1  hl\" ><span class=\"nd\">phrase:675472</span></div><div class=\"children hor wrap rtl\"><div class=\"contnr c0 trm rtl  hl\" ><div class=\"lbl c0 trm hl\" ><span class=\"nd\">38605</span> <a class=\" txtu hbo\" target=\"_blank\" href=\"https://shebanq.ancient-data.org/hebrew/word?version=c&amp;id=1SPRv\" title=\"Show this on SHEBANQ\"><span class=\"txtu hbo\">יְסַפֵּ֤ר </span></a></div></div></div></div><div class=\"contnr c1  rtl  \" ><div class=\"lbl c1  \" ><span class=\"nd\">phrase:675473</span></div><div class=\"children hor wrap rtl\"><div class=\"contnr c0 trm rtl  \" ><div class=\"lbl c0 trm \" ><span class=\"nd\">38606</span> <a class=\" txtu hbo\" target=\"_blank\" href=\"https://shebanq.ancient-data.org/hebrew/word?version=c&amp;id=1MCHin\" title=\"Show this on SHEBANQ\"><span class=\"txtu hbo\">מֹשֶׁה֙ </span></a></div></div></div></div><div class=\"contnr c1  rtl  \" ><div class=\"lbl c1  \" ><span class=\"nd\">phrase:675474</span></div><div class=\"children hor wrap rtl\"><div class=\"contnr c0 trm rtl  \" ><div class=\"lbl c0 trm \" ><span class=\"nd\">38607</span> <a class=\" txtu hbo\" target=\"_blank\" href=\"https://shebanq.ancient-data.org/hebrew/word?version=c&amp;id=1L\" title=\"Show this on SHEBANQ\"><span class=\"txtu hbo\">לְ</span></a></div></div><div class=\"contnr c0 trm rtl  \" ><div class=\"lbl c0 trm \" ><span class=\"nd\">38608</span> <a class=\" txtu hbo\" target=\"_blank\" href=\"https://shebanq.ancient-data.org/hebrew/word?version=c&amp;id=1XTNv\" title=\"Show this on SHEBANQ\"><span class=\"txtu hbo\">חֹ֣תְנֹ֔ו </span></a></div></div></div></div><div class=\"contnr c1  rtl  \" ><div class=\"lbl c1  \" ><span class=\"nd\">phrase:675475</span></div><div class=\"children hor wrap rtl\"><div class=\"contnr c0 trm rtl  \" ><div class=\"lbl c0 trm \" ><span class=\"nd\">38609</span> <a class=\" txtu hbo\" target=\"_blank\" href=\"https://shebanq.ancient-data.org/hebrew/word?version=c&amp;id=1AT\" title=\"Show this on SHEBANQ\"><span class=\"txtu hbo\">אֵת֩ </span></a></div></div><div class=\"contnr c0 trm rtl  \" ><div class=\"lbl c0 trm \" ><span class=\"nd\">38610</span> <a class=\" txtu hbo\" target=\"_blank\" href=\"https://shebanq.ancient-data.org/hebrew/word?version=c&amp;id=1KLn\" title=\"Show this on SHEBANQ\"><span class=\"txtu hbo\">כָּל־</span></a></div></div></div></div></div></div><div class=\"contnr c2  rtl  hl\" ><div class=\"lbl c2  hl\" ><span class=\"nd\">clause:435508</span></div><div class=\"children hor wrap rtl\"><div class=\"contnr c1  rtl  \" ><div class=\"lbl c1  \" ><span class=\"nd\">phrase:675476</span></div><div class=\"children hor wrap rtl\"><div class=\"contnr c0 trm rtl  \" ><div class=\"lbl c0 trm \" ><span class=\"nd\">38611</span> <a class=\" txtu hbo\" target=\"_blank\" href=\"https://shebanq.ancient-data.org/hebrew/word?version=c&amp;id=1ACR\" title=\"Show this on SHEBANQ\"><span class=\"txtu hbo\">אֲשֶׁ֨ר </span></a></div></div></div></div><div class=\"contnr c1  rtl  hl\" ><div class=\"lbl c1  hl\" ><span class=\"nd\">phrase:675477</span></div><div class=\"children hor wrap rtl\"><div class=\"contnr c0 trm rtl  \" ><div class=\"lbl c0 trm \" ><span class=\"nd\">38612</span> <a class=\" txtu hbo\" target=\"_blank\" href=\"https://shebanq.ancient-data.org/hebrew/word?version=c&amp;id=1OFHv\" title=\"Show this on SHEBANQ\"><span class=\"txtu hbo\">עָשָׂ֤ה </span></a></div></div></div></div><div class=\"contnr c1  rtl  \" ><div class=\"lbl c1  \" ><span class=\"nd\">phrase:675478</span></div><div class=\"children hor wrap rtl\"><div class=\"contnr c0 trm rtl  \" ><div class=\"lbl c0 trm \" ><span class=\"nd\">38613</span> <a class=\" txtu hbo\" target=\"_blank\" href=\"https://shebanq.ancient-data.org/hebrew/word?version=c&amp;id=1JHWHn\" title=\"Show this on SHEBANQ\"><span class=\"txtu hbo\">יְהוָה֙ </span></a></div></div></div></div><div class=\"contnr c1  rtl  \" ><div class=\"lbl c1  \" ><span class=\"nd\">phrase:675479</span></div><div class=\"children hor wrap rtl\"><div class=\"contnr c0 trm rtl  \" ><div class=\"lbl c0 trm \" ><span class=\"nd\">38614</span> <a class=\" txtu hbo\" target=\"_blank\" href=\"https://shebanq.ancient-data.org/hebrew/word?version=c&amp;id=1L\" title=\"Show this on SHEBANQ\"><span class=\"txtu hbo\">לְ</span></a></div></div><div class=\"contnr c0 trm rtl  \" ><div class=\"lbl c0 trm \" ><span class=\"nd\">38615</span> <a class=\" txtu hbo\" target=\"_blank\" href=\"https://shebanq.ancient-data.org/hebrew/word?version=c&amp;id=1PROHn\" title=\"Show this on SHEBANQ\"><span class=\"txtu hbo\">פַרְעֹ֣ה </span></a></div></div><div class=\"contnr c0 trm rtl  \" ><div class=\"lbl c0 trm \" ><span class=\"nd\">38616</span> <a class=\" txtu hbo\" target=\"_blank\" href=\"https://shebanq.ancient-data.org/hebrew/word?version=c&amp;id=1W\" title=\"Show this on SHEBANQ\"><span class=\"txtu hbo\">וּ</span></a></div></div><div class=\"contnr c0 trm rtl  \" ><div class=\"lbl c0 trm \" ><span class=\"nd\">38617</span> <a class=\" txtu hbo\" target=\"_blank\" href=\"https://shebanq.ancient-data.org/hebrew/word?version=c&amp;id=1L\" title=\"Show this on SHEBANQ\"><span class=\"txtu hbo\">לְ</span></a></div></div><div class=\"contnr c0 trm rtl  \" ><div class=\"lbl c0 trm \" ><span class=\"nd\">38618</span> <a class=\" txtu hbo\" target=\"_blank\" href=\"https://shebanq.ancient-data.org/hebrew/word?version=c&amp;id=1MYRJMn\" title=\"Show this on SHEBANQ\"><span class=\"txtu hbo\">מִצְרַ֔יִם </span></a></div></div></div></div><div class=\"contnr c1  rtl  \" ><div class=\"lbl c1  \" ><span class=\"nd\">phrase:675480</span></div><div class=\"children hor wrap rtl\"><div class=\"contnr c0 trm rtl  \" ><div class=\"lbl c0 trm \" ><span class=\"nd\">38619</span> <a class=\" txtu hbo\" target=\"_blank\" href=\"https://shebanq.ancient-data.org/hebrew/word?version=c&amp;id=1OL\" title=\"Show this on SHEBANQ\"><span class=\"txtu hbo\">עַ֖ל </span></a></div></div><div class=\"contnr c0 trm rtl  \" ><div class=\"lbl c0 trm \" ><span class=\"nd\">38620</span> <a class=\" txtu hbo\" target=\"_blank\" href=\"https://shebanq.ancient-data.org/hebrew/word?version=c&amp;id=1AWDWTn\" title=\"Show this on SHEBANQ\"><span class=\"txtu hbo\">אֹודֹ֣ת </span></a></div></div><div class=\"contnr c0 trm rtl  \" ><div class=\"lbl c0 trm \" ><span class=\"nd\">38621</span> <a class=\" txtu hbo\" target=\"_blank\" href=\"https://shebanq.ancient-data.org/hebrew/word?version=c&amp;id=1JFRALn\" title=\"Show this on SHEBANQ\"><span class=\"txtu hbo\">יִשְׂרָאֵ֑ל </span></a></div></div></div></div></div></div><div class=\"contnr c2  rtl  hl\" ><div class=\"lbl c2  hl\" ><span class=\"nd\">clause:435509</span></div><div class=\"children hor wrap rtl\"><div class=\"contnr c1  rtl  hl\" ><div class=\"lbl c1  hl\" ><span class=\"nd\">phrase:675481</span></div><div class=\"children hor wrap rtl\"><div class=\"contnr c0 trm rtl  \" ><div class=\"lbl c0 trm \" ><span class=\"nd\">38622</span> <a class=\" txtu hbo\" target=\"_blank\" href=\"https://shebanq.ancient-data.org/hebrew/word?version=c&amp;id=1AT\" title=\"Show this on SHEBANQ\"><span class=\"txtu hbo\">אֵ֤ת </span></a></div></div><div class=\"contnr c0 trm rtl  hl\" ><div class=\"lbl c0 trm hl\" ><span class=\"nd\">38623</span> <a class=\" txtu hbo\" target=\"_blank\" href=\"https://shebanq.ancient-data.org/hebrew/word?version=c&amp;id=1KLn\" title=\"Show this on SHEBANQ\"><span class=\"txtu hbo\">כָּל־</span></a></div></div><div class=\"contnr c0 trm rtl  \" ><div class=\"lbl c0 trm \" ><span class=\"nd\">38624</span> <a class=\" txtu hbo\" target=\"_blank\" href=\"https://shebanq.ancient-data.org/hebrew/word?version=c&amp;id=1H\" title=\"Show this on SHEBANQ\"><span class=\"txtu hbo\">הַ</span></a></div></div><div class=\"contnr c0 trm rtl  \" ><div class=\"lbl c0 trm \" ><span class=\"nd\">38625</span> <a class=\" txtu hbo\" target=\"_blank\" href=\"https://shebanq.ancient-data.org/hebrew/word?version=c&amp;id=1TLAHn\" title=\"Show this on SHEBANQ\"><span class=\"txtu hbo\">תְּלָאָה֙ </span></a></div></div></div></div></div></div><div class=\"contnr c2  rtl  \" ><div class=\"lbl c2  \" ><span class=\"nd\">clause:435510</span></div><div class=\"children hor wrap rtl\"><div class=\"contnr c1  rtl  \" ><div class=\"lbl c1  \" ><span class=\"nd\">phrase:675482</span></div><div class=\"children hor wrap rtl\"><div class=\"contnr c0 trm rtl  \" ><div class=\"lbl c0 trm \" ><span class=\"nd\">38626</span> <a class=\" txtu hbo\" target=\"_blank\" href=\"https://shebanq.ancient-data.org/hebrew/word?version=c&amp;id=1ACR\" title=\"Show this on SHEBANQ\"><span class=\"txtu hbo\">אֲשֶׁ֣ר </span></a></div></div></div></div><div class=\"contnr c1  rtl  \" ><div class=\"lbl c1  \" ><span class=\"nd\">phrase:675483</span></div><div class=\"children hor wrap rtl\"><div class=\"contnr c0 trm rtl  \" ><div class=\"lbl c0 trm \" ><span class=\"nd\">38627</span> <a class=\" txtu hbo\" target=\"_blank\" href=\"https://shebanq.ancient-data.org/hebrew/word?version=c&amp;id=1MYAv\" title=\"Show this on SHEBANQ\"><span class=\"txtu hbo\">מְצָאָ֣תַם </span></a></div></div></div></div><div class=\"contnr c1  rtl  \" ><div class=\"lbl c1  \" ><span class=\"nd\">phrase:675484</span></div><div class=\"children hor wrap rtl\"><div class=\"contnr c0 trm rtl  \" ><div class=\"lbl c0 trm \" ><span class=\"nd\">38628</span> <a class=\" txtu hbo\" target=\"_blank\" href=\"https://shebanq.ancient-data.org/hebrew/word?version=c&amp;id=1B\" title=\"Show this on SHEBANQ\"><span class=\"txtu hbo\">בַּ</span></a></div></div><div class=\"contnr c0 trm rtl  \" ><div class=\"lbl c0 trm \" ><span class=\"nd\">38629</span> <a class=\" txtu hbo\" target=\"_blank\" href=\"https://shebanq.ancient-data.org/hebrew/word?version=c&amp;id=1H\" title=\"Show this on SHEBANQ\"></a></div></div><div class=\"contnr c0 trm rtl  \" ><div class=\"lbl c0 trm \" ><span class=\"nd\">38630</span> <a class=\" txtu hbo\" target=\"_blank\" href=\"https://shebanq.ancient-data.org/hebrew/word?version=c&amp;id=1DRKn\" title=\"Show this on SHEBANQ\"><span class=\"txtu hbo\">דֶּ֔רֶךְ </span></a></div></div></div></div></div></div><div class=\"contnr c2  rtl  \" ><div class=\"lbl c2  \" ><span class=\"nd\">clause:435511</span></div><div class=\"children hor wrap rtl\"><div class=\"contnr c1  rtl  \" ><div class=\"lbl c1  \" ><span class=\"nd\">phrase:675485</span></div><div class=\"children hor wrap rtl\"><div class=\"contnr c0 trm rtl  \" ><div class=\"lbl c0 trm \" ><span class=\"nd\">38631</span> <a class=\" txtu hbo\" target=\"_blank\" href=\"https://shebanq.ancient-data.org/hebrew/word?version=c&amp;id=1W\" title=\"Show this on SHEBANQ\"><span class=\"txtu hbo\">וַ</span></a></div></div></div></div><div class=\"contnr c1  rtl  \" ><div class=\"lbl c1  \" ><span class=\"nd\">phrase:675486</span></div><div class=\"children hor wrap rtl\"><div class=\"contnr c0 trm rtl  \" ><div class=\"lbl c0 trm \" ><span class=\"nd\">38632</span> <a class=\" txtu hbo\" target=\"_blank\" href=\"https://shebanq.ancient-data.org/hebrew/word?version=c&amp;id=1NYLv\" title=\"Show this on SHEBANQ\"><span class=\"txtu hbo\">יַּצִּלֵ֖ם </span></a></div></div></div></div><div class=\"contnr c1  rtl  \" ><div class=\"lbl c1  \" ><span class=\"nd\">phrase:675487</span></div><div class=\"children hor wrap rtl\"><div class=\"contnr c0 trm rtl  \" ><div class=\"lbl c0 trm \" ><span class=\"nd\">38633</span> <a class=\" txtu hbo\" target=\"_blank\" href=\"https://shebanq.ancient-data.org/hebrew/word?version=c&amp;id=1JHWHn\" title=\"Show this on SHEBANQ\"><span class=\"txtu hbo\">יְהוָֽה׃ </span></a></div></div></div></div></div></div></div></div></div></div></div>"
      ],
      "text/plain": [
       "<IPython.core.display.HTML object>"
      ]
     },
     "metadata": {},
     "output_type": "display_data"
    }
   ],
   "source": [
    "A.show(results, start=10, end=10, withNodes=True, queryFeatures=False)"
   ]
  },
  {
   "cell_type": "markdown",
   "metadata": {},
   "source": [
    "We can also package the results tuples in other things than verses, e.g. sentences, and at the same time cut off the displays at phrases:"
   ]
  },
  {
   "cell_type": "code",
   "execution_count": 41,
   "metadata": {
    "ExecuteTime": {
     "end_time": "2018-04-25T13:58:23.002898Z",
     "start_time": "2018-04-25T13:58:21.622054Z"
    }
   },
   "outputs": [
    {
     "data": {
      "text/html": [
       "<p><b>result</b> <i>10</i></p>"
      ],
      "text/plain": [
       "<IPython.core.display.HTML object>"
      ]
     },
     "metadata": {},
     "output_type": "display_data"
    },
    {
     "data": {
      "text/html": [
       "<div class=\"section rtl\"><a target=\"_blank\" href=\"https://shebanq.ancient-data.org/hebrew/text?book=Exodus&amp;chapter=18&amp;verse=8&amp;version=c&amp;mr=m&amp;qw=q&amp;tp=txt_p&amp;tr=hb&amp;wget=v&amp;qget=v&amp;nget=vt\" title=\"Show this on SHEBANQ\" sec=\"Exodus 18:8\">Exodus 18:8</a></div><div class=\"rtl children\"><div class=\"contnr c2  rtl  \" ><div class=\"lbl c2  \" ><span class=\"nd\">sentence:1178439</span></div><div class=\"children hor wrap rtl\"><div class=\"contnr c2  rtl  hl\" ><div class=\"lbl c2  hl\" ><span class=\"nd\">clause:435507</span></div><div class=\"children hor wrap rtl\"><div class=\"contnr c1 trm rtl  \" ><div class=\"lbl c1 trm \" ><span class=\"nd\">phrase:675471</span> <span class=\"\"><span class=\"plain rtl  \" ><span class=\"txtu hbo\">וַ</span></span></span></div></div><div class=\"contnr c1 trm rtl  hl\" ><div class=\"lbl c1 trm hl\" ><span class=\"nd\">phrase:675472</span> <span class=\"\"><span class=\"plain rtl  \" ><span class=\"plain rtl  hl\" ><span class=\"nd\">38605</span><span class=\"txtu hbo\">יְסַפֵּ֤ר </span></span></span></span></div></div><div class=\"contnr c1 trm rtl  \" ><div class=\"lbl c1 trm \" ><span class=\"nd\">phrase:675473</span> <span class=\"\"><span class=\"plain rtl  \" ><span class=\"txtu hbo\">מֹשֶׁה֙ </span></span></span></div></div><div class=\"contnr c1 trm rtl  \" ><div class=\"lbl c1 trm \" ><span class=\"nd\">phrase:675474</span> <span class=\"\"><span class=\"plain rtl  \" ><span class=\"txtu hbo\">לְ</span><span class=\"txtu hbo\">חֹ֣תְנֹ֔ו </span></span></span></div></div><div class=\"contnr c1 trm rtl  \" ><div class=\"lbl c1 trm \" ><span class=\"nd\">phrase:675475</span> <span class=\"\"><span class=\"plain rtl  \" ><span class=\"txtu hbo\">אֵת֩ </span><span class=\"txtu hbo\">כָּל־</span></span></span></div></div></div></div><div class=\"contnr c2  rtl  hl\" ><div class=\"lbl c2  hl\" ><span class=\"nd\">clause:435508</span></div><div class=\"children hor wrap rtl\"><div class=\"contnr c1 trm rtl  \" ><div class=\"lbl c1 trm \" ><span class=\"nd\">phrase:675476</span> <span class=\"\"><span class=\"plain rtl  \" ><span class=\"txtu hbo\">אֲשֶׁ֨ר </span></span></span></div></div><div class=\"contnr c1 trm rtl  hl\" ><div class=\"lbl c1 trm hl\" ><span class=\"nd\">phrase:675477</span> <span class=\"\"><span class=\"plain rtl  \" ><span class=\"txtu hbo\">עָשָׂ֤ה </span></span></span></div></div><div class=\"contnr c1 trm rtl  \" ><div class=\"lbl c1 trm \" ><span class=\"nd\">phrase:675478</span> <span class=\"\"><span class=\"plain rtl  \" ><span class=\"txtu hbo\">יְהוָה֙ </span></span></span></div></div><div class=\"contnr c1 trm rtl  \" ><div class=\"lbl c1 trm \" ><span class=\"nd\">phrase:675479</span> <span class=\"\"><span class=\"plain rtl  \" ><span class=\"txtu hbo\">לְ</span><span class=\"txtu hbo\">פַרְעֹ֣ה </span><span class=\"txtu hbo\">וּ</span><span class=\"txtu hbo\">לְ</span><span class=\"txtu hbo\">מִצְרַ֔יִם </span></span></span></div></div><div class=\"contnr c1 trm rtl  \" ><div class=\"lbl c1 trm \" ><span class=\"nd\">phrase:675480</span> <span class=\"\"><span class=\"plain rtl  \" ><span class=\"txtu hbo\">עַ֖ל </span><span class=\"txtu hbo\">אֹודֹ֣ת </span><span class=\"txtu hbo\">יִשְׂרָאֵ֑ל </span></span></span></div></div></div></div><div class=\"contnr c2  rtl  hl\" ><div class=\"lbl c2  hl\" ><span class=\"nd\">clause:435509</span></div><div class=\"children hor wrap rtl\"><div class=\"contnr c1 trm rtl  hl\" ><div class=\"lbl c1 trm hl\" ><span class=\"nd\">phrase:675481</span> <span class=\"\"><span class=\"plain rtl  \" ><span class=\"txtu hbo\">אֵ֤ת </span><span class=\"plain rtl  hl\" ><span class=\"nd\">38623</span><span class=\"txtu hbo\">כָּל־</span></span><span class=\"txtu hbo\">הַ</span><span class=\"txtu hbo\">תְּלָאָה֙ </span></span></span></div></div></div></div><div class=\"contnr c2  rtl  \" ><div class=\"lbl c2  \" ><span class=\"nd\">clause:435510</span></div><div class=\"children hor wrap rtl\"><div class=\"contnr c1 trm rtl  \" ><div class=\"lbl c1 trm \" ><span class=\"nd\">phrase:675482</span> <span class=\"\"><span class=\"plain rtl  \" ><span class=\"txtu hbo\">אֲשֶׁ֣ר </span></span></span></div></div><div class=\"contnr c1 trm rtl  \" ><div class=\"lbl c1 trm \" ><span class=\"nd\">phrase:675483</span> <span class=\"\"><span class=\"plain rtl  \" ><span class=\"txtu hbo\">מְצָאָ֣תַם </span></span></span></div></div><div class=\"contnr c1 trm rtl  \" ><div class=\"lbl c1 trm \" ><span class=\"nd\">phrase:675484</span> <span class=\"\"><span class=\"plain rtl  \" ><span class=\"txtu hbo\">בַּ</span><span class=\"txtu hbo\">דֶּ֔רֶךְ </span></span></span></div></div></div></div><div class=\"contnr c2  rtl  \" ><div class=\"lbl c2  \" ><span class=\"nd\">clause:435511</span></div><div class=\"children hor wrap rtl\"><div class=\"contnr c1 trm rtl  \" ><div class=\"lbl c1 trm \" ><span class=\"nd\">phrase:675485</span> <span class=\"\"><span class=\"plain rtl  \" ><span class=\"txtu hbo\">וַ</span></span></span></div></div><div class=\"contnr c1 trm rtl  \" ><div class=\"lbl c1 trm \" ><span class=\"nd\">phrase:675486</span> <span class=\"\"><span class=\"plain rtl  \" ><span class=\"txtu hbo\">יַּצִּלֵ֖ם </span></span></span></div></div><div class=\"contnr c1 trm rtl  \" ><div class=\"lbl c1 trm \" ><span class=\"nd\">phrase:675487</span> <span class=\"\"><span class=\"plain rtl  \" ><span class=\"txtu hbo\">יְהוָֽה׃ </span></span></span></div></div></div></div></div></div></div>"
      ],
      "text/plain": [
       "<IPython.core.display.HTML object>"
      ]
     },
     "metadata": {},
     "output_type": "display_data"
    },
    {
     "data": {
      "text/html": [
       "<p><b>result</b> <i>11</i></p>"
      ],
      "text/plain": [
       "<IPython.core.display.HTML object>"
      ]
     },
     "metadata": {},
     "output_type": "display_data"
    },
    {
     "data": {
      "text/html": [
       "<div class=\"section rtl\"><a target=\"_blank\" href=\"https://shebanq.ancient-data.org/hebrew/text?book=Exodus&amp;chapter=18&amp;verse=8&amp;version=c&amp;mr=m&amp;qw=q&amp;tp=txt_p&amp;tr=hb&amp;wget=v&amp;qget=v&amp;nget=vt\" title=\"Show this on SHEBANQ\" sec=\"Exodus 18:8\">Exodus 18:8</a></div><div class=\"rtl children\"><div class=\"contnr c2  rtl  \" ><div class=\"lbl c2  \" ><span class=\"nd\">sentence:1178439</span></div><div class=\"children hor wrap rtl\"><div class=\"contnr c2  rtl  hl\" ><div class=\"lbl c2  hl\" ><span class=\"nd\">clause:435507</span></div><div class=\"children hor wrap rtl\"><div class=\"contnr c1 trm rtl  \" ><div class=\"lbl c1 trm \" ><span class=\"nd\">phrase:675471</span> <span class=\"\"><span class=\"plain rtl  \" ><span class=\"txtu hbo\">וַ</span></span></span></div></div><div class=\"contnr c1 trm rtl  hl\" ><div class=\"lbl c1 trm hl\" ><span class=\"nd\">phrase:675472</span> <span class=\"\"><span class=\"plain rtl  \" ><span class=\"plain rtl  hl\" ><span class=\"nd\">38605</span><span class=\"txtu hbo\">יְסַפֵּ֤ר </span></span></span></span></div></div><div class=\"contnr c1 trm rtl  \" ><div class=\"lbl c1 trm \" ><span class=\"nd\">phrase:675473</span> <span class=\"\"><span class=\"plain rtl  \" ><span class=\"txtu hbo\">מֹשֶׁה֙ </span></span></span></div></div><div class=\"contnr c1 trm rtl  \" ><div class=\"lbl c1 trm \" ><span class=\"nd\">phrase:675474</span> <span class=\"\"><span class=\"plain rtl  \" ><span class=\"txtu hbo\">לְ</span><span class=\"txtu hbo\">חֹ֣תְנֹ֔ו </span></span></span></div></div><div class=\"contnr c1 trm rtl  \" ><div class=\"lbl c1 trm \" ><span class=\"nd\">phrase:675475</span> <span class=\"\"><span class=\"plain rtl  \" ><span class=\"txtu hbo\">אֵת֩ </span><span class=\"txtu hbo\">כָּל־</span></span></span></div></div></div></div><div class=\"contnr c2  rtl  hl\" ><div class=\"lbl c2  hl\" ><span class=\"nd\">clause:435508</span></div><div class=\"children hor wrap rtl\"><div class=\"contnr c1 trm rtl  \" ><div class=\"lbl c1 trm \" ><span class=\"nd\">phrase:675476</span> <span class=\"\"><span class=\"plain rtl  \" ><span class=\"txtu hbo\">אֲשֶׁ֨ר </span></span></span></div></div><div class=\"contnr c1 trm rtl  hl\" ><div class=\"lbl c1 trm hl\" ><span class=\"nd\">phrase:675477</span> <span class=\"\"><span class=\"plain rtl  \" ><span class=\"txtu hbo\">עָשָׂ֤ה </span></span></span></div></div><div class=\"contnr c1 trm rtl  \" ><div class=\"lbl c1 trm \" ><span class=\"nd\">phrase:675478</span> <span class=\"\"><span class=\"plain rtl  \" ><span class=\"txtu hbo\">יְהוָה֙ </span></span></span></div></div><div class=\"contnr c1 trm rtl  \" ><div class=\"lbl c1 trm \" ><span class=\"nd\">phrase:675479</span> <span class=\"\"><span class=\"plain rtl  \" ><span class=\"txtu hbo\">לְ</span><span class=\"txtu hbo\">פַרְעֹ֣ה </span><span class=\"txtu hbo\">וּ</span><span class=\"txtu hbo\">לְ</span><span class=\"txtu hbo\">מִצְרַ֔יִם </span></span></span></div></div><div class=\"contnr c1 trm rtl  \" ><div class=\"lbl c1 trm \" ><span class=\"nd\">phrase:675480</span> <span class=\"\"><span class=\"plain rtl  \" ><span class=\"txtu hbo\">עַ֖ל </span><span class=\"txtu hbo\">אֹודֹ֣ת </span><span class=\"txtu hbo\">יִשְׂרָאֵ֑ל </span></span></span></div></div></div></div><div class=\"contnr c2  rtl  hl\" ><div class=\"lbl c2  hl\" ><span class=\"nd\">clause:435509</span></div><div class=\"children hor wrap rtl\"><div class=\"contnr c1 trm rtl  hl\" ><div class=\"lbl c1 trm hl\" ><span class=\"nd\">phrase:675481</span> <span class=\"\"><span class=\"plain rtl  \" ><span class=\"txtu hbo\">אֵ֤ת </span><span class=\"txtu hbo\">כָּל־</span><span class=\"txtu hbo\">הַ</span><span class=\"plain rtl  hl\" ><span class=\"nd\">38625</span><span class=\"txtu hbo\">תְּלָאָה֙ </span></span></span></span></div></div></div></div><div class=\"contnr c2  rtl  \" ><div class=\"lbl c2  \" ><span class=\"nd\">clause:435510</span></div><div class=\"children hor wrap rtl\"><div class=\"contnr c1 trm rtl  \" ><div class=\"lbl c1 trm \" ><span class=\"nd\">phrase:675482</span> <span class=\"\"><span class=\"plain rtl  \" ><span class=\"txtu hbo\">אֲשֶׁ֣ר </span></span></span></div></div><div class=\"contnr c1 trm rtl  \" ><div class=\"lbl c1 trm \" ><span class=\"nd\">phrase:675483</span> <span class=\"\"><span class=\"plain rtl  \" ><span class=\"txtu hbo\">מְצָאָ֣תַם </span></span></span></div></div><div class=\"contnr c1 trm rtl  \" ><div class=\"lbl c1 trm \" ><span class=\"nd\">phrase:675484</span> <span class=\"\"><span class=\"plain rtl  \" ><span class=\"txtu hbo\">בַּ</span><span class=\"txtu hbo\">דֶּ֔רֶךְ </span></span></span></div></div></div></div><div class=\"contnr c2  rtl  \" ><div class=\"lbl c2  \" ><span class=\"nd\">clause:435511</span></div><div class=\"children hor wrap rtl\"><div class=\"contnr c1 trm rtl  \" ><div class=\"lbl c1 trm \" ><span class=\"nd\">phrase:675485</span> <span class=\"\"><span class=\"plain rtl  \" ><span class=\"txtu hbo\">וַ</span></span></span></div></div><div class=\"contnr c1 trm rtl  \" ><div class=\"lbl c1 trm \" ><span class=\"nd\">phrase:675486</span> <span class=\"\"><span class=\"plain rtl  \" ><span class=\"txtu hbo\">יַּצִּלֵ֖ם </span></span></span></div></div><div class=\"contnr c1 trm rtl  \" ><div class=\"lbl c1 trm \" ><span class=\"nd\">phrase:675487</span> <span class=\"\"><span class=\"plain rtl  \" ><span class=\"txtu hbo\">יְהוָֽה׃ </span></span></span></div></div></div></div></div></div></div>"
      ],
      "text/plain": [
       "<IPython.core.display.HTML object>"
      ]
     },
     "metadata": {},
     "output_type": "display_data"
    },
    {
     "data": {
      "text/html": [
       "<p><b>result</b> <i>12</i></p>"
      ],
      "text/plain": [
       "<IPython.core.display.HTML object>"
      ]
     },
     "metadata": {},
     "output_type": "display_data"
    },
    {
     "data": {
      "text/html": [
       "<div class=\"section rtl\"><a target=\"_blank\" href=\"https://shebanq.ancient-data.org/hebrew/text?book=Exodus&amp;chapter=23&amp;verse=15&amp;version=c&amp;mr=m&amp;qw=q&amp;tp=txt_p&amp;tr=hb&amp;wget=v&amp;qget=v&amp;nget=vt\" title=\"Show this on SHEBANQ\" sec=\"Exodus 23:15\">Exodus 23:15</a></div><div class=\"rtl children\"><div class=\"contnr c2  rtl l \" ><div class=\"lbl c2  \" ><span class=\"nd\">sentence:1178876</span></div><div class=\"children hor wrap rtl\"><div class=\"contnr c2  rtl  hl\" ><div class=\"lbl c2  hl\" ><span class=\"nd\">clause:436054</span></div><div class=\"children hor wrap rtl\"><div class=\"contnr c1 trm rtl  \" ><div class=\"lbl c1 trm \" ><span class=\"nd\">phrase:677181</span> <span class=\"\"><span class=\"plain rtl  \" ><span class=\"txtu hbo\">אֶת־</span><span class=\"txtu hbo\">חַ֣ג </span><span class=\"txtu hbo\">הַ</span><span class=\"txtu hbo\">מַּצֹּות֮ </span></span></span></div></div><div class=\"contnr c1 trm rtl  hl\" ><div class=\"lbl c1 trm hl\" ><span class=\"nd\">phrase:677182</span> <span class=\"\"><span class=\"plain rtl  \" ><span class=\"plain rtl  hl\" ><span class=\"nd\">41256</span><span class=\"txtu hbo\">תִּשְׁמֹר֒ </span></span></span></span></div></div></div></div></div></div><div class=\"contnr c2  rtl r \" ><div class=\"lbl c2  \" ><span class=\"nd\">sentence:1178876</span></div><div class=\"children hor wrap rtl\"><div class=\"contnr c2  rtl  \" ><div class=\"lbl c2  \" ><span class=\"nd\">clause:436059</span></div><div class=\"children hor wrap rtl\"><div class=\"contnr c1 trm rtl  \" ><div class=\"lbl c1 trm \" ><span class=\"nd\">phrase:677199</span> <span class=\"\"><span class=\"plain rtl  \" ><span class=\"txtu hbo\">וְ</span></span></span></div></div><div class=\"contnr c1 trm rtl  \" ><div class=\"lbl c1 trm \" ><span class=\"nd\">phrase:677200</span> <span class=\"\"><span class=\"plain rtl  \" ><span class=\"txtu hbo\">חַ֤ג </span><span class=\"txtu hbo\">הַ</span><span class=\"txtu hbo\">קָּצִיר֙ </span></span></span></div></div><div class=\"contnr c1 trm rtl  \" ><div class=\"lbl c1 trm \" ><span class=\"nd\">phrase:677201</span> <span class=\"\"><span class=\"plain rtl  \" ><span class=\"txtu hbo\">בִּכּוּרֵ֣י </span><span class=\"txtu hbo\">מַעֲשֶׂ֔יךָ </span></span></span></div></div></div></div><div class=\"contnr c2  rtl  hl\" ><div class=\"lbl c2  hl\" ><span class=\"nd\">clause:436060</span></div><div class=\"children hor wrap rtl\"><div class=\"contnr c1 trm rtl  \" ><div class=\"lbl c1 trm \" ><span class=\"nd\">phrase:677202</span> <span class=\"\"><span class=\"plain rtl  \" ><span class=\"txtu hbo\">אֲשֶׁ֥ר </span></span></span></div></div><div class=\"contnr c1 trm rtl  hl\" ><div class=\"lbl c1 trm hl\" ><span class=\"nd\">phrase:677203</span> <span class=\"\"><span class=\"plain rtl  \" ><span class=\"txtu hbo\">תִּזְרַ֖ע </span></span></span></div></div><div class=\"contnr c1 trm rtl  \" ><div class=\"lbl c1 trm \" ><span class=\"nd\">phrase:677204</span> <span class=\"\"><span class=\"plain rtl  \" ><span class=\"txtu hbo\">בַּ</span><span class=\"txtu hbo\">שָּׂדֶ֑ה </span></span></span></div></div></div></div><div class=\"contnr c2  rtl  hl\" ><div class=\"lbl c2  hl\" ><span class=\"nd\">clause:436061</span></div><div class=\"children hor wrap rtl\"><div class=\"contnr c1 trm rtl  \" ><div class=\"lbl c1 trm \" ><span class=\"nd\">phrase:677205</span> <span class=\"\"><span class=\"plain rtl  \" ><span class=\"txtu hbo\">וְ</span></span></span></div></div><div class=\"contnr c1 trm rtl  hl\" ><div class=\"lbl c1 trm hl\" ><span class=\"nd\">phrase:677206</span> <span class=\"\"><span class=\"plain rtl  \" ><span class=\"plain rtl  hl\" ><span class=\"nd\">41291</span><span class=\"txtu hbo\">חַ֤ג </span></span><span class=\"txtu hbo\">הָֽ</span><span class=\"txtu hbo\">אָסִף֙ </span></span></span></div></div></div></div><div class=\"contnr c2  rtl  \" ><div class=\"lbl c2  \" ><span class=\"nd\">clause:436062</span></div><div class=\"children hor wrap rtl\"><div class=\"contnr c1 trm rtl  \" ><div class=\"lbl c1 trm \" ><span class=\"nd\">phrase:677207</span> <span class=\"\"><span class=\"plain rtl  \" ><span class=\"txtu hbo\">בְּ</span><span class=\"txtu hbo\">צֵ֣את </span></span></span></div></div><div class=\"contnr c1 trm rtl  \" ><div class=\"lbl c1 trm \" ><span class=\"nd\">phrase:677208</span> <span class=\"\"><span class=\"plain rtl  \" ><span class=\"txtu hbo\">הַ</span><span class=\"txtu hbo\">שָּׁנָ֔ה </span></span></span></div></div></div></div><div class=\"contnr c2  rtl  \" ><div class=\"lbl c2  \" ><span class=\"nd\">clause:436063</span></div><div class=\"children hor wrap rtl\"><div class=\"contnr c1 trm rtl  \" ><div class=\"lbl c1 trm \" ><span class=\"nd\">phrase:677209</span> <span class=\"\"><span class=\"plain rtl  \" ><span class=\"txtu hbo\">בְּ</span><span class=\"txtu hbo\">אָסְפְּךָ֥ </span></span></span></div></div><div class=\"contnr c1 trm rtl  \" ><div class=\"lbl c1 trm \" ><span class=\"nd\">phrase:677210</span> <span class=\"\"><span class=\"plain rtl  \" ><span class=\"txtu hbo\">אֶֽת־</span><span class=\"txtu hbo\">מַעֲשֶׂ֖יךָ </span></span></span></div></div><div class=\"contnr c1 trm rtl  \" ><div class=\"lbl c1 trm \" ><span class=\"nd\">phrase:677211</span> <span class=\"\"><span class=\"plain rtl  \" ><span class=\"txtu hbo\">מִן־</span><span class=\"txtu hbo\">הַ</span><span class=\"txtu hbo\">שָּׂדֶֽה׃ </span></span></span></div></div></div></div></div></div></div>"
      ],
      "text/plain": [
       "<IPython.core.display.HTML object>"
      ]
     },
     "metadata": {},
     "output_type": "display_data"
    }
   ],
   "source": [
    "A.displaySetup(queryFeatures=False)\n",
    "A.show(\n",
    "    results,\n",
    "    start=10,\n",
    "    end=12,\n",
    "    withNodes=True,\n",
    "    condenseType=\"sentence\",\n",
    "    baseTypes={\"phrase\"},\n",
    ")"
   ]
  },
  {
   "cell_type": "markdown",
   "metadata": {},
   "source": [
    "Note, that now the phrases are heavily highlighted whereas the highlighted words just have a box around them."
   ]
  },
  {
   "cell_type": "markdown",
   "metadata": {},
   "source": [
    "Let's leave out some information:"
   ]
  },
  {
   "cell_type": "code",
   "execution_count": 42,
   "metadata": {
    "ExecuteTime": {
     "end_time": "2018-04-25T13:58:23.002898Z",
     "start_time": "2018-04-25T13:58:21.622054Z"
    }
   },
   "outputs": [
    {
     "data": {
      "text/html": [
       "<p><b>result</b> <i>10</i></p>"
      ],
      "text/plain": [
       "<IPython.core.display.HTML object>"
      ]
     },
     "metadata": {},
     "output_type": "display_data"
    },
    {
     "data": {
      "text/html": [
       "<div class=\"rtl children\"><div class=\"contnr c2  rtl  \" ><div class=\"children hor wrap rtl\"><div class=\"contnr c2 trm rtl  hl\" ><div class=\"lbl c2 trm hl\" ><span class=\"\"><span class=\"plain rtl  \" ><span class=\"txtu hbo\">וַ</span><span class=\"plain rtl  hlbx\" ><span class=\"plain rtl  hl\" ><span class=\"txtu hbo\">יְסַפֵּ֤ר </span></span></span><span class=\"txtu hbo\">מֹשֶׁה֙ </span><span class=\"txtu hbo\">לְ</span><span class=\"txtu hbo\">חֹ֣תְנֹ֔ו </span><span class=\"txtu hbo\">אֵת֩ </span><span class=\"txtu hbo\">כָּל־</span></span></span></div></div><div class=\"contnr c2 trm rtl  hl\" ><div class=\"lbl c2 trm hl\" ><span class=\"\"><span class=\"plain rtl  \" ><span class=\"txtu hbo\">אֲשֶׁ֨ר </span><span class=\"plain rtl  hlbx\" ><span class=\"txtu hbo\">עָשָׂ֤ה </span></span><span class=\"txtu hbo\">יְהוָה֙ </span><span class=\"txtu hbo\">לְ</span><span class=\"txtu hbo\">פַרְעֹ֣ה </span><span class=\"txtu hbo\">וּ</span><span class=\"txtu hbo\">לְ</span><span class=\"txtu hbo\">מִצְרַ֔יִם </span><span class=\"txtu hbo\">עַ֖ל </span><span class=\"txtu hbo\">אֹודֹ֣ת </span><span class=\"txtu hbo\">יִשְׂרָאֵ֑ל </span></span></span></div></div><div class=\"contnr c2 trm rtl  hl\" ><div class=\"lbl c2 trm hl\" ><span class=\"\"><span class=\"plain rtl  \" ><span class=\"plain rtl  hlbx\" ><span class=\"txtu hbo\">אֵ֤ת </span><span class=\"plain rtl  hl\" ><span class=\"txtu hbo\">כָּל־</span></span><span class=\"txtu hbo\">הַ</span><span class=\"txtu hbo\">תְּלָאָה֙ </span></span></span></span></div></div><div class=\"contnr c2 trm rtl  \" ><div class=\"lbl c2 trm \" ><span class=\"\"><span class=\"plain rtl  \" ><span class=\"txtu hbo\">אֲשֶׁ֣ר </span><span class=\"txtu hbo\">מְצָאָ֣תַם </span><span class=\"txtu hbo\">בַּ</span><span class=\"txtu hbo\">דֶּ֔רֶךְ </span></span></span></div></div><div class=\"contnr c2 trm rtl  \" ><div class=\"lbl c2 trm \" ><span class=\"\"><span class=\"plain rtl  \" ><span class=\"txtu hbo\">וַ</span><span class=\"txtu hbo\">יַּצִּלֵ֖ם </span><span class=\"txtu hbo\">יְהוָֽה׃ </span></span></span></div></div></div></div></div>"
      ],
      "text/plain": [
       "<IPython.core.display.HTML object>"
      ]
     },
     "metadata": {},
     "output_type": "display_data"
    },
    {
     "data": {
      "text/html": [
       "<p><b>result</b> <i>11</i></p>"
      ],
      "text/plain": [
       "<IPython.core.display.HTML object>"
      ]
     },
     "metadata": {},
     "output_type": "display_data"
    },
    {
     "data": {
      "text/html": [
       "<div class=\"rtl children\"><div class=\"contnr c2  rtl  \" ><div class=\"children hor wrap rtl\"><div class=\"contnr c2 trm rtl  hl\" ><div class=\"lbl c2 trm hl\" ><span class=\"\"><span class=\"plain rtl  \" ><span class=\"txtu hbo\">וַ</span><span class=\"plain rtl  hlbx\" ><span class=\"plain rtl  hl\" ><span class=\"txtu hbo\">יְסַפֵּ֤ר </span></span></span><span class=\"txtu hbo\">מֹשֶׁה֙ </span><span class=\"txtu hbo\">לְ</span><span class=\"txtu hbo\">חֹ֣תְנֹ֔ו </span><span class=\"txtu hbo\">אֵת֩ </span><span class=\"txtu hbo\">כָּל־</span></span></span></div></div><div class=\"contnr c2 trm rtl  hl\" ><div class=\"lbl c2 trm hl\" ><span class=\"\"><span class=\"plain rtl  \" ><span class=\"txtu hbo\">אֲשֶׁ֨ר </span><span class=\"plain rtl  hlbx\" ><span class=\"txtu hbo\">עָשָׂ֤ה </span></span><span class=\"txtu hbo\">יְהוָה֙ </span><span class=\"txtu hbo\">לְ</span><span class=\"txtu hbo\">פַרְעֹ֣ה </span><span class=\"txtu hbo\">וּ</span><span class=\"txtu hbo\">לְ</span><span class=\"txtu hbo\">מִצְרַ֔יִם </span><span class=\"txtu hbo\">עַ֖ל </span><span class=\"txtu hbo\">אֹודֹ֣ת </span><span class=\"txtu hbo\">יִשְׂרָאֵ֑ל </span></span></span></div></div><div class=\"contnr c2 trm rtl  hl\" ><div class=\"lbl c2 trm hl\" ><span class=\"\"><span class=\"plain rtl  \" ><span class=\"plain rtl  hlbx\" ><span class=\"txtu hbo\">אֵ֤ת </span><span class=\"txtu hbo\">כָּל־</span><span class=\"txtu hbo\">הַ</span><span class=\"plain rtl  hl\" ><span class=\"txtu hbo\">תְּלָאָה֙ </span></span></span></span></span></div></div><div class=\"contnr c2 trm rtl  \" ><div class=\"lbl c2 trm \" ><span class=\"\"><span class=\"plain rtl  \" ><span class=\"txtu hbo\">אֲשֶׁ֣ר </span><span class=\"txtu hbo\">מְצָאָ֣תַם </span><span class=\"txtu hbo\">בַּ</span><span class=\"txtu hbo\">דֶּ֔רֶךְ </span></span></span></div></div><div class=\"contnr c2 trm rtl  \" ><div class=\"lbl c2 trm \" ><span class=\"\"><span class=\"plain rtl  \" ><span class=\"txtu hbo\">וַ</span><span class=\"txtu hbo\">יַּצִּלֵ֖ם </span><span class=\"txtu hbo\">יְהוָֽה׃ </span></span></span></div></div></div></div></div>"
      ],
      "text/plain": [
       "<IPython.core.display.HTML object>"
      ]
     },
     "metadata": {},
     "output_type": "display_data"
    },
    {
     "data": {
      "text/html": [
       "<p><b>result</b> <i>12</i></p>"
      ],
      "text/plain": [
       "<IPython.core.display.HTML object>"
      ]
     },
     "metadata": {},
     "output_type": "display_data"
    },
    {
     "data": {
      "text/html": [
       "<div class=\"rtl children\"><div class=\"contnr c2  rtl l \" ><div class=\"children hor wrap rtl\"><div class=\"contnr c2 trm rtl  hl\" ><div class=\"lbl c2 trm hl\" ><span class=\"\"><span class=\"plain rtl  \" ><span class=\"txtu hbo\">אֶת־</span><span class=\"txtu hbo\">חַ֣ג </span><span class=\"txtu hbo\">הַ</span><span class=\"txtu hbo\">מַּצֹּות֮ </span><span class=\"plain rtl  hlbx\" ><span class=\"plain rtl  hl\" ><span class=\"txtu hbo\">תִּשְׁמֹר֒ </span></span></span></span></span></div></div></div></div><div class=\"contnr c2  rtl r \" ><div class=\"children hor wrap rtl\"><div class=\"contnr c2 trm rtl  \" ><div class=\"lbl c2 trm \" ><span class=\"\"><span class=\"plain rtl  \" ><span class=\"txtu hbo\">וְ</span><span class=\"txtu hbo\">חַ֤ג </span><span class=\"txtu hbo\">הַ</span><span class=\"txtu hbo\">קָּצִיר֙ </span><span class=\"txtu hbo\">בִּכּוּרֵ֣י </span><span class=\"txtu hbo\">מַעֲשֶׂ֔יךָ </span></span></span></div></div><div class=\"contnr c2 trm rtl  hl\" ><div class=\"lbl c2 trm hl\" ><span class=\"\"><span class=\"plain rtl  \" ><span class=\"txtu hbo\">אֲשֶׁ֥ר </span><span class=\"plain rtl  hlbx\" ><span class=\"txtu hbo\">תִּזְרַ֖ע </span></span><span class=\"txtu hbo\">בַּ</span><span class=\"txtu hbo\">שָּׂדֶ֑ה </span></span></span></div></div><div class=\"contnr c2 trm rtl  hl\" ><div class=\"lbl c2 trm hl\" ><span class=\"\"><span class=\"plain rtl  \" ><span class=\"txtu hbo\">וְ</span><span class=\"plain rtl  hlbx\" ><span class=\"plain rtl  hl\" ><span class=\"txtu hbo\">חַ֤ג </span></span><span class=\"txtu hbo\">הָֽ</span><span class=\"txtu hbo\">אָסִף֙ </span></span></span></span></div></div><div class=\"contnr c2 trm rtl  \" ><div class=\"lbl c2 trm \" ><span class=\"\"><span class=\"plain rtl  \" ><span class=\"txtu hbo\">בְּ</span><span class=\"txtu hbo\">צֵ֣את </span><span class=\"txtu hbo\">הַ</span><span class=\"txtu hbo\">שָּׁנָ֔ה </span></span></span></div></div><div class=\"contnr c2 trm rtl  \" ><div class=\"lbl c2 trm \" ><span class=\"\"><span class=\"plain rtl  \" ><span class=\"txtu hbo\">בְּ</span><span class=\"txtu hbo\">אָסְפְּךָ֥ </span><span class=\"txtu hbo\">אֶֽת־</span><span class=\"txtu hbo\">מַעֲשֶׂ֖יךָ </span><span class=\"txtu hbo\">מִן־</span><span class=\"txtu hbo\">הַ</span><span class=\"txtu hbo\">שָּׂדֶֽה׃ </span></span></span></div></div></div></div></div>"
      ],
      "text/plain": [
       "<IPython.core.display.HTML object>"
      ]
     },
     "metadata": {},
     "output_type": "display_data"
    }
   ],
   "source": [
    "A.show(\n",
    "    results,\n",
    "    start=10,\n",
    "    end=12,\n",
    "    withNodes=False,\n",
    "    prettyTypes=False,\n",
    "    condenseType=\"sentence\",\n",
    "    baseTypes={\"clause\"},\n",
    "    withPassage=False,\n",
    ")"
   ]
  },
  {
   "cell_type": "markdown",
   "metadata": {},
   "source": [
    "# All steps\n",
    "\n",
    "* **[start](start.ipynb)** your first step in mastering the bible computationally\n",
    "* **display** become an expert in creating pretty displays of your text structures\n",
    "* **[search](search.ipynb)** turbo charge your hand-coding with search templates\n",
    "* **[exportExcel](exportExcel.ipynb)** make tailor-made spreadsheets out of your results\n",
    "* **[share](share.ipynb)** draw in other people's data and let them use yours\n",
    "* **[export](export.ipynb)** export your dataset as an Emdros database\n",
    "* **[annotate](annotate.ipynb)** annotate plain text by means of other tools and import the annotations as TF features\n",
    "* **[volumes](volumes.ipynb)** work with selected books only\n",
    "* **[trees](trees.ipynb)** work with the BHSA data as syntax trees\n",
    "\n",
    "CC-BY Dirk Roorda"
   ]
  }
 ],
 "metadata": {
  "kernelspec": {
   "display_name": "Python 3",
   "language": "python",
   "name": "python3"
  },
  "language_info": {
   "codemirror_mode": {
    "name": "ipython",
    "version": 3
   },
   "file_extension": ".py",
   "mimetype": "text/x-python",
   "name": "python",
   "nbconvert_exporter": "python",
   "pygments_lexer": "ipython3",
   "version": "3.9.5"
  },
  "toc": {
   "base_numbering": 1,
   "nav_menu": {},
   "number_sections": true,
   "sideBar": true,
   "skip_h1_title": true,
   "title_cell": "Table of Contents",
   "title_sidebar": "Contents",
   "toc_cell": true,
   "toc_position": {},
   "toc_section_display": "block",
   "toc_window_display": false
  },
  "widgets": {
   "application/vnd.jupyter.widget-state+json": {
    "state": {},
    "version_major": 2,
    "version_minor": 0
   }
  }
 },
 "nbformat": 4,
 "nbformat_minor": 4
}
