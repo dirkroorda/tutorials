{
 "cells": [
  {
   "cell_type": "markdown",
   "metadata": {},
   "source": [
    "<img align=\"right\" src=\"images/tf-small.png\" width=\"128\"/>\n",
    "<img align=\"right\" src=\"images/etcbc.png\"/>\n",
    "<img align=\"right\" src=\"images/dans-small.png\"/>\n",
    "\n",
    "# Tutorial\n",
    "\n",
    "This notebook gets you started with using\n",
    "[Text-Fabric](https://annotation.github.io/text-fabric/) for coding in the Hebrew Bible.\n",
    "\n",
    "Familiarity with the underlying\n",
    "[data model](https://annotation.github.io/text-fabric/tf/about/datamodel.html)\n",
    "is recommended.\n",
    "\n",
    "Short introductions to other TF datasets:\n",
    "\n",
    "* [Dead Sea Scrolls](https://nbviewer.jupyter.org/github/annotation/tutorials/blob/master/lorentz2020/dss.ipynb),\n",
    "* [Old Babylonian Letters](https://nbviewer.jupyter.org/github/annotation/tutorials/blob/master/lorentz2020/oldbabylonian.ipynb),\n",
    "or the\n",
    "* [Q'uran](https://nbviewer.jupyter.org/github/annotation/tutorials/blob/master/lorentz2020/quran.ipynb)\n"
   ]
  },
  {
   "cell_type": "markdown",
   "metadata": {},
   "source": [
    "## Installing Text-Fabric\n",
    "\n",
    "### Python\n",
    "\n",
    "You need to have Python on your system. Most systems have it out of the box,\n",
    "but alas, that is python2 and we need at least python **3.6.3**.\n",
    "\n",
    "Install it from [python.org](https://www.python.org) or from\n",
    "[Anaconda](https://www.anaconda.com/download).\n",
    "\n",
    "### TF itself\n",
    "\n",
    "```\n",
    "pip3 install text-fabric\n",
    "```\n",
    "\n",
    "### Jupyter notebook\n",
    "\n",
    "You need [Jupyter](http://jupyter.org).\n",
    "\n",
    "If it is not already installed:\n",
    "\n",
    "```\n",
    "pip3 install jupyter\n",
    "```"
   ]
  },
  {
   "cell_type": "markdown",
   "metadata": {},
   "source": [
    "## Tip\n",
    "If you start computing with this tutorial, first copy its parent directory to somewhere else,\n",
    "outside your `bhsa` directory.\n",
    "If you pull changes from the `bhsa` repository later, your work will not be overwritten.\n",
    "Where you put your tutorial directory is up till you.\n",
    "It will work from any directory."
   ]
  },
  {
   "cell_type": "markdown",
   "metadata": {},
   "source": [
    "## BHSA data\n",
    "\n",
    "Text-Fabric will fetch a standard set of features for you from the newest github release binaries.\n",
    "\n",
    "It will fetch version `c`.\n",
    "\n",
    "The data will be stored in the `text-fabric-data` in your home directory.\n"
   ]
  },
  {
   "cell_type": "markdown",
   "metadata": {},
   "source": [
    "# Features\n",
    "The data of the BHSA is organized in features.\n",
    "They are *columns* of data.\n",
    "Think of the Hebrew Bible as a gigantic spreadsheet, where row 1 corresponds to the\n",
    "first word, row 2 to the second word, and so on, for all 425,000 words.\n",
    "\n",
    "The information which part-of-speech each word is, constitutes a column in that spreadsheet.\n",
    "The BHSA contains over 100 columns, not only for the 425,000 words, but also for a million more\n",
    "textual objects.\n",
    "\n",
    "Instead of putting that information in one big table, the data is organized in separate columns.\n",
    "We call those columns **features**."
   ]
  },
  {
   "cell_type": "code",
   "execution_count": 1,
   "metadata": {},
   "outputs": [],
   "source": [
    "%load_ext autoreload\n",
    "%autoreload 2"
   ]
  },
  {
   "cell_type": "code",
   "execution_count": 2,
   "metadata": {
    "ExecuteTime": {
     "end_time": "2018-05-18T09:17:16.202764Z",
     "start_time": "2018-05-18T09:17:16.197546Z"
    }
   },
   "outputs": [],
   "source": [
    "import os\n",
    "import collections\n",
    "from itertools import chain"
   ]
  },
  {
   "cell_type": "markdown",
   "metadata": {},
   "source": [
    "# Incantation\n",
    "\n",
    "The simplest way to get going is by this *incantation*:"
   ]
  },
  {
   "cell_type": "code",
   "execution_count": 3,
   "metadata": {
    "ExecuteTime": {
     "end_time": "2018-05-18T09:17:17.537171Z",
     "start_time": "2018-05-18T09:17:17.517809Z"
    }
   },
   "outputs": [],
   "source": [
    "from tf.app import use"
   ]
  },
  {
   "cell_type": "markdown",
   "metadata": {},
   "source": [
    "For the very last version, use `hot`.\n",
    "\n",
    "For the latest release, use `latest`.\n",
    "\n",
    "If you have cloned the repos (TF app and data), use `clone`.\n",
    "\n",
    "If you do not want/need to upgrade, leave out the checkout specifiers."
   ]
  },
  {
   "cell_type": "code",
   "execution_count": 4,
   "metadata": {},
   "outputs": [
    {
     "data": {
      "text/html": [
       "<b title=\"local release\">TF-app:</b> <span title=\"rv2.4.0=#571428c995d309c43ff592f885a5ebb42a87be6f offline under ~/text-fabric-data\">~/text-fabric-data/annotation/app-bhsa/code</span>"
      ],
      "text/plain": [
       "<IPython.core.display.HTML object>"
      ]
     },
     "metadata": {},
     "output_type": "display_data"
    },
    {
     "data": {
      "text/html": [
       "<b title=\"local release\">data:</b> <span title=\"rv1.7=#69f339de4eb38151e01ab56bc8cd85eca0bf78ba offline under ~/text-fabric-data\">~/text-fabric-data/etcbc/bhsa/tf/2021</span>"
      ],
      "text/plain": [
       "<IPython.core.display.HTML object>"
      ]
     },
     "metadata": {},
     "output_type": "display_data"
    },
    {
     "data": {
      "text/html": [
       "<b title=\"local release\">data:</b> <span title=\"rv2.0=#d74f7b52866927c316dfcaa2ac89eb51ea59c5dc offline under ~/text-fabric-data\">~/text-fabric-data/etcbc/phono/tf/2021</span>"
      ],
      "text/plain": [
       "<IPython.core.display.HTML object>"
      ]
     },
     "metadata": {},
     "output_type": "display_data"
    },
    {
     "data": {
      "text/html": [
       "<b title=\"local release\">data:</b> <span title=\"rv2.0=#2fb9e94de8ffc07e9e515e3efa36e502f95bdcea offline under ~/text-fabric-data\">~/text-fabric-data/etcbc/parallels/tf/2021</span>"
      ],
      "text/plain": [
       "<IPython.core.display.HTML object>"
      ]
     },
     "metadata": {},
     "output_type": "display_data"
    },
    {
     "name": "stdout",
     "output_type": "stream",
     "text": [
      "This is Text-Fabric 9.0.3\n",
      "Api reference : https://annotation.github.io/text-fabric/tf/cheatsheet.html\n",
      "\n",
      "121 features found and 0 ignored\n"
     ]
    },
    {
     "data": {
      "text/html": [
       "<b>Text-Fabric:</b> <a target=\"_blank\" href=\"https://annotation.github.io/text-fabric/tf/cheatsheet.html\" title=\"text-fabric-api\">Text-Fabric API 9.0.3</a>, <a target=\"_blank\" href=\"https://github.com/annotation/app-bhsa\" title=\"bhsa TF-app\">app-bhsa v3</a>, <a target=\"_blank\" href=\"https://annotation.github.io/text-fabric/tf/about/searchusage.html\" title=\"Search Templates Introduction and Reference\">Search Reference</a><br><b>Data:</b> <a target=\"_blank\" href=\"https://etcbc.github.io/bhsa/0_home\" title=\"provenance of BHSA = Biblia Hebraica Stuttgartensia Amstelodamensis\">BHSA</a>, <a target=\"_blank\" href=\"https://annotation.github.io/text-fabric/tf/writing/hebrew.html\" title=\"How TF features represent text\">Character table</a>, <a target=\"_blank\" href=\"https://etcbc.github.io/bhsa/features/0_home\" title=\"BHSA feature documentation\">Feature docs</a><br><b>Features:</b><br><details><summary><b>Parallel Passages</b></summary><b><i><a target=\"_blank\" href=\"https://nbviewer.jupyter.org/github/etcbc/parallels/blob/master/programs/parallels.ipynb\" title=\"~/text-fabric-data/etcbc/parallels/tf/2021/crossref.tf\">crossref</a></i></b><br></details><details><summary><b>BHSA = Biblia Hebraica Stuttgartensia Amstelodamensis</b></summary><a target=\"_blank\" href=\"https://etcbc.github.io/bhsa/features/book\" title=\"~/text-fabric-data/etcbc/bhsa/tf/2021/book.tf\">book</a><br><a target=\"_blank\" href=\"https://etcbc.github.io/bhsa/features/book@ll\" title=\"~/text-fabric-data/etcbc/bhsa/tf/2021/book@am.tf\">book@ll</a><br><a target=\"_blank\" href=\"https://etcbc.github.io/bhsa/features/chapter\" title=\"~/text-fabric-data/etcbc/bhsa/tf/2021/chapter.tf\">chapter</a><br><a target=\"_blank\" href=\"https://etcbc.github.io/bhsa/features/code\" title=\"~/text-fabric-data/etcbc/bhsa/tf/2021/code.tf\">code</a><br><a target=\"_blank\" href=\"https://etcbc.github.io/bhsa/features/det\" title=\"~/text-fabric-data/etcbc/bhsa/tf/2021/det.tf\">det</a><br><a target=\"_blank\" href=\"https://etcbc.github.io/bhsa/features/domain\" title=\"~/text-fabric-data/etcbc/bhsa/tf/2021/domain.tf\">domain</a><br><a target=\"_blank\" href=\"https://etcbc.github.io/bhsa/features/freq_lex\" title=\"~/text-fabric-data/etcbc/bhsa/tf/2021/freq_lex.tf\">freq_lex</a><br><a target=\"_blank\" href=\"https://etcbc.github.io/bhsa/features/function\" title=\"~/text-fabric-data/etcbc/bhsa/tf/2021/function.tf\">function</a><br><a target=\"_blank\" href=\"https://etcbc.github.io/bhsa/features/g_cons\" title=\"~/text-fabric-data/etcbc/bhsa/tf/2021/g_cons.tf\">g_cons</a><br><a target=\"_blank\" href=\"https://etcbc.github.io/bhsa/features/g_cons_utf8\" title=\"~/text-fabric-data/etcbc/bhsa/tf/2021/g_cons_utf8.tf\">g_cons_utf8</a><br><a target=\"_blank\" href=\"https://etcbc.github.io/bhsa/features/g_lex\" title=\"~/text-fabric-data/etcbc/bhsa/tf/2021/g_lex.tf\">g_lex</a><br><a target=\"_blank\" href=\"https://etcbc.github.io/bhsa/features/g_lex_utf8\" title=\"~/text-fabric-data/etcbc/bhsa/tf/2021/g_lex_utf8.tf\">g_lex_utf8</a><br><a target=\"_blank\" href=\"https://etcbc.github.io/bhsa/features/g_word\" title=\"~/text-fabric-data/etcbc/bhsa/tf/2021/g_word.tf\">g_word</a><br><a target=\"_blank\" href=\"https://etcbc.github.io/bhsa/features/g_word_utf8\" title=\"~/text-fabric-data/etcbc/bhsa/tf/2021/g_word_utf8.tf\">g_word_utf8</a><br><a target=\"_blank\" href=\"https://etcbc.github.io/bhsa/features/gloss\" title=\"~/text-fabric-data/etcbc/bhsa/tf/2021/gloss.tf\">gloss</a><br><a target=\"_blank\" href=\"https://etcbc.github.io/bhsa/features/gn\" title=\"~/text-fabric-data/etcbc/bhsa/tf/2021/gn.tf\">gn</a><br><a target=\"_blank\" href=\"https://etcbc.github.io/bhsa/features/label\" title=\"~/text-fabric-data/etcbc/bhsa/tf/2021/label.tf\">label</a><br><a target=\"_blank\" href=\"https://etcbc.github.io/bhsa/features/language\" title=\"~/text-fabric-data/etcbc/bhsa/tf/2021/language.tf\">language</a><br><a target=\"_blank\" href=\"https://etcbc.github.io/bhsa/features/lex\" title=\"~/text-fabric-data/etcbc/bhsa/tf/2021/lex.tf\">lex</a><br><a target=\"_blank\" href=\"https://etcbc.github.io/bhsa/features/lex_utf8\" title=\"~/text-fabric-data/etcbc/bhsa/tf/2021/lex_utf8.tf\">lex_utf8</a><br><a target=\"_blank\" href=\"https://etcbc.github.io/bhsa/features/ls\" title=\"~/text-fabric-data/etcbc/bhsa/tf/2021/ls.tf\">ls</a><br><a target=\"_blank\" href=\"https://etcbc.github.io/bhsa/features/nametype\" title=\"~/text-fabric-data/etcbc/bhsa/tf/2021/nametype.tf\">nametype</a><br><a target=\"_blank\" href=\"https://etcbc.github.io/bhsa/features/nme\" title=\"~/text-fabric-data/etcbc/bhsa/tf/2021/nme.tf\">nme</a><br><a target=\"_blank\" href=\"https://etcbc.github.io/bhsa/features/nu\" title=\"~/text-fabric-data/etcbc/bhsa/tf/2021/nu.tf\">nu</a><br><a target=\"_blank\" href=\"https://etcbc.github.io/bhsa/features/number\" title=\"~/text-fabric-data/etcbc/bhsa/tf/2021/number.tf\">number</a><br><a target=\"_blank\" href=\"https://etcbc.github.io/bhsa/features/otype\" title=\"~/text-fabric-data/etcbc/bhsa/tf/2021/otype.tf\">otype</a><br><a target=\"_blank\" href=\"https://etcbc.github.io/bhsa/features/pargr\" title=\"~/text-fabric-data/etcbc/bhsa/tf/2021/pargr.tf\">pargr</a><br><a target=\"_blank\" href=\"https://etcbc.github.io/bhsa/features/pdp\" title=\"~/text-fabric-data/etcbc/bhsa/tf/2021/pdp.tf\">pdp</a><br><a target=\"_blank\" href=\"https://etcbc.github.io/bhsa/features/pfm\" title=\"~/text-fabric-data/etcbc/bhsa/tf/2021/pfm.tf\">pfm</a><br><a target=\"_blank\" href=\"https://etcbc.github.io/bhsa/features/prs\" title=\"~/text-fabric-data/etcbc/bhsa/tf/2021/prs.tf\">prs</a><br><a target=\"_blank\" href=\"https://etcbc.github.io/bhsa/features/prs_gn\" title=\"~/text-fabric-data/etcbc/bhsa/tf/2021/prs_gn.tf\">prs_gn</a><br><a target=\"_blank\" href=\"https://etcbc.github.io/bhsa/features/prs_nu\" title=\"~/text-fabric-data/etcbc/bhsa/tf/2021/prs_nu.tf\">prs_nu</a><br><a target=\"_blank\" href=\"https://etcbc.github.io/bhsa/features/prs_ps\" title=\"~/text-fabric-data/etcbc/bhsa/tf/2021/prs_ps.tf\">prs_ps</a><br><a target=\"_blank\" href=\"https://etcbc.github.io/bhsa/features/ps\" title=\"~/text-fabric-data/etcbc/bhsa/tf/2021/ps.tf\">ps</a><br><a target=\"_blank\" href=\"https://etcbc.github.io/bhsa/features/qere\" title=\"~/text-fabric-data/etcbc/bhsa/tf/2021/qere.tf\">qere</a><br><a target=\"_blank\" href=\"https://etcbc.github.io/bhsa/features/qere_trailer\" title=\"~/text-fabric-data/etcbc/bhsa/tf/2021/qere_trailer.tf\">qere_trailer</a><br><a target=\"_blank\" href=\"https://etcbc.github.io/bhsa/features/qere_trailer_utf8\" title=\"~/text-fabric-data/etcbc/bhsa/tf/2021/qere_trailer_utf8.tf\">qere_trailer_utf8</a><br><a target=\"_blank\" href=\"https://etcbc.github.io/bhsa/features/qere_utf8\" title=\"~/text-fabric-data/etcbc/bhsa/tf/2021/qere_utf8.tf\">qere_utf8</a><br><a target=\"_blank\" href=\"https://etcbc.github.io/bhsa/features/rank_lex\" title=\"~/text-fabric-data/etcbc/bhsa/tf/2021/rank_lex.tf\">rank_lex</a><br><a target=\"_blank\" href=\"https://etcbc.github.io/bhsa/features/rela\" title=\"~/text-fabric-data/etcbc/bhsa/tf/2021/rela.tf\">rela</a><br><a target=\"_blank\" href=\"https://etcbc.github.io/bhsa/features/sp\" title=\"~/text-fabric-data/etcbc/bhsa/tf/2021/sp.tf\">sp</a><br><a target=\"_blank\" href=\"https://etcbc.github.io/bhsa/features/st\" title=\"~/text-fabric-data/etcbc/bhsa/tf/2021/st.tf\">st</a><br><a target=\"_blank\" href=\"https://etcbc.github.io/bhsa/features/tab\" title=\"~/text-fabric-data/etcbc/bhsa/tf/2021/tab.tf\">tab</a><br><a target=\"_blank\" href=\"https://etcbc.github.io/bhsa/features/trailer\" title=\"~/text-fabric-data/etcbc/bhsa/tf/2021/trailer.tf\">trailer</a><br><a target=\"_blank\" href=\"https://etcbc.github.io/bhsa/features/trailer_utf8\" title=\"~/text-fabric-data/etcbc/bhsa/tf/2021/trailer_utf8.tf\">trailer_utf8</a><br><a target=\"_blank\" href=\"https://etcbc.github.io/bhsa/features/txt\" title=\"~/text-fabric-data/etcbc/bhsa/tf/2021/txt.tf\">txt</a><br><a target=\"_blank\" href=\"https://etcbc.github.io/bhsa/features/typ\" title=\"~/text-fabric-data/etcbc/bhsa/tf/2021/typ.tf\">typ</a><br><a target=\"_blank\" href=\"https://etcbc.github.io/bhsa/features/uvf\" title=\"~/text-fabric-data/etcbc/bhsa/tf/2021/uvf.tf\">uvf</a><br><a target=\"_blank\" href=\"https://etcbc.github.io/bhsa/features/vbe\" title=\"~/text-fabric-data/etcbc/bhsa/tf/2021/vbe.tf\">vbe</a><br><a target=\"_blank\" href=\"https://etcbc.github.io/bhsa/features/vbs\" title=\"~/text-fabric-data/etcbc/bhsa/tf/2021/vbs.tf\">vbs</a><br><a target=\"_blank\" href=\"https://etcbc.github.io/bhsa/features/verse\" title=\"~/text-fabric-data/etcbc/bhsa/tf/2021/verse.tf\">verse</a><br><a target=\"_blank\" href=\"https://etcbc.github.io/bhsa/features/voc_lex\" title=\"~/text-fabric-data/etcbc/bhsa/tf/2021/voc_lex.tf\">voc_lex</a><br><a target=\"_blank\" href=\"https://etcbc.github.io/bhsa/features/voc_lex_utf8\" title=\"~/text-fabric-data/etcbc/bhsa/tf/2021/voc_lex_utf8.tf\">voc_lex_utf8</a><br><a target=\"_blank\" href=\"https://etcbc.github.io/bhsa/features/vs\" title=\"~/text-fabric-data/etcbc/bhsa/tf/2021/vs.tf\">vs</a><br><a target=\"_blank\" href=\"https://etcbc.github.io/bhsa/features/vt\" title=\"~/text-fabric-data/etcbc/bhsa/tf/2021/vt.tf\">vt</a><br><b><i><a target=\"_blank\" href=\"https://etcbc.github.io/bhsa/features/mother\" title=\"~/text-fabric-data/etcbc/bhsa/tf/2021/mother.tf\">mother</a></i></b><br><b><i><a target=\"_blank\" href=\"https://etcbc.github.io/bhsa/features/omap@ll\" title=\"~/text-fabric-data/etcbc/bhsa/tf/2021/omap@2017-2021.tf\">omap@ll</a></i></b><br><b><i><a target=\"_blank\" href=\"https://etcbc.github.io/bhsa/features/oslots\" title=\"~/text-fabric-data/etcbc/bhsa/tf/2021/oslots.tf\">oslots</a></i></b><br></details><details><summary><b>Phonetic Transcriptions</b></summary><a target=\"_blank\" href=\"https://nbviewer.jupyter.org/github/etcbc/phono/blob/master/programs/phono.ipynb\" title=\"~/text-fabric-data/etcbc/phono/tf/2021/phono.tf\">phono</a><br><a target=\"_blank\" href=\"https://nbviewer.jupyter.org/github/etcbc/phono/blob/master/programs/phono.ipynb\" title=\"~/text-fabric-data/etcbc/phono/tf/2021/phono_trailer.tf\">phono_trailer</a><br></details>"
      ],
      "text/plain": [
       "<IPython.core.display.HTML object>"
      ]
     },
     "metadata": {},
     "output_type": "display_data"
    },
    {
     "data": {
      "text/html": [
       "<style>tr.tf.ltr, td.tf.ltr, th.tf.ltr { text-align: left ! important;}\n",
       "tr.tf.rtl, td.tf.rtl, th.tf.rtl { text-align: right ! important;}\n",
       "@font-face {\n",
       "  font-family: \"Gentium Plus\";\n",
       "  src: local('Gentium Plus'), local('GentiumPlus'),\n",
       "    url('/server/static/fonts/GentiumPlus-R.woff') format('woff'),\n",
       "    url('https://github.com/annotation/text-fabric/blob/master/tf/server/static/fonts/GentiumPlus-R.woff?raw=true') format('woff');\n",
       "}\n",
       "\n",
       "@font-face {\n",
       "  font-family: \"Ezra SIL\";\n",
       "  src: local('Ezra SIL'), local('EzraSIL'),\n",
       "    url('/server/static/fonts/SILEOT.woff') format('woff'),\n",
       "    url('https://github.com/annotation/text-fabric/blob/master/tf/server/static/fonts/SILEOT.woff?raw=true') format('woff');\n",
       "}\n",
       "\n",
       "@font-face {\n",
       "  font-family: \"SBL Hebrew\";\n",
       "  src: local('SBL Hebrew'), local('SBLHebrew'),\n",
       "    url('/server/static/fonts/SBL_Hbrw.woff') format('woff'),\n",
       "    url('https://github.com/annotation/text-fabric/blob/master/tf/server/static/fonts/SBL_Hbrw.woff?raw=true') format('woff');\n",
       "}\n",
       "\n",
       "@font-face {\n",
       "  font-family: \"Estrangelo Edessa\";\n",
       "  src: local('Estrangelo Edessa'), local('EstrangeloEdessa');\n",
       "    url('/server/static/fonts/SyrCOMEdessa.woff') format('woff'),\n",
       "    url('https://github.com/annotation/text-fabric/blob/master/tf/server/static/fonts/SyrCOMEdessa.woff?raw=true') format('woff');\n",
       "}\n",
       "\n",
       "@font-face {\n",
       "  font-family: AmiriQuran;\n",
       "  font-style: normal;\n",
       "  font-weight: 400;\n",
       "  src: local('Amiri Quran'), local('AmiriQuran'),\n",
       "    url('/server/static/fonts/AmiriQuran.woff') format('woff'),\n",
       "    url('https://github.com/annotation/text-fabric/blob/master/tf/server/static/fonts/AmiriQuran.woff?raw=true') format('woff');\n",
       "}\n",
       "\n",
       "@font-face {\n",
       "  font-family: AmiriQuranColored;\n",
       "  font-style: normal;\n",
       "  font-weight: 400;\n",
       "  src: local('Amiri Quran Colored'), local('AmiriQuranColored'),\n",
       "    url('/server/static/fonts/AmiriQuranColored.woff') format('woff'),\n",
       "    url('https://github.com/annotation/text-fabric/blob/master/tf/server/static/fonts/AmiriQuranColored.woff?raw=true') format('woff');\n",
       "}\n",
       "\n",
       "@font-face {\n",
       "  font-family: \"Santakku\";\n",
       "  src: local('Santakku'),\n",
       "    url('/server/static/fonts/Santakku.woff') format('woff'),\n",
       "    url('https://github.com/annotation/text-fabric/blob/master/tf/server/static/fonts/Santakku.woff?raw=true') format('woff');\n",
       "}\n",
       "\n",
       "@font-face {\n",
       "  font-family: \"SantakkuM\";\n",
       "  src: local('SantakkuM'),\n",
       "    url('/server/static/fonts/SantakkuM.woff') format('woff'),\n",
       "    url('https://github.com/annotation/text-fabric/blob/master/tf/server/static/fonts/SantakkuM.woff?raw=true') format('woff');\n",
       "}\n",
       "/* bypassing some classical notebook settings */\n",
       "div#notebook {\n",
       "  line-height: unset;\n",
       "}\n",
       "/* neutral text */\n",
       ".txtn,.txtn a:visited,.txtn a:link {\n",
       "    font-family: sans-serif;\n",
       "    font-size: medium;\n",
       "    direction: ltr;\n",
       "    unicode-bidi: embed;\n",
       "    text-decoration: none;\n",
       "    color: var(--text-color);\n",
       "}\n",
       "/* transcription text */\n",
       ".txtt,.txtt a:visited,.txtt a:link {\n",
       "    font-family: monospace;\n",
       "    font-size: medium;\n",
       "    direction: ltr;\n",
       "    unicode-bidi: embed;\n",
       "    text-decoration: none;\n",
       "    color: var(--text-color);\n",
       "}\n",
       "/* source text */\n",
       ".txto,.txto a:visited,.txto a:link {\n",
       "    font-family: serif;\n",
       "    font-size: medium;\n",
       "    direction: ltr;\n",
       "    unicode-bidi: embed;\n",
       "    text-decoration: none;\n",
       "    color: var(--text-color);\n",
       "}\n",
       "/* phonetic text */\n",
       ".txtp,.txtp a:visited,.txtp a:link {\n",
       "    font-family: Gentium, sans-serif;\n",
       "    font-size: medium;\n",
       "    direction: ltr;\n",
       "    unicode-bidi: embed;\n",
       "    text-decoration: none;\n",
       "    color: var(--text-color);\n",
       "}\n",
       "/* original script text */\n",
       ".txtu,.txtu a:visited,.txtu a:link {\n",
       "    font-family: Gentium, sans-serif;\n",
       "    font-size: medium;\n",
       "    text-decoration: none;\n",
       "    color: var(--text-color);\n",
       "}\n",
       "/* hebrew */\n",
       ".txtu.hbo,.lex.hbo {\n",
       "    font-family: \"Ezra SIL\", \"SBL Hebrew\", sans-serif;\n",
       "    font-size: large;\n",
       "    direction: rtl ! important;\n",
       "    unicode-bidi: embed;\n",
       "}\n",
       "/* syriac */\n",
       ".txtu.syc,.lex.syc {\n",
       "    font-family: \"Estrangelo Edessa\", sans-serif;\n",
       "    font-size: medium;\n",
       "    direction: rtl ! important;\n",
       "    unicode-bidi: embed;\n",
       "}\n",
       "/* neo aramaic */\n",
       ".txtu.cld,.lex.cld {\n",
       "    font-family: \"CharisSIL-R\", sans-serif;\n",
       "    font-size: medium;\n",
       "    direction: ltr ! important;\n",
       "    unicode-bidi: embed;\n",
       "}\n",
       "/* standard arabic */\n",
       ".txtu.ara,.lex.ara {\n",
       "    font-family: \"AmiriQuran\", sans-serif;\n",
       "    font-size: large;\n",
       "    direction: rtl ! important;\n",
       "    unicode-bidi: embed;\n",
       "}\n",
       "/* cuneiform */\n",
       ".txtu.akk,.lex.akk {\n",
       "    font-family: Santakku, sans-serif;\n",
       "    font-size: large;\n",
       "    direction: ltr ! important;\n",
       "    unicode-bidi: embed;\n",
       "}\n",
       "/* greek */\n",
       ".txtu.grc,.lex.grc a:link {\n",
       "    font-family: Gentium, sans-serif;\n",
       "    font-size: medium;\n",
       "    direction: ltr ! important;\n",
       "    unicode-bidi: embed;\n",
       "}\n",
       "a:hover {\n",
       "    text-decoration: underline | important;\n",
       "    color: #0000ff | important;\n",
       "}\n",
       ".ltr {\n",
       "    direction: ltr ! important;\n",
       "    unicode-bidi: embed;\n",
       "}\n",
       ".rtl {\n",
       "    direction: rtl ! important;\n",
       "    unicode-bidi: embed;\n",
       "}\n",
       ".ubd {\n",
       "    unicode-bidi: embed;\n",
       "}\n",
       ".col {\n",
       "   display: inline-block;\n",
       "}\n",
       ".features {\n",
       "    font-family: monospace;\n",
       "    font-size: medium;\n",
       "    font-weight: bold;\n",
       "    color: var(--features);\n",
       "    display: flex;\n",
       "    flex-flow: column nowrap;\n",
       "    justify-content: flex-start;\n",
       "    align-items: flex-start;\n",
       "    align-content: flex-start;\n",
       "    padding: 2px;\n",
       "    margin: 2px;\n",
       "    direction: ltr;\n",
       "    unicode-bidi: embed;\n",
       "    border: var(--meta-width) solid var(--meta-color);\n",
       "    border-radius: var(--meta-width);\n",
       "}\n",
       ".features div,.features span {\n",
       "    padding: 0;\n",
       "    margin: -2px 0;\n",
       "}\n",
       ".features .f {\n",
       "    font-family: sans-serif;\n",
       "    font-size: small;\n",
       "    font-weight: normal;\n",
       "    color: #5555bb;\n",
       "}\n",
       ".features .xft {\n",
       "  color: #000000;\n",
       "  background-color: #eeeeee;\n",
       "  font-size: medium;\n",
       "  margin: 2px 0px;\n",
       "}\n",
       ".features .xft .f {\n",
       "  color: #000000;\n",
       "  background-color: #eeeeee;\n",
       "  font-size: small;\n",
       "  font-weight: normal;\n",
       "}\n",
       ".tfsechead {\n",
       "    font-family: sans-serif;\n",
       "    font-size: small;\n",
       "    font-weight: bold;\n",
       "    color: var(--tfsechead);\n",
       "    unicode-bidi: embed;\n",
       "    text-align: start;\n",
       "}\n",
       ".structure {\n",
       "    font-family: sans-serif;\n",
       "    font-size: small;\n",
       "    font-weight: bold;\n",
       "    color: var(--structure);\n",
       "    unicode-bidi: embed;\n",
       "    text-align: start;\n",
       "}\n",
       ".comments {\n",
       "    display: flex;\n",
       "    justify-content: flex-start;\n",
       "    align-items: flex-start;\n",
       "    align-content: flex-start;\n",
       "    flex-flow: column nowrap;\n",
       "}\n",
       ".nd, a:link.nd {\n",
       "    font-family: sans-serif;\n",
       "    font-size: small;\n",
       "    color: var(--node);\n",
       "    vertical-align: super;\n",
       "    direction: ltr ! important;\n",
       "    unicode-bidi: embed;\n",
       "}\n",
       ".lex {\n",
       "  color: var(--lex-color);;\n",
       "}\n",
       ".children,.children.ltr {\n",
       "    display: flex;\n",
       "    border: 0;\n",
       "    background-color: #ffffff;\n",
       "    justify-content: flex-start;\n",
       "    align-items: flex-start;\n",
       "    align-content: flex-start;\n",
       "}\n",
       ".children.stretch {\n",
       "    align-items: stretch;\n",
       "}\n",
       ".children.hor {\n",
       "    flex-flow: row nowrap;\n",
       "}\n",
       ".children.hor.wrap {\n",
       "    flex-flow: row wrap;\n",
       "}\n",
       ".children.ver {\n",
       "    flex-flow: column nowrap;\n",
       "}\n",
       ".children.ver.wrap {\n",
       "    flex-flow: column wrap;\n",
       "}\n",
       ".contnr {\n",
       "    width: fit-content;\n",
       "    display: flex;\n",
       "    justify-content: flex-start;\n",
       "    align-items: flex-start;\n",
       "    align-content: flex-start;\n",
       "    flex-flow: column nowrap;\n",
       "    background: #ffffff none repeat scroll 0 0;\n",
       "    padding:  10px 2px 2px 2px;\n",
       "    margin: 16px 2px 2px 2px;\n",
       "    border-style: solid;\n",
       "    font-size: small;\n",
       "}\n",
       ".contnr.trm {\n",
       "    background-attachment: local;\n",
       "}\n",
       ".contnr.cnul {\n",
       "    padding:  0;\n",
       "    margin: 0;\n",
       "    border-style: solid;\n",
       "    font-size: xx-small;\n",
       "}\n",
       ".contnr.cnul,.lbl.cnul {\n",
       "    border-color: var(--border-color-nul);\n",
       "    border-width: var(--border-width-nul);\n",
       "    border-radius: var(--border-width-nul);\n",
       "}\n",
       ".contnr.c0,.lbl.c0 {\n",
       "    border-color: var(--border-color0);\n",
       "    border-width: var(--border-width0);\n",
       "    border-radius: var(--border-width0);\n",
       "}\n",
       ".contnr.c1,.lbl.c1 {\n",
       "    border-color: var(--border-color1);\n",
       "    border-width: var(--border-width1);\n",
       "    border-radius: var(--border-width1);\n",
       "}\n",
       ".contnr.c2,.lbl.c2 {\n",
       "    border-color: var(--border-color2);\n",
       "    border-width: var(--border-width2);\n",
       "    border-radius: var(--border-width2);\n",
       "}\n",
       ".contnr.c3,.lbl.c3 {\n",
       "    border-color: var(--border-color3);\n",
       "    border-width: var(--border-width3);\n",
       "    border-radius: var(--border-width3);\n",
       "}\n",
       ".contnr.c4,.lbl.c4 {\n",
       "    border-color: var(--border-color4);\n",
       "    border-width: var(--border-width4);\n",
       "    border-radius: var(--border-width4);\n",
       "}\n",
       "span.plain {\n",
       "    display: inline-block;\n",
       "    white-space: pre-wrap;\n",
       "}\n",
       ".plain {\n",
       "    background-color: #ffffff;\n",
       "}\n",
       ".plain.l,.contnr.l,.contnr.l>.lbl {\n",
       "    border-left-style: dotted\n",
       "}\n",
       ".plain.r,.contnr.r,.contnr.r>.lbl {\n",
       "    border-right-style: dotted\n",
       "}\n",
       ".plain.lno,.contnr.lno,.contnr.lno>.lbl {\n",
       "    border-left-style: none\n",
       "}\n",
       ".plain.rno,.contnr.rno,.contnr.rno>.lbl {\n",
       "    border-right-style: none\n",
       "}\n",
       ".plain.l {\n",
       "    padding-left: 4px;\n",
       "    margin-left: 2px;\n",
       "    border-width: var(--border-width-plain);\n",
       "}\n",
       ".plain.r {\n",
       "    padding-right: 4px;\n",
       "    margin-right: 2px;\n",
       "    border-width: var(--border-width-plain);\n",
       "}\n",
       ".lbl {\n",
       "    font-family: monospace;\n",
       "    margin-top: -24px;\n",
       "    margin-left: 20px;\n",
       "    background: #ffffff none repeat scroll 0 0;\n",
       "    padding: 0 6px;\n",
       "    border-style: solid;\n",
       "    display: block;\n",
       "    color: var(--label)\n",
       "}\n",
       ".lbl.trm {\n",
       "    background-attachment: local;\n",
       "    margin-top: 2px;\n",
       "    margin-left: 2px;\n",
       "    padding: 2px 2px;\n",
       "    border-style: none;\n",
       "}\n",
       ".lbl.cnul {\n",
       "    font-size: xx-small;\n",
       "}\n",
       ".lbl.c0 {\n",
       "    font-size: small;\n",
       "}\n",
       ".lbl.c1 {\n",
       "    font-size: small;\n",
       "}\n",
       ".lbl.c2 {\n",
       "    font-size: medium;\n",
       "}\n",
       ".lbl.c3 {\n",
       "    font-size: medium;\n",
       "}\n",
       ".lbl.c4 {\n",
       "    font-size: large;\n",
       "}\n",
       ".occs, a:link.occs {\n",
       "    font-size: small;\n",
       "}\n",
       "\n",
       "/* PROVENANCE */\n",
       "\n",
       "div.prov {\n",
       "\tmargin: 40px;\n",
       "\tpadding: 20px;\n",
       "\tborder: 2px solid var(--fog-rim);\n",
       "}\n",
       "div.pline {\n",
       "\tdisplay: flex;\n",
       "\tflex-flow: row nowrap;\n",
       "\tjustify-content: stretch;\n",
       "\talign-items: baseline;\n",
       "}\n",
       "div.p2line {\n",
       "\tmargin-left: 2em;\n",
       "\tdisplay: flex;\n",
       "\tflex-flow: row nowrap;\n",
       "\tjustify-content: stretch;\n",
       "\talign-items: baseline;\n",
       "}\n",
       "div.psline {\n",
       "\tdisplay: flex;\n",
       "\tflex-flow: row nowrap;\n",
       "\tjustify-content: stretch;\n",
       "\talign-items: baseline;\n",
       "\tbackground-color: var(--gold-mist-back);\n",
       "}\n",
       "div.pname {\n",
       "\tflex: 0 0 5rem;\n",
       "\tfont-weight: bold;\n",
       "}\n",
       "div.pval {\n",
       "    flex: 1 1 auto;\n",
       "}\n",
       "\n",
       ":root {\n",
       "\t--node:               hsla(120, 100%,  20%, 1.0  );\n",
       "\t--label:              hsla(  0, 100%,  20%, 1.0  );\n",
       "\t--tfsechead:          hsla(  0, 100%,  25%, 1.0  );\n",
       "\t--structure:          hsla(120, 100%,  25%, 1.0  );\n",
       "\t--features:           hsla(  0,   0%,  30%, 1.0  );\n",
       "  --text-color:         hsla( 60,  80%,  10%, 1.0  );\n",
       "  --lex-color:          hsla(220,  90%,  60%, 1.0  );\n",
       "  --meta-color:         hsla(  0,   0%,  90%, 0.7  );\n",
       "  --meta-width:         3px;\n",
       "  --border-color-nul:   hsla(  0,   0%,  90%, 0.5  );\n",
       "  --border-color0:      hsla(  0,   0%,  90%, 0.9  );\n",
       "  --border-color1:      hsla(  0,   0%,  80%, 0.9  );\n",
       "  --border-color2:      hsla(  0,   0%,  70%, 0.9  );\n",
       "  --border-color3:      hsla(  0,   0%,  80%, 0.8  );\n",
       "  --border-color4:      hsla(  0,   0%,  60%, 0.9  );\n",
       "  --border-width-nul:   2px;\n",
       "  --border-width0:      2px;\n",
       "  --border-width1:      3px;\n",
       "  --border-width2:      4px;\n",
       "  --border-width3:      6px;\n",
       "  --border-width4:      5px;\n",
       "  --border-width-plain: 2px;\n",
       "}\n",
       ".hl {\n",
       "  background-color: var(--hl-strong);\n",
       "}\n",
       "span.hl {\n",
       "\tbackground-color: var(--hl-strong);\n",
       "\tborder-width: 0;\n",
       "\tborder-radius: 2px;\n",
       "\tborder-style: solid;\n",
       "}\n",
       "div.contnr.hl,div.lbl.hl {\n",
       "  background-color: var(--hl-strong);\n",
       "}\n",
       "div.contnr.hl {\n",
       "  border-color: var(--hl-rim) ! important;\n",
       "\tborder-width: 4px ! important;\n",
       "}\n",
       "\n",
       "span.hlbx {\n",
       "\tborder-color: var(--hl-rim);\n",
       "\tborder-width: 4px ! important;\n",
       "\tborder-style: solid;\n",
       "\tborder-radius: 6px;\n",
       "  padding: 4px;\n",
       "  margin: 4px;\n",
       "}\n",
       "\n",
       "span.plain {\n",
       "  display: inline-block;\n",
       "  white-space: pre-wrap;\n",
       "}\n",
       "\n",
       ":root {\n",
       "\t--hl-strong:        hsla( 60, 100%,  70%, 0.9  );\n",
       "\t--hl-rim:           hsla( 55,  80%,  50%, 1.0  );\n",
       "}\n",
       "</style>"
      ],
      "text/plain": [
       "<IPython.core.display.HTML object>"
      ]
     },
     "metadata": {},
     "output_type": "display_data"
    },
    {
     "data": {
      "text/html": [
       "<div><b>Text-Fabric API:</b> names <a target=\"_blank\" href=\"https://annotation.github.io/text-fabric/tf/cheatsheet.html\" title=\"doc\">N F E L T S C TF</a> directly usable</div><hr>"
      ],
      "text/plain": [
       "<IPython.core.display.HTML object>"
      ]
     },
     "metadata": {},
     "output_type": "display_data"
    }
   ],
   "source": [
    "# A = use(\"bhsa:clone\", checkout=\"clone\", hoist=globals())\n",
    "# A = use('bhsa:hot', checkout=\"hot\", hoist=globals())\n",
    "# A = use('bhsa:latest', checkout=\"latest\", hoist=globals())\n",
    "A = use('bhsa', hoist=globals())"
   ]
  },
  {
   "cell_type": "markdown",
   "metadata": {},
   "source": [
    "You can see which features have been loaded, and if you click on a feature name, you find its documentation.\n",
    "If you hover over a name, you see where the feature is located on your system.\n",
    "\n",
    "Edge features are marked by **_bold italic_** formatting.\n",
    "\n",
    "There are ways to tweak the set of features that is loaded. You can load more and less.\n",
    "\n",
    "See [share](share.ipynb) for examples."
   ]
  },
  {
   "cell_type": "markdown",
   "metadata": {},
   "source": [
    "# Modules"
   ]
  },
  {
   "cell_type": "markdown",
   "metadata": {},
   "source": [
    "Note that we have `phono` features.\n",
    "The  BHSA data has a special 1-1 transcription from Hebrew to ASCII,\n",
    "but not a *phonetic* transcription.\n",
    "\n",
    "I have made a\n",
    "[notebook](https://github.com/etcbc/phono/blob/master/programs/phono.ipynb)\n",
    "that tries hard to find phonological representations for all the words.\n",
    "The result is a *module* in text-fabric format.\n",
    "We'll encounter that later.\n",
    "\n",
    "This module, and the module [etcbc/parallels](https://github.com/etcbc/parallels)\n",
    "are standard modules of the BHSA app."
   ]
  },
  {
   "cell_type": "markdown",
   "metadata": {},
   "source": [
    "See the [share](share.ipynb) tutorial or [Data](https://annotation.github.io/text-fabric/tf/about/datasharing.html) how you can add and invoke additional data."
   ]
  },
  {
   "cell_type": "markdown",
   "metadata": {},
   "source": [
    "## API\n",
    "\n",
    "The result of the incantation is that we have a bunch of special variables at our disposal\n",
    "that give us access to the text and data of the Hebrew Bible.\n",
    "\n",
    "At this point it is helpful to throw a quick glance at the text-fabric API documentation\n",
    "(see the links under **API Members** above).\n",
    "\n",
    "The most essential thing for now is that we can use `F` to access the data in the features\n",
    "we've loaded.\n",
    "But there is more, such as `N`, which helps us to walk over the text, as we see in a minute.\n",
    "\n",
    "The **API members** above show you exactly which new names have been inserted in your namespace.\n",
    "If you click on these names, you go to the API documentation for them."
   ]
  },
  {
   "cell_type": "markdown",
   "metadata": {},
   "source": [
    "## Search\n",
    "Text-Fabric contains a flexible search engine, that does not only work for the BHSA data,\n",
    "but also for data that you add to it.\n",
    "\n",
    "**Search is the quickest way to come up-to-speed with your data, without too much programming.**\n",
    "\n",
    "Jump to the dedicated [search](search.ipynb) search tutorial first, to whet your appetite.\n",
    "And if you already know MQL queries, you can build from that in\n",
    "[searchFromMQL](searchFromMQL.ipynb).\n",
    "\n",
    "The real power of search lies in the fact that it is integrated in a programming environment.\n",
    "You can use programming to:\n",
    "\n",
    "* compose dynamic queries\n",
    "* process query results\n",
    "\n",
    "Therefore, the rest of this tutorial is still important when you want to tap that power.\n",
    "If you continue here, you learn all the basics of data-navigation with Text-Fabric."
   ]
  },
  {
   "cell_type": "markdown",
   "metadata": {
    "tags": []
   },
   "source": [
    "# Counting\n",
    "\n",
    "In order to get acquainted with the data, we start with the simple task of counting.\n",
    "\n",
    "## Count all nodes\n",
    "We use the\n",
    "[`N.walk()` generator](https://annotation.github.io/text-fabric/tf/core/nodes.html#tf.core.nodes.Nodes.walk)\n",
    "to walk through the nodes.\n",
    "\n",
    "We compared the BHSA data to a gigantic spreadsheet, where the rows correspond to the words.\n",
    "In Text-Fabric, we call the rows `slots`, because they are the textual positions that can be filled with words.\n",
    "\n",
    "We also mentioned that there are also 1,000,000 more textual objects.\n",
    "They are the phrases, clauses, sentences, verses, chapters and books.\n",
    "They also correspond to rows in the big spreadsheet.\n",
    "\n",
    "In Text-Fabric we call all these rows *nodes*, and the `N()` generator\n",
    "carries us through those nodes in the textual order.\n",
    "\n",
    "Just one extra thing: the `info` statements generate timed messages.\n",
    "If you use them instead of `print` you'll get a sense of the amount of time that\n",
    "the various processing steps typically need."
   ]
  },
  {
   "cell_type": "code",
   "execution_count": 5,
   "metadata": {
    "ExecuteTime": {
     "end_time": "2018-05-18T09:17:43.894153Z",
     "start_time": "2018-05-18T09:17:43.597128Z"
    }
   },
   "outputs": [
    {
     "name": "stdout",
     "output_type": "stream",
     "text": [
      "  0.00s Counting nodes ...\n",
      "  0.22s 1446831 nodes\n"
     ]
    }
   ],
   "source": [
    "A.indent(reset=True)\n",
    "A.info(\"Counting nodes ...\")\n",
    "\n",
    "i = 0\n",
    "for n in N.walk():\n",
    "    i += 1\n",
    "\n",
    "A.info(\"{} nodes\".format(i))"
   ]
  },
  {
   "cell_type": "markdown",
   "metadata": {},
   "source": [
    "Here you see it: 1,4 M nodes!"
   ]
  },
  {
   "cell_type": "markdown",
   "metadata": {},
   "source": [
    "## What are those million nodes?\n",
    "Every node has a type, like word, or phrase, sentence.\n",
    "We know that we have approximately 425,000 words and a million other nodes.\n",
    "But what exactly are they?\n",
    "\n",
    "Text-Fabric has two special features, `otype` and `oslots`, that must occur in every Text-Fabric data set.\n",
    "`otype` tells you for each node its type, and you can ask for the number of `slot`s in the text.\n",
    "\n",
    "Here we go!"
   ]
  },
  {
   "cell_type": "code",
   "execution_count": 6,
   "metadata": {
    "ExecuteTime": {
     "end_time": "2018-05-18T09:17:47.820323Z",
     "start_time": "2018-05-18T09:17:47.812328Z"
    }
   },
   "outputs": [
    {
     "data": {
      "text/plain": [
       "'word'"
      ]
     },
     "execution_count": 6,
     "metadata": {},
     "output_type": "execute_result"
    }
   ],
   "source": [
    "F.otype.slotType"
   ]
  },
  {
   "cell_type": "code",
   "execution_count": 7,
   "metadata": {
    "ExecuteTime": {
     "end_time": "2018-05-18T09:17:48.549430Z",
     "start_time": "2018-05-18T09:17:48.543371Z"
    }
   },
   "outputs": [
    {
     "data": {
      "text/plain": [
       "426590"
      ]
     },
     "execution_count": 7,
     "metadata": {},
     "output_type": "execute_result"
    }
   ],
   "source": [
    "F.otype.maxSlot"
   ]
  },
  {
   "cell_type": "code",
   "execution_count": 8,
   "metadata": {
    "ExecuteTime": {
     "end_time": "2018-05-18T09:17:49.251302Z",
     "start_time": "2018-05-18T09:17:49.244467Z"
    }
   },
   "outputs": [
    {
     "data": {
      "text/plain": [
       "1446831"
      ]
     },
     "execution_count": 8,
     "metadata": {},
     "output_type": "execute_result"
    }
   ],
   "source": [
    "F.otype.maxNode"
   ]
  },
  {
   "cell_type": "code",
   "execution_count": 9,
   "metadata": {
    "ExecuteTime": {
     "end_time": "2018-05-18T09:17:49.922863Z",
     "start_time": "2018-05-18T09:17:49.916078Z"
    }
   },
   "outputs": [
    {
     "data": {
      "text/plain": [
       "('book',\n",
       " 'chapter',\n",
       " 'lex',\n",
       " 'verse',\n",
       " 'half_verse',\n",
       " 'sentence',\n",
       " 'sentence_atom',\n",
       " 'clause',\n",
       " 'clause_atom',\n",
       " 'phrase',\n",
       " 'phrase_atom',\n",
       " 'subphrase',\n",
       " 'word')"
      ]
     },
     "execution_count": 9,
     "metadata": {},
     "output_type": "execute_result"
    }
   ],
   "source": [
    "F.otype.all"
   ]
  },
  {
   "cell_type": "code",
   "execution_count": 10,
   "metadata": {
    "ExecuteTime": {
     "end_time": "2018-05-18T09:17:51.782779Z",
     "start_time": "2018-05-18T09:17:51.774167Z"
    }
   },
   "outputs": [
    {
     "data": {
      "text/plain": [
       "(('book', 10938.205128205129, 426591, 426629),\n",
       " ('chapter', 459.1926803013994, 426630, 427558),\n",
       " ('lex', 46.21776814734561, 1437602, 1446831),\n",
       " ('verse', 18.377202429673027, 1414389, 1437601),\n",
       " ('half_verse', 9.442218729940901, 606394, 651572),\n",
       " ('sentence', 6.6950735282577645, 1172308, 1236024),\n",
       " ('sentence_atom', 6.612363207985863, 1236025, 1300538),\n",
       " ('clause', 4.840408028956894, 427559, 515689),\n",
       " ('clause_atom', 4.7031001940377495, 515690, 606393),\n",
       " ('phrase', 1.684774666966821, 651573, 904775),\n",
       " ('phrase_atom', 1.5945382234648566, 904776, 1172307),\n",
       " ('subphrase', 1.4213614404918753, 1300539, 1414388),\n",
       " ('word', 1, 1, 426590))"
      ]
     },
     "execution_count": 10,
     "metadata": {},
     "output_type": "execute_result"
    }
   ],
   "source": [
    "C.levels.data"
   ]
  },
  {
   "cell_type": "markdown",
   "metadata": {},
   "source": [
    "This is interesting: above you see all the textual objects, with the average size of their objects,\n",
    "the node where they start, and the node where they end."
   ]
  },
  {
   "cell_type": "markdown",
   "metadata": {},
   "source": [
    "## Count individual object types\n",
    "This is an intuitive way to count the number of nodes in each type.\n",
    "Note in passing, how we use the `indent` in conjunction with `info` to produce neat timed\n",
    "and indented progress messages."
   ]
  },
  {
   "cell_type": "code",
   "execution_count": 11,
   "metadata": {
    "ExecuteTime": {
     "end_time": "2018-05-18T09:17:57.806821Z",
     "start_time": "2018-05-18T09:17:57.558523Z"
    }
   },
   "outputs": [
    {
     "name": "stdout",
     "output_type": "stream",
     "text": [
      "  0.00s counting objects ...\n",
      "   |     0.00s      39 books\n",
      "   |     0.00s     929 chapters\n",
      "   |     0.00s    9230 lexs\n",
      "   |     0.00s   23213 verses\n",
      "   |     0.01s   45179 half_verses\n",
      "   |     0.01s   63717 sentences\n",
      "   |     0.01s   64514 sentence_atoms\n",
      "   |     0.01s   88131 clauses\n",
      "   |     0.01s   90704 clause_atoms\n",
      "   |     0.03s  253203 phrases\n",
      "   |     0.03s  267532 phrase_atoms\n",
      "   |     0.01s  113850 subphrases\n",
      "   |     0.05s  426590 words\n",
      "  0.18s Done\n"
     ]
    }
   ],
   "source": [
    "A.indent(reset=True)\n",
    "A.info(\"counting objects ...\")\n",
    "\n",
    "for otype in F.otype.all:\n",
    "    i = 0\n",
    "\n",
    "    A.indent(level=1, reset=True)\n",
    "\n",
    "    for n in F.otype.s(otype):\n",
    "        i += 1\n",
    "\n",
    "    A.info(\"{:>7} {}s\".format(i, otype))\n",
    "\n",
    "A.indent(level=0)\n",
    "A.info(\"Done\")"
   ]
  },
  {
   "cell_type": "markdown",
   "metadata": {},
   "source": [
    "# Viewing textual objects\n",
    "\n",
    "We use the A API (the extra power) to peek into the corpus."
   ]
  },
  {
   "cell_type": "markdown",
   "metadata": {},
   "source": [
    "First some words.\n",
    "Node 15890 is a word with a dotless shin.\n",
    "\n",
    "Node 1002 is a word with a yod after a seqhol hataf.\n",
    "\n",
    "Node 100,000 is just a word slot.\n",
    "\n",
    "Let's inspect them and see where they are.\n",
    "\n",
    "First the plain view:"
   ]
  },
  {
   "cell_type": "code",
   "execution_count": 12,
   "metadata": {},
   "outputs": [
    {
     "data": {
      "text/plain": [
       "'word'"
      ]
     },
     "execution_count": 12,
     "metadata": {},
     "output_type": "execute_result"
    }
   ],
   "source": [
    "F.otype.v(1)"
   ]
  },
  {
   "cell_type": "code",
   "execution_count": 13,
   "metadata": {
    "ExecuteTime": {
     "end_time": "2018-05-18T09:18:02.282178Z",
     "start_time": "2018-05-18T09:18:02.274117Z"
    }
   },
   "outputs": [
    {
     "data": {
      "text/html": [
       "<div class=\"rtl\"><span class=\"tfsechead rtl\"><span class=\"ltr\"><a target=\"_blank\" href=\"https://shebanq.ancient-data.org/hebrew/text?book=Genesis&amp;chapter=30&amp;verse=18&amp;version=2021&amp;mr=m&amp;qw=q&amp;tp=txt_p&amp;tr=hb&amp;wget=v&amp;qget=v&amp;nget=vt\" title=\"Show this on SHEBANQ\" sec=\"Genesis 30:18\">Genesis 30:18</a></span></span>  <span class=\"txtu hbo\">יִשָּׂשכָֽר׃ </span></div>"
      ],
      "text/plain": [
       "<IPython.core.display.HTML object>"
      ]
     },
     "metadata": {},
     "output_type": "display_data"
    },
    {
     "data": {
      "text/html": [
       "<div class=\"rtl\"><span class=\"tfsechead rtl\"><span class=\"ltr\"><a target=\"_blank\" href=\"https://shebanq.ancient-data.org/hebrew/text?book=Genesis&amp;chapter=2&amp;verse=18&amp;version=2021&amp;mr=m&amp;qw=q&amp;tp=txt_p&amp;tr=hb&amp;wget=v&amp;qget=v&amp;nget=vt\" title=\"Show this on SHEBANQ\" sec=\"Genesis 2:18\">Genesis 2:18</a></span></span>  <span class=\"txtu hbo\">הֱיֹ֥ות </span></div>"
      ],
      "text/plain": [
       "<IPython.core.display.HTML object>"
      ]
     },
     "metadata": {},
     "output_type": "display_data"
    },
    {
     "data": {
      "text/html": [
       "<div class=\"rtl\"><span class=\"tfsechead rtl\"><span class=\"ltr\"><a target=\"_blank\" href=\"https://shebanq.ancient-data.org/hebrew/text?book=Deuteronomium&amp;chapter=11&amp;verse=19&amp;version=2021&amp;mr=m&amp;qw=q&amp;tp=txt_p&amp;tr=hb&amp;wget=v&amp;qget=v&amp;nget=vt\" title=\"Show this on SHEBANQ\" sec=\"Deuteronomy 11:19\">Deuteronomy 11:19</a></span></span>  <span class=\"txtu hbo\">בָּ֑ם </span></div>"
      ],
      "text/plain": [
       "<IPython.core.display.HTML object>"
      ]
     },
     "metadata": {},
     "output_type": "display_data"
    }
   ],
   "source": [
    "wordShows = (15890, 1002, 100000)\n",
    "for word in wordShows:\n",
    "    A.plain(word, withPassage=True)"
   ]
  },
  {
   "cell_type": "markdown",
   "metadata": {},
   "source": [
    "You can leave out the passage reference:"
   ]
  },
  {
   "cell_type": "code",
   "execution_count": 14,
   "metadata": {},
   "outputs": [
    {
     "data": {
      "text/html": [
       "<div class=\"rtl\"><span class=\"txtu hbo\">יִשָּׂשכָֽר׃ </span></div>"
      ],
      "text/plain": [
       "<IPython.core.display.HTML object>"
      ]
     },
     "metadata": {},
     "output_type": "display_data"
    },
    {
     "data": {
      "text/html": [
       "<div class=\"rtl\"><span class=\"txtu hbo\">הֱיֹ֥ות </span></div>"
      ],
      "text/plain": [
       "<IPython.core.display.HTML object>"
      ]
     },
     "metadata": {},
     "output_type": "display_data"
    },
    {
     "data": {
      "text/html": [
       "<div class=\"rtl\"><span class=\"txtu hbo\">בָּ֑ם </span></div>"
      ],
      "text/plain": [
       "<IPython.core.display.HTML object>"
      ]
     },
     "metadata": {},
     "output_type": "display_data"
    }
   ],
   "source": [
    "for word in wordShows:\n",
    "    A.plain(word, withPassage=False)"
   ]
  },
  {
   "cell_type": "markdown",
   "metadata": {},
   "source": [
    "Now we show other objects, both with and without passage reference."
   ]
  },
  {
   "cell_type": "code",
   "execution_count": 15,
   "metadata": {},
   "outputs": [],
   "source": [
    "normalShow = dict(\n",
    "    wordShow=wordShows[0],\n",
    "    phraseShow=700000,\n",
    "    clauseShow=500000,\n",
    "    sentenceShow=1200000,\n",
    "    lexShow=1437667,\n",
    ")\n",
    "\n",
    "sectionShow = dict(\n",
    "    verseShow=1420000,\n",
    "    chapterShow=427000,\n",
    "    bookShow=426598,\n",
    ")"
   ]
  },
  {
   "cell_type": "code",
   "execution_count": 16,
   "metadata": {},
   "outputs": [
    {
     "data": {
      "text/markdown": [
       "**wordShow** = node `15890`\n"
      ],
      "text/plain": [
       "<IPython.core.display.Markdown object>"
      ]
     },
     "metadata": {},
     "output_type": "display_data"
    },
    {
     "data": {
      "text/html": [
       "<div class=\"rtl\"><span class=\"tfsechead rtl\"><span class=\"ltr\"><a target=\"_blank\" href=\"https://shebanq.ancient-data.org/hebrew/text?book=Genesis&amp;chapter=30&amp;verse=18&amp;version=2021&amp;mr=m&amp;qw=q&amp;tp=txt_p&amp;tr=hb&amp;wget=v&amp;qget=v&amp;nget=vt\" title=\"Show this on SHEBANQ\" sec=\"Genesis 30:18\">Genesis 30:18</a></span></span>  <span class=\"txtu hbo\">יִשָּׂשכָֽר׃ </span></div>"
      ],
      "text/plain": [
       "<IPython.core.display.HTML object>"
      ]
     },
     "metadata": {},
     "output_type": "display_data"
    },
    {
     "data": {
      "text/html": [
       "<div class=\"rtl\"><span class=\"txtu hbo\">יִשָּׂשכָֽר׃ </span></div>"
      ],
      "text/plain": [
       "<IPython.core.display.HTML object>"
      ]
     },
     "metadata": {},
     "output_type": "display_data"
    },
    {
     "data": {
      "text/markdown": [
       "\n",
       "---\n"
      ],
      "text/plain": [
       "<IPython.core.display.Markdown object>"
      ]
     },
     "metadata": {},
     "output_type": "display_data"
    },
    {
     "data": {
      "text/markdown": [
       "**phraseShow** = node `700000`\n"
      ],
      "text/plain": [
       "<IPython.core.display.Markdown object>"
      ]
     },
     "metadata": {},
     "output_type": "display_data"
    },
    {
     "data": {
      "text/html": [
       "<div class=\"rtl\"><span class=\"tfsechead rtl\"><span class=\"ltr\"><a target=\"_blank\" href=\"https://shebanq.ancient-data.org/hebrew/text?book=Numeri&amp;chapter=22&amp;verse=31&amp;version=2021&amp;mr=m&amp;qw=q&amp;tp=txt_p&amp;tr=hb&amp;wget=v&amp;qget=v&amp;nget=vt\" title=\"Show this on SHEBANQ\" sec=\"Numbers 22:31\">Numbers 22:31</a></span></span>  <span class=\"txtu hbo\">אֶת־</span><span class=\"txtu hbo\">מַלְאַ֤ךְ </span><span class=\"txtu hbo\">יְהוָה֙ </span></div>"
      ],
      "text/plain": [
       "<IPython.core.display.HTML object>"
      ]
     },
     "metadata": {},
     "output_type": "display_data"
    },
    {
     "data": {
      "text/html": [
       "<div class=\"rtl\"><span class=\"txtu hbo\">אֶת־</span><span class=\"txtu hbo\">מַלְאַ֤ךְ </span><span class=\"txtu hbo\">יְהוָה֙ </span></div>"
      ],
      "text/plain": [
       "<IPython.core.display.HTML object>"
      ]
     },
     "metadata": {},
     "output_type": "display_data"
    },
    {
     "data": {
      "text/markdown": [
       "\n",
       "---\n"
      ],
      "text/plain": [
       "<IPython.core.display.Markdown object>"
      ]
     },
     "metadata": {},
     "output_type": "display_data"
    },
    {
     "data": {
      "text/markdown": [
       "**clauseShow** = node `500000`\n"
      ],
      "text/plain": [
       "<IPython.core.display.Markdown object>"
      ]
     },
     "metadata": {},
     "output_type": "display_data"
    },
    {
     "data": {
      "text/html": [
       "<div class=\"rtl\"><span class=\"tfsechead rtl\"><span class=\"ltr\"><a target=\"_blank\" href=\"https://shebanq.ancient-data.org/hebrew/text?book=Iob&amp;chapter=36&amp;verse=27&amp;version=2021&amp;mr=m&amp;qw=q&amp;tp=txt_p&amp;tr=hb&amp;wget=v&amp;qget=v&amp;nget=vt\" title=\"Show this on SHEBANQ\" sec=\"Job 36:27\">Job 36:27</a></span></span>  <span class=\"txtu hbo\">יָזֹ֖קּוּ </span><span class=\"txtu hbo\">מָטָ֣ר </span><span class=\"txtu hbo\">לְ</span><span class=\"txtu hbo\">אֵדֹֽו׃ </span></div>"
      ],
      "text/plain": [
       "<IPython.core.display.HTML object>"
      ]
     },
     "metadata": {},
     "output_type": "display_data"
    },
    {
     "data": {
      "text/html": [
       "<div class=\"rtl\"><span class=\"txtu hbo\">יָזֹ֖קּוּ </span><span class=\"txtu hbo\">מָטָ֣ר </span><span class=\"txtu hbo\">לְ</span><span class=\"txtu hbo\">אֵדֹֽו׃ </span></div>"
      ],
      "text/plain": [
       "<IPython.core.display.HTML object>"
      ]
     },
     "metadata": {},
     "output_type": "display_data"
    },
    {
     "data": {
      "text/markdown": [
       "\n",
       "---\n"
      ],
      "text/plain": [
       "<IPython.core.display.Markdown object>"
      ]
     },
     "metadata": {},
     "output_type": "display_data"
    },
    {
     "data": {
      "text/markdown": [
       "**sentenceShow** = node `1200000`\n"
      ],
      "text/plain": [
       "<IPython.core.display.Markdown object>"
      ]
     },
     "metadata": {},
     "output_type": "display_data"
    },
    {
     "data": {
      "text/html": [
       "<div class=\"rtl\"><span class=\"tfsechead rtl\"><span class=\"ltr\"><a target=\"_blank\" href=\"https://shebanq.ancient-data.org/hebrew/text?book=Reges_II&amp;chapter=6&amp;verse=5&amp;version=2021&amp;mr=m&amp;qw=q&amp;tp=txt_p&amp;tr=hb&amp;wget=v&amp;qget=v&amp;nget=vt\" title=\"Show this on SHEBANQ\" sec=\"2_Kings 6:5\">2_Kings 6:5</a></span></span>  <span class=\"txtu hbo\">אֲהָ֥הּ </span><span class=\"txtu hbo\">אֲדֹנִ֖י </span></div>"
      ],
      "text/plain": [
       "<IPython.core.display.HTML object>"
      ]
     },
     "metadata": {},
     "output_type": "display_data"
    },
    {
     "data": {
      "text/html": [
       "<div class=\"rtl\"><span class=\"txtu hbo\">אֲהָ֥הּ </span><span class=\"txtu hbo\">אֲדֹנִ֖י </span></div>"
      ],
      "text/plain": [
       "<IPython.core.display.HTML object>"
      ]
     },
     "metadata": {},
     "output_type": "display_data"
    },
    {
     "data": {
      "text/markdown": [
       "\n",
       "---\n"
      ],
      "text/plain": [
       "<IPython.core.display.Markdown object>"
      ]
     },
     "metadata": {},
     "output_type": "display_data"
    },
    {
     "data": {
      "text/markdown": [
       "**lexShow** = node `1437667`\n"
      ],
      "text/plain": [
       "<IPython.core.display.Markdown object>"
      ]
     },
     "metadata": {},
     "output_type": "display_data"
    },
    {
     "data": {
      "text/html": [
       "<div class=\"rtl\"><span class=\"tfsechead rtl\"><span class=\"ltr\"><a class=\" txtu hbo\" target=\"_blank\" href=\"https://shebanq.ancient-data.org/hebrew/word?version=2021&amp;id=1QVNn\" title=\"Show this on SHEBANQ\"><span title=\"voc_lex_utf8\">קָטֹן</span></a></span></span>  </div>"
      ],
      "text/plain": [
       "<IPython.core.display.HTML object>"
      ]
     },
     "metadata": {},
     "output_type": "display_data"
    },
    {
     "data": {
      "text/html": [
       "<div class=\"rtl\"></div>"
      ],
      "text/plain": [
       "<IPython.core.display.HTML object>"
      ]
     },
     "metadata": {},
     "output_type": "display_data"
    },
    {
     "data": {
      "text/markdown": [
       "\n",
       "---\n"
      ],
      "text/plain": [
       "<IPython.core.display.Markdown object>"
      ]
     },
     "metadata": {},
     "output_type": "display_data"
    }
   ],
   "source": [
    "for (name, n) in normalShow.items():\n",
    "    A.dm(f\"**{name}** = node `{n}`\\n\")\n",
    "    A.plain(n)\n",
    "    A.plain(n, withPassage=False)\n",
    "    A.dm(\"\\n---\\n\")"
   ]
  },
  {
   "cell_type": "markdown",
   "metadata": {},
   "source": [
    "Note that for section nodes (except verse and half-verse) the `withPassage` has little effect.\n",
    "The passage is the thing that is hyperlinked. The node is represented as a textual reference to the piece of text\n",
    "in question."
   ]
  },
  {
   "cell_type": "code",
   "execution_count": 17,
   "metadata": {},
   "outputs": [
    {
     "data": {
      "text/markdown": [
       "**chapterShow** = node `427000`\n"
      ],
      "text/plain": [
       "<IPython.core.display.Markdown object>"
      ]
     },
     "metadata": {},
     "output_type": "display_data"
    },
    {
     "data": {
      "text/html": [
       "<div class=\"rtl\"><span class=\"tfsechead rtl\"><span class=\"ltr\"><a target=\"_blank\" href=\"https://shebanq.ancient-data.org/hebrew/text?book=Jesaia&amp;chapter=37&amp;verse=1&amp;version=2021&amp;mr=m&amp;qw=q&amp;tp=txt_p&amp;tr=hb&amp;wget=v&amp;qget=v&amp;nget=vt\" title=\"Show this on SHEBANQ\" sec=\"Isaiah 37\">Isaiah 37</a></span></span>  <span class=\"txtu hbo rtl\"><span class=\"tfsechead rtl\"><span class=\"ltr\"> </span></span></span></div>"
      ],
      "text/plain": [
       "<IPython.core.display.HTML object>"
      ]
     },
     "metadata": {},
     "output_type": "display_data"
    },
    {
     "data": {
      "text/html": [
       "<div class=\"rtl\"><span class=\"txtu hbo rtl\"><span class=\"tfsechead rtl\"><span class=\"ltr\">Isaiah 37</span></span></span></div>"
      ],
      "text/plain": [
       "<IPython.core.display.HTML object>"
      ]
     },
     "metadata": {},
     "output_type": "display_data"
    },
    {
     "data": {
      "text/markdown": [
       "\n",
       "---\n"
      ],
      "text/plain": [
       "<IPython.core.display.Markdown object>"
      ]
     },
     "metadata": {},
     "output_type": "display_data"
    },
    {
     "data": {
      "text/markdown": [
       "**bookShow** = node `426598`\n"
      ],
      "text/plain": [
       "<IPython.core.display.Markdown object>"
      ]
     },
     "metadata": {},
     "output_type": "display_data"
    },
    {
     "data": {
      "text/html": [
       "<div class=\"rtl\"><span class=\"tfsechead rtl\"><span class=\"ltr\"><a target=\"_blank\" href=\"https://shebanq.ancient-data.org/hebrew/text?book=Samuel_I&amp;chapter=1&amp;verse=1&amp;version=2021&amp;mr=m&amp;qw=q&amp;tp=txt_p&amp;tr=hb&amp;wget=v&amp;qget=v&amp;nget=vt\" title=\"Show this on SHEBANQ\" sec=\"1_Samuel\">1_Samuel</a></span></span>  <span class=\"txtu hbo rtl\"><span class=\"tfsechead rtl\"><span class=\"ltr\"> </span></span></span></div>"
      ],
      "text/plain": [
       "<IPython.core.display.HTML object>"
      ]
     },
     "metadata": {},
     "output_type": "display_data"
    },
    {
     "data": {
      "text/html": [
       "<div class=\"rtl\"><span class=\"txtu hbo rtl\"><span class=\"tfsechead rtl\"><span class=\"ltr\">1_Samuel</span></span></span></div>"
      ],
      "text/plain": [
       "<IPython.core.display.HTML object>"
      ]
     },
     "metadata": {},
     "output_type": "display_data"
    },
    {
     "data": {
      "text/markdown": [
       "\n",
       "---\n"
      ],
      "text/plain": [
       "<IPython.core.display.Markdown object>"
      ]
     },
     "metadata": {},
     "output_type": "display_data"
    }
   ],
   "source": [
    "for (name, n) in sectionShow.items():\n",
    "    if name == \"verseShow\":\n",
    "        continue\n",
    "    A.dm(f\"**{name}** = node `{n}`\\n\")\n",
    "    A.plain(n)\n",
    "    A.plain(n, withPassage=False)\n",
    "    A.dm(\"\\n---\\n\")"
   ]
  },
  {
   "cell_type": "markdown",
   "metadata": {},
   "source": [
    "We can also dive into the structure of the textual objects, provided they are not too large.\n",
    "\n",
    "The function `pretty` gives a display of the object that a node stands for together with the structure below that node."
   ]
  },
  {
   "cell_type": "code",
   "execution_count": 18,
   "metadata": {},
   "outputs": [
    {
     "data": {
      "text/markdown": [
       "**wordShow** = node `15890`\n"
      ],
      "text/plain": [
       "<IPython.core.display.Markdown object>"
      ]
     },
     "metadata": {},
     "output_type": "display_data"
    },
    {
     "data": {
      "text/html": [
       "<div class=\"tfsechead rtl\"><span class=\"ltr\"><a target=\"_blank\" href=\"https://shebanq.ancient-data.org/hebrew/text?book=Genesis&amp;chapter=30&amp;verse=18&amp;version=2021&amp;mr=m&amp;qw=q&amp;tp=txt_p&amp;tr=hb&amp;wget=v&amp;qget=v&amp;nget=vt\" title=\"Show this on SHEBANQ\" sec=\"Genesis 30:18\">Genesis 30:18</a></span></div><div class=\"rtl children\"><div class=\"contnr c0 trm rtl  \" ><div class=\"lbl c0 trm \" ><a class=\" txtu hbo\" target=\"_blank\" href=\"https://shebanq.ancient-data.org/hebrew/word?version=2021&amp;id=1JFFKRn\" title=\"Show this on SHEBANQ\"><span class=\"txtu hbo\">יִשָּׂשכָֽר׃ </span></a></div></div></div>"
      ],
      "text/plain": [
       "<IPython.core.display.HTML object>"
      ]
     },
     "metadata": {},
     "output_type": "display_data"
    },
    {
     "data": {
      "text/markdown": [
       "\n",
       "---\n"
      ],
      "text/plain": [
       "<IPython.core.display.Markdown object>"
      ]
     },
     "metadata": {},
     "output_type": "display_data"
    },
    {
     "data": {
      "text/markdown": [
       "**phraseShow** = node `700000`\n"
      ],
      "text/plain": [
       "<IPython.core.display.Markdown object>"
      ]
     },
     "metadata": {},
     "output_type": "display_data"
    },
    {
     "data": {
      "text/html": [
       "<div class=\"tfsechead rtl\"><span class=\"ltr\"><a target=\"_blank\" href=\"https://shebanq.ancient-data.org/hebrew/text?book=Numeri&amp;chapter=22&amp;verse=31&amp;version=2021&amp;mr=m&amp;qw=q&amp;tp=txt_p&amp;tr=hb&amp;wget=v&amp;qget=v&amp;nget=vt\" title=\"Show this on SHEBANQ\" sec=\"Numbers 22:31\">Numbers 22:31</a></span></div><div class=\"rtl children\"><div class=\"contnr c1  rtl  \" ><div class=\"lbl c1  \" ><span class=\"nd\">phrase</span></div><div class=\"children hor wrap rtl\"><div class=\"contnr c0 trm rtl  \" ><div class=\"lbl c0 trm \" ><a class=\" txtu hbo\" target=\"_blank\" href=\"https://shebanq.ancient-data.org/hebrew/word?version=2021&amp;id=1AT\" title=\"Show this on SHEBANQ\"><span class=\"txtu hbo\">אֶת־</span></a></div></div><div class=\"contnr c0 trm rtl  \" ><div class=\"lbl c0 trm \" ><a class=\" txtu hbo\" target=\"_blank\" href=\"https://shebanq.ancient-data.org/hebrew/word?version=2021&amp;id=1MLAKn\" title=\"Show this on SHEBANQ\"><span class=\"txtu hbo\">מַלְאַ֤ךְ </span></a></div></div><div class=\"contnr c0 trm rtl  \" ><div class=\"lbl c0 trm \" ><a class=\" txtu hbo\" target=\"_blank\" href=\"https://shebanq.ancient-data.org/hebrew/word?version=2021&amp;id=1JHWHn\" title=\"Show this on SHEBANQ\"><span class=\"txtu hbo\">יְהוָה֙ </span></a></div></div></div></div></div>"
      ],
      "text/plain": [
       "<IPython.core.display.HTML object>"
      ]
     },
     "metadata": {},
     "output_type": "display_data"
    },
    {
     "data": {
      "text/markdown": [
       "\n",
       "---\n"
      ],
      "text/plain": [
       "<IPython.core.display.Markdown object>"
      ]
     },
     "metadata": {},
     "output_type": "display_data"
    },
    {
     "data": {
      "text/markdown": [
       "**clauseShow** = node `500000`\n"
      ],
      "text/plain": [
       "<IPython.core.display.Markdown object>"
      ]
     },
     "metadata": {},
     "output_type": "display_data"
    },
    {
     "data": {
      "text/html": [
       "<div class=\"tfsechead rtl\"><span class=\"ltr\"><a target=\"_blank\" href=\"https://shebanq.ancient-data.org/hebrew/text?book=Iob&amp;chapter=36&amp;verse=27&amp;version=2021&amp;mr=m&amp;qw=q&amp;tp=txt_p&amp;tr=hb&amp;wget=v&amp;qget=v&amp;nget=vt\" title=\"Show this on SHEBANQ\" sec=\"Job 36:27\">Job 36:27</a></span></div><div class=\"rtl children\"><div class=\"contnr c2  rtl  \" ><div class=\"lbl c2  \" ><span class=\"nd\">clause</span></div><div class=\"children hor wrap rtl\"><div class=\"contnr c1  rtl  \" ><div class=\"lbl c1  \" ><span class=\"nd\">phrase</span></div><div class=\"children hor wrap rtl\"><div class=\"contnr c0 trm rtl  \" ><div class=\"lbl c0 trm \" ><a class=\" txtu hbo\" target=\"_blank\" href=\"https://shebanq.ancient-data.org/hebrew/word?version=2021&amp;id=1ZQQv\" title=\"Show this on SHEBANQ\"><span class=\"txtu hbo\">יָזֹ֖קּוּ </span></a></div></div></div></div><div class=\"contnr c1  rtl  \" ><div class=\"lbl c1  \" ><span class=\"nd\">phrase</span></div><div class=\"children hor wrap rtl\"><div class=\"contnr c0 trm rtl  \" ><div class=\"lbl c0 trm \" ><a class=\" txtu hbo\" target=\"_blank\" href=\"https://shebanq.ancient-data.org/hebrew/word?version=2021&amp;id=1MVRn\" title=\"Show this on SHEBANQ\"><span class=\"txtu hbo\">מָטָ֣ר </span></a></div></div></div></div><div class=\"contnr c1  rtl  \" ><div class=\"lbl c1  \" ><span class=\"nd\">phrase</span></div><div class=\"children hor wrap rtl\"><div class=\"contnr c0 trm rtl  \" ><div class=\"lbl c0 trm \" ><a class=\" txtu hbo\" target=\"_blank\" href=\"https://shebanq.ancient-data.org/hebrew/word?version=2021&amp;id=1L\" title=\"Show this on SHEBANQ\"><span class=\"txtu hbo\">לְ</span></a></div></div><div class=\"contnr c0 trm rtl  \" ><div class=\"lbl c0 trm \" ><a class=\" txtu hbo\" target=\"_blank\" href=\"https://shebanq.ancient-data.org/hebrew/word?version=2021&amp;id=1ADn\" title=\"Show this on SHEBANQ\"><span class=\"txtu hbo\">אֵדֹֽו׃ </span></a></div></div></div></div></div></div></div>"
      ],
      "text/plain": [
       "<IPython.core.display.HTML object>"
      ]
     },
     "metadata": {},
     "output_type": "display_data"
    },
    {
     "data": {
      "text/markdown": [
       "\n",
       "---\n"
      ],
      "text/plain": [
       "<IPython.core.display.Markdown object>"
      ]
     },
     "metadata": {},
     "output_type": "display_data"
    },
    {
     "data": {
      "text/markdown": [
       "**sentenceShow** = node `1200000`\n"
      ],
      "text/plain": [
       "<IPython.core.display.Markdown object>"
      ]
     },
     "metadata": {},
     "output_type": "display_data"
    },
    {
     "data": {
      "text/html": [
       "<div class=\"tfsechead rtl\"><span class=\"ltr\"><a target=\"_blank\" href=\"https://shebanq.ancient-data.org/hebrew/text?book=Reges_II&amp;chapter=6&amp;verse=5&amp;version=2021&amp;mr=m&amp;qw=q&amp;tp=txt_p&amp;tr=hb&amp;wget=v&amp;qget=v&amp;nget=vt\" title=\"Show this on SHEBANQ\" sec=\"2_Kings 6:5\">2_Kings 6:5</a></span></div><div class=\"rtl children\"><div class=\"contnr c2  rtl  \" ><div class=\"lbl c2  \" ><span class=\"nd\">sentence</span></div><div class=\"children hor wrap rtl\"><div class=\"contnr c2  rtl  \" ><div class=\"lbl c2  \" ><span class=\"nd\">clause</span></div><div class=\"children hor wrap rtl\"><div class=\"contnr c1  rtl  \" ><div class=\"lbl c1  \" ><span class=\"nd\">phrase</span></div><div class=\"children hor wrap rtl\"><div class=\"contnr c0 trm rtl  \" ><div class=\"lbl c0 trm \" ><a class=\" txtu hbo\" target=\"_blank\" href=\"https://shebanq.ancient-data.org/hebrew/word?version=2021&amp;id=1AHH\" title=\"Show this on SHEBANQ\"><span class=\"txtu hbo\">אֲהָ֥הּ </span></a></div></div></div></div><div class=\"contnr c1  rtl  \" ><div class=\"lbl c1  \" ><span class=\"nd\">phrase</span></div><div class=\"children hor wrap rtl\"><div class=\"contnr c0 trm rtl  \" ><div class=\"lbl c0 trm \" ><a class=\" txtu hbo\" target=\"_blank\" href=\"https://shebanq.ancient-data.org/hebrew/word?version=2021&amp;id=1ADWNn\" title=\"Show this on SHEBANQ\"><span class=\"txtu hbo\">אֲדֹנִ֖י </span></a></div></div></div></div></div></div></div></div></div>"
      ],
      "text/plain": [
       "<IPython.core.display.HTML object>"
      ]
     },
     "metadata": {},
     "output_type": "display_data"
    },
    {
     "data": {
      "text/markdown": [
       "\n",
       "---\n"
      ],
      "text/plain": [
       "<IPython.core.display.Markdown object>"
      ]
     },
     "metadata": {},
     "output_type": "display_data"
    },
    {
     "data": {
      "text/markdown": [
       "**lexShow** = node `1437667`\n"
      ],
      "text/plain": [
       "<IPython.core.display.Markdown object>"
      ]
     },
     "metadata": {},
     "output_type": "display_data"
    },
    {
     "data": {
      "text/html": [
       "<div class=\"tfsechead rtl\"><span class=\"ltr\"><a class=\" txtu hbo\" target=\"_blank\" href=\"https://shebanq.ancient-data.org/hebrew/word?version=2021&amp;id=1QVNn\" title=\"Show this on SHEBANQ\"><span title=\"voc_lex_utf8\">קָטֹן</span></a></span></div><div class=\"rtl children\"><div class=\"contnr c0 trm rtl  \" ><div class=\"lbl c0 trm \" ><span class=\"nd\">lex</span></div><div class=\"occs\"><a target=\"_blank\" href=\"https://shebanq.ancient-data.org/hebrew/text?book=Genesis&amp;chapter=1&amp;verse=16&amp;version=2021&amp;mr=m&amp;qw=q&amp;tp=txt_p&amp;tr=hb&amp;wget=v&amp;qget=v&amp;nget=vt\" title=\"Show this on SHEBANQ\" sec=\"Genesis 1:16\">Genesis 1:16</a> - <a target=\"_blank\" href=\"https://shebanq.ancient-data.org/hebrew/text?book=Chronica_II&amp;chapter=22&amp;verse=1&amp;version=2021&amp;mr=m&amp;qw=q&amp;tp=txt_p&amp;tr=hb&amp;wget=v&amp;qget=v&amp;nget=vt\" title=\"Show this on SHEBANQ\" sec=\"2_Chronicles 22:1\">2_Chronicles 22:1</a></div></div></div>"
      ],
      "text/plain": [
       "<IPython.core.display.HTML object>"
      ]
     },
     "metadata": {},
     "output_type": "display_data"
    },
    {
     "data": {
      "text/markdown": [
       "\n",
       "---\n"
      ],
      "text/plain": [
       "<IPython.core.display.Markdown object>"
      ]
     },
     "metadata": {},
     "output_type": "display_data"
    }
   ],
   "source": [
    "for (name, n) in normalShow.items():\n",
    "    A.dm(f\"**{name}** = node `{n}`\\n\")\n",
    "    A.pretty(n)\n",
    "    A.dm(\"\\n---\\n\")"
   ]
  },
  {
   "cell_type": "markdown",
   "metadata": {},
   "source": [
    "Note\n",
    "* if you click on a word in a pretty display\n",
    "  you go to a page in SHEBANQ that shows a list of all occurrences of this lexeme;\n",
    "* if you click on the passage, you go to SHEBANQ, to exactly this verse."
   ]
  },
  {
   "cell_type": "markdown",
   "metadata": {},
   "source": [
    "If you need a link to shebanq for just any node:"
   ]
  },
  {
   "cell_type": "code",
   "execution_count": null,
   "metadata": {
    "ExecuteTime": {
     "end_time": "2018-05-18T09:18:15.022571Z",
     "start_time": "2018-05-18T09:18:15.016639Z"
    }
   },
   "outputs": [],
   "source": [
    "million = 1000000\n",
    "A.webLink(million)"
   ]
  },
  {
   "cell_type": "markdown",
   "metadata": {},
   "source": [
    "We can show some standard features in the display:"
   ]
  },
  {
   "cell_type": "code",
   "execution_count": 22,
   "metadata": {},
   "outputs": [
    {
     "data": {
      "text/markdown": [
       "**wordShow** = node `15890`\n"
      ],
      "text/plain": [
       "<IPython.core.display.Markdown object>"
      ]
     },
     "metadata": {},
     "output_type": "display_data"
    },
    {
     "data": {
      "text/html": [
       "<div class=\"tfsechead rtl\"><span class=\"ltr\"><a target=\"_blank\" href=\"https://shebanq.ancient-data.org/hebrew/text?book=Genesis&amp;chapter=30&amp;verse=18&amp;version=2021&amp;mr=m&amp;qw=q&amp;tp=txt_p&amp;tr=hb&amp;wget=v&amp;qget=v&amp;nget=vt\" title=\"Show this on SHEBANQ\" sec=\"Genesis 30:18\">Genesis 30:18</a></span></div><div class=\"rtl children\"><div class=\"contnr c0 trm rtl  \" ><div class=\"lbl c0 trm \" ><a class=\" txtu hbo\" target=\"_blank\" href=\"https://shebanq.ancient-data.org/hebrew/word?version=2021&amp;id=1JFFKRn\" title=\"Show this on SHEBANQ\"><span class=\"txtu hbo\">יִשָּׂשכָֽר׃ </span></a></div><div class='features'><span class=\"gloss \" title=\"gloss\">Issachar</span><span class=\"pdp \" ><span class=\"f\">pdp=</span>nmpr</span></div></div></div>"
      ],
      "text/plain": [
       "<IPython.core.display.HTML object>"
      ]
     },
     "metadata": {},
     "output_type": "display_data"
    },
    {
     "data": {
      "text/markdown": [
       "\n",
       "---\n"
      ],
      "text/plain": [
       "<IPython.core.display.Markdown object>"
      ]
     },
     "metadata": {},
     "output_type": "display_data"
    },
    {
     "data": {
      "text/markdown": [
       "**phraseShow** = node `700000`\n"
      ],
      "text/plain": [
       "<IPython.core.display.Markdown object>"
      ]
     },
     "metadata": {},
     "output_type": "display_data"
    },
    {
     "data": {
      "text/html": [
       "<div class=\"tfsechead rtl\"><span class=\"ltr\"><a target=\"_blank\" href=\"https://shebanq.ancient-data.org/hebrew/text?book=Numeri&amp;chapter=22&amp;verse=31&amp;version=2021&amp;mr=m&amp;qw=q&amp;tp=txt_p&amp;tr=hb&amp;wget=v&amp;qget=v&amp;nget=vt\" title=\"Show this on SHEBANQ\" sec=\"Numbers 22:31\">Numbers 22:31</a></span></div><div class=\"rtl children\"><div class=\"contnr c1  rtl  \" ><div class=\"lbl c1  \" ><span class=\"nd\">phrase</span> <span class=\"\"><span title=\"typ\">PP</span> <span title=\"function\">Objc</span></span></div><div class=\"children hor wrap rtl\"><div class=\"contnr c0 trm rtl  \" ><div class=\"lbl c0 trm \" ><a class=\" txtu hbo\" target=\"_blank\" href=\"https://shebanq.ancient-data.org/hebrew/word?version=2021&amp;id=1AT\" title=\"Show this on SHEBANQ\"><span class=\"txtu hbo\">אֶת־</span></a></div><div class='features'><span class=\"gloss \" title=\"gloss\">&lt;object marker></span><span class=\"pdp \" ><span class=\"f\">pdp=</span>prep</span></div></div><div class=\"contnr c0 trm rtl  \" ><div class=\"lbl c0 trm \" ><a class=\" txtu hbo\" target=\"_blank\" href=\"https://shebanq.ancient-data.org/hebrew/word?version=2021&amp;id=1MLAKn\" title=\"Show this on SHEBANQ\"><span class=\"txtu hbo\">מַלְאַ֤ךְ </span></a></div><div class='features'><span class=\"gloss \" title=\"gloss\">messenger</span><span class=\"pdp \" ><span class=\"f\">pdp=</span>subs</span></div></div><div class=\"contnr c0 trm rtl  \" ><div class=\"lbl c0 trm \" ><a class=\" txtu hbo\" target=\"_blank\" href=\"https://shebanq.ancient-data.org/hebrew/word?version=2021&amp;id=1JHWHn\" title=\"Show this on SHEBANQ\"><span class=\"txtu hbo\">יְהוָה֙ </span></a></div><div class='features'><span class=\"gloss \" title=\"gloss\">YHWH</span><span class=\"pdp \" ><span class=\"f\">pdp=</span>nmpr</span></div></div></div></div></div>"
      ],
      "text/plain": [
       "<IPython.core.display.HTML object>"
      ]
     },
     "metadata": {},
     "output_type": "display_data"
    },
    {
     "data": {
      "text/markdown": [
       "\n",
       "---\n"
      ],
      "text/plain": [
       "<IPython.core.display.Markdown object>"
      ]
     },
     "metadata": {},
     "output_type": "display_data"
    },
    {
     "data": {
      "text/markdown": [
       "**clauseShow** = node `500000`\n"
      ],
      "text/plain": [
       "<IPython.core.display.Markdown object>"
      ]
     },
     "metadata": {},
     "output_type": "display_data"
    },
    {
     "data": {
      "text/html": [
       "<div class=\"tfsechead rtl\"><span class=\"ltr\"><a target=\"_blank\" href=\"https://shebanq.ancient-data.org/hebrew/text?book=Iob&amp;chapter=36&amp;verse=27&amp;version=2021&amp;mr=m&amp;qw=q&amp;tp=txt_p&amp;tr=hb&amp;wget=v&amp;qget=v&amp;nget=vt\" title=\"Show this on SHEBANQ\" sec=\"Job 36:27\">Job 36:27</a></span></div><div class=\"rtl children\"><div class=\"contnr c2  rtl  \" ><div class=\"lbl c2  \" ><span class=\"nd\">clause</span> <span class=\"\"><span title=\"typ\">ZYq0</span> <span title=\"rela\">Coor</span></span></div><div class=\"children hor wrap rtl\"><div class=\"contnr c1  rtl  \" ><div class=\"lbl c1  \" ><span class=\"nd\">phrase</span> <span class=\"\"><span title=\"typ\">VP</span> <span title=\"function\">Pred</span></span></div><div class=\"children hor wrap rtl\"><div class=\"contnr c0 trm rtl  \" ><div class=\"lbl c0 trm \" ><a class=\" txtu hbo\" target=\"_blank\" href=\"https://shebanq.ancient-data.org/hebrew/word?version=2021&amp;id=1ZQQv\" title=\"Show this on SHEBANQ\"><span class=\"txtu hbo\">יָזֹ֖קּוּ </span></a></div><div class='features'><span class=\"gloss \" title=\"gloss\">filter</span><span class=\"pdp \" ><span class=\"f\">pdp=</span>verb</span><span class=\"vs \" ><span class=\"f\">vs=</span>qal</span><span class=\"vt \" ><span class=\"f\">vt=</span>impf</span></div></div></div></div><div class=\"contnr c1  rtl  \" ><div class=\"lbl c1  \" ><span class=\"nd\">phrase</span> <span class=\"\"><span title=\"typ\">NP</span> <span title=\"function\">Objc</span></span></div><div class=\"children hor wrap rtl\"><div class=\"contnr c0 trm rtl  \" ><div class=\"lbl c0 trm \" ><a class=\" txtu hbo\" target=\"_blank\" href=\"https://shebanq.ancient-data.org/hebrew/word?version=2021&amp;id=1MVRn\" title=\"Show this on SHEBANQ\"><span class=\"txtu hbo\">מָטָ֣ר </span></a></div><div class='features'><span class=\"gloss \" title=\"gloss\">rain</span><span class=\"pdp \" ><span class=\"f\">pdp=</span>subs</span></div></div></div></div><div class=\"contnr c1  rtl  \" ><div class=\"lbl c1  \" ><span class=\"nd\">phrase</span> <span class=\"\"><span title=\"typ\">PP</span> <span title=\"function\">Adju</span></span></div><div class=\"children hor wrap rtl\"><div class=\"contnr c0 trm rtl  \" ><div class=\"lbl c0 trm \" ><a class=\" txtu hbo\" target=\"_blank\" href=\"https://shebanq.ancient-data.org/hebrew/word?version=2021&amp;id=1L\" title=\"Show this on SHEBANQ\"><span class=\"txtu hbo\">לְ</span></a></div><div class='features'><span class=\"gloss \" title=\"gloss\">to</span><span class=\"pdp \" ><span class=\"f\">pdp=</span>prep</span></div></div><div class=\"contnr c0 trm rtl  \" ><div class=\"lbl c0 trm \" ><a class=\" txtu hbo\" target=\"_blank\" href=\"https://shebanq.ancient-data.org/hebrew/word?version=2021&amp;id=1ADn\" title=\"Show this on SHEBANQ\"><span class=\"txtu hbo\">אֵדֹֽו׃ </span></a></div><div class='features'><span class=\"gloss \" title=\"gloss\">&lt;uncertain></span><span class=\"pdp \" ><span class=\"f\">pdp=</span>subs</span></div></div></div></div></div></div></div>"
      ],
      "text/plain": [
       "<IPython.core.display.HTML object>"
      ]
     },
     "metadata": {},
     "output_type": "display_data"
    },
    {
     "data": {
      "text/markdown": [
       "\n",
       "---\n"
      ],
      "text/plain": [
       "<IPython.core.display.Markdown object>"
      ]
     },
     "metadata": {},
     "output_type": "display_data"
    },
    {
     "data": {
      "text/markdown": [
       "**sentenceShow** = node `1200000`\n"
      ],
      "text/plain": [
       "<IPython.core.display.Markdown object>"
      ]
     },
     "metadata": {},
     "output_type": "display_data"
    },
    {
     "data": {
      "text/html": [
       "<div class=\"tfsechead rtl\"><span class=\"ltr\"><a target=\"_blank\" href=\"https://shebanq.ancient-data.org/hebrew/text?book=Reges_II&amp;chapter=6&amp;verse=5&amp;version=2021&amp;mr=m&amp;qw=q&amp;tp=txt_p&amp;tr=hb&amp;wget=v&amp;qget=v&amp;nget=vt\" title=\"Show this on SHEBANQ\" sec=\"2_Kings 6:5\">2_Kings 6:5</a></span></div><div class=\"rtl children\"><div class=\"contnr c2  rtl  \" ><div class=\"lbl c2  \" ><span class=\"nd\">sentence</span> <span class=\"\"><span title=\"number\">21</span></span></div><div class=\"children hor wrap rtl\"><div class=\"contnr c2  rtl  \" ><div class=\"lbl c2  \" ><span class=\"nd\">clause</span> <span class=\"\"><span title=\"typ\">Voct</span> <span title=\"rela\">NA</span></span></div><div class=\"children hor wrap rtl\"><div class=\"contnr c1  rtl  \" ><div class=\"lbl c1  \" ><span class=\"nd\">phrase</span> <span class=\"\"><span title=\"typ\">InjP</span> <span title=\"function\">Intj</span></span></div><div class=\"children hor wrap rtl\"><div class=\"contnr c0 trm rtl  \" ><div class=\"lbl c0 trm \" ><a class=\" txtu hbo\" target=\"_blank\" href=\"https://shebanq.ancient-data.org/hebrew/word?version=2021&amp;id=1AHH\" title=\"Show this on SHEBANQ\"><span class=\"txtu hbo\">אֲהָ֥הּ </span></a></div><div class='features'><span class=\"gloss \" title=\"gloss\">alas</span><span class=\"pdp \" ><span class=\"f\">pdp=</span>intj</span></div></div></div></div><div class=\"contnr c1  rtl  \" ><div class=\"lbl c1  \" ><span class=\"nd\">phrase</span> <span class=\"\"><span title=\"typ\">NP</span> <span title=\"function\">Voct</span></span></div><div class=\"children hor wrap rtl\"><div class=\"contnr c0 trm rtl  \" ><div class=\"lbl c0 trm \" ><a class=\" txtu hbo\" target=\"_blank\" href=\"https://shebanq.ancient-data.org/hebrew/word?version=2021&amp;id=1ADWNn\" title=\"Show this on SHEBANQ\"><span class=\"txtu hbo\">אֲדֹנִ֖י </span></a></div><div class='features'><span class=\"gloss \" title=\"gloss\">lord</span><span class=\"pdp \" ><span class=\"f\">pdp=</span>subs</span></div></div></div></div></div></div></div></div></div>"
      ],
      "text/plain": [
       "<IPython.core.display.HTML object>"
      ]
     },
     "metadata": {},
     "output_type": "display_data"
    },
    {
     "data": {
      "text/markdown": [
       "\n",
       "---\n"
      ],
      "text/plain": [
       "<IPython.core.display.Markdown object>"
      ]
     },
     "metadata": {},
     "output_type": "display_data"
    },
    {
     "data": {
      "text/markdown": [
       "**lexShow** = node `1437667`\n"
      ],
      "text/plain": [
       "<IPython.core.display.Markdown object>"
      ]
     },
     "metadata": {},
     "output_type": "display_data"
    },
    {
     "data": {
      "text/html": [
       "<div class=\"tfsechead rtl\"><span class=\"ltr\"><a class=\" txtu hbo\" target=\"_blank\" href=\"https://shebanq.ancient-data.org/hebrew/word?version=2021&amp;id=1QVNn\" title=\"Show this on SHEBANQ\"><span title=\"voc_lex_utf8\">קָטֹן</span></a></span></div><div class=\"rtl children\"><div class=\"contnr c0 trm rtl  \" ><div class=\"lbl c0 trm \" ><span class=\"nd\">lex</span> <span class=\"txtu hbo\"><span title=\"voc_lex_utf8\">קָטֹן</span></span></div><div class='features'><span class=\"gloss \" title=\"gloss\">small</span></div><div class=\"occs\"><a target=\"_blank\" href=\"https://shebanq.ancient-data.org/hebrew/text?book=Genesis&amp;chapter=1&amp;verse=16&amp;version=2021&amp;mr=m&amp;qw=q&amp;tp=txt_p&amp;tr=hb&amp;wget=v&amp;qget=v&amp;nget=vt\" title=\"Show this on SHEBANQ\" sec=\"Genesis 1:16\">Genesis 1:16</a> - <a target=\"_blank\" href=\"https://shebanq.ancient-data.org/hebrew/text?book=Chronica_II&amp;chapter=22&amp;verse=1&amp;version=2021&amp;mr=m&amp;qw=q&amp;tp=txt_p&amp;tr=hb&amp;wget=v&amp;qget=v&amp;nget=vt\" title=\"Show this on SHEBANQ\" sec=\"2_Chronicles 22:1\">2_Chronicles 22:1</a></div></div></div>"
      ],
      "text/plain": [
       "<IPython.core.display.HTML object>"
      ]
     },
     "metadata": {},
     "output_type": "display_data"
    },
    {
     "data": {
      "text/markdown": [
       "\n",
       "---\n"
      ],
      "text/plain": [
       "<IPython.core.display.Markdown object>"
      ]
     },
     "metadata": {},
     "output_type": "display_data"
    }
   ],
   "source": [
    "for (name, n) in normalShow.items():\n",
    "    A.dm(f\"**{name}** = node `{n}`\\n\")\n",
    "    A.pretty(n, standardFeatures=True)\n",
    "    A.dm(\"\\n---\\n\")"
   ]
  },
  {
   "cell_type": "code",
   "execution_count": null,
   "metadata": {},
   "outputs": [],
   "source": [
    "for (name, n) in normalShow.items():\n",
    "    A.dm(f\"**{name}** = node `{n}`\\n\")\n",
    "    A.pretty(n, standardFeatures=True)\n",
    "    A.dm(\"\\n---\\n\")"
   ]
  },
  {
   "cell_type": "markdown",
   "metadata": {},
   "source": [
    "For more display options, see [display](display.ipynb)."
   ]
  },
  {
   "cell_type": "markdown",
   "metadata": {},
   "source": [
    "# Feature statistics\n",
    "\n",
    "`F`\n",
    "gives access to all features.\n",
    "Every feature has a method\n",
    "`freqList()`\n",
    "to generate a frequency list of its values, higher frequencies first.\n",
    "Here are the parts of speech:"
   ]
  },
  {
   "cell_type": "code",
   "execution_count": 24,
   "metadata": {
    "ExecuteTime": {
     "end_time": "2018-05-18T09:18:18.039544Z",
     "start_time": "2018-05-18T09:18:17.784073Z"
    }
   },
   "outputs": [
    {
     "data": {
      "text/plain": [
       "(('subs', 125583),\n",
       " ('verb', 75451),\n",
       " ('prep', 73298),\n",
       " ('conj', 62737),\n",
       " ('nmpr', 35607),\n",
       " ('art', 30387),\n",
       " ('adjv', 10141),\n",
       " ('nega', 6059),\n",
       " ('prps', 5035),\n",
       " ('advb', 4603),\n",
       " ('prde', 2678),\n",
       " ('intj', 1912),\n",
       " ('inrg', 1303),\n",
       " ('prin', 1026))"
      ]
     },
     "execution_count": 24,
     "metadata": {},
     "output_type": "execute_result"
    }
   ],
   "source": [
    "F.sp.freqList()"
   ]
  },
  {
   "cell_type": "markdown",
   "metadata": {},
   "source": [
    "# Lexeme matters\n",
    "\n",
    "## Top 10 frequent verbs\n",
    "\n",
    "If we count the frequency of words, we usually mean the frequency of their\n",
    "corresponding lexemes.\n",
    "\n",
    "There are several methods for working with lexemes.\n",
    "\n",
    "### Method 1: counting words"
   ]
  },
  {
   "cell_type": "code",
   "execution_count": 25,
   "metadata": {
    "ExecuteTime": {
     "end_time": "2018-05-18T09:18:22.590359Z",
     "start_time": "2018-05-18T09:18:22.247265Z"
    }
   },
   "outputs": [
    {
     "name": "stdout",
     "output_type": "stream",
     "text": [
      "  0.00s Collecting data\n",
      "  0.21s Done\n",
      ">MR[: 5378\n",
      "HJH[: 3561\n",
      "<FH[: 2629\n",
      "BW>[: 2570\n",
      "NTN[: 2017\n",
      "HLK[: 1554\n",
      "R>H[: 1298\n",
      "CM<[: 1168\n",
      "DBR[: 1138\n",
      "JCB[: 1082\n",
      "\n"
     ]
    }
   ],
   "source": [
    "verbs = collections.Counter()\n",
    "A.indent(reset=True)\n",
    "A.info(\"Collecting data\")\n",
    "\n",
    "for w in F.otype.s(\"word\"):\n",
    "    if F.sp.v(w) != \"verb\":\n",
    "        continue\n",
    "    verbs[F.lex.v(w)] += 1\n",
    "\n",
    "A.info(\"Done\")\n",
    "print(\n",
    "    \"\".join(\n",
    "        \"{}: {}\\n\".format(verb, cnt)\n",
    "        for (verb, cnt) in sorted(verbs.items(), key=lambda x: (-x[1], x[0]))[0:10]\n",
    "    )\n",
    ")"
   ]
  },
  {
   "cell_type": "markdown",
   "metadata": {},
   "source": [
    "### Method 2: counting lexemes\n",
    "\n",
    "An alternative way to do this is to use the feature `freq_lex`, defined for `lex` nodes.\n",
    "Now we walk the lexemes instead of the occurrences.\n",
    "\n",
    "Note that the feature `sp` (part-of-speech) is defined for nodes of type `word` as well as `lex`.\n",
    "Both also have the `lex` feature."
   ]
  },
  {
   "cell_type": "code",
   "execution_count": 26,
   "metadata": {
    "ExecuteTime": {
     "end_time": "2018-05-18T09:18:25.695727Z",
     "start_time": "2018-05-18T09:18:25.667486Z"
    }
   },
   "outputs": [
    {
     "name": "stdout",
     "output_type": "stream",
     "text": [
      "  0.00s Collecting data\n",
      "  0.01s Done\n",
      ">MR[: 5378\n",
      "HJH[: 3561\n",
      "<FH[: 2629\n",
      "BW>[: 2570\n",
      "NTN[: 2017\n",
      "HLK[: 1554\n",
      "R>H[: 1298\n",
      "CM<[: 1168\n",
      "DBR[: 1138\n",
      "JCB[: 1082\n",
      "\n"
     ]
    }
   ],
   "source": [
    "verbs = collections.Counter()\n",
    "A.indent(reset=True)\n",
    "A.info(\"Collecting data\")\n",
    "for w in F.otype.s(\"lex\"):\n",
    "    if F.sp.v(w) != \"verb\":\n",
    "        continue\n",
    "    verbs[F.lex.v(w)] += F.freq_lex.v(w)\n",
    "A.info(\"Done\")\n",
    "print(\n",
    "    \"\".join(\n",
    "        \"{}: {}\\n\".format(verb, cnt)\n",
    "        for (verb, cnt) in sorted(verbs.items(), key=lambda x: (-x[1], x[0]))[0:10]\n",
    "    )\n",
    ")"
   ]
  },
  {
   "cell_type": "markdown",
   "metadata": {},
   "source": [
    "This is an order of magnitude faster. In this case, that means the difference between a third of a second and a\n",
    "hundredth of a second, not a big gain in absolute terms.\n",
    "But suppose you need to run this a 1000 times in a loop.\n",
    "Then it is the difference between 5 minutes and 10 seconds.\n",
    "A five minute wait is not pleasant in interactive computing!"
   ]
  },
  {
   "cell_type": "markdown",
   "metadata": {},
   "source": [
    "### A frequency mapping of lexemes\n",
    "\n",
    "We make a mapping between lexeme forms and the number of occurrences of those lexemes."
   ]
  },
  {
   "cell_type": "code",
   "execution_count": 27,
   "metadata": {},
   "outputs": [],
   "source": [
    "lexeme_dict = {F.lex_utf8.v(n): F.freq_lex.v(n) for n in F.otype.s(\"word\")}"
   ]
  },
  {
   "cell_type": "code",
   "execution_count": 28,
   "metadata": {},
   "outputs": [
    {
     "data": {
      "text/plain": [
       "[('ב', 15542),\n",
       " ('ראשׁית', 51),\n",
       " ('ברא', 48),\n",
       " ('אלהים', 2601),\n",
       " ('את', 10987),\n",
       " ('ה', 30386),\n",
       " ('שׁמים', 421),\n",
       " ('ו', 50272),\n",
       " ('ארץ', 2504),\n",
       " ('היה', 3561)]"
      ]
     },
     "execution_count": 28,
     "metadata": {},
     "output_type": "execute_result"
    }
   ],
   "source": [
    "list(lexeme_dict.items())[0:10]"
   ]
  },
  {
   "cell_type": "markdown",
   "metadata": {},
   "source": [
    "### Real work\n",
    "\n",
    "As a primer of real world work on lexeme distribution, have a look at James Cuénod's notebook on\n",
    "[Collocation MI Analysis of the Hebrew Bible](https://nbviewer.jupyter.org/github/jcuenod/hebrewCollocations/blob/master/Collocation%20MI%20Analysis%20of%20the%20Hebrew%20Bible.ipynb)\n",
    "\n",
    "It is a nice example how you collect data with TF API calls, then do research with your own methods and tools, and then use TF for presenting results.\n",
    "\n",
    "In case the name has changed, the enclosing repo is\n",
    "[here](https://nbviewer.jupyter.org/github/jcuenod/hebrewCollocations/tree/master/)."
   ]
  },
  {
   "cell_type": "markdown",
   "metadata": {},
   "source": [
    "## Lexeme distribution\n",
    "\n",
    "Let's do a bit more fancy lexeme stuff.\n",
    "\n",
    "### Hapaxes\n",
    "\n",
    "A hapax can be found by inspecting lexemes and see to how many word nodes they are linked.\n",
    "If that is number is one, we have a hapax.\n",
    "\n",
    "We print 10 hapaxes with their glosses."
   ]
  },
  {
   "cell_type": "code",
   "execution_count": 29,
   "metadata": {
    "ExecuteTime": {
     "end_time": "2018-05-18T09:18:31.003571Z",
     "start_time": "2018-05-18T09:18:30.839888Z"
    }
   },
   "outputs": [
    {
     "name": "stdout",
     "output_type": "stream",
     "text": [
      "  0.11s 3071 hapaxes found\n",
      "No zeroes found\n",
      "\tPJCWN/   Pishon\n",
      "\tCWP[     bruise\n",
      "\tHRWN/    pregnancy\n",
      "\tZ<H/     sweat\n",
      "\tLHV/     flame\n",
      "\tNWD/     Nod\n",
      "\tXNWK=/   Enoch\n",
      "\tMXWJ>L/  Mehujael\n",
      "\tMXJJ>L/  Mehujael\n",
      "\tJBL=/    Jabal\n"
     ]
    }
   ],
   "source": [
    "A.indent(reset=True)\n",
    "\n",
    "hapax = []\n",
    "zero = set()\n",
    "\n",
    "for lx in F.otype.s(\"lex\"):\n",
    "    occs = L.d(lx, otype=\"word\")\n",
    "    n = len(occs)\n",
    "    if n == 0:  # that's weird: should not happen\n",
    "        zero.add(lx)\n",
    "    elif n == 1:  # hapax found!\n",
    "        hapax.append(lx)\n",
    "\n",
    "A.info(\"{} hapaxes found\".format(len(hapax)))\n",
    "\n",
    "if zero:\n",
    "    A.error(\"{} zeroes found\".format(len(zero)), tm=False)\n",
    "else:\n",
    "    A.info(\"No zeroes found\", tm=False)\n",
    "for h in hapax[0:10]:\n",
    "    print(\"\\t{:<8} {}\".format(F.lex.v(h), F.gloss.v(h)))"
   ]
  },
  {
   "cell_type": "markdown",
   "metadata": {},
   "source": [
    "### Small occurrence base\n",
    "\n",
    "The occurrence base of a lexeme are the verses, chapters and books in which occurs.\n",
    "Let's look for lexemes that occur in a single chapter.\n",
    "\n",
    "If a lexeme occurs in a single chapter, its slots are a subset of the slots of that chapter.\n",
    "So, if you go *up* from the lexeme, you encounter the chapter.\n",
    "\n",
    "Normally, lexemes occur in many chapters, and then none of them totally includes all occurrences of it,\n",
    "so if you go up from such lexemes, you don not find chapters.\n",
    "\n",
    "Let's check it out.\n",
    "\n",
    "Oh yes, we have already found the hapaxes, we will skip them here."
   ]
  },
  {
   "cell_type": "code",
   "execution_count": 30,
   "metadata": {
    "ExecuteTime": {
     "end_time": "2018-05-18T09:18:36.257701Z",
     "start_time": "2018-05-18T09:18:36.082461Z"
    }
   },
   "outputs": [
    {
     "name": "stdout",
     "output_type": "stream",
     "text": [
      "  0.00s Finding single chapter lexemes\n",
      "  0.11s 450 single chapter lexemes found\n",
      "No chapter embedders of multiple lexemes found\n",
      "Genesis 4:1          QJN=/ \n",
      "Genesis 4:2          HBL=/ \n",
      "Genesis 4:18         <JRD/ \n",
      "Genesis 4:18         MTWC>L/\n",
      "Genesis 4:19         YLH/  \n",
      "Genesis 4:22         TWBL_QJN/\n",
      "Genesis 10:11        KLX=/ \n",
      "Genesis 14:1         >MRPL/\n",
      "Genesis 14:1         >RJWK/\n",
      "Genesis 14:1         >LSR/ \n"
     ]
    }
   ],
   "source": [
    "A.indent(reset=True)\n",
    "A.info(\"Finding single chapter lexemes\")\n",
    "\n",
    "singleCh = []\n",
    "multipleCh = []\n",
    "\n",
    "for lx in F.otype.s(\"lex\"):\n",
    "    chapters = L.u(lx, \"chapter\")\n",
    "    if len(chapters) == 1:\n",
    "        if lx not in hapax:\n",
    "            singleCh.append(lx)\n",
    "    elif len(chapters) > 0:  # should not happen\n",
    "        multipleCh.append(lx)\n",
    "\n",
    "A.info(\"{} single chapter lexemes found\".format(len(singleCh)))\n",
    "\n",
    "if multipleCh:\n",
    "    A.error(\n",
    "        \"{} chapter embedders of multiple lexemes found\".format(len(multipleCh)),\n",
    "        tm=False,\n",
    "    )\n",
    "else:\n",
    "    A.info(\"No chapter embedders of multiple lexemes found\", tm=False)\n",
    "for s in singleCh[0:10]:\n",
    "    print(\n",
    "        \"{:<20} {:<6}\".format(\n",
    "            \"{} {}:{}\".format(*T.sectionFromNode(s)),\n",
    "            F.lex.v(s),\n",
    "        )\n",
    "    )"
   ]
  },
  {
   "cell_type": "markdown",
   "metadata": {},
   "source": [
    "### Confined to books\n",
    "\n",
    "As a final exercise with lexemes, lets make a list of all books, and show their total number of lexemes and\n",
    "the number of lexemes that occur exclusively in that book."
   ]
  },
  {
   "cell_type": "code",
   "execution_count": 31,
   "metadata": {
    "ExecuteTime": {
     "end_time": "2018-05-18T09:18:43.959960Z",
     "start_time": "2018-05-18T09:18:39.536067Z"
    }
   },
   "outputs": [
    {
     "name": "stdout",
     "output_type": "stream",
     "text": [
      "  0.00s Making book-lexeme index\n",
      "  3.14s Found 9230 lexemes\n"
     ]
    }
   ],
   "source": [
    "A.indent(reset=True)\n",
    "A.info(\"Making book-lexeme index\")\n",
    "\n",
    "allBook = collections.defaultdict(set)\n",
    "allLex = set()\n",
    "\n",
    "for b in F.otype.s(\"book\"):\n",
    "    for w in L.d(b, \"word\"):\n",
    "        lx = L.u(w, \"lex\")[0]\n",
    "        allBook[b].add(lx)\n",
    "        allLex.add(lx)\n",
    "\n",
    "A.info(\"Found {} lexemes\".format(len(allLex)))"
   ]
  },
  {
   "cell_type": "code",
   "execution_count": 32,
   "metadata": {
    "ExecuteTime": {
     "end_time": "2018-05-18T09:18:45.949852Z",
     "start_time": "2018-05-18T09:18:45.892985Z"
    }
   },
   "outputs": [
    {
     "name": "stdout",
     "output_type": "stream",
     "text": [
      "  0.00s Finding single book lexemes\n",
      "  0.03s found 4224 single book lexemes\n"
     ]
    }
   ],
   "source": [
    "A.indent(reset=True)\n",
    "A.info(\"Finding single book lexemes\")\n",
    "\n",
    "singleBook = collections.defaultdict(lambda: 0)\n",
    "for lx in F.otype.s(\"lex\"):\n",
    "    book = L.u(lx, \"book\")\n",
    "    if len(book) == 1:\n",
    "        singleBook[book[0]] += 1\n",
    "\n",
    "A.info(\"found {} single book lexemes\".format(sum(singleBook.values())))"
   ]
  },
  {
   "cell_type": "code",
   "execution_count": 33,
   "metadata": {
    "ExecuteTime": {
     "end_time": "2018-05-18T09:18:52.143337Z",
     "start_time": "2018-05-18T09:18:52.130385Z"
    }
   },
   "outputs": [
    {
     "name": "stdout",
     "output_type": "stream",
     "text": [
      "book                 #all #own %own\n",
      "-----------------------------------\n",
      "Daniel               1122  428 38.1%\n",
      "1_Chronicles         2013  487 24.2%\n",
      "Ezra                  991  199 20.1%\n",
      "Joshua               1175  206 17.5%\n",
      "Esther                472   67 14.2%\n",
      "Isaiah               2555  350 13.7%\n",
      "Numbers              1457  197 13.5%\n",
      "Ezekiel              1719  212 12.3%\n",
      "Song_of_songs         503   60 11.9%\n",
      "Job                  1717  202 11.8%\n",
      "Genesis              1816  208 11.5%\n",
      "Nehemiah             1076  110 10.2%\n",
      "Psalms               2250  216  9.6%\n",
      "Leviticus             960   88  9.2%\n",
      "Judges               1210   99  8.2%\n",
      "Ecclesiastes          575   46  8.0%\n",
      "Proverbs             1356  103  7.6%\n",
      "Jeremiah             1949  147  7.5%\n",
      "2_Samuel             1304   89  6.8%\n",
      "1_Samuel             1256   85  6.8%\n",
      "2_Kings              1266   85  6.7%\n",
      "Exodus               1425   92  6.5%\n",
      "1_Kings              1291   81  6.3%\n",
      "Deuteronomy          1449   80  5.5%\n",
      "Lamentations          592   31  5.2%\n",
      "2_Chronicles         1411   67  4.7%\n",
      "Nahum                 357   16  4.5%\n",
      "Hosea                 742   33  4.4%\n",
      "Ruth                  319   14  4.4%\n",
      "Habakkuk              393   17  4.3%\n",
      "Amos                  652   27  4.1%\n",
      "Joel                  398   14  3.5%\n",
      "Zechariah             726   25  3.4%\n",
      "Obadiah               167    5  3.0%\n",
      "Micah                 586   16  2.7%\n",
      "Zephaniah             367   10  2.7%\n",
      "Jonah                 252    5  2.0%\n",
      "Haggai                208    3  1.4%\n",
      "Malachi               314    4  1.3%\n"
     ]
    }
   ],
   "source": [
    "print(\n",
    "    \"{:<20}{:>5}{:>5}{:>5}\\n{}\".format(\n",
    "        \"book\",\n",
    "        \"#all\",\n",
    "        \"#own\",\n",
    "        \"%own\",\n",
    "        \"-\" * 35,\n",
    "    )\n",
    ")\n",
    "booklist = []\n",
    "\n",
    "for b in F.otype.s(\"book\"):\n",
    "    book = T.bookName(b)\n",
    "    a = len(allBook[b])\n",
    "    o = singleBook.get(b, 0)\n",
    "    p = 100 * o / a\n",
    "    booklist.append((book, a, o, p))\n",
    "\n",
    "for x in sorted(booklist, key=lambda e: (-e[3], -e[1], e[0])):\n",
    "    print(\"{:<20} {:>4} {:>4} {:>4.1f}%\".format(*x))"
   ]
  },
  {
   "cell_type": "markdown",
   "metadata": {},
   "source": [
    "The book names may sound a bit unfamiliar, they are in Latin here.\n",
    "Later we'll see that you can also get them in English, or in Swahili."
   ]
  },
  {
   "cell_type": "markdown",
   "metadata": {},
   "source": [
    "# Locality API\n",
    "We travel upwards and downwards, forwards and backwards through the nodes.\n",
    "The Locality-API (`L`) provides functions: `u()` for going up, and `d()` for going down,\n",
    "`n()` for going to next nodes and `p()` for going to previous nodes.\n",
    "\n",
    "These directions are indirect notions: nodes are just numbers, but by means of the\n",
    "`oslots` feature they are linked to slots. One node *contains* an other node, if the one is linked to a set of slots that contains the set of slots that the other is linked to.\n",
    "And one if next or previous to an other, if its slots follow or precede the slots of the other one.\n",
    "\n",
    "`L.u(node)` **Up** is going to nodes that embed `node`.\n",
    "\n",
    "`L.d(node)` **Down** is the opposite direction, to those that are contained in `node`.\n",
    "\n",
    "`L.n(node)` **Next** are the next *adjacent* nodes, i.e. nodes whose first slot comes immediately after the last slot of `node`.\n",
    "\n",
    "`L.p(node)` **Previous** are the previous *adjacent* nodes, i.e. nodes whose last slot comes immediately before the first slot of `node`.\n",
    "\n",
    "All these functions yield nodes of all possible otypes.\n",
    "By passing an optional parameter, you can restrict the results to nodes of that type.\n",
    "\n",
    "The result are ordered according to the order of things in the text.\n",
    "\n",
    "The functions return always a tuple, even if there is just one node in the result.\n",
    "\n",
    "## Going up\n",
    "We go from the first word to the book it contains.\n",
    "Note the `[0]` at the end. You expect one book, yet `L` returns a tuple.\n",
    "To get the only element of that tuple, you need to do that `[0]`.\n",
    "\n",
    "If you are like me, you keep forgetting it, and that will lead to weird error messages later on."
   ]
  },
  {
   "cell_type": "code",
   "execution_count": 34,
   "metadata": {
    "ExecuteTime": {
     "end_time": "2018-05-18T09:18:55.410034Z",
     "start_time": "2018-05-18T09:18:55.404051Z"
    }
   },
   "outputs": [
    {
     "name": "stdout",
     "output_type": "stream",
     "text": [
      "426591\n"
     ]
    }
   ],
   "source": [
    "firstBook = L.u(1, otype=\"book\")[0]\n",
    "print(firstBook)"
   ]
  },
  {
   "cell_type": "markdown",
   "metadata": {},
   "source": [
    "And let's see all the containing objects of word 3:"
   ]
  },
  {
   "cell_type": "code",
   "execution_count": 35,
   "metadata": {
    "ExecuteTime": {
     "end_time": "2018-05-18T09:18:56.772513Z",
     "start_time": "2018-05-18T09:18:56.766324Z"
    }
   },
   "outputs": [
    {
     "name": "stdout",
     "output_type": "stream",
     "text": [
      "word 3 is contained in book 426591\n",
      "word 3 is contained in chapter 426630\n",
      "word 3 is contained in lex 1437604\n",
      "word 3 is contained in verse 1414389\n",
      "word 3 is contained in half_verse 606394\n",
      "word 3 is contained in sentence 1172308\n",
      "word 3 is contained in sentence_atom 1236025\n",
      "word 3 is contained in clause 427559\n",
      "word 3 is contained in clause_atom 515690\n",
      "word 3 is contained in phrase 651574\n",
      "word 3 is contained in phrase_atom 904777\n",
      "word 3 is contained in subphrase x\n"
     ]
    }
   ],
   "source": [
    "w = 3\n",
    "for otype in F.otype.all:\n",
    "    if otype == F.otype.slotType:\n",
    "        continue\n",
    "    up = L.u(w, otype=otype)\n",
    "    upNode = \"x\" if len(up) == 0 else up[0]\n",
    "    print(\"word {} is contained in {} {}\".format(w, otype, upNode))"
   ]
  },
  {
   "cell_type": "markdown",
   "metadata": {},
   "source": [
    "## Going next\n",
    "Let's go to the next nodes of the first book."
   ]
  },
  {
   "cell_type": "code",
   "execution_count": 36,
   "metadata": {
    "ExecuteTime": {
     "end_time": "2018-05-18T09:18:58.821681Z",
     "start_time": "2018-05-18T09:18:58.814893Z"
    }
   },
   "outputs": [
    {
     "name": "stdout",
     "output_type": "stream",
     "text": [
      "  28765: word          first slot=28765 , last slot=28765 \n",
      " 923533: phrase_atom   first slot=28765 , last slot=28765 \n",
      " 669555: phrase        first slot=28765 , last slot=28765 \n",
      " 521826: clause_atom   first slot=28765 , last slot=28769 \n",
      " 433546: clause        first slot=28765 , last slot=28769 \n",
      " 609394: half_verse    first slot=28765 , last slot=28772 \n",
      "1240671: sentence_atom first slot=28765 , last slot=28774 \n",
      "1176925: sentence      first slot=28765 , last slot=28793 \n",
      "1415922: verse         first slot=28765 , last slot=28778 \n",
      " 426680: chapter       first slot=28765 , last slot=29113 \n",
      " 426592: book          first slot=28765 , last slot=52512 \n"
     ]
    }
   ],
   "source": [
    "afterFirstBook = L.n(firstBook)\n",
    "for n in afterFirstBook:\n",
    "    print(\n",
    "        \"{:>7}: {:<13} first slot={:<6}, last slot={:<6}\".format(\n",
    "            n,\n",
    "            F.otype.v(n),\n",
    "            E.oslots.s(n)[0],\n",
    "            E.oslots.s(n)[-1],\n",
    "        )\n",
    "    )\n",
    "secondBook = L.n(firstBook, otype=\"book\")[0]"
   ]
  },
  {
   "cell_type": "markdown",
   "metadata": {},
   "source": [
    "## Going previous\n",
    "\n",
    "And let's see what is right before the second book."
   ]
  },
  {
   "cell_type": "code",
   "execution_count": 37,
   "metadata": {
    "ExecuteTime": {
     "end_time": "2018-05-18T09:19:00.163973Z",
     "start_time": "2018-05-18T09:19:00.154857Z"
    }
   },
   "outputs": [
    {
     "name": "stdout",
     "output_type": "stream",
     "text": [
      " 426591: book          first slot=1     , last slot=28764 \n",
      " 426679: chapter       first slot=28260 , last slot=28764 \n",
      "1415921: verse         first slot=28747 , last slot=28764 \n",
      " 609393: half_verse    first slot=28755 , last slot=28764 \n",
      "1176924: sentence      first slot=28758 , last slot=28764 \n",
      "1240670: sentence_atom first slot=28758 , last slot=28764 \n",
      " 433545: clause        first slot=28758 , last slot=28764 \n",
      " 521825: clause_atom   first slot=28758 , last slot=28764 \n",
      " 669554: phrase        first slot=28763 , last slot=28764 \n",
      " 923532: phrase_atom   first slot=28763 , last slot=28764 \n",
      "  28764: word          first slot=28764 , last slot=28764 \n"
     ]
    }
   ],
   "source": [
    "for n in L.p(secondBook):\n",
    "    print(\n",
    "        \"{:>7}: {:<13} first slot={:<6}, last slot={:<6}\".format(\n",
    "            n,\n",
    "            F.otype.v(n),\n",
    "            E.oslots.s(n)[0],\n",
    "            E.oslots.s(n)[-1],\n",
    "        )\n",
    "    )"
   ]
  },
  {
   "cell_type": "markdown",
   "metadata": {},
   "source": [
    "## Going down"
   ]
  },
  {
   "cell_type": "markdown",
   "metadata": {},
   "source": [
    "We go to the chapters of the second book, and just count them."
   ]
  },
  {
   "cell_type": "code",
   "execution_count": 38,
   "metadata": {
    "ExecuteTime": {
     "end_time": "2018-05-18T09:19:02.530705Z",
     "start_time": "2018-05-18T09:19:02.475279Z"
    }
   },
   "outputs": [
    {
     "name": "stdout",
     "output_type": "stream",
     "text": [
      "40\n"
     ]
    }
   ],
   "source": [
    "chapters = L.d(secondBook, otype=\"chapter\")\n",
    "print(len(chapters))"
   ]
  },
  {
   "cell_type": "markdown",
   "metadata": {},
   "source": [
    "## The first verse\n",
    "We pick the first verse and the first word, and explore what is above and below them."
   ]
  },
  {
   "cell_type": "code",
   "execution_count": 39,
   "metadata": {
    "ExecuteTime": {
     "end_time": "2018-05-18T09:19:04.024679Z",
     "start_time": "2018-05-18T09:19:03.995207Z"
    }
   },
   "outputs": [
    {
     "name": "stdout",
     "output_type": "stream",
     "text": [
      "Node 1\n",
      "   |   UP\n",
      "   |      |   1437602         lex\n",
      "   |      |   904776          phrase_atom\n",
      "   |      |   651573          phrase\n",
      "   |      |   606394          half_verse\n",
      "   |      |   515690          clause_atom\n",
      "   |      |   427559          clause\n",
      "   |      |   1236025         sentence_atom\n",
      "   |      |   1172308         sentence\n",
      "   |      |   1414389         verse\n",
      "   |      |   426630          chapter\n",
      "   |      |   426591          book\n",
      "   |   DOWN\n",
      "   |      |   \n",
      "Node 1414389\n",
      "   |   UP\n",
      "   |      |   515690          clause_atom\n",
      "   |      |   427559          clause\n",
      "   |      |   1236025         sentence_atom\n",
      "   |      |   1172308         sentence\n",
      "   |      |   426630          chapter\n",
      "   |      |   426591          book\n",
      "   |   DOWN\n",
      "   |      |   1172308         sentence\n",
      "   |      |   1236025         sentence_atom\n",
      "   |      |   427559          clause\n",
      "   |      |   515690          clause_atom\n",
      "   |      |   606394          half_verse\n",
      "   |      |   651573          phrase\n",
      "   |      |   904776          phrase_atom\n",
      "   |      |   1               word\n",
      "   |      |   2               word\n",
      "   |      |   651574          phrase\n",
      "   |      |   904777          phrase_atom\n",
      "   |      |   3               word\n",
      "   |      |   651575          phrase\n",
      "   |      |   904778          phrase_atom\n",
      "   |      |   4               word\n",
      "   |      |   606395          half_verse\n",
      "   |      |   651576          phrase\n",
      "   |      |   904779          phrase_atom\n",
      "   |      |   1300539         subphrase\n",
      "   |      |   5               word\n",
      "   |      |   6               word\n",
      "   |      |   7               word\n",
      "   |      |   8               word\n",
      "   |      |   1300540         subphrase\n",
      "   |      |   9               word\n",
      "   |      |   10              word\n",
      "   |      |   11              word\n",
      "Done\n"
     ]
    }
   ],
   "source": [
    "for n in [1, L.u(1, otype=\"verse\")[0]]:\n",
    "    A.indent(level=0)\n",
    "    A.info(\"Node {}\".format(n), tm=False)\n",
    "    A.indent(level=1)\n",
    "    A.info(\"UP\", tm=False)\n",
    "    A.indent(level=2)\n",
    "    A.info(\"\\n\".join([\"{:<15} {}\".format(u, F.otype.v(u)) for u in L.u(n)]), tm=False)\n",
    "    A.indent(level=1)\n",
    "    A.info(\"DOWN\", tm=False)\n",
    "    A.indent(level=2)\n",
    "    A.info(\"\\n\".join([\"{:<15} {}\".format(u, F.otype.v(u)) for u in L.d(n)]), tm=False)\n",
    "A.indent(level=0)\n",
    "A.info(\"Done\", tm=False)"
   ]
  },
  {
   "cell_type": "markdown",
   "metadata": {},
   "source": [
    "# Text API\n",
    "\n",
    "So far, we have mainly seen nodes and their numbers, and the names of node types.\n",
    "You would almost forget that we are dealing with text.\n",
    "So let's try to see some text.\n",
    "\n",
    "In the same way as `F` gives access to feature data,\n",
    "`T` gives access to the text.\n",
    "That is also feature data, but you can tell Text-Fabric which features are specifically\n",
    "carrying the text, and in return Text-Fabric offers you\n",
    "a Text API: `T`.\n",
    "\n",
    "## Formats\n",
    "Hebrew text can be represented in a number of ways:\n",
    "\n",
    "* fully pointed (vocalized and accented), or consonantal,\n",
    "* in transliteration, phonetic transcription or in Hebrew characters,\n",
    "* showing the actual text or only the lexemes,\n",
    "* following the ketiv or the qere, at places where they deviate from each other.\n",
    "\n",
    "If you wonder where the information about text formats is stored:\n",
    "not in the program text-fabric, but in the data set.\n",
    "It has a feature `otext`, which specifies the formats and which features\n",
    "must be used to produce them. `otext` is the third special feature in a TF data set,\n",
    "next to `otype` and `oslots`.\n",
    "It is an optional feature.\n",
    "If it is absent, there will be no `T` API.\n",
    "\n",
    "Here is a list of all available formats in this data set."
   ]
  },
  {
   "cell_type": "code",
   "execution_count": 40,
   "metadata": {
    "ExecuteTime": {
     "end_time": "2018-05-18T09:19:05.606582Z",
     "start_time": "2018-05-18T09:19:05.593486Z"
    }
   },
   "outputs": [
    {
     "data": {
      "text/plain": [
       "['lex-default',\n",
       " 'lex-orig-full',\n",
       " 'lex-orig-plain',\n",
       " 'lex-trans-full',\n",
       " 'lex-trans-plain',\n",
       " 'text-orig-full',\n",
       " 'text-orig-full-ketiv',\n",
       " 'text-orig-plain',\n",
       " 'text-phono-full',\n",
       " 'text-trans-full',\n",
       " 'text-trans-full-ketiv',\n",
       " 'text-trans-plain']"
      ]
     },
     "execution_count": 40,
     "metadata": {},
     "output_type": "execute_result"
    }
   ],
   "source": [
    "sorted(T.formats)"
   ]
  },
  {
   "cell_type": "markdown",
   "metadata": {},
   "source": [
    "Note the `text-phono-full` format here.\n",
    "It does not come from the main data source `bhsa`, but from the module `phono`.\n",
    "Look in your data directory, find `~/github/etcbc/phono/tf/2017/otext@phono.tf`,\n",
    "and you'll see this format defined there."
   ]
  },
  {
   "cell_type": "markdown",
   "metadata": {},
   "source": [
    "## Using the formats\n",
    "\n",
    "We can pretty display in other formats:"
   ]
  },
  {
   "cell_type": "code",
   "execution_count": 41,
   "metadata": {},
   "outputs": [
    {
     "data": {
      "text/html": [
       "<div class=\"tfsechead ltr\"><span class=\"ltr\"><a target=\"_blank\" href=\"https://shebanq.ancient-data.org/hebrew/text?book=Genesis&amp;chapter=30&amp;verse=18&amp;version=2021&amp;mr=m&amp;qw=q&amp;tp=txt_p&amp;tr=hb&amp;wget=v&amp;qget=v&amp;nget=vt\" title=\"Show this on SHEBANQ\" sec=\"Genesis 30:18\">Genesis 30:18</a></span></div><div class=\"ltr children\"><div class=\"contnr c0 trm ltr  \" ><div class=\"lbl c0 trm \" ><a class=\" txtu hbo\" target=\"_blank\" href=\"https://shebanq.ancient-data.org/hebrew/word?version=2021&amp;id=1JFFKRn\" title=\"Show this on SHEBANQ\"><span class=\"txtp\">yiśśāŝḵˈār . </span></a></div></div></div>"
      ],
      "text/plain": [
       "<IPython.core.display.HTML object>"
      ]
     },
     "metadata": {},
     "output_type": "display_data"
    },
    {
     "data": {
      "text/html": [
       "<div class=\"tfsechead ltr\"><span class=\"ltr\"><a target=\"_blank\" href=\"https://shebanq.ancient-data.org/hebrew/text?book=Genesis&amp;chapter=2&amp;verse=18&amp;version=2021&amp;mr=m&amp;qw=q&amp;tp=txt_p&amp;tr=hb&amp;wget=v&amp;qget=v&amp;nget=vt\" title=\"Show this on SHEBANQ\" sec=\"Genesis 2:18\">Genesis 2:18</a></span></div><div class=\"ltr children\"><div class=\"contnr c0 trm ltr  \" ><div class=\"lbl c0 trm \" ><a class=\" txtu hbo\" target=\"_blank\" href=\"https://shebanq.ancient-data.org/hebrew/word?version=2021&amp;id=1HJHv\" title=\"Show this on SHEBANQ\"><span class=\"txtp\">hᵉʸˌôṯ </span></a></div></div></div>"
      ],
      "text/plain": [
       "<IPython.core.display.HTML object>"
      ]
     },
     "metadata": {},
     "output_type": "display_data"
    },
    {
     "data": {
      "text/html": [
       "<div class=\"tfsechead ltr\"><span class=\"ltr\"><a target=\"_blank\" href=\"https://shebanq.ancient-data.org/hebrew/text?book=Deuteronomium&amp;chapter=11&amp;verse=19&amp;version=2021&amp;mr=m&amp;qw=q&amp;tp=txt_p&amp;tr=hb&amp;wget=v&amp;qget=v&amp;nget=vt\" title=\"Show this on SHEBANQ\" sec=\"Deuteronomy 11:19\">Deuteronomy 11:19</a></span></div><div class=\"ltr children\"><div class=\"contnr c0 trm ltr  \" ><div class=\"lbl c0 trm \" ><a class=\" txtu hbo\" target=\"_blank\" href=\"https://shebanq.ancient-data.org/hebrew/word?version=2021&amp;id=1B\" title=\"Show this on SHEBANQ\"><span class=\"txtp\">bˈām </span></a></div></div></div>"
      ],
      "text/plain": [
       "<IPython.core.display.HTML object>"
      ]
     },
     "metadata": {},
     "output_type": "display_data"
    }
   ],
   "source": [
    "for word in wordShows:\n",
    "    A.pretty(word, fmt=\"text-phono-full\")"
   ]
  },
  {
   "cell_type": "markdown",
   "metadata": {},
   "source": [
    "## T.text()\n",
    "\n",
    "This function is central to get text representations of nodes. Its most basic usage is\n",
    "\n",
    "```python\n",
    "T.text(nodes, fmt=fmt)\n",
    "```\n",
    "where `nodes` is a list or iterable of nodes, usually word nodes, and `fmt` is the name of a format.\n",
    "If you leave out `fmt`, the default `text-orig-full` is chosen.\n",
    "\n",
    "The result is the text in that format for all nodes specified:"
   ]
  },
  {
   "cell_type": "code",
   "execution_count": 42,
   "metadata": {},
   "outputs": [
    {
     "data": {
      "text/plain": [
       "'בראשׁית ברא אלהים את השׁמים ואת הארץ׃ '"
      ]
     },
     "execution_count": 42,
     "metadata": {},
     "output_type": "execute_result"
    }
   ],
   "source": [
    "T.text([1, 2, 3, 4, 5, 6, 7, 8, 9, 10, 11], fmt=\"text-orig-plain\")"
   ]
  },
  {
   "cell_type": "markdown",
   "metadata": {},
   "source": [
    "There is also another usage of this function:\n",
    "\n",
    "```python\n",
    "T.text(node, fmt=fmt)\n",
    "```\n",
    "\n",
    "where `node` is a single node.\n",
    "In this case, the default format is *ntype*`-orig-full` where *ntype* is the type of `node`.\n",
    "So for a `lex` node, the default format is `lex-orig-full`.\n",
    "\n",
    "If the format is defined in the corpus, it will be used. Otherwise, the word nodes contained in `node` will be looked up\n",
    "and represented with the default format `text-orig-full`.\n",
    "\n",
    "In this way we can sensibly represent a lot of different nodes, such as chapters, verses, sentences, words and lexemes.\n",
    "\n",
    "We compose a set of example nodes and run `T.text` on them:"
   ]
  },
  {
   "cell_type": "code",
   "execution_count": 43,
   "metadata": {},
   "outputs": [
    {
     "data": {
      "text/plain": [
       "[1, 1172308, 1414389, 426630, 1437603]"
      ]
     },
     "execution_count": 43,
     "metadata": {},
     "output_type": "execute_result"
    }
   ],
   "source": [
    "exampleNodes = [\n",
    "    1,\n",
    "    F.otype.s(\"sentence\")[0],\n",
    "    F.otype.s(\"verse\")[0],\n",
    "    F.otype.s(\"chapter\")[0],\n",
    "    F.otype.s(\"lex\")[1],\n",
    "]\n",
    "exampleNodes"
   ]
  },
  {
   "cell_type": "code",
   "execution_count": 44,
   "metadata": {},
   "outputs": [
    {
     "name": "stdout",
     "output_type": "stream",
     "text": [
      "This is word 1:\n",
      "בְּ\n",
      "\n",
      "This is sentence 1172308:\n",
      "בְּרֵאשִׁ֖ית בָּרָ֣א אֱלֹהִ֑ים אֵ֥ת הַשָּׁמַ֖יִם וְאֵ֥ת הָאָֽרֶץ׃ \n",
      "\n",
      "This is verse 1414389:\n",
      "בְּרֵאשִׁ֖ית בָּרָ֣א אֱלֹהִ֑ים אֵ֥ת הַשָּׁמַ֖יִם וְאֵ֥ת הָאָֽרֶץ׃ \n",
      "\n",
      "This is chapter 426630:\n",
      "בְּרֵאשִׁ֖ית בָּרָ֣א אֱלֹהִ֑ים אֵ֥ת הַשָּׁמַ֖יִם וְאֵ֥ת הָאָֽרֶץ׃ וְהָאָ֗רֶץ הָיְתָ֥ה תֹ֨הוּ֙ וָבֹ֔הוּ וְחֹ֖שֶׁךְ עַל־פְּנֵ֣י תְהֹ֑ום וְר֣וּחַ אֱלֹהִ֔ים מְרַחֶ֖פֶת עַל־פְּנֵ֥י הַמָּֽיִם׃ וַיֹּ֥אמֶר אֱלֹהִ֖ים יְהִ֣י אֹ֑ור וַֽיְהִי־אֹֽור׃ וַיַּ֧רְא אֱלֹהִ֛ים אֶת־הָאֹ֖ור כִּי־טֹ֑וב וַיַּבְדֵּ֣ל אֱלֹהִ֔ים בֵּ֥ין הָאֹ֖ור וּבֵ֥ין הַחֹֽשֶׁךְ׃ וַיִּקְרָ֨א אֱלֹהִ֤ים׀ לָאֹור֙ יֹ֔ום וְלַחֹ֖שֶׁךְ קָ֣רָא לָ֑יְלָה וַֽיְהִי־עֶ֥רֶב וַֽיְהִי־בֹ֖קֶר יֹ֥ום אֶחָֽד׃ פ וַיֹּ֣אמֶר אֱלֹהִ֔ים יְהִ֥י רָקִ֖יעַ בְּתֹ֣וךְ הַמָּ֑יִם וִיהִ֣י מַבְדִּ֔יל בֵּ֥ין מַ֖יִם לָמָֽיִם׃ וַיַּ֣עַשׂ אֱלֹהִים֮ אֶת־הָרָקִיעַ֒ וַיַּבְדֵּ֗ל בֵּ֤ין הַמַּ֨יִם֙ אֲשֶׁר֙ מִתַּ֣חַת לָרָקִ֔יעַ וּבֵ֣ין הַמַּ֔יִם אֲשֶׁ֖ר מֵעַ֣ל לָרָקִ֑יעַ וַֽיְהִי־כֵֽן׃ וַיִּקְרָ֧א אֱלֹהִ֛ים לָֽרָקִ֖יעַ שָׁמָ֑יִם וַֽיְהִי־עֶ֥רֶב וַֽיְהִי־בֹ֖קֶר יֹ֥ום שֵׁנִֽי׃ פ וַיֹּ֣אמֶר אֱלֹהִ֗ים יִקָּו֨וּ הַמַּ֜יִם מִתַּ֤חַת הַשָּׁמַ֨יִם֙ אֶל־מָקֹ֣ום אֶחָ֔ד וְתֵרָאֶ֖ה הַיַּבָּשָׁ֑ה וַֽיְהִי־כֵֽן׃ וַיִּקְרָ֨א אֱלֹהִ֤ים׀ לַיַּבָּשָׁה֙ אֶ֔רֶץ וּלְמִקְוֵ֥ה הַמַּ֖יִם קָרָ֣א יַמִּ֑ים וַיַּ֥רְא אֱלֹהִ֖ים כִּי־טֹֽוב׃ וַיֹּ֣אמֶר אֱלֹהִ֗ים תַּֽדְשֵׁ֤א הָאָ֨רֶץ֙ דֶּ֔שֶׁא עֵ֚שֶׂב מַזְרִ֣יעַ זֶ֔רַע עֵ֣ץ פְּרִ֞י עֹ֤שֶׂה פְּרִי֙ לְמִינֹ֔ו אֲשֶׁ֥ר זַרְעֹו־בֹ֖ו עַל־הָאָ֑רֶץ וַֽיְהִי־כֵֽן׃ וַתֹּוצֵ֨א הָאָ֜רֶץ דֶּ֠שֶׁא עֵ֣שֶׂב מַזְרִ֤יעַ זֶ֨רַע֙ לְמִינֵ֔הוּ וְעֵ֧ץ עֹ֥שֶׂה פְּרִ֛י אֲשֶׁ֥ר זַרְעֹו־בֹ֖ו לְמִינֵ֑הוּ וַיַּ֥רְא אֱלֹהִ֖ים כִּי־טֹֽוב׃ וַֽיְהִי־עֶ֥רֶב וַֽיְהִי־בֹ֖קֶר יֹ֥ום שְׁלִישִֽׁי׃ פ וַיֹּ֣אמֶר אֱלֹהִ֗ים יְהִ֤י מְאֹרֹת֙ בִּרְקִ֣יעַ הַשָּׁמַ֔יִם לְהַבְדִּ֕יל בֵּ֥ין הַיֹּ֖ום וּבֵ֣ין הַלָּ֑יְלָה וְהָי֤וּ לְאֹתֹת֙ וּלְמֹ֣ועֲדִ֔ים וּלְיָמִ֖ים וְשָׁנִֽים׃ וְהָי֤וּ לִמְאֹורֹת֙ בִּרְקִ֣יעַ הַשָּׁמַ֔יִם לְהָאִ֖יר עַל־הָאָ֑רֶץ וַֽיְהִי־כֵֽן׃ וַיַּ֣עַשׂ אֱלֹהִ֔ים אֶת־שְׁנֵ֥י הַמְּאֹרֹ֖ת הַגְּדֹלִ֑ים אֶת־הַמָּאֹ֤ור הַגָּדֹל֙ לְמֶמְשֶׁ֣לֶת הַיֹּ֔ום וְאֶת־הַמָּאֹ֤ור הַקָּטֹן֙ לְמֶמְשֶׁ֣לֶת הַלַּ֔יְלָה וְאֵ֖ת הַכֹּוכָבִֽים׃ וַיִּתֵּ֥ן אֹתָ֛ם אֱלֹהִ֖ים בִּרְקִ֣יעַ הַשָּׁמָ֑יִם לְהָאִ֖יר עַל־הָאָֽרֶץ׃ וְלִמְשֹׁל֙ בַּיֹּ֣ום וּבַלַּ֔יְלָה וּֽלֲהַבְדִּ֔יל בֵּ֥ין הָאֹ֖ור וּבֵ֣ין הַחֹ֑שֶׁךְ וַיַּ֥רְא אֱלֹהִ֖ים כִּי־טֹֽוב׃ וַֽיְהִי־עֶ֥רֶב וַֽיְהִי־בֹ֖קֶר יֹ֥ום רְבִיעִֽי׃ פ וַיֹּ֣אמֶר אֱלֹהִ֔ים יִשְׁרְצ֣וּ הַמַּ֔יִם שֶׁ֖רֶץ נֶ֣פֶשׁ חַיָּ֑ה וְעֹוף֙ יְעֹופֵ֣ף עַל־הָאָ֔רֶץ עַל־פְּנֵ֖י רְקִ֥יעַ הַשָּׁמָֽיִם׃ וַיִּבְרָ֣א אֱלֹהִ֔ים אֶת־הַתַּנִּינִ֖ם הַגְּדֹלִ֑ים וְאֵ֣ת כָּל־נֶ֣פֶשׁ הַֽחַיָּ֣ה׀ הָֽרֹמֶ֡שֶׂת אֲשֶׁר֩ שָׁרְצ֨וּ הַמַּ֜יִם לְמִֽינֵהֶ֗ם וְאֵ֨ת כָּל־עֹ֤וף כָּנָף֙ לְמִינֵ֔הוּ וַיַּ֥רְא אֱלֹהִ֖ים כִּי־טֹֽוב׃ וַיְבָ֧רֶךְ אֹתָ֛ם אֱלֹהִ֖ים לֵאמֹ֑ר פְּר֣וּ וּרְב֗וּ וּמִלְא֤וּ אֶת־הַמַּ֨יִם֙ בַּיַּמִּ֔ים וְהָעֹ֖וף יִ֥רֶב בָּאָֽרֶץ׃ וַֽיְהִי־עֶ֥רֶב וַֽיְהִי־בֹ֖קֶר יֹ֥ום חֲמִישִֽׁי׃ פ וַיֹּ֣אמֶר אֱלֹהִ֗ים תֹּוצֵ֨א הָאָ֜רֶץ נֶ֤פֶשׁ חַיָּה֙ לְמִינָ֔הּ בְּהֵמָ֥ה וָרֶ֛מֶשׂ וְחַֽיְתֹו־אֶ֖רֶץ לְמִינָ֑הּ וַֽיְהִי־כֵֽן׃ וַיַּ֣עַשׂ אֱלֹהִים֩ אֶת־חַיַּ֨ת הָאָ֜רֶץ לְמִינָ֗הּ וְאֶת־הַבְּהֵמָה֙ לְמִינָ֔הּ וְאֵ֛ת כָּל־רֶ֥מֶשׂ הָֽאֲדָמָ֖ה לְמִינֵ֑הוּ וַיַּ֥רְא אֱלֹהִ֖ים כִּי־טֹֽוב׃ וַיֹּ֣אמֶר אֱלֹהִ֔ים נַֽעֲשֶׂ֥ה אָדָ֛ם בְּצַלְמֵ֖נוּ כִּדְמוּתֵ֑נוּ וְיִרְדּוּ֩ בִדְגַ֨ת הַיָּ֜ם וּבְעֹ֣וף הַשָּׁמַ֗יִם וּבַבְּהֵמָה֙ וּבְכָל־הָאָ֔רֶץ וּבְכָל־הָרֶ֖מֶשׂ הָֽרֹמֵ֥שׂ עַל־הָאָֽרֶץ׃ וַיִּבְרָ֨א אֱלֹהִ֤ים׀ אֶת־הָֽאָדָם֙ בְּצַלְמֹ֔ו בְּצֶ֥לֶם אֱלֹהִ֖ים בָּרָ֣א אֹתֹ֑ו זָכָ֥ר וּנְקֵבָ֖ה בָּרָ֥א אֹתָֽם׃ וַיְבָ֣רֶךְ אֹתָם֮ אֱלֹהִים֒ וַיֹּ֨אמֶר לָהֶ֜ם אֱלֹהִ֗ים פְּר֥וּ וּרְב֛וּ וּמִלְא֥וּ אֶת־הָאָ֖רֶץ וְכִבְשֻׁ֑הָ וּרְד֞וּ בִּדְגַ֤ת הַיָּם֙ וּבְעֹ֣וף הַשָּׁמַ֔יִם וּבְכָל־חַיָּ֖ה הָֽרֹמֶ֥שֶׂת עַל־הָאָֽרֶץ׃ וַיֹּ֣אמֶר אֱלֹהִ֗ים הִנֵּה֩ נָתַ֨תִּי לָכֶ֜ם אֶת־כָּל־עֵ֣שֶׂב׀ זֹרֵ֣עַ זֶ֗רַע אֲשֶׁר֙ עַל־פְּנֵ֣י כָל־הָאָ֔רֶץ וְאֶת־כָּל־הָעֵ֛ץ אֲשֶׁר־בֹּ֥ו פְרִי־עֵ֖ץ זֹרֵ֣עַ זָ֑רַע לָכֶ֥ם יִֽהְיֶ֖ה לְאָכְלָֽה׃ וּֽלְכָל־חַיַּ֣ת הָ֠אָרֶץ וּלְכָל־עֹ֨וף הַשָּׁמַ֜יִם וּלְכֹ֣ל׀ רֹומֵ֣שׂ עַל־הָאָ֗רֶץ אֲשֶׁר־בֹּו֙ נֶ֣פֶשׁ חַיָּ֔ה אֶת־כָּל־יֶ֥רֶק עֵ֖שֶׂב לְאָכְלָ֑ה וַֽיְהִי־כֵֽן׃ וַיַּ֤רְא אֱלֹהִים֙ אֶת־כָּל־אֲשֶׁ֣ר עָשָׂ֔ה וְהִנֵּה־טֹ֖וב מְאֹ֑ד וַֽיְהִי־עֶ֥רֶב וַֽיְהִי־בֹ֖קֶר יֹ֥ום הַשִּׁשִּֽׁי׃ פ \n",
      "\n",
      "This is lex 1437603:\n",
      "רֵאשִׁית \n",
      "\n"
     ]
    }
   ],
   "source": [
    "for n in exampleNodes:\n",
    "    print(f\"This is {F.otype.v(n)} {n}:\")\n",
    "    print(T.text(n))\n",
    "    print(\"\")"
   ]
  },
  {
   "cell_type": "markdown",
   "metadata": {},
   "source": [
    "## Using the formats\n",
    "Now let's use those formats to print out the first verse of the Hebrew Bible."
   ]
  },
  {
   "cell_type": "code",
   "execution_count": 45,
   "metadata": {
    "ExecuteTime": {
     "end_time": "2018-05-18T09:19:10.077589Z",
     "start_time": "2018-05-18T09:19:10.070503Z"
    }
   },
   "outputs": [
    {
     "name": "stdout",
     "output_type": "stream",
     "text": [
      "lex-default:\n",
      "\tבְּ רֵאשִׁית ברא אֱלֹהִים אֵת הַ שָׁמַיִם וְ אֵת הַ אֶרֶץ \n",
      "lex-orig-full:\n",
      "\tבְּ רֵאשִׁית בָּרָא אֱלֹה אֵת הַ שָּׁמַי וְ אֵת הָ אָרֶץ \n",
      "lex-orig-plain:\n",
      "\tב ראשׁית ברא אלהים את ה שׁמים ו את ה ארץ \n",
      "lex-trans-full:\n",
      "\tB.:- R;>CIJT B.@R@> >:ELOH >;T HA- C.@MAJ W:- >;T H@- >@REY \n",
      "lex-trans-plain:\n",
      "\tB R>CJT/ BR>[ >LHJM/ >T H CMJM/ W >T H >RY/ \n",
      "text-orig-full:\n",
      "\tבְּרֵאשִׁ֖ית בָּרָ֣א אֱלֹהִ֑ים אֵ֥ת הַשָּׁמַ֖יִם וְאֵ֥ת הָאָֽרֶץ׃ \n",
      "text-orig-full-ketiv:\n",
      "\tבְּרֵאשִׁ֖ית בָּרָ֣א אֱלֹהִ֑ים אֵ֥ת הַשָּׁמַ֖יִם וְאֵ֥ת הָאָֽרֶץ׃ \n",
      "text-orig-plain:\n",
      "\tבראשׁית ברא אלהים את השׁמים ואת הארץ׃ \n",
      "text-phono-full:\n",
      "\tbᵊrēšˌîṯ bārˈā ʔᵉlōhˈîm ʔˌēṯ haššāmˌayim wᵊʔˌēṯ hāʔˈāreṣ . \n",
      "text-trans-full:\n",
      "\tB.:-R;>CI73JT B.@R@74> >:ELOHI92JM >;71T HA-C.@MA73JIM W:->;71T H@->@75REY00 \n",
      "text-trans-full-ketiv:\n",
      "\tB.:-R;>CI73JT B.@R@74> >:ELOHI92JM >;71T HA-C.@MA73JIM W:->;71T H@->@75REY00 \n",
      "text-trans-plain:\n",
      "\tBR>CJT BR> >LHJM >T HCMJM W>T H>RY00 \n"
     ]
    }
   ],
   "source": [
    "for fmt in sorted(T.formats):\n",
    "    print(\"{}:\\n\\t{}\".format(fmt, T.text(range(1, 12), fmt=fmt)))"
   ]
  },
  {
   "cell_type": "markdown",
   "metadata": {},
   "source": [
    "Note that `lex-default` is a format that only works for nodes of type `lex`."
   ]
  },
  {
   "cell_type": "markdown",
   "metadata": {},
   "source": [
    "If we do not specify a format, the **default** format is used (`text-orig-full`)."
   ]
  },
  {
   "cell_type": "code",
   "execution_count": 46,
   "metadata": {
    "ExecuteTime": {
     "end_time": "2018-05-18T09:19:13.490426Z",
     "start_time": "2018-05-18T09:19:13.486053Z"
    }
   },
   "outputs": [
    {
     "data": {
      "text/plain": [
       "'בְּרֵאשִׁ֖ית בָּרָ֣א אֱלֹהִ֑ים אֵ֥ת הַשָּׁמַ֖יִם וְאֵ֥ת הָאָֽרֶץ׃ '"
      ]
     },
     "execution_count": 46,
     "metadata": {},
     "output_type": "execute_result"
    }
   ],
   "source": [
    "T.text(range(1, 12))"
   ]
  },
  {
   "cell_type": "code",
   "execution_count": 47,
   "metadata": {},
   "outputs": [
    {
     "data": {
      "text/plain": [
       "'בְּרֵאשִׁ֖ית בָּרָ֣א אֱלֹהִ֑ים אֵ֥ת הַשָּׁמַ֖יִם וְאֵ֥ת הָאָֽרֶץ׃ '"
      ]
     },
     "execution_count": 47,
     "metadata": {},
     "output_type": "execute_result"
    }
   ],
   "source": [
    "firstVerse = F.otype.s(\"verse\")[0]\n",
    "T.text(firstVerse)"
   ]
  },
  {
   "cell_type": "code",
   "execution_count": 48,
   "metadata": {},
   "outputs": [
    {
     "data": {
      "text/plain": [
       "'bᵊrēšˌîṯ bārˈā ʔᵉlōhˈîm ʔˌēṯ haššāmˌayim wᵊʔˌēṯ hāʔˈāreṣ . '"
      ]
     },
     "execution_count": 48,
     "metadata": {},
     "output_type": "execute_result"
    }
   ],
   "source": [
    "T.text(firstVerse, fmt=\"text-phono-full\")"
   ]
  },
  {
   "cell_type": "markdown",
   "metadata": {},
   "source": [
    "The important things to remember are:\n",
    "\n",
    "* you can supply a list of word nodes and get them represented in all formats (except `lex-default`)\n",
    "* you can use `T.text(lx)` for lexeme nodes `lx` and it will give the vocalized lexeme (using format `lex-default`)\n",
    "* you can get non-word nodes `n` in default format by `T.text(n)`\n",
    "* you can get non-word nodes `n` in other formats by `T.text(n, fmt=fmt, descend=True)`"
   ]
  },
  {
   "cell_type": "markdown",
   "metadata": {
    "tags": []
   },
   "source": [
    "## Whole text in all formats\n",
    "Part of the pleasure of working with computers is that they can crunch massive amounts of data.\n",
    "The text of the Hebrew Bible is a piece of cake.\n",
    "\n",
    "It takes less than ten seconds to have that cake and eat it.\n",
    "In nearly a dozen formats."
   ]
  },
  {
   "cell_type": "code",
   "execution_count": 49,
   "metadata": {
    "ExecuteTime": {
     "end_time": "2018-05-18T09:19:27.839331Z",
     "start_time": "2018-05-18T09:19:18.526400Z"
    }
   },
   "outputs": [
    {
     "name": "stdout",
     "output_type": "stream",
     "text": [
      "  0.00s writing plain text of whole Bible in all formats ...\n",
      "  7.44s done 12 formats\n"
     ]
    }
   ],
   "source": [
    "A.indent(reset=True)\n",
    "A.info(\"writing plain text of whole Bible in all formats ...\")\n",
    "text = collections.defaultdict(list)\n",
    "for v in F.otype.s(\"verse\"):\n",
    "    for fmt in sorted(T.formats):\n",
    "        text[fmt].append(T.text(v, fmt=fmt, descend=True))\n",
    "A.info(\"done {} formats\".format(len(text)))"
   ]
  },
  {
   "cell_type": "code",
   "execution_count": 50,
   "metadata": {},
   "outputs": [
    {
     "name": "stdout",
     "output_type": "stream",
     "text": [
      "lex-default\n",
      "בְּ רֵאשִׁית ברא אֱלֹהִים אֵת הַ שָׁמַיִם וְ אֵת הַ אֶרֶץ \n",
      "וְ הַ אֶרֶץ היה תֹּהוּ וְ בֹּהוּ וְ חֹשֶׁךְ עַל פָּנֶה תְּהֹום וְ רוּחַ אֱלֹהִים רחף עַל פָּנֶה הַ מַיִם \n",
      "וְ אמר אֱלֹהִים היה אֹור וְ היה אֹור \n",
      "וְ ראה אֱלֹהִים אֵת הַ אֹור כִּי טוב וְ בדל אֱלֹהִים בַּיִן הַ אֹור וְ בַּיִן הַ חֹשֶׁךְ \n",
      "וְ קרא אֱלֹהִים לְ הַ אֹור יֹום וְ לְ הַ חֹשֶׁךְ קרא לַיְלָה וְ היה עֶרֶב וְ היה בֹּקֶר יֹום אֶחָד \n",
      "\n",
      "lex-orig-full\n",
      "בְּ רֵאשִׁית בָּרָא אֱלֹה אֵת הַ שָּׁמַי וְ אֵת הָ אָרֶץ \n",
      "וְ הָ אָרֶץ הָי תֹהוּ וָ בֹהוּ וְ חֹשֶׁךְ עַל פְּן תְהֹום וְ רוּחַ אֱלֹה רַחֶף עַל פְּן הַ מָּי \n",
      "וַ אמֶר אֱלֹה הִי אֹור וַ הִי אֹור \n",
      "וַ רְא אֱלֹה אֶת הָ אֹור כִּי טֹוב וַ בְדֵּל אֱלֹה בֵּין הָ אֹור וּ בֵין הַ חֹשֶׁךְ \n",
      "וַ קְרָא אֱלֹה לָ  אֹור יֹום וְ לַ  חֹשֶׁךְ קָרָא לָיְלָה וַ הִי עֶרֶב וַ הִי בֹקֶר יֹום אֶחָד \n",
      "\n",
      "lex-orig-plain\n",
      "ב ראשׁית ברא אלהים את ה שׁמים ו את ה ארץ \n",
      "ו ה ארץ היה תהו ו בהו ו חשׁך על פנה תהום ו רוח אלהים רחף על פנה ה מים \n",
      "ו אמר אלהים היה אור ו היה אור \n",
      "ו ראה אלהים את ה אור כי טוב ו בדל אלהים בין ה אור ו בין ה חשׁך \n",
      "ו קרא אלהים ל ה אור יום ו ל ה חשׁך קרא לילה ו היה ערב ו היה בקר יום אחד \n",
      "\n",
      "lex-trans-full\n",
      "B.:- R;>CIJT B.@R@> >:ELOH >;T HA- C.@MAJ W:- >;T H@- >@REY \n",
      "W:- H@- >@REY H@J TOHW. W@- BOHW. W:- XOCEK: <AL P.:N T:HOWM W:- RW.XA >:ELOH RAXEP <AL P.:N HA- M.@J \n",
      "WA- >MER >:ELOH HIJ >OWR WA- HIJ >OWR \n",
      "WA- R:> >:ELOH >ET H@- >OWR K.IJ VOWB WA- B:D.;L >:ELOH B.;JN H@- >OWR W.- B;JN HA- XOCEK: \n",
      "WA- Q:R@> >:ELOH L@- - >OWR JOWM W:- LA- - XOCEK: Q@R@> L@J:L@H WA- HIJ <EREB WA- HIJ BOQER JOWM >EX@D \n",
      "\n",
      "lex-trans-plain\n",
      "B R>CJT/ BR>[ >LHJM/ >T H CMJM/ W >T H >RY/ \n",
      "W H >RY/ HJH[ THW/ W BHW/ W XCK/ <L PNH/ THWM/ W RWX/ >LHJM/ RXP[ <L PNH/ H MJM/ \n",
      "W >MR[ >LHJM/ HJH[ >WR/ W HJH[ >WR/ \n",
      "W R>H[ >LHJM/ >T H >WR/ KJ VWB[ W BDL[ >LHJM/ BJN/ H >WR/ W BJN/ H XCK/ \n",
      "W QR>[ >LHJM/ L H >WR/ JWM/ W L H XCK/ QR>[ LJLH/ W HJH[ <RB/ W HJH[ BQR=/ JWM/ >XD/ \n",
      "\n",
      "text-orig-full\n",
      "בְּרֵאשִׁ֖ית בָּרָ֣א אֱלֹהִ֑ים אֵ֥ת הַשָּׁמַ֖יִם וְאֵ֥ת הָאָֽרֶץ׃ \n",
      "וְהָאָ֗רֶץ הָיְתָ֥ה תֹ֨הוּ֙ וָבֹ֔הוּ וְחֹ֖שֶׁךְ עַל־פְּנֵ֣י תְהֹ֑ום וְר֣וּחַ אֱלֹהִ֔ים מְרַחֶ֖פֶת עַל־פְּנֵ֥י הַמָּֽיִם׃ \n",
      "וַיֹּ֥אמֶר אֱלֹהִ֖ים יְהִ֣י אֹ֑ור וַֽיְהִי־אֹֽור׃ \n",
      "וַיַּ֧רְא אֱלֹהִ֛ים אֶת־הָאֹ֖ור כִּי־טֹ֑וב וַיַּבְדֵּ֣ל אֱלֹהִ֔ים בֵּ֥ין הָאֹ֖ור וּבֵ֥ין הַחֹֽשֶׁךְ׃ \n",
      "וַיִּקְרָ֨א אֱלֹהִ֤ים׀ לָאֹור֙ יֹ֔ום וְלַחֹ֖שֶׁךְ קָ֣רָא לָ֑יְלָה וַֽיְהִי־עֶ֥רֶב וַֽיְהִי־בֹ֖קֶר יֹ֥ום אֶחָֽד׃ פ \n",
      "\n",
      "text-orig-full-ketiv\n",
      "בְּרֵאשִׁ֖ית בָּרָ֣א אֱלֹהִ֑ים אֵ֥ת הַשָּׁמַ֖יִם וְאֵ֥ת הָאָֽרֶץ׃ \n",
      "וְהָאָ֗רֶץ הָיְתָ֥ה תֹ֨הוּ֙ וָבֹ֔הוּ וְחֹ֖שֶׁךְ עַל־פְּנֵ֣י תְהֹ֑ום וְר֣וּחַ אֱלֹהִ֔ים מְרַחֶ֖פֶת עַל־פְּנֵ֥י הַמָּֽיִם׃ \n",
      "וַיֹּ֥אמֶר אֱלֹהִ֖ים יְהִ֣י אֹ֑ור וַֽיְהִי־אֹֽור׃ \n",
      "וַיַּ֧רְא אֱלֹהִ֛ים אֶת־הָאֹ֖ור כִּי־טֹ֑וב וַיַּבְדֵּ֣ל אֱלֹהִ֔ים בֵּ֥ין הָאֹ֖ור וּבֵ֥ין הַחֹֽשֶׁךְ׃ \n",
      "וַיִּקְרָ֨א אֱלֹהִ֤ים׀ לָאֹור֙ יֹ֔ום וְלַחֹ֖שֶׁךְ קָ֣רָא לָ֑יְלָה וַֽיְהִי־עֶ֥רֶב וַֽיְהִי־בֹ֖קֶר יֹ֥ום אֶחָֽד׃ פ \n",
      "\n",
      "text-orig-plain\n",
      "בראשׁית ברא אלהים את השׁמים ואת הארץ׃ \n",
      "והארץ היתה תהו ובהו וחשׁך על־פני תהום ורוח אלהים מרחפת על־פני המים׃ \n",
      "ויאמר אלהים יהי אור ויהי־אור׃ \n",
      "וירא אלהים את־האור כי־טוב ויבדל אלהים בין האור ובין החשׁך׃ \n",
      "ויקרא אלהים׀ לאור יום ולחשׁך קרא לילה ויהי־ערב ויהי־בקר יום אחד׃ פ \n",
      "\n",
      "text-phono-full\n",
      "bᵊrēšˌîṯ bārˈā ʔᵉlōhˈîm ʔˌēṯ haššāmˌayim wᵊʔˌēṯ hāʔˈāreṣ . \n",
      "wᵊhāʔˈāreṣ hāyᵊṯˌā ṯˈōhû wāvˈōhû wᵊḥˌōšeḵ ʕal-pᵊnˈê ṯᵊhˈôm wᵊrˈûₐḥ ʔᵉlōhˈîm mᵊraḥˌefeṯ ʕal-pᵊnˌê hammˈāyim . \n",
      "wayyˌōmer ʔᵉlōhˌîm yᵊhˈî ʔˈôr wˈayᵊhî-ʔˈôr . \n",
      "wayyˈar ʔᵉlōhˈîm ʔeṯ-hāʔˌôr kî-ṭˈôv wayyavdˈēl ʔᵉlōhˈîm bˌên hāʔˌôr ûvˌên haḥˈōšeḵ . \n",
      "wayyiqrˌā ʔᵉlōhˈîm lāʔôr yˈôm wᵊlaḥˌōšeḵ qˈārā lˈāyᵊlā wˈayᵊhî-ʕˌerev wˈayᵊhî-vˌōqer yˌôm ʔeḥˈāḏ . f \n",
      "\n",
      "text-trans-full\n",
      "B.:-R;>CI73JT B.@R@74> >:ELOHI92JM >;71T HA-C.@MA73JIM W:->;71T H@->@75REY00 \n",
      "W:-H@->@81REY H@J:T@71H TO33HW.03 W@-BO80HW. W:-XO73CEK: <AL&P.:N;74J T:HO92WM W:-R74W.XA >:ELOHI80JM M:RAXE73PET <AL&P.:N;71J HA-M.@75JIM00 \n",
      "WA-J.O71>MER >:ELOHI73JM J:HI74J >O92WR WA45-J:HIJ&>O75WR00 \n",
      "WA-J.A94R:> >:ELOHI91JM >ET&H@->O73WR K.IJ&VO92WB WA-J.AB:D.;74L >:ELOHI80JM B.;71JN H@->O73WR W.-B;71JN HA-XO75CEK:00 \n",
      "WA-J.IQ:R@63> >:ELOHI70JM05 L@-->OWR03 JO80WM W:-LA--XO73CEK: Q@74R@> L@92J:L@H WA45-J:HIJ&<E71REB WA45-J:HIJ&BO73QER JO71WM >EX@75D00_P \n",
      "\n",
      "text-trans-full-ketiv\n",
      "B.:-R;>CI73JT B.@R@74> >:ELOHI92JM >;71T HA-C.@MA73JIM W:->;71T H@->@75REY00 \n",
      "W:-H@->@81REY H@J:T@71H TO33HW.03 W@-BO80HW. W:-XO73CEK: <AL&P.:N;74J T:HO92WM W:-R74W.XA >:ELOHI80JM M:RAXE73PET <AL&P.:N;71J HA-M.@75JIM00 \n",
      "WA-J.O71>MER >:ELOHI73JM J:HI74J >O92WR WA45-J:HIJ&>O75WR00 \n",
      "WA-J.A94R:> >:ELOHI91JM >ET&H@->O73WR K.IJ&VO92WB WA-J.AB:D.;74L >:ELOHI80JM B.;71JN H@->O73WR W.-B;71JN HA-XO75CEK:00 \n",
      "WA-J.IQ:R@63> >:ELOHI70JM05 L@-->OWR03 JO80WM W:-LA--XO73CEK: Q@74R@> L@92J:L@H WA45-J:HIJ&<E71REB WA45-J:HIJ&BO73QER JO71WM >EX@75D00_P \n",
      "\n",
      "text-trans-plain\n",
      "BR>CJT BR> >LHJM >T HCMJM W>T H>RY00 \n",
      "WH>RY HJTH THW WBHW WXCK <L&PNJ THWM WRWX >LHJM MRXPT <L&PNJ HMJM00 \n",
      "WJ>MR >LHJM JHJ >WR WJHJ&>WR00 \n",
      "WJR> >LHJM >T&H>WR KJ&VWB WJBDL >LHJM BJN H>WR WBJN HXCK00 \n",
      "WJQR> >LHJM05 L>WR JWM WLXCK QR> LJLH WJHJ&<RB WJHJ&BQR JWM >XD00_P \n",
      "\n"
     ]
    }
   ],
   "source": [
    "for fmt in sorted(text):\n",
    "    print(\"{}\\n{}\\n\".format(fmt, \"\\n\".join(text[fmt][0:5])))"
   ]
  },
  {
   "cell_type": "markdown",
   "metadata": {},
   "source": [
    "### The full plain text\n",
    "We write a few formats to file, in your Downloads folder."
   ]
  },
  {
   "cell_type": "code",
   "execution_count": 51,
   "metadata": {},
   "outputs": [],
   "source": [
    "for fmt in \"\"\"\n",
    "    text-orig-full\n",
    "    text-phono-full\n",
    "\"\"\".strip().split():\n",
    "    with open(os.path.expanduser(f\"~/Downloads/{fmt}.txt\"), \"w\") as f:\n",
    "        f.write(\"\\n\".join(text[fmt]))"
   ]
  },
  {
   "cell_type": "markdown",
   "metadata": {},
   "source": [
    "## Book names\n",
    "\n",
    "For Bible book names, we can use several languages.\n",
    "\n",
    "### Languages\n",
    "Here are the languages that we can use for book names.\n",
    "These languages come from the features `book@ll`, where `ll` is a two letter\n",
    "ISO language code. Have a look in your data directory, you can't miss them."
   ]
  },
  {
   "cell_type": "code",
   "execution_count": 52,
   "metadata": {
    "ExecuteTime": {
     "end_time": "2018-05-18T09:19:36.977529Z",
     "start_time": "2018-05-18T09:19:36.969202Z"
    }
   },
   "outputs": [
    {
     "data": {
      "text/plain": [
       "{'': {'language': 'default', 'languageEnglish': 'default'},\n",
       " 'am': {'language': 'ኣማርኛ', 'languageEnglish': 'amharic'},\n",
       " 'ar': {'language': 'العَرَبِية', 'languageEnglish': 'arabic'},\n",
       " 'bn': {'language': 'বাংলা', 'languageEnglish': 'bengali'},\n",
       " 'da': {'language': 'Dansk', 'languageEnglish': 'danish'},\n",
       " 'de': {'language': 'Deutsch', 'languageEnglish': 'german'},\n",
       " 'el': {'language': 'Ελληνικά', 'languageEnglish': 'greek'},\n",
       " 'en': {'language': 'English', 'languageEnglish': 'english'},\n",
       " 'es': {'language': 'Español', 'languageEnglish': 'spanish'},\n",
       " 'fa': {'language': 'فارسی', 'languageEnglish': 'farsi'},\n",
       " 'fr': {'language': 'Français', 'languageEnglish': 'french'},\n",
       " 'he': {'language': 'עברית', 'languageEnglish': 'hebrew'},\n",
       " 'hi': {'language': 'हिन्दी', 'languageEnglish': 'hindi'},\n",
       " 'id': {'language': 'Bahasa Indonesia', 'languageEnglish': 'indonesian'},\n",
       " 'ja': {'language': '日本語', 'languageEnglish': 'japanese'},\n",
       " 'ko': {'language': '한국어', 'languageEnglish': 'korean'},\n",
       " 'la': {'language': 'Latina', 'languageEnglish': 'latin'},\n",
       " 'nl': {'language': 'Nederlands', 'languageEnglish': 'dutch'},\n",
       " 'pa': {'language': 'ਪੰਜਾਬੀ', 'languageEnglish': 'punjabi'},\n",
       " 'pt': {'language': 'Português', 'languageEnglish': 'portuguese'},\n",
       " 'ru': {'language': 'Русский', 'languageEnglish': 'russian'},\n",
       " 'sw': {'language': 'Kiswahili', 'languageEnglish': 'swahili'},\n",
       " 'syc': {'language': 'ܠܫܢܐ ܣܘܪܝܝܐ', 'languageEnglish': 'syriac'},\n",
       " 'tr': {'language': 'Türkçe', 'languageEnglish': 'turkish'},\n",
       " 'ur': {'language': 'اُردُو', 'languageEnglish': 'urdu'},\n",
       " 'yo': {'language': 'èdè Yorùbá', 'languageEnglish': 'yoruba'},\n",
       " 'zh': {'language': '中文', 'languageEnglish': 'chinese'}}"
      ]
     },
     "execution_count": 52,
     "metadata": {},
     "output_type": "execute_result"
    }
   ],
   "source": [
    "T.languages"
   ]
  },
  {
   "cell_type": "markdown",
   "metadata": {},
   "source": [
    "### Book names in Swahili\n",
    "Get the book names in Swahili."
   ]
  },
  {
   "cell_type": "code",
   "execution_count": 53,
   "metadata": {
    "ExecuteTime": {
     "end_time": "2018-05-18T09:19:38.495048Z",
     "start_time": "2018-05-18T09:19:38.488011Z"
    }
   },
   "outputs": [
    {
     "name": "stdout",
     "output_type": "stream",
     "text": [
      "426591 = Mwanzo\n",
      "426592 = Kutoka\n",
      "426593 = Mambo_ya_Walawi\n",
      "426594 = Hesabu\n",
      "426595 = Kumbukumbu_la_Torati\n",
      "426596 = Yoshua\n",
      "426597 = Waamuzi\n",
      "426598 = 1_Samweli\n",
      "426599 = 2_Samweli\n",
      "426600 = 1_Wafalme\n",
      "426601 = 2_Wafalme\n",
      "426602 = Isaya\n",
      "426603 = Yeremia\n",
      "426604 = Ezekieli\n",
      "426605 = Hosea\n",
      "426606 = Yoeli\n",
      "426607 = Amosi\n",
      "426608 = Obadia\n",
      "426609 = Yona\n",
      "426610 = Mika\n",
      "426611 = Nahumu\n",
      "426612 = Habakuki\n",
      "426613 = Sefania\n",
      "426614 = Hagai\n",
      "426615 = Zekaria\n",
      "426616 = Malaki\n",
      "426617 = Zaburi\n",
      "426618 = Ayubu\n",
      "426619 = Mithali\n",
      "426620 = Ruthi\n",
      "426621 = Wimbo_Ulio_Bora\n",
      "426622 = Mhubiri\n",
      "426623 = Maombolezo\n",
      "426624 = Esta\n",
      "426625 = Danieli\n",
      "426626 = Ezra\n",
      "426627 = Nehemia\n",
      "426628 = 1_Mambo_ya_Nyakati\n",
      "426629 = 2_Mambo_ya_Nyakati\n",
      "\n"
     ]
    }
   ],
   "source": [
    "nodeToSwahili = \"\"\n",
    "for b in F.otype.s(\"book\"):\n",
    "    nodeToSwahili += \"{} = {}\\n\".format(b, T.bookName(b, lang=\"sw\"))\n",
    "print(nodeToSwahili)"
   ]
  },
  {
   "cell_type": "markdown",
   "metadata": {},
   "source": [
    "## Book nodes from Swahili\n",
    "OK, there they are. We copy them into a string, and do the opposite: get the nodes back.\n",
    "We check whether we get exactly the same nodes as the ones we started with."
   ]
  },
  {
   "cell_type": "code",
   "execution_count": 54,
   "metadata": {
    "ExecuteTime": {
     "end_time": "2018-05-18T09:19:40.311912Z",
     "start_time": "2018-05-18T09:19:40.302946Z"
    }
   },
   "outputs": [
    {
     "name": "stdout",
     "output_type": "stream",
     "text": [
      "Going from nodes to booknames and back yields the original nodes\n"
     ]
    }
   ],
   "source": [
    "swahiliNames = \"\"\"\n",
    "Mwanzo\n",
    "Kutoka\n",
    "Mambo_ya_Walawi\n",
    "Hesabu\n",
    "Kumbukumbu_la_Torati\n",
    "Yoshua\n",
    "Waamuzi\n",
    "1_Samweli\n",
    "2_Samweli\n",
    "1_Wafalme\n",
    "2_Wafalme\n",
    "Isaya\n",
    "Yeremia\n",
    "Ezekieli\n",
    "Hosea\n",
    "Yoeli\n",
    "Amosi\n",
    "Obadia\n",
    "Yona\n",
    "Mika\n",
    "Nahumu\n",
    "Habakuki\n",
    "Sefania\n",
    "Hagai\n",
    "Zekaria\n",
    "Malaki\n",
    "Zaburi\n",
    "Ayubu\n",
    "Mithali\n",
    "Ruthi\n",
    "Wimbo_Ulio_Bora\n",
    "Mhubiri\n",
    "Maombolezo\n",
    "Esta\n",
    "Danieli\n",
    "Ezra\n",
    "Nehemia\n",
    "1_Mambo_ya_Nyakati\n",
    "2_Mambo_ya_Nyakati\n",
    "\"\"\".strip().split()\n",
    "\n",
    "swahiliToNode = \"\"\n",
    "for nm in swahiliNames:\n",
    "    swahiliToNode += \"{} = {}\\n\".format(T.bookNode(nm, lang=\"sw\"), nm)\n",
    "\n",
    "if swahiliToNode != nodeToSwahili:\n",
    "    print(\"Something is not right with the book names\")\n",
    "else:\n",
    "    print(\"Going from nodes to booknames and back yields the original nodes\")"
   ]
  },
  {
   "cell_type": "markdown",
   "metadata": {},
   "source": [
    "## Sections\n",
    "\n",
    "A section in the Hebrew bible is a book, a chapter or a verse.\n",
    "Knowledge of sections is not baked into Text-Fabric.\n",
    "The config feature `otext.tf` may specify three section levels, and tell\n",
    "what the corresponding node types and features are.\n",
    "\n",
    "From that knowledge it can construct mappings from nodes to sections, e.g. from verse\n",
    "nodes to tuples of the form:\n",
    "\n",
    "    (bookName, chapterNumber, verseNumber)\n",
    "\n",
    "You can get the section of a node as a tuple of relevant book, chapter, and verse nodes.\n",
    "Or you can get it as a passage label, a string.\n",
    "\n",
    "You can ask for the passage corresponding to the first slot of a node, or the one corresponding to the last slot.\n",
    "\n",
    "If you are dealing with book and chapter nodes, you can ask to fill out the verse and chapter parts as well.\n",
    "\n",
    "Here are examples of getting the section that corresponds to a node and vice versa.\n",
    "\n",
    "**NB:** `sectionFromNode` always delivers a verse specification, either from the\n",
    "first slot belonging to that node, or, if `lastSlot`, from the last slot\n",
    "belonging to that node."
   ]
  },
  {
   "cell_type": "code",
   "execution_count": 55,
   "metadata": {
    "ExecuteTime": {
     "end_time": "2018-05-18T09:19:43.056511Z",
     "start_time": "2018-05-18T09:19:43.043552Z"
    }
   },
   "outputs": [
    {
     "name": "stdout",
     "output_type": "stream",
     "text": [
      "  15890 wordShow     en - Genesis 30:18                  Genesis 30:18                  (426591, 426659, 1415237)\n",
      "                     la - Genesis 30:18                  Genesis 30:18                  (426591, 426659, 1415237)\n",
      "                     sw - Mwanzo 30:18                   Mwanzo 30:18                   \n",
      " 700000 phraseShow   en - Numbers 22:31                  Numbers 22:31                  (426594, 426768, 1418795)\n",
      "                     la - Numeri 22:31                   Numeri 22:31                   (426594, 426768, 1418795)\n",
      "                     sw - Hesabu 22:31                   Hesabu 22:31                   \n",
      " 500000 clauseShow   en - Job 36:27                      Job 36:27                      (426618, 427382, 1432958)\n",
      "                     la - Iob 36:27                      Iob 36:27                      (426618, 427382, 1432958)\n",
      "                     sw - Ayubu 36:27                    Ayubu 36:27                    \n",
      "1200000 sentenceShow en - 2_Kings 6:5                    2_Kings 6:5                    (426601, 426944, 1423986)\n",
      "                     la - Reges_II 6:5                   Reges_II 6:5                   (426601, 426944, 1423986)\n",
      "                     sw - 2_Wafalme 6:5                  2_Wafalme 6:5                  \n",
      "1437667 lexShow      en - Genesis 1:16                   2_Chronicles 22:1              (426591, 426630, 1414404)\n",
      "                     la - Genesis 1:16                   Chronica_II 22:1               (426629, 427544, 1437230)\n",
      "                     sw - Mwanzo 1:16                    2_Mambo_ya_Nyakati 22:1        \n",
      "1420000 verseShow    en - Deuteronomy 27:25              Deuteronomy 27:25              (426595, 426809, 1420000)\n",
      "                     la - Deuteronomium 27:25            Deuteronomium 27:25            (426595, 426809, 1420000)\n",
      "                     sw - Kumbukumbu_la_Torati 27:25     Kumbukumbu_la_Torati 27:25     \n",
      " 427000 chapterShow  en - Isaiah 37                      Isaiah 37:38                   (426602, 427000)\n",
      "                     la - Jesaia 37                      Jesaia 37:38                   (426602, 427000, 1425295)\n",
      "                     sw - Isaya 37                       Isaya 37:38                    \n",
      " 426598 bookShow     en - 1_Samuel                       1_Samuel 31:13                 (426598,)\n",
      "                     la - Samuel_I                       Samuel_I 31:13                 (426598, 426892, 1422328)\n",
      "                     sw - 1_Samweli                      1_Samweli 31:13                \n"
     ]
    }
   ],
   "source": [
    "\n",
    "for (desc, n) in chain(normalShow.items(), sectionShow.items()):\n",
    "    for lang in \"en la sw\".split():\n",
    "        d = f\"{n:>7} {desc}\" if lang == \"en\" else \"\"\n",
    "        first = A.sectionStrFromNode(n, lang=lang)\n",
    "        last = A.sectionStrFromNode(n, lang=lang, lastSlot=True, fillup=True)\n",
    "        tup = (\n",
    "            T.sectionTuple(n)\n",
    "            if lang == \"en\"\n",
    "            else T.sectionTuple(n, lastSlot=True, fillup=True)\n",
    "            if lang == \"la\"\n",
    "            else \"\"\n",
    "        )\n",
    "        print(f\"{d:<20} {lang} - {first:<30} {last:<30} {tup}\")"
   ]
  },
  {
   "cell_type": "markdown",
   "metadata": {},
   "source": [
    "And here are examples to get back:"
   ]
  },
  {
   "cell_type": "code",
   "execution_count": 56,
   "metadata": {
    "ExecuteTime": {
     "end_time": "2018-05-18T09:19:43.056511Z",
     "start_time": "2018-05-18T09:19:43.043552Z"
    }
   },
   "outputs": [
    {
     "name": "stdout",
     "output_type": "stream",
     "text": [
      "Ezekiel                        en book                 426604\n",
      "Ezechiel                       la book                 426604\n",
      "Ezekieli                       sw book                 426604\n",
      "Isaiah 43                      en chapter              427006\n",
      "Jesaia 43                      la chapter              427006\n",
      "Isaya 43                       sw chapter              427006\n",
      "Deuteronomy 28:34              en verse                1420035\n",
      "Deuteronomium 28:34            la verse                1420035\n",
      "Kumbukumbu_la_Torati 28:34     sw verse                1420035\n",
      "Job 37:3                       en verse                1432967\n",
      "Iob 37:3                       la verse                1432967\n",
      "Ayubu 37:3                     sw verse                1432967\n",
      "Numbers 22:33                  en verse                1418797\n",
      "Numeri 22:33                   la verse                1418797\n",
      "Hesabu 22:33                   sw verse                1418797\n",
      "Genesis 30:18                  en verse                1415237\n",
      "Genesis 30:18                  la verse                1415237\n",
      "Mwanzo 30:18                   sw verse                1415237\n",
      "Genesis 1:30                   en verse                1414418\n",
      "Genesis 1:30                   la verse                1414418\n",
      "Mwanzo 1:30                    sw verse                1414418\n",
      "Psalms 37:2                    en verse                1430067\n",
      "Psalmi 37:2                    la verse                1430067\n",
      "Zaburi 37:2                    sw verse                1430067\n"
     ]
    }
   ],
   "source": [
    "for (lang, section) in (\n",
    "    (\"en\", \"Ezekiel\"),\n",
    "    (\"la\", \"Ezechiel\"),\n",
    "    (\"sw\", \"Ezekieli\"),\n",
    "    (\"en\", \"Isaiah 43\"),\n",
    "    (\"la\", \"Jesaia 43\"),\n",
    "    (\"sw\", \"Isaya 43\"),\n",
    "    (\"en\", \"Deuteronomy 28:34\"),\n",
    "    (\"la\", \"Deuteronomium 28:34\"),\n",
    "    (\"sw\", \"Kumbukumbu_la_Torati 28:34\"),\n",
    "    (\"en\", \"Job 37:3\"),\n",
    "    (\"la\", \"Iob 37:3\"),\n",
    "    (\"sw\", \"Ayubu 37:3\"),\n",
    "    (\"en\", \"Numbers 22:33\"),\n",
    "    (\"la\", \"Numeri 22:33\"),\n",
    "    (\"sw\", \"Hesabu 22:33\"),\n",
    "    (\"en\", \"Genesis 30:18\"),\n",
    "    (\"la\", \"Genesis 30:18\"),\n",
    "    (\"sw\", \"Mwanzo 30:18\"),\n",
    "    (\"en\", \"Genesis 1:30\"),\n",
    "    (\"la\", \"Genesis 1:30\"),\n",
    "    (\"sw\", \"Mwanzo 1:30\"),\n",
    "    (\"en\", \"Psalms 37:2\"),\n",
    "    (\"la\", \"Psalmi 37:2\"),\n",
    "    (\"sw\", \"Zaburi 37:2\"),\n",
    "):\n",
    "    n = A.nodeFromSectionStr(section, lang=lang)\n",
    "    nType = F.otype.v(n)\n",
    "    print(f\"{section:<30} {lang} {nType:<20} {n}\")"
   ]
  },
  {
   "cell_type": "markdown",
   "metadata": {},
   "source": [
    "## Sentences spanning multiple verses\n",
    "If you go up from a sentence node, you expect to find a verse node.\n",
    "But some sentences span multiple verses, and in that case, you will not find the enclosing\n",
    "verse node, because it is not there.\n",
    "\n",
    "Here is a piece of code to detect and list all cases where sentences span multiple verses.\n",
    "\n",
    "The idea is to pick the first and the last word of a sentence, use `T.sectionFromNode` to\n",
    "discover the verse in which that word occurs, and if they are different: bingo!\n",
    "\n",
    "We show the first 5 of ca. 900 cases."
   ]
  },
  {
   "cell_type": "markdown",
   "metadata": {},
   "source": [
    "By the way: doing this in the `2016` version of the data yields 915 results.\n",
    "The splitting up of the text into sentences is not carved in stone!"
   ]
  },
  {
   "cell_type": "code",
   "execution_count": 57,
   "metadata": {
    "ExecuteTime": {
     "end_time": "2018-05-18T09:19:53.984718Z",
     "start_time": "2018-05-18T09:19:49.190240Z"
    }
   },
   "outputs": [
    {
     "name": "stdout",
     "output_type": "stream",
     "text": [
      "  0.00s Get sentences that span multiple verses\n",
      "  3.07s Found 887 cases\n",
      "  3.07s \n",
      "Genesis 1:17-18\n",
      "Genesis 1:29-30\n",
      "Genesis 2:4-7\n",
      "Genesis 7:2-3\n",
      "Genesis 7:8-9\n",
      "Genesis 7:13-14\n",
      "Genesis 9:9-10\n",
      "Genesis 10:11-12\n",
      "Genesis 10:13-14\n",
      "Genesis 10:15-18\n"
     ]
    }
   ],
   "source": [
    "A.indent(reset=True)\n",
    "A.info(\"Get sentences that span multiple verses\")\n",
    "\n",
    "spanSentences = []\n",
    "for s in F.otype.s(\"sentence\"):\n",
    "    fs = T.sectionFromNode(s, lastSlot=False)\n",
    "    ls = T.sectionFromNode(s, lastSlot=True)\n",
    "    if fs != ls:\n",
    "        spanSentences.append(\"{} {}:{}-{}\".format(fs[0], fs[1], fs[2], ls[2]))\n",
    "\n",
    "A.info(\"Found {} cases\".format(len(spanSentences)))\n",
    "A.info(\"\\n{}\".format(\"\\n\".join(spanSentences[0:10])))"
   ]
  },
  {
   "cell_type": "markdown",
   "metadata": {},
   "source": [
    "A different way, with better display, is:"
   ]
  },
  {
   "cell_type": "code",
   "execution_count": 58,
   "metadata": {
    "ExecuteTime": {
     "end_time": "2018-05-18T09:19:59.897561Z",
     "start_time": "2018-05-18T09:19:58.291284Z"
    }
   },
   "outputs": [
    {
     "name": "stdout",
     "output_type": "stream",
     "text": [
      "  0.00s Get sentences that span multiple verses\n",
      "  1.09s Found 887 cases\n"
     ]
    },
    {
     "data": {
      "text/html": [
       "<table><tr class=\"tf rtl\"><th class=\"tf rtl\">n</th><th class=\"tf rtl\">p</th><th class=\"tf rtl\">sentence</th><th class=\"tf\">verse</th><th class=\"tf\">verse</th></tr>\n",
       "<tr class=\"tf rtl\"><td class=\"tf rtl\">1</td><td class=\"tf rtl\"><span class=\"tfsechead rtl\"><span class=\"ltr\"><a target=\"_blank\" href=\"https://shebanq.ancient-data.org/hebrew/text?book=Genesis&amp;chapter=1&amp;verse=17&amp;version=2021&amp;mr=m&amp;qw=q&amp;tp=txt_p&amp;tr=hb&amp;wget=v&amp;qget=v&amp;nget=vt\" title=\"Show this on SHEBANQ\" sec=\"Genesis 1:17\">Genesis 1:17</a></span></span></td><td class=\"tf rtl\"><span class=\"rtl ubd\"><span class=\"plain rtl  hlbx\" ><span class=\"txtu hbo\">וַ</span><span class=\"txtu hbo\">יִּתֵּ֥ן </span><span class=\"txtu hbo\">אֹתָ֛ם </span><span class=\"txtu hbo\">אֱלֹהִ֖ים </span><span class=\"txtu hbo\">בִּ</span><span class=\"txtu hbo\">רְקִ֣יעַ </span><span class=\"txtu hbo\">הַ</span><span class=\"txtu hbo\">שָּׁמָ֑יִם </span><span class=\"txtu hbo\">לְ</span><span class=\"txtu hbo\">הָאִ֖יר </span><span class=\"txtu hbo\">עַל־</span><span class=\"txtu hbo\">הָ</span><span class=\"txtu hbo\">אָֽרֶץ׃ </span><span class=\"txtu hbo\">וְ</span><span class=\"txtu hbo\">לִ</span><span class=\"txtu hbo\">מְשֹׁל֙ </span><span class=\"txtu hbo\">בַּ</span><span class=\"txtu hbo\">יֹּ֣ום </span><span class=\"txtu hbo\">וּ</span><span class=\"txtu hbo\">בַ</span><span class=\"txtu hbo\">לַּ֔יְלָה </span><span class=\"txtu hbo\">וּֽ</span><span class=\"txtu hbo\">לֲ</span><span class=\"txtu hbo\">הַבְדִּ֔יל </span><span class=\"txtu hbo\">בֵּ֥ין </span><span class=\"txtu hbo\">הָ</span><span class=\"txtu hbo\">אֹ֖ור </span><span class=\"txtu hbo\">וּ</span><span class=\"txtu hbo\">בֵ֣ין </span><span class=\"txtu hbo\">הַ</span><span class=\"txtu hbo\">חֹ֑שֶׁךְ </span></span></span></td><td class=\"tf rtl\"><span class=\"rtl ubd\"></span></td><td class=\"tf rtl\"><span class=\"rtl ubd\"></span></td></tr></table>"
      ],
      "text/plain": [
       "<IPython.core.display.HTML object>"
      ]
     },
     "metadata": {},
     "output_type": "display_data"
    }
   ],
   "source": [
    "A.indent(reset=True)\n",
    "A.info(\"Get sentences that span multiple verses\")\n",
    "\n",
    "spanSentences = []\n",
    "for s in F.otype.s(\"sentence\"):\n",
    "    words = L.d(s, otype=\"word\")\n",
    "    fw = words[0]\n",
    "    lw = words[-1]\n",
    "    fVerse = L.u(fw, otype=\"verse\")[0]\n",
    "    lVerse = L.u(lw, otype=\"verse\")[0]\n",
    "    if fVerse != lVerse:\n",
    "        spanSentences.append((s, fVerse, lVerse))\n",
    "\n",
    "A.info(\"Found {} cases\".format(len(spanSentences)))\n",
    "A.table(spanSentences, end=1)"
   ]
  },
  {
   "cell_type": "markdown",
   "metadata": {},
   "source": [
    "Wait a second, the columns with the verses are empty.\n",
    "In tables, the content of a verse is not shown.\n",
    "And by default, the passage that is relevant to a row is computed from one of the columns.\n",
    "\n",
    "But here, we definitely want the passage of columns 2 and 3, so:"
   ]
  },
  {
   "cell_type": "code",
   "execution_count": 59,
   "metadata": {
    "ExecuteTime": {
     "end_time": "2018-05-18T09:19:59.897561Z",
     "start_time": "2018-05-18T09:19:58.291284Z"
    }
   },
   "outputs": [
    {
     "data": {
      "text/html": [
       "<table><tr class=\"tf rtl\"><th class=\"tf rtl\">n</th><th class=\"tf rtl\">sentence</th><th class=\"tf\">verse</th><th class=\"tf\">verse</th></tr>\n",
       "<tr class=\"tf rtl\"><td class=\"tf rtl\">1</td><td class=\"tf rtl\"><span class=\"rtl ubd\"><span class=\"plain rtl  hlbx\" ><span class=\"txtu hbo\">וַ</span><span class=\"txtu hbo\">יִּתֵּ֥ן </span><span class=\"txtu hbo\">אֹתָ֛ם </span><span class=\"txtu hbo\">אֱלֹהִ֖ים </span><span class=\"txtu hbo\">בִּ</span><span class=\"txtu hbo\">רְקִ֣יעַ </span><span class=\"txtu hbo\">הַ</span><span class=\"txtu hbo\">שָּׁמָ֑יִם </span><span class=\"txtu hbo\">לְ</span><span class=\"txtu hbo\">הָאִ֖יר </span><span class=\"txtu hbo\">עַל־</span><span class=\"txtu hbo\">הָ</span><span class=\"txtu hbo\">אָֽרֶץ׃ </span><span class=\"txtu hbo\">וְ</span><span class=\"txtu hbo\">לִ</span><span class=\"txtu hbo\">מְשֹׁל֙ </span><span class=\"txtu hbo\">בַּ</span><span class=\"txtu hbo\">יֹּ֣ום </span><span class=\"txtu hbo\">וּ</span><span class=\"txtu hbo\">בַ</span><span class=\"txtu hbo\">לַּ֔יְלָה </span><span class=\"txtu hbo\">וּֽ</span><span class=\"txtu hbo\">לֲ</span><span class=\"txtu hbo\">הַבְדִּ֔יל </span><span class=\"txtu hbo\">בֵּ֥ין </span><span class=\"txtu hbo\">הָ</span><span class=\"txtu hbo\">אֹ֖ור </span><span class=\"txtu hbo\">וּ</span><span class=\"txtu hbo\">בֵ֣ין </span><span class=\"txtu hbo\">הַ</span><span class=\"txtu hbo\">חֹ֑שֶׁךְ </span></span></span></td><td class=\"tf rtl\"><span class=\"rtl ubd\"><span class=\"tfsechead rtl\"><span class=\"ltr\"><a target=\"_blank\" href=\"https://shebanq.ancient-data.org/hebrew/text?book=Genesis&amp;chapter=1&amp;verse=17&amp;version=2021&amp;mr=m&amp;qw=q&amp;tp=txt_p&amp;tr=hb&amp;wget=v&amp;qget=v&amp;nget=vt\" title=\"Show this on SHEBANQ\" sec=\"Genesis 1:17\">Genesis 1:17</a></span></span>  </span></td><td class=\"tf rtl\"><span class=\"rtl ubd\"><span class=\"tfsechead rtl\"><span class=\"ltr\"><a target=\"_blank\" href=\"https://shebanq.ancient-data.org/hebrew/text?book=Genesis&amp;chapter=1&amp;verse=18&amp;version=2021&amp;mr=m&amp;qw=q&amp;tp=txt_p&amp;tr=hb&amp;wget=v&amp;qget=v&amp;nget=vt\" title=\"Show this on SHEBANQ\" sec=\"Genesis 1:18\">Genesis 1:18</a></span></span>  </span></td></tr>\n",
       "<tr class=\"tf rtl\"><td class=\"tf rtl\">2</td><td class=\"tf rtl\"><span class=\"rtl ubd\"><span class=\"plain rtl l hlbx\" ><span class=\"plain rtl l \" ><span class=\"txtu hbo\">הִנֵּה֩ </span><span class=\"txtu hbo\">נָתַ֨תִּי </span><span class=\"txtu hbo\">לָכֶ֜ם </span><span class=\"plain rtl l \" ><span class=\"txtu hbo\">אֶת־</span><span class=\"txtu hbo\">כָּל־</span><span class=\"txtu hbo\">עֵ֣שֶׂב׀ </span></span></span><span class=\"txtu hbo\">זֹרֵ֣עַ </span><span class=\"txtu hbo\">זֶ֗רַע </span><span class=\"txtu hbo\">אֲשֶׁר֙ </span><span class=\"txtu hbo\">עַל־</span><span class=\"txtu hbo\">פְּנֵ֣י </span><span class=\"txtu hbo\">כָל־</span><span class=\"txtu hbo\">הָ</span><span class=\"txtu hbo\">אָ֔רֶץ </span><span class=\"plain rtl r \" ><span class=\"plain rtl r \" ><span class=\"txtu hbo\">וְ</span><span class=\"txtu hbo\">אֶת־</span><span class=\"txtu hbo\">כָּל־</span><span class=\"txtu hbo\">הָ</span><span class=\"txtu hbo\">עֵ֛ץ </span></span></span><span class=\"txtu hbo\">אֲשֶׁר־</span><span class=\"txtu hbo\">בֹּ֥ו </span><span class=\"txtu hbo\">פְרִי־</span><span class=\"txtu hbo\">עֵ֖ץ </span><span class=\"txtu hbo\">זֹרֵ֣עַ </span><span class=\"txtu hbo\">זָ֑רַע </span></span><span class=\"plain rtl r hlbx\" ><span class=\"plain rtl l \" ><span class=\"txtu hbo\">וּֽ</span><span class=\"txtu hbo\">לְ</span><span class=\"txtu hbo\">כָל־</span><span class=\"txtu hbo\">חַיַּ֣ת </span><span class=\"txtu hbo\">הָ֠</span><span class=\"txtu hbo\">אָרֶץ </span><span class=\"txtu hbo\">וּ</span><span class=\"txtu hbo\">לְ</span><span class=\"txtu hbo\">כָל־</span><span class=\"txtu hbo\">עֹ֨וף </span><span class=\"txtu hbo\">הַ</span><span class=\"txtu hbo\">שָּׁמַ֜יִם </span><span class=\"txtu hbo\">וּ</span><span class=\"txtu hbo\">לְ</span><span class=\"txtu hbo\">כֹ֣ל׀ </span><span class=\"txtu hbo\">רֹומֵ֣שׂ </span><span class=\"txtu hbo\">עַל־</span><span class=\"txtu hbo\">הָ</span><span class=\"txtu hbo\">אָ֗רֶץ </span></span><span class=\"txtu hbo\">אֲשֶׁר־</span><span class=\"txtu hbo\">בֹּו֙ </span><span class=\"txtu hbo\">נֶ֣פֶשׁ </span><span class=\"txtu hbo\">חַיָּ֔ה </span><span class=\"plain rtl r \" ><span class=\"txtu hbo\">אֶת־</span><span class=\"txtu hbo\">כָּל־</span><span class=\"txtu hbo\">יֶ֥רֶק </span><span class=\"txtu hbo\">עֵ֖שֶׂב </span><span class=\"txtu hbo\">לְ</span><span class=\"txtu hbo\">אָכְלָ֑ה </span></span></span></span></td><td class=\"tf rtl\"><span class=\"rtl ubd\"><span class=\"tfsechead rtl\"><span class=\"ltr\"><a target=\"_blank\" href=\"https://shebanq.ancient-data.org/hebrew/text?book=Genesis&amp;chapter=1&amp;verse=29&amp;version=2021&amp;mr=m&amp;qw=q&amp;tp=txt_p&amp;tr=hb&amp;wget=v&amp;qget=v&amp;nget=vt\" title=\"Show this on SHEBANQ\" sec=\"Genesis 1:29\">Genesis 1:29</a></span></span>  </span></td><td class=\"tf rtl\"><span class=\"rtl ubd\"><span class=\"tfsechead rtl\"><span class=\"ltr\"><a target=\"_blank\" href=\"https://shebanq.ancient-data.org/hebrew/text?book=Genesis&amp;chapter=1&amp;verse=30&amp;version=2021&amp;mr=m&amp;qw=q&amp;tp=txt_p&amp;tr=hb&amp;wget=v&amp;qget=v&amp;nget=vt\" title=\"Show this on SHEBANQ\" sec=\"Genesis 1:30\">Genesis 1:30</a></span></span>  </span></td></tr>\n",
       "<tr class=\"tf rtl\"><td class=\"tf rtl\">3</td><td class=\"tf rtl\"><span class=\"rtl ubd\"><span class=\"plain rtl l hlbx\" ><span class=\"txtu hbo\">בְּ</span><span class=\"txtu hbo\">יֹ֗ום </span><span class=\"txtu hbo\">עֲשֹׂ֛ות </span><span class=\"txtu hbo\">יְהוָ֥ה </span><span class=\"txtu hbo\">אֱלֹהִ֖ים </span><span class=\"txtu hbo\">אֶ֥רֶץ </span><span class=\"txtu hbo\">וְ</span><span class=\"txtu hbo\">שָׁמָֽיִם׃ </span></span><span class=\"plain rtl r hlbx\" ><span class=\"txtu hbo\">וַ</span><span class=\"txtu hbo\">יִּיצֶר֩ </span><span class=\"txtu hbo\">יְהוָ֨ה </span><span class=\"txtu hbo\">אֱלֹהִ֜ים </span><span class=\"txtu hbo\">אֶת־</span><span class=\"txtu hbo\">הָֽ</span><span class=\"txtu hbo\">אָדָ֗ם </span><span class=\"txtu hbo\">עָפָר֙ </span><span class=\"txtu hbo\">מִן־</span><span class=\"txtu hbo\">הָ֣</span><span class=\"txtu hbo\">אֲדָמָ֔ה </span></span></span></td><td class=\"tf rtl\"><span class=\"rtl ubd\"><span class=\"tfsechead rtl\"><span class=\"ltr\"><a target=\"_blank\" href=\"https://shebanq.ancient-data.org/hebrew/text?book=Genesis&amp;chapter=2&amp;verse=4&amp;version=2021&amp;mr=m&amp;qw=q&amp;tp=txt_p&amp;tr=hb&amp;wget=v&amp;qget=v&amp;nget=vt\" title=\"Show this on SHEBANQ\" sec=\"Genesis 2:4\">Genesis 2:4</a></span></span>  </span></td><td class=\"tf rtl\"><span class=\"rtl ubd\"><span class=\"tfsechead rtl\"><span class=\"ltr\"><a target=\"_blank\" href=\"https://shebanq.ancient-data.org/hebrew/text?book=Genesis&amp;chapter=2&amp;verse=7&amp;version=2021&amp;mr=m&amp;qw=q&amp;tp=txt_p&amp;tr=hb&amp;wget=v&amp;qget=v&amp;nget=vt\" title=\"Show this on SHEBANQ\" sec=\"Genesis 2:7\">Genesis 2:7</a></span></span>  </span></td></tr>\n",
       "<tr class=\"tf rtl\"><td class=\"tf rtl\">4</td><td class=\"tf rtl\"><span class=\"rtl ubd\"><span class=\"plain rtl  hlbx\" ><span class=\"txtu hbo\">מִ</span><span class=\"txtu hbo\">כֹּ֣ל׀ </span><span class=\"txtu hbo\">הַ</span><span class=\"txtu hbo\">בְּהֵמָ֣ה </span><span class=\"txtu hbo\">הַ</span><span class=\"txtu hbo\">טְּהֹורָ֗ה </span><span class=\"txtu hbo\">תִּֽקַּח־</span><span class=\"txtu hbo\">לְךָ֛ </span><span class=\"txtu hbo\">שִׁבְעָ֥ה </span><span class=\"txtu hbo\">שִׁבְעָ֖ה </span><span class=\"txtu hbo\">אִ֣ישׁ </span><span class=\"txtu hbo\">וְ</span><span class=\"txtu hbo\">אִשְׁתֹּ֑ו </span><span class=\"plain rtl l \" ><span class=\"txtu hbo\">וּ</span><span class=\"txtu hbo\">מִן־</span><span class=\"txtu hbo\">הַ</span><span class=\"txtu hbo\">בְּהֵמָ֡ה </span></span><span class=\"txtu hbo\">אֲ֠שֶׁר </span><span class=\"txtu hbo\">לֹ֣א </span><span class=\"txtu hbo\">טְהֹרָ֥ה </span><span class=\"txtu hbo\">הִ֛וא </span><span class=\"plain rtl r \" ><span class=\"txtu hbo\">שְׁנַ֖יִם </span><span class=\"txtu hbo\">אִ֥ישׁ </span><span class=\"txtu hbo\">וְ</span><span class=\"txtu hbo\">אִשְׁתֹּֽו׃ </span></span><span class=\"txtu hbo\">גַּ֣ם </span><span class=\"txtu hbo\">מֵ</span><span class=\"txtu hbo\">עֹ֧וף </span><span class=\"txtu hbo\">הַ</span><span class=\"txtu hbo\">שָּׁמַ֛יִם </span><span class=\"txtu hbo\">שִׁבְעָ֥ה </span><span class=\"txtu hbo\">שִׁבְעָ֖ה </span><span class=\"txtu hbo\">זָכָ֣ר </span><span class=\"txtu hbo\">וּ</span><span class=\"txtu hbo\">נְקֵבָ֑ה </span><span class=\"txtu hbo\">לְ</span><span class=\"txtu hbo\">חַיֹּ֥ות </span><span class=\"txtu hbo\">זֶ֖רַע </span><span class=\"txtu hbo\">עַל־</span><span class=\"txtu hbo\">פְּנֵ֥י </span><span class=\"txtu hbo\">כָל־</span><span class=\"txtu hbo\">הָ</span><span class=\"txtu hbo\">אָֽרֶץ׃ </span></span></span></td><td class=\"tf rtl\"><span class=\"rtl ubd\"><span class=\"tfsechead rtl\"><span class=\"ltr\"><a target=\"_blank\" href=\"https://shebanq.ancient-data.org/hebrew/text?book=Genesis&amp;chapter=7&amp;verse=2&amp;version=2021&amp;mr=m&amp;qw=q&amp;tp=txt_p&amp;tr=hb&amp;wget=v&amp;qget=v&amp;nget=vt\" title=\"Show this on SHEBANQ\" sec=\"Genesis 7:2\">Genesis 7:2</a></span></span>  </span></td><td class=\"tf rtl\"><span class=\"rtl ubd\"><span class=\"tfsechead rtl\"><span class=\"ltr\"><a target=\"_blank\" href=\"https://shebanq.ancient-data.org/hebrew/text?book=Genesis&amp;chapter=7&amp;verse=3&amp;version=2021&amp;mr=m&amp;qw=q&amp;tp=txt_p&amp;tr=hb&amp;wget=v&amp;qget=v&amp;nget=vt\" title=\"Show this on SHEBANQ\" sec=\"Genesis 7:3\">Genesis 7:3</a></span></span>  </span></td></tr>\n",
       "<tr class=\"tf rtl\"><td class=\"tf rtl\">5</td><td class=\"tf rtl\"><span class=\"rtl ubd\"><span class=\"plain rtl  hlbx\" ><span class=\"plain rtl l \" ><span class=\"plain rtl l \" ><span class=\"txtu hbo\">מִן־</span><span class=\"txtu hbo\">הַ</span><span class=\"txtu hbo\">בְּהֵמָה֙ </span><span class=\"txtu hbo\">הַ</span><span class=\"txtu hbo\">טְּהֹורָ֔ה </span><span class=\"txtu hbo\">וּ</span><span class=\"txtu hbo\">מִן־</span><span class=\"txtu hbo\">הַ֨</span><span class=\"txtu hbo\">בְּהֵמָ֔ה </span></span></span><span class=\"txtu hbo\">אֲשֶׁ֥ר </span><span class=\"txtu hbo\">אֵינֶ֖נָּה </span><span class=\"txtu hbo\">טְהֹרָ֑ה </span><span class=\"plain rtl r \" ><span class=\"txtu hbo\">וּ</span><span class=\"txtu hbo\">מִ֨ן־</span><span class=\"txtu hbo\">הָ</span><span class=\"txtu hbo\">עֹ֔וף </span><span class=\"txtu hbo\">וְ</span><span class=\"txtu hbo\">כֹ֥ל </span></span><span class=\"txtu hbo\">אֲשֶׁר־</span><span class=\"txtu hbo\">רֹמֵ֖שׂ </span><span class=\"txtu hbo\">עַל־</span><span class=\"txtu hbo\">הָֽ</span><span class=\"txtu hbo\">אֲדָמָֽה׃ </span><span class=\"plain rtl r \" ><span class=\"txtu hbo\">שְׁנַ֨יִם </span><span class=\"txtu hbo\">שְׁנַ֜יִם </span><span class=\"txtu hbo\">בָּ֧אוּ </span><span class=\"txtu hbo\">אֶל־</span><span class=\"txtu hbo\">נֹ֛חַ </span><span class=\"txtu hbo\">אֶל־</span><span class=\"txtu hbo\">הַ</span><span class=\"txtu hbo\">תֵּבָ֖ה </span><span class=\"txtu hbo\">זָכָ֣ר </span><span class=\"txtu hbo\">וּ</span><span class=\"txtu hbo\">נְקֵבָ֑ה </span></span><span class=\"txtu hbo\">כַּֽ</span><span class=\"txtu hbo\">אֲשֶׁ֛ר </span><span class=\"txtu hbo\">צִוָּ֥ה </span><span class=\"txtu hbo\">אֱלֹהִ֖ים </span><span class=\"txtu hbo\">אֶת־</span><span class=\"txtu hbo\">נֹֽחַ׃ </span></span></span></td><td class=\"tf rtl\"><span class=\"rtl ubd\"><span class=\"tfsechead rtl\"><span class=\"ltr\"><a target=\"_blank\" href=\"https://shebanq.ancient-data.org/hebrew/text?book=Genesis&amp;chapter=7&amp;verse=8&amp;version=2021&amp;mr=m&amp;qw=q&amp;tp=txt_p&amp;tr=hb&amp;wget=v&amp;qget=v&amp;nget=vt\" title=\"Show this on SHEBANQ\" sec=\"Genesis 7:8\">Genesis 7:8</a></span></span>  </span></td><td class=\"tf rtl\"><span class=\"rtl ubd\"><span class=\"tfsechead rtl\"><span class=\"ltr\"><a target=\"_blank\" href=\"https://shebanq.ancient-data.org/hebrew/text?book=Genesis&amp;chapter=7&amp;verse=9&amp;version=2021&amp;mr=m&amp;qw=q&amp;tp=txt_p&amp;tr=hb&amp;wget=v&amp;qget=v&amp;nget=vt\" title=\"Show this on SHEBANQ\" sec=\"Genesis 7:9\">Genesis 7:9</a></span></span>  </span></td></tr>\n",
       "<tr class=\"tf rtl\"><td class=\"tf rtl\">6</td><td class=\"tf rtl\"><span class=\"rtl ubd\"><span class=\"plain rtl  hlbx\" ><span class=\"txtu hbo\">בְּ</span><span class=\"txtu hbo\">עֶ֨צֶם </span><span class=\"txtu hbo\">הַ</span><span class=\"txtu hbo\">יֹּ֤ום </span><span class=\"txtu hbo\">הַ</span><span class=\"txtu hbo\">זֶּה֙ </span><span class=\"txtu hbo\">בָּ֣א </span><span class=\"txtu hbo\">נֹ֔חַ </span><span class=\"txtu hbo\">וְ</span><span class=\"txtu hbo\">שֵׁם־</span><span class=\"txtu hbo\">וְ</span><span class=\"txtu hbo\">חָ֥ם </span><span class=\"txtu hbo\">וָ</span><span class=\"txtu hbo\">יֶ֖פֶת </span><span class=\"txtu hbo\">בְּנֵי־</span><span class=\"txtu hbo\">נֹ֑חַ </span><span class=\"txtu hbo\">וְ</span><span class=\"txtu hbo\">אֵ֣שֶׁת </span><span class=\"txtu hbo\">נֹ֗חַ </span><span class=\"txtu hbo\">וּ</span><span class=\"txtu hbo\">שְׁלֹ֧שֶׁת </span><span class=\"txtu hbo\">נְשֵֽׁי־</span><span class=\"txtu hbo\">בָנָ֛יו </span><span class=\"txtu hbo\">אִתָּ֖ם </span><span class=\"txtu hbo\">אֶל־</span><span class=\"txtu hbo\">הַ</span><span class=\"txtu hbo\">תֵּבָֽה׃ </span><span class=\"plain rtl l \" ><span class=\"plain rtl l \" ><span class=\"txtu hbo\">הֵ֜מָּה </span><span class=\"txtu hbo\">וְ</span><span class=\"txtu hbo\">כָל־</span><span class=\"txtu hbo\">הַֽ</span><span class=\"txtu hbo\">חַיָּ֣ה </span><span class=\"txtu hbo\">לְ</span><span class=\"txtu hbo\">מִינָ֗הּ </span><span class=\"txtu hbo\">וְ</span><span class=\"txtu hbo\">כָל־</span><span class=\"txtu hbo\">הַ</span><span class=\"txtu hbo\">בְּהֵמָה֙ </span><span class=\"txtu hbo\">לְ</span><span class=\"txtu hbo\">מִינָ֔הּ </span><span class=\"txtu hbo\">וְ</span><span class=\"txtu hbo\">כָל־</span><span class=\"txtu hbo\">הָ</span><span class=\"txtu hbo\">רֶ֛מֶשׂ </span></span></span><span class=\"txtu hbo\">הָ</span><span class=\"txtu hbo\">רֹמֵ֥שׂ </span><span class=\"txtu hbo\">עַל־</span><span class=\"txtu hbo\">הָ</span><span class=\"txtu hbo\">אָ֖רֶץ </span><span class=\"plain rtl r \" ><span class=\"plain rtl r \" ><span class=\"txtu hbo\">לְ</span><span class=\"txtu hbo\">מִינֵ֑הוּ </span><span class=\"txtu hbo\">וְ</span><span class=\"txtu hbo\">כָל־</span><span class=\"txtu hbo\">הָ</span><span class=\"txtu hbo\">עֹ֣וף </span><span class=\"txtu hbo\">לְ</span><span class=\"txtu hbo\">מִינֵ֔הוּ </span><span class=\"txtu hbo\">כֹּ֖ל </span><span class=\"txtu hbo\">צִפֹּ֥ור </span><span class=\"txtu hbo\">כָּל־</span><span class=\"txtu hbo\">כָּנָֽף׃ </span></span></span></span></span></td><td class=\"tf rtl\"><span class=\"rtl ubd\"><span class=\"tfsechead rtl\"><span class=\"ltr\"><a target=\"_blank\" href=\"https://shebanq.ancient-data.org/hebrew/text?book=Genesis&amp;chapter=7&amp;verse=13&amp;version=2021&amp;mr=m&amp;qw=q&amp;tp=txt_p&amp;tr=hb&amp;wget=v&amp;qget=v&amp;nget=vt\" title=\"Show this on SHEBANQ\" sec=\"Genesis 7:13\">Genesis 7:13</a></span></span>  </span></td><td class=\"tf rtl\"><span class=\"rtl ubd\"><span class=\"tfsechead rtl\"><span class=\"ltr\"><a target=\"_blank\" href=\"https://shebanq.ancient-data.org/hebrew/text?book=Genesis&amp;chapter=7&amp;verse=14&amp;version=2021&amp;mr=m&amp;qw=q&amp;tp=txt_p&amp;tr=hb&amp;wget=v&amp;qget=v&amp;nget=vt\" title=\"Show this on SHEBANQ\" sec=\"Genesis 7:14\">Genesis 7:14</a></span></span>  </span></td></tr>\n",
       "<tr class=\"tf rtl\"><td class=\"tf rtl\">7</td><td class=\"tf rtl\"><span class=\"rtl ubd\"><span class=\"plain rtl  hlbx\" ><span class=\"txtu hbo\">וַ</span><span class=\"txtu hbo\">אֲנִ֕י </span><span class=\"txtu hbo\">הִנְנִ֥י </span><span class=\"txtu hbo\">מֵקִ֛ים </span><span class=\"txtu hbo\">אֶת־</span><span class=\"txtu hbo\">בְּרִיתִ֖י </span><span class=\"txtu hbo\">אִתְּכֶ֑ם </span><span class=\"txtu hbo\">וְ</span><span class=\"txtu hbo\">אֶֽת־</span><span class=\"txtu hbo\">זַרְעֲכֶ֖ם </span><span class=\"txtu hbo\">אַֽחֲרֵיכֶֽם׃ </span><span class=\"plain rtl l \" ><span class=\"txtu hbo\">וְ</span><span class=\"txtu hbo\">אֵ֨ת </span><span class=\"txtu hbo\">כָּל־</span><span class=\"txtu hbo\">נֶ֤פֶשׁ </span><span class=\"txtu hbo\">הַֽ</span><span class=\"txtu hbo\">חַיָּה֙ </span></span><span class=\"txtu hbo\">אֲשֶׁ֣ר </span><span class=\"txtu hbo\">אִתְּכֶ֔ם </span><span class=\"plain rtl r \" ><span class=\"txtu hbo\">בָּ</span><span class=\"txtu hbo\">עֹ֧וף </span><span class=\"txtu hbo\">בַּ</span><span class=\"txtu hbo\">בְּהֵמָ֛ה </span><span class=\"txtu hbo\">וּֽ</span><span class=\"txtu hbo\">בְ</span><span class=\"txtu hbo\">כָל־</span><span class=\"txtu hbo\">חַיַּ֥ת </span><span class=\"txtu hbo\">הָ</span><span class=\"txtu hbo\">אָ֖רֶץ </span><span class=\"txtu hbo\">אִתְּכֶ֑ם </span></span><span class=\"plain rtl l \" ><span class=\"txtu hbo\">מִ</span><span class=\"txtu hbo\">כֹּל֙ </span></span><span class=\"txtu hbo\">יֹצְאֵ֣י </span><span class=\"txtu hbo\">הַ</span><span class=\"txtu hbo\">תֵּבָ֔ה </span><span class=\"plain rtl r \" ><span class=\"txtu hbo\">לְ</span><span class=\"txtu hbo\">כֹ֖ל </span><span class=\"txtu hbo\">חַיַּ֥ת </span><span class=\"txtu hbo\">הָ</span><span class=\"txtu hbo\">אָֽרֶץ׃ </span></span></span></span></td><td class=\"tf rtl\"><span class=\"rtl ubd\"><span class=\"tfsechead rtl\"><span class=\"ltr\"><a target=\"_blank\" href=\"https://shebanq.ancient-data.org/hebrew/text?book=Genesis&amp;chapter=9&amp;verse=9&amp;version=2021&amp;mr=m&amp;qw=q&amp;tp=txt_p&amp;tr=hb&amp;wget=v&amp;qget=v&amp;nget=vt\" title=\"Show this on SHEBANQ\" sec=\"Genesis 9:9\">Genesis 9:9</a></span></span>  </span></td><td class=\"tf rtl\"><span class=\"rtl ubd\"><span class=\"tfsechead rtl\"><span class=\"ltr\"><a target=\"_blank\" href=\"https://shebanq.ancient-data.org/hebrew/text?book=Genesis&amp;chapter=9&amp;verse=10&amp;version=2021&amp;mr=m&amp;qw=q&amp;tp=txt_p&amp;tr=hb&amp;wget=v&amp;qget=v&amp;nget=vt\" title=\"Show this on SHEBANQ\" sec=\"Genesis 9:10\">Genesis 9:10</a></span></span>  </span></td></tr>\n",
       "<tr class=\"tf rtl\"><td class=\"tf rtl\">8</td><td class=\"tf rtl\"><span class=\"rtl ubd\"><span class=\"plain rtl  hlbx\" ><span class=\"txtu hbo\">וַ</span><span class=\"txtu hbo\">יִּ֨בֶן֙ </span><span class=\"txtu hbo\">אֶת־</span><span class=\"txtu hbo\">נִ֣ינְוֵ֔ה </span><span class=\"txtu hbo\">וְ</span><span class=\"txtu hbo\">אֶת־</span><span class=\"txtu hbo\">רְחֹבֹ֥ת עִ֖יר </span><span class=\"txtu hbo\">וְ</span><span class=\"txtu hbo\">אֶת־</span><span class=\"txtu hbo\">כָּֽלַח׃ </span><span class=\"txtu hbo\">וְֽ</span><span class=\"txtu hbo\">אֶת־</span><span class=\"txtu hbo\">רֶ֔סֶן </span><span class=\"txtu hbo\">בֵּ֥ין </span><span class=\"txtu hbo\">נִֽינְוֵ֖ה </span><span class=\"txtu hbo\">וּ</span><span class=\"txtu hbo\">בֵ֣ין </span><span class=\"txtu hbo\">כָּ֑לַח </span></span></span></td><td class=\"tf rtl\"><span class=\"rtl ubd\"><span class=\"tfsechead rtl\"><span class=\"ltr\"><a target=\"_blank\" href=\"https://shebanq.ancient-data.org/hebrew/text?book=Genesis&amp;chapter=10&amp;verse=11&amp;version=2021&amp;mr=m&amp;qw=q&amp;tp=txt_p&amp;tr=hb&amp;wget=v&amp;qget=v&amp;nget=vt\" title=\"Show this on SHEBANQ\" sec=\"Genesis 10:11\">Genesis 10:11</a></span></span>  </span></td><td class=\"tf rtl\"><span class=\"rtl ubd\"><span class=\"tfsechead rtl\"><span class=\"ltr\"><a target=\"_blank\" href=\"https://shebanq.ancient-data.org/hebrew/text?book=Genesis&amp;chapter=10&amp;verse=12&amp;version=2021&amp;mr=m&amp;qw=q&amp;tp=txt_p&amp;tr=hb&amp;wget=v&amp;qget=v&amp;nget=vt\" title=\"Show this on SHEBANQ\" sec=\"Genesis 10:12\">Genesis 10:12</a></span></span>  </span></td></tr>\n",
       "<tr class=\"tf rtl\"><td class=\"tf rtl\">9</td><td class=\"tf rtl\"><span class=\"rtl ubd\"><span class=\"plain rtl  hlbx\" ><span class=\"txtu hbo\">וּ</span><span class=\"txtu hbo\">מִצְרַ֡יִם </span><span class=\"txtu hbo\">יָלַ֞ד </span><span class=\"txtu hbo\">אֶת־</span><span class=\"txtu hbo\">לוּדִ֧ים </span><span class=\"txtu hbo\">וְ</span><span class=\"txtu hbo\">אֶת־</span><span class=\"txtu hbo\">עֲנָמִ֛ים </span><span class=\"txtu hbo\">וְ</span><span class=\"txtu hbo\">אֶת־</span><span class=\"txtu hbo\">לְהָבִ֖ים </span><span class=\"txtu hbo\">וְ</span><span class=\"txtu hbo\">אֶת־</span><span class=\"txtu hbo\">נַפְתֻּחִֽים׃ </span><span class=\"plain rtl l \" ><span class=\"txtu hbo\">וְֽ</span><span class=\"plain rtl l \" ><span class=\"txtu hbo\">אֶת־</span><span class=\"txtu hbo\">פַּתְרֻסִ֞ים </span><span class=\"txtu hbo\">וְ</span><span class=\"txtu hbo\">אֶת־</span><span class=\"txtu hbo\">כַּסְלֻחִ֗ים </span></span></span><span class=\"txtu hbo\">אֲשֶׁ֨ר </span><span class=\"txtu hbo\">יָצְא֥וּ </span><span class=\"txtu hbo\">מִ</span><span class=\"txtu hbo\">שָּׁ֛ם </span><span class=\"txtu hbo\">פְּלִשְׁתִּ֖ים </span><span class=\"plain rtl r \" ><span class=\"plain rtl r \" ><span class=\"txtu hbo\">וְ</span><span class=\"txtu hbo\">אֶת־</span><span class=\"txtu hbo\">כַּפְתֹּרִֽים׃ ס </span></span></span></span></span></td><td class=\"tf rtl\"><span class=\"rtl ubd\"><span class=\"tfsechead rtl\"><span class=\"ltr\"><a target=\"_blank\" href=\"https://shebanq.ancient-data.org/hebrew/text?book=Genesis&amp;chapter=10&amp;verse=13&amp;version=2021&amp;mr=m&amp;qw=q&amp;tp=txt_p&amp;tr=hb&amp;wget=v&amp;qget=v&amp;nget=vt\" title=\"Show this on SHEBANQ\" sec=\"Genesis 10:13\">Genesis 10:13</a></span></span>  </span></td><td class=\"tf rtl\"><span class=\"rtl ubd\"><span class=\"tfsechead rtl\"><span class=\"ltr\"><a target=\"_blank\" href=\"https://shebanq.ancient-data.org/hebrew/text?book=Genesis&amp;chapter=10&amp;verse=14&amp;version=2021&amp;mr=m&amp;qw=q&amp;tp=txt_p&amp;tr=hb&amp;wget=v&amp;qget=v&amp;nget=vt\" title=\"Show this on SHEBANQ\" sec=\"Genesis 10:14\">Genesis 10:14</a></span></span>  </span></td></tr>\n",
       "<tr class=\"tf rtl\"><td class=\"tf rtl\">10</td><td class=\"tf rtl\"><span class=\"rtl ubd\"><span class=\"plain rtl  hlbx\" ><span class=\"txtu hbo\">וּ</span><span class=\"txtu hbo\">כְנַ֗עַן </span><span class=\"txtu hbo\">יָלַ֛ד </span><span class=\"txtu hbo\">אֶת־</span><span class=\"txtu hbo\">צִידֹ֥ן </span><span class=\"txtu hbo\">בְּכֹרֹ֖ו </span><span class=\"txtu hbo\">וְ</span><span class=\"txtu hbo\">אֶת־</span><span class=\"txtu hbo\">חֵֽת׃ </span><span class=\"txtu hbo\">וְ</span><span class=\"txtu hbo\">אֶת־</span><span class=\"txtu hbo\">הַ</span><span class=\"txtu hbo\">יְבוּסִי֙ </span><span class=\"txtu hbo\">וְ</span><span class=\"txtu hbo\">אֶת־</span><span class=\"txtu hbo\">הָ֣</span><span class=\"txtu hbo\">אֱמֹרִ֔י </span><span class=\"txtu hbo\">וְ</span><span class=\"txtu hbo\">אֵ֖ת </span><span class=\"txtu hbo\">הַ</span><span class=\"txtu hbo\">גִּרְגָּשִֽׁי׃ </span><span class=\"txtu hbo\">וְ</span><span class=\"txtu hbo\">אֶת־</span><span class=\"txtu hbo\">הַֽ</span><span class=\"txtu hbo\">חִוִּ֥י </span><span class=\"txtu hbo\">וְ</span><span class=\"txtu hbo\">אֶת־</span><span class=\"txtu hbo\">הַֽ</span><span class=\"txtu hbo\">עַרְקִ֖י </span><span class=\"txtu hbo\">וְ</span><span class=\"txtu hbo\">אֶת־</span><span class=\"txtu hbo\">הַ</span><span class=\"txtu hbo\">סִּינִֽי׃ </span><span class=\"txtu hbo\">וְ</span><span class=\"txtu hbo\">אֶת־</span><span class=\"txtu hbo\">הָֽ</span><span class=\"txtu hbo\">אַרְוָדִ֥י </span><span class=\"txtu hbo\">וְ</span><span class=\"txtu hbo\">אֶת־</span><span class=\"txtu hbo\">הַ</span><span class=\"txtu hbo\">צְּמָרִ֖י </span><span class=\"txtu hbo\">וְ</span><span class=\"txtu hbo\">אֶת־</span><span class=\"txtu hbo\">הַֽ</span><span class=\"txtu hbo\">חֲמָתִ֑י </span></span></span></td><td class=\"tf rtl\"><span class=\"rtl ubd\"><span class=\"tfsechead rtl\"><span class=\"ltr\"><a target=\"_blank\" href=\"https://shebanq.ancient-data.org/hebrew/text?book=Genesis&amp;chapter=10&amp;verse=15&amp;version=2021&amp;mr=m&amp;qw=q&amp;tp=txt_p&amp;tr=hb&amp;wget=v&amp;qget=v&amp;nget=vt\" title=\"Show this on SHEBANQ\" sec=\"Genesis 10:15\">Genesis 10:15</a></span></span>  </span></td><td class=\"tf rtl\"><span class=\"rtl ubd\"><span class=\"tfsechead rtl\"><span class=\"ltr\"><a target=\"_blank\" href=\"https://shebanq.ancient-data.org/hebrew/text?book=Genesis&amp;chapter=10&amp;verse=18&amp;version=2021&amp;mr=m&amp;qw=q&amp;tp=txt_p&amp;tr=hb&amp;wget=v&amp;qget=v&amp;nget=vt\" title=\"Show this on SHEBANQ\" sec=\"Genesis 10:18\">Genesis 10:18</a></span></span>  </span></td></tr></table>"
      ],
      "text/plain": [
       "<IPython.core.display.HTML object>"
      ]
     },
     "metadata": {},
     "output_type": "display_data"
    }
   ],
   "source": [
    "A.table(spanSentences, end=10, withPassage={2, 3})"
   ]
  },
  {
   "cell_type": "markdown",
   "metadata": {},
   "source": [
    "We can zoom in:"
   ]
  },
  {
   "cell_type": "code",
   "execution_count": 60,
   "metadata": {
    "ExecuteTime": {
     "end_time": "2018-05-18T09:20:03.251841Z",
     "start_time": "2018-05-18T09:20:03.227631Z"
    }
   },
   "outputs": [
    {
     "data": {
      "text/html": [
       "<p><b>result</b> <i>6</i></p>"
      ],
      "text/plain": [
       "<IPython.core.display.HTML object>"
      ]
     },
     "metadata": {},
     "output_type": "display_data"
    },
    {
     "data": {
      "text/html": [
       "<div class=\"tfsechead rtl\"><span class=\"ltr\"><a target=\"_blank\" href=\"https://shebanq.ancient-data.org/hebrew/text?book=Genesis&amp;chapter=7&amp;verse=13&amp;version=2021&amp;mr=m&amp;qw=q&amp;tp=txt_p&amp;tr=hb&amp;wget=v&amp;qget=v&amp;nget=vt\" title=\"Show this on SHEBANQ\" sec=\"Genesis 7:13\">Genesis 7:13</a></span></div><div class=\"rtl children\"><div class=\"contnr c3  rtl  \" ><div class=\"lbl c3  \" ><span class=\"nd\">verse</span></div><div class=\"children hor wrap rtl\"><div class=\"contnr c2  rtl lno hl\" ><div class=\"lbl c2  hl\" ><span class=\"nd\">sentence</span></div><div class=\"children hor wrap rtl\"><div class=\"contnr c2 trm rtl  \" ><div class=\"lbl c2 trm \" ><span class=\"nd\">clause</span> <span class=\"\"><span class=\"plain rtl  \" ><span class=\"txtu hbo\">בְּ</span><span class=\"txtu hbo\">עֶ֨צֶם </span><span class=\"txtu hbo\">הַ</span><span class=\"txtu hbo\">יֹּ֤ום </span><span class=\"txtu hbo\">הַ</span><span class=\"txtu hbo\">זֶּה֙ </span><span class=\"txtu hbo\">בָּ֣א </span><span class=\"txtu hbo\">נֹ֔חַ </span><span class=\"txtu hbo\">וְ</span><span class=\"txtu hbo\">שֵׁם־</span><span class=\"txtu hbo\">וְ</span><span class=\"txtu hbo\">חָ֥ם </span><span class=\"txtu hbo\">וָ</span><span class=\"txtu hbo\">יֶ֖פֶת </span><span class=\"txtu hbo\">בְּנֵי־</span><span class=\"txtu hbo\">נֹ֑חַ </span><span class=\"txtu hbo\">וְ</span><span class=\"txtu hbo\">אֵ֣שֶׁת </span><span class=\"txtu hbo\">נֹ֗חַ </span><span class=\"txtu hbo\">וּ</span><span class=\"txtu hbo\">שְׁלֹ֧שֶׁת </span><span class=\"txtu hbo\">נְשֵֽׁי־</span><span class=\"txtu hbo\">בָנָ֛יו </span><span class=\"txtu hbo\">אִתָּ֖ם </span><span class=\"txtu hbo\">אֶל־</span><span class=\"txtu hbo\">הַ</span><span class=\"txtu hbo\">תֵּבָֽה׃ </span></span></span></div></div></div></div></div></div></div>"
      ],
      "text/plain": [
       "<IPython.core.display.HTML object>"
      ]
     },
     "metadata": {},
     "output_type": "display_data"
    },
    {
     "data": {
      "text/html": [
       "<div class=\"tfsechead rtl\"><span class=\"ltr\"><a target=\"_blank\" href=\"https://shebanq.ancient-data.org/hebrew/text?book=Genesis&amp;chapter=7&amp;verse=14&amp;version=2021&amp;mr=m&amp;qw=q&amp;tp=txt_p&amp;tr=hb&amp;wget=v&amp;qget=v&amp;nget=vt\" title=\"Show this on SHEBANQ\" sec=\"Genesis 7:14\">Genesis 7:14</a></span></div><div class=\"rtl children\"><div class=\"contnr c3  rtl  \" ><div class=\"lbl c3  \" ><span class=\"nd\">verse</span></div><div class=\"children hor wrap rtl\"><div class=\"contnr c2  rtl rno hl\" ><div class=\"lbl c2  hl\" ><span class=\"nd\">sentence</span></div><div class=\"children hor wrap rtl\"><div class=\"contnr c2 trm rtl l \" ><div class=\"lbl c2 trm \" ><span class=\"nd\">clause</span> <span class=\"\"><span class=\"plain rtl l \" ><span class=\"plain rtl l \" ><span class=\"txtu hbo\">הֵ֜מָּה </span><span class=\"txtu hbo\">וְ</span><span class=\"txtu hbo\">כָל־</span><span class=\"txtu hbo\">הַֽ</span><span class=\"txtu hbo\">חַיָּ֣ה </span><span class=\"txtu hbo\">לְ</span><span class=\"txtu hbo\">מִינָ֗הּ </span><span class=\"txtu hbo\">וְ</span><span class=\"txtu hbo\">כָל־</span><span class=\"txtu hbo\">הַ</span><span class=\"txtu hbo\">בְּהֵמָה֙ </span><span class=\"txtu hbo\">לְ</span><span class=\"txtu hbo\">מִינָ֔הּ </span><span class=\"txtu hbo\">וְ</span><span class=\"txtu hbo\">כָל־</span><span class=\"txtu hbo\">הָ</span><span class=\"txtu hbo\">רֶ֛מֶשׂ </span></span></span></span></div></div><div class=\"contnr c2 trm rtl  \" ><div class=\"lbl c2 trm \" ><span class=\"nd\">clause</span> <span class=\"\"><span class=\"plain rtl  \" ><span class=\"txtu hbo\">הָ</span><span class=\"txtu hbo\">רֹמֵ֥שׂ </span><span class=\"txtu hbo\">עַל־</span><span class=\"txtu hbo\">הָ</span><span class=\"txtu hbo\">אָ֖רֶץ </span></span></span></div></div><div class=\"contnr c2 trm rtl r \" ><div class=\"lbl c2 trm \" ><span class=\"nd\">clause</span> <span class=\"\"><span class=\"plain rtl r \" ><span class=\"plain rtl r \" ><span class=\"txtu hbo\">לְ</span><span class=\"txtu hbo\">מִינֵ֑הוּ </span><span class=\"txtu hbo\">וְ</span><span class=\"txtu hbo\">כָל־</span><span class=\"txtu hbo\">הָ</span><span class=\"txtu hbo\">עֹ֣וף </span><span class=\"txtu hbo\">לְ</span><span class=\"txtu hbo\">מִינֵ֔הוּ </span><span class=\"txtu hbo\">כֹּ֖ל </span><span class=\"txtu hbo\">צִפֹּ֥ור </span><span class=\"txtu hbo\">כָּל־</span><span class=\"txtu hbo\">כָּנָֽף׃ </span></span></span></span></div></div></div></div></div></div></div>"
      ],
      "text/plain": [
       "<IPython.core.display.HTML object>"
      ]
     },
     "metadata": {},
     "output_type": "display_data"
    }
   ],
   "source": [
    "A.show(spanSentences, condensed=False, start=6, end=6, baseTypes={\"sentence_atom\"})"
   ]
  },
  {
   "cell_type": "markdown",
   "metadata": {},
   "source": [
    "# Ketiv Qere\n",
    "Let us explore where Ketiv/Qere pairs are and how they render."
   ]
  },
  {
   "cell_type": "code",
   "execution_count": 61,
   "metadata": {
    "ExecuteTime": {
     "end_time": "2018-05-18T09:20:09.687854Z",
     "start_time": "2018-05-18T09:20:09.498982Z"
    },
    "tags": []
   },
   "outputs": [
    {
     "name": "stdout",
     "output_type": "stream",
     "text": [
      "1892 qeres\n",
      "3897: ketiv = \"*HWY>\"+\" \" qere = \"HAJ:Y;74>\"+\" \"\n",
      "4420: ketiv = \"*>HLH\"+\"00 \" qere = \">@H:@LO75W\"+\"00\"\n",
      "5645: ketiv = \"*>HLH\"+\" \" qere = \">@H:@LO92W\"+\" \"\n",
      "5912: ketiv = \"*>HLH\"+\" \" qere = \">@95H:@LOW03\"+\" \"\n",
      "6246: ketiv = \"*YBJJM\"+\" \" qere = \"Y:BOWJI80m\"+\" \"\n",
      "6354: ketiv = \"*YBJJM\"+\" \" qere = \"Y:BOWJI80m\"+\" \"\n",
      "11762: ketiv = \"*W-\"+\"\" qere = \"WA\"+\"\"\n",
      "11763: ketiv = \"*JJFM\"+\" \" qere = \"J.W.FA70m\"+\" \"\n",
      "12784: ketiv = \"*GJJM\"+\" \" qere = \"GOWJIm03\"+\" \"\n",
      "13685: ketiv = \"*YJDH\"+\"00 \" qere = \"Y@75JID\"+\"00\"\n"
     ]
    }
   ],
   "source": [
    "qeres = [w for w in F.otype.s(\"word\") if F.qere.v(w) is not None]\n",
    "print(\"{} qeres\".format(len(qeres)))\n",
    "for w in qeres[0:10]:\n",
    "    print(\n",
    "        '{}: ketiv = \"{}\"+\"{}\" qere = \"{}\"+\"{}\"'.format(\n",
    "            w,\n",
    "            F.g_word.v(w),\n",
    "            F.trailer.v(w),\n",
    "            F.qere.v(w),\n",
    "            F.qere_trailer.v(w),\n",
    "        )\n",
    "    )"
   ]
  },
  {
   "cell_type": "markdown",
   "metadata": {},
   "source": [
    "## Show a ketiv-qere pair\n",
    "Let us print all text representations of the verse in which the second qere occurs."
   ]
  },
  {
   "cell_type": "code",
   "execution_count": 62,
   "metadata": {
    "ExecuteTime": {
     "end_time": "2018-05-18T09:20:11.158371Z",
     "start_time": "2018-05-18T09:20:11.149950Z"
    }
   },
   "outputs": [
    {
     "name": "stdout",
     "output_type": "stream",
     "text": [
      "Reference word is 4420\n",
      "Genesis 9:21\n",
      "text-orig-full            וַיֵּ֥שְׁתְּ מִן־הַיַּ֖יִן וַיִּשְׁכָּ֑ר וַיִּתְגַּ֖ל בְּתֹ֥וךְ אָהֳלֹֽו׃\n",
      "text-orig-full-ketiv      וַיֵּ֥שְׁתְּ מִן־הַיַּ֖יִן וַיִּשְׁכָּ֑ר וַיִּתְגַּ֖ל בְּתֹ֥וךְ אהלה׃ \n",
      "text-orig-plain           וישׁת מן־היין וישׁכר ויתגל בתוך אהלה׃ \n",
      "text-phono-full           wayyˌēšt min-hayyˌayin wayyiškˈār wayyiṯgˌal bᵊṯˌôḵ *ʔohᵒlˈô .\n",
      "text-trans-full           WA-J.;71C:T.: MIN&HA-J.A73JIN WA-J.IC:K.@92R WA-J.IT:G.A73L B.:-TO71WK: >@H:@LO75W00\n",
      "text-trans-full-ketiv     WA-J.;71C:T.: MIN&HA-J.A73JIN WA-J.IC:K.@92R WA-J.IT:G.A73L B.:-TO71WK: *>HLH00 \n",
      "text-trans-plain          WJCT MN&HJJN WJCKR WJTGL BTWK >HLH00 \n"
     ]
    }
   ],
   "source": [
    "refWord = qeres[1]\n",
    "print(f\"Reference word is {refWord}\")\n",
    "vn = L.u(refWord, otype=\"verse\")[0]\n",
    "print(\"{} {}:{}\".format(*T.sectionFromNode(refWord)))\n",
    "for fmt in sorted(T.formats):\n",
    "    if fmt.startswith(\"text-\"):\n",
    "        print(\"{:<25} {}\".format(fmt, T.text(vn, fmt=fmt, descend=True)))"
   ]
  },
  {
   "cell_type": "markdown",
   "metadata": {},
   "source": [
    "# Edge features: mother\n",
    "\n",
    "We have not talked about edges much. If the nodes correspond to the rows in the big spreadsheet,\n",
    "the edges point from one row to another.\n",
    "\n",
    "One edge we have encountered: the special feature `oslots`.\n",
    "Each non-slot node is linked by `oslots` to all of its slot nodes.\n",
    "\n",
    "An edge is really a feature as well.\n",
    "Whereas a node feature is a column of information,\n",
    "one cell per node,\n",
    "an edge feature is also a column of information, one cell per pair of nodes.\n",
    "\n",
    "Linguists use more relationships between textual objects, for example:\n",
    "linguistic dependency.\n",
    "In the BHSA all cases of linguistic dependency are coded in the edge feature `mother`.\n",
    "\n",
    "Let us do a few basic enquiry on an edge feature:\n",
    "[mother](https://etcbc.github.io/bhsa/features/hebrew/2017/mother).\n",
    "\n",
    "We count how many mothers nodes can have (it turns to be 0 or 1).\n",
    "We walk through all nodes and per node we retrieve the mother nodes, and\n",
    "we store the lengths (if non-zero) in a dictionary (`mother_len`).\n",
    "\n",
    "We see that nodes have at most one mother.\n",
    "\n",
    "We also count the inverse relationship: daughters."
   ]
  },
  {
   "cell_type": "code",
   "execution_count": 63,
   "metadata": {
    "ExecuteTime": {
     "end_time": "2018-05-18T09:20:24.066854Z",
     "start_time": "2018-05-18T09:20:20.609907Z"
    }
   },
   "outputs": [
    {
     "name": "stdout",
     "output_type": "stream",
     "text": [
      "  0.00s Counting mothers\n",
      "  1.70s 182269 nodes have mothers\n",
      "  1.70s 144112 nodes have daughters\n",
      "mothers Counter({1: 182269})\n",
      "daughters Counter({1: 117986, 2: 17370, 3: 6284, 4: 1851, 5: 470, 6: 125, 7: 21, 8: 5})\n"
     ]
    }
   ],
   "source": [
    "A.indent(reset=True)\n",
    "A.info(\"Counting mothers\")\n",
    "\n",
    "motherLen = {}\n",
    "daughterLen = {}\n",
    "\n",
    "for c in N.walk():\n",
    "    lms = E.mother.f(c) or []\n",
    "    lds = E.mother.t(c) or []\n",
    "    nms = len(lms)\n",
    "    nds = len(lds)\n",
    "    if nms:\n",
    "        motherLen[c] = nms\n",
    "    if nds:\n",
    "        daughterLen[c] = nds\n",
    "\n",
    "A.info(\"{} nodes have mothers\".format(len(motherLen)))\n",
    "A.info(\"{} nodes have daughters\".format(len(daughterLen)))\n",
    "\n",
    "motherCount = collections.Counter()\n",
    "daughterCount = collections.Counter()\n",
    "\n",
    "for (n, lm) in motherLen.items():\n",
    "    motherCount[lm] += 1\n",
    "for (n, ld) in daughterLen.items():\n",
    "    daughterCount[ld] += 1\n",
    "\n",
    "print(\"mothers\", motherCount)\n",
    "print(\"daughters\", daughterCount)"
   ]
  },
  {
   "cell_type": "markdown",
   "metadata": {},
   "source": [
    "# Clean caches\n",
    "\n",
    "Text-Fabric pre-computes data for you, so that it can be loaded faster.\n",
    "If the original data is updated, Text-Fabric detects it, and will recompute that data.\n",
    "\n",
    "But there are cases, when the algorithms of Text-Fabric have changed, without any changes in the data, that you might\n",
    "want to clear the cache of precomputed results.\n",
    "\n",
    "There are two ways to do that:\n",
    "\n",
    "* Locate the `.tf` directory of your dataset, and remove all `.tfx` files in it.\n",
    "  This might be a bit awkward to do, because the `.tf` directory is hidden on Unix-like systems.\n",
    "* Call `TF.clearCache()`, which does exactly the same.\n",
    "\n",
    "It is not handy to execute the following cell all the time, that's why I have commented it out.\n",
    "So if you really want to clear the cache, remove the comment sign below."
   ]
  },
  {
   "cell_type": "code",
   "execution_count": 65,
   "metadata": {},
   "outputs": [],
   "source": [
    "# TF.clearCache()"
   ]
  },
  {
   "cell_type": "markdown",
   "metadata": {},
   "source": [
    "# All steps\n",
    "\n",
    "By now you have an impression how to compute around in the Hebrew Bible.\n",
    "While this is still the beginning, I hope you already sense the power of unlimited programmatic access\n",
    "to all the bits and bytes in the data set.\n",
    "\n",
    "Here are a few directions for unleashing that power.\n",
    "\n",
    "* **start** your first step in mastering the bible computationally\n",
    "* **[display](display.ipynb)** become an expert in creating pretty displays of your text structures\n",
    "* **[search](search.ipynb)** turbo charge your hand-coding with search templates\n",
    "* **[exportExcel](exportExcel.ipynb)** make tailor-made spreadsheets out of your results\n",
    "* **[share](share.ipynb)** draw in other people's data and let them use yours\n",
    "* **[export](export.ipynb)** export your dataset as an Emdros database\n",
    "* **[annotate](annotate.ipynb)** annotate plain text by means of other tools and import the annotations as TF features\n",
    "* **[volumes](volumes.ipynb)** work with selected books only\n",
    "* **[trees](trees.ipynb)** work with the BHSA data as syntax trees\n",
    "\n",
    "CC-BY Dirk Roorda"
   ]
  }
 ],
 "metadata": {
  "jupytext": {
   "encoding": "# -*- coding: utf-8 -*-"
  },
  "kernelspec": {
   "display_name": "Python 3 (ipykernel)",
   "language": "python",
   "name": "python3"
  },
  "language_info": {
   "codemirror_mode": {
    "name": "ipython",
    "version": 3
   },
   "file_extension": ".py",
   "mimetype": "text/x-python",
   "name": "python",
   "nbconvert_exporter": "python",
   "pygments_lexer": "ipython3",
   "version": "3.9.7"
  },
  "toc": {
   "base_numbering": 1,
   "nav_menu": {},
   "number_sections": true,
   "sideBar": true,
   "skip_h1_title": false,
   "title_cell": "Table of Contents",
   "title_sidebar": "Contents",
   "toc_cell": false,
   "toc_position": {},
   "toc_section_display": "block",
   "toc_window_display": false
  },
  "widgets": {
   "application/vnd.jupyter.widget-state+json": {
    "state": {},
    "version_major": 2,
    "version_minor": 0
   }
  }
 },
 "nbformat": 4,
 "nbformat_minor": 4
}
