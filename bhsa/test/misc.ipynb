{
 "cells": [
  {
   "cell_type": "code",
   "execution_count": 1,
   "id": "64c25375-92f0-456d-8555-275bbaced283",
   "metadata": {},
   "outputs": [],
   "source": [
    "from tf.fabric import Fabric"
   ]
  },
  {
   "cell_type": "code",
   "execution_count": 1,
   "id": "06d67bc6-7f8c-4a3e-957c-07a9b1e70978",
   "metadata": {},
   "outputs": [],
   "source": [
    "%load_ext autoreload\n",
    "%autoreload 2"
   ]
  },
  {
   "cell_type": "code",
   "execution_count": 2,
   "id": "3cfea687-a2be-4237-a00e-8aca71b528cd",
   "metadata": {},
   "outputs": [
    {
     "name": "stdout",
     "output_type": "stream",
     "text": [
      "This is Text-Fabric 9.0.1\n",
      "Api reference : https://annotation.github.io/text-fabric/tf/cheatsheet.html\n",
      "\n",
      "115 features found and 0 ignored\n"
     ]
    }
   ],
   "source": [
    "TF = Fabric(locations=\"~/github/etcbc/bhsa/tf/2017\", silent=False)"
   ]
  },
  {
   "cell_type": "code",
   "execution_count": 3,
   "id": "025af594-4bd9-4fd7-8051-5e0123244bd8",
   "metadata": {},
   "outputs": [
    {
     "name": "stdout",
     "output_type": "stream",
     "text": [
      "  0.00s loading features ...\n",
      "   |     0.00s Dataset without structure sections in otext:no structure functions in the T-API\n",
      "  4.47s All features loaded/computed - for details use TF.loadLog()\n"
     ]
    }
   ],
   "source": [
    "api = TF.load('''\n",
    "lex sp gn nu vt vs typ function prs book language voc_lex lex0 lex_utf8 g_cons g_lex g_word g_lex_utf8 g_cons_utf8 gloss domain txt kind g_word_utf8 nme number pargr pfm pdp st det prs_gn prs_nu ps prs_ps rela nametype nme\n",
    "''', silent=False)"
   ]
  },
  {
   "cell_type": "code",
   "execution_count": 6,
   "id": "10d145fd-002f-49e3-99e5-d8b85128be0d",
   "metadata": {},
   "outputs": [
    {
     "data": {
      "text/plain": [
       "{}"
      ]
     },
     "execution_count": 6,
     "metadata": {},
     "output_type": "execute_result"
    }
   ],
   "source": [
    "TF.silentOff()\n",
    "TF.isLoaded(None)"
   ]
  },
  {
   "cell_type": "code",
   "execution_count": null,
   "id": "10101ff8-fea2-4366-920f-fd201d4c3072",
   "metadata": {},
   "outputs": [],
   "source": []
  }
 ],
 "metadata": {
  "kernelspec": {
   "display_name": "Python 3 (ipykernel)",
   "language": "python",
   "name": "python3"
  },
  "language_info": {
   "codemirror_mode": {
    "name": "ipython",
    "version": 3
   },
   "file_extension": ".py",
   "mimetype": "text/x-python",
   "name": "python",
   "nbconvert_exporter": "python",
   "pygments_lexer": "ipython3",
   "version": "3.9.5"
  },
  "widgets": {
   "application/vnd.jupyter.widget-state+json": {
    "state": {},
    "version_major": 2,
    "version_minor": 0
   }
  }
 },
 "nbformat": 4,
 "nbformat_minor": 5
}
