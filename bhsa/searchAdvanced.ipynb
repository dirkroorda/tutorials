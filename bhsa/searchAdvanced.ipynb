{
 "cells": [
  {
   "cell_type": "markdown",
   "metadata": {},
   "source": [
    "<img align=\"right\" src=\"images/tf-small.png\" width=\"128\"/>\n",
    "<img align=\"right\" src=\"images/etcbc.png\"/>\n",
    "<img align=\"right\" src=\"images/dans-small.png\"/>\n",
    "\n",
    "You might want to consider the [start](search.ipynb) of this tutorial.\n",
    "\n",
    "Short introductions to other TF datasets:\n",
    "\n",
    "* [Dead Sea Scrolls](https://nbviewer.jupyter.org/github/annotation/tutorials/blob/master/lorentz2020/dss.ipynb),\n",
    "* [Old Babylonian Letters](https://nbviewer.jupyter.org/github/annotation/tutorials/blob/master/lorentz2020/oldbabylonian.ipynb),\n",
    "or the\n",
    "* [Q'uran](https://nbviewer.jupyter.org/github/annotation/tutorials/blob/master/lorentz2020/quran.ipynb)\n"
   ]
  },
  {
   "cell_type": "code",
   "execution_count": 1,
   "metadata": {},
   "outputs": [],
   "source": [
    "%load_ext autoreload\n",
    "%autoreload 2"
   ]
  },
  {
   "cell_type": "code",
   "execution_count": 2,
   "metadata": {
    "ExecuteTime": {
     "end_time": "2018-05-24T10:06:39.818664Z",
     "start_time": "2018-05-24T10:06:39.796588Z"
    }
   },
   "outputs": [],
   "source": [
    "from tf.app import use"
   ]
  },
  {
   "cell_type": "code",
   "execution_count": 3,
   "metadata": {
    "ExecuteTime": {
     "end_time": "2018-05-24T10:06:48.865143Z",
     "start_time": "2018-05-24T10:06:44.712958Z"
    }
   },
   "outputs": [
    {
     "data": {
      "text/html": [
       "<b title=\"local github\">TF-app:</b> <span title=\"repo clone offline under ~/github\">~/github/annotation/app-bhsa/code</span>"
      ],
      "text/plain": [
       "<IPython.core.display.HTML object>"
      ]
     },
     "metadata": {},
     "output_type": "display_data"
    },
    {
     "data": {
      "text/html": [
       "<b title=\"local github\">data:</b> <span title=\"repo clone offline under ~/github\">~/github/etcbc/bhsa/tf/c</span>"
      ],
      "text/plain": [
       "<IPython.core.display.HTML object>"
      ]
     },
     "metadata": {},
     "output_type": "display_data"
    },
    {
     "data": {
      "text/html": [
       "<b title=\"local github\">data:</b> <span title=\"repo clone offline under ~/github\">~/github/etcbc/phono/tf/c</span>"
      ],
      "text/plain": [
       "<IPython.core.display.HTML object>"
      ]
     },
     "metadata": {},
     "output_type": "display_data"
    },
    {
     "data": {
      "text/html": [
       "<b title=\"local github\">data:</b> <span title=\"repo clone offline under ~/github\">~/github/etcbc/parallels/tf/c</span>"
      ],
      "text/plain": [
       "<IPython.core.display.HTML object>"
      ]
     },
     "metadata": {},
     "output_type": "display_data"
    },
    {
     "data": {
      "text/html": [
       "<b>Text-Fabric:</b> <a target=\"_blank\" href=\"https://annotation.github.io/text-fabric/tf/cheatsheet.html\" title=\"text-fabric-api\">Text-Fabric API 8.5.13</a>, <a target=\"_blank\" href=\"https://github.com/annotation/app-bhsa\" title=\"bhsa TF-app\">app-bhsa v3</a>, <a target=\"_blank\" href=\"https://annotation.github.io/text-fabric/tf/about/searchusage.html\" title=\"Search Templates Introduction and Reference\">Search Reference</a><br><b>Data:</b> <a target=\"_blank\" href=\"https://etcbc.github.io/bhsa/0_home\" title=\"provenance of BHSA = Biblia Hebraica Stuttgartensia Amstelodamensis\">BHSA</a>, <a target=\"_blank\" href=\"https://annotation.github.io/text-fabric/tf/writing/hebrew.html\" title=\"How TF features represent text\">Character table</a>, <a target=\"_blank\" href=\"https://etcbc.github.io/bhsa/features/0_home\" title=\"BHSA feature documentation\">Feature docs</a><br><b>Features:</b><br><details><summary><b>Parallel Passages</b></summary><b><i><a target=\"_blank\" href=\"https://nbviewer.jupyter.org/github/etcbc/parallels/blob/master/programs/parallels.ipynb\" title=\"~/github/etcbc/parallels/tf/c/crossref.tf\">crossref</a></i></b><br></details><details><summary><b>BHSA = Biblia Hebraica Stuttgartensia Amstelodamensis</b></summary><a target=\"_blank\" href=\"https://etcbc.github.io/bhsa/features/book\" title=\"~/github/etcbc/bhsa/tf/c/book.tf\">book</a><br><a target=\"_blank\" href=\"https://etcbc.github.io/bhsa/features/book@ll\" title=\"~/github/etcbc/bhsa/tf/c/book@am.tf\">book@ll</a><br><a target=\"_blank\" href=\"https://etcbc.github.io/bhsa/features/chapter\" title=\"~/github/etcbc/bhsa/tf/c/chapter.tf\">chapter</a><br><a target=\"_blank\" href=\"https://etcbc.github.io/bhsa/features/code\" title=\"~/github/etcbc/bhsa/tf/c/code.tf\">code</a><br><a target=\"_blank\" href=\"https://etcbc.github.io/bhsa/features/det\" title=\"~/github/etcbc/bhsa/tf/c/det.tf\">det</a><br><a target=\"_blank\" href=\"https://etcbc.github.io/bhsa/features/domain\" title=\"~/github/etcbc/bhsa/tf/c/domain.tf\">domain</a><br><a target=\"_blank\" href=\"https://etcbc.github.io/bhsa/features/freq_lex\" title=\"~/github/etcbc/bhsa/tf/c/freq_lex.tf\">freq_lex</a><br><a target=\"_blank\" href=\"https://etcbc.github.io/bhsa/features/function\" title=\"~/github/etcbc/bhsa/tf/c/function.tf\">function</a><br><a target=\"_blank\" href=\"https://etcbc.github.io/bhsa/features/g_cons\" title=\"~/github/etcbc/bhsa/tf/c/g_cons.tf\">g_cons</a><br><a target=\"_blank\" href=\"https://etcbc.github.io/bhsa/features/g_cons_utf8\" title=\"~/github/etcbc/bhsa/tf/c/g_cons_utf8.tf\">g_cons_utf8</a><br><a target=\"_blank\" href=\"https://etcbc.github.io/bhsa/features/g_lex\" title=\"~/github/etcbc/bhsa/tf/c/g_lex.tf\">g_lex</a><br><a target=\"_blank\" href=\"https://etcbc.github.io/bhsa/features/g_lex_utf8\" title=\"~/github/etcbc/bhsa/tf/c/g_lex_utf8.tf\">g_lex_utf8</a><br><a target=\"_blank\" href=\"https://etcbc.github.io/bhsa/features/g_word\" title=\"~/github/etcbc/bhsa/tf/c/g_word.tf\">g_word</a><br><a target=\"_blank\" href=\"https://etcbc.github.io/bhsa/features/g_word_utf8\" title=\"~/github/etcbc/bhsa/tf/c/g_word_utf8.tf\">g_word_utf8</a><br><a target=\"_blank\" href=\"https://etcbc.github.io/bhsa/features/gloss\" title=\"~/github/etcbc/bhsa/tf/c/gloss.tf\">gloss</a><br><a target=\"_blank\" href=\"https://etcbc.github.io/bhsa/features/gn\" title=\"~/github/etcbc/bhsa/tf/c/gn.tf\">gn</a><br><a target=\"_blank\" href=\"https://etcbc.github.io/bhsa/features/label\" title=\"~/github/etcbc/bhsa/tf/c/label.tf\">label</a><br><a target=\"_blank\" href=\"https://etcbc.github.io/bhsa/features/language\" title=\"~/github/etcbc/bhsa/tf/c/language.tf\">language</a><br><a target=\"_blank\" href=\"https://etcbc.github.io/bhsa/features/lex\" title=\"~/github/etcbc/bhsa/tf/c/lex.tf\">lex</a><br><a target=\"_blank\" href=\"https://etcbc.github.io/bhsa/features/lex_utf8\" title=\"~/github/etcbc/bhsa/tf/c/lex_utf8.tf\">lex_utf8</a><br><a target=\"_blank\" href=\"https://etcbc.github.io/bhsa/features/ls\" title=\"~/github/etcbc/bhsa/tf/c/ls.tf\">ls</a><br><a target=\"_blank\" href=\"https://etcbc.github.io/bhsa/features/nametype\" title=\"~/github/etcbc/bhsa/tf/c/nametype.tf\">nametype</a><br><a target=\"_blank\" href=\"https://etcbc.github.io/bhsa/features/nme\" title=\"~/github/etcbc/bhsa/tf/c/nme.tf\">nme</a><br><a target=\"_blank\" href=\"https://etcbc.github.io/bhsa/features/nu\" title=\"~/github/etcbc/bhsa/tf/c/nu.tf\">nu</a><br><a target=\"_blank\" href=\"https://etcbc.github.io/bhsa/features/number\" title=\"~/github/etcbc/bhsa/tf/c/number.tf\">number</a><br><a target=\"_blank\" href=\"https://etcbc.github.io/bhsa/features/otype\" title=\"~/github/etcbc/bhsa/tf/c/otype.tf\">otype</a><br><a target=\"_blank\" href=\"https://etcbc.github.io/bhsa/features/pargr\" title=\"~/github/etcbc/bhsa/tf/c/pargr.tf\">pargr</a><br><a target=\"_blank\" href=\"https://etcbc.github.io/bhsa/features/pdp\" title=\"~/github/etcbc/bhsa/tf/c/pdp.tf\">pdp</a><br><a target=\"_blank\" href=\"https://etcbc.github.io/bhsa/features/pfm\" title=\"~/github/etcbc/bhsa/tf/c/pfm.tf\">pfm</a><br><a target=\"_blank\" href=\"https://etcbc.github.io/bhsa/features/prs\" title=\"~/github/etcbc/bhsa/tf/c/prs.tf\">prs</a><br><a target=\"_blank\" href=\"https://etcbc.github.io/bhsa/features/prs_gn\" title=\"~/github/etcbc/bhsa/tf/c/prs_gn.tf\">prs_gn</a><br><a target=\"_blank\" href=\"https://etcbc.github.io/bhsa/features/prs_nu\" title=\"~/github/etcbc/bhsa/tf/c/prs_nu.tf\">prs_nu</a><br><a target=\"_blank\" href=\"https://etcbc.github.io/bhsa/features/prs_ps\" title=\"~/github/etcbc/bhsa/tf/c/prs_ps.tf\">prs_ps</a><br><a target=\"_blank\" href=\"https://etcbc.github.io/bhsa/features/ps\" title=\"~/github/etcbc/bhsa/tf/c/ps.tf\">ps</a><br><a target=\"_blank\" href=\"https://etcbc.github.io/bhsa/features/qere\" title=\"~/github/etcbc/bhsa/tf/c/qere.tf\">qere</a><br><a target=\"_blank\" href=\"https://etcbc.github.io/bhsa/features/qere_trailer\" title=\"~/github/etcbc/bhsa/tf/c/qere_trailer.tf\">qere_trailer</a><br><a target=\"_blank\" href=\"https://etcbc.github.io/bhsa/features/qere_trailer_utf8\" title=\"~/github/etcbc/bhsa/tf/c/qere_trailer_utf8.tf\">qere_trailer_utf8</a><br><a target=\"_blank\" href=\"https://etcbc.github.io/bhsa/features/qere_utf8\" title=\"~/github/etcbc/bhsa/tf/c/qere_utf8.tf\">qere_utf8</a><br><a target=\"_blank\" href=\"https://etcbc.github.io/bhsa/features/rank_lex\" title=\"~/github/etcbc/bhsa/tf/c/rank_lex.tf\">rank_lex</a><br><a target=\"_blank\" href=\"https://etcbc.github.io/bhsa/features/rela\" title=\"~/github/etcbc/bhsa/tf/c/rela.tf\">rela</a><br><a target=\"_blank\" href=\"https://etcbc.github.io/bhsa/features/sp\" title=\"~/github/etcbc/bhsa/tf/c/sp.tf\">sp</a><br><a target=\"_blank\" href=\"https://etcbc.github.io/bhsa/features/st\" title=\"~/github/etcbc/bhsa/tf/c/st.tf\">st</a><br><a target=\"_blank\" href=\"https://etcbc.github.io/bhsa/features/tab\" title=\"~/github/etcbc/bhsa/tf/c/tab.tf\">tab</a><br><a target=\"_blank\" href=\"https://etcbc.github.io/bhsa/features/trailer\" title=\"~/github/etcbc/bhsa/tf/c/trailer.tf\">trailer</a><br><a target=\"_blank\" href=\"https://etcbc.github.io/bhsa/features/trailer_utf8\" title=\"~/github/etcbc/bhsa/tf/c/trailer_utf8.tf\">trailer_utf8</a><br><a target=\"_blank\" href=\"https://etcbc.github.io/bhsa/features/txt\" title=\"~/github/etcbc/bhsa/tf/c/txt.tf\">txt</a><br><a target=\"_blank\" href=\"https://etcbc.github.io/bhsa/features/typ\" title=\"~/github/etcbc/bhsa/tf/c/typ.tf\">typ</a><br><a target=\"_blank\" href=\"https://etcbc.github.io/bhsa/features/uvf\" title=\"~/github/etcbc/bhsa/tf/c/uvf.tf\">uvf</a><br><a target=\"_blank\" href=\"https://etcbc.github.io/bhsa/features/vbe\" title=\"~/github/etcbc/bhsa/tf/c/vbe.tf\">vbe</a><br><a target=\"_blank\" href=\"https://etcbc.github.io/bhsa/features/vbs\" title=\"~/github/etcbc/bhsa/tf/c/vbs.tf\">vbs</a><br><a target=\"_blank\" href=\"https://etcbc.github.io/bhsa/features/verse\" title=\"~/github/etcbc/bhsa/tf/c/verse.tf\">verse</a><br><a target=\"_blank\" href=\"https://etcbc.github.io/bhsa/features/voc_lex\" title=\"~/github/etcbc/bhsa/tf/c/voc_lex.tf\">voc_lex</a><br><a target=\"_blank\" href=\"https://etcbc.github.io/bhsa/features/voc_lex_utf8\" title=\"~/github/etcbc/bhsa/tf/c/voc_lex_utf8.tf\">voc_lex_utf8</a><br><a target=\"_blank\" href=\"https://etcbc.github.io/bhsa/features/vs\" title=\"~/github/etcbc/bhsa/tf/c/vs.tf\">vs</a><br><a target=\"_blank\" href=\"https://etcbc.github.io/bhsa/features/vt\" title=\"~/github/etcbc/bhsa/tf/c/vt.tf\">vt</a><br><b><i><a target=\"_blank\" href=\"https://etcbc.github.io/bhsa/features/mother\" title=\"~/github/etcbc/bhsa/tf/c/mother.tf\">mother</a></i></b><br><b><i><a target=\"_blank\" href=\"https://etcbc.github.io/bhsa/features/oslots\" title=\"~/github/etcbc/bhsa/tf/c/oslots.tf\">oslots</a></i></b><br></details><details><summary><b>Phonetic Transcriptions</b></summary><a target=\"_blank\" href=\"https://nbviewer.jupyter.org/github/etcbc/phono/blob/master/programs/phono.ipynb\" title=\"~/github/etcbc/phono/tf/c/phono.tf\">phono</a><br><a target=\"_blank\" href=\"https://nbviewer.jupyter.org/github/etcbc/phono/blob/master/programs/phono.ipynb\" title=\"~/github/etcbc/phono/tf/c/phono_trailer.tf\">phono_trailer</a><br></details>"
      ],
      "text/plain": [
       "<IPython.core.display.HTML object>"
      ]
     },
     "metadata": {},
     "output_type": "display_data"
    },
    {
     "data": {
      "text/html": [
       "<style>tr.tf.ltr, td.tf.ltr, th.tf.ltr { text-align: left ! important;}\n",
       "tr.tf.rtl, td.tf.rtl, th.tf.rtl { text-align: right ! important;}\n",
       "@font-face {\n",
       "  font-family: \"Gentium Plus\";\n",
       "  src: local('Gentium Plus'), local('GentiumPlus'),\n",
       "    url('/server/static/fonts/GentiumPlus-R.woff') format('woff'),\n",
       "    url('https://github.com/annotation/text-fabric/blob/master/tf/server/static/fonts/GentiumPlus-R.woff?raw=true') format('woff');\n",
       "}\n",
       "\n",
       "@font-face {\n",
       "  font-family: \"Ezra SIL\";\n",
       "  src: local('Ezra SIL'), local('EzraSIL'),\n",
       "    url('/server/static/fonts/SILEOT.woff') format('woff'),\n",
       "    url('https://github.com/annotation/text-fabric/blob/master/tf/server/static/fonts/SILEOT.woff?raw=true') format('woff');\n",
       "}\n",
       "\n",
       "@font-face {\n",
       "  font-family: \"SBL Hebrew\";\n",
       "  src: local('SBL Hebrew'), local('SBLHebrew'),\n",
       "    url('/server/static/fonts/SBL_Hbrw.woff') format('woff'),\n",
       "    url('https://github.com/annotation/text-fabric/blob/master/tf/server/static/fonts/SBL_Hbrw.woff?raw=true') format('woff');\n",
       "}\n",
       "\n",
       "@font-face {\n",
       "  font-family: \"Estrangelo Edessa\";\n",
       "  src: local('Estrangelo Edessa'), local('EstrangeloEdessa');\n",
       "    url('/server/static/fonts/SyrCOMEdessa.woff') format('woff'),\n",
       "    url('https://github.com/annotation/text-fabric/blob/master/tf/server/static/fonts/SyrCOMEdessa.woff?raw=true') format('woff');\n",
       "}\n",
       "\n",
       "@font-face {\n",
       "  font-family: AmiriQuran;\n",
       "  font-style: normal;\n",
       "  font-weight: 400;\n",
       "  src: local('Amiri Quran'), local('AmiriQuran'),\n",
       "    url('/server/static/fonts/AmiriQuran.woff') format('woff'),\n",
       "    url('https://github.com/annotation/text-fabric/blob/master/tf/server/static/fonts/AmiriQuran.woff?raw=true') format('woff');\n",
       "}\n",
       "\n",
       "@font-face {\n",
       "  font-family: AmiriQuranColored;\n",
       "  font-style: normal;\n",
       "  font-weight: 400;\n",
       "  src: local('Amiri Quran Colored'), local('AmiriQuranColored'),\n",
       "    url('/server/static/fonts/AmiriQuranColored.woff') format('woff'),\n",
       "    url('https://github.com/annotation/text-fabric/blob/master/tf/server/static/fonts/AmiriQuranColored.woff?raw=true') format('woff');\n",
       "}\n",
       "\n",
       "@font-face {\n",
       "  font-family: \"Santakku\";\n",
       "  src: local('Santakku'),\n",
       "    url('/server/static/fonts/Santakku.woff') format('woff'),\n",
       "    url('https://github.com/annotation/text-fabric/blob/master/tf/server/static/fonts/Santakku.woff?raw=true') format('woff');\n",
       "}\n",
       "\n",
       "@font-face {\n",
       "  font-family: \"SantakkuM\";\n",
       "  src: local('SantakkuM'),\n",
       "    url('/server/static/fonts/SantakkuM.woff') format('woff'),\n",
       "    url('https://github.com/annotation/text-fabric/blob/master/tf/server/static/fonts/SantakkuM.woff?raw=true') format('woff');\n",
       "}\n",
       "/* bypassing some classical notebook settings */\n",
       "div#notebook {\n",
       "  line-height: unset;\n",
       "}\n",
       "/* neutral text */\n",
       ".txtn,.txtn a:visited,.txtn a:link {\n",
       "    font-family: sans-serif;\n",
       "    font-size: medium;\n",
       "    direction: ltr;\n",
       "    unicode-bidi: embed;\n",
       "    text-decoration: none;\n",
       "    color: var(--text-color);\n",
       "}\n",
       "/* transcription text */\n",
       ".txtt,.txtt a:visited,.txtt a:link {\n",
       "    font-family: monospace;\n",
       "    font-size: medium;\n",
       "    direction: ltr;\n",
       "    unicode-bidi: embed;\n",
       "    text-decoration: none;\n",
       "    color: var(--text-color);\n",
       "}\n",
       "/* source text */\n",
       ".txto,.txto a:visited,.txto a:link {\n",
       "    font-family: serif;\n",
       "    font-size: medium;\n",
       "    direction: ltr;\n",
       "    unicode-bidi: embed;\n",
       "    text-decoration: none;\n",
       "    color: var(--text-color);\n",
       "}\n",
       "/* phonetic text */\n",
       ".txtp,.txtp a:visited,.txtp a:link {\n",
       "    font-family: Gentium, sans-serif;\n",
       "    font-size: medium;\n",
       "    direction: ltr;\n",
       "    unicode-bidi: embed;\n",
       "    text-decoration: none;\n",
       "    color: var(--text-color);\n",
       "}\n",
       "/* original script text */\n",
       ".txtu,.txtu a:visited,.txtu a:link {\n",
       "    font-family: Gentium, sans-serif;\n",
       "    font-size: medium;\n",
       "    text-decoration: none;\n",
       "    color: var(--text-color);\n",
       "}\n",
       "/* hebrew */\n",
       ".txtu.hbo,.lex.hbo {\n",
       "    font-family: \"Ezra SIL\", \"SBL Hebrew\", sans-serif;\n",
       "    font-size: large;\n",
       "    direction: rtl ! important;\n",
       "    unicode-bidi: embed;\n",
       "}\n",
       "/* syriac */\n",
       ".txtu.syc,.lex.syc {\n",
       "    font-family: \"Estrangelo Edessa\", sans-serif;\n",
       "    font-size: medium;\n",
       "    direction: rtl ! important;\n",
       "    unicode-bidi: embed;\n",
       "}\n",
       "/* neo aramaic */\n",
       ".txtu.cld,.lex.cld {\n",
       "    font-family: \"CharisSIL-R\", sans-serif;\n",
       "    font-size: medium;\n",
       "    direction: ltr ! important;\n",
       "    unicode-bidi: embed;\n",
       "}\n",
       "/* standard arabic */\n",
       ".txtu.ara,.lex.ara {\n",
       "    font-family: \"AmiriQuran\", sans-serif;\n",
       "    font-size: large;\n",
       "    direction: rtl ! important;\n",
       "    unicode-bidi: embed;\n",
       "}\n",
       "/* cuneiform */\n",
       ".txtu.akk,.lex.akk {\n",
       "    font-family: Santakku, sans-serif;\n",
       "    font-size: large;\n",
       "    direction: ltr ! important;\n",
       "    unicode-bidi: embed;\n",
       "}\n",
       "/* greek */\n",
       ".txtu.grc,.lex.grc a:link {\n",
       "    font-family: Gentium, sans-serif;\n",
       "    font-size: medium;\n",
       "    direction: ltr ! important;\n",
       "    unicode-bidi: embed;\n",
       "}\n",
       "a:hover {\n",
       "    text-decoration: underline | important;\n",
       "    color: #0000ff | important;\n",
       "}\n",
       ".ltr {\n",
       "    direction: ltr ! important;\n",
       "    unicode-bidi: embed;\n",
       "}\n",
       ".rtl {\n",
       "    direction: rtl ! important;\n",
       "    unicode-bidi: embed;\n",
       "}\n",
       ".ubd {\n",
       "    unicode-bidi: embed;\n",
       "}\n",
       ".col {\n",
       "   display: inline-block;\n",
       "}\n",
       ".features {\n",
       "    font-family: monospace;\n",
       "    font-size: medium;\n",
       "    font-weight: bold;\n",
       "    color: var(--features);\n",
       "    display: flex;\n",
       "    flex-flow: column nowrap;\n",
       "    justify-content: flex-start;\n",
       "    align-items: flex-start;\n",
       "    align-content: flex-start;\n",
       "    padding: 2px;\n",
       "    margin: 2px;\n",
       "    direction: ltr;\n",
       "    unicode-bidi: embed;\n",
       "    border: var(--meta-width) solid var(--meta-color);\n",
       "    border-radius: var(--meta-width);\n",
       "}\n",
       ".features div,.features span {\n",
       "    padding: 0;\n",
       "    margin: -2px 0;\n",
       "}\n",
       ".features .f {\n",
       "    font-family: sans-serif;\n",
       "    font-size: small;\n",
       "    font-weight: normal;\n",
       "    color: #5555bb;\n",
       "}\n",
       ".features .xft {\n",
       "  color: #000000;\n",
       "  background-color: #eeeeee;\n",
       "  font-size: medium;\n",
       "  margin: 2px 0px;\n",
       "}\n",
       ".features .xft .f {\n",
       "  color: #000000;\n",
       "  background-color: #eeeeee;\n",
       "  font-size: small;\n",
       "  font-weight: normal;\n",
       "}\n",
       ".tfsechead {\n",
       "    font-family: sans-serif;\n",
       "    font-size: small;\n",
       "    font-weight: bold;\n",
       "    color: var(--tfsechead);\n",
       "    unicode-bidi: embed;\n",
       "    text-align: start;\n",
       "}\n",
       ".structure {\n",
       "    font-family: sans-serif;\n",
       "    font-size: small;\n",
       "    font-weight: bold;\n",
       "    color: var(--structure);\n",
       "    unicode-bidi: embed;\n",
       "    text-align: start;\n",
       "}\n",
       ".comments {\n",
       "    display: flex;\n",
       "    justify-content: flex-start;\n",
       "    align-items: flex-start;\n",
       "    align-content: flex-start;\n",
       "    flex-flow: column nowrap;\n",
       "}\n",
       ".nd, a:link.nd {\n",
       "    font-family: sans-serif;\n",
       "    font-size: small;\n",
       "    color: var(--node);\n",
       "    vertical-align: super;\n",
       "    direction: ltr ! important;\n",
       "    unicode-bidi: embed;\n",
       "}\n",
       ".lex {\n",
       "  color: var(--lex-color);;\n",
       "}\n",
       ".children,.children.ltr {\n",
       "    display: flex;\n",
       "    border: 0;\n",
       "    background-color: #ffffff;\n",
       "    justify-content: flex-start;\n",
       "    align-items: flex-start;\n",
       "    align-content: flex-start;\n",
       "}\n",
       ".children.stretch {\n",
       "    align-items: stretch;\n",
       "}\n",
       ".children.hor {\n",
       "    flex-flow: row nowrap;\n",
       "}\n",
       ".children.hor.wrap {\n",
       "    flex-flow: row wrap;\n",
       "}\n",
       ".children.ver {\n",
       "    flex-flow: column nowrap;\n",
       "}\n",
       ".children.ver.wrap {\n",
       "    flex-flow: column wrap;\n",
       "}\n",
       ".contnr {\n",
       "    width: fit-content;\n",
       "    display: flex;\n",
       "    justify-content: flex-start;\n",
       "    align-items: flex-start;\n",
       "    align-content: flex-start;\n",
       "    flex-flow: column nowrap;\n",
       "    background: #ffffff none repeat scroll 0 0;\n",
       "    padding:  10px 2px 2px 2px;\n",
       "    margin: 16px 2px 2px 2px;\n",
       "    border-style: solid;\n",
       "    font-size: small;\n",
       "}\n",
       ".contnr.trm {\n",
       "    background-attachment: local;\n",
       "}\n",
       ".contnr.cnul {\n",
       "    padding:  0;\n",
       "    margin: 0;\n",
       "    border-style: solid;\n",
       "    font-size: xx-small;\n",
       "}\n",
       ".contnr.cnul,.lbl.cnul {\n",
       "    border-color: var(--border-color-nul);\n",
       "    border-width: var(--border-width-nul);\n",
       "    border-radius: var(--border-width-nul);\n",
       "}\n",
       ".contnr.c0,.lbl.c0 {\n",
       "    border-color: var(--border-color0);\n",
       "    border-width: var(--border-width0);\n",
       "    border-radius: var(--border-width0);\n",
       "}\n",
       ".contnr.c1,.lbl.c1 {\n",
       "    border-color: var(--border-color1);\n",
       "    border-width: var(--border-width1);\n",
       "    border-radius: var(--border-width1);\n",
       "}\n",
       ".contnr.c2,.lbl.c2 {\n",
       "    border-color: var(--border-color2);\n",
       "    border-width: var(--border-width2);\n",
       "    border-radius: var(--border-width2);\n",
       "}\n",
       ".contnr.c3,.lbl.c3 {\n",
       "    border-color: var(--border-color3);\n",
       "    border-width: var(--border-width3);\n",
       "    border-radius: var(--border-width3);\n",
       "}\n",
       ".contnr.c4,.lbl.c4 {\n",
       "    border-color: var(--border-color4);\n",
       "    border-width: var(--border-width4);\n",
       "    border-radius: var(--border-width4);\n",
       "}\n",
       "span.plain {\n",
       "    display: inline-block;\n",
       "    white-space: pre-wrap;\n",
       "}\n",
       ".plain {\n",
       "    background-color: #ffffff;\n",
       "}\n",
       ".plain.l,.contnr.l,.contnr.l>.lbl {\n",
       "    border-left-style: dotted\n",
       "}\n",
       ".plain.r,.contnr.r,.contnr.r>.lbl {\n",
       "    border-right-style: dotted\n",
       "}\n",
       ".plain.lno,.contnr.lno,.contnr.lno>.lbl {\n",
       "    border-left-style: none\n",
       "}\n",
       ".plain.rno,.contnr.rno,.contnr.rno>.lbl {\n",
       "    border-right-style: none\n",
       "}\n",
       ".plain.l {\n",
       "    padding-left: 4px;\n",
       "    margin-left: 2px;\n",
       "    border-width: var(--border-width-plain);\n",
       "}\n",
       ".plain.r {\n",
       "    padding-right: 4px;\n",
       "    margin-right: 2px;\n",
       "    border-width: var(--border-width-plain);\n",
       "}\n",
       ".lbl {\n",
       "    font-family: monospace;\n",
       "    margin-top: -24px;\n",
       "    margin-left: 20px;\n",
       "    background: #ffffff none repeat scroll 0 0;\n",
       "    padding: 0 6px;\n",
       "    border-style: solid;\n",
       "    display: block;\n",
       "    color: var(--label)\n",
       "}\n",
       ".lbl.trm {\n",
       "    background-attachment: local;\n",
       "    margin-top: 2px;\n",
       "    margin-left: 2px;\n",
       "    padding: 2px 2px;\n",
       "    border-style: none;\n",
       "}\n",
       ".lbl.cnul {\n",
       "    font-size: xx-small;\n",
       "}\n",
       ".lbl.c0 {\n",
       "    font-size: small;\n",
       "}\n",
       ".lbl.c1 {\n",
       "    font-size: small;\n",
       "}\n",
       ".lbl.c2 {\n",
       "    font-size: medium;\n",
       "}\n",
       ".lbl.c3 {\n",
       "    font-size: medium;\n",
       "}\n",
       ".lbl.c4 {\n",
       "    font-size: large;\n",
       "}\n",
       ".occs, a:link.occs {\n",
       "    font-size: small;\n",
       "}\n",
       "\n",
       "/* PROVENANCE */\n",
       "\n",
       "div.prov {\n",
       "\tmargin: 40px;\n",
       "\tpadding: 20px;\n",
       "\tborder: 2px solid var(--fog-rim);\n",
       "}\n",
       "div.pline {\n",
       "\tdisplay: flex;\n",
       "\tflex-flow: row nowrap;\n",
       "\tjustify-content: stretch;\n",
       "\talign-items: baseline;\n",
       "}\n",
       "div.p2line {\n",
       "\tmargin-left: 2em;\n",
       "\tdisplay: flex;\n",
       "\tflex-flow: row nowrap;\n",
       "\tjustify-content: stretch;\n",
       "\talign-items: baseline;\n",
       "}\n",
       "div.psline {\n",
       "\tdisplay: flex;\n",
       "\tflex-flow: row nowrap;\n",
       "\tjustify-content: stretch;\n",
       "\talign-items: baseline;\n",
       "\tbackground-color: var(--gold-mist-back);\n",
       "}\n",
       "div.pname {\n",
       "\tflex: 0 0 5rem;\n",
       "\tfont-weight: bold;\n",
       "}\n",
       "div.pval {\n",
       "    flex: 1 1 auto;\n",
       "}\n",
       "\n",
       ":root {\n",
       "\t--node:               hsla(120, 100%,  20%, 1.0  );\n",
       "\t--label:              hsla(  0, 100%,  20%, 1.0  );\n",
       "\t--tfsechead:          hsla(  0, 100%,  25%, 1.0  );\n",
       "\t--structure:          hsla(120, 100%,  25%, 1.0  );\n",
       "\t--features:           hsla(  0,   0%,  30%, 1.0  );\n",
       "  --text-color:         hsla( 60,  80%,  10%, 1.0  );\n",
       "  --lex-color:          hsla(220,  90%,  60%, 1.0  );\n",
       "  --meta-color:         hsla(  0,   0%,  90%, 0.7  );\n",
       "  --meta-width:         3px;\n",
       "  --border-color-nul:   hsla(  0,   0%,  90%, 0.5  );\n",
       "  --border-color0:      hsla(  0,   0%,  90%, 0.9  );\n",
       "  --border-color1:      hsla(  0,   0%,  80%, 0.9  );\n",
       "  --border-color2:      hsla(  0,   0%,  70%, 0.9  );\n",
       "  --border-color3:      hsla(  0,   0%,  80%, 0.8  );\n",
       "  --border-color4:      hsla(  0,   0%,  60%, 0.9  );\n",
       "  --border-width-nul:   2px;\n",
       "  --border-width0:      2px;\n",
       "  --border-width1:      3px;\n",
       "  --border-width2:      4px;\n",
       "  --border-width3:      6px;\n",
       "  --border-width4:      5px;\n",
       "  --border-width-plain: 2px;\n",
       "}\n",
       ".hl {\n",
       "  background-color: var(--hl-strong);\n",
       "}\n",
       "span.hl {\n",
       "\tbackground-color: var(--hl-strong);\n",
       "\tborder-width: 0;\n",
       "\tborder-radius: 2px;\n",
       "\tborder-style: solid;\n",
       "}\n",
       "div.contnr.hl,div.lbl.hl {\n",
       "  background-color: var(--hl-strong);\n",
       "}\n",
       "div.contnr.hl {\n",
       "  border-color: var(--hl-rim) ! important;\n",
       "\tborder-width: 4px ! important;\n",
       "}\n",
       "\n",
       "span.hlbx {\n",
       "\tborder-color: var(--hl-rim);\n",
       "\tborder-width: 4px ! important;\n",
       "\tborder-style: solid;\n",
       "\tborder-radius: 6px;\n",
       "  padding: 4px;\n",
       "  margin: 4px;\n",
       "}\n",
       "\n",
       "span.plain {\n",
       "  display: inline-block;\n",
       "  white-space: pre-wrap;\n",
       "}\n",
       "\n",
       ":root {\n",
       "\t--hl-strong:        hsla( 60, 100%,  70%, 0.9  );\n",
       "\t--hl-rim:           hsla( 55,  80%,  50%, 1.0  );\n",
       "}\n",
       "</style>"
      ],
      "text/plain": [
       "<IPython.core.display.HTML object>"
      ]
     },
     "metadata": {},
     "output_type": "display_data"
    },
    {
     "data": {
      "text/html": [
       "<div><b>Text-Fabric API:</b> names <a target=\"_blank\" href=\"https://annotation.github.io/text-fabric/tf/cheatsheet.html\" title=\"doc\">N F E L T S C TF</a> directly usable</div><hr>"
      ],
      "text/plain": [
       "<IPython.core.display.HTML object>"
      ]
     },
     "metadata": {},
     "output_type": "display_data"
    }
   ],
   "source": [
    "# A = use('bhsa', hoist=globals())\n",
    "A = use(\"bhsa:clone\", checkout=\"clone\", hoist=globals())"
   ]
  },
  {
   "cell_type": "markdown",
   "metadata": {},
   "source": [
    "# Relations\n",
    "\n",
    "So far we heve seen search templates specifying feature conditions on nodes\n",
    "and a bit of nesting of those nodes, with an occasional extra constraint on their\n",
    "positions.\n",
    "\n",
    "We show some more possibilities.\n",
    "An more thorough treatment is in [relations](searchRelations.ipynb).\n",
    "\n",
    "We can refer to (spatial) relationships between nodes by means of extra constraints\n",
    "of the form\n",
    "\n",
    "```\n",
    "n relop m\n",
    "```\n",
    "\n",
    "where `n` and `m` are names of node parts in your template, and `relop` is the name of a relational operator.\n",
    "\n",
    "Text-Fabric comes with a fixed bunch of spatial relational operators,\n",
    "and your data set may contain *edge*-features, which correspond to additional relational operators.\n",
    "\n",
    "You can get the list of all relops that you can currently use:"
   ]
  },
  {
   "cell_type": "code",
   "execution_count": 4,
   "metadata": {
    "ExecuteTime": {
     "end_time": "2018-05-24T07:59:57.799159Z",
     "start_time": "2018-05-24T07:59:57.776703Z"
    }
   },
   "outputs": [
    {
     "name": "stdout",
     "output_type": "stream",
     "text": [
      "                      = left equal to right (as node)\n",
      "                      # left unequal to right (as node)\n",
      "                      < left before right (in canonical node ordering)\n",
      "                      > left after right (in canonical node ordering)\n",
      "                     == left occupies same slots as right\n",
      "                     && left has overlapping slots with right\n",
      "                     ## left and right do not have the same slot set\n",
      "                     || left and right do not have common slots\n",
      "                     [[ left embeds right\n",
      "                     ]] left embedded in right\n",
      "                     << left completely before right\n",
      "                     >> left completely after right\n",
      "                     =: left and right start at the same slot\n",
      "                     := left and right end at the same slot\n",
      "                     :: left and right start and end at the same slot\n",
      "                     <: left immediately before right\n",
      "                     :> left immediately after right\n",
      "                    =k: left and right start at k-nearly the same slot\n",
      "                    :k= left and right end at k-nearly the same slot\n",
      "                    :k: left and right start and end at k-near slots\n",
      "                    <k: left k-nearly before right\n",
      "                    :k> left k-nearly after right\n",
      "                    .f. left.f = right.f\n",
      "                  .f=g. left.f = right.g\n",
      "                .f~r~g. left.f matches right.g\n",
      "                  .f#g. left.f # right.g\n",
      "                  .f>g. left.f > right.g\n",
      "                  .f<g. left.f > right.g\n",
      "             -crossref> edge feature \"crossref\" with value specification allowed\n",
      "             <crossref- edge feature \"crossref\" with value specification allowed (opposite direction)\n",
      "             <crossref> edge feature \"crossref\" with value specification allowed (either direction)\n",
      "          -crossrefLCS> edge feature \"crossrefLCS\" with value specification allowed\n",
      "          <crossrefLCS- edge feature \"crossrefLCS\" with value specification allowed (opposite direction)\n",
      "          <crossrefLCS> edge feature \"crossrefLCS\" with value specification allowed (either direction)\n",
      "          -crossrefSET> edge feature \"crossrefSET\" with value specification allowed\n",
      "          <crossrefSET- edge feature \"crossrefSET\" with value specification allowed (opposite direction)\n",
      "          <crossrefSET> edge feature \"crossrefSET\" with value specification allowed (either direction)\n",
      "-distributional_parent> edge feature \"distributional_parent\"\n",
      "<distributional_parent- edge feature \"distributional_parent\" (opposite direction)\n",
      "<distributional_parent> edge feature \"distributional_parent\" (either direction)\n",
      "    -functional_parent> edge feature \"functional_parent\"\n",
      "    <functional_parent- edge feature \"functional_parent\" (opposite direction)\n",
      "    <functional_parent> edge feature \"functional_parent\" (either direction)\n",
      "               -mother> edge feature \"mother\"\n",
      "               <mother- edge feature \"mother\" (opposite direction)\n",
      "               <mother> edge feature \"mother\" (either direction)\n",
      "The warp feature \"oslots\" cannot be used in searches.\n",
      "One of the above relations on nodes and/or slots will suit you better.\n"
     ]
    }
   ],
   "source": [
    "S.relationsLegend()"
   ]
  },
  {
   "cell_type": "markdown",
   "metadata": {},
   "source": [
    "## Feature comparison\n",
    "\n",
    "Note the operators that are surrounded by `. .` and have `f` and/or `g` and/or `r` in them.\n",
    "You can supply any node feature `f` and `g` in your dataset, and any regular exprression `r`."
   ]
  },
  {
   "cell_type": "markdown",
   "metadata": {},
   "source": [
    "We look for predicate - subject pairs where the subject is a single noun and agrees with the predicate in grammatical number.\n",
    "\n",
    "Moreover, the noun must be part of the subject."
   ]
  },
  {
   "cell_type": "code",
   "execution_count": 5,
   "metadata": {},
   "outputs": [],
   "source": [
    "query = \"\"\"\n",
    "clause\n",
    "  phrase function=Pred\n",
    "    w1:word pdp=verb\n",
    "  phrase function=Subj\n",
    "    =: w2:word pdp=subs\n",
    "    :=\n",
    "w1 .nu. w2\n",
    "\"\"\""
   ]
  },
  {
   "cell_type": "code",
   "execution_count": 6,
   "metadata": {},
   "outputs": [
    {
     "name": "stdout",
     "output_type": "stream",
     "text": [
      "  1.69s 3775 results\n"
     ]
    }
   ],
   "source": [
    "results = A.search(query)"
   ]
  },
  {
   "cell_type": "code",
   "execution_count": 7,
   "metadata": {},
   "outputs": [
    {
     "data": {
      "text/html": [
       "<table><tr class=\"tf rtl\"><th class=\"tf rtl\">n</th><th class=\"tf rtl\">p</th><th class=\"tf rtl\">clause</th><th class=\"tf\">phrase</th><th class=\"tf\">word</th><th class=\"tf\">phrase</th><th class=\"tf\">word</th></tr>\n",
       "<tr class=\"tf rtl\"><td class=\"tf rtl\">1</td><td class=\"tf rtl\"><span class=\"tfsechead ltr\"><a target=\"_blank\" href=\"https://shebanq.ancient-data.org/hebrew/text?book=Genesis&amp;chapter=1&amp;verse=3&amp;version=c&amp;mr=m&amp;qw=q&amp;tp=txt_p&amp;tr=hb&amp;wget=v&amp;qget=v&amp;nget=vt\" title=\"Show this on SHEBANQ\" sec=\"Genesis 1:3\">Genesis 1:3</a></span></td><td class=\"tf rtl\"><span class=\"rtl ubd\"><span class=\"plain rtl  hlbx\" ><span class=\"plain rtl  hlbx\" ><span class=\"plain rtl  hl\" ><span class=\"txtu hbo\">יְהִ֣י </span></span></span><span class=\"plain rtl  hlbx\" ><span class=\"plain rtl  hl\" ><span class=\"txtu hbo\">אֹ֑ור </span></span></span></span></span></td><td class=\"tf rtl\"><span class=\"rtl ubd\"><span class=\"plain rtl  hlbx\" ><span class=\"plain rtl  hl\" ><span class=\"txtu hbo\">יְהִ֣י </span></span></span></span></td><td class=\"tf rtl\"><span class=\"rtl ubd\"><span class=\"plain rtl  hl\" ><span class=\"txtu hbo\">יְהִ֣י </span></span></span></td><td class=\"tf rtl\"><span class=\"rtl ubd\"><span class=\"plain rtl  hlbx\" ><span class=\"plain rtl  hl\" ><span class=\"txtu hbo\">אֹ֑ור </span></span></span></span></td><td class=\"tf rtl\"><span class=\"rtl ubd\"><span class=\"plain rtl  hl\" ><span class=\"txtu hbo\">אֹ֑ור </span></span></span></td></tr>\n",
       "<tr class=\"tf rtl\"><td class=\"tf rtl\">2</td><td class=\"tf rtl\"><span class=\"tfsechead ltr\"><a target=\"_blank\" href=\"https://shebanq.ancient-data.org/hebrew/text?book=Genesis&amp;chapter=1&amp;verse=3&amp;version=c&amp;mr=m&amp;qw=q&amp;tp=txt_p&amp;tr=hb&amp;wget=v&amp;qget=v&amp;nget=vt\" title=\"Show this on SHEBANQ\" sec=\"Genesis 1:3\">Genesis 1:3</a></span></td><td class=\"tf rtl\"><span class=\"rtl ubd\"><span class=\"plain rtl  hlbx\" ><span class=\"txtu hbo\">וַֽ</span><span class=\"plain rtl  hlbx\" ><span class=\"plain rtl  hl\" ><span class=\"txtu hbo\">יְהִי־</span></span></span><span class=\"plain rtl  hlbx\" ><span class=\"plain rtl  hl\" ><span class=\"txtu hbo\">אֹֽור׃ </span></span></span></span></span></td><td class=\"tf rtl\"><span class=\"rtl ubd\"><span class=\"plain rtl  hlbx\" ><span class=\"plain rtl  hl\" ><span class=\"txtu hbo\">יְהִי־</span></span></span></span></td><td class=\"tf rtl\"><span class=\"rtl ubd\"><span class=\"plain rtl  hl\" ><span class=\"txtu hbo\">יְהִי־</span></span></span></td><td class=\"tf rtl\"><span class=\"rtl ubd\"><span class=\"plain rtl  hlbx\" ><span class=\"plain rtl  hl\" ><span class=\"txtu hbo\">אֹֽור׃ </span></span></span></span></td><td class=\"tf rtl\"><span class=\"rtl ubd\"><span class=\"plain rtl  hl\" ><span class=\"txtu hbo\">אֹֽור׃ </span></span></span></td></tr>\n",
       "<tr class=\"tf rtl\"><td class=\"tf rtl\">3</td><td class=\"tf rtl\"><span class=\"tfsechead ltr\"><a target=\"_blank\" href=\"https://shebanq.ancient-data.org/hebrew/text?book=Genesis&amp;chapter=1&amp;verse=5&amp;version=c&amp;mr=m&amp;qw=q&amp;tp=txt_p&amp;tr=hb&amp;wget=v&amp;qget=v&amp;nget=vt\" title=\"Show this on SHEBANQ\" sec=\"Genesis 1:5\">Genesis 1:5</a></span></td><td class=\"tf rtl\"><span class=\"rtl ubd\"><span class=\"plain rtl  hlbx\" ><span class=\"txtu hbo\">וַֽ</span><span class=\"plain rtl  hlbx\" ><span class=\"plain rtl  hl\" ><span class=\"txtu hbo\">יְהִי־</span></span></span><span class=\"plain rtl  hlbx\" ><span class=\"plain rtl  hl\" ><span class=\"txtu hbo\">עֶ֥רֶב </span></span></span></span></span></td><td class=\"tf rtl\"><span class=\"rtl ubd\"><span class=\"plain rtl  hlbx\" ><span class=\"plain rtl  hl\" ><span class=\"txtu hbo\">יְהִי־</span></span></span></span></td><td class=\"tf rtl\"><span class=\"rtl ubd\"><span class=\"plain rtl  hl\" ><span class=\"txtu hbo\">יְהִי־</span></span></span></td><td class=\"tf rtl\"><span class=\"rtl ubd\"><span class=\"plain rtl  hlbx\" ><span class=\"plain rtl  hl\" ><span class=\"txtu hbo\">עֶ֥רֶב </span></span></span></span></td><td class=\"tf rtl\"><span class=\"rtl ubd\"><span class=\"plain rtl  hl\" ><span class=\"txtu hbo\">עֶ֥רֶב </span></span></span></td></tr>\n",
       "<tr class=\"tf rtl\"><td class=\"tf rtl\">4</td><td class=\"tf rtl\"><span class=\"tfsechead ltr\"><a target=\"_blank\" href=\"https://shebanq.ancient-data.org/hebrew/text?book=Genesis&amp;chapter=1&amp;verse=5&amp;version=c&amp;mr=m&amp;qw=q&amp;tp=txt_p&amp;tr=hb&amp;wget=v&amp;qget=v&amp;nget=vt\" title=\"Show this on SHEBANQ\" sec=\"Genesis 1:5\">Genesis 1:5</a></span></td><td class=\"tf rtl\"><span class=\"rtl ubd\"><span class=\"plain rtl  hlbx\" ><span class=\"txtu hbo\">וַֽ</span><span class=\"plain rtl  hlbx\" ><span class=\"plain rtl  hl\" ><span class=\"txtu hbo\">יְהִי־</span></span></span><span class=\"plain rtl  hlbx\" ><span class=\"plain rtl  hl\" ><span class=\"txtu hbo\">בֹ֖קֶר </span></span></span></span></span></td><td class=\"tf rtl\"><span class=\"rtl ubd\"><span class=\"plain rtl  hlbx\" ><span class=\"plain rtl  hl\" ><span class=\"txtu hbo\">יְהִי־</span></span></span></span></td><td class=\"tf rtl\"><span class=\"rtl ubd\"><span class=\"plain rtl  hl\" ><span class=\"txtu hbo\">יְהִי־</span></span></span></td><td class=\"tf rtl\"><span class=\"rtl ubd\"><span class=\"plain rtl  hlbx\" ><span class=\"plain rtl  hl\" ><span class=\"txtu hbo\">בֹ֖קֶר </span></span></span></span></td><td class=\"tf rtl\"><span class=\"rtl ubd\"><span class=\"plain rtl  hl\" ><span class=\"txtu hbo\">בֹ֖קֶר </span></span></span></td></tr></table>"
      ],
      "text/plain": [
       "<IPython.core.display.HTML object>"
      ]
     },
     "metadata": {},
     "output_type": "display_data"
    }
   ],
   "source": [
    "A.table(results, end=4)"
   ]
  },
  {
   "cell_type": "code",
   "execution_count": 8,
   "metadata": {},
   "outputs": [
    {
     "data": {
      "text/html": [
       "<p><b>result</b> <i>1</i></p>"
      ],
      "text/plain": [
       "<IPython.core.display.HTML object>"
      ]
     },
     "metadata": {},
     "output_type": "display_data"
    },
    {
     "data": {
      "text/html": [
       "<div class=\"tfsechead rtl\"><a target=\"_blank\" href=\"https://shebanq.ancient-data.org/hebrew/text?book=Genesis&amp;chapter=1&amp;verse=3&amp;version=c&amp;mr=m&amp;qw=q&amp;tp=txt_p&amp;tr=hb&amp;wget=v&amp;qget=v&amp;nget=vt\" title=\"Show this on SHEBANQ\" sec=\"Genesis 1:3\">Genesis 1:3</a></div><div class=\"rtl children\"><div class=\"contnr c2  rtl  \" ><div class=\"lbl c2  \" ><span class=\"nd\">clause</span></div><div class=\"children hor wrap rtl\"><div class=\"contnr c1  rtl  hl\" ><div class=\"lbl c1  hl\" ><span class=\"nd\">phrase</span></div><div class='features'><span class=\"function xft\" ><span class=\"f\">function=</span>Pred</span></div><div class=\"children hor wrap rtl\"><div class=\"contnr c0 trm rtl  hl\" ><div class=\"lbl c0 trm hl\" ><a class=\" txtu hbo\" target=\"_blank\" href=\"https://shebanq.ancient-data.org/hebrew/word?version=c&amp;id=1HJHv\" title=\"Show this on SHEBANQ\"><span class=\"txtu hbo\">יְהִ֣י </span></a></div><div class='features'><span class=\"nu xft\" ><span class=\"f\">nu=</span>sg</span><span class=\"pdp xft\" ><span class=\"f\">pdp=</span>verb</span></div></div></div></div><div class=\"contnr c1  rtl  hl\" ><div class=\"lbl c1  hl\" ><span class=\"nd\">phrase</span></div><div class='features'><span class=\"function xft\" ><span class=\"f\">function=</span>Subj</span></div><div class=\"children hor wrap rtl\"><div class=\"contnr c0 trm rtl  hl\" ><div class=\"lbl c0 trm hl\" ><a class=\" txtu hbo\" target=\"_blank\" href=\"https://shebanq.ancient-data.org/hebrew/word?version=c&amp;id=1AWRn\" title=\"Show this on SHEBANQ\"><span class=\"txtu hbo\">אֹ֑ור </span></a></div><div class='features'><span class=\"nu xft\" ><span class=\"f\">nu=</span>sg</span><span class=\"pdp xft\" ><span class=\"f\">pdp=</span>subs</span></div></div></div></div></div></div></div>"
      ],
      "text/plain": [
       "<IPython.core.display.HTML object>"
      ]
     },
     "metadata": {},
     "output_type": "display_data"
    },
    {
     "data": {
      "text/html": [
       "<p><b>result</b> <i>2</i></p>"
      ],
      "text/plain": [
       "<IPython.core.display.HTML object>"
      ]
     },
     "metadata": {},
     "output_type": "display_data"
    },
    {
     "data": {
      "text/html": [
       "<div class=\"tfsechead rtl\"><a target=\"_blank\" href=\"https://shebanq.ancient-data.org/hebrew/text?book=Genesis&amp;chapter=1&amp;verse=3&amp;version=c&amp;mr=m&amp;qw=q&amp;tp=txt_p&amp;tr=hb&amp;wget=v&amp;qget=v&amp;nget=vt\" title=\"Show this on SHEBANQ\" sec=\"Genesis 1:3\">Genesis 1:3</a></div><div class=\"rtl children\"><div class=\"contnr c2  rtl  \" ><div class=\"lbl c2  \" ><span class=\"nd\">clause</span></div><div class=\"children hor wrap rtl\"><div class=\"contnr c1  rtl  \" ><div class=\"lbl c1  \" ><span class=\"nd\">phrase</span></div><div class='features'><span class=\"function xft\" ><span class=\"f\">function=</span>Conj</span></div><div class=\"children hor wrap rtl\"><div class=\"contnr c0 trm rtl  \" ><div class=\"lbl c0 trm \" ><a class=\" txtu hbo\" target=\"_blank\" href=\"https://shebanq.ancient-data.org/hebrew/word?version=c&amp;id=1W\" title=\"Show this on SHEBANQ\"><span class=\"txtu hbo\">וַֽ</span></a></div><div class='features'><span class=\"pdp xft\" ><span class=\"f\">pdp=</span>conj</span></div></div></div></div><div class=\"contnr c1  rtl  hl\" ><div class=\"lbl c1  hl\" ><span class=\"nd\">phrase</span></div><div class='features'><span class=\"function xft\" ><span class=\"f\">function=</span>Pred</span></div><div class=\"children hor wrap rtl\"><div class=\"contnr c0 trm rtl  hl\" ><div class=\"lbl c0 trm hl\" ><a class=\" txtu hbo\" target=\"_blank\" href=\"https://shebanq.ancient-data.org/hebrew/word?version=c&amp;id=1HJHv\" title=\"Show this on SHEBANQ\"><span class=\"txtu hbo\">יְהִי־</span></a></div><div class='features'><span class=\"nu xft\" ><span class=\"f\">nu=</span>sg</span><span class=\"pdp xft\" ><span class=\"f\">pdp=</span>verb</span></div></div></div></div><div class=\"contnr c1  rtl  hl\" ><div class=\"lbl c1  hl\" ><span class=\"nd\">phrase</span></div><div class='features'><span class=\"function xft\" ><span class=\"f\">function=</span>Subj</span></div><div class=\"children hor wrap rtl\"><div class=\"contnr c0 trm rtl  hl\" ><div class=\"lbl c0 trm hl\" ><a class=\" txtu hbo\" target=\"_blank\" href=\"https://shebanq.ancient-data.org/hebrew/word?version=c&amp;id=1AWRn\" title=\"Show this on SHEBANQ\"><span class=\"txtu hbo\">אֹֽור׃ </span></a></div><div class='features'><span class=\"nu xft\" ><span class=\"f\">nu=</span>sg</span><span class=\"pdp xft\" ><span class=\"f\">pdp=</span>subs</span></div></div></div></div></div></div></div>"
      ],
      "text/plain": [
       "<IPython.core.display.HTML object>"
      ]
     },
     "metadata": {},
     "output_type": "display_data"
    },
    {
     "data": {
      "text/html": [
       "<p><b>result</b> <i>3</i></p>"
      ],
      "text/plain": [
       "<IPython.core.display.HTML object>"
      ]
     },
     "metadata": {},
     "output_type": "display_data"
    },
    {
     "data": {
      "text/html": [
       "<div class=\"tfsechead rtl\"><a target=\"_blank\" href=\"https://shebanq.ancient-data.org/hebrew/text?book=Genesis&amp;chapter=1&amp;verse=5&amp;version=c&amp;mr=m&amp;qw=q&amp;tp=txt_p&amp;tr=hb&amp;wget=v&amp;qget=v&amp;nget=vt\" title=\"Show this on SHEBANQ\" sec=\"Genesis 1:5\">Genesis 1:5</a></div><div class=\"rtl children\"><div class=\"contnr c2  rtl  \" ><div class=\"lbl c2  \" ><span class=\"nd\">clause</span></div><div class=\"children hor wrap rtl\"><div class=\"contnr c1  rtl  \" ><div class=\"lbl c1  \" ><span class=\"nd\">phrase</span></div><div class='features'><span class=\"function xft\" ><span class=\"f\">function=</span>Conj</span></div><div class=\"children hor wrap rtl\"><div class=\"contnr c0 trm rtl  \" ><div class=\"lbl c0 trm \" ><a class=\" txtu hbo\" target=\"_blank\" href=\"https://shebanq.ancient-data.org/hebrew/word?version=c&amp;id=1W\" title=\"Show this on SHEBANQ\"><span class=\"txtu hbo\">וַֽ</span></a></div><div class='features'><span class=\"pdp xft\" ><span class=\"f\">pdp=</span>conj</span></div></div></div></div><div class=\"contnr c1  rtl  hl\" ><div class=\"lbl c1  hl\" ><span class=\"nd\">phrase</span></div><div class='features'><span class=\"function xft\" ><span class=\"f\">function=</span>Pred</span></div><div class=\"children hor wrap rtl\"><div class=\"contnr c0 trm rtl  hl\" ><div class=\"lbl c0 trm hl\" ><a class=\" txtu hbo\" target=\"_blank\" href=\"https://shebanq.ancient-data.org/hebrew/word?version=c&amp;id=1HJHv\" title=\"Show this on SHEBANQ\"><span class=\"txtu hbo\">יְהִי־</span></a></div><div class='features'><span class=\"nu xft\" ><span class=\"f\">nu=</span>sg</span><span class=\"pdp xft\" ><span class=\"f\">pdp=</span>verb</span></div></div></div></div><div class=\"contnr c1  rtl  hl\" ><div class=\"lbl c1  hl\" ><span class=\"nd\">phrase</span></div><div class='features'><span class=\"function xft\" ><span class=\"f\">function=</span>Subj</span></div><div class=\"children hor wrap rtl\"><div class=\"contnr c0 trm rtl  hl\" ><div class=\"lbl c0 trm hl\" ><a class=\" txtu hbo\" target=\"_blank\" href=\"https://shebanq.ancient-data.org/hebrew/word?version=c&amp;id=1ORBn\" title=\"Show this on SHEBANQ\"><span class=\"txtu hbo\">עֶ֥רֶב </span></a></div><div class='features'><span class=\"nu xft\" ><span class=\"f\">nu=</span>sg</span><span class=\"pdp xft\" ><span class=\"f\">pdp=</span>subs</span></div></div></div></div></div></div></div>"
      ],
      "text/plain": [
       "<IPython.core.display.HTML object>"
      ]
     },
     "metadata": {},
     "output_type": "display_data"
    },
    {
     "data": {
      "text/html": [
       "<p><b>result</b> <i>4</i></p>"
      ],
      "text/plain": [
       "<IPython.core.display.HTML object>"
      ]
     },
     "metadata": {},
     "output_type": "display_data"
    },
    {
     "data": {
      "text/html": [
       "<div class=\"tfsechead rtl\"><a target=\"_blank\" href=\"https://shebanq.ancient-data.org/hebrew/text?book=Genesis&amp;chapter=1&amp;verse=5&amp;version=c&amp;mr=m&amp;qw=q&amp;tp=txt_p&amp;tr=hb&amp;wget=v&amp;qget=v&amp;nget=vt\" title=\"Show this on SHEBANQ\" sec=\"Genesis 1:5\">Genesis 1:5</a></div><div class=\"rtl children\"><div class=\"contnr c2  rtl  \" ><div class=\"lbl c2  \" ><span class=\"nd\">clause</span></div><div class=\"children hor wrap rtl\"><div class=\"contnr c1  rtl  \" ><div class=\"lbl c1  \" ><span class=\"nd\">phrase</span></div><div class='features'><span class=\"function xft\" ><span class=\"f\">function=</span>Conj</span></div><div class=\"children hor wrap rtl\"><div class=\"contnr c0 trm rtl  \" ><div class=\"lbl c0 trm \" ><a class=\" txtu hbo\" target=\"_blank\" href=\"https://shebanq.ancient-data.org/hebrew/word?version=c&amp;id=1W\" title=\"Show this on SHEBANQ\"><span class=\"txtu hbo\">וַֽ</span></a></div><div class='features'><span class=\"pdp xft\" ><span class=\"f\">pdp=</span>conj</span></div></div></div></div><div class=\"contnr c1  rtl  hl\" ><div class=\"lbl c1  hl\" ><span class=\"nd\">phrase</span></div><div class='features'><span class=\"function xft\" ><span class=\"f\">function=</span>Pred</span></div><div class=\"children hor wrap rtl\"><div class=\"contnr c0 trm rtl  hl\" ><div class=\"lbl c0 trm hl\" ><a class=\" txtu hbo\" target=\"_blank\" href=\"https://shebanq.ancient-data.org/hebrew/word?version=c&amp;id=1HJHv\" title=\"Show this on SHEBANQ\"><span class=\"txtu hbo\">יְהִי־</span></a></div><div class='features'><span class=\"nu xft\" ><span class=\"f\">nu=</span>sg</span><span class=\"pdp xft\" ><span class=\"f\">pdp=</span>verb</span></div></div></div></div><div class=\"contnr c1  rtl  hl\" ><div class=\"lbl c1  hl\" ><span class=\"nd\">phrase</span></div><div class='features'><span class=\"function xft\" ><span class=\"f\">function=</span>Subj</span></div><div class=\"children hor wrap rtl\"><div class=\"contnr c0 trm rtl  hl\" ><div class=\"lbl c0 trm hl\" ><a class=\" txtu hbo\" target=\"_blank\" href=\"https://shebanq.ancient-data.org/hebrew/word?version=c&amp;id=1BQRin\" title=\"Show this on SHEBANQ\"><span class=\"txtu hbo\">בֹ֖קֶר </span></a></div><div class='features'><span class=\"nu xft\" ><span class=\"f\">nu=</span>sg</span><span class=\"pdp xft\" ><span class=\"f\">pdp=</span>subs</span></div></div></div></div></div></div></div>"
      ],
      "text/plain": [
       "<IPython.core.display.HTML object>"
      ]
     },
     "metadata": {},
     "output_type": "display_data"
    }
   ],
   "source": [
    "A.show(results, condenseType=\"clause\", end=4)"
   ]
  },
  {
   "cell_type": "markdown",
   "metadata": {},
   "source": [
    "Now we want such pairs, but then where the grammatical number differs."
   ]
  },
  {
   "cell_type": "code",
   "execution_count": 9,
   "metadata": {},
   "outputs": [],
   "source": [
    "query = \"\"\"\n",
    "clause\n",
    "  phrase function=Pred\n",
    "    w1:word pdp=verb\n",
    "  phrase function=Subj\n",
    "    =: w2:word pdp=subs\n",
    "    :=\n",
    "w1 .nu#nu. w2\n",
    "\"\"\""
   ]
  },
  {
   "cell_type": "code",
   "execution_count": 10,
   "metadata": {},
   "outputs": [
    {
     "name": "stdout",
     "output_type": "stream",
     "text": [
      "  1.60s 739 results\n"
     ]
    }
   ],
   "source": [
    "results = A.search(query)"
   ]
  },
  {
   "cell_type": "code",
   "execution_count": 11,
   "metadata": {},
   "outputs": [
    {
     "data": {
      "text/html": [
       "<table><tr class=\"tf rtl\"><th class=\"tf rtl\">n</th><th class=\"tf rtl\">p</th><th class=\"tf rtl\">clause</th><th class=\"tf\">phrase</th><th class=\"tf\">word</th><th class=\"tf\">phrase</th><th class=\"tf\">word</th></tr>\n",
       "<tr class=\"tf rtl\"><td class=\"tf rtl\">1</td><td class=\"tf rtl\"><span class=\"tfsechead ltr\"><a target=\"_blank\" href=\"https://shebanq.ancient-data.org/hebrew/text?book=Genesis&amp;chapter=1&amp;verse=1&amp;version=c&amp;mr=m&amp;qw=q&amp;tp=txt_p&amp;tr=hb&amp;wget=v&amp;qget=v&amp;nget=vt\" title=\"Show this on SHEBANQ\" sec=\"Genesis 1:1\">Genesis 1:1</a></span></td><td class=\"tf rtl\"><span class=\"rtl ubd\"><span class=\"plain rtl  hlbx\" ><span class=\"txtu hbo\">בְּ</span><span class=\"txtu hbo\">רֵאשִׁ֖ית </span><span class=\"plain rtl  hlbx\" ><span class=\"plain rtl  hl\" ><span class=\"txtu hbo\">בָּרָ֣א </span></span></span><span class=\"plain rtl  hlbx\" ><span class=\"plain rtl  hl\" ><span class=\"txtu hbo\">אֱלֹהִ֑ים </span></span></span><span class=\"txtu hbo\">אֵ֥ת </span><span class=\"txtu hbo\">הַ</span><span class=\"txtu hbo\">שָּׁמַ֖יִם </span><span class=\"txtu hbo\">וְ</span><span class=\"txtu hbo\">אֵ֥ת </span><span class=\"txtu hbo\">הָ</span><span class=\"txtu hbo\">אָֽרֶץ׃ </span></span></span></td><td class=\"tf rtl\"><span class=\"rtl ubd\"><span class=\"plain rtl  hlbx\" ><span class=\"plain rtl  hl\" ><span class=\"txtu hbo\">בָּרָ֣א </span></span></span></span></td><td class=\"tf rtl\"><span class=\"rtl ubd\"><span class=\"plain rtl  hl\" ><span class=\"txtu hbo\">בָּרָ֣א </span></span></span></td><td class=\"tf rtl\"><span class=\"rtl ubd\"><span class=\"plain rtl  hlbx\" ><span class=\"plain rtl  hl\" ><span class=\"txtu hbo\">אֱלֹהִ֑ים </span></span></span></span></td><td class=\"tf rtl\"><span class=\"rtl ubd\"><span class=\"plain rtl  hl\" ><span class=\"txtu hbo\">אֱלֹהִ֑ים </span></span></span></td></tr>\n",
       "<tr class=\"tf rtl\"><td class=\"tf rtl\">2</td><td class=\"tf rtl\"><span class=\"tfsechead ltr\"><a target=\"_blank\" href=\"https://shebanq.ancient-data.org/hebrew/text?book=Genesis&amp;chapter=1&amp;verse=3&amp;version=c&amp;mr=m&amp;qw=q&amp;tp=txt_p&amp;tr=hb&amp;wget=v&amp;qget=v&amp;nget=vt\" title=\"Show this on SHEBANQ\" sec=\"Genesis 1:3\">Genesis 1:3</a></span></td><td class=\"tf rtl\"><span class=\"rtl ubd\"><span class=\"plain rtl  hlbx\" ><span class=\"txtu hbo\">וַ</span><span class=\"plain rtl  hlbx\" ><span class=\"plain rtl  hl\" ><span class=\"txtu hbo\">יֹּ֥אמֶר </span></span></span><span class=\"plain rtl  hlbx\" ><span class=\"plain rtl  hl\" ><span class=\"txtu hbo\">אֱלֹהִ֖ים </span></span></span></span></span></td><td class=\"tf rtl\"><span class=\"rtl ubd\"><span class=\"plain rtl  hlbx\" ><span class=\"plain rtl  hl\" ><span class=\"txtu hbo\">יֹּ֥אמֶר </span></span></span></span></td><td class=\"tf rtl\"><span class=\"rtl ubd\"><span class=\"plain rtl  hl\" ><span class=\"txtu hbo\">יֹּ֥אמֶר </span></span></span></td><td class=\"tf rtl\"><span class=\"rtl ubd\"><span class=\"plain rtl  hlbx\" ><span class=\"plain rtl  hl\" ><span class=\"txtu hbo\">אֱלֹהִ֖ים </span></span></span></span></td><td class=\"tf rtl\"><span class=\"rtl ubd\"><span class=\"plain rtl  hl\" ><span class=\"txtu hbo\">אֱלֹהִ֖ים </span></span></span></td></tr>\n",
       "<tr class=\"tf rtl\"><td class=\"tf rtl\">3</td><td class=\"tf rtl\"><span class=\"tfsechead ltr\"><a target=\"_blank\" href=\"https://shebanq.ancient-data.org/hebrew/text?book=Genesis&amp;chapter=1&amp;verse=4&amp;version=c&amp;mr=m&amp;qw=q&amp;tp=txt_p&amp;tr=hb&amp;wget=v&amp;qget=v&amp;nget=vt\" title=\"Show this on SHEBANQ\" sec=\"Genesis 1:4\">Genesis 1:4</a></span></td><td class=\"tf rtl\"><span class=\"rtl ubd\"><span class=\"plain rtl  hlbx\" ><span class=\"txtu hbo\">וַ</span><span class=\"plain rtl  hlbx\" ><span class=\"plain rtl  hl\" ><span class=\"txtu hbo\">יַּ֧רְא </span></span></span><span class=\"plain rtl  hlbx\" ><span class=\"plain rtl  hl\" ><span class=\"txtu hbo\">אֱלֹהִ֛ים </span></span></span><span class=\"txtu hbo\">אֶת־</span><span class=\"txtu hbo\">הָ</span><span class=\"txtu hbo\">אֹ֖ור </span></span></span></td><td class=\"tf rtl\"><span class=\"rtl ubd\"><span class=\"plain rtl  hlbx\" ><span class=\"plain rtl  hl\" ><span class=\"txtu hbo\">יַּ֧רְא </span></span></span></span></td><td class=\"tf rtl\"><span class=\"rtl ubd\"><span class=\"plain rtl  hl\" ><span class=\"txtu hbo\">יַּ֧רְא </span></span></span></td><td class=\"tf rtl\"><span class=\"rtl ubd\"><span class=\"plain rtl  hlbx\" ><span class=\"plain rtl  hl\" ><span class=\"txtu hbo\">אֱלֹהִ֛ים </span></span></span></span></td><td class=\"tf rtl\"><span class=\"rtl ubd\"><span class=\"plain rtl  hl\" ><span class=\"txtu hbo\">אֱלֹהִ֛ים </span></span></span></td></tr>\n",
       "<tr class=\"tf rtl\"><td class=\"tf rtl\">4</td><td class=\"tf rtl\"><span class=\"tfsechead ltr\"><a target=\"_blank\" href=\"https://shebanq.ancient-data.org/hebrew/text?book=Genesis&amp;chapter=1&amp;verse=4&amp;version=c&amp;mr=m&amp;qw=q&amp;tp=txt_p&amp;tr=hb&amp;wget=v&amp;qget=v&amp;nget=vt\" title=\"Show this on SHEBANQ\" sec=\"Genesis 1:4\">Genesis 1:4</a></span></td><td class=\"tf rtl\"><span class=\"rtl ubd\"><span class=\"plain rtl  hlbx\" ><span class=\"txtu hbo\">וַ</span><span class=\"plain rtl  hlbx\" ><span class=\"plain rtl  hl\" ><span class=\"txtu hbo\">יַּבְדֵּ֣ל </span></span></span><span class=\"plain rtl  hlbx\" ><span class=\"plain rtl  hl\" ><span class=\"txtu hbo\">אֱלֹהִ֔ים </span></span></span><span class=\"txtu hbo\">בֵּ֥ין </span><span class=\"txtu hbo\">הָ</span><span class=\"txtu hbo\">אֹ֖ור </span><span class=\"txtu hbo\">וּ</span><span class=\"txtu hbo\">בֵ֥ין </span><span class=\"txtu hbo\">הַ</span><span class=\"txtu hbo\">חֹֽשֶׁךְ׃ </span></span></span></td><td class=\"tf rtl\"><span class=\"rtl ubd\"><span class=\"plain rtl  hlbx\" ><span class=\"plain rtl  hl\" ><span class=\"txtu hbo\">יַּבְדֵּ֣ל </span></span></span></span></td><td class=\"tf rtl\"><span class=\"rtl ubd\"><span class=\"plain rtl  hl\" ><span class=\"txtu hbo\">יַּבְדֵּ֣ל </span></span></span></td><td class=\"tf rtl\"><span class=\"rtl ubd\"><span class=\"plain rtl  hlbx\" ><span class=\"plain rtl  hl\" ><span class=\"txtu hbo\">אֱלֹהִ֔ים </span></span></span></span></td><td class=\"tf rtl\"><span class=\"rtl ubd\"><span class=\"plain rtl  hl\" ><span class=\"txtu hbo\">אֱלֹהִ֔ים </span></span></span></td></tr></table>"
      ],
      "text/plain": [
       "<IPython.core.display.HTML object>"
      ]
     },
     "metadata": {},
     "output_type": "display_data"
    }
   ],
   "source": [
    "A.table(results, end=4)"
   ]
  },
  {
   "cell_type": "code",
   "execution_count": 12,
   "metadata": {},
   "outputs": [
    {
     "data": {
      "text/html": [
       "<p><b>result</b> <i>1</i></p>"
      ],
      "text/plain": [
       "<IPython.core.display.HTML object>"
      ]
     },
     "metadata": {},
     "output_type": "display_data"
    },
    {
     "data": {
      "text/html": [
       "<div class=\"tfsechead rtl\"><a target=\"_blank\" href=\"https://shebanq.ancient-data.org/hebrew/text?book=Genesis&amp;chapter=1&amp;verse=1&amp;version=c&amp;mr=m&amp;qw=q&amp;tp=txt_p&amp;tr=hb&amp;wget=v&amp;qget=v&amp;nget=vt\" title=\"Show this on SHEBANQ\" sec=\"Genesis 1:1\">Genesis 1:1</a></div><div class=\"rtl children\"><div class=\"contnr c2  rtl  \" ><div class=\"lbl c2  \" ><span class=\"nd\">clause</span></div><div class=\"children hor wrap rtl\"><div class=\"contnr c1  rtl  \" ><div class=\"lbl c1  \" ><span class=\"nd\">phrase</span></div><div class='features'><span class=\"function xft\" ><span class=\"f\">function=</span>Time</span></div><div class=\"children hor wrap rtl\"><div class=\"contnr c0 trm rtl  \" ><div class=\"lbl c0 trm \" ><a class=\" txtu hbo\" target=\"_blank\" href=\"https://shebanq.ancient-data.org/hebrew/word?version=c&amp;id=1B\" title=\"Show this on SHEBANQ\"><span class=\"txtu hbo\">בְּ</span></a></div><div class='features'><span class=\"pdp xft\" ><span class=\"f\">pdp=</span>prep</span></div></div><div class=\"contnr c0 trm rtl  \" ><div class=\"lbl c0 trm \" ><a class=\" txtu hbo\" target=\"_blank\" href=\"https://shebanq.ancient-data.org/hebrew/word?version=c&amp;id=1RACJTn\" title=\"Show this on SHEBANQ\"><span class=\"txtu hbo\">רֵאשִׁ֖ית </span></a></div><div class='features'><span class=\"nu xft\" ><span class=\"f\">nu=</span>sg</span><span class=\"pdp xft\" ><span class=\"f\">pdp=</span>subs</span></div></div></div></div><div class=\"contnr c1  rtl  hl\" ><div class=\"lbl c1  hl\" ><span class=\"nd\">phrase</span></div><div class='features'><span class=\"function xft\" ><span class=\"f\">function=</span>Pred</span></div><div class=\"children hor wrap rtl\"><div class=\"contnr c0 trm rtl  hl\" ><div class=\"lbl c0 trm hl\" ><a class=\" txtu hbo\" target=\"_blank\" href=\"https://shebanq.ancient-data.org/hebrew/word?version=c&amp;id=1BRAv\" title=\"Show this on SHEBANQ\"><span class=\"txtu hbo\">בָּרָ֣א </span></a></div><div class='features'><span class=\"nu xft\" ><span class=\"f\">nu=</span>sg</span><span class=\"pdp xft\" ><span class=\"f\">pdp=</span>verb</span></div></div></div></div><div class=\"contnr c1  rtl  hl\" ><div class=\"lbl c1  hl\" ><span class=\"nd\">phrase</span></div><div class='features'><span class=\"function xft\" ><span class=\"f\">function=</span>Subj</span></div><div class=\"children hor wrap rtl\"><div class=\"contnr c0 trm rtl  hl\" ><div class=\"lbl c0 trm hl\" ><a class=\" txtu hbo\" target=\"_blank\" href=\"https://shebanq.ancient-data.org/hebrew/word?version=c&amp;id=1ALHJMn\" title=\"Show this on SHEBANQ\"><span class=\"txtu hbo\">אֱלֹהִ֑ים </span></a></div><div class='features'><span class=\"nu xft\" ><span class=\"f\">nu=</span>pl</span><span class=\"pdp xft\" ><span class=\"f\">pdp=</span>subs</span></div></div></div></div><div class=\"contnr c1  rtl  \" ><div class=\"lbl c1  \" ><span class=\"nd\">phrase</span></div><div class='features'><span class=\"function xft\" ><span class=\"f\">function=</span>Objc</span></div><div class=\"children hor wrap rtl\"><div class=\"contnr c0 trm rtl  \" ><div class=\"lbl c0 trm \" ><a class=\" txtu hbo\" target=\"_blank\" href=\"https://shebanq.ancient-data.org/hebrew/word?version=c&amp;id=1AT\" title=\"Show this on SHEBANQ\"><span class=\"txtu hbo\">אֵ֥ת </span></a></div><div class='features'><span class=\"pdp xft\" ><span class=\"f\">pdp=</span>prep</span></div></div><div class=\"contnr c0 trm rtl  \" ><div class=\"lbl c0 trm \" ><a class=\" txtu hbo\" target=\"_blank\" href=\"https://shebanq.ancient-data.org/hebrew/word?version=c&amp;id=1H\" title=\"Show this on SHEBANQ\"><span class=\"txtu hbo\">הַ</span></a></div><div class='features'><span class=\"pdp xft\" ><span class=\"f\">pdp=</span>art</span></div></div><div class=\"contnr c0 trm rtl  \" ><div class=\"lbl c0 trm \" ><a class=\" txtu hbo\" target=\"_blank\" href=\"https://shebanq.ancient-data.org/hebrew/word?version=c&amp;id=1CMJMn\" title=\"Show this on SHEBANQ\"><span class=\"txtu hbo\">שָּׁמַ֖יִם </span></a></div><div class='features'><span class=\"nu xft\" ><span class=\"f\">nu=</span>pl</span><span class=\"pdp xft\" ><span class=\"f\">pdp=</span>subs</span></div></div><div class=\"contnr c0 trm rtl  \" ><div class=\"lbl c0 trm \" ><a class=\" txtu hbo\" target=\"_blank\" href=\"https://shebanq.ancient-data.org/hebrew/word?version=c&amp;id=1W\" title=\"Show this on SHEBANQ\"><span class=\"txtu hbo\">וְ</span></a></div><div class='features'><span class=\"pdp xft\" ><span class=\"f\">pdp=</span>conj</span></div></div><div class=\"contnr c0 trm rtl  \" ><div class=\"lbl c0 trm \" ><a class=\" txtu hbo\" target=\"_blank\" href=\"https://shebanq.ancient-data.org/hebrew/word?version=c&amp;id=1AT\" title=\"Show this on SHEBANQ\"><span class=\"txtu hbo\">אֵ֥ת </span></a></div><div class='features'><span class=\"pdp xft\" ><span class=\"f\">pdp=</span>prep</span></div></div><div class=\"contnr c0 trm rtl  \" ><div class=\"lbl c0 trm \" ><a class=\" txtu hbo\" target=\"_blank\" href=\"https://shebanq.ancient-data.org/hebrew/word?version=c&amp;id=1H\" title=\"Show this on SHEBANQ\"><span class=\"txtu hbo\">הָ</span></a></div><div class='features'><span class=\"pdp xft\" ><span class=\"f\">pdp=</span>art</span></div></div><div class=\"contnr c0 trm rtl  \" ><div class=\"lbl c0 trm \" ><a class=\" txtu hbo\" target=\"_blank\" href=\"https://shebanq.ancient-data.org/hebrew/word?version=c&amp;id=1ARYn\" title=\"Show this on SHEBANQ\"><span class=\"txtu hbo\">אָֽרֶץ׃ </span></a></div><div class='features'><span class=\"nu xft\" ><span class=\"f\">nu=</span>sg</span><span class=\"pdp xft\" ><span class=\"f\">pdp=</span>subs</span></div></div></div></div></div></div></div>"
      ],
      "text/plain": [
       "<IPython.core.display.HTML object>"
      ]
     },
     "metadata": {},
     "output_type": "display_data"
    },
    {
     "data": {
      "text/html": [
       "<p><b>result</b> <i>2</i></p>"
      ],
      "text/plain": [
       "<IPython.core.display.HTML object>"
      ]
     },
     "metadata": {},
     "output_type": "display_data"
    },
    {
     "data": {
      "text/html": [
       "<div class=\"tfsechead rtl\"><a target=\"_blank\" href=\"https://shebanq.ancient-data.org/hebrew/text?book=Genesis&amp;chapter=1&amp;verse=3&amp;version=c&amp;mr=m&amp;qw=q&amp;tp=txt_p&amp;tr=hb&amp;wget=v&amp;qget=v&amp;nget=vt\" title=\"Show this on SHEBANQ\" sec=\"Genesis 1:3\">Genesis 1:3</a></div><div class=\"rtl children\"><div class=\"contnr c2  rtl  \" ><div class=\"lbl c2  \" ><span class=\"nd\">clause</span></div><div class=\"children hor wrap rtl\"><div class=\"contnr c1  rtl  \" ><div class=\"lbl c1  \" ><span class=\"nd\">phrase</span></div><div class='features'><span class=\"function xft\" ><span class=\"f\">function=</span>Conj</span></div><div class=\"children hor wrap rtl\"><div class=\"contnr c0 trm rtl  \" ><div class=\"lbl c0 trm \" ><a class=\" txtu hbo\" target=\"_blank\" href=\"https://shebanq.ancient-data.org/hebrew/word?version=c&amp;id=1W\" title=\"Show this on SHEBANQ\"><span class=\"txtu hbo\">וַ</span></a></div><div class='features'><span class=\"pdp xft\" ><span class=\"f\">pdp=</span>conj</span></div></div></div></div><div class=\"contnr c1  rtl  hl\" ><div class=\"lbl c1  hl\" ><span class=\"nd\">phrase</span></div><div class='features'><span class=\"function xft\" ><span class=\"f\">function=</span>Pred</span></div><div class=\"children hor wrap rtl\"><div class=\"contnr c0 trm rtl  hl\" ><div class=\"lbl c0 trm hl\" ><a class=\" txtu hbo\" target=\"_blank\" href=\"https://shebanq.ancient-data.org/hebrew/word?version=c&amp;id=1AMRv\" title=\"Show this on SHEBANQ\"><span class=\"txtu hbo\">יֹּ֥אמֶר </span></a></div><div class='features'><span class=\"nu xft\" ><span class=\"f\">nu=</span>sg</span><span class=\"pdp xft\" ><span class=\"f\">pdp=</span>verb</span></div></div></div></div><div class=\"contnr c1  rtl  hl\" ><div class=\"lbl c1  hl\" ><span class=\"nd\">phrase</span></div><div class='features'><span class=\"function xft\" ><span class=\"f\">function=</span>Subj</span></div><div class=\"children hor wrap rtl\"><div class=\"contnr c0 trm rtl  hl\" ><div class=\"lbl c0 trm hl\" ><a class=\" txtu hbo\" target=\"_blank\" href=\"https://shebanq.ancient-data.org/hebrew/word?version=c&amp;id=1ALHJMn\" title=\"Show this on SHEBANQ\"><span class=\"txtu hbo\">אֱלֹהִ֖ים </span></a></div><div class='features'><span class=\"nu xft\" ><span class=\"f\">nu=</span>pl</span><span class=\"pdp xft\" ><span class=\"f\">pdp=</span>subs</span></div></div></div></div></div></div></div>"
      ],
      "text/plain": [
       "<IPython.core.display.HTML object>"
      ]
     },
     "metadata": {},
     "output_type": "display_data"
    },
    {
     "data": {
      "text/html": [
       "<p><b>result</b> <i>3</i></p>"
      ],
      "text/plain": [
       "<IPython.core.display.HTML object>"
      ]
     },
     "metadata": {},
     "output_type": "display_data"
    },
    {
     "data": {
      "text/html": [
       "<div class=\"tfsechead rtl\"><a target=\"_blank\" href=\"https://shebanq.ancient-data.org/hebrew/text?book=Genesis&amp;chapter=1&amp;verse=4&amp;version=c&amp;mr=m&amp;qw=q&amp;tp=txt_p&amp;tr=hb&amp;wget=v&amp;qget=v&amp;nget=vt\" title=\"Show this on SHEBANQ\" sec=\"Genesis 1:4\">Genesis 1:4</a></div><div class=\"rtl children\"><div class=\"contnr c2  rtl  \" ><div class=\"lbl c2  \" ><span class=\"nd\">clause</span></div><div class=\"children hor wrap rtl\"><div class=\"contnr c1  rtl  \" ><div class=\"lbl c1  \" ><span class=\"nd\">phrase</span></div><div class='features'><span class=\"function xft\" ><span class=\"f\">function=</span>Conj</span></div><div class=\"children hor wrap rtl\"><div class=\"contnr c0 trm rtl  \" ><div class=\"lbl c0 trm \" ><a class=\" txtu hbo\" target=\"_blank\" href=\"https://shebanq.ancient-data.org/hebrew/word?version=c&amp;id=1W\" title=\"Show this on SHEBANQ\"><span class=\"txtu hbo\">וַ</span></a></div><div class='features'><span class=\"pdp xft\" ><span class=\"f\">pdp=</span>conj</span></div></div></div></div><div class=\"contnr c1  rtl  hl\" ><div class=\"lbl c1  hl\" ><span class=\"nd\">phrase</span></div><div class='features'><span class=\"function xft\" ><span class=\"f\">function=</span>Pred</span></div><div class=\"children hor wrap rtl\"><div class=\"contnr c0 trm rtl  hl\" ><div class=\"lbl c0 trm hl\" ><a class=\" txtu hbo\" target=\"_blank\" href=\"https://shebanq.ancient-data.org/hebrew/word?version=c&amp;id=1RAHv\" title=\"Show this on SHEBANQ\"><span class=\"txtu hbo\">יַּ֧רְא </span></a></div><div class='features'><span class=\"nu xft\" ><span class=\"f\">nu=</span>sg</span><span class=\"pdp xft\" ><span class=\"f\">pdp=</span>verb</span></div></div></div></div><div class=\"contnr c1  rtl  hl\" ><div class=\"lbl c1  hl\" ><span class=\"nd\">phrase</span></div><div class='features'><span class=\"function xft\" ><span class=\"f\">function=</span>Subj</span></div><div class=\"children hor wrap rtl\"><div class=\"contnr c0 trm rtl  hl\" ><div class=\"lbl c0 trm hl\" ><a class=\" txtu hbo\" target=\"_blank\" href=\"https://shebanq.ancient-data.org/hebrew/word?version=c&amp;id=1ALHJMn\" title=\"Show this on SHEBANQ\"><span class=\"txtu hbo\">אֱלֹהִ֛ים </span></a></div><div class='features'><span class=\"nu xft\" ><span class=\"f\">nu=</span>pl</span><span class=\"pdp xft\" ><span class=\"f\">pdp=</span>subs</span></div></div></div></div><div class=\"contnr c1  rtl  \" ><div class=\"lbl c1  \" ><span class=\"nd\">phrase</span></div><div class='features'><span class=\"function xft\" ><span class=\"f\">function=</span>Objc</span></div><div class=\"children hor wrap rtl\"><div class=\"contnr c0 trm rtl  \" ><div class=\"lbl c0 trm \" ><a class=\" txtu hbo\" target=\"_blank\" href=\"https://shebanq.ancient-data.org/hebrew/word?version=c&amp;id=1AT\" title=\"Show this on SHEBANQ\"><span class=\"txtu hbo\">אֶת־</span></a></div><div class='features'><span class=\"pdp xft\" ><span class=\"f\">pdp=</span>prep</span></div></div><div class=\"contnr c0 trm rtl  \" ><div class=\"lbl c0 trm \" ><a class=\" txtu hbo\" target=\"_blank\" href=\"https://shebanq.ancient-data.org/hebrew/word?version=c&amp;id=1H\" title=\"Show this on SHEBANQ\"><span class=\"txtu hbo\">הָ</span></a></div><div class='features'><span class=\"pdp xft\" ><span class=\"f\">pdp=</span>art</span></div></div><div class=\"contnr c0 trm rtl  \" ><div class=\"lbl c0 trm \" ><a class=\" txtu hbo\" target=\"_blank\" href=\"https://shebanq.ancient-data.org/hebrew/word?version=c&amp;id=1AWRn\" title=\"Show this on SHEBANQ\"><span class=\"txtu hbo\">אֹ֖ור </span></a></div><div class='features'><span class=\"nu xft\" ><span class=\"f\">nu=</span>sg</span><span class=\"pdp xft\" ><span class=\"f\">pdp=</span>subs</span></div></div></div></div></div></div></div>"
      ],
      "text/plain": [
       "<IPython.core.display.HTML object>"
      ]
     },
     "metadata": {},
     "output_type": "display_data"
    },
    {
     "data": {
      "text/html": [
       "<p><b>result</b> <i>4</i></p>"
      ],
      "text/plain": [
       "<IPython.core.display.HTML object>"
      ]
     },
     "metadata": {},
     "output_type": "display_data"
    },
    {
     "data": {
      "text/html": [
       "<div class=\"tfsechead rtl\"><a target=\"_blank\" href=\"https://shebanq.ancient-data.org/hebrew/text?book=Genesis&amp;chapter=1&amp;verse=4&amp;version=c&amp;mr=m&amp;qw=q&amp;tp=txt_p&amp;tr=hb&amp;wget=v&amp;qget=v&amp;nget=vt\" title=\"Show this on SHEBANQ\" sec=\"Genesis 1:4\">Genesis 1:4</a></div><div class=\"rtl children\"><div class=\"contnr c2  rtl  \" ><div class=\"lbl c2  \" ><span class=\"nd\">clause</span></div><div class=\"children hor wrap rtl\"><div class=\"contnr c1  rtl  \" ><div class=\"lbl c1  \" ><span class=\"nd\">phrase</span></div><div class='features'><span class=\"function xft\" ><span class=\"f\">function=</span>Conj</span></div><div class=\"children hor wrap rtl\"><div class=\"contnr c0 trm rtl  \" ><div class=\"lbl c0 trm \" ><a class=\" txtu hbo\" target=\"_blank\" href=\"https://shebanq.ancient-data.org/hebrew/word?version=c&amp;id=1W\" title=\"Show this on SHEBANQ\"><span class=\"txtu hbo\">וַ</span></a></div><div class='features'><span class=\"pdp xft\" ><span class=\"f\">pdp=</span>conj</span></div></div></div></div><div class=\"contnr c1  rtl  hl\" ><div class=\"lbl c1  hl\" ><span class=\"nd\">phrase</span></div><div class='features'><span class=\"function xft\" ><span class=\"f\">function=</span>Pred</span></div><div class=\"children hor wrap rtl\"><div class=\"contnr c0 trm rtl  hl\" ><div class=\"lbl c0 trm hl\" ><a class=\" txtu hbo\" target=\"_blank\" href=\"https://shebanq.ancient-data.org/hebrew/word?version=c&amp;id=1BDLv\" title=\"Show this on SHEBANQ\"><span class=\"txtu hbo\">יַּבְדֵּ֣ל </span></a></div><div class='features'><span class=\"nu xft\" ><span class=\"f\">nu=</span>sg</span><span class=\"pdp xft\" ><span class=\"f\">pdp=</span>verb</span></div></div></div></div><div class=\"contnr c1  rtl  hl\" ><div class=\"lbl c1  hl\" ><span class=\"nd\">phrase</span></div><div class='features'><span class=\"function xft\" ><span class=\"f\">function=</span>Subj</span></div><div class=\"children hor wrap rtl\"><div class=\"contnr c0 trm rtl  hl\" ><div class=\"lbl c0 trm hl\" ><a class=\" txtu hbo\" target=\"_blank\" href=\"https://shebanq.ancient-data.org/hebrew/word?version=c&amp;id=1ALHJMn\" title=\"Show this on SHEBANQ\"><span class=\"txtu hbo\">אֱלֹהִ֔ים </span></a></div><div class='features'><span class=\"nu xft\" ><span class=\"f\">nu=</span>pl</span><span class=\"pdp xft\" ><span class=\"f\">pdp=</span>subs</span></div></div></div></div><div class=\"contnr c1  rtl  \" ><div class=\"lbl c1  \" ><span class=\"nd\">phrase</span></div><div class='features'><span class=\"function xft\" ><span class=\"f\">function=</span>Cmpl</span></div><div class=\"children hor wrap rtl\"><div class=\"contnr c0 trm rtl  \" ><div class=\"lbl c0 trm \" ><a class=\" txtu hbo\" target=\"_blank\" href=\"https://shebanq.ancient-data.org/hebrew/word?version=c&amp;id=1BJNn\" title=\"Show this on SHEBANQ\"><span class=\"txtu hbo\">בֵּ֥ין </span></a></div><div class='features'><span class=\"nu xft\" ><span class=\"f\">nu=</span>sg</span><span class=\"pdp xft\" ><span class=\"f\">pdp=</span>prep</span></div></div><div class=\"contnr c0 trm rtl  \" ><div class=\"lbl c0 trm \" ><a class=\" txtu hbo\" target=\"_blank\" href=\"https://shebanq.ancient-data.org/hebrew/word?version=c&amp;id=1H\" title=\"Show this on SHEBANQ\"><span class=\"txtu hbo\">הָ</span></a></div><div class='features'><span class=\"pdp xft\" ><span class=\"f\">pdp=</span>art</span></div></div><div class=\"contnr c0 trm rtl  \" ><div class=\"lbl c0 trm \" ><a class=\" txtu hbo\" target=\"_blank\" href=\"https://shebanq.ancient-data.org/hebrew/word?version=c&amp;id=1AWRn\" title=\"Show this on SHEBANQ\"><span class=\"txtu hbo\">אֹ֖ור </span></a></div><div class='features'><span class=\"nu xft\" ><span class=\"f\">nu=</span>sg</span><span class=\"pdp xft\" ><span class=\"f\">pdp=</span>subs</span></div></div><div class=\"contnr c0 trm rtl  \" ><div class=\"lbl c0 trm \" ><a class=\" txtu hbo\" target=\"_blank\" href=\"https://shebanq.ancient-data.org/hebrew/word?version=c&amp;id=1W\" title=\"Show this on SHEBANQ\"><span class=\"txtu hbo\">וּ</span></a></div><div class='features'><span class=\"pdp xft\" ><span class=\"f\">pdp=</span>conj</span></div></div><div class=\"contnr c0 trm rtl  \" ><div class=\"lbl c0 trm \" ><a class=\" txtu hbo\" target=\"_blank\" href=\"https://shebanq.ancient-data.org/hebrew/word?version=c&amp;id=1BJNn\" title=\"Show this on SHEBANQ\"><span class=\"txtu hbo\">בֵ֥ין </span></a></div><div class='features'><span class=\"nu xft\" ><span class=\"f\">nu=</span>sg</span><span class=\"pdp xft\" ><span class=\"f\">pdp=</span>prep</span></div></div><div class=\"contnr c0 trm rtl  \" ><div class=\"lbl c0 trm \" ><a class=\" txtu hbo\" target=\"_blank\" href=\"https://shebanq.ancient-data.org/hebrew/word?version=c&amp;id=1H\" title=\"Show this on SHEBANQ\"><span class=\"txtu hbo\">הַ</span></a></div><div class='features'><span class=\"pdp xft\" ><span class=\"f\">pdp=</span>art</span></div></div><div class=\"contnr c0 trm rtl  \" ><div class=\"lbl c0 trm \" ><a class=\" txtu hbo\" target=\"_blank\" href=\"https://shebanq.ancient-data.org/hebrew/word?version=c&amp;id=1XCKn\" title=\"Show this on SHEBANQ\"><span class=\"txtu hbo\">חֹֽשֶׁךְ׃ </span></a></div><div class='features'><span class=\"nu xft\" ><span class=\"f\">nu=</span>sg</span><span class=\"pdp xft\" ><span class=\"f\">pdp=</span>subs</span></div></div></div></div></div></div></div>"
      ],
      "text/plain": [
       "<IPython.core.display.HTML object>"
      ]
     },
     "metadata": {},
     "output_type": "display_data"
    }
   ],
   "source": [
    "A.show(results, condenseType=\"clause\", end=4)"
   ]
  },
  {
   "cell_type": "markdown",
   "metadata": {},
   "source": [
    "and now where the subject is not God(s)."
   ]
  },
  {
   "cell_type": "code",
   "execution_count": 13,
   "metadata": {},
   "outputs": [],
   "source": [
    "query = \"\"\"\n",
    "clause\n",
    "  phrase function=Pred\n",
    "    w1:word pdp=verb\n",
    "  phrase function=Subj\n",
    "    =: w2:word pdp=subs lex#>LHJM/\n",
    "    :=\n",
    "w1 .nu#nu. w2\n",
    "\"\"\""
   ]
  },
  {
   "cell_type": "code",
   "execution_count": 14,
   "metadata": {},
   "outputs": [
    {
     "name": "stdout",
     "output_type": "stream",
     "text": [
      "  1.95s 525 results\n"
     ]
    }
   ],
   "source": [
    "results = A.search(query)"
   ]
  },
  {
   "cell_type": "code",
   "execution_count": 15,
   "metadata": {},
   "outputs": [
    {
     "data": {
      "text/html": [
       "<table><tr class=\"tf rtl\"><th class=\"tf rtl\">n</th><th class=\"tf rtl\">p</th><th class=\"tf rtl\">clause</th><th class=\"tf\">phrase</th><th class=\"tf\">word</th><th class=\"tf\">phrase</th><th class=\"tf\">word</th></tr>\n",
       "<tr class=\"tf rtl\"><td class=\"tf rtl\">1</td><td class=\"tf rtl\"><span class=\"tfsechead ltr\"><a target=\"_blank\" href=\"https://shebanq.ancient-data.org/hebrew/text?book=Genesis&amp;chapter=1&amp;verse=14&amp;version=c&amp;mr=m&amp;qw=q&amp;tp=txt_p&amp;tr=hb&amp;wget=v&amp;qget=v&amp;nget=vt\" title=\"Show this on SHEBANQ\" sec=\"Genesis 1:14\">Genesis 1:14</a></span></td><td class=\"tf rtl\"><span class=\"rtl ubd\"><span class=\"plain rtl  hlbx\" ><span class=\"plain rtl  hlbx\" ><span class=\"plain rtl  hl\" ><span class=\"txtu hbo\">יְהִ֤י </span></span></span><span class=\"plain rtl  hlbx\" ><span class=\"plain rtl  hl\" ><span class=\"txtu hbo\">מְאֹרֹת֙ </span></span></span><span class=\"txtu hbo\">בִּ</span><span class=\"txtu hbo\">רְקִ֣יעַ </span><span class=\"txtu hbo\">הַ</span><span class=\"txtu hbo\">שָּׁמַ֔יִם </span></span></span></td><td class=\"tf rtl\"><span class=\"rtl ubd\"><span class=\"plain rtl  hlbx\" ><span class=\"plain rtl  hl\" ><span class=\"txtu hbo\">יְהִ֤י </span></span></span></span></td><td class=\"tf rtl\"><span class=\"rtl ubd\"><span class=\"plain rtl  hl\" ><span class=\"txtu hbo\">יְהִ֤י </span></span></span></td><td class=\"tf rtl\"><span class=\"rtl ubd\"><span class=\"plain rtl  hlbx\" ><span class=\"plain rtl  hl\" ><span class=\"txtu hbo\">מְאֹרֹת֙ </span></span></span></span></td><td class=\"tf rtl\"><span class=\"rtl ubd\"><span class=\"plain rtl  hl\" ><span class=\"txtu hbo\">מְאֹרֹת֙ </span></span></span></td></tr>\n",
       "<tr class=\"tf rtl\"><td class=\"tf rtl\">2</td><td class=\"tf rtl\"><span class=\"tfsechead ltr\"><a target=\"_blank\" href=\"https://shebanq.ancient-data.org/hebrew/text?book=Genesis&amp;chapter=3&amp;verse=5&amp;version=c&amp;mr=m&amp;qw=q&amp;tp=txt_p&amp;tr=hb&amp;wget=v&amp;qget=v&amp;nget=vt\" title=\"Show this on SHEBANQ\" sec=\"Genesis 3:5\">Genesis 3:5</a></span></td><td class=\"tf rtl\"><span class=\"rtl ubd\"><span class=\"plain rtl  hlbx\" ><span class=\"txtu hbo\">וְ</span><span class=\"plain rtl  hlbx\" ><span class=\"plain rtl  hl\" ><span class=\"txtu hbo\">נִפְקְח֖וּ </span></span></span><span class=\"plain rtl  hlbx\" ><span class=\"plain rtl  hl\" ><span class=\"txtu hbo\">עֵֽינֵיכֶ֑ם </span></span></span></span></span></td><td class=\"tf rtl\"><span class=\"rtl ubd\"><span class=\"plain rtl  hlbx\" ><span class=\"plain rtl  hl\" ><span class=\"txtu hbo\">נִפְקְח֖וּ </span></span></span></span></td><td class=\"tf rtl\"><span class=\"rtl ubd\"><span class=\"plain rtl  hl\" ><span class=\"txtu hbo\">נִפְקְח֖וּ </span></span></span></td><td class=\"tf rtl\"><span class=\"rtl ubd\"><span class=\"plain rtl  hlbx\" ><span class=\"plain rtl  hl\" ><span class=\"txtu hbo\">עֵֽינֵיכֶ֑ם </span></span></span></span></td><td class=\"tf rtl\"><span class=\"rtl ubd\"><span class=\"plain rtl  hl\" ><span class=\"txtu hbo\">עֵֽינֵיכֶ֑ם </span></span></span></td></tr>\n",
       "<tr class=\"tf rtl\"><td class=\"tf rtl\">3</td><td class=\"tf rtl\"><span class=\"tfsechead ltr\"><a target=\"_blank\" href=\"https://shebanq.ancient-data.org/hebrew/text?book=Genesis&amp;chapter=7&amp;verse=22&amp;version=c&amp;mr=m&amp;qw=q&amp;tp=txt_p&amp;tr=hb&amp;wget=v&amp;qget=v&amp;nget=vt\" title=\"Show this on SHEBANQ\" sec=\"Genesis 7:22\">Genesis 7:22</a></span></td><td class=\"tf rtl\"><span class=\"rtl ubd\"><span class=\"plain rtl l hlbx\" ><span class=\"plain rtl  hlbx\" ><span class=\"plain rtl  hl\" ><span class=\"txtu hbo\">כֹּ֡ל </span></span></span></span><span class=\"plain rtl r l hlbx\" ><span class=\"txtu hbo\">מִ</span><span class=\"txtu hbo\">כֹּ֛ל </span></span><span class=\"plain rtl r hlbx\" ><span class=\"plain rtl  hlbx\" ><span class=\"plain rtl  hl\" ><span class=\"txtu hbo\">מֵֽתוּ׃ </span></span></span></span></span></td><td class=\"tf rtl\"><span class=\"rtl ubd\"><span class=\"plain rtl  hlbx\" ><span class=\"plain rtl  hl\" ><span class=\"txtu hbo\">מֵֽתוּ׃ </span></span></span></span></td><td class=\"tf rtl\"><span class=\"rtl ubd\"><span class=\"plain rtl  hl\" ><span class=\"txtu hbo\">מֵֽתוּ׃ </span></span></span></td><td class=\"tf rtl\"><span class=\"rtl ubd\"><span class=\"plain rtl  hlbx\" ><span class=\"plain rtl  hl\" ><span class=\"txtu hbo\">כֹּ֡ל </span></span></span></span></td><td class=\"tf rtl\"><span class=\"rtl ubd\"><span class=\"plain rtl  hl\" ><span class=\"txtu hbo\">כֹּ֡ל </span></span></span></td></tr>\n",
       "<tr class=\"tf rtl\"><td class=\"tf rtl\">4</td><td class=\"tf rtl\"><span class=\"tfsechead ltr\"><a target=\"_blank\" href=\"https://shebanq.ancient-data.org/hebrew/text?book=Genesis&amp;chapter=18&amp;verse=32&amp;version=c&amp;mr=m&amp;qw=q&amp;tp=txt_p&amp;tr=hb&amp;wget=v&amp;qget=v&amp;nget=vt\" title=\"Show this on SHEBANQ\" sec=\"Genesis 18:32\">Genesis 18:32</a></span></td><td class=\"tf rtl\"><span class=\"rtl ubd\"><span class=\"plain rtl  hlbx\" ><span class=\"txtu hbo\">אוּלַ֛י </span><span class=\"plain rtl  hlbx\" ><span class=\"plain rtl  hl\" ><span class=\"txtu hbo\">יִמָּצְא֥וּן </span></span></span><span class=\"txtu hbo\">שָׁ֖ם </span><span class=\"plain rtl  hlbx\" ><span class=\"plain rtl  hl\" ><span class=\"txtu hbo\">עֲשָׂרָ֑ה </span></span></span></span></span></td><td class=\"tf rtl\"><span class=\"rtl ubd\"><span class=\"plain rtl  hlbx\" ><span class=\"plain rtl  hl\" ><span class=\"txtu hbo\">יִמָּצְא֥וּן </span></span></span></span></td><td class=\"tf rtl\"><span class=\"rtl ubd\"><span class=\"plain rtl  hl\" ><span class=\"txtu hbo\">יִמָּצְא֥וּן </span></span></span></td><td class=\"tf rtl\"><span class=\"rtl ubd\"><span class=\"plain rtl  hlbx\" ><span class=\"plain rtl  hl\" ><span class=\"txtu hbo\">עֲשָׂרָ֑ה </span></span></span></span></td><td class=\"tf rtl\"><span class=\"rtl ubd\"><span class=\"plain rtl  hl\" ><span class=\"txtu hbo\">עֲשָׂרָ֑ה </span></span></span></td></tr></table>"
      ],
      "text/plain": [
       "<IPython.core.display.HTML object>"
      ]
     },
     "metadata": {},
     "output_type": "display_data"
    }
   ],
   "source": [
    "A.table(results, end=4)"
   ]
  },
  {
   "cell_type": "code",
   "execution_count": 16,
   "metadata": {},
   "outputs": [
    {
     "data": {
      "text/html": [
       "<p><b>result</b> <i>1</i></p>"
      ],
      "text/plain": [
       "<IPython.core.display.HTML object>"
      ]
     },
     "metadata": {},
     "output_type": "display_data"
    },
    {
     "data": {
      "text/html": [
       "<div class=\"tfsechead rtl\"><a target=\"_blank\" href=\"https://shebanq.ancient-data.org/hebrew/text?book=Genesis&amp;chapter=1&amp;verse=14&amp;version=c&amp;mr=m&amp;qw=q&amp;tp=txt_p&amp;tr=hb&amp;wget=v&amp;qget=v&amp;nget=vt\" title=\"Show this on SHEBANQ\" sec=\"Genesis 1:14\">Genesis 1:14</a></div><div class=\"rtl children\"><div class=\"contnr c2  rtl  \" ><div class=\"lbl c2  \" ><span class=\"nd\">clause</span></div><div class=\"children hor wrap rtl\"><div class=\"contnr c1  rtl  hl\" ><div class=\"lbl c1  hl\" ><span class=\"nd\">phrase</span></div><div class='features'><span class=\"function xft\" ><span class=\"f\">function=</span>Pred</span></div><div class=\"children hor wrap rtl\"><div class=\"contnr c0 trm rtl  hl\" ><div class=\"lbl c0 trm hl\" ><a class=\" txtu hbo\" target=\"_blank\" href=\"https://shebanq.ancient-data.org/hebrew/word?version=c&amp;id=1HJHv\" title=\"Show this on SHEBANQ\"><span class=\"txtu hbo\">יְהִ֤י </span></a></div><div class='features'><span class=\"lex xft\" ><span class=\"f\">lex=</span>HJH[</span><span class=\"nu xft\" ><span class=\"f\">nu=</span>sg</span><span class=\"pdp xft\" ><span class=\"f\">pdp=</span>verb</span></div></div></div></div><div class=\"contnr c1  rtl  hl\" ><div class=\"lbl c1  hl\" ><span class=\"nd\">phrase</span></div><div class='features'><span class=\"function xft\" ><span class=\"f\">function=</span>Subj</span></div><div class=\"children hor wrap rtl\"><div class=\"contnr c0 trm rtl  hl\" ><div class=\"lbl c0 trm hl\" ><a class=\" txtu hbo\" target=\"_blank\" href=\"https://shebanq.ancient-data.org/hebrew/word?version=c&amp;id=1MAWRn\" title=\"Show this on SHEBANQ\"><span class=\"txtu hbo\">מְאֹרֹת֙ </span></a></div><div class='features'><span class=\"lex xft\" ><span class=\"f\">lex=</span>M>WR/</span><span class=\"nu xft\" ><span class=\"f\">nu=</span>pl</span><span class=\"pdp xft\" ><span class=\"f\">pdp=</span>subs</span></div></div></div></div><div class=\"contnr c1  rtl  \" ><div class=\"lbl c1  \" ><span class=\"nd\">phrase</span></div><div class='features'><span class=\"function xft\" ><span class=\"f\">function=</span>Loca</span></div><div class=\"children hor wrap rtl\"><div class=\"contnr c0 trm rtl  \" ><div class=\"lbl c0 trm \" ><a class=\" txtu hbo\" target=\"_blank\" href=\"https://shebanq.ancient-data.org/hebrew/word?version=c&amp;id=1B\" title=\"Show this on SHEBANQ\"><span class=\"txtu hbo\">בִּ</span></a></div><div class='features'><span class=\"lex xft\" ><span class=\"f\">lex=</span>B</span><span class=\"pdp xft\" ><span class=\"f\">pdp=</span>prep</span></div></div><div class=\"contnr c0 trm rtl  \" ><div class=\"lbl c0 trm \" ><a class=\" txtu hbo\" target=\"_blank\" href=\"https://shebanq.ancient-data.org/hebrew/word?version=c&amp;id=1RQJOn\" title=\"Show this on SHEBANQ\"><span class=\"txtu hbo\">רְקִ֣יעַ </span></a></div><div class='features'><span class=\"lex xft\" ><span class=\"f\">lex=</span>RQJ&lt;/</span><span class=\"nu xft\" ><span class=\"f\">nu=</span>sg</span><span class=\"pdp xft\" ><span class=\"f\">pdp=</span>subs</span></div></div><div class=\"contnr c0 trm rtl  \" ><div class=\"lbl c0 trm \" ><a class=\" txtu hbo\" target=\"_blank\" href=\"https://shebanq.ancient-data.org/hebrew/word?version=c&amp;id=1H\" title=\"Show this on SHEBANQ\"><span class=\"txtu hbo\">הַ</span></a></div><div class='features'><span class=\"lex xft\" ><span class=\"f\">lex=</span>H</span><span class=\"pdp xft\" ><span class=\"f\">pdp=</span>art</span></div></div><div class=\"contnr c0 trm rtl  \" ><div class=\"lbl c0 trm \" ><a class=\" txtu hbo\" target=\"_blank\" href=\"https://shebanq.ancient-data.org/hebrew/word?version=c&amp;id=1CMJMn\" title=\"Show this on SHEBANQ\"><span class=\"txtu hbo\">שָּׁמַ֔יִם </span></a></div><div class='features'><span class=\"lex xft\" ><span class=\"f\">lex=</span>CMJM/</span><span class=\"nu xft\" ><span class=\"f\">nu=</span>pl</span><span class=\"pdp xft\" ><span class=\"f\">pdp=</span>subs</span></div></div></div></div></div></div></div>"
      ],
      "text/plain": [
       "<IPython.core.display.HTML object>"
      ]
     },
     "metadata": {},
     "output_type": "display_data"
    },
    {
     "data": {
      "text/html": [
       "<p><b>result</b> <i>2</i></p>"
      ],
      "text/plain": [
       "<IPython.core.display.HTML object>"
      ]
     },
     "metadata": {},
     "output_type": "display_data"
    },
    {
     "data": {
      "text/html": [
       "<div class=\"tfsechead rtl\"><a target=\"_blank\" href=\"https://shebanq.ancient-data.org/hebrew/text?book=Genesis&amp;chapter=3&amp;verse=5&amp;version=c&amp;mr=m&amp;qw=q&amp;tp=txt_p&amp;tr=hb&amp;wget=v&amp;qget=v&amp;nget=vt\" title=\"Show this on SHEBANQ\" sec=\"Genesis 3:5\">Genesis 3:5</a></div><div class=\"rtl children\"><div class=\"contnr c2  rtl  \" ><div class=\"lbl c2  \" ><span class=\"nd\">clause</span></div><div class=\"children hor wrap rtl\"><div class=\"contnr c1  rtl  \" ><div class=\"lbl c1  \" ><span class=\"nd\">phrase</span></div><div class='features'><span class=\"function xft\" ><span class=\"f\">function=</span>Conj</span></div><div class=\"children hor wrap rtl\"><div class=\"contnr c0 trm rtl  \" ><div class=\"lbl c0 trm \" ><a class=\" txtu hbo\" target=\"_blank\" href=\"https://shebanq.ancient-data.org/hebrew/word?version=c&amp;id=1W\" title=\"Show this on SHEBANQ\"><span class=\"txtu hbo\">וְ</span></a></div><div class='features'><span class=\"lex xft\" ><span class=\"f\">lex=</span>W</span><span class=\"pdp xft\" ><span class=\"f\">pdp=</span>conj</span></div></div></div></div><div class=\"contnr c1  rtl  hl\" ><div class=\"lbl c1  hl\" ><span class=\"nd\">phrase</span></div><div class='features'><span class=\"function xft\" ><span class=\"f\">function=</span>Pred</span></div><div class=\"children hor wrap rtl\"><div class=\"contnr c0 trm rtl  hl\" ><div class=\"lbl c0 trm hl\" ><a class=\" txtu hbo\" target=\"_blank\" href=\"https://shebanq.ancient-data.org/hebrew/word?version=c&amp;id=1PQXv\" title=\"Show this on SHEBANQ\"><span class=\"txtu hbo\">נִפְקְח֖וּ </span></a></div><div class='features'><span class=\"lex xft\" ><span class=\"f\">lex=</span>PQX[</span><span class=\"nu xft\" ><span class=\"f\">nu=</span>pl</span><span class=\"pdp xft\" ><span class=\"f\">pdp=</span>verb</span></div></div></div></div><div class=\"contnr c1  rtl  hl\" ><div class=\"lbl c1  hl\" ><span class=\"nd\">phrase</span></div><div class='features'><span class=\"function xft\" ><span class=\"f\">function=</span>Subj</span></div><div class=\"children hor wrap rtl\"><div class=\"contnr c0 trm rtl  hl\" ><div class=\"lbl c0 trm hl\" ><a class=\" txtu hbo\" target=\"_blank\" href=\"https://shebanq.ancient-data.org/hebrew/word?version=c&amp;id=1OJNn\" title=\"Show this on SHEBANQ\"><span class=\"txtu hbo\">עֵֽינֵיכֶ֑ם </span></a></div><div class='features'><span class=\"lex xft\" ><span class=\"f\">lex=</span>&lt;JN/</span><span class=\"nu xft\" ><span class=\"f\">nu=</span>du</span><span class=\"pdp xft\" ><span class=\"f\">pdp=</span>subs</span></div></div></div></div></div></div></div>"
      ],
      "text/plain": [
       "<IPython.core.display.HTML object>"
      ]
     },
     "metadata": {},
     "output_type": "display_data"
    },
    {
     "data": {
      "text/html": [
       "<p><b>result</b> <i>3</i></p>"
      ],
      "text/plain": [
       "<IPython.core.display.HTML object>"
      ]
     },
     "metadata": {},
     "output_type": "display_data"
    },
    {
     "data": {
      "text/html": [
       "<div class=\"tfsechead rtl\"><a target=\"_blank\" href=\"https://shebanq.ancient-data.org/hebrew/text?book=Genesis&amp;chapter=7&amp;verse=22&amp;version=c&amp;mr=m&amp;qw=q&amp;tp=txt_p&amp;tr=hb&amp;wget=v&amp;qget=v&amp;nget=vt\" title=\"Show this on SHEBANQ\" sec=\"Genesis 7:22\">Genesis 7:22</a></div><div class=\"rtl children\"><div class=\"contnr c2  rtl l \" ><div class=\"lbl c2  \" ><span class=\"nd\">clause</span></div><div class=\"children hor wrap rtl\"><div class=\"contnr c1  rtl  hl\" ><div class=\"lbl c1  hl\" ><span class=\"nd\">phrase</span></div><div class='features'><span class=\"function xft\" ><span class=\"f\">function=</span>Subj</span></div><div class=\"children hor wrap rtl\"><div class=\"contnr c0 trm rtl  hl\" ><div class=\"lbl c0 trm hl\" ><a class=\" txtu hbo\" target=\"_blank\" href=\"https://shebanq.ancient-data.org/hebrew/word?version=c&amp;id=1KLn\" title=\"Show this on SHEBANQ\"><span class=\"txtu hbo\">כֹּ֡ל </span></a></div><div class='features'><span class=\"lex xft\" ><span class=\"f\">lex=</span>KL/</span><span class=\"nu xft\" ><span class=\"f\">nu=</span>sg</span><span class=\"pdp xft\" ><span class=\"f\">pdp=</span>subs</span></div></div></div></div></div></div><div class=\"contnr c2  rtl r l \" ><div class=\"lbl c2  \" ><span class=\"nd\">clause</span></div><div class=\"children hor wrap rtl\"><div class=\"contnr c1  rtl  \" ><div class=\"lbl c1  \" ><span class=\"nd\">phrase</span></div><div class='features'><span class=\"function xft\" ><span class=\"f\">function=</span>Adju</span></div><div class=\"children hor wrap rtl\"><div class=\"contnr c0 trm rtl  \" ><div class=\"lbl c0 trm \" ><a class=\" txtu hbo\" target=\"_blank\" href=\"https://shebanq.ancient-data.org/hebrew/word?version=c&amp;id=1MN\" title=\"Show this on SHEBANQ\"><span class=\"txtu hbo\">מִ</span></a></div><div class='features'><span class=\"lex xft\" ><span class=\"f\">lex=</span>MN</span><span class=\"pdp xft\" ><span class=\"f\">pdp=</span>prep</span></div></div><div class=\"contnr c0 trm rtl  \" ><div class=\"lbl c0 trm \" ><a class=\" txtu hbo\" target=\"_blank\" href=\"https://shebanq.ancient-data.org/hebrew/word?version=c&amp;id=1KLn\" title=\"Show this on SHEBANQ\"><span class=\"txtu hbo\">כֹּ֛ל </span></a></div><div class='features'><span class=\"lex xft\" ><span class=\"f\">lex=</span>KL/</span><span class=\"nu xft\" ><span class=\"f\">nu=</span>sg</span><span class=\"pdp xft\" ><span class=\"f\">pdp=</span>subs</span></div></div></div></div></div></div><div class=\"contnr c2  rtl r \" ><div class=\"lbl c2  \" ><span class=\"nd\">clause</span></div><div class=\"children hor wrap rtl\"><div class=\"contnr c1  rtl  hl\" ><div class=\"lbl c1  hl\" ><span class=\"nd\">phrase</span></div><div class='features'><span class=\"function xft\" ><span class=\"f\">function=</span>Pred</span></div><div class=\"children hor wrap rtl\"><div class=\"contnr c0 trm rtl  hl\" ><div class=\"lbl c0 trm hl\" ><a class=\" txtu hbo\" target=\"_blank\" href=\"https://shebanq.ancient-data.org/hebrew/word?version=c&amp;id=1MWTv\" title=\"Show this on SHEBANQ\"><span class=\"txtu hbo\">מֵֽתוּ׃ </span></a></div><div class='features'><span class=\"lex xft\" ><span class=\"f\">lex=</span>MWT[</span><span class=\"nu xft\" ><span class=\"f\">nu=</span>pl</span><span class=\"pdp xft\" ><span class=\"f\">pdp=</span>verb</span></div></div></div></div></div></div></div>"
      ],
      "text/plain": [
       "<IPython.core.display.HTML object>"
      ]
     },
     "metadata": {},
     "output_type": "display_data"
    },
    {
     "data": {
      "text/html": [
       "<p><b>result</b> <i>4</i></p>"
      ],
      "text/plain": [
       "<IPython.core.display.HTML object>"
      ]
     },
     "metadata": {},
     "output_type": "display_data"
    },
    {
     "data": {
      "text/html": [
       "<div class=\"tfsechead rtl\"><a target=\"_blank\" href=\"https://shebanq.ancient-data.org/hebrew/text?book=Genesis&amp;chapter=18&amp;verse=32&amp;version=c&amp;mr=m&amp;qw=q&amp;tp=txt_p&amp;tr=hb&amp;wget=v&amp;qget=v&amp;nget=vt\" title=\"Show this on SHEBANQ\" sec=\"Genesis 18:32\">Genesis 18:32</a></div><div class=\"rtl children\"><div class=\"contnr c2  rtl  \" ><div class=\"lbl c2  \" ><span class=\"nd\">clause</span></div><div class=\"children hor wrap rtl\"><div class=\"contnr c1  rtl  \" ><div class=\"lbl c1  \" ><span class=\"nd\">phrase</span></div><div class='features'><span class=\"function xft\" ><span class=\"f\">function=</span>Modi</span></div><div class=\"children hor wrap rtl\"><div class=\"contnr c0 trm rtl  \" ><div class=\"lbl c0 trm \" ><a class=\" txtu hbo\" target=\"_blank\" href=\"https://shebanq.ancient-data.org/hebrew/word?version=c&amp;id=1AWLJ\" title=\"Show this on SHEBANQ\"><span class=\"txtu hbo\">אוּלַ֛י </span></a></div><div class='features'><span class=\"lex xft\" ><span class=\"f\">lex=</span>>WLJ</span><span class=\"pdp xft\" ><span class=\"f\">pdp=</span>advb</span></div></div></div></div><div class=\"contnr c1  rtl  hl\" ><div class=\"lbl c1  hl\" ><span class=\"nd\">phrase</span></div><div class='features'><span class=\"function xft\" ><span class=\"f\">function=</span>Pred</span></div><div class=\"children hor wrap rtl\"><div class=\"contnr c0 trm rtl  hl\" ><div class=\"lbl c0 trm hl\" ><a class=\" txtu hbo\" target=\"_blank\" href=\"https://shebanq.ancient-data.org/hebrew/word?version=c&amp;id=1MYAv\" title=\"Show this on SHEBANQ\"><span class=\"txtu hbo\">יִמָּצְא֥וּן </span></a></div><div class='features'><span class=\"lex xft\" ><span class=\"f\">lex=</span>MY>[</span><span class=\"nu xft\" ><span class=\"f\">nu=</span>pl</span><span class=\"pdp xft\" ><span class=\"f\">pdp=</span>verb</span></div></div></div></div><div class=\"contnr c1  rtl  \" ><div class=\"lbl c1  \" ><span class=\"nd\">phrase</span></div><div class='features'><span class=\"function xft\" ><span class=\"f\">function=</span>Cmpl</span></div><div class=\"children hor wrap rtl\"><div class=\"contnr c0 trm rtl  \" ><div class=\"lbl c0 trm \" ><a class=\" txtu hbo\" target=\"_blank\" href=\"https://shebanq.ancient-data.org/hebrew/word?version=c&amp;id=1CM\" title=\"Show this on SHEBANQ\"><span class=\"txtu hbo\">שָׁ֖ם </span></a></div><div class='features'><span class=\"lex xft\" ><span class=\"f\">lex=</span>CM</span><span class=\"pdp xft\" ><span class=\"f\">pdp=</span>advb</span></div></div></div></div><div class=\"contnr c1  rtl  hl\" ><div class=\"lbl c1  hl\" ><span class=\"nd\">phrase</span></div><div class='features'><span class=\"function xft\" ><span class=\"f\">function=</span>Subj</span></div><div class=\"children hor wrap rtl\"><div class=\"contnr c0 trm rtl  hl\" ><div class=\"lbl c0 trm hl\" ><a class=\" txtu hbo\" target=\"_blank\" href=\"https://shebanq.ancient-data.org/hebrew/word?version=c&amp;id=1OFRHin\" title=\"Show this on SHEBANQ\"><span class=\"txtu hbo\">עֲשָׂרָ֑ה </span></a></div><div class='features'><span class=\"lex xft\" ><span class=\"f\">lex=</span>&lt;FRH=/</span><span class=\"nu xft\" ><span class=\"f\">nu=</span>sg</span><span class=\"pdp xft\" ><span class=\"f\">pdp=</span>subs</span></div></div></div></div></div></div></div>"
      ],
      "text/plain": [
       "<IPython.core.display.HTML object>"
      ]
     },
     "metadata": {},
     "output_type": "display_data"
    }
   ],
   "source": [
    "A.show(results, condenseType=\"clause\", end=4)"
   ]
  },
  {
   "cell_type": "markdown",
   "metadata": {},
   "source": [
    "## Edges\n",
    "\n",
    "Note that all *edge* features in the dataset correspond to three relational operators.\n",
    "For example, `mother` gives rise to the operators `-mother>` and `<mother-` and `<mother>`.\n",
    "\n",
    "### Simple edges\n",
    "Here is an example: look for pairs of clauses of which one is the mother of the other.\n",
    "In our dataset, there is an *edge* between the two clauses, and this edge is coded in the feature `mother`.\n",
    "The following query shows how to use the `mother` edge information."
   ]
  },
  {
   "cell_type": "code",
   "execution_count": 17,
   "metadata": {
    "ExecuteTime": {
     "end_time": "2018-05-24T08:00:06.688698Z",
     "start_time": "2018-05-24T08:00:05.864656Z"
    }
   },
   "outputs": [
    {
     "name": "stdout",
     "output_type": "stream",
     "text": [
      "  0.15s 13897 results\n"
     ]
    }
   ],
   "source": [
    "query = \"\"\"\n",
    "clause\n",
    "-mother> clause\n",
    "\"\"\"\n",
    "results = A.search(query)"
   ]
  },
  {
   "cell_type": "code",
   "execution_count": 18,
   "metadata": {
    "ExecuteTime": {
     "end_time": "2018-05-24T08:00:06.688698Z",
     "start_time": "2018-05-24T08:00:05.864656Z"
    }
   },
   "outputs": [
    {
     "data": {
      "text/html": [
       "<table><tr class=\"tf rtl\"><th class=\"tf rtl\">n</th><th class=\"tf rtl\">p</th><th class=\"tf rtl\">clause</th><th class=\"tf\">clause</th></tr>\n",
       "<tr class=\"tf rtl\"><td class=\"tf rtl\">1</td><td class=\"tf rtl\"><span class=\"tfsechead ltr\"><a target=\"_blank\" href=\"https://shebanq.ancient-data.org/hebrew/text?book=Genesis&amp;chapter=1&amp;verse=4&amp;version=c&amp;mr=m&amp;qw=q&amp;tp=txt_p&amp;tr=hb&amp;wget=v&amp;qget=v&amp;nget=vt\" title=\"Show this on SHEBANQ\" sec=\"Genesis 1:4\">Genesis 1:4</a></span></td><td class=\"tf rtl\"><span class=\"rtl ubd\"><span class=\"plain rtl  hlbx\" ><span class=\"txtu hbo\">כִּי־</span><span class=\"txtu hbo\">טֹ֑וב </span></span></span></td><td class=\"tf rtl\"><span class=\"rtl ubd\"><span class=\"plain rtl  hlbx\" ><span class=\"txtu hbo\">וַ</span><span class=\"txtu hbo\">יַּ֧רְא </span><span class=\"txtu hbo\">אֱלֹהִ֛ים </span><span class=\"txtu hbo\">אֶת־</span><span class=\"txtu hbo\">הָ</span><span class=\"txtu hbo\">אֹ֖ור </span></span></span></td></tr>\n",
       "<tr class=\"tf rtl\"><td class=\"tf rtl\">2</td><td class=\"tf rtl\"><span class=\"tfsechead ltr\"><a target=\"_blank\" href=\"https://shebanq.ancient-data.org/hebrew/text?book=Genesis&amp;chapter=1&amp;verse=10&amp;version=c&amp;mr=m&amp;qw=q&amp;tp=txt_p&amp;tr=hb&amp;wget=v&amp;qget=v&amp;nget=vt\" title=\"Show this on SHEBANQ\" sec=\"Genesis 1:10\">Genesis 1:10</a></span></td><td class=\"tf rtl\"><span class=\"rtl ubd\"><span class=\"plain rtl  hlbx\" ><span class=\"txtu hbo\">כִּי־</span><span class=\"txtu hbo\">טֹֽוב׃ </span></span></span></td><td class=\"tf rtl\"><span class=\"rtl ubd\"><span class=\"plain rtl  hlbx\" ><span class=\"txtu hbo\">וַ</span><span class=\"txtu hbo\">יַּ֥רְא </span><span class=\"txtu hbo\">אֱלֹהִ֖ים </span></span></span></td></tr>\n",
       "<tr class=\"tf rtl\"><td class=\"tf rtl\">3</td><td class=\"tf rtl\"><span class=\"tfsechead ltr\"><a target=\"_blank\" href=\"https://shebanq.ancient-data.org/hebrew/text?book=Genesis&amp;chapter=1&amp;verse=12&amp;version=c&amp;mr=m&amp;qw=q&amp;tp=txt_p&amp;tr=hb&amp;wget=v&amp;qget=v&amp;nget=vt\" title=\"Show this on SHEBANQ\" sec=\"Genesis 1:12\">Genesis 1:12</a></span></td><td class=\"tf rtl\"><span class=\"rtl ubd\"><span class=\"plain rtl  hlbx\" ><span class=\"txtu hbo\">כִּי־</span><span class=\"txtu hbo\">טֹֽוב׃ </span></span></span></td><td class=\"tf rtl\"><span class=\"rtl ubd\"><span class=\"plain rtl  hlbx\" ><span class=\"txtu hbo\">וַ</span><span class=\"txtu hbo\">יַּ֥רְא </span><span class=\"txtu hbo\">אֱלֹהִ֖ים </span></span></span></td></tr>\n",
       "<tr class=\"tf rtl\"><td class=\"tf rtl\">4</td><td class=\"tf rtl\"><span class=\"tfsechead ltr\"><a target=\"_blank\" href=\"https://shebanq.ancient-data.org/hebrew/text?book=Genesis&amp;chapter=1&amp;verse=14&amp;version=c&amp;mr=m&amp;qw=q&amp;tp=txt_p&amp;tr=hb&amp;wget=v&amp;qget=v&amp;nget=vt\" title=\"Show this on SHEBANQ\" sec=\"Genesis 1:14\">Genesis 1:14</a></span></td><td class=\"tf rtl\"><span class=\"rtl ubd\"><span class=\"plain rtl  hlbx\" ><span class=\"txtu hbo\">לְ</span><span class=\"txtu hbo\">הַבְדִּ֕יל </span><span class=\"txtu hbo\">בֵּ֥ין </span><span class=\"txtu hbo\">הַ</span><span class=\"txtu hbo\">יֹּ֖ום </span><span class=\"txtu hbo\">וּ</span><span class=\"txtu hbo\">בֵ֣ין </span><span class=\"txtu hbo\">הַ</span><span class=\"txtu hbo\">לָּ֑יְלָה </span></span></span></td><td class=\"tf rtl\"><span class=\"rtl ubd\"><span class=\"plain rtl  hlbx\" ><span class=\"txtu hbo\">יְהִ֤י </span><span class=\"txtu hbo\">מְאֹרֹת֙ </span><span class=\"txtu hbo\">בִּ</span><span class=\"txtu hbo\">רְקִ֣יעַ </span><span class=\"txtu hbo\">הַ</span><span class=\"txtu hbo\">שָּׁמַ֔יִם </span></span></span></td></tr>\n",
       "<tr class=\"tf rtl\"><td class=\"tf rtl\">5</td><td class=\"tf rtl\"><span class=\"tfsechead ltr\"><a target=\"_blank\" href=\"https://shebanq.ancient-data.org/hebrew/text?book=Genesis&amp;chapter=1&amp;verse=15&amp;version=c&amp;mr=m&amp;qw=q&amp;tp=txt_p&amp;tr=hb&amp;wget=v&amp;qget=v&amp;nget=vt\" title=\"Show this on SHEBANQ\" sec=\"Genesis 1:15\">Genesis 1:15</a></span></td><td class=\"tf rtl\"><span class=\"rtl ubd\"><span class=\"plain rtl  hlbx\" ><span class=\"txtu hbo\">לְ</span><span class=\"txtu hbo\">הָאִ֖יר </span><span class=\"txtu hbo\">עַל־</span><span class=\"txtu hbo\">הָ</span><span class=\"txtu hbo\">אָ֑רֶץ </span></span></span></td><td class=\"tf rtl\"><span class=\"rtl ubd\"><span class=\"plain rtl  hlbx\" ><span class=\"txtu hbo\">וְ</span><span class=\"txtu hbo\">הָי֤וּ </span><span class=\"txtu hbo\">לִ</span><span class=\"txtu hbo\">מְאֹורֹת֙ </span><span class=\"txtu hbo\">בִּ</span><span class=\"txtu hbo\">רְקִ֣יעַ </span><span class=\"txtu hbo\">הַ</span><span class=\"txtu hbo\">שָּׁמַ֔יִם </span></span></span></td></tr>\n",
       "<tr class=\"tf rtl\"><td class=\"tf rtl\">6</td><td class=\"tf rtl\"><span class=\"tfsechead ltr\"><a target=\"_blank\" href=\"https://shebanq.ancient-data.org/hebrew/text?book=Genesis&amp;chapter=1&amp;verse=17&amp;version=c&amp;mr=m&amp;qw=q&amp;tp=txt_p&amp;tr=hb&amp;wget=v&amp;qget=v&amp;nget=vt\" title=\"Show this on SHEBANQ\" sec=\"Genesis 1:17\">Genesis 1:17</a></span></td><td class=\"tf rtl\"><span class=\"rtl ubd\"><span class=\"plain rtl  hlbx\" ><span class=\"txtu hbo\">לְ</span><span class=\"txtu hbo\">הָאִ֖יר </span><span class=\"txtu hbo\">עַל־</span><span class=\"txtu hbo\">הָ</span><span class=\"txtu hbo\">אָֽרֶץ׃ </span></span></span></td><td class=\"tf rtl\"><span class=\"rtl ubd\"><span class=\"plain rtl  hlbx\" ><span class=\"txtu hbo\">וַ</span><span class=\"txtu hbo\">יִּתֵּ֥ן </span><span class=\"txtu hbo\">אֹתָ֛ם </span><span class=\"txtu hbo\">אֱלֹהִ֖ים </span><span class=\"txtu hbo\">בִּ</span><span class=\"txtu hbo\">רְקִ֣יעַ </span><span class=\"txtu hbo\">הַ</span><span class=\"txtu hbo\">שָּׁמָ֑יִם </span></span></span></td></tr>\n",
       "<tr class=\"tf rtl\"><td class=\"tf rtl\">7</td><td class=\"tf rtl\"><span class=\"tfsechead ltr\"><a target=\"_blank\" href=\"https://shebanq.ancient-data.org/hebrew/text?book=Genesis&amp;chapter=1&amp;verse=18&amp;version=c&amp;mr=m&amp;qw=q&amp;tp=txt_p&amp;tr=hb&amp;wget=v&amp;qget=v&amp;nget=vt\" title=\"Show this on SHEBANQ\" sec=\"Genesis 1:18\">Genesis 1:18</a></span></td><td class=\"tf rtl\"><span class=\"rtl ubd\"><span class=\"plain rtl  hlbx\" ><span class=\"txtu hbo\">וְ</span><span class=\"txtu hbo\">לִ</span><span class=\"txtu hbo\">מְשֹׁל֙ </span><span class=\"txtu hbo\">בַּ</span><span class=\"txtu hbo\">יֹּ֣ום </span><span class=\"txtu hbo\">וּ</span><span class=\"txtu hbo\">בַ</span><span class=\"txtu hbo\">לַּ֔יְלָה </span></span></span></td><td class=\"tf rtl\"><span class=\"rtl ubd\"><span class=\"plain rtl  hlbx\" ><span class=\"txtu hbo\">לְ</span><span class=\"txtu hbo\">הָאִ֖יר </span><span class=\"txtu hbo\">עַל־</span><span class=\"txtu hbo\">הָ</span><span class=\"txtu hbo\">אָֽרֶץ׃ </span></span></span></td></tr>\n",
       "<tr class=\"tf rtl\"><td class=\"tf rtl\">8</td><td class=\"tf rtl\"><span class=\"tfsechead ltr\"><a target=\"_blank\" href=\"https://shebanq.ancient-data.org/hebrew/text?book=Genesis&amp;chapter=1&amp;verse=18&amp;version=c&amp;mr=m&amp;qw=q&amp;tp=txt_p&amp;tr=hb&amp;wget=v&amp;qget=v&amp;nget=vt\" title=\"Show this on SHEBANQ\" sec=\"Genesis 1:18\">Genesis 1:18</a></span></td><td class=\"tf rtl\"><span class=\"rtl ubd\"><span class=\"plain rtl  hlbx\" ><span class=\"txtu hbo\">וּֽ</span><span class=\"txtu hbo\">לֲ</span><span class=\"txtu hbo\">הַבְדִּ֔יל </span><span class=\"txtu hbo\">בֵּ֥ין </span><span class=\"txtu hbo\">הָ</span><span class=\"txtu hbo\">אֹ֖ור </span><span class=\"txtu hbo\">וּ</span><span class=\"txtu hbo\">בֵ֣ין </span><span class=\"txtu hbo\">הַ</span><span class=\"txtu hbo\">חֹ֑שֶׁךְ </span></span></span></td><td class=\"tf rtl\"><span class=\"rtl ubd\"><span class=\"plain rtl  hlbx\" ><span class=\"txtu hbo\">וְ</span><span class=\"txtu hbo\">לִ</span><span class=\"txtu hbo\">מְשֹׁל֙ </span><span class=\"txtu hbo\">בַּ</span><span class=\"txtu hbo\">יֹּ֣ום </span><span class=\"txtu hbo\">וּ</span><span class=\"txtu hbo\">בַ</span><span class=\"txtu hbo\">לַּ֔יְלָה </span></span></span></td></tr>\n",
       "<tr class=\"tf rtl\"><td class=\"tf rtl\">9</td><td class=\"tf rtl\"><span class=\"tfsechead ltr\"><a target=\"_blank\" href=\"https://shebanq.ancient-data.org/hebrew/text?book=Genesis&amp;chapter=1&amp;verse=18&amp;version=c&amp;mr=m&amp;qw=q&amp;tp=txt_p&amp;tr=hb&amp;wget=v&amp;qget=v&amp;nget=vt\" title=\"Show this on SHEBANQ\" sec=\"Genesis 1:18\">Genesis 1:18</a></span></td><td class=\"tf rtl\"><span class=\"rtl ubd\"><span class=\"plain rtl  hlbx\" ><span class=\"txtu hbo\">כִּי־</span><span class=\"txtu hbo\">טֹֽוב׃ </span></span></span></td><td class=\"tf rtl\"><span class=\"rtl ubd\"><span class=\"plain rtl  hlbx\" ><span class=\"txtu hbo\">וַ</span><span class=\"txtu hbo\">יַּ֥רְא </span><span class=\"txtu hbo\">אֱלֹהִ֖ים </span></span></span></td></tr>\n",
       "<tr class=\"tf rtl\"><td class=\"tf rtl\">10</td><td class=\"tf rtl\"><span class=\"tfsechead ltr\"><a target=\"_blank\" href=\"https://shebanq.ancient-data.org/hebrew/text?book=Genesis&amp;chapter=1&amp;verse=21&amp;version=c&amp;mr=m&amp;qw=q&amp;tp=txt_p&amp;tr=hb&amp;wget=v&amp;qget=v&amp;nget=vt\" title=\"Show this on SHEBANQ\" sec=\"Genesis 1:21\">Genesis 1:21</a></span></td><td class=\"tf rtl\"><span class=\"rtl ubd\"><span class=\"plain rtl  hlbx\" ><span class=\"txtu hbo\">כִּי־</span><span class=\"txtu hbo\">טֹֽוב׃ </span></span></span></td><td class=\"tf rtl\"><span class=\"rtl ubd\"><span class=\"plain rtl  hlbx\" ><span class=\"txtu hbo\">וַ</span><span class=\"txtu hbo\">יַּ֥רְא </span><span class=\"txtu hbo\">אֱלֹהִ֖ים </span></span></span></td></tr></table>"
      ],
      "text/plain": [
       "<IPython.core.display.HTML object>"
      ]
     },
     "metadata": {},
     "output_type": "display_data"
    }
   ],
   "source": [
    "A.table(results, end=10)"
   ]
  },
  {
   "cell_type": "markdown",
   "metadata": {},
   "source": [
    "A clause and its mother do not have to be in the same verse.\n",
    "We are going to fetch are the cases where they are in different verses.\n",
    "\n",
    "Note that we need a more flexible syntax here, where we specify a few templates, give names\n",
    "to a few positions in the template, and then constrain those positions\n",
    "by stipulating relationships between them.\n",
    "\n",
    "> **Caution**\n",
    "Referring to verses is not as innocent as it seems.\n",
    "That will be addressed in [gaps](searchGaps.ipynb)"
   ]
  },
  {
   "cell_type": "code",
   "execution_count": 19,
   "metadata": {
    "ExecuteTime": {
     "end_time": "2018-05-24T08:00:11.096751Z",
     "start_time": "2018-05-24T08:00:10.585477Z"
    }
   },
   "outputs": [
    {
     "name": "stdout",
     "output_type": "stream",
     "text": [
      "  0.28s 710 results\n"
     ]
    }
   ],
   "source": [
    "query = \"\"\"\n",
    "v1:verse\n",
    "    c1:clause\n",
    "v2:verse\n",
    "    c2:clause\n",
    "\n",
    "c1 -mother> c2\n",
    "v1 # v2\n",
    "\"\"\"\n",
    "results = A.search(query)"
   ]
  },
  {
   "cell_type": "code",
   "execution_count": 20,
   "metadata": {
    "ExecuteTime": {
     "end_time": "2018-05-24T08:00:11.096751Z",
     "start_time": "2018-05-24T08:00:10.585477Z"
    }
   },
   "outputs": [
    {
     "data": {
      "text/html": [
       "<table><tr class=\"tf rtl\"><th class=\"tf rtl\">n</th><th class=\"tf rtl\">p</th><th class=\"tf rtl\">verse</th><th class=\"tf\">clause</th><th class=\"tf\">verse</th><th class=\"tf\">clause</th></tr>\n",
       "<tr class=\"tf rtl\"><td class=\"tf rtl\">1</td><td class=\"tf rtl\"><span class=\"tfsechead ltr\"><a target=\"_blank\" href=\"https://shebanq.ancient-data.org/hebrew/text?book=Genesis&amp;chapter=1&amp;verse=18&amp;version=c&amp;mr=m&amp;qw=q&amp;tp=txt_p&amp;tr=hb&amp;wget=v&amp;qget=v&amp;nget=vt\" title=\"Show this on SHEBANQ\" sec=\"Genesis 1:18\">Genesis 1:18</a></span></td><td class=\"tf rtl\"><span class=\"rtl ubd\"></span></td><td class=\"tf rtl\"><span class=\"rtl ubd\"><span class=\"plain rtl  hlbx\" ><span class=\"txtu hbo\">וְ</span><span class=\"txtu hbo\">לִ</span><span class=\"txtu hbo\">מְשֹׁל֙ </span><span class=\"txtu hbo\">בַּ</span><span class=\"txtu hbo\">יֹּ֣ום </span><span class=\"txtu hbo\">וּ</span><span class=\"txtu hbo\">בַ</span><span class=\"txtu hbo\">לַּ֔יְלָה </span></span></span></td><td class=\"tf rtl\"><span class=\"rtl ubd\"></span></td><td class=\"tf rtl\"><span class=\"rtl ubd\"><span class=\"plain rtl  hlbx\" ><span class=\"txtu hbo\">לְ</span><span class=\"txtu hbo\">הָאִ֖יר </span><span class=\"txtu hbo\">עַל־</span><span class=\"txtu hbo\">הָ</span><span class=\"txtu hbo\">אָֽרֶץ׃ </span></span></span></td></tr></table>"
      ],
      "text/plain": [
       "<IPython.core.display.HTML object>"
      ]
     },
     "metadata": {},
     "output_type": "display_data"
    }
   ],
   "source": [
    "A.table(results, end=1)"
   ]
  },
  {
   "cell_type": "markdown",
   "metadata": {},
   "source": [
    "We want to see the different verse references in the table.\n",
    "\n",
    "We can skip the verse columns first:"
   ]
  },
  {
   "cell_type": "code",
   "execution_count": 21,
   "metadata": {
    "ExecuteTime": {
     "end_time": "2018-05-24T08:00:11.096751Z",
     "start_time": "2018-05-24T08:00:10.585477Z"
    }
   },
   "outputs": [
    {
     "data": {
      "text/html": [
       "<table><tr class=\"tf rtl\"><th class=\"tf rtl\">n</th><th class=\"tf rtl\">p</th><th class=\"tf rtl\">clause</th><th class=\"tf\">clause</th></tr>\n",
       "<tr class=\"tf rtl\"><td class=\"tf rtl\">1</td><td class=\"tf rtl\"><span class=\"tfsechead ltr\"><a target=\"_blank\" href=\"https://shebanq.ancient-data.org/hebrew/text?book=Genesis&amp;chapter=1&amp;verse=18&amp;version=c&amp;mr=m&amp;qw=q&amp;tp=txt_p&amp;tr=hb&amp;wget=v&amp;qget=v&amp;nget=vt\" title=\"Show this on SHEBANQ\" sec=\"Genesis 1:18\">Genesis 1:18</a></span></td><td class=\"tf rtl\"><span class=\"rtl ubd\"><span class=\"plain rtl  hlbx\" ><span class=\"txtu hbo\">וְ</span><span class=\"txtu hbo\">לִ</span><span class=\"txtu hbo\">מְשֹׁל֙ </span><span class=\"txtu hbo\">בַּ</span><span class=\"txtu hbo\">יֹּ֣ום </span><span class=\"txtu hbo\">וּ</span><span class=\"txtu hbo\">בַ</span><span class=\"txtu hbo\">לַּ֔יְלָה </span></span></span></td><td class=\"tf rtl\"><span class=\"rtl ubd\"><span class=\"plain rtl  hlbx\" ><span class=\"txtu hbo\">לְ</span><span class=\"txtu hbo\">הָאִ֖יר </span><span class=\"txtu hbo\">עַל־</span><span class=\"txtu hbo\">הָ</span><span class=\"txtu hbo\">אָֽרֶץ׃ </span></span></span></td></tr></table>"
      ],
      "text/plain": [
       "<IPython.core.display.HTML object>"
      ]
     },
     "metadata": {},
     "output_type": "display_data"
    }
   ],
   "source": [
    "A.table(results, end=1, skipCols=\"1 3\")"
   ]
  },
  {
   "cell_type": "markdown",
   "metadata": {},
   "source": [
    "and then specify that the remaining columns (the clauses) show the passage:"
   ]
  },
  {
   "cell_type": "code",
   "execution_count": 22,
   "metadata": {
    "ExecuteTime": {
     "end_time": "2018-05-24T08:00:11.096751Z",
     "start_time": "2018-05-24T08:00:10.585477Z"
    }
   },
   "outputs": [
    {
     "data": {
      "text/html": [
       "<table><tr class=\"tf rtl\"><th class=\"tf rtl\">n</th><th class=\"tf rtl\">clause</th><th class=\"tf\">clause</th></tr>\n",
       "<tr class=\"tf rtl\"><td class=\"tf rtl\">1</td><td class=\"tf rtl\"><span class=\"rtl ubd\"><span class=\"tfsechead rtl\"><a target=\"_blank\" href=\"https://shebanq.ancient-data.org/hebrew/text?book=Genesis&amp;chapter=1&amp;verse=18&amp;version=c&amp;mr=m&amp;qw=q&amp;tp=txt_p&amp;tr=hb&amp;wget=v&amp;qget=v&amp;nget=vt\" title=\"Show this on SHEBANQ\" sec=\"Genesis 1:18\">Genesis 1:18</a></span>  <span class=\"plain rtl  hlbx\" ><span class=\"txtu hbo\">וְ</span><span class=\"txtu hbo\">לִ</span><span class=\"txtu hbo\">מְשֹׁל֙ </span><span class=\"txtu hbo\">בַּ</span><span class=\"txtu hbo\">יֹּ֣ום </span><span class=\"txtu hbo\">וּ</span><span class=\"txtu hbo\">בַ</span><span class=\"txtu hbo\">לַּ֔יְלָה </span></span></span></td><td class=\"tf rtl\"><span class=\"rtl ubd\"><span class=\"tfsechead rtl\"><a target=\"_blank\" href=\"https://shebanq.ancient-data.org/hebrew/text?book=Genesis&amp;chapter=1&amp;verse=17&amp;version=c&amp;mr=m&amp;qw=q&amp;tp=txt_p&amp;tr=hb&amp;wget=v&amp;qget=v&amp;nget=vt\" title=\"Show this on SHEBANQ\" sec=\"Genesis 1:17\">Genesis 1:17</a></span>  <span class=\"plain rtl  hlbx\" ><span class=\"txtu hbo\">לְ</span><span class=\"txtu hbo\">הָאִ֖יר </span><span class=\"txtu hbo\">עַל־</span><span class=\"txtu hbo\">הָ</span><span class=\"txtu hbo\">אָֽרֶץ׃ </span></span></span></td></tr>\n",
       "<tr class=\"tf rtl\"><td class=\"tf rtl\">2</td><td class=\"tf rtl\"><span class=\"rtl ubd\"><span class=\"tfsechead rtl\"><a target=\"_blank\" href=\"https://shebanq.ancient-data.org/hebrew/text?book=Genesis&amp;chapter=2&amp;verse=7&amp;version=c&amp;mr=m&amp;qw=q&amp;tp=txt_p&amp;tr=hb&amp;wget=v&amp;qget=v&amp;nget=vt\" title=\"Show this on SHEBANQ\" sec=\"Genesis 2:7\">Genesis 2:7</a></span>  <span class=\"plain rtl  hlbx\" ><span class=\"txtu hbo\">וַ</span><span class=\"txtu hbo\">יִּיצֶר֩ </span><span class=\"txtu hbo\">יְהוָ֨ה </span><span class=\"txtu hbo\">אֱלֹהִ֜ים </span><span class=\"txtu hbo\">אֶת־</span><span class=\"txtu hbo\">הָֽ</span><span class=\"txtu hbo\">אָדָ֗ם </span><span class=\"txtu hbo\">עָפָר֙ </span><span class=\"txtu hbo\">מִן־</span><span class=\"txtu hbo\">הָ֣</span><span class=\"txtu hbo\">אֲדָמָ֔ה </span></span></span></td><td class=\"tf rtl\"><span class=\"rtl ubd\"><span class=\"tfsechead rtl\"><a target=\"_blank\" href=\"https://shebanq.ancient-data.org/hebrew/text?book=Genesis&amp;chapter=2&amp;verse=4&amp;version=c&amp;mr=m&amp;qw=q&amp;tp=txt_p&amp;tr=hb&amp;wget=v&amp;qget=v&amp;nget=vt\" title=\"Show this on SHEBANQ\" sec=\"Genesis 2:4\">Genesis 2:4</a></span>  <span class=\"plain rtl  hlbx\" ><span class=\"txtu hbo\">בְּ</span><span class=\"txtu hbo\">יֹ֗ום </span></span></span></td></tr>\n",
       "<tr class=\"tf rtl\"><td class=\"tf rtl\">3</td><td class=\"tf rtl\"><span class=\"rtl ubd\"><span class=\"tfsechead rtl\"><a target=\"_blank\" href=\"https://shebanq.ancient-data.org/hebrew/text?book=Genesis&amp;chapter=7&amp;verse=3&amp;version=c&amp;mr=m&amp;qw=q&amp;tp=txt_p&amp;tr=hb&amp;wget=v&amp;qget=v&amp;nget=vt\" title=\"Show this on SHEBANQ\" sec=\"Genesis 7:3\">Genesis 7:3</a></span>  <span class=\"plain rtl  hlbx\" ><span class=\"txtu hbo\">לְ</span><span class=\"txtu hbo\">חַיֹּ֥ות </span><span class=\"txtu hbo\">זֶ֖רַע </span><span class=\"txtu hbo\">עַל־</span><span class=\"txtu hbo\">פְּנֵ֥י </span><span class=\"txtu hbo\">כָל־</span><span class=\"txtu hbo\">הָ</span><span class=\"txtu hbo\">אָֽרֶץ׃ </span></span></span></td><td class=\"tf rtl\"><span class=\"rtl ubd\"><span class=\"tfsechead rtl\"><a target=\"_blank\" href=\"https://shebanq.ancient-data.org/hebrew/text?book=Genesis&amp;chapter=7&amp;verse=2&amp;version=c&amp;mr=m&amp;qw=q&amp;tp=txt_p&amp;tr=hb&amp;wget=v&amp;qget=v&amp;nget=vt\" title=\"Show this on SHEBANQ\" sec=\"Genesis 7:2\">Genesis 7:2</a></span>  <span class=\"plain rtl  hlbx\" ><span class=\"txtu hbo\">מִ</span><span class=\"txtu hbo\">כֹּ֣ל׀ </span><span class=\"txtu hbo\">הַ</span><span class=\"txtu hbo\">בְּהֵמָ֣ה </span><span class=\"txtu hbo\">הַ</span><span class=\"txtu hbo\">טְּהֹורָ֗ה </span><span class=\"txtu hbo\">תִּֽקַּח־</span><span class=\"txtu hbo\">לְךָ֛ </span><span class=\"txtu hbo\">שִׁבְעָ֥ה </span><span class=\"txtu hbo\">שִׁבְעָ֖ה </span><span class=\"txtu hbo\">אִ֣ישׁ </span><span class=\"txtu hbo\">וְ</span><span class=\"txtu hbo\">אִשְׁתֹּ֑ו </span></span></span></td></tr>\n",
       "<tr class=\"tf rtl\"><td class=\"tf rtl\">4</td><td class=\"tf rtl\"><span class=\"rtl ubd\"><span class=\"tfsechead rtl\"><a target=\"_blank\" href=\"https://shebanq.ancient-data.org/hebrew/text?book=Genesis&amp;chapter=22&amp;verse=17&amp;version=c&amp;mr=m&amp;qw=q&amp;tp=txt_p&amp;tr=hb&amp;wget=v&amp;qget=v&amp;nget=vt\" title=\"Show this on SHEBANQ\" sec=\"Genesis 22:17\">Genesis 22:17</a></span>  <span class=\"plain rtl  hlbx\" ><span class=\"txtu hbo\">כִּֽי־</span><span class=\"txtu hbo\">בָרֵ֣ךְ </span><span class=\"txtu hbo\">אֲבָרֶכְךָ֗ </span></span></span></td><td class=\"tf rtl\"><span class=\"rtl ubd\"><span class=\"tfsechead rtl\"><a target=\"_blank\" href=\"https://shebanq.ancient-data.org/hebrew/text?book=Genesis&amp;chapter=22&amp;verse=16&amp;version=c&amp;mr=m&amp;qw=q&amp;tp=txt_p&amp;tr=hb&amp;wget=v&amp;qget=v&amp;nget=vt\" title=\"Show this on SHEBANQ\" sec=\"Genesis 22:16\">Genesis 22:16</a></span>  <span class=\"plain rtl  hlbx\" ><span class=\"txtu hbo\">כִּ֗י </span></span></span></td></tr>\n",
       "<tr class=\"tf rtl\"><td class=\"tf rtl\">5</td><td class=\"tf rtl\"><span class=\"rtl ubd\"><span class=\"tfsechead rtl\"><a target=\"_blank\" href=\"https://shebanq.ancient-data.org/hebrew/text?book=Genesis&amp;chapter=24&amp;verse=44&amp;version=c&amp;mr=m&amp;qw=q&amp;tp=txt_p&amp;tr=hb&amp;wget=v&amp;qget=v&amp;nget=vt\" title=\"Show this on SHEBANQ\" sec=\"Genesis 24:44\">Genesis 24:44</a></span>  <span class=\"plain rtl  hlbx\" ><span class=\"txtu hbo\">הִ֣וא </span><span class=\"txtu hbo\">הָֽ</span><span class=\"txtu hbo\">אִשָּׁ֔ה </span></span></span></td><td class=\"tf rtl\"><span class=\"rtl ubd\"><span class=\"tfsechead rtl\"><a target=\"_blank\" href=\"https://shebanq.ancient-data.org/hebrew/text?book=Genesis&amp;chapter=24&amp;verse=43&amp;version=c&amp;mr=m&amp;qw=q&amp;tp=txt_p&amp;tr=hb&amp;wget=v&amp;qget=v&amp;nget=vt\" title=\"Show this on SHEBANQ\" sec=\"Genesis 24:43\">Genesis 24:43</a></span>  <span class=\"plain rtl  hlbx\" ><span class=\"txtu hbo\">הָֽ</span><span class=\"txtu hbo\">עַלְמָה֙ </span></span></span></td></tr>\n",
       "<tr class=\"tf rtl\"><td class=\"tf rtl\">6</td><td class=\"tf rtl\"><span class=\"rtl ubd\"><span class=\"tfsechead rtl\"><a target=\"_blank\" href=\"https://shebanq.ancient-data.org/hebrew/text?book=Genesis&amp;chapter=27&amp;verse=45&amp;version=c&amp;mr=m&amp;qw=q&amp;tp=txt_p&amp;tr=hb&amp;wget=v&amp;qget=v&amp;nget=vt\" title=\"Show this on SHEBANQ\" sec=\"Genesis 27:45\">Genesis 27:45</a></span>  <span class=\"plain rtl  hlbx\" ><span class=\"txtu hbo\">עַד־</span><span class=\"txtu hbo\">שׁ֨וּב </span><span class=\"txtu hbo\">אַף־</span><span class=\"txtu hbo\">אָחִ֜יךָ </span><span class=\"txtu hbo\">מִמְּךָ֗ </span></span></span></td><td class=\"tf rtl\"><span class=\"rtl ubd\"><span class=\"tfsechead rtl\"><a target=\"_blank\" href=\"https://shebanq.ancient-data.org/hebrew/text?book=Genesis&amp;chapter=27&amp;verse=44&amp;version=c&amp;mr=m&amp;qw=q&amp;tp=txt_p&amp;tr=hb&amp;wget=v&amp;qget=v&amp;nget=vt\" title=\"Show this on SHEBANQ\" sec=\"Genesis 27:44\">Genesis 27:44</a></span>  <span class=\"plain rtl  hlbx\" ><span class=\"txtu hbo\">עַ֥ד </span><span class=\"txtu hbo\">אֲשֶׁר־</span><span class=\"txtu hbo\">תָּשׁ֖וּב </span><span class=\"txtu hbo\">חֲמַ֥ת </span><span class=\"txtu hbo\">אָחִֽיךָ׃ </span></span></span></td></tr>\n",
       "<tr class=\"tf rtl\"><td class=\"tf rtl\">7</td><td class=\"tf rtl\"><span class=\"rtl ubd\"><span class=\"tfsechead rtl\"><a target=\"_blank\" href=\"https://shebanq.ancient-data.org/hebrew/text?book=Genesis&amp;chapter=36&amp;verse=16&amp;version=c&amp;mr=m&amp;qw=q&amp;tp=txt_p&amp;tr=hb&amp;wget=v&amp;qget=v&amp;nget=vt\" title=\"Show this on SHEBANQ\" sec=\"Genesis 36:16\">Genesis 36:16</a></span>  <span class=\"plain rtl  hlbx\" ><span class=\"txtu hbo\">אַלּֽוּף־</span><span class=\"txtu hbo\">קֹ֛רַח </span><span class=\"txtu hbo\">אַלּ֥וּף </span><span class=\"txtu hbo\">גַּעְתָּ֖ם </span><span class=\"txtu hbo\">אַלּ֣וּף </span><span class=\"txtu hbo\">עֲמָלֵ֑ק </span></span></span></td><td class=\"tf rtl\"><span class=\"rtl ubd\"><span class=\"tfsechead rtl\"><a target=\"_blank\" href=\"https://shebanq.ancient-data.org/hebrew/text?book=Genesis&amp;chapter=36&amp;verse=15&amp;version=c&amp;mr=m&amp;qw=q&amp;tp=txt_p&amp;tr=hb&amp;wget=v&amp;qget=v&amp;nget=vt\" title=\"Show this on SHEBANQ\" sec=\"Genesis 36:15\">Genesis 36:15</a></span>  <span class=\"plain rtl  hlbx\" ><span class=\"txtu hbo\">בְּנֵ֤י </span><span class=\"txtu hbo\">אֱלִיפַז֙ </span><span class=\"txtu hbo\">בְּכֹ֣ור </span><span class=\"txtu hbo\">עֵשָׂ֔ו </span><span class=\"txtu hbo\">אַלּ֤וּף </span><span class=\"txtu hbo\">תֵּימָן֙ </span><span class=\"txtu hbo\">אַלּ֣וּף </span><span class=\"txtu hbo\">אֹומָ֔ר </span><span class=\"txtu hbo\">אַלּ֥וּף </span><span class=\"txtu hbo\">צְפֹ֖ו </span><span class=\"txtu hbo\">אַלּ֥וּף </span><span class=\"txtu hbo\">קְנַֽז׃ </span></span></span></td></tr></table>"
      ],
      "text/plain": [
       "<IPython.core.display.HTML object>"
      ]
     },
     "metadata": {},
     "output_type": "display_data"
    }
   ],
   "source": [
    "A.table(results, end=7, skipCols=\"1 3\", withPassage=\"1 2\")"
   ]
  },
  {
   "cell_type": "markdown",
   "metadata": {},
   "source": [
    "### Edges with values\n",
    "\n",
    "There are also edge features that somehow *qualify* the relation between nodes they specify.\n",
    "\n",
    "The edge feature `crossref` in the\n",
    "[parallels](https://github.com/ETCBC/parallels)\n",
    "module specifies a relationship between verses: they are *parallel* if they are similar.\n",
    "But `crossref` also tells you how similar, in the form of a number that is the percentage of similarity\n",
    "according to the measure used by the algorithm to detect the parallels.\n",
    "\n",
    "This number is called the *value* of the `crossref` edge.\n",
    "In our search templates we make use of the *values* of edge features.\n",
    "\n",
    "Not all edge features provide values. `mother` does not. But `crossref` does.\n",
    "\n",
    "Here is how many crossreferences we have. The `crossref` edge feature is symmetric: if v is parallel to w, w is parallel to v. So in our query we stipulate that v comes before w:"
   ]
  },
  {
   "cell_type": "code",
   "execution_count": 23,
   "metadata": {
    "ExecuteTime": {
     "end_time": "2018-05-24T08:00:35.648065Z",
     "start_time": "2018-05-24T08:00:35.276033Z"
    }
   },
   "outputs": [
    {
     "name": "stdout",
     "output_type": "stream",
     "text": [
      "  0.15s 15871 results\n"
     ]
    }
   ],
   "source": [
    "query = \"\"\"\n",
    "v:verse\n",
    "-crossref> w:verse\n",
    "v < w\n",
    "\"\"\"\n",
    "results = A.search(query)"
   ]
  },
  {
   "cell_type": "markdown",
   "metadata": {},
   "source": [
    "We get a quick overview of the similarity distribution of parallels by means of `freqList()`:"
   ]
  },
  {
   "cell_type": "code",
   "execution_count": 24,
   "metadata": {
    "ExecuteTime": {
     "end_time": "2018-05-24T08:00:38.315507Z",
     "start_time": "2018-05-24T08:00:38.291652Z"
    }
   },
   "outputs": [
    {
     "data": {
      "text/plain": [
       "((100, 8456),\n",
       " (80, 7796),\n",
       " (84, 2874),\n",
       " (86, 2328),\n",
       " (76, 1274),\n",
       " (77, 1220),\n",
       " (78, 1170),\n",
       " (79, 844),\n",
       " (81, 844),\n",
       " (75, 836),\n",
       " (83, 754),\n",
       " (88, 730),\n",
       " (82, 720),\n",
       " (92, 250),\n",
       " (85, 248),\n",
       " (90, 240),\n",
       " (91, 216),\n",
       " (94, 160),\n",
       " (87, 148),\n",
       " (95, 148),\n",
       " (89, 142),\n",
       " (96, 90),\n",
       " (93, 88),\n",
       " (98, 76),\n",
       " (99, 58),\n",
       " (97, 32))"
      ]
     },
     "execution_count": 24,
     "metadata": {},
     "output_type": "execute_result"
    }
   ],
   "source": [
    "E.crossref.freqList()"
   ]
  },
  {
   "cell_type": "markdown",
   "metadata": {},
   "source": [
    "If we want the cases with a high similarity, we can say:"
   ]
  },
  {
   "cell_type": "code",
   "execution_count": 25,
   "metadata": {
    "ExecuteTime": {
     "end_time": "2018-05-24T08:00:40.831880Z",
     "start_time": "2018-05-24T08:00:40.657543Z"
    }
   },
   "outputs": [
    {
     "name": "stdout",
     "output_type": "stream",
     "text": [
      "  0.08s 4356 results\n"
     ]
    },
    {
     "data": {
      "text/html": [
       "<table><tr class=\"tf rtl\"><th class=\"tf rtl\">n</th><th class=\"tf rtl\">verse</th><th class=\"tf\">verse</th></tr>\n",
       "<tr class=\"tf rtl\"><td class=\"tf rtl\">1</td><td class=\"tf rtl\"><span class=\"rtl ubd\"><span class=\"tfsechead rtl\"><a target=\"_blank\" href=\"https://shebanq.ancient-data.org/hebrew/text?book=Genesis&amp;chapter=10&amp;verse=2&amp;version=c&amp;mr=m&amp;qw=q&amp;tp=txt_p&amp;tr=hb&amp;wget=v&amp;qget=v&amp;nget=vt\" title=\"Show this on SHEBANQ\" sec=\"Genesis 10:2\">Genesis 10:2</a></span>  </span></td><td class=\"tf rtl\"><span class=\"rtl ubd\"><span class=\"tfsechead rtl\"><a target=\"_blank\" href=\"https://shebanq.ancient-data.org/hebrew/text?book=Chronica_I&amp;chapter=1&amp;verse=5&amp;version=c&amp;mr=m&amp;qw=q&amp;tp=txt_p&amp;tr=hb&amp;wget=v&amp;qget=v&amp;nget=vt\" title=\"Show this on SHEBANQ\" sec=\"1_Chronicles 1:5\">1_Chronicles 1:5</a></span>  </span></td></tr>\n",
       "<tr class=\"tf rtl\"><td class=\"tf rtl\">2</td><td class=\"tf rtl\"><span class=\"rtl ubd\"><span class=\"tfsechead rtl\"><a target=\"_blank\" href=\"https://shebanq.ancient-data.org/hebrew/text?book=Genesis&amp;chapter=10&amp;verse=6&amp;version=c&amp;mr=m&amp;qw=q&amp;tp=txt_p&amp;tr=hb&amp;wget=v&amp;qget=v&amp;nget=vt\" title=\"Show this on SHEBANQ\" sec=\"Genesis 10:6\">Genesis 10:6</a></span>  </span></td><td class=\"tf rtl\"><span class=\"rtl ubd\"><span class=\"tfsechead rtl\"><a target=\"_blank\" href=\"https://shebanq.ancient-data.org/hebrew/text?book=Chronica_I&amp;chapter=1&amp;verse=8&amp;version=c&amp;mr=m&amp;qw=q&amp;tp=txt_p&amp;tr=hb&amp;wget=v&amp;qget=v&amp;nget=vt\" title=\"Show this on SHEBANQ\" sec=\"1_Chronicles 1:8\">1_Chronicles 1:8</a></span>  </span></td></tr>\n",
       "<tr class=\"tf rtl\"><td class=\"tf rtl\">3</td><td class=\"tf rtl\"><span class=\"rtl ubd\"><span class=\"tfsechead rtl\"><a target=\"_blank\" href=\"https://shebanq.ancient-data.org/hebrew/text?book=Genesis&amp;chapter=10&amp;verse=7&amp;version=c&amp;mr=m&amp;qw=q&amp;tp=txt_p&amp;tr=hb&amp;wget=v&amp;qget=v&amp;nget=vt\" title=\"Show this on SHEBANQ\" sec=\"Genesis 10:7\">Genesis 10:7</a></span>  </span></td><td class=\"tf rtl\"><span class=\"rtl ubd\"><span class=\"tfsechead rtl\"><a target=\"_blank\" href=\"https://shebanq.ancient-data.org/hebrew/text?book=Chronica_I&amp;chapter=1&amp;verse=9&amp;version=c&amp;mr=m&amp;qw=q&amp;tp=txt_p&amp;tr=hb&amp;wget=v&amp;qget=v&amp;nget=vt\" title=\"Show this on SHEBANQ\" sec=\"1_Chronicles 1:9\">1_Chronicles 1:9</a></span>  </span></td></tr>\n",
       "<tr class=\"tf rtl\"><td class=\"tf rtl\">4</td><td class=\"tf rtl\"><span class=\"rtl ubd\"><span class=\"tfsechead rtl\"><a target=\"_blank\" href=\"https://shebanq.ancient-data.org/hebrew/text?book=Genesis&amp;chapter=10&amp;verse=8&amp;version=c&amp;mr=m&amp;qw=q&amp;tp=txt_p&amp;tr=hb&amp;wget=v&amp;qget=v&amp;nget=vt\" title=\"Show this on SHEBANQ\" sec=\"Genesis 10:8\">Genesis 10:8</a></span>  </span></td><td class=\"tf rtl\"><span class=\"rtl ubd\"><span class=\"tfsechead rtl\"><a target=\"_blank\" href=\"https://shebanq.ancient-data.org/hebrew/text?book=Chronica_I&amp;chapter=1&amp;verse=10&amp;version=c&amp;mr=m&amp;qw=q&amp;tp=txt_p&amp;tr=hb&amp;wget=v&amp;qget=v&amp;nget=vt\" title=\"Show this on SHEBANQ\" sec=\"1_Chronicles 1:10\">1_Chronicles 1:10</a></span>  </span></td></tr>\n",
       "<tr class=\"tf rtl\"><td class=\"tf rtl\">5</td><td class=\"tf rtl\"><span class=\"rtl ubd\"><span class=\"tfsechead rtl\"><a target=\"_blank\" href=\"https://shebanq.ancient-data.org/hebrew/text?book=Genesis&amp;chapter=10&amp;verse=13&amp;version=c&amp;mr=m&amp;qw=q&amp;tp=txt_p&amp;tr=hb&amp;wget=v&amp;qget=v&amp;nget=vt\" title=\"Show this on SHEBANQ\" sec=\"Genesis 10:13\">Genesis 10:13</a></span>  </span></td><td class=\"tf rtl\"><span class=\"rtl ubd\"><span class=\"tfsechead rtl\"><a target=\"_blank\" href=\"https://shebanq.ancient-data.org/hebrew/text?book=Chronica_I&amp;chapter=1&amp;verse=11&amp;version=c&amp;mr=m&amp;qw=q&amp;tp=txt_p&amp;tr=hb&amp;wget=v&amp;qget=v&amp;nget=vt\" title=\"Show this on SHEBANQ\" sec=\"1_Chronicles 1:11\">1_Chronicles 1:11</a></span>  </span></td></tr>\n",
       "<tr class=\"tf rtl\"><td class=\"tf rtl\">6</td><td class=\"tf rtl\"><span class=\"rtl ubd\"><span class=\"tfsechead rtl\"><a target=\"_blank\" href=\"https://shebanq.ancient-data.org/hebrew/text?book=Genesis&amp;chapter=10&amp;verse=14&amp;version=c&amp;mr=m&amp;qw=q&amp;tp=txt_p&amp;tr=hb&amp;wget=v&amp;qget=v&amp;nget=vt\" title=\"Show this on SHEBANQ\" sec=\"Genesis 10:14\">Genesis 10:14</a></span>  </span></td><td class=\"tf rtl\"><span class=\"rtl ubd\"><span class=\"tfsechead rtl\"><a target=\"_blank\" href=\"https://shebanq.ancient-data.org/hebrew/text?book=Chronica_I&amp;chapter=1&amp;verse=12&amp;version=c&amp;mr=m&amp;qw=q&amp;tp=txt_p&amp;tr=hb&amp;wget=v&amp;qget=v&amp;nget=vt\" title=\"Show this on SHEBANQ\" sec=\"1_Chronicles 1:12\">1_Chronicles 1:12</a></span>  </span></td></tr>\n",
       "<tr class=\"tf rtl\"><td class=\"tf rtl\">7</td><td class=\"tf rtl\"><span class=\"rtl ubd\"><span class=\"tfsechead rtl\"><a target=\"_blank\" href=\"https://shebanq.ancient-data.org/hebrew/text?book=Genesis&amp;chapter=10&amp;verse=15&amp;version=c&amp;mr=m&amp;qw=q&amp;tp=txt_p&amp;tr=hb&amp;wget=v&amp;qget=v&amp;nget=vt\" title=\"Show this on SHEBANQ\" sec=\"Genesis 10:15\">Genesis 10:15</a></span>  </span></td><td class=\"tf rtl\"><span class=\"rtl ubd\"><span class=\"tfsechead rtl\"><a target=\"_blank\" href=\"https://shebanq.ancient-data.org/hebrew/text?book=Chronica_I&amp;chapter=1&amp;verse=13&amp;version=c&amp;mr=m&amp;qw=q&amp;tp=txt_p&amp;tr=hb&amp;wget=v&amp;qget=v&amp;nget=vt\" title=\"Show this on SHEBANQ\" sec=\"1_Chronicles 1:13\">1_Chronicles 1:13</a></span>  </span></td></tr>\n",
       "<tr class=\"tf rtl\"><td class=\"tf rtl\">8</td><td class=\"tf rtl\"><span class=\"rtl ubd\"><span class=\"tfsechead rtl\"><a target=\"_blank\" href=\"https://shebanq.ancient-data.org/hebrew/text?book=Genesis&amp;chapter=10&amp;verse=16&amp;version=c&amp;mr=m&amp;qw=q&amp;tp=txt_p&amp;tr=hb&amp;wget=v&amp;qget=v&amp;nget=vt\" title=\"Show this on SHEBANQ\" sec=\"Genesis 10:16\">Genesis 10:16</a></span>  </span></td><td class=\"tf rtl\"><span class=\"rtl ubd\"><span class=\"tfsechead rtl\"><a target=\"_blank\" href=\"https://shebanq.ancient-data.org/hebrew/text?book=Chronica_I&amp;chapter=1&amp;verse=14&amp;version=c&amp;mr=m&amp;qw=q&amp;tp=txt_p&amp;tr=hb&amp;wget=v&amp;qget=v&amp;nget=vt\" title=\"Show this on SHEBANQ\" sec=\"1_Chronicles 1:14\">1_Chronicles 1:14</a></span>  </span></td></tr>\n",
       "<tr class=\"tf rtl\"><td class=\"tf rtl\">9</td><td class=\"tf rtl\"><span class=\"rtl ubd\"><span class=\"tfsechead rtl\"><a target=\"_blank\" href=\"https://shebanq.ancient-data.org/hebrew/text?book=Genesis&amp;chapter=10&amp;verse=17&amp;version=c&amp;mr=m&amp;qw=q&amp;tp=txt_p&amp;tr=hb&amp;wget=v&amp;qget=v&amp;nget=vt\" title=\"Show this on SHEBANQ\" sec=\"Genesis 10:17\">Genesis 10:17</a></span>  </span></td><td class=\"tf rtl\"><span class=\"rtl ubd\"><span class=\"tfsechead rtl\"><a target=\"_blank\" href=\"https://shebanq.ancient-data.org/hebrew/text?book=Chronica_I&amp;chapter=1&amp;verse=15&amp;version=c&amp;mr=m&amp;qw=q&amp;tp=txt_p&amp;tr=hb&amp;wget=v&amp;qget=v&amp;nget=vt\" title=\"Show this on SHEBANQ\" sec=\"1_Chronicles 1:15\">1_Chronicles 1:15</a></span>  </span></td></tr>\n",
       "<tr class=\"tf rtl\"><td class=\"tf rtl\">10</td><td class=\"tf rtl\"><span class=\"rtl ubd\"><span class=\"tfsechead rtl\"><a target=\"_blank\" href=\"https://shebanq.ancient-data.org/hebrew/text?book=Genesis&amp;chapter=10&amp;verse=24&amp;version=c&amp;mr=m&amp;qw=q&amp;tp=txt_p&amp;tr=hb&amp;wget=v&amp;qget=v&amp;nget=vt\" title=\"Show this on SHEBANQ\" sec=\"Genesis 10:24\">Genesis 10:24</a></span>  </span></td><td class=\"tf rtl\"><span class=\"rtl ubd\"><span class=\"tfsechead rtl\"><a target=\"_blank\" href=\"https://shebanq.ancient-data.org/hebrew/text?book=Chronica_I&amp;chapter=1&amp;verse=18&amp;version=c&amp;mr=m&amp;qw=q&amp;tp=txt_p&amp;tr=hb&amp;wget=v&amp;qget=v&amp;nget=vt\" title=\"Show this on SHEBANQ\" sec=\"1_Chronicles 1:18\">1_Chronicles 1:18</a></span>  </span></td></tr></table>"
      ],
      "text/plain": [
       "<IPython.core.display.HTML object>"
      ]
     },
     "metadata": {},
     "output_type": "display_data"
    }
   ],
   "source": [
    "query = \"\"\"\n",
    "v:verse\n",
    "-crossref>95> w:verse\n",
    "v < w\n",
    "\"\"\"\n",
    "results = A.search(query)\n",
    "A.table(results, end=10, withPassage=\"1 2\")"
   ]
  },
  {
   "cell_type": "markdown",
   "metadata": {},
   "source": [
    "We can also see the verses written out:"
   ]
  },
  {
   "cell_type": "code",
   "execution_count": 26,
   "metadata": {},
   "outputs": [
    {
     "data": {
      "text/html": [
       "<table><tr class=\"tf rtl\"><th class=\"tf rtl\">n</th><th class=\"tf rtl\">verse</th><th class=\"tf\">verse</th></tr>\n",
       "<tr class=\"tf rtl\"><td class=\"tf rtl\">1</td><td class=\"tf rtl\"><span class=\"rtl ubd\"><span class=\"tfsechead rtl\"><a target=\"_blank\" href=\"https://shebanq.ancient-data.org/hebrew/text?book=Genesis&amp;chapter=10&amp;verse=2&amp;version=c&amp;mr=m&amp;qw=q&amp;tp=txt_p&amp;tr=hb&amp;wget=v&amp;qget=v&amp;nget=vt\" title=\"Show this on SHEBANQ\" sec=\"Genesis 10:2\">Genesis 10:2</a></span>  <span class=\"txtu hbo\">בְּנֵ֣י </span><span class=\"txtu hbo\">יֶ֔פֶת </span><span class=\"txtu hbo\">גֹּ֣מֶר </span><span class=\"txtu hbo\">וּ</span><span class=\"txtu hbo\">מָגֹ֔וג </span><span class=\"txtu hbo\">וּ</span><span class=\"txtu hbo\">מָדַ֖י </span><span class=\"txtu hbo\">וְ</span><span class=\"txtu hbo\">יָוָ֣ן </span><span class=\"txtu hbo\">וְ</span><span class=\"txtu hbo\">תֻבָ֑ל </span><span class=\"txtu hbo\">וּ</span><span class=\"txtu hbo\">מֶ֖שֶׁךְ </span><span class=\"txtu hbo\">וְ</span><span class=\"txtu hbo\">תִירָֽס׃ </span></span></td><td class=\"tf rtl\"><span class=\"rtl ubd\"><span class=\"tfsechead rtl\"><a target=\"_blank\" href=\"https://shebanq.ancient-data.org/hebrew/text?book=Chronica_I&amp;chapter=1&amp;verse=5&amp;version=c&amp;mr=m&amp;qw=q&amp;tp=txt_p&amp;tr=hb&amp;wget=v&amp;qget=v&amp;nget=vt\" title=\"Show this on SHEBANQ\" sec=\"1_Chronicles 1:5\">1_Chronicles 1:5</a></span>  <span class=\"txtu hbo\">בְּנֵ֣י </span><span class=\"txtu hbo\">יֶ֔פֶת </span><span class=\"txtu hbo\">גֹּ֣מֶר </span><span class=\"txtu hbo\">וּ</span><span class=\"txtu hbo\">מָגֹ֔וג </span><span class=\"txtu hbo\">וּ</span><span class=\"txtu hbo\">מָדַ֖י </span><span class=\"txtu hbo\">וְ</span><span class=\"txtu hbo\">יָוָ֣ן </span><span class=\"txtu hbo\">וְ</span><span class=\"txtu hbo\">תֻבָ֑ל </span><span class=\"txtu hbo\">וּ</span><span class=\"txtu hbo\">מֶ֖שֶׁךְ </span><span class=\"txtu hbo\">וְ</span><span class=\"txtu hbo\">תִירָֽס׃ ס </span></span></td></tr>\n",
       "<tr class=\"tf rtl\"><td class=\"tf rtl\">2</td><td class=\"tf rtl\"><span class=\"rtl ubd\"><span class=\"tfsechead rtl\"><a target=\"_blank\" href=\"https://shebanq.ancient-data.org/hebrew/text?book=Genesis&amp;chapter=10&amp;verse=6&amp;version=c&amp;mr=m&amp;qw=q&amp;tp=txt_p&amp;tr=hb&amp;wget=v&amp;qget=v&amp;nget=vt\" title=\"Show this on SHEBANQ\" sec=\"Genesis 10:6\">Genesis 10:6</a></span>  <span class=\"txtu hbo\">וּ</span><span class=\"txtu hbo\">בְנֵ֖י </span><span class=\"txtu hbo\">חָ֑ם </span><span class=\"txtu hbo\">כּ֥וּשׁ </span><span class=\"txtu hbo\">וּ</span><span class=\"txtu hbo\">מִצְרַ֖יִם </span><span class=\"txtu hbo\">וּ</span><span class=\"txtu hbo\">פ֥וּט </span><span class=\"txtu hbo\">וּ</span><span class=\"txtu hbo\">כְנָֽעַן׃ </span></span></td><td class=\"tf rtl\"><span class=\"rtl ubd\"><span class=\"tfsechead rtl\"><a target=\"_blank\" href=\"https://shebanq.ancient-data.org/hebrew/text?book=Chronica_I&amp;chapter=1&amp;verse=8&amp;version=c&amp;mr=m&amp;qw=q&amp;tp=txt_p&amp;tr=hb&amp;wget=v&amp;qget=v&amp;nget=vt\" title=\"Show this on SHEBANQ\" sec=\"1_Chronicles 1:8\">1_Chronicles 1:8</a></span>  <span class=\"txtu hbo\">בְּנֵ֖י </span><span class=\"txtu hbo\">חָ֑ם </span><span class=\"txtu hbo\">כּ֥וּשׁ </span><span class=\"txtu hbo\">וּ</span><span class=\"txtu hbo\">מִצְרַ֖יִם </span><span class=\"txtu hbo\">פּ֥וּט </span><span class=\"txtu hbo\">וּ</span><span class=\"txtu hbo\">כְנָֽעַן׃ </span></span></td></tr>\n",
       "<tr class=\"tf rtl\"><td class=\"tf rtl\">3</td><td class=\"tf rtl\"><span class=\"rtl ubd\"><span class=\"tfsechead rtl\"><a target=\"_blank\" href=\"https://shebanq.ancient-data.org/hebrew/text?book=Genesis&amp;chapter=10&amp;verse=7&amp;version=c&amp;mr=m&amp;qw=q&amp;tp=txt_p&amp;tr=hb&amp;wget=v&amp;qget=v&amp;nget=vt\" title=\"Show this on SHEBANQ\" sec=\"Genesis 10:7\">Genesis 10:7</a></span>  <span class=\"txtu hbo\">וּ</span><span class=\"txtu hbo\">בְנֵ֣י </span><span class=\"txtu hbo\">כ֔וּשׁ </span><span class=\"txtu hbo\">סְבָא֙ </span><span class=\"txtu hbo\">וַֽ</span><span class=\"txtu hbo\">חֲוִילָ֔ה </span><span class=\"txtu hbo\">וְ</span><span class=\"txtu hbo\">סַבְתָּ֥ה </span><span class=\"txtu hbo\">וְ</span><span class=\"txtu hbo\">רַעְמָ֖ה </span><span class=\"txtu hbo\">וְ</span><span class=\"txtu hbo\">סַבְתְּכָ֑א </span><span class=\"txtu hbo\">וּ</span><span class=\"txtu hbo\">בְנֵ֥י </span><span class=\"txtu hbo\">רַעְמָ֖ה </span><span class=\"txtu hbo\">שְׁבָ֥א </span><span class=\"txtu hbo\">וּ</span><span class=\"txtu hbo\">דְדָֽן׃ </span></span></td><td class=\"tf rtl\"><span class=\"rtl ubd\"><span class=\"tfsechead rtl\"><a target=\"_blank\" href=\"https://shebanq.ancient-data.org/hebrew/text?book=Chronica_I&amp;chapter=1&amp;verse=9&amp;version=c&amp;mr=m&amp;qw=q&amp;tp=txt_p&amp;tr=hb&amp;wget=v&amp;qget=v&amp;nget=vt\" title=\"Show this on SHEBANQ\" sec=\"1_Chronicles 1:9\">1_Chronicles 1:9</a></span>  <span class=\"txtu hbo\">וּ</span><span class=\"txtu hbo\">בְנֵ֣י </span><span class=\"txtu hbo\">כ֔וּשׁ </span><span class=\"txtu hbo\">סְבָא֙ </span><span class=\"txtu hbo\">וַ</span><span class=\"txtu hbo\">חֲוִילָ֔ה </span><span class=\"txtu hbo\">וְ</span><span class=\"txtu hbo\">סַבְתָּ֥א </span><span class=\"txtu hbo\">וְ</span><span class=\"txtu hbo\">רַעְמָ֖א </span><span class=\"txtu hbo\">וְ</span><span class=\"txtu hbo\">סַבְתְּכָ֑א </span><span class=\"txtu hbo\">וּ</span><span class=\"txtu hbo\">בְנֵ֥י </span><span class=\"txtu hbo\">רַעְמָ֖א </span><span class=\"txtu hbo\">שְׁבָ֥א </span><span class=\"txtu hbo\">וּ</span><span class=\"txtu hbo\">דְדָֽן׃ ס </span></span></td></tr>\n",
       "<tr class=\"tf rtl\"><td class=\"tf rtl\">4</td><td class=\"tf rtl\"><span class=\"rtl ubd\"><span class=\"tfsechead rtl\"><a target=\"_blank\" href=\"https://shebanq.ancient-data.org/hebrew/text?book=Genesis&amp;chapter=10&amp;verse=8&amp;version=c&amp;mr=m&amp;qw=q&amp;tp=txt_p&amp;tr=hb&amp;wget=v&amp;qget=v&amp;nget=vt\" title=\"Show this on SHEBANQ\" sec=\"Genesis 10:8\">Genesis 10:8</a></span>  <span class=\"txtu hbo\">וְ</span><span class=\"txtu hbo\">כ֖וּשׁ </span><span class=\"txtu hbo\">יָלַ֣ד </span><span class=\"txtu hbo\">אֶת־</span><span class=\"txtu hbo\">נִמְרֹ֑ד </span><span class=\"txtu hbo\">ה֣וּא </span><span class=\"txtu hbo\">הֵחֵ֔ל </span><span class=\"txtu hbo\">לִֽ</span><span class=\"txtu hbo\">הְיֹ֥ות </span><span class=\"txtu hbo\">גִּבֹּ֖ר </span><span class=\"txtu hbo\">בָּ</span><span class=\"txtu hbo\">אָֽרֶץ׃ </span></span></td><td class=\"tf rtl\"><span class=\"rtl ubd\"><span class=\"tfsechead rtl\"><a target=\"_blank\" href=\"https://shebanq.ancient-data.org/hebrew/text?book=Chronica_I&amp;chapter=1&amp;verse=10&amp;version=c&amp;mr=m&amp;qw=q&amp;tp=txt_p&amp;tr=hb&amp;wget=v&amp;qget=v&amp;nget=vt\" title=\"Show this on SHEBANQ\" sec=\"1_Chronicles 1:10\">1_Chronicles 1:10</a></span>  <span class=\"txtu hbo\">וְ</span><span class=\"txtu hbo\">כ֖וּשׁ </span><span class=\"txtu hbo\">יָלַ֣ד </span><span class=\"txtu hbo\">אֶת־</span><span class=\"txtu hbo\">נִמְרֹ֑וד </span><span class=\"txtu hbo\">ה֣וּא </span><span class=\"txtu hbo\">הֵחֵ֔ל </span><span class=\"txtu hbo\">לִ</span><span class=\"txtu hbo\">הְיֹ֥ות </span><span class=\"txtu hbo\">גִּבֹּ֖ור </span><span class=\"txtu hbo\">בָּ</span><span class=\"txtu hbo\">אָֽרֶץ׃ ס </span></span></td></tr>\n",
       "<tr class=\"tf rtl\"><td class=\"tf rtl\">5</td><td class=\"tf rtl\"><span class=\"rtl ubd\"><span class=\"tfsechead rtl\"><a target=\"_blank\" href=\"https://shebanq.ancient-data.org/hebrew/text?book=Genesis&amp;chapter=10&amp;verse=13&amp;version=c&amp;mr=m&amp;qw=q&amp;tp=txt_p&amp;tr=hb&amp;wget=v&amp;qget=v&amp;nget=vt\" title=\"Show this on SHEBANQ\" sec=\"Genesis 10:13\">Genesis 10:13</a></span>  <span class=\"txtu hbo\">וּ</span><span class=\"txtu hbo\">מִצְרַ֡יִם </span><span class=\"txtu hbo\">יָלַ֞ד </span><span class=\"txtu hbo\">אֶת־</span><span class=\"txtu hbo\">לוּדִ֧ים </span><span class=\"txtu hbo\">וְ</span><span class=\"txtu hbo\">אֶת־</span><span class=\"txtu hbo\">עֲנָמִ֛ים </span><span class=\"txtu hbo\">וְ</span><span class=\"txtu hbo\">אֶת־</span><span class=\"txtu hbo\">לְהָבִ֖ים </span><span class=\"txtu hbo\">וְ</span><span class=\"txtu hbo\">אֶת־</span><span class=\"txtu hbo\">נַפְתֻּחִֽים׃ </span></span></td><td class=\"tf rtl\"><span class=\"rtl ubd\"><span class=\"tfsechead rtl\"><a target=\"_blank\" href=\"https://shebanq.ancient-data.org/hebrew/text?book=Chronica_I&amp;chapter=1&amp;verse=11&amp;version=c&amp;mr=m&amp;qw=q&amp;tp=txt_p&amp;tr=hb&amp;wget=v&amp;qget=v&amp;nget=vt\" title=\"Show this on SHEBANQ\" sec=\"1_Chronicles 1:11\">1_Chronicles 1:11</a></span>  <span class=\"txtu hbo\">וּ</span><span class=\"txtu hbo\">מִצְרַ֡יִם </span><span class=\"txtu hbo\">יָלַ֞ד </span><span class=\"txtu hbo\">אֶת־</span><span class=\"txtu hbo\">לוּדִ֧ים </span><span class=\"txtu hbo\">וְ</span><span class=\"txtu hbo\">אֶת־</span><span class=\"txtu hbo\">עֲנָמִ֛ים </span><span class=\"txtu hbo\">וְ</span><span class=\"txtu hbo\">אֶת־</span><span class=\"txtu hbo\">לְהָבִ֖ים </span><span class=\"txtu hbo\">וְ</span><span class=\"txtu hbo\">אֶת־</span><span class=\"txtu hbo\">נַפְתֻּחִֽים׃ </span></span></td></tr></table>"
      ],
      "text/plain": [
       "<IPython.core.display.HTML object>"
      ]
     },
     "metadata": {},
     "output_type": "display_data"
    }
   ],
   "source": [
    "A.table(results, end=5, withPassage=\"1 2\", full=True)"
   ]
  },
  {
   "cell_type": "markdown",
   "metadata": {},
   "source": [
    "If we want to inspect the cases with a lower similarity:"
   ]
  },
  {
   "cell_type": "code",
   "execution_count": 27,
   "metadata": {
    "ExecuteTime": {
     "end_time": "2018-05-24T08:00:43.547559Z",
     "start_time": "2018-05-24T08:00:43.379437Z"
    }
   },
   "outputs": [
    {
     "name": "stdout",
     "output_type": "stream",
     "text": [
      "  0.08s 2672 results\n"
     ]
    },
    {
     "data": {
      "text/html": [
       "<table><tr class=\"tf rtl\"><th class=\"tf rtl\">n</th><th class=\"tf rtl\">verse</th><th class=\"tf\">verse</th></tr>\n",
       "<tr class=\"tf rtl\"><td class=\"tf rtl\">1</td><td class=\"tf rtl\"><span class=\"rtl ubd\"><span class=\"tfsechead rtl\"><a target=\"_blank\" href=\"https://shebanq.ancient-data.org/hebrew/text?book=Genesis&amp;chapter=1&amp;verse=15&amp;version=c&amp;mr=m&amp;qw=q&amp;tp=txt_p&amp;tr=hb&amp;wget=v&amp;qget=v&amp;nget=vt\" title=\"Show this on SHEBANQ\" sec=\"Genesis 1:15\">Genesis 1:15</a></span>  <span class=\"txtu hbo\">וְ</span><span class=\"txtu hbo\">הָי֤וּ </span><span class=\"txtu hbo\">לִ</span><span class=\"txtu hbo\">מְאֹורֹת֙ </span><span class=\"txtu hbo\">בִּ</span><span class=\"txtu hbo\">רְקִ֣יעַ </span><span class=\"txtu hbo\">הַ</span><span class=\"txtu hbo\">שָּׁמַ֔יִם </span><span class=\"txtu hbo\">לְ</span><span class=\"txtu hbo\">הָאִ֖יר </span><span class=\"txtu hbo\">עַל־</span><span class=\"txtu hbo\">הָ</span><span class=\"txtu hbo\">אָ֑רֶץ </span><span class=\"txtu hbo\">וַֽ</span><span class=\"txtu hbo\">יְהִי־</span><span class=\"txtu hbo\">כֵֽן׃ </span></span></td><td class=\"tf rtl\"><span class=\"rtl ubd\"><span class=\"tfsechead rtl\"><a target=\"_blank\" href=\"https://shebanq.ancient-data.org/hebrew/text?book=Genesis&amp;chapter=1&amp;verse=17&amp;version=c&amp;mr=m&amp;qw=q&amp;tp=txt_p&amp;tr=hb&amp;wget=v&amp;qget=v&amp;nget=vt\" title=\"Show this on SHEBANQ\" sec=\"Genesis 1:17\">Genesis 1:17</a></span>  <span class=\"txtu hbo\">וַ</span><span class=\"txtu hbo\">יִּתֵּ֥ן </span><span class=\"txtu hbo\">אֹתָ֛ם </span><span class=\"txtu hbo\">אֱלֹהִ֖ים </span><span class=\"txtu hbo\">בִּ</span><span class=\"txtu hbo\">רְקִ֣יעַ </span><span class=\"txtu hbo\">הַ</span><span class=\"txtu hbo\">שָּׁמָ֑יִם </span><span class=\"txtu hbo\">לְ</span><span class=\"txtu hbo\">הָאִ֖יר </span><span class=\"txtu hbo\">עַל־</span><span class=\"txtu hbo\">הָ</span><span class=\"txtu hbo\">אָֽרֶץ׃ </span></span></td></tr>\n",
       "<tr class=\"tf rtl\"><td class=\"tf rtl\">2</td><td class=\"tf rtl\"><span class=\"rtl ubd\"><span class=\"tfsechead rtl\"><a target=\"_blank\" href=\"https://shebanq.ancient-data.org/hebrew/text?book=Genesis&amp;chapter=5&amp;verse=4&amp;version=c&amp;mr=m&amp;qw=q&amp;tp=txt_p&amp;tr=hb&amp;wget=v&amp;qget=v&amp;nget=vt\" title=\"Show this on SHEBANQ\" sec=\"Genesis 5:4\">Genesis 5:4</a></span>  <span class=\"plain rtl l \" ><span class=\"txtu hbo\">וַ</span><span class=\"txtu hbo\">יִּֽהְי֣וּ </span><span class=\"txtu hbo\">יְמֵי־</span><span class=\"txtu hbo\">אָדָ֗ם </span></span><span class=\"txtu hbo\">אַֽחֲרֵי֙ </span><span class=\"txtu hbo\">הֹולִידֹ֣ו </span><span class=\"txtu hbo\">אֶת־</span><span class=\"txtu hbo\">שֵׁ֔ת </span><span class=\"plain rtl r \" ><span class=\"txtu hbo\">שְׁמֹנֶ֥ה </span><span class=\"txtu hbo\">מֵאֹ֖ת </span><span class=\"txtu hbo\">שָׁנָ֑ה </span></span><span class=\"txtu hbo\">וַ</span><span class=\"txtu hbo\">יֹּ֥ולֶד </span><span class=\"txtu hbo\">בָּנִ֖ים </span><span class=\"txtu hbo\">וּ</span><span class=\"txtu hbo\">בָנֹֽות׃ </span></span></td><td class=\"tf rtl\"><span class=\"rtl ubd\"><span class=\"tfsechead rtl\"><a target=\"_blank\" href=\"https://shebanq.ancient-data.org/hebrew/text?book=Genesis&amp;chapter=5&amp;verse=7&amp;version=c&amp;mr=m&amp;qw=q&amp;tp=txt_p&amp;tr=hb&amp;wget=v&amp;qget=v&amp;nget=vt\" title=\"Show this on SHEBANQ\" sec=\"Genesis 5:7\">Genesis 5:7</a></span>  <span class=\"plain rtl l \" ><span class=\"txtu hbo\">וַֽ</span><span class=\"txtu hbo\">יְחִי־</span><span class=\"txtu hbo\">שֵׁ֗ת </span></span><span class=\"txtu hbo\">אַֽחֲרֵי֙ </span><span class=\"txtu hbo\">הֹולִידֹ֣ו </span><span class=\"txtu hbo\">אֶת־</span><span class=\"txtu hbo\">אֱנֹ֔ושׁ </span><span class=\"plain rtl r \" ><span class=\"txtu hbo\">שֶׁ֣בַע </span><span class=\"txtu hbo\">שָׁנִ֔ים </span><span class=\"txtu hbo\">וּ</span><span class=\"txtu hbo\">שְׁמֹנֶ֥ה </span><span class=\"txtu hbo\">מֵאֹ֖ות </span><span class=\"txtu hbo\">שָׁנָ֑ה </span></span><span class=\"txtu hbo\">וַ</span><span class=\"txtu hbo\">יֹּ֥ולֶד </span><span class=\"txtu hbo\">בָּנִ֖ים </span><span class=\"txtu hbo\">וּ</span><span class=\"txtu hbo\">בָנֹֽות׃ </span></span></td></tr>\n",
       "<tr class=\"tf rtl\"><td class=\"tf rtl\">3</td><td class=\"tf rtl\"><span class=\"rtl ubd\"><span class=\"tfsechead rtl\"><a target=\"_blank\" href=\"https://shebanq.ancient-data.org/hebrew/text?book=Genesis&amp;chapter=5&amp;verse=4&amp;version=c&amp;mr=m&amp;qw=q&amp;tp=txt_p&amp;tr=hb&amp;wget=v&amp;qget=v&amp;nget=vt\" title=\"Show this on SHEBANQ\" sec=\"Genesis 5:4\">Genesis 5:4</a></span>  <span class=\"plain rtl l \" ><span class=\"txtu hbo\">וַ</span><span class=\"txtu hbo\">יִּֽהְי֣וּ </span><span class=\"txtu hbo\">יְמֵי־</span><span class=\"txtu hbo\">אָדָ֗ם </span></span><span class=\"txtu hbo\">אַֽחֲרֵי֙ </span><span class=\"txtu hbo\">הֹולִידֹ֣ו </span><span class=\"txtu hbo\">אֶת־</span><span class=\"txtu hbo\">שֵׁ֔ת </span><span class=\"plain rtl r \" ><span class=\"txtu hbo\">שְׁמֹנֶ֥ה </span><span class=\"txtu hbo\">מֵאֹ֖ת </span><span class=\"txtu hbo\">שָׁנָ֑ה </span></span><span class=\"txtu hbo\">וַ</span><span class=\"txtu hbo\">יֹּ֥ולֶד </span><span class=\"txtu hbo\">בָּנִ֖ים </span><span class=\"txtu hbo\">וּ</span><span class=\"txtu hbo\">בָנֹֽות׃ </span></span></td><td class=\"tf rtl\"><span class=\"rtl ubd\"><span class=\"tfsechead rtl\"><a target=\"_blank\" href=\"https://shebanq.ancient-data.org/hebrew/text?book=Genesis&amp;chapter=5&amp;verse=13&amp;version=c&amp;mr=m&amp;qw=q&amp;tp=txt_p&amp;tr=hb&amp;wget=v&amp;qget=v&amp;nget=vt\" title=\"Show this on SHEBANQ\" sec=\"Genesis 5:13\">Genesis 5:13</a></span>  <span class=\"plain rtl l \" ><span class=\"txtu hbo\">וַ</span><span class=\"txtu hbo\">יְחִ֣י </span><span class=\"txtu hbo\">קֵינָ֗ן </span></span><span class=\"txtu hbo\">אַחֲרֵי֙ </span><span class=\"txtu hbo\">הֹולִידֹ֣ו </span><span class=\"txtu hbo\">אֶת־</span><span class=\"txtu hbo\">מַֽהֲלַלְאֵ֔ל </span><span class=\"plain rtl r \" ><span class=\"txtu hbo\">אַרְבָּעִ֣ים </span><span class=\"txtu hbo\">שָׁנָ֔ה </span><span class=\"txtu hbo\">וּ</span><span class=\"txtu hbo\">שְׁמֹנֶ֥ה </span><span class=\"txtu hbo\">מֵאֹ֖ות </span><span class=\"txtu hbo\">שָׁנָ֑ה </span></span><span class=\"txtu hbo\">וַ</span><span class=\"txtu hbo\">יֹּ֥ולֶד </span><span class=\"txtu hbo\">בָּנִ֖ים </span><span class=\"txtu hbo\">וּ</span><span class=\"txtu hbo\">בָנֹֽות׃ </span></span></td></tr></table>"
      ],
      "text/plain": [
       "<IPython.core.display.HTML object>"
      ]
     },
     "metadata": {},
     "output_type": "display_data"
    }
   ],
   "source": [
    "query = \"\"\"\n",
    "v:verse\n",
    "-crossref<80> w:verse\n",
    "v < w\n",
    "\"\"\"\n",
    "results = A.search(query)\n",
    "A.table(results, end=3, withPassage=\"1 2\", full=True)"
   ]
  },
  {
   "cell_type": "markdown",
   "metadata": {},
   "source": [
    "This shows how all features in your data can be queried in search templates, even the features that give values\n",
    "to edges."
   ]
  },
  {
   "cell_type": "markdown",
   "metadata": {},
   "source": [
    "# Feature conditions\n",
    "\n",
    "So far we have seen feature conditions in templates of these forms\n",
    "\n",
    "```\n",
    "node feature=value\n",
    "```\n",
    "\n",
    "But there is more."
   ]
  },
  {
   "cell_type": "markdown",
   "metadata": {},
   "source": [
    "## Trivially true\n",
    "\n",
    "You can say\n",
    "\n",
    "```\n",
    "node feature*\n",
    "```\n",
    "\n",
    "which selects all nodes, irrespective of the existence or value of feature.\n",
    "\n",
    "This is a useless criterion in the sense that it does not influence the set of results.\n",
    "\n",
    "But when some applications run queries for you, they might use the features mentioned in your query\n",
    "to decorate the results retrieved.\n",
    "\n",
    "This is your way to tell such applications that you want the values of `feature` included in your results.\n",
    "\n",
    "The text fabric browser looks at the features when it exports your results to CSV."
   ]
  },
  {
   "cell_type": "code",
   "execution_count": 28,
   "metadata": {},
   "outputs": [
    {
     "name": "stdout",
     "output_type": "stream",
     "text": [
      "  0.71s 426584 results\n",
      "426584\n",
      "  0.70s 426584 results\n",
      "426584\n"
     ]
    }
   ],
   "source": [
    "query1 = \"\"\"\n",
    "word vt*\n",
    "\"\"\"\n",
    "\n",
    "query2 = \"\"\"\n",
    "word\n",
    "\"\"\"\n",
    "\n",
    "results = A.search(query1)\n",
    "print(len(results))\n",
    "\n",
    "results = A.search(query1)\n",
    "print(len(results))"
   ]
  },
  {
   "cell_type": "markdown",
   "metadata": {},
   "source": [
    "## Inequality\n",
    "\n",
    "You can also say\n",
    "\n",
    "```\n",
    "node feature#value\n",
    "```\n",
    "which selects nodes where the feature does not have `value`."
   ]
  },
  {
   "cell_type": "markdown",
   "metadata": {},
   "source": [
    "## Multiple values\n",
    "\n",
    "When stating a feature condition, such as `chapter=1`,\n",
    "you may also specify a list of alternative values:\n",
    "\n",
    "```\n",
    "  chapter=1|2|3\n",
    "```\n",
    "\n",
    "You may list as many values as you wish, for every feature.\n",
    "\n",
    "It also works with inequalities:\n",
    "\n",
    "```\n",
    "  chapter#1|2|3\n",
    "```"
   ]
  },
  {
   "cell_type": "markdown",
   "metadata": {},
   "source": [
    "Let's find all verbally inflected words that are:\n",
    "not in the qal, not in the third person, not in the singular,\n",
    "not in the masculine."
   ]
  },
  {
   "cell_type": "code",
   "execution_count": 29,
   "metadata": {},
   "outputs": [
    {
     "name": "stdout",
     "output_type": "stream",
     "text": [
      "  0.94s 271 results\n"
     ]
    }
   ],
   "source": [
    "query = \"\"\"\n",
    "word sp=verb vs#qal vt#infc|infa|ptca|ptcp ps#p3 nu#sg gn#m\n",
    "\"\"\"\n",
    "\n",
    "A.displaySetup(extraFeatures=\"vt ps nu gn\")\n",
    "results = A.search(query, shallow=True)"
   ]
  },
  {
   "cell_type": "code",
   "execution_count": 30,
   "metadata": {},
   "outputs": [
    {
     "data": {
      "text/html": [
       "<div class=\"tfsechead rtl\"><a target=\"_blank\" href=\"https://shebanq.ancient-data.org/hebrew/text?book=Genesis&amp;chapter=4&amp;verse=23&amp;version=c&amp;mr=m&amp;qw=q&amp;tp=txt_p&amp;tr=hb&amp;wget=v&amp;qget=v&amp;nget=vt\" title=\"Show this on SHEBANQ\" sec=\"Genesis 4:23\">Genesis 4:23</a></div><div class=\"rtl children\"><div class=\"contnr c0 trm rtl  \" ><div class=\"lbl c0 trm \" ><a class=\" txtu hbo\" target=\"_blank\" href=\"https://shebanq.ancient-data.org/hebrew/word?version=c&amp;id=1AZNv\" title=\"Show this on SHEBANQ\"><span class=\"txtu hbo\">הַאְזֵ֖נָּה </span></a></div><div class='features'><span class=\"gn xft\" ><span class=\"f\">gn=</span>f</span><span class=\"nu xft\" ><span class=\"f\">nu=</span>pl</span><span class=\"ps xft\" ><span class=\"f\">ps=</span>p2</span><span class=\"vt xft\" ><span class=\"f\">vt=</span>impv</span></div></div></div>"
      ],
      "text/plain": [
       "<IPython.core.display.HTML object>"
      ]
     },
     "metadata": {},
     "output_type": "display_data"
    },
    {
     "data": {
      "text/html": [
       "<div class=\"tfsechead rtl\"><a target=\"_blank\" href=\"https://shebanq.ancient-data.org/hebrew/text?book=Genesis&amp;chapter=19&amp;verse=9&amp;version=c&amp;mr=m&amp;qw=q&amp;tp=txt_p&amp;tr=hb&amp;wget=v&amp;qget=v&amp;nget=vt\" title=\"Show this on SHEBANQ\" sec=\"Genesis 19:9\">Genesis 19:9</a></div><div class=\"rtl children\"><div class=\"contnr c0 trm rtl  \" ><div class=\"lbl c0 trm \" ><a class=\" txtu hbo\" target=\"_blank\" href=\"https://shebanq.ancient-data.org/hebrew/word?version=c&amp;id=1ROOv\" title=\"Show this on SHEBANQ\"><span class=\"txtu hbo\">נָרַ֥ע </span></a></div><div class='features'><span class=\"nu xft\" ><span class=\"f\">nu=</span>pl</span><span class=\"ps xft\" ><span class=\"f\">ps=</span>p1</span><span class=\"vt xft\" ><span class=\"f\">vt=</span>impf</span></div></div></div>"
      ],
      "text/plain": [
       "<IPython.core.display.HTML object>"
      ]
     },
     "metadata": {},
     "output_type": "display_data"
    },
    {
     "data": {
      "text/html": [
       "<div class=\"tfsechead rtl\"><a target=\"_blank\" href=\"https://shebanq.ancient-data.org/hebrew/text?book=Genesis&amp;chapter=19&amp;verse=32&amp;version=c&amp;mr=m&amp;qw=q&amp;tp=txt_p&amp;tr=hb&amp;wget=v&amp;qget=v&amp;nget=vt\" title=\"Show this on SHEBANQ\" sec=\"Genesis 19:32\">Genesis 19:32</a></div><div class=\"rtl children\"><div class=\"contnr c0 trm rtl  \" ><div class=\"lbl c0 trm \" ><a class=\" txtu hbo\" target=\"_blank\" href=\"https://shebanq.ancient-data.org/hebrew/word?version=c&amp;id=1CQHv\" title=\"Show this on SHEBANQ\"><span class=\"txtu hbo\">נַשְׁקֶ֧ה </span></a></div><div class='features'><span class=\"nu xft\" ><span class=\"f\">nu=</span>pl</span><span class=\"ps xft\" ><span class=\"f\">ps=</span>p1</span><span class=\"vt xft\" ><span class=\"f\">vt=</span>impf</span></div></div></div>"
      ],
      "text/plain": [
       "<IPython.core.display.HTML object>"
      ]
     },
     "metadata": {},
     "output_type": "display_data"
    },
    {
     "data": {
      "text/html": [
       "<div class=\"tfsechead rtl\"><a target=\"_blank\" href=\"https://shebanq.ancient-data.org/hebrew/text?book=Genesis&amp;chapter=19&amp;verse=32&amp;version=c&amp;mr=m&amp;qw=q&amp;tp=txt_p&amp;tr=hb&amp;wget=v&amp;qget=v&amp;nget=vt\" title=\"Show this on SHEBANQ\" sec=\"Genesis 19:32\">Genesis 19:32</a></div><div class=\"rtl children\"><div class=\"contnr c0 trm rtl  \" ><div class=\"lbl c0 trm \" ><a class=\" txtu hbo\" target=\"_blank\" href=\"https://shebanq.ancient-data.org/hebrew/word?version=c&amp;id=1XJHv\" title=\"Show this on SHEBANQ\"><span class=\"txtu hbo\">נְחַיֶּ֥ה </span></a></div><div class='features'><span class=\"nu xft\" ><span class=\"f\">nu=</span>pl</span><span class=\"ps xft\" ><span class=\"f\">ps=</span>p1</span><span class=\"vt xft\" ><span class=\"f\">vt=</span>impf</span></div></div></div>"
      ],
      "text/plain": [
       "<IPython.core.display.HTML object>"
      ]
     },
     "metadata": {},
     "output_type": "display_data"
    },
    {
     "data": {
      "text/html": [
       "<div class=\"tfsechead rtl\"><a target=\"_blank\" href=\"https://shebanq.ancient-data.org/hebrew/text?book=Genesis&amp;chapter=19&amp;verse=34&amp;version=c&amp;mr=m&amp;qw=q&amp;tp=txt_p&amp;tr=hb&amp;wget=v&amp;qget=v&amp;nget=vt\" title=\"Show this on SHEBANQ\" sec=\"Genesis 19:34\">Genesis 19:34</a></div><div class=\"rtl children\"><div class=\"contnr c0 trm rtl  \" ><div class=\"lbl c0 trm \" ><a class=\" txtu hbo\" target=\"_blank\" href=\"https://shebanq.ancient-data.org/hebrew/word?version=c&amp;id=1CQHv\" title=\"Show this on SHEBANQ\"><span class=\"txtu hbo\">נַשְׁקֶ֨נּוּ </span></a></div><div class='features'><span class=\"nu xft\" ><span class=\"f\">nu=</span>pl</span><span class=\"ps xft\" ><span class=\"f\">ps=</span>p1</span><span class=\"vt xft\" ><span class=\"f\">vt=</span>impf</span></div></div></div>"
      ],
      "text/plain": [
       "<IPython.core.display.HTML object>"
      ]
     },
     "metadata": {},
     "output_type": "display_data"
    }
   ],
   "source": [
    "for r in sorted(results)[0:5]:\n",
    "    A.pretty(r)"
   ]
  },
  {
   "cell_type": "code",
   "execution_count": 31,
   "metadata": {},
   "outputs": [],
   "source": [
    "A.displayReset(\"extraFeatures\")"
   ]
  },
  {
   "cell_type": "markdown",
   "metadata": {},
   "source": [
    "## Existence of values\n",
    "\n",
    "If you are not interested in the particular value of a feature,\n",
    "but only in whether there is a value or not, you can express that.\n",
    "\n",
    "### Qeres\n",
    "\n",
    "We can ask for all words that have a qere.\n",
    "Just leave out the `=value` part.\n",
    "\n",
    "```\n",
    "word qere\n",
    "```\n",
    "\n",
    "Conversely, we can ask for words without a qere.\n",
    "Just add a `#` after the feature name.\n",
    "\n",
    "```\n",
    "word qere#\n",
    "```\n",
    "\n",
    "Let's test it."
   ]
  },
  {
   "cell_type": "code",
   "execution_count": 32,
   "metadata": {
    "ExecuteTime": {
     "end_time": "2018-05-24T08:00:49.932231Z",
     "start_time": "2018-05-24T08:00:48.725647Z"
    }
   },
   "outputs": [
    {
     "name": "stdout",
     "output_type": "stream",
     "text": [
      "Words in total:\n",
      "  0.38s 426584 results\n",
      "Words with a qere:\n",
      "  0.23s 1892 results\n",
      "Words without a qere:\n",
      "  0.55s 424692 results\n",
      "qereWords + plainWords == allWords ? True\n"
     ]
    }
   ],
   "source": [
    "query = \"\"\"\n",
    "word\n",
    "\"\"\"\n",
    "print(\"Words in total:\")\n",
    "results = A.search(query)\n",
    "allWords = len(results)\n",
    "\n",
    "print(\"Words with a qere:\")\n",
    "query = \"\"\"\n",
    "word qere\n",
    "\"\"\"\n",
    "results = A.search(query)\n",
    "qereWords = len(results)\n",
    "\n",
    "print(\"Words without a qere:\")\n",
    "query = \"\"\"\n",
    "word qere#\n",
    "\"\"\"\n",
    "results = A.search(query)\n",
    "plainWords = len(results)\n",
    "\n",
    "print(f\"qereWords + plainWords == allWords ? {qereWords + plainWords == allWords}\")"
   ]
  },
  {
   "cell_type": "markdown",
   "metadata": {},
   "source": [
    "## Boundaries\n",
    "\n",
    "For features with *numerical* values, we may ask for values higher or lower than a given value.\n",
    "\n",
    "The\n",
    "[dist](https://etcbc.github.io/bhsa/features/hebrew/2017/dist.html)\n",
    "feature gives the distance between an object and its mother.\n",
    "\n",
    "We want to see it values by means of `freqList()`, but the feature is not yet loaded.\n",
    "Let's do a query with it, after running it, the feature is loaded."
   ]
  },
  {
   "cell_type": "code",
   "execution_count": 33,
   "metadata": {
    "ExecuteTime": {
     "end_time": "2018-05-24T08:00:55.805149Z",
     "start_time": "2018-05-24T08:00:55.469647Z"
    }
   },
   "outputs": [
    {
     "name": "stdout",
     "output_type": "stream",
     "text": [
      "  0.45s 598 results\n"
     ]
    }
   ],
   "source": [
    "query = \"\"\"\n",
    "clause dist=1\n",
    "\"\"\"\n",
    "results = A.search(query)"
   ]
  },
  {
   "cell_type": "markdown",
   "metadata": {},
   "source": [
    "Now we can explore the frequencies:"
   ]
  },
  {
   "cell_type": "code",
   "execution_count": 34,
   "metadata": {
    "ExecuteTime": {
     "end_time": "2018-05-24T08:00:58.342986Z",
     "start_time": "2018-05-24T08:00:57.929824Z"
    },
    "scrolled": true
   },
   "outputs": [
    {
     "data": {
      "text/plain": [
       "((0, 631195),\n",
       " (-1, 104875),\n",
       " (-2, 38155),\n",
       " (-3, 14985),\n",
       " (-4, 7662),\n",
       " (-5, 3650),\n",
       " (-6, 2137),\n",
       " (1, 1773),\n",
       " (-7, 1375),\n",
       " (-8, 918))"
      ]
     },
     "execution_count": 34,
     "metadata": {},
     "output_type": "execute_result"
    }
   ],
   "source": [
    "F.dist.freqList()[0:10]"
   ]
  },
  {
   "cell_type": "markdown",
   "metadata": {},
   "source": [
    "Let us say we are interested in clause only. The feature `dist` is defined for multiple node types.\n",
    "We can pass a set of node types to `freqList()` in order to get the frequencies restricted to those types:"
   ]
  },
  {
   "cell_type": "code",
   "execution_count": 35,
   "metadata": {
    "ExecuteTime": {
     "end_time": "2018-05-24T08:01:00.822906Z",
     "start_time": "2018-05-24T08:01:00.224369Z"
    }
   },
   "outputs": [
    {
     "data": {
      "text/plain": [
       "((0, 67352),\n",
       " (-1, 11574),\n",
       " (-2, 3263),\n",
       " (-3, 2438),\n",
       " (-4, 1383),\n",
       " (-5, 667),\n",
       " (1, 598),\n",
       " (-6, 328),\n",
       " (-7, 166),\n",
       " (-8, 71))"
      ]
     },
     "execution_count": 35,
     "metadata": {},
     "output_type": "execute_result"
    }
   ],
   "source": [
    "F.dist.freqList({\"clause\"})[0:10]"
   ]
  },
  {
   "cell_type": "markdown",
   "metadata": {},
   "source": [
    "There are negative distances. In those cases the mother preceeds the daughter. Let's get the mothers that\n",
    "precede their daughters by a large amount."
   ]
  },
  {
   "cell_type": "code",
   "execution_count": 36,
   "metadata": {
    "ExecuteTime": {
     "end_time": "2018-05-24T08:01:05.718152Z",
     "start_time": "2018-05-24T08:01:05.541047Z"
    }
   },
   "outputs": [
    {
     "name": "stdout",
     "output_type": "stream",
     "text": [
      "  0.09s 86 results\n"
     ]
    },
    {
     "data": {
      "text/html": [
       "<table><tr class=\"tf rtl\"><th class=\"tf rtl\">n</th><th class=\"tf rtl\">p</th><th class=\"tf rtl\">clause</th></tr>\n",
       "<tr class=\"tf rtl\"><td class=\"tf rtl\">1</td><td class=\"tf rtl\"><span class=\"tfsechead ltr\"><a target=\"_blank\" href=\"https://shebanq.ancient-data.org/hebrew/text?book=Genesis&amp;chapter=25&amp;verse=12&amp;version=c&amp;mr=m&amp;qw=q&amp;tp=txt_p&amp;tr=hb&amp;wget=v&amp;qget=v&amp;nget=vt\" title=\"Show this on SHEBANQ\" sec=\"Genesis 25:12\">Genesis 25:12</a></span></td><td class=\"tf rtl\"><span class=\"rtl ubd\"><span class=\"plain rtl  hlbx\" ><span class=\"txtu hbo\">אֲשֶׁ֨ר </span><span class=\"txtu hbo\">יָלְדָ֜ה </span><span class=\"txtu hbo\">הָגָ֧ר </span><span class=\"txtu hbo\">הַ</span><span class=\"txtu hbo\">מִּצְרִ֛ית </span><span class=\"txtu hbo\">שִׁפְחַ֥ת </span><span class=\"txtu hbo\">שָׂרָ֖ה </span><span class=\"txtu hbo\">לְ</span><span class=\"txtu hbo\">אַבְרָהָֽם׃ </span></span></span></td></tr>\n",
       "<tr class=\"tf rtl\"><td class=\"tf rtl\">2</td><td class=\"tf rtl\"><span class=\"tfsechead ltr\"><a target=\"_blank\" href=\"https://shebanq.ancient-data.org/hebrew/text?book=Genesis&amp;chapter=30&amp;verse=33&amp;version=c&amp;mr=m&amp;qw=q&amp;tp=txt_p&amp;tr=hb&amp;wget=v&amp;qget=v&amp;nget=vt\" title=\"Show this on SHEBANQ\" sec=\"Genesis 30:33\">Genesis 30:33</a></span></td><td class=\"tf rtl\"><span class=\"rtl ubd\"><span class=\"plain rtl  hlbx\" ><span class=\"txtu hbo\">אֲשֶׁר־</span><span class=\"txtu hbo\">אֵינֶנּוּ֩ </span><span class=\"txtu hbo\">נָקֹ֨ד </span><span class=\"txtu hbo\">וְ</span><span class=\"txtu hbo\">טָל֜וּא </span><span class=\"txtu hbo\">בָּֽ</span><span class=\"txtu hbo\">עִזִּ֗ים </span><span class=\"txtu hbo\">וְ</span><span class=\"txtu hbo\">חוּם֙ </span><span class=\"txtu hbo\">בַּ</span><span class=\"txtu hbo\">כְּשָׂבִ֔ים </span></span></span></td></tr>\n",
       "<tr class=\"tf rtl\"><td class=\"tf rtl\">3</td><td class=\"tf rtl\"><span class=\"tfsechead ltr\"><a target=\"_blank\" href=\"https://shebanq.ancient-data.org/hebrew/text?book=Genesis&amp;chapter=49&amp;verse=11&amp;version=c&amp;mr=m&amp;qw=q&amp;tp=txt_p&amp;tr=hb&amp;wget=v&amp;qget=v&amp;nget=vt\" title=\"Show this on SHEBANQ\" sec=\"Genesis 49:11\">Genesis 49:11</a></span></td><td class=\"tf rtl\"><span class=\"rtl ubd\"><span class=\"plain rtl  hlbx\" ><span class=\"txtu hbo\">אֹסְרִ֤י </span><span class=\"txtu hbo\">לַ</span><span class=\"txtu hbo\">גֶּ֨פֶן֙ </span><span class=\"txtu hbo\">עִירֹ֔ו </span></span></span></td></tr>\n",
       "<tr class=\"tf rtl\"><td class=\"tf rtl\">4</td><td class=\"tf rtl\"><span class=\"tfsechead ltr\"><a target=\"_blank\" href=\"https://shebanq.ancient-data.org/hebrew/text?book=Genesis&amp;chapter=50&amp;verse=13&amp;version=c&amp;mr=m&amp;qw=q&amp;tp=txt_p&amp;tr=hb&amp;wget=v&amp;qget=v&amp;nget=vt\" title=\"Show this on SHEBANQ\" sec=\"Genesis 50:13\">Genesis 50:13</a></span></td><td class=\"tf rtl\"><span class=\"rtl ubd\"><span class=\"plain rtl  hlbx\" ><span class=\"txtu hbo\">אֲשֶׁ֣ר </span><span class=\"txtu hbo\">קָנָה֩ </span><span class=\"txtu hbo\">אַבְרָהָ֨ם </span><span class=\"txtu hbo\">אֶת־</span><span class=\"txtu hbo\">הַ</span><span class=\"txtu hbo\">שָּׂדֶ֜ה </span><span class=\"txtu hbo\">לַ</span><span class=\"txtu hbo\">אֲחֻזַּת־</span><span class=\"txtu hbo\">קֶ֗בֶר </span><span class=\"txtu hbo\">מֵ</span><span class=\"txtu hbo\">אֵ֛ת </span><span class=\"txtu hbo\">עֶפְרֹ֥ן </span><span class=\"txtu hbo\">הַ</span><span class=\"txtu hbo\">חִתִּ֖י </span></span></span></td></tr>\n",
       "<tr class=\"tf rtl\"><td class=\"tf rtl\">5</td><td class=\"tf rtl\"><span class=\"tfsechead ltr\"><a target=\"_blank\" href=\"https://shebanq.ancient-data.org/hebrew/text?book=Exodus&amp;chapter=18&amp;verse=8&amp;version=c&amp;mr=m&amp;qw=q&amp;tp=txt_p&amp;tr=hb&amp;wget=v&amp;qget=v&amp;nget=vt\" title=\"Show this on SHEBANQ\" sec=\"Exodus 18:8\">Exodus 18:8</a></span></td><td class=\"tf rtl\"><span class=\"rtl ubd\"><span class=\"plain rtl  hlbx\" ><span class=\"txtu hbo\">אֲשֶׁ֨ר </span><span class=\"txtu hbo\">עָשָׂ֤ה </span><span class=\"txtu hbo\">יְהוָה֙ </span><span class=\"txtu hbo\">לְ</span><span class=\"txtu hbo\">פַרְעֹ֣ה </span><span class=\"txtu hbo\">וּ</span><span class=\"txtu hbo\">לְ</span><span class=\"txtu hbo\">מִצְרַ֔יִם </span><span class=\"txtu hbo\">עַ֖ל </span><span class=\"txtu hbo\">אֹודֹ֣ת </span><span class=\"txtu hbo\">יִשְׂרָאֵ֑ל </span></span></span></td></tr>\n",
       "<tr class=\"tf rtl\"><td class=\"tf rtl\">6</td><td class=\"tf rtl\"><span class=\"tfsechead ltr\"><a target=\"_blank\" href=\"https://shebanq.ancient-data.org/hebrew/text?book=Exodus&amp;chapter=25&amp;verse=9&amp;version=c&amp;mr=m&amp;qw=q&amp;tp=txt_p&amp;tr=hb&amp;wget=v&amp;qget=v&amp;nget=vt\" title=\"Show this on SHEBANQ\" sec=\"Exodus 25:9\">Exodus 25:9</a></span></td><td class=\"tf rtl\"><span class=\"rtl ubd\"><span class=\"plain rtl  hlbx\" ><span class=\"txtu hbo\">אֲשֶׁ֤ר </span><span class=\"txtu hbo\">אֲנִי֙ </span><span class=\"txtu hbo\">מַרְאֶ֣ה </span><span class=\"txtu hbo\">אֹותְךָ֔ </span><span class=\"txtu hbo\">אֵ֚ת </span><span class=\"txtu hbo\">תַּבְנִ֣ית </span><span class=\"txtu hbo\">הַ</span><span class=\"txtu hbo\">מִּשְׁכָּ֔ן </span><span class=\"txtu hbo\">וְ</span><span class=\"txtu hbo\">אֵ֖ת </span><span class=\"txtu hbo\">תַּבְנִ֣ית </span><span class=\"txtu hbo\">כָּל־</span><span class=\"txtu hbo\">כֵּלָ֑יו </span></span></span></td></tr>\n",
       "<tr class=\"tf rtl\"><td class=\"tf rtl\">7</td><td class=\"tf rtl\"><span class=\"tfsechead ltr\"><a target=\"_blank\" href=\"https://shebanq.ancient-data.org/hebrew/text?book=Exodus&amp;chapter=38&amp;verse=26&amp;version=c&amp;mr=m&amp;qw=q&amp;tp=txt_p&amp;tr=hb&amp;wget=v&amp;qget=v&amp;nget=vt\" title=\"Show this on SHEBANQ\" sec=\"Exodus 38:26\">Exodus 38:26</a></span></td><td class=\"tf rtl\"><span class=\"rtl ubd\"><span class=\"plain rtl  hlbx\" ><span class=\"txtu hbo\">הָ</span><span class=\"txtu hbo\">עֹבֵ֜ר </span><span class=\"txtu hbo\">עַל־</span><span class=\"txtu hbo\">הַ</span><span class=\"txtu hbo\">פְּקֻדִ֗ים </span><span class=\"txtu hbo\">מִ</span><span class=\"txtu hbo\">בֶּ֨ן </span><span class=\"txtu hbo\">עֶשְׂרִ֤ים </span><span class=\"txtu hbo\">שָׁנָה֙ </span><span class=\"txtu hbo\">וָ</span><span class=\"txtu hbo\">מַ֔עְלָה </span></span></span></td></tr></table>"
      ],
      "text/plain": [
       "<IPython.core.display.HTML object>"
      ]
     },
     "metadata": {},
     "output_type": "display_data"
    }
   ],
   "source": [
    "query = \"\"\"\n",
    "clause dist<-10\n",
    "\"\"\"\n",
    "results = A.search(query)\n",
    "A.table(sorted(results), end=7)"
   ]
  },
  {
   "cell_type": "markdown",
   "metadata": {},
   "source": [
    "## Regular expressions\n",
    "\n",
    "An even more powerful way of specifying desired feature values is by regular expressions.\n",
    "You can do this for *string-valued* values features only.\n",
    "\n",
    "Instead of specifying a feature condition like this\n",
    "\n",
    "```\n",
    "typ=WIm0\n",
    "```\n",
    "\n",
    "or\n",
    "\n",
    "```\n",
    "typ=WIm0|WImX\n",
    "```\n",
    "\n",
    "you can say\n",
    "\n",
    "```\n",
    "typ~WIm[0X]\n",
    "```\n",
    "\n",
    "Note that you do not use the `=` between feature name and value specification,\n",
    "but `~`.\n",
    "\n",
    "The syntax and semantics of regular expressions are those as defined in the\n",
    "[Python docs](https://docs.python.org/3/library/re.html#regular-expression-syntax).\n",
    "\n",
    "Note, that if you need to enter a `\\` in the regular expression, you have to double it.\n",
    "Also, when you need a space in it, you have to put a `\\` in front of it."
   ]
  },
  {
   "cell_type": "markdown",
   "metadata": {},
   "source": [
    "### No value no match\n",
    "\n",
    "If you search with regular expressions, then nodes without a value do not match any regular expression.\n",
    "\n",
    "The regular expression `.*` matches everything.\n",
    "\n",
    "#### Qeres\n",
    "\n",
    "Not all words have a qere.\n",
    "\n",
    "So we expect the following template to list all words that do have a qere and none of those that don't."
   ]
  },
  {
   "cell_type": "code",
   "execution_count": 37,
   "metadata": {
    "ExecuteTime": {
     "end_time": "2018-05-24T08:01:11.104476Z",
     "start_time": "2018-05-24T08:01:10.518168Z"
    }
   },
   "outputs": [
    {
     "name": "stdout",
     "output_type": "stream",
     "text": [
      "  0.33s 1892 results\n",
      "Compare this with qere words: 1892: Equal\n"
     ]
    }
   ],
   "source": [
    "query = \"\"\"\n",
    "word qere~.*\n",
    "\"\"\"\n",
    "results = list(A.search(query))\n",
    "matchWords = len(results)\n",
    "print(\n",
    "    \"Compare this with qere words: \"\n",
    "    f'{qereWords}: {\"Equal\" if matchWords == qereWords else \"Unequal\"}'\n",
    ")"
   ]
  },
  {
   "cell_type": "markdown",
   "metadata": {},
   "source": [
    "### More examples\n",
    "\n",
    "#### Two letter nouns\n",
    "\n",
    "We pick two letter nouns that start with an aleph."
   ]
  },
  {
   "cell_type": "code",
   "execution_count": 38,
   "metadata": {
    "ExecuteTime": {
     "end_time": "2018-05-24T08:01:13.922452Z",
     "start_time": "2018-05-24T08:01:13.089321Z"
    }
   },
   "outputs": [
    {
     "name": "stdout",
     "output_type": "stream",
     "text": [
      "  0.48s 816 results\n"
     ]
    },
    {
     "data": {
      "text/html": [
       "<table><tr class=\"tf rtl\"><th class=\"tf rtl\">n</th><th class=\"tf rtl\">p</th><th class=\"tf rtl\">word</th></tr>\n",
       "<tr class=\"tf rtl\"><td class=\"tf rtl\">1</td><td class=\"tf rtl\"><span class=\"tfsechead ltr\"><a target=\"_blank\" href=\"https://shebanq.ancient-data.org/hebrew/text?book=Genesis&amp;chapter=2&amp;verse=6&amp;version=c&amp;mr=m&amp;qw=q&amp;tp=txt_p&amp;tr=hb&amp;wget=v&amp;qget=v&amp;nget=vt\" title=\"Show this on SHEBANQ\" sec=\"Genesis 2:6\">Genesis 2:6</a></span></td><td class=\"tf rtl\"><span class=\"rtl ubd\"><span class=\"plain rtl  hl\" ><span class=\"txtu hbo\">אֵ֖ד </span></span></span></td></tr>\n",
       "<tr class=\"tf rtl\"><td class=\"tf rtl\">2</td><td class=\"tf rtl\"><span class=\"tfsechead ltr\"><a target=\"_blank\" href=\"https://shebanq.ancient-data.org/hebrew/text?book=Genesis&amp;chapter=3&amp;verse=20&amp;version=c&amp;mr=m&amp;qw=q&amp;tp=txt_p&amp;tr=hb&amp;wget=v&amp;qget=v&amp;nget=vt\" title=\"Show this on SHEBANQ\" sec=\"Genesis 3:20\">Genesis 3:20</a></span></td><td class=\"tf rtl\"><span class=\"rtl ubd\"><span class=\"plain rtl  hl\" ><span class=\"txtu hbo\">אֵ֥ם </span></span></span></td></tr>\n",
       "<tr class=\"tf rtl\"><td class=\"tf rtl\">3</td><td class=\"tf rtl\"><span class=\"tfsechead ltr\"><a target=\"_blank\" href=\"https://shebanq.ancient-data.org/hebrew/text?book=Genesis&amp;chapter=14&amp;verse=18&amp;version=c&amp;mr=m&amp;qw=q&amp;tp=txt_p&amp;tr=hb&amp;wget=v&amp;qget=v&amp;nget=vt\" title=\"Show this on SHEBANQ\" sec=\"Genesis 14:18\">Genesis 14:18</a></span></td><td class=\"tf rtl\"><span class=\"rtl ubd\"><span class=\"plain rtl  hl\" ><span class=\"txtu hbo\">אֵ֥ל </span></span></span></td></tr>\n",
       "<tr class=\"tf rtl\"><td class=\"tf rtl\">4</td><td class=\"tf rtl\"><span class=\"tfsechead ltr\"><a target=\"_blank\" href=\"https://shebanq.ancient-data.org/hebrew/text?book=Genesis&amp;chapter=14&amp;verse=19&amp;version=c&amp;mr=m&amp;qw=q&amp;tp=txt_p&amp;tr=hb&amp;wget=v&amp;qget=v&amp;nget=vt\" title=\"Show this on SHEBANQ\" sec=\"Genesis 14:19\">Genesis 14:19</a></span></td><td class=\"tf rtl\"><span class=\"rtl ubd\"><span class=\"plain rtl  hl\" ><span class=\"txtu hbo\">אֵ֣ל </span></span></span></td></tr>\n",
       "<tr class=\"tf rtl\"><td class=\"tf rtl\">5</td><td class=\"tf rtl\"><span class=\"tfsechead ltr\"><a target=\"_blank\" href=\"https://shebanq.ancient-data.org/hebrew/text?book=Genesis&amp;chapter=14&amp;verse=20&amp;version=c&amp;mr=m&amp;qw=q&amp;tp=txt_p&amp;tr=hb&amp;wget=v&amp;qget=v&amp;nget=vt\" title=\"Show this on SHEBANQ\" sec=\"Genesis 14:20\">Genesis 14:20</a></span></td><td class=\"tf rtl\"><span class=\"rtl ubd\"><span class=\"plain rtl  hl\" ><span class=\"txtu hbo\">אֵ֣ל </span></span></span></td></tr>\n",
       "<tr class=\"tf rtl\"><td class=\"tf rtl\">6</td><td class=\"tf rtl\"><span class=\"tfsechead ltr\"><a target=\"_blank\" href=\"https://shebanq.ancient-data.org/hebrew/text?book=Genesis&amp;chapter=14&amp;verse=22&amp;version=c&amp;mr=m&amp;qw=q&amp;tp=txt_p&amp;tr=hb&amp;wget=v&amp;qget=v&amp;nget=vt\" title=\"Show this on SHEBANQ\" sec=\"Genesis 14:22\">Genesis 14:22</a></span></td><td class=\"tf rtl\"><span class=\"rtl ubd\"><span class=\"plain rtl  hl\" ><span class=\"txtu hbo\">אֵ֣ל </span></span></span></td></tr>\n",
       "<tr class=\"tf rtl\"><td class=\"tf rtl\">7</td><td class=\"tf rtl\"><span class=\"tfsechead ltr\"><a target=\"_blank\" href=\"https://shebanq.ancient-data.org/hebrew/text?book=Genesis&amp;chapter=15&amp;verse=17&amp;version=c&amp;mr=m&amp;qw=q&amp;tp=txt_p&amp;tr=hb&amp;wget=v&amp;qget=v&amp;nget=vt\" title=\"Show this on SHEBANQ\" sec=\"Genesis 15:17\">Genesis 15:17</a></span></td><td class=\"tf rtl\"><span class=\"rtl ubd\"><span class=\"plain rtl  hl\" ><span class=\"txtu hbo\">אֵ֔שׁ </span></span></span></td></tr>\n",
       "<tr class=\"tf rtl\"><td class=\"tf rtl\">8</td><td class=\"tf rtl\"><span class=\"tfsechead ltr\"><a target=\"_blank\" href=\"https://shebanq.ancient-data.org/hebrew/text?book=Genesis&amp;chapter=16&amp;verse=13&amp;version=c&amp;mr=m&amp;qw=q&amp;tp=txt_p&amp;tr=hb&amp;wget=v&amp;qget=v&amp;nget=vt\" title=\"Show this on SHEBANQ\" sec=\"Genesis 16:13\">Genesis 16:13</a></span></td><td class=\"tf rtl\"><span class=\"rtl ubd\"><span class=\"plain rtl  hl\" ><span class=\"txtu hbo\">אֵ֣ל </span></span></span></td></tr>\n",
       "<tr class=\"tf rtl\"><td class=\"tf rtl\">9</td><td class=\"tf rtl\"><span class=\"tfsechead ltr\"><a target=\"_blank\" href=\"https://shebanq.ancient-data.org/hebrew/text?book=Genesis&amp;chapter=17&amp;verse=1&amp;version=c&amp;mr=m&amp;qw=q&amp;tp=txt_p&amp;tr=hb&amp;wget=v&amp;qget=v&amp;nget=vt\" title=\"Show this on SHEBANQ\" sec=\"Genesis 17:1\">Genesis 17:1</a></span></td><td class=\"tf rtl\"><span class=\"rtl ubd\"><span class=\"plain rtl  hl\" ><span class=\"txtu hbo\">אֵ֣ל </span></span></span></td></tr>\n",
       "<tr class=\"tf rtl\"><td class=\"tf rtl\">10</td><td class=\"tf rtl\"><span class=\"tfsechead ltr\"><a target=\"_blank\" href=\"https://shebanq.ancient-data.org/hebrew/text?book=Genesis&amp;chapter=17&amp;verse=4&amp;version=c&amp;mr=m&amp;qw=q&amp;tp=txt_p&amp;tr=hb&amp;wget=v&amp;qget=v&amp;nget=vt\" title=\"Show this on SHEBANQ\" sec=\"Genesis 17:4\">Genesis 17:4</a></span></td><td class=\"tf rtl\"><span class=\"rtl ubd\"><span class=\"plain rtl  hl\" ><span class=\"txtu hbo\">אַ֖ב </span></span></span></td></tr>\n",
       "<tr class=\"tf rtl\"><td class=\"tf rtl\">11</td><td class=\"tf rtl\"><span class=\"tfsechead ltr\"><a target=\"_blank\" href=\"https://shebanq.ancient-data.org/hebrew/text?book=Genesis&amp;chapter=17&amp;verse=5&amp;version=c&amp;mr=m&amp;qw=q&amp;tp=txt_p&amp;tr=hb&amp;wget=v&amp;qget=v&amp;nget=vt\" title=\"Show this on SHEBANQ\" sec=\"Genesis 17:5\">Genesis 17:5</a></span></td><td class=\"tf rtl\"><span class=\"rtl ubd\"><span class=\"plain rtl  hl\" ><span class=\"txtu hbo\">אַב־</span></span></span></td></tr>\n",
       "<tr class=\"tf rtl\"><td class=\"tf rtl\">12</td><td class=\"tf rtl\"><span class=\"tfsechead ltr\"><a target=\"_blank\" href=\"https://shebanq.ancient-data.org/hebrew/text?book=Genesis&amp;chapter=19&amp;verse=24&amp;version=c&amp;mr=m&amp;qw=q&amp;tp=txt_p&amp;tr=hb&amp;wget=v&amp;qget=v&amp;nget=vt\" title=\"Show this on SHEBANQ\" sec=\"Genesis 19:24\">Genesis 19:24</a></span></td><td class=\"tf rtl\"><span class=\"rtl ubd\"><span class=\"plain rtl  hl\" ><span class=\"txtu hbo\">אֵ֑שׁ </span></span></span></td></tr>\n",
       "<tr class=\"tf rtl\"><td class=\"tf rtl\">13</td><td class=\"tf rtl\"><span class=\"tfsechead ltr\"><a target=\"_blank\" href=\"https://shebanq.ancient-data.org/hebrew/text?book=Genesis&amp;chapter=21&amp;verse=33&amp;version=c&amp;mr=m&amp;qw=q&amp;tp=txt_p&amp;tr=hb&amp;wget=v&amp;qget=v&amp;nget=vt\" title=\"Show this on SHEBANQ\" sec=\"Genesis 21:33\">Genesis 21:33</a></span></td><td class=\"tf rtl\"><span class=\"rtl ubd\"><span class=\"plain rtl  hl\" ><span class=\"txtu hbo\">אֵ֥ל </span></span></span></td></tr>\n",
       "<tr class=\"tf rtl\"><td class=\"tf rtl\">14</td><td class=\"tf rtl\"><span class=\"tfsechead ltr\"><a target=\"_blank\" href=\"https://shebanq.ancient-data.org/hebrew/text?book=Genesis&amp;chapter=22&amp;verse=6&amp;version=c&amp;mr=m&amp;qw=q&amp;tp=txt_p&amp;tr=hb&amp;wget=v&amp;qget=v&amp;nget=vt\" title=\"Show this on SHEBANQ\" sec=\"Genesis 22:6\">Genesis 22:6</a></span></td><td class=\"tf rtl\"><span class=\"rtl ubd\"><span class=\"plain rtl  hl\" ><span class=\"txtu hbo\">אֵ֖שׁ </span></span></span></td></tr>\n",
       "<tr class=\"tf rtl\"><td class=\"tf rtl\">15</td><td class=\"tf rtl\"><span class=\"tfsechead ltr\"><a target=\"_blank\" href=\"https://shebanq.ancient-data.org/hebrew/text?book=Genesis&amp;chapter=22&amp;verse=7&amp;version=c&amp;mr=m&amp;qw=q&amp;tp=txt_p&amp;tr=hb&amp;wget=v&amp;qget=v&amp;nget=vt\" title=\"Show this on SHEBANQ\" sec=\"Genesis 22:7\">Genesis 22:7</a></span></td><td class=\"tf rtl\"><span class=\"rtl ubd\"><span class=\"plain rtl  hl\" ><span class=\"txtu hbo\">אֵשׁ֙ </span></span></span></td></tr>\n",
       "<tr class=\"tf rtl\"><td class=\"tf rtl\">16</td><td class=\"tf rtl\"><span class=\"tfsechead ltr\"><a target=\"_blank\" href=\"https://shebanq.ancient-data.org/hebrew/text?book=Genesis&amp;chapter=24&amp;verse=29&amp;version=c&amp;mr=m&amp;qw=q&amp;tp=txt_p&amp;tr=hb&amp;wget=v&amp;qget=v&amp;nget=vt\" title=\"Show this on SHEBANQ\" sec=\"Genesis 24:29\">Genesis 24:29</a></span></td><td class=\"tf rtl\"><span class=\"rtl ubd\"><span class=\"plain rtl  hl\" ><span class=\"txtu hbo\">אָ֖ח </span></span></span></td></tr>\n",
       "<tr class=\"tf rtl\"><td class=\"tf rtl\">17</td><td class=\"tf rtl\"><span class=\"tfsechead ltr\"><a target=\"_blank\" href=\"https://shebanq.ancient-data.org/hebrew/text?book=Genesis&amp;chapter=27&amp;verse=45&amp;version=c&amp;mr=m&amp;qw=q&amp;tp=txt_p&amp;tr=hb&amp;wget=v&amp;qget=v&amp;nget=vt\" title=\"Show this on SHEBANQ\" sec=\"Genesis 27:45\">Genesis 27:45</a></span></td><td class=\"tf rtl\"><span class=\"rtl ubd\"><span class=\"plain rtl  hl\" ><span class=\"txtu hbo\">אַף־</span></span></span></td></tr>\n",
       "<tr class=\"tf rtl\"><td class=\"tf rtl\">18</td><td class=\"tf rtl\"><span class=\"tfsechead ltr\"><a target=\"_blank\" href=\"https://shebanq.ancient-data.org/hebrew/text?book=Genesis&amp;chapter=28&amp;verse=3&amp;version=c&amp;mr=m&amp;qw=q&amp;tp=txt_p&amp;tr=hb&amp;wget=v&amp;qget=v&amp;nget=vt\" title=\"Show this on SHEBANQ\" sec=\"Genesis 28:3\">Genesis 28:3</a></span></td><td class=\"tf rtl\"><span class=\"rtl ubd\"><span class=\"plain rtl  hl\" ><span class=\"txtu hbo\">אֵ֤ל </span></span></span></td></tr>\n",
       "<tr class=\"tf rtl\"><td class=\"tf rtl\">19</td><td class=\"tf rtl\"><span class=\"tfsechead ltr\"><a target=\"_blank\" href=\"https://shebanq.ancient-data.org/hebrew/text?book=Genesis&amp;chapter=28&amp;verse=5&amp;version=c&amp;mr=m&amp;qw=q&amp;tp=txt_p&amp;tr=hb&amp;wget=v&amp;qget=v&amp;nget=vt\" title=\"Show this on SHEBANQ\" sec=\"Genesis 28:5\">Genesis 28:5</a></span></td><td class=\"tf rtl\"><span class=\"rtl ubd\"><span class=\"plain rtl  hl\" ><span class=\"txtu hbo\">אֵ֥ם </span></span></span></td></tr>\n",
       "<tr class=\"tf rtl\"><td class=\"tf rtl\">20</td><td class=\"tf rtl\"><span class=\"tfsechead ltr\"><a target=\"_blank\" href=\"https://shebanq.ancient-data.org/hebrew/text?book=Genesis&amp;chapter=30&amp;verse=2&amp;version=c&amp;mr=m&amp;qw=q&amp;tp=txt_p&amp;tr=hb&amp;wget=v&amp;qget=v&amp;nget=vt\" title=\"Show this on SHEBANQ\" sec=\"Genesis 30:2\">Genesis 30:2</a></span></td><td class=\"tf rtl\"><span class=\"rtl ubd\"><span class=\"plain rtl  hl\" ><span class=\"txtu hbo\">אַ֥ף </span></span></span></td></tr></table>"
      ],
      "text/plain": [
       "<IPython.core.display.HTML object>"
      ]
     },
     "metadata": {},
     "output_type": "display_data"
    }
   ],
   "source": [
    "query = \"\"\"\n",
    "word sp=subs g_cons~^>.$\n",
    "\"\"\"\n",
    "results = A.search(query, sort=True)\n",
    "A.table(results, end=20)"
   ]
  },
  {
   "cell_type": "markdown",
   "metadata": {},
   "source": [
    "Let us zoom in on one of the results.\n",
    "We want to know more about the lexeme in question.\n",
    "\n",
    "There are several methods to do that."
   ]
  },
  {
   "cell_type": "markdown",
   "metadata": {},
   "source": [
    "##### Show the nodes\n",
    "\n",
    "First of all, let us show the nodes."
   ]
  },
  {
   "cell_type": "code",
   "execution_count": 39,
   "metadata": {
    "ExecuteTime": {
     "end_time": "2018-05-24T08:01:17.632676Z",
     "start_time": "2018-05-24T08:01:17.624599Z"
    }
   },
   "outputs": [
    {
     "data": {
      "text/html": [
       "<table><tr class=\"tf rtl\"><th class=\"tf rtl\">n</th><th class=\"tf rtl\">p</th><th class=\"tf rtl\">word</th></tr>\n",
       "<tr class=\"tf rtl\"><td class=\"tf rtl\">20</td><td class=\"tf rtl\"><span class=\"tfsechead ltr\"><a target=\"_blank\" href=\"https://shebanq.ancient-data.org/hebrew/text?book=Genesis&amp;chapter=30&amp;verse=2&amp;version=c&amp;mr=m&amp;qw=q&amp;tp=txt_p&amp;tr=hb&amp;wget=v&amp;qget=v&amp;nget=vt\" title=\"Show this on SHEBANQ\" sec=\"Genesis 30:2\">Genesis 30:2</a></span></td><td class=\"tf rtl\"><span class=\"rtl ubd\"><span class=\"plain rtl  hl\" ><span class=\"nd\">15620</span><span class=\"txtu hbo\">אַ֥ף </span></span></span></td></tr></table>"
      ],
      "text/plain": [
       "<IPython.core.display.HTML object>"
      ]
     },
     "metadata": {},
     "output_type": "display_data"
    }
   ],
   "source": [
    "A.table(results, start=20, end=20, withNodes=True)"
   ]
  },
  {
   "cell_type": "markdown",
   "metadata": {},
   "source": [
    "Now we can use `pretty()` to get more info."
   ]
  },
  {
   "cell_type": "code",
   "execution_count": 40,
   "metadata": {
    "ExecuteTime": {
     "end_time": "2018-05-24T08:01:20.072171Z",
     "start_time": "2018-05-24T08:01:20.065240Z"
    }
   },
   "outputs": [
    {
     "data": {
      "text/html": [
       "<div class=\"tfsechead rtl\"><a target=\"_blank\" href=\"https://shebanq.ancient-data.org/hebrew/text?book=Genesis&amp;chapter=30&amp;verse=2&amp;version=c&amp;mr=m&amp;qw=q&amp;tp=txt_p&amp;tr=hb&amp;wget=v&amp;qget=v&amp;nget=vt\" title=\"Show this on SHEBANQ\" sec=\"Genesis 30:2\">Genesis 30:2</a></div><div class=\"rtl children\"><div class=\"contnr c0 trm rtl  \" ><div class=\"lbl c0 trm \" ><a class=\" txtu hbo\" target=\"_blank\" href=\"https://shebanq.ancient-data.org/hebrew/word?version=c&amp;id=1APn\" title=\"Show this on SHEBANQ\"><span class=\"txtu hbo\">אַ֥ף </span></a></div><div class='features'><span class=\"g_cons xft\" ><span class=\"f\">g_cons=</span>>P</span><span class=\"sp xft\" ><span class=\"f\">sp=</span>subs</span></div></div></div>"
      ],
      "text/plain": [
       "<IPython.core.display.HTML object>"
      ]
     },
     "metadata": {},
     "output_type": "display_data"
    }
   ],
   "source": [
    "A.pretty(15620)"
   ]
  },
  {
   "cell_type": "markdown",
   "metadata": {},
   "source": [
    "Note that under the word is a link to its lexeme entry in SHEBANQ.\n",
    "\n",
    "##### Programmatically\n",
    "With a bit of TF juggling you could also have got this link programmatically:"
   ]
  },
  {
   "cell_type": "code",
   "execution_count": 41,
   "metadata": {},
   "outputs": [],
   "source": [
    "lx = L.u(results[19][0], otype=\"lex\")[0]"
   ]
  },
  {
   "cell_type": "code",
   "execution_count": 42,
   "metadata": {},
   "outputs": [
    {
     "data": {
      "text/html": [
       "<a class=\" txtu hbo\" target=\"_blank\" href=\"https://shebanq.ancient-data.org/hebrew/word?version=c&amp;id=1APn\" title=\"Show this on SHEBANQ\"><span title=\"voc_lex_utf8\">אַף</span></a>"
      ],
      "text/plain": [
       "<IPython.core.display.HTML object>"
      ]
     },
     "metadata": {},
     "output_type": "display_data"
    }
   ],
   "source": [
    "A.webLink(lx)"
   ]
  },
  {
   "cell_type": "markdown",
   "metadata": {},
   "source": [
    "##### Enrich the query\n",
    "\n",
    "We can also add some context to the query.\n",
    "Since we are interested in the lexemes, let's add those to the query.\n",
    "\n",
    "Every word lies embedded in a lexeme."
   ]
  },
  {
   "cell_type": "code",
   "execution_count": 43,
   "metadata": {
    "ExecuteTime": {
     "end_time": "2018-05-24T08:01:27.629901Z",
     "start_time": "2018-05-24T08:01:26.793939Z"
    }
   },
   "outputs": [
    {
     "name": "stdout",
     "output_type": "stream",
     "text": [
      "  0.49s 816 results\n"
     ]
    },
    {
     "data": {
      "text/html": [
       "<table><tr class=\"tf rtl\"><th class=\"tf rtl\">n</th><th class=\"tf rtl\">p</th><th class=\"tf rtl\">lex</th><th class=\"tf\">word</th></tr>\n",
       "<tr class=\"tf rtl\"><td class=\"tf rtl\">1</td><td class=\"tf rtl\"><span class=\"tfsechead ltr\"><a target=\"_blank\" href=\"https://shebanq.ancient-data.org/hebrew/text?book=Exodus&amp;chapter=4&amp;verse=8&amp;version=c&amp;mr=m&amp;qw=q&amp;tp=txt_p&amp;tr=hb&amp;wget=v&amp;qget=v&amp;nget=vt\" title=\"Show this on SHEBANQ\" sec=\"Exodus 4:8\">Exodus 4:8</a></span></td><td class=\"tf rtl\"><span class=\"rtl ubd\"></span></td><td class=\"tf rtl\"><span class=\"rtl ubd\"><span class=\"plain rtl  hl\" ><span class=\"txtu hbo\">אֹ֣ת </span></span></span></td></tr>\n",
       "<tr class=\"tf rtl\"><td class=\"tf rtl\">2</td><td class=\"tf rtl\"><span class=\"tfsechead ltr\"><a target=\"_blank\" href=\"https://shebanq.ancient-data.org/hebrew/text?book=Exodus&amp;chapter=4&amp;verse=8&amp;version=c&amp;mr=m&amp;qw=q&amp;tp=txt_p&amp;tr=hb&amp;wget=v&amp;qget=v&amp;nget=vt\" title=\"Show this on SHEBANQ\" sec=\"Exodus 4:8\">Exodus 4:8</a></span></td><td class=\"tf rtl\"><span class=\"rtl ubd\"></span></td><td class=\"tf rtl\"><span class=\"rtl ubd\"><span class=\"plain rtl  hl\" ><span class=\"txtu hbo\">אֹ֥ת </span></span></span></td></tr>\n",
       "<tr class=\"tf rtl\"><td class=\"tf rtl\">3</td><td class=\"tf rtl\"><span class=\"tfsechead ltr\"><a target=\"_blank\" href=\"https://shebanq.ancient-data.org/hebrew/text?book=Exodus&amp;chapter=8&amp;verse=19&amp;version=c&amp;mr=m&amp;qw=q&amp;tp=txt_p&amp;tr=hb&amp;wget=v&amp;qget=v&amp;nget=vt\" title=\"Show this on SHEBANQ\" sec=\"Exodus 8:19\">Exodus 8:19</a></span></td><td class=\"tf rtl\"><span class=\"rtl ubd\"></span></td><td class=\"tf rtl\"><span class=\"rtl ubd\"><span class=\"plain rtl  hl\" ><span class=\"txtu hbo\">אֹ֥ת </span></span></span></td></tr>\n",
       "<tr class=\"tf rtl\"><td class=\"tf rtl\">4</td><td class=\"tf rtl\"><span class=\"tfsechead ltr\"><a target=\"_blank\" href=\"https://shebanq.ancient-data.org/hebrew/text?book=Exodus&amp;chapter=12&amp;verse=13&amp;version=c&amp;mr=m&amp;qw=q&amp;tp=txt_p&amp;tr=hb&amp;wget=v&amp;qget=v&amp;nget=vt\" title=\"Show this on SHEBANQ\" sec=\"Exodus 12:13\">Exodus 12:13</a></span></td><td class=\"tf rtl\"><span class=\"rtl ubd\"></span></td><td class=\"tf rtl\"><span class=\"rtl ubd\"><span class=\"plain rtl  hl\" ><span class=\"txtu hbo\">אֹ֗ת </span></span></span></td></tr>\n",
       "<tr class=\"tf rtl\"><td class=\"tf rtl\">5</td><td class=\"tf rtl\"><span class=\"tfsechead ltr\"><a target=\"_blank\" href=\"https://shebanq.ancient-data.org/hebrew/text?book=Genesis&amp;chapter=2&amp;verse=6&amp;version=c&amp;mr=m&amp;qw=q&amp;tp=txt_p&amp;tr=hb&amp;wget=v&amp;qget=v&amp;nget=vt\" title=\"Show this on SHEBANQ\" sec=\"Genesis 2:6\">Genesis 2:6</a></span></td><td class=\"tf rtl\"><span class=\"rtl ubd\"></span></td><td class=\"tf rtl\"><span class=\"rtl ubd\"><span class=\"plain rtl  hl\" ><span class=\"txtu hbo\">אֵ֖ד </span></span></span></td></tr>\n",
       "<tr class=\"tf rtl\"><td class=\"tf rtl\">6</td><td class=\"tf rtl\"><span class=\"tfsechead ltr\"><a target=\"_blank\" href=\"https://shebanq.ancient-data.org/hebrew/text?book=Genesis&amp;chapter=27&amp;verse=45&amp;version=c&amp;mr=m&amp;qw=q&amp;tp=txt_p&amp;tr=hb&amp;wget=v&amp;qget=v&amp;nget=vt\" title=\"Show this on SHEBANQ\" sec=\"Genesis 27:45\">Genesis 27:45</a></span></td><td class=\"tf rtl\"><span class=\"rtl ubd\"></span></td><td class=\"tf rtl\"><span class=\"rtl ubd\"><span class=\"plain rtl  hl\" ><span class=\"txtu hbo\">אַף־</span></span></span></td></tr>\n",
       "<tr class=\"tf rtl\"><td class=\"tf rtl\">7</td><td class=\"tf rtl\"><span class=\"tfsechead ltr\"><a target=\"_blank\" href=\"https://shebanq.ancient-data.org/hebrew/text?book=Genesis&amp;chapter=30&amp;verse=2&amp;version=c&amp;mr=m&amp;qw=q&amp;tp=txt_p&amp;tr=hb&amp;wget=v&amp;qget=v&amp;nget=vt\" title=\"Show this on SHEBANQ\" sec=\"Genesis 30:2\">Genesis 30:2</a></span></td><td class=\"tf rtl\"><span class=\"rtl ubd\"></span></td><td class=\"tf rtl\"><span class=\"rtl ubd\"><span class=\"plain rtl  hl\" ><span class=\"txtu hbo\">אַ֥ף </span></span></span></td></tr>\n",
       "<tr class=\"tf rtl\"><td class=\"tf rtl\">8</td><td class=\"tf rtl\"><span class=\"tfsechead ltr\"><a target=\"_blank\" href=\"https://shebanq.ancient-data.org/hebrew/text?book=Exodus&amp;chapter=4&amp;verse=14&amp;version=c&amp;mr=m&amp;qw=q&amp;tp=txt_p&amp;tr=hb&amp;wget=v&amp;qget=v&amp;nget=vt\" title=\"Show this on SHEBANQ\" sec=\"Exodus 4:14\">Exodus 4:14</a></span></td><td class=\"tf rtl\"><span class=\"rtl ubd\"></span></td><td class=\"tf rtl\"><span class=\"rtl ubd\"><span class=\"plain rtl  hl\" ><span class=\"txtu hbo\">אַ֨ף </span></span></span></td></tr>\n",
       "<tr class=\"tf rtl\"><td class=\"tf rtl\">9</td><td class=\"tf rtl\"><span class=\"tfsechead ltr\"><a target=\"_blank\" href=\"https://shebanq.ancient-data.org/hebrew/text?book=Exodus&amp;chapter=11&amp;verse=8&amp;version=c&amp;mr=m&amp;qw=q&amp;tp=txt_p&amp;tr=hb&amp;wget=v&amp;qget=v&amp;nget=vt\" title=\"Show this on SHEBANQ\" sec=\"Exodus 11:8\">Exodus 11:8</a></span></td><td class=\"tf rtl\"><span class=\"rtl ubd\"></span></td><td class=\"tf rtl\"><span class=\"rtl ubd\"><span class=\"plain rtl  hl\" ><span class=\"txtu hbo\">אָֽף׃ ס </span></span></span></td></tr>\n",
       "<tr class=\"tf rtl\"><td class=\"tf rtl\">10</td><td class=\"tf rtl\"><span class=\"tfsechead ltr\"><a target=\"_blank\" href=\"https://shebanq.ancient-data.org/hebrew/text?book=Exodus&amp;chapter=32&amp;verse=19&amp;version=c&amp;mr=m&amp;qw=q&amp;tp=txt_p&amp;tr=hb&amp;wget=v&amp;qget=v&amp;nget=vt\" title=\"Show this on SHEBANQ\" sec=\"Exodus 32:19\">Exodus 32:19</a></span></td><td class=\"tf rtl\"><span class=\"rtl ubd\"></span></td><td class=\"tf rtl\"><span class=\"rtl ubd\"><span class=\"plain rtl  hl\" ><span class=\"txtu hbo\">אַ֣ף </span></span></span></td></tr></table>"
      ],
      "text/plain": [
       "<IPython.core.display.HTML object>"
      ]
     },
     "metadata": {},
     "output_type": "display_data"
    }
   ],
   "source": [
    "query = \"\"\"\n",
    "lex\n",
    "  word sp=subs g_cons~^>.$\n",
    "\"\"\"\n",
    "results = A.search(query)\n",
    "A.table(results, end=10)"
   ]
  },
  {
   "cell_type": "markdown",
   "metadata": {},
   "source": [
    "Same amount of results, but the order is different.\n",
    "We just use Python to get the lexemes only, together with their first occurrence.\n",
    "We make a list of tuples, and feed that to `A.table()`."
   ]
  },
  {
   "cell_type": "code",
   "execution_count": 44,
   "metadata": {
    "ExecuteTime": {
     "end_time": "2018-05-24T08:01:38.168240Z",
     "start_time": "2018-05-24T08:01:38.158934Z"
    }
   },
   "outputs": [
    {
     "data": {
      "text/html": [
       "<table><tr class=\"tf rtl\"><th class=\"tf rtl\">n</th><th class=\"tf rtl\">p</th><th class=\"tf rtl\">lex</th><th class=\"tf\">word</th></tr>\n",
       "<tr class=\"tf rtl\"><td class=\"tf rtl\">1</td><td class=\"tf rtl\"><span class=\"tfsechead ltr\"><a target=\"_blank\" href=\"https://shebanq.ancient-data.org/hebrew/text?book=Exodus&amp;chapter=4&amp;verse=8&amp;version=c&amp;mr=m&amp;qw=q&amp;tp=txt_p&amp;tr=hb&amp;wget=v&amp;qget=v&amp;nget=vt\" title=\"Show this on SHEBANQ\" sec=\"Exodus 4:8\">Exodus 4:8</a></span></td><td class=\"tf rtl\"><span class=\"rtl ubd\"></span></td><td class=\"tf rtl\"><span class=\"rtl ubd\"><span class=\"plain rtl  hl\" ><span class=\"txtu hbo\">אֹ֣ת </span></span></span></td></tr>\n",
       "<tr class=\"tf rtl\"><td class=\"tf rtl\">2</td><td class=\"tf rtl\"><span class=\"tfsechead ltr\"><a target=\"_blank\" href=\"https://shebanq.ancient-data.org/hebrew/text?book=Genesis&amp;chapter=2&amp;verse=6&amp;version=c&amp;mr=m&amp;qw=q&amp;tp=txt_p&amp;tr=hb&amp;wget=v&amp;qget=v&amp;nget=vt\" title=\"Show this on SHEBANQ\" sec=\"Genesis 2:6\">Genesis 2:6</a></span></td><td class=\"tf rtl\"><span class=\"rtl ubd\"></span></td><td class=\"tf rtl\"><span class=\"rtl ubd\"><span class=\"plain rtl  hl\" ><span class=\"txtu hbo\">אֵ֖ד </span></span></span></td></tr>\n",
       "<tr class=\"tf rtl\"><td class=\"tf rtl\">3</td><td class=\"tf rtl\"><span class=\"tfsechead ltr\"><a target=\"_blank\" href=\"https://shebanq.ancient-data.org/hebrew/text?book=Genesis&amp;chapter=27&amp;verse=45&amp;version=c&amp;mr=m&amp;qw=q&amp;tp=txt_p&amp;tr=hb&amp;wget=v&amp;qget=v&amp;nget=vt\" title=\"Show this on SHEBANQ\" sec=\"Genesis 27:45\">Genesis 27:45</a></span></td><td class=\"tf rtl\"><span class=\"rtl ubd\"></span></td><td class=\"tf rtl\"><span class=\"rtl ubd\"><span class=\"plain rtl  hl\" ><span class=\"txtu hbo\">אַף־</span></span></span></td></tr>\n",
       "<tr class=\"tf rtl\"><td class=\"tf rtl\">4</td><td class=\"tf rtl\"><span class=\"tfsechead ltr\"><a target=\"_blank\" href=\"https://shebanq.ancient-data.org/hebrew/text?book=Genesis&amp;chapter=17&amp;verse=4&amp;version=c&amp;mr=m&amp;qw=q&amp;tp=txt_p&amp;tr=hb&amp;wget=v&amp;qget=v&amp;nget=vt\" title=\"Show this on SHEBANQ\" sec=\"Genesis 17:4\">Genesis 17:4</a></span></td><td class=\"tf rtl\"><span class=\"rtl ubd\"></span></td><td class=\"tf rtl\"><span class=\"rtl ubd\"><span class=\"plain rtl  hl\" ><span class=\"txtu hbo\">אַ֖ב </span></span></span></td></tr>\n",
       "<tr class=\"tf rtl\"><td class=\"tf rtl\">5</td><td class=\"tf rtl\"><span class=\"tfsechead ltr\"><a target=\"_blank\" href=\"https://shebanq.ancient-data.org/hebrew/text?book=Genesis&amp;chapter=3&amp;verse=20&amp;version=c&amp;mr=m&amp;qw=q&amp;tp=txt_p&amp;tr=hb&amp;wget=v&amp;qget=v&amp;nget=vt\" title=\"Show this on SHEBANQ\" sec=\"Genesis 3:20\">Genesis 3:20</a></span></td><td class=\"tf rtl\"><span class=\"rtl ubd\"></span></td><td class=\"tf rtl\"><span class=\"rtl ubd\"><span class=\"plain rtl  hl\" ><span class=\"txtu hbo\">אֵ֥ם </span></span></span></td></tr>\n",
       "<tr class=\"tf rtl\"><td class=\"tf rtl\">6</td><td class=\"tf rtl\"><span class=\"tfsechead ltr\"><a target=\"_blank\" href=\"https://shebanq.ancient-data.org/hebrew/text?book=Genesis&amp;chapter=24&amp;verse=29&amp;version=c&amp;mr=m&amp;qw=q&amp;tp=txt_p&amp;tr=hb&amp;wget=v&amp;qget=v&amp;nget=vt\" title=\"Show this on SHEBANQ\" sec=\"Genesis 24:29\">Genesis 24:29</a></span></td><td class=\"tf rtl\"><span class=\"rtl ubd\"></span></td><td class=\"tf rtl\"><span class=\"rtl ubd\"><span class=\"plain rtl  hl\" ><span class=\"txtu hbo\">אָ֖ח </span></span></span></td></tr>\n",
       "<tr class=\"tf rtl\"><td class=\"tf rtl\">7</td><td class=\"tf rtl\"><span class=\"tfsechead ltr\"><a target=\"_blank\" href=\"https://shebanq.ancient-data.org/hebrew/text?book=Jesaia&amp;chapter=20&amp;verse=6&amp;version=c&amp;mr=m&amp;qw=q&amp;tp=txt_p&amp;tr=hb&amp;wget=v&amp;qget=v&amp;nget=vt\" title=\"Show this on SHEBANQ\" sec=\"Isaiah 20:6\">Isaiah 20:6</a></span></td><td class=\"tf rtl\"><span class=\"rtl ubd\"></span></td><td class=\"tf rtl\"><span class=\"rtl ubd\"><span class=\"plain rtl  hl\" ><span class=\"txtu hbo\">אִ֣י </span></span></span></td></tr>\n",
       "<tr class=\"tf rtl\"><td class=\"tf rtl\">8</td><td class=\"tf rtl\"><span class=\"tfsechead ltr\"><a target=\"_blank\" href=\"https://shebanq.ancient-data.org/hebrew/text?book=Genesis&amp;chapter=14&amp;verse=18&amp;version=c&amp;mr=m&amp;qw=q&amp;tp=txt_p&amp;tr=hb&amp;wget=v&amp;qget=v&amp;nget=vt\" title=\"Show this on SHEBANQ\" sec=\"Genesis 14:18\">Genesis 14:18</a></span></td><td class=\"tf rtl\"><span class=\"rtl ubd\"></span></td><td class=\"tf rtl\"><span class=\"rtl ubd\"><span class=\"plain rtl  hl\" ><span class=\"txtu hbo\">אֵ֥ל </span></span></span></td></tr>\n",
       "<tr class=\"tf rtl\"><td class=\"tf rtl\">9</td><td class=\"tf rtl\"><span class=\"tfsechead ltr\"><a target=\"_blank\" href=\"https://shebanq.ancient-data.org/hebrew/text?book=Genesis&amp;chapter=15&amp;verse=17&amp;version=c&amp;mr=m&amp;qw=q&amp;tp=txt_p&amp;tr=hb&amp;wget=v&amp;qget=v&amp;nget=vt\" title=\"Show this on SHEBANQ\" sec=\"Genesis 15:17\">Genesis 15:17</a></span></td><td class=\"tf rtl\"><span class=\"rtl ubd\"></span></td><td class=\"tf rtl\"><span class=\"rtl ubd\"><span class=\"plain rtl  hl\" ><span class=\"txtu hbo\">אֵ֔שׁ </span></span></span></td></tr>\n",
       "<tr class=\"tf rtl\"><td class=\"tf rtl\">10</td><td class=\"tf rtl\"><span class=\"tfsechead ltr\"><a target=\"_blank\" href=\"https://shebanq.ancient-data.org/hebrew/text?book=Genesis&amp;chapter=31&amp;verse=29&amp;version=c&amp;mr=m&amp;qw=q&amp;tp=txt_p&amp;tr=hb&amp;wget=v&amp;qget=v&amp;nget=vt\" title=\"Show this on SHEBANQ\" sec=\"Genesis 31:29\">Genesis 31:29</a></span></td><td class=\"tf rtl\"><span class=\"rtl ubd\"></span></td><td class=\"tf rtl\"><span class=\"rtl ubd\"><span class=\"plain rtl  hl\" ><span class=\"txtu hbo\">אֵ֣ל </span></span></span></td></tr>\n",
       "<tr class=\"tf rtl\"><td class=\"tf rtl\">11</td><td class=\"tf rtl\"><span class=\"tfsechead ltr\"><a target=\"_blank\" href=\"https://shebanq.ancient-data.org/hebrew/text?book=Samuel_II&amp;chapter=18&amp;verse=5&amp;version=c&amp;mr=m&amp;qw=q&amp;tp=txt_p&amp;tr=hb&amp;wget=v&amp;qget=v&amp;nget=vt\" title=\"Show this on SHEBANQ\" sec=\"2_Samuel 18:5\">2_Samuel 18:5</a></span></td><td class=\"tf rtl\"><span class=\"rtl ubd\"></span></td><td class=\"tf rtl\"><span class=\"rtl ubd\"><span class=\"plain rtl  hl\" ><span class=\"txtu hbo\">אַט־</span></span></span></td></tr>\n",
       "<tr class=\"tf rtl\"><td class=\"tf rtl\">12</td><td class=\"tf rtl\"><span class=\"tfsechead ltr\"><a target=\"_blank\" href=\"https://shebanq.ancient-data.org/hebrew/text?book=Samuel_II&amp;chapter=14&amp;verse=19&amp;version=c&amp;mr=m&amp;qw=q&amp;tp=txt_p&amp;tr=hb&amp;wget=v&amp;qget=v&amp;nget=vt\" title=\"Show this on SHEBANQ\" sec=\"2_Samuel 14:19\">2_Samuel 14:19</a></span></td><td class=\"tf rtl\"><span class=\"rtl ubd\"></span></td><td class=\"tf rtl\"><span class=\"rtl ubd\"><span class=\"plain rtl  hl\" ><span class=\"txtu hbo\">אִ֣שׁ׀ </span></span></span></td></tr>\n",
       "<tr class=\"tf rtl\"><td class=\"tf rtl\">13</td><td class=\"tf rtl\"><span class=\"tfsechead ltr\"><a target=\"_blank\" href=\"https://shebanq.ancient-data.org/hebrew/text?book=Ezechiel&amp;chapter=40&amp;verse=48&amp;version=c&amp;mr=m&amp;qw=q&amp;tp=txt_p&amp;tr=hb&amp;wget=v&amp;qget=v&amp;nget=vt\" title=\"Show this on SHEBANQ\" sec=\"Ezekiel 40:48\">Ezekiel 40:48</a></span></td><td class=\"tf rtl\"><span class=\"rtl ubd\"></span></td><td class=\"tf rtl\"><span class=\"rtl ubd\"><span class=\"plain rtl  hl\" ><span class=\"txtu hbo\">אֵ֣ל </span></span></span></td></tr>\n",
       "<tr class=\"tf rtl\"><td class=\"tf rtl\">14</td><td class=\"tf rtl\"><span class=\"tfsechead ltr\"><a target=\"_blank\" href=\"https://shebanq.ancient-data.org/hebrew/text?book=Jeremia&amp;chapter=36&amp;verse=22&amp;version=c&amp;mr=m&amp;qw=q&amp;tp=txt_p&amp;tr=hb&amp;wget=v&amp;qget=v&amp;nget=vt\" title=\"Show this on SHEBANQ\" sec=\"Jeremiah 36:22\">Jeremiah 36:22</a></span></td><td class=\"tf rtl\"><span class=\"rtl ubd\"></span></td><td class=\"tf rtl\"><span class=\"rtl ubd\"><span class=\"plain rtl  hl\" ><span class=\"txtu hbo\">אָ֖ח </span></span></span></td></tr>\n",
       "<tr class=\"tf rtl\"><td class=\"tf rtl\">15</td><td class=\"tf rtl\"><span class=\"tfsechead ltr\"><a target=\"_blank\" href=\"https://shebanq.ancient-data.org/hebrew/text?book=Iob&amp;chapter=24&amp;verse=25&amp;version=c&amp;mr=m&amp;qw=q&amp;tp=txt_p&amp;tr=hb&amp;wget=v&amp;qget=v&amp;nget=vt\" title=\"Show this on SHEBANQ\" sec=\"Job 24:25\">Job 24:25</a></span></td><td class=\"tf rtl\"><span class=\"rtl ubd\"></span></td><td class=\"tf rtl\"><span class=\"rtl ubd\"><span class=\"plain rtl  hl\" ><span class=\"txtu hbo\">אַ֗ל </span></span></span></td></tr>\n",
       "<tr class=\"tf rtl\"><td class=\"tf rtl\">16</td><td class=\"tf rtl\"><span class=\"tfsechead ltr\"><a target=\"_blank\" href=\"https://shebanq.ancient-data.org/hebrew/text?book=Esra&amp;chapter=5&amp;verse=8&amp;version=c&amp;mr=m&amp;qw=q&amp;tp=txt_p&amp;tr=hb&amp;wget=v&amp;qget=v&amp;nget=vt\" title=\"Show this on SHEBANQ\" sec=\"Ezra 5:8\">Ezra 5:8</a></span></td><td class=\"tf rtl\"><span class=\"rtl ubd\"></span></td><td class=\"tf rtl\"><span class=\"rtl ubd\"><span class=\"plain rtl  hl\" ><span class=\"txtu hbo\">אָ֖ע </span></span></span></td></tr></table>"
      ],
      "text/plain": [
       "<IPython.core.display.HTML object>"
      ]
     },
     "metadata": {},
     "output_type": "display_data"
    }
   ],
   "source": [
    "lexemes = set()\n",
    "lexResults = []\n",
    "for (lex, word) in results:\n",
    "    if lex not in lexemes:\n",
    "        lexemes.add(lex)\n",
    "        lexResults.append((lex, word))\n",
    "A.table(lexResults)"
   ]
  },
  {
   "cell_type": "markdown",
   "metadata": {},
   "source": [
    "Observe how you can use a query to get an interesting node set,\n",
    "which you can then massage using standard Python machinery,\n",
    "after which you can display the results prettily with `A.table()` or `A.show()`.\n",
    "\n",
    "**The take-away lesson is: you can use `A.table()` and `A.show()` on arbitrary iterables of tuples of nodes,\n",
    "whether or not they come from an executed query.**\n",
    "\n",
    "The headers of the tables are taken from the node types of the first tuple, so if your tuples\n",
    "are not consistent in their types, the headers will be non-sensical:"
   ]
  },
  {
   "cell_type": "code",
   "execution_count": 45,
   "metadata": {
    "ExecuteTime": {
     "end_time": "2018-05-24T08:01:41.297750Z",
     "start_time": "2018-05-24T08:01:41.291652Z"
    }
   },
   "outputs": [
    {
     "data": {
      "text/html": [
       "<table><tr class=\"tf rtl\"><th class=\"tf rtl\">n</th><th class=\"tf rtl\">p</th><th class=\"tf rtl\">word</th><th class=\"tf\">phrase_atom</th></tr>\n",
       "<tr class=\"tf rtl\"><td class=\"tf rtl\">1</td><td class=\"tf rtl\"><span class=\"tfsechead ltr\"><a target=\"_blank\" href=\"https://shebanq.ancient-data.org/hebrew/text?book=Genesis&amp;chapter=1&amp;verse=1&amp;version=c&amp;mr=m&amp;qw=q&amp;tp=txt_p&amp;tr=hb&amp;wget=v&amp;qget=v&amp;nget=vt\" title=\"Show this on SHEBANQ\" sec=\"Genesis 1:1\">Genesis 1:1</a></span></td><td class=\"tf rtl\"><span class=\"rtl ubd\"><span class=\"plain rtl  hl\" ><span class=\"txtu hbo\">בְּ</span></span></span></td><td class=\"tf rtl\"><span class=\"rtl ubd\"><span class=\"plain rtl  hlbx\" ><span class=\"txtu hbo\">אֶל־</span><span class=\"txtu hbo\">אִישׁ֩ </span><span class=\"txtu hbo\">הַ</span><span class=\"txtu hbo\">בְּלִיַּ֨עַל </span><span class=\"txtu hbo\">הַ</span><span class=\"txtu hbo\">זֶּ֜ה </span></span></span></td></tr>\n",
       "<tr class=\"tf rtl\"><td class=\"tf rtl\">2</td><td class=\"tf rtl\"><span class=\"tfsechead ltr\"><a target=\"_blank\" href=\"https://shebanq.ancient-data.org/hebrew/text?book=Genesis&amp;chapter=1&amp;verse=1&amp;version=c&amp;mr=m&amp;qw=q&amp;tp=txt_p&amp;tr=hb&amp;wget=v&amp;qget=v&amp;nget=vt\" title=\"Show this on SHEBANQ\" sec=\"Genesis 1:1\">Genesis 1:1</a></span></td><td class=\"tf rtl\"><span class=\"rtl ubd\"><span class=\"plain rtl  hlbx\" ><span class=\"txtu hbo\">עַל־</span><span class=\"txtu hbo\">נָבָ֗ל </span></span></span></td><td class=\"tf rtl\"><span class=\"rtl ubd\"><span class=\"plain rtl  hl\" ><span class=\"txtu hbo\">רֵאשִׁ֖ית </span></span></span></td></tr></table>"
      ],
      "text/plain": [
       "<IPython.core.display.HTML object>"
      ]
     },
     "metadata": {},
     "output_type": "display_data"
    }
   ],
   "source": [
    "tuples = (\n",
    "    (1, 1000000),\n",
    "    (1000001, 2),\n",
    ")\n",
    "A.table(tuples)"
   ]
  },
  {
   "cell_type": "markdown",
   "metadata": {},
   "source": [
    "But `A.show()` makes perfect sense, also in this case."
   ]
  },
  {
   "cell_type": "code",
   "execution_count": 46,
   "metadata": {
    "ExecuteTime": {
     "end_time": "2018-05-24T08:01:43.690920Z",
     "start_time": "2018-05-24T08:01:43.667562Z"
    }
   },
   "outputs": [
    {
     "data": {
      "text/html": [
       "<p><b>clause</b> <i>1</i></p>"
      ],
      "text/plain": [
       "<IPython.core.display.HTML object>"
      ]
     },
     "metadata": {},
     "output_type": "display_data"
    },
    {
     "data": {
      "text/html": [
       "<div class=\"tfsechead rtl\"><a target=\"_blank\" href=\"https://shebanq.ancient-data.org/hebrew/text?book=Genesis&amp;chapter=1&amp;verse=1&amp;version=c&amp;mr=m&amp;qw=q&amp;tp=txt_p&amp;tr=hb&amp;wget=v&amp;qget=v&amp;nget=vt\" title=\"Show this on SHEBANQ\" sec=\"Genesis 1:1\">Genesis 1:1</a></div><div class=\"rtl children\"><div class=\"contnr c2  rtl  \" ><div class=\"lbl c2  \" ><span class=\"nd\">clause</span></div><div class=\"children hor wrap rtl\"><div class=\"contnr c1  rtl  \" ><div class=\"lbl c1  \" ><span class=\"nd\">phrase</span></div><div class=\"children hor wrap rtl\"><div class=\"contnr c0 trm rtl  hl\" ><div class=\"lbl c0 trm hl\" ><a class=\" txtu hbo\" target=\"_blank\" href=\"https://shebanq.ancient-data.org/hebrew/word?version=c&amp;id=1B\" title=\"Show this on SHEBANQ\"><span class=\"txtu hbo\">בְּ</span></a></div><div class='features'><span class=\"g_cons xft\" ><span class=\"f\">g_cons=</span>B</span><span class=\"sp xft\" ><span class=\"f\">sp=</span>prep</span></div></div><div class=\"contnr c0 trm rtl  hl\" ><div class=\"lbl c0 trm hl\" ><a class=\" txtu hbo\" target=\"_blank\" href=\"https://shebanq.ancient-data.org/hebrew/word?version=c&amp;id=1RACJTn\" title=\"Show this on SHEBANQ\"><span class=\"txtu hbo\">רֵאשִׁ֖ית </span></a></div><div class='features'><span class=\"g_cons xft\" ><span class=\"f\">g_cons=</span>R>CJT</span><span class=\"sp xft\" ><span class=\"f\">sp=</span>subs</span></div></div></div></div><div class=\"contnr c1  rtl  \" ><div class=\"lbl c1  \" ><span class=\"nd\">phrase</span></div><div class=\"children hor wrap rtl\"><div class=\"contnr c0 trm rtl  \" ><div class=\"lbl c0 trm \" ><a class=\" txtu hbo\" target=\"_blank\" href=\"https://shebanq.ancient-data.org/hebrew/word?version=c&amp;id=1BRAv\" title=\"Show this on SHEBANQ\"><span class=\"txtu hbo\">בָּרָ֣א </span></a></div><div class='features'><span class=\"g_cons xft\" ><span class=\"f\">g_cons=</span>BR></span><span class=\"sp xft\" ><span class=\"f\">sp=</span>verb</span></div></div></div></div><div class=\"contnr c1  rtl  \" ><div class=\"lbl c1  \" ><span class=\"nd\">phrase</span></div><div class=\"children hor wrap rtl\"><div class=\"contnr c0 trm rtl  \" ><div class=\"lbl c0 trm \" ><a class=\" txtu hbo\" target=\"_blank\" href=\"https://shebanq.ancient-data.org/hebrew/word?version=c&amp;id=1ALHJMn\" title=\"Show this on SHEBANQ\"><span class=\"txtu hbo\">אֱלֹהִ֑ים </span></a></div><div class='features'><span class=\"g_cons xft\" ><span class=\"f\">g_cons=</span>>LHJM</span><span class=\"sp xft\" ><span class=\"f\">sp=</span>subs</span></div></div></div></div><div class=\"contnr c1  rtl  \" ><div class=\"lbl c1  \" ><span class=\"nd\">phrase</span></div><div class=\"children hor wrap rtl\"><div class=\"contnr c0 trm rtl  \" ><div class=\"lbl c0 trm \" ><a class=\" txtu hbo\" target=\"_blank\" href=\"https://shebanq.ancient-data.org/hebrew/word?version=c&amp;id=1AT\" title=\"Show this on SHEBANQ\"><span class=\"txtu hbo\">אֵ֥ת </span></a></div><div class='features'><span class=\"g_cons xft\" ><span class=\"f\">g_cons=</span>>T</span><span class=\"sp xft\" ><span class=\"f\">sp=</span>prep</span></div></div><div class=\"contnr c0 trm rtl  \" ><div class=\"lbl c0 trm \" ><a class=\" txtu hbo\" target=\"_blank\" href=\"https://shebanq.ancient-data.org/hebrew/word?version=c&amp;id=1H\" title=\"Show this on SHEBANQ\"><span class=\"txtu hbo\">הַ</span></a></div><div class='features'><span class=\"g_cons xft\" ><span class=\"f\">g_cons=</span>H</span><span class=\"sp xft\" ><span class=\"f\">sp=</span>art</span></div></div><div class=\"contnr c0 trm rtl  \" ><div class=\"lbl c0 trm \" ><a class=\" txtu hbo\" target=\"_blank\" href=\"https://shebanq.ancient-data.org/hebrew/word?version=c&amp;id=1CMJMn\" title=\"Show this on SHEBANQ\"><span class=\"txtu hbo\">שָּׁמַ֖יִם </span></a></div><div class='features'><span class=\"g_cons xft\" ><span class=\"f\">g_cons=</span>CMJM</span><span class=\"sp xft\" ><span class=\"f\">sp=</span>subs</span></div></div><div class=\"contnr c0 trm rtl  \" ><div class=\"lbl c0 trm \" ><a class=\" txtu hbo\" target=\"_blank\" href=\"https://shebanq.ancient-data.org/hebrew/word?version=c&amp;id=1W\" title=\"Show this on SHEBANQ\"><span class=\"txtu hbo\">וְ</span></a></div><div class='features'><span class=\"g_cons xft\" ><span class=\"f\">g_cons=</span>W</span><span class=\"sp xft\" ><span class=\"f\">sp=</span>conj</span></div></div><div class=\"contnr c0 trm rtl  \" ><div class=\"lbl c0 trm \" ><a class=\" txtu hbo\" target=\"_blank\" href=\"https://shebanq.ancient-data.org/hebrew/word?version=c&amp;id=1AT\" title=\"Show this on SHEBANQ\"><span class=\"txtu hbo\">אֵ֥ת </span></a></div><div class='features'><span class=\"g_cons xft\" ><span class=\"f\">g_cons=</span>>T</span><span class=\"sp xft\" ><span class=\"f\">sp=</span>prep</span></div></div><div class=\"contnr c0 trm rtl  \" ><div class=\"lbl c0 trm \" ><a class=\" txtu hbo\" target=\"_blank\" href=\"https://shebanq.ancient-data.org/hebrew/word?version=c&amp;id=1H\" title=\"Show this on SHEBANQ\"><span class=\"txtu hbo\">הָ</span></a></div><div class='features'><span class=\"g_cons xft\" ><span class=\"f\">g_cons=</span>H</span><span class=\"sp xft\" ><span class=\"f\">sp=</span>art</span></div></div><div class=\"contnr c0 trm rtl  \" ><div class=\"lbl c0 trm \" ><a class=\" txtu hbo\" target=\"_blank\" href=\"https://shebanq.ancient-data.org/hebrew/word?version=c&amp;id=1ARYn\" title=\"Show this on SHEBANQ\"><span class=\"txtu hbo\">אָֽרֶץ׃ </span></a></div><div class='features'><span class=\"g_cons xft\" ><span class=\"f\">g_cons=</span>>RY</span><span class=\"sp xft\" ><span class=\"f\">sp=</span>subs</span></div></div></div></div></div></div></div>"
      ],
      "text/plain": [
       "<IPython.core.display.HTML object>"
      ]
     },
     "metadata": {},
     "output_type": "display_data"
    },
    {
     "data": {
      "text/html": [
       "<p><b>clause</b> <i>2</i></p>"
      ],
      "text/plain": [
       "<IPython.core.display.HTML object>"
      ]
     },
     "metadata": {},
     "output_type": "display_data"
    },
    {
     "data": {
      "text/html": [
       "<div class=\"tfsechead rtl\"><a target=\"_blank\" href=\"https://shebanq.ancient-data.org/hebrew/text?book=Samuel_I&amp;chapter=25&amp;verse=25&amp;version=c&amp;mr=m&amp;qw=q&amp;tp=txt_p&amp;tr=hb&amp;wget=v&amp;qget=v&amp;nget=vt\" title=\"Show this on SHEBANQ\" sec=\"1_Samuel 25:25\">1_Samuel 25:25</a></div><div class=\"rtl children\"><div class=\"contnr c2  rtl  \" ><div class=\"lbl c2  \" ><span class=\"nd\">clause</span></div><div class=\"children hor wrap rtl\"><div class=\"contnr c1  rtl  \" ><div class=\"lbl c1  \" ><span class=\"nd\">phrase</span></div><div class=\"children hor wrap rtl\"><div class=\"contnr c0 trm rtl  \" ><div class=\"lbl c0 trm \" ><a class=\" txtu hbo\" target=\"_blank\" href=\"https://shebanq.ancient-data.org/hebrew/word?version=c&amp;id=1ALi\" title=\"Show this on SHEBANQ\"><span class=\"txtu hbo\">אַל־</span></a></div><div class='features'><span class=\"g_cons xft\" ><span class=\"f\">g_cons=</span>>L</span><span class=\"sp xft\" ><span class=\"f\">sp=</span>nega</span></div></div></div></div><div class=\"contnr c1  rtl  \" ><div class=\"lbl c1  \" ><span class=\"nd\">phrase</span></div><div class=\"children hor wrap rtl\"><div class=\"contnr c0 trm rtl  \" ><div class=\"lbl c0 trm \" ><a class=\" txtu hbo\" target=\"_blank\" href=\"https://shebanq.ancient-data.org/hebrew/word?version=c&amp;id=1NA\" title=\"Show this on SHEBANQ\"><span class=\"txtu hbo\">נָ֣א </span></a></div><div class='features'><span class=\"g_cons xft\" ><span class=\"f\">g_cons=</span>N></span><span class=\"sp xft\" ><span class=\"f\">sp=</span>intj</span></div></div></div></div><div class=\"contnr c1  rtl  \" ><div class=\"lbl c1  \" ><span class=\"nd\">phrase</span></div><div class=\"children hor wrap rtl\"><div class=\"contnr c0 trm rtl  \" ><div class=\"lbl c0 trm \" ><a class=\" txtu hbo\" target=\"_blank\" href=\"https://shebanq.ancient-data.org/hebrew/word?version=c&amp;id=1FJMv\" title=\"Show this on SHEBANQ\"><span class=\"txtu hbo\">יָשִׂ֣ים </span></a></div><div class='features'><span class=\"g_cons xft\" ><span class=\"f\">g_cons=</span>JFJM</span><span class=\"sp xft\" ><span class=\"f\">sp=</span>verb</span></div></div></div></div><div class=\"contnr c1  rtl  \" ><div class=\"lbl c1  \" ><span class=\"nd\">phrase</span></div><div class=\"children hor wrap rtl\"><div class=\"contnr c0 trm rtl  \" ><div class=\"lbl c0 trm \" ><a class=\" txtu hbo\" target=\"_blank\" href=\"https://shebanq.ancient-data.org/hebrew/word?version=c&amp;id=1ADWNn\" title=\"Show this on SHEBANQ\"><span class=\"txtu hbo\">אֲדֹנִ֣י׀ </span></a></div><div class='features'><span class=\"g_cons xft\" ><span class=\"f\">g_cons=</span>>DNJ</span><span class=\"sp xft\" ><span class=\"f\">sp=</span>subs</span></div></div></div></div><div class=\"contnr c1  rtl  \" ><div class=\"lbl c1  \" ><span class=\"nd\">phrase</span></div><div class=\"children hor wrap rtl\"><div class=\"contnr c0 trm rtl  \" ><div class=\"lbl c0 trm \" ><a class=\" txtu hbo\" target=\"_blank\" href=\"https://shebanq.ancient-data.org/hebrew/word?version=c&amp;id=1AT\" title=\"Show this on SHEBANQ\"><span class=\"txtu hbo\">אֶת־</span></a></div><div class='features'><span class=\"g_cons xft\" ><span class=\"f\">g_cons=</span>>T</span><span class=\"sp xft\" ><span class=\"f\">sp=</span>prep</span></div></div><div class=\"contnr c0 trm rtl  \" ><div class=\"lbl c0 trm \" ><a class=\" txtu hbo\" target=\"_blank\" href=\"https://shebanq.ancient-data.org/hebrew/word?version=c&amp;id=1LBn\" title=\"Show this on SHEBANQ\"><span class=\"txtu hbo\">לִבֹּ֡ו </span></a></div><div class='features'><span class=\"g_cons xft\" ><span class=\"f\">g_cons=</span>LBW</span><span class=\"sp xft\" ><span class=\"f\">sp=</span>subs</span></div></div></div></div><div class=\"contnr c1  rtl  \" ><div class=\"lbl c1  \" ><span class=\"nd\">phrase</span></div><div class=\"children hor wrap rtl\"><div class=\"contnr c0 trm rtl  \" ><div class=\"lbl c0 trm \" ><a class=\" txtu hbo\" target=\"_blank\" href=\"https://shebanq.ancient-data.org/hebrew/word?version=c&amp;id=1AL\" title=\"Show this on SHEBANQ\"><span class=\"txtu hbo\">אֶל־</span></a></div><div class='features'><span class=\"g_cons xft\" ><span class=\"f\">g_cons=</span>>L</span><span class=\"sp xft\" ><span class=\"f\">sp=</span>prep</span></div></div><div class=\"contnr c0 trm rtl  \" ><div class=\"lbl c0 trm \" ><a class=\" txtu hbo\" target=\"_blank\" href=\"https://shebanq.ancient-data.org/hebrew/word?version=c&amp;id=1AJCn\" title=\"Show this on SHEBANQ\"><span class=\"txtu hbo\">אִישׁ֩ </span></a></div><div class='features'><span class=\"g_cons xft\" ><span class=\"f\">g_cons=</span>>JC</span><span class=\"sp xft\" ><span class=\"f\">sp=</span>subs</span></div></div><div class=\"contnr c0 trm rtl  \" ><div class=\"lbl c0 trm \" ><a class=\" txtu hbo\" target=\"_blank\" href=\"https://shebanq.ancient-data.org/hebrew/word?version=c&amp;id=1H\" title=\"Show this on SHEBANQ\"><span class=\"txtu hbo\">הַ</span></a></div><div class='features'><span class=\"g_cons xft\" ><span class=\"f\">g_cons=</span>H</span><span class=\"sp xft\" ><span class=\"f\">sp=</span>art</span></div></div><div class=\"contnr c0 trm rtl  \" ><div class=\"lbl c0 trm \" ><a class=\" txtu hbo\" target=\"_blank\" href=\"https://shebanq.ancient-data.org/hebrew/word?version=c&amp;id=1BLJOLn\" title=\"Show this on SHEBANQ\"><span class=\"txtu hbo\">בְּלִיַּ֨עַל </span></a></div><div class='features'><span class=\"g_cons xft\" ><span class=\"f\">g_cons=</span>BLJ&lt;L</span><span class=\"sp xft\" ><span class=\"f\">sp=</span>subs</span></div></div><div class=\"contnr c0 trm rtl  \" ><div class=\"lbl c0 trm \" ><a class=\" txtu hbo\" target=\"_blank\" href=\"https://shebanq.ancient-data.org/hebrew/word?version=c&amp;id=1H\" title=\"Show this on SHEBANQ\"><span class=\"txtu hbo\">הַ</span></a></div><div class='features'><span class=\"g_cons xft\" ><span class=\"f\">g_cons=</span>H</span><span class=\"sp xft\" ><span class=\"f\">sp=</span>art</span></div></div><div class=\"contnr c0 trm rtl  \" ><div class=\"lbl c0 trm \" ><a class=\" txtu hbo\" target=\"_blank\" href=\"https://shebanq.ancient-data.org/hebrew/word?version=c&amp;id=1ZH\" title=\"Show this on SHEBANQ\"><span class=\"txtu hbo\">זֶּ֜ה </span></a></div><div class='features'><span class=\"g_cons xft\" ><span class=\"f\">g_cons=</span>ZH</span><span class=\"sp xft\" ><span class=\"f\">sp=</span>prde</span></div></div><div class=\"contnr c0 trm rtl  \" ><div class=\"lbl c0 trm \" ><a class=\" txtu hbo\" target=\"_blank\" href=\"https://shebanq.ancient-data.org/hebrew/word?version=c&amp;id=1OL\" title=\"Show this on SHEBANQ\"><span class=\"txtu hbo\">עַל־</span></a></div><div class='features'><span class=\"g_cons xft\" ><span class=\"f\">g_cons=</span>&lt;L</span><span class=\"sp xft\" ><span class=\"f\">sp=</span>prep</span></div></div><div class=\"contnr c0 trm rtl  \" ><div class=\"lbl c0 trm \" ><a class=\" txtu hbo\" target=\"_blank\" href=\"https://shebanq.ancient-data.org/hebrew/word?version=c&amp;id=1NBLiiin\" title=\"Show this on SHEBANQ\"><span class=\"txtu hbo\">נָבָ֗ל </span></a></div><div class='features'><span class=\"g_cons xft\" ><span class=\"f\">g_cons=</span>NBL</span><span class=\"sp xft\" ><span class=\"f\">sp=</span>nmpr</span></div></div></div></div></div></div></div>"
      ],
      "text/plain": [
       "<IPython.core.display.HTML object>"
      ]
     },
     "metadata": {},
     "output_type": "display_data"
    }
   ],
   "source": [
    "A.show(tuples, condensed=True, condenseType=\"clause\")"
   ]
  },
  {
   "cell_type": "markdown",
   "metadata": {},
   "source": [
    "Everything that is part of a result, we see properly highlighted, but we can not discern what belongs to result 1 and what to result 2.\n",
    "\n",
    "That becomes clear if we uncondense:"
   ]
  },
  {
   "cell_type": "code",
   "execution_count": 47,
   "metadata": {
    "ExecuteTime": {
     "end_time": "2018-05-24T08:01:46.770065Z",
     "start_time": "2018-05-24T08:01:46.729601Z"
    }
   },
   "outputs": [
    {
     "data": {
      "text/html": [
       "<p><b>result</b> <i>1</i></p>"
      ],
      "text/plain": [
       "<IPython.core.display.HTML object>"
      ]
     },
     "metadata": {},
     "output_type": "display_data"
    },
    {
     "data": {
      "text/html": [
       "<div class=\"tfsechead rtl\"><a target=\"_blank\" href=\"https://shebanq.ancient-data.org/hebrew/text?book=Genesis&amp;chapter=1&amp;verse=1&amp;version=c&amp;mr=m&amp;qw=q&amp;tp=txt_p&amp;tr=hb&amp;wget=v&amp;qget=v&amp;nget=vt\" title=\"Show this on SHEBANQ\" sec=\"Genesis 1:1\">Genesis 1:1</a></div><div class=\"rtl children\"><div class=\"contnr c2  rtl  \" ><div class=\"lbl c2  \" ><span class=\"nd\">clause</span></div><div class=\"children hor wrap rtl\"><div class=\"contnr c1  rtl  \" ><div class=\"lbl c1  \" ><span class=\"nd\">phrase</span></div><div class=\"children hor wrap rtl\"><div class=\"contnr c0 trm rtl  hl\" ><div class=\"lbl c0 trm hl\" ><a class=\" txtu hbo\" target=\"_blank\" href=\"https://shebanq.ancient-data.org/hebrew/word?version=c&amp;id=1B\" title=\"Show this on SHEBANQ\"><span class=\"txtu hbo\">בְּ</span></a></div><div class='features'><span class=\"g_cons xft\" ><span class=\"f\">g_cons=</span>B</span><span class=\"sp xft\" ><span class=\"f\">sp=</span>prep</span></div></div><div class=\"contnr c0 trm rtl  \" ><div class=\"lbl c0 trm \" ><a class=\" txtu hbo\" target=\"_blank\" href=\"https://shebanq.ancient-data.org/hebrew/word?version=c&amp;id=1RACJTn\" title=\"Show this on SHEBANQ\"><span class=\"txtu hbo\">רֵאשִׁ֖ית </span></a></div><div class='features'><span class=\"g_cons xft\" ><span class=\"f\">g_cons=</span>R>CJT</span><span class=\"sp xft\" ><span class=\"f\">sp=</span>subs</span></div></div></div></div><div class=\"contnr c1  rtl  \" ><div class=\"lbl c1  \" ><span class=\"nd\">phrase</span></div><div class=\"children hor wrap rtl\"><div class=\"contnr c0 trm rtl  \" ><div class=\"lbl c0 trm \" ><a class=\" txtu hbo\" target=\"_blank\" href=\"https://shebanq.ancient-data.org/hebrew/word?version=c&amp;id=1BRAv\" title=\"Show this on SHEBANQ\"><span class=\"txtu hbo\">בָּרָ֣א </span></a></div><div class='features'><span class=\"g_cons xft\" ><span class=\"f\">g_cons=</span>BR></span><span class=\"sp xft\" ><span class=\"f\">sp=</span>verb</span></div></div></div></div><div class=\"contnr c1  rtl  \" ><div class=\"lbl c1  \" ><span class=\"nd\">phrase</span></div><div class=\"children hor wrap rtl\"><div class=\"contnr c0 trm rtl  \" ><div class=\"lbl c0 trm \" ><a class=\" txtu hbo\" target=\"_blank\" href=\"https://shebanq.ancient-data.org/hebrew/word?version=c&amp;id=1ALHJMn\" title=\"Show this on SHEBANQ\"><span class=\"txtu hbo\">אֱלֹהִ֑ים </span></a></div><div class='features'><span class=\"g_cons xft\" ><span class=\"f\">g_cons=</span>>LHJM</span><span class=\"sp xft\" ><span class=\"f\">sp=</span>subs</span></div></div></div></div><div class=\"contnr c1  rtl  \" ><div class=\"lbl c1  \" ><span class=\"nd\">phrase</span></div><div class=\"children hor wrap rtl\"><div class=\"contnr c0 trm rtl  \" ><div class=\"lbl c0 trm \" ><a class=\" txtu hbo\" target=\"_blank\" href=\"https://shebanq.ancient-data.org/hebrew/word?version=c&amp;id=1AT\" title=\"Show this on SHEBANQ\"><span class=\"txtu hbo\">אֵ֥ת </span></a></div><div class='features'><span class=\"g_cons xft\" ><span class=\"f\">g_cons=</span>>T</span><span class=\"sp xft\" ><span class=\"f\">sp=</span>prep</span></div></div><div class=\"contnr c0 trm rtl  \" ><div class=\"lbl c0 trm \" ><a class=\" txtu hbo\" target=\"_blank\" href=\"https://shebanq.ancient-data.org/hebrew/word?version=c&amp;id=1H\" title=\"Show this on SHEBANQ\"><span class=\"txtu hbo\">הַ</span></a></div><div class='features'><span class=\"g_cons xft\" ><span class=\"f\">g_cons=</span>H</span><span class=\"sp xft\" ><span class=\"f\">sp=</span>art</span></div></div><div class=\"contnr c0 trm rtl  \" ><div class=\"lbl c0 trm \" ><a class=\" txtu hbo\" target=\"_blank\" href=\"https://shebanq.ancient-data.org/hebrew/word?version=c&amp;id=1CMJMn\" title=\"Show this on SHEBANQ\"><span class=\"txtu hbo\">שָּׁמַ֖יִם </span></a></div><div class='features'><span class=\"g_cons xft\" ><span class=\"f\">g_cons=</span>CMJM</span><span class=\"sp xft\" ><span class=\"f\">sp=</span>subs</span></div></div><div class=\"contnr c0 trm rtl  \" ><div class=\"lbl c0 trm \" ><a class=\" txtu hbo\" target=\"_blank\" href=\"https://shebanq.ancient-data.org/hebrew/word?version=c&amp;id=1W\" title=\"Show this on SHEBANQ\"><span class=\"txtu hbo\">וְ</span></a></div><div class='features'><span class=\"g_cons xft\" ><span class=\"f\">g_cons=</span>W</span><span class=\"sp xft\" ><span class=\"f\">sp=</span>conj</span></div></div><div class=\"contnr c0 trm rtl  \" ><div class=\"lbl c0 trm \" ><a class=\" txtu hbo\" target=\"_blank\" href=\"https://shebanq.ancient-data.org/hebrew/word?version=c&amp;id=1AT\" title=\"Show this on SHEBANQ\"><span class=\"txtu hbo\">אֵ֥ת </span></a></div><div class='features'><span class=\"g_cons xft\" ><span class=\"f\">g_cons=</span>>T</span><span class=\"sp xft\" ><span class=\"f\">sp=</span>prep</span></div></div><div class=\"contnr c0 trm rtl  \" ><div class=\"lbl c0 trm \" ><a class=\" txtu hbo\" target=\"_blank\" href=\"https://shebanq.ancient-data.org/hebrew/word?version=c&amp;id=1H\" title=\"Show this on SHEBANQ\"><span class=\"txtu hbo\">הָ</span></a></div><div class='features'><span class=\"g_cons xft\" ><span class=\"f\">g_cons=</span>H</span><span class=\"sp xft\" ><span class=\"f\">sp=</span>art</span></div></div><div class=\"contnr c0 trm rtl  \" ><div class=\"lbl c0 trm \" ><a class=\" txtu hbo\" target=\"_blank\" href=\"https://shebanq.ancient-data.org/hebrew/word?version=c&amp;id=1ARYn\" title=\"Show this on SHEBANQ\"><span class=\"txtu hbo\">אָֽרֶץ׃ </span></a></div><div class='features'><span class=\"g_cons xft\" ><span class=\"f\">g_cons=</span>>RY</span><span class=\"sp xft\" ><span class=\"f\">sp=</span>subs</span></div></div></div></div></div></div></div>"
      ],
      "text/plain": [
       "<IPython.core.display.HTML object>"
      ]
     },
     "metadata": {},
     "output_type": "display_data"
    },
    {
     "data": {
      "text/html": [
       "<div class=\"tfsechead rtl\"><a target=\"_blank\" href=\"https://shebanq.ancient-data.org/hebrew/text?book=Samuel_I&amp;chapter=25&amp;verse=25&amp;version=c&amp;mr=m&amp;qw=q&amp;tp=txt_p&amp;tr=hb&amp;wget=v&amp;qget=v&amp;nget=vt\" title=\"Show this on SHEBANQ\" sec=\"1_Samuel 25:25\">1_Samuel 25:25</a></div><div class=\"rtl children\"><div class=\"contnr c2  rtl  \" ><div class=\"lbl c2  \" ><span class=\"nd\">clause</span></div><div class=\"children hor wrap rtl\"><div class=\"contnr c1  rtl  \" ><div class=\"lbl c1  \" ><span class=\"nd\">phrase</span></div><div class=\"children hor wrap rtl\"><div class=\"contnr c0 trm rtl  \" ><div class=\"lbl c0 trm \" ><a class=\" txtu hbo\" target=\"_blank\" href=\"https://shebanq.ancient-data.org/hebrew/word?version=c&amp;id=1ALi\" title=\"Show this on SHEBANQ\"><span class=\"txtu hbo\">אַל־</span></a></div><div class='features'><span class=\"g_cons xft\" ><span class=\"f\">g_cons=</span>>L</span><span class=\"sp xft\" ><span class=\"f\">sp=</span>nega</span></div></div></div></div><div class=\"contnr c1  rtl  \" ><div class=\"lbl c1  \" ><span class=\"nd\">phrase</span></div><div class=\"children hor wrap rtl\"><div class=\"contnr c0 trm rtl  \" ><div class=\"lbl c0 trm \" ><a class=\" txtu hbo\" target=\"_blank\" href=\"https://shebanq.ancient-data.org/hebrew/word?version=c&amp;id=1NA\" title=\"Show this on SHEBANQ\"><span class=\"txtu hbo\">נָ֣א </span></a></div><div class='features'><span class=\"g_cons xft\" ><span class=\"f\">g_cons=</span>N></span><span class=\"sp xft\" ><span class=\"f\">sp=</span>intj</span></div></div></div></div><div class=\"contnr c1  rtl  \" ><div class=\"lbl c1  \" ><span class=\"nd\">phrase</span></div><div class=\"children hor wrap rtl\"><div class=\"contnr c0 trm rtl  \" ><div class=\"lbl c0 trm \" ><a class=\" txtu hbo\" target=\"_blank\" href=\"https://shebanq.ancient-data.org/hebrew/word?version=c&amp;id=1FJMv\" title=\"Show this on SHEBANQ\"><span class=\"txtu hbo\">יָשִׂ֣ים </span></a></div><div class='features'><span class=\"g_cons xft\" ><span class=\"f\">g_cons=</span>JFJM</span><span class=\"sp xft\" ><span class=\"f\">sp=</span>verb</span></div></div></div></div><div class=\"contnr c1  rtl  \" ><div class=\"lbl c1  \" ><span class=\"nd\">phrase</span></div><div class=\"children hor wrap rtl\"><div class=\"contnr c0 trm rtl  \" ><div class=\"lbl c0 trm \" ><a class=\" txtu hbo\" target=\"_blank\" href=\"https://shebanq.ancient-data.org/hebrew/word?version=c&amp;id=1ADWNn\" title=\"Show this on SHEBANQ\"><span class=\"txtu hbo\">אֲדֹנִ֣י׀ </span></a></div><div class='features'><span class=\"g_cons xft\" ><span class=\"f\">g_cons=</span>>DNJ</span><span class=\"sp xft\" ><span class=\"f\">sp=</span>subs</span></div></div></div></div><div class=\"contnr c1  rtl  \" ><div class=\"lbl c1  \" ><span class=\"nd\">phrase</span></div><div class=\"children hor wrap rtl\"><div class=\"contnr c0 trm rtl  \" ><div class=\"lbl c0 trm \" ><a class=\" txtu hbo\" target=\"_blank\" href=\"https://shebanq.ancient-data.org/hebrew/word?version=c&amp;id=1AT\" title=\"Show this on SHEBANQ\"><span class=\"txtu hbo\">אֶת־</span></a></div><div class='features'><span class=\"g_cons xft\" ><span class=\"f\">g_cons=</span>>T</span><span class=\"sp xft\" ><span class=\"f\">sp=</span>prep</span></div></div><div class=\"contnr c0 trm rtl  \" ><div class=\"lbl c0 trm \" ><a class=\" txtu hbo\" target=\"_blank\" href=\"https://shebanq.ancient-data.org/hebrew/word?version=c&amp;id=1LBn\" title=\"Show this on SHEBANQ\"><span class=\"txtu hbo\">לִבֹּ֡ו </span></a></div><div class='features'><span class=\"g_cons xft\" ><span class=\"f\">g_cons=</span>LBW</span><span class=\"sp xft\" ><span class=\"f\">sp=</span>subs</span></div></div></div></div><div class=\"contnr c1  rtl  \" ><div class=\"lbl c1  \" ><span class=\"nd\">phrase</span></div><div class=\"children hor wrap rtl\"><div class=\"contnr c0 trm rtl  \" ><div class=\"lbl c0 trm \" ><a class=\" txtu hbo\" target=\"_blank\" href=\"https://shebanq.ancient-data.org/hebrew/word?version=c&amp;id=1AL\" title=\"Show this on SHEBANQ\"><span class=\"txtu hbo\">אֶל־</span></a></div><div class='features'><span class=\"g_cons xft\" ><span class=\"f\">g_cons=</span>>L</span><span class=\"sp xft\" ><span class=\"f\">sp=</span>prep</span></div></div><div class=\"contnr c0 trm rtl  \" ><div class=\"lbl c0 trm \" ><a class=\" txtu hbo\" target=\"_blank\" href=\"https://shebanq.ancient-data.org/hebrew/word?version=c&amp;id=1AJCn\" title=\"Show this on SHEBANQ\"><span class=\"txtu hbo\">אִישׁ֩ </span></a></div><div class='features'><span class=\"g_cons xft\" ><span class=\"f\">g_cons=</span>>JC</span><span class=\"sp xft\" ><span class=\"f\">sp=</span>subs</span></div></div><div class=\"contnr c0 trm rtl  \" ><div class=\"lbl c0 trm \" ><a class=\" txtu hbo\" target=\"_blank\" href=\"https://shebanq.ancient-data.org/hebrew/word?version=c&amp;id=1H\" title=\"Show this on SHEBANQ\"><span class=\"txtu hbo\">הַ</span></a></div><div class='features'><span class=\"g_cons xft\" ><span class=\"f\">g_cons=</span>H</span><span class=\"sp xft\" ><span class=\"f\">sp=</span>art</span></div></div><div class=\"contnr c0 trm rtl  \" ><div class=\"lbl c0 trm \" ><a class=\" txtu hbo\" target=\"_blank\" href=\"https://shebanq.ancient-data.org/hebrew/word?version=c&amp;id=1BLJOLn\" title=\"Show this on SHEBANQ\"><span class=\"txtu hbo\">בְּלִיַּ֨עַל </span></a></div><div class='features'><span class=\"g_cons xft\" ><span class=\"f\">g_cons=</span>BLJ&lt;L</span><span class=\"sp xft\" ><span class=\"f\">sp=</span>subs</span></div></div><div class=\"contnr c0 trm rtl  \" ><div class=\"lbl c0 trm \" ><a class=\" txtu hbo\" target=\"_blank\" href=\"https://shebanq.ancient-data.org/hebrew/word?version=c&amp;id=1H\" title=\"Show this on SHEBANQ\"><span class=\"txtu hbo\">הַ</span></a></div><div class='features'><span class=\"g_cons xft\" ><span class=\"f\">g_cons=</span>H</span><span class=\"sp xft\" ><span class=\"f\">sp=</span>art</span></div></div><div class=\"contnr c0 trm rtl  \" ><div class=\"lbl c0 trm \" ><a class=\" txtu hbo\" target=\"_blank\" href=\"https://shebanq.ancient-data.org/hebrew/word?version=c&amp;id=1ZH\" title=\"Show this on SHEBANQ\"><span class=\"txtu hbo\">זֶּ֜ה </span></a></div><div class='features'><span class=\"g_cons xft\" ><span class=\"f\">g_cons=</span>ZH</span><span class=\"sp xft\" ><span class=\"f\">sp=</span>prde</span></div></div><div class=\"contnr c0 trm rtl  \" ><div class=\"lbl c0 trm \" ><a class=\" txtu hbo\" target=\"_blank\" href=\"https://shebanq.ancient-data.org/hebrew/word?version=c&amp;id=1OL\" title=\"Show this on SHEBANQ\"><span class=\"txtu hbo\">עַל־</span></a></div><div class='features'><span class=\"g_cons xft\" ><span class=\"f\">g_cons=</span>&lt;L</span><span class=\"sp xft\" ><span class=\"f\">sp=</span>prep</span></div></div><div class=\"contnr c0 trm rtl  \" ><div class=\"lbl c0 trm \" ><a class=\" txtu hbo\" target=\"_blank\" href=\"https://shebanq.ancient-data.org/hebrew/word?version=c&amp;id=1NBLiiin\" title=\"Show this on SHEBANQ\"><span class=\"txtu hbo\">נָבָ֗ל </span></a></div><div class='features'><span class=\"g_cons xft\" ><span class=\"f\">g_cons=</span>NBL</span><span class=\"sp xft\" ><span class=\"f\">sp=</span>nmpr</span></div></div></div></div></div></div></div>"
      ],
      "text/plain": [
       "<IPython.core.display.HTML object>"
      ]
     },
     "metadata": {},
     "output_type": "display_data"
    },
    {
     "data": {
      "text/html": [
       "<p><b>result</b> <i>2</i></p>"
      ],
      "text/plain": [
       "<IPython.core.display.HTML object>"
      ]
     },
     "metadata": {},
     "output_type": "display_data"
    },
    {
     "data": {
      "text/html": [
       "<div class=\"tfsechead rtl\"><a target=\"_blank\" href=\"https://shebanq.ancient-data.org/hebrew/text?book=Genesis&amp;chapter=1&amp;verse=1&amp;version=c&amp;mr=m&amp;qw=q&amp;tp=txt_p&amp;tr=hb&amp;wget=v&amp;qget=v&amp;nget=vt\" title=\"Show this on SHEBANQ\" sec=\"Genesis 1:1\">Genesis 1:1</a></div><div class=\"rtl children\"><div class=\"contnr c2  rtl  \" ><div class=\"lbl c2  \" ><span class=\"nd\">clause</span></div><div class=\"children hor wrap rtl\"><div class=\"contnr c1  rtl  \" ><div class=\"lbl c1  \" ><span class=\"nd\">phrase</span></div><div class=\"children hor wrap rtl\"><div class=\"contnr c0 trm rtl  \" ><div class=\"lbl c0 trm \" ><a class=\" txtu hbo\" target=\"_blank\" href=\"https://shebanq.ancient-data.org/hebrew/word?version=c&amp;id=1B\" title=\"Show this on SHEBANQ\"><span class=\"txtu hbo\">בְּ</span></a></div><div class='features'><span class=\"g_cons xft\" ><span class=\"f\">g_cons=</span>B</span><span class=\"sp xft\" ><span class=\"f\">sp=</span>prep</span></div></div><div class=\"contnr c0 trm rtl  hl\" ><div class=\"lbl c0 trm hl\" ><a class=\" txtu hbo\" target=\"_blank\" href=\"https://shebanq.ancient-data.org/hebrew/word?version=c&amp;id=1RACJTn\" title=\"Show this on SHEBANQ\"><span class=\"txtu hbo\">רֵאשִׁ֖ית </span></a></div><div class='features'><span class=\"g_cons xft\" ><span class=\"f\">g_cons=</span>R>CJT</span><span class=\"sp xft\" ><span class=\"f\">sp=</span>subs</span></div></div></div></div><div class=\"contnr c1  rtl  \" ><div class=\"lbl c1  \" ><span class=\"nd\">phrase</span></div><div class=\"children hor wrap rtl\"><div class=\"contnr c0 trm rtl  \" ><div class=\"lbl c0 trm \" ><a class=\" txtu hbo\" target=\"_blank\" href=\"https://shebanq.ancient-data.org/hebrew/word?version=c&amp;id=1BRAv\" title=\"Show this on SHEBANQ\"><span class=\"txtu hbo\">בָּרָ֣א </span></a></div><div class='features'><span class=\"g_cons xft\" ><span class=\"f\">g_cons=</span>BR></span><span class=\"sp xft\" ><span class=\"f\">sp=</span>verb</span></div></div></div></div><div class=\"contnr c1  rtl  \" ><div class=\"lbl c1  \" ><span class=\"nd\">phrase</span></div><div class=\"children hor wrap rtl\"><div class=\"contnr c0 trm rtl  \" ><div class=\"lbl c0 trm \" ><a class=\" txtu hbo\" target=\"_blank\" href=\"https://shebanq.ancient-data.org/hebrew/word?version=c&amp;id=1ALHJMn\" title=\"Show this on SHEBANQ\"><span class=\"txtu hbo\">אֱלֹהִ֑ים </span></a></div><div class='features'><span class=\"g_cons xft\" ><span class=\"f\">g_cons=</span>>LHJM</span><span class=\"sp xft\" ><span class=\"f\">sp=</span>subs</span></div></div></div></div><div class=\"contnr c1  rtl  \" ><div class=\"lbl c1  \" ><span class=\"nd\">phrase</span></div><div class=\"children hor wrap rtl\"><div class=\"contnr c0 trm rtl  \" ><div class=\"lbl c0 trm \" ><a class=\" txtu hbo\" target=\"_blank\" href=\"https://shebanq.ancient-data.org/hebrew/word?version=c&amp;id=1AT\" title=\"Show this on SHEBANQ\"><span class=\"txtu hbo\">אֵ֥ת </span></a></div><div class='features'><span class=\"g_cons xft\" ><span class=\"f\">g_cons=</span>>T</span><span class=\"sp xft\" ><span class=\"f\">sp=</span>prep</span></div></div><div class=\"contnr c0 trm rtl  \" ><div class=\"lbl c0 trm \" ><a class=\" txtu hbo\" target=\"_blank\" href=\"https://shebanq.ancient-data.org/hebrew/word?version=c&amp;id=1H\" title=\"Show this on SHEBANQ\"><span class=\"txtu hbo\">הַ</span></a></div><div class='features'><span class=\"g_cons xft\" ><span class=\"f\">g_cons=</span>H</span><span class=\"sp xft\" ><span class=\"f\">sp=</span>art</span></div></div><div class=\"contnr c0 trm rtl  \" ><div class=\"lbl c0 trm \" ><a class=\" txtu hbo\" target=\"_blank\" href=\"https://shebanq.ancient-data.org/hebrew/word?version=c&amp;id=1CMJMn\" title=\"Show this on SHEBANQ\"><span class=\"txtu hbo\">שָּׁמַ֖יִם </span></a></div><div class='features'><span class=\"g_cons xft\" ><span class=\"f\">g_cons=</span>CMJM</span><span class=\"sp xft\" ><span class=\"f\">sp=</span>subs</span></div></div><div class=\"contnr c0 trm rtl  \" ><div class=\"lbl c0 trm \" ><a class=\" txtu hbo\" target=\"_blank\" href=\"https://shebanq.ancient-data.org/hebrew/word?version=c&amp;id=1W\" title=\"Show this on SHEBANQ\"><span class=\"txtu hbo\">וְ</span></a></div><div class='features'><span class=\"g_cons xft\" ><span class=\"f\">g_cons=</span>W</span><span class=\"sp xft\" ><span class=\"f\">sp=</span>conj</span></div></div><div class=\"contnr c0 trm rtl  \" ><div class=\"lbl c0 trm \" ><a class=\" txtu hbo\" target=\"_blank\" href=\"https://shebanq.ancient-data.org/hebrew/word?version=c&amp;id=1AT\" title=\"Show this on SHEBANQ\"><span class=\"txtu hbo\">אֵ֥ת </span></a></div><div class='features'><span class=\"g_cons xft\" ><span class=\"f\">g_cons=</span>>T</span><span class=\"sp xft\" ><span class=\"f\">sp=</span>prep</span></div></div><div class=\"contnr c0 trm rtl  \" ><div class=\"lbl c0 trm \" ><a class=\" txtu hbo\" target=\"_blank\" href=\"https://shebanq.ancient-data.org/hebrew/word?version=c&amp;id=1H\" title=\"Show this on SHEBANQ\"><span class=\"txtu hbo\">הָ</span></a></div><div class='features'><span class=\"g_cons xft\" ><span class=\"f\">g_cons=</span>H</span><span class=\"sp xft\" ><span class=\"f\">sp=</span>art</span></div></div><div class=\"contnr c0 trm rtl  \" ><div class=\"lbl c0 trm \" ><a class=\" txtu hbo\" target=\"_blank\" href=\"https://shebanq.ancient-data.org/hebrew/word?version=c&amp;id=1ARYn\" title=\"Show this on SHEBANQ\"><span class=\"txtu hbo\">אָֽרֶץ׃ </span></a></div><div class='features'><span class=\"g_cons xft\" ><span class=\"f\">g_cons=</span>>RY</span><span class=\"sp xft\" ><span class=\"f\">sp=</span>subs</span></div></div></div></div></div></div></div>"
      ],
      "text/plain": [
       "<IPython.core.display.HTML object>"
      ]
     },
     "metadata": {},
     "output_type": "display_data"
    },
    {
     "data": {
      "text/html": [
       "<div class=\"tfsechead rtl\"><a target=\"_blank\" href=\"https://shebanq.ancient-data.org/hebrew/text?book=Samuel_I&amp;chapter=25&amp;verse=25&amp;version=c&amp;mr=m&amp;qw=q&amp;tp=txt_p&amp;tr=hb&amp;wget=v&amp;qget=v&amp;nget=vt\" title=\"Show this on SHEBANQ\" sec=\"1_Samuel 25:25\">1_Samuel 25:25</a></div><div class=\"rtl children\"><div class=\"contnr c2  rtl  \" ><div class=\"lbl c2  \" ><span class=\"nd\">clause</span></div><div class=\"children hor wrap rtl\"><div class=\"contnr c1  rtl  \" ><div class=\"lbl c1  \" ><span class=\"nd\">phrase</span></div><div class=\"children hor wrap rtl\"><div class=\"contnr c0 trm rtl  \" ><div class=\"lbl c0 trm \" ><a class=\" txtu hbo\" target=\"_blank\" href=\"https://shebanq.ancient-data.org/hebrew/word?version=c&amp;id=1ALi\" title=\"Show this on SHEBANQ\"><span class=\"txtu hbo\">אַל־</span></a></div><div class='features'><span class=\"g_cons xft\" ><span class=\"f\">g_cons=</span>>L</span><span class=\"sp xft\" ><span class=\"f\">sp=</span>nega</span></div></div></div></div><div class=\"contnr c1  rtl  \" ><div class=\"lbl c1  \" ><span class=\"nd\">phrase</span></div><div class=\"children hor wrap rtl\"><div class=\"contnr c0 trm rtl  \" ><div class=\"lbl c0 trm \" ><a class=\" txtu hbo\" target=\"_blank\" href=\"https://shebanq.ancient-data.org/hebrew/word?version=c&amp;id=1NA\" title=\"Show this on SHEBANQ\"><span class=\"txtu hbo\">נָ֣א </span></a></div><div class='features'><span class=\"g_cons xft\" ><span class=\"f\">g_cons=</span>N></span><span class=\"sp xft\" ><span class=\"f\">sp=</span>intj</span></div></div></div></div><div class=\"contnr c1  rtl  \" ><div class=\"lbl c1  \" ><span class=\"nd\">phrase</span></div><div class=\"children hor wrap rtl\"><div class=\"contnr c0 trm rtl  \" ><div class=\"lbl c0 trm \" ><a class=\" txtu hbo\" target=\"_blank\" href=\"https://shebanq.ancient-data.org/hebrew/word?version=c&amp;id=1FJMv\" title=\"Show this on SHEBANQ\"><span class=\"txtu hbo\">יָשִׂ֣ים </span></a></div><div class='features'><span class=\"g_cons xft\" ><span class=\"f\">g_cons=</span>JFJM</span><span class=\"sp xft\" ><span class=\"f\">sp=</span>verb</span></div></div></div></div><div class=\"contnr c1  rtl  \" ><div class=\"lbl c1  \" ><span class=\"nd\">phrase</span></div><div class=\"children hor wrap rtl\"><div class=\"contnr c0 trm rtl  \" ><div class=\"lbl c0 trm \" ><a class=\" txtu hbo\" target=\"_blank\" href=\"https://shebanq.ancient-data.org/hebrew/word?version=c&amp;id=1ADWNn\" title=\"Show this on SHEBANQ\"><span class=\"txtu hbo\">אֲדֹנִ֣י׀ </span></a></div><div class='features'><span class=\"g_cons xft\" ><span class=\"f\">g_cons=</span>>DNJ</span><span class=\"sp xft\" ><span class=\"f\">sp=</span>subs</span></div></div></div></div><div class=\"contnr c1  rtl  \" ><div class=\"lbl c1  \" ><span class=\"nd\">phrase</span></div><div class=\"children hor wrap rtl\"><div class=\"contnr c0 trm rtl  \" ><div class=\"lbl c0 trm \" ><a class=\" txtu hbo\" target=\"_blank\" href=\"https://shebanq.ancient-data.org/hebrew/word?version=c&amp;id=1AT\" title=\"Show this on SHEBANQ\"><span class=\"txtu hbo\">אֶת־</span></a></div><div class='features'><span class=\"g_cons xft\" ><span class=\"f\">g_cons=</span>>T</span><span class=\"sp xft\" ><span class=\"f\">sp=</span>prep</span></div></div><div class=\"contnr c0 trm rtl  \" ><div class=\"lbl c0 trm \" ><a class=\" txtu hbo\" target=\"_blank\" href=\"https://shebanq.ancient-data.org/hebrew/word?version=c&amp;id=1LBn\" title=\"Show this on SHEBANQ\"><span class=\"txtu hbo\">לִבֹּ֡ו </span></a></div><div class='features'><span class=\"g_cons xft\" ><span class=\"f\">g_cons=</span>LBW</span><span class=\"sp xft\" ><span class=\"f\">sp=</span>subs</span></div></div></div></div><div class=\"contnr c1  rtl  \" ><div class=\"lbl c1  \" ><span class=\"nd\">phrase</span></div><div class=\"children hor wrap rtl\"><div class=\"contnr c0 trm rtl  \" ><div class=\"lbl c0 trm \" ><a class=\" txtu hbo\" target=\"_blank\" href=\"https://shebanq.ancient-data.org/hebrew/word?version=c&amp;id=1AL\" title=\"Show this on SHEBANQ\"><span class=\"txtu hbo\">אֶל־</span></a></div><div class='features'><span class=\"g_cons xft\" ><span class=\"f\">g_cons=</span>>L</span><span class=\"sp xft\" ><span class=\"f\">sp=</span>prep</span></div></div><div class=\"contnr c0 trm rtl  \" ><div class=\"lbl c0 trm \" ><a class=\" txtu hbo\" target=\"_blank\" href=\"https://shebanq.ancient-data.org/hebrew/word?version=c&amp;id=1AJCn\" title=\"Show this on SHEBANQ\"><span class=\"txtu hbo\">אִישׁ֩ </span></a></div><div class='features'><span class=\"g_cons xft\" ><span class=\"f\">g_cons=</span>>JC</span><span class=\"sp xft\" ><span class=\"f\">sp=</span>subs</span></div></div><div class=\"contnr c0 trm rtl  \" ><div class=\"lbl c0 trm \" ><a class=\" txtu hbo\" target=\"_blank\" href=\"https://shebanq.ancient-data.org/hebrew/word?version=c&amp;id=1H\" title=\"Show this on SHEBANQ\"><span class=\"txtu hbo\">הַ</span></a></div><div class='features'><span class=\"g_cons xft\" ><span class=\"f\">g_cons=</span>H</span><span class=\"sp xft\" ><span class=\"f\">sp=</span>art</span></div></div><div class=\"contnr c0 trm rtl  \" ><div class=\"lbl c0 trm \" ><a class=\" txtu hbo\" target=\"_blank\" href=\"https://shebanq.ancient-data.org/hebrew/word?version=c&amp;id=1BLJOLn\" title=\"Show this on SHEBANQ\"><span class=\"txtu hbo\">בְּלִיַּ֨עַל </span></a></div><div class='features'><span class=\"g_cons xft\" ><span class=\"f\">g_cons=</span>BLJ&lt;L</span><span class=\"sp xft\" ><span class=\"f\">sp=</span>subs</span></div></div><div class=\"contnr c0 trm rtl  \" ><div class=\"lbl c0 trm \" ><a class=\" txtu hbo\" target=\"_blank\" href=\"https://shebanq.ancient-data.org/hebrew/word?version=c&amp;id=1H\" title=\"Show this on SHEBANQ\"><span class=\"txtu hbo\">הַ</span></a></div><div class='features'><span class=\"g_cons xft\" ><span class=\"f\">g_cons=</span>H</span><span class=\"sp xft\" ><span class=\"f\">sp=</span>art</span></div></div><div class=\"contnr c0 trm rtl  \" ><div class=\"lbl c0 trm \" ><a class=\" txtu hbo\" target=\"_blank\" href=\"https://shebanq.ancient-data.org/hebrew/word?version=c&amp;id=1ZH\" title=\"Show this on SHEBANQ\"><span class=\"txtu hbo\">זֶּ֜ה </span></a></div><div class='features'><span class=\"g_cons xft\" ><span class=\"f\">g_cons=</span>ZH</span><span class=\"sp xft\" ><span class=\"f\">sp=</span>prde</span></div></div><div class=\"contnr c0 trm rtl  \" ><div class=\"lbl c0 trm \" ><a class=\" txtu hbo\" target=\"_blank\" href=\"https://shebanq.ancient-data.org/hebrew/word?version=c&amp;id=1OL\" title=\"Show this on SHEBANQ\"><span class=\"txtu hbo\">עַל־</span></a></div><div class='features'><span class=\"g_cons xft\" ><span class=\"f\">g_cons=</span>&lt;L</span><span class=\"sp xft\" ><span class=\"f\">sp=</span>prep</span></div></div><div class=\"contnr c0 trm rtl  \" ><div class=\"lbl c0 trm \" ><a class=\" txtu hbo\" target=\"_blank\" href=\"https://shebanq.ancient-data.org/hebrew/word?version=c&amp;id=1NBLiiin\" title=\"Show this on SHEBANQ\"><span class=\"txtu hbo\">נָבָ֗ל </span></a></div><div class='features'><span class=\"g_cons xft\" ><span class=\"f\">g_cons=</span>NBL</span><span class=\"sp xft\" ><span class=\"f\">sp=</span>nmpr</span></div></div></div></div></div></div></div>"
      ],
      "text/plain": [
       "<IPython.core.display.HTML object>"
      ]
     },
     "metadata": {},
     "output_type": "display_data"
    }
   ],
   "source": [
    "A.show(tuples, condensed=False, condenseType=\"clause\")"
   ]
  },
  {
   "cell_type": "markdown",
   "metadata": {},
   "source": [
    "#### we-x clauses with a non-qal verb\n",
    "\n",
    "If you look at the [clause types](https://etcbc.github.io/bhsa/features/hebrew/2017/typ.html)\n",
    "you see a lot of types indicating that the clause starts with `we`:\n",
    "\n",
    "```\n",
    "Way0\tWayyiqtol-null clause\n",
    "WayX\tWayyiqtol-X clause\n",
    "WIm0\tWe-imperative-null clause\n",
    "WImX\tWe-imperative-X clause\n",
    "WQt0\tWe-qatal-null clause\n",
    "WQtX\tWe-qatal-X clause\n",
    "WxI0\tWe-x-imperative-null clause\n",
    "WXIm\tWe-X-imperative clause\n",
    "WxIX\tWe-x-imperative-X clause\n",
    "WxQ0\tWe-x-qatal-null clause\n",
    "WXQt\tWe-X-qatal clause\n",
    "WxQX\tWe-x-qatal-X clause\n",
    "WxY0\tWe-x-yiqtol-null clause\n",
    "WXYq\tWe-X-yiqtol clause\n",
    "WxYX\tWe-x-yiqtol-X clause\n",
    "WYq0\tWe-yiqtol-null clause\n",
    "WYqX\tWe-yiqtol-X clause\n",
    "```\n",
    "\n",
    "We are interested in the `We-x` and `We-X` clauses, so all clauses whose `typ` starts with `Wx` or `WX`.\n",
    "\n",
    "There are quite a number of verb stems. By means of a regular expression we can pick everything except `qal`.\n",
    "\n",
    "In the\n",
    "[Python docs on regular expressions](https://docs.python.org/3/library/re.html#regular-expression-syntax)\n",
    "we see that we can check for that by `^(?:!qal)`."
   ]
  },
  {
   "cell_type": "code",
   "execution_count": 48,
   "metadata": {
    "ExecuteTime": {
     "end_time": "2018-05-24T08:01:53.494281Z",
     "start_time": "2018-05-24T08:01:52.486679Z"
    }
   },
   "outputs": [
    {
     "name": "stdout",
     "output_type": "stream",
     "text": [
      "  0.58s 3098 results\n"
     ]
    },
    {
     "data": {
      "text/html": [
       "<table><tr class=\"tf rtl\"><th class=\"tf rtl\">n</th><th class=\"tf rtl\">p</th><th class=\"tf rtl\">clause</th><th class=\"tf\">word</th></tr>\n",
       "<tr class=\"tf rtl\"><td class=\"tf rtl\">1</td><td class=\"tf rtl\"><span class=\"tfsechead ltr\"><a target=\"_blank\" href=\"https://shebanq.ancient-data.org/hebrew/text?book=Genesis&amp;chapter=1&amp;verse=20&amp;version=c&amp;mr=m&amp;qw=q&amp;tp=txt_p&amp;tr=hb&amp;wget=v&amp;qget=v&amp;nget=vt\" title=\"Show this on SHEBANQ\" sec=\"Genesis 1:20\">Genesis 1:20</a></span></td><td class=\"tf rtl\"><span class=\"rtl ubd\"><span class=\"plain rtl  hlbx\" ><span class=\"txtu hbo\">וְ</span><span class=\"txtu hbo\">עֹוף֙ </span><span class=\"plain rtl  hl\" ><span class=\"txtu hbo\">יְעֹופֵ֣ף </span></span><span class=\"txtu hbo\">עַל־</span><span class=\"txtu hbo\">הָ</span><span class=\"txtu hbo\">אָ֔רֶץ </span><span class=\"txtu hbo\">עַל־</span><span class=\"txtu hbo\">פְּנֵ֖י </span><span class=\"txtu hbo\">רְקִ֥יעַ </span><span class=\"txtu hbo\">הַ</span><span class=\"txtu hbo\">שָּׁמָֽיִם׃ </span></span></span></td><td class=\"tf rtl\"><span class=\"rtl ubd\"><span class=\"plain rtl  hl\" ><span class=\"txtu hbo\">יְעֹופֵ֣ף </span></span></span></td></tr>\n",
       "<tr class=\"tf rtl\"><td class=\"tf rtl\">2</td><td class=\"tf rtl\"><span class=\"tfsechead ltr\"><a target=\"_blank\" href=\"https://shebanq.ancient-data.org/hebrew/text?book=Genesis&amp;chapter=2&amp;verse=10&amp;version=c&amp;mr=m&amp;qw=q&amp;tp=txt_p&amp;tr=hb&amp;wget=v&amp;qget=v&amp;nget=vt\" title=\"Show this on SHEBANQ\" sec=\"Genesis 2:10\">Genesis 2:10</a></span></td><td class=\"tf rtl\"><span class=\"rtl ubd\"><span class=\"plain rtl  hlbx\" ><span class=\"txtu hbo\">וּ</span><span class=\"txtu hbo\">מִ</span><span class=\"txtu hbo\">שָּׁם֙ </span><span class=\"plain rtl  hl\" ><span class=\"txtu hbo\">יִפָּרֵ֔ד </span></span></span></span></td><td class=\"tf rtl\"><span class=\"rtl ubd\"><span class=\"plain rtl  hl\" ><span class=\"txtu hbo\">יִפָּרֵ֔ד </span></span></span></td></tr>\n",
       "<tr class=\"tf rtl\"><td class=\"tf rtl\">3</td><td class=\"tf rtl\"><span class=\"tfsechead ltr\"><a target=\"_blank\" href=\"https://shebanq.ancient-data.org/hebrew/text?book=Genesis&amp;chapter=2&amp;verse=25&amp;version=c&amp;mr=m&amp;qw=q&amp;tp=txt_p&amp;tr=hb&amp;wget=v&amp;qget=v&amp;nget=vt\" title=\"Show this on SHEBANQ\" sec=\"Genesis 2:25\">Genesis 2:25</a></span></td><td class=\"tf rtl\"><span class=\"rtl ubd\"><span class=\"plain rtl  hlbx\" ><span class=\"txtu hbo\">וְ</span><span class=\"txtu hbo\">לֹ֖א </span><span class=\"plain rtl  hl\" ><span class=\"txtu hbo\">יִתְבֹּשָֽׁשׁוּ׃ </span></span></span></span></td><td class=\"tf rtl\"><span class=\"rtl ubd\"><span class=\"plain rtl  hl\" ><span class=\"txtu hbo\">יִתְבֹּשָֽׁשׁוּ׃ </span></span></span></td></tr>\n",
       "<tr class=\"tf rtl\"><td class=\"tf rtl\">4</td><td class=\"tf rtl\"><span class=\"tfsechead ltr\"><a target=\"_blank\" href=\"https://shebanq.ancient-data.org/hebrew/text?book=Genesis&amp;chapter=3&amp;verse=18&amp;version=c&amp;mr=m&amp;qw=q&amp;tp=txt_p&amp;tr=hb&amp;wget=v&amp;qget=v&amp;nget=vt\" title=\"Show this on SHEBANQ\" sec=\"Genesis 3:18\">Genesis 3:18</a></span></td><td class=\"tf rtl\"><span class=\"rtl ubd\"><span class=\"plain rtl  hlbx\" ><span class=\"txtu hbo\">וְ</span><span class=\"txtu hbo\">קֹ֥וץ </span><span class=\"txtu hbo\">וְ</span><span class=\"txtu hbo\">דַרְדַּ֖ר </span><span class=\"plain rtl  hl\" ><span class=\"txtu hbo\">תַּצְמִ֣יחַֽ </span></span><span class=\"txtu hbo\">לָ֑ךְ </span></span></span></td><td class=\"tf rtl\"><span class=\"rtl ubd\"><span class=\"plain rtl  hl\" ><span class=\"txtu hbo\">תַּצְמִ֣יחַֽ </span></span></span></td></tr>\n",
       "<tr class=\"tf rtl\"><td class=\"tf rtl\">5</td><td class=\"tf rtl\"><span class=\"tfsechead ltr\"><a target=\"_blank\" href=\"https://shebanq.ancient-data.org/hebrew/text?book=Genesis&amp;chapter=4&amp;verse=4&amp;version=c&amp;mr=m&amp;qw=q&amp;tp=txt_p&amp;tr=hb&amp;wget=v&amp;qget=v&amp;nget=vt\" title=\"Show this on SHEBANQ\" sec=\"Genesis 4:4\">Genesis 4:4</a></span></td><td class=\"tf rtl\"><span class=\"rtl ubd\"><span class=\"plain rtl  hlbx\" ><span class=\"txtu hbo\">וְ</span><span class=\"plain rtl l \" ><span class=\"txtu hbo\">הֶ֨בֶל </span></span><span class=\"plain rtl  hl\" ><span class=\"txtu hbo\">הֵבִ֥יא </span></span><span class=\"plain rtl r \" ><span class=\"txtu hbo\">גַם־</span><span class=\"txtu hbo\">ה֛וּא </span></span><span class=\"txtu hbo\">מִ</span><span class=\"txtu hbo\">בְּכֹרֹ֥ות </span><span class=\"txtu hbo\">צֹאנֹ֖ו </span><span class=\"txtu hbo\">וּ</span><span class=\"txtu hbo\">מֵֽ</span><span class=\"txtu hbo\">חֶלְבֵהֶ֑ן </span></span></span></td><td class=\"tf rtl\"><span class=\"rtl ubd\"><span class=\"plain rtl  hl\" ><span class=\"txtu hbo\">הֵבִ֥יא </span></span></span></td></tr>\n",
       "<tr class=\"tf rtl\"><td class=\"tf rtl\">6</td><td class=\"tf rtl\"><span class=\"tfsechead ltr\"><a target=\"_blank\" href=\"https://shebanq.ancient-data.org/hebrew/text?book=Genesis&amp;chapter=4&amp;verse=7&amp;version=c&amp;mr=m&amp;qw=q&amp;tp=txt_p&amp;tr=hb&amp;wget=v&amp;qget=v&amp;nget=vt\" title=\"Show this on SHEBANQ\" sec=\"Genesis 4:7\">Genesis 4:7</a></span></td><td class=\"tf rtl\"><span class=\"rtl ubd\"><span class=\"plain rtl  hlbx\" ><span class=\"txtu hbo\">וְ</span><span class=\"txtu hbo\">אִם֙ </span><span class=\"txtu hbo\">לֹ֣א </span><span class=\"plain rtl  hl\" ><span class=\"txtu hbo\">תֵיטִ֔יב </span></span></span></span></td><td class=\"tf rtl\"><span class=\"rtl ubd\"><span class=\"plain rtl  hl\" ><span class=\"txtu hbo\">תֵיטִ֔יב </span></span></span></td></tr>\n",
       "<tr class=\"tf rtl\"><td class=\"tf rtl\">7</td><td class=\"tf rtl\"><span class=\"tfsechead ltr\"><a target=\"_blank\" href=\"https://shebanq.ancient-data.org/hebrew/text?book=Genesis&amp;chapter=4&amp;verse=14&amp;version=c&amp;mr=m&amp;qw=q&amp;tp=txt_p&amp;tr=hb&amp;wget=v&amp;qget=v&amp;nget=vt\" title=\"Show this on SHEBANQ\" sec=\"Genesis 4:14\">Genesis 4:14</a></span></td><td class=\"tf rtl\"><span class=\"rtl ubd\"><span class=\"plain rtl  hlbx\" ><span class=\"txtu hbo\">וּ</span><span class=\"txtu hbo\">מִ</span><span class=\"txtu hbo\">פָּנֶ֖יךָ </span><span class=\"plain rtl  hl\" ><span class=\"txtu hbo\">אֶסָּתֵ֑ר </span></span></span></span></td><td class=\"tf rtl\"><span class=\"rtl ubd\"><span class=\"plain rtl  hl\" ><span class=\"txtu hbo\">אֶסָּתֵ֑ר </span></span></span></td></tr>\n",
       "<tr class=\"tf rtl\"><td class=\"tf rtl\">8</td><td class=\"tf rtl\"><span class=\"tfsechead ltr\"><a target=\"_blank\" href=\"https://shebanq.ancient-data.org/hebrew/text?book=Genesis&amp;chapter=4&amp;verse=26&amp;version=c&amp;mr=m&amp;qw=q&amp;tp=txt_p&amp;tr=hb&amp;wget=v&amp;qget=v&amp;nget=vt\" title=\"Show this on SHEBANQ\" sec=\"Genesis 4:26\">Genesis 4:26</a></span></td><td class=\"tf rtl\"><span class=\"rtl ubd\"><span class=\"plain rtl  hlbx\" ><span class=\"txtu hbo\">וּ</span><span class=\"txtu hbo\">לְ</span><span class=\"txtu hbo\">שֵׁ֤ת </span><span class=\"txtu hbo\">גַּם־</span><span class=\"txtu hbo\">הוּא֙ </span><span class=\"plain rtl  hl\" ><span class=\"txtu hbo\">יֻלַּד־</span></span><span class=\"txtu hbo\">בֵּ֔ן </span></span></span></td><td class=\"tf rtl\"><span class=\"rtl ubd\"><span class=\"plain rtl  hl\" ><span class=\"txtu hbo\">יֻלַּד־</span></span></span></td></tr>\n",
       "<tr class=\"tf rtl\"><td class=\"tf rtl\">9</td><td class=\"tf rtl\"><span class=\"tfsechead ltr\"><a target=\"_blank\" href=\"https://shebanq.ancient-data.org/hebrew/text?book=Genesis&amp;chapter=6&amp;verse=1&amp;version=c&amp;mr=m&amp;qw=q&amp;tp=txt_p&amp;tr=hb&amp;wget=v&amp;qget=v&amp;nget=vt\" title=\"Show this on SHEBANQ\" sec=\"Genesis 6:1\">Genesis 6:1</a></span></td><td class=\"tf rtl\"><span class=\"rtl ubd\"><span class=\"plain rtl  hlbx\" ><span class=\"txtu hbo\">וּ</span><span class=\"txtu hbo\">בָנֹ֖ות </span><span class=\"plain rtl  hl\" ><span class=\"txtu hbo\">יֻלְּד֥וּ </span></span><span class=\"txtu hbo\">לָהֶֽם׃ </span></span></span></td><td class=\"tf rtl\"><span class=\"rtl ubd\"><span class=\"plain rtl  hl\" ><span class=\"txtu hbo\">יֻלְּד֥וּ </span></span></span></td></tr>\n",
       "<tr class=\"tf rtl\"><td class=\"tf rtl\">10</td><td class=\"tf rtl\"><span class=\"tfsechead ltr\"><a target=\"_blank\" href=\"https://shebanq.ancient-data.org/hebrew/text?book=Genesis&amp;chapter=6&amp;verse=12&amp;version=c&amp;mr=m&amp;qw=q&amp;tp=txt_p&amp;tr=hb&amp;wget=v&amp;qget=v&amp;nget=vt\" title=\"Show this on SHEBANQ\" sec=\"Genesis 6:12\">Genesis 6:12</a></span></td><td class=\"tf rtl\"><span class=\"rtl ubd\"><span class=\"plain rtl  hlbx\" ><span class=\"txtu hbo\">וְ</span><span class=\"txtu hbo\">הִנֵּ֣ה </span><span class=\"plain rtl  hl\" ><span class=\"txtu hbo\">נִשְׁחָ֑תָה </span></span></span></span></td><td class=\"tf rtl\"><span class=\"rtl ubd\"><span class=\"plain rtl  hl\" ><span class=\"txtu hbo\">נִשְׁחָ֑תָה </span></span></span></td></tr></table>"
      ],
      "text/plain": [
       "<IPython.core.display.HTML object>"
      ]
     },
     "metadata": {},
     "output_type": "display_data"
    }
   ],
   "source": [
    "query = \"\"\"\n",
    "clause typ~^W[xX]\n",
    "  word sp=verb vs#qal\n",
    "\"\"\"\n",
    "results = list(A.search(query))\n",
    "A.table(results, end=10)"
   ]
  },
  {
   "cell_type": "markdown",
   "metadata": {},
   "source": [
    "#### Find all glosses with a space"
   ]
  },
  {
   "cell_type": "code",
   "execution_count": 51,
   "metadata": {
    "ExecuteTime": {
     "end_time": "2018-05-24T08:02:00.113562Z",
     "start_time": "2018-05-24T08:02:00.028266Z"
    }
   },
   "outputs": [
    {
     "name": "stdout",
     "output_type": "stream",
     "text": [
      "  0.02s 406 results\n"
     ]
    },
    {
     "data": {
      "text/html": [
       "<table><tr class=\"tf rtl\"><th class=\"tf rtl\">n</th><th class=\"tf rtl\">p</th><th class=\"tf rtl\">lex</th></tr>\n",
       "<tr class=\"tf rtl\"><td class=\"tf rtl\">1</td><td class=\"tf rtl\"><span class=\"tfsechead ltr\"><a class=\" txtu hbo\" target=\"_blank\" href=\"https://shebanq.ancient-data.org/hebrew/word?version=c&amp;id=1THWMn\" title=\"Show this on SHEBANQ\"><span title=\"voc_lex_utf8\">תְּהֹום</span></a></span></td><td class=\"tf rtl\"><span class=\"rtl ubd\"></span></td></tr>\n",
       "<tr class=\"tf rtl\"><td class=\"tf rtl\">2</td><td class=\"tf rtl\"><span class=\"tfsechead ltr\"><a class=\" txtu hbo\" target=\"_blank\" href=\"https://shebanq.ancient-data.org/hebrew/word?version=c&amp;id=1TXTn\" title=\"Show this on SHEBANQ\"><span title=\"voc_lex_utf8\">תַּחַת</span></a></span></td><td class=\"tf rtl\"><span class=\"rtl ubd\"></span></td></tr>\n",
       "<tr class=\"tf rtl\"><td class=\"tf rtl\">3</td><td class=\"tf rtl\"><span class=\"tfsechead ltr\"><a class=\" txtu hbo\" target=\"_blank\" href=\"https://shebanq.ancient-data.org/hebrew/word?version=c&amp;id=1JBCHn\" title=\"Show this on SHEBANQ\"><span title=\"voc_lex_utf8\">יַבָּשָׁה</span></a></span></td><td class=\"tf rtl\"><span class=\"rtl ubd\"></span></td></tr>\n",
       "<tr class=\"tf rtl\"><td class=\"tf rtl\">4</td><td class=\"tf rtl\"><span class=\"tfsechead ltr\"><a class=\" txtu hbo\" target=\"_blank\" href=\"https://shebanq.ancient-data.org/hebrew/word?version=c&amp;id=1DCAn\" title=\"Show this on SHEBANQ\"><span title=\"voc_lex_utf8\">דֶּשֶׁא</span></a></span></td><td class=\"tf rtl\"><span class=\"rtl ubd\"></span></td></tr></table>"
      ],
      "text/plain": [
       "<IPython.core.display.HTML object>"
      ]
     },
     "metadata": {},
     "output_type": "display_data"
    }
   ],
   "source": [
    "query = r\"\"\"\n",
    "lex gloss~[\\ ] sp=subs\n",
    "\"\"\"\n",
    "results = list(A.search(query))\n",
    "A.table(results, start=1, end=4)"
   ]
  },
  {
   "cell_type": "code",
   "execution_count": 52,
   "metadata": {},
   "outputs": [
    {
     "data": {
      "text/html": [
       "<p><b>result</b> <i>1</i></p>"
      ],
      "text/plain": [
       "<IPython.core.display.HTML object>"
      ]
     },
     "metadata": {},
     "output_type": "display_data"
    },
    {
     "data": {
      "text/html": [
       "<div class=\"tfsechead rtl\"><a class=\" txtu hbo\" target=\"_blank\" href=\"https://shebanq.ancient-data.org/hebrew/word?version=c&amp;id=1THWMn\" title=\"Show this on SHEBANQ\"><span title=\"voc_lex_utf8\">תְּהֹום</span></a></div><div class=\"rtl children\"><div class=\"contnr c0 trm rtl  \" ><div class=\"lbl c0 trm \" ><span class=\"nd\">lex</span></div><div class='features'><span class=\"gloss xft\" ><span class=\"f\">gloss=</span>primeval ocean</span><span class=\"sp xft\" ><span class=\"f\">sp=</span>subs</span></div><div class=\"occs\"><a target=\"_blank\" href=\"https://shebanq.ancient-data.org/hebrew/text?book=Genesis&amp;chapter=1&amp;verse=2&amp;version=c&amp;mr=m&amp;qw=q&amp;tp=txt_p&amp;tr=hb&amp;wget=v&amp;qget=v&amp;nget=vt\" title=\"Show this on SHEBANQ\" sec=\"Genesis 1:2\">Genesis 1:2</a> - <a target=\"_blank\" href=\"https://shebanq.ancient-data.org/hebrew/text?book=Proverbia&amp;chapter=8&amp;verse=28&amp;version=c&amp;mr=m&amp;qw=q&amp;tp=txt_p&amp;tr=hb&amp;wget=v&amp;qget=v&amp;nget=vt\" title=\"Show this on SHEBANQ\" sec=\"Proverbs 8:28\">Proverbs 8:28</a></div></div></div>"
      ],
      "text/plain": [
       "<IPython.core.display.HTML object>"
      ]
     },
     "metadata": {},
     "output_type": "display_data"
    },
    {
     "data": {
      "text/html": [
       "<p><b>result</b> <i>2</i></p>"
      ],
      "text/plain": [
       "<IPython.core.display.HTML object>"
      ]
     },
     "metadata": {},
     "output_type": "display_data"
    },
    {
     "data": {
      "text/html": [
       "<div class=\"tfsechead rtl\"><a class=\" txtu hbo\" target=\"_blank\" href=\"https://shebanq.ancient-data.org/hebrew/word?version=c&amp;id=1TXTn\" title=\"Show this on SHEBANQ\"><span title=\"voc_lex_utf8\">תַּחַת</span></a></div><div class=\"rtl children\"><div class=\"contnr c0 trm rtl  \" ><div class=\"lbl c0 trm \" ><span class=\"nd\">lex</span></div><div class='features'><span class=\"gloss xft\" ><span class=\"f\">gloss=</span>under part</span><span class=\"sp xft\" ><span class=\"f\">sp=</span>subs</span></div><div class=\"occs\"><a target=\"_blank\" href=\"https://shebanq.ancient-data.org/hebrew/text?book=Genesis&amp;chapter=1&amp;verse=7&amp;version=c&amp;mr=m&amp;qw=q&amp;tp=txt_p&amp;tr=hb&amp;wget=v&amp;qget=v&amp;nget=vt\" title=\"Show this on SHEBANQ\" sec=\"Genesis 1:7\">Genesis 1:7</a> - <a target=\"_blank\" href=\"https://shebanq.ancient-data.org/hebrew/text?book=Chronica_II&amp;chapter=36&amp;verse=8&amp;version=c&amp;mr=m&amp;qw=q&amp;tp=txt_p&amp;tr=hb&amp;wget=v&amp;qget=v&amp;nget=vt\" title=\"Show this on SHEBANQ\" sec=\"2_Chronicles 36:8\">2_Chronicles 36:8</a></div></div></div>"
      ],
      "text/plain": [
       "<IPython.core.display.HTML object>"
      ]
     },
     "metadata": {},
     "output_type": "display_data"
    },
    {
     "data": {
      "text/html": [
       "<p><b>result</b> <i>3</i></p>"
      ],
      "text/plain": [
       "<IPython.core.display.HTML object>"
      ]
     },
     "metadata": {},
     "output_type": "display_data"
    },
    {
     "data": {
      "text/html": [
       "<div class=\"tfsechead rtl\"><a class=\" txtu hbo\" target=\"_blank\" href=\"https://shebanq.ancient-data.org/hebrew/word?version=c&amp;id=1JBCHn\" title=\"Show this on SHEBANQ\"><span title=\"voc_lex_utf8\">יַבָּשָׁה</span></a></div><div class=\"rtl children\"><div class=\"contnr c0 trm rtl  \" ><div class=\"lbl c0 trm \" ><span class=\"nd\">lex</span></div><div class='features'><span class=\"gloss xft\" ><span class=\"f\">gloss=</span>dry land</span><span class=\"sp xft\" ><span class=\"f\">sp=</span>subs</span></div><div class=\"occs\"><a target=\"_blank\" href=\"https://shebanq.ancient-data.org/hebrew/text?book=Genesis&amp;chapter=1&amp;verse=9&amp;version=c&amp;mr=m&amp;qw=q&amp;tp=txt_p&amp;tr=hb&amp;wget=v&amp;qget=v&amp;nget=vt\" title=\"Show this on SHEBANQ\" sec=\"Genesis 1:9\">Genesis 1:9</a> - <a target=\"_blank\" href=\"https://shebanq.ancient-data.org/hebrew/text?book=Nehemia&amp;chapter=9&amp;verse=11&amp;version=c&amp;mr=m&amp;qw=q&amp;tp=txt_p&amp;tr=hb&amp;wget=v&amp;qget=v&amp;nget=vt\" title=\"Show this on SHEBANQ\" sec=\"Nehemiah 9:11\">Nehemiah 9:11</a></div></div></div>"
      ],
      "text/plain": [
       "<IPython.core.display.HTML object>"
      ]
     },
     "metadata": {},
     "output_type": "display_data"
    },
    {
     "data": {
      "text/html": [
       "<p><b>result</b> <i>4</i></p>"
      ],
      "text/plain": [
       "<IPython.core.display.HTML object>"
      ]
     },
     "metadata": {},
     "output_type": "display_data"
    },
    {
     "data": {
      "text/html": [
       "<div class=\"tfsechead rtl\"><a class=\" txtu hbo\" target=\"_blank\" href=\"https://shebanq.ancient-data.org/hebrew/word?version=c&amp;id=1DCAn\" title=\"Show this on SHEBANQ\"><span title=\"voc_lex_utf8\">דֶּשֶׁא</span></a></div><div class=\"rtl children\"><div class=\"contnr c0 trm rtl  \" ><div class=\"lbl c0 trm \" ><span class=\"nd\">lex</span></div><div class='features'><span class=\"gloss xft\" ><span class=\"f\">gloss=</span>young grass</span><span class=\"sp xft\" ><span class=\"f\">sp=</span>subs</span></div><div class=\"occs\"><a target=\"_blank\" href=\"https://shebanq.ancient-data.org/hebrew/text?book=Genesis&amp;chapter=1&amp;verse=11&amp;version=c&amp;mr=m&amp;qw=q&amp;tp=txt_p&amp;tr=hb&amp;wget=v&amp;qget=v&amp;nget=vt\" title=\"Show this on SHEBANQ\" sec=\"Genesis 1:11\">Genesis 1:11</a> - <a target=\"_blank\" href=\"https://shebanq.ancient-data.org/hebrew/text?book=Proverbia&amp;chapter=27&amp;verse=25&amp;version=c&amp;mr=m&amp;qw=q&amp;tp=txt_p&amp;tr=hb&amp;wget=v&amp;qget=v&amp;nget=vt\" title=\"Show this on SHEBANQ\" sec=\"Proverbs 27:25\">Proverbs 27:25</a></div></div></div>"
      ],
      "text/plain": [
       "<IPython.core.display.HTML object>"
      ]
     },
     "metadata": {},
     "output_type": "display_data"
    }
   ],
   "source": [
    "A.show(results, condensed=False, start=1, end=4)"
   ]
  },
  {
   "cell_type": "markdown",
   "metadata": {},
   "source": [
    "## Custom sets\n",
    "\n",
    "Eventually you reach cases where search templates are just not up to it.\n",
    "\n",
    "Examples:\n",
    "\n",
    "* What if you want to restrict a search to sentences that do not contain infrequent words?\n",
    "* It is fairly tricky to look for gapped phrases. What if you look for complex patterns, but only in\n",
    "  gapped phrases?\n",
    "\n",
    "Before you dive head over heels into hand coding, here is an intermediate solution.\n",
    "You can create node sets by means of search, and then use those node sets in other search templates\n",
    "at the places where you have node types."
   ]
  },
  {
   "cell_type": "markdown",
   "metadata": {},
   "source": [
    "You can make custom sets with arbitrary nodes, not all of the same type.\n",
    "Let's collect all non-word, non-lex nodes that contain fairly frequent words only.\n",
    "We also collect a set of nodes that contain highly infrequent words.\n",
    "\n",
    "There is a feature for that, [rank_lex](https://etcbc.github.io/bhsa/features/hebrew/2017/rank_lex.html).\n",
    "Since we have not loaded it, we do so now."
   ]
  },
  {
   "cell_type": "code",
   "execution_count": 53,
   "metadata": {
    "ExecuteTime": {
     "end_time": "2018-05-24T08:05:53.690573Z",
     "start_time": "2018-05-24T08:05:53.592190Z"
    }
   },
   "outputs": [],
   "source": [
    "TF.load(\"rank_lex\", add=True)"
   ]
  },
  {
   "cell_type": "markdown",
   "metadata": {},
   "source": [
    "We set a threshold `COMMON_RANK`, and pick all objects with only high ranking words, their ranks between 0 and `COMMON_RANK`.\n",
    "\n",
    "We set a threshold `RARE_RANK`, and pick all objects that contain at least one low ranking word, its rank higher than `RARE_RANK`."
   ]
  },
  {
   "cell_type": "code",
   "execution_count": 54,
   "metadata": {
    "ExecuteTime": {
     "end_time": "2018-05-24T08:06:08.187551Z",
     "start_time": "2018-05-24T08:06:00.209985Z"
    }
   },
   "outputs": [
    {
     "name": "stdout",
     "output_type": "stream",
     "text": [
      "669186 members in set frequent\n",
      "424804 members in set infrequent\n"
     ]
    }
   ],
   "source": [
    "COMMON_RANK = 100\n",
    "RARE_RANK = 500\n",
    "\n",
    "frequent = set()\n",
    "infrequent = set()\n",
    "\n",
    "for n in N.walk():\n",
    "    nTp = F.otype.v(n)\n",
    "    if nTp == \"lex\":\n",
    "        continue\n",
    "    if nTp == \"word\":\n",
    "        ranks = [F.rank_lex.v(n)]\n",
    "    else:\n",
    "        ranks = [F.rank_lex.v(w) for w in L.d(n, otype=\"word\")]\n",
    "    maxRank = max(ranks)\n",
    "    minRank = min(ranks)\n",
    "    if maxRank < COMMON_RANK:\n",
    "        frequent.add(n)\n",
    "    if maxRank > RARE_RANK:\n",
    "        infrequent.add(n)\n",
    "\n",
    "print(f\"{len(frequent):>6} members in set frequent\")\n",
    "print(f\"{len(infrequent):>6} members in set infrequent\")"
   ]
  },
  {
   "cell_type": "markdown",
   "metadata": {},
   "source": [
    "Now we can do all kinds of searches within the domain of `frequent` and `infrequent` things.\n",
    "\n",
    "We give the names to all the sets and put them in a dictionary."
   ]
  },
  {
   "cell_type": "code",
   "execution_count": 55,
   "metadata": {
    "ExecuteTime": {
     "end_time": "2018-05-24T08:07:11.688552Z",
     "start_time": "2018-05-24T08:07:11.685127Z"
    }
   },
   "outputs": [],
   "source": [
    "customSets = dict(\n",
    "    frequent=frequent,\n",
    "    infrequent=infrequent,\n",
    ")"
   ]
  },
  {
   "cell_type": "markdown",
   "metadata": {},
   "source": [
    "Then we pass it to `A.search()` with a query to look for sentences with a rare word that have a clause with only frequent words:"
   ]
  },
  {
   "cell_type": "code",
   "execution_count": 56,
   "metadata": {},
   "outputs": [
    {
     "name": "stdout",
     "output_type": "stream",
     "text": [
      "  1.25s 4301 results\n"
     ]
    },
    {
     "data": {
      "text/html": [
       "<table><tr class=\"tf rtl\"><th class=\"tf rtl\">n</th><th class=\"tf rtl\">p</th><th class=\"tf rtl\">sentence</th><th class=\"tf\">clause</th></tr>\n",
       "<tr class=\"tf rtl\"><td class=\"tf rtl\">5</td><td class=\"tf rtl\"><span class=\"tfsechead ltr\"><a target=\"_blank\" href=\"https://shebanq.ancient-data.org/hebrew/text?book=Genesis&amp;chapter=1&amp;verse=25&amp;version=c&amp;mr=m&amp;qw=q&amp;tp=txt_p&amp;tr=hb&amp;wget=v&amp;qget=v&amp;nget=vt\" title=\"Show this on SHEBANQ\" sec=\"Genesis 1:25\">Genesis 1:25</a></span></td><td class=\"tf rtl\"><span class=\"rtl ubd\"><span class=\"plain rtl  hlbx\" ><span class=\"plain rtl  hlbx\" ><span class=\"txtu hbo\">וַ</span><span class=\"txtu hbo\">יַּ֥רְא </span><span class=\"txtu hbo\">אֱלֹהִ֖ים </span></span><span class=\"txtu hbo\">כִּי־</span><span class=\"txtu hbo\">טֹֽוב׃ </span></span></span></td><td class=\"tf rtl\"><span class=\"rtl ubd\"><span class=\"plain rtl  hlbx\" ><span class=\"txtu hbo\">וַ</span><span class=\"txtu hbo\">יַּ֥רְא </span><span class=\"txtu hbo\">אֱלֹהִ֖ים </span></span></span></td></tr>\n",
       "<tr class=\"tf rtl\"><td class=\"tf rtl\">6</td><td class=\"tf rtl\"><span class=\"tfsechead ltr\"><a target=\"_blank\" href=\"https://shebanq.ancient-data.org/hebrew/text?book=Genesis&amp;chapter=1&amp;verse=29&amp;version=c&amp;mr=m&amp;qw=q&amp;tp=txt_p&amp;tr=hb&amp;wget=v&amp;qget=v&amp;nget=vt\" title=\"Show this on SHEBANQ\" sec=\"Genesis 1:29\">Genesis 1:29</a></span></td><td class=\"tf rtl\"><span class=\"rtl ubd\"><span class=\"plain rtl l hlbx\" ><span class=\"plain rtl l \" ><span class=\"txtu hbo\">הִנֵּה֩ </span><span class=\"txtu hbo\">נָתַ֨תִּי </span><span class=\"txtu hbo\">לָכֶ֜ם </span><span class=\"plain rtl l \" ><span class=\"txtu hbo\">אֶת־</span><span class=\"txtu hbo\">כָּל־</span><span class=\"txtu hbo\">עֵ֣שֶׂב׀ </span></span></span><span class=\"txtu hbo\">זֹרֵ֣עַ </span><span class=\"txtu hbo\">זֶ֗רַע </span><span class=\"plain rtl  hlbx\" ><span class=\"txtu hbo\">אֲשֶׁר֙ </span><span class=\"txtu hbo\">עַל־</span><span class=\"txtu hbo\">פְּנֵ֣י </span><span class=\"txtu hbo\">כָל־</span><span class=\"txtu hbo\">הָ</span><span class=\"txtu hbo\">אָ֔רֶץ </span></span><span class=\"plain rtl r \" ><span class=\"plain rtl r \" ><span class=\"txtu hbo\">וְ</span><span class=\"txtu hbo\">אֶת־</span><span class=\"txtu hbo\">כָּל־</span><span class=\"txtu hbo\">הָ</span><span class=\"txtu hbo\">עֵ֛ץ </span></span></span><span class=\"txtu hbo\">אֲשֶׁר־</span><span class=\"txtu hbo\">בֹּ֥ו </span><span class=\"txtu hbo\">פְרִי־</span><span class=\"txtu hbo\">עֵ֖ץ </span><span class=\"txtu hbo\">זֹרֵ֣עַ </span><span class=\"txtu hbo\">זָ֑רַע </span></span><span class=\"plain rtl r hlbx\" ><span class=\"plain rtl l \" ><span class=\"txtu hbo\">וּֽ</span><span class=\"txtu hbo\">לְ</span><span class=\"txtu hbo\">כָל־</span><span class=\"txtu hbo\">חַיַּ֣ת </span><span class=\"txtu hbo\">הָ֠</span><span class=\"txtu hbo\">אָרֶץ </span><span class=\"txtu hbo\">וּ</span><span class=\"txtu hbo\">לְ</span><span class=\"txtu hbo\">כָל־</span><span class=\"txtu hbo\">עֹ֨וף </span><span class=\"txtu hbo\">הַ</span><span class=\"txtu hbo\">שָּׁמַ֜יִם </span><span class=\"txtu hbo\">וּ</span><span class=\"txtu hbo\">לְ</span><span class=\"txtu hbo\">כֹ֣ל׀ </span><span class=\"txtu hbo\">רֹומֵ֣שׂ </span><span class=\"txtu hbo\">עַל־</span><span class=\"txtu hbo\">הָ</span><span class=\"txtu hbo\">אָ֗רֶץ </span></span><span class=\"txtu hbo\">אֲשֶׁר־</span><span class=\"txtu hbo\">בֹּו֙ </span><span class=\"txtu hbo\">נֶ֣פֶשׁ </span><span class=\"txtu hbo\">חַיָּ֔ה </span><span class=\"plain rtl r \" ><span class=\"txtu hbo\">אֶת־</span><span class=\"txtu hbo\">כָּל־</span><span class=\"txtu hbo\">יֶ֥רֶק </span><span class=\"txtu hbo\">עֵ֖שֶׂב </span><span class=\"txtu hbo\">לְ</span><span class=\"txtu hbo\">אָכְלָ֑ה </span></span></span></span></td><td class=\"tf rtl\"><span class=\"rtl ubd\"><span class=\"plain rtl  hlbx\" ><span class=\"txtu hbo\">אֲשֶׁר֙ </span><span class=\"txtu hbo\">עַל־</span><span class=\"txtu hbo\">פְּנֵ֣י </span><span class=\"txtu hbo\">כָל־</span><span class=\"txtu hbo\">הָ</span><span class=\"txtu hbo\">אָ֔רֶץ </span></span></span></td></tr>\n",
       "<tr class=\"tf rtl\"><td class=\"tf rtl\">7</td><td class=\"tf rtl\"><span class=\"tfsechead ltr\"><a target=\"_blank\" href=\"https://shebanq.ancient-data.org/hebrew/text?book=Genesis&amp;chapter=2&amp;verse=2&amp;version=c&amp;mr=m&amp;qw=q&amp;tp=txt_p&amp;tr=hb&amp;wget=v&amp;qget=v&amp;nget=vt\" title=\"Show this on SHEBANQ\" sec=\"Genesis 2:2\">Genesis 2:2</a></span></td><td class=\"tf rtl\"><span class=\"rtl ubd\"><span class=\"plain rtl  hlbx\" ><span class=\"txtu hbo\">וַ</span><span class=\"txtu hbo\">יְכַ֤ל </span><span class=\"txtu hbo\">אֱלֹהִים֙ </span><span class=\"txtu hbo\">בַּ</span><span class=\"txtu hbo\">יֹּ֣ום </span><span class=\"txtu hbo\">הַ</span><span class=\"txtu hbo\">שְּׁבִיעִ֔י </span><span class=\"txtu hbo\">מְלַאכְתֹּ֖ו </span><span class=\"plain rtl  hlbx\" ><span class=\"txtu hbo\">אֲשֶׁ֣ר </span><span class=\"txtu hbo\">עָשָׂ֑ה </span></span></span></span></td><td class=\"tf rtl\"><span class=\"rtl ubd\"><span class=\"plain rtl  hlbx\" ><span class=\"txtu hbo\">אֲשֶׁ֣ר </span><span class=\"txtu hbo\">עָשָׂ֑ה </span></span></span></td></tr>\n",
       "<tr class=\"tf rtl\"><td class=\"tf rtl\">8</td><td class=\"tf rtl\"><span class=\"tfsechead ltr\"><a target=\"_blank\" href=\"https://shebanq.ancient-data.org/hebrew/text?book=Genesis&amp;chapter=2&amp;verse=2&amp;version=c&amp;mr=m&amp;qw=q&amp;tp=txt_p&amp;tr=hb&amp;wget=v&amp;qget=v&amp;nget=vt\" title=\"Show this on SHEBANQ\" sec=\"Genesis 2:2\">Genesis 2:2</a></span></td><td class=\"tf rtl\"><span class=\"rtl ubd\"><span class=\"plain rtl  hlbx\" ><span class=\"txtu hbo\">וַ</span><span class=\"txtu hbo\">יִּשְׁבֹּת֙ </span><span class=\"txtu hbo\">בַּ</span><span class=\"txtu hbo\">יֹּ֣ום </span><span class=\"txtu hbo\">הַ</span><span class=\"txtu hbo\">שְּׁבִיעִ֔י </span><span class=\"txtu hbo\">מִ</span><span class=\"txtu hbo\">כָּל־</span><span class=\"txtu hbo\">מְלַאכְתֹּ֖ו </span><span class=\"plain rtl  hlbx\" ><span class=\"txtu hbo\">אֲשֶׁ֥ר </span><span class=\"txtu hbo\">עָשָֽׂה׃ </span></span></span></span></td><td class=\"tf rtl\"><span class=\"rtl ubd\"><span class=\"plain rtl  hlbx\" ><span class=\"txtu hbo\">אֲשֶׁ֥ר </span><span class=\"txtu hbo\">עָשָֽׂה׃ </span></span></span></td></tr>\n",
       "<tr class=\"tf rtl\"><td class=\"tf rtl\">9</td><td class=\"tf rtl\"><span class=\"tfsechead ltr\"><a target=\"_blank\" href=\"https://shebanq.ancient-data.org/hebrew/text?book=Genesis&amp;chapter=2&amp;verse=3&amp;version=c&amp;mr=m&amp;qw=q&amp;tp=txt_p&amp;tr=hb&amp;wget=v&amp;qget=v&amp;nget=vt\" title=\"Show this on SHEBANQ\" sec=\"Genesis 2:3\">Genesis 2:3</a></span></td><td class=\"tf rtl\"><span class=\"rtl ubd\"><span class=\"plain rtl  hlbx\" ><span class=\"txtu hbo\">כִּ֣י </span><span class=\"txtu hbo\">בֹ֤ו </span><span class=\"txtu hbo\">שָׁבַת֙ </span><span class=\"txtu hbo\">מִ</span><span class=\"txtu hbo\">כָּל־</span><span class=\"txtu hbo\">מְלַאכְתֹּ֔ו </span><span class=\"txtu hbo\">אֲשֶׁר־</span><span class=\"txtu hbo\">בָּרָ֥א </span><span class=\"txtu hbo\">אֱלֹהִ֖ים </span><span class=\"plain rtl  hlbx\" ><span class=\"txtu hbo\">לַ</span><span class=\"txtu hbo\">עֲשֹֽׂות׃ פ </span></span></span></span></td><td class=\"tf rtl\"><span class=\"rtl ubd\"><span class=\"plain rtl  hlbx\" ><span class=\"txtu hbo\">לַ</span><span class=\"txtu hbo\">עֲשֹֽׂות׃ פ </span></span></span></td></tr>\n",
       "<tr class=\"tf rtl\"><td class=\"tf rtl\">10</td><td class=\"tf rtl\"><span class=\"tfsechead ltr\"><a target=\"_blank\" href=\"https://shebanq.ancient-data.org/hebrew/text?book=Genesis&amp;chapter=2&amp;verse=4&amp;version=c&amp;mr=m&amp;qw=q&amp;tp=txt_p&amp;tr=hb&amp;wget=v&amp;qget=v&amp;nget=vt\" title=\"Show this on SHEBANQ\" sec=\"Genesis 2:4\">Genesis 2:4</a></span></td><td class=\"tf rtl\"><span class=\"rtl ubd\"><span class=\"plain rtl l hlbx\" ><span class=\"plain rtl  hlbx\" ><span class=\"txtu hbo\">בְּ</span><span class=\"txtu hbo\">יֹ֗ום </span></span><span class=\"txtu hbo\">עֲשֹׂ֛ות </span><span class=\"txtu hbo\">יְהוָ֥ה </span><span class=\"txtu hbo\">אֱלֹהִ֖ים </span><span class=\"txtu hbo\">אֶ֥רֶץ </span><span class=\"txtu hbo\">וְ</span><span class=\"txtu hbo\">שָׁמָֽיִם׃ </span></span><span class=\"plain rtl r hlbx\" ><span class=\"txtu hbo\">וַ</span><span class=\"txtu hbo\">יִּיצֶר֩ </span><span class=\"txtu hbo\">יְהוָ֨ה </span><span class=\"txtu hbo\">אֱלֹהִ֜ים </span><span class=\"txtu hbo\">אֶת־</span><span class=\"txtu hbo\">הָֽ</span><span class=\"txtu hbo\">אָדָ֗ם </span><span class=\"txtu hbo\">עָפָר֙ </span><span class=\"txtu hbo\">מִן־</span><span class=\"txtu hbo\">הָ֣</span><span class=\"txtu hbo\">אֲדָמָ֔ה </span></span></span></td><td class=\"tf rtl\"><span class=\"rtl ubd\"><span class=\"plain rtl  hlbx\" ><span class=\"txtu hbo\">בְּ</span><span class=\"txtu hbo\">יֹ֗ום </span></span></span></td></tr></table>"
      ],
      "text/plain": [
       "<IPython.core.display.HTML object>"
      ]
     },
     "metadata": {},
     "output_type": "display_data"
    }
   ],
   "source": [
    "query = \"\"\"\n",
    "infrequent otype=sentence\n",
    "  frequent otype=clause\n",
    "\"\"\"\n",
    "results = A.search(query, sets=customSets)\n",
    "A.table(results, start=5, end=10)"
   ]
  },
  {
   "cell_type": "markdown",
   "metadata": {},
   "source": [
    "We are going to show this really nice:\n",
    "\n",
    "* we add the feature `rank_lex` to the display\n",
    "* we suppress the other features\n",
    "* we color the rare words and the common words differently"
   ]
  },
  {
   "cell_type": "code",
   "execution_count": 57,
   "metadata": {
    "ExecuteTime": {
     "end_time": "2018-05-24T08:07:22.498973Z",
     "start_time": "2018-05-24T08:07:22.065761Z"
    }
   },
   "outputs": [
    {
     "data": {
      "text/html": [
       "<p><b>result</b> <i>6</i></p>"
      ],
      "text/plain": [
       "<IPython.core.display.HTML object>"
      ]
     },
     "metadata": {},
     "output_type": "display_data"
    },
    {
     "data": {
      "text/html": [
       "<div class=\"tfsechead rtl\"><a target=\"_blank\" href=\"https://shebanq.ancient-data.org/hebrew/text?book=Genesis&amp;chapter=1&amp;verse=29&amp;version=c&amp;mr=m&amp;qw=q&amp;tp=txt_p&amp;tr=hb&amp;wget=v&amp;qget=v&amp;nget=vt\" title=\"Show this on SHEBANQ\" sec=\"Genesis 1:29\">Genesis 1:29</a></div><div class=\"rtl children\"><div class=\"contnr c3  rtl  \" ><div class=\"lbl c3  \" ><span class=\"nd\">verse</span></div><div class=\"children hor wrap rtl\"><div class=\"contnr c2  rtl  \" ><div class=\"lbl c2  \" ><span class=\"nd\">sentence</span></div><div class=\"children hor wrap rtl\"><div class=\"contnr c2  rtl  \" ><div class=\"lbl c2  \" ><span class=\"nd\">clause</span></div><div class=\"children hor wrap rtl\"><div class=\"contnr c1  rtl  \" ><div class=\"lbl c1  \" ><span class=\"nd\">phrase</span></div><div class=\"children hor wrap rtl\"><div class=\"contnr c0 trm rtl  \" ><div class=\"lbl c0 trm \" ><a class=\" txtu hbo\" target=\"_blank\" href=\"https://shebanq.ancient-data.org/hebrew/word?version=c&amp;id=1W\" title=\"Show this on SHEBANQ\"><span class=\"txtu hbo\">וַ</span></a></div><div class='features'><span class=\"rank_lex xft\" ><span class=\"f\">rank_lex=</span></span></div></div></div></div><div class=\"contnr c1  rtl  \" ><div class=\"lbl c1  \" ><span class=\"nd\">phrase</span></div><div class=\"children hor wrap rtl\"><div class=\"contnr c0 trm rtl  \" ><div class=\"lbl c0 trm \" ><a class=\" txtu hbo\" target=\"_blank\" href=\"https://shebanq.ancient-data.org/hebrew/word?version=c&amp;id=1AMRv\" title=\"Show this on SHEBANQ\"><span class=\"txtu hbo\">יֹּ֣אמֶר </span></a></div><div class='features'><span class=\"rank_lex xft\" ><span class=\"f\">rank_lex=</span>11</span></div></div></div></div><div class=\"contnr c1  rtl  \" ><div class=\"lbl c1  \" ><span class=\"nd\">phrase</span></div><div class=\"children hor wrap rtl\"><div class=\"contnr c0 trm rtl  \" ><div class=\"lbl c0 trm \" ><a class=\" txtu hbo\" target=\"_blank\" href=\"https://shebanq.ancient-data.org/hebrew/word?version=c&amp;id=1ALHJMn\" title=\"Show this on SHEBANQ\"><span class=\"txtu hbo\">אֱלֹהִ֗ים </span></a></div><div class='features'><span class=\"rank_lex xft\" ><span class=\"f\">rank_lex=</span>18</span></div></div></div></div></div></div></div></div><div class=\"contnr c2  rtl l hl\"  style=\"background-color: magenta;\" ><div class=\"lbl c2  hl\"  style=\"background-color: magenta;\" ><span class=\"nd\">sentence</span></div><div class=\"children hor wrap rtl\"><div class=\"contnr c2  rtl l \" ><div class=\"lbl c2  \" ><span class=\"nd\">clause</span></div><div class=\"children hor wrap rtl\"><div class=\"contnr c1  rtl  \" ><div class=\"lbl c1  \" ><span class=\"nd\">phrase</span></div><div class=\"children hor wrap rtl\"><div class=\"contnr c0 trm rtl  \" ><div class=\"lbl c0 trm \" ><a class=\" txtu hbo\" target=\"_blank\" href=\"https://shebanq.ancient-data.org/hebrew/word?version=c&amp;id=1HNH\" title=\"Show this on SHEBANQ\"><span class=\"txtu hbo\">הִנֵּה֩ </span></a></div><div class='features'><span class=\"rank_lex xft\" ><span class=\"f\">rank_lex=</span>44</span></div></div></div></div><div class=\"contnr c1  rtl  \" ><div class=\"lbl c1  \" ><span class=\"nd\">phrase</span></div><div class=\"children hor wrap rtl\"><div class=\"contnr c0 trm rtl  \" ><div class=\"lbl c0 trm \" ><a class=\" txtu hbo\" target=\"_blank\" href=\"https://shebanq.ancient-data.org/hebrew/word?version=c&amp;id=1NTNv\" title=\"Show this on SHEBANQ\"><span class=\"txtu hbo\">נָתַ֨תִּי </span></a></div><div class='features'><span class=\"rank_lex xft\" ><span class=\"f\">rank_lex=</span>27</span></div></div></div></div><div class=\"contnr c1  rtl  \" ><div class=\"lbl c1  \" ><span class=\"nd\">phrase</span></div><div class=\"children hor wrap rtl\"><div class=\"contnr c0 trm rtl  \" ><div class=\"lbl c0 trm \" ><a class=\" txtu hbo\" target=\"_blank\" href=\"https://shebanq.ancient-data.org/hebrew/word?version=c&amp;id=1L\" title=\"Show this on SHEBANQ\"><span class=\"txtu hbo\">לָכֶ֜ם </span></a></div><div class='features'><span class=\"rank_lex xft\" ><span class=\"f\">rank_lex=</span>2</span></div></div></div></div><div class=\"contnr c1  rtl l \" ><div class=\"lbl c1  \" ><span class=\"nd\">phrase</span></div><div class=\"children hor wrap rtl\"><div class=\"contnr c0 trm rtl  \" ><div class=\"lbl c0 trm \" ><a class=\" txtu hbo\" target=\"_blank\" href=\"https://shebanq.ancient-data.org/hebrew/word?version=c&amp;id=1AT\" title=\"Show this on SHEBANQ\"><span class=\"txtu hbo\">אֶת־</span></a></div><div class='features'><span class=\"rank_lex xft\" ><span class=\"f\">rank_lex=</span>4</span></div></div><div class=\"contnr c0 trm rtl  \" ><div class=\"lbl c0 trm \" ><a class=\" txtu hbo\" target=\"_blank\" href=\"https://shebanq.ancient-data.org/hebrew/word?version=c&amp;id=1KLn\" title=\"Show this on SHEBANQ\"><span class=\"txtu hbo\">כָּל־</span></a></div><div class='features'><span class=\"rank_lex xft\" ><span class=\"f\">rank_lex=</span>10</span></div></div><div class=\"contnr c0 trm rtl  hl\"  style=\"background-color: magenta;\" ><div class=\"lbl c0 trm hl\"  style=\"background-color: magenta;\" ><a class=\" txtu hbo\" target=\"_blank\" href=\"https://shebanq.ancient-data.org/hebrew/word?version=c&amp;id=1OFBn\" title=\"Show this on SHEBANQ\"><span class=\"txtu hbo\">עֵ֣שֶׂב׀ </span></a></div><div class='features'><span class=\"rank_lex xft\" ><span class=\"f\">rank_lex=</span>1030</span></div></div></div></div></div></div><div class=\"contnr c2  rtl  \" ><div class=\"lbl c2  \" ><span class=\"nd\">clause</span></div><div class=\"children hor wrap rtl\"><div class=\"contnr c1  rtl  \" ><div class=\"lbl c1  \" ><span class=\"nd\">phrase</span></div><div class=\"children hor wrap rtl\"><div class=\"contnr c0 trm rtl  hl\"  style=\"background-color: magenta;\" ><div class=\"lbl c0 trm hl\"  style=\"background-color: magenta;\" ><a class=\" txtu hbo\" target=\"_blank\" href=\"https://shebanq.ancient-data.org/hebrew/word?version=c&amp;id=1ZROv\" title=\"Show this on SHEBANQ\"><span class=\"txtu hbo\">זֹרֵ֣עַ </span></a></div><div class='features'><span class=\"rank_lex xft\" ><span class=\"f\">rank_lex=</span>657</span></div></div></div></div><div class=\"contnr c1  rtl  \" ><div class=\"lbl c1  \" ><span class=\"nd\">phrase</span></div><div class=\"children hor wrap rtl\"><div class=\"contnr c0 trm rtl  \" ><div class=\"lbl c0 trm \" ><a class=\" txtu hbo\" target=\"_blank\" href=\"https://shebanq.ancient-data.org/hebrew/word?version=c&amp;id=1ZROn\" title=\"Show this on SHEBANQ\"><span class=\"txtu hbo\">זֶ֗רַע </span></a></div><div class='features'><span class=\"rank_lex xft\" ><span class=\"f\">rank_lex=</span>209</span></div></div></div></div></div></div><div class=\"contnr c2  rtl  hl\"  style=\"background-color: cyan;\" ><div class=\"lbl c2  hl\"  style=\"background-color: cyan;\" ><span class=\"nd\">clause</span></div><div class=\"children hor wrap rtl\"><div class=\"contnr c1  rtl  \" ><div class=\"lbl c1  \" ><span class=\"nd\">phrase</span></div><div class=\"children hor wrap rtl\"><div class=\"contnr c0 trm rtl  hl\"  style=\"background-color: cyan;\" ><div class=\"lbl c0 trm hl\"  style=\"background-color: cyan;\" ><a class=\" txtu hbo\" target=\"_blank\" href=\"https://shebanq.ancient-data.org/hebrew/word?version=c&amp;id=1ACR\" title=\"Show this on SHEBANQ\"><span class=\"txtu hbo\">אֲשֶׁר֙ </span></a></div><div class='features'><span class=\"rank_lex xft\" ><span class=\"f\">rank_lex=</span>9</span></div></div></div></div><div class=\"contnr c1  rtl  \" ><div class=\"lbl c1  \" ><span class=\"nd\">phrase</span></div><div class=\"children hor wrap rtl\"><div class=\"contnr c0 trm rtl  hl\"  style=\"background-color: cyan;\" ><div class=\"lbl c0 trm hl\"  style=\"background-color: cyan;\" ><a class=\" txtu hbo\" target=\"_blank\" href=\"https://shebanq.ancient-data.org/hebrew/word?version=c&amp;id=1OL\" title=\"Show this on SHEBANQ\"><span class=\"txtu hbo\">עַל־</span></a></div><div class='features'><span class=\"rank_lex xft\" ><span class=\"f\">rank_lex=</span>7</span></div></div><div class=\"contnr c0 trm rtl  hl\"  style=\"background-color: cyan;\" ><div class=\"lbl c0 trm hl\"  style=\"background-color: cyan;\" ><a class=\" txtu hbo\" target=\"_blank\" href=\"https://shebanq.ancient-data.org/hebrew/word?version=c&amp;id=1PNHn\" title=\"Show this on SHEBANQ\"><span class=\"txtu hbo\">פְּנֵ֣י </span></a></div><div class='features'><span class=\"rank_lex xft\" ><span class=\"f\">rank_lex=</span>25</span></div></div><div class=\"contnr c0 trm rtl  hl\"  style=\"background-color: cyan;\" ><div class=\"lbl c0 trm hl\"  style=\"background-color: cyan;\" ><a class=\" txtu hbo\" target=\"_blank\" href=\"https://shebanq.ancient-data.org/hebrew/word?version=c&amp;id=1KLn\" title=\"Show this on SHEBANQ\"><span class=\"txtu hbo\">כָל־</span></a></div><div class='features'><span class=\"rank_lex xft\" ><span class=\"f\">rank_lex=</span>10</span></div></div><div class=\"contnr c0 trm rtl  hl\"  style=\"background-color: cyan;\" ><div class=\"lbl c0 trm hl\"  style=\"background-color: cyan;\" ><a class=\" txtu hbo\" target=\"_blank\" href=\"https://shebanq.ancient-data.org/hebrew/word?version=c&amp;id=1H\" title=\"Show this on SHEBANQ\"><span class=\"txtu hbo\">הָ</span></a></div><div class='features'><span class=\"rank_lex xft\" ><span class=\"f\">rank_lex=</span>1</span></div></div><div class=\"contnr c0 trm rtl  hl\"  style=\"background-color: cyan;\" ><div class=\"lbl c0 trm hl\"  style=\"background-color: cyan;\" ><a class=\" txtu hbo\" target=\"_blank\" href=\"https://shebanq.ancient-data.org/hebrew/word?version=c&amp;id=1ARYn\" title=\"Show this on SHEBANQ\"><span class=\"txtu hbo\">אָ֔רֶץ </span></a></div><div class='features'><span class=\"rank_lex xft\" ><span class=\"f\">rank_lex=</span>22</span></div></div></div></div></div></div><div class=\"contnr c2  rtl r \" ><div class=\"lbl c2  \" ><span class=\"nd\">clause</span></div><div class=\"children hor wrap rtl\"><div class=\"contnr c1  rtl r \" ><div class=\"lbl c1  \" ><span class=\"nd\">phrase</span></div><div class=\"children hor wrap rtl\"><div class=\"contnr c0 trm rtl  \" ><div class=\"lbl c0 trm \" ><a class=\" txtu hbo\" target=\"_blank\" href=\"https://shebanq.ancient-data.org/hebrew/word?version=c&amp;id=1W\" title=\"Show this on SHEBANQ\"><span class=\"txtu hbo\">וְ</span></a></div><div class='features'><span class=\"rank_lex xft\" ><span class=\"f\">rank_lex=</span></span></div></div><div class=\"contnr c0 trm rtl  \" ><div class=\"lbl c0 trm \" ><a class=\" txtu hbo\" target=\"_blank\" href=\"https://shebanq.ancient-data.org/hebrew/word?version=c&amp;id=1AT\" title=\"Show this on SHEBANQ\"><span class=\"txtu hbo\">אֶת־</span></a></div><div class='features'><span class=\"rank_lex xft\" ><span class=\"f\">rank_lex=</span>4</span></div></div><div class=\"contnr c0 trm rtl  \" ><div class=\"lbl c0 trm \" ><a class=\" txtu hbo\" target=\"_blank\" href=\"https://shebanq.ancient-data.org/hebrew/word?version=c&amp;id=1KLn\" title=\"Show this on SHEBANQ\"><span class=\"txtu hbo\">כָּל־</span></a></div><div class='features'><span class=\"rank_lex xft\" ><span class=\"f\">rank_lex=</span>10</span></div></div><div class=\"contnr c0 trm rtl  \" ><div class=\"lbl c0 trm \" ><a class=\" txtu hbo\" target=\"_blank\" href=\"https://shebanq.ancient-data.org/hebrew/word?version=c&amp;id=1H\" title=\"Show this on SHEBANQ\"><span class=\"txtu hbo\">הָ</span></a></div><div class='features'><span class=\"rank_lex xft\" ><span class=\"f\">rank_lex=</span>1</span></div></div><div class=\"contnr c0 trm rtl  \" ><div class=\"lbl c0 trm \" ><a class=\" txtu hbo\" target=\"_blank\" href=\"https://shebanq.ancient-data.org/hebrew/word?version=c&amp;id=1OYn\" title=\"Show this on SHEBANQ\"><span class=\"txtu hbo\">עֵ֛ץ </span></a></div><div class='features'><span class=\"rank_lex xft\" ><span class=\"f\">rank_lex=</span>151</span></div></div></div></div></div></div><div class=\"contnr c2  rtl  \" ><div class=\"lbl c2  \" ><span class=\"nd\">clause</span></div><div class=\"children hor wrap rtl\"><div class=\"contnr c1  rtl  \" ><div class=\"lbl c1  \" ><span class=\"nd\">phrase</span></div><div class=\"children hor wrap rtl\"><div class=\"contnr c0 trm rtl  \" ><div class=\"lbl c0 trm \" ><a class=\" txtu hbo\" target=\"_blank\" href=\"https://shebanq.ancient-data.org/hebrew/word?version=c&amp;id=1ACR\" title=\"Show this on SHEBANQ\"><span class=\"txtu hbo\">אֲשֶׁר־</span></a></div><div class='features'><span class=\"rank_lex xft\" ><span class=\"f\">rank_lex=</span>9</span></div></div></div></div><div class=\"contnr c1  rtl  \" ><div class=\"lbl c1  \" ><span class=\"nd\">phrase</span></div><div class=\"children hor wrap rtl\"><div class=\"contnr c0 trm rtl  \" ><div class=\"lbl c0 trm \" ><a class=\" txtu hbo\" target=\"_blank\" href=\"https://shebanq.ancient-data.org/hebrew/word?version=c&amp;id=1B\" title=\"Show this on SHEBANQ\"><span class=\"txtu hbo\">בֹּ֥ו </span></a></div><div class='features'><span class=\"rank_lex xft\" ><span class=\"f\">rank_lex=</span>3</span></div></div></div></div><div class=\"contnr c1  rtl  \" ><div class=\"lbl c1  \" ><span class=\"nd\">phrase</span></div><div class=\"children hor wrap rtl\"><div class=\"contnr c0 trm rtl  \" ><div class=\"lbl c0 trm \" ><a class=\" txtu hbo\" target=\"_blank\" href=\"https://shebanq.ancient-data.org/hebrew/word?version=c&amp;id=1PRJn\" title=\"Show this on SHEBANQ\"><span class=\"txtu hbo\">פְרִי־</span></a></div><div class='features'><span class=\"rank_lex xft\" ><span class=\"f\">rank_lex=</span>366</span></div></div><div class=\"contnr c0 trm rtl  \" ><div class=\"lbl c0 trm \" ><a class=\" txtu hbo\" target=\"_blank\" href=\"https://shebanq.ancient-data.org/hebrew/word?version=c&amp;id=1OYn\" title=\"Show this on SHEBANQ\"><span class=\"txtu hbo\">עֵ֖ץ </span></a></div><div class='features'><span class=\"rank_lex xft\" ><span class=\"f\">rank_lex=</span>151</span></div></div></div></div></div></div><div class=\"contnr c2  rtl  \" ><div class=\"lbl c2  \" ><span class=\"nd\">clause</span></div><div class=\"children hor wrap rtl\"><div class=\"contnr c1  rtl  \" ><div class=\"lbl c1  \" ><span class=\"nd\">phrase</span></div><div class=\"children hor wrap rtl\"><div class=\"contnr c0 trm rtl  hl\"  style=\"background-color: magenta;\" ><div class=\"lbl c0 trm hl\"  style=\"background-color: magenta;\" ><a class=\" txtu hbo\" target=\"_blank\" href=\"https://shebanq.ancient-data.org/hebrew/word?version=c&amp;id=1ZROv\" title=\"Show this on SHEBANQ\"><span class=\"txtu hbo\">זֹרֵ֣עַ </span></a></div><div class='features'><span class=\"rank_lex xft\" ><span class=\"f\">rank_lex=</span>657</span></div></div></div></div><div class=\"contnr c1  rtl  \" ><div class=\"lbl c1  \" ><span class=\"nd\">phrase</span></div><div class=\"children hor wrap rtl\"><div class=\"contnr c0 trm rtl  \" ><div class=\"lbl c0 trm \" ><a class=\" txtu hbo\" target=\"_blank\" href=\"https://shebanq.ancient-data.org/hebrew/word?version=c&amp;id=1ZROn\" title=\"Show this on SHEBANQ\"><span class=\"txtu hbo\">זָ֑רַע </span></a></div><div class='features'><span class=\"rank_lex xft\" ><span class=\"f\">rank_lex=</span>209</span></div></div></div></div></div></div></div></div><div class=\"contnr c2  rtl  \" ><div class=\"lbl c2  \" ><span class=\"nd\">sentence</span></div><div class=\"children hor wrap rtl\"><div class=\"contnr c2  rtl  \" ><div class=\"lbl c2  \" ><span class=\"nd\">clause</span></div><div class=\"children hor wrap rtl\"><div class=\"contnr c1  rtl  \" ><div class=\"lbl c1  \" ><span class=\"nd\">phrase</span></div><div class=\"children hor wrap rtl\"><div class=\"contnr c0 trm rtl  \" ><div class=\"lbl c0 trm \" ><a class=\" txtu hbo\" target=\"_blank\" href=\"https://shebanq.ancient-data.org/hebrew/word?version=c&amp;id=1L\" title=\"Show this on SHEBANQ\"><span class=\"txtu hbo\">לָכֶ֥ם </span></a></div><div class='features'><span class=\"rank_lex xft\" ><span class=\"f\">rank_lex=</span>2</span></div></div></div></div><div class=\"contnr c1  rtl  \" ><div class=\"lbl c1  \" ><span class=\"nd\">phrase</span></div><div class=\"children hor wrap rtl\"><div class=\"contnr c0 trm rtl  \" ><div class=\"lbl c0 trm \" ><a class=\" txtu hbo\" target=\"_blank\" href=\"https://shebanq.ancient-data.org/hebrew/word?version=c&amp;id=1HJHv\" title=\"Show this on SHEBANQ\"><span class=\"txtu hbo\">יִֽהְיֶ֖ה </span></a></div><div class='features'><span class=\"rank_lex xft\" ><span class=\"f\">rank_lex=</span>15</span></div></div></div></div><div class=\"contnr c1  rtl  \" ><div class=\"lbl c1  \" ><span class=\"nd\">phrase</span></div><div class=\"children hor wrap rtl\"><div class=\"contnr c0 trm rtl  \" ><div class=\"lbl c0 trm \" ><a class=\" txtu hbo\" target=\"_blank\" href=\"https://shebanq.ancient-data.org/hebrew/word?version=c&amp;id=1L\" title=\"Show this on SHEBANQ\"><span class=\"txtu hbo\">לְ</span></a></div><div class='features'><span class=\"rank_lex xft\" ><span class=\"f\">rank_lex=</span>2</span></div></div><div class=\"contnr c0 trm rtl  \" ><div class=\"lbl c0 trm \" ><a class=\" txtu hbo\" target=\"_blank\" href=\"https://shebanq.ancient-data.org/hebrew/word?version=c&amp;id=1AKLHn\" title=\"Show this on SHEBANQ\"><span class=\"txtu hbo\">אָכְלָֽה׃ </span></a></div><div class='features'><span class=\"rank_lex xft\" ><span class=\"f\">rank_lex=</span>1543</span></div></div></div></div></div></div></div></div></div></div></div>"
      ],
      "text/plain": [
       "<IPython.core.display.HTML object>"
      ]
     },
     "metadata": {},
     "output_type": "display_data"
    },
    {
     "data": {
      "text/html": [
       "<div class=\"tfsechead rtl\"><a target=\"_blank\" href=\"https://shebanq.ancient-data.org/hebrew/text?book=Genesis&amp;chapter=1&amp;verse=30&amp;version=c&amp;mr=m&amp;qw=q&amp;tp=txt_p&amp;tr=hb&amp;wget=v&amp;qget=v&amp;nget=vt\" title=\"Show this on SHEBANQ\" sec=\"Genesis 1:30\">Genesis 1:30</a></div><div class=\"rtl children\"><div class=\"contnr c3  rtl  \" ><div class=\"lbl c3  \" ><span class=\"nd\">verse</span></div><div class=\"children hor wrap rtl\"><div class=\"contnr c2  rtl r hl\"  style=\"background-color: magenta;\" ><div class=\"lbl c2  hl\"  style=\"background-color: magenta;\" ><span class=\"nd\">sentence</span></div><div class=\"children hor wrap rtl\"><div class=\"contnr c2  rtl l \" ><div class=\"lbl c2  \" ><span class=\"nd\">clause</span></div><div class=\"children hor wrap rtl\"><div class=\"contnr c1  rtl  \" ><div class=\"lbl c1  \" ><span class=\"nd\">phrase</span></div><div class=\"children hor wrap rtl\"><div class=\"contnr c0 trm rtl  \" ><div class=\"lbl c0 trm \" ><a class=\" txtu hbo\" target=\"_blank\" href=\"https://shebanq.ancient-data.org/hebrew/word?version=c&amp;id=1W\" title=\"Show this on SHEBANQ\"><span class=\"txtu hbo\">וּֽ</span></a></div><div class='features'><span class=\"rank_lex xft\" ><span class=\"f\">rank_lex=</span></span></div></div></div></div><div class=\"contnr c1  rtl  \" ><div class=\"lbl c1  \" ><span class=\"nd\">phrase</span></div><div class=\"children hor wrap rtl\"><div class=\"contnr c0 trm rtl  \" ><div class=\"lbl c0 trm \" ><a class=\" txtu hbo\" target=\"_blank\" href=\"https://shebanq.ancient-data.org/hebrew/word?version=c&amp;id=1L\" title=\"Show this on SHEBANQ\"><span class=\"txtu hbo\">לְ</span></a></div><div class='features'><span class=\"rank_lex xft\" ><span class=\"f\">rank_lex=</span>2</span></div></div><div class=\"contnr c0 trm rtl  \" ><div class=\"lbl c0 trm \" ><a class=\" txtu hbo\" target=\"_blank\" href=\"https://shebanq.ancient-data.org/hebrew/word?version=c&amp;id=1KLn\" title=\"Show this on SHEBANQ\"><span class=\"txtu hbo\">כָל־</span></a></div><div class='features'><span class=\"rank_lex xft\" ><span class=\"f\">rank_lex=</span>10</span></div></div><div class=\"contnr c0 trm rtl  \" ><div class=\"lbl c0 trm \" ><a class=\" txtu hbo\" target=\"_blank\" href=\"https://shebanq.ancient-data.org/hebrew/word?version=c&amp;id=1XJHn\" title=\"Show this on SHEBANQ\"><span class=\"txtu hbo\">חַיַּ֣ת </span></a></div><div class='features'><span class=\"rank_lex xft\" ><span class=\"f\">rank_lex=</span>423</span></div></div><div class=\"contnr c0 trm rtl  \" ><div class=\"lbl c0 trm \" ><a class=\" txtu hbo\" target=\"_blank\" href=\"https://shebanq.ancient-data.org/hebrew/word?version=c&amp;id=1H\" title=\"Show this on SHEBANQ\"><span class=\"txtu hbo\">הָ֠</span></a></div><div class='features'><span class=\"rank_lex xft\" ><span class=\"f\">rank_lex=</span>1</span></div></div><div class=\"contnr c0 trm rtl  \" ><div class=\"lbl c0 trm \" ><a class=\" txtu hbo\" target=\"_blank\" href=\"https://shebanq.ancient-data.org/hebrew/word?version=c&amp;id=1ARYn\" title=\"Show this on SHEBANQ\"><span class=\"txtu hbo\">אָרֶץ </span></a></div><div class='features'><span class=\"rank_lex xft\" ><span class=\"f\">rank_lex=</span>22</span></div></div><div class=\"contnr c0 trm rtl  \" ><div class=\"lbl c0 trm \" ><a class=\" txtu hbo\" target=\"_blank\" href=\"https://shebanq.ancient-data.org/hebrew/word?version=c&amp;id=1W\" title=\"Show this on SHEBANQ\"><span class=\"txtu hbo\">וּ</span></a></div><div class='features'><span class=\"rank_lex xft\" ><span class=\"f\">rank_lex=</span></span></div></div><div class=\"contnr c0 trm rtl  \" ><div class=\"lbl c0 trm \" ><a class=\" txtu hbo\" target=\"_blank\" href=\"https://shebanq.ancient-data.org/hebrew/word?version=c&amp;id=1L\" title=\"Show this on SHEBANQ\"><span class=\"txtu hbo\">לְ</span></a></div><div class='features'><span class=\"rank_lex xft\" ><span class=\"f\">rank_lex=</span>2</span></div></div><div class=\"contnr c0 trm rtl  \" ><div class=\"lbl c0 trm \" ><a class=\" txtu hbo\" target=\"_blank\" href=\"https://shebanq.ancient-data.org/hebrew/word?version=c&amp;id=1KLn\" title=\"Show this on SHEBANQ\"><span class=\"txtu hbo\">כָל־</span></a></div><div class='features'><span class=\"rank_lex xft\" ><span class=\"f\">rank_lex=</span>10</span></div></div><div class=\"contnr c0 trm rtl  hl\"  style=\"background-color: magenta;\" ><div class=\"lbl c0 trm hl\"  style=\"background-color: magenta;\" ><a class=\" txtu hbo\" target=\"_blank\" href=\"https://shebanq.ancient-data.org/hebrew/word?version=c&amp;id=1OWPn\" title=\"Show this on SHEBANQ\"><span class=\"txtu hbo\">עֹ֨וף </span></a></div><div class='features'><span class=\"rank_lex xft\" ><span class=\"f\">rank_lex=</span>555</span></div></div><div class=\"contnr c0 trm rtl  \" ><div class=\"lbl c0 trm \" ><a class=\" txtu hbo\" target=\"_blank\" href=\"https://shebanq.ancient-data.org/hebrew/word?version=c&amp;id=1H\" title=\"Show this on SHEBANQ\"><span class=\"txtu hbo\">הַ</span></a></div><div class='features'><span class=\"rank_lex xft\" ><span class=\"f\">rank_lex=</span>1</span></div></div><div class=\"contnr c0 trm rtl  \" ><div class=\"lbl c0 trm \" ><a class=\" txtu hbo\" target=\"_blank\" href=\"https://shebanq.ancient-data.org/hebrew/word?version=c&amp;id=1CMJMn\" title=\"Show this on SHEBANQ\"><span class=\"txtu hbo\">שָּׁמַ֜יִם </span></a></div><div class='features'><span class=\"rank_lex xft\" ><span class=\"f\">rank_lex=</span>122</span></div></div><div class=\"contnr c0 trm rtl  \" ><div class=\"lbl c0 trm \" ><a class=\" txtu hbo\" target=\"_blank\" href=\"https://shebanq.ancient-data.org/hebrew/word?version=c&amp;id=1W\" title=\"Show this on SHEBANQ\"><span class=\"txtu hbo\">וּ</span></a></div><div class='features'><span class=\"rank_lex xft\" ><span class=\"f\">rank_lex=</span></span></div></div><div class=\"contnr c0 trm rtl  \" ><div class=\"lbl c0 trm \" ><a class=\" txtu hbo\" target=\"_blank\" href=\"https://shebanq.ancient-data.org/hebrew/word?version=c&amp;id=1L\" title=\"Show this on SHEBANQ\"><span class=\"txtu hbo\">לְ</span></a></div><div class='features'><span class=\"rank_lex xft\" ><span class=\"f\">rank_lex=</span>2</span></div></div><div class=\"contnr c0 trm rtl  \" ><div class=\"lbl c0 trm \" ><a class=\" txtu hbo\" target=\"_blank\" href=\"https://shebanq.ancient-data.org/hebrew/word?version=c&amp;id=1KLn\" title=\"Show this on SHEBANQ\"><span class=\"txtu hbo\">כֹ֣ל׀ </span></a></div><div class='features'><span class=\"rank_lex xft\" ><span class=\"f\">rank_lex=</span>10</span></div></div><div class=\"contnr c0 trm rtl  hl\"  style=\"background-color: magenta;\" ><div class=\"lbl c0 trm hl\"  style=\"background-color: magenta;\" ><a class=\" txtu hbo\" target=\"_blank\" href=\"https://shebanq.ancient-data.org/hebrew/word?version=c&amp;id=1RMFv\" title=\"Show this on SHEBANQ\"><span class=\"txtu hbo\">רֹומֵ֣שׂ </span></a></div><div class='features'><span class=\"rank_lex xft\" ><span class=\"f\">rank_lex=</span>1596</span></div></div><div class=\"contnr c0 trm rtl  \" ><div class=\"lbl c0 trm \" ><a class=\" txtu hbo\" target=\"_blank\" href=\"https://shebanq.ancient-data.org/hebrew/word?version=c&amp;id=1OL\" title=\"Show this on SHEBANQ\"><span class=\"txtu hbo\">עַל־</span></a></div><div class='features'><span class=\"rank_lex xft\" ><span class=\"f\">rank_lex=</span>7</span></div></div><div class=\"contnr c0 trm rtl  \" ><div class=\"lbl c0 trm \" ><a class=\" txtu hbo\" target=\"_blank\" href=\"https://shebanq.ancient-data.org/hebrew/word?version=c&amp;id=1H\" title=\"Show this on SHEBANQ\"><span class=\"txtu hbo\">הָ</span></a></div><div class='features'><span class=\"rank_lex xft\" ><span class=\"f\">rank_lex=</span>1</span></div></div><div class=\"contnr c0 trm rtl  \" ><div class=\"lbl c0 trm \" ><a class=\" txtu hbo\" target=\"_blank\" href=\"https://shebanq.ancient-data.org/hebrew/word?version=c&amp;id=1ARYn\" title=\"Show this on SHEBANQ\"><span class=\"txtu hbo\">אָ֗רֶץ </span></a></div><div class='features'><span class=\"rank_lex xft\" ><span class=\"f\">rank_lex=</span>22</span></div></div></div></div></div></div><div class=\"contnr c2  rtl  \" ><div class=\"lbl c2  \" ><span class=\"nd\">clause</span></div><div class=\"children hor wrap rtl\"><div class=\"contnr c1  rtl  \" ><div class=\"lbl c1  \" ><span class=\"nd\">phrase</span></div><div class=\"children hor wrap rtl\"><div class=\"contnr c0 trm rtl  \" ><div class=\"lbl c0 trm \" ><a class=\" txtu hbo\" target=\"_blank\" href=\"https://shebanq.ancient-data.org/hebrew/word?version=c&amp;id=1ACR\" title=\"Show this on SHEBANQ\"><span class=\"txtu hbo\">אֲשֶׁר־</span></a></div><div class='features'><span class=\"rank_lex xft\" ><span class=\"f\">rank_lex=</span>9</span></div></div></div></div><div class=\"contnr c1  rtl  \" ><div class=\"lbl c1  \" ><span class=\"nd\">phrase</span></div><div class=\"children hor wrap rtl\"><div class=\"contnr c0 trm rtl  \" ><div class=\"lbl c0 trm \" ><a class=\" txtu hbo\" target=\"_blank\" href=\"https://shebanq.ancient-data.org/hebrew/word?version=c&amp;id=1B\" title=\"Show this on SHEBANQ\"><span class=\"txtu hbo\">בֹּו֙ </span></a></div><div class='features'><span class=\"rank_lex xft\" ><span class=\"f\">rank_lex=</span>3</span></div></div></div></div><div class=\"contnr c1  rtl  \" ><div class=\"lbl c1  \" ><span class=\"nd\">phrase</span></div><div class=\"children hor wrap rtl\"><div class=\"contnr c0 trm rtl  \" ><div class=\"lbl c0 trm \" ><a class=\" txtu hbo\" target=\"_blank\" href=\"https://shebanq.ancient-data.org/hebrew/word?version=c&amp;id=1NPCn\" title=\"Show this on SHEBANQ\"><span class=\"txtu hbo\">נֶ֣פֶשׁ </span></a></div><div class='features'><span class=\"rank_lex xft\" ><span class=\"f\">rank_lex=</span>67</span></div></div><div class=\"contnr c0 trm rtl  \" ><div class=\"lbl c0 trm \" ><a class=\" txtu hbo\" target=\"_blank\" href=\"https://shebanq.ancient-data.org/hebrew/word?version=c&amp;id=1XJn\" title=\"Show this on SHEBANQ\"><span class=\"txtu hbo\">חַיָּ֔ה </span></a></div><div class='features'><span class=\"rank_lex xft\" ><span class=\"f\">rank_lex=</span>201</span></div></div></div></div></div></div><div class=\"contnr c2  rtl r \" ><div class=\"lbl c2  \" ><span class=\"nd\">clause</span></div><div class=\"children hor wrap rtl\"><div class=\"contnr c1  rtl  \" ><div class=\"lbl c1  \" ><span class=\"nd\">phrase</span></div><div class=\"children hor wrap rtl\"><div class=\"contnr c0 trm rtl  \" ><div class=\"lbl c0 trm \" ><a class=\" txtu hbo\" target=\"_blank\" href=\"https://shebanq.ancient-data.org/hebrew/word?version=c&amp;id=1AT\" title=\"Show this on SHEBANQ\"><span class=\"txtu hbo\">אֶת־</span></a></div><div class='features'><span class=\"rank_lex xft\" ><span class=\"f\">rank_lex=</span>4</span></div></div><div class=\"contnr c0 trm rtl  \" ><div class=\"lbl c0 trm \" ><a class=\" txtu hbo\" target=\"_blank\" href=\"https://shebanq.ancient-data.org/hebrew/word?version=c&amp;id=1KLn\" title=\"Show this on SHEBANQ\"><span class=\"txtu hbo\">כָּל־</span></a></div><div class='features'><span class=\"rank_lex xft\" ><span class=\"f\">rank_lex=</span>10</span></div></div><div class=\"contnr c0 trm rtl  hl\"  style=\"background-color: magenta;\" ><div class=\"lbl c0 trm hl\"  style=\"background-color: magenta;\" ><a class=\" txtu hbo\" target=\"_blank\" href=\"https://shebanq.ancient-data.org/hebrew/word?version=c&amp;id=1JRQn\" title=\"Show this on SHEBANQ\"><span class=\"txtu hbo\">יֶ֥רֶק </span></a></div><div class='features'><span class=\"rank_lex xft\" ><span class=\"f\">rank_lex=</span>2866</span></div></div><div class=\"contnr c0 trm rtl  hl\"  style=\"background-color: magenta;\" ><div class=\"lbl c0 trm hl\"  style=\"background-color: magenta;\" ><a class=\" txtu hbo\" target=\"_blank\" href=\"https://shebanq.ancient-data.org/hebrew/word?version=c&amp;id=1OFBn\" title=\"Show this on SHEBANQ\"><span class=\"txtu hbo\">עֵ֖שֶׂב </span></a></div><div class='features'><span class=\"rank_lex xft\" ><span class=\"f\">rank_lex=</span>1030</span></div></div></div></div><div class=\"contnr c1  rtl  \" ><div class=\"lbl c1  \" ><span class=\"nd\">phrase</span></div><div class=\"children hor wrap rtl\"><div class=\"contnr c0 trm rtl  \" ><div class=\"lbl c0 trm \" ><a class=\" txtu hbo\" target=\"_blank\" href=\"https://shebanq.ancient-data.org/hebrew/word?version=c&amp;id=1L\" title=\"Show this on SHEBANQ\"><span class=\"txtu hbo\">לְ</span></a></div><div class='features'><span class=\"rank_lex xft\" ><span class=\"f\">rank_lex=</span>2</span></div></div><div class=\"contnr c0 trm rtl  hl\"  style=\"background-color: magenta;\" ><div class=\"lbl c0 trm hl\"  style=\"background-color: magenta;\" ><a class=\" txtu hbo\" target=\"_blank\" href=\"https://shebanq.ancient-data.org/hebrew/word?version=c&amp;id=1AKLHn\" title=\"Show this on SHEBANQ\"><span class=\"txtu hbo\">אָכְלָ֑ה </span></a></div><div class='features'><span class=\"rank_lex xft\" ><span class=\"f\">rank_lex=</span>1543</span></div></div></div></div></div></div></div></div><div class=\"contnr c2  rtl  \" ><div class=\"lbl c2  \" ><span class=\"nd\">sentence</span></div><div class=\"children hor wrap rtl\"><div class=\"contnr c2  rtl  \" ><div class=\"lbl c2  \" ><span class=\"nd\">clause</span></div><div class=\"children hor wrap rtl\"><div class=\"contnr c1  rtl  \" ><div class=\"lbl c1  \" ><span class=\"nd\">phrase</span></div><div class=\"children hor wrap rtl\"><div class=\"contnr c0 trm rtl  \" ><div class=\"lbl c0 trm \" ><a class=\" txtu hbo\" target=\"_blank\" href=\"https://shebanq.ancient-data.org/hebrew/word?version=c&amp;id=1W\" title=\"Show this on SHEBANQ\"><span class=\"txtu hbo\">וַֽ</span></a></div><div class='features'><span class=\"rank_lex xft\" ><span class=\"f\">rank_lex=</span></span></div></div></div></div><div class=\"contnr c1  rtl  \" ><div class=\"lbl c1  \" ><span class=\"nd\">phrase</span></div><div class=\"children hor wrap rtl\"><div class=\"contnr c0 trm rtl  \" ><div class=\"lbl c0 trm \" ><a class=\" txtu hbo\" target=\"_blank\" href=\"https://shebanq.ancient-data.org/hebrew/word?version=c&amp;id=1HJHv\" title=\"Show this on SHEBANQ\"><span class=\"txtu hbo\">יְהִי־</span></a></div><div class='features'><span class=\"rank_lex xft\" ><span class=\"f\">rank_lex=</span>15</span></div></div></div></div><div class=\"contnr c1  rtl  \" ><div class=\"lbl c1  \" ><span class=\"nd\">phrase</span></div><div class=\"children hor wrap rtl\"><div class=\"contnr c0 trm rtl  \" ><div class=\"lbl c0 trm \" ><a class=\" txtu hbo\" target=\"_blank\" href=\"https://shebanq.ancient-data.org/hebrew/word?version=c&amp;id=1KN\" title=\"Show this on SHEBANQ\"><span class=\"txtu hbo\">כֵֽן׃ </span></a></div><div class='features'><span class=\"rank_lex xft\" ><span class=\"f\">rank_lex=</span>95</span></div></div></div></div></div></div></div></div></div></div></div>"
      ],
      "text/plain": [
       "<IPython.core.display.HTML object>"
      ]
     },
     "metadata": {},
     "output_type": "display_data"
    },
    {
     "data": {
      "text/html": [
       "<p><b>result</b> <i>7</i></p>"
      ],
      "text/plain": [
       "<IPython.core.display.HTML object>"
      ]
     },
     "metadata": {},
     "output_type": "display_data"
    },
    {
     "data": {
      "text/html": [
       "<div class=\"tfsechead rtl\"><a target=\"_blank\" href=\"https://shebanq.ancient-data.org/hebrew/text?book=Genesis&amp;chapter=2&amp;verse=2&amp;version=c&amp;mr=m&amp;qw=q&amp;tp=txt_p&amp;tr=hb&amp;wget=v&amp;qget=v&amp;nget=vt\" title=\"Show this on SHEBANQ\" sec=\"Genesis 2:2\">Genesis 2:2</a></div><div class=\"rtl children\"><div class=\"contnr c3  rtl  \" ><div class=\"lbl c3  \" ><span class=\"nd\">verse</span></div><div class=\"children hor wrap rtl\"><div class=\"contnr c2  rtl  hl\"  style=\"background-color: magenta;\" ><div class=\"lbl c2  hl\"  style=\"background-color: magenta;\" ><span class=\"nd\">sentence</span></div><div class=\"children hor wrap rtl\"><div class=\"contnr c2  rtl  \" ><div class=\"lbl c2  \" ><span class=\"nd\">clause</span></div><div class=\"children hor wrap rtl\"><div class=\"contnr c1  rtl  \" ><div class=\"lbl c1  \" ><span class=\"nd\">phrase</span></div><div class=\"children hor wrap rtl\"><div class=\"contnr c0 trm rtl  \" ><div class=\"lbl c0 trm \" ><a class=\" txtu hbo\" target=\"_blank\" href=\"https://shebanq.ancient-data.org/hebrew/word?version=c&amp;id=1W\" title=\"Show this on SHEBANQ\"><span class=\"txtu hbo\">וַ</span></a></div><div class='features'><span class=\"rank_lex xft\" ><span class=\"f\">rank_lex=</span></span></div></div></div></div><div class=\"contnr c1  rtl  \" ><div class=\"lbl c1  \" ><span class=\"nd\">phrase</span></div><div class=\"children hor wrap rtl\"><div class=\"contnr c0 trm rtl  \" ><div class=\"lbl c0 trm \" ><a class=\" txtu hbo\" target=\"_blank\" href=\"https://shebanq.ancient-data.org/hebrew/word?version=c&amp;id=1KLHv\" title=\"Show this on SHEBANQ\"><span class=\"txtu hbo\">יְכַ֤ל </span></a></div><div class='features'><span class=\"rank_lex xft\" ><span class=\"f\">rank_lex=</span>236</span></div></div></div></div><div class=\"contnr c1  rtl  \" ><div class=\"lbl c1  \" ><span class=\"nd\">phrase</span></div><div class=\"children hor wrap rtl\"><div class=\"contnr c0 trm rtl  \" ><div class=\"lbl c0 trm \" ><a class=\" txtu hbo\" target=\"_blank\" href=\"https://shebanq.ancient-data.org/hebrew/word?version=c&amp;id=1ALHJMn\" title=\"Show this on SHEBANQ\"><span class=\"txtu hbo\">אֱלֹהִים֙ </span></a></div><div class='features'><span class=\"rank_lex xft\" ><span class=\"f\">rank_lex=</span>18</span></div></div></div></div><div class=\"contnr c1  rtl  \" ><div class=\"lbl c1  \" ><span class=\"nd\">phrase</span></div><div class=\"children hor wrap rtl\"><div class=\"contnr c0 trm rtl  \" ><div class=\"lbl c0 trm \" ><a class=\" txtu hbo\" target=\"_blank\" href=\"https://shebanq.ancient-data.org/hebrew/word?version=c&amp;id=1B\" title=\"Show this on SHEBANQ\"><span class=\"txtu hbo\">בַּ</span></a></div><div class='features'><span class=\"rank_lex xft\" ><span class=\"f\">rank_lex=</span>3</span></div></div><div class=\"contnr c0 trm rtl  \" ><div class=\"lbl c0 trm \" ><a class=\" txtu hbo\" target=\"_blank\" href=\"https://shebanq.ancient-data.org/hebrew/word?version=c&amp;id=1H\" title=\"Show this on SHEBANQ\"></a></div><div class='features'><span class=\"rank_lex xft\" ><span class=\"f\">rank_lex=</span>1</span></div></div><div class=\"contnr c0 trm rtl  \" ><div class=\"lbl c0 trm \" ><a class=\" txtu hbo\" target=\"_blank\" href=\"https://shebanq.ancient-data.org/hebrew/word?version=c&amp;id=1JWMn\" title=\"Show this on SHEBANQ\"><span class=\"txtu hbo\">יֹּ֣ום </span></a></div><div class='features'><span class=\"rank_lex xft\" ><span class=\"f\">rank_lex=</span>23</span></div></div><div class=\"contnr c0 trm rtl  \" ><div class=\"lbl c0 trm \" ><a class=\" txtu hbo\" target=\"_blank\" href=\"https://shebanq.ancient-data.org/hebrew/word?version=c&amp;id=1H\" title=\"Show this on SHEBANQ\"><span class=\"txtu hbo\">הַ</span></a></div><div class='features'><span class=\"rank_lex xft\" ><span class=\"f\">rank_lex=</span>1</span></div></div><div class=\"contnr c0 trm rtl  \" ><div class=\"lbl c0 trm \" ><a class=\" txtu hbo\" target=\"_blank\" href=\"https://shebanq.ancient-data.org/hebrew/word?version=c&amp;id=1CBJOJn\" title=\"Show this on SHEBANQ\"><span class=\"txtu hbo\">שְּׁבִיעִ֔י </span></a></div><div class='features'><span class=\"rank_lex xft\" ><span class=\"f\">rank_lex=</span>428</span></div></div></div></div><div class=\"contnr c1  rtl  \" ><div class=\"lbl c1  \" ><span class=\"nd\">phrase</span></div><div class=\"children hor wrap rtl\"><div class=\"contnr c0 trm rtl  hl\"  style=\"background-color: magenta;\" ><div class=\"lbl c0 trm hl\"  style=\"background-color: magenta;\" ><a class=\" txtu hbo\" target=\"_blank\" href=\"https://shebanq.ancient-data.org/hebrew/word?version=c&amp;id=1MLAKTn\" title=\"Show this on SHEBANQ\"><span class=\"txtu hbo\">מְלַאכְתֹּ֖ו </span></a></div><div class='features'><span class=\"rank_lex xft\" ><span class=\"f\">rank_lex=</span>605</span></div></div></div></div></div></div><div class=\"contnr c2  rtl  hl\"  style=\"background-color: cyan;\" ><div class=\"lbl c2  hl\"  style=\"background-color: cyan;\" ><span class=\"nd\">clause</span></div><div class=\"children hor wrap rtl\"><div class=\"contnr c1  rtl  \" ><div class=\"lbl c1  \" ><span class=\"nd\">phrase</span></div><div class=\"children hor wrap rtl\"><div class=\"contnr c0 trm rtl  hl\"  style=\"background-color: cyan;\" ><div class=\"lbl c0 trm hl\"  style=\"background-color: cyan;\" ><a class=\" txtu hbo\" target=\"_blank\" href=\"https://shebanq.ancient-data.org/hebrew/word?version=c&amp;id=1ACR\" title=\"Show this on SHEBANQ\"><span class=\"txtu hbo\">אֲשֶׁ֣ר </span></a></div><div class='features'><span class=\"rank_lex xft\" ><span class=\"f\">rank_lex=</span>9</span></div></div></div></div><div class=\"contnr c1  rtl  \" ><div class=\"lbl c1  \" ><span class=\"nd\">phrase</span></div><div class=\"children hor wrap rtl\"><div class=\"contnr c0 trm rtl  hl\"  style=\"background-color: cyan;\" ><div class=\"lbl c0 trm hl\"  style=\"background-color: cyan;\" ><a class=\" txtu hbo\" target=\"_blank\" href=\"https://shebanq.ancient-data.org/hebrew/word?version=c&amp;id=1OFHv\" title=\"Show this on SHEBANQ\"><span class=\"txtu hbo\">עָשָׂ֑ה </span></a></div><div class='features'><span class=\"rank_lex xft\" ><span class=\"f\">rank_lex=</span>17</span></div></div></div></div></div></div></div></div><div class=\"contnr c2  rtl  hl\"  style=\"background-color: magenta;\" ><div class=\"lbl c2  hl\"  style=\"background-color: magenta;\" ><span class=\"nd\">sentence</span></div><div class=\"children hor wrap rtl\"><div class=\"contnr c2  rtl  \" ><div class=\"lbl c2  \" ><span class=\"nd\">clause</span></div><div class=\"children hor wrap rtl\"><div class=\"contnr c1  rtl  \" ><div class=\"lbl c1  \" ><span class=\"nd\">phrase</span></div><div class=\"children hor wrap rtl\"><div class=\"contnr c0 trm rtl  \" ><div class=\"lbl c0 trm \" ><a class=\" txtu hbo\" target=\"_blank\" href=\"https://shebanq.ancient-data.org/hebrew/word?version=c&amp;id=1W\" title=\"Show this on SHEBANQ\"><span class=\"txtu hbo\">וַ</span></a></div><div class='features'><span class=\"rank_lex xft\" ><span class=\"f\">rank_lex=</span></span></div></div></div></div><div class=\"contnr c1  rtl  \" ><div class=\"lbl c1  \" ><span class=\"nd\">phrase</span></div><div class=\"children hor wrap rtl\"><div class=\"contnr c0 trm rtl  hl\"  style=\"background-color: magenta;\" ><div class=\"lbl c0 trm hl\"  style=\"background-color: magenta;\" ><a class=\" txtu hbo\" target=\"_blank\" href=\"https://shebanq.ancient-data.org/hebrew/word?version=c&amp;id=1CBTv\" title=\"Show this on SHEBANQ\"><span class=\"txtu hbo\">יִּשְׁבֹּת֙ </span></a></div><div class='features'><span class=\"rank_lex xft\" ><span class=\"f\">rank_lex=</span>555</span></div></div></div></div><div class=\"contnr c1  rtl  \" ><div class=\"lbl c1  \" ><span class=\"nd\">phrase</span></div><div class=\"children hor wrap rtl\"><div class=\"contnr c0 trm rtl  \" ><div class=\"lbl c0 trm \" ><a class=\" txtu hbo\" target=\"_blank\" href=\"https://shebanq.ancient-data.org/hebrew/word?version=c&amp;id=1B\" title=\"Show this on SHEBANQ\"><span class=\"txtu hbo\">בַּ</span></a></div><div class='features'><span class=\"rank_lex xft\" ><span class=\"f\">rank_lex=</span>3</span></div></div><div class=\"contnr c0 trm rtl  \" ><div class=\"lbl c0 trm \" ><a class=\" txtu hbo\" target=\"_blank\" href=\"https://shebanq.ancient-data.org/hebrew/word?version=c&amp;id=1H\" title=\"Show this on SHEBANQ\"></a></div><div class='features'><span class=\"rank_lex xft\" ><span class=\"f\">rank_lex=</span>1</span></div></div><div class=\"contnr c0 trm rtl  \" ><div class=\"lbl c0 trm \" ><a class=\" txtu hbo\" target=\"_blank\" href=\"https://shebanq.ancient-data.org/hebrew/word?version=c&amp;id=1JWMn\" title=\"Show this on SHEBANQ\"><span class=\"txtu hbo\">יֹּ֣ום </span></a></div><div class='features'><span class=\"rank_lex xft\" ><span class=\"f\">rank_lex=</span>23</span></div></div><div class=\"contnr c0 trm rtl  \" ><div class=\"lbl c0 trm \" ><a class=\" txtu hbo\" target=\"_blank\" href=\"https://shebanq.ancient-data.org/hebrew/word?version=c&amp;id=1H\" title=\"Show this on SHEBANQ\"><span class=\"txtu hbo\">הַ</span></a></div><div class='features'><span class=\"rank_lex xft\" ><span class=\"f\">rank_lex=</span>1</span></div></div><div class=\"contnr c0 trm rtl  \" ><div class=\"lbl c0 trm \" ><a class=\" txtu hbo\" target=\"_blank\" href=\"https://shebanq.ancient-data.org/hebrew/word?version=c&amp;id=1CBJOJn\" title=\"Show this on SHEBANQ\"><span class=\"txtu hbo\">שְּׁבִיעִ֔י </span></a></div><div class='features'><span class=\"rank_lex xft\" ><span class=\"f\">rank_lex=</span>428</span></div></div></div></div><div class=\"contnr c1  rtl  \" ><div class=\"lbl c1  \" ><span class=\"nd\">phrase</span></div><div class=\"children hor wrap rtl\"><div class=\"contnr c0 trm rtl  \" ><div class=\"lbl c0 trm \" ><a class=\" txtu hbo\" target=\"_blank\" href=\"https://shebanq.ancient-data.org/hebrew/word?version=c&amp;id=1MN\" title=\"Show this on SHEBANQ\"><span class=\"txtu hbo\">מִ</span></a></div><div class='features'><span class=\"rank_lex xft\" ><span class=\"f\">rank_lex=</span>5</span></div></div><div class=\"contnr c0 trm rtl  \" ><div class=\"lbl c0 trm \" ><a class=\" txtu hbo\" target=\"_blank\" href=\"https://shebanq.ancient-data.org/hebrew/word?version=c&amp;id=1KLn\" title=\"Show this on SHEBANQ\"><span class=\"txtu hbo\">כָּל־</span></a></div><div class='features'><span class=\"rank_lex xft\" ><span class=\"f\">rank_lex=</span>10</span></div></div><div class=\"contnr c0 trm rtl  hl\"  style=\"background-color: magenta;\" ><div class=\"lbl c0 trm hl\"  style=\"background-color: magenta;\" ><a class=\" txtu hbo\" target=\"_blank\" href=\"https://shebanq.ancient-data.org/hebrew/word?version=c&amp;id=1MLAKTn\" title=\"Show this on SHEBANQ\"><span class=\"txtu hbo\">מְלַאכְתֹּ֖ו </span></a></div><div class='features'><span class=\"rank_lex xft\" ><span class=\"f\">rank_lex=</span>605</span></div></div></div></div></div></div><div class=\"contnr c2  rtl  hl\"  style=\"background-color: cyan;\" ><div class=\"lbl c2  hl\"  style=\"background-color: cyan;\" ><span class=\"nd\">clause</span></div><div class=\"children hor wrap rtl\"><div class=\"contnr c1  rtl  \" ><div class=\"lbl c1  \" ><span class=\"nd\">phrase</span></div><div class=\"children hor wrap rtl\"><div class=\"contnr c0 trm rtl  hl\"  style=\"background-color: cyan;\" ><div class=\"lbl c0 trm hl\"  style=\"background-color: cyan;\" ><a class=\" txtu hbo\" target=\"_blank\" href=\"https://shebanq.ancient-data.org/hebrew/word?version=c&amp;id=1ACR\" title=\"Show this on SHEBANQ\"><span class=\"txtu hbo\">אֲשֶׁ֥ר </span></a></div><div class='features'><span class=\"rank_lex xft\" ><span class=\"f\">rank_lex=</span>9</span></div></div></div></div><div class=\"contnr c1  rtl  \" ><div class=\"lbl c1  \" ><span class=\"nd\">phrase</span></div><div class=\"children hor wrap rtl\"><div class=\"contnr c0 trm rtl  hl\"  style=\"background-color: cyan;\" ><div class=\"lbl c0 trm hl\"  style=\"background-color: cyan;\" ><a class=\" txtu hbo\" target=\"_blank\" href=\"https://shebanq.ancient-data.org/hebrew/word?version=c&amp;id=1OFHv\" title=\"Show this on SHEBANQ\"><span class=\"txtu hbo\">עָשָֽׂה׃ </span></a></div><div class='features'><span class=\"rank_lex xft\" ><span class=\"f\">rank_lex=</span>17</span></div></div></div></div></div></div></div></div></div></div></div>"
      ],
      "text/plain": [
       "<IPython.core.display.HTML object>"
      ]
     },
     "metadata": {},
     "output_type": "display_data"
    }
   ],
   "source": [
    "A.displaySetup(extraFeatures=\"rank_lex\")\n",
    "highlights = {}\n",
    "for (sentence, clause) in results:\n",
    "    highlights[sentence] = \"magenta\"\n",
    "    highlights[clause] = \"cyan\"\n",
    "    for w in L.d(sentence, otype=\"word\"):\n",
    "        if F.rank_lex.v(w) > RARE_RANK:\n",
    "            highlights[w] = \"magenta\"\n",
    "    for w in L.d(clause, otype=\"word\"):\n",
    "        if F.rank_lex.v(w) < COMMON_RANK:\n",
    "            highlights[w] = \"cyan\"\n",
    "A.show(\n",
    "    results,\n",
    "    condensed=False,\n",
    "    start=6,\n",
    "    end=7,\n",
    "    suppress={\"sp\", \"vt\", \"vs\", \"function\", \"typ\", \"otype\"},\n",
    "    highlights=highlights,\n",
    ")"
   ]
  },
  {
   "cell_type": "markdown",
   "metadata": {},
   "source": [
    "Now infrequent sentences ending in a frequent word:"
   ]
  },
  {
   "cell_type": "code",
   "execution_count": 58,
   "metadata": {},
   "outputs": [
    {
     "name": "stdout",
     "output_type": "stream",
     "text": [
      "  1.36s 10793 results\n"
     ]
    },
    {
     "data": {
      "text/html": [
       "<table><tr class=\"tf rtl\"><th class=\"tf rtl\">n</th><th class=\"tf rtl\">p</th><th class=\"tf rtl\">sentence</th><th class=\"tf\">word</th></tr>\n",
       "<tr class=\"tf rtl\"><td class=\"tf rtl\">5</td><td class=\"tf rtl\"><span class=\"tfsechead ltr\"><a target=\"_blank\" href=\"https://shebanq.ancient-data.org/hebrew/text?book=Genesis&amp;chapter=1&amp;verse=9&amp;version=c&amp;mr=m&amp;qw=q&amp;tp=txt_p&amp;tr=hb&amp;wget=v&amp;qget=v&amp;nget=vt\" title=\"Show this on SHEBANQ\" sec=\"Genesis 1:9\">Genesis 1:9</a></span></td><td class=\"tf rtl\"><span class=\"rtl ubd\"><span class=\"plain rtl  hlbx\" ><span class=\"txtu hbo\">יִקָּו֨וּ </span><span class=\"txtu hbo\">הַ</span><span class=\"txtu hbo\">מַּ֜יִם </span><span class=\"txtu hbo\">מִ</span><span class=\"txtu hbo\">תַּ֤חַת </span><span class=\"txtu hbo\">הַ</span><span class=\"txtu hbo\">שָּׁמַ֨יִם֙ </span><span class=\"txtu hbo\">אֶל־</span><span class=\"txtu hbo\">מָקֹ֣ום </span><span class=\"plain rtl  hl\" ><span class=\"txtu hbo\">אֶחָ֔ד </span></span></span></span></td><td class=\"tf rtl\"><span class=\"rtl ubd\"><span class=\"plain rtl  hl\" ><span class=\"txtu hbo\">אֶחָ֔ד </span></span></span></td></tr>\n",
       "<tr class=\"tf rtl\"><td class=\"tf rtl\">6</td><td class=\"tf rtl\"><span class=\"tfsechead ltr\"><a target=\"_blank\" href=\"https://shebanq.ancient-data.org/hebrew/text?book=Genesis&amp;chapter=1&amp;verse=10&amp;version=c&amp;mr=m&amp;qw=q&amp;tp=txt_p&amp;tr=hb&amp;wget=v&amp;qget=v&amp;nget=vt\" title=\"Show this on SHEBANQ\" sec=\"Genesis 1:10\">Genesis 1:10</a></span></td><td class=\"tf rtl\"><span class=\"rtl ubd\"><span class=\"plain rtl  hlbx\" ><span class=\"txtu hbo\">וַ</span><span class=\"txtu hbo\">יִּקְרָ֨א </span><span class=\"txtu hbo\">אֱלֹהִ֤ים׀ </span><span class=\"txtu hbo\">לַ</span><span class=\"txtu hbo\">יַּבָּשָׁה֙ </span><span class=\"plain rtl  hl\" ><span class=\"txtu hbo\">אֶ֔רֶץ </span></span></span></span></td><td class=\"tf rtl\"><span class=\"rtl ubd\"><span class=\"plain rtl  hl\" ><span class=\"txtu hbo\">אֶ֔רֶץ </span></span></span></td></tr>\n",
       "<tr class=\"tf rtl\"><td class=\"tf rtl\">7</td><td class=\"tf rtl\"><span class=\"tfsechead ltr\"><a target=\"_blank\" href=\"https://shebanq.ancient-data.org/hebrew/text?book=Genesis&amp;chapter=1&amp;verse=11&amp;version=c&amp;mr=m&amp;qw=q&amp;tp=txt_p&amp;tr=hb&amp;wget=v&amp;qget=v&amp;nget=vt\" title=\"Show this on SHEBANQ\" sec=\"Genesis 1:11\">Genesis 1:11</a></span></td><td class=\"tf rtl\"><span class=\"rtl ubd\"><span class=\"plain rtl  hlbx\" ><span class=\"plain rtl l \" ><span class=\"txtu hbo\">תַּֽדְשֵׁ֤א </span><span class=\"txtu hbo\">הָ</span><span class=\"txtu hbo\">אָ֨רֶץ֙ </span><span class=\"plain rtl l \" ><span class=\"txtu hbo\">דֶּ֔שֶׁא </span><span class=\"txtu hbo\">עֵ֚שֶׂב </span></span></span><span class=\"txtu hbo\">מַזְרִ֣יעַ </span><span class=\"txtu hbo\">זֶ֔רַע </span><span class=\"plain rtl r \" ><span class=\"plain rtl r \" ><span class=\"txtu hbo\">עֵ֣ץ </span><span class=\"txtu hbo\">פְּרִ֞י </span></span></span><span class=\"plain rtl l \" ><span class=\"txtu hbo\">עֹ֤שֶׂה </span><span class=\"txtu hbo\">פְּרִי֙ </span><span class=\"txtu hbo\">לְ</span><span class=\"txtu hbo\">מִינֹ֔ו </span></span><span class=\"txtu hbo\">אֲשֶׁ֥ר </span><span class=\"txtu hbo\">זַרְעֹו־</span><span class=\"txtu hbo\">בֹ֖ו </span><span class=\"plain rtl r \" ><span class=\"txtu hbo\">עַל־</span><span class=\"txtu hbo\">הָ</span><span class=\"plain rtl  hl\" ><span class=\"txtu hbo\">אָ֑רֶץ </span></span></span></span></span></td><td class=\"tf rtl\"><span class=\"rtl ubd\"><span class=\"plain rtl  hl\" ><span class=\"txtu hbo\">אָ֑רֶץ </span></span></span></td></tr>\n",
       "<tr class=\"tf rtl\"><td class=\"tf rtl\">8</td><td class=\"tf rtl\"><span class=\"tfsechead ltr\"><a target=\"_blank\" href=\"https://shebanq.ancient-data.org/hebrew/text?book=Genesis&amp;chapter=1&amp;verse=15&amp;version=c&amp;mr=m&amp;qw=q&amp;tp=txt_p&amp;tr=hb&amp;wget=v&amp;qget=v&amp;nget=vt\" title=\"Show this on SHEBANQ\" sec=\"Genesis 1:15\">Genesis 1:15</a></span></td><td class=\"tf rtl\"><span class=\"rtl ubd\"><span class=\"plain rtl  hlbx\" ><span class=\"txtu hbo\">וְ</span><span class=\"txtu hbo\">הָי֤וּ </span><span class=\"txtu hbo\">לִ</span><span class=\"txtu hbo\">מְאֹורֹת֙ </span><span class=\"txtu hbo\">בִּ</span><span class=\"txtu hbo\">רְקִ֣יעַ </span><span class=\"txtu hbo\">הַ</span><span class=\"txtu hbo\">שָּׁמַ֔יִם </span><span class=\"txtu hbo\">לְ</span><span class=\"txtu hbo\">הָאִ֖יר </span><span class=\"txtu hbo\">עַל־</span><span class=\"txtu hbo\">הָ</span><span class=\"plain rtl  hl\" ><span class=\"txtu hbo\">אָ֑רֶץ </span></span></span></span></td><td class=\"tf rtl\"><span class=\"rtl ubd\"><span class=\"plain rtl  hl\" ><span class=\"txtu hbo\">אָ֑רֶץ </span></span></span></td></tr>\n",
       "<tr class=\"tf rtl\"><td class=\"tf rtl\">9</td><td class=\"tf rtl\"><span class=\"tfsechead ltr\"><a target=\"_blank\" href=\"https://shebanq.ancient-data.org/hebrew/text?book=Genesis&amp;chapter=1&amp;verse=22&amp;version=c&amp;mr=m&amp;qw=q&amp;tp=txt_p&amp;tr=hb&amp;wget=v&amp;qget=v&amp;nget=vt\" title=\"Show this on SHEBANQ\" sec=\"Genesis 1:22\">Genesis 1:22</a></span></td><td class=\"tf rtl\"><span class=\"rtl ubd\"><span class=\"plain rtl  hlbx\" ><span class=\"txtu hbo\">וְ</span><span class=\"txtu hbo\">הָ</span><span class=\"txtu hbo\">עֹ֖וף </span><span class=\"txtu hbo\">יִ֥רֶב </span><span class=\"txtu hbo\">בָּ</span><span class=\"plain rtl  hl\" ><span class=\"txtu hbo\">אָֽרֶץ׃ </span></span></span></span></td><td class=\"tf rtl\"><span class=\"rtl ubd\"><span class=\"plain rtl  hl\" ><span class=\"txtu hbo\">אָֽרֶץ׃ </span></span></span></td></tr>\n",
       "<tr class=\"tf rtl\"><td class=\"tf rtl\">10</td><td class=\"tf rtl\"><span class=\"tfsechead ltr\"><a target=\"_blank\" href=\"https://shebanq.ancient-data.org/hebrew/text?book=Genesis&amp;chapter=1&amp;verse=26&amp;version=c&amp;mr=m&amp;qw=q&amp;tp=txt_p&amp;tr=hb&amp;wget=v&amp;qget=v&amp;nget=vt\" title=\"Show this on SHEBANQ\" sec=\"Genesis 1:26\">Genesis 1:26</a></span></td><td class=\"tf rtl\"><span class=\"rtl ubd\"><span class=\"plain rtl  hlbx\" ><span class=\"txtu hbo\">וְ</span><span class=\"txtu hbo\">יִרְדּוּ֩ </span><span class=\"txtu hbo\">בִ</span><span class=\"txtu hbo\">דְגַ֨ת </span><span class=\"txtu hbo\">הַ</span><span class=\"txtu hbo\">יָּ֜ם </span><span class=\"txtu hbo\">וּ</span><span class=\"txtu hbo\">בְ</span><span class=\"txtu hbo\">עֹ֣וף </span><span class=\"txtu hbo\">הַ</span><span class=\"txtu hbo\">שָּׁמַ֗יִם </span><span class=\"txtu hbo\">וּ</span><span class=\"txtu hbo\">בַ</span><span class=\"txtu hbo\">בְּהֵמָה֙ </span><span class=\"txtu hbo\">וּ</span><span class=\"txtu hbo\">בְ</span><span class=\"txtu hbo\">כָל־</span><span class=\"txtu hbo\">הָ</span><span class=\"txtu hbo\">אָ֔רֶץ </span><span class=\"txtu hbo\">וּ</span><span class=\"txtu hbo\">בְ</span><span class=\"txtu hbo\">כָל־</span><span class=\"txtu hbo\">הָ</span><span class=\"txtu hbo\">רֶ֖מֶשׂ </span><span class=\"txtu hbo\">הָֽ</span><span class=\"txtu hbo\">רֹמֵ֥שׂ </span><span class=\"txtu hbo\">עַל־</span><span class=\"txtu hbo\">הָ</span><span class=\"plain rtl  hl\" ><span class=\"txtu hbo\">אָֽרֶץ׃ </span></span></span></span></td><td class=\"tf rtl\"><span class=\"rtl ubd\"><span class=\"plain rtl  hl\" ><span class=\"txtu hbo\">אָֽרֶץ׃ </span></span></span></td></tr></table>"
      ],
      "text/plain": [
       "<IPython.core.display.HTML object>"
      ]
     },
     "metadata": {},
     "output_type": "display_data"
    }
   ],
   "source": [
    "query = \"\"\"\n",
    "infrequent otype=sentence\n",
    "  := frequent otype=word\n",
    "\"\"\"\n",
    "results = A.search(query, sets=customSets)\n",
    "A.table(results, start=5, end=10)"
   ]
  },
  {
   "cell_type": "markdown",
   "metadata": {},
   "source": [
    "As a check, we replace the custom set `frequent` by the ordinary type `word` with a rank condition."
   ]
  },
  {
   "cell_type": "code",
   "execution_count": 59,
   "metadata": {},
   "outputs": [
    {
     "name": "stdout",
     "output_type": "stream",
     "text": [
      "  0.96s 10793 results\n"
     ]
    },
    {
     "data": {
      "text/html": [
       "<table><tr class=\"tf rtl\"><th class=\"tf rtl\">n</th><th class=\"tf rtl\">p</th><th class=\"tf rtl\">sentence</th><th class=\"tf\">word</th></tr>\n",
       "<tr class=\"tf rtl\"><td class=\"tf rtl\">5</td><td class=\"tf rtl\"><span class=\"tfsechead ltr\"><a target=\"_blank\" href=\"https://shebanq.ancient-data.org/hebrew/text?book=Genesis&amp;chapter=1&amp;verse=9&amp;version=c&amp;mr=m&amp;qw=q&amp;tp=txt_p&amp;tr=hb&amp;wget=v&amp;qget=v&amp;nget=vt\" title=\"Show this on SHEBANQ\" sec=\"Genesis 1:9\">Genesis 1:9</a></span></td><td class=\"tf rtl\"><span class=\"rtl ubd\"><span class=\"plain rtl  hlbx\" ><span class=\"txtu hbo\">יִקָּו֨וּ </span><span class=\"txtu hbo\">הַ</span><span class=\"txtu hbo\">מַּ֜יִם </span><span class=\"txtu hbo\">מִ</span><span class=\"txtu hbo\">תַּ֤חַת </span><span class=\"txtu hbo\">הַ</span><span class=\"txtu hbo\">שָּׁמַ֨יִם֙ </span><span class=\"txtu hbo\">אֶל־</span><span class=\"txtu hbo\">מָקֹ֣ום </span><span class=\"plain rtl  hl\" ><span class=\"txtu hbo\">אֶחָ֔ד </span></span></span></span></td><td class=\"tf rtl\"><span class=\"rtl ubd\"><span class=\"plain rtl  hl\" ><span class=\"txtu hbo\">אֶחָ֔ד </span></span></span></td></tr>\n",
       "<tr class=\"tf rtl\"><td class=\"tf rtl\">6</td><td class=\"tf rtl\"><span class=\"tfsechead ltr\"><a target=\"_blank\" href=\"https://shebanq.ancient-data.org/hebrew/text?book=Genesis&amp;chapter=1&amp;verse=10&amp;version=c&amp;mr=m&amp;qw=q&amp;tp=txt_p&amp;tr=hb&amp;wget=v&amp;qget=v&amp;nget=vt\" title=\"Show this on SHEBANQ\" sec=\"Genesis 1:10\">Genesis 1:10</a></span></td><td class=\"tf rtl\"><span class=\"rtl ubd\"><span class=\"plain rtl  hlbx\" ><span class=\"txtu hbo\">וַ</span><span class=\"txtu hbo\">יִּקְרָ֨א </span><span class=\"txtu hbo\">אֱלֹהִ֤ים׀ </span><span class=\"txtu hbo\">לַ</span><span class=\"txtu hbo\">יַּבָּשָׁה֙ </span><span class=\"plain rtl  hl\" ><span class=\"txtu hbo\">אֶ֔רֶץ </span></span></span></span></td><td class=\"tf rtl\"><span class=\"rtl ubd\"><span class=\"plain rtl  hl\" ><span class=\"txtu hbo\">אֶ֔רֶץ </span></span></span></td></tr>\n",
       "<tr class=\"tf rtl\"><td class=\"tf rtl\">7</td><td class=\"tf rtl\"><span class=\"tfsechead ltr\"><a target=\"_blank\" href=\"https://shebanq.ancient-data.org/hebrew/text?book=Genesis&amp;chapter=1&amp;verse=11&amp;version=c&amp;mr=m&amp;qw=q&amp;tp=txt_p&amp;tr=hb&amp;wget=v&amp;qget=v&amp;nget=vt\" title=\"Show this on SHEBANQ\" sec=\"Genesis 1:11\">Genesis 1:11</a></span></td><td class=\"tf rtl\"><span class=\"rtl ubd\"><span class=\"plain rtl  hlbx\" ><span class=\"plain rtl l \" ><span class=\"txtu hbo\">תַּֽדְשֵׁ֤א </span><span class=\"txtu hbo\">הָ</span><span class=\"txtu hbo\">אָ֨רֶץ֙ </span><span class=\"plain rtl l \" ><span class=\"txtu hbo\">דֶּ֔שֶׁא </span><span class=\"txtu hbo\">עֵ֚שֶׂב </span></span></span><span class=\"txtu hbo\">מַזְרִ֣יעַ </span><span class=\"txtu hbo\">זֶ֔רַע </span><span class=\"plain rtl r \" ><span class=\"plain rtl r \" ><span class=\"txtu hbo\">עֵ֣ץ </span><span class=\"txtu hbo\">פְּרִ֞י </span></span></span><span class=\"plain rtl l \" ><span class=\"txtu hbo\">עֹ֤שֶׂה </span><span class=\"txtu hbo\">פְּרִי֙ </span><span class=\"txtu hbo\">לְ</span><span class=\"txtu hbo\">מִינֹ֔ו </span></span><span class=\"txtu hbo\">אֲשֶׁ֥ר </span><span class=\"txtu hbo\">זַרְעֹו־</span><span class=\"txtu hbo\">בֹ֖ו </span><span class=\"plain rtl r \" ><span class=\"txtu hbo\">עַל־</span><span class=\"txtu hbo\">הָ</span><span class=\"plain rtl  hl\" ><span class=\"txtu hbo\">אָ֑רֶץ </span></span></span></span></span></td><td class=\"tf rtl\"><span class=\"rtl ubd\"><span class=\"plain rtl  hl\" ><span class=\"txtu hbo\">אָ֑רֶץ </span></span></span></td></tr>\n",
       "<tr class=\"tf rtl\"><td class=\"tf rtl\">8</td><td class=\"tf rtl\"><span class=\"tfsechead ltr\"><a target=\"_blank\" href=\"https://shebanq.ancient-data.org/hebrew/text?book=Genesis&amp;chapter=1&amp;verse=15&amp;version=c&amp;mr=m&amp;qw=q&amp;tp=txt_p&amp;tr=hb&amp;wget=v&amp;qget=v&amp;nget=vt\" title=\"Show this on SHEBANQ\" sec=\"Genesis 1:15\">Genesis 1:15</a></span></td><td class=\"tf rtl\"><span class=\"rtl ubd\"><span class=\"plain rtl  hlbx\" ><span class=\"txtu hbo\">וְ</span><span class=\"txtu hbo\">הָי֤וּ </span><span class=\"txtu hbo\">לִ</span><span class=\"txtu hbo\">מְאֹורֹת֙ </span><span class=\"txtu hbo\">בִּ</span><span class=\"txtu hbo\">רְקִ֣יעַ </span><span class=\"txtu hbo\">הַ</span><span class=\"txtu hbo\">שָּׁמַ֔יִם </span><span class=\"txtu hbo\">לְ</span><span class=\"txtu hbo\">הָאִ֖יר </span><span class=\"txtu hbo\">עַל־</span><span class=\"txtu hbo\">הָ</span><span class=\"plain rtl  hl\" ><span class=\"txtu hbo\">אָ֑רֶץ </span></span></span></span></td><td class=\"tf rtl\"><span class=\"rtl ubd\"><span class=\"plain rtl  hl\" ><span class=\"txtu hbo\">אָ֑רֶץ </span></span></span></td></tr>\n",
       "<tr class=\"tf rtl\"><td class=\"tf rtl\">9</td><td class=\"tf rtl\"><span class=\"tfsechead ltr\"><a target=\"_blank\" href=\"https://shebanq.ancient-data.org/hebrew/text?book=Genesis&amp;chapter=1&amp;verse=22&amp;version=c&amp;mr=m&amp;qw=q&amp;tp=txt_p&amp;tr=hb&amp;wget=v&amp;qget=v&amp;nget=vt\" title=\"Show this on SHEBANQ\" sec=\"Genesis 1:22\">Genesis 1:22</a></span></td><td class=\"tf rtl\"><span class=\"rtl ubd\"><span class=\"plain rtl  hlbx\" ><span class=\"txtu hbo\">וְ</span><span class=\"txtu hbo\">הָ</span><span class=\"txtu hbo\">עֹ֖וף </span><span class=\"txtu hbo\">יִ֥רֶב </span><span class=\"txtu hbo\">בָּ</span><span class=\"plain rtl  hl\" ><span class=\"txtu hbo\">אָֽרֶץ׃ </span></span></span></span></td><td class=\"tf rtl\"><span class=\"rtl ubd\"><span class=\"plain rtl  hl\" ><span class=\"txtu hbo\">אָֽרֶץ׃ </span></span></span></td></tr>\n",
       "<tr class=\"tf rtl\"><td class=\"tf rtl\">10</td><td class=\"tf rtl\"><span class=\"tfsechead ltr\"><a target=\"_blank\" href=\"https://shebanq.ancient-data.org/hebrew/text?book=Genesis&amp;chapter=1&amp;verse=26&amp;version=c&amp;mr=m&amp;qw=q&amp;tp=txt_p&amp;tr=hb&amp;wget=v&amp;qget=v&amp;nget=vt\" title=\"Show this on SHEBANQ\" sec=\"Genesis 1:26\">Genesis 1:26</a></span></td><td class=\"tf rtl\"><span class=\"rtl ubd\"><span class=\"plain rtl  hlbx\" ><span class=\"txtu hbo\">וְ</span><span class=\"txtu hbo\">יִרְדּוּ֩ </span><span class=\"txtu hbo\">בִ</span><span class=\"txtu hbo\">דְגַ֨ת </span><span class=\"txtu hbo\">הַ</span><span class=\"txtu hbo\">יָּ֜ם </span><span class=\"txtu hbo\">וּ</span><span class=\"txtu hbo\">בְ</span><span class=\"txtu hbo\">עֹ֣וף </span><span class=\"txtu hbo\">הַ</span><span class=\"txtu hbo\">שָּׁמַ֗יִם </span><span class=\"txtu hbo\">וּ</span><span class=\"txtu hbo\">בַ</span><span class=\"txtu hbo\">בְּהֵמָה֙ </span><span class=\"txtu hbo\">וּ</span><span class=\"txtu hbo\">בְ</span><span class=\"txtu hbo\">כָל־</span><span class=\"txtu hbo\">הָ</span><span class=\"txtu hbo\">אָ֔רֶץ </span><span class=\"txtu hbo\">וּ</span><span class=\"txtu hbo\">בְ</span><span class=\"txtu hbo\">כָל־</span><span class=\"txtu hbo\">הָ</span><span class=\"txtu hbo\">רֶ֖מֶשׂ </span><span class=\"txtu hbo\">הָֽ</span><span class=\"txtu hbo\">רֹמֵ֥שׂ </span><span class=\"txtu hbo\">עַל־</span><span class=\"txtu hbo\">הָ</span><span class=\"plain rtl  hl\" ><span class=\"txtu hbo\">אָֽרֶץ׃ </span></span></span></span></td><td class=\"tf rtl\"><span class=\"rtl ubd\"><span class=\"plain rtl  hl\" ><span class=\"txtu hbo\">אָֽרֶץ׃ </span></span></span></td></tr></table>"
      ],
      "text/plain": [
       "<IPython.core.display.HTML object>"
      ]
     },
     "metadata": {},
     "output_type": "display_data"
    }
   ],
   "source": [
    "query = \"\"\"\n",
    "infrequent otype=sentence\n",
    "  := word rank_lex<100\n",
    "\"\"\"\n",
    "results = A.search(query, sets=customSets)\n",
    "A.table(results, start=5, end=10)"
   ]
  },
  {
   "cell_type": "markdown",
   "metadata": {},
   "source": [
    "Note that no matter how expensive the construction of a set has been, once you have it, queries based on it are just fast. There is no penalty when you use given sets instead of the familiar node types."
   ]
  },
  {
   "cell_type": "markdown",
   "metadata": {},
   "source": [
    "# All steps\n",
    "\n",
    "* **[start](start.ipynb)** your first step in mastering the bible computationally\n",
    "* **[display](display.ipynb)** become an expert in creating pretty displays of your text structures\n",
    "* **[search](search.ipynb)** turbo charge your hand-coding with search templates\n",
    "\n",
    "---\n",
    "\n",
    "advanced\n",
    "\n",
    "You have seen how to filter on feature values, of nodes and of edges.\n",
    "\n",
    "Now we want to set up sets for real.\n",
    "\n",
    "[sets](searchSets.ipynb)\n",
    "[relations](searchRelations.ipynb)\n",
    "[quantifiers](searchQuantifiers.ipynb)\n",
    "[fromMQL](searchFromMQL.ipynb)\n",
    "[rough](searchRough.ipynb)\n",
    "[gaps](searchGaps.ipynb)\n",
    "\n",
    "---\n",
    "\n",
    "* **[exportExcel](exportExcel.ipynb)** make tailor-made spreadsheets out of your results\n",
    "* **[share](share.ipynb)** draw in other people's data and let them use yours\n",
    "* **[export](export.ipynb)** export your dataset as an Emdros database\n",
    "* **[annotate](annotate.ipynb)** annotate plain text by means of other tools and import the annotations as TF features\n",
    "* **[volumes](volumes.ipynb)** work with selected books only\n",
    "* **[trees](trees.ipynb)** work with the BHSA data as syntax trees\n",
    "\n",
    "CC-BY Dirk Roorda"
   ]
  }
 ],
 "metadata": {
  "kernelspec": {
   "display_name": "Python 3",
   "language": "python",
   "name": "python3"
  },
  "language_info": {
   "codemirror_mode": {
    "name": "ipython",
    "version": 3
   },
   "file_extension": ".py",
   "mimetype": "text/x-python",
   "name": "python",
   "nbconvert_exporter": "python",
   "pygments_lexer": "ipython3",
   "version": "3.9.5"
  },
  "widgets": {
   "application/vnd.jupyter.widget-state+json": {
    "state": {},
    "version_major": 2,
    "version_minor": 0
   }
  }
 },
 "nbformat": 4,
 "nbformat_minor": 4
}
