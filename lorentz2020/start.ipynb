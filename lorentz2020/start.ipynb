{
 "cells": [
  {
   "cell_type": "markdown",
   "metadata": {
    "lines_to_next_cell": 2
   },
   "source": [
    "# Hands On with the fabric of an ancient text\n",
    "\n",
    "\n",
    "Before the hands-on session, install all of the following:\n",
    "\n",
    "## Python\n",
    "\n",
    "Make sure Python 3.6 or higher is installed.\n",
    "\n",
    "Then install Text-Fabric and Jupyter.\n",
    "\n",
    "Do it by following the instructions in the\n",
    "[Text-Fabric docs](https://annotation.github.io/text-fabric/tf/about/install.html)\n",
    "\n",
    "## More  libraries\n",
    "\n",
    "Install `seaborn`, a python library for graphic plots:\n",
    "\n",
    "```\n",
    "pip install seaborn\n",
    "```\n",
    "\n",
    "or\n",
    "\n",
    "```\n",
    "pip3  install seaborn\n",
    "```\n",
    "\n",
    "(if you have installed Text-Fabric you know  which)\n",
    "\n",
    "## This tutorial\n",
    "\n",
    "If you followed the link to this tutorial, then you see its Jupyter notebooks in readonly mode.\n",
    "You cannot execute code cells.\n",
    "\n",
    "In order to compute with these notebooks, you have to download them.\n",
    "\n",
    "Here is the\n",
    "\n",
    "[zip file](https://github.com/annotation/tutorials/releases/download/v2.1/lorentz2020.zip).\n",
    "\n",
    "Unzip it, open a terminal or command prompt, navigate to the new folder, and give the command\n",
    "\n",
    "```\n",
    "jupyter notebook\n",
    "```\n",
    "\n",
    "Your browser starts up and presents you a local computing environment where you can run Python programs.\n",
    "You see this start notebook and several notebooks dedicated to a specific corpus.\n",
    "Click such a notebook.\n",
    "\n",
    "You see cells like the one below, where you can type programming statements and execute them by pressing `Shift Enter`."
   ]
  },
  {
   "cell_type": "markdown",
   "metadata": {},
   "source": [
    "# Corpus\n",
    "\n",
    "The list of available corpora is [here](https://annotation.github.io/text-fabric/tf/about/corpora.html).\n",
    "\n",
    "There are hands-on guides for\n",
    "\n",
    "* [`oldbabylonian` Old Babylonian Letters](oldbabylonian.ipynb)\n",
    "* [`dss` Dead Sea Scrolls](dss.ipynb)\n",
    "* [`quran` Q'uran](quran.ipynb)\n",
    "\n",
    "Each hands-on guide takes you through the activities of browsing the corpus, searching it, and collecting\n",
    "information that cannot easily expressed as a search instruction.\n",
    "\n",
    "These three corpora differ in data features, section structure, granularity, richness of data features.\n",
    "That is why the toy problems in these hands on are different. It is worth studying all three of them.\n",
    "\n",
    "Head over to the hands-on guide corpus of your prime interest by clicking one of the three links above.\n",
    "\n",
    "These guides will let you download the corpus data.\n",
    "\n",
    "Please do that before the hands-on session."
   ]
  },
  {
   "cell_type": "markdown",
   "metadata": {},
   "source": [
    "# Problems?\n",
    "\n",
    "If things are not going as expected, you can ask around on our Slack team\n",
    "[ancient-data](https://join.slack.com/t/ancient-data/shared_invite/enQtODk0ODUxNDE2NTc5LTZmYzlkOWI3NmVmYzEwY2RkYWRmNGMyMzQ5MzYzMTA1MDAxMDM4YTY3OWE0MDdkYzFiZGFhMjJiNjdmNWQzOWU)."
   ]
  }
 ],
 "metadata": {
  "kernelspec": {
   "display_name": "Python 3",
   "language": "python",
   "name": "python3"
  },
  "language_info": {
   "codemirror_mode": {
    "name": "ipython",
    "version": 3
   },
   "file_extension": ".py",
   "mimetype": "text/x-python",
   "name": "python",
   "nbconvert_exporter": "python",
   "pygments_lexer": "ipython3",
   "version": "3.7.7"
  }
 },
 "nbformat": 4,
 "nbformat_minor": 4
}
