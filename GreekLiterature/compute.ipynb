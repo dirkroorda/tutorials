{
 "cells": [
  {
   "cell_type": "markdown",
   "metadata": {},
   "source": [
    "<img src=\"images/pthu.png\"/>\n",
    "<img align=\"right\" src=\"images/tf-small.png\" width=\"128\"/>\n",
    "<img align=\"right\" src=\"images/dans-small.png\"/>\n",
    "\n",
    "# Compute\n",
    "\n",
    "This notebook shows you how to compute with your corpus in Text-Fabric.\n",
    "See [start](start.ipynb) for preliminaries.\n",
    "\n",
    "## About\n",
    "\n",
    "Ernst Boogert, while at the [PThU](https://www.pthu.nl/en/) has mass-converted Greek Literature from\n",
    "high quality libraries such as Perseus to the Text-Fabric format.\n",
    "\n",
    "He has delivered the outcome to the [greek_literature](https://github.com/pthu/greek_literature) repository on GitHub.\n",
    "\n",
    "It consists of nearly 1800 works by over 250 authors."
   ]
  },
  {
   "cell_type": "code",
   "execution_count": 1,
   "metadata": {},
   "outputs": [],
   "source": [
    "%load_ext autoreload\n",
    "%autoreload 2"
   ]
  },
  {
   "cell_type": "code",
   "execution_count": 6,
   "metadata": {},
   "outputs": [],
   "source": [
    "from tf.app import use\n",
    "from catalog import makeCatalog, ORG, REPO, VERSION"
   ]
  },
  {
   "cell_type": "markdown",
   "metadata": {},
   "source": [
    "# Selection\n",
    "\n",
    "We pick the same work as in [load](load.ipynb)."
   ]
  },
  {
   "cell_type": "code",
   "execution_count": 7,
   "metadata": {},
   "outputs": [
    {
     "data": {
      "text/plain": [
       "'First1KGreek/tlg0085/tlg007/opp-grc3/1/tf'"
      ]
     },
     "execution_count": 7,
     "metadata": {},
     "output_type": "execute_result"
    }
   ],
   "source": [
    "AUTHOR = \"Aeschylus\"\n",
    "TITLE = \"Eumenides\"\n",
    "\n",
    "works = makeCatalog()\n",
    "dataSource = works[AUTHOR][TITLE][0]\n",
    "\n",
    "dataSource"
   ]
  },
  {
   "cell_type": "markdown",
   "metadata": {},
   "source": [
    "# Loading\n",
    "\n",
    "We load the Eumenides:"
   ]
  },
  {
   "cell_type": "code",
   "execution_count": 8,
   "metadata": {},
   "outputs": [
    {
     "data": {
      "text/html": [
       "<b title=\"local github\">data:</b> <span title=\"repo clone offline under ~/github\">~/github/pthu/greek_literature/First1KGreek/tlg0085/tlg007/opp-grc3/1/tf/1.0</span>"
      ],
      "text/plain": [
       "<IPython.core.display.HTML object>"
      ]
     },
     "metadata": {},
     "output_type": "display_data"
    },
    {
     "data": {
      "text/html": [
       "<b>Text-Fabric:</b> <a target=\"_blank\" href=\"https://annotation.github.io/text-fabric/cheatsheet.html\" title=\"text-fabric-api\">Text-Fabric API 8.4.5</a>, no app configured<br><b>Data:</b> pthu/greek_literature/First1KGreek/tlg0085/tlg007/opp-grc3/1/tf/1.0<br><b>Features:</b><br><details><summary><b>pthu/greek_literature/First1KGreek/tlg0085/tlg007/opp-grc3/1/tf</b></summary><a target=\"_blank\" href=\"https://github.com/pthu/greek_literature/tree/master/First1KGreek/tlg0085/tlg007/opp-grc3/1/tf\" title=\"~/github/pthu/greek_literature/First1KGreek/tlg0085/tlg007/opp-grc3/1/tf/1.0/_book.tf\">_book</a><br><a target=\"_blank\" href=\"https://github.com/pthu/greek_literature/tree/master/First1KGreek/tlg0085/tlg007/opp-grc3/1/tf\" title=\"~/github/pthu/greek_literature/First1KGreek/tlg0085/tlg007/opp-grc3/1/tf/1.0/_phrase.tf\">_phrase</a><br><a target=\"_blank\" href=\"https://github.com/pthu/greek_literature/tree/master/First1KGreek/tlg0085/tlg007/opp-grc3/1/tf\" title=\"~/github/pthu/greek_literature/First1KGreek/tlg0085/tlg007/opp-grc3/1/tf/1.0/_sentence.tf\">_sentence</a><br><a target=\"_blank\" href=\"https://github.com/pthu/greek_literature/tree/master/First1KGreek/tlg0085/tlg007/opp-grc3/1/tf\" title=\"~/github/pthu/greek_literature/First1KGreek/tlg0085/tlg007/opp-grc3/1/tf/1.0/anapests.tf\">anapests</a><br><a target=\"_blank\" href=\"https://github.com/pthu/greek_literature/tree/master/First1KGreek/tlg0085/tlg007/opp-grc3/1/tf\" title=\"~/github/pthu/greek_literature/First1KGreek/tlg0085/tlg007/opp-grc3/1/tf/1.0/antistrophe.tf\">antistrophe</a><br><a target=\"_blank\" href=\"https://github.com/pthu/greek_literature/tree/master/First1KGreek/tlg0085/tlg007/opp-grc3/1/tf\" title=\"~/github/pthu/greek_literature/First1KGreek/tlg0085/tlg007/opp-grc3/1/tf/1.0/card.tf\">card</a><br><a target=\"_blank\" href=\"https://github.com/pthu/greek_literature/tree/master/First1KGreek/tlg0085/tlg007/opp-grc3/1/tf\" title=\"~/github/pthu/greek_literature/First1KGreek/tlg0085/tlg007/opp-grc3/1/tf/1.0/choral.tf\">choral</a><br><a target=\"_blank\" href=\"https://github.com/pthu/greek_literature/tree/master/First1KGreek/tlg0085/tlg007/opp-grc3/1/tf\" title=\"~/github/pthu/greek_literature/First1KGreek/tlg0085/tlg007/opp-grc3/1/tf/1.0/edition-grc.tf\">edition-grc</a><br><a target=\"_blank\" href=\"https://github.com/pthu/greek_literature/tree/master/First1KGreek/tlg0085/tlg007/opp-grc3/1/tf\" title=\"~/github/pthu/greek_literature/First1KGreek/tlg0085/tlg007/opp-grc3/1/tf/1.0/ephymn.tf\">ephymn</a><br><a target=\"_blank\" href=\"https://github.com/pthu/greek_literature/tree/master/First1KGreek/tlg0085/tlg007/opp-grc3/1/tf\" title=\"~/github/pthu/greek_literature/First1KGreek/tlg0085/tlg007/opp-grc3/1/tf/1.0/episode.tf\">episode</a><br><a target=\"_blank\" href=\"https://github.com/pthu/greek_literature/tree/master/First1KGreek/tlg0085/tlg007/opp-grc3/1/tf\" title=\"~/github/pthu/greek_literature/First1KGreek/tlg0085/tlg007/opp-grc3/1/tf/1.0/foreign.tf\">foreign</a><br><a target=\"_blank\" href=\"https://github.com/pthu/greek_literature/tree/master/First1KGreek/tlg0085/tlg007/opp-grc3/1/tf\" title=\"~/github/pthu/greek_literature/First1KGreek/tlg0085/tlg007/opp-grc3/1/tf/1.0/head.tf\">head</a><br><a target=\"_blank\" href=\"https://github.com/pthu/greek_literature/tree/master/First1KGreek/tlg0085/tlg007/opp-grc3/1/tf\" title=\"~/github/pthu/greek_literature/First1KGreek/tlg0085/tlg007/opp-grc3/1/tf/1.0/hi.tf\">hi</a><br><a target=\"_blank\" href=\"https://github.com/pthu/greek_literature/tree/master/First1KGreek/tlg0085/tlg007/opp-grc3/1/tf\" title=\"~/github/pthu/greek_literature/First1KGreek/tlg0085/tlg007/opp-grc3/1/tf/1.0/hypothesis.tf\">hypothesis</a><br><a target=\"_blank\" href=\"https://github.com/pthu/greek_literature/tree/master/First1KGreek/tlg0085/tlg007/opp-grc3/1/tf\" title=\"~/github/pthu/greek_literature/First1KGreek/tlg0085/tlg007/opp-grc3/1/tf/1.0/l.tf\">l</a><br><a target=\"_blank\" href=\"https://github.com/pthu/greek_literature/tree/master/First1KGreek/tlg0085/tlg007/opp-grc3/1/tf\" title=\"~/github/pthu/greek_literature/First1KGreek/tlg0085/tlg007/opp-grc3/1/tf/1.0/lyric.tf\">lyric</a><br><a target=\"_blank\" href=\"https://github.com/pthu/greek_literature/tree/master/First1KGreek/tlg0085/tlg007/opp-grc3/1/tf\" title=\"~/github/pthu/greek_literature/First1KGreek/tlg0085/tlg007/opp-grc3/1/tf/1.0/main.tf\">main</a><br><a target=\"_blank\" href=\"https://github.com/pthu/greek_literature/tree/master/First1KGreek/tlg0085/tlg007/opp-grc3/1/tf\" title=\"~/github/pthu/greek_literature/First1KGreek/tlg0085/tlg007/opp-grc3/1/tf/1.0/note.tf\">note</a><br><a target=\"_blank\" href=\"https://github.com/pthu/greek_literature/tree/master/First1KGreek/tlg0085/tlg007/opp-grc3/1/tf\" title=\"~/github/pthu/greek_literature/First1KGreek/tlg0085/tlg007/opp-grc3/1/tf/1.0/orig.tf\">orig</a><br><a target=\"_blank\" href=\"https://github.com/pthu/greek_literature/tree/master/First1KGreek/tlg0085/tlg007/opp-grc3/1/tf\" title=\"~/github/pthu/greek_literature/First1KGreek/tlg0085/tlg007/opp-grc3/1/tf/1.0/otype.tf\">otype</a><br><a target=\"_blank\" href=\"https://github.com/pthu/greek_literature/tree/master/First1KGreek/tlg0085/tlg007/opp-grc3/1/tf\" title=\"~/github/pthu/greek_literature/First1KGreek/tlg0085/tlg007/opp-grc3/1/tf/1.0/p.tf\">p</a><br><a target=\"_blank\" href=\"https://github.com/pthu/greek_literature/tree/master/First1KGreek/tlg0085/tlg007/opp-grc3/1/tf\" title=\"~/github/pthu/greek_literature/First1KGreek/tlg0085/tlg007/opp-grc3/1/tf/1.0/para-P.tf\">para-P</a><br><a target=\"_blank\" href=\"https://github.com/pthu/greek_literature/tree/master/First1KGreek/tlg0085/tlg007/opp-grc3/1/tf\" title=\"~/github/pthu/greek_literature/First1KGreek/tlg0085/tlg007/opp-grc3/1/tf/1.0/pb.tf\">pb</a><br><a target=\"_blank\" href=\"https://github.com/pthu/greek_literature/tree/master/First1KGreek/tlg0085/tlg007/opp-grc3/1/tf\" title=\"~/github/pthu/greek_literature/First1KGreek/tlg0085/tlg007/opp-grc3/1/tf/1.0/plain.tf\">plain</a><br><a target=\"_blank\" href=\"https://github.com/pthu/greek_literature/tree/master/First1KGreek/tlg0085/tlg007/opp-grc3/1/tf\" title=\"~/github/pthu/greek_literature/First1KGreek/tlg0085/tlg007/opp-grc3/1/tf/1.0/post.tf\">post</a><br><a target=\"_blank\" href=\"https://github.com/pthu/greek_literature/tree/master/First1KGreek/tlg0085/tlg007/opp-grc3/1/tf\" title=\"~/github/pthu/greek_literature/First1KGreek/tlg0085/tlg007/opp-grc3/1/tf/1.0/pre.tf\">pre</a><br><a target=\"_blank\" href=\"https://github.com/pthu/greek_literature/tree/master/First1KGreek/tlg0085/tlg007/opp-grc3/1/tf\" title=\"~/github/pthu/greek_literature/First1KGreek/tlg0085/tlg007/opp-grc3/1/tf/1.0/sp.tf\">sp</a><br><a target=\"_blank\" href=\"https://github.com/pthu/greek_literature/tree/master/First1KGreek/tlg0085/tlg007/opp-grc3/1/tf\" title=\"~/github/pthu/greek_literature/First1KGreek/tlg0085/tlg007/opp-grc3/1/tf/1.0/speaker.tf\">speaker</a><br><a target=\"_blank\" href=\"https://github.com/pthu/greek_literature/tree/master/First1KGreek/tlg0085/tlg007/opp-grc3/1/tf\" title=\"~/github/pthu/greek_literature/First1KGreek/tlg0085/tlg007/opp-grc3/1/tf/1.0/strophe.tf\">strophe</a><br><b><i><a target=\"_blank\" href=\"https://github.com/pthu/greek_literature/tree/master/First1KGreek/tlg0085/tlg007/opp-grc3/1/tf\" title=\"~/github/pthu/greek_literature/First1KGreek/tlg0085/tlg007/opp-grc3/1/tf/1.0/oslots.tf\">oslots</a></i></b><br></details>"
      ],
      "text/plain": [
       "<IPython.core.display.HTML object>"
      ]
     },
     "metadata": {},
     "output_type": "display_data"
    },
    {
     "data": {
      "text/html": [
       "<style>tr.tf.ltr, td.tf.ltr, th.tf.ltr { text-align: left ! important;}\n",
       "tr.tf.rtl, td.tf.rtl, th.tf.rtl { text-align: right ! important;}\n",
       "@font-face {\n",
       "  font-family: \"Gentium Plus\";\n",
       "  src: local('Gentium Plus'), local('GentiumPlus'),\n",
       "    url('/server/static/fonts/GentiumPlus-R.woff') format('woff'),\n",
       "    url('https://github.com/annotation/text-fabric/blob/master/tf/server/static/fonts/GentiumPlus-R.woff?raw=true') format('woff');\n",
       "}\n",
       "\n",
       "@font-face {\n",
       "  font-family: \"Ezra SIL\";\n",
       "  src: local('Ezra SIL'), local('EzraSIL'),\n",
       "    url('/server/static/fonts/SILEOT.woff') format('woff'),\n",
       "    url('https://github.com/annotation/text-fabric/blob/master/tf/server/static/fonts/SILEOT.woff?raw=true') format('woff');\n",
       "}\n",
       "\n",
       "@font-face {\n",
       "  font-family: \"SBL Hebrew\";\n",
       "  src: local('SBL Hebrew'), local('SBLHebrew'),\n",
       "    url('/server/static/fonts/SBL_Hbrw.woff') format('woff'),\n",
       "    url('https://github.com/annotation/text-fabric/blob/master/tf/server/static/fonts/SBL_Hbrw.woff?raw=true') format('woff');\n",
       "}\n",
       "\n",
       "@font-face {\n",
       "  font-family: \"Estrangelo Edessa\";\n",
       "  src: local('Estrangelo Edessa'), local('EstrangeloEdessa');\n",
       "    url('/server/static/fonts/SyrCOMEdessa.woff') format('woff'),\n",
       "    url('https://github.com/annotation/text-fabric/blob/master/tf/server/static/fonts/SyrCOMEdessa.woff?raw=true') format('woff');\n",
       "}\n",
       "\n",
       "@font-face {\n",
       "  font-family: AmiriQuran;\n",
       "  font-style: normal;\n",
       "  font-weight: 400;\n",
       "  src: local('Amiri Quran'), local('AmiriQuran'),\n",
       "    url('/server/static/fonts/AmiriQuran.woff') format('woff'),\n",
       "    url('https://github.com/annotation/text-fabric/blob/master/tf/server/static/fonts/AmiriQuran.woff?raw=true') format('woff');\n",
       "}\n",
       "\n",
       "@font-face {\n",
       "  font-family: AmiriQuranColored;\n",
       "  font-style: normal;\n",
       "  font-weight: 400;\n",
       "  src: local('Amiri Quran Colored'), local('AmiriQuranColored'),\n",
       "    url('/server/static/fonts/AmiriQuranColored.woff') format('woff'),\n",
       "    url('https://github.com/annotation/text-fabric/blob/master/tf/server/static/fonts/AmiriQuranColored.woff?raw=true') format('woff');\n",
       "}\n",
       "\n",
       "@font-face {\n",
       "  font-family: \"Santakku\";\n",
       "  src: local('Santakku'),\n",
       "    url('/server/static/fonts/Santakku.woff') format('woff'),\n",
       "    url('https://github.com/annotation/text-fabric/blob/master/tf/server/static/fonts/Santakku.woff?raw=true') format('woff');\n",
       "}\n",
       "\n",
       "@font-face {\n",
       "  font-family: \"SantakkuM\";\n",
       "  src: local('SantakkuM'),\n",
       "    url('/server/static/fonts/SantakkuM.woff') format('woff'),\n",
       "    url('https://github.com/annotation/text-fabric/blob/master/tf/server/static/fonts/SantakkuM.woff?raw=true') format('woff');\n",
       "}\n",
       "/* bypassing some classical notebook settings */\n",
       "div#notebook {\n",
       "  line-height: unset;\n",
       "}\n",
       "/* neutral text */\n",
       ".txtn,.txtn a:visited,.txtn a:link {\n",
       "    font-family: sans-serif;\n",
       "    font-size: medium;\n",
       "    direction: ltr;\n",
       "    unicode-bidi: embed;\n",
       "    text-decoration: none;\n",
       "    color: var(--text-color);\n",
       "}\n",
       "/* transcription text */\n",
       ".txtt,.txtt a:visited,.txtt a:link {\n",
       "    font-family: monospace;\n",
       "    font-size: medium;\n",
       "    direction: ltr;\n",
       "    unicode-bidi: embed;\n",
       "    text-decoration: none;\n",
       "    color: var(--text-color);\n",
       "}\n",
       "/* source text */\n",
       ".txto,.txto a:visited,.txto a:link {\n",
       "    font-family: serif;\n",
       "    font-size: medium;\n",
       "    direction: ltr;\n",
       "    unicode-bidi: embed;\n",
       "    text-decoration: none;\n",
       "    color: var(--text-color);\n",
       "}\n",
       "/* phonetic text */\n",
       ".txtp,.txtp a:visited,.txtp a:link {\n",
       "    font-family: Gentium, sans-serif;\n",
       "    font-size: medium;\n",
       "    direction: ltr;\n",
       "    unicode-bidi: embed;\n",
       "    text-decoration: none;\n",
       "    color: var(--text-color);\n",
       "}\n",
       "/* original script text */\n",
       ".txtu,.txtu a:visited,.txtu a:link {\n",
       "    font-family: Gentium, sans-serif;\n",
       "    font-size: medium;\n",
       "    text-decoration: none;\n",
       "    color: var(--text-color);\n",
       "}\n",
       "/* hebrew */\n",
       ".txtu.hbo,.lex.hbo {\n",
       "    font-family: \"Ezra SIL\", \"SBL Hebrew\", sans-serif;\n",
       "    font-size: large;\n",
       "    direction: rtl ! important;\n",
       "    unicode-bidi: embed;\n",
       "}\n",
       "/* syriac */\n",
       ".txtu.syc,.lex.syc {\n",
       "    font-family: \"Estrangelo Edessa\", sans-serif;\n",
       "    font-size: medium;\n",
       "    direction: rtl ! important;\n",
       "    unicode-bidi: embed;\n",
       "}\n",
       "/* neo aramaic */\n",
       ".txtu.cld,.lex.cld {\n",
       "    font-family: \"CharisSIL-R\", sans-serif;\n",
       "    font-size: medium;\n",
       "    direction: ltr ! important;\n",
       "    unicode-bidi: embed;\n",
       "}\n",
       "/* standard arabic */\n",
       ".txtu.ara,.lex.ara {\n",
       "    font-family: \"AmiriQuran\", sans-serif;\n",
       "    font-size: large;\n",
       "    direction: rtl ! important;\n",
       "    unicode-bidi: embed;\n",
       "}\n",
       "/* cuneiform */\n",
       ".txtu.akk,.lex.akk {\n",
       "    font-family: Santakku, sans-serif;\n",
       "    font-size: large;\n",
       "    direction: ltr ! important;\n",
       "    unicode-bidi: embed;\n",
       "}\n",
       "/* greek */\n",
       ".txtu.grc,.lex.grc a:link {\n",
       "    font-family: Gentium, sans-serif;\n",
       "    font-size: medium;\n",
       "    direction: ltr ! important;\n",
       "    unicode-bidi: embed;\n",
       "}\n",
       "a:hover {\n",
       "    text-decoration: underline | important;\n",
       "    color: #0000ff | important;\n",
       "}\n",
       ".ltr {\n",
       "    direction: ltr ! important;\n",
       "    unicode-bidi: embed;\n",
       "}\n",
       ".rtl {\n",
       "    direction: rtl ! important;\n",
       "    unicode-bidi: embed;\n",
       "}\n",
       ".ubd {\n",
       "    unicode-bidi: embed;\n",
       "}\n",
       ".col {\n",
       "   display: inline-block;\n",
       "}\n",
       ".features {\n",
       "    font-family: monospace;\n",
       "    font-size: medium;\n",
       "    font-weight: bold;\n",
       "    color: var(--features);\n",
       "    display: flex;\n",
       "    flex-flow: column nowrap;\n",
       "    justify-content: flex-start;\n",
       "    align-items: flex-start;\n",
       "    align-content: flex-start;\n",
       "    padding: 2px;\n",
       "    margin: 2px;\n",
       "    direction: ltr;\n",
       "    unicode-bidi: embed;\n",
       "    border: var(--meta-width) solid var(--meta-color);\n",
       "    border-radius: var(--meta-width);\n",
       "}\n",
       ".features div,.features span {\n",
       "    padding: 0;\n",
       "    margin: -2px 0;\n",
       "}\n",
       ".features .f {\n",
       "    font-family: sans-serif;\n",
       "    font-size: small;\n",
       "    font-weight: normal;\n",
       "    color: #5555bb;\n",
       "}\n",
       ".features .xft {\n",
       "  color: #000000;\n",
       "  background-color: #eeeeee;\n",
       "  font-size: medium;\n",
       "  margin: 2px 0px;\n",
       "}\n",
       ".features .xft .f {\n",
       "  color: #000000;\n",
       "  background-color: #eeeeee;\n",
       "  font-size: small;\n",
       "  font-weight: normal;\n",
       "}\n",
       ".section {\n",
       "    font-family: sans-serif;\n",
       "    font-size: small;\n",
       "    font-weight: bold;\n",
       "    color: var(--section);\n",
       "    unicode-bidi: embed;\n",
       "    text-align: start;\n",
       "}\n",
       ".structure {\n",
       "    font-family: sans-serif;\n",
       "    font-size: small;\n",
       "    font-weight: bold;\n",
       "    color: var(--structure);\n",
       "    unicode-bidi: embed;\n",
       "    text-align: start;\n",
       "}\n",
       ".comments {\n",
       "    display: flex;\n",
       "    justify-content: flex-start;\n",
       "    align-items: flex-start;\n",
       "    align-content: flex-start;\n",
       "    flex-flow: column nowrap;\n",
       "}\n",
       ".nd, a:link.nd {\n",
       "    font-family: sans-serif;\n",
       "    font-size: small;\n",
       "    color: var(--node);\n",
       "    vertical-align: super;\n",
       "    direction: ltr ! important;\n",
       "    unicode-bidi: embed;\n",
       "}\n",
       ".lex {\n",
       "  color: var(--lex-color);;\n",
       "}\n",
       ".children,.children.ltr {\n",
       "    display: flex;\n",
       "    border: 0;\n",
       "    background-color: #ffffff;\n",
       "    justify-content: flex-start;\n",
       "    align-items: flex-start;\n",
       "    align-content: flex-start;\n",
       "}\n",
       ".children.stretch {\n",
       "    align-items: stretch;\n",
       "}\n",
       ".children.hor {\n",
       "    flex-flow: row nowrap;\n",
       "}\n",
       ".children.hor.wrap {\n",
       "    flex-flow: row wrap;\n",
       "}\n",
       ".children.ver {\n",
       "    flex-flow: column nowrap;\n",
       "}\n",
       ".children.ver.wrap {\n",
       "    flex-flow: column wrap;\n",
       "}\n",
       ".contnr {\n",
       "    width: fit-content;\n",
       "    display: flex;\n",
       "    justify-content: flex-start;\n",
       "    align-items: flex-start;\n",
       "    align-content: flex-start;\n",
       "    flex-flow: column nowrap;\n",
       "    background: #ffffff none repeat scroll 0 0;\n",
       "    padding:  10px 2px 2px 2px;\n",
       "    margin: 16px 2px 2px 2px;\n",
       "    border-style: solid;\n",
       "    font-size: small;\n",
       "}\n",
       ".contnr.trm {\n",
       "    background-attachment: local;\n",
       "}\n",
       ".contnr.cnul {\n",
       "    padding:  0;\n",
       "    margin: 0;\n",
       "    border-style: solid;\n",
       "    font-size: xx-small;\n",
       "}\n",
       ".contnr.cnul,.lbl.cnul {\n",
       "    border-color: var(--border-color-nul);\n",
       "    border-width: var(--border-width-nul);\n",
       "    border-radius: var(--border-width-nul);\n",
       "}\n",
       ".contnr.c0,.lbl.c0 {\n",
       "    border-color: var(--border-color0);\n",
       "    border-width: var(--border-width0);\n",
       "    border-radius: var(--border-width0);\n",
       "}\n",
       ".contnr.c1,.lbl.c1 {\n",
       "    border-color: var(--border-color1);\n",
       "    border-width: var(--border-width1);\n",
       "    border-radius: var(--border-width1);\n",
       "}\n",
       ".contnr.c2,.lbl.c2 {\n",
       "    border-color: var(--border-color2);\n",
       "    border-width: var(--border-width2);\n",
       "    border-radius: var(--border-width2);\n",
       "}\n",
       ".contnr.c3,.lbl.c3 {\n",
       "    border-color: var(--border-color3);\n",
       "    border-width: var(--border-width3);\n",
       "    border-radius: var(--border-width3);\n",
       "}\n",
       ".contnr.c4,.lbl.c4 {\n",
       "    border-color: var(--border-color4);\n",
       "    border-width: var(--border-width4);\n",
       "    border-radius: var(--border-width4);\n",
       "}\n",
       "span.plain {\n",
       "    display: inline-block;\n",
       "    white-space: pre-wrap;\n",
       "}\n",
       ".plain {\n",
       "    background-color: #ffffff;\n",
       "}\n",
       ".plain.l,.contnr.l,.contnr.l>.lbl {\n",
       "    border-left-style: dotted\n",
       "}\n",
       ".plain.r,.contnr.r,.contnr.r>.lbl {\n",
       "    border-right-style: dotted\n",
       "}\n",
       ".plain.lno,.contnr.lno,.contnr.lno>.lbl {\n",
       "    border-left-style: none\n",
       "}\n",
       ".plain.rno,.contnr.rno,.contnr.rno>.lbl {\n",
       "    border-right-style: none\n",
       "}\n",
       ".plain.l {\n",
       "    padding-left: 4px;\n",
       "    margin-left: 2px;\n",
       "    border-width: var(--border-width-plain);\n",
       "}\n",
       ".plain.r {\n",
       "    padding-right: 4px;\n",
       "    margin-right: 2px;\n",
       "    border-width: var(--border-width-plain);\n",
       "}\n",
       ".lbl {\n",
       "    font-family: monospace;\n",
       "    margin-top: -24px;\n",
       "    margin-left: 20px;\n",
       "    background: #ffffff none repeat scroll 0 0;\n",
       "    padding: 0 6px;\n",
       "    border-style: solid;\n",
       "    display: block;\n",
       "    color: var(--label)\n",
       "}\n",
       ".lbl.trm {\n",
       "    background-attachment: local;\n",
       "    margin-top: 2px;\n",
       "    margin-left: 2px;\n",
       "    padding: 2px 2px;\n",
       "    border-style: none;\n",
       "}\n",
       ".lbl.cnul {\n",
       "    font-size: xx-small;\n",
       "}\n",
       ".lbl.c0 {\n",
       "    font-size: small;\n",
       "}\n",
       ".lbl.c1 {\n",
       "    font-size: small;\n",
       "}\n",
       ".lbl.c2 {\n",
       "    font-size: medium;\n",
       "}\n",
       ".lbl.c3 {\n",
       "    font-size: medium;\n",
       "}\n",
       ".lbl.c4 {\n",
       "    font-size: large;\n",
       "}\n",
       ".occs, a:link.occs {\n",
       "    font-size: small;\n",
       "}\n",
       "\n",
       "/* PROVENANCE */\n",
       "\n",
       "div.prov {\n",
       "\tmargin: 40px;\n",
       "\tpadding: 20px;\n",
       "\tborder: 2px solid var(--fog-rim);\n",
       "}\n",
       "div.pline {\n",
       "\tdisplay: flex;\n",
       "\tflex-flow: row nowrap;\n",
       "\tjustify-content: stretch;\n",
       "\talign-items: baseline;\n",
       "}\n",
       "div.p2line {\n",
       "\tmargin-left: 2em;\n",
       "\tdisplay: flex;\n",
       "\tflex-flow: row nowrap;\n",
       "\tjustify-content: stretch;\n",
       "\talign-items: baseline;\n",
       "}\n",
       "div.psline {\n",
       "\tdisplay: flex;\n",
       "\tflex-flow: row nowrap;\n",
       "\tjustify-content: stretch;\n",
       "\talign-items: baseline;\n",
       "\tbackground-color: var(--gold-mist-back);\n",
       "}\n",
       "div.pname {\n",
       "\tflex: 0 0 5rem;\n",
       "\tfont-weight: bold;\n",
       "}\n",
       "div.pval {\n",
       "    flex: 1 1 auto;\n",
       "}\n",
       "\n",
       ":root {\n",
       "\t--node:               hsla(120, 100%,  20%, 1.0  );\n",
       "\t--label:              hsla(  0, 100%,  20%, 1.0  );\n",
       "\t--section:            hsla(  0, 100%,  25%, 1.0  );\n",
       "\t--structure:          hsla(120, 100%,  25%, 1.0  );\n",
       "\t--features:           hsla(  0,   0%,  30%, 1.0  );\n",
       "  --text-color:         hsla( 60,  80%,  10%, 1.0  );\n",
       "  --lex-color:          hsla(220,  90%,  60%, 1.0  );\n",
       "  --meta-color:         hsla(  0,   0%,  90%, 0.7  );\n",
       "  --meta-width:         3px;\n",
       "  --border-color-nul:   hsla(  0,   0%,  90%, 0.5  );\n",
       "  --border-color0:      hsla(  0,   0%,  90%, 0.9  );\n",
       "  --border-color1:      hsla(  0,   0%,  80%, 0.9  );\n",
       "  --border-color2:      hsla(  0,   0%,  70%, 0.9  );\n",
       "  --border-color3:      hsla(  0,   0%,  80%, 0.8  );\n",
       "  --border-color4:      hsla(  0,   0%,  60%, 0.9  );\n",
       "  --border-width-nul:   2px;\n",
       "  --border-width0:      2px;\n",
       "  --border-width1:      3px;\n",
       "  --border-width2:      4px;\n",
       "  --border-width3:      6px;\n",
       "  --border-width4:      5px;\n",
       "  --border-width-plain: 2px;\n",
       "}\n",
       ".hl {\n",
       "  background-color: var(--hl-strong);\n",
       "}\n",
       "span.hl {\n",
       "\tbackground-color: var(--hl-strong);\n",
       "\tborder-width: 0;\n",
       "\tborder-radius: 2px;\n",
       "\tborder-style: solid;\n",
       "}\n",
       "div.contnr.hl,div.lbl.hl {\n",
       "  background-color: var(--hl-strong);\n",
       "}\n",
       "div.contnr.hl {\n",
       "  border-color: var(--hl-rim) ! important;\n",
       "\tborder-width: 4px ! important;\n",
       "}\n",
       "\n",
       "span.hlbx {\n",
       "\tborder-color: var(--hl-rim);\n",
       "\tborder-width: 4px ! important;\n",
       "\tborder-style: solid;\n",
       "\tborder-radius: 6px;\n",
       "  padding: 4px;\n",
       "  margin: 4px;\n",
       "}\n",
       "\n",
       "span.plain {\n",
       "  display: inline-block;\n",
       "  white-space: pre-wrap;\n",
       "}\n",
       "\n",
       ":root {\n",
       "\t--hl-strong:        hsla( 60, 100%,  70%, 0.9  );\n",
       "\t--hl-rim:           hsla( 55,  80%,  50%, 1.0  );\n",
       "}\n",
       "</style>"
      ],
      "text/plain": [
       "<IPython.core.display.HTML object>"
      ]
     },
     "metadata": {},
     "output_type": "display_data"
    },
    {
     "data": {
      "text/html": [
       "<div><b>Text-Fabric API:</b> names <a target=\"_blank\" href=\"https://annotation.github.io/text-fabric/cheatsheet.html\" title=\"doc\">N F E L T S C TF</a> directly usable</div><hr>"
      ],
      "text/plain": [
       "<IPython.core.display.HTML object>"
      ]
     },
     "metadata": {},
     "output_type": "display_data"
    }
   ],
   "source": [
    "A = use(f\"{ORG}/{REPO}/{dataSource}:clone\", version=VERSION, hoist=globals())"
   ]
  },
  {
   "cell_type": "markdown",
   "metadata": {},
   "source": [
    "# Exploring\n",
    "\n",
    "Every TF corpus has an atomic type, the type of the textual `slots`.\n",
    "\n",
    "We can read it off from the dataset by means of the TF API (see\n",
    "[cheatsheet](https://annotation.github.io/text-fabric/tf/cheatsheet.html) ).\n",
    "\n",
    "We can also find out the number of slots."
   ]
  },
  {
   "cell_type": "code",
   "execution_count": 9,
   "metadata": {},
   "outputs": [
    {
     "data": {
      "text/plain": [
       "'word'"
      ]
     },
     "execution_count": 9,
     "metadata": {},
     "output_type": "execute_result"
    }
   ],
   "source": [
    "F.otype.slotType"
   ]
  },
  {
   "cell_type": "code",
   "execution_count": 10,
   "metadata": {},
   "outputs": [
    {
     "data": {
      "text/plain": [
       "5629"
      ]
     },
     "execution_count": 10,
     "metadata": {},
     "output_type": "execute_result"
    }
   ],
   "source": [
    "F.otype.maxSlot"
   ]
  },
  {
   "cell_type": "markdown",
   "metadata": {},
   "source": [
    "This is a small text, only 5629 words.\n",
    "\n",
    "Now let's see what features we have:"
   ]
  },
  {
   "cell_type": "code",
   "execution_count": 12,
   "metadata": {},
   "outputs": [
    {
     "data": {
      "text/plain": [
       "['_book',\n",
       " '_phrase',\n",
       " '_sentence',\n",
       " 'anapests',\n",
       " 'antistrophe',\n",
       " 'card',\n",
       " 'choral',\n",
       " 'edition-grc',\n",
       " 'ephymn',\n",
       " 'episode',\n",
       " 'foreign',\n",
       " 'head',\n",
       " 'hi',\n",
       " 'hypothesis',\n",
       " 'l',\n",
       " 'lyric',\n",
       " 'main',\n",
       " 'note',\n",
       " 'orig',\n",
       " 'otype',\n",
       " 'p',\n",
       " 'para-P',\n",
       " 'pb',\n",
       " 'plain',\n",
       " 'post',\n",
       " 'pre',\n",
       " 'sp',\n",
       " 'speaker',\n",
       " 'strophe']"
      ]
     },
     "execution_count": 12,
     "metadata": {},
     "output_type": "execute_result"
    }
   ],
   "source": [
    "Fall()"
   ]
  },
  {
   "cell_type": "markdown",
   "metadata": {},
   "source": [
    "I suspect the actual text is in the feature `orig`.\n",
    "\n",
    "We can get a bit more information by looking at the metadata:"
   ]
  },
  {
   "cell_type": "code",
   "execution_count": 13,
   "metadata": {},
   "outputs": [
    {
     "data": {
      "text/plain": [
       "{'author': 'Aeschylus',\n",
       " 'availability': 'Available under a Creative Commons Attribution-ShareAlike 4.0 International License.',\n",
       " 'convertor_author': 'Ernst Boogert',\n",
       " 'convertor_date': 'July, 2020',\n",
       " 'convertor_execution': 'Ernst Boogert',\n",
       " 'convertor_institution': 'Protestant Theological University (PThU), Amsterdam/Groningen, The Netherlands',\n",
       " 'convertor_version': '1.0.0',\n",
       " 'description': 'the original format of the word without interpunction',\n",
       " 'editor': 'Arthur Sidgwick',\n",
       " 'filename': 'tlg0085.tlg007.opp-grc3',\n",
       " 'funder': 'Tufts University',\n",
       " 'principal': 'Gregory Crane',\n",
       " 'publicationStmt': 'Trustees of Tufts University, Medford, MA, Perseus Project.',\n",
       " 'respStmt': 'Prepared under the supervision of, Gregory Crane',\n",
       " 'sourceDesc': 'Aeschylus, Aeschyli Tragoediae : cum fabularum deperditarum fragmentis, poetae vita et operum catalogo, Arthur Sidgwick, Oxford, Clarendon Press, 1902, HathiTrust.',\n",
       " 'sponsor': 'Perseus Project, Tufts University',\n",
       " 'title': 'Eumenides',\n",
       " 'valueType': 'str',\n",
       " 'writtenBy': 'Text-Fabric',\n",
       " 'dateWritten': '2020-12-11T14:59:26Z'}"
      ]
     },
     "execution_count": 13,
     "metadata": {},
     "output_type": "execute_result"
    }
   ],
   "source": [
    "F.orig.meta"
   ]
  },
  {
   "cell_type": "markdown",
   "metadata": {},
   "source": [
    "Indeed. And the [betacode](https://en.wikipedia.org/wiki/Beta_Code)\n",
    "representation could be in feature `plain`."
   ]
  },
  {
   "cell_type": "code",
   "execution_count": 14,
   "metadata": {},
   "outputs": [
    {
     "data": {
      "text/plain": [
       "'plain format in lowercase'"
      ]
     },
     "execution_count": 14,
     "metadata": {},
     "output_type": "execute_result"
    }
   ],
   "source": [
    "F.plain.meta[\"description\"]"
   ]
  },
  {
   "cell_type": "markdown",
   "metadata": {},
   "source": [
    "We call up the `orig` and `plain` features of the second word."
   ]
  },
  {
   "cell_type": "code",
   "execution_count": 16,
   "metadata": {},
   "outputs": [
    {
     "data": {
      "text/plain": [
       "'Ὀρέστης '"
      ]
     },
     "execution_count": 16,
     "metadata": {},
     "output_type": "execute_result"
    }
   ],
   "source": [
    "F.orig.v(1)"
   ]
  },
  {
   "cell_type": "code",
   "execution_count": 17,
   "metadata": {},
   "outputs": [
    {
     "data": {
      "text/plain": [
       "'ορεστης'"
      ]
     },
     "execution_count": 17,
     "metadata": {},
     "output_type": "execute_result"
    }
   ],
   "source": [
    "F.plain.v(1)"
   ]
  },
  {
   "cell_type": "markdown",
   "metadata": {},
   "source": [
    "OK, `plain` is not betacode, but accentless greek."
   ]
  },
  {
   "cell_type": "markdown",
   "metadata": {},
   "source": [
    "There is additional configuration in the dataset, coming from feature `otext.tf` (which only has metadata, no data).\n",
    "\n",
    "That information is about text formats and sections."
   ]
  },
  {
   "cell_type": "code",
   "execution_count": 19,
   "metadata": {},
   "outputs": [
    {
     "data": {
      "text/plain": [
       "{'text-orig-full': 'word', 'text-orig-main': 'word', 'text-orig-plain': 'word'}"
      ]
     },
     "execution_count": 19,
     "metadata": {},
     "output_type": "execute_result"
    }
   ],
   "source": [
    "T.formats"
   ]
  },
  {
   "cell_type": "code",
   "execution_count": 21,
   "metadata": {},
   "outputs": [
    {
     "data": {
      "text/plain": [
       "['card', 'strophe', 'ephymn']"
      ]
     },
     "execution_count": 21,
     "metadata": {},
     "output_type": "execute_result"
    }
   ],
   "source": [
    "T.sectionTypes"
   ]
  },
  {
   "cell_type": "markdown",
   "metadata": {},
   "source": [
    "We see that we have three ways to represent text.\n",
    "\n",
    "And the corpus is divided into *cards*, and then in *strophes*, and then in *ephymns*.\n",
    "\n",
    "Let's pick the first strophe:"
   ]
  },
  {
   "cell_type": "code",
   "execution_count": 23,
   "metadata": {},
   "outputs": [
    {
     "data": {
      "text/plain": [
       "9502"
      ]
     },
     "execution_count": 23,
     "metadata": {},
     "output_type": "execute_result"
    }
   ],
   "source": [
    "s = F.otype.s(\"strophe\")[0]\n",
    "s"
   ]
  },
  {
   "cell_type": "markdown",
   "metadata": {},
   "source": [
    "We get a number. All things in the corpus, words, strophes, cards, etc. are represented by nodes, and nodes are just numbers.\n",
    "Treat them as bar codes: you have them, but you do not read them, and you do not remember them. Text-Fabric is your bar code reader."
   ]
  },
  {
   "cell_type": "markdown",
   "metadata": {},
   "source": [
    "Now we display the text of this strophe:"
   ]
  },
  {
   "cell_type": "code",
   "execution_count": 24,
   "metadata": {},
   "outputs": [
    {
     "data": {
      "text/plain": [
       "'Ὀρέστης  ἐν  Δελφοῖς  περιεχόμενος  ὑπὸ  τῶν  Ἐρινύων  βουλῇ  Ἀπόλλωνος  παρεγένετο  εἰς  Ἀθήνας  εἰς  τὸ  ἱερὸν  τῆς  Ἀθηνᾶς: : ἧς  βουλῇ  νικήσας  κατῆλθεν  εἰς  Ἄργος. . τὰς  δὲ  Ἐρινύας  πραΰνας  προσηγόρευσεν  Εὐμενίδας. . παρ᾽ ᾽ οὐδετέρῳ  κεῖται  ῃ  μυθοποιία..Τὰ  τοῦ  δράματος  πρόσωπα::Πυθιὰς  προφῆτιςἈπόλλωνὈρέστηςΚλυταιμήστρας  εἴδωλονχορὸς  ΕὐμενίδωνΑθηνᾶπροπομποίαργυμεντυμ] 3 ] 3   ηερμανν  ʽʽαυξτορε  ηαρποκρατιονε  ς. . ϝοξε  ϝιδ. . αδ  δραματις  περσοναε] ]   ποστεα  ινσερτο  μʼʼμ̓'"
      ]
     },
     "execution_count": 24,
     "metadata": {},
     "output_type": "execute_result"
    }
   ],
   "source": [
    "T.text(s)"
   ]
  },
  {
   "cell_type": "markdown",
   "metadata": {},
   "source": [
    "And now in all three formats:"
   ]
  },
  {
   "cell_type": "code",
   "execution_count": 27,
   "metadata": {},
   "outputs": [
    {
     "name": "stdout",
     "output_type": "stream",
     "text": [
      "strophe 0 in format text-orig-full\n",
      "Ὀρέστης  ἐν  Δελφοῖς  περιεχόμενος  ὑπὸ  τῶν  Ἐρινύων  βουλῇ  Ἀπόλλωνος  παρεγένετο  εἰς  Ἀθήνας  εἰς  τὸ  ἱερὸν  τῆς  Ἀθηνᾶς: : ἧς  βουλῇ  νικήσας  κατῆλθεν  εἰς  Ἄργος. . τὰς  δὲ  Ἐρινύας  πραΰνας  προσηγόρευσεν  Εὐμενίδας. . παρ᾽ ᾽ οὐδετέρῳ  κεῖται  ῃ  μυθοποιία..Τὰ  τοῦ  δράματος  πρόσωπα::Πυθιὰς  προφῆτιςἈπόλλωνὈρέστηςΚλυταιμήστρας  εἴδωλονχορὸς  ΕὐμενίδωνΑθηνᾶπροπομποίαργυμεντυμ] 3 ] 3   ηερμανν  ʽʽαυξτορε  ηαρποκρατιονε  ς. . ϝοξε  ϝιδ. . αδ  δραματις  περσοναε] ]   ποστεα  ινσερτο  μʼʼμ̓\n",
      "\n",
      "strophe 0 in format text-orig-main\n",
      "ὀρέστης ἐν δελφοῖς περιεχόμενος ὑπὸ τῶν ἐρινύων βουλῇ ἀπόλλωνος παρεγένετο εἰς ἀθήνας εἰς τὸ ἱερὸν τῆς ἀθηνᾶς ἧς βουλῇ νικήσας κατῆλθε εἰς ἄργος τὰς δὲ ἐρινύας πραΰνας προσηγόρευσεν εὐμενίδας παρὰ οὐδετέρῳ κεῖται ῃ μυθοποιία τὰ τοῦ δράματος πρόσωπα πυθιὰς προφῆτις ἀπόλλων ὀρέστης κλυταιμήστρας εἴδωλον χορὸς εὐμενίδων αθηνᾶ προπομποί αργυμεντυμ ηερμανν αυξτορε ηαρποκρατιονε ς ϝοξε ϝιδ ἅδε δραματις περσοναε ποστεα ινσερτο με,ἐμὲ μ̓ \n",
      "\n",
      "strophe 0 in format text-orig-plain\n",
      "ορεστης εν δελφοις περιεχομενος υπο των ερινυων βουλη απολλωνος παρεγενετο εις αθηνας εις το ιερον της αθηνας ης βουλη νικησας κατηλθε εις αργος τας δε ερινυας πραυνας προσηγορευσεν ευμενιδας παρα ουδετερω κειται η μυθοποιια τα του δραματος προσωπα πυθιας προφητις απολλων ορεστης κλυταιμηστρας ειδωλον χορος ευμενιδων αθηνα προπομποι αργυμεντυμ ηερμανν αυξτορε ηαρποκρατιονε ς ϝοξε ϝιδ αδε δραματις περσοναε ποστεα ινσερτο με,εμε μ \n",
      "\n"
     ]
    }
   ],
   "source": [
    "for fmt in T.formats:\n",
    "    print(f\"{F.otype.v(s)} {F.strophe.v(s)} in format {fmt}\")\n",
    "    print(T.text(s, fmt=fmt))\n",
    "    print(\"\")"
   ]
  },
  {
   "cell_type": "markdown",
   "metadata": {},
   "source": [
    "We can ask for a frequency distribution of the values of an arbitrary feature.\n",
    "Now let's ask for the distribution of the `plain` feature. That will give us a nice frequency list of the\n",
    "words in this corpus.\n",
    "\n",
    "We print the top 20:"
   ]
  },
  {
   "cell_type": "code",
   "execution_count": 30,
   "metadata": {},
   "outputs": [
    {
     "data": {
      "text/plain": [
       "(('δε', 197),\n",
       " ('και', 151),\n",
       " ('χορος', 96),\n",
       " ('τε', 71),\n",
       " ('γαρ', 67),\n",
       " ('ου', 61),\n",
       " ('εν', 54),\n",
       " ('το', 49),\n",
       " ('μη', 42),\n",
       " ('αθηνα', 36),\n",
       " ('μεν', 30),\n",
       " ('εκ', 29),\n",
       " ('προς', 29),\n",
       " ('η', 28),\n",
       " ('αλλα', 27),\n",
       " ('αν', 27),\n",
       " ('απολλων', 27),\n",
       " ('ως', 27),\n",
       " ('συ', 25),\n",
       " ('εγω', 23))"
      ]
     },
     "execution_count": 30,
     "metadata": {},
     "output_type": "execute_result"
    }
   ],
   "source": [
    "F.plain.freqList()[0:20]"
   ]
  },
  {
   "cell_type": "markdown",
   "metadata": {},
   "source": [
    "How many strophes are there?"
   ]
  },
  {
   "cell_type": "code",
   "execution_count": 31,
   "metadata": {},
   "outputs": [
    {
     "data": {
      "text/plain": [
       "70"
      ]
     },
     "execution_count": 31,
     "metadata": {},
     "output_type": "execute_result"
    }
   ],
   "source": [
    "len(F.otype.s(\"strophe\"))"
   ]
  },
  {
   "cell_type": "markdown",
   "metadata": {},
   "source": [
    "Here is strophe 36:"
   ]
  },
  {
   "cell_type": "code",
   "execution_count": 32,
   "metadata": {},
   "outputs": [
    {
     "data": {
      "text/plain": [
       "'Χορόςἔσθ᾽ ᾽ ὅπου  τὸ  δεινὸν  εὖ,,καὶ  φρενῶν  ἐπίσκοπονδεῖ  μένειν  καθήμενον::ξυμφέρεισωφρονεῖν  ὑπὸ  στένει..τίς  δὲ  μηδὲν  ἐν  δέεικαρδίαν  &&lt;;ἂν&&gt; ; ἀνατρέφωνἢ  πόλις  βροτός  θ᾽ ᾽ ὁμοίως  ἔτ᾽ ᾽ ἂν  σέβοι  δίκαν;;'"
      ]
     },
     "execution_count": 32,
     "metadata": {},
     "output_type": "execute_result"
    }
   ],
   "source": [
    "s = F.otype.s(\"strophe\")[35]\n",
    "T.text(s)"
   ]
  },
  {
   "cell_type": "markdown",
   "metadata": {},
   "source": [
    "Here is word 5001"
   ]
  },
  {
   "cell_type": "code",
   "execution_count": 33,
   "metadata": {},
   "outputs": [
    {
     "data": {
      "text/plain": [
       "'ταῦτα  '"
      ]
     },
     "execution_count": 33,
     "metadata": {},
     "output_type": "execute_result"
    }
   ],
   "source": [
    "w = F.otype.s(\"word\")[5000]\n",
    "T.text(w)"
   ]
  },
  {
   "cell_type": "markdown",
   "metadata": {},
   "source": [
    "Where is it?"
   ]
  },
  {
   "cell_type": "code",
   "execution_count": 34,
   "metadata": {},
   "outputs": [
    {
     "data": {
      "text/plain": [
       "(881, 0, 0)"
      ]
     },
     "execution_count": 34,
     "metadata": {},
     "output_type": "execute_result"
    }
   ],
   "source": [
    "T.sectionFromNode(w)"
   ]
  },
  {
   "cell_type": "markdown",
   "metadata": {},
   "source": [
    "It is in card 881, in a strophe with number 0, in an ephymn with number 0.\n",
    "\n",
    "We can get the nodes of these sections:"
   ]
  },
  {
   "cell_type": "code",
   "execution_count": 35,
   "metadata": {},
   "outputs": [
    {
     "data": {
      "text/plain": [
       "(7213, 9555, 7291)"
      ]
     },
     "execution_count": 35,
     "metadata": {},
     "output_type": "execute_result"
    }
   ],
   "source": [
    "T.sectionTuple(w)"
   ]
  },
  {
   "cell_type": "markdown",
   "metadata": {},
   "source": [
    "Lets print the strophe (the middle element)"
   ]
  },
  {
   "cell_type": "code",
   "execution_count": 37,
   "metadata": {},
   "outputs": [
    {
     "data": {
      "text/plain": [
       "'Ἀθηνᾶοὔτοι  καμοῦμαί  σοι  λέγουσα  τἀγαθά, ,ὡς  μήποτ᾽ ᾽ εἴπῃς  πρὸς  νεωτέρας  ἐμοῦθεὸς  παλαιὰ  καὶ  πολισσούχων  βροτῶνἄτιμος  ἔρρειν  τοῦδ᾽ ᾽ ἀπόξενος  πέδου..ἀλλ᾽ ᾽ εἰ  μὲν  ἁγνόν  ἐστί  σοι  Πειθοῦς  σέβας,,γλώσσης  ἐμῆς  μείλιγμα  καὶ  θελκτήριον,,σὺ  δ᾽ ᾽ οὖν  μένοις  ἄν: : εἰ  δὲ  μὴ  θέλεις  μένειν,,οὔ  τἂν  δικαίως  τῇδ᾽ ᾽ ἐπιρρέποις  πόλειμῆνίν  τιν᾽ ᾽ ἢ  κότον  τιν᾽ ᾽ ἢ  βλάβην  στρατῷ..ἔξεστι  γάρ  σοι  τῆσδε  γαμόρῳ  χθονὸςεἶναι  δικαίως  ἐς  τὸ  πᾶν  τιμωμένῃ..Χορόςἄνασσ᾽ ᾽ Ἀθάνα, , τίνα  με  φῂς  ἔχειν  ἕδραν;;Ἀθηνᾶπάσης  ἀπήμον᾽ ᾽ οἰζύος: : δέχου  δὲ  σύ..Χορόςκαὶ  δὴ  δέδεγμαι: : τίς  δέ  μοι  τιμὴ  μένει;;Ἀθηνᾶὡς  μή  τιν᾽ ᾽ οἶκον  εὐθενεῖν  ἄνευ  σέθεν..Χορόςσὺ  τοῦτο  πράξεις, , ὥστε  με  σθένειν  τόσον;;Ἀθηνᾶτῷ  γὰρ  σέβοντι  συμφορὰς  ὀρθώσομεν..Χορόςκαί  μοι  πρόπαντος  ἐγγύην  θήσει  χρόνου;;Ἀθηνᾶἔξεστι  γάρ  μοι  μὴ  λέγειν  ἃ  μὴ  τελῶ..Χορόςθέλξειν  μ᾽ ᾽ ἔοικας  καὶ  μεθίσταμαι  κότου..Ἀθηνᾶτοιγὰρ  κατὰ  χθόν᾽ ᾽ οὖσ᾽ ᾽ ἐπικτήσει  φίλους..Χορόςτί  οὖν  μ᾽ ᾽ ἄνωγας  τῇδ᾽ ᾽ ἐφυμνῆσαι  χθονί;;Ἀθηνᾶὁποῖα  νίκης  μὴ  κακῆς  ἐπίσκοπα,,καὶ  ταῦτα  γῆθεν  ἔκ  τε  ποντίας  δρόσουἐξ  οὐρανοῦ  τε: : κἀνέμων  ἀήματαεὐηλίως  πνέοντ᾽ ᾽ ἐπιστείχειν  χθόνα::καρπόν  τε  γαίας  καὶ  βοτῶν  ἐπίρρυτονἀστοῖσιν  εὐθενοῦντα  μὴ  κάμνειν  χρόνῳ,,καὶ  τῶν  βροτείων  σπερμάτων  σωτηρίαν..τῶν  δυσσεβούντων  δ᾽ ᾽ ἐκφορωτέρα  πέλοις..στέργω  γάρ, , ἀνδρὸς  φιτυποίμενος  δίκην,,τὸ  τῶν  δικαίων  τῶνδ᾽ ᾽ ἀπένθητον  γένος..τοιαῦτα  σοὔστι..  τῶν  ἀρειφάτων  δ᾽ ᾽ ἐγὼπρεπτῶν  ἀγώνων  οὐκ  ἀνέξομαι  τὸ  μὴ  οὐτήνδ᾽ ᾽ ἀστύνικον  ἐν  βροτοῖς  τιμᾶν  πόλιν..'"
      ]
     },
     "execution_count": 37,
     "metadata": {},
     "output_type": "execute_result"
    }
   ],
   "source": [
    "s = T.sectionTuple(w)[1]\n",
    "T.text(s)"
   ]
  },
  {
   "cell_type": "markdown",
   "metadata": {},
   "source": [
    "The first slot and the last slot in this strophe are:"
   ]
  },
  {
   "cell_type": "code",
   "execution_count": 38,
   "metadata": {},
   "outputs": [
    {
     "name": "stdout",
     "output_type": "stream",
     "text": [
      "4838\n",
      "5067\n"
     ]
    }
   ],
   "source": [
    "words = L.d(s, otype=\"word\")\n",
    "print(words[0])\n",
    "print(words[-1])"
   ]
  },
  {
   "cell_type": "markdown",
   "metadata": {},
   "source": [
    "We can display this strophe in a prettier way:"
   ]
  },
  {
   "cell_type": "code",
   "execution_count": 40,
   "metadata": {},
   "outputs": [
    {
     "data": {
      "text/html": [
       "<div class=\"section \">881 0</div><div class=\" children\"><div class=\"contnr c4    \" ><div class=\"lbl c4  \" ><span class=\"nd\">strophe</span> <span class=\"txtu\"><span class=\"section\">881 0</span></span></div><div class=\"children hor wrap \"><div class=\"contnr c4    \" ><div class=\"lbl c4  \" ><span class=\"nd\">antistrophe</span> <span class=\"txtu\"><span class=\"structure\"><span class=\"nd\">_book</span> Eumenides, <span class=\"nd\">card</span> 881, <span class=\"nd\">strophe</span> 0, <span class=\"nd\">antistrophe</span> 0</span></span></div><div class=\"children hor wrap \"><div class=\"contnr c3    \" ><div class=\"lbl c3  \" ><span class=\"nd\">ephymn</span></div><div class=\"children hor wrap \"><div class=\"contnr c1    \" ><div class=\"lbl c1  \" ><span class=\"nd\">sp</span></div><div class=\"children hor wrap \"><div class=\"contnr c1   lno \" ><div class=\"lbl c1  \" ><span class=\"nd\">foreign</span></div><div class=\"children hor wrap \"><div class=\"contnr c1   lno \" ><div class=\"lbl c1  \" ><span class=\"nd\">note</span></div><div class=\"children hor wrap \"><div class=\"contnr c4   lno \" ><div class=\"lbl c4  \" ><span class=\"nd\">_sentence</span> <span class=\"txtu\"><span class=\"structure\"><span class=\"nd\">_book</span> Eumenides, <span class=\"nd\">_sentence</span> 378</span></span></div><div class=\"children hor wrap \"><div class=\"contnr c4   lno \" ><div class=\"lbl c4  \" ><span class=\"nd\">_phrase</span> <span class=\"txtu\"><span class=\"structure\"><span class=\"nd\">_book</span> Eumenides, <span class=\"nd\">_sentence</span> 378, <span class=\"nd\">_phrase</span> 875</span></span></div><div class=\"children hor wrap \"><div class=\"contnr c1    \" ><div class=\"lbl c1  \" ><span class=\"nd\">speaker</span></div><div class=\"children hor wrap \"><div class=\"contnr c0 trm   \" ><div class=\"lbl c0 trm \" ><span class=\"txtu\">Ἀθηνᾶ</span></div></div></div></div><div class=\"contnr c1    \" ><div class=\"lbl c1  \" ><span class=\"nd\">l</span></div><div class=\"children hor wrap \"><div class=\"contnr c0 trm   \" ><div class=\"lbl c0 trm \" ><span class=\"txtu\">οὔτοι  </span></div></div><div class=\"contnr c0 trm   \" ><div class=\"lbl c0 trm \" ><span class=\"txtu\">καμοῦμαί  </span></div></div><div class=\"contnr c0 trm   \" ><div class=\"lbl c0 trm \" ><span class=\"txtu\">σοι  </span></div></div><div class=\"contnr c0 trm   \" ><div class=\"lbl c0 trm \" ><span class=\"txtu\">λέγουσα  </span></div></div><div class=\"contnr c0 trm   \" ><div class=\"lbl c0 trm \" ><span class=\"txtu\">τἀγαθά, </span></div></div><div class=\"contnr c0 trm   \" ><div class=\"lbl c0 trm \" ><span class=\"txtu\">,</span></div></div></div></div></div></div><div class=\"contnr c4    \" ><div class=\"lbl c4  \" ><span class=\"nd\">_phrase</span> <span class=\"txtu\"><span class=\"structure\"><span class=\"nd\">_book</span> Eumenides, <span class=\"nd\">_sentence</span> 378, <span class=\"nd\">card</span> 881, <span class=\"nd\">strophe</span> 0, <span class=\"nd\">antistrophe</span> 0, <span class=\"nd\">ephymn</span> 0, <span class=\"nd\">_phrase</span> 876</span></span></div><div class=\"children hor wrap \"><div class=\"contnr c1    \" ><div class=\"lbl c1  \" ><span class=\"nd\">l</span></div><div class=\"children hor wrap \"><div class=\"contnr c0 trm   \" ><div class=\"lbl c0 trm \" ><span class=\"txtu\">ὡς  </span></div></div><div class=\"contnr c0 trm   \" ><div class=\"lbl c0 trm \" ><span class=\"txtu\">μήποτ᾽ ᾽ </span></div></div><div class=\"contnr c0 trm   \" ><div class=\"lbl c0 trm \" ><span class=\"txtu\">εἴπῃς  </span></div></div><div class=\"contnr c0 trm   \" ><div class=\"lbl c0 trm \" ><span class=\"txtu\">πρὸς  </span></div></div><div class=\"contnr c0 trm   \" ><div class=\"lbl c0 trm \" ><span class=\"txtu\">νεωτέρας  </span></div></div><div class=\"contnr c0 trm   \" ><div class=\"lbl c0 trm \" ><span class=\"txtu\">ἐμοῦ</span></div></div></div></div><div class=\"contnr c1    \" ><div class=\"lbl c1  \" ><span class=\"nd\">l</span></div><div class=\"children hor wrap \"><div class=\"contnr c0 trm   \" ><div class=\"lbl c0 trm \" ><span class=\"txtu\">θεὸς  </span></div></div><div class=\"contnr c0 trm   \" ><div class=\"lbl c0 trm \" ><span class=\"txtu\">παλαιὰ  </span></div></div><div class=\"contnr c0 trm   \" ><div class=\"lbl c0 trm \" ><span class=\"txtu\">καὶ  </span></div></div><div class=\"contnr c0 trm   \" ><div class=\"lbl c0 trm \" ><span class=\"txtu\">πολισσούχων  </span></div></div><div class=\"contnr c0 trm   \" ><div class=\"lbl c0 trm \" ><span class=\"txtu\">βροτῶν</span></div></div></div></div><div class=\"contnr c1    \" ><div class=\"lbl c1  \" ><span class=\"nd\">l</span></div><div class=\"children hor wrap \"><div class=\"contnr c0 trm   \" ><div class=\"lbl c0 trm \" ><span class=\"txtu\">ἄτιμος  </span></div></div><div class=\"contnr c0 trm   \" ><div class=\"lbl c0 trm \" ><span class=\"txtu\">ἔρρειν  </span></div></div><div class=\"contnr c0 trm   \" ><div class=\"lbl c0 trm \" ><span class=\"txtu\">τοῦδ᾽ ᾽ </span></div></div><div class=\"contnr c0 trm   \" ><div class=\"lbl c0 trm \" ><span class=\"txtu\">ἀπόξενος  </span></div></div><div class=\"contnr c0 trm   \" ><div class=\"lbl c0 trm \" ><span class=\"txtu\">πέδου..</span></div></div></div></div></div></div></div></div><div class=\"contnr c4   rno \" ><div class=\"lbl c4  \" ><span class=\"nd\">_sentence</span> <span class=\"txtu\"><span class=\"structure\"><span class=\"nd\">_book</span> Eumenides, <span class=\"nd\">card</span> 881, <span class=\"nd\">strophe</span> 0, <span class=\"nd\">antistrophe</span> 0, <span class=\"nd\">ephymn</span> 0, <span class=\"nd\">_sentence</span> 379</span></span></div><div class=\"children hor wrap \"><div class=\"contnr c4    \" ><div class=\"lbl c4  \" ><span class=\"nd\">_phrase</span> <span class=\"txtu\"><span class=\"structure\"><span class=\"nd\">_book</span> Eumenides, <span class=\"nd\">card</span> 881, <span class=\"nd\">strophe</span> 0, <span class=\"nd\">antistrophe</span> 0, <span class=\"nd\">ephymn</span> 0, <span class=\"nd\">_sentence</span> 379, <span class=\"nd\">_phrase</span> 877</span></span></div><div class=\"children hor wrap \"><div class=\"contnr c1    \" ><div class=\"lbl c1  \" ><span class=\"nd\">l</span></div><div class=\"children hor wrap \"><div class=\"contnr c0 trm   \" ><div class=\"lbl c0 trm \" ><span class=\"txtu\">ἀλλ᾽ ᾽ </span></div></div><div class=\"contnr c0 trm   \" ><div class=\"lbl c0 trm \" ><span class=\"txtu\">εἰ  </span></div></div><div class=\"contnr c0 trm   \" ><div class=\"lbl c0 trm \" ><span class=\"txtu\">μὲν  </span></div></div><div class=\"contnr c0 trm   \" ><div class=\"lbl c0 trm \" ><span class=\"txtu\">ἁγνόν  </span></div></div><div class=\"contnr c0 trm   \" ><div class=\"lbl c0 trm \" ><span class=\"txtu\">ἐστί  </span></div></div><div class=\"contnr c0 trm   \" ><div class=\"lbl c0 trm \" ><span class=\"txtu\">σοι  </span></div></div><div class=\"contnr c0 trm   \" ><div class=\"lbl c0 trm \" ><span class=\"txtu\">Πειθοῦς  </span></div></div><div class=\"contnr c0 trm   \" ><div class=\"lbl c0 trm \" ><span class=\"txtu\">σέβας,,</span></div></div></div></div></div></div><div class=\"contnr c4    \" ><div class=\"lbl c4  \" ><span class=\"nd\">_phrase</span> <span class=\"txtu\"><span class=\"structure\"><span class=\"nd\">_book</span> Eumenides, <span class=\"nd\">card</span> 881, <span class=\"nd\">strophe</span> 0, <span class=\"nd\">antistrophe</span> 0, <span class=\"nd\">ephymn</span> 0, <span class=\"nd\">_sentence</span> 379, <span class=\"nd\">_phrase</span> 878</span></span></div><div class=\"children hor wrap \"><div class=\"contnr c1    \" ><div class=\"lbl c1  \" ><span class=\"nd\">l</span></div><div class=\"children hor wrap \"><div class=\"contnr c0 trm   \" ><div class=\"lbl c0 trm \" ><span class=\"txtu\">γλώσσης  </span></div></div><div class=\"contnr c0 trm   \" ><div class=\"lbl c0 trm \" ><span class=\"txtu\">ἐμῆς  </span></div></div><div class=\"contnr c0 trm   \" ><div class=\"lbl c0 trm \" ><span class=\"txtu\">μείλιγμα  </span></div></div><div class=\"contnr c0 trm   \" ><div class=\"lbl c0 trm \" ><span class=\"txtu\">καὶ  </span></div></div><div class=\"contnr c0 trm   \" ><div class=\"lbl c0 trm \" ><span class=\"txtu\">θελκτήριον,,</span></div></div></div></div></div></div><div class=\"contnr c4    \" ><div class=\"lbl c4  \" ><span class=\"nd\">_phrase</span> <span class=\"txtu\"><span class=\"structure\"><span class=\"nd\">_book</span> Eumenides, <span class=\"nd\">card</span> 881, <span class=\"nd\">strophe</span> 0, <span class=\"nd\">antistrophe</span> 0, <span class=\"nd\">ephymn</span> 0, <span class=\"nd\">_sentence</span> 379, <span class=\"nd\">_phrase</span> 879</span></span></div><div class=\"children hor wrap \"><div class=\"contnr c1   rno \" ><div class=\"lbl c1  \" ><span class=\"nd\">l</span></div><div class=\"children hor wrap \"><div class=\"contnr c0 trm   \" ><div class=\"lbl c0 trm \" ><span class=\"txtu\">σὺ  </span></div></div><div class=\"contnr c0 trm   \" ><div class=\"lbl c0 trm \" ><span class=\"txtu\">δ᾽ ᾽ </span></div></div><div class=\"contnr c0 trm   \" ><div class=\"lbl c0 trm \" ><span class=\"txtu\">οὖν  </span></div></div><div class=\"contnr c0 trm   \" ><div class=\"lbl c0 trm \" ><span class=\"txtu\">μένοις  </span></div></div><div class=\"contnr c0 trm   \" ><div class=\"lbl c0 trm \" ><span class=\"txtu\">ἄν: : </span></div></div></div></div></div></div><div class=\"contnr c4   rno \" ><div class=\"lbl c4  \" ><span class=\"nd\">_phrase</span> <span class=\"txtu\"><span class=\"structure\"><span class=\"nd\">_book</span> Eumenides, <span class=\"nd\">card</span> 881, <span class=\"nd\">strophe</span> 0, <span class=\"nd\">antistrophe</span> 0, <span class=\"nd\">ephymn</span> 0, <span class=\"nd\">_sentence</span> 379, <span class=\"nd\">_phrase</span> 880</span></span></div><div class=\"children hor wrap \"><div class=\"contnr c1   lno rno \" ><div class=\"lbl c1  \" ><span class=\"nd\">l</span></div><div class=\"children hor wrap \"><div class=\"contnr c0 trm   \" ><div class=\"lbl c0 trm \" ><span class=\"txtu\">εἰ  </span></div></div><div class=\"contnr c0 trm   \" ><div class=\"lbl c0 trm \" ><span class=\"txtu\">δὲ  </span></div></div><div class=\"contnr c0 trm   \" ><div class=\"lbl c0 trm \" ><span class=\"txtu\">μὴ  </span></div></div><div class=\"contnr c0 trm   \" ><div class=\"lbl c0 trm \" ><span class=\"txtu\">θέλεις</span></div></div></div></div></div></div></div></div></div></div></div></div><div class=\"contnr c1    \" ><div class=\"lbl c1  \" ><span class=\"nd\">foreign</span></div><div class=\"children hor wrap \"><div class=\"contnr c1    \" ><div class=\"lbl c1  \" ><span class=\"nd\">note</span></div><div class=\"children hor wrap \"><div class=\"contnr c4   lno rno \" ><div class=\"lbl c4  \" ><span class=\"nd\">_sentence</span> <span class=\"txtu\"><span class=\"structure\"><span class=\"nd\">_book</span> Eumenides, <span class=\"nd\">card</span> 881, <span class=\"nd\">strophe</span> 0, <span class=\"nd\">antistrophe</span> 0, <span class=\"nd\">ephymn</span> 0, <span class=\"nd\">_sentence</span> 379</span></span></div><div class=\"children hor wrap \"><div class=\"contnr c4   lno \" ><div class=\"lbl c4  \" ><span class=\"nd\">_phrase</span> <span class=\"txtu\"><span class=\"structure\"><span class=\"nd\">_book</span> Eumenides, <span class=\"nd\">card</span> 881, <span class=\"nd\">strophe</span> 0, <span class=\"nd\">antistrophe</span> 0, <span class=\"nd\">ephymn</span> 0, <span class=\"nd\">_sentence</span> 379, <span class=\"nd\">_phrase</span> 880</span></span></div><div class=\"children hor wrap \"><div class=\"contnr c1   lno \" ><div class=\"lbl c1  \" ><span class=\"nd\">l</span></div><div class=\"children hor wrap \"><div class=\"contnr c0 trm   \" ><div class=\"lbl c0 trm \" ><span class=\"txtu\">  μένειν,,</span></div></div></div></div></div></div><div class=\"contnr c4   rno \" ><div class=\"lbl c4  \" ><span class=\"nd\">_phrase</span> <span class=\"txtu\"><span class=\"structure\"><span class=\"nd\">_book</span> Eumenides, <span class=\"nd\">card</span> 881, <span class=\"nd\">strophe</span> 0, <span class=\"nd\">antistrophe</span> 0, <span class=\"nd\">ephymn</span> 0, <span class=\"nd\">_sentence</span> 379, <span class=\"nd\">_phrase</span> 881</span></span></div><div class=\"children hor wrap \"><div class=\"contnr c1   rno \" ><div class=\"lbl c1  \" ><span class=\"nd\">l</span></div><div class=\"children hor wrap \"><div class=\"contnr c0 trm   \" ><div class=\"lbl c0 trm \" ><span class=\"txtu\">οὔ  </span></div></div><div class=\"contnr c0 trm   \" ><div class=\"lbl c0 trm \" ><span class=\"txtu\">τἂν</span></div></div></div></div></div></div></div></div></div></div></div></div><div class=\"contnr c1    \" ><div class=\"lbl c1  \" ><span class=\"nd\">foreign</span></div><div class=\"children hor wrap \"><div class=\"contnr c1    \" ><div class=\"lbl c1  \" ><span class=\"nd\">note</span></div><div class=\"children hor wrap \"><div class=\"contnr c4   lno \" ><div class=\"lbl c4  \" ><span class=\"nd\">_sentence</span> <span class=\"txtu\"><span class=\"structure\"><span class=\"nd\">_book</span> Eumenides, <span class=\"nd\">card</span> 881, <span class=\"nd\">strophe</span> 0, <span class=\"nd\">antistrophe</span> 0, <span class=\"nd\">ephymn</span> 0, <span class=\"nd\">_sentence</span> 379</span></span></div><div class=\"children hor wrap \"><div class=\"contnr c4   lno \" ><div class=\"lbl c4  \" ><span class=\"nd\">_phrase</span> <span class=\"txtu\"><span class=\"structure\"><span class=\"nd\">_book</span> Eumenides, <span class=\"nd\">card</span> 881, <span class=\"nd\">strophe</span> 0, <span class=\"nd\">antistrophe</span> 0, <span class=\"nd\">ephymn</span> 0, <span class=\"nd\">_sentence</span> 379, <span class=\"nd\">_phrase</span> 881</span></span></div><div class=\"children hor wrap \"><div class=\"contnr c1   lno \" ><div class=\"lbl c1  \" ><span class=\"nd\">l</span></div><div class=\"children hor wrap \"><div class=\"contnr c0 trm   \" ><div class=\"lbl c0 trm \" ><span class=\"txtu\">  δικαίως  </span></div></div><div class=\"contnr c0 trm   \" ><div class=\"lbl c0 trm \" ><span class=\"txtu\">τῇδ᾽ ᾽ </span></div></div><div class=\"contnr c0 trm   \" ><div class=\"lbl c0 trm \" ><span class=\"txtu\">ἐπιρρέποις  </span></div></div><div class=\"contnr c0 trm   \" ><div class=\"lbl c0 trm \" ><span class=\"txtu\">πόλει</span></div></div></div></div><div class=\"contnr c1    \" ><div class=\"lbl c1  \" ><span class=\"nd\">l</span></div><div class=\"children hor wrap \"><div class=\"contnr c0 trm   \" ><div class=\"lbl c0 trm \" ><span class=\"txtu\">μῆνίν  </span></div></div><div class=\"contnr c0 trm   \" ><div class=\"lbl c0 trm \" ><span class=\"txtu\">τιν᾽ ᾽ </span></div></div><div class=\"contnr c0 trm   \" ><div class=\"lbl c0 trm \" ><span class=\"txtu\">ἢ  </span></div></div><div class=\"contnr c0 trm   \" ><div class=\"lbl c0 trm \" ><span class=\"txtu\">κότον  </span></div></div><div class=\"contnr c0 trm   \" ><div class=\"lbl c0 trm \" ><span class=\"txtu\">τιν᾽ ᾽ </span></div></div><div class=\"contnr c0 trm   \" ><div class=\"lbl c0 trm \" ><span class=\"txtu\">ἢ  </span></div></div><div class=\"contnr c0 trm   \" ><div class=\"lbl c0 trm \" ><span class=\"txtu\">βλάβην  </span></div></div><div class=\"contnr c0 trm   \" ><div class=\"lbl c0 trm \" ><span class=\"txtu\">στρατῷ..</span></div></div></div></div></div></div></div></div><div class=\"contnr c4   rno \" ><div class=\"lbl c4  \" ><span class=\"nd\">_sentence</span> <span class=\"txtu\"><span class=\"structure\"><span class=\"nd\">_book</span> Eumenides, <span class=\"nd\">card</span> 881, <span class=\"nd\">strophe</span> 0, <span class=\"nd\">antistrophe</span> 0, <span class=\"nd\">ephymn</span> 0, <span class=\"nd\">_sentence</span> 380</span></span></div><div class=\"children hor wrap \"><div class=\"contnr c4   rno \" ><div class=\"lbl c4  \" ><span class=\"nd\">_phrase</span> <span class=\"txtu\"><span class=\"structure\"><span class=\"nd\">_book</span> Eumenides, <span class=\"nd\">card</span> 881, <span class=\"nd\">strophe</span> 0, <span class=\"nd\">antistrophe</span> 0, <span class=\"nd\">ephymn</span> 0, <span class=\"nd\">_sentence</span> 380, <span class=\"nd\">_phrase</span> 882</span></span></div><div class=\"children hor wrap \"><div class=\"contnr c1   rno \" ><div class=\"lbl c1  \" ><span class=\"nd\">l</span></div><div class=\"children hor wrap \"><div class=\"contnr c0 trm   \" ><div class=\"lbl c0 trm \" ><span class=\"txtu\">ἔξεστι  </span></div></div><div class=\"contnr c0 trm   \" ><div class=\"lbl c0 trm \" ><span class=\"txtu\">γάρ  </span></div></div><div class=\"contnr c0 trm   \" ><div class=\"lbl c0 trm \" ><span class=\"txtu\">σοι  </span></div></div><div class=\"contnr c0 trm   \" ><div class=\"lbl c0 trm \" ><span class=\"txtu\">τῆσδε  </span></div></div><div class=\"contnr c0 trm   \" ><div class=\"lbl c0 trm \" ><span class=\"txtu\">γαμόρῳ</span></div></div></div></div></div></div></div></div></div></div></div></div><div class=\"contnr c1   rno \" ><div class=\"lbl c1  \" ><span class=\"nd\">foreign</span></div><div class=\"children hor wrap \"><div class=\"contnr c1   rno \" ><div class=\"lbl c1  \" ><span class=\"nd\">note</span></div><div class=\"children hor wrap \"><div class=\"contnr c4   lno \" ><div class=\"lbl c4  \" ><span class=\"nd\">_sentence</span> <span class=\"txtu\"><span class=\"structure\"><span class=\"nd\">_book</span> Eumenides, <span class=\"nd\">card</span> 881, <span class=\"nd\">strophe</span> 0, <span class=\"nd\">antistrophe</span> 0, <span class=\"nd\">ephymn</span> 0, <span class=\"nd\">_sentence</span> 380</span></span></div><div class=\"children hor wrap \"><div class=\"contnr c4   lno \" ><div class=\"lbl c4  \" ><span class=\"nd\">_phrase</span> <span class=\"txtu\"><span class=\"structure\"><span class=\"nd\">_book</span> Eumenides, <span class=\"nd\">card</span> 881, <span class=\"nd\">strophe</span> 0, <span class=\"nd\">antistrophe</span> 0, <span class=\"nd\">ephymn</span> 0, <span class=\"nd\">_sentence</span> 380, <span class=\"nd\">_phrase</span> 882</span></span></div><div class=\"children hor wrap \"><div class=\"contnr c1   lno \" ><div class=\"lbl c1  \" ><span class=\"nd\">l</span></div><div class=\"children hor wrap \"><div class=\"contnr c0 trm   \" ><div class=\"lbl c0 trm \" ><span class=\"txtu\">  χθονὸς</span></div></div></div></div><div class=\"contnr c1    \" ><div class=\"lbl c1  \" ><span class=\"nd\">l</span></div><div class=\"children hor wrap \"><div class=\"contnr c0 trm   \" ><div class=\"lbl c0 trm \" ><span class=\"txtu\">εἶναι  </span></div></div><div class=\"contnr c0 trm   \" ><div class=\"lbl c0 trm \" ><span class=\"txtu\">δικαίως  </span></div></div><div class=\"contnr c0 trm   \" ><div class=\"lbl c0 trm \" ><span class=\"txtu\">ἐς  </span></div></div><div class=\"contnr c0 trm   \" ><div class=\"lbl c0 trm \" ><span class=\"txtu\">τὸ  </span></div></div><div class=\"contnr c0 trm   \" ><div class=\"lbl c0 trm \" ><span class=\"txtu\">πᾶν  </span></div></div><div class=\"contnr c0 trm   \" ><div class=\"lbl c0 trm \" ><span class=\"txtu\">τιμωμένῃ..</span></div></div></div></div></div></div></div></div></div></div></div></div></div></div></div></div></div></div><div class=\"contnr c4    \" ><div class=\"lbl c4  \" ><span class=\"nd\">antistrophe</span> <span class=\"txtu\"><span class=\"structure\"><span class=\"nd\">_book</span> Eumenides, <span class=\"nd\">card</span> 881, <span class=\"nd\">strophe</span> 0, <span class=\"nd\">antistrophe</span> 0</span></span></div><div class=\"children hor wrap \"><div class=\"contnr c3    \" ><div class=\"lbl c3  \" ><span class=\"nd\">ephymn</span></div><div class=\"children hor wrap \"><div class=\"contnr c1    \" ><div class=\"lbl c1  \" ><span class=\"nd\">sp</span></div><div class=\"children hor wrap \"><div class=\"contnr c1   lno \" ><div class=\"lbl c1  \" ><span class=\"nd\">foreign</span></div><div class=\"children hor wrap \"><div class=\"contnr c1   lno \" ><div class=\"lbl c1  \" ><span class=\"nd\">note</span></div><div class=\"children hor wrap \"><div class=\"contnr c4   rno \" ><div class=\"lbl c4  \" ><span class=\"nd\">_sentence</span> <span class=\"txtu\"><span class=\"structure\"><span class=\"nd\">_book</span> Eumenides, <span class=\"nd\">card</span> 881, <span class=\"nd\">strophe</span> 0, <span class=\"nd\">antistrophe</span> 0, <span class=\"nd\">ephymn</span> 0, <span class=\"nd\">_sentence</span> 381</span></span></div><div class=\"children hor wrap \"><div class=\"contnr c4    \" ><div class=\"lbl c4  \" ><span class=\"nd\">_phrase</span> <span class=\"txtu\"><span class=\"structure\"><span class=\"nd\">_book</span> Eumenides, <span class=\"nd\">card</span> 881, <span class=\"nd\">strophe</span> 0, <span class=\"nd\">antistrophe</span> 0, <span class=\"nd\">ephymn</span> 0, <span class=\"nd\">_sentence</span> 381, <span class=\"nd\">_phrase</span> 883</span></span></div><div class=\"children hor wrap \"><div class=\"contnr c1    \" ><div class=\"lbl c1  \" ><span class=\"nd\">speaker</span></div><div class=\"children hor wrap \"><div class=\"contnr c0 trm   \" ><div class=\"lbl c0 trm \" ><span class=\"txtu\">Χορός</span></div></div></div></div><div class=\"contnr c1   rno \" ><div class=\"lbl c1  \" ><span class=\"nd\">l</span></div><div class=\"children hor wrap \"><div class=\"contnr c0 trm   \" ><div class=\"lbl c0 trm \" ><span class=\"txtu\">ἄνασσ᾽ ᾽ </span></div></div><div class=\"contnr c0 trm   \" ><div class=\"lbl c0 trm \" ><span class=\"txtu\">Ἀθάνα, , </span></div></div></div></div></div></div><div class=\"contnr c4   rno \" ><div class=\"lbl c4  \" ><span class=\"nd\">_phrase</span> <span class=\"txtu\"><span class=\"structure\"><span class=\"nd\">_book</span> Eumenides, <span class=\"nd\">card</span> 881, <span class=\"nd\">strophe</span> 0, <span class=\"nd\">antistrophe</span> 0, <span class=\"nd\">ephymn</span> 0, <span class=\"nd\">_sentence</span> 381, <span class=\"nd\">_phrase</span> 884</span></span></div><div class=\"children hor wrap \"><div class=\"contnr c1   lno rno \" ><div class=\"lbl c1  \" ><span class=\"nd\">l</span></div><div class=\"children hor wrap \"><div class=\"contnr c0 trm   \" ><div class=\"lbl c0 trm \" ><span class=\"txtu\">τίνα</span></div></div></div></div></div></div></div></div></div></div></div></div><div class=\"contnr c1    \" ><div class=\"lbl c1  \" ><span class=\"nd\">foreign</span></div><div class=\"children hor wrap \"><div class=\"contnr c1    \" ><div class=\"lbl c1  \" ><span class=\"nd\">note</span></div><div class=\"children hor wrap \"><div class=\"contnr c4   lno rno \" ><div class=\"lbl c4  \" ><span class=\"nd\">_sentence</span> <span class=\"txtu\"><span class=\"structure\"><span class=\"nd\">_book</span> Eumenides, <span class=\"nd\">card</span> 881, <span class=\"nd\">strophe</span> 0, <span class=\"nd\">antistrophe</span> 0, <span class=\"nd\">ephymn</span> 0, <span class=\"nd\">_sentence</span> 381</span></span></div><div class=\"children hor wrap \"><div class=\"contnr c4   lno rno \" ><div class=\"lbl c4  \" ><span class=\"nd\">_phrase</span> <span class=\"txtu\"><span class=\"structure\"><span class=\"nd\">_book</span> Eumenides, <span class=\"nd\">card</span> 881, <span class=\"nd\">strophe</span> 0, <span class=\"nd\">antistrophe</span> 0, <span class=\"nd\">ephymn</span> 0, <span class=\"nd\">_sentence</span> 381, <span class=\"nd\">_phrase</span> 884</span></span></div><div class=\"children hor wrap \"><div class=\"contnr c1   lno rno \" ><div class=\"lbl c1  \" ><span class=\"nd\">l</span></div><div class=\"children hor wrap \"><div class=\"contnr c0 trm   \" ><div class=\"lbl c0 trm \" ><span class=\"txtu\">  με  </span></div></div><div class=\"contnr c0 trm   \" ><div class=\"lbl c0 trm \" ><span class=\"txtu\">φῂς  </span></div></div><div class=\"contnr c0 trm   \" ><div class=\"lbl c0 trm \" ><span class=\"txtu\">ἔχειν</span></div></div></div></div></div></div></div></div></div></div></div></div><div class=\"contnr c1   rno \" ><div class=\"lbl c1  \" ><span class=\"nd\">foreign</span></div><div class=\"children hor wrap \"><div class=\"contnr c1   rno \" ><div class=\"lbl c1  \" ><span class=\"nd\">note</span></div><div class=\"children hor wrap \"><div class=\"contnr c4   lno \" ><div class=\"lbl c4  \" ><span class=\"nd\">_sentence</span> <span class=\"txtu\"><span class=\"structure\"><span class=\"nd\">_book</span> Eumenides, <span class=\"nd\">card</span> 881, <span class=\"nd\">strophe</span> 0, <span class=\"nd\">antistrophe</span> 0, <span class=\"nd\">ephymn</span> 0, <span class=\"nd\">_sentence</span> 381</span></span></div><div class=\"children hor wrap \"><div class=\"contnr c4   lno \" ><div class=\"lbl c4  \" ><span class=\"nd\">_phrase</span> <span class=\"txtu\"><span class=\"structure\"><span class=\"nd\">_book</span> Eumenides, <span class=\"nd\">card</span> 881, <span class=\"nd\">strophe</span> 0, <span class=\"nd\">antistrophe</span> 0, <span class=\"nd\">ephymn</span> 0, <span class=\"nd\">_sentence</span> 381, <span class=\"nd\">_phrase</span> 884</span></span></div><div class=\"children hor wrap \"><div class=\"contnr c1   lno \" ><div class=\"lbl c1  \" ><span class=\"nd\">l</span></div><div class=\"children hor wrap \"><div class=\"contnr c0 trm   \" ><div class=\"lbl c0 trm \" ><span class=\"txtu\">  ἕδραν;;</span></div></div></div></div></div></div></div></div></div></div></div></div></div></div><div class=\"contnr c1    \" ><div class=\"lbl c1  \" ><span class=\"nd\">sp</span></div><div class=\"children hor wrap \"><div class=\"contnr c1   lno rno \" ><div class=\"lbl c1  \" ><span class=\"nd\">foreign</span></div><div class=\"children hor wrap \"><div class=\"contnr c1   lno rno \" ><div class=\"lbl c1  \" ><span class=\"nd\">note</span></div><div class=\"children hor wrap \"><div class=\"contnr c4    \" ><div class=\"lbl c4  \" ><span class=\"nd\">_sentence</span> <span class=\"txtu\"><span class=\"structure\"><span class=\"nd\">_book</span> Eumenides, <span class=\"nd\">card</span> 881, <span class=\"nd\">strophe</span> 0, <span class=\"nd\">antistrophe</span> 0, <span class=\"nd\">ephymn</span> 0, <span class=\"nd\">_sentence</span> 382</span></span></div><div class=\"children hor wrap \"><div class=\"contnr c4    \" ><div class=\"lbl c4  \" ><span class=\"nd\">_phrase</span> <span class=\"txtu\"><span class=\"structure\"><span class=\"nd\">_book</span> Eumenides, <span class=\"nd\">card</span> 881, <span class=\"nd\">strophe</span> 0, <span class=\"nd\">antistrophe</span> 0, <span class=\"nd\">ephymn</span> 0, <span class=\"nd\">_sentence</span> 382, <span class=\"nd\">_phrase</span> 885</span></span></div><div class=\"children hor wrap \"><div class=\"contnr c1    \" ><div class=\"lbl c1  \" ><span class=\"nd\">speaker</span></div><div class=\"children hor wrap \"><div class=\"contnr c0 trm   \" ><div class=\"lbl c0 trm \" ><span class=\"txtu\">Ἀθηνᾶ</span></div></div></div></div><div class=\"contnr c1   rno \" ><div class=\"lbl c1  \" ><span class=\"nd\">l</span></div><div class=\"children hor wrap \"><div class=\"contnr c0 trm   \" ><div class=\"lbl c0 trm \" ><span class=\"txtu\">πάσης  </span></div></div><div class=\"contnr c0 trm   \" ><div class=\"lbl c0 trm \" ><span class=\"txtu\">ἀπήμον᾽ ᾽ </span></div></div><div class=\"contnr c0 trm   \" ><div class=\"lbl c0 trm \" ><span class=\"txtu\">οἰζύος: : </span></div></div></div></div></div></div><div class=\"contnr c4    \" ><div class=\"lbl c4  \" ><span class=\"nd\">_phrase</span> <span class=\"txtu\"><span class=\"structure\"><span class=\"nd\">_book</span> Eumenides, <span class=\"nd\">card</span> 881, <span class=\"nd\">strophe</span> 0, <span class=\"nd\">antistrophe</span> 0, <span class=\"nd\">ephymn</span> 0, <span class=\"nd\">_sentence</span> 382, <span class=\"nd\">_phrase</span> 886</span></span></div><div class=\"children hor wrap \"><div class=\"contnr c1   lno \" ><div class=\"lbl c1  \" ><span class=\"nd\">l</span></div><div class=\"children hor wrap \"><div class=\"contnr c0 trm   \" ><div class=\"lbl c0 trm \" ><span class=\"txtu\">δέχου  </span></div></div><div class=\"contnr c0 trm   \" ><div class=\"lbl c0 trm \" ><span class=\"txtu\">δὲ  </span></div></div><div class=\"contnr c0 trm   \" ><div class=\"lbl c0 trm \" ><span class=\"txtu\">σύ..</span></div></div></div></div></div></div></div></div></div></div></div></div></div></div><div class=\"contnr c1    \" ><div class=\"lbl c1  \" ><span class=\"nd\">sp</span></div><div class=\"children hor wrap \"><div class=\"contnr c1   lno rno \" ><div class=\"lbl c1  \" ><span class=\"nd\">foreign</span></div><div class=\"children hor wrap \"><div class=\"contnr c1   lno rno \" ><div class=\"lbl c1  \" ><span class=\"nd\">note</span></div><div class=\"children hor wrap \"><div class=\"contnr c4    \" ><div class=\"lbl c4  \" ><span class=\"nd\">_sentence</span> <span class=\"txtu\"><span class=\"structure\"><span class=\"nd\">_book</span> Eumenides, <span class=\"nd\">card</span> 881, <span class=\"nd\">strophe</span> 0, <span class=\"nd\">antistrophe</span> 0, <span class=\"nd\">ephymn</span> 0, <span class=\"nd\">_sentence</span> 383</span></span></div><div class=\"children hor wrap \"><div class=\"contnr c4    \" ><div class=\"lbl c4  \" ><span class=\"nd\">_phrase</span> <span class=\"txtu\"><span class=\"structure\"><span class=\"nd\">_book</span> Eumenides, <span class=\"nd\">card</span> 881, <span class=\"nd\">strophe</span> 0, <span class=\"nd\">antistrophe</span> 0, <span class=\"nd\">ephymn</span> 0, <span class=\"nd\">_sentence</span> 383, <span class=\"nd\">_phrase</span> 887</span></span></div><div class=\"children hor wrap \"><div class=\"contnr c1    \" ><div class=\"lbl c1  \" ><span class=\"nd\">speaker</span></div><div class=\"children hor wrap \"><div class=\"contnr c0 trm   \" ><div class=\"lbl c0 trm \" ><span class=\"txtu\">Χορός</span></div></div></div></div><div class=\"contnr c1   rno \" ><div class=\"lbl c1  \" ><span class=\"nd\">l</span></div><div class=\"children hor wrap \"><div class=\"contnr c0 trm   \" ><div class=\"lbl c0 trm \" ><span class=\"txtu\">καὶ  </span></div></div><div class=\"contnr c0 trm   \" ><div class=\"lbl c0 trm \" ><span class=\"txtu\">δὴ  </span></div></div><div class=\"contnr c0 trm   \" ><div class=\"lbl c0 trm \" ><span class=\"txtu\">δέδεγμαι: : </span></div></div></div></div></div></div><div class=\"contnr c4    \" ><div class=\"lbl c4  \" ><span class=\"nd\">_phrase</span> <span class=\"txtu\"><span class=\"structure\"><span class=\"nd\">_book</span> Eumenides, <span class=\"nd\">card</span> 881, <span class=\"nd\">strophe</span> 0, <span class=\"nd\">antistrophe</span> 0, <span class=\"nd\">ephymn</span> 0, <span class=\"nd\">_sentence</span> 383, <span class=\"nd\">_phrase</span> 888</span></span></div><div class=\"children hor wrap \"><div class=\"contnr c1   lno \" ><div class=\"lbl c1  \" ><span class=\"nd\">l</span></div><div class=\"children hor wrap \"><div class=\"contnr c0 trm   \" ><div class=\"lbl c0 trm \" ><span class=\"txtu\">τίς  </span></div></div><div class=\"contnr c0 trm   \" ><div class=\"lbl c0 trm \" ><span class=\"txtu\">δέ  </span></div></div><div class=\"contnr c0 trm   \" ><div class=\"lbl c0 trm \" ><span class=\"txtu\">μοι  </span></div></div><div class=\"contnr c0 trm   \" ><div class=\"lbl c0 trm \" ><span class=\"txtu\">τιμὴ  </span></div></div><div class=\"contnr c0 trm   \" ><div class=\"lbl c0 trm \" ><span class=\"txtu\">μένει;;</span></div></div></div></div></div></div></div></div></div></div></div></div></div></div><div class=\"contnr c1    \" ><div class=\"lbl c1  \" ><span class=\"nd\">sp</span></div><div class=\"children hor wrap \"><div class=\"contnr c1   lno \" ><div class=\"lbl c1  \" ><span class=\"nd\">foreign</span></div><div class=\"children hor wrap \"><div class=\"contnr c1   lno \" ><div class=\"lbl c1  \" ><span class=\"nd\">note</span></div><div class=\"children hor wrap \"><div class=\"contnr c4   rno \" ><div class=\"lbl c4  \" ><span class=\"nd\">_sentence</span> <span class=\"txtu\"><span class=\"structure\"><span class=\"nd\">_book</span> Eumenides, <span class=\"nd\">card</span> 881, <span class=\"nd\">strophe</span> 0, <span class=\"nd\">antistrophe</span> 0, <span class=\"nd\">ephymn</span> 0, <span class=\"nd\">_sentence</span> 384</span></span></div><div class=\"children hor wrap \"><div class=\"contnr c4   rno \" ><div class=\"lbl c4  \" ><span class=\"nd\">_phrase</span> <span class=\"txtu\"><span class=\"structure\"><span class=\"nd\">_book</span> Eumenides, <span class=\"nd\">card</span> 881, <span class=\"nd\">strophe</span> 0, <span class=\"nd\">antistrophe</span> 0, <span class=\"nd\">ephymn</span> 0, <span class=\"nd\">_sentence</span> 384, <span class=\"nd\">_phrase</span> 889</span></span></div><div class=\"children hor wrap \"><div class=\"contnr c1    \" ><div class=\"lbl c1  \" ><span class=\"nd\">speaker</span></div><div class=\"children hor wrap \"><div class=\"contnr c0 trm   \" ><div class=\"lbl c0 trm \" ><span class=\"txtu\">Ἀθηνᾶ</span></div></div></div></div><div class=\"contnr c1   rno \" ><div class=\"lbl c1  \" ><span class=\"nd\">l</span></div><div class=\"children hor wrap \"><div class=\"contnr c0 trm   \" ><div class=\"lbl c0 trm \" ><span class=\"txtu\">ὡς  </span></div></div><div class=\"contnr c0 trm   \" ><div class=\"lbl c0 trm \" ><span class=\"txtu\">μή  </span></div></div><div class=\"contnr c0 trm   \" ><div class=\"lbl c0 trm \" ><span class=\"txtu\">τιν᾽ ᾽ </span></div></div><div class=\"contnr c0 trm   \" ><div class=\"lbl c0 trm \" ><span class=\"txtu\">οἶκον  </span></div></div><div class=\"contnr c0 trm   \" ><div class=\"lbl c0 trm \" ><span class=\"txtu\">εὐθενεῖν</span></div></div></div></div></div></div></div></div></div></div></div></div><div class=\"contnr c1   rno \" ><div class=\"lbl c1  \" ><span class=\"nd\">foreign</span></div><div class=\"children hor wrap \"><div class=\"contnr c1   rno \" ><div class=\"lbl c1  \" ><span class=\"nd\">note</span></div><div class=\"children hor wrap \"><div class=\"contnr c4   lno \" ><div class=\"lbl c4  \" ><span class=\"nd\">_sentence</span> <span class=\"txtu\"><span class=\"structure\"><span class=\"nd\">_book</span> Eumenides, <span class=\"nd\">card</span> 881, <span class=\"nd\">strophe</span> 0, <span class=\"nd\">antistrophe</span> 0, <span class=\"nd\">ephymn</span> 0, <span class=\"nd\">_sentence</span> 384</span></span></div><div class=\"children hor wrap \"><div class=\"contnr c4   lno \" ><div class=\"lbl c4  \" ><span class=\"nd\">_phrase</span> <span class=\"txtu\"><span class=\"structure\"><span class=\"nd\">_book</span> Eumenides, <span class=\"nd\">card</span> 881, <span class=\"nd\">strophe</span> 0, <span class=\"nd\">antistrophe</span> 0, <span class=\"nd\">ephymn</span> 0, <span class=\"nd\">_sentence</span> 384, <span class=\"nd\">_phrase</span> 889</span></span></div><div class=\"children hor wrap \"><div class=\"contnr c1   lno \" ><div class=\"lbl c1  \" ><span class=\"nd\">l</span></div><div class=\"children hor wrap \"><div class=\"contnr c0 trm   \" ><div class=\"lbl c0 trm \" ><span class=\"txtu\">  ἄνευ  </span></div></div><div class=\"contnr c0 trm   \" ><div class=\"lbl c0 trm \" ><span class=\"txtu\">σέθεν..</span></div></div></div></div></div></div></div></div></div></div></div></div></div></div><div class=\"contnr c1    \" ><div class=\"lbl c1  \" ><span class=\"nd\">sp</span></div><div class=\"children hor wrap \"><div class=\"contnr c1   lno rno \" ><div class=\"lbl c1  \" ><span class=\"nd\">foreign</span></div><div class=\"children hor wrap \"><div class=\"contnr c1   lno rno \" ><div class=\"lbl c1  \" ><span class=\"nd\">note</span></div><div class=\"children hor wrap \"><div class=\"contnr c4    \" ><div class=\"lbl c4  \" ><span class=\"nd\">_sentence</span> <span class=\"txtu\"><span class=\"structure\"><span class=\"nd\">_book</span> Eumenides, <span class=\"nd\">card</span> 881, <span class=\"nd\">strophe</span> 0, <span class=\"nd\">antistrophe</span> 0, <span class=\"nd\">ephymn</span> 0, <span class=\"nd\">_sentence</span> 385</span></span></div><div class=\"children hor wrap \"><div class=\"contnr c4    \" ><div class=\"lbl c4  \" ><span class=\"nd\">_phrase</span> <span class=\"txtu\"><span class=\"structure\"><span class=\"nd\">_book</span> Eumenides, <span class=\"nd\">card</span> 881, <span class=\"nd\">strophe</span> 0, <span class=\"nd\">antistrophe</span> 0, <span class=\"nd\">ephymn</span> 0, <span class=\"nd\">_sentence</span> 385, <span class=\"nd\">_phrase</span> 890</span></span></div><div class=\"children hor wrap \"><div class=\"contnr c1    \" ><div class=\"lbl c1  \" ><span class=\"nd\">speaker</span></div><div class=\"children hor wrap \"><div class=\"contnr c0 trm   \" ><div class=\"lbl c0 trm \" ><span class=\"txtu\">Χορός</span></div></div></div></div><div class=\"contnr c1   rno \" ><div class=\"lbl c1  \" ><span class=\"nd\">l</span></div><div class=\"children hor wrap \"><div class=\"contnr c0 trm   \" ><div class=\"lbl c0 trm \" ><span class=\"txtu\">σὺ  </span></div></div><div class=\"contnr c0 trm   \" ><div class=\"lbl c0 trm \" ><span class=\"txtu\">τοῦτο  </span></div></div><div class=\"contnr c0 trm   \" ><div class=\"lbl c0 trm \" ><span class=\"txtu\">πράξεις, , </span></div></div></div></div></div></div><div class=\"contnr c4    \" ><div class=\"lbl c4  \" ><span class=\"nd\">_phrase</span> <span class=\"txtu\"><span class=\"structure\"><span class=\"nd\">_book</span> Eumenides, <span class=\"nd\">card</span> 881, <span class=\"nd\">strophe</span> 0, <span class=\"nd\">antistrophe</span> 0, <span class=\"nd\">ephymn</span> 0, <span class=\"nd\">_sentence</span> 385, <span class=\"nd\">_phrase</span> 891</span></span></div><div class=\"children hor wrap \"><div class=\"contnr c1   lno \" ><div class=\"lbl c1  \" ><span class=\"nd\">l</span></div><div class=\"children hor wrap \"><div class=\"contnr c0 trm   \" ><div class=\"lbl c0 trm \" ><span class=\"txtu\">ὥστε  </span></div></div><div class=\"contnr c0 trm   \" ><div class=\"lbl c0 trm \" ><span class=\"txtu\">με  </span></div></div><div class=\"contnr c0 trm   \" ><div class=\"lbl c0 trm \" ><span class=\"txtu\">σθένειν  </span></div></div><div class=\"contnr c0 trm   \" ><div class=\"lbl c0 trm \" ><span class=\"txtu\">τόσον;;</span></div></div></div></div></div></div></div></div></div></div></div></div></div></div><div class=\"contnr c1    \" ><div class=\"lbl c1  \" ><span class=\"nd\">sp</span></div><div class=\"children hor wrap \"><div class=\"contnr c1   lno rno \" ><div class=\"lbl c1  \" ><span class=\"nd\">foreign</span></div><div class=\"children hor wrap \"><div class=\"contnr c1   lno rno \" ><div class=\"lbl c1  \" ><span class=\"nd\">note</span></div><div class=\"children hor wrap \"><div class=\"contnr c4    \" ><div class=\"lbl c4  \" ><span class=\"nd\">_sentence</span> <span class=\"txtu\"><span class=\"structure\"><span class=\"nd\">_book</span> Eumenides, <span class=\"nd\">card</span> 881, <span class=\"nd\">strophe</span> 0, <span class=\"nd\">antistrophe</span> 0, <span class=\"nd\">ephymn</span> 0, <span class=\"nd\">_sentence</span> 386</span></span></div><div class=\"children hor wrap \"><div class=\"contnr c4    \" ><div class=\"lbl c4  \" ><span class=\"nd\">_phrase</span> <span class=\"txtu\"><span class=\"structure\"><span class=\"nd\">_book</span> Eumenides, <span class=\"nd\">card</span> 881, <span class=\"nd\">strophe</span> 0, <span class=\"nd\">antistrophe</span> 0, <span class=\"nd\">ephymn</span> 0, <span class=\"nd\">_sentence</span> 386, <span class=\"nd\">_phrase</span> 892</span></span></div><div class=\"children hor wrap \"><div class=\"contnr c1    \" ><div class=\"lbl c1  \" ><span class=\"nd\">speaker</span></div><div class=\"children hor wrap \"><div class=\"contnr c0 trm   \" ><div class=\"lbl c0 trm \" ><span class=\"txtu\">Ἀθηνᾶ</span></div></div></div></div><div class=\"contnr c1    \" ><div class=\"lbl c1  \" ><span class=\"nd\">l</span></div><div class=\"children hor wrap \"><div class=\"contnr c0 trm   \" ><div class=\"lbl c0 trm \" ><span class=\"txtu\">τῷ  </span></div></div><div class=\"contnr c0 trm   \" ><div class=\"lbl c0 trm \" ><span class=\"txtu\">γὰρ  </span></div></div><div class=\"contnr c0 trm   \" ><div class=\"lbl c0 trm \" ><span class=\"txtu\">σέβοντι  </span></div></div><div class=\"contnr c0 trm   \" ><div class=\"lbl c0 trm \" ><span class=\"txtu\">συμφορὰς  </span></div></div><div class=\"contnr c0 trm   \" ><div class=\"lbl c0 trm \" ><span class=\"txtu\">ὀρθώσομεν..</span></div></div></div></div></div></div></div></div></div></div></div></div></div></div><div class=\"contnr c1    \" ><div class=\"lbl c1  \" ><span class=\"nd\">sp</span></div><div class=\"children hor wrap \"><div class=\"contnr c1   lno \" ><div class=\"lbl c1  \" ><span class=\"nd\">foreign</span></div><div class=\"children hor wrap \"><div class=\"contnr c1   lno \" ><div class=\"lbl c1  \" ><span class=\"nd\">note</span></div><div class=\"children hor wrap \"><div class=\"contnr c4   rno \" ><div class=\"lbl c4  \" ><span class=\"nd\">_sentence</span> <span class=\"txtu\"><span class=\"structure\"><span class=\"nd\">_book</span> Eumenides, <span class=\"nd\">card</span> 881, <span class=\"nd\">strophe</span> 0, <span class=\"nd\">antistrophe</span> 0, <span class=\"nd\">ephymn</span> 0, <span class=\"nd\">_sentence</span> 387</span></span></div><div class=\"children hor wrap \"><div class=\"contnr c4   rno \" ><div class=\"lbl c4  \" ><span class=\"nd\">_phrase</span> <span class=\"txtu\"><span class=\"structure\"><span class=\"nd\">_book</span> Eumenides, <span class=\"nd\">card</span> 881, <span class=\"nd\">strophe</span> 0, <span class=\"nd\">antistrophe</span> 0, <span class=\"nd\">ephymn</span> 0, <span class=\"nd\">_sentence</span> 387, <span class=\"nd\">_phrase</span> 893</span></span></div><div class=\"children hor wrap \"><div class=\"contnr c1    \" ><div class=\"lbl c1  \" ><span class=\"nd\">speaker</span></div><div class=\"children hor wrap \"><div class=\"contnr c0 trm   \" ><div class=\"lbl c0 trm \" ><span class=\"txtu\">Χορός</span></div></div></div></div><div class=\"contnr c1   rno \" ><div class=\"lbl c1  \" ><span class=\"nd\">l</span></div><div class=\"children hor wrap \"><div class=\"contnr c0 trm   \" ><div class=\"lbl c0 trm \" ><span class=\"txtu\">καί  </span></div></div><div class=\"contnr c0 trm   \" ><div class=\"lbl c0 trm \" ><span class=\"txtu\">μοι  </span></div></div><div class=\"contnr c0 trm   \" ><div class=\"lbl c0 trm \" ><span class=\"txtu\">πρόπαντος</span></div></div></div></div></div></div></div></div></div></div></div></div><div class=\"contnr c1   rno \" ><div class=\"lbl c1  \" ><span class=\"nd\">foreign</span></div><div class=\"children hor wrap \"><div class=\"contnr c1   rno \" ><div class=\"lbl c1  \" ><span class=\"nd\">note</span></div><div class=\"children hor wrap \"><div class=\"contnr c4   lno \" ><div class=\"lbl c4  \" ><span class=\"nd\">_sentence</span> <span class=\"txtu\"><span class=\"structure\"><span class=\"nd\">_book</span> Eumenides, <span class=\"nd\">card</span> 881, <span class=\"nd\">strophe</span> 0, <span class=\"nd\">antistrophe</span> 0, <span class=\"nd\">ephymn</span> 0, <span class=\"nd\">_sentence</span> 387</span></span></div><div class=\"children hor wrap \"><div class=\"contnr c4   lno \" ><div class=\"lbl c4  \" ><span class=\"nd\">_phrase</span> <span class=\"txtu\"><span class=\"structure\"><span class=\"nd\">_book</span> Eumenides, <span class=\"nd\">card</span> 881, <span class=\"nd\">strophe</span> 0, <span class=\"nd\">antistrophe</span> 0, <span class=\"nd\">ephymn</span> 0, <span class=\"nd\">_sentence</span> 387, <span class=\"nd\">_phrase</span> 893</span></span></div><div class=\"children hor wrap \"><div class=\"contnr c1   lno \" ><div class=\"lbl c1  \" ><span class=\"nd\">l</span></div><div class=\"children hor wrap \"><div class=\"contnr c0 trm   \" ><div class=\"lbl c0 trm \" ><span class=\"txtu\">  ἐγγύην  </span></div></div><div class=\"contnr c0 trm   \" ><div class=\"lbl c0 trm \" ><span class=\"txtu\">θήσει  </span></div></div><div class=\"contnr c0 trm   \" ><div class=\"lbl c0 trm \" ><span class=\"txtu\">χρόνου;;</span></div></div></div></div></div></div></div></div></div></div></div></div></div></div><div class=\"contnr c1    \" ><div class=\"lbl c1  \" ><span class=\"nd\">sp</span></div><div class=\"children hor wrap \"><div class=\"contnr c1   lno \" ><div class=\"lbl c1  \" ><span class=\"nd\">foreign</span></div><div class=\"children hor wrap \"><div class=\"contnr c1   lno \" ><div class=\"lbl c1  \" ><span class=\"nd\">note</span></div><div class=\"children hor wrap \"><div class=\"contnr c4   rno \" ><div class=\"lbl c4  \" ><span class=\"nd\">_sentence</span> <span class=\"txtu\"><span class=\"structure\"><span class=\"nd\">_book</span> Eumenides, <span class=\"nd\">card</span> 881, <span class=\"nd\">strophe</span> 0, <span class=\"nd\">antistrophe</span> 0, <span class=\"nd\">ephymn</span> 0, <span class=\"nd\">_sentence</span> 388</span></span></div><div class=\"children hor wrap \"><div class=\"contnr c4   rno \" ><div class=\"lbl c4  \" ><span class=\"nd\">_phrase</span> <span class=\"txtu\"><span class=\"structure\"><span class=\"nd\">_book</span> Eumenides, <span class=\"nd\">card</span> 881, <span class=\"nd\">strophe</span> 0, <span class=\"nd\">antistrophe</span> 0, <span class=\"nd\">ephymn</span> 0, <span class=\"nd\">_sentence</span> 388, <span class=\"nd\">_phrase</span> 894</span></span></div><div class=\"children hor wrap \"><div class=\"contnr c1    \" ><div class=\"lbl c1  \" ><span class=\"nd\">speaker</span></div><div class=\"children hor wrap \"><div class=\"contnr c0 trm   \" ><div class=\"lbl c0 trm \" ><span class=\"txtu\">Ἀθηνᾶ</span></div></div></div></div><div class=\"contnr c1   rno \" ><div class=\"lbl c1  \" ><span class=\"nd\">l</span></div><div class=\"children hor wrap \"><div class=\"contnr c0 trm   \" ><div class=\"lbl c0 trm \" ><span class=\"txtu\">ἔξεστι</span></div></div></div></div></div></div></div></div></div></div></div></div><div class=\"contnr c1   rno \" ><div class=\"lbl c1  \" ><span class=\"nd\">foreign</span></div><div class=\"children hor wrap \"><div class=\"contnr c1   rno \" ><div class=\"lbl c1  \" ><span class=\"nd\">note</span></div><div class=\"children hor wrap \"><div class=\"contnr c4   lno \" ><div class=\"lbl c4  \" ><span class=\"nd\">_sentence</span> <span class=\"txtu\"><span class=\"structure\"><span class=\"nd\">_book</span> Eumenides, <span class=\"nd\">card</span> 881, <span class=\"nd\">strophe</span> 0, <span class=\"nd\">antistrophe</span> 0, <span class=\"nd\">ephymn</span> 0, <span class=\"nd\">_sentence</span> 388</span></span></div><div class=\"children hor wrap \"><div class=\"contnr c4   lno \" ><div class=\"lbl c4  \" ><span class=\"nd\">_phrase</span> <span class=\"txtu\"><span class=\"structure\"><span class=\"nd\">_book</span> Eumenides, <span class=\"nd\">card</span> 881, <span class=\"nd\">strophe</span> 0, <span class=\"nd\">antistrophe</span> 0, <span class=\"nd\">ephymn</span> 0, <span class=\"nd\">_sentence</span> 388, <span class=\"nd\">_phrase</span> 894</span></span></div><div class=\"children hor wrap \"><div class=\"contnr c1   lno \" ><div class=\"lbl c1  \" ><span class=\"nd\">l</span></div><div class=\"children hor wrap \"><div class=\"contnr c0 trm   \" ><div class=\"lbl c0 trm \" ><span class=\"txtu\">  γάρ  </span></div></div><div class=\"contnr c0 trm   \" ><div class=\"lbl c0 trm \" ><span class=\"txtu\">μοι  </span></div></div><div class=\"contnr c0 trm   \" ><div class=\"lbl c0 trm \" ><span class=\"txtu\">μὴ  </span></div></div><div class=\"contnr c0 trm   \" ><div class=\"lbl c0 trm \" ><span class=\"txtu\">λέγειν  </span></div></div><div class=\"contnr c0 trm   \" ><div class=\"lbl c0 trm \" ><span class=\"txtu\">ἃ  </span></div></div><div class=\"contnr c0 trm   \" ><div class=\"lbl c0 trm \" ><span class=\"txtu\">μὴ  </span></div></div><div class=\"contnr c0 trm   \" ><div class=\"lbl c0 trm \" ><span class=\"txtu\">τελῶ..</span></div></div></div></div></div></div></div></div></div></div></div></div></div></div><div class=\"contnr c1    \" ><div class=\"lbl c1  \" ><span class=\"nd\">sp</span></div><div class=\"children hor wrap \"><div class=\"contnr c1   lno rno \" ><div class=\"lbl c1  \" ><span class=\"nd\">foreign</span></div><div class=\"children hor wrap \"><div class=\"contnr c1   lno rno \" ><div class=\"lbl c1  \" ><span class=\"nd\">note</span></div><div class=\"children hor wrap \"><div class=\"contnr c4    \" ><div class=\"lbl c4  \" ><span class=\"nd\">_sentence</span> <span class=\"txtu\"><span class=\"structure\"><span class=\"nd\">_book</span> Eumenides, <span class=\"nd\">card</span> 881, <span class=\"nd\">strophe</span> 0, <span class=\"nd\">antistrophe</span> 0, <span class=\"nd\">ephymn</span> 0, <span class=\"nd\">_sentence</span> 389</span></span></div><div class=\"children hor wrap \"><div class=\"contnr c4    \" ><div class=\"lbl c4  \" ><span class=\"nd\">_phrase</span> <span class=\"txtu\"><span class=\"structure\"><span class=\"nd\">_book</span> Eumenides, <span class=\"nd\">card</span> 881, <span class=\"nd\">strophe</span> 0, <span class=\"nd\">antistrophe</span> 0, <span class=\"nd\">ephymn</span> 0, <span class=\"nd\">_sentence</span> 389, <span class=\"nd\">_phrase</span> 895</span></span></div><div class=\"children hor wrap \"><div class=\"contnr c1    \" ><div class=\"lbl c1  \" ><span class=\"nd\">speaker</span></div><div class=\"children hor wrap \"><div class=\"contnr c0 trm   \" ><div class=\"lbl c0 trm \" ><span class=\"txtu\">Χορός</span></div></div></div></div><div class=\"contnr c1    \" ><div class=\"lbl c1  \" ><span class=\"nd\">l</span></div><div class=\"children hor wrap \"><div class=\"contnr c0 trm   \" ><div class=\"lbl c0 trm \" ><span class=\"txtu\">θέλξειν  </span></div></div><div class=\"contnr c0 trm   \" ><div class=\"lbl c0 trm \" ><span class=\"txtu\">μ᾽ ᾽ </span></div></div><div class=\"contnr c0 trm   \" ><div class=\"lbl c0 trm \" ><span class=\"txtu\">ἔοικας  </span></div></div><div class=\"contnr c0 trm   \" ><div class=\"lbl c0 trm \" ><span class=\"txtu\">καὶ  </span></div></div><div class=\"contnr c0 trm   \" ><div class=\"lbl c0 trm \" ><span class=\"txtu\">μεθίσταμαι  </span></div></div><div class=\"contnr c0 trm   \" ><div class=\"lbl c0 trm \" ><span class=\"txtu\">κότου..</span></div></div></div></div></div></div></div></div></div></div></div></div></div></div><div class=\"contnr c1    \" ><div class=\"lbl c1  \" ><span class=\"nd\">sp</span></div><div class=\"children hor wrap \"><div class=\"contnr c1   lno rno \" ><div class=\"lbl c1  \" ><span class=\"nd\">foreign</span></div><div class=\"children hor wrap \"><div class=\"contnr c1   lno rno \" ><div class=\"lbl c1  \" ><span class=\"nd\">note</span></div><div class=\"children hor wrap \"><div class=\"contnr c4    \" ><div class=\"lbl c4  \" ><span class=\"nd\">_sentence</span> <span class=\"txtu\"><span class=\"structure\"><span class=\"nd\">_book</span> Eumenides, <span class=\"nd\">card</span> 881, <span class=\"nd\">strophe</span> 0, <span class=\"nd\">antistrophe</span> 0, <span class=\"nd\">ephymn</span> 0, <span class=\"nd\">_sentence</span> 390</span></span></div><div class=\"children hor wrap \"><div class=\"contnr c4    \" ><div class=\"lbl c4  \" ><span class=\"nd\">_phrase</span> <span class=\"txtu\"><span class=\"structure\"><span class=\"nd\">_book</span> Eumenides, <span class=\"nd\">card</span> 881, <span class=\"nd\">strophe</span> 0, <span class=\"nd\">antistrophe</span> 0, <span class=\"nd\">ephymn</span> 0, <span class=\"nd\">_sentence</span> 390, <span class=\"nd\">_phrase</span> 896</span></span></div><div class=\"children hor wrap \"><div class=\"contnr c1    \" ><div class=\"lbl c1  \" ><span class=\"nd\">speaker</span></div><div class=\"children hor wrap \"><div class=\"contnr c0 trm   \" ><div class=\"lbl c0 trm \" ><span class=\"txtu\">Ἀθηνᾶ</span></div></div></div></div><div class=\"contnr c1    \" ><div class=\"lbl c1  \" ><span class=\"nd\">l</span></div><div class=\"children hor wrap \"><div class=\"contnr c0 trm   \" ><div class=\"lbl c0 trm \" ><span class=\"txtu\">τοιγὰρ  </span></div></div><div class=\"contnr c0 trm   \" ><div class=\"lbl c0 trm \" ><span class=\"txtu\">κατὰ  </span></div></div><div class=\"contnr c0 trm   \" ><div class=\"lbl c0 trm \" ><span class=\"txtu\">χθόν᾽ ᾽ </span></div></div><div class=\"contnr c0 trm   \" ><div class=\"lbl c0 trm \" ><span class=\"txtu\">οὖσ᾽ ᾽ </span></div></div><div class=\"contnr c0 trm   \" ><div class=\"lbl c0 trm \" ><span class=\"txtu\">ἐπικτήσει  </span></div></div><div class=\"contnr c0 trm   \" ><div class=\"lbl c0 trm \" ><span class=\"txtu\">φίλους..</span></div></div></div></div></div></div></div></div></div></div></div></div></div></div><div class=\"contnr c1    \" ><div class=\"lbl c1  \" ><span class=\"nd\">sp</span></div><div class=\"children hor wrap \"><div class=\"contnr c1   lno rno \" ><div class=\"lbl c1  \" ><span class=\"nd\">foreign</span></div><div class=\"children hor wrap \"><div class=\"contnr c1   lno rno \" ><div class=\"lbl c1  \" ><span class=\"nd\">note</span></div><div class=\"children hor wrap \"><div class=\"contnr c4    \" ><div class=\"lbl c4  \" ><span class=\"nd\">_sentence</span> <span class=\"txtu\"><span class=\"structure\"><span class=\"nd\">_book</span> Eumenides, <span class=\"nd\">card</span> 881, <span class=\"nd\">strophe</span> 0, <span class=\"nd\">antistrophe</span> 0, <span class=\"nd\">ephymn</span> 0, <span class=\"nd\">_sentence</span> 391</span></span></div><div class=\"children hor wrap \"><div class=\"contnr c4    \" ><div class=\"lbl c4  \" ><span class=\"nd\">_phrase</span> <span class=\"txtu\"><span class=\"structure\"><span class=\"nd\">_book</span> Eumenides, <span class=\"nd\">card</span> 881, <span class=\"nd\">strophe</span> 0, <span class=\"nd\">antistrophe</span> 0, <span class=\"nd\">ephymn</span> 0, <span class=\"nd\">_sentence</span> 391, <span class=\"nd\">_phrase</span> 897</span></span></div><div class=\"children hor wrap \"><div class=\"contnr c1    \" ><div class=\"lbl c1  \" ><span class=\"nd\">speaker</span></div><div class=\"children hor wrap \"><div class=\"contnr c0 trm   \" ><div class=\"lbl c0 trm \" ><span class=\"txtu\">Χορός</span></div></div></div></div><div class=\"contnr c1    \" ><div class=\"lbl c1  \" ><span class=\"nd\">l</span></div><div class=\"children hor wrap \"><div class=\"contnr c0 trm   \" ><div class=\"lbl c0 trm \" ><span class=\"txtu\">τί  </span></div></div><div class=\"contnr c0 trm   \" ><div class=\"lbl c0 trm \" ><span class=\"txtu\">οὖν  </span></div></div><div class=\"contnr c0 trm   \" ><div class=\"lbl c0 trm \" ><span class=\"txtu\">μ᾽ ᾽ </span></div></div><div class=\"contnr c0 trm   \" ><div class=\"lbl c0 trm \" ><span class=\"txtu\">ἄνωγας  </span></div></div><div class=\"contnr c0 trm   \" ><div class=\"lbl c0 trm \" ><span class=\"txtu\">τῇδ᾽ ᾽ </span></div></div><div class=\"contnr c0 trm   \" ><div class=\"lbl c0 trm \" ><span class=\"txtu\">ἐφυμνῆσαι  </span></div></div><div class=\"contnr c0 trm   \" ><div class=\"lbl c0 trm \" ><span class=\"txtu\">χθονί;;</span></div></div></div></div></div></div></div></div></div></div></div></div></div></div><div class=\"contnr c1    \" ><div class=\"lbl c1  \" ><span class=\"nd\">sp</span></div><div class=\"children hor wrap \"><div class=\"contnr c1   lno \" ><div class=\"lbl c1  \" ><span class=\"nd\">foreign</span></div><div class=\"children hor wrap \"><div class=\"contnr c1   lno \" ><div class=\"lbl c1  \" ><span class=\"nd\">note</span></div><div class=\"children hor wrap \"><div class=\"contnr c4   rno \" ><div class=\"lbl c4  \" ><span class=\"nd\">_sentence</span> <span class=\"txtu\"><span class=\"structure\"><span class=\"nd\">_book</span> Eumenides, <span class=\"nd\">card</span> 881, <span class=\"nd\">strophe</span> 0, <span class=\"nd\">antistrophe</span> 0, <span class=\"nd\">ephymn</span> 0, <span class=\"nd\">_sentence</span> 392</span></span></div><div class=\"children hor wrap \"><div class=\"contnr c4    \" ><div class=\"lbl c4  \" ><span class=\"nd\">_phrase</span> <span class=\"txtu\"><span class=\"structure\"><span class=\"nd\">_book</span> Eumenides, <span class=\"nd\">card</span> 881, <span class=\"nd\">strophe</span> 0, <span class=\"nd\">antistrophe</span> 0, <span class=\"nd\">ephymn</span> 0, <span class=\"nd\">_sentence</span> 392, <span class=\"nd\">_phrase</span> 898</span></span></div><div class=\"children hor wrap \"><div class=\"contnr c1    \" ><div class=\"lbl c1  \" ><span class=\"nd\">speaker</span></div><div class=\"children hor wrap \"><div class=\"contnr c0 trm   \" ><div class=\"lbl c0 trm \" ><span class=\"txtu\">Ἀθηνᾶ</span></div></div></div></div><div class=\"contnr c1    \" ><div class=\"lbl c1  \" ><span class=\"nd\">l</span></div><div class=\"children hor wrap \"><div class=\"contnr c0 trm   \" ><div class=\"lbl c0 trm \" ><span class=\"txtu\">ὁποῖα  </span></div></div><div class=\"contnr c0 trm   \" ><div class=\"lbl c0 trm \" ><span class=\"txtu\">νίκης  </span></div></div><div class=\"contnr c0 trm   \" ><div class=\"lbl c0 trm \" ><span class=\"txtu\">μὴ  </span></div></div><div class=\"contnr c0 trm   \" ><div class=\"lbl c0 trm \" ><span class=\"txtu\">κακῆς  </span></div></div><div class=\"contnr c0 trm   \" ><div class=\"lbl c0 trm \" ><span class=\"txtu\">ἐπίσκοπα,,</span></div></div></div></div></div></div><div class=\"contnr c4    \" ><div class=\"lbl c4  \" ><span class=\"nd\">_phrase</span> <span class=\"txtu\"><span class=\"structure\"><span class=\"nd\">_book</span> Eumenides, <span class=\"nd\">card</span> 881, <span class=\"nd\">strophe</span> 0, <span class=\"nd\">antistrophe</span> 0, <span class=\"nd\">ephymn</span> 0, <span class=\"nd\">_sentence</span> 392, <span class=\"nd\">_phrase</span> 899</span></span></div><div class=\"children hor wrap \"><div class=\"contnr c1    \" ><div class=\"lbl c1  \" ><span class=\"nd\">l</span></div><div class=\"children hor wrap \"><div class=\"contnr c0 trm   \" ><div class=\"lbl c0 trm \" ><span class=\"txtu\">καὶ  </span></div></div><div class=\"contnr c0 trm   \" ><div class=\"lbl c0 trm \" ><span class=\"txtu\">ταῦτα  </span></div></div><div class=\"contnr c0 trm   \" ><div class=\"lbl c0 trm \" ><span class=\"txtu\">γῆθεν  </span></div></div><div class=\"contnr c0 trm   \" ><div class=\"lbl c0 trm \" ><span class=\"txtu\">ἔκ  </span></div></div><div class=\"contnr c0 trm   \" ><div class=\"lbl c0 trm \" ><span class=\"txtu\">τε  </span></div></div><div class=\"contnr c0 trm   \" ><div class=\"lbl c0 trm \" ><span class=\"txtu\">ποντίας  </span></div></div><div class=\"contnr c0 trm   \" ><div class=\"lbl c0 trm \" ><span class=\"txtu\">δρόσου</span></div></div></div></div><div class=\"contnr c1   rno \" ><div class=\"lbl c1  \" ><span class=\"nd\">l</span></div><div class=\"children hor wrap \"><div class=\"contnr c0 trm   \" ><div class=\"lbl c0 trm \" ><span class=\"txtu\">ἐξ  </span></div></div><div class=\"contnr c0 trm   \" ><div class=\"lbl c0 trm \" ><span class=\"txtu\">οὐρανοῦ  </span></div></div><div class=\"contnr c0 trm   \" ><div class=\"lbl c0 trm \" ><span class=\"txtu\">τε: : </span></div></div></div></div></div></div><div class=\"contnr c4    \" ><div class=\"lbl c4  \" ><span class=\"nd\">_phrase</span> <span class=\"txtu\"><span class=\"structure\"><span class=\"nd\">_book</span> Eumenides, <span class=\"nd\">card</span> 881, <span class=\"nd\">strophe</span> 0, <span class=\"nd\">antistrophe</span> 0, <span class=\"nd\">ephymn</span> 0, <span class=\"nd\">_sentence</span> 392, <span class=\"nd\">_phrase</span> 900</span></span></div><div class=\"children hor wrap \"><div class=\"contnr c1   lno \" ><div class=\"lbl c1  \" ><span class=\"nd\">l</span></div><div class=\"children hor wrap \"><div class=\"contnr c0 trm   \" ><div class=\"lbl c0 trm \" ><span class=\"txtu\">κἀνέμων  </span></div></div><div class=\"contnr c0 trm   \" ><div class=\"lbl c0 trm \" ><span class=\"txtu\">ἀήματα</span></div></div></div></div><div class=\"contnr c1    \" ><div class=\"lbl c1  \" ><span class=\"nd\">l</span></div><div class=\"children hor wrap \"><div class=\"contnr c0 trm   \" ><div class=\"lbl c0 trm \" ><span class=\"txtu\">εὐηλίως  </span></div></div><div class=\"contnr c0 trm   \" ><div class=\"lbl c0 trm \" ><span class=\"txtu\">πνέοντ᾽ ᾽ </span></div></div><div class=\"contnr c0 trm   \" ><div class=\"lbl c0 trm \" ><span class=\"txtu\">ἐπιστείχειν  </span></div></div><div class=\"contnr c0 trm   \" ><div class=\"lbl c0 trm \" ><span class=\"txtu\">χθόνα::</span></div></div></div></div></div></div><div class=\"contnr c4   rno \" ><div class=\"lbl c4  \" ><span class=\"nd\">_phrase</span> <span class=\"txtu\"><span class=\"structure\"><span class=\"nd\">_book</span> Eumenides, <span class=\"nd\">card</span> 881, <span class=\"nd\">strophe</span> 0, <span class=\"nd\">antistrophe</span> 0, <span class=\"nd\">ephymn</span> 0, <span class=\"nd\">_sentence</span> 392, <span class=\"nd\">_phrase</span> 901</span></span></div><div class=\"children hor wrap \"><div class=\"contnr c1   rno \" ><div class=\"lbl c1  \" ><span class=\"nd\">l</span></div><div class=\"children hor wrap \"><div class=\"contnr c0 trm   \" ><div class=\"lbl c0 trm \" ><span class=\"txtu\">καρπόν  </span></div></div><div class=\"contnr c0 trm   \" ><div class=\"lbl c0 trm \" ><span class=\"txtu\">τε  </span></div></div><div class=\"contnr c0 trm   \" ><div class=\"lbl c0 trm \" ><span class=\"txtu\">γαίας  </span></div></div><div class=\"contnr c0 trm   \" ><div class=\"lbl c0 trm \" ><span class=\"txtu\">καὶ  </span></div></div><div class=\"contnr c0 trm   \" ><div class=\"lbl c0 trm \" ><span class=\"txtu\">βοτῶν</span></div></div></div></div></div></div></div></div></div></div></div></div><div class=\"contnr c1    \" ><div class=\"lbl c1  \" ><span class=\"nd\">foreign</span></div><div class=\"children hor wrap \"><div class=\"contnr c1    \" ><div class=\"lbl c1  \" ><span class=\"nd\">note</span></div><div class=\"children hor wrap \"><div class=\"contnr c4   lno rno \" ><div class=\"lbl c4  \" ><span class=\"nd\">_sentence</span> <span class=\"txtu\"><span class=\"structure\"><span class=\"nd\">_book</span> Eumenides, <span class=\"nd\">card</span> 881, <span class=\"nd\">strophe</span> 0, <span class=\"nd\">antistrophe</span> 0, <span class=\"nd\">ephymn</span> 0, <span class=\"nd\">_sentence</span> 392</span></span></div><div class=\"children hor wrap \"><div class=\"contnr c4   lno rno \" ><div class=\"lbl c4  \" ><span class=\"nd\">_phrase</span> <span class=\"txtu\"><span class=\"structure\"><span class=\"nd\">_book</span> Eumenides, <span class=\"nd\">card</span> 881, <span class=\"nd\">strophe</span> 0, <span class=\"nd\">antistrophe</span> 0, <span class=\"nd\">ephymn</span> 0, <span class=\"nd\">_sentence</span> 392, <span class=\"nd\">_phrase</span> 901</span></span></div><div class=\"children hor wrap \"><div class=\"contnr c1   lno \" ><div class=\"lbl c1  \" ><span class=\"nd\">l</span></div><div class=\"children hor wrap \"><div class=\"contnr c0 trm   \" ><div class=\"lbl c0 trm \" ><span class=\"txtu\">  ἐπίρρυτον</span></div></div></div></div><div class=\"contnr c1   rno \" ><div class=\"lbl c1  \" ><span class=\"nd\">l</span></div><div class=\"children hor wrap \"><div class=\"contnr c0 trm   \" ><div class=\"lbl c0 trm \" ><span class=\"txtu\">ἀστοῖσιν  </span></div></div><div class=\"contnr c0 trm   \" ><div class=\"lbl c0 trm \" ><span class=\"txtu\">εὐθενοῦντα</span></div></div></div></div></div></div></div></div></div></div></div></div><div class=\"contnr c1    \" ><div class=\"lbl c1  \" ><span class=\"nd\">foreign</span></div><div class=\"children hor wrap \"><div class=\"contnr c1    \" ><div class=\"lbl c1  \" ><span class=\"nd\">note</span></div><div class=\"children hor wrap \"><div class=\"contnr c4   lno \" ><div class=\"lbl c4  \" ><span class=\"nd\">_sentence</span> <span class=\"txtu\"><span class=\"structure\"><span class=\"nd\">_book</span> Eumenides, <span class=\"nd\">card</span> 881, <span class=\"nd\">strophe</span> 0, <span class=\"nd\">antistrophe</span> 0, <span class=\"nd\">ephymn</span> 0, <span class=\"nd\">_sentence</span> 392</span></span></div><div class=\"children hor wrap \"><div class=\"contnr c4   lno \" ><div class=\"lbl c4  \" ><span class=\"nd\">_phrase</span> <span class=\"txtu\"><span class=\"structure\"><span class=\"nd\">_book</span> Eumenides, <span class=\"nd\">card</span> 881, <span class=\"nd\">strophe</span> 0, <span class=\"nd\">antistrophe</span> 0, <span class=\"nd\">ephymn</span> 0, <span class=\"nd\">_sentence</span> 392, <span class=\"nd\">_phrase</span> 901</span></span></div><div class=\"children hor wrap \"><div class=\"contnr c1   lno \" ><div class=\"lbl c1  \" ><span class=\"nd\">l</span></div><div class=\"children hor wrap \"><div class=\"contnr c0 trm   \" ><div class=\"lbl c0 trm \" ><span class=\"txtu\">  μὴ  </span></div></div><div class=\"contnr c0 trm   \" ><div class=\"lbl c0 trm \" ><span class=\"txtu\">κάμνειν  </span></div></div><div class=\"contnr c0 trm   \" ><div class=\"lbl c0 trm \" ><span class=\"txtu\">χρόνῳ,,</span></div></div></div></div></div></div><div class=\"contnr c4    \" ><div class=\"lbl c4  \" ><span class=\"nd\">_phrase</span> <span class=\"txtu\"><span class=\"structure\"><span class=\"nd\">_book</span> Eumenides, <span class=\"nd\">card</span> 881, <span class=\"nd\">strophe</span> 0, <span class=\"nd\">antistrophe</span> 0, <span class=\"nd\">ephymn</span> 0, <span class=\"nd\">_sentence</span> 392, <span class=\"nd\">_phrase</span> 902</span></span></div><div class=\"children hor wrap \"><div class=\"contnr c1    \" ><div class=\"lbl c1  \" ><span class=\"nd\">l</span></div><div class=\"children hor wrap \"><div class=\"contnr c0 trm   \" ><div class=\"lbl c0 trm \" ><span class=\"txtu\">καὶ  </span></div></div><div class=\"contnr c0 trm   \" ><div class=\"lbl c0 trm \" ><span class=\"txtu\">τῶν  </span></div></div><div class=\"contnr c0 trm   \" ><div class=\"lbl c0 trm \" ><span class=\"txtu\">βροτείων  </span></div></div><div class=\"contnr c0 trm   \" ><div class=\"lbl c0 trm \" ><span class=\"txtu\">σπερμάτων  </span></div></div><div class=\"contnr c0 trm   \" ><div class=\"lbl c0 trm \" ><span class=\"txtu\">σωτηρίαν..</span></div></div></div></div></div></div></div></div><div class=\"contnr c4    \" ><div class=\"lbl c4  \" ><span class=\"nd\">_sentence</span> <span class=\"txtu\"><span class=\"structure\"><span class=\"nd\">_book</span> Eumenides, <span class=\"nd\">card</span> 881, <span class=\"nd\">strophe</span> 0, <span class=\"nd\">antistrophe</span> 0, <span class=\"nd\">ephymn</span> 0, <span class=\"nd\">_sentence</span> 393</span></span></div><div class=\"children hor wrap \"><div class=\"contnr c4    \" ><div class=\"lbl c4  \" ><span class=\"nd\">_phrase</span> <span class=\"txtu\"><span class=\"structure\"><span class=\"nd\">_book</span> Eumenides, <span class=\"nd\">card</span> 881, <span class=\"nd\">strophe</span> 0, <span class=\"nd\">antistrophe</span> 0, <span class=\"nd\">ephymn</span> 0, <span class=\"nd\">_sentence</span> 393, <span class=\"nd\">_phrase</span> 903</span></span></div><div class=\"children hor wrap \"><div class=\"contnr c1    \" ><div class=\"lbl c1  \" ><span class=\"nd\">l</span></div><div class=\"children hor wrap \"><div class=\"contnr c0 trm   \" ><div class=\"lbl c0 trm \" ><span class=\"txtu\">τῶν  </span></div></div><div class=\"contnr c0 trm   \" ><div class=\"lbl c0 trm \" ><span class=\"txtu\">δυσσεβούντων  </span></div></div><div class=\"contnr c0 trm   \" ><div class=\"lbl c0 trm \" ><span class=\"txtu\">δ᾽ ᾽ </span></div></div><div class=\"contnr c0 trm   \" ><div class=\"lbl c0 trm \" ><span class=\"txtu\">ἐκφορωτέρα  </span></div></div><div class=\"contnr c0 trm   \" ><div class=\"lbl c0 trm \" ><span class=\"txtu\">πέλοις..</span></div></div></div></div></div></div></div></div><div class=\"contnr c4   rno \" ><div class=\"lbl c4  \" ><span class=\"nd\">_sentence</span> <span class=\"txtu\"><span class=\"structure\"><span class=\"nd\">_book</span> Eumenides, <span class=\"nd\">card</span> 881, <span class=\"nd\">strophe</span> 0, <span class=\"nd\">antistrophe</span> 0, <span class=\"nd\">ephymn</span> 0, <span class=\"nd\">_sentence</span> 394</span></span></div><div class=\"children hor wrap \"><div class=\"contnr c4    \" ><div class=\"lbl c4  \" ><span class=\"nd\">_phrase</span> <span class=\"txtu\"><span class=\"structure\"><span class=\"nd\">_book</span> Eumenides, <span class=\"nd\">card</span> 881, <span class=\"nd\">strophe</span> 0, <span class=\"nd\">antistrophe</span> 0, <span class=\"nd\">ephymn</span> 0, <span class=\"nd\">_sentence</span> 394, <span class=\"nd\">_phrase</span> 904</span></span></div><div class=\"children hor wrap \"><div class=\"contnr c1   rno \" ><div class=\"lbl c1  \" ><span class=\"nd\">l</span></div><div class=\"children hor wrap \"><div class=\"contnr c0 trm   \" ><div class=\"lbl c0 trm \" ><span class=\"txtu\">στέργω  </span></div></div><div class=\"contnr c0 trm   \" ><div class=\"lbl c0 trm \" ><span class=\"txtu\">γάρ, , </span></div></div></div></div></div></div><div class=\"contnr c4   rno \" ><div class=\"lbl c4  \" ><span class=\"nd\">_phrase</span> <span class=\"txtu\"><span class=\"structure\"><span class=\"nd\">_book</span> Eumenides, <span class=\"nd\">card</span> 881, <span class=\"nd\">strophe</span> 0, <span class=\"nd\">antistrophe</span> 0, <span class=\"nd\">ephymn</span> 0, <span class=\"nd\">_sentence</span> 394, <span class=\"nd\">_phrase</span> 905</span></span></div><div class=\"children hor wrap \"><div class=\"contnr c1   lno rno \" ><div class=\"lbl c1  \" ><span class=\"nd\">l</span></div><div class=\"children hor wrap \"><div class=\"contnr c0 trm   \" ><div class=\"lbl c0 trm \" ><span class=\"txtu\">ἀνδρὸς  </span></div></div><div class=\"contnr c0 trm   \" ><div class=\"lbl c0 trm \" ><span class=\"txtu\">φιτυποίμενος</span></div></div></div></div></div></div></div></div></div></div></div></div><div class=\"contnr c1    \" ><div class=\"lbl c1  \" ><span class=\"nd\">foreign</span></div><div class=\"children hor wrap \"><div class=\"contnr c1    \" ><div class=\"lbl c1  \" ><span class=\"nd\">note</span></div><div class=\"children hor wrap \"><div class=\"contnr c4   lno \" ><div class=\"lbl c4  \" ><span class=\"nd\">_sentence</span> <span class=\"txtu\"><span class=\"structure\"><span class=\"nd\">_book</span> Eumenides, <span class=\"nd\">card</span> 881, <span class=\"nd\">strophe</span> 0, <span class=\"nd\">antistrophe</span> 0, <span class=\"nd\">ephymn</span> 0, <span class=\"nd\">_sentence</span> 394</span></span></div><div class=\"children hor wrap \"><div class=\"contnr c4   lno \" ><div class=\"lbl c4  \" ><span class=\"nd\">_phrase</span> <span class=\"txtu\"><span class=\"structure\"><span class=\"nd\">_book</span> Eumenides, <span class=\"nd\">card</span> 881, <span class=\"nd\">strophe</span> 0, <span class=\"nd\">antistrophe</span> 0, <span class=\"nd\">ephymn</span> 0, <span class=\"nd\">_sentence</span> 394, <span class=\"nd\">_phrase</span> 905</span></span></div><div class=\"children hor wrap \"><div class=\"contnr c1   lno \" ><div class=\"lbl c1  \" ><span class=\"nd\">l</span></div><div class=\"children hor wrap \"><div class=\"contnr c0 trm   \" ><div class=\"lbl c0 trm \" ><span class=\"txtu\">  δίκην,,</span></div></div></div></div></div></div><div class=\"contnr c4    \" ><div class=\"lbl c4  \" ><span class=\"nd\">_phrase</span> <span class=\"txtu\"><span class=\"structure\"><span class=\"nd\">_book</span> Eumenides, <span class=\"nd\">card</span> 881, <span class=\"nd\">strophe</span> 0, <span class=\"nd\">antistrophe</span> 0, <span class=\"nd\">ephymn</span> 0, <span class=\"nd\">_sentence</span> 394, <span class=\"nd\">_phrase</span> 906</span></span></div><div class=\"children hor wrap \"><div class=\"contnr c1    \" ><div class=\"lbl c1  \" ><span class=\"nd\">l</span></div><div class=\"children hor wrap \"><div class=\"contnr c0 trm   \" ><div class=\"lbl c0 trm \" ><span class=\"txtu\">τὸ  </span></div></div><div class=\"contnr c0 trm   \" ><div class=\"lbl c0 trm \" ><span class=\"txtu\">τῶν  </span></div></div><div class=\"contnr c0 trm   \" ><div class=\"lbl c0 trm \" ><span class=\"txtu\">δικαίων  </span></div></div><div class=\"contnr c0 trm   \" ><div class=\"lbl c0 trm \" ><span class=\"txtu\">τῶνδ᾽ ᾽ </span></div></div><div class=\"contnr c0 trm   \" ><div class=\"lbl c0 trm \" ><span class=\"txtu\">ἀπένθητον  </span></div></div><div class=\"contnr c0 trm   \" ><div class=\"lbl c0 trm \" ><span class=\"txtu\">γένος..</span></div></div></div></div></div></div></div></div><div class=\"contnr c4    \" ><div class=\"lbl c4  \" ><span class=\"nd\">_sentence</span> <span class=\"txtu\"><span class=\"structure\"><span class=\"nd\">_book</span> Eumenides, <span class=\"nd\">card</span> 881, <span class=\"nd\">strophe</span> 0, <span class=\"nd\">antistrophe</span> 0, <span class=\"nd\">ephymn</span> 0, <span class=\"nd\">_sentence</span> 395</span></span></div><div class=\"children hor wrap \"><div class=\"contnr c4    \" ><div class=\"lbl c4  \" ><span class=\"nd\">_phrase</span> <span class=\"txtu\"><span class=\"structure\"><span class=\"nd\">_book</span> Eumenides, <span class=\"nd\">card</span> 881, <span class=\"nd\">strophe</span> 0, <span class=\"nd\">antistrophe</span> 0, <span class=\"nd\">ephymn</span> 0, <span class=\"nd\">_sentence</span> 395, <span class=\"nd\">_phrase</span> 907</span></span></div><div class=\"children hor wrap \"><div class=\"contnr c1   rno \" ><div class=\"lbl c1  \" ><span class=\"nd\">l</span></div><div class=\"children hor wrap \"><div class=\"contnr c0 trm   \" ><div class=\"lbl c0 trm \" ><span class=\"txtu\">τοιαῦτα  </span></div></div><div class=\"contnr c0 trm   \" ><div class=\"lbl c0 trm \" ><span class=\"txtu\">σοὔστι..</span></div></div></div></div></div></div></div></div></div></div></div></div><div class=\"contnr c1   rno \" ><div class=\"lbl c1  \" ><span class=\"nd\">foreign</span></div><div class=\"children hor wrap \"><div class=\"contnr c1   rno \" ><div class=\"lbl c1  \" ><span class=\"nd\">note</span></div><div class=\"children hor wrap \"><div class=\"contnr c4    \" ><div class=\"lbl c4  \" ><span class=\"nd\">_sentence</span> <span class=\"txtu\"><span class=\"structure\"><span class=\"nd\">_book</span> Eumenides, <span class=\"nd\">card</span> 881, <span class=\"nd\">strophe</span> 0, <span class=\"nd\">antistrophe</span> 0, <span class=\"nd\">ephymn</span> 0, <span class=\"nd\">_sentence</span> 396</span></span></div><div class=\"children hor wrap \"><div class=\"contnr c4    \" ><div class=\"lbl c4  \" ><span class=\"nd\">_phrase</span> <span class=\"txtu\"><span class=\"structure\"><span class=\"nd\">_book</span> Eumenides, <span class=\"nd\">card</span> 881, <span class=\"nd\">strophe</span> 0, <span class=\"nd\">antistrophe</span> 0, <span class=\"nd\">ephymn</span> 0, <span class=\"nd\">_sentence</span> 396, <span class=\"nd\">_phrase</span> 908</span></span></div><div class=\"children hor wrap \"><div class=\"contnr c1   lno \" ><div class=\"lbl c1  \" ><span class=\"nd\">l</span></div><div class=\"children hor wrap \"><div class=\"contnr c0 trm   \" ><div class=\"lbl c0 trm \" ><span class=\"txtu\">  τῶν  </span></div></div><div class=\"contnr c0 trm   \" ><div class=\"lbl c0 trm \" ><span class=\"txtu\">ἀρειφάτων  </span></div></div><div class=\"contnr c0 trm   \" ><div class=\"lbl c0 trm \" ><span class=\"txtu\">δ᾽ ᾽ </span></div></div><div class=\"contnr c0 trm   \" ><div class=\"lbl c0 trm \" ><span class=\"txtu\">ἐγὼ</span></div></div></div></div><div class=\"contnr c1    \" ><div class=\"lbl c1  \" ><span class=\"nd\">l</span></div><div class=\"children hor wrap \"><div class=\"contnr c0 trm   \" ><div class=\"lbl c0 trm \" ><span class=\"txtu\">πρεπτῶν  </span></div></div><div class=\"contnr c0 trm   \" ><div class=\"lbl c0 trm \" ><span class=\"txtu\">ἀγώνων  </span></div></div><div class=\"contnr c0 trm   \" ><div class=\"lbl c0 trm \" ><span class=\"txtu\">οὐκ  </span></div></div><div class=\"contnr c0 trm   \" ><div class=\"lbl c0 trm \" ><span class=\"txtu\">ἀνέξομαι  </span></div></div><div class=\"contnr c0 trm   \" ><div class=\"lbl c0 trm \" ><span class=\"txtu\">τὸ  </span></div></div><div class=\"contnr c0 trm   \" ><div class=\"lbl c0 trm \" ><span class=\"txtu\">μὴ  </span></div></div><div class=\"contnr c0 trm   \" ><div class=\"lbl c0 trm \" ><span class=\"txtu\">οὐ</span></div></div></div></div><div class=\"contnr c1    \" ><div class=\"lbl c1  \" ><span class=\"nd\">l</span></div><div class=\"children hor wrap \"><div class=\"contnr c0 trm   \" ><div class=\"lbl c0 trm \" ><span class=\"txtu\">τήνδ᾽ ᾽ </span></div></div><div class=\"contnr c0 trm   \" ><div class=\"lbl c0 trm \" ><span class=\"txtu\">ἀστύνικον  </span></div></div><div class=\"contnr c0 trm   \" ><div class=\"lbl c0 trm \" ><span class=\"txtu\">ἐν  </span></div></div><div class=\"contnr c0 trm   \" ><div class=\"lbl c0 trm \" ><span class=\"txtu\">βροτοῖς  </span></div></div><div class=\"contnr c0 trm   \" ><div class=\"lbl c0 trm \" ><span class=\"txtu\">τιμᾶν  </span></div></div><div class=\"contnr c0 trm   \" ><div class=\"lbl c0 trm \" ><span class=\"txtu\">πόλιν..</span></div></div></div></div></div></div></div></div><div class=\"contnr c4   rno \" ><div class=\"lbl c4  \" ><span class=\"nd\">_sentence</span> <span class=\"txtu\"><span class=\"structure\"><span class=\"nd\">_book</span> Eumenides, <span class=\"nd\">_sentence</span> 397</span></span></div><div class=\"children hor wrap \"><div class=\"contnr c4   rno \" ><div class=\"lbl c4  \" ><span class=\"nd\">_phrase</span> <span class=\"txtu\"><span class=\"structure\"><span class=\"nd\">_book</span> Eumenides, <span class=\"nd\">_sentence</span> 397, <span class=\"nd\">_phrase</span> 909</span></span></div><div class=\"children hor wrap \"><div class=\"contnr c0 trm   \" ></div></div></div></div></div></div></div></div></div></div></div></div></div></div></div></div></div></div>"
      ],
      "text/plain": [
       "<IPython.core.display.HTML object>"
      ]
     },
     "metadata": {},
     "output_type": "display_data"
    }
   ],
   "source": [
    "A.pretty(s, full=True)"
   ]
  },
  {
   "cell_type": "markdown",
   "metadata": {},
   "source": [
    "# All steps\n",
    "\n",
    "* **[start](start.ipynb)** catalogue of Greek Literature\n",
    "* **[load](load.ipynb)** load a Greek work\n",
    "* (later) ~[display](display.ipynb)~ create pretty displays of your text structures\n",
    "* **compute** compute with text and features\n",
    "* (later) ~[search](search.ipynb)~ turbo charge your hand-coding with search templates\n",
    "* (later) ~[exportExcel](exportExcel.ipynb)~ make tailor-made spreadsheets out of your results\n",
    "* (later) ~[share](share.ipynb)~ draw in other people's data and let them use yours\n",
    "\n",
    "CC-BY Ernst Boogert, Dirk Roorda"
   ]
  }
 ],
 "metadata": {
  "kernelspec": {
   "display_name": "Python3.9",
   "language": "python",
   "name": "python3"
  },
  "language_info": {
   "codemirror_mode": {
    "name": "ipython",
    "version": 3
   },
   "file_extension": ".py",
   "mimetype": "text/x-python",
   "name": "python",
   "nbconvert_exporter": "python",
   "pygments_lexer": "ipython3",
   "version": "3.9.0"
  }
 },
 "nbformat": 4,
 "nbformat_minor": 4
}
